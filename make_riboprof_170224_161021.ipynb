{
 "cells": [
  {
   "cell_type": "markdown",
   "metadata": {},
   "source": [
    "# load functions"
   ]
  },
  {
   "cell_type": "code",
   "execution_count": 271,
   "metadata": {
    "scrolled": false
   },
   "outputs": [],
   "source": [
    "suppressMessages(suppressWarnings(source(\"./jupyter_common.R\")))"
   ]
  },
  {
   "cell_type": "markdown",
   "metadata": {},
   "source": [
    "# common parameters"
   ]
  },
  {
   "cell_type": "code",
   "execution_count": 272,
   "metadata": {},
   "outputs": [
    {
     "data": {
      "text/html": [
       "'./out/limma-voom.mrna/170224.rdna_rn18s/NMuMG'"
      ],
      "text/latex": [
       "'./out/limma-voom.mrna/170224.rdna\\_rn18s/NMuMG'"
      ],
      "text/markdown": [
       "'./out/limma-voom.mrna/170224.rdna_rn18s/NMuMG'"
      ],
      "text/plain": [
       "[1] \"./out/limma-voom.mrna/170224.rdna_rn18s/NMuMG\""
      ]
     },
     "metadata": {},
     "output_type": "display_data"
    },
    {
     "data": {
      "text/html": [
       "'./out/limma-voom.mrna/161021.rdna_rn18s/NMuMG'"
      ],
      "text/latex": [
       "'./out/limma-voom.mrna/161021.rdna\\_rn18s/NMuMG'"
      ],
      "text/markdown": [
       "'./out/limma-voom.mrna/161021.rdna_rn18s/NMuMG'"
      ],
      "text/plain": [
       "[1] \"./out/limma-voom.mrna/161021.rdna_rn18s/NMuMG\""
      ]
     },
     "metadata": {},
     "output_type": "display_data"
    },
    {
     "data": {
      "text/html": [
       "'limma-voom.mrna'"
      ],
      "text/latex": [
       "'limma-voom.mrna'"
      ],
      "text/markdown": [
       "'limma-voom.mrna'"
      ],
      "text/plain": [
       "[1] \"limma-voom.mrna\""
      ]
     },
     "metadata": {},
     "output_type": "display_data"
    }
   ],
   "source": [
    "type <- \"limma-voom.mrna\"\n",
    "level <- \"htseq_gene\"\n",
    "\n",
    "rundate_appendix <- \".rdna_rn18s\"\n",
    "pattern_remove_gene <- NULL\n",
    "\n",
    "th_adj_pvalue <- 0.05\n",
    "th_log2fc <- log2(1.2)\n",
    "\n",
    "list_genes <- list()\n",
    "strdir <- type\n",
    "\n",
    "dir_limma_output <- \"out/limma-voom.mrna\"\n",
    "dir_rnaseq <- sprintf('./%s/170224.rdna_rn18s/NMuMG', dir_limma_output) \n",
    "dir_riboseq <- sprintf(\"./%s/161021.rdna_rn18s/NMuMG\", dir_limma_output)\n",
    "\n",
    "f_write_table <- FALSE\n",
    "dir_rnaseq\n",
    "dir_riboseq\n",
    "strdir"
   ]
  },
  {
   "cell_type": "markdown",
   "metadata": {},
   "source": [
    "# read gtf"
   ]
  },
  {
   "cell_type": "code",
   "execution_count": 273,
   "metadata": {},
   "outputs": [
    {
     "name": "stdout",
     "output_type": "stream",
     "text": [
      "[1] \"data/mouse/Mus_musculus.GRCm39.104.rdna_rn18s.gtf.gz\"\n"
     ]
    },
    {
     "data": {
      "text/plain": [
       "GRanges object with 6 ranges and 22 metadata columns:\n",
       "      seqnames              ranges strand |   source       type     score\n",
       "         <Rle>           <IRanges>  <Rle> | <factor>   <factor> <numeric>\n",
       "  [1]        1 150956201-150958296      + |   havana gene              NA\n",
       "  [2]        1 150956201-150958296      + |   havana transcript        NA\n",
       "  [3]        1 150956201-150958296      + |   havana exon              NA\n",
       "  [4]        1 150983666-150984611      + |   havana gene              NA\n",
       "  [5]        1 150983666-150984611      + |   havana transcript        NA\n",
       "  [6]        1 150983666-150984611      + |   havana exon              NA\n",
       "          phase            gene_id gene_version   gene_name gene_source\n",
       "      <integer>        <character>  <character> <character> <character>\n",
       "  [1]      <NA> ENSMUSG00000102628            2     Gm37671      havana\n",
       "  [2]      <NA> ENSMUSG00000102628            2     Gm37671      havana\n",
       "  [3]      <NA> ENSMUSG00000102628            2     Gm37671      havana\n",
       "  [4]      <NA> ENSMUSG00000100595            2     Gm19087      havana\n",
       "  [5]      <NA> ENSMUSG00000100595            2     Gm19087      havana\n",
       "  [6]      <NA> ENSMUSG00000100595            2     Gm19087      havana\n",
       "              gene_biotype      transcript_id transcript_version\n",
       "               <character>        <character>        <character>\n",
       "  [1]                  TEC               <NA>               <NA>\n",
       "  [2]                  TEC ENSMUST00000193198                  2\n",
       "  [3]                  TEC ENSMUST00000193198                  2\n",
       "  [4] processed_pseudogene               <NA>               <NA>\n",
       "  [5] processed_pseudogene ENSMUST00000191430                  2\n",
       "  [6] processed_pseudogene ENSMUST00000191430                  2\n",
       "      transcript_name transcript_source   transcript_biotype         tag\n",
       "          <character>       <character>          <character> <character>\n",
       "  [1]            <NA>              <NA>                 <NA>        <NA>\n",
       "  [2]     Gm37671-201            havana                  TEC       basic\n",
       "  [3]     Gm37671-201            havana                  TEC       basic\n",
       "  [4]            <NA>              <NA>                 <NA>        <NA>\n",
       "  [5]     Gm19087-201            havana processed_pseudogene       basic\n",
       "  [6]     Gm19087-201            havana processed_pseudogene       basic\n",
       "      transcript_support_level exon_number            exon_id exon_version\n",
       "                   <character> <character>        <character>  <character>\n",
       "  [1]                     <NA>        <NA>               <NA>         <NA>\n",
       "  [2]   NA (assigned to prev..        <NA>               <NA>         <NA>\n",
       "  [3]   NA (assigned to prev..           1 ENSMUSE00001342333            2\n",
       "  [4]                     <NA>        <NA>               <NA>         <NA>\n",
       "  [5]   NA (assigned to prev..        <NA>               <NA>         <NA>\n",
       "  [6]   NA (assigned to prev..           1 ENSMUSE00001324949            2\n",
       "       protein_id protein_version     ccds_id\n",
       "      <character>     <character> <character>\n",
       "  [1]        <NA>            <NA>        <NA>\n",
       "  [2]        <NA>            <NA>        <NA>\n",
       "  [3]        <NA>            <NA>        <NA>\n",
       "  [4]        <NA>            <NA>        <NA>\n",
       "  [5]        <NA>            <NA>        <NA>\n",
       "  [6]        <NA>            <NA>        <NA>\n",
       "  -------\n",
       "  seqinfo: 40 sequences from an unspecified genome; no seqlengths"
      ]
     },
     "metadata": {},
     "output_type": "display_data"
    },
    {
     "data": {
      "text/html": [
       "1866363"
      ],
      "text/latex": [
       "1866363"
      ],
      "text/markdown": [
       "1866363"
      ],
      "text/plain": [
       "[1] 1866363"
      ]
     },
     "metadata": {},
     "output_type": "display_data"
    }
   ],
   "source": [
    "library('rtracklayer')\n",
    "my_file <- \"data/mouse/Mus_musculus.GRCm39.104.rdna_rn18s.gtf.gz\"\n",
    "show(my_file)\n",
    "granges_gtf <- import(my_file)\n",
    "head(granges_gtf)\n",
    "length(granges_gtf)"
   ]
  },
  {
   "cell_type": "code",
   "execution_count": 275,
   "metadata": {},
   "outputs": [
    {
     "data": {
      "text/html": [
       "<table class=\"dataframe\">\n",
       "<caption>A matrix: 27 × 3 of type chr</caption>\n",
       "<thead>\n",
       "\t<tr><th></th><th scope=col>1</th><th scope=col>4</th><th scope=col>7</th></tr>\n",
       "</thead>\n",
       "<tbody>\n",
       "\t<tr><th scope=row>seqnames</th><td>1                 </td><td>1                   </td><td>1                   </td></tr>\n",
       "\t<tr><th scope=row>start</th><td>150956201         </td><td>150983666           </td><td>151012258           </td></tr>\n",
       "\t<tr><th scope=row>end</th><td>150958296         </td><td>150984611           </td><td>151013531           </td></tr>\n",
       "\t<tr><th scope=row>width</th><td>2096              </td><td> 946                </td><td>1274                </td></tr>\n",
       "\t<tr><th scope=row>strand</th><td>+                 </td><td>+                   </td><td>+                   </td></tr>\n",
       "\t<tr><th scope=row>source</th><td>havana            </td><td>havana              </td><td>havana              </td></tr>\n",
       "\t<tr><th scope=row>type</th><td>gene              </td><td>gene                </td><td>gene                </td></tr>\n",
       "\t<tr><th scope=row>score</th><td>NA                </td><td>NA                  </td><td>NA                  </td></tr>\n",
       "\t<tr><th scope=row>phase</th><td>NA                </td><td>NA                  </td><td>NA                  </td></tr>\n",
       "\t<tr><th scope=row>gene_id</th><td>ENSMUSG00000102628</td><td>ENSMUSG00000100595  </td><td>ENSMUSG00000097426  </td></tr>\n",
       "\t<tr><th scope=row>gene_version</th><td>2                 </td><td>2                   </td><td>2                   </td></tr>\n",
       "\t<tr><th scope=row>gene_name</th><td>Gm37671           </td><td>Gm19087             </td><td>Gm8941              </td></tr>\n",
       "\t<tr><th scope=row>gene_source</th><td>havana            </td><td>havana              </td><td>havana              </td></tr>\n",
       "\t<tr><th scope=row>gene_biotype</th><td>TEC               </td><td>processed_pseudogene</td><td>processed_pseudogene</td></tr>\n",
       "\t<tr><th scope=row>transcript_id</th><td>NA                </td><td>NA                  </td><td>NA                  </td></tr>\n",
       "\t<tr><th scope=row>transcript_version</th><td>NA                </td><td>NA                  </td><td>NA                  </td></tr>\n",
       "\t<tr><th scope=row>transcript_name</th><td>NA                </td><td>NA                  </td><td>NA                  </td></tr>\n",
       "\t<tr><th scope=row>transcript_source</th><td>NA                </td><td>NA                  </td><td>NA                  </td></tr>\n",
       "\t<tr><th scope=row>transcript_biotype</th><td>NA                </td><td>NA                  </td><td>NA                  </td></tr>\n",
       "\t<tr><th scope=row>tag</th><td>NA                </td><td>NA                  </td><td>NA                  </td></tr>\n",
       "\t<tr><th scope=row>transcript_support_level</th><td>NA                </td><td>NA                  </td><td>NA                  </td></tr>\n",
       "\t<tr><th scope=row>exon_number</th><td>NA                </td><td>NA                  </td><td>NA                  </td></tr>\n",
       "\t<tr><th scope=row>exon_id</th><td>NA                </td><td>NA                  </td><td>NA                  </td></tr>\n",
       "\t<tr><th scope=row>exon_version</th><td>NA                </td><td>NA                  </td><td>NA                  </td></tr>\n",
       "\t<tr><th scope=row>protein_id</th><td>NA                </td><td>NA                  </td><td>NA                  </td></tr>\n",
       "\t<tr><th scope=row>protein_version</th><td>NA                </td><td>NA                  </td><td>NA                  </td></tr>\n",
       "\t<tr><th scope=row>ccds_id</th><td>NA                </td><td>NA                  </td><td>NA                  </td></tr>\n",
       "</tbody>\n",
       "</table>\n"
      ],
      "text/latex": [
       "A matrix: 27 × 3 of type chr\n",
       "\\begin{tabular}{r|lll}\n",
       "  & 1 & 4 & 7\\\\\n",
       "\\hline\n",
       "\tseqnames & 1                  & 1                    & 1                   \\\\\n",
       "\tstart & 150956201          & 150983666            & 151012258           \\\\\n",
       "\tend & 150958296          & 150984611            & 151013531           \\\\\n",
       "\twidth & 2096               &  946                 & 1274                \\\\\n",
       "\tstrand & +                  & +                    & +                   \\\\\n",
       "\tsource & havana             & havana               & havana              \\\\\n",
       "\ttype & gene               & gene                 & gene                \\\\\n",
       "\tscore & NA                 & NA                   & NA                  \\\\\n",
       "\tphase & NA                 & NA                   & NA                  \\\\\n",
       "\tgene\\_id & ENSMUSG00000102628 & ENSMUSG00000100595   & ENSMUSG00000097426  \\\\\n",
       "\tgene\\_version & 2                  & 2                    & 2                   \\\\\n",
       "\tgene\\_name & Gm37671            & Gm19087              & Gm8941              \\\\\n",
       "\tgene\\_source & havana             & havana               & havana              \\\\\n",
       "\tgene\\_biotype & TEC                & processed\\_pseudogene & processed\\_pseudogene\\\\\n",
       "\ttranscript\\_id & NA                 & NA                   & NA                  \\\\\n",
       "\ttranscript\\_version & NA                 & NA                   & NA                  \\\\\n",
       "\ttranscript\\_name & NA                 & NA                   & NA                  \\\\\n",
       "\ttranscript\\_source & NA                 & NA                   & NA                  \\\\\n",
       "\ttranscript\\_biotype & NA                 & NA                   & NA                  \\\\\n",
       "\ttag & NA                 & NA                   & NA                  \\\\\n",
       "\ttranscript\\_support\\_level & NA                 & NA                   & NA                  \\\\\n",
       "\texon\\_number & NA                 & NA                   & NA                  \\\\\n",
       "\texon\\_id & NA                 & NA                   & NA                  \\\\\n",
       "\texon\\_version & NA                 & NA                   & NA                  \\\\\n",
       "\tprotein\\_id & NA                 & NA                   & NA                  \\\\\n",
       "\tprotein\\_version & NA                 & NA                   & NA                  \\\\\n",
       "\tccds\\_id & NA                 & NA                   & NA                  \\\\\n",
       "\\end{tabular}\n"
      ],
      "text/markdown": [
       "\n",
       "A matrix: 27 × 3 of type chr\n",
       "\n",
       "| <!--/--> | 1 | 4 | 7 |\n",
       "|---|---|---|---|\n",
       "| seqnames | 1                  | 1                    | 1                    |\n",
       "| start | 150956201          | 150983666            | 151012258            |\n",
       "| end | 150958296          | 150984611            | 151013531            |\n",
       "| width | 2096               |  946                 | 1274                 |\n",
       "| strand | +                  | +                    | +                    |\n",
       "| source | havana             | havana               | havana               |\n",
       "| type | gene               | gene                 | gene                 |\n",
       "| score | NA                 | NA                   | NA                   |\n",
       "| phase | NA                 | NA                   | NA                   |\n",
       "| gene_id | ENSMUSG00000102628 | ENSMUSG00000100595   | ENSMUSG00000097426   |\n",
       "| gene_version | 2                  | 2                    | 2                    |\n",
       "| gene_name | Gm37671            | Gm19087              | Gm8941               |\n",
       "| gene_source | havana             | havana               | havana               |\n",
       "| gene_biotype | TEC                | processed_pseudogene | processed_pseudogene |\n",
       "| transcript_id | NA                 | NA                   | NA                   |\n",
       "| transcript_version | NA                 | NA                   | NA                   |\n",
       "| transcript_name | NA                 | NA                   | NA                   |\n",
       "| transcript_source | NA                 | NA                   | NA                   |\n",
       "| transcript_biotype | NA                 | NA                   | NA                   |\n",
       "| tag | NA                 | NA                   | NA                   |\n",
       "| transcript_support_level | NA                 | NA                   | NA                   |\n",
       "| exon_number | NA                 | NA                   | NA                   |\n",
       "| exon_id | NA                 | NA                   | NA                   |\n",
       "| exon_version | NA                 | NA                   | NA                   |\n",
       "| protein_id | NA                 | NA                   | NA                   |\n",
       "| protein_version | NA                 | NA                   | NA                   |\n",
       "| ccds_id | NA                 | NA                   | NA                   |\n",
       "\n"
      ],
      "text/plain": [
       "                         1                  4                   \n",
       "seqnames                 1                  1                   \n",
       "start                    150956201          150983666           \n",
       "end                      150958296          150984611           \n",
       "width                    2096                946                \n",
       "strand                   +                  +                   \n",
       "source                   havana             havana              \n",
       "type                     gene               gene                \n",
       "score                    NA                 NA                  \n",
       "phase                    NA                 NA                  \n",
       "gene_id                  ENSMUSG00000102628 ENSMUSG00000100595  \n",
       "gene_version             2                  2                   \n",
       "gene_name                Gm37671            Gm19087             \n",
       "gene_source              havana             havana              \n",
       "gene_biotype             TEC                processed_pseudogene\n",
       "transcript_id            NA                 NA                  \n",
       "transcript_version       NA                 NA                  \n",
       "transcript_name          NA                 NA                  \n",
       "transcript_source        NA                 NA                  \n",
       "transcript_biotype       NA                 NA                  \n",
       "tag                      NA                 NA                  \n",
       "transcript_support_level NA                 NA                  \n",
       "exon_number              NA                 NA                  \n",
       "exon_id                  NA                 NA                  \n",
       "exon_version             NA                 NA                  \n",
       "protein_id               NA                 NA                  \n",
       "protein_version          NA                 NA                  \n",
       "ccds_id                  NA                 NA                  \n",
       "                         7                   \n",
       "seqnames                 1                   \n",
       "start                    151012258           \n",
       "end                      151013531           \n",
       "width                    1274                \n",
       "strand                   +                   \n",
       "source                   havana              \n",
       "type                     gene                \n",
       "score                    NA                  \n",
       "phase                    NA                  \n",
       "gene_id                  ENSMUSG00000097426  \n",
       "gene_version             2                   \n",
       "gene_name                Gm8941              \n",
       "gene_source              havana              \n",
       "gene_biotype             processed_pseudogene\n",
       "transcript_id            NA                  \n",
       "transcript_version       NA                  \n",
       "transcript_name          NA                  \n",
       "transcript_source        NA                  \n",
       "transcript_biotype       NA                  \n",
       "tag                      NA                  \n",
       "transcript_support_level NA                  \n",
       "exon_number              NA                  \n",
       "exon_id                  NA                  \n",
       "exon_version             NA                  \n",
       "protein_id               NA                  \n",
       "protein_version          NA                  \n",
       "ccds_id                  NA                  "
      ]
     },
     "metadata": {},
     "output_type": "display_data"
    },
    {
     "data": {
      "text/html": [
       "<style>\n",
       ".list-inline {list-style: none; margin:0; padding: 0}\n",
       ".list-inline>li {display: inline-block}\n",
       ".list-inline>li:not(:last-child)::after {content: \"\\00b7\"; padding: 0 .5ex}\n",
       "</style>\n",
       "<ol class=list-inline><li>55426</li><li>27</li></ol>\n"
      ],
      "text/latex": [
       "\\begin{enumerate*}\n",
       "\\item 55426\n",
       "\\item 27\n",
       "\\end{enumerate*}\n"
      ],
      "text/markdown": [
       "1. 55426\n",
       "2. 27\n",
       "\n",
       "\n"
      ],
      "text/plain": [
       "[1] 55426    27"
      ]
     },
     "metadata": {},
     "output_type": "display_data"
    },
    {
     "data": {
      "text/html": [
       "55426"
      ],
      "text/latex": [
       "55426"
      ],
      "text/markdown": [
       "55426"
      ],
      "text/plain": [
       "[1] 55426"
      ]
     },
     "metadata": {},
     "output_type": "display_data"
    },
    {
     "data": {
      "text/html": [
       "TRUE"
      ],
      "text/latex": [
       "TRUE"
      ],
      "text/markdown": [
       "TRUE"
      ],
      "text/plain": [
       "[1] TRUE"
      ]
     },
     "metadata": {},
     "output_type": "display_data"
    },
    {
     "data": {
      "text/html": [
       "&lt;NA&gt;"
      ],
      "text/latex": [
       "<NA>"
      ],
      "text/markdown": [
       "&lt;NA&gt;"
      ],
      "text/plain": [
       "[1] NA"
      ]
     },
     "metadata": {},
     "output_type": "display_data"
    },
    {
     "data": {
      "text/html": [
       "&lt;NA&gt;"
      ],
      "text/latex": [
       "<NA>"
      ],
      "text/markdown": [
       "&lt;NA&gt;"
      ],
      "text/plain": [
       "[1] NA"
      ]
     },
     "metadata": {},
     "output_type": "display_data"
    },
    {
     "data": {
      "text/html": [
       "52338"
      ],
      "text/latex": [
       "52338"
      ],
      "text/markdown": [
       "52338"
      ],
      "text/plain": [
       "[1] 52338"
      ]
     },
     "metadata": {},
     "output_type": "display_data"
    }
   ],
   "source": [
    "df_gtf0 <- as.data.frame(granges_gtf)\n",
    "if (grepl(\"isoform\", level)) {\n",
    "    df_gtf <- df_gtf0[df_gtf0$type=='transcript',]\n",
    "} else {\n",
    "    df_gtf <- df_gtf0[df_gtf0$type=='gene',]\n",
    "}\n",
    "          \n",
    "#head(df_gtf)\n",
    "t(df_gtf[c(1,2,3),])\n",
    "dim(df_gtf)\n",
    "\n",
    "length(unique(df_gtf$gene_id))\n",
    "\n",
    "gene_name <- unique(df_gtf$gene_name)\n",
    "any(is.na(gene_name))\n",
    "any(gene_name == 'NA')\n",
    "any(nchar(gene_name)==0)\n",
    "length(gene_name)\n"
   ]
  },
  {
   "cell_type": "markdown",
   "metadata": {},
   "source": [
    "## gene_id"
   ]
  },
  {
   "cell_type": "code",
   "execution_count": 276,
   "metadata": {},
   "outputs": [
    {
     "data": {
      "text/html": [
       "55426"
      ],
      "text/latex": [
       "55426"
      ],
      "text/markdown": [
       "55426"
      ],
      "text/plain": [
       "[1] 55426"
      ]
     },
     "metadata": {},
     "output_type": "display_data"
    }
   ],
   "source": [
    "length(unique(df_gtf$gene_id))"
   ]
  },
  {
   "cell_type": "code",
   "execution_count": 277,
   "metadata": {},
   "outputs": [
    {
     "data": {
      "text/html": [],
      "text/latex": [],
      "text/markdown": [],
      "text/plain": [
       "character(0)"
      ]
     },
     "metadata": {},
     "output_type": "display_data"
    },
    {
     "data": {
      "text/html": [
       "0"
      ],
      "text/latex": [
       "0"
      ],
      "text/markdown": [
       "0"
      ],
      "text/plain": [
       "[1] 0"
      ]
     },
     "metadata": {},
     "output_type": "display_data"
    }
   ],
   "source": [
    "f <- grepl('^ucsc', df_gtf$gene_id)\n",
    "gene_id_ucsc <- unique(df_gtf$gene_id[f])\n",
    "head(gene_id_ucsc)\n",
    "length(gene_id_ucsc)"
   ]
  },
  {
   "cell_type": "code",
   "execution_count": 278,
   "metadata": {},
   "outputs": [
    {
     "data": {
      "text/html": [
       "55426"
      ],
      "text/latex": [
       "55426"
      ],
      "text/markdown": [
       "55426"
      ],
      "text/plain": [
       "[1] 55426"
      ]
     },
     "metadata": {},
     "output_type": "display_data"
    }
   ],
   "source": [
    "length(setdiff(df_gtf$gene_id, gene_id_ucsc))"
   ]
  },
  {
   "cell_type": "markdown",
   "metadata": {},
   "source": [
    "## gene_name"
   ]
  },
  {
   "cell_type": "code",
   "execution_count": 279,
   "metadata": {},
   "outputs": [
    {
     "data": {
      "text/html": [
       "52338"
      ],
      "text/latex": [
       "52338"
      ],
      "text/markdown": [
       "52338"
      ],
      "text/plain": [
       "[1] 52338"
      ]
     },
     "metadata": {},
     "output_type": "display_data"
    }
   ],
   "source": [
    "length(unique(df_gtf$gene_name))"
   ]
  },
  {
   "cell_type": "code",
   "execution_count": 280,
   "metadata": {},
   "outputs": [
    {
     "data": {
      "text/html": [],
      "text/latex": [],
      "text/markdown": [],
      "text/plain": [
       "character(0)"
      ]
     },
     "metadata": {},
     "output_type": "display_data"
    },
    {
     "data": {
      "text/html": [
       "0"
      ],
      "text/latex": [
       "0"
      ],
      "text/markdown": [
       "0"
      ],
      "text/plain": [
       "[1] 0"
      ]
     },
     "metadata": {},
     "output_type": "display_data"
    }
   ],
   "source": [
    "f <- grepl('^ucsc', df_gtf$gene_name)\n",
    "gene_name_ucsc <- unique(df_gtf$gene_name[f])\n",
    "head(gene_name_ucsc)\n",
    "length(gene_name_ucsc)"
   ]
  },
  {
   "cell_type": "code",
   "execution_count": 281,
   "metadata": {},
   "outputs": [
    {
     "data": {
      "text/html": [
       "52338"
      ],
      "text/latex": [
       "52338"
      ],
      "text/markdown": [
       "52338"
      ],
      "text/plain": [
       "[1] 52338"
      ]
     },
     "metadata": {},
     "output_type": "display_data"
    },
    {
     "data": {
      "text/html": [
       "55453"
      ],
      "text/latex": [
       "55453"
      ],
      "text/markdown": [
       "55453"
      ],
      "text/plain": [
       "[1] 55453"
      ]
     },
     "metadata": {},
     "output_type": "display_data"
    }
   ],
   "source": [
    "length(setdiff(df_gtf$gene_name, gene_name_ucsc))\n",
    "56634-1181"
   ]
  },
  {
   "cell_type": "markdown",
   "metadata": {},
   "source": [
    "## gene_biotype"
   ]
  },
  {
   "cell_type": "code",
   "execution_count": 282,
   "metadata": {},
   "outputs": [
    {
     "data": {
      "text/html": [
       "21802"
      ],
      "text/latex": [
       "21802"
      ],
      "text/markdown": [
       "21802"
      ],
      "text/plain": [
       "[1] 21802"
      ]
     },
     "metadata": {},
     "output_type": "display_data"
    }
   ],
   "source": [
    "f <- df_gtf$gene_biotype == 'protein_coding'\n",
    "length(unique(df_gtf[f,'gene_name']))"
   ]
  },
  {
   "cell_type": "code",
   "execution_count": 283,
   "metadata": {},
   "outputs": [
    {
     "data": {
      "text/html": [
       "<style>\n",
       ".list-inline {list-style: none; margin:0; padding: 0}\n",
       ".list-inline>li {display: inline-block}\n",
       ".list-inline>li:not(:last-child)::after {content: \"\\00b7\"; padding: 0 .5ex}\n",
       "</style>\n",
       "<ol class=list-inline><li>'5_8S_rRNA'</li><li>'5S_rRNA'</li><li>'rDNA_Rn18s'</li><li>'rDNA_Rn28s'</li><li>'rDNA_Rn5-8s'</li><li>'Rn18s'</li></ol>\n"
      ],
      "text/latex": [
       "\\begin{enumerate*}\n",
       "\\item '5\\_8S\\_rRNA'\n",
       "\\item '5S\\_rRNA'\n",
       "\\item 'rDNA\\_Rn18s'\n",
       "\\item 'rDNA\\_Rn28s'\n",
       "\\item 'rDNA\\_Rn5-8s'\n",
       "\\item 'Rn18s'\n",
       "\\end{enumerate*}\n"
      ],
      "text/markdown": [
       "1. '5_8S_rRNA'\n",
       "2. '5S_rRNA'\n",
       "3. 'rDNA_Rn18s'\n",
       "4. 'rDNA_Rn28s'\n",
       "5. 'rDNA_Rn5-8s'\n",
       "6. 'Rn18s'\n",
       "\n",
       "\n"
      ],
      "text/plain": [
       "[1] \"5_8S_rRNA\"   \"5S_rRNA\"     \"rDNA_Rn18s\"  \"rDNA_Rn28s\"  \"rDNA_Rn5-8s\"\n",
       "[6] \"Rn18s\"      "
      ]
     },
     "metadata": {},
     "output_type": "display_data"
    }
   ],
   "source": [
    "f <- df_gtf$gene_biotype == 'rRNA'\n",
    "f <- f & !grepl(\"n-R5s\", df_gtf$gene_name)\n",
    "sort(unique(df_gtf[f,'gene_name']))"
   ]
  },
  {
   "cell_type": "markdown",
   "metadata": {},
   "source": [
    "## transcript_id"
   ]
  },
  {
   "cell_type": "code",
   "execution_count": 284,
   "metadata": {},
   "outputs": [
    {
     "data": {
      "text/html": [
       "1"
      ],
      "text/latex": [
       "1"
      ],
      "text/markdown": [
       "1"
      ],
      "text/plain": [
       "[1] 1"
      ]
     },
     "metadata": {},
     "output_type": "display_data"
    }
   ],
   "source": [
    "length(unique(df_gtf$transcript_id))"
   ]
  },
  {
   "cell_type": "markdown",
   "metadata": {},
   "source": [
    "## transcript_name"
   ]
  },
  {
   "cell_type": "code",
   "execution_count": 285,
   "metadata": {},
   "outputs": [
    {
     "data": {
      "text/html": [
       "1"
      ],
      "text/latex": [
       "1"
      ],
      "text/markdown": [
       "1"
      ],
      "text/plain": [
       "[1] 1"
      ]
     },
     "metadata": {},
     "output_type": "display_data"
    }
   ],
   "source": [
    "length(unique(df_gtf$transcript_name))"
   ]
  },
  {
   "cell_type": "markdown",
   "metadata": {},
   "source": [
    "## transcript_biotype"
   ]
  },
  {
   "cell_type": "code",
   "execution_count": 286,
   "metadata": {},
   "outputs": [
    {
     "data": {
      "text/html": [
       "1"
      ],
      "text/latex": [
       "1"
      ],
      "text/markdown": [
       "1"
      ],
      "text/plain": [
       "[1] 1"
      ]
     },
     "metadata": {},
     "output_type": "display_data"
    }
   ],
   "source": [
    "f <- df_gtf$transcript_biotype == 'protein_coding'\n",
    "length(unique(df_gtf[f,'transcript_name']))"
   ]
  },
  {
   "cell_type": "code",
   "execution_count": 287,
   "metadata": {},
   "outputs": [
    {
     "data": {
      "text/html": [
       "NA"
      ],
      "text/latex": [
       "NA"
      ],
      "text/markdown": [
       "NA"
      ],
      "text/plain": [
       "[1] NA"
      ]
     },
     "metadata": {},
     "output_type": "display_data"
    }
   ],
   "source": [
    "idx <- which(df_gtf0$transcript_biotype == \"rRNA\" & df_gtf0$exon_number > 1)\n",
    "if (length(idx) > 0) {\n",
    "    head(df_gtf0[idx, ])\n",
    "    dim(df_gtf0[idx, ])\n",
    "} else {\n",
    "    f <- df_gtf0$transcript_biotype == \"rRNA\"\n",
    "    unique(df_gtf[f, 'exon_number'])\n",
    "}"
   ]
  },
  {
   "cell_type": "markdown",
   "metadata": {},
   "source": [
    "# df_count_mrna"
   ]
  },
  {
   "cell_type": "code",
   "execution_count": 288,
   "metadata": {},
   "outputs": [
    {
     "name": "stdout",
     "output_type": "stream",
     "text": [
      "./out/limma-voom.mrna/170224.rdna_rn18s/NMuMG/blancgrp_211613_RNAseq_total_stranded.counts.raw.txt.gz\n"
     ]
    },
    {
     "data": {
      "text/html": [
       "<table class=\"dataframe\">\n",
       "<caption>A data.frame: 6 × 16</caption>\n",
       "<thead>\n",
       "\t<tr><th></th><th scope=col>seqnames</th><th scope=col>start</th><th scope=col>end</th><th scope=col>width</th><th scope=col>strand</th><th scope=col>source</th><th scope=col>JBQS001</th><th scope=col>JBQS002</th><th scope=col>JBQS003</th><th scope=col>JBQS004</th><th scope=col>JBQS005</th><th scope=col>JBQS006</th><th scope=col>JBQS007</th><th scope=col>JBQS008</th><th scope=col>JBQS009</th><th scope=col>biotype</th></tr>\n",
       "\t<tr><th></th><th scope=col>&lt;fct&gt;</th><th scope=col>&lt;int&gt;</th><th scope=col>&lt;int&gt;</th><th scope=col>&lt;int&gt;</th><th scope=col>&lt;fct&gt;</th><th scope=col>&lt;fct&gt;</th><th scope=col>&lt;int&gt;</th><th scope=col>&lt;int&gt;</th><th scope=col>&lt;int&gt;</th><th scope=col>&lt;int&gt;</th><th scope=col>&lt;int&gt;</th><th scope=col>&lt;int&gt;</th><th scope=col>&lt;int&gt;</th><th scope=col>&lt;int&gt;</th><th scope=col>&lt;int&gt;</th><th scope=col>&lt;chr&gt;</th></tr>\n",
       "</thead>\n",
       "<tbody>\n",
       "\t<tr><th scope=row>rDNA_promoter</th><td>BK000964.3</td><td>   45306</td><td>   45446</td><td>  141</td><td>+</td><td>stjude        </td><td> 0</td><td> 0</td><td> 0</td><td> 0</td><td> 0</td><td> 0</td><td> 0</td><td> 0</td><td> 0</td><td>rDNA          </td></tr>\n",
       "\t<tr><th scope=row>rDNA_promoter1</th><td>BK000964.3</td><td>       1</td><td>     141</td><td>  141</td><td>+</td><td>stjude        </td><td> 0</td><td> 0</td><td> 0</td><td> 0</td><td> 0</td><td> 0</td><td> 0</td><td> 0</td><td> 0</td><td>rDNA          </td></tr>\n",
       "\t<tr><th scope=row>0610005C13Rik</th><td>7         </td><td>45217218</td><td>45224751</td><td> 7534</td><td>-</td><td>havana        </td><td> 1</td><td> 0</td><td> 0</td><td> 1</td><td> 0</td><td> 0</td><td> 0</td><td> 0</td><td> 0</td><td>lncRNA        </td></tr>\n",
       "\t<tr><th scope=row>0610006L08Rik</th><td>7         </td><td>74468566</td><td>74503561</td><td>34996</td><td>-</td><td>havana        </td><td> 0</td><td> 0</td><td> 0</td><td> 0</td><td> 0</td><td> 0</td><td> 0</td><td> 0</td><td> 0</td><td>lncRNA        </td></tr>\n",
       "\t<tr><th scope=row>0610009B22Rik</th><td>11        </td><td>51576213</td><td>51579701</td><td> 3489</td><td>-</td><td>ensembl_havana</td><td>50</td><td>47</td><td>48</td><td>40</td><td>52</td><td>68</td><td>28</td><td>85</td><td>41</td><td>protein_coding</td></tr>\n",
       "\t<tr><th scope=row>0610009E02Rik</th><td>2         </td><td>26335708</td><td>26349402</td><td>13695</td><td>+</td><td>havana        </td><td> 8</td><td> 7</td><td> 6</td><td> 2</td><td> 2</td><td> 4</td><td> 3</td><td> 4</td><td> 3</td><td>lncRNA        </td></tr>\n",
       "</tbody>\n",
       "</table>\n"
      ],
      "text/latex": [
       "A data.frame: 6 × 16\n",
       "\\begin{tabular}{r|llllllllllllllll}\n",
       "  & seqnames & start & end & width & strand & source & JBQS001 & JBQS002 & JBQS003 & JBQS004 & JBQS005 & JBQS006 & JBQS007 & JBQS008 & JBQS009 & biotype\\\\\n",
       "  & <fct> & <int> & <int> & <int> & <fct> & <fct> & <int> & <int> & <int> & <int> & <int> & <int> & <int> & <int> & <int> & <chr>\\\\\n",
       "\\hline\n",
       "\trDNA\\_promoter & BK000964.3 &    45306 &    45446 &   141 & + & stjude         &  0 &  0 &  0 &  0 &  0 &  0 &  0 &  0 &  0 & rDNA          \\\\\n",
       "\trDNA\\_promoter1 & BK000964.3 &        1 &      141 &   141 & + & stjude         &  0 &  0 &  0 &  0 &  0 &  0 &  0 &  0 &  0 & rDNA          \\\\\n",
       "\t0610005C13Rik & 7          & 45217218 & 45224751 &  7534 & - & havana         &  1 &  0 &  0 &  1 &  0 &  0 &  0 &  0 &  0 & lncRNA        \\\\\n",
       "\t0610006L08Rik & 7          & 74468566 & 74503561 & 34996 & - & havana         &  0 &  0 &  0 &  0 &  0 &  0 &  0 &  0 &  0 & lncRNA        \\\\\n",
       "\t0610009B22Rik & 11         & 51576213 & 51579701 &  3489 & - & ensembl\\_havana & 50 & 47 & 48 & 40 & 52 & 68 & 28 & 85 & 41 & protein\\_coding\\\\\n",
       "\t0610009E02Rik & 2          & 26335708 & 26349402 & 13695 & + & havana         &  8 &  7 &  6 &  2 &  2 &  4 &  3 &  4 &  3 & lncRNA        \\\\\n",
       "\\end{tabular}\n"
      ],
      "text/markdown": [
       "\n",
       "A data.frame: 6 × 16\n",
       "\n",
       "| <!--/--> | seqnames &lt;fct&gt; | start &lt;int&gt; | end &lt;int&gt; | width &lt;int&gt; | strand &lt;fct&gt; | source &lt;fct&gt; | JBQS001 &lt;int&gt; | JBQS002 &lt;int&gt; | JBQS003 &lt;int&gt; | JBQS004 &lt;int&gt; | JBQS005 &lt;int&gt; | JBQS006 &lt;int&gt; | JBQS007 &lt;int&gt; | JBQS008 &lt;int&gt; | JBQS009 &lt;int&gt; | biotype &lt;chr&gt; |\n",
       "|---|---|---|---|---|---|---|---|---|---|---|---|---|---|---|---|---|\n",
       "| rDNA_promoter | BK000964.3 |    45306 |    45446 |   141 | + | stjude         |  0 |  0 |  0 |  0 |  0 |  0 |  0 |  0 |  0 | rDNA           |\n",
       "| rDNA_promoter1 | BK000964.3 |        1 |      141 |   141 | + | stjude         |  0 |  0 |  0 |  0 |  0 |  0 |  0 |  0 |  0 | rDNA           |\n",
       "| 0610005C13Rik | 7          | 45217218 | 45224751 |  7534 | - | havana         |  1 |  0 |  0 |  1 |  0 |  0 |  0 |  0 |  0 | lncRNA         |\n",
       "| 0610006L08Rik | 7          | 74468566 | 74503561 | 34996 | - | havana         |  0 |  0 |  0 |  0 |  0 |  0 |  0 |  0 |  0 | lncRNA         |\n",
       "| 0610009B22Rik | 11         | 51576213 | 51579701 |  3489 | - | ensembl_havana | 50 | 47 | 48 | 40 | 52 | 68 | 28 | 85 | 41 | protein_coding |\n",
       "| 0610009E02Rik | 2          | 26335708 | 26349402 | 13695 | + | havana         |  8 |  7 |  6 |  2 |  2 |  4 |  3 |  4 |  3 | lncRNA         |\n",
       "\n"
      ],
      "text/plain": [
       "               seqnames   start    end      width strand source         JBQS001\n",
       "rDNA_promoter  BK000964.3    45306    45446   141 +      stjude          0     \n",
       "rDNA_promoter1 BK000964.3        1      141   141 +      stjude          0     \n",
       "0610005C13Rik  7          45217218 45224751  7534 -      havana          1     \n",
       "0610006L08Rik  7          74468566 74503561 34996 -      havana          0     \n",
       "0610009B22Rik  11         51576213 51579701  3489 -      ensembl_havana 50     \n",
       "0610009E02Rik  2          26335708 26349402 13695 +      havana          8     \n",
       "               JBQS002 JBQS003 JBQS004 JBQS005 JBQS006 JBQS007 JBQS008 JBQS009\n",
       "rDNA_promoter   0       0       0       0       0       0       0       0     \n",
       "rDNA_promoter1  0       0       0       0       0       0       0       0     \n",
       "0610005C13Rik   0       0       1       0       0       0       0       0     \n",
       "0610006L08Rik   0       0       0       0       0       0       0       0     \n",
       "0610009B22Rik  47      48      40      52      68      28      85      41     \n",
       "0610009E02Rik   7       6       2       2       4       3       4       3     \n",
       "               biotype       \n",
       "rDNA_promoter  rDNA          \n",
       "rDNA_promoter1 rDNA          \n",
       "0610005C13Rik  lncRNA        \n",
       "0610006L08Rik  lncRNA        \n",
       "0610009B22Rik  protein_coding\n",
       "0610009E02Rik  lncRNA        "
      ]
     },
     "metadata": {},
     "output_type": "display_data"
    }
   ],
   "source": [
    "# Jake quick lysis totalRNA \n",
    "\n",
    "fname_in <- sprintf(\"%s/blancgrp_211613_RNAseq_total_stranded.counts.raw.txt.gz\", dir_rnaseq)\n",
    "verb('%s\\n', fname_in)\n",
    "df_count_mrna <- read.table(file=fname_in, \n",
    "                header=TRUE, sep=\"\\t\", row.names=1,\n",
    "                quote=\"\", comment.char=\"#\", stringsAsFactors=F)\n",
    "\n",
    "# add seqnames, start, end, witdth, strand, source\n",
    "sym <- rownames(df_count_mrna)\n",
    "if (grepl(\"isoform\", level)) {\n",
    "    idx <- match(rownames(df_count_mrna), df_gtf$transcript_name)\n",
    "    df_count_mrna <- cbind(df_gtf[idx, 1:6], df_count_mrna)\n",
    "    df_count_mrna$biotype <- df_gtf[idx, \"transcript_biotype\"]\n",
    "    \n",
    "} else {    \n",
    "    idx <- match(rownames(df_count_mrna), df_gtf$gene_name)\n",
    "    df_count_mrna <- cbind(df_gtf[idx, 1:6], df_count_mrna)    \n",
    "    df_count_mrna$biotype <- df_gtf[idx, \"gene_biotype\"]\n",
    "}\n",
    "\n",
    "rownames(df_count_mrna) <- sym\n",
    "head(df_count_mrna)"
   ]
  },
  {
   "cell_type": "markdown",
   "metadata": {},
   "source": [
    "# df_count_ribo"
   ]
  },
  {
   "cell_type": "code",
   "execution_count": 289,
   "metadata": {},
   "outputs": [
    {
     "name": "stdout",
     "output_type": "stream",
     "text": [
      "./out/limma-voom.mrna/161021.rdna_rn18s/NMuMG/blancgrp_161021_Riboseq.counts.raw.txt.gz\n"
     ]
    },
    {
     "data": {
      "text/html": [
       "<table class=\"dataframe\">\n",
       "<caption>A data.frame: 6 × 16</caption>\n",
       "<thead>\n",
       "\t<tr><th></th><th scope=col>seqnames</th><th scope=col>start</th><th scope=col>end</th><th scope=col>width</th><th scope=col>strand</th><th scope=col>source</th><th scope=col>RD0175</th><th scope=col>RD0176</th><th scope=col>RD0177</th><th scope=col>RD0178</th><th scope=col>RD0179</th><th scope=col>RD0180</th><th scope=col>RD0184</th><th scope=col>RD0185</th><th scope=col>RD0186</th><th scope=col>biotype</th></tr>\n",
       "\t<tr><th></th><th scope=col>&lt;fct&gt;</th><th scope=col>&lt;int&gt;</th><th scope=col>&lt;int&gt;</th><th scope=col>&lt;int&gt;</th><th scope=col>&lt;fct&gt;</th><th scope=col>&lt;fct&gt;</th><th scope=col>&lt;int&gt;</th><th scope=col>&lt;int&gt;</th><th scope=col>&lt;int&gt;</th><th scope=col>&lt;int&gt;</th><th scope=col>&lt;int&gt;</th><th scope=col>&lt;int&gt;</th><th scope=col>&lt;int&gt;</th><th scope=col>&lt;int&gt;</th><th scope=col>&lt;int&gt;</th><th scope=col>&lt;chr&gt;</th></tr>\n",
       "</thead>\n",
       "<tbody>\n",
       "\t<tr><th scope=row>rDNA_promoter</th><td>BK000964.3</td><td>   45306</td><td>   45446</td><td>  141</td><td>+</td><td>stjude        </td><td> 0</td><td> 0</td><td> 0</td><td> 0</td><td> 0</td><td> 0</td><td> 0</td><td> 0</td><td> 0</td><td>rDNA          </td></tr>\n",
       "\t<tr><th scope=row>rDNA_promoter1</th><td>BK000964.3</td><td>       1</td><td>     141</td><td>  141</td><td>+</td><td>stjude        </td><td> 0</td><td> 0</td><td> 0</td><td> 0</td><td> 0</td><td> 0</td><td> 0</td><td> 0</td><td> 0</td><td>rDNA          </td></tr>\n",
       "\t<tr><th scope=row>0610005C13Rik</th><td>7         </td><td>45217218</td><td>45224751</td><td> 7534</td><td>-</td><td>havana        </td><td> 0</td><td> 0</td><td> 0</td><td> 0</td><td> 0</td><td> 0</td><td> 0</td><td> 0</td><td> 0</td><td>lncRNA        </td></tr>\n",
       "\t<tr><th scope=row>0610006L08Rik</th><td>7         </td><td>74468566</td><td>74503561</td><td>34996</td><td>-</td><td>havana        </td><td> 0</td><td> 0</td><td> 0</td><td> 0</td><td> 0</td><td> 0</td><td> 0</td><td> 0</td><td> 0</td><td>lncRNA        </td></tr>\n",
       "\t<tr><th scope=row>0610009B22Rik</th><td>11        </td><td>51576213</td><td>51579701</td><td> 3489</td><td>-</td><td>ensembl_havana</td><td>32</td><td>34</td><td>28</td><td>12</td><td>12</td><td>19</td><td>35</td><td>38</td><td>31</td><td>protein_coding</td></tr>\n",
       "\t<tr><th scope=row>0610009E02Rik</th><td>2         </td><td>26335708</td><td>26349402</td><td>13695</td><td>+</td><td>havana        </td><td> 0</td><td> 0</td><td> 0</td><td> 0</td><td> 0</td><td> 1</td><td> 0</td><td> 0</td><td> 0</td><td>lncRNA        </td></tr>\n",
       "</tbody>\n",
       "</table>\n"
      ],
      "text/latex": [
       "A data.frame: 6 × 16\n",
       "\\begin{tabular}{r|llllllllllllllll}\n",
       "  & seqnames & start & end & width & strand & source & RD0175 & RD0176 & RD0177 & RD0178 & RD0179 & RD0180 & RD0184 & RD0185 & RD0186 & biotype\\\\\n",
       "  & <fct> & <int> & <int> & <int> & <fct> & <fct> & <int> & <int> & <int> & <int> & <int> & <int> & <int> & <int> & <int> & <chr>\\\\\n",
       "\\hline\n",
       "\trDNA\\_promoter & BK000964.3 &    45306 &    45446 &   141 & + & stjude         &  0 &  0 &  0 &  0 &  0 &  0 &  0 &  0 &  0 & rDNA          \\\\\n",
       "\trDNA\\_promoter1 & BK000964.3 &        1 &      141 &   141 & + & stjude         &  0 &  0 &  0 &  0 &  0 &  0 &  0 &  0 &  0 & rDNA          \\\\\n",
       "\t0610005C13Rik & 7          & 45217218 & 45224751 &  7534 & - & havana         &  0 &  0 &  0 &  0 &  0 &  0 &  0 &  0 &  0 & lncRNA        \\\\\n",
       "\t0610006L08Rik & 7          & 74468566 & 74503561 & 34996 & - & havana         &  0 &  0 &  0 &  0 &  0 &  0 &  0 &  0 &  0 & lncRNA        \\\\\n",
       "\t0610009B22Rik & 11         & 51576213 & 51579701 &  3489 & - & ensembl\\_havana & 32 & 34 & 28 & 12 & 12 & 19 & 35 & 38 & 31 & protein\\_coding\\\\\n",
       "\t0610009E02Rik & 2          & 26335708 & 26349402 & 13695 & + & havana         &  0 &  0 &  0 &  0 &  0 &  1 &  0 &  0 &  0 & lncRNA        \\\\\n",
       "\\end{tabular}\n"
      ],
      "text/markdown": [
       "\n",
       "A data.frame: 6 × 16\n",
       "\n",
       "| <!--/--> | seqnames &lt;fct&gt; | start &lt;int&gt; | end &lt;int&gt; | width &lt;int&gt; | strand &lt;fct&gt; | source &lt;fct&gt; | RD0175 &lt;int&gt; | RD0176 &lt;int&gt; | RD0177 &lt;int&gt; | RD0178 &lt;int&gt; | RD0179 &lt;int&gt; | RD0180 &lt;int&gt; | RD0184 &lt;int&gt; | RD0185 &lt;int&gt; | RD0186 &lt;int&gt; | biotype &lt;chr&gt; |\n",
       "|---|---|---|---|---|---|---|---|---|---|---|---|---|---|---|---|---|\n",
       "| rDNA_promoter | BK000964.3 |    45306 |    45446 |   141 | + | stjude         |  0 |  0 |  0 |  0 |  0 |  0 |  0 |  0 |  0 | rDNA           |\n",
       "| rDNA_promoter1 | BK000964.3 |        1 |      141 |   141 | + | stjude         |  0 |  0 |  0 |  0 |  0 |  0 |  0 |  0 |  0 | rDNA           |\n",
       "| 0610005C13Rik | 7          | 45217218 | 45224751 |  7534 | - | havana         |  0 |  0 |  0 |  0 |  0 |  0 |  0 |  0 |  0 | lncRNA         |\n",
       "| 0610006L08Rik | 7          | 74468566 | 74503561 | 34996 | - | havana         |  0 |  0 |  0 |  0 |  0 |  0 |  0 |  0 |  0 | lncRNA         |\n",
       "| 0610009B22Rik | 11         | 51576213 | 51579701 |  3489 | - | ensembl_havana | 32 | 34 | 28 | 12 | 12 | 19 | 35 | 38 | 31 | protein_coding |\n",
       "| 0610009E02Rik | 2          | 26335708 | 26349402 | 13695 | + | havana         |  0 |  0 |  0 |  0 |  0 |  1 |  0 |  0 |  0 | lncRNA         |\n",
       "\n"
      ],
      "text/plain": [
       "               seqnames   start    end      width strand source         RD0175\n",
       "rDNA_promoter  BK000964.3    45306    45446   141 +      stjude          0    \n",
       "rDNA_promoter1 BK000964.3        1      141   141 +      stjude          0    \n",
       "0610005C13Rik  7          45217218 45224751  7534 -      havana          0    \n",
       "0610006L08Rik  7          74468566 74503561 34996 -      havana          0    \n",
       "0610009B22Rik  11         51576213 51579701  3489 -      ensembl_havana 32    \n",
       "0610009E02Rik  2          26335708 26349402 13695 +      havana          0    \n",
       "               RD0176 RD0177 RD0178 RD0179 RD0180 RD0184 RD0185 RD0186\n",
       "rDNA_promoter   0      0      0      0      0      0      0      0    \n",
       "rDNA_promoter1  0      0      0      0      0      0      0      0    \n",
       "0610005C13Rik   0      0      0      0      0      0      0      0    \n",
       "0610006L08Rik   0      0      0      0      0      0      0      0    \n",
       "0610009B22Rik  34     28     12     12     19     35     38     31    \n",
       "0610009E02Rik   0      0      0      0      1      0      0      0    \n",
       "               biotype       \n",
       "rDNA_promoter  rDNA          \n",
       "rDNA_promoter1 rDNA          \n",
       "0610005C13Rik  lncRNA        \n",
       "0610006L08Rik  lncRNA        \n",
       "0610009B22Rik  protein_coding\n",
       "0610009E02Rik  lncRNA        "
      ]
     },
     "metadata": {},
     "output_type": "display_data"
    }
   ],
   "source": [
    "fname_in <- sprintf(\"%s/blancgrp_161021_Riboseq.counts.raw.txt.gz\", dir_riboseq)\n",
    "verb('%s\\n', fname_in)\n",
    "df_count_ribo <- read.table(file=fname_in, \n",
    "                header=TRUE, sep=\"\\t\", row.names=1,\n",
    "                quote=\"\", comment.char=\"#\", stringsAsFactors=F)\n",
    "\n",
    "sym <- rownames(df_count_ribo)\n",
    "if (grepl(\"isoform\", level)) {\n",
    "    idx <- match(rownames(df_count_ribo), df_gtf$transcript_name)\n",
    "    df_count_ribo <- cbind(df_gtf[idx, 1:6], df_count_ribo)\n",
    "    df_count_ribo$biotype <- df_gtf[idx, \"transcript_biotype\"]\n",
    "    \n",
    "} else {    \n",
    "    idx <- match(rownames(df_count_ribo), df_gtf$gene_name)\n",
    "    df_count_ribo <- cbind(df_gtf[idx, 1:6], df_count_ribo)    \n",
    "    df_count_ribo$biotype <- df_gtf[idx, \"gene_biotype\"]\n",
    "}\n",
    "\n",
    "rownames(df_count_ribo) <- sym\n",
    "head(df_count_ribo)"
   ]
  },
  {
   "cell_type": "markdown",
   "metadata": {},
   "source": [
    "# df_transcription"
   ]
  },
  {
   "cell_type": "code",
   "execution_count": 290,
   "metadata": {},
   "outputs": [
    {
     "name": "stdout",
     "output_type": "stream",
     "text": [
      "./out/limma-voom.mrna/170224.rdna_rn18s/NMuMG/blancgrp_211613_RNAseq_total_stranded.log2cpm.txt.gz\n"
     ]
    },
    {
     "data": {
      "text/html": [
       "<table class=\"dataframe\">\n",
       "<caption>A data.frame: 6 × 3</caption>\n",
       "<thead>\n",
       "\t<tr><th></th><th scope=col>unt.transcription</th><th scope=col>tgfb.transcription</th><th scope=col>tgfbCX5461.transcription</th></tr>\n",
       "\t<tr><th></th><th scope=col>&lt;dbl&gt;</th><th scope=col>&lt;dbl&gt;</th><th scope=col>&lt;dbl&gt;</th></tr>\n",
       "</thead>\n",
       "<tbody>\n",
       "\t<tr><th scope=row>0610009B22Rik</th><td>-1.7361927</td><td>-1.77777696</td><td>-1.52337076</td></tr>\n",
       "\t<tr><th scope=row>0610009E02Rik</th><td>-4.4542278</td><td>-5.89842646</td><td>-5.22659361</td></tr>\n",
       "\t<tr><th scope=row>0610009L18Rik</th><td>-5.7348513</td><td>-5.04982074</td><td>-5.32317910</td></tr>\n",
       "\t<tr><th scope=row>0610010F05Rik</th><td>-0.5443124</td><td>-0.18299550</td><td>-0.57995446</td></tr>\n",
       "\t<tr><th scope=row>0610010K14Rik</th><td>-1.0822802</td><td>-1.73978964</td><td>-1.85796767</td></tr>\n",
       "\t<tr><th scope=row>0610012G03Rik</th><td> 0.1094487</td><td> 0.09824498</td><td> 0.09778162</td></tr>\n",
       "</tbody>\n",
       "</table>\n"
      ],
      "text/latex": [
       "A data.frame: 6 × 3\n",
       "\\begin{tabular}{r|lll}\n",
       "  & unt.transcription & tgfb.transcription & tgfbCX5461.transcription\\\\\n",
       "  & <dbl> & <dbl> & <dbl>\\\\\n",
       "\\hline\n",
       "\t0610009B22Rik & -1.7361927 & -1.77777696 & -1.52337076\\\\\n",
       "\t0610009E02Rik & -4.4542278 & -5.89842646 & -5.22659361\\\\\n",
       "\t0610009L18Rik & -5.7348513 & -5.04982074 & -5.32317910\\\\\n",
       "\t0610010F05Rik & -0.5443124 & -0.18299550 & -0.57995446\\\\\n",
       "\t0610010K14Rik & -1.0822802 & -1.73978964 & -1.85796767\\\\\n",
       "\t0610012G03Rik &  0.1094487 &  0.09824498 &  0.09778162\\\\\n",
       "\\end{tabular}\n"
      ],
      "text/markdown": [
       "\n",
       "A data.frame: 6 × 3\n",
       "\n",
       "| <!--/--> | unt.transcription &lt;dbl&gt; | tgfb.transcription &lt;dbl&gt; | tgfbCX5461.transcription &lt;dbl&gt; |\n",
       "|---|---|---|---|\n",
       "| 0610009B22Rik | -1.7361927 | -1.77777696 | -1.52337076 |\n",
       "| 0610009E02Rik | -4.4542278 | -5.89842646 | -5.22659361 |\n",
       "| 0610009L18Rik | -5.7348513 | -5.04982074 | -5.32317910 |\n",
       "| 0610010F05Rik | -0.5443124 | -0.18299550 | -0.57995446 |\n",
       "| 0610010K14Rik | -1.0822802 | -1.73978964 | -1.85796767 |\n",
       "| 0610012G03Rik |  0.1094487 |  0.09824498 |  0.09778162 |\n",
       "\n"
      ],
      "text/plain": [
       "              unt.transcription tgfb.transcription tgfbCX5461.transcription\n",
       "0610009B22Rik -1.7361927        -1.77777696        -1.52337076             \n",
       "0610009E02Rik -4.4542278        -5.89842646        -5.22659361             \n",
       "0610009L18Rik -5.7348513        -5.04982074        -5.32317910             \n",
       "0610010F05Rik -0.5443124        -0.18299550        -0.57995446             \n",
       "0610010K14Rik -1.0822802        -1.73978964        -1.85796767             \n",
       "0610012G03Rik  0.1094487         0.09824498         0.09778162             "
      ]
     },
     "metadata": {},
     "output_type": "display_data"
    },
    {
     "data": {
      "text/html": [
       "<style>\n",
       ".list-inline {list-style: none; margin:0; padding: 0}\n",
       ".list-inline>li {display: inline-block}\n",
       ".list-inline>li:not(:last-child)::after {content: \"\\00b7\"; padding: 0 .5ex}\n",
       "</style>\n",
       "<ol class=list-inline><li>13006</li><li>3</li></ol>\n"
      ],
      "text/latex": [
       "\\begin{enumerate*}\n",
       "\\item 13006\n",
       "\\item 3\n",
       "\\end{enumerate*}\n"
      ],
      "text/markdown": [
       "1. 13006\n",
       "2. 3\n",
       "\n",
       "\n"
      ],
      "text/plain": [
       "[1] 13006     3"
      ]
     },
     "metadata": {},
     "output_type": "display_data"
    },
    {
     "name": "stdout",
     "output_type": "stream",
     "text": [
      "./out/limma-voom.mrna/170224.rdna_rn18s/NMuMG/blancgrp_211613_RNAseq_total_stranded.unt--vs--tgfb.all.txt.gz\n"
     ]
    },
    {
     "data": {
      "text/html": [
       "<table class=\"dataframe\">\n",
       "<caption>A data.frame: 6 × 5</caption>\n",
       "<thead>\n",
       "\t<tr><th></th><th scope=col>unt.transcription</th><th scope=col>tgfb.transcription</th><th scope=col>log2FCuntVStgfb.transcription</th><th scope=col>FDRuntVStgfb.transcription</th><th scope=col>PuntVStgfb.transcription</th></tr>\n",
       "\t<tr><th></th><th scope=col>&lt;dbl&gt;</th><th scope=col>&lt;dbl&gt;</th><th scope=col>&lt;dbl&gt;</th><th scope=col>&lt;dbl&gt;</th><th scope=col>&lt;dbl&gt;</th></tr>\n",
       "</thead>\n",
       "<tbody>\n",
       "\t<tr><th scope=row>4930402H24Rik</th><td> 1.6107994</td><td> 2.4726014</td><td> 0.861802</td><td>0</td><td>0</td></tr>\n",
       "\t<tr><th scope=row>Abcc2</th><td>-0.3106197</td><td>-3.8326160</td><td>-3.521996</td><td>0</td><td>0</td></tr>\n",
       "\t<tr><th scope=row>Abcc3</th><td> 1.8096731</td><td> 0.6774089</td><td>-1.132264</td><td>0</td><td>0</td></tr>\n",
       "\t<tr><th scope=row>Abcc4</th><td> 2.6411045</td><td> 1.0325850</td><td>-1.608520</td><td>0</td><td>0</td></tr>\n",
       "\t<tr><th scope=row>Abcd3</th><td> 1.8514176</td><td> 0.3012823</td><td>-1.550135</td><td>0</td><td>0</td></tr>\n",
       "\t<tr><th scope=row>Abhd17a</th><td> 0.9001339</td><td> 1.9114717</td><td> 1.011338</td><td>0</td><td>0</td></tr>\n",
       "</tbody>\n",
       "</table>\n"
      ],
      "text/latex": [
       "A data.frame: 6 × 5\n",
       "\\begin{tabular}{r|lllll}\n",
       "  & unt.transcription & tgfb.transcription & log2FCuntVStgfb.transcription & FDRuntVStgfb.transcription & PuntVStgfb.transcription\\\\\n",
       "  & <dbl> & <dbl> & <dbl> & <dbl> & <dbl>\\\\\n",
       "\\hline\n",
       "\t4930402H24Rik &  1.6107994 &  2.4726014 &  0.861802 & 0 & 0\\\\\n",
       "\tAbcc2 & -0.3106197 & -3.8326160 & -3.521996 & 0 & 0\\\\\n",
       "\tAbcc3 &  1.8096731 &  0.6774089 & -1.132264 & 0 & 0\\\\\n",
       "\tAbcc4 &  2.6411045 &  1.0325850 & -1.608520 & 0 & 0\\\\\n",
       "\tAbcd3 &  1.8514176 &  0.3012823 & -1.550135 & 0 & 0\\\\\n",
       "\tAbhd17a &  0.9001339 &  1.9114717 &  1.011338 & 0 & 0\\\\\n",
       "\\end{tabular}\n"
      ],
      "text/markdown": [
       "\n",
       "A data.frame: 6 × 5\n",
       "\n",
       "| <!--/--> | unt.transcription &lt;dbl&gt; | tgfb.transcription &lt;dbl&gt; | log2FCuntVStgfb.transcription &lt;dbl&gt; | FDRuntVStgfb.transcription &lt;dbl&gt; | PuntVStgfb.transcription &lt;dbl&gt; |\n",
       "|---|---|---|---|---|---|\n",
       "| 4930402H24Rik |  1.6107994 |  2.4726014 |  0.861802 | 0 | 0 |\n",
       "| Abcc2 | -0.3106197 | -3.8326160 | -3.521996 | 0 | 0 |\n",
       "| Abcc3 |  1.8096731 |  0.6774089 | -1.132264 | 0 | 0 |\n",
       "| Abcc4 |  2.6411045 |  1.0325850 | -1.608520 | 0 | 0 |\n",
       "| Abcd3 |  1.8514176 |  0.3012823 | -1.550135 | 0 | 0 |\n",
       "| Abhd17a |  0.9001339 |  1.9114717 |  1.011338 | 0 | 0 |\n",
       "\n"
      ],
      "text/plain": [
       "              unt.transcription tgfb.transcription\n",
       "4930402H24Rik  1.6107994         2.4726014        \n",
       "Abcc2         -0.3106197        -3.8326160        \n",
       "Abcc3          1.8096731         0.6774089        \n",
       "Abcc4          2.6411045         1.0325850        \n",
       "Abcd3          1.8514176         0.3012823        \n",
       "Abhd17a        0.9001339         1.9114717        \n",
       "              log2FCuntVStgfb.transcription FDRuntVStgfb.transcription\n",
       "4930402H24Rik  0.861802                     0                         \n",
       "Abcc2         -3.521996                     0                         \n",
       "Abcc3         -1.132264                     0                         \n",
       "Abcc4         -1.608520                     0                         \n",
       "Abcd3         -1.550135                     0                         \n",
       "Abhd17a        1.011338                     0                         \n",
       "              PuntVStgfb.transcription\n",
       "4930402H24Rik 0                       \n",
       "Abcc2         0                       \n",
       "Abcc3         0                       \n",
       "Abcc4         0                       \n",
       "Abcd3         0                       \n",
       "Abhd17a       0                       "
      ]
     },
     "metadata": {},
     "output_type": "display_data"
    },
    {
     "data": {
      "text/html": [
       "<style>\n",
       ".list-inline {list-style: none; margin:0; padding: 0}\n",
       ".list-inline>li {display: inline-block}\n",
       ".list-inline>li:not(:last-child)::after {content: \"\\00b7\"; padding: 0 .5ex}\n",
       "</style>\n",
       "<ol class=list-inline><li>13006</li><li>5</li></ol>\n"
      ],
      "text/latex": [
       "\\begin{enumerate*}\n",
       "\\item 13006\n",
       "\\item 5\n",
       "\\end{enumerate*}\n"
      ],
      "text/markdown": [
       "1. 13006\n",
       "2. 5\n",
       "\n",
       "\n"
      ],
      "text/plain": [
       "[1] 13006     5"
      ]
     },
     "metadata": {},
     "output_type": "display_data"
    },
    {
     "name": "stdout",
     "output_type": "stream",
     "text": [
      "./out/limma-voom.mrna/170224.rdna_rn18s/NMuMG/blancgrp_211613_RNAseq_total_stranded.tgfb--vs--tgfbCX.all.txt.gz\n"
     ]
    },
    {
     "data": {
      "text/html": [
       "<table class=\"dataframe\">\n",
       "<caption>A data.frame: 6 × 5</caption>\n",
       "<thead>\n",
       "\t<tr><th></th><th scope=col>tgfb.transcription</th><th scope=col>tgfbCX5461.transcription</th><th scope=col>log2FCtgfbVStgfbCX5461.transcription</th><th scope=col>FDRtgfbVStgfbCX5461.transcription</th><th scope=col>PtgfbVStgfbCX5461.transcription</th></tr>\n",
       "\t<tr><th></th><th scope=col>&lt;dbl&gt;</th><th scope=col>&lt;dbl&gt;</th><th scope=col>&lt;dbl&gt;</th><th scope=col>&lt;dbl&gt;</th><th scope=col>&lt;dbl&gt;</th></tr>\n",
       "</thead>\n",
       "<tbody>\n",
       "\t<tr><th scope=row>Ccng1</th><td>2.024061</td><td>3.005395</td><td>0.9813342</td><td>0e+00</td><td>0</td></tr>\n",
       "\t<tr><th scope=row>Cdkn1a</th><td>1.201262</td><td>2.903427</td><td>1.7021649</td><td>0e+00</td><td>0</td></tr>\n",
       "\t<tr><th scope=row>Ctsd</th><td>5.208313</td><td>5.777468</td><td>0.5691555</td><td>1e-11</td><td>0</td></tr>\n",
       "\t<tr><th scope=row>Lce1g</th><td>2.005627</td><td>2.834313</td><td>0.8286863</td><td>1e-11</td><td>0</td></tr>\n",
       "\t<tr><th scope=row>Slco2a1</th><td>2.261261</td><td>3.028303</td><td>0.7670417</td><td>3e-11</td><td>0</td></tr>\n",
       "\t<tr><th scope=row>Itgb4</th><td>2.102091</td><td>2.894961</td><td>0.7928702</td><td>5e-11</td><td>0</td></tr>\n",
       "</tbody>\n",
       "</table>\n"
      ],
      "text/latex": [
       "A data.frame: 6 × 5\n",
       "\\begin{tabular}{r|lllll}\n",
       "  & tgfb.transcription & tgfbCX5461.transcription & log2FCtgfbVStgfbCX5461.transcription & FDRtgfbVStgfbCX5461.transcription & PtgfbVStgfbCX5461.transcription\\\\\n",
       "  & <dbl> & <dbl> & <dbl> & <dbl> & <dbl>\\\\\n",
       "\\hline\n",
       "\tCcng1 & 2.024061 & 3.005395 & 0.9813342 & 0e+00 & 0\\\\\n",
       "\tCdkn1a & 1.201262 & 2.903427 & 1.7021649 & 0e+00 & 0\\\\\n",
       "\tCtsd & 5.208313 & 5.777468 & 0.5691555 & 1e-11 & 0\\\\\n",
       "\tLce1g & 2.005627 & 2.834313 & 0.8286863 & 1e-11 & 0\\\\\n",
       "\tSlco2a1 & 2.261261 & 3.028303 & 0.7670417 & 3e-11 & 0\\\\\n",
       "\tItgb4 & 2.102091 & 2.894961 & 0.7928702 & 5e-11 & 0\\\\\n",
       "\\end{tabular}\n"
      ],
      "text/markdown": [
       "\n",
       "A data.frame: 6 × 5\n",
       "\n",
       "| <!--/--> | tgfb.transcription &lt;dbl&gt; | tgfbCX5461.transcription &lt;dbl&gt; | log2FCtgfbVStgfbCX5461.transcription &lt;dbl&gt; | FDRtgfbVStgfbCX5461.transcription &lt;dbl&gt; | PtgfbVStgfbCX5461.transcription &lt;dbl&gt; |\n",
       "|---|---|---|---|---|---|\n",
       "| Ccng1 | 2.024061 | 3.005395 | 0.9813342 | 0e+00 | 0 |\n",
       "| Cdkn1a | 1.201262 | 2.903427 | 1.7021649 | 0e+00 | 0 |\n",
       "| Ctsd | 5.208313 | 5.777468 | 0.5691555 | 1e-11 | 0 |\n",
       "| Lce1g | 2.005627 | 2.834313 | 0.8286863 | 1e-11 | 0 |\n",
       "| Slco2a1 | 2.261261 | 3.028303 | 0.7670417 | 3e-11 | 0 |\n",
       "| Itgb4 | 2.102091 | 2.894961 | 0.7928702 | 5e-11 | 0 |\n",
       "\n"
      ],
      "text/plain": [
       "        tgfb.transcription tgfbCX5461.transcription\n",
       "Ccng1   2.024061           3.005395                \n",
       "Cdkn1a  1.201262           2.903427                \n",
       "Ctsd    5.208313           5.777468                \n",
       "Lce1g   2.005627           2.834313                \n",
       "Slco2a1 2.261261           3.028303                \n",
       "Itgb4   2.102091           2.894961                \n",
       "        log2FCtgfbVStgfbCX5461.transcription FDRtgfbVStgfbCX5461.transcription\n",
       "Ccng1   0.9813342                            0e+00                            \n",
       "Cdkn1a  1.7021649                            0e+00                            \n",
       "Ctsd    0.5691555                            1e-11                            \n",
       "Lce1g   0.8286863                            1e-11                            \n",
       "Slco2a1 0.7670417                            3e-11                            \n",
       "Itgb4   0.7928702                            5e-11                            \n",
       "        PtgfbVStgfbCX5461.transcription\n",
       "Ccng1   0                              \n",
       "Cdkn1a  0                              \n",
       "Ctsd    0                              \n",
       "Lce1g   0                              \n",
       "Slco2a1 0                              \n",
       "Itgb4   0                              "
      ]
     },
     "metadata": {},
     "output_type": "display_data"
    },
    {
     "data": {
      "text/html": [
       "<style>\n",
       ".list-inline {list-style: none; margin:0; padding: 0}\n",
       ".list-inline>li {display: inline-block}\n",
       ".list-inline>li:not(:last-child)::after {content: \"\\00b7\"; padding: 0 .5ex}\n",
       "</style>\n",
       "<ol class=list-inline><li>13006</li><li>5</li></ol>\n"
      ],
      "text/latex": [
       "\\begin{enumerate*}\n",
       "\\item 13006\n",
       "\\item 5\n",
       "\\end{enumerate*}\n"
      ],
      "text/markdown": [
       "1. 13006\n",
       "2. 5\n",
       "\n",
       "\n"
      ],
      "text/plain": [
       "[1] 13006     5"
      ]
     },
     "metadata": {},
     "output_type": "display_data"
    },
    {
     "data": {
      "text/html": [
       "<table class=\"dataframe\">\n",
       "<caption>A data.frame: 1 × 12</caption>\n",
       "<thead>\n",
       "\t<tr><th></th><th scope=col>unt.transcription</th><th scope=col>tgfb.transcription</th><th scope=col>tgfbCX5461.transcription</th><th scope=col>log2FCuntVStgfb.transcription</th><th scope=col>FDRuntVStgfb.transcription</th><th scope=col>PuntVStgfb.transcription</th><th scope=col>log2FCtgfbVStgfbCX5461.transcription</th><th scope=col>FDRtgfbVStgfbCX5461.transcription</th><th scope=col>PtgfbVStgfbCX5461.transcription</th><th scope=col>unt.tgfb.DEtranscription</th><th scope=col>tgfb.tgfbCX5461.DEtranscription</th><th scope=col>reversible.transcription</th></tr>\n",
       "\t<tr><th></th><th scope=col>&lt;dbl&gt;</th><th scope=col>&lt;dbl&gt;</th><th scope=col>&lt;dbl&gt;</th><th scope=col>&lt;dbl&gt;</th><th scope=col>&lt;dbl&gt;</th><th scope=col>&lt;dbl&gt;</th><th scope=col>&lt;dbl&gt;</th><th scope=col>&lt;dbl&gt;</th><th scope=col>&lt;dbl&gt;</th><th scope=col>&lt;chr&gt;</th><th scope=col>&lt;chr&gt;</th><th scope=col>&lt;chr&gt;</th></tr>\n",
       "</thead>\n",
       "<tbody>\n",
       "\t<tr><th scope=row>Abcc2</th><td>-0.3106197</td><td>-3.832616</td><td>-3.871377</td><td>-3.521996</td><td>0</td><td>0</td><td>-0.03876149</td><td>0.9709617</td><td>0.9282336</td><td>down</td><td>notSig</td><td>notSig</td></tr>\n",
       "</tbody>\n",
       "</table>\n"
      ],
      "text/latex": [
       "A data.frame: 1 × 12\n",
       "\\begin{tabular}{r|llllllllllll}\n",
       "  & unt.transcription & tgfb.transcription & tgfbCX5461.transcription & log2FCuntVStgfb.transcription & FDRuntVStgfb.transcription & PuntVStgfb.transcription & log2FCtgfbVStgfbCX5461.transcription & FDRtgfbVStgfbCX5461.transcription & PtgfbVStgfbCX5461.transcription & unt.tgfb.DEtranscription & tgfb.tgfbCX5461.DEtranscription & reversible.transcription\\\\\n",
       "  & <dbl> & <dbl> & <dbl> & <dbl> & <dbl> & <dbl> & <dbl> & <dbl> & <dbl> & <chr> & <chr> & <chr>\\\\\n",
       "\\hline\n",
       "\tAbcc2 & -0.3106197 & -3.832616 & -3.871377 & -3.521996 & 0 & 0 & -0.03876149 & 0.9709617 & 0.9282336 & down & notSig & notSig\\\\\n",
       "\\end{tabular}\n"
      ],
      "text/markdown": [
       "\n",
       "A data.frame: 1 × 12\n",
       "\n",
       "| <!--/--> | unt.transcription &lt;dbl&gt; | tgfb.transcription &lt;dbl&gt; | tgfbCX5461.transcription &lt;dbl&gt; | log2FCuntVStgfb.transcription &lt;dbl&gt; | FDRuntVStgfb.transcription &lt;dbl&gt; | PuntVStgfb.transcription &lt;dbl&gt; | log2FCtgfbVStgfbCX5461.transcription &lt;dbl&gt; | FDRtgfbVStgfbCX5461.transcription &lt;dbl&gt; | PtgfbVStgfbCX5461.transcription &lt;dbl&gt; | unt.tgfb.DEtranscription &lt;chr&gt; | tgfb.tgfbCX5461.DEtranscription &lt;chr&gt; | reversible.transcription &lt;chr&gt; |\n",
       "|---|---|---|---|---|---|---|---|---|---|---|---|---|\n",
       "| Abcc2 | -0.3106197 | -3.832616 | -3.871377 | -3.521996 | 0 | 0 | -0.03876149 | 0.9709617 | 0.9282336 | down | notSig | notSig |\n",
       "\n"
      ],
      "text/plain": [
       "      unt.transcription tgfb.transcription tgfbCX5461.transcription\n",
       "Abcc2 -0.3106197        -3.832616          -3.871377               \n",
       "      log2FCuntVStgfb.transcription FDRuntVStgfb.transcription\n",
       "Abcc2 -3.521996                     0                         \n",
       "      PuntVStgfb.transcription log2FCtgfbVStgfbCX5461.transcription\n",
       "Abcc2 0                        -0.03876149                         \n",
       "      FDRtgfbVStgfbCX5461.transcription PtgfbVStgfbCX5461.transcription\n",
       "Abcc2 0.9709617                         0.9282336                      \n",
       "      unt.tgfb.DEtranscription tgfb.tgfbCX5461.DEtranscription\n",
       "Abcc2 down                     notSig                         \n",
       "      reversible.transcription\n",
       "Abcc2 notSig                  "
      ]
     },
     "metadata": {},
     "output_type": "display_data"
    },
    {
     "data": {
      "text/html": [
       "<style>\n",
       ".list-inline {list-style: none; margin:0; padding: 0}\n",
       ".list-inline>li {display: inline-block}\n",
       ".list-inline>li:not(:last-child)::after {content: \"\\00b7\"; padding: 0 .5ex}\n",
       "</style>\n",
       "<ol class=list-inline><li>13006</li><li>12</li></ol>\n"
      ],
      "text/latex": [
       "\\begin{enumerate*}\n",
       "\\item 13006\n",
       "\\item 12\n",
       "\\end{enumerate*}\n"
      ],
      "text/markdown": [
       "1. 13006\n",
       "2. 12\n",
       "\n",
       "\n"
      ],
      "text/plain": [
       "[1] 13006    12"
      ]
     },
     "metadata": {},
     "output_type": "display_data"
    }
   ],
   "source": [
    "# Randall totalRNA \n",
    "# log2cpm\n",
    "fname_in <- sprintf(\"%s/blancgrp_211613_RNAseq_total_stranded.log2cpm.txt.gz\", dir_rnaseq)\n",
    "verb('%s\\n', fname_in)\n",
    "df_log2cpm <- read.table(file=fname_in, \n",
    "                header=TRUE, sep=\"\\t\", row.names=1,\n",
    "                quote=\"\", comment.char=\"#\", stringsAsFactors=F)\n",
    "colnames(df_log2cpm) <- c('unt.transcription','tgfb.transcription','tgfbCX5461.transcription')\n",
    "\n",
    "if (!is.null(pattern_remove_gene)) {\n",
    "  dim(df_log2cpm)\n",
    "  df_log2cpm <- df_log2cpm[!grepl(pattern_remove_gene, rownames(df_log2cpm)),]\n",
    "}\n",
    "head(df_log2cpm)\n",
    "dim(df_log2cpm)\n",
    "\n",
    "fname_in <- sprintf(\"%s/blancgrp_211613_RNAseq_total_stranded.unt--vs--tgfb.all.txt.gz\", dir_rnaseq)\n",
    "verb('%s\\n', fname_in)\n",
    "df_mrna <- read.table(file=fname_in, \n",
    "                header=TRUE, sep=\"\\t\", row.names=1,\n",
    "                quote=\"\", comment.char=\"#\", stringsAsFactors=F)\n",
    "colnames(df_mrna) <- c('unt.transcription','tgfb.transcription',\n",
    "                       'log2FCuntVStgfb.transcription','FDRuntVStgfb.transcription',\n",
    "                       'PuntVStgfb.transcription')\n",
    "\n",
    "if (!is.null(pattern_remove_gene)) {\n",
    "  dim(df_mrna)\n",
    "  df_mrna <- df_mrna[!grepl(pattern_remove_gene, rownames(df_mrna)),]\n",
    "}\n",
    "head(df_mrna)\n",
    "dim(df_mrna)\n",
    "\n",
    "fname_in <- sprintf(\"%s/blancgrp_211613_RNAseq_total_stranded.tgfb--vs--tgfbCX.all.txt.gz\", dir_rnaseq)\n",
    "verb('%s\\n', fname_in)\n",
    "df_mrna_cx <- read.table(file=fname_in, \n",
    "                header=TRUE, sep=\"\\t\", row.names=1,\n",
    "                quote=\"\", comment.char=\"#\", stringsAsFactors=F)\n",
    "colnames(df_mrna_cx) <- c('tgfb.transcription','tgfbCX5461.transcription',\n",
    "                          'log2FCtgfbVStgfbCX5461.transcription','FDRtgfbVStgfbCX5461.transcription',\n",
    "                          'PtgfbVStgfbCX5461.transcription')\n",
    "\n",
    "if (!is.null(pattern_remove_gene)) {\n",
    "  dim(df_mrna_cx)\n",
    "  df_mrna_cx <- df_mrna_cx[!grepl(pattern_remove_gene, rownames(df_mrna_cx)),]\n",
    "}\n",
    "head(df_mrna_cx)\n",
    "dim(df_mrna_cx)\n",
    "\n",
    "# https://adairama.wordpress.com/2017/11/22/how-to-merge-multiple-datasets-in-r-based-on-row-names/\n",
    "mylist <- list(df_log2cpm[,c('unt.transcription','tgfb.transcription','tgfbCX5461.transcription')],\n",
    "                df_mrna[,c('log2FCuntVStgfb.transcription',\n",
    "                           'FDRuntVStgfb.transcription',\n",
    "                           'PuntVStgfb.transcription')],\n",
    "                df_mrna_cx[,c('log2FCtgfbVStgfbCX5461.transcription',\n",
    "                           'FDRtgfbVStgfbCX5461.transcription',\n",
    "                           'PtgfbVStgfbCX5461.transcription')])\n",
    "for(i in 1:length(mylist)){\n",
    "  #colnames(mylist[[i]]) <- paste0( names(mylist)[i], \"_\", colnames(mylist[[i]]) )\n",
    "  mylist[[i]]$ROWNAMES  <- rownames(mylist[[i]])\n",
    "}\n",
    "df_transcription <- plyr::join_all(mylist, by=\"ROWNAMES\", type=\"full\")\n",
    "rownames(df_transcription) <- df_transcription$ROWNAMES; df_transcription$ROWNAMES <- NULL\n",
    "\n",
    "\n",
    "df_transcription$unt.tgfb.DEtranscription <- 'notSig'\n",
    "df_transcription$tgfb.tgfbCX5461.DEtranscription <- 'notSig'\n",
    "df_transcription$reversible.transcription <- 'notSig'\n",
    "\n",
    "f_up <- df_transcription$log2FCuntVStgfb.transcription > th_log2fc & df_transcription$FDRuntVStgfb.transcription < th_adj_pvalue\n",
    "f_dn <- df_transcription$log2FCtgfbVStgfbCX5461.transcription < -th_log2fc & df_transcription$FDRtgfbVStgfbCX5461.transcription < th_adj_pvalue\n",
    "df_transcription$unt.tgfb.DEtranscription[f_up] <- 'up'\n",
    "df_transcription$tgfb.tgfbCX5461.DEtranscription[f_dn] <- 'down'\n",
    "df_transcription$reversible.transcription[f_up & f_dn] <- 'upDown'\n",
    "\n",
    "f_dn <- df_transcription$log2FCuntVStgfb.transcription < -th_log2fc & df_transcription$FDRuntVStgfb.transcription < th_adj_pvalue\n",
    "f_up <- df_transcription$log2FCtgfbVStgfbCX5461.transcription > th_log2fc & df_transcription$FDRtgfbVStgfbCX5461.transcription < th_adj_pvalue\n",
    "df_transcription$unt.tgfb.DEtranscription[f_dn] <- 'down'\n",
    "df_transcription$tgfb.tgfbCX5461.DEtranscription[f_up] <- 'up'\n",
    "df_transcription$reversible.transcription[f_dn & f_up] <- 'downUp'\n",
    "\n",
    "#tail(df_transcription)\n",
    "df_transcription[c('Abcc2'),]\n",
    "dim(df_transcription)"
   ]
  },
  {
   "cell_type": "markdown",
   "metadata": {},
   "source": [
    "# df_translation"
   ]
  },
  {
   "cell_type": "code",
   "execution_count": 291,
   "metadata": {},
   "outputs": [
    {
     "name": "stdout",
     "output_type": "stream",
     "text": [
      "./out/limma-voom.mrna/161021.rdna_rn18s/NMuMG/blancgrp_161021_Riboseq.log2cpm.txt.gz\n"
     ]
    },
    {
     "data": {
      "text/html": [
       "<table class=\"dataframe\">\n",
       "<caption>A data.frame: 6 × 3</caption>\n",
       "<thead>\n",
       "\t<tr><th></th><th scope=col>unt.translation</th><th scope=col>tgfb.translation</th><th scope=col>tgfbCX5461.translation</th></tr>\n",
       "\t<tr><th></th><th scope=col>&lt;dbl&gt;</th><th scope=col>&lt;dbl&gt;</th><th scope=col>&lt;dbl&gt;</th></tr>\n",
       "</thead>\n",
       "<tbody>\n",
       "\t<tr><th scope=row>0610009B22Rik</th><td>-0.1209301</td><td>-0.5623582</td><td> 0.4593551</td></tr>\n",
       "\t<tr><th scope=row>0610010F05Rik</th><td>-1.4390170</td><td>-1.1130376</td><td>-1.8999308</td></tr>\n",
       "\t<tr><th scope=row>0610010K14Rik</th><td>-0.7062234</td><td>-2.1409318</td><td>-0.6268219</td></tr>\n",
       "\t<tr><th scope=row>0610012G03Rik</th><td> 0.2537944</td><td>-0.2992177</td><td>-0.2840107</td></tr>\n",
       "\t<tr><th scope=row>0610040J01Rik</th><td>-2.6671038</td><td>-3.6173387</td><td>-3.7617905</td></tr>\n",
       "\t<tr><th scope=row>1110002E22Rik</th><td>-1.7847344</td><td>-2.3942601</td><td>-5.1504356</td></tr>\n",
       "</tbody>\n",
       "</table>\n"
      ],
      "text/latex": [
       "A data.frame: 6 × 3\n",
       "\\begin{tabular}{r|lll}\n",
       "  & unt.translation & tgfb.translation & tgfbCX5461.translation\\\\\n",
       "  & <dbl> & <dbl> & <dbl>\\\\\n",
       "\\hline\n",
       "\t0610009B22Rik & -0.1209301 & -0.5623582 &  0.4593551\\\\\n",
       "\t0610010F05Rik & -1.4390170 & -1.1130376 & -1.8999308\\\\\n",
       "\t0610010K14Rik & -0.7062234 & -2.1409318 & -0.6268219\\\\\n",
       "\t0610012G03Rik &  0.2537944 & -0.2992177 & -0.2840107\\\\\n",
       "\t0610040J01Rik & -2.6671038 & -3.6173387 & -3.7617905\\\\\n",
       "\t1110002E22Rik & -1.7847344 & -2.3942601 & -5.1504356\\\\\n",
       "\\end{tabular}\n"
      ],
      "text/markdown": [
       "\n",
       "A data.frame: 6 × 3\n",
       "\n",
       "| <!--/--> | unt.translation &lt;dbl&gt; | tgfb.translation &lt;dbl&gt; | tgfbCX5461.translation &lt;dbl&gt; |\n",
       "|---|---|---|---|\n",
       "| 0610009B22Rik | -0.1209301 | -0.5623582 |  0.4593551 |\n",
       "| 0610010F05Rik | -1.4390170 | -1.1130376 | -1.8999308 |\n",
       "| 0610010K14Rik | -0.7062234 | -2.1409318 | -0.6268219 |\n",
       "| 0610012G03Rik |  0.2537944 | -0.2992177 | -0.2840107 |\n",
       "| 0610040J01Rik | -2.6671038 | -3.6173387 | -3.7617905 |\n",
       "| 1110002E22Rik | -1.7847344 | -2.3942601 | -5.1504356 |\n",
       "\n"
      ],
      "text/plain": [
       "              unt.translation tgfb.translation tgfbCX5461.translation\n",
       "0610009B22Rik -0.1209301      -0.5623582        0.4593551            \n",
       "0610010F05Rik -1.4390170      -1.1130376       -1.8999308            \n",
       "0610010K14Rik -0.7062234      -2.1409318       -0.6268219            \n",
       "0610012G03Rik  0.2537944      -0.2992177       -0.2840107            \n",
       "0610040J01Rik -2.6671038      -3.6173387       -3.7617905            \n",
       "1110002E22Rik -1.7847344      -2.3942601       -5.1504356            "
      ]
     },
     "metadata": {},
     "output_type": "display_data"
    },
    {
     "data": {
      "text/html": [
       "<style>\n",
       ".list-inline {list-style: none; margin:0; padding: 0}\n",
       ".list-inline>li {display: inline-block}\n",
       ".list-inline>li:not(:last-child)::after {content: \"\\00b7\"; padding: 0 .5ex}\n",
       "</style>\n",
       "<ol class=list-inline><li>11998</li><li>3</li></ol>\n"
      ],
      "text/latex": [
       "\\begin{enumerate*}\n",
       "\\item 11998\n",
       "\\item 3\n",
       "\\end{enumerate*}\n"
      ],
      "text/markdown": [
       "1. 11998\n",
       "2. 3\n",
       "\n",
       "\n"
      ],
      "text/plain": [
       "[1] 11998     3"
      ]
     },
     "metadata": {},
     "output_type": "display_data"
    },
    {
     "name": "stdout",
     "output_type": "stream",
     "text": [
      "./out/limma-voom.mrna/161021.rdna_rn18s/NMuMG/blancgrp_161021_Riboseq.unt48--vs--tgfb48.all.txt.gz\n"
     ]
    },
    {
     "data": {
      "text/html": [
       "<table class=\"dataframe\">\n",
       "<caption>A data.frame: 6 × 5</caption>\n",
       "<thead>\n",
       "\t<tr><th></th><th scope=col>unt.translation</th><th scope=col>tgfb.translation</th><th scope=col>log2FCuntVStgfb.translation</th><th scope=col>FDRuntVStgfb.translation</th><th scope=col>PuntVStgfb.translation</th></tr>\n",
       "\t<tr><th></th><th scope=col>&lt;dbl&gt;</th><th scope=col>&lt;dbl&gt;</th><th scope=col>&lt;dbl&gt;</th><th scope=col>&lt;dbl&gt;</th><th scope=col>&lt;dbl&gt;</th></tr>\n",
       "</thead>\n",
       "<tbody>\n",
       "\t<tr><th scope=row>Actb</th><td>8.246082</td><td>8.876540</td><td> 0.6304577</td><td>0</td><td>0</td></tr>\n",
       "\t<tr><th scope=row>Actn1</th><td>3.156675</td><td>4.771428</td><td> 1.6147534</td><td>0</td><td>0</td></tr>\n",
       "\t<tr><th scope=row>Aldoa</th><td>6.209498</td><td>5.230513</td><td>-0.9789853</td><td>0</td><td>0</td></tr>\n",
       "\t<tr><th scope=row>Ankrd1</th><td>4.963155</td><td>6.810945</td><td> 1.8477894</td><td>0</td><td>0</td></tr>\n",
       "\t<tr><th scope=row>Anxa4</th><td>4.540031</td><td>2.988093</td><td>-1.5519384</td><td>0</td><td>0</td></tr>\n",
       "\t<tr><th scope=row>Apob</th><td>5.403923</td><td>6.689152</td><td> 1.2852282</td><td>0</td><td>0</td></tr>\n",
       "</tbody>\n",
       "</table>\n"
      ],
      "text/latex": [
       "A data.frame: 6 × 5\n",
       "\\begin{tabular}{r|lllll}\n",
       "  & unt.translation & tgfb.translation & log2FCuntVStgfb.translation & FDRuntVStgfb.translation & PuntVStgfb.translation\\\\\n",
       "  & <dbl> & <dbl> & <dbl> & <dbl> & <dbl>\\\\\n",
       "\\hline\n",
       "\tActb & 8.246082 & 8.876540 &  0.6304577 & 0 & 0\\\\\n",
       "\tActn1 & 3.156675 & 4.771428 &  1.6147534 & 0 & 0\\\\\n",
       "\tAldoa & 6.209498 & 5.230513 & -0.9789853 & 0 & 0\\\\\n",
       "\tAnkrd1 & 4.963155 & 6.810945 &  1.8477894 & 0 & 0\\\\\n",
       "\tAnxa4 & 4.540031 & 2.988093 & -1.5519384 & 0 & 0\\\\\n",
       "\tApob & 5.403923 & 6.689152 &  1.2852282 & 0 & 0\\\\\n",
       "\\end{tabular}\n"
      ],
      "text/markdown": [
       "\n",
       "A data.frame: 6 × 5\n",
       "\n",
       "| <!--/--> | unt.translation &lt;dbl&gt; | tgfb.translation &lt;dbl&gt; | log2FCuntVStgfb.translation &lt;dbl&gt; | FDRuntVStgfb.translation &lt;dbl&gt; | PuntVStgfb.translation &lt;dbl&gt; |\n",
       "|---|---|---|---|---|---|\n",
       "| Actb | 8.246082 | 8.876540 |  0.6304577 | 0 | 0 |\n",
       "| Actn1 | 3.156675 | 4.771428 |  1.6147534 | 0 | 0 |\n",
       "| Aldoa | 6.209498 | 5.230513 | -0.9789853 | 0 | 0 |\n",
       "| Ankrd1 | 4.963155 | 6.810945 |  1.8477894 | 0 | 0 |\n",
       "| Anxa4 | 4.540031 | 2.988093 | -1.5519384 | 0 | 0 |\n",
       "| Apob | 5.403923 | 6.689152 |  1.2852282 | 0 | 0 |\n",
       "\n"
      ],
      "text/plain": [
       "       unt.translation tgfb.translation log2FCuntVStgfb.translation\n",
       "Actb   8.246082        8.876540          0.6304577                 \n",
       "Actn1  3.156675        4.771428          1.6147534                 \n",
       "Aldoa  6.209498        5.230513         -0.9789853                 \n",
       "Ankrd1 4.963155        6.810945          1.8477894                 \n",
       "Anxa4  4.540031        2.988093         -1.5519384                 \n",
       "Apob   5.403923        6.689152          1.2852282                 \n",
       "       FDRuntVStgfb.translation PuntVStgfb.translation\n",
       "Actb   0                        0                     \n",
       "Actn1  0                        0                     \n",
       "Aldoa  0                        0                     \n",
       "Ankrd1 0                        0                     \n",
       "Anxa4  0                        0                     \n",
       "Apob   0                        0                     "
      ]
     },
     "metadata": {},
     "output_type": "display_data"
    },
    {
     "data": {
      "text/html": [
       "<style>\n",
       ".list-inline {list-style: none; margin:0; padding: 0}\n",
       ".list-inline>li {display: inline-block}\n",
       ".list-inline>li:not(:last-child)::after {content: \"\\00b7\"; padding: 0 .5ex}\n",
       "</style>\n",
       "<ol class=list-inline><li>11998</li><li>5</li></ol>\n"
      ],
      "text/latex": [
       "\\begin{enumerate*}\n",
       "\\item 11998\n",
       "\\item 5\n",
       "\\end{enumerate*}\n"
      ],
      "text/markdown": [
       "1. 11998\n",
       "2. 5\n",
       "\n",
       "\n"
      ],
      "text/plain": [
       "[1] 11998     5"
      ]
     },
     "metadata": {},
     "output_type": "display_data"
    },
    {
     "name": "stdout",
     "output_type": "stream",
     "text": [
      "./out/limma-voom.mrna/161021.rdna_rn18s/NMuMG/blancgrp_161021_Riboseq.tgfb48--vs--tgfbCX5461.all.txt.gz\n"
     ]
    },
    {
     "data": {
      "text/html": [
       "<table class=\"dataframe\">\n",
       "<caption>A data.frame: 6 × 5</caption>\n",
       "<thead>\n",
       "\t<tr><th></th><th scope=col>tgfb.translation</th><th scope=col>tgfbCX5461.translation</th><th scope=col>log2FCtgfbVStgfbCX5461.translation</th><th scope=col>FDRtgfbVStgfbCX5461.translation</th><th scope=col>PtgfbVStgfbCX5461.translation</th></tr>\n",
       "\t<tr><th></th><th scope=col>&lt;dbl&gt;</th><th scope=col>&lt;dbl&gt;</th><th scope=col>&lt;dbl&gt;</th><th scope=col>&lt;dbl&gt;</th><th scope=col>&lt;dbl&gt;</th></tr>\n",
       "</thead>\n",
       "<tbody>\n",
       "\t<tr><th scope=row>Atf3</th><td>3.385307</td><td>5.081134</td><td> 1.695826</td><td>0</td><td>0</td></tr>\n",
       "\t<tr><th scope=row>Ccn2</th><td>7.709552</td><td>6.451640</td><td>-1.257912</td><td>0</td><td>0</td></tr>\n",
       "\t<tr><th scope=row>Gm10616</th><td>5.937916</td><td>3.850963</td><td>-2.086953</td><td>0</td><td>0</td></tr>\n",
       "\t<tr><th scope=row>Gm29371</th><td>5.548829</td><td>2.816191</td><td>-2.732638</td><td>0</td><td>0</td></tr>\n",
       "\t<tr><th scope=row>Gm49450</th><td>2.970223</td><td>4.930980</td><td> 1.960757</td><td>0</td><td>0</td></tr>\n",
       "\t<tr><th scope=row>Krt8</th><td>7.227771</td><td>6.438771</td><td>-0.789000</td><td>0</td><td>0</td></tr>\n",
       "</tbody>\n",
       "</table>\n"
      ],
      "text/latex": [
       "A data.frame: 6 × 5\n",
       "\\begin{tabular}{r|lllll}\n",
       "  & tgfb.translation & tgfbCX5461.translation & log2FCtgfbVStgfbCX5461.translation & FDRtgfbVStgfbCX5461.translation & PtgfbVStgfbCX5461.translation\\\\\n",
       "  & <dbl> & <dbl> & <dbl> & <dbl> & <dbl>\\\\\n",
       "\\hline\n",
       "\tAtf3 & 3.385307 & 5.081134 &  1.695826 & 0 & 0\\\\\n",
       "\tCcn2 & 7.709552 & 6.451640 & -1.257912 & 0 & 0\\\\\n",
       "\tGm10616 & 5.937916 & 3.850963 & -2.086953 & 0 & 0\\\\\n",
       "\tGm29371 & 5.548829 & 2.816191 & -2.732638 & 0 & 0\\\\\n",
       "\tGm49450 & 2.970223 & 4.930980 &  1.960757 & 0 & 0\\\\\n",
       "\tKrt8 & 7.227771 & 6.438771 & -0.789000 & 0 & 0\\\\\n",
       "\\end{tabular}\n"
      ],
      "text/markdown": [
       "\n",
       "A data.frame: 6 × 5\n",
       "\n",
       "| <!--/--> | tgfb.translation &lt;dbl&gt; | tgfbCX5461.translation &lt;dbl&gt; | log2FCtgfbVStgfbCX5461.translation &lt;dbl&gt; | FDRtgfbVStgfbCX5461.translation &lt;dbl&gt; | PtgfbVStgfbCX5461.translation &lt;dbl&gt; |\n",
       "|---|---|---|---|---|---|\n",
       "| Atf3 | 3.385307 | 5.081134 |  1.695826 | 0 | 0 |\n",
       "| Ccn2 | 7.709552 | 6.451640 | -1.257912 | 0 | 0 |\n",
       "| Gm10616 | 5.937916 | 3.850963 | -2.086953 | 0 | 0 |\n",
       "| Gm29371 | 5.548829 | 2.816191 | -2.732638 | 0 | 0 |\n",
       "| Gm49450 | 2.970223 | 4.930980 |  1.960757 | 0 | 0 |\n",
       "| Krt8 | 7.227771 | 6.438771 | -0.789000 | 0 | 0 |\n",
       "\n"
      ],
      "text/plain": [
       "        tgfb.translation tgfbCX5461.translation\n",
       "Atf3    3.385307         5.081134              \n",
       "Ccn2    7.709552         6.451640              \n",
       "Gm10616 5.937916         3.850963              \n",
       "Gm29371 5.548829         2.816191              \n",
       "Gm49450 2.970223         4.930980              \n",
       "Krt8    7.227771         6.438771              \n",
       "        log2FCtgfbVStgfbCX5461.translation FDRtgfbVStgfbCX5461.translation\n",
       "Atf3     1.695826                          0                              \n",
       "Ccn2    -1.257912                          0                              \n",
       "Gm10616 -2.086953                          0                              \n",
       "Gm29371 -2.732638                          0                              \n",
       "Gm49450  1.960757                          0                              \n",
       "Krt8    -0.789000                          0                              \n",
       "        PtgfbVStgfbCX5461.translation\n",
       "Atf3    0                            \n",
       "Ccn2    0                            \n",
       "Gm10616 0                            \n",
       "Gm29371 0                            \n",
       "Gm49450 0                            \n",
       "Krt8    0                            "
      ]
     },
     "metadata": {},
     "output_type": "display_data"
    },
    {
     "data": {
      "text/html": [
       "<style>\n",
       ".list-inline {list-style: none; margin:0; padding: 0}\n",
       ".list-inline>li {display: inline-block}\n",
       ".list-inline>li:not(:last-child)::after {content: \"\\00b7\"; padding: 0 .5ex}\n",
       "</style>\n",
       "<ol class=list-inline><li>11998</li><li>5</li></ol>\n"
      ],
      "text/latex": [
       "\\begin{enumerate*}\n",
       "\\item 11998\n",
       "\\item 5\n",
       "\\end{enumerate*}\n"
      ],
      "text/markdown": [
       "1. 11998\n",
       "2. 5\n",
       "\n",
       "\n"
      ],
      "text/plain": [
       "[1] 11998     5"
      ]
     },
     "metadata": {},
     "output_type": "display_data"
    },
    {
     "data": {
      "text/html": [
       "<table class=\"dataframe\">\n",
       "<caption>A data.frame: 6 × 12</caption>\n",
       "<thead>\n",
       "\t<tr><th></th><th scope=col>unt.translation</th><th scope=col>tgfb.translation</th><th scope=col>tgfbCX5461.translation</th><th scope=col>log2FCuntVStgfb.translation</th><th scope=col>FDRuntVStgfb.translation</th><th scope=col>PuntVStgfb.translation</th><th scope=col>log2FCtgfbVStgfbCX5461.translation</th><th scope=col>FDRtgfbVStgfbCX5461.translation</th><th scope=col>PtgfbVStgfbCX5461.translation</th><th scope=col>unt.tgfb.DEtranslation</th><th scope=col>tgfb.tgfbCX5461.DEtranslation</th><th scope=col>reversible.translation</th></tr>\n",
       "\t<tr><th></th><th scope=col>&lt;dbl&gt;</th><th scope=col>&lt;dbl&gt;</th><th scope=col>&lt;dbl&gt;</th><th scope=col>&lt;dbl&gt;</th><th scope=col>&lt;dbl&gt;</th><th scope=col>&lt;dbl&gt;</th><th scope=col>&lt;dbl&gt;</th><th scope=col>&lt;dbl&gt;</th><th scope=col>&lt;dbl&gt;</th><th scope=col>&lt;chr&gt;</th><th scope=col>&lt;chr&gt;</th><th scope=col>&lt;chr&gt;</th></tr>\n",
       "</thead>\n",
       "<tbody>\n",
       "\t<tr><th scope=row>0610009B22Rik</th><td>-0.1209301</td><td>-0.5623582</td><td> 0.4593551</td><td>-0.4414281</td><td>0.30541555</td><td>0.14036813</td><td> 1.02171324</td><td>0.02919136</td><td>0.002929355</td><td>notSig</td><td>up    </td><td>notSig</td></tr>\n",
       "\t<tr><th scope=row>0610010F05Rik</th><td>-1.4390170</td><td>-1.1130376</td><td>-1.8999308</td><td> 0.3259794</td><td>0.64123254</td><td>0.45306626</td><td>-0.78689319</td><td>0.41800085</td><td>0.183428443</td><td>notSig</td><td>notSig</td><td>notSig</td></tr>\n",
       "\t<tr><th scope=row>0610010K14Rik</th><td>-0.7062234</td><td>-2.1409318</td><td>-0.6268219</td><td>-1.4347083</td><td>0.05167993</td><td>0.01144092</td><td> 1.51410985</td><td>0.07704533</td><td>0.012849451</td><td>notSig</td><td>notSig</td><td>notSig</td></tr>\n",
       "\t<tr><th scope=row>0610012G03Rik</th><td> 0.2537944</td><td>-0.2992177</td><td>-0.2840107</td><td>-0.5530121</td><td>0.13823240</td><td>0.04346982</td><td> 0.01520704</td><td>0.98121037</td><td>0.964044006</td><td>notSig</td><td>notSig</td><td>notSig</td></tr>\n",
       "\t<tr><th scope=row>0610040J01Rik</th><td>-2.6671038</td><td>-3.6173387</td><td>-3.7617905</td><td>-0.9502349</td><td>0.49047068</td><td>0.29624483</td><td>-0.14445185</td><td>0.95563779</td><td>0.908020836</td><td>notSig</td><td>notSig</td><td>notSig</td></tr>\n",
       "\t<tr><th scope=row>1110002E22Rik</th><td>-1.7847344</td><td>-2.3942601</td><td>-5.1504356</td><td>-0.6095257</td><td>0.49338400</td><td>0.29970843</td><td>-2.75617555</td><td>0.17439999</td><td>0.043534588</td><td>notSig</td><td>notSig</td><td>notSig</td></tr>\n",
       "</tbody>\n",
       "</table>\n"
      ],
      "text/latex": [
       "A data.frame: 6 × 12\n",
       "\\begin{tabular}{r|llllllllllll}\n",
       "  & unt.translation & tgfb.translation & tgfbCX5461.translation & log2FCuntVStgfb.translation & FDRuntVStgfb.translation & PuntVStgfb.translation & log2FCtgfbVStgfbCX5461.translation & FDRtgfbVStgfbCX5461.translation & PtgfbVStgfbCX5461.translation & unt.tgfb.DEtranslation & tgfb.tgfbCX5461.DEtranslation & reversible.translation\\\\\n",
       "  & <dbl> & <dbl> & <dbl> & <dbl> & <dbl> & <dbl> & <dbl> & <dbl> & <dbl> & <chr> & <chr> & <chr>\\\\\n",
       "\\hline\n",
       "\t0610009B22Rik & -0.1209301 & -0.5623582 &  0.4593551 & -0.4414281 & 0.30541555 & 0.14036813 &  1.02171324 & 0.02919136 & 0.002929355 & notSig & up     & notSig\\\\\n",
       "\t0610010F05Rik & -1.4390170 & -1.1130376 & -1.8999308 &  0.3259794 & 0.64123254 & 0.45306626 & -0.78689319 & 0.41800085 & 0.183428443 & notSig & notSig & notSig\\\\\n",
       "\t0610010K14Rik & -0.7062234 & -2.1409318 & -0.6268219 & -1.4347083 & 0.05167993 & 0.01144092 &  1.51410985 & 0.07704533 & 0.012849451 & notSig & notSig & notSig\\\\\n",
       "\t0610012G03Rik &  0.2537944 & -0.2992177 & -0.2840107 & -0.5530121 & 0.13823240 & 0.04346982 &  0.01520704 & 0.98121037 & 0.964044006 & notSig & notSig & notSig\\\\\n",
       "\t0610040J01Rik & -2.6671038 & -3.6173387 & -3.7617905 & -0.9502349 & 0.49047068 & 0.29624483 & -0.14445185 & 0.95563779 & 0.908020836 & notSig & notSig & notSig\\\\\n",
       "\t1110002E22Rik & -1.7847344 & -2.3942601 & -5.1504356 & -0.6095257 & 0.49338400 & 0.29970843 & -2.75617555 & 0.17439999 & 0.043534588 & notSig & notSig & notSig\\\\\n",
       "\\end{tabular}\n"
      ],
      "text/markdown": [
       "\n",
       "A data.frame: 6 × 12\n",
       "\n",
       "| <!--/--> | unt.translation &lt;dbl&gt; | tgfb.translation &lt;dbl&gt; | tgfbCX5461.translation &lt;dbl&gt; | log2FCuntVStgfb.translation &lt;dbl&gt; | FDRuntVStgfb.translation &lt;dbl&gt; | PuntVStgfb.translation &lt;dbl&gt; | log2FCtgfbVStgfbCX5461.translation &lt;dbl&gt; | FDRtgfbVStgfbCX5461.translation &lt;dbl&gt; | PtgfbVStgfbCX5461.translation &lt;dbl&gt; | unt.tgfb.DEtranslation &lt;chr&gt; | tgfb.tgfbCX5461.DEtranslation &lt;chr&gt; | reversible.translation &lt;chr&gt; |\n",
       "|---|---|---|---|---|---|---|---|---|---|---|---|---|\n",
       "| 0610009B22Rik | -0.1209301 | -0.5623582 |  0.4593551 | -0.4414281 | 0.30541555 | 0.14036813 |  1.02171324 | 0.02919136 | 0.002929355 | notSig | up     | notSig |\n",
       "| 0610010F05Rik | -1.4390170 | -1.1130376 | -1.8999308 |  0.3259794 | 0.64123254 | 0.45306626 | -0.78689319 | 0.41800085 | 0.183428443 | notSig | notSig | notSig |\n",
       "| 0610010K14Rik | -0.7062234 | -2.1409318 | -0.6268219 | -1.4347083 | 0.05167993 | 0.01144092 |  1.51410985 | 0.07704533 | 0.012849451 | notSig | notSig | notSig |\n",
       "| 0610012G03Rik |  0.2537944 | -0.2992177 | -0.2840107 | -0.5530121 | 0.13823240 | 0.04346982 |  0.01520704 | 0.98121037 | 0.964044006 | notSig | notSig | notSig |\n",
       "| 0610040J01Rik | -2.6671038 | -3.6173387 | -3.7617905 | -0.9502349 | 0.49047068 | 0.29624483 | -0.14445185 | 0.95563779 | 0.908020836 | notSig | notSig | notSig |\n",
       "| 1110002E22Rik | -1.7847344 | -2.3942601 | -5.1504356 | -0.6095257 | 0.49338400 | 0.29970843 | -2.75617555 | 0.17439999 | 0.043534588 | notSig | notSig | notSig |\n",
       "\n"
      ],
      "text/plain": [
       "              unt.translation tgfb.translation tgfbCX5461.translation\n",
       "0610009B22Rik -0.1209301      -0.5623582        0.4593551            \n",
       "0610010F05Rik -1.4390170      -1.1130376       -1.8999308            \n",
       "0610010K14Rik -0.7062234      -2.1409318       -0.6268219            \n",
       "0610012G03Rik  0.2537944      -0.2992177       -0.2840107            \n",
       "0610040J01Rik -2.6671038      -3.6173387       -3.7617905            \n",
       "1110002E22Rik -1.7847344      -2.3942601       -5.1504356            \n",
       "              log2FCuntVStgfb.translation FDRuntVStgfb.translation\n",
       "0610009B22Rik -0.4414281                  0.30541555              \n",
       "0610010F05Rik  0.3259794                  0.64123254              \n",
       "0610010K14Rik -1.4347083                  0.05167993              \n",
       "0610012G03Rik -0.5530121                  0.13823240              \n",
       "0610040J01Rik -0.9502349                  0.49047068              \n",
       "1110002E22Rik -0.6095257                  0.49338400              \n",
       "              PuntVStgfb.translation log2FCtgfbVStgfbCX5461.translation\n",
       "0610009B22Rik 0.14036813              1.02171324                       \n",
       "0610010F05Rik 0.45306626             -0.78689319                       \n",
       "0610010K14Rik 0.01144092              1.51410985                       \n",
       "0610012G03Rik 0.04346982              0.01520704                       \n",
       "0610040J01Rik 0.29624483             -0.14445185                       \n",
       "1110002E22Rik 0.29970843             -2.75617555                       \n",
       "              FDRtgfbVStgfbCX5461.translation PtgfbVStgfbCX5461.translation\n",
       "0610009B22Rik 0.02919136                      0.002929355                  \n",
       "0610010F05Rik 0.41800085                      0.183428443                  \n",
       "0610010K14Rik 0.07704533                      0.012849451                  \n",
       "0610012G03Rik 0.98121037                      0.964044006                  \n",
       "0610040J01Rik 0.95563779                      0.908020836                  \n",
       "1110002E22Rik 0.17439999                      0.043534588                  \n",
       "              unt.tgfb.DEtranslation tgfb.tgfbCX5461.DEtranslation\n",
       "0610009B22Rik notSig                 up                           \n",
       "0610010F05Rik notSig                 notSig                       \n",
       "0610010K14Rik notSig                 notSig                       \n",
       "0610012G03Rik notSig                 notSig                       \n",
       "0610040J01Rik notSig                 notSig                       \n",
       "1110002E22Rik notSig                 notSig                       \n",
       "              reversible.translation\n",
       "0610009B22Rik notSig                \n",
       "0610010F05Rik notSig                \n",
       "0610010K14Rik notSig                \n",
       "0610012G03Rik notSig                \n",
       "0610040J01Rik notSig                \n",
       "1110002E22Rik notSig                "
      ]
     },
     "metadata": {},
     "output_type": "display_data"
    },
    {
     "data": {
      "text/html": [
       "<style>\n",
       ".list-inline {list-style: none; margin:0; padding: 0}\n",
       ".list-inline>li {display: inline-block}\n",
       ".list-inline>li:not(:last-child)::after {content: \"\\00b7\"; padding: 0 .5ex}\n",
       "</style>\n",
       "<ol class=list-inline><li>11998</li><li>12</li></ol>\n"
      ],
      "text/latex": [
       "\\begin{enumerate*}\n",
       "\\item 11998\n",
       "\\item 12\n",
       "\\end{enumerate*}\n"
      ],
      "text/markdown": [
       "1. 11998\n",
       "2. 12\n",
       "\n",
       "\n"
      ],
      "text/plain": [
       "[1] 11998    12"
      ]
     },
     "metadata": {},
     "output_type": "display_data"
    }
   ],
   "source": [
    "\n",
    "fname_in <- sprintf(\"%s/blancgrp_161021_Riboseq.log2cpm.txt.gz\", dir_riboseq)\n",
    "verb('%s\\n', fname_in)\n",
    "df_log2cpm <- read.table(file=fname_in, \n",
    "                header=TRUE, sep=\"\\t\", row.names=1,\n",
    "                quote=\"\", comment.char=\"#\", stringsAsFactors=F)\n",
    "colnames(df_log2cpm) <- c('unt.translation','tgfb.translation','tgfbCX5461.translation')\n",
    "\n",
    "if (!is.null(pattern_remove_gene)) {\n",
    "  dim(df_log2cpm)\n",
    "  df_log2cpm <- df_log2cpm[!grepl(pattern_remove_gene, rownames(df_log2cpm)),]\n",
    "}\n",
    "head(df_log2cpm)\n",
    "dim(df_log2cpm)\n",
    "\n",
    "fname_in <- sprintf(\"%s/blancgrp_161021_Riboseq.unt48--vs--tgfb48.all.txt.gz\", dir_riboseq)\n",
    "verb('%s\\n', fname_in)\n",
    "df_ribo <- read.table(file=fname_in, \n",
    "                header=TRUE, sep=\"\\t\", row.names=1,\n",
    "                quote=\"\", comment.char=\"#\", stringsAsFactors=F)\n",
    "colnames(df_ribo) <- c('unt.translation','tgfb.translation',\n",
    "                       'log2FCuntVStgfb.translation','FDRuntVStgfb.translation',\n",
    "                       'PuntVStgfb.translation')\n",
    "\n",
    "if (!is.null(pattern_remove_gene)) {\n",
    "  dim(df_ribo)\n",
    "  df_ribo <- df_ribo[!grepl(pattern_remove_gene, rownames(df_ribo)),]\n",
    "}\n",
    "head(df_ribo)\n",
    "dim(df_ribo)\n",
    "\n",
    "fname_in <- sprintf(\"%s/blancgrp_161021_Riboseq.tgfb48--vs--tgfbCX5461.all.txt.gz\", dir_riboseq)\n",
    "verb('%s\\n', fname_in)\n",
    "df_ribo_cx <- read.table(file=fname_in, \n",
    "                header=TRUE, sep=\"\\t\", row.names=1,\n",
    "                quote=\"\", comment.char=\"#\", stringsAsFactors=F)\n",
    "colnames(df_ribo_cx) <- c('tgfb.translation','tgfbCX5461.translation',\n",
    "                          'log2FCtgfbVStgfbCX5461.translation','FDRtgfbVStgfbCX5461.translation',\n",
    "                          'PtgfbVStgfbCX5461.translation')\n",
    "\n",
    "if (!is.null(pattern_remove_gene)) {\n",
    "  dim(df_ribo_cx)\n",
    "  df_ribo_cx <- df_ribo_cx[!grepl(pattern_remove_gene, rownames(df_ribo_cx)),]\n",
    "}\n",
    "head(df_ribo_cx)\n",
    "dim(df_ribo_cx)\n",
    "\n",
    "# https://adairama.wordpress.com/2017/11/22/how-to-merge-multiple-datasets-in-r-based-on-row-names/\n",
    "mylist <- list(df_log2cpm[,c('unt.translation','tgfb.translation','tgfbCX5461.translation')],\n",
    "                df_ribo[,c('log2FCuntVStgfb.translation',\n",
    "                           'FDRuntVStgfb.translation',\n",
    "                           'PuntVStgfb.translation')],\n",
    "                df_ribo_cx[,c('log2FCtgfbVStgfbCX5461.translation',\n",
    "                           'FDRtgfbVStgfbCX5461.translation',\n",
    "                           'PtgfbVStgfbCX5461.translation')])\n",
    "for(i in 1:length(mylist)){\n",
    "  #colnames(mylist[[i]]) <- paste0( names(mylist)[i], \"_\", colnames(mylist[[i]]) )\n",
    "  mylist[[i]]$ROWNAMES  <- rownames(mylist[[i]])\n",
    "}\n",
    "df_translation <- plyr::join_all(mylist, by=\"ROWNAMES\", type=\"full\")\n",
    "rownames(df_translation) <- df_translation$ROWNAMES; df_translation$ROWNAMES <- NULL\n",
    "\n",
    "df_translation$unt.tgfb.DEtranslation <- 'notSig'\n",
    "df_translation$tgfb.tgfbCX5461.DEtranslation <- 'notSig'\n",
    "df_translation$reversible.translation <- 'notSig'\n",
    "\n",
    "f_up <- df_translation$log2FCuntVStgfb.translation > th_log2fc & df_translation$FDRuntVStgfb.translation < th_adj_pvalue\n",
    "f_dn <- df_translation$log2FCtgfbVStgfbCX5461.translation < -th_log2fc & df_translation$FDRtgfbVStgfbCX5461.translation < th_adj_pvalue\n",
    "df_translation$unt.tgfb.DEtranslation[f_up] <- 'up'\n",
    "df_translation$tgfb.tgfbCX5461.DEtranslation[f_dn] <- 'down'\n",
    "df_translation$reversible.translation[f_up & f_dn] <- 'upDown'\n",
    "\n",
    "f_dn <- df_translation$log2FCuntVStgfb.translation < -th_log2fc & df_translation$FDRuntVStgfb.translation < th_adj_pvalue\n",
    "f_up <- df_translation$log2FCtgfbVStgfbCX5461.translation > th_log2fc & df_translation$FDRtgfbVStgfbCX5461.translation < th_adj_pvalue\n",
    "df_translation$unt.tgfb.DEtranslation[f_dn] <- 'down'\n",
    "df_translation$tgfb.tgfbCX5461.DEtranslation[f_up] <- 'up'\n",
    "df_translation$reversible.translation[f_dn & f_up] <- 'downUp'\n",
    "\n",
    "head(df_translation)\n",
    "dim(df_translation)"
   ]
  },
  {
   "cell_type": "markdown",
   "metadata": {},
   "source": [
    "# df_all"
   ]
  },
  {
   "cell_type": "code",
   "execution_count": 292,
   "metadata": {},
   "outputs": [
    {
     "data": {
      "text/html": [
       "<table class=\"dataframe\">\n",
       "<caption>A matrix: 27 × 3 of type chr</caption>\n",
       "<thead>\n",
       "\t<tr><th></th><th scope=col>1</th><th scope=col>4</th><th scope=col>7</th></tr>\n",
       "</thead>\n",
       "<tbody>\n",
       "\t<tr><th scope=row>seqnames</th><td>1                 </td><td>1                   </td><td>1                   </td></tr>\n",
       "\t<tr><th scope=row>start</th><td>150956201         </td><td>150983666           </td><td>151012258           </td></tr>\n",
       "\t<tr><th scope=row>end</th><td>150958296         </td><td>150984611           </td><td>151013531           </td></tr>\n",
       "\t<tr><th scope=row>width</th><td>2096              </td><td> 946                </td><td>1274                </td></tr>\n",
       "\t<tr><th scope=row>strand</th><td>+                 </td><td>+                   </td><td>+                   </td></tr>\n",
       "\t<tr><th scope=row>source</th><td>havana            </td><td>havana              </td><td>havana              </td></tr>\n",
       "\t<tr><th scope=row>type</th><td>gene              </td><td>gene                </td><td>gene                </td></tr>\n",
       "\t<tr><th scope=row>score</th><td>NA                </td><td>NA                  </td><td>NA                  </td></tr>\n",
       "\t<tr><th scope=row>phase</th><td>NA                </td><td>NA                  </td><td>NA                  </td></tr>\n",
       "\t<tr><th scope=row>gene_id</th><td>ENSMUSG00000102628</td><td>ENSMUSG00000100595  </td><td>ENSMUSG00000097426  </td></tr>\n",
       "\t<tr><th scope=row>gene_version</th><td>2                 </td><td>2                   </td><td>2                   </td></tr>\n",
       "\t<tr><th scope=row>gene_name</th><td>Gm37671           </td><td>Gm19087             </td><td>Gm8941              </td></tr>\n",
       "\t<tr><th scope=row>gene_source</th><td>havana            </td><td>havana              </td><td>havana              </td></tr>\n",
       "\t<tr><th scope=row>gene_biotype</th><td>TEC               </td><td>processed_pseudogene</td><td>processed_pseudogene</td></tr>\n",
       "\t<tr><th scope=row>transcript_id</th><td>NA                </td><td>NA                  </td><td>NA                  </td></tr>\n",
       "\t<tr><th scope=row>transcript_version</th><td>NA                </td><td>NA                  </td><td>NA                  </td></tr>\n",
       "\t<tr><th scope=row>transcript_name</th><td>NA                </td><td>NA                  </td><td>NA                  </td></tr>\n",
       "\t<tr><th scope=row>transcript_source</th><td>NA                </td><td>NA                  </td><td>NA                  </td></tr>\n",
       "\t<tr><th scope=row>transcript_biotype</th><td>NA                </td><td>NA                  </td><td>NA                  </td></tr>\n",
       "\t<tr><th scope=row>tag</th><td>NA                </td><td>NA                  </td><td>NA                  </td></tr>\n",
       "\t<tr><th scope=row>transcript_support_level</th><td>NA                </td><td>NA                  </td><td>NA                  </td></tr>\n",
       "\t<tr><th scope=row>exon_number</th><td>NA                </td><td>NA                  </td><td>NA                  </td></tr>\n",
       "\t<tr><th scope=row>exon_id</th><td>NA                </td><td>NA                  </td><td>NA                  </td></tr>\n",
       "\t<tr><th scope=row>exon_version</th><td>NA                </td><td>NA                  </td><td>NA                  </td></tr>\n",
       "\t<tr><th scope=row>protein_id</th><td>NA                </td><td>NA                  </td><td>NA                  </td></tr>\n",
       "\t<tr><th scope=row>protein_version</th><td>NA                </td><td>NA                  </td><td>NA                  </td></tr>\n",
       "\t<tr><th scope=row>ccds_id</th><td>NA                </td><td>NA                  </td><td>NA                  </td></tr>\n",
       "</tbody>\n",
       "</table>\n"
      ],
      "text/latex": [
       "A matrix: 27 × 3 of type chr\n",
       "\\begin{tabular}{r|lll}\n",
       "  & 1 & 4 & 7\\\\\n",
       "\\hline\n",
       "\tseqnames & 1                  & 1                    & 1                   \\\\\n",
       "\tstart & 150956201          & 150983666            & 151012258           \\\\\n",
       "\tend & 150958296          & 150984611            & 151013531           \\\\\n",
       "\twidth & 2096               &  946                 & 1274                \\\\\n",
       "\tstrand & +                  & +                    & +                   \\\\\n",
       "\tsource & havana             & havana               & havana              \\\\\n",
       "\ttype & gene               & gene                 & gene                \\\\\n",
       "\tscore & NA                 & NA                   & NA                  \\\\\n",
       "\tphase & NA                 & NA                   & NA                  \\\\\n",
       "\tgene\\_id & ENSMUSG00000102628 & ENSMUSG00000100595   & ENSMUSG00000097426  \\\\\n",
       "\tgene\\_version & 2                  & 2                    & 2                   \\\\\n",
       "\tgene\\_name & Gm37671            & Gm19087              & Gm8941              \\\\\n",
       "\tgene\\_source & havana             & havana               & havana              \\\\\n",
       "\tgene\\_biotype & TEC                & processed\\_pseudogene & processed\\_pseudogene\\\\\n",
       "\ttranscript\\_id & NA                 & NA                   & NA                  \\\\\n",
       "\ttranscript\\_version & NA                 & NA                   & NA                  \\\\\n",
       "\ttranscript\\_name & NA                 & NA                   & NA                  \\\\\n",
       "\ttranscript\\_source & NA                 & NA                   & NA                  \\\\\n",
       "\ttranscript\\_biotype & NA                 & NA                   & NA                  \\\\\n",
       "\ttag & NA                 & NA                   & NA                  \\\\\n",
       "\ttranscript\\_support\\_level & NA                 & NA                   & NA                  \\\\\n",
       "\texon\\_number & NA                 & NA                   & NA                  \\\\\n",
       "\texon\\_id & NA                 & NA                   & NA                  \\\\\n",
       "\texon\\_version & NA                 & NA                   & NA                  \\\\\n",
       "\tprotein\\_id & NA                 & NA                   & NA                  \\\\\n",
       "\tprotein\\_version & NA                 & NA                   & NA                  \\\\\n",
       "\tccds\\_id & NA                 & NA                   & NA                  \\\\\n",
       "\\end{tabular}\n"
      ],
      "text/markdown": [
       "\n",
       "A matrix: 27 × 3 of type chr\n",
       "\n",
       "| <!--/--> | 1 | 4 | 7 |\n",
       "|---|---|---|---|\n",
       "| seqnames | 1                  | 1                    | 1                    |\n",
       "| start | 150956201          | 150983666            | 151012258            |\n",
       "| end | 150958296          | 150984611            | 151013531            |\n",
       "| width | 2096               |  946                 | 1274                 |\n",
       "| strand | +                  | +                    | +                    |\n",
       "| source | havana             | havana               | havana               |\n",
       "| type | gene               | gene                 | gene                 |\n",
       "| score | NA                 | NA                   | NA                   |\n",
       "| phase | NA                 | NA                   | NA                   |\n",
       "| gene_id | ENSMUSG00000102628 | ENSMUSG00000100595   | ENSMUSG00000097426   |\n",
       "| gene_version | 2                  | 2                    | 2                    |\n",
       "| gene_name | Gm37671            | Gm19087              | Gm8941               |\n",
       "| gene_source | havana             | havana               | havana               |\n",
       "| gene_biotype | TEC                | processed_pseudogene | processed_pseudogene |\n",
       "| transcript_id | NA                 | NA                   | NA                   |\n",
       "| transcript_version | NA                 | NA                   | NA                   |\n",
       "| transcript_name | NA                 | NA                   | NA                   |\n",
       "| transcript_source | NA                 | NA                   | NA                   |\n",
       "| transcript_biotype | NA                 | NA                   | NA                   |\n",
       "| tag | NA                 | NA                   | NA                   |\n",
       "| transcript_support_level | NA                 | NA                   | NA                   |\n",
       "| exon_number | NA                 | NA                   | NA                   |\n",
       "| exon_id | NA                 | NA                   | NA                   |\n",
       "| exon_version | NA                 | NA                   | NA                   |\n",
       "| protein_id | NA                 | NA                   | NA                   |\n",
       "| protein_version | NA                 | NA                   | NA                   |\n",
       "| ccds_id | NA                 | NA                   | NA                   |\n",
       "\n"
      ],
      "text/plain": [
       "                         1                  4                   \n",
       "seqnames                 1                  1                   \n",
       "start                    150956201          150983666           \n",
       "end                      150958296          150984611           \n",
       "width                    2096                946                \n",
       "strand                   +                  +                   \n",
       "source                   havana             havana              \n",
       "type                     gene               gene                \n",
       "score                    NA                 NA                  \n",
       "phase                    NA                 NA                  \n",
       "gene_id                  ENSMUSG00000102628 ENSMUSG00000100595  \n",
       "gene_version             2                  2                   \n",
       "gene_name                Gm37671            Gm19087             \n",
       "gene_source              havana             havana              \n",
       "gene_biotype             TEC                processed_pseudogene\n",
       "transcript_id            NA                 NA                  \n",
       "transcript_version       NA                 NA                  \n",
       "transcript_name          NA                 NA                  \n",
       "transcript_source        NA                 NA                  \n",
       "transcript_biotype       NA                 NA                  \n",
       "tag                      NA                 NA                  \n",
       "transcript_support_level NA                 NA                  \n",
       "exon_number              NA                 NA                  \n",
       "exon_id                  NA                 NA                  \n",
       "exon_version             NA                 NA                  \n",
       "protein_id               NA                 NA                  \n",
       "protein_version          NA                 NA                  \n",
       "ccds_id                  NA                 NA                  \n",
       "                         7                   \n",
       "seqnames                 1                   \n",
       "start                    151012258           \n",
       "end                      151013531           \n",
       "width                    1274                \n",
       "strand                   +                   \n",
       "source                   havana              \n",
       "type                     gene                \n",
       "score                    NA                  \n",
       "phase                    NA                  \n",
       "gene_id                  ENSMUSG00000097426  \n",
       "gene_version             2                   \n",
       "gene_name                Gm8941              \n",
       "gene_source              havana              \n",
       "gene_biotype             processed_pseudogene\n",
       "transcript_id            NA                  \n",
       "transcript_version       NA                  \n",
       "transcript_name          NA                  \n",
       "transcript_source        NA                  \n",
       "transcript_biotype       NA                  \n",
       "tag                      NA                  \n",
       "transcript_support_level NA                  \n",
       "exon_number              NA                  \n",
       "exon_id                  NA                  \n",
       "exon_version             NA                  \n",
       "protein_id               NA                  \n",
       "protein_version          NA                  \n",
       "ccds_id                  NA                  "
      ]
     },
     "metadata": {},
     "output_type": "display_data"
    }
   ],
   "source": [
    "t(df_gtf[1:3,])"
   ]
  },
  {
   "cell_type": "code",
   "execution_count": 293,
   "metadata": {},
   "outputs": [
    {
     "data": {
      "text/html": [
       "<table class=\"dataframe\">\n",
       "<caption>A data.frame: 6 × 31</caption>\n",
       "<thead>\n",
       "\t<tr><th></th><th scope=col>seqnames</th><th scope=col>start</th><th scope=col>end</th><th scope=col>width</th><th scope=col>strand</th><th scope=col>source</th><th scope=col>unt.transcription</th><th scope=col>tgfb.transcription</th><th scope=col>tgfbCX5461.transcription</th><th scope=col>log2FCuntVStgfb.transcription</th><th scope=col>...</th><th scope=col>log2FCuntVStgfb.translation</th><th scope=col>FDRuntVStgfb.translation</th><th scope=col>PuntVStgfb.translation</th><th scope=col>log2FCtgfbVStgfbCX5461.translation</th><th scope=col>FDRtgfbVStgfbCX5461.translation</th><th scope=col>PtgfbVStgfbCX5461.translation</th><th scope=col>unt.tgfb.DEtranslation</th><th scope=col>tgfb.tgfbCX5461.DEtranslation</th><th scope=col>reversible.translation</th><th scope=col>biotype</th></tr>\n",
       "\t<tr><th></th><th scope=col>&lt;fct&gt;</th><th scope=col>&lt;int&gt;</th><th scope=col>&lt;int&gt;</th><th scope=col>&lt;int&gt;</th><th scope=col>&lt;fct&gt;</th><th scope=col>&lt;fct&gt;</th><th scope=col>&lt;dbl&gt;</th><th scope=col>&lt;dbl&gt;</th><th scope=col>&lt;dbl&gt;</th><th scope=col>&lt;dbl&gt;</th><th scope=col>...</th><th scope=col>&lt;dbl&gt;</th><th scope=col>&lt;dbl&gt;</th><th scope=col>&lt;dbl&gt;</th><th scope=col>&lt;dbl&gt;</th><th scope=col>&lt;dbl&gt;</th><th scope=col>&lt;dbl&gt;</th><th scope=col>&lt;chr&gt;</th><th scope=col>&lt;chr&gt;</th><th scope=col>&lt;chr&gt;</th><th scope=col>&lt;chr&gt;</th></tr>\n",
       "</thead>\n",
       "<tbody>\n",
       "\t<tr><th scope=row>0610009B22Rik</th><td>11</td><td> 51576213</td><td> 51579701</td><td> 3489</td><td>-</td><td>ensembl_havana</td><td>-1.7361927</td><td>-1.77777696</td><td>-1.52337076</td><td>-0.04158431</td><td>...</td><td>-0.4414281</td><td>0.30541555</td><td>0.14036813</td><td> 1.02171324</td><td>0.02919136</td><td>0.002929355</td><td>notSig</td><td>up    </td><td>notSig</td><td>protein_coding</td></tr>\n",
       "\t<tr><th scope=row>0610009E02Rik</th><td>2 </td><td> 26335708</td><td> 26349402</td><td>13695</td><td>+</td><td>havana        </td><td>-4.4542278</td><td>-5.89842646</td><td>-5.22659361</td><td>-1.44419866</td><td>...</td><td>        NA</td><td>        NA</td><td>        NA</td><td>         NA</td><td>        NA</td><td>         NA</td><td>NA    </td><td>NA    </td><td>NA    </td><td>lncRNA        </td></tr>\n",
       "\t<tr><th scope=row>0610009L18Rik</th><td>11</td><td>120239504</td><td>120242016</td><td> 2513</td><td>+</td><td>ensembl_havana</td><td>-5.7348513</td><td>-5.04982074</td><td>-5.32317910</td><td> 0.68503055</td><td>...</td><td>        NA</td><td>        NA</td><td>        NA</td><td>         NA</td><td>        NA</td><td>         NA</td><td>NA    </td><td>NA    </td><td>NA    </td><td>lncRNA        </td></tr>\n",
       "\t<tr><th scope=row>0610010F05Rik</th><td>11</td><td> 23514961</td><td> 23583639</td><td>68679</td><td>-</td><td>ensembl_havana</td><td>-0.5443124</td><td>-0.18299550</td><td>-0.57995446</td><td> 0.36131693</td><td>...</td><td> 0.3259794</td><td>0.64123254</td><td>0.45306626</td><td>-0.78689319</td><td>0.41800085</td><td>0.183428443</td><td>notSig</td><td>notSig</td><td>notSig</td><td>protein_coding</td></tr>\n",
       "\t<tr><th scope=row>0610010K14Rik</th><td>11</td><td> 70126032</td><td> 70128740</td><td> 2709</td><td>-</td><td>ensembl_havana</td><td>-1.0822802</td><td>-1.73978964</td><td>-1.85796767</td><td>-0.65750941</td><td>...</td><td>-1.4347083</td><td>0.05167993</td><td>0.01144092</td><td> 1.51410985</td><td>0.07704533</td><td>0.012849451</td><td>notSig</td><td>notSig</td><td>notSig</td><td>protein_coding</td></tr>\n",
       "\t<tr><th scope=row>0610012G03Rik</th><td>16</td><td> 31765868</td><td> 31767312</td><td> 1445</td><td>-</td><td>havana        </td><td> 0.1094487</td><td> 0.09824498</td><td> 0.09778162</td><td>-0.01120375</td><td>...</td><td>-0.5530121</td><td>0.13823240</td><td>0.04346982</td><td> 0.01520704</td><td>0.98121037</td><td>0.964044006</td><td>notSig</td><td>notSig</td><td>notSig</td><td>protein_coding</td></tr>\n",
       "</tbody>\n",
       "</table>\n"
      ],
      "text/latex": [
       "A data.frame: 6 × 31\n",
       "\\begin{tabular}{r|lllllllllllllllllllll}\n",
       "  & seqnames & start & end & width & strand & source & unt.transcription & tgfb.transcription & tgfbCX5461.transcription & log2FCuntVStgfb.transcription & ... & log2FCuntVStgfb.translation & FDRuntVStgfb.translation & PuntVStgfb.translation & log2FCtgfbVStgfbCX5461.translation & FDRtgfbVStgfbCX5461.translation & PtgfbVStgfbCX5461.translation & unt.tgfb.DEtranslation & tgfb.tgfbCX5461.DEtranslation & reversible.translation & biotype\\\\\n",
       "  & <fct> & <int> & <int> & <int> & <fct> & <fct> & <dbl> & <dbl> & <dbl> & <dbl> & ... & <dbl> & <dbl> & <dbl> & <dbl> & <dbl> & <dbl> & <chr> & <chr> & <chr> & <chr>\\\\\n",
       "\\hline\n",
       "\t0610009B22Rik & 11 &  51576213 &  51579701 &  3489 & - & ensembl\\_havana & -1.7361927 & -1.77777696 & -1.52337076 & -0.04158431 & ... & -0.4414281 & 0.30541555 & 0.14036813 &  1.02171324 & 0.02919136 & 0.002929355 & notSig & up     & notSig & protein\\_coding\\\\\n",
       "\t0610009E02Rik & 2  &  26335708 &  26349402 & 13695 & + & havana         & -4.4542278 & -5.89842646 & -5.22659361 & -1.44419866 & ... &         NA &         NA &         NA &          NA &         NA &          NA & NA     & NA     & NA     & lncRNA        \\\\\n",
       "\t0610009L18Rik & 11 & 120239504 & 120242016 &  2513 & + & ensembl\\_havana & -5.7348513 & -5.04982074 & -5.32317910 &  0.68503055 & ... &         NA &         NA &         NA &          NA &         NA &          NA & NA     & NA     & NA     & lncRNA        \\\\\n",
       "\t0610010F05Rik & 11 &  23514961 &  23583639 & 68679 & - & ensembl\\_havana & -0.5443124 & -0.18299550 & -0.57995446 &  0.36131693 & ... &  0.3259794 & 0.64123254 & 0.45306626 & -0.78689319 & 0.41800085 & 0.183428443 & notSig & notSig & notSig & protein\\_coding\\\\\n",
       "\t0610010K14Rik & 11 &  70126032 &  70128740 &  2709 & - & ensembl\\_havana & -1.0822802 & -1.73978964 & -1.85796767 & -0.65750941 & ... & -1.4347083 & 0.05167993 & 0.01144092 &  1.51410985 & 0.07704533 & 0.012849451 & notSig & notSig & notSig & protein\\_coding\\\\\n",
       "\t0610012G03Rik & 16 &  31765868 &  31767312 &  1445 & - & havana         &  0.1094487 &  0.09824498 &  0.09778162 & -0.01120375 & ... & -0.5530121 & 0.13823240 & 0.04346982 &  0.01520704 & 0.98121037 & 0.964044006 & notSig & notSig & notSig & protein\\_coding\\\\\n",
       "\\end{tabular}\n"
      ],
      "text/markdown": [
       "\n",
       "A data.frame: 6 × 31\n",
       "\n",
       "| <!--/--> | seqnames &lt;fct&gt; | start &lt;int&gt; | end &lt;int&gt; | width &lt;int&gt; | strand &lt;fct&gt; | source &lt;fct&gt; | unt.transcription &lt;dbl&gt; | tgfb.transcription &lt;dbl&gt; | tgfbCX5461.transcription &lt;dbl&gt; | log2FCuntVStgfb.transcription &lt;dbl&gt; | ... ... | log2FCuntVStgfb.translation &lt;dbl&gt; | FDRuntVStgfb.translation &lt;dbl&gt; | PuntVStgfb.translation &lt;dbl&gt; | log2FCtgfbVStgfbCX5461.translation &lt;dbl&gt; | FDRtgfbVStgfbCX5461.translation &lt;dbl&gt; | PtgfbVStgfbCX5461.translation &lt;dbl&gt; | unt.tgfb.DEtranslation &lt;chr&gt; | tgfb.tgfbCX5461.DEtranslation &lt;chr&gt; | reversible.translation &lt;chr&gt; | biotype &lt;chr&gt; |\n",
       "|---|---|---|---|---|---|---|---|---|---|---|---|---|---|---|---|---|---|---|---|---|---|\n",
       "| 0610009B22Rik | 11 |  51576213 |  51579701 |  3489 | - | ensembl_havana | -1.7361927 | -1.77777696 | -1.52337076 | -0.04158431 | ... | -0.4414281 | 0.30541555 | 0.14036813 |  1.02171324 | 0.02919136 | 0.002929355 | notSig | up     | notSig | protein_coding |\n",
       "| 0610009E02Rik | 2  |  26335708 |  26349402 | 13695 | + | havana         | -4.4542278 | -5.89842646 | -5.22659361 | -1.44419866 | ... |         NA |         NA |         NA |          NA |         NA |          NA | NA     | NA     | NA     | lncRNA         |\n",
       "| 0610009L18Rik | 11 | 120239504 | 120242016 |  2513 | + | ensembl_havana | -5.7348513 | -5.04982074 | -5.32317910 |  0.68503055 | ... |         NA |         NA |         NA |          NA |         NA |          NA | NA     | NA     | NA     | lncRNA         |\n",
       "| 0610010F05Rik | 11 |  23514961 |  23583639 | 68679 | - | ensembl_havana | -0.5443124 | -0.18299550 | -0.57995446 |  0.36131693 | ... |  0.3259794 | 0.64123254 | 0.45306626 | -0.78689319 | 0.41800085 | 0.183428443 | notSig | notSig | notSig | protein_coding |\n",
       "| 0610010K14Rik | 11 |  70126032 |  70128740 |  2709 | - | ensembl_havana | -1.0822802 | -1.73978964 | -1.85796767 | -0.65750941 | ... | -1.4347083 | 0.05167993 | 0.01144092 |  1.51410985 | 0.07704533 | 0.012849451 | notSig | notSig | notSig | protein_coding |\n",
       "| 0610012G03Rik | 16 |  31765868 |  31767312 |  1445 | - | havana         |  0.1094487 |  0.09824498 |  0.09778162 | -0.01120375 | ... | -0.5530121 | 0.13823240 | 0.04346982 |  0.01520704 | 0.98121037 | 0.964044006 | notSig | notSig | notSig | protein_coding |\n",
       "\n"
      ],
      "text/plain": [
       "              seqnames start     end       width strand source        \n",
       "0610009B22Rik 11        51576213  51579701  3489 -      ensembl_havana\n",
       "0610009E02Rik 2         26335708  26349402 13695 +      havana        \n",
       "0610009L18Rik 11       120239504 120242016  2513 +      ensembl_havana\n",
       "0610010F05Rik 11        23514961  23583639 68679 -      ensembl_havana\n",
       "0610010K14Rik 11        70126032  70128740  2709 -      ensembl_havana\n",
       "0610012G03Rik 16        31765868  31767312  1445 -      havana        \n",
       "              unt.transcription tgfb.transcription tgfbCX5461.transcription\n",
       "0610009B22Rik -1.7361927        -1.77777696        -1.52337076             \n",
       "0610009E02Rik -4.4542278        -5.89842646        -5.22659361             \n",
       "0610009L18Rik -5.7348513        -5.04982074        -5.32317910             \n",
       "0610010F05Rik -0.5443124        -0.18299550        -0.57995446             \n",
       "0610010K14Rik -1.0822802        -1.73978964        -1.85796767             \n",
       "0610012G03Rik  0.1094487         0.09824498         0.09778162             \n",
       "              log2FCuntVStgfb.transcription ... log2FCuntVStgfb.translation\n",
       "0610009B22Rik -0.04158431                   ... -0.4414281                 \n",
       "0610009E02Rik -1.44419866                   ...         NA                 \n",
       "0610009L18Rik  0.68503055                   ...         NA                 \n",
       "0610010F05Rik  0.36131693                   ...  0.3259794                 \n",
       "0610010K14Rik -0.65750941                   ... -1.4347083                 \n",
       "0610012G03Rik -0.01120375                   ... -0.5530121                 \n",
       "              FDRuntVStgfb.translation PuntVStgfb.translation\n",
       "0610009B22Rik 0.30541555               0.14036813            \n",
       "0610009E02Rik         NA                       NA            \n",
       "0610009L18Rik         NA                       NA            \n",
       "0610010F05Rik 0.64123254               0.45306626            \n",
       "0610010K14Rik 0.05167993               0.01144092            \n",
       "0610012G03Rik 0.13823240               0.04346982            \n",
       "              log2FCtgfbVStgfbCX5461.translation\n",
       "0610009B22Rik  1.02171324                       \n",
       "0610009E02Rik          NA                       \n",
       "0610009L18Rik          NA                       \n",
       "0610010F05Rik -0.78689319                       \n",
       "0610010K14Rik  1.51410985                       \n",
       "0610012G03Rik  0.01520704                       \n",
       "              FDRtgfbVStgfbCX5461.translation PtgfbVStgfbCX5461.translation\n",
       "0610009B22Rik 0.02919136                      0.002929355                  \n",
       "0610009E02Rik         NA                               NA                  \n",
       "0610009L18Rik         NA                               NA                  \n",
       "0610010F05Rik 0.41800085                      0.183428443                  \n",
       "0610010K14Rik 0.07704533                      0.012849451                  \n",
       "0610012G03Rik 0.98121037                      0.964044006                  \n",
       "              unt.tgfb.DEtranslation tgfb.tgfbCX5461.DEtranslation\n",
       "0610009B22Rik notSig                 up                           \n",
       "0610009E02Rik NA                     NA                           \n",
       "0610009L18Rik NA                     NA                           \n",
       "0610010F05Rik notSig                 notSig                       \n",
       "0610010K14Rik notSig                 notSig                       \n",
       "0610012G03Rik notSig                 notSig                       \n",
       "              reversible.translation biotype       \n",
       "0610009B22Rik notSig                 protein_coding\n",
       "0610009E02Rik NA                     lncRNA        \n",
       "0610009L18Rik NA                     lncRNA        \n",
       "0610010F05Rik notSig                 protein_coding\n",
       "0610010K14Rik notSig                 protein_coding\n",
       "0610012G03Rik notSig                 protein_coding"
      ]
     },
     "metadata": {},
     "output_type": "display_data"
    },
    {
     "data": {
      "text/html": [
       "<style>\n",
       ".list-inline {list-style: none; margin:0; padding: 0}\n",
       ".list-inline>li {display: inline-block}\n",
       ".list-inline>li:not(:last-child)::after {content: \"\\00b7\"; padding: 0 .5ex}\n",
       "</style>\n",
       "<ol class=list-inline><li>14577</li><li>31</li></ol>\n"
      ],
      "text/latex": [
       "\\begin{enumerate*}\n",
       "\\item 14577\n",
       "\\item 31\n",
       "\\end{enumerate*}\n"
      ],
      "text/markdown": [
       "1. 14577\n",
       "2. 31\n",
       "\n",
       "\n"
      ],
      "text/plain": [
       "[1] 14577    31"
      ]
     },
     "metadata": {},
     "output_type": "display_data"
    }
   ],
   "source": [
    "df_all <- merge(df_transcription, df_translation, by = 0, all = T)\n",
    "sym <- df_all$Row.names\n",
    "rownames(df_all) <- sym\n",
    "df_all$Row.names <- NULL\n",
    "\n",
    "if (grepl(\"isoform\", level)) {\n",
    "    idx <- match(rownames(df_all), df_gtf$transcript_name)\n",
    "    df_all <- cbind(df_gtf[idx, 1:6], df_all)\n",
    "    df_all$biotype <- df_gtf[idx, \"transcript_biotype\"]\n",
    "    \n",
    "} else {    \n",
    "    idx <- match(rownames(df_all), df_gtf$gene_name)\n",
    "    df_all <- cbind(df_gtf[idx, 1:6], df_all)    \n",
    "    df_all$biotype <- df_gtf[idx, \"gene_biotype\"]\n",
    "}\n",
    "\n",
    "rownames(df_all) <- sym\n",
    "\n",
    "head(df_all)\n",
    "dim(df_all)\n"
   ]
  },
  {
   "cell_type": "markdown",
   "metadata": {},
   "source": [
    "## fix biotype"
   ]
  },
  {
   "cell_type": "code",
   "execution_count": 294,
   "metadata": {},
   "outputs": [
    {
     "data": {
      "text/html": [
       "12114"
      ],
      "text/latex": [
       "12114"
      ],
      "text/markdown": [
       "12114"
      ],
      "text/plain": [
       "[1] 12114"
      ]
     },
     "metadata": {},
     "output_type": "display_data"
    }
   ],
   "source": [
    "# Snord43 ENSMUSG00000105167 was annotated as miRNA \n",
    "idx <- which(rownames(df_all)==\"Snord43\")\n",
    "\n",
    "if (length(idx)==1) {\n",
    "    df_all[idx, \"biotype\"] <- \"snoRNA\"\n",
    "}\n",
    "idx"
   ]
  },
  {
   "cell_type": "markdown",
   "metadata": {},
   "source": [
    "## write df_all"
   ]
  },
  {
   "cell_type": "code",
   "execution_count": 295,
   "metadata": {},
   "outputs": [
    {
     "data": {
      "text/html": [
       "'./data/emt.tables.limma-voom.mrna.comprehensive_170224.rdna_rn18s_161021.rdna_rn18s.txt'"
      ],
      "text/latex": [
       "'./data/emt.tables.limma-voom.mrna.comprehensive\\_170224.rdna\\_rn18s\\_161021.rdna\\_rn18s.txt'"
      ],
      "text/markdown": [
       "'./data/emt.tables.limma-voom.mrna.comprehensive_170224.rdna_rn18s_161021.rdna_rn18s.txt'"
      ],
      "text/plain": [
       "[1] \"./data/emt.tables.limma-voom.mrna.comprehensive_170224.rdna_rn18s_161021.rdna_rn18s.txt\""
      ]
     },
     "metadata": {},
     "output_type": "display_data"
    },
    {
     "data": {
      "text/html": [
       "'C:/Users/nmishra/Desktop/Total RNAseq EMT/jupyter codes'"
      ],
      "text/latex": [
       "'C:/Users/nmishra/Desktop/Total RNAseq EMT/jupyter codes'"
      ],
      "text/markdown": [
       "'C:/Users/nmishra/Desktop/Total RNAseq EMT/jupyter codes'"
      ],
      "text/plain": [
       "[1] \"C:/Users/nmishra/Desktop/Total RNAseq EMT/jupyter codes\""
      ]
     },
     "metadata": {},
     "output_type": "display_data"
    }
   ],
   "source": [
    "fname_out <- sprintf(\"./data/emt.tables.%s.comprehensive_170224%s_161021%s.txt\",\n",
    "                     strdir, rundate_appendix, rundate_appendix)\n",
    "fname_out\n",
    "getwd()\n",
    "write.table(df_all, file = fname_out,\n",
    "            row.names = TRUE , col.names = NA ,  sep=\"\\t\"  , quote = FALSE  )"
   ]
  },
  {
   "cell_type": "markdown",
   "metadata": {},
   "source": [
    "# unt48 vs. tgfb48"
   ]
  },
  {
   "cell_type": "markdown",
   "metadata": {},
   "source": [
    "## detected gene symbols"
   ]
  },
  {
   "cell_type": "markdown",
   "metadata": {},
   "source": [
    "### rnaseq detection"
   ]
  },
  {
   "cell_type": "code",
   "execution_count": 296,
   "metadata": {},
   "outputs": [
    {
     "data": {
      "text/html": [
       "FALSE"
      ],
      "text/latex": [
       "FALSE"
      ],
      "text/markdown": [
       "FALSE"
      ],
      "text/plain": [
       "[1] FALSE"
      ]
     },
     "metadata": {},
     "output_type": "display_data"
    },
    {
     "data": {
      "text/html": [
       "<style>\n",
       ".list-inline {list-style: none; margin:0; padding: 0}\n",
       ".list-inline>li {display: inline-block}\n",
       ".list-inline>li:not(:last-child)::after {content: \"\\00b7\"; padding: 0 .5ex}\n",
       "</style>\n",
       "<ol class=list-inline><li>'protein_coding'</li><li>'lncRNA'</li><li>'processed_pseudogene'</li><li>'scaRNA'</li><li>'transcribed_unprocessed_pseudogene'</li><li>'transcribed_processed_pseudogene'</li><li>'unprocessed_pseudogene'</li><li>'snRNA'</li><li>'snoRNA'</li><li>'TEC'</li><li>'TR_C_gene'</li><li>'polymorphic_pseudogene'</li><li>'rDNA'</li><li>'Mt_rRNA'</li><li>'transcribed_unitary_pseudogene'</li><li>'IG_C_gene'</li><li>'translated_unprocessed_pseudogene'</li><li>'misc_RNA'</li><li>'ribozyme'</li><li>'pseudogene'</li><li>'rRNA'</li><li>'miRNA'</li><li>'Mt_tRNA'</li></ol>\n"
      ],
      "text/latex": [
       "\\begin{enumerate*}\n",
       "\\item 'protein\\_coding'\n",
       "\\item 'lncRNA'\n",
       "\\item 'processed\\_pseudogene'\n",
       "\\item 'scaRNA'\n",
       "\\item 'transcribed\\_unprocessed\\_pseudogene'\n",
       "\\item 'transcribed\\_processed\\_pseudogene'\n",
       "\\item 'unprocessed\\_pseudogene'\n",
       "\\item 'snRNA'\n",
       "\\item 'snoRNA'\n",
       "\\item 'TEC'\n",
       "\\item 'TR\\_C\\_gene'\n",
       "\\item 'polymorphic\\_pseudogene'\n",
       "\\item 'rDNA'\n",
       "\\item 'Mt\\_rRNA'\n",
       "\\item 'transcribed\\_unitary\\_pseudogene'\n",
       "\\item 'IG\\_C\\_gene'\n",
       "\\item 'translated\\_unprocessed\\_pseudogene'\n",
       "\\item 'misc\\_RNA'\n",
       "\\item 'ribozyme'\n",
       "\\item 'pseudogene'\n",
       "\\item 'rRNA'\n",
       "\\item 'miRNA'\n",
       "\\item 'Mt\\_tRNA'\n",
       "\\end{enumerate*}\n"
      ],
      "text/markdown": [
       "1. 'protein_coding'\n",
       "2. 'lncRNA'\n",
       "3. 'processed_pseudogene'\n",
       "4. 'scaRNA'\n",
       "5. 'transcribed_unprocessed_pseudogene'\n",
       "6. 'transcribed_processed_pseudogene'\n",
       "7. 'unprocessed_pseudogene'\n",
       "8. 'snRNA'\n",
       "9. 'snoRNA'\n",
       "10. 'TEC'\n",
       "11. 'TR_C_gene'\n",
       "12. 'polymorphic_pseudogene'\n",
       "13. 'rDNA'\n",
       "14. 'Mt_rRNA'\n",
       "15. 'transcribed_unitary_pseudogene'\n",
       "16. 'IG_C_gene'\n",
       "17. 'translated_unprocessed_pseudogene'\n",
       "18. 'misc_RNA'\n",
       "19. 'ribozyme'\n",
       "20. 'pseudogene'\n",
       "21. 'rRNA'\n",
       "22. 'miRNA'\n",
       "23. 'Mt_tRNA'\n",
       "\n",
       "\n"
      ],
      "text/plain": [
       " [1] \"protein_coding\"                     \"lncRNA\"                            \n",
       " [3] \"processed_pseudogene\"               \"scaRNA\"                            \n",
       " [5] \"transcribed_unprocessed_pseudogene\" \"transcribed_processed_pseudogene\"  \n",
       " [7] \"unprocessed_pseudogene\"             \"snRNA\"                             \n",
       " [9] \"snoRNA\"                             \"TEC\"                               \n",
       "[11] \"TR_C_gene\"                          \"polymorphic_pseudogene\"            \n",
       "[13] \"rDNA\"                               \"Mt_rRNA\"                           \n",
       "[15] \"transcribed_unitary_pseudogene\"     \"IG_C_gene\"                         \n",
       "[17] \"translated_unprocessed_pseudogene\"  \"misc_RNA\"                          \n",
       "[19] \"ribozyme\"                           \"pseudogene\"                        \n",
       "[21] \"rRNA\"                               \"miRNA\"                             \n",
       "[23] \"Mt_tRNA\"                           "
      ]
     },
     "metadata": {},
     "output_type": "display_data"
    },
    {
     "data": {
      "text/html": [
       "<table class=\"dataframe\">\n",
       "<caption>A data.frame: 6 × 6</caption>\n",
       "<thead>\n",
       "\t<tr><th></th><th scope=col>unt</th><th scope=col>tgfb</th><th scope=col>log2FC</th><th scope=col>FDR</th><th scope=col>p.value</th><th scope=col>biotype</th></tr>\n",
       "\t<tr><th></th><th scope=col>&lt;dbl&gt;</th><th scope=col>&lt;dbl&gt;</th><th scope=col>&lt;dbl&gt;</th><th scope=col>&lt;dbl&gt;</th><th scope=col>&lt;dbl&gt;</th><th scope=col>&lt;chr&gt;</th></tr>\n",
       "</thead>\n",
       "<tbody>\n",
       "\t<tr><th scope=row>4930402H24Rik</th><td> 1.6107994</td><td> 2.4726014</td><td> 0.861802</td><td>0</td><td>0</td><td>protein_coding</td></tr>\n",
       "\t<tr><th scope=row>Abcc2</th><td>-0.3106197</td><td>-3.8326160</td><td>-3.521996</td><td>0</td><td>0</td><td>protein_coding</td></tr>\n",
       "\t<tr><th scope=row>Abcc3</th><td> 1.8096731</td><td> 0.6774089</td><td>-1.132264</td><td>0</td><td>0</td><td>protein_coding</td></tr>\n",
       "\t<tr><th scope=row>Abcc4</th><td> 2.6411045</td><td> 1.0325850</td><td>-1.608520</td><td>0</td><td>0</td><td>protein_coding</td></tr>\n",
       "\t<tr><th scope=row>Abcd3</th><td> 1.8514176</td><td> 0.3012823</td><td>-1.550135</td><td>0</td><td>0</td><td>protein_coding</td></tr>\n",
       "\t<tr><th scope=row>Abhd17a</th><td> 0.9001339</td><td> 1.9114717</td><td> 1.011338</td><td>0</td><td>0</td><td>protein_coding</td></tr>\n",
       "</tbody>\n",
       "</table>\n"
      ],
      "text/latex": [
       "A data.frame: 6 × 6\n",
       "\\begin{tabular}{r|llllll}\n",
       "  & unt & tgfb & log2FC & FDR & p.value & biotype\\\\\n",
       "  & <dbl> & <dbl> & <dbl> & <dbl> & <dbl> & <chr>\\\\\n",
       "\\hline\n",
       "\t4930402H24Rik &  1.6107994 &  2.4726014 &  0.861802 & 0 & 0 & protein\\_coding\\\\\n",
       "\tAbcc2 & -0.3106197 & -3.8326160 & -3.521996 & 0 & 0 & protein\\_coding\\\\\n",
       "\tAbcc3 &  1.8096731 &  0.6774089 & -1.132264 & 0 & 0 & protein\\_coding\\\\\n",
       "\tAbcc4 &  2.6411045 &  1.0325850 & -1.608520 & 0 & 0 & protein\\_coding\\\\\n",
       "\tAbcd3 &  1.8514176 &  0.3012823 & -1.550135 & 0 & 0 & protein\\_coding\\\\\n",
       "\tAbhd17a &  0.9001339 &  1.9114717 &  1.011338 & 0 & 0 & protein\\_coding\\\\\n",
       "\\end{tabular}\n"
      ],
      "text/markdown": [
       "\n",
       "A data.frame: 6 × 6\n",
       "\n",
       "| <!--/--> | unt &lt;dbl&gt; | tgfb &lt;dbl&gt; | log2FC &lt;dbl&gt; | FDR &lt;dbl&gt; | p.value &lt;dbl&gt; | biotype &lt;chr&gt; |\n",
       "|---|---|---|---|---|---|---|\n",
       "| 4930402H24Rik |  1.6107994 |  2.4726014 |  0.861802 | 0 | 0 | protein_coding |\n",
       "| Abcc2 | -0.3106197 | -3.8326160 | -3.521996 | 0 | 0 | protein_coding |\n",
       "| Abcc3 |  1.8096731 |  0.6774089 | -1.132264 | 0 | 0 | protein_coding |\n",
       "| Abcc4 |  2.6411045 |  1.0325850 | -1.608520 | 0 | 0 | protein_coding |\n",
       "| Abcd3 |  1.8514176 |  0.3012823 | -1.550135 | 0 | 0 | protein_coding |\n",
       "| Abhd17a |  0.9001339 |  1.9114717 |  1.011338 | 0 | 0 | protein_coding |\n",
       "\n"
      ],
      "text/plain": [
       "              unt        tgfb       log2FC    FDR p.value biotype       \n",
       "4930402H24Rik  1.6107994  2.4726014  0.861802 0   0       protein_coding\n",
       "Abcc2         -0.3106197 -3.8326160 -3.521996 0   0       protein_coding\n",
       "Abcc3          1.8096731  0.6774089 -1.132264 0   0       protein_coding\n",
       "Abcc4          2.6411045  1.0325850 -1.608520 0   0       protein_coding\n",
       "Abcd3          1.8514176  0.3012823 -1.550135 0   0       protein_coding\n",
       "Abhd17a        0.9001339  1.9114717  1.011338 0   0       protein_coding"
      ]
     },
     "metadata": {},
     "output_type": "display_data"
    },
    {
     "data": {
      "text/html": [
       "<style>\n",
       ".list-inline {list-style: none; margin:0; padding: 0}\n",
       ".list-inline>li {display: inline-block}\n",
       ".list-inline>li:not(:last-child)::after {content: \"\\00b7\"; padding: 0 .5ex}\n",
       "</style>\n",
       "<ol class=list-inline><li>13006</li><li>6</li></ol>\n"
      ],
      "text/latex": [
       "\\begin{enumerate*}\n",
       "\\item 13006\n",
       "\\item 6\n",
       "\\end{enumerate*}\n"
      ],
      "text/markdown": [
       "1. 13006\n",
       "2. 6\n",
       "\n",
       "\n"
      ],
      "text/plain": [
       "[1] 13006     6"
      ]
     },
     "metadata": {},
     "output_type": "display_data"
    },
    {
     "data": {
      "text/html": [
       "13006"
      ],
      "text/latex": [
       "13006"
      ],
      "text/markdown": [
       "13006"
      ],
      "text/plain": [
       "[1] 13006"
      ]
     },
     "metadata": {},
     "output_type": "display_data"
    }
   ],
   "source": [
    "\n",
    "fname_rnaseq <- sprintf(\"blancgrp_211613_RNAseq_total_stranded.unt--vs--tgfb.all.txt.gz\")\n",
    "df_rnaseq <- read.table(file=sprintf(\"%s/%s\", dir_rnaseq, fname_rnaseq), \n",
    "                header=TRUE, sep=\"\\t\", row.names=1,\n",
    "                quote=\"\", comment.char=\"#\", stringsAsFactors=F)\n",
    "\n",
    "if (!is.null(pattern_remove_gene)) {\n",
    "  dim(df_rnaseq)\n",
    "  df_rnaseq <- df_rnaseq[!grepl(pattern_remove_gene, rownames(df_rnaseq)),]\n",
    "}\n",
    "\n",
    "# df_mrna$biotype\n",
    "idx <- match(rownames(df_rnaseq), rownames(df_all))\n",
    "any(is.na(idx)) # should be FALSE\n",
    "df_rnaseq$biotype <- df_all[idx,'biotype']\n",
    "biotype_rnaseq <- unique(df_rnaseq$biotype)\n",
    "biotype_rnaseq\n",
    "\n",
    "head(df_rnaseq)\n",
    "dim(df_rnaseq)\n",
    "sym_rnaseq <- rownames(df_rnaseq)\n",
    "length(sym_rnaseq)\n"
   ]
  },
  {
   "cell_type": "markdown",
   "metadata": {},
   "source": [
    "### riboseq detection"
   ]
  },
  {
   "cell_type": "code",
   "execution_count": 297,
   "metadata": {},
   "outputs": [
    {
     "data": {
      "text/html": [
       "FALSE"
      ],
      "text/latex": [
       "FALSE"
      ],
      "text/markdown": [
       "FALSE"
      ],
      "text/plain": [
       "[1] FALSE"
      ]
     },
     "metadata": {},
     "output_type": "display_data"
    },
    {
     "data": {
      "text/html": [
       "<style>\n",
       ".list-inline {list-style: none; margin:0; padding: 0}\n",
       ".list-inline>li {display: inline-block}\n",
       ".list-inline>li:not(:last-child)::after {content: \"\\00b7\"; padding: 0 .5ex}\n",
       "</style>\n",
       "<ol class=list-inline><li>'protein_coding'</li><li>'processed_pseudogene'</li><li>'snRNA'</li><li>'Mt_tRNA'</li><li>'rRNA'</li><li>'lncRNA'</li><li>'ribozyme'</li><li>'miRNA'</li><li>'transcribed_processed_pseudogene'</li><li>'misc_RNA'</li><li>'rDNA'</li><li>'snoRNA'</li><li>'unprocessed_pseudogene'</li><li>'TEC'</li><li>'Mt_rRNA'</li><li>'IG_C_gene'</li><li>'transcribed_unprocessed_pseudogene'</li><li>'polymorphic_pseudogene'</li><li>'TR_C_gene'</li><li>'scaRNA'</li><li>'TR_V_gene'</li><li>'pseudogene'</li><li>'transcribed_unitary_pseudogene'</li></ol>\n"
      ],
      "text/latex": [
       "\\begin{enumerate*}\n",
       "\\item 'protein\\_coding'\n",
       "\\item 'processed\\_pseudogene'\n",
       "\\item 'snRNA'\n",
       "\\item 'Mt\\_tRNA'\n",
       "\\item 'rRNA'\n",
       "\\item 'lncRNA'\n",
       "\\item 'ribozyme'\n",
       "\\item 'miRNA'\n",
       "\\item 'transcribed\\_processed\\_pseudogene'\n",
       "\\item 'misc\\_RNA'\n",
       "\\item 'rDNA'\n",
       "\\item 'snoRNA'\n",
       "\\item 'unprocessed\\_pseudogene'\n",
       "\\item 'TEC'\n",
       "\\item 'Mt\\_rRNA'\n",
       "\\item 'IG\\_C\\_gene'\n",
       "\\item 'transcribed\\_unprocessed\\_pseudogene'\n",
       "\\item 'polymorphic\\_pseudogene'\n",
       "\\item 'TR\\_C\\_gene'\n",
       "\\item 'scaRNA'\n",
       "\\item 'TR\\_V\\_gene'\n",
       "\\item 'pseudogene'\n",
       "\\item 'transcribed\\_unitary\\_pseudogene'\n",
       "\\end{enumerate*}\n"
      ],
      "text/markdown": [
       "1. 'protein_coding'\n",
       "2. 'processed_pseudogene'\n",
       "3. 'snRNA'\n",
       "4. 'Mt_tRNA'\n",
       "5. 'rRNA'\n",
       "6. 'lncRNA'\n",
       "7. 'ribozyme'\n",
       "8. 'miRNA'\n",
       "9. 'transcribed_processed_pseudogene'\n",
       "10. 'misc_RNA'\n",
       "11. 'rDNA'\n",
       "12. 'snoRNA'\n",
       "13. 'unprocessed_pseudogene'\n",
       "14. 'TEC'\n",
       "15. 'Mt_rRNA'\n",
       "16. 'IG_C_gene'\n",
       "17. 'transcribed_unprocessed_pseudogene'\n",
       "18. 'polymorphic_pseudogene'\n",
       "19. 'TR_C_gene'\n",
       "20. 'scaRNA'\n",
       "21. 'TR_V_gene'\n",
       "22. 'pseudogene'\n",
       "23. 'transcribed_unitary_pseudogene'\n",
       "\n",
       "\n"
      ],
      "text/plain": [
       " [1] \"protein_coding\"                     \"processed_pseudogene\"              \n",
       " [3] \"snRNA\"                              \"Mt_tRNA\"                           \n",
       " [5] \"rRNA\"                               \"lncRNA\"                            \n",
       " [7] \"ribozyme\"                           \"miRNA\"                             \n",
       " [9] \"transcribed_processed_pseudogene\"   \"misc_RNA\"                          \n",
       "[11] \"rDNA\"                               \"snoRNA\"                            \n",
       "[13] \"unprocessed_pseudogene\"             \"TEC\"                               \n",
       "[15] \"Mt_rRNA\"                            \"IG_C_gene\"                         \n",
       "[17] \"transcribed_unprocessed_pseudogene\" \"polymorphic_pseudogene\"            \n",
       "[19] \"TR_C_gene\"                          \"scaRNA\"                            \n",
       "[21] \"TR_V_gene\"                          \"pseudogene\"                        \n",
       "[23] \"transcribed_unitary_pseudogene\"    "
      ]
     },
     "metadata": {},
     "output_type": "display_data"
    },
    {
     "data": {
      "text/html": [
       "<table class=\"dataframe\">\n",
       "<caption>A data.frame: 6 × 6</caption>\n",
       "<thead>\n",
       "\t<tr><th></th><th scope=col>unt48</th><th scope=col>tgfb48</th><th scope=col>log2FC</th><th scope=col>FDR</th><th scope=col>p.value</th><th scope=col>biotype</th></tr>\n",
       "\t<tr><th></th><th scope=col>&lt;dbl&gt;</th><th scope=col>&lt;dbl&gt;</th><th scope=col>&lt;dbl&gt;</th><th scope=col>&lt;dbl&gt;</th><th scope=col>&lt;dbl&gt;</th><th scope=col>&lt;chr&gt;</th></tr>\n",
       "</thead>\n",
       "<tbody>\n",
       "\t<tr><th scope=row>Actb</th><td>8.246082</td><td>8.876540</td><td> 0.6304577</td><td>0</td><td>0</td><td>protein_coding</td></tr>\n",
       "\t<tr><th scope=row>Actn1</th><td>3.156675</td><td>4.771428</td><td> 1.6147534</td><td>0</td><td>0</td><td>protein_coding</td></tr>\n",
       "\t<tr><th scope=row>Aldoa</th><td>6.209498</td><td>5.230513</td><td>-0.9789853</td><td>0</td><td>0</td><td>protein_coding</td></tr>\n",
       "\t<tr><th scope=row>Ankrd1</th><td>4.963155</td><td>6.810945</td><td> 1.8477894</td><td>0</td><td>0</td><td>protein_coding</td></tr>\n",
       "\t<tr><th scope=row>Anxa4</th><td>4.540031</td><td>2.988093</td><td>-1.5519384</td><td>0</td><td>0</td><td>protein_coding</td></tr>\n",
       "\t<tr><th scope=row>Apob</th><td>5.403923</td><td>6.689152</td><td> 1.2852282</td><td>0</td><td>0</td><td>protein_coding</td></tr>\n",
       "</tbody>\n",
       "</table>\n"
      ],
      "text/latex": [
       "A data.frame: 6 × 6\n",
       "\\begin{tabular}{r|llllll}\n",
       "  & unt48 & tgfb48 & log2FC & FDR & p.value & biotype\\\\\n",
       "  & <dbl> & <dbl> & <dbl> & <dbl> & <dbl> & <chr>\\\\\n",
       "\\hline\n",
       "\tActb & 8.246082 & 8.876540 &  0.6304577 & 0 & 0 & protein\\_coding\\\\\n",
       "\tActn1 & 3.156675 & 4.771428 &  1.6147534 & 0 & 0 & protein\\_coding\\\\\n",
       "\tAldoa & 6.209498 & 5.230513 & -0.9789853 & 0 & 0 & protein\\_coding\\\\\n",
       "\tAnkrd1 & 4.963155 & 6.810945 &  1.8477894 & 0 & 0 & protein\\_coding\\\\\n",
       "\tAnxa4 & 4.540031 & 2.988093 & -1.5519384 & 0 & 0 & protein\\_coding\\\\\n",
       "\tApob & 5.403923 & 6.689152 &  1.2852282 & 0 & 0 & protein\\_coding\\\\\n",
       "\\end{tabular}\n"
      ],
      "text/markdown": [
       "\n",
       "A data.frame: 6 × 6\n",
       "\n",
       "| <!--/--> | unt48 &lt;dbl&gt; | tgfb48 &lt;dbl&gt; | log2FC &lt;dbl&gt; | FDR &lt;dbl&gt; | p.value &lt;dbl&gt; | biotype &lt;chr&gt; |\n",
       "|---|---|---|---|---|---|---|\n",
       "| Actb | 8.246082 | 8.876540 |  0.6304577 | 0 | 0 | protein_coding |\n",
       "| Actn1 | 3.156675 | 4.771428 |  1.6147534 | 0 | 0 | protein_coding |\n",
       "| Aldoa | 6.209498 | 5.230513 | -0.9789853 | 0 | 0 | protein_coding |\n",
       "| Ankrd1 | 4.963155 | 6.810945 |  1.8477894 | 0 | 0 | protein_coding |\n",
       "| Anxa4 | 4.540031 | 2.988093 | -1.5519384 | 0 | 0 | protein_coding |\n",
       "| Apob | 5.403923 | 6.689152 |  1.2852282 | 0 | 0 | protein_coding |\n",
       "\n"
      ],
      "text/plain": [
       "       unt48    tgfb48   log2FC     FDR p.value biotype       \n",
       "Actb   8.246082 8.876540  0.6304577 0   0       protein_coding\n",
       "Actn1  3.156675 4.771428  1.6147534 0   0       protein_coding\n",
       "Aldoa  6.209498 5.230513 -0.9789853 0   0       protein_coding\n",
       "Ankrd1 4.963155 6.810945  1.8477894 0   0       protein_coding\n",
       "Anxa4  4.540031 2.988093 -1.5519384 0   0       protein_coding\n",
       "Apob   5.403923 6.689152  1.2852282 0   0       protein_coding"
      ]
     },
     "metadata": {},
     "output_type": "display_data"
    },
    {
     "data": {
      "text/html": [
       "<style>\n",
       ".list-inline {list-style: none; margin:0; padding: 0}\n",
       ".list-inline>li {display: inline-block}\n",
       ".list-inline>li:not(:last-child)::after {content: \"\\00b7\"; padding: 0 .5ex}\n",
       "</style>\n",
       "<ol class=list-inline><li>11998</li><li>6</li></ol>\n"
      ],
      "text/latex": [
       "\\begin{enumerate*}\n",
       "\\item 11998\n",
       "\\item 6\n",
       "\\end{enumerate*}\n"
      ],
      "text/markdown": [
       "1. 11998\n",
       "2. 6\n",
       "\n",
       "\n"
      ],
      "text/plain": [
       "[1] 11998     6"
      ]
     },
     "metadata": {},
     "output_type": "display_data"
    },
    {
     "data": {
      "text/html": [
       "11998"
      ],
      "text/latex": [
       "11998"
      ],
      "text/markdown": [
       "11998"
      ],
      "text/plain": [
       "[1] 11998"
      ]
     },
     "metadata": {},
     "output_type": "display_data"
    },
    {
     "data": {
      "text/html": [
       "11998"
      ],
      "text/latex": [
       "11998"
      ],
      "text/markdown": [
       "11998"
      ],
      "text/plain": [
       "[1] 11998"
      ]
     },
     "metadata": {},
     "output_type": "display_data"
    }
   ],
   "source": [
    "\n",
    "fname_riboseq <- sprintf(\"blancgrp_161021_Riboseq.unt48--vs--tgfb48.all.txt.gz\")\n",
    "df_riboseq <- read.table(file=sprintf(\"%s/%s\", dir_riboseq, fname_riboseq), \n",
    "                header=TRUE, sep=\"\\t\", row.names=1,\n",
    "                quote=\"\", comment.char=\"#\", stringsAsFactors=F)\n",
    "\n",
    "if (!is.null(pattern_remove_gene)) {\n",
    "  dim(df_riboseq)\n",
    "  df_riboseq <- df_riboseq[!grepl(pattern_remove_gene, rownames(df_riboseq)),]\n",
    "}\n",
    "\n",
    "# df_mrna$biotype\n",
    "idx <- match(rownames(df_riboseq), rownames(df_all))\n",
    "any(is.na(idx)) # should be FALSE\n",
    "df_riboseq$biotype <- df_all[idx,'biotype']\n",
    "biotype_riboseq <- unique(df_riboseq$biotype)\n",
    "biotype_riboseq\n",
    "\n",
    "\n",
    "head(df_riboseq)\n",
    "dim(df_riboseq)\n",
    "sym_riboseq <- rownames(df_riboseq)\n",
    "length(sym_riboseq)\n",
    "sym_riboseq <- unique(sym_riboseq)\n",
    "length(sym_riboseq)\n"
   ]
  },
  {
   "cell_type": "markdown",
   "metadata": {},
   "source": [
    "#### protein_coding only"
   ]
  },
  {
   "cell_type": "code",
   "execution_count": 298,
   "metadata": {},
   "outputs": [
    {
     "data": {
      "text/html": [
       "<table class=\"dataframe\">\n",
       "<caption>A data.frame: 6 × 6</caption>\n",
       "<thead>\n",
       "\t<tr><th></th><th scope=col>unt48</th><th scope=col>tgfb48</th><th scope=col>log2FC</th><th scope=col>FDR</th><th scope=col>p.value</th><th scope=col>biotype</th></tr>\n",
       "\t<tr><th></th><th scope=col>&lt;dbl&gt;</th><th scope=col>&lt;dbl&gt;</th><th scope=col>&lt;dbl&gt;</th><th scope=col>&lt;dbl&gt;</th><th scope=col>&lt;dbl&gt;</th><th scope=col>&lt;chr&gt;</th></tr>\n",
       "</thead>\n",
       "<tbody>\n",
       "\t<tr><th scope=row>Actb</th><td>8.246082</td><td>8.876540</td><td> 0.6304577</td><td>0</td><td>0</td><td>protein_coding</td></tr>\n",
       "\t<tr><th scope=row>Actn1</th><td>3.156675</td><td>4.771428</td><td> 1.6147534</td><td>0</td><td>0</td><td>protein_coding</td></tr>\n",
       "\t<tr><th scope=row>Aldoa</th><td>6.209498</td><td>5.230513</td><td>-0.9789853</td><td>0</td><td>0</td><td>protein_coding</td></tr>\n",
       "\t<tr><th scope=row>Ankrd1</th><td>4.963155</td><td>6.810945</td><td> 1.8477894</td><td>0</td><td>0</td><td>protein_coding</td></tr>\n",
       "\t<tr><th scope=row>Anxa4</th><td>4.540031</td><td>2.988093</td><td>-1.5519384</td><td>0</td><td>0</td><td>protein_coding</td></tr>\n",
       "\t<tr><th scope=row>Apob</th><td>5.403923</td><td>6.689152</td><td> 1.2852282</td><td>0</td><td>0</td><td>protein_coding</td></tr>\n",
       "</tbody>\n",
       "</table>\n"
      ],
      "text/latex": [
       "A data.frame: 6 × 6\n",
       "\\begin{tabular}{r|llllll}\n",
       "  & unt48 & tgfb48 & log2FC & FDR & p.value & biotype\\\\\n",
       "  & <dbl> & <dbl> & <dbl> & <dbl> & <dbl> & <chr>\\\\\n",
       "\\hline\n",
       "\tActb & 8.246082 & 8.876540 &  0.6304577 & 0 & 0 & protein\\_coding\\\\\n",
       "\tActn1 & 3.156675 & 4.771428 &  1.6147534 & 0 & 0 & protein\\_coding\\\\\n",
       "\tAldoa & 6.209498 & 5.230513 & -0.9789853 & 0 & 0 & protein\\_coding\\\\\n",
       "\tAnkrd1 & 4.963155 & 6.810945 &  1.8477894 & 0 & 0 & protein\\_coding\\\\\n",
       "\tAnxa4 & 4.540031 & 2.988093 & -1.5519384 & 0 & 0 & protein\\_coding\\\\\n",
       "\tApob & 5.403923 & 6.689152 &  1.2852282 & 0 & 0 & protein\\_coding\\\\\n",
       "\\end{tabular}\n"
      ],
      "text/markdown": [
       "\n",
       "A data.frame: 6 × 6\n",
       "\n",
       "| <!--/--> | unt48 &lt;dbl&gt; | tgfb48 &lt;dbl&gt; | log2FC &lt;dbl&gt; | FDR &lt;dbl&gt; | p.value &lt;dbl&gt; | biotype &lt;chr&gt; |\n",
       "|---|---|---|---|---|---|---|\n",
       "| Actb | 8.246082 | 8.876540 |  0.6304577 | 0 | 0 | protein_coding |\n",
       "| Actn1 | 3.156675 | 4.771428 |  1.6147534 | 0 | 0 | protein_coding |\n",
       "| Aldoa | 6.209498 | 5.230513 | -0.9789853 | 0 | 0 | protein_coding |\n",
       "| Ankrd1 | 4.963155 | 6.810945 |  1.8477894 | 0 | 0 | protein_coding |\n",
       "| Anxa4 | 4.540031 | 2.988093 | -1.5519384 | 0 | 0 | protein_coding |\n",
       "| Apob | 5.403923 | 6.689152 |  1.2852282 | 0 | 0 | protein_coding |\n",
       "\n"
      ],
      "text/plain": [
       "       unt48    tgfb48   log2FC     FDR p.value biotype       \n",
       "Actb   8.246082 8.876540  0.6304577 0   0       protein_coding\n",
       "Actn1  3.156675 4.771428  1.6147534 0   0       protein_coding\n",
       "Aldoa  6.209498 5.230513 -0.9789853 0   0       protein_coding\n",
       "Ankrd1 4.963155 6.810945  1.8477894 0   0       protein_coding\n",
       "Anxa4  4.540031 2.988093 -1.5519384 0   0       protein_coding\n",
       "Apob   5.403923 6.689152  1.2852282 0   0       protein_coding"
      ]
     },
     "metadata": {},
     "output_type": "display_data"
    },
    {
     "data": {
      "text/html": [
       "<style>\n",
       ".list-inline {list-style: none; margin:0; padding: 0}\n",
       ".list-inline>li {display: inline-block}\n",
       ".list-inline>li:not(:last-child)::after {content: \"\\00b7\"; padding: 0 .5ex}\n",
       "</style>\n",
       "<ol class=list-inline><li>9973</li><li>6</li></ol>\n"
      ],
      "text/latex": [
       "\\begin{enumerate*}\n",
       "\\item 9973\n",
       "\\item 6\n",
       "\\end{enumerate*}\n"
      ],
      "text/markdown": [
       "1. 9973\n",
       "2. 6\n",
       "\n",
       "\n"
      ],
      "text/plain": [
       "[1] 9973    6"
      ]
     },
     "metadata": {},
     "output_type": "display_data"
    }
   ],
   "source": [
    "f <- grepl('^protein_coding$', df_riboseq$biotype)\n",
    "df_ribo_wo_pseudo <- df_riboseq[f,]\n",
    "head(df_ribo_wo_pseudo)\n",
    "dim(df_ribo_wo_pseudo)"
   ]
  },
  {
   "cell_type": "markdown",
   "metadata": {},
   "source": [
    "### sym_detected_both"
   ]
  },
  {
   "cell_type": "code",
   "execution_count": 299,
   "metadata": {},
   "outputs": [
    {
     "data": {
      "text/html": [
       "10427"
      ],
      "text/latex": [
       "10427"
      ],
      "text/markdown": [
       "10427"
      ],
      "text/plain": [
       "[1] 10427"
      ]
     },
     "metadata": {},
     "output_type": "display_data"
    }
   ],
   "source": [
    "sym_detected_both <- intersect(sym_rnaseq, sym_riboseq)\n",
    "length(sym_detected_both)\n",
    "\n",
    "# total genes detected in shared between both datasets\n",
    "# with GRCm38.97.gtf RSEM: 10212\n",
    "# with GRCm38.97.gtf HTSEQ: 10150\n",
    "# with GRCm38.97.rRNA.gtf: 10235"
   ]
  },
  {
   "cell_type": "markdown",
   "metadata": {},
   "source": [
    "### sym_detected_rnaseq_only"
   ]
  },
  {
   "cell_type": "code",
   "execution_count": 300,
   "metadata": {},
   "outputs": [
    {
     "data": {
      "text/html": [
       "2579"
      ],
      "text/latex": [
       "2579"
      ],
      "text/markdown": [
       "2579"
      ],
      "text/plain": [
       "[1] 2579"
      ]
     },
     "metadata": {},
     "output_type": "display_data"
    }
   ],
   "source": [
    "sym_detected_rnaseq_only <- setdiff(sym_rnaseq, sym_riboseq)\n",
    "length(sym_detected_rnaseq_only)"
   ]
  },
  {
   "cell_type": "markdown",
   "metadata": {},
   "source": [
    "### sym_detected_riboseq_only"
   ]
  },
  {
   "cell_type": "code",
   "execution_count": 301,
   "metadata": {},
   "outputs": [
    {
     "data": {
      "text/html": [
       "1571"
      ],
      "text/latex": [
       "1571"
      ],
      "text/markdown": [
       "1571"
      ],
      "text/plain": [
       "[1] 1571"
      ]
     },
     "metadata": {},
     "output_type": "display_data"
    }
   ],
   "source": [
    "sym_detected_riboseq_only <- setdiff(sym_riboseq, sym_rnaseq)\n",
    "length(sym_detected_riboseq_only)\n"
   ]
  },
  {
   "cell_type": "markdown",
   "metadata": {},
   "source": [
    "## df_mrna"
   ]
  },
  {
   "cell_type": "code",
   "execution_count": 302,
   "metadata": {
    "scrolled": false
   },
   "outputs": [
    {
     "data": {
      "text/html": [
       "<table class=\"dataframe\">\n",
       "<caption>A data.frame: 6 × 5</caption>\n",
       "<thead>\n",
       "\t<tr><th></th><th scope=col>unt</th><th scope=col>tgfb</th><th scope=col>log2FC</th><th scope=col>FDR</th><th scope=col>p.value</th></tr>\n",
       "\t<tr><th></th><th scope=col>&lt;dbl&gt;</th><th scope=col>&lt;dbl&gt;</th><th scope=col>&lt;dbl&gt;</th><th scope=col>&lt;dbl&gt;</th><th scope=col>&lt;dbl&gt;</th></tr>\n",
       "</thead>\n",
       "<tbody>\n",
       "\t<tr><th scope=row>Serpina1c</th><td> 0.8882039</td><td>-8.561984</td><td>-9.450188</td><td>4.0000e-10</td><td>1.00e-10</td></tr>\n",
       "\t<tr><th scope=row>Apoc2</th><td> 1.3537993</td><td>-7.987147</td><td>-9.340946</td><td>0.0000e+00</td><td>0.00e+00</td></tr>\n",
       "\t<tr><th scope=row>Ugt2b34</th><td> 1.4160637</td><td>-7.903516</td><td>-9.319580</td><td>0.0000e+00</td><td>0.00e+00</td></tr>\n",
       "\t<tr><th scope=row>Dio3os</th><td> 0.3207386</td><td>-8.561984</td><td>-8.882723</td><td>1.2283e-07</td><td>2.41e-08</td></tr>\n",
       "\t<tr><th scope=row>Dio3</th><td> 0.1231443</td><td>-8.561984</td><td>-8.685128</td><td>0.0000e+00</td><td>0.00e+00</td></tr>\n",
       "\t<tr><th scope=row>Itih2</th><td>-0.1366035</td><td>-8.561984</td><td>-8.425381</td><td>0.0000e+00</td><td>0.00e+00</td></tr>\n",
       "</tbody>\n",
       "</table>\n"
      ],
      "text/latex": [
       "A data.frame: 6 × 5\n",
       "\\begin{tabular}{r|lllll}\n",
       "  & unt & tgfb & log2FC & FDR & p.value\\\\\n",
       "  & <dbl> & <dbl> & <dbl> & <dbl> & <dbl>\\\\\n",
       "\\hline\n",
       "\tSerpina1c &  0.8882039 & -8.561984 & -9.450188 & 4.0000e-10 & 1.00e-10\\\\\n",
       "\tApoc2 &  1.3537993 & -7.987147 & -9.340946 & 0.0000e+00 & 0.00e+00\\\\\n",
       "\tUgt2b34 &  1.4160637 & -7.903516 & -9.319580 & 0.0000e+00 & 0.00e+00\\\\\n",
       "\tDio3os &  0.3207386 & -8.561984 & -8.882723 & 1.2283e-07 & 2.41e-08\\\\\n",
       "\tDio3 &  0.1231443 & -8.561984 & -8.685128 & 0.0000e+00 & 0.00e+00\\\\\n",
       "\tItih2 & -0.1366035 & -8.561984 & -8.425381 & 0.0000e+00 & 0.00e+00\\\\\n",
       "\\end{tabular}\n"
      ],
      "text/markdown": [
       "\n",
       "A data.frame: 6 × 5\n",
       "\n",
       "| <!--/--> | unt &lt;dbl&gt; | tgfb &lt;dbl&gt; | log2FC &lt;dbl&gt; | FDR &lt;dbl&gt; | p.value &lt;dbl&gt; |\n",
       "|---|---|---|---|---|---|\n",
       "| Serpina1c |  0.8882039 | -8.561984 | -9.450188 | 4.0000e-10 | 1.00e-10 |\n",
       "| Apoc2 |  1.3537993 | -7.987147 | -9.340946 | 0.0000e+00 | 0.00e+00 |\n",
       "| Ugt2b34 |  1.4160637 | -7.903516 | -9.319580 | 0.0000e+00 | 0.00e+00 |\n",
       "| Dio3os |  0.3207386 | -8.561984 | -8.882723 | 1.2283e-07 | 2.41e-08 |\n",
       "| Dio3 |  0.1231443 | -8.561984 | -8.685128 | 0.0000e+00 | 0.00e+00 |\n",
       "| Itih2 | -0.1366035 | -8.561984 | -8.425381 | 0.0000e+00 | 0.00e+00 |\n",
       "\n"
      ],
      "text/plain": [
       "          unt        tgfb      log2FC    FDR        p.value \n",
       "Serpina1c  0.8882039 -8.561984 -9.450188 4.0000e-10 1.00e-10\n",
       "Apoc2      1.3537993 -7.987147 -9.340946 0.0000e+00 0.00e+00\n",
       "Ugt2b34    1.4160637 -7.903516 -9.319580 0.0000e+00 0.00e+00\n",
       "Dio3os     0.3207386 -8.561984 -8.882723 1.2283e-07 2.41e-08\n",
       "Dio3       0.1231443 -8.561984 -8.685128 0.0000e+00 0.00e+00\n",
       "Itih2     -0.1366035 -8.561984 -8.425381 0.0000e+00 0.00e+00"
      ]
     },
     "metadata": {},
     "output_type": "display_data"
    },
    {
     "data": {
      "text/html": [
       "<style>\n",
       ".list-inline {list-style: none; margin:0; padding: 0}\n",
       ".list-inline>li {display: inline-block}\n",
       ".list-inline>li:not(:last-child)::after {content: \"\\00b7\"; padding: 0 .5ex}\n",
       "</style>\n",
       "<ol class=list-inline><li>6703</li><li>5</li></ol>\n"
      ],
      "text/latex": [
       "\\begin{enumerate*}\n",
       "\\item 6703\n",
       "\\item 5\n",
       "\\end{enumerate*}\n"
      ],
      "text/markdown": [
       "1. 6703\n",
       "2. 5\n",
       "\n",
       "\n"
      ],
      "text/plain": [
       "[1] 6703    5"
      ]
     },
     "metadata": {},
     "output_type": "display_data"
    },
    {
     "data": {
      "text/html": [
       "<style>\n",
       ".list-inline {list-style: none; margin:0; padding: 0}\n",
       ".list-inline>li {display: inline-block}\n",
       ".list-inline>li:not(:last-child)::after {content: \"\\00b7\"; padding: 0 .5ex}\n",
       "</style>\n",
       "<ol class=list-inline><li>'seqnames'</li><li>'start'</li><li>'end'</li><li>'width'</li><li>'strand'</li><li>'source'</li><li>'unt.transcription'</li><li>'tgfb.transcription'</li><li>'tgfbCX5461.transcription'</li><li>'log2FCuntVStgfb.transcription'</li><li>'FDRuntVStgfb.transcription'</li><li>'PuntVStgfb.transcription'</li><li>'log2FCtgfbVStgfbCX5461.transcription'</li><li>'FDRtgfbVStgfbCX5461.transcription'</li><li>'PtgfbVStgfbCX5461.transcription'</li><li>'unt.tgfb.DEtranscription'</li><li>'tgfb.tgfbCX5461.DEtranscription'</li><li>'reversible.transcription'</li><li>'unt.translation'</li><li>'tgfb.translation'</li><li>'tgfbCX5461.translation'</li><li>'log2FCuntVStgfb.translation'</li><li>'FDRuntVStgfb.translation'</li><li>'PuntVStgfb.translation'</li><li>'log2FCtgfbVStgfbCX5461.translation'</li><li>'FDRtgfbVStgfbCX5461.translation'</li><li>'PtgfbVStgfbCX5461.translation'</li><li>'unt.tgfb.DEtranslation'</li><li>'tgfb.tgfbCX5461.DEtranslation'</li><li>'reversible.translation'</li><li>'biotype'</li></ol>\n"
      ],
      "text/latex": [
       "\\begin{enumerate*}\n",
       "\\item 'seqnames'\n",
       "\\item 'start'\n",
       "\\item 'end'\n",
       "\\item 'width'\n",
       "\\item 'strand'\n",
       "\\item 'source'\n",
       "\\item 'unt.transcription'\n",
       "\\item 'tgfb.transcription'\n",
       "\\item 'tgfbCX5461.transcription'\n",
       "\\item 'log2FCuntVStgfb.transcription'\n",
       "\\item 'FDRuntVStgfb.transcription'\n",
       "\\item 'PuntVStgfb.transcription'\n",
       "\\item 'log2FCtgfbVStgfbCX5461.transcription'\n",
       "\\item 'FDRtgfbVStgfbCX5461.transcription'\n",
       "\\item 'PtgfbVStgfbCX5461.transcription'\n",
       "\\item 'unt.tgfb.DEtranscription'\n",
       "\\item 'tgfb.tgfbCX5461.DEtranscription'\n",
       "\\item 'reversible.transcription'\n",
       "\\item 'unt.translation'\n",
       "\\item 'tgfb.translation'\n",
       "\\item 'tgfbCX5461.translation'\n",
       "\\item 'log2FCuntVStgfb.translation'\n",
       "\\item 'FDRuntVStgfb.translation'\n",
       "\\item 'PuntVStgfb.translation'\n",
       "\\item 'log2FCtgfbVStgfbCX5461.translation'\n",
       "\\item 'FDRtgfbVStgfbCX5461.translation'\n",
       "\\item 'PtgfbVStgfbCX5461.translation'\n",
       "\\item 'unt.tgfb.DEtranslation'\n",
       "\\item 'tgfb.tgfbCX5461.DEtranslation'\n",
       "\\item 'reversible.translation'\n",
       "\\item 'biotype'\n",
       "\\end{enumerate*}\n"
      ],
      "text/markdown": [
       "1. 'seqnames'\n",
       "2. 'start'\n",
       "3. 'end'\n",
       "4. 'width'\n",
       "5. 'strand'\n",
       "6. 'source'\n",
       "7. 'unt.transcription'\n",
       "8. 'tgfb.transcription'\n",
       "9. 'tgfbCX5461.transcription'\n",
       "10. 'log2FCuntVStgfb.transcription'\n",
       "11. 'FDRuntVStgfb.transcription'\n",
       "12. 'PuntVStgfb.transcription'\n",
       "13. 'log2FCtgfbVStgfbCX5461.transcription'\n",
       "14. 'FDRtgfbVStgfbCX5461.transcription'\n",
       "15. 'PtgfbVStgfbCX5461.transcription'\n",
       "16. 'unt.tgfb.DEtranscription'\n",
       "17. 'tgfb.tgfbCX5461.DEtranscription'\n",
       "18. 'reversible.transcription'\n",
       "19. 'unt.translation'\n",
       "20. 'tgfb.translation'\n",
       "21. 'tgfbCX5461.translation'\n",
       "22. 'log2FCuntVStgfb.translation'\n",
       "23. 'FDRuntVStgfb.translation'\n",
       "24. 'PuntVStgfb.translation'\n",
       "25. 'log2FCtgfbVStgfbCX5461.translation'\n",
       "26. 'FDRtgfbVStgfbCX5461.translation'\n",
       "27. 'PtgfbVStgfbCX5461.translation'\n",
       "28. 'unt.tgfb.DEtranslation'\n",
       "29. 'tgfb.tgfbCX5461.DEtranslation'\n",
       "30. 'reversible.translation'\n",
       "31. 'biotype'\n",
       "\n",
       "\n"
      ],
      "text/plain": [
       " [1] \"seqnames\"                            \n",
       " [2] \"start\"                               \n",
       " [3] \"end\"                                 \n",
       " [4] \"width\"                               \n",
       " [5] \"strand\"                              \n",
       " [6] \"source\"                              \n",
       " [7] \"unt.transcription\"                   \n",
       " [8] \"tgfb.transcription\"                  \n",
       " [9] \"tgfbCX5461.transcription\"            \n",
       "[10] \"log2FCuntVStgfb.transcription\"       \n",
       "[11] \"FDRuntVStgfb.transcription\"          \n",
       "[12] \"PuntVStgfb.transcription\"            \n",
       "[13] \"log2FCtgfbVStgfbCX5461.transcription\"\n",
       "[14] \"FDRtgfbVStgfbCX5461.transcription\"   \n",
       "[15] \"PtgfbVStgfbCX5461.transcription\"     \n",
       "[16] \"unt.tgfb.DEtranscription\"            \n",
       "[17] \"tgfb.tgfbCX5461.DEtranscription\"     \n",
       "[18] \"reversible.transcription\"            \n",
       "[19] \"unt.translation\"                     \n",
       "[20] \"tgfb.translation\"                    \n",
       "[21] \"tgfbCX5461.translation\"              \n",
       "[22] \"log2FCuntVStgfb.translation\"         \n",
       "[23] \"FDRuntVStgfb.translation\"            \n",
       "[24] \"PuntVStgfb.translation\"              \n",
       "[25] \"log2FCtgfbVStgfbCX5461.translation\"  \n",
       "[26] \"FDRtgfbVStgfbCX5461.translation\"     \n",
       "[27] \"PtgfbVStgfbCX5461.translation\"       \n",
       "[28] \"unt.tgfb.DEtranslation\"              \n",
       "[29] \"tgfb.tgfbCX5461.DEtranslation\"       \n",
       "[30] \"reversible.translation\"              \n",
       "[31] \"biotype\"                             "
      ]
     },
     "metadata": {},
     "output_type": "display_data"
    },
    {
     "data": {
      "text/html": [
       "FALSE"
      ],
      "text/latex": [
       "FALSE"
      ],
      "text/markdown": [
       "FALSE"
      ],
      "text/plain": [
       "[1] FALSE"
      ]
     },
     "metadata": {},
     "output_type": "display_data"
    },
    {
     "data": {
      "text/html": [
       "<table class=\"dataframe\">\n",
       "<caption>A data.frame: 6 × 6</caption>\n",
       "<thead>\n",
       "\t<tr><th></th><th scope=col>unt</th><th scope=col>tgfb</th><th scope=col>log2FC</th><th scope=col>FDR</th><th scope=col>p.value</th><th scope=col>biotype</th></tr>\n",
       "\t<tr><th></th><th scope=col>&lt;dbl&gt;</th><th scope=col>&lt;dbl&gt;</th><th scope=col>&lt;dbl&gt;</th><th scope=col>&lt;dbl&gt;</th><th scope=col>&lt;dbl&gt;</th><th scope=col>&lt;chr&gt;</th></tr>\n",
       "</thead>\n",
       "<tbody>\n",
       "\t<tr><th scope=row>0610009E02Rik</th><td>-4.4542278</td><td>-5.8984265</td><td>-1.4441987</td><td>2.199116e-02</td><td>0.0114521064</td><td>lncRNA        </td></tr>\n",
       "\t<tr><th scope=row>0610010F05Rik</th><td>-0.5443124</td><td>-0.1829955</td><td> 0.3613169</td><td>8.558582e-03</td><td>0.0040252843</td><td>protein_coding</td></tr>\n",
       "\t<tr><th scope=row>0610010K14Rik</th><td>-1.0822802</td><td>-1.7397896</td><td>-0.6575094</td><td>1.465000e-03</td><td>0.0005896719</td><td>protein_coding</td></tr>\n",
       "\t<tr><th scope=row>0610040J01Rik</th><td>-1.1236084</td><td>-4.7394168</td><td>-3.6158084</td><td>1.100000e-10</td><td>0.0000000000</td><td>protein_coding</td></tr>\n",
       "\t<tr><th scope=row>1110002E22Rik</th><td>-0.7498065</td><td>-0.3413013</td><td> 0.4085052</td><td>1.645896e-02</td><td>0.0082826295</td><td>protein_coding</td></tr>\n",
       "\t<tr><th scope=row>1110002L01Rik</th><td>-1.6505374</td><td>-0.7176300</td><td> 0.9329074</td><td>5.682000e-06</td><td>0.0000014535</td><td>lncRNA        </td></tr>\n",
       "</tbody>\n",
       "</table>\n"
      ],
      "text/latex": [
       "A data.frame: 6 × 6\n",
       "\\begin{tabular}{r|llllll}\n",
       "  & unt & tgfb & log2FC & FDR & p.value & biotype\\\\\n",
       "  & <dbl> & <dbl> & <dbl> & <dbl> & <dbl> & <chr>\\\\\n",
       "\\hline\n",
       "\t0610009E02Rik & -4.4542278 & -5.8984265 & -1.4441987 & 2.199116e-02 & 0.0114521064 & lncRNA        \\\\\n",
       "\t0610010F05Rik & -0.5443124 & -0.1829955 &  0.3613169 & 8.558582e-03 & 0.0040252843 & protein\\_coding\\\\\n",
       "\t0610010K14Rik & -1.0822802 & -1.7397896 & -0.6575094 & 1.465000e-03 & 0.0005896719 & protein\\_coding\\\\\n",
       "\t0610040J01Rik & -1.1236084 & -4.7394168 & -3.6158084 & 1.100000e-10 & 0.0000000000 & protein\\_coding\\\\\n",
       "\t1110002E22Rik & -0.7498065 & -0.3413013 &  0.4085052 & 1.645896e-02 & 0.0082826295 & protein\\_coding\\\\\n",
       "\t1110002L01Rik & -1.6505374 & -0.7176300 &  0.9329074 & 5.682000e-06 & 0.0000014535 & lncRNA        \\\\\n",
       "\\end{tabular}\n"
      ],
      "text/markdown": [
       "\n",
       "A data.frame: 6 × 6\n",
       "\n",
       "| <!--/--> | unt &lt;dbl&gt; | tgfb &lt;dbl&gt; | log2FC &lt;dbl&gt; | FDR &lt;dbl&gt; | p.value &lt;dbl&gt; | biotype &lt;chr&gt; |\n",
       "|---|---|---|---|---|---|---|\n",
       "| 0610009E02Rik | -4.4542278 | -5.8984265 | -1.4441987 | 2.199116e-02 | 0.0114521064 | lncRNA         |\n",
       "| 0610010F05Rik | -0.5443124 | -0.1829955 |  0.3613169 | 8.558582e-03 | 0.0040252843 | protein_coding |\n",
       "| 0610010K14Rik | -1.0822802 | -1.7397896 | -0.6575094 | 1.465000e-03 | 0.0005896719 | protein_coding |\n",
       "| 0610040J01Rik | -1.1236084 | -4.7394168 | -3.6158084 | 1.100000e-10 | 0.0000000000 | protein_coding |\n",
       "| 1110002E22Rik | -0.7498065 | -0.3413013 |  0.4085052 | 1.645896e-02 | 0.0082826295 | protein_coding |\n",
       "| 1110002L01Rik | -1.6505374 | -0.7176300 |  0.9329074 | 5.682000e-06 | 0.0000014535 | lncRNA         |\n",
       "\n"
      ],
      "text/plain": [
       "              unt        tgfb       log2FC     FDR          p.value     \n",
       "0610009E02Rik -4.4542278 -5.8984265 -1.4441987 2.199116e-02 0.0114521064\n",
       "0610010F05Rik -0.5443124 -0.1829955  0.3613169 8.558582e-03 0.0040252843\n",
       "0610010K14Rik -1.0822802 -1.7397896 -0.6575094 1.465000e-03 0.0005896719\n",
       "0610040J01Rik -1.1236084 -4.7394168 -3.6158084 1.100000e-10 0.0000000000\n",
       "1110002E22Rik -0.7498065 -0.3413013  0.4085052 1.645896e-02 0.0082826295\n",
       "1110002L01Rik -1.6505374 -0.7176300  0.9329074 5.682000e-06 0.0000014535\n",
       "              biotype       \n",
       "0610009E02Rik lncRNA        \n",
       "0610010F05Rik protein_coding\n",
       "0610010K14Rik protein_coding\n",
       "0610040J01Rik protein_coding\n",
       "1110002E22Rik protein_coding\n",
       "1110002L01Rik lncRNA        "
      ]
     },
     "metadata": {},
     "output_type": "display_data"
    },
    {
     "data": {
      "text/html": [
       "<style>\n",
       ".list-inline {list-style: none; margin:0; padding: 0}\n",
       ".list-inline>li {display: inline-block}\n",
       ".list-inline>li:not(:last-child)::after {content: \"\\00b7\"; padding: 0 .5ex}\n",
       "</style>\n",
       "<ol class=list-inline><li>6703</li><li>6</li></ol>\n"
      ],
      "text/latex": [
       "\\begin{enumerate*}\n",
       "\\item 6703\n",
       "\\item 6\n",
       "\\end{enumerate*}\n"
      ],
      "text/markdown": [
       "1. 6703\n",
       "2. 6\n",
       "\n",
       "\n"
      ],
      "text/plain": [
       "[1] 6703    6"
      ]
     },
     "metadata": {},
     "output_type": "display_data"
    }
   ],
   "source": [
    "fname_mrna <- sprintf(\"blancgrp_211613_RNAseq_total_stranded.unt--vs--tgfb.diff-all.txt.gz\")\n",
    "df_mrna <- read.table(file = sprintf(\"%s/%s\", dir_rnaseq, fname_mrna), header = TRUE, \n",
    "    sep = \"\\t\", row.names = 1, quote = \"\", comment.char = \"#\", stringsAsFactors = F)\n",
    "\n",
    "if (!is.null(pattern_remove_gene)) {\n",
    "    dim(df_mrna)\n",
    "    df_mrna <- df_mrna[!grepl(pattern_remove_gene, rownames(df_mrna)), ]\n",
    "}\n",
    "head(df_mrna)\n",
    "dim(df_mrna)\n",
    "\n",
    "colnames(df_all)\n",
    "idx <- which(df_all[, \"unt.tgfb.DEtranscription\"] != \"notSig\")\n",
    "df_mrna <- df_mrna[rownames(df_all[idx, ]), ]\n",
    "\n",
    "# df_mrna$biotype\n",
    "idx <- match(rownames(df_mrna), rownames(df_all))\n",
    "any(is.na(idx))  # should be FALSE\n",
    "df_mrna$biotype <- df_all[idx, \"biotype\"]\n",
    "\n",
    "head(df_mrna)\n",
    "dim(df_mrna)\n",
    "\n",
    "if (f_write_table) {\n",
    "    fname_out <- sprintf(\"./data/table/170224%s.%s.unt48--vs--tgfb48.diff-all.txt\", \n",
    "        rundate_appendix, strdir)\n",
    "    write.table(df_mrna, file = fname_out, row.names = TRUE, col.names = NA, sep = \"\\t\", \n",
    "        quote = FALSE)\n",
    "}\n",
    "\n",
    "vec_log2FC <- df_mrna$log2FC\n",
    "vec_fdr <- df_mrna$FDR"
   ]
  },
  {
   "cell_type": "markdown",
   "metadata": {},
   "source": [
    "### sym_mrna_up"
   ]
  },
  {
   "cell_type": "code",
   "execution_count": 303,
   "metadata": {},
   "outputs": [
    {
     "data": {
      "text/html": [
       "<style>\n",
       ".list-inline {list-style: none; margin:0; padding: 0}\n",
       ".list-inline>li {display: inline-block}\n",
       ".list-inline>li:not(:last-child)::after {content: \"\\00b7\"; padding: 0 .5ex}\n",
       "</style>\n",
       "<ol class=list-inline><li>3318</li><li>6</li></ol>\n"
      ],
      "text/latex": [
       "\\begin{enumerate*}\n",
       "\\item 3318\n",
       "\\item 6\n",
       "\\end{enumerate*}\n"
      ],
      "text/markdown": [
       "1. 3318\n",
       "2. 6\n",
       "\n",
       "\n"
      ],
      "text/plain": [
       "[1] 3318    6"
      ]
     },
     "metadata": {},
     "output_type": "display_data"
    }
   ],
   "source": [
    "f_up <- (vec_fdr < th_adj_pvalue) & (vec_log2FC > th_log2fc)\n",
    "df_mrna_up <- df_mrna[f_up,]\n",
    "sym_mrna_up <- rownames(df_mrna_up)\n",
    "dim(df_mrna_up)\n",
    "\n",
    "list_genes[['sym_mrna_up']] <- sym_mrna_up"
   ]
  },
  {
   "cell_type": "markdown",
   "metadata": {},
   "source": [
    "### sym_mrna_dn"
   ]
  },
  {
   "cell_type": "code",
   "execution_count": 304,
   "metadata": {},
   "outputs": [
    {
     "data": {
      "text/html": [
       "<style>\n",
       ".list-inline {list-style: none; margin:0; padding: 0}\n",
       ".list-inline>li {display: inline-block}\n",
       ".list-inline>li:not(:last-child)::after {content: \"\\00b7\"; padding: 0 .5ex}\n",
       "</style>\n",
       "<ol class=list-inline><li>3385</li><li>6</li></ol>\n"
      ],
      "text/latex": [
       "\\begin{enumerate*}\n",
       "\\item 3385\n",
       "\\item 6\n",
       "\\end{enumerate*}\n"
      ],
      "text/markdown": [
       "1. 3385\n",
       "2. 6\n",
       "\n",
       "\n"
      ],
      "text/plain": [
       "[1] 3385    6"
      ]
     },
     "metadata": {},
     "output_type": "display_data"
    }
   ],
   "source": [
    "f_dn <- (vec_fdr < th_adj_pvalue) & (vec_log2FC < -th_log2fc)\n",
    "df_mrna_dn <- df_mrna[f_dn,]\n",
    "sym_mrna_dn <- rownames(df_mrna_dn)\n",
    "dim(df_mrna_dn)\n",
    "\n",
    "list_genes[['sym_mrna_dn']] <- sym_mrna_dn"
   ]
  },
  {
   "cell_type": "markdown",
   "metadata": {},
   "source": [
    "### sym_mrna_dn3x"
   ]
  },
  {
   "cell_type": "code",
   "execution_count": 305,
   "metadata": {},
   "outputs": [
    {
     "data": {
      "text/html": [
       "<table class=\"dataframe\">\n",
       "<caption>A data.frame: 6 × 6</caption>\n",
       "<thead>\n",
       "\t<tr><th></th><th scope=col>unt</th><th scope=col>tgfb</th><th scope=col>log2FC</th><th scope=col>FDR</th><th scope=col>p.value</th><th scope=col>biotype</th></tr>\n",
       "\t<tr><th></th><th scope=col>&lt;dbl&gt;</th><th scope=col>&lt;dbl&gt;</th><th scope=col>&lt;dbl&gt;</th><th scope=col>&lt;dbl&gt;</th><th scope=col>&lt;dbl&gt;</th><th scope=col>&lt;chr&gt;</th></tr>\n",
       "</thead>\n",
       "<tbody>\n",
       "\t<tr><th scope=row>9530085L11Rik</th><td>-4.220872</td><td>-5.7698400</td><td>-1.548968</td><td>0.0211031647</td><td>0.0109409995</td><td>TEC           </td></tr>\n",
       "\t<tr><th scope=row>Abcc4</th><td> 2.641104</td><td> 1.0325850</td><td>-1.608520</td><td>0.0000000000</td><td>0.0000000000</td><td>protein_coding</td></tr>\n",
       "\t<tr><th scope=row>Abcd3</th><td> 1.851418</td><td> 0.3012823</td><td>-1.550135</td><td>0.0000000000</td><td>0.0000000000</td><td>protein_coding</td></tr>\n",
       "\t<tr><th scope=row>Acaa1b</th><td>-2.754737</td><td>-4.2869754</td><td>-1.532238</td><td>0.0006501193</td><td>0.0002427825</td><td>protein_coding</td></tr>\n",
       "\t<tr><th scope=row>Acox2</th><td> 0.520881</td><td>-0.9882475</td><td>-1.509129</td><td>0.0000000000</td><td>0.0000000000</td><td>protein_coding</td></tr>\n",
       "\t<tr><th scope=row>Adhfe1</th><td>-4.589387</td><td>-6.1869391</td><td>-1.597552</td><td>0.0312734336</td><td>0.0169447860</td><td>protein_coding</td></tr>\n",
       "</tbody>\n",
       "</table>\n"
      ],
      "text/latex": [
       "A data.frame: 6 × 6\n",
       "\\begin{tabular}{r|llllll}\n",
       "  & unt & tgfb & log2FC & FDR & p.value & biotype\\\\\n",
       "  & <dbl> & <dbl> & <dbl> & <dbl> & <dbl> & <chr>\\\\\n",
       "\\hline\n",
       "\t9530085L11Rik & -4.220872 & -5.7698400 & -1.548968 & 0.0211031647 & 0.0109409995 & TEC           \\\\\n",
       "\tAbcc4 &  2.641104 &  1.0325850 & -1.608520 & 0.0000000000 & 0.0000000000 & protein\\_coding\\\\\n",
       "\tAbcd3 &  1.851418 &  0.3012823 & -1.550135 & 0.0000000000 & 0.0000000000 & protein\\_coding\\\\\n",
       "\tAcaa1b & -2.754737 & -4.2869754 & -1.532238 & 0.0006501193 & 0.0002427825 & protein\\_coding\\\\\n",
       "\tAcox2 &  0.520881 & -0.9882475 & -1.509129 & 0.0000000000 & 0.0000000000 & protein\\_coding\\\\\n",
       "\tAdhfe1 & -4.589387 & -6.1869391 & -1.597552 & 0.0312734336 & 0.0169447860 & protein\\_coding\\\\\n",
       "\\end{tabular}\n"
      ],
      "text/markdown": [
       "\n",
       "A data.frame: 6 × 6\n",
       "\n",
       "| <!--/--> | unt &lt;dbl&gt; | tgfb &lt;dbl&gt; | log2FC &lt;dbl&gt; | FDR &lt;dbl&gt; | p.value &lt;dbl&gt; | biotype &lt;chr&gt; |\n",
       "|---|---|---|---|---|---|---|\n",
       "| 9530085L11Rik | -4.220872 | -5.7698400 | -1.548968 | 0.0211031647 | 0.0109409995 | TEC            |\n",
       "| Abcc4 |  2.641104 |  1.0325850 | -1.608520 | 0.0000000000 | 0.0000000000 | protein_coding |\n",
       "| Abcd3 |  1.851418 |  0.3012823 | -1.550135 | 0.0000000000 | 0.0000000000 | protein_coding |\n",
       "| Acaa1b | -2.754737 | -4.2869754 | -1.532238 | 0.0006501193 | 0.0002427825 | protein_coding |\n",
       "| Acox2 |  0.520881 | -0.9882475 | -1.509129 | 0.0000000000 | 0.0000000000 | protein_coding |\n",
       "| Adhfe1 | -4.589387 | -6.1869391 | -1.597552 | 0.0312734336 | 0.0169447860 | protein_coding |\n",
       "\n"
      ],
      "text/plain": [
       "              unt       tgfb       log2FC    FDR          p.value     \n",
       "9530085L11Rik -4.220872 -5.7698400 -1.548968 0.0211031647 0.0109409995\n",
       "Abcc4          2.641104  1.0325850 -1.608520 0.0000000000 0.0000000000\n",
       "Abcd3          1.851418  0.3012823 -1.550135 0.0000000000 0.0000000000\n",
       "Acaa1b        -2.754737 -4.2869754 -1.532238 0.0006501193 0.0002427825\n",
       "Acox2          0.520881 -0.9882475 -1.509129 0.0000000000 0.0000000000\n",
       "Adhfe1        -4.589387 -6.1869391 -1.597552 0.0312734336 0.0169447860\n",
       "              biotype       \n",
       "9530085L11Rik TEC           \n",
       "Abcc4         protein_coding\n",
       "Abcd3         protein_coding\n",
       "Acaa1b        protein_coding\n",
       "Acox2         protein_coding\n",
       "Adhfe1        protein_coding"
      ]
     },
     "metadata": {},
     "output_type": "display_data"
    },
    {
     "data": {
      "text/html": [
       "<style>\n",
       ".list-inline {list-style: none; margin:0; padding: 0}\n",
       ".list-inline>li {display: inline-block}\n",
       ".list-inline>li:not(:last-child)::after {content: \"\\00b7\"; padding: 0 .5ex}\n",
       "</style>\n",
       "<ol class=list-inline><li>150</li><li>6</li></ol>\n"
      ],
      "text/latex": [
       "\\begin{enumerate*}\n",
       "\\item 150\n",
       "\\item 6\n",
       "\\end{enumerate*}\n"
      ],
      "text/markdown": [
       "1. 150\n",
       "2. 6\n",
       "\n",
       "\n"
      ],
      "text/plain": [
       "[1] 150   6"
      ]
     },
     "metadata": {},
     "output_type": "display_data"
    }
   ],
   "source": [
    "f_dn3x <- (vec_fdr < th_adj_pvalue) & \n",
    "         (vec_log2FC > -log2(3.15) & vec_log2FC < -log2(2.75))\n",
    "df_mrna_dn3x <- df_mrna[f_dn3x,]\n",
    "sym_mrna_dn3x <- rownames(df_mrna_dn3x)\n",
    "head(df_mrna_dn3x)\n",
    "dim(df_mrna_dn3x)\n",
    "\n",
    "list_genes[['sym_mrna_dn3x']] <- sym_mrna_dn3x"
   ]
  },
  {
   "cell_type": "markdown",
   "metadata": {},
   "source": [
    "### sym_mrna"
   ]
  },
  {
   "cell_type": "code",
   "execution_count": 306,
   "metadata": {},
   "outputs": [
    {
     "data": {
      "text/html": [
       "6703"
      ],
      "text/latex": [
       "6703"
      ],
      "text/markdown": [
       "6703"
      ],
      "text/plain": [
       "[1] 6703"
      ]
     },
     "metadata": {},
     "output_type": "display_data"
    }
   ],
   "source": [
    "sym_mrna <- union(sym_mrna_up, sym_mrna_dn)\n",
    "length(sym_mrna)\n",
    "\n",
    "df_mrna <- df_mrna[sym_mrna,,drop=F]"
   ]
  },
  {
   "cell_type": "markdown",
   "metadata": {},
   "source": [
    "### sym_mrna_no"
   ]
  },
  {
   "cell_type": "code",
   "execution_count": 307,
   "metadata": {},
   "outputs": [
    {
     "data": {
      "text/html": [
       "6303"
      ],
      "text/latex": [
       "6303"
      ],
      "text/markdown": [
       "6303"
      ],
      "text/plain": [
       "[1] 6303"
      ]
     },
     "metadata": {},
     "output_type": "display_data"
    }
   ],
   "source": [
    "sym_mrna_no <- setdiff(sym_rnaseq, sym_mrna)\n",
    "length(sym_mrna_no)\n",
    "\n",
    "# Not DE in total RNA-seq for control vs. tgfb48\n",
    "# with GRCm38.97.gtf RSEM: 7732\n",
    "# with GRCm38.97.gtf HTSEQ: 7630\n",
    "# with GRCm38.97.rRNA.gtf: 7703"
   ]
  },
  {
   "cell_type": "markdown",
   "metadata": {},
   "source": [
    "### sym_mrna_de_detected_both"
   ]
  },
  {
   "cell_type": "code",
   "execution_count": 308,
   "metadata": {},
   "outputs": [
    {
     "data": {
      "text/html": [
       "5654"
      ],
      "text/latex": [
       "5654"
      ],
      "text/markdown": [
       "5654"
      ],
      "text/plain": [
       "[1] 5654"
      ]
     },
     "metadata": {},
     "output_type": "display_data"
    }
   ],
   "source": [
    "sym_mrna_de_detected_both <- intersect(sym_mrna, sym_detected_both)\n",
    "length(sym_mrna_de_detected_both)\n"
   ]
  },
  {
   "cell_type": "markdown",
   "metadata": {},
   "source": [
    "## df_ribo"
   ]
  },
  {
   "cell_type": "code",
   "execution_count": 309,
   "metadata": {},
   "outputs": [
    {
     "data": {
      "text/html": [
       "<table class=\"dataframe\">\n",
       "<caption>A data.frame: 6 × 5</caption>\n",
       "<thead>\n",
       "\t<tr><th></th><th scope=col>unt48</th><th scope=col>tgfb48</th><th scope=col>log2FC</th><th scope=col>FDR</th><th scope=col>p.value</th></tr>\n",
       "\t<tr><th></th><th scope=col>&lt;dbl&gt;</th><th scope=col>&lt;dbl&gt;</th><th scope=col>&lt;dbl&gt;</th><th scope=col>&lt;dbl&gt;</th><th scope=col>&lt;dbl&gt;</th></tr>\n",
       "</thead>\n",
       "<tbody>\n",
       "\t<tr><th scope=row>Akr1c19</th><td> 1.2798329</td><td>-5.394223</td><td>-6.674056</td><td>3.231760e-06</td><td>1.19600e-07</td></tr>\n",
       "\t<tr><th scope=row>Gm22973</th><td> 0.4065654</td><td>-5.394223</td><td>-5.800788</td><td>2.505955e-04</td><td>1.79206e-05</td></tr>\n",
       "\t<tr><th scope=row>Lgals4</th><td> 4.0592875</td><td>-1.190004</td><td>-5.249291</td><td>0.000000e+00</td><td>0.00000e+00</td></tr>\n",
       "\t<tr><th scope=row>Gm10076</th><td> 1.6797900</td><td>-3.459413</td><td>-5.139203</td><td>6.104391e-04</td><td>5.02679e-05</td></tr>\n",
       "\t<tr><th scope=row>Apoc2</th><td>-0.3649858</td><td>-5.394223</td><td>-5.029237</td><td>2.057103e-04</td><td>1.41371e-05</td></tr>\n",
       "\t<tr><th scope=row>Ugt2b34</th><td> 2.0156044</td><td>-2.992556</td><td>-5.008161</td><td>6.005600e-07</td><td>1.75000e-08</td></tr>\n",
       "</tbody>\n",
       "</table>\n"
      ],
      "text/latex": [
       "A data.frame: 6 × 5\n",
       "\\begin{tabular}{r|lllll}\n",
       "  & unt48 & tgfb48 & log2FC & FDR & p.value\\\\\n",
       "  & <dbl> & <dbl> & <dbl> & <dbl> & <dbl>\\\\\n",
       "\\hline\n",
       "\tAkr1c19 &  1.2798329 & -5.394223 & -6.674056 & 3.231760e-06 & 1.19600e-07\\\\\n",
       "\tGm22973 &  0.4065654 & -5.394223 & -5.800788 & 2.505955e-04 & 1.79206e-05\\\\\n",
       "\tLgals4 &  4.0592875 & -1.190004 & -5.249291 & 0.000000e+00 & 0.00000e+00\\\\\n",
       "\tGm10076 &  1.6797900 & -3.459413 & -5.139203 & 6.104391e-04 & 5.02679e-05\\\\\n",
       "\tApoc2 & -0.3649858 & -5.394223 & -5.029237 & 2.057103e-04 & 1.41371e-05\\\\\n",
       "\tUgt2b34 &  2.0156044 & -2.992556 & -5.008161 & 6.005600e-07 & 1.75000e-08\\\\\n",
       "\\end{tabular}\n"
      ],
      "text/markdown": [
       "\n",
       "A data.frame: 6 × 5\n",
       "\n",
       "| <!--/--> | unt48 &lt;dbl&gt; | tgfb48 &lt;dbl&gt; | log2FC &lt;dbl&gt; | FDR &lt;dbl&gt; | p.value &lt;dbl&gt; |\n",
       "|---|---|---|---|---|---|\n",
       "| Akr1c19 |  1.2798329 | -5.394223 | -6.674056 | 3.231760e-06 | 1.19600e-07 |\n",
       "| Gm22973 |  0.4065654 | -5.394223 | -5.800788 | 2.505955e-04 | 1.79206e-05 |\n",
       "| Lgals4 |  4.0592875 | -1.190004 | -5.249291 | 0.000000e+00 | 0.00000e+00 |\n",
       "| Gm10076 |  1.6797900 | -3.459413 | -5.139203 | 6.104391e-04 | 5.02679e-05 |\n",
       "| Apoc2 | -0.3649858 | -5.394223 | -5.029237 | 2.057103e-04 | 1.41371e-05 |\n",
       "| Ugt2b34 |  2.0156044 | -2.992556 | -5.008161 | 6.005600e-07 | 1.75000e-08 |\n",
       "\n"
      ],
      "text/plain": [
       "        unt48      tgfb48    log2FC    FDR          p.value    \n",
       "Akr1c19  1.2798329 -5.394223 -6.674056 3.231760e-06 1.19600e-07\n",
       "Gm22973  0.4065654 -5.394223 -5.800788 2.505955e-04 1.79206e-05\n",
       "Lgals4   4.0592875 -1.190004 -5.249291 0.000000e+00 0.00000e+00\n",
       "Gm10076  1.6797900 -3.459413 -5.139203 6.104391e-04 5.02679e-05\n",
       "Apoc2   -0.3649858 -5.394223 -5.029237 2.057103e-04 1.41371e-05\n",
       "Ugt2b34  2.0156044 -2.992556 -5.008161 6.005600e-07 1.75000e-08"
      ]
     },
     "metadata": {},
     "output_type": "display_data"
    },
    {
     "data": {
      "text/html": [
       "<style>\n",
       ".list-inline {list-style: none; margin:0; padding: 0}\n",
       ".list-inline>li {display: inline-block}\n",
       ".list-inline>li:not(:last-child)::after {content: \"\\00b7\"; padding: 0 .5ex}\n",
       "</style>\n",
       "<ol class=list-inline><li>2603</li><li>5</li></ol>\n"
      ],
      "text/latex": [
       "\\begin{enumerate*}\n",
       "\\item 2603\n",
       "\\item 5\n",
       "\\end{enumerate*}\n"
      ],
      "text/markdown": [
       "1. 2603\n",
       "2. 5\n",
       "\n",
       "\n"
      ],
      "text/plain": [
       "[1] 2603    5"
      ]
     },
     "metadata": {},
     "output_type": "display_data"
    },
    {
     "data": {
      "text/html": [
       "FALSE"
      ],
      "text/latex": [
       "FALSE"
      ],
      "text/markdown": [
       "FALSE"
      ],
      "text/plain": [
       "[1] FALSE"
      ]
     },
     "metadata": {},
     "output_type": "display_data"
    },
    {
     "data": {
      "text/html": [
       "<table class=\"dataframe\">\n",
       "<caption>A data.frame: 6 × 6</caption>\n",
       "<thead>\n",
       "\t<tr><th></th><th scope=col>unt48</th><th scope=col>tgfb48</th><th scope=col>log2FC</th><th scope=col>FDR</th><th scope=col>p.value</th><th scope=col>biotype</th></tr>\n",
       "\t<tr><th></th><th scope=col>&lt;dbl&gt;</th><th scope=col>&lt;dbl&gt;</th><th scope=col>&lt;dbl&gt;</th><th scope=col>&lt;dbl&gt;</th><th scope=col>&lt;dbl&gt;</th><th scope=col>&lt;chr&gt;</th></tr>\n",
       "</thead>\n",
       "<tbody>\n",
       "\t<tr><th scope=row>1110038B12Rik</th><td> 2.6703556</td><td> 2.3172192</td><td>-0.3531364</td><td>2.700556e-02</td><td>0.0049270853</td><td>lncRNA        </td></tr>\n",
       "\t<tr><th scope=row>1110059E24Rik</th><td> 0.1306316</td><td>-0.8647351</td><td>-0.9953667</td><td>2.004643e-02</td><td>0.0034012561</td><td>protein_coding</td></tr>\n",
       "\t<tr><th scope=row>1500011B03Rik</th><td>-0.6397620</td><td>-2.0752952</td><td>-1.4355331</td><td>2.352269e-02</td><td>0.0041348011</td><td>protein_coding</td></tr>\n",
       "\t<tr><th scope=row>1700015I17Rik</th><td>-3.3048711</td><td>-1.0700091</td><td> 2.2348621</td><td>8.306292e-03</td><td>0.0011381517</td><td>lncRNA        </td></tr>\n",
       "\t<tr><th scope=row>1700017B05Rik</th><td> 0.9365901</td><td> 2.0120754</td><td> 1.0754853</td><td>1.137532e-05</td><td>0.0000004984</td><td>protein_coding</td></tr>\n",
       "\t<tr><th scope=row>1700037H04Rik</th><td> 0.1562650</td><td>-1.1485832</td><td>-1.3048481</td><td>1.614225e-02</td><td>0.0025791538</td><td>protein_coding</td></tr>\n",
       "</tbody>\n",
       "</table>\n"
      ],
      "text/latex": [
       "A data.frame: 6 × 6\n",
       "\\begin{tabular}{r|llllll}\n",
       "  & unt48 & tgfb48 & log2FC & FDR & p.value & biotype\\\\\n",
       "  & <dbl> & <dbl> & <dbl> & <dbl> & <dbl> & <chr>\\\\\n",
       "\\hline\n",
       "\t1110038B12Rik &  2.6703556 &  2.3172192 & -0.3531364 & 2.700556e-02 & 0.0049270853 & lncRNA        \\\\\n",
       "\t1110059E24Rik &  0.1306316 & -0.8647351 & -0.9953667 & 2.004643e-02 & 0.0034012561 & protein\\_coding\\\\\n",
       "\t1500011B03Rik & -0.6397620 & -2.0752952 & -1.4355331 & 2.352269e-02 & 0.0041348011 & protein\\_coding\\\\\n",
       "\t1700015I17Rik & -3.3048711 & -1.0700091 &  2.2348621 & 8.306292e-03 & 0.0011381517 & lncRNA        \\\\\n",
       "\t1700017B05Rik &  0.9365901 &  2.0120754 &  1.0754853 & 1.137532e-05 & 0.0000004984 & protein\\_coding\\\\\n",
       "\t1700037H04Rik &  0.1562650 & -1.1485832 & -1.3048481 & 1.614225e-02 & 0.0025791538 & protein\\_coding\\\\\n",
       "\\end{tabular}\n"
      ],
      "text/markdown": [
       "\n",
       "A data.frame: 6 × 6\n",
       "\n",
       "| <!--/--> | unt48 &lt;dbl&gt; | tgfb48 &lt;dbl&gt; | log2FC &lt;dbl&gt; | FDR &lt;dbl&gt; | p.value &lt;dbl&gt; | biotype &lt;chr&gt; |\n",
       "|---|---|---|---|---|---|---|\n",
       "| 1110038B12Rik |  2.6703556 |  2.3172192 | -0.3531364 | 2.700556e-02 | 0.0049270853 | lncRNA         |\n",
       "| 1110059E24Rik |  0.1306316 | -0.8647351 | -0.9953667 | 2.004643e-02 | 0.0034012561 | protein_coding |\n",
       "| 1500011B03Rik | -0.6397620 | -2.0752952 | -1.4355331 | 2.352269e-02 | 0.0041348011 | protein_coding |\n",
       "| 1700015I17Rik | -3.3048711 | -1.0700091 |  2.2348621 | 8.306292e-03 | 0.0011381517 | lncRNA         |\n",
       "| 1700017B05Rik |  0.9365901 |  2.0120754 |  1.0754853 | 1.137532e-05 | 0.0000004984 | protein_coding |\n",
       "| 1700037H04Rik |  0.1562650 | -1.1485832 | -1.3048481 | 1.614225e-02 | 0.0025791538 | protein_coding |\n",
       "\n"
      ],
      "text/plain": [
       "              unt48      tgfb48     log2FC     FDR          p.value     \n",
       "1110038B12Rik  2.6703556  2.3172192 -0.3531364 2.700556e-02 0.0049270853\n",
       "1110059E24Rik  0.1306316 -0.8647351 -0.9953667 2.004643e-02 0.0034012561\n",
       "1500011B03Rik -0.6397620 -2.0752952 -1.4355331 2.352269e-02 0.0041348011\n",
       "1700015I17Rik -3.3048711 -1.0700091  2.2348621 8.306292e-03 0.0011381517\n",
       "1700017B05Rik  0.9365901  2.0120754  1.0754853 1.137532e-05 0.0000004984\n",
       "1700037H04Rik  0.1562650 -1.1485832 -1.3048481 1.614225e-02 0.0025791538\n",
       "              biotype       \n",
       "1110038B12Rik lncRNA        \n",
       "1110059E24Rik protein_coding\n",
       "1500011B03Rik protein_coding\n",
       "1700015I17Rik lncRNA        \n",
       "1700017B05Rik protein_coding\n",
       "1700037H04Rik protein_coding"
      ]
     },
     "metadata": {},
     "output_type": "display_data"
    },
    {
     "data": {
      "text/html": [
       "<style>\n",
       ".list-inline {list-style: none; margin:0; padding: 0}\n",
       ".list-inline>li {display: inline-block}\n",
       ".list-inline>li:not(:last-child)::after {content: \"\\00b7\"; padding: 0 .5ex}\n",
       "</style>\n",
       "<ol class=list-inline><li>2603</li><li>6</li></ol>\n"
      ],
      "text/latex": [
       "\\begin{enumerate*}\n",
       "\\item 2603\n",
       "\\item 6\n",
       "\\end{enumerate*}\n"
      ],
      "text/markdown": [
       "1. 2603\n",
       "2. 6\n",
       "\n",
       "\n"
      ],
      "text/plain": [
       "[1] 2603    6"
      ]
     },
     "metadata": {},
     "output_type": "display_data"
    }
   ],
   "source": [
    "# dir_riboseq <- '../data/limma-voom.mrna/161021/NMuMG' fname_ribo <-\n",
    "# 'emt.161021.limma-voom.mrna.limma.gene.unt48--vs--tgfb48.diff-all.txt'\n",
    "fname_ribo <- sprintf(\"blancgrp_161021_Riboseq.unt48--vs--tgfb48.diff-all.txt.gz\")\n",
    "df_ribo <- read.table(file = sprintf(\"%s/%s\", dir_riboseq, fname_ribo), header = TRUE, \n",
    "    sep = \"\\t\", row.names = 1, quote = \"\", comment.char = \"#\", stringsAsFactors = F)\n",
    "\n",
    "if (!is.null(pattern_remove_gene)) {\n",
    "    dim(df_ribo)\n",
    "    df_ribo <- df_ribo[!grepl(pattern_remove_gene, rownames(df_ribo)), ]\n",
    "}\n",
    "head(df_ribo)\n",
    "dim(df_ribo)\n",
    "\n",
    "idx <- which(df_all[, \"unt.tgfb.DEtranslation\"] != \"notSig\")\n",
    "df_ribo <- df_ribo[rownames(df_all[idx, ]), ]\n",
    "\n",
    "# df_mrna$biotype\n",
    "idx <- match(rownames(df_ribo), rownames(df_all))\n",
    "any(is.na(idx))  # should be FALSE\n",
    "df_ribo$biotype <- df_all[idx, \"biotype\"]\n",
    "\n",
    "head(df_ribo)\n",
    "dim(df_ribo)\n",
    "\n",
    "\n",
    "if (f_write_table) {\n",
    "    fname_out <- sprintf(\"./data/table/161021%s.%s.unt48--vs--tgfb48.diff-all.txt\", \n",
    "        rundate_appendix, strdir)\n",
    "    write.table(df_ribo, file = fname_out, row.names = TRUE, col.names = NA, sep = \"\\t\", \n",
    "        quote = FALSE)\n",
    "}\n",
    "\n",
    "vec_log2FC <- df_ribo$log2FC\n",
    "vec_fdr <- df_ribo$FDR\n"
   ]
  },
  {
   "cell_type": "markdown",
   "metadata": {},
   "source": [
    "### sym_ribo_up"
   ]
  },
  {
   "cell_type": "code",
   "execution_count": 310,
   "metadata": {},
   "outputs": [
    {
     "data": {
      "text/html": [
       "<style>\n",
       ".list-inline {list-style: none; margin:0; padding: 0}\n",
       ".list-inline>li {display: inline-block}\n",
       ".list-inline>li:not(:last-child)::after {content: \"\\00b7\"; padding: 0 .5ex}\n",
       "</style>\n",
       "<ol class=list-inline><li>1351</li><li>6</li></ol>\n"
      ],
      "text/latex": [
       "\\begin{enumerate*}\n",
       "\\item 1351\n",
       "\\item 6\n",
       "\\end{enumerate*}\n"
      ],
      "text/markdown": [
       "1. 1351\n",
       "2. 6\n",
       "\n",
       "\n"
      ],
      "text/plain": [
       "[1] 1351    6"
      ]
     },
     "metadata": {},
     "output_type": "display_data"
    }
   ],
   "source": [
    "f_up <- (vec_fdr < th_adj_pvalue) & (vec_log2FC > th_log2fc)\n",
    "df_ribo_up <- df_ribo[f_up,]\n",
    "sym_ribo_up <- rownames(df_ribo_up)\n",
    "dim(df_ribo_up)\n",
    "\n",
    "list_genes[['sym_ribo_up']] <- sym_ribo_up"
   ]
  },
  {
   "cell_type": "markdown",
   "metadata": {},
   "source": [
    "### sym_ribo_dn"
   ]
  },
  {
   "cell_type": "code",
   "execution_count": 311,
   "metadata": {},
   "outputs": [
    {
     "data": {
      "text/html": [
       "<style>\n",
       ".list-inline {list-style: none; margin:0; padding: 0}\n",
       ".list-inline>li {display: inline-block}\n",
       ".list-inline>li:not(:last-child)::after {content: \"\\00b7\"; padding: 0 .5ex}\n",
       "</style>\n",
       "<ol class=list-inline><li>1252</li><li>6</li></ol>\n"
      ],
      "text/latex": [
       "\\begin{enumerate*}\n",
       "\\item 1252\n",
       "\\item 6\n",
       "\\end{enumerate*}\n"
      ],
      "text/markdown": [
       "1. 1252\n",
       "2. 6\n",
       "\n",
       "\n"
      ],
      "text/plain": [
       "[1] 1252    6"
      ]
     },
     "metadata": {},
     "output_type": "display_data"
    }
   ],
   "source": [
    "f_dn <- (vec_fdr < th_adj_pvalue) & (vec_log2FC < -th_log2fc)\n",
    "df_ribo_dn <- df_ribo[f_dn,]\n",
    "sym_ribo_dn <- rownames(df_ribo_dn)\n",
    "dim(df_ribo_dn)\n",
    "\n",
    "list_genes[['sym_ribo_dn']] <- sym_ribo_dn"
   ]
  },
  {
   "cell_type": "markdown",
   "metadata": {},
   "source": [
    "### sym_ribo_dn3x"
   ]
  },
  {
   "cell_type": "code",
   "execution_count": 312,
   "metadata": {},
   "outputs": [
    {
     "data": {
      "text/html": [
       "<table class=\"dataframe\">\n",
       "<caption>A data.frame: 6 × 6</caption>\n",
       "<thead>\n",
       "\t<tr><th></th><th scope=col>unt48</th><th scope=col>tgfb48</th><th scope=col>log2FC</th><th scope=col>FDR</th><th scope=col>p.value</th><th scope=col>biotype</th></tr>\n",
       "\t<tr><th></th><th scope=col>&lt;dbl&gt;</th><th scope=col>&lt;dbl&gt;</th><th scope=col>&lt;dbl&gt;</th><th scope=col>&lt;dbl&gt;</th><th scope=col>&lt;dbl&gt;</th><th scope=col>&lt;chr&gt;</th></tr>\n",
       "</thead>\n",
       "<tbody>\n",
       "\t<tr><th scope=row>Abcc3</th><td> 1.6548980</td><td> 0.04332324</td><td>-1.611575</td><td>1.186433e-05</td><td>0.0000005251</td><td>protein_coding</td></tr>\n",
       "\t<tr><th scope=row>Agpat1</th><td>-0.4103686</td><td>-1.89449402</td><td>-1.484125</td><td>3.770700e-02</td><td>0.0075080874</td><td>protein_coding</td></tr>\n",
       "\t<tr><th scope=row>Aldoc</th><td> 0.4498243</td><td>-1.16153400</td><td>-1.611358</td><td>7.964878e-04</td><td>0.0000680759</td><td>protein_coding</td></tr>\n",
       "\t<tr><th scope=row>Angpt2</th><td>-0.7769103</td><td>-2.41493036</td><td>-1.638020</td><td>2.014007e-02</td><td>0.0034210259</td><td>protein_coding</td></tr>\n",
       "\t<tr><th scope=row>Anxa4</th><td> 4.5400311</td><td> 2.98809266</td><td>-1.551938</td><td>0.000000e+00</td><td>0.0000000000</td><td>protein_coding</td></tr>\n",
       "\t<tr><th scope=row>Arpc5l</th><td> 1.2752314</td><td>-0.26209684</td><td>-1.537328</td><td>5.123173e-05</td><td>0.0000027798</td><td>protein_coding</td></tr>\n",
       "</tbody>\n",
       "</table>\n"
      ],
      "text/latex": [
       "A data.frame: 6 × 6\n",
       "\\begin{tabular}{r|llllll}\n",
       "  & unt48 & tgfb48 & log2FC & FDR & p.value & biotype\\\\\n",
       "  & <dbl> & <dbl> & <dbl> & <dbl> & <dbl> & <chr>\\\\\n",
       "\\hline\n",
       "\tAbcc3 &  1.6548980 &  0.04332324 & -1.611575 & 1.186433e-05 & 0.0000005251 & protein\\_coding\\\\\n",
       "\tAgpat1 & -0.4103686 & -1.89449402 & -1.484125 & 3.770700e-02 & 0.0075080874 & protein\\_coding\\\\\n",
       "\tAldoc &  0.4498243 & -1.16153400 & -1.611358 & 7.964878e-04 & 0.0000680759 & protein\\_coding\\\\\n",
       "\tAngpt2 & -0.7769103 & -2.41493036 & -1.638020 & 2.014007e-02 & 0.0034210259 & protein\\_coding\\\\\n",
       "\tAnxa4 &  4.5400311 &  2.98809266 & -1.551938 & 0.000000e+00 & 0.0000000000 & protein\\_coding\\\\\n",
       "\tArpc5l &  1.2752314 & -0.26209684 & -1.537328 & 5.123173e-05 & 0.0000027798 & protein\\_coding\\\\\n",
       "\\end{tabular}\n"
      ],
      "text/markdown": [
       "\n",
       "A data.frame: 6 × 6\n",
       "\n",
       "| <!--/--> | unt48 &lt;dbl&gt; | tgfb48 &lt;dbl&gt; | log2FC &lt;dbl&gt; | FDR &lt;dbl&gt; | p.value &lt;dbl&gt; | biotype &lt;chr&gt; |\n",
       "|---|---|---|---|---|---|---|\n",
       "| Abcc3 |  1.6548980 |  0.04332324 | -1.611575 | 1.186433e-05 | 0.0000005251 | protein_coding |\n",
       "| Agpat1 | -0.4103686 | -1.89449402 | -1.484125 | 3.770700e-02 | 0.0075080874 | protein_coding |\n",
       "| Aldoc |  0.4498243 | -1.16153400 | -1.611358 | 7.964878e-04 | 0.0000680759 | protein_coding |\n",
       "| Angpt2 | -0.7769103 | -2.41493036 | -1.638020 | 2.014007e-02 | 0.0034210259 | protein_coding |\n",
       "| Anxa4 |  4.5400311 |  2.98809266 | -1.551938 | 0.000000e+00 | 0.0000000000 | protein_coding |\n",
       "| Arpc5l |  1.2752314 | -0.26209684 | -1.537328 | 5.123173e-05 | 0.0000027798 | protein_coding |\n",
       "\n"
      ],
      "text/plain": [
       "       unt48      tgfb48      log2FC    FDR          p.value     \n",
       "Abcc3   1.6548980  0.04332324 -1.611575 1.186433e-05 0.0000005251\n",
       "Agpat1 -0.4103686 -1.89449402 -1.484125 3.770700e-02 0.0075080874\n",
       "Aldoc   0.4498243 -1.16153400 -1.611358 7.964878e-04 0.0000680759\n",
       "Angpt2 -0.7769103 -2.41493036 -1.638020 2.014007e-02 0.0034210259\n",
       "Anxa4   4.5400311  2.98809266 -1.551938 0.000000e+00 0.0000000000\n",
       "Arpc5l  1.2752314 -0.26209684 -1.537328 5.123173e-05 0.0000027798\n",
       "       biotype       \n",
       "Abcc3  protein_coding\n",
       "Agpat1 protein_coding\n",
       "Aldoc  protein_coding\n",
       "Angpt2 protein_coding\n",
       "Anxa4  protein_coding\n",
       "Arpc5l protein_coding"
      ]
     },
     "metadata": {},
     "output_type": "display_data"
    },
    {
     "data": {
      "text/html": [
       "<style>\n",
       ".list-inline {list-style: none; margin:0; padding: 0}\n",
       ".list-inline>li {display: inline-block}\n",
       ".list-inline>li:not(:last-child)::after {content: \"\\00b7\"; padding: 0 .5ex}\n",
       "</style>\n",
       "<ol class=list-inline><li>61</li><li>6</li></ol>\n"
      ],
      "text/latex": [
       "\\begin{enumerate*}\n",
       "\\item 61\n",
       "\\item 6\n",
       "\\end{enumerate*}\n"
      ],
      "text/markdown": [
       "1. 61\n",
       "2. 6\n",
       "\n",
       "\n"
      ],
      "text/plain": [
       "[1] 61  6"
      ]
     },
     "metadata": {},
     "output_type": "display_data"
    }
   ],
   "source": [
    "f_dn3x <- (vec_fdr < th_adj_pvalue) &\n",
    "         (vec_log2FC > -log2(3.15) & vec_log2FC < -log2(2.75))\n",
    "df_ribo_dn3x <- df_ribo[f_dn3x,]\n",
    "sym_ribo_dn3x <- rownames(df_ribo_dn3x)\n",
    "head(df_ribo_dn3x)\n",
    "dim(df_ribo_dn3x)\n",
    "\n",
    "list_genes[['sym_ribo_dn3x']] <- sym_ribo_dn3x"
   ]
  },
  {
   "cell_type": "markdown",
   "metadata": {},
   "source": [
    "### sym_ribo"
   ]
  },
  {
   "cell_type": "code",
   "execution_count": 313,
   "metadata": {},
   "outputs": [
    {
     "data": {
      "text/html": [
       "2603"
      ],
      "text/latex": [
       "2603"
      ],
      "text/markdown": [
       "2603"
      ],
      "text/plain": [
       "[1] 2603"
      ]
     },
     "metadata": {},
     "output_type": "display_data"
    }
   ],
   "source": [
    "sym_ribo <- union(sym_ribo_up, sym_ribo_dn)\n",
    "length(sym_ribo)\n",
    "\n",
    "df_ribo <- df_ribo[sym_ribo,,drop=F]"
   ]
  },
  {
   "cell_type": "markdown",
   "metadata": {},
   "source": [
    "### sym_ribo_no"
   ]
  },
  {
   "cell_type": "code",
   "execution_count": 314,
   "metadata": {},
   "outputs": [
    {
     "data": {
      "text/html": [
       "9395"
      ],
      "text/latex": [
       "9395"
      ],
      "text/markdown": [
       "9395"
      ],
      "text/plain": [
       "[1] 9395"
      ]
     },
     "metadata": {},
     "output_type": "display_data"
    }
   ],
   "source": [
    "sym_ribo_no <- setdiff(sym_riboseq, sym_ribo)\n",
    "length(sym_ribo_no)"
   ]
  },
  {
   "cell_type": "markdown",
   "metadata": {},
   "source": [
    "### sym_ribo_de_detected_both"
   ]
  },
  {
   "cell_type": "code",
   "execution_count": 315,
   "metadata": {},
   "outputs": [
    {
     "data": {
      "text/html": [
       "2396"
      ],
      "text/latex": [
       "2396"
      ],
      "text/markdown": [
       "2396"
      ],
      "text/plain": [
       "[1] 2396"
      ]
     },
     "metadata": {},
     "output_type": "display_data"
    }
   ],
   "source": [
    "sym_ribo_de_detected_both <- intersect(sym_ribo, sym_detected_both)\n",
    "length(sym_ribo_de_detected_both)"
   ]
  },
  {
   "cell_type": "markdown",
   "metadata": {},
   "source": [
    "## biotype"
   ]
  },
  {
   "cell_type": "code",
   "execution_count": 316,
   "metadata": {},
   "outputs": [
    {
     "data": {
      "text/html": [
       "<style>\n",
       ".list-inline {list-style: none; margin:0; padding: 0}\n",
       ".list-inline>li {display: inline-block}\n",
       ".list-inline>li:not(:last-child)::after {content: \"\\00b7\"; padding: 0 .5ex}\n",
       "</style>\n",
       "<ol class=list-inline><li>'lncRNA'</li><li>'protein_coding'</li><li>'rRNA'</li><li>'misc_RNA'</li><li>'transcribed_processed_pseudogene'</li><li>'polymorphic_pseudogene'</li><li>'processed_pseudogene'</li><li>'unprocessed_pseudogene'</li><li>'scaRNA'</li><li>'snRNA'</li><li>'snoRNA'</li><li>'TEC'</li><li>'IG_C_gene'</li><li>'miRNA'</li><li>'Mt_rRNA'</li><li>'Mt_tRNA'</li><li>'rDNA'</li><li>'ribozyme'</li><li>'TR_C_gene'</li><li>'transcribed_unprocessed_pseudogene'</li></ol>\n"
      ],
      "text/latex": [
       "\\begin{enumerate*}\n",
       "\\item 'lncRNA'\n",
       "\\item 'protein\\_coding'\n",
       "\\item 'rRNA'\n",
       "\\item 'misc\\_RNA'\n",
       "\\item 'transcribed\\_processed\\_pseudogene'\n",
       "\\item 'polymorphic\\_pseudogene'\n",
       "\\item 'processed\\_pseudogene'\n",
       "\\item 'unprocessed\\_pseudogene'\n",
       "\\item 'scaRNA'\n",
       "\\item 'snRNA'\n",
       "\\item 'snoRNA'\n",
       "\\item 'TEC'\n",
       "\\item 'IG\\_C\\_gene'\n",
       "\\item 'miRNA'\n",
       "\\item 'Mt\\_rRNA'\n",
       "\\item 'Mt\\_tRNA'\n",
       "\\item 'rDNA'\n",
       "\\item 'ribozyme'\n",
       "\\item 'TR\\_C\\_gene'\n",
       "\\item 'transcribed\\_unprocessed\\_pseudogene'\n",
       "\\end{enumerate*}\n"
      ],
      "text/markdown": [
       "1. 'lncRNA'\n",
       "2. 'protein_coding'\n",
       "3. 'rRNA'\n",
       "4. 'misc_RNA'\n",
       "5. 'transcribed_processed_pseudogene'\n",
       "6. 'polymorphic_pseudogene'\n",
       "7. 'processed_pseudogene'\n",
       "8. 'unprocessed_pseudogene'\n",
       "9. 'scaRNA'\n",
       "10. 'snRNA'\n",
       "11. 'snoRNA'\n",
       "12. 'TEC'\n",
       "13. 'IG_C_gene'\n",
       "14. 'miRNA'\n",
       "15. 'Mt_rRNA'\n",
       "16. 'Mt_tRNA'\n",
       "17. 'rDNA'\n",
       "18. 'ribozyme'\n",
       "19. 'TR_C_gene'\n",
       "20. 'transcribed_unprocessed_pseudogene'\n",
       "\n",
       "\n"
      ],
      "text/plain": [
       " [1] \"lncRNA\"                             \"protein_coding\"                    \n",
       " [3] \"rRNA\"                               \"misc_RNA\"                          \n",
       " [5] \"transcribed_processed_pseudogene\"   \"polymorphic_pseudogene\"            \n",
       " [7] \"processed_pseudogene\"               \"unprocessed_pseudogene\"            \n",
       " [9] \"scaRNA\"                             \"snRNA\"                             \n",
       "[11] \"snoRNA\"                             \"TEC\"                               \n",
       "[13] \"IG_C_gene\"                          \"miRNA\"                             \n",
       "[15] \"Mt_rRNA\"                            \"Mt_tRNA\"                           \n",
       "[17] \"rDNA\"                               \"ribozyme\"                          \n",
       "[19] \"TR_C_gene\"                          \"transcribed_unprocessed_pseudogene\""
      ]
     },
     "metadata": {},
     "output_type": "display_data"
    },
    {
     "data": {
      "text/html": [
       "202"
      ],
      "text/latex": [
       "202"
      ],
      "text/markdown": [
       "202"
      ],
      "text/plain": [
       "[1] 202"
      ]
     },
     "metadata": {},
     "output_type": "display_data"
    }
   ],
   "source": [
    "unique(df_ribo$biotype)\n",
    "length(which(df_ribo$biotype=='processed_pseudogene'))"
   ]
  },
  {
   "cell_type": "markdown",
   "metadata": {},
   "source": [
    "## protein_coding only"
   ]
  },
  {
   "cell_type": "code",
   "execution_count": 317,
   "metadata": {
    "scrolled": true
   },
   "outputs": [
    {
     "data": {
      "text/html": [
       "<table class=\"dataframe\">\n",
       "<caption>A data.frame: 6 × 6</caption>\n",
       "<thead>\n",
       "\t<tr><th></th><th scope=col>unt48</th><th scope=col>tgfb48</th><th scope=col>log2FC</th><th scope=col>FDR</th><th scope=col>p.value</th><th scope=col>biotype</th></tr>\n",
       "\t<tr><th></th><th scope=col>&lt;dbl&gt;</th><th scope=col>&lt;dbl&gt;</th><th scope=col>&lt;dbl&gt;</th><th scope=col>&lt;dbl&gt;</th><th scope=col>&lt;dbl&gt;</th><th scope=col>&lt;chr&gt;</th></tr>\n",
       "</thead>\n",
       "<tbody>\n",
       "\t<tr><th scope=row>1700017B05Rik</th><td> 0.9365901</td><td> 2.0120754</td><td>1.0754853</td><td>1.137532e-05</td><td>0.0000004984</td><td>protein_coding</td></tr>\n",
       "\t<tr><th scope=row>4930402H24Rik</th><td> 0.3611133</td><td> 1.7281300</td><td>1.3670168</td><td>4.406850e-06</td><td>0.0000001697</td><td>protein_coding</td></tr>\n",
       "\t<tr><th scope=row>9130019O22Rik</th><td>-4.6965296</td><td>-1.7175273</td><td>2.9790024</td><td>4.080761e-02</td><td>0.0083743560</td><td>protein_coding</td></tr>\n",
       "\t<tr><th scope=row>9930111J21Rik1</th><td>-3.2764441</td><td> 1.2721796</td><td>4.5486236</td><td>9.366500e-07</td><td>0.0000000297</td><td>protein_coding</td></tr>\n",
       "\t<tr><th scope=row>9930111J21Rik2</th><td>-4.2238439</td><td>-0.4650922</td><td>3.7587516</td><td>1.088954e-03</td><td>0.0000991936</td><td>protein_coding</td></tr>\n",
       "\t<tr><th scope=row>Abcf3</th><td> 0.3664803</td><td> 1.0211312</td><td>0.6546509</td><td>2.767077e-02</td><td>0.0050876573</td><td>protein_coding</td></tr>\n",
       "</tbody>\n",
       "</table>\n"
      ],
      "text/latex": [
       "A data.frame: 6 × 6\n",
       "\\begin{tabular}{r|llllll}\n",
       "  & unt48 & tgfb48 & log2FC & FDR & p.value & biotype\\\\\n",
       "  & <dbl> & <dbl> & <dbl> & <dbl> & <dbl> & <chr>\\\\\n",
       "\\hline\n",
       "\t1700017B05Rik &  0.9365901 &  2.0120754 & 1.0754853 & 1.137532e-05 & 0.0000004984 & protein\\_coding\\\\\n",
       "\t4930402H24Rik &  0.3611133 &  1.7281300 & 1.3670168 & 4.406850e-06 & 0.0000001697 & protein\\_coding\\\\\n",
       "\t9130019O22Rik & -4.6965296 & -1.7175273 & 2.9790024 & 4.080761e-02 & 0.0083743560 & protein\\_coding\\\\\n",
       "\t9930111J21Rik1 & -3.2764441 &  1.2721796 & 4.5486236 & 9.366500e-07 & 0.0000000297 & protein\\_coding\\\\\n",
       "\t9930111J21Rik2 & -4.2238439 & -0.4650922 & 3.7587516 & 1.088954e-03 & 0.0000991936 & protein\\_coding\\\\\n",
       "\tAbcf3 &  0.3664803 &  1.0211312 & 0.6546509 & 2.767077e-02 & 0.0050876573 & protein\\_coding\\\\\n",
       "\\end{tabular}\n"
      ],
      "text/markdown": [
       "\n",
       "A data.frame: 6 × 6\n",
       "\n",
       "| <!--/--> | unt48 &lt;dbl&gt; | tgfb48 &lt;dbl&gt; | log2FC &lt;dbl&gt; | FDR &lt;dbl&gt; | p.value &lt;dbl&gt; | biotype &lt;chr&gt; |\n",
       "|---|---|---|---|---|---|---|\n",
       "| 1700017B05Rik |  0.9365901 |  2.0120754 | 1.0754853 | 1.137532e-05 | 0.0000004984 | protein_coding |\n",
       "| 4930402H24Rik |  0.3611133 |  1.7281300 | 1.3670168 | 4.406850e-06 | 0.0000001697 | protein_coding |\n",
       "| 9130019O22Rik | -4.6965296 | -1.7175273 | 2.9790024 | 4.080761e-02 | 0.0083743560 | protein_coding |\n",
       "| 9930111J21Rik1 | -3.2764441 |  1.2721796 | 4.5486236 | 9.366500e-07 | 0.0000000297 | protein_coding |\n",
       "| 9930111J21Rik2 | -4.2238439 | -0.4650922 | 3.7587516 | 1.088954e-03 | 0.0000991936 | protein_coding |\n",
       "| Abcf3 |  0.3664803 |  1.0211312 | 0.6546509 | 2.767077e-02 | 0.0050876573 | protein_coding |\n",
       "\n"
      ],
      "text/plain": [
       "               unt48      tgfb48     log2FC    FDR          p.value     \n",
       "1700017B05Rik   0.9365901  2.0120754 1.0754853 1.137532e-05 0.0000004984\n",
       "4930402H24Rik   0.3611133  1.7281300 1.3670168 4.406850e-06 0.0000001697\n",
       "9130019O22Rik  -4.6965296 -1.7175273 2.9790024 4.080761e-02 0.0083743560\n",
       "9930111J21Rik1 -3.2764441  1.2721796 4.5486236 9.366500e-07 0.0000000297\n",
       "9930111J21Rik2 -4.2238439 -0.4650922 3.7587516 1.088954e-03 0.0000991936\n",
       "Abcf3           0.3664803  1.0211312 0.6546509 2.767077e-02 0.0050876573\n",
       "               biotype       \n",
       "1700017B05Rik  protein_coding\n",
       "4930402H24Rik  protein_coding\n",
       "9130019O22Rik  protein_coding\n",
       "9930111J21Rik1 protein_coding\n",
       "9930111J21Rik2 protein_coding\n",
       "Abcf3          protein_coding"
      ]
     },
     "metadata": {},
     "output_type": "display_data"
    },
    {
     "data": {
      "text/html": [
       "<style>\n",
       ".list-inline {list-style: none; margin:0; padding: 0}\n",
       ".list-inline>li {display: inline-block}\n",
       ".list-inline>li:not(:last-child)::after {content: \"\\00b7\"; padding: 0 .5ex}\n",
       "</style>\n",
       "<ol class=list-inline><li>2251</li><li>6</li></ol>\n"
      ],
      "text/latex": [
       "\\begin{enumerate*}\n",
       "\\item 2251\n",
       "\\item 6\n",
       "\\end{enumerate*}\n"
      ],
      "text/markdown": [
       "1. 2251\n",
       "2. 6\n",
       "\n",
       "\n"
      ],
      "text/plain": [
       "[1] 2251    6"
      ]
     },
     "metadata": {},
     "output_type": "display_data"
    }
   ],
   "source": [
    "f <- grepl('^protein_coding$', df_ribo$biotype)\n",
    "df_ribo_wo_pseudo <- df_ribo[f,]\n",
    "head(df_ribo_wo_pseudo)\n",
    "dim(df_ribo_wo_pseudo)"
   ]
  },
  {
   "cell_type": "markdown",
   "metadata": {},
   "source": [
    "## shared between both rnaseq and riboseq"
   ]
  },
  {
   "cell_type": "markdown",
   "metadata": {},
   "source": [
    "### sym_mrna_ribo_no"
   ]
  },
  {
   "cell_type": "code",
   "execution_count": 318,
   "metadata": {},
   "outputs": [
    {
     "data": {
      "text/html": [
       "4092"
      ],
      "text/latex": [
       "4092"
      ],
      "text/markdown": [
       "4092"
      ],
      "text/plain": [
       "[1] 4092"
      ]
     },
     "metadata": {},
     "output_type": "display_data"
    }
   ],
   "source": [
    "sym_mrna_ribo_no <- intersect(sym_mrna_no, sym_ribo_no)\n",
    "length(sym_mrna_ribo_no)\n"
   ]
  },
  {
   "cell_type": "markdown",
   "metadata": {},
   "source": [
    "### sym_mrna_up_ribo_up"
   ]
  },
  {
   "cell_type": "code",
   "execution_count": 319,
   "metadata": {},
   "outputs": [
    {
     "data": {
      "text/html": [
       "868"
      ],
      "text/latex": [
       "868"
      ],
      "text/markdown": [
       "868"
      ],
      "text/plain": [
       "[1] 868"
      ]
     },
     "metadata": {},
     "output_type": "display_data"
    }
   ],
   "source": [
    "# detected in both platforms\n",
    "sym_mrna_up_ribo_up <- intersect(sym_mrna_up, sym_ribo_up)\n",
    "length(sym_mrna_up_ribo_up)\n",
    "\n",
    "list_genes[['sym_mrna_up_ribo_up']] <- sym_mrna_up_ribo_up"
   ]
  },
  {
   "cell_type": "markdown",
   "metadata": {},
   "source": [
    "### sym_mrna_dn_ribo_dn"
   ]
  },
  {
   "cell_type": "code",
   "execution_count": 320,
   "metadata": {},
   "outputs": [
    {
     "data": {
      "text/html": [
       "723"
      ],
      "text/latex": [
       "723"
      ],
      "text/markdown": [
       "723"
      ],
      "text/plain": [
       "[1] 723"
      ]
     },
     "metadata": {},
     "output_type": "display_data"
    }
   ],
   "source": [
    "# detected in both platforms\n",
    "sym_mrna_dn_ribo_dn <- intersect(sym_mrna_dn, sym_ribo_dn)\n",
    "length(sym_mrna_dn_ribo_dn)\n",
    "\n",
    "list_genes[['sym_mrna_dn_ribo_dn']] <- sym_mrna_dn_ribo_dn"
   ]
  },
  {
   "cell_type": "markdown",
   "metadata": {},
   "source": [
    "### sym_mrna_up_ribo_dn"
   ]
  },
  {
   "cell_type": "code",
   "execution_count": 321,
   "metadata": {},
   "outputs": [
    {
     "data": {
      "text/html": [
       "<style>\n",
       ".list-inline {list-style: none; margin:0; padding: 0}\n",
       ".list-inline>li {display: inline-block}\n",
       ".list-inline>li:not(:last-child)::after {content: \"\\00b7\"; padding: 0 .5ex}\n",
       "</style>\n",
       "<ol class=list-inline><li>'2410006H16Rik'</li><li>'Adam9'</li><li>'Agpat1'</li><li>'Akt1'</li><li>'Aph1a'</li><li>'Arl8a'</li><li>'Arpc1b'</li><li>'Atf3'</li><li>'Atox1'</li><li>'Atp6v0a1'</li><li>'Atp6v0c'</li><li>'Bola2'</li><li>'Brd2'</li><li>'Cd63'</li><li>'Cfl2'</li><li>'Cmtm6'</li><li>'Cox7b'</li><li>'Cyb5r1'</li><li>'Cyb5r4'</li><li>'Dusp1'</li><li>'Eipr1'</li><li>'Fam13b'</li><li>'Fbxo42'</li><li>'Fgfr1op2'</li><li>'Gas5'</li><li>'Gch1'</li><li>'Gemin7'</li><li>'Gpr137b-ps'</li><li>'Gprc5a'</li><li>'Hsdl1'</li><li>'Ifitm2'</li><li>'Igfbp3'</li><li>'Jund'</li><li>'Krt8-ps'</li><li>'Lamp1'</li><li>'Leprotl1'</li><li>'Lsm14b'</li><li>'Msln'</li><li>'Ndrg1'</li><li>'Nfe2l1'</li><li>'Nip7'</li><li>'Npc2'</li><li>'Odc1'</li><li>'Pfdn2'</li><li>'Phlda1'</li><li>'Plaur'</li><li>'Ptpra'</li><li>'Rbis'</li><li>'Rbm38'</li><li>'Rpl22l1'</li><li>'Selenof'</li><li>'Senp3'</li><li>'Serf2'</li><li>'Slirp'</li><li>'Sqstm1'</li><li>'Tmsb10'</li><li>'Trim8'</li><li>'Trir'</li><li>'Vps37b'</li><li>'Ywhag'</li><li>'Zfp994'</li><li>'Zmat3'</li></ol>\n"
      ],
      "text/latex": [
       "\\begin{enumerate*}\n",
       "\\item '2410006H16Rik'\n",
       "\\item 'Adam9'\n",
       "\\item 'Agpat1'\n",
       "\\item 'Akt1'\n",
       "\\item 'Aph1a'\n",
       "\\item 'Arl8a'\n",
       "\\item 'Arpc1b'\n",
       "\\item 'Atf3'\n",
       "\\item 'Atox1'\n",
       "\\item 'Atp6v0a1'\n",
       "\\item 'Atp6v0c'\n",
       "\\item 'Bola2'\n",
       "\\item 'Brd2'\n",
       "\\item 'Cd63'\n",
       "\\item 'Cfl2'\n",
       "\\item 'Cmtm6'\n",
       "\\item 'Cox7b'\n",
       "\\item 'Cyb5r1'\n",
       "\\item 'Cyb5r4'\n",
       "\\item 'Dusp1'\n",
       "\\item 'Eipr1'\n",
       "\\item 'Fam13b'\n",
       "\\item 'Fbxo42'\n",
       "\\item 'Fgfr1op2'\n",
       "\\item 'Gas5'\n",
       "\\item 'Gch1'\n",
       "\\item 'Gemin7'\n",
       "\\item 'Gpr137b-ps'\n",
       "\\item 'Gprc5a'\n",
       "\\item 'Hsdl1'\n",
       "\\item 'Ifitm2'\n",
       "\\item 'Igfbp3'\n",
       "\\item 'Jund'\n",
       "\\item 'Krt8-ps'\n",
       "\\item 'Lamp1'\n",
       "\\item 'Leprotl1'\n",
       "\\item 'Lsm14b'\n",
       "\\item 'Msln'\n",
       "\\item 'Ndrg1'\n",
       "\\item 'Nfe2l1'\n",
       "\\item 'Nip7'\n",
       "\\item 'Npc2'\n",
       "\\item 'Odc1'\n",
       "\\item 'Pfdn2'\n",
       "\\item 'Phlda1'\n",
       "\\item 'Plaur'\n",
       "\\item 'Ptpra'\n",
       "\\item 'Rbis'\n",
       "\\item 'Rbm38'\n",
       "\\item 'Rpl22l1'\n",
       "\\item 'Selenof'\n",
       "\\item 'Senp3'\n",
       "\\item 'Serf2'\n",
       "\\item 'Slirp'\n",
       "\\item 'Sqstm1'\n",
       "\\item 'Tmsb10'\n",
       "\\item 'Trim8'\n",
       "\\item 'Trir'\n",
       "\\item 'Vps37b'\n",
       "\\item 'Ywhag'\n",
       "\\item 'Zfp994'\n",
       "\\item 'Zmat3'\n",
       "\\end{enumerate*}\n"
      ],
      "text/markdown": [
       "1. '2410006H16Rik'\n",
       "2. 'Adam9'\n",
       "3. 'Agpat1'\n",
       "4. 'Akt1'\n",
       "5. 'Aph1a'\n",
       "6. 'Arl8a'\n",
       "7. 'Arpc1b'\n",
       "8. 'Atf3'\n",
       "9. 'Atox1'\n",
       "10. 'Atp6v0a1'\n",
       "11. 'Atp6v0c'\n",
       "12. 'Bola2'\n",
       "13. 'Brd2'\n",
       "14. 'Cd63'\n",
       "15. 'Cfl2'\n",
       "16. 'Cmtm6'\n",
       "17. 'Cox7b'\n",
       "18. 'Cyb5r1'\n",
       "19. 'Cyb5r4'\n",
       "20. 'Dusp1'\n",
       "21. 'Eipr1'\n",
       "22. 'Fam13b'\n",
       "23. 'Fbxo42'\n",
       "24. 'Fgfr1op2'\n",
       "25. 'Gas5'\n",
       "26. 'Gch1'\n",
       "27. 'Gemin7'\n",
       "28. 'Gpr137b-ps'\n",
       "29. 'Gprc5a'\n",
       "30. 'Hsdl1'\n",
       "31. 'Ifitm2'\n",
       "32. 'Igfbp3'\n",
       "33. 'Jund'\n",
       "34. 'Krt8-ps'\n",
       "35. 'Lamp1'\n",
       "36. 'Leprotl1'\n",
       "37. 'Lsm14b'\n",
       "38. 'Msln'\n",
       "39. 'Ndrg1'\n",
       "40. 'Nfe2l1'\n",
       "41. 'Nip7'\n",
       "42. 'Npc2'\n",
       "43. 'Odc1'\n",
       "44. 'Pfdn2'\n",
       "45. 'Phlda1'\n",
       "46. 'Plaur'\n",
       "47. 'Ptpra'\n",
       "48. 'Rbis'\n",
       "49. 'Rbm38'\n",
       "50. 'Rpl22l1'\n",
       "51. 'Selenof'\n",
       "52. 'Senp3'\n",
       "53. 'Serf2'\n",
       "54. 'Slirp'\n",
       "55. 'Sqstm1'\n",
       "56. 'Tmsb10'\n",
       "57. 'Trim8'\n",
       "58. 'Trir'\n",
       "59. 'Vps37b'\n",
       "60. 'Ywhag'\n",
       "61. 'Zfp994'\n",
       "62. 'Zmat3'\n",
       "\n",
       "\n"
      ],
      "text/plain": [
       " [1] \"2410006H16Rik\" \"Adam9\"         \"Agpat1\"        \"Akt1\"         \n",
       " [5] \"Aph1a\"         \"Arl8a\"         \"Arpc1b\"        \"Atf3\"         \n",
       " [9] \"Atox1\"         \"Atp6v0a1\"      \"Atp6v0c\"       \"Bola2\"        \n",
       "[13] \"Brd2\"          \"Cd63\"          \"Cfl2\"          \"Cmtm6\"        \n",
       "[17] \"Cox7b\"         \"Cyb5r1\"        \"Cyb5r4\"        \"Dusp1\"        \n",
       "[21] \"Eipr1\"         \"Fam13b\"        \"Fbxo42\"        \"Fgfr1op2\"     \n",
       "[25] \"Gas5\"          \"Gch1\"          \"Gemin7\"        \"Gpr137b-ps\"   \n",
       "[29] \"Gprc5a\"        \"Hsdl1\"         \"Ifitm2\"        \"Igfbp3\"       \n",
       "[33] \"Jund\"          \"Krt8-ps\"       \"Lamp1\"         \"Leprotl1\"     \n",
       "[37] \"Lsm14b\"        \"Msln\"          \"Ndrg1\"         \"Nfe2l1\"       \n",
       "[41] \"Nip7\"          \"Npc2\"          \"Odc1\"          \"Pfdn2\"        \n",
       "[45] \"Phlda1\"        \"Plaur\"         \"Ptpra\"         \"Rbis\"         \n",
       "[49] \"Rbm38\"         \"Rpl22l1\"       \"Selenof\"       \"Senp3\"        \n",
       "[53] \"Serf2\"         \"Slirp\"         \"Sqstm1\"        \"Tmsb10\"       \n",
       "[57] \"Trim8\"         \"Trir\"          \"Vps37b\"        \"Ywhag\"        \n",
       "[61] \"Zfp994\"        \"Zmat3\"        "
      ]
     },
     "metadata": {},
     "output_type": "display_data"
    },
    {
     "data": {
      "text/html": [
       "62"
      ],
      "text/latex": [
       "62"
      ],
      "text/markdown": [
       "62"
      ],
      "text/plain": [
       "[1] 62"
      ]
     },
     "metadata": {},
     "output_type": "display_data"
    }
   ],
   "source": [
    "# detected in both platforms\n",
    "sym_mrna_up_ribo_dn <- intersect(sym_mrna_up, sym_ribo_dn)\n",
    "sym_mrna_up_ribo_dn\n",
    "length(sym_mrna_up_ribo_dn)\n",
    "\n",
    "list_genes[['sym_mrna_up_ribo_dn']] <- sym_mrna_up_ribo_dn"
   ]
  },
  {
   "cell_type": "markdown",
   "metadata": {},
   "source": [
    "### sym_mrna_dn_ribo_up"
   ]
  },
  {
   "cell_type": "code",
   "execution_count": 322,
   "metadata": {},
   "outputs": [
    {
     "data": {
      "text/html": [
       "<style>\n",
       ".list-inline {list-style: none; margin:0; padding: 0}\n",
       ".list-inline>li {display: inline-block}\n",
       ".list-inline>li:not(:last-child)::after {content: \"\\00b7\"; padding: 0 .5ex}\n",
       "</style>\n",
       "<ol class=list-inline><li>'2900060B14Rik'</li><li>'7SK'</li><li>'Abcf3'</li><li>'Ahr'</li><li>'Alms1'</li><li>'Alpl'</li><li>'Baz1b'</li><li>'Cd14'</li><li>'Copb1'</li><li>'Cp'</li><li>'Cpped1'</li><li>'Ddx52'</li><li>'Dhrs3'</li><li>'Fanca'</li><li>'Fignl1'</li><li>'Fus'</li><li>'Glo1-ps'</li><li>'Gm10052'</li><li>'Gm22711'</li><li>'Gm24201'</li><li>'Gm42427'</li><li>'Gpatch1'</li><li>'Gse1'</li><li>'H2bc15'</li><li>'Hes1'</li><li>'Hsph1'</li><li>'Kif4'</li><li>'Lipa'</li><li>'Lmnb1'</li><li>'Lurap1l'</li><li>'Marcks'</li><li>'Mcm4'</li><li>'Mcm6'</li><li>'Mettl26'</li><li>'Ogdh'</li><li>'Osgin1'</li><li>'Paics'</li><li>'Plxnb1'</li><li>'Pus10'</li><li>'Rangap1'</li><li>'Rnu11'</li><li>'Rnu12'</li><li>'Rpa1'</li><li>'Rpph1'</li><li>'Rrm1'</li><li>'Sfpq'</li><li>'Sik1'</li><li>'Slco4a1'</li><li>'Smpd3'</li><li>'Snora65'</li><li>'Snora81'</li><li>'Sptbn1'</li><li>'Srsf2'</li><li>'Tnfaip8'</li><li>'Top2b'</li><li>'Trp53bp1'</li><li>'Tyms'</li><li>'Upk1b'</li><li>'Vps13c'</li><li>'Ybx1'</li><li>'Zfp91'</li><li>'Zmynd8'</li></ol>\n"
      ],
      "text/latex": [
       "\\begin{enumerate*}\n",
       "\\item '2900060B14Rik'\n",
       "\\item '7SK'\n",
       "\\item 'Abcf3'\n",
       "\\item 'Ahr'\n",
       "\\item 'Alms1'\n",
       "\\item 'Alpl'\n",
       "\\item 'Baz1b'\n",
       "\\item 'Cd14'\n",
       "\\item 'Copb1'\n",
       "\\item 'Cp'\n",
       "\\item 'Cpped1'\n",
       "\\item 'Ddx52'\n",
       "\\item 'Dhrs3'\n",
       "\\item 'Fanca'\n",
       "\\item 'Fignl1'\n",
       "\\item 'Fus'\n",
       "\\item 'Glo1-ps'\n",
       "\\item 'Gm10052'\n",
       "\\item 'Gm22711'\n",
       "\\item 'Gm24201'\n",
       "\\item 'Gm42427'\n",
       "\\item 'Gpatch1'\n",
       "\\item 'Gse1'\n",
       "\\item 'H2bc15'\n",
       "\\item 'Hes1'\n",
       "\\item 'Hsph1'\n",
       "\\item 'Kif4'\n",
       "\\item 'Lipa'\n",
       "\\item 'Lmnb1'\n",
       "\\item 'Lurap1l'\n",
       "\\item 'Marcks'\n",
       "\\item 'Mcm4'\n",
       "\\item 'Mcm6'\n",
       "\\item 'Mettl26'\n",
       "\\item 'Ogdh'\n",
       "\\item 'Osgin1'\n",
       "\\item 'Paics'\n",
       "\\item 'Plxnb1'\n",
       "\\item 'Pus10'\n",
       "\\item 'Rangap1'\n",
       "\\item 'Rnu11'\n",
       "\\item 'Rnu12'\n",
       "\\item 'Rpa1'\n",
       "\\item 'Rpph1'\n",
       "\\item 'Rrm1'\n",
       "\\item 'Sfpq'\n",
       "\\item 'Sik1'\n",
       "\\item 'Slco4a1'\n",
       "\\item 'Smpd3'\n",
       "\\item 'Snora65'\n",
       "\\item 'Snora81'\n",
       "\\item 'Sptbn1'\n",
       "\\item 'Srsf2'\n",
       "\\item 'Tnfaip8'\n",
       "\\item 'Top2b'\n",
       "\\item 'Trp53bp1'\n",
       "\\item 'Tyms'\n",
       "\\item 'Upk1b'\n",
       "\\item 'Vps13c'\n",
       "\\item 'Ybx1'\n",
       "\\item 'Zfp91'\n",
       "\\item 'Zmynd8'\n",
       "\\end{enumerate*}\n"
      ],
      "text/markdown": [
       "1. '2900060B14Rik'\n",
       "2. '7SK'\n",
       "3. 'Abcf3'\n",
       "4. 'Ahr'\n",
       "5. 'Alms1'\n",
       "6. 'Alpl'\n",
       "7. 'Baz1b'\n",
       "8. 'Cd14'\n",
       "9. 'Copb1'\n",
       "10. 'Cp'\n",
       "11. 'Cpped1'\n",
       "12. 'Ddx52'\n",
       "13. 'Dhrs3'\n",
       "14. 'Fanca'\n",
       "15. 'Fignl1'\n",
       "16. 'Fus'\n",
       "17. 'Glo1-ps'\n",
       "18. 'Gm10052'\n",
       "19. 'Gm22711'\n",
       "20. 'Gm24201'\n",
       "21. 'Gm42427'\n",
       "22. 'Gpatch1'\n",
       "23. 'Gse1'\n",
       "24. 'H2bc15'\n",
       "25. 'Hes1'\n",
       "26. 'Hsph1'\n",
       "27. 'Kif4'\n",
       "28. 'Lipa'\n",
       "29. 'Lmnb1'\n",
       "30. 'Lurap1l'\n",
       "31. 'Marcks'\n",
       "32. 'Mcm4'\n",
       "33. 'Mcm6'\n",
       "34. 'Mettl26'\n",
       "35. 'Ogdh'\n",
       "36. 'Osgin1'\n",
       "37. 'Paics'\n",
       "38. 'Plxnb1'\n",
       "39. 'Pus10'\n",
       "40. 'Rangap1'\n",
       "41. 'Rnu11'\n",
       "42. 'Rnu12'\n",
       "43. 'Rpa1'\n",
       "44. 'Rpph1'\n",
       "45. 'Rrm1'\n",
       "46. 'Sfpq'\n",
       "47. 'Sik1'\n",
       "48. 'Slco4a1'\n",
       "49. 'Smpd3'\n",
       "50. 'Snora65'\n",
       "51. 'Snora81'\n",
       "52. 'Sptbn1'\n",
       "53. 'Srsf2'\n",
       "54. 'Tnfaip8'\n",
       "55. 'Top2b'\n",
       "56. 'Trp53bp1'\n",
       "57. 'Tyms'\n",
       "58. 'Upk1b'\n",
       "59. 'Vps13c'\n",
       "60. 'Ybx1'\n",
       "61. 'Zfp91'\n",
       "62. 'Zmynd8'\n",
       "\n",
       "\n"
      ],
      "text/plain": [
       " [1] \"2900060B14Rik\" \"7SK\"           \"Abcf3\"         \"Ahr\"          \n",
       " [5] \"Alms1\"         \"Alpl\"          \"Baz1b\"         \"Cd14\"         \n",
       " [9] \"Copb1\"         \"Cp\"            \"Cpped1\"        \"Ddx52\"        \n",
       "[13] \"Dhrs3\"         \"Fanca\"         \"Fignl1\"        \"Fus\"          \n",
       "[17] \"Glo1-ps\"       \"Gm10052\"       \"Gm22711\"       \"Gm24201\"      \n",
       "[21] \"Gm42427\"       \"Gpatch1\"       \"Gse1\"          \"H2bc15\"       \n",
       "[25] \"Hes1\"          \"Hsph1\"         \"Kif4\"          \"Lipa\"         \n",
       "[29] \"Lmnb1\"         \"Lurap1l\"       \"Marcks\"        \"Mcm4\"         \n",
       "[33] \"Mcm6\"          \"Mettl26\"       \"Ogdh\"          \"Osgin1\"       \n",
       "[37] \"Paics\"         \"Plxnb1\"        \"Pus10\"         \"Rangap1\"      \n",
       "[41] \"Rnu11\"         \"Rnu12\"         \"Rpa1\"          \"Rpph1\"        \n",
       "[45] \"Rrm1\"          \"Sfpq\"          \"Sik1\"          \"Slco4a1\"      \n",
       "[49] \"Smpd3\"         \"Snora65\"       \"Snora81\"       \"Sptbn1\"       \n",
       "[53] \"Srsf2\"         \"Tnfaip8\"       \"Top2b\"         \"Trp53bp1\"     \n",
       "[57] \"Tyms\"          \"Upk1b\"         \"Vps13c\"        \"Ybx1\"         \n",
       "[61] \"Zfp91\"         \"Zmynd8\"       "
      ]
     },
     "metadata": {},
     "output_type": "display_data"
    },
    {
     "data": {
      "text/html": [
       "62"
      ],
      "text/latex": [
       "62"
      ],
      "text/markdown": [
       "62"
      ],
      "text/plain": [
       "[1] 62"
      ]
     },
     "metadata": {},
     "output_type": "display_data"
    }
   ],
   "source": [
    "# detected in both platforms\n",
    "sym_mrna_dn_ribo_up <- intersect(sym_mrna_dn, sym_ribo_up)\n",
    "sym_mrna_dn_ribo_up\n",
    "length(sym_mrna_dn_ribo_up)\n",
    "\n",
    "list_genes[['sym_mrna_dn_ribo_up']] <- sym_mrna_dn_ribo_up"
   ]
  },
  {
   "cell_type": "markdown",
   "metadata": {},
   "source": [
    "## transcription & translation total"
   ]
  },
  {
   "cell_type": "code",
   "execution_count": 323,
   "metadata": {},
   "outputs": [
    {
     "data": {
      "text/html": [
       "6703"
      ],
      "text/latex": [
       "6703"
      ],
      "text/markdown": [
       "6703"
      ],
      "text/plain": [
       "[1] 6703"
      ]
     },
     "metadata": {},
     "output_type": "display_data"
    },
    {
     "data": {
      "text/html": [
       "2603"
      ],
      "text/latex": [
       "2603"
      ],
      "text/markdown": [
       "2603"
      ],
      "text/plain": [
       "[1] 2603"
      ]
     },
     "metadata": {},
     "output_type": "display_data"
    },
    {
     "data": {
      "text/html": [
       "1715"
      ],
      "text/latex": [
       "1715"
      ],
      "text/markdown": [
       "1715"
      ],
      "text/plain": [
       "[1] 1715"
      ]
     },
     "metadata": {},
     "output_type": "display_data"
    }
   ],
   "source": [
    "length(sym_mrna)\n",
    "length(sym_ribo)\n",
    "\n",
    "# detected in both platforms\n",
    "sym_mrna_de_ribo_de <- intersect(sym_mrna, sym_ribo)\n",
    "length(sym_mrna_de_ribo_de)"
   ]
  },
  {
   "cell_type": "code",
   "execution_count": 324,
   "metadata": {},
   "outputs": [
    {
     "data": {
      "text/html": [
       "5654"
      ],
      "text/latex": [
       "5654"
      ],
      "text/markdown": [
       "5654"
      ],
      "text/plain": [
       "[1] 5654"
      ]
     },
     "metadata": {},
     "output_type": "display_data"
    },
    {
     "data": {
      "text/html": [
       "2396"
      ],
      "text/latex": [
       "2396"
      ],
      "text/markdown": [
       "2396"
      ],
      "text/plain": [
       "[1] 2396"
      ]
     },
     "metadata": {},
     "output_type": "display_data"
    },
    {
     "data": {
      "text/html": [
       "1715"
      ],
      "text/latex": [
       "1715"
      ],
      "text/markdown": [
       "1715"
      ],
      "text/plain": [
       "[1] 1715"
      ]
     },
     "metadata": {},
     "output_type": "display_data"
    }
   ],
   "source": [
    "# detected in both platforms\n",
    "length(sym_mrna_de_detected_both)\n",
    "length(sym_ribo_de_detected_both)\n",
    "sym_mrna_de_ribo_de <- intersect(sym_mrna_de_detected_both, sym_ribo_de_detected_both)\n",
    "length(sym_mrna_de_ribo_de)"
   ]
  },
  {
   "cell_type": "markdown",
   "metadata": {},
   "source": [
    "### validation"
   ]
  },
  {
   "cell_type": "code",
   "execution_count": 325,
   "metadata": {
    "scrolled": false
   },
   "outputs": [
    {
     "data": {
      "text/html": [
       "1715"
      ],
      "text/latex": [
       "1715"
      ],
      "text/markdown": [
       "1715"
      ],
      "text/plain": [
       "[1] 1715"
      ]
     },
     "metadata": {},
     "output_type": "display_data"
    }
   ],
   "source": [
    "length(sym_mrna_up_ribo_up) + length(sym_mrna_dn_ribo_dn) +\n",
    "length(sym_mrna_up_ribo_dn) + length(sym_mrna_dn_ribo_up)"
   ]
  },
  {
   "cell_type": "markdown",
   "metadata": {},
   "source": [
    "## df_mrna_only"
   ]
  },
  {
   "cell_type": "code",
   "execution_count": 326,
   "metadata": {
    "scrolled": true
   },
   "outputs": [
    {
     "data": {
      "text/html": [
       "4988"
      ],
      "text/latex": [
       "4988"
      ],
      "text/markdown": [
       "4988"
      ],
      "text/plain": [
       "[1] 4988"
      ]
     },
     "metadata": {},
     "output_type": "display_data"
    },
    {
     "data": {
      "text/html": [
       "<table class=\"dataframe\">\n",
       "<caption>A data.frame: 6 × 6</caption>\n",
       "<thead>\n",
       "\t<tr><th></th><th scope=col>unt</th><th scope=col>tgfb</th><th scope=col>log2FC</th><th scope=col>FDR</th><th scope=col>p.value</th><th scope=col>biotype</th></tr>\n",
       "\t<tr><th></th><th scope=col>&lt;dbl&gt;</th><th scope=col>&lt;dbl&gt;</th><th scope=col>&lt;dbl&gt;</th><th scope=col>&lt;dbl&gt;</th><th scope=col>&lt;dbl&gt;</th><th scope=col>&lt;chr&gt;</th></tr>\n",
       "</thead>\n",
       "<tbody>\n",
       "\t<tr><th scope=row>0610010F05Rik</th><td>-0.5443124</td><td>-0.1829955</td><td>0.3613169</td><td>8.558582e-03</td><td>0.0040252843</td><td>protein_coding</td></tr>\n",
       "\t<tr><th scope=row>1110002E22Rik</th><td>-0.7498065</td><td>-0.3413013</td><td>0.4085052</td><td>1.645896e-02</td><td>0.0082826295</td><td>protein_coding</td></tr>\n",
       "\t<tr><th scope=row>1110002L01Rik</th><td>-1.6505374</td><td>-0.7176300</td><td>0.9329074</td><td>5.682000e-06</td><td>0.0000014535</td><td>lncRNA        </td></tr>\n",
       "\t<tr><th scope=row>1110046J04Rik</th><td>-4.4554433</td><td>-2.6479122</td><td>1.8075311</td><td>7.382651e-05</td><td>0.0000230857</td><td>lncRNA        </td></tr>\n",
       "\t<tr><th scope=row>1600012H06Rik</th><td>-0.4952647</td><td> 0.1555960</td><td>0.6508607</td><td>2.938350e-06</td><td>0.0000007218</td><td>protein_coding</td></tr>\n",
       "\t<tr><th scope=row>1700001C19Rik</th><td>-5.6609668</td><td>-4.4226956</td><td>1.2382712</td><td>4.557368e-02</td><td>0.0258838147</td><td>protein_coding</td></tr>\n",
       "</tbody>\n",
       "</table>\n"
      ],
      "text/latex": [
       "A data.frame: 6 × 6\n",
       "\\begin{tabular}{r|llllll}\n",
       "  & unt & tgfb & log2FC & FDR & p.value & biotype\\\\\n",
       "  & <dbl> & <dbl> & <dbl> & <dbl> & <dbl> & <chr>\\\\\n",
       "\\hline\n",
       "\t0610010F05Rik & -0.5443124 & -0.1829955 & 0.3613169 & 8.558582e-03 & 0.0040252843 & protein\\_coding\\\\\n",
       "\t1110002E22Rik & -0.7498065 & -0.3413013 & 0.4085052 & 1.645896e-02 & 0.0082826295 & protein\\_coding\\\\\n",
       "\t1110002L01Rik & -1.6505374 & -0.7176300 & 0.9329074 & 5.682000e-06 & 0.0000014535 & lncRNA        \\\\\n",
       "\t1110046J04Rik & -4.4554433 & -2.6479122 & 1.8075311 & 7.382651e-05 & 0.0000230857 & lncRNA        \\\\\n",
       "\t1600012H06Rik & -0.4952647 &  0.1555960 & 0.6508607 & 2.938350e-06 & 0.0000007218 & protein\\_coding\\\\\n",
       "\t1700001C19Rik & -5.6609668 & -4.4226956 & 1.2382712 & 4.557368e-02 & 0.0258838147 & protein\\_coding\\\\\n",
       "\\end{tabular}\n"
      ],
      "text/markdown": [
       "\n",
       "A data.frame: 6 × 6\n",
       "\n",
       "| <!--/--> | unt &lt;dbl&gt; | tgfb &lt;dbl&gt; | log2FC &lt;dbl&gt; | FDR &lt;dbl&gt; | p.value &lt;dbl&gt; | biotype &lt;chr&gt; |\n",
       "|---|---|---|---|---|---|---|\n",
       "| 0610010F05Rik | -0.5443124 | -0.1829955 | 0.3613169 | 8.558582e-03 | 0.0040252843 | protein_coding |\n",
       "| 1110002E22Rik | -0.7498065 | -0.3413013 | 0.4085052 | 1.645896e-02 | 0.0082826295 | protein_coding |\n",
       "| 1110002L01Rik | -1.6505374 | -0.7176300 | 0.9329074 | 5.682000e-06 | 0.0000014535 | lncRNA         |\n",
       "| 1110046J04Rik | -4.4554433 | -2.6479122 | 1.8075311 | 7.382651e-05 | 0.0000230857 | lncRNA         |\n",
       "| 1600012H06Rik | -0.4952647 |  0.1555960 | 0.6508607 | 2.938350e-06 | 0.0000007218 | protein_coding |\n",
       "| 1700001C19Rik | -5.6609668 | -4.4226956 | 1.2382712 | 4.557368e-02 | 0.0258838147 | protein_coding |\n",
       "\n"
      ],
      "text/plain": [
       "              unt        tgfb       log2FC    FDR          p.value     \n",
       "0610010F05Rik -0.5443124 -0.1829955 0.3613169 8.558582e-03 0.0040252843\n",
       "1110002E22Rik -0.7498065 -0.3413013 0.4085052 1.645896e-02 0.0082826295\n",
       "1110002L01Rik -1.6505374 -0.7176300 0.9329074 5.682000e-06 0.0000014535\n",
       "1110046J04Rik -4.4554433 -2.6479122 1.8075311 7.382651e-05 0.0000230857\n",
       "1600012H06Rik -0.4952647  0.1555960 0.6508607 2.938350e-06 0.0000007218\n",
       "1700001C19Rik -5.6609668 -4.4226956 1.2382712 4.557368e-02 0.0258838147\n",
       "              biotype       \n",
       "0610010F05Rik protein_coding\n",
       "1110002E22Rik protein_coding\n",
       "1110002L01Rik lncRNA        \n",
       "1110046J04Rik lncRNA        \n",
       "1600012H06Rik protein_coding\n",
       "1700001C19Rik protein_coding"
      ]
     },
     "metadata": {},
     "output_type": "display_data"
    },
    {
     "data": {
      "text/html": [
       "<style>\n",
       ".list-inline {list-style: none; margin:0; padding: 0}\n",
       ".list-inline>li {display: inline-block}\n",
       ".list-inline>li:not(:last-child)::after {content: \"\\00b7\"; padding: 0 .5ex}\n",
       "</style>\n",
       "<ol class=list-inline><li>4988</li><li>6</li></ol>\n"
      ],
      "text/latex": [
       "\\begin{enumerate*}\n",
       "\\item 4988\n",
       "\\item 6\n",
       "\\end{enumerate*}\n"
      ],
      "text/markdown": [
       "1. 4988\n",
       "2. 6\n",
       "\n",
       "\n"
      ],
      "text/plain": [
       "[1] 4988    6"
      ]
     },
     "metadata": {},
     "output_type": "display_data"
    }
   ],
   "source": [
    "sym_mrna_only <- setdiff(sym_mrna, sym_ribo)\n",
    "length(sym_mrna_only)\n",
    "\n",
    "# subsetting df_mrna\n",
    "df_mrna_only <- df_mrna[sym_mrna_only,]\n",
    "head(df_mrna_only)\n",
    "dim(df_mrna_only)"
   ]
  },
  {
   "cell_type": "markdown",
   "metadata": {},
   "source": [
    "### check riboseq FDR"
   ]
  },
  {
   "cell_type": "code",
   "execution_count": 327,
   "metadata": {
    "scrolled": true
   },
   "outputs": [
    {
     "data": {
      "text/html": [
       "<table class=\"dataframe\">\n",
       "<caption>A data.frame: 6 × 6</caption>\n",
       "<thead>\n",
       "\t<tr><th></th><th scope=col>unt48</th><th scope=col>tgfb48</th><th scope=col>log2FC</th><th scope=col>FDR</th><th scope=col>p.value</th><th scope=col>biotype</th></tr>\n",
       "\t<tr><th></th><th scope=col>&lt;dbl&gt;</th><th scope=col>&lt;dbl&gt;</th><th scope=col>&lt;dbl&gt;</th><th scope=col>&lt;dbl&gt;</th><th scope=col>&lt;dbl&gt;</th><th scope=col>&lt;chr&gt;</th></tr>\n",
       "</thead>\n",
       "<tbody>\n",
       "\t<tr><th scope=row>H1f2</th><td>5.276187</td><td>5.057592</td><td>-0.21859501</td><td>0.005336126</td><td>0.0006568977</td><td>protein_coding</td></tr>\n",
       "\t<tr><th scope=row>Ndufs7</th><td>8.026788</td><td>8.149887</td><td> 0.12309913</td><td>0.013974819</td><td>0.0021617990</td><td>protein_coding</td></tr>\n",
       "\t<tr><th scope=row>Eef1a1</th><td>8.187685</td><td>8.253094</td><td> 0.06540837</td><td>0.019934998</td><td>0.0033728993</td><td>protein_coding</td></tr>\n",
       "\t<tr><th scope=row>Ppia</th><td>4.605999</td><td>4.369546</td><td>-0.23645393</td><td>0.027579985</td><td>0.0050686671</td><td>protein_coding</td></tr>\n",
       "\t<tr><th scope=row>Lmna</th><td>4.150486</td><td>4.358623</td><td> 0.20813748</td><td>0.035081546</td><td>0.0068595856</td><td>protein_coding</td></tr>\n",
       "\t<tr><th scope=row>Fth1</th><td>4.412744</td><td>4.175521</td><td>-0.23722277</td><td>0.042948120</td><td>0.0089561757</td><td>protein_coding</td></tr>\n",
       "</tbody>\n",
       "</table>\n"
      ],
      "text/latex": [
       "A data.frame: 6 × 6\n",
       "\\begin{tabular}{r|llllll}\n",
       "  & unt48 & tgfb48 & log2FC & FDR & p.value & biotype\\\\\n",
       "  & <dbl> & <dbl> & <dbl> & <dbl> & <dbl> & <chr>\\\\\n",
       "\\hline\n",
       "\tH1f2 & 5.276187 & 5.057592 & -0.21859501 & 0.005336126 & 0.0006568977 & protein\\_coding\\\\\n",
       "\tNdufs7 & 8.026788 & 8.149887 &  0.12309913 & 0.013974819 & 0.0021617990 & protein\\_coding\\\\\n",
       "\tEef1a1 & 8.187685 & 8.253094 &  0.06540837 & 0.019934998 & 0.0033728993 & protein\\_coding\\\\\n",
       "\tPpia & 4.605999 & 4.369546 & -0.23645393 & 0.027579985 & 0.0050686671 & protein\\_coding\\\\\n",
       "\tLmna & 4.150486 & 4.358623 &  0.20813748 & 0.035081546 & 0.0068595856 & protein\\_coding\\\\\n",
       "\tFth1 & 4.412744 & 4.175521 & -0.23722277 & 0.042948120 & 0.0089561757 & protein\\_coding\\\\\n",
       "\\end{tabular}\n"
      ],
      "text/markdown": [
       "\n",
       "A data.frame: 6 × 6\n",
       "\n",
       "| <!--/--> | unt48 &lt;dbl&gt; | tgfb48 &lt;dbl&gt; | log2FC &lt;dbl&gt; | FDR &lt;dbl&gt; | p.value &lt;dbl&gt; | biotype &lt;chr&gt; |\n",
       "|---|---|---|---|---|---|---|\n",
       "| H1f2 | 5.276187 | 5.057592 | -0.21859501 | 0.005336126 | 0.0006568977 | protein_coding |\n",
       "| Ndufs7 | 8.026788 | 8.149887 |  0.12309913 | 0.013974819 | 0.0021617990 | protein_coding |\n",
       "| Eef1a1 | 8.187685 | 8.253094 |  0.06540837 | 0.019934998 | 0.0033728993 | protein_coding |\n",
       "| Ppia | 4.605999 | 4.369546 | -0.23645393 | 0.027579985 | 0.0050686671 | protein_coding |\n",
       "| Lmna | 4.150486 | 4.358623 |  0.20813748 | 0.035081546 | 0.0068595856 | protein_coding |\n",
       "| Fth1 | 4.412744 | 4.175521 | -0.23722277 | 0.042948120 | 0.0089561757 | protein_coding |\n",
       "\n"
      ],
      "text/plain": [
       "       unt48    tgfb48   log2FC      FDR         p.value      biotype       \n",
       "H1f2   5.276187 5.057592 -0.21859501 0.005336126 0.0006568977 protein_coding\n",
       "Ndufs7 8.026788 8.149887  0.12309913 0.013974819 0.0021617990 protein_coding\n",
       "Eef1a1 8.187685 8.253094  0.06540837 0.019934998 0.0033728993 protein_coding\n",
       "Ppia   4.605999 4.369546 -0.23645393 0.027579985 0.0050686671 protein_coding\n",
       "Lmna   4.150486 4.358623  0.20813748 0.035081546 0.0068595856 protein_coding\n",
       "Fth1   4.412744 4.175521 -0.23722277 0.042948120 0.0089561757 protein_coding"
      ]
     },
     "metadata": {},
     "output_type": "display_data"
    },
    {
     "data": {
      "text/html": [
       "FALSE"
      ],
      "text/latex": [
       "FALSE"
      ],
      "text/markdown": [
       "FALSE"
      ],
      "text/plain": [
       "[1] FALSE"
      ]
     },
     "metadata": {},
     "output_type": "display_data"
    }
   ],
   "source": [
    "f <- rownames(df_riboseq) %in% rownames(df_mrna_only)\n",
    "head(df_riboseq[f,])\n",
    "\n",
    "any(abs(df_riboseq[f,'log2FC']) > th_log2fc & df_riboseq[f,'FDR'] < th_adj_pvalue)"
   ]
  },
  {
   "cell_type": "code",
   "execution_count": 328,
   "metadata": {},
   "outputs": [],
   "source": [
    "vec_log2FC <- df_mrna_only$log2FC\n",
    "vec_fdr <- df_mrna_only$FDR"
   ]
  },
  {
   "cell_type": "markdown",
   "metadata": {},
   "source": [
    "### sym_mrna_up_ribo_no"
   ]
  },
  {
   "cell_type": "code",
   "execution_count": 329,
   "metadata": {},
   "outputs": [
    {
     "data": {
      "text/html": [
       "<style>\n",
       ".list-inline {list-style: none; margin:0; padding: 0}\n",
       ".list-inline>li {display: inline-block}\n",
       ".list-inline>li:not(:last-child)::after {content: \"\\00b7\"; padding: 0 .5ex}\n",
       "</style>\n",
       "<ol class=list-inline><li>2388</li><li>6</li></ol>\n"
      ],
      "text/latex": [
       "\\begin{enumerate*}\n",
       "\\item 2388\n",
       "\\item 6\n",
       "\\end{enumerate*}\n"
      ],
      "text/markdown": [
       "1. 2388\n",
       "2. 6\n",
       "\n",
       "\n"
      ],
      "text/plain": [
       "[1] 2388    6"
      ]
     },
     "metadata": {},
     "output_type": "display_data"
    },
    {
     "data": {
      "text/html": [
       "1917"
      ],
      "text/latex": [
       "1917"
      ],
      "text/markdown": [
       "1917"
      ],
      "text/plain": [
       "[1] 1917"
      ]
     },
     "metadata": {},
     "output_type": "display_data"
    }
   ],
   "source": [
    "f_up <- vec_fdr < th_adj_pvalue & vec_log2FC > th_log2fc\n",
    "df_mrna_only_up <- df_mrna_only[f_up,]\n",
    "sym_mrna_up_ribo_no <- rownames(df_mrna_only_up)\n",
    "dim(df_mrna_only_up)\n",
    "\n",
    "# detected in both platforms\n",
    "sym_mrna_up_ribo_no <- intersect(sym_mrna_up_ribo_no, sym_detected_both)\n",
    "length(sym_mrna_up_ribo_no)\n",
    "\n",
    "list_genes[['sym_mrna_up_ribo_no']] <- sym_mrna_up_ribo_no"
   ]
  },
  {
   "cell_type": "markdown",
   "metadata": {},
   "source": [
    "### sym_mrna_dn_ribo_no"
   ]
  },
  {
   "cell_type": "code",
   "execution_count": 330,
   "metadata": {},
   "outputs": [
    {
     "data": {
      "text/html": [
       "<style>\n",
       ".list-inline {list-style: none; margin:0; padding: 0}\n",
       ".list-inline>li {display: inline-block}\n",
       ".list-inline>li:not(:last-child)::after {content: \"\\00b7\"; padding: 0 .5ex}\n",
       "</style>\n",
       "<ol class=list-inline><li>2600</li><li>6</li></ol>\n"
      ],
      "text/latex": [
       "\\begin{enumerate*}\n",
       "\\item 2600\n",
       "\\item 6\n",
       "\\end{enumerate*}\n"
      ],
      "text/markdown": [
       "1. 2600\n",
       "2. 6\n",
       "\n",
       "\n"
      ],
      "text/plain": [
       "[1] 2600    6"
      ]
     },
     "metadata": {},
     "output_type": "display_data"
    },
    {
     "data": {
      "text/html": [
       "2022"
      ],
      "text/latex": [
       "2022"
      ],
      "text/markdown": [
       "2022"
      ],
      "text/plain": [
       "[1] 2022"
      ]
     },
     "metadata": {},
     "output_type": "display_data"
    }
   ],
   "source": [
    "f_dn <- vec_fdr < th_adj_pvalue & vec_log2FC < -th_log2fc\n",
    "df_mrna_only_dn <- df_mrna_only[f_dn,]\n",
    "sym_mrna_dn_ribo_no <- rownames(df_mrna_only_dn)\n",
    "dim(df_mrna_only_dn)\n",
    "\n",
    "# detected in both platforms\n",
    "sym_mrna_dn_ribo_no <- intersect(sym_mrna_dn_ribo_no, sym_detected_both)\n",
    "length(sym_mrna_dn_ribo_no)\n",
    "\n",
    "list_genes[['sym_mrna_dn_ribo_no']] <- sym_mrna_dn_ribo_no"
   ]
  },
  {
   "cell_type": "markdown",
   "metadata": {},
   "source": [
    "### sym_mrna_only (=sym_mrna_de_ribo_no)"
   ]
  },
  {
   "cell_type": "code",
   "execution_count": 331,
   "metadata": {},
   "outputs": [
    {
     "data": {
      "text/html": [
       "3939"
      ],
      "text/latex": [
       "3939"
      ],
      "text/markdown": [
       "3939"
      ],
      "text/plain": [
       "[1] 3939"
      ]
     },
     "metadata": {},
     "output_type": "display_data"
    },
    {
     "data": {
      "text/html": [
       "3939"
      ],
      "text/latex": [
       "3939"
      ],
      "text/markdown": [
       "3939"
      ],
      "text/plain": [
       "[1] 3939"
      ]
     },
     "metadata": {},
     "output_type": "display_data"
    }
   ],
   "source": [
    "# detected in both platforms\n",
    "sym_mrna_de_ribo_no <- union(sym_mrna_up_ribo_no, sym_mrna_dn_ribo_no)\n",
    "length(sym_mrna_de_ribo_no)\n",
    "\n",
    "sym_mrna_only <- sym_mrna_de_ribo_no\n",
    "length(sym_mrna_only)\n",
    "\n",
    "df_mrna_only <- df_mrna[sym_mrna_only, ]\n",
    "if (f_write_table) {\n",
    "    fname_out <- sprintf(\"./data/table/170224%s.%s.unt48--vs--tgfb48.diff-all.transcriptionONLY.txt\", \n",
    "        rundate_appendix, strdir)\n",
    "    write.table(df_mrna_only, file = fname_out, row.names = TRUE, col.names = NA, \n",
    "        sep = \"\\t\", quote = FALSE)\n",
    "}"
   ]
  },
  {
   "cell_type": "markdown",
   "metadata": {},
   "source": [
    "##  df_ribo_only"
   ]
  },
  {
   "cell_type": "code",
   "execution_count": 332,
   "metadata": {},
   "outputs": [
    {
     "data": {
      "text/html": [
       "888"
      ],
      "text/latex": [
       "888"
      ],
      "text/markdown": [
       "888"
      ],
      "text/plain": [
       "[1] 888"
      ]
     },
     "metadata": {},
     "output_type": "display_data"
    },
    {
     "data": {
      "text/html": [
       "<table class=\"dataframe\">\n",
       "<caption>A data.frame: 6 × 6</caption>\n",
       "<thead>\n",
       "\t<tr><th></th><th scope=col>unt48</th><th scope=col>tgfb48</th><th scope=col>log2FC</th><th scope=col>FDR</th><th scope=col>p.value</th><th scope=col>biotype</th></tr>\n",
       "\t<tr><th></th><th scope=col>&lt;dbl&gt;</th><th scope=col>&lt;dbl&gt;</th><th scope=col>&lt;dbl&gt;</th><th scope=col>&lt;dbl&gt;</th><th scope=col>&lt;dbl&gt;</th><th scope=col>&lt;chr&gt;</th></tr>\n",
       "</thead>\n",
       "<tbody>\n",
       "\t<tr><th scope=row>1700015I17Rik</th><td>-3.3048711</td><td>-1.0700091</td><td>2.2348621</td><td>0.008306292</td><td>0.0011381517</td><td>lncRNA        </td></tr>\n",
       "\t<tr><th scope=row>4931419H13Rik</th><td>-1.7459926</td><td>-0.2932365</td><td>1.4527561</td><td>0.006859988</td><td>0.0008930906</td><td>lncRNA        </td></tr>\n",
       "\t<tr><th scope=row>5S_rRNA</th><td>10.5330843</td><td>11.3966448</td><td>0.8635606</td><td>0.012771123</td><td>0.0019380505</td><td>rRNA          </td></tr>\n",
       "\t<tr><th scope=row>9130019O22Rik</th><td>-4.6965296</td><td>-1.7175273</td><td>2.9790024</td><td>0.040807610</td><td>0.0083743560</td><td>protein_coding</td></tr>\n",
       "\t<tr><th scope=row>Acadl</th><td> 1.6545088</td><td> 2.4438060</td><td>0.7892972</td><td>0.000104799</td><td>0.0000064549</td><td>protein_coding</td></tr>\n",
       "\t<tr><th scope=row>Acbd3</th><td> 0.6329265</td><td> 1.2734654</td><td>0.6405389</td><td>0.017595871</td><td>0.0028759378</td><td>protein_coding</td></tr>\n",
       "</tbody>\n",
       "</table>\n"
      ],
      "text/latex": [
       "A data.frame: 6 × 6\n",
       "\\begin{tabular}{r|llllll}\n",
       "  & unt48 & tgfb48 & log2FC & FDR & p.value & biotype\\\\\n",
       "  & <dbl> & <dbl> & <dbl> & <dbl> & <dbl> & <chr>\\\\\n",
       "\\hline\n",
       "\t1700015I17Rik & -3.3048711 & -1.0700091 & 2.2348621 & 0.008306292 & 0.0011381517 & lncRNA        \\\\\n",
       "\t4931419H13Rik & -1.7459926 & -0.2932365 & 1.4527561 & 0.006859988 & 0.0008930906 & lncRNA        \\\\\n",
       "\t5S\\_rRNA & 10.5330843 & 11.3966448 & 0.8635606 & 0.012771123 & 0.0019380505 & rRNA          \\\\\n",
       "\t9130019O22Rik & -4.6965296 & -1.7175273 & 2.9790024 & 0.040807610 & 0.0083743560 & protein\\_coding\\\\\n",
       "\tAcadl &  1.6545088 &  2.4438060 & 0.7892972 & 0.000104799 & 0.0000064549 & protein\\_coding\\\\\n",
       "\tAcbd3 &  0.6329265 &  1.2734654 & 0.6405389 & 0.017595871 & 0.0028759378 & protein\\_coding\\\\\n",
       "\\end{tabular}\n"
      ],
      "text/markdown": [
       "\n",
       "A data.frame: 6 × 6\n",
       "\n",
       "| <!--/--> | unt48 &lt;dbl&gt; | tgfb48 &lt;dbl&gt; | log2FC &lt;dbl&gt; | FDR &lt;dbl&gt; | p.value &lt;dbl&gt; | biotype &lt;chr&gt; |\n",
       "|---|---|---|---|---|---|---|\n",
       "| 1700015I17Rik | -3.3048711 | -1.0700091 | 2.2348621 | 0.008306292 | 0.0011381517 | lncRNA         |\n",
       "| 4931419H13Rik | -1.7459926 | -0.2932365 | 1.4527561 | 0.006859988 | 0.0008930906 | lncRNA         |\n",
       "| 5S_rRNA | 10.5330843 | 11.3966448 | 0.8635606 | 0.012771123 | 0.0019380505 | rRNA           |\n",
       "| 9130019O22Rik | -4.6965296 | -1.7175273 | 2.9790024 | 0.040807610 | 0.0083743560 | protein_coding |\n",
       "| Acadl |  1.6545088 |  2.4438060 | 0.7892972 | 0.000104799 | 0.0000064549 | protein_coding |\n",
       "| Acbd3 |  0.6329265 |  1.2734654 | 0.6405389 | 0.017595871 | 0.0028759378 | protein_coding |\n",
       "\n"
      ],
      "text/plain": [
       "              unt48      tgfb48     log2FC    FDR         p.value     \n",
       "1700015I17Rik -3.3048711 -1.0700091 2.2348621 0.008306292 0.0011381517\n",
       "4931419H13Rik -1.7459926 -0.2932365 1.4527561 0.006859988 0.0008930906\n",
       "5S_rRNA       10.5330843 11.3966448 0.8635606 0.012771123 0.0019380505\n",
       "9130019O22Rik -4.6965296 -1.7175273 2.9790024 0.040807610 0.0083743560\n",
       "Acadl          1.6545088  2.4438060 0.7892972 0.000104799 0.0000064549\n",
       "Acbd3          0.6329265  1.2734654 0.6405389 0.017595871 0.0028759378\n",
       "              biotype       \n",
       "1700015I17Rik lncRNA        \n",
       "4931419H13Rik lncRNA        \n",
       "5S_rRNA       rRNA          \n",
       "9130019O22Rik protein_coding\n",
       "Acadl         protein_coding\n",
       "Acbd3         protein_coding"
      ]
     },
     "metadata": {},
     "output_type": "display_data"
    },
    {
     "data": {
      "text/html": [
       "<style>\n",
       ".list-inline {list-style: none; margin:0; padding: 0}\n",
       ".list-inline>li {display: inline-block}\n",
       ".list-inline>li:not(:last-child)::after {content: \"\\00b7\"; padding: 0 .5ex}\n",
       "</style>\n",
       "<ol class=list-inline><li>888</li><li>6</li></ol>\n"
      ],
      "text/latex": [
       "\\begin{enumerate*}\n",
       "\\item 888\n",
       "\\item 6\n",
       "\\end{enumerate*}\n"
      ],
      "text/markdown": [
       "1. 888\n",
       "2. 6\n",
       "\n",
       "\n"
      ],
      "text/plain": [
       "[1] 888   6"
      ]
     },
     "metadata": {},
     "output_type": "display_data"
    }
   ],
   "source": [
    "sym_ribo_only <- setdiff(sym_ribo, sym_mrna)\n",
    "length(sym_ribo_only)\n",
    "\n",
    "if (!is.null(pattern_remove_gene)) {\n",
    "  any(grepl(pattern_remove_gene, sym_ribo_only)) # should be FALSE\n",
    "}\n",
    "\n",
    "# subsetting df_ribo\n",
    "df_ribo_only <- df_ribo[sym_ribo_only,]\n",
    "\n",
    "head(df_ribo_only)\n",
    "dim(df_ribo_only)\n"
   ]
  },
  {
   "cell_type": "code",
   "execution_count": 333,
   "metadata": {},
   "outputs": [
    {
     "data": {
      "text/html": [
       "681"
      ],
      "text/latex": [
       "681"
      ],
      "text/markdown": [
       "681"
      ],
      "text/plain": [
       "[1] 681"
      ]
     },
     "metadata": {},
     "output_type": "display_data"
    }
   ],
   "source": [
    "length(intersect(sym_ribo_only, sym_detected_both))"
   ]
  },
  {
   "cell_type": "code",
   "execution_count": 334,
   "metadata": {},
   "outputs": [],
   "source": [
    "vec_log2FC <- df_ribo_only$log2FC\n",
    "vec_fdr <- df_ribo_only$FDR"
   ]
  },
  {
   "cell_type": "markdown",
   "metadata": {},
   "source": [
    "### sym_mrna_no_ribo_up"
   ]
  },
  {
   "cell_type": "code",
   "execution_count": 335,
   "metadata": {},
   "outputs": [
    {
     "data": {
      "text/html": [
       "<style>\n",
       ".list-inline {list-style: none; margin:0; padding: 0}\n",
       ".list-inline>li {display: inline-block}\n",
       ".list-inline>li:not(:last-child)::after {content: \"\\00b7\"; padding: 0 .5ex}\n",
       "</style>\n",
       "<ol class=list-inline><li>421</li><li>6</li></ol>\n"
      ],
      "text/latex": [
       "\\begin{enumerate*}\n",
       "\\item 421\n",
       "\\item 6\n",
       "\\end{enumerate*}\n"
      ],
      "text/markdown": [
       "1. 421\n",
       "2. 6\n",
       "\n",
       "\n"
      ],
      "text/plain": [
       "[1] 421   6"
      ]
     },
     "metadata": {},
     "output_type": "display_data"
    },
    {
     "data": {
      "text/html": [
       "288"
      ],
      "text/latex": [
       "288"
      ],
      "text/markdown": [
       "288"
      ],
      "text/plain": [
       "[1] 288"
      ]
     },
     "metadata": {},
     "output_type": "display_data"
    }
   ],
   "source": [
    "f_up <- (vec_fdr < th_adj_pvalue) & (vec_log2FC > th_log2fc)\n",
    "df_ribo_only_up <- df_ribo_only[f_up,]\n",
    "sym_mrna_no_ribo_up <- rownames(df_ribo_only_up)\n",
    "dim(df_ribo_only_up)\n",
    "\n",
    "# detected in both platforms\n",
    "sym_mrna_no_ribo_up <- intersect(sym_mrna_no_ribo_up, sym_detected_both)\n",
    "length(sym_mrna_no_ribo_up)\n",
    "\n",
    "list_genes[['sym_mrna_no_ribo_up']] <- sym_mrna_no_ribo_up"
   ]
  },
  {
   "cell_type": "markdown",
   "metadata": {},
   "source": [
    "### sym_mrna_no_ribo_dn"
   ]
  },
  {
   "cell_type": "code",
   "execution_count": 336,
   "metadata": {},
   "outputs": [
    {
     "data": {
      "text/html": [
       "<style>\n",
       ".list-inline {list-style: none; margin:0; padding: 0}\n",
       ".list-inline>li {display: inline-block}\n",
       ".list-inline>li:not(:last-child)::after {content: \"\\00b7\"; padding: 0 .5ex}\n",
       "</style>\n",
       "<ol class=list-inline><li>467</li><li>6</li></ol>\n"
      ],
      "text/latex": [
       "\\begin{enumerate*}\n",
       "\\item 467\n",
       "\\item 6\n",
       "\\end{enumerate*}\n"
      ],
      "text/markdown": [
       "1. 467\n",
       "2. 6\n",
       "\n",
       "\n"
      ],
      "text/plain": [
       "[1] 467   6"
      ]
     },
     "metadata": {},
     "output_type": "display_data"
    },
    {
     "data": {
      "text/html": [
       "393"
      ],
      "text/latex": [
       "393"
      ],
      "text/markdown": [
       "393"
      ],
      "text/plain": [
       "[1] 393"
      ]
     },
     "metadata": {},
     "output_type": "display_data"
    }
   ],
   "source": [
    "f_dn <- (vec_fdr < th_adj_pvalue) & (vec_log2FC < -th_log2fc)\n",
    "df_ribo_only_dn <- df_ribo_only[f_dn,]\n",
    "sym_mrna_no_ribo_dn <- rownames(df_ribo_only_dn)\n",
    "dim(df_ribo_only_dn)\n",
    "\n",
    "# detected in both platforms\n",
    "sym_mrna_no_ribo_dn <- intersect(sym_mrna_no_ribo_dn, sym_detected_both)\n",
    "length(sym_mrna_no_ribo_dn)\n",
    "\n",
    "list_genes[['sym_mrna_no_ribo_dn']] <- sym_mrna_no_ribo_dn"
   ]
  },
  {
   "cell_type": "markdown",
   "metadata": {},
   "source": [
    "### sym_ribo_only (=sym_mrna_no_ribo_de)"
   ]
  },
  {
   "cell_type": "code",
   "execution_count": 337,
   "metadata": {},
   "outputs": [
    {
     "data": {
      "text/html": [
       "681"
      ],
      "text/latex": [
       "681"
      ],
      "text/markdown": [
       "681"
      ],
      "text/plain": [
       "[1] 681"
      ]
     },
     "metadata": {},
     "output_type": "display_data"
    },
    {
     "data": {
      "text/html": [
       "681"
      ],
      "text/latex": [
       "681"
      ],
      "text/markdown": [
       "681"
      ],
      "text/plain": [
       "[1] 681"
      ]
     },
     "metadata": {},
     "output_type": "display_data"
    }
   ],
   "source": [
    "# detected in both platforms\n",
    "sym_mrna_no_ribo_de <- union(sym_mrna_no_ribo_up, sym_mrna_no_ribo_dn)\n",
    "length(sym_mrna_no_ribo_de)\n",
    "\n",
    "# here, sym_ribo_only was redefined.\n",
    "# sym_ribo_only were detected in both platforms.\n",
    "sym_ribo_only <- sym_mrna_no_ribo_de\n",
    "length(sym_ribo_only)\n",
    "\n",
    "df_ribo_only <- df_ribo[sym_ribo_only, ]\n",
    "\n",
    "if (f_write_table) {\n",
    "    fname_out <- sprintf(\"./data/table/161021%s.NMuMG.%s.unt48--vs--tgfb48.diff-all.translationONLY.txt\", \n",
    "        rundate_appendix, strdir)\n",
    "    write.table(df_ribo_only, file = fname_out, row.names = TRUE, col.names = NA, \n",
    "        sep = \"\\t\", quote = FALSE)\n",
    "}"
   ]
  },
  {
   "cell_type": "markdown",
   "metadata": {},
   "source": [
    "## biotype"
   ]
  },
  {
   "cell_type": "code",
   "execution_count": 338,
   "metadata": {},
   "outputs": [
    {
     "data": {
      "text/html": [
       "<style>\n",
       ".list-inline {list-style: none; margin:0; padding: 0}\n",
       ".list-inline>li {display: inline-block}\n",
       ".list-inline>li:not(:last-child)::after {content: \"\\00b7\"; padding: 0 .5ex}\n",
       "</style>\n",
       "<ol class=list-inline><li>'protein_coding'</li><li>'lncRNA'</li><li>'TEC'</li><li>'transcribed_unprocessed_pseudogene'</li><li>'transcribed_processed_pseudogene'</li><li>'rRNA'</li><li>'unprocessed_pseudogene'</li><li>'misc_RNA'</li><li>'translated_unprocessed_pseudogene'</li><li>'polymorphic_pseudogene'</li><li>'processed_pseudogene'</li><li>'snoRNA'</li><li>'pseudogene'</li><li>'transcribed_unitary_pseudogene'</li><li>'scaRNA'</li><li>'snRNA'</li><li>'miRNA'</li><li>'IG_C_gene'</li><li>'Mt_rRNA'</li><li>'Mt_tRNA'</li><li>'rDNA'</li><li>'ribozyme'</li><li>'TR_C_gene'</li><li>'TR_V_gene'</li></ol>\n"
      ],
      "text/latex": [
       "\\begin{enumerate*}\n",
       "\\item 'protein\\_coding'\n",
       "\\item 'lncRNA'\n",
       "\\item 'TEC'\n",
       "\\item 'transcribed\\_unprocessed\\_pseudogene'\n",
       "\\item 'transcribed\\_processed\\_pseudogene'\n",
       "\\item 'rRNA'\n",
       "\\item 'unprocessed\\_pseudogene'\n",
       "\\item 'misc\\_RNA'\n",
       "\\item 'translated\\_unprocessed\\_pseudogene'\n",
       "\\item 'polymorphic\\_pseudogene'\n",
       "\\item 'processed\\_pseudogene'\n",
       "\\item 'snoRNA'\n",
       "\\item 'pseudogene'\n",
       "\\item 'transcribed\\_unitary\\_pseudogene'\n",
       "\\item 'scaRNA'\n",
       "\\item 'snRNA'\n",
       "\\item 'miRNA'\n",
       "\\item 'IG\\_C\\_gene'\n",
       "\\item 'Mt\\_rRNA'\n",
       "\\item 'Mt\\_tRNA'\n",
       "\\item 'rDNA'\n",
       "\\item 'ribozyme'\n",
       "\\item 'TR\\_C\\_gene'\n",
       "\\item 'TR\\_V\\_gene'\n",
       "\\end{enumerate*}\n"
      ],
      "text/markdown": [
       "1. 'protein_coding'\n",
       "2. 'lncRNA'\n",
       "3. 'TEC'\n",
       "4. 'transcribed_unprocessed_pseudogene'\n",
       "5. 'transcribed_processed_pseudogene'\n",
       "6. 'rRNA'\n",
       "7. 'unprocessed_pseudogene'\n",
       "8. 'misc_RNA'\n",
       "9. 'translated_unprocessed_pseudogene'\n",
       "10. 'polymorphic_pseudogene'\n",
       "11. 'processed_pseudogene'\n",
       "12. 'snoRNA'\n",
       "13. 'pseudogene'\n",
       "14. 'transcribed_unitary_pseudogene'\n",
       "15. 'scaRNA'\n",
       "16. 'snRNA'\n",
       "17. 'miRNA'\n",
       "18. 'IG_C_gene'\n",
       "19. 'Mt_rRNA'\n",
       "20. 'Mt_tRNA'\n",
       "21. 'rDNA'\n",
       "22. 'ribozyme'\n",
       "23. 'TR_C_gene'\n",
       "24. 'TR_V_gene'\n",
       "\n",
       "\n"
      ],
      "text/plain": [
       " [1] \"protein_coding\"                     \"lncRNA\"                            \n",
       " [3] \"TEC\"                                \"transcribed_unprocessed_pseudogene\"\n",
       " [5] \"transcribed_processed_pseudogene\"   \"rRNA\"                              \n",
       " [7] \"unprocessed_pseudogene\"             \"misc_RNA\"                          \n",
       " [9] \"translated_unprocessed_pseudogene\"  \"polymorphic_pseudogene\"            \n",
       "[11] \"processed_pseudogene\"               \"snoRNA\"                            \n",
       "[13] \"pseudogene\"                         \"transcribed_unitary_pseudogene\"    \n",
       "[15] \"scaRNA\"                             \"snRNA\"                             \n",
       "[17] \"miRNA\"                              \"IG_C_gene\"                         \n",
       "[19] \"Mt_rRNA\"                            \"Mt_tRNA\"                           \n",
       "[21] \"rDNA\"                               \"ribozyme\"                          \n",
       "[23] \"TR_C_gene\"                          \"TR_V_gene\"                         "
      ]
     },
     "metadata": {},
     "output_type": "display_data"
    },
    {
     "data": {
      "text/html": [
       "250"
      ],
      "text/latex": [
       "250"
      ],
      "text/markdown": [
       "250"
      ],
      "text/plain": [
       "[1] 250"
      ]
     },
     "metadata": {},
     "output_type": "display_data"
    },
    {
     "data": {
      "text/html": [
       "346"
      ],
      "text/latex": [
       "346"
      ],
      "text/markdown": [
       "346"
      ],
      "text/plain": [
       "[1] 346"
      ]
     },
     "metadata": {},
     "output_type": "display_data"
    }
   ],
   "source": [
    "unique(df_all$biotype)\n",
    "f_pseudo <- grepl('pseudo', df_all$biotype)\n",
    "sym_pseudo <- rownames(df_all[f_pseudo,])\n",
    "\n",
    "length(setdiff(sym_mrna_no_ribo_up, sym_pseudo))\n",
    "length(setdiff(sym_mrna_no_ribo_dn, sym_pseudo))"
   ]
  },
  {
   "cell_type": "markdown",
   "metadata": {},
   "source": [
    "## no DE"
   ]
  },
  {
   "cell_type": "code",
   "execution_count": 339,
   "metadata": {
    "scrolled": true
   },
   "outputs": [
    {
     "data": {
      "text/html": [
       "10427"
      ],
      "text/latex": [
       "10427"
      ],
      "text/markdown": [
       "10427"
      ],
      "text/plain": [
       "[1] 10427"
      ]
     },
     "metadata": {},
     "output_type": "display_data"
    },
    {
     "data": {
      "text/html": [
       "4092"
      ],
      "text/latex": [
       "4092"
      ],
      "text/markdown": [
       "4092"
      ],
      "text/plain": [
       "[1] 4092"
      ]
     },
     "metadata": {},
     "output_type": "display_data"
    }
   ],
   "source": [
    "n_detected <- length(sym_detected_both)\n",
    "n_detected\n",
    "\n",
    "sym_de_both <- union(sym_mrna_de_detected_both, sym_ribo_de_detected_both)\n",
    "\n",
    "sym_no_de_both <- setdiff(sym_detected_both, sym_de_both)\n",
    "length(sym_no_de_both)"
   ]
  },
  {
   "cell_type": "markdown",
   "metadata": {},
   "source": [
    "### validation"
   ]
  },
  {
   "cell_type": "code",
   "execution_count": 340,
   "metadata": {},
   "outputs": [
    {
     "data": {
      "text/html": [],
      "text/latex": [],
      "text/markdown": [],
      "text/plain": [
       "character(0)"
      ]
     },
     "metadata": {},
     "output_type": "display_data"
    },
    {
     "data": {
      "text/html": [],
      "text/latex": [],
      "text/markdown": [],
      "text/plain": [
       "character(0)"
      ]
     },
     "metadata": {},
     "output_type": "display_data"
    },
    {
     "data": {
      "text/html": [
       "6335"
      ],
      "text/latex": [
       "6335"
      ],
      "text/markdown": [
       "6335"
      ],
      "text/plain": [
       "[1] 6335"
      ]
     },
     "metadata": {},
     "output_type": "display_data"
    },
    {
     "data": {
      "text/html": [
       "4092"
      ],
      "text/latex": [
       "4092"
      ],
      "text/markdown": [
       "4092"
      ],
      "text/plain": [
       "[1] 4092"
      ]
     },
     "metadata": {},
     "output_type": "display_data"
    },
    {
     "data": {
      "text/html": [
       "TRUE"
      ],
      "text/latex": [
       "TRUE"
      ],
      "text/markdown": [
       "TRUE"
      ],
      "text/plain": [
       "[1] TRUE"
      ]
     },
     "metadata": {},
     "output_type": "display_data"
    }
   ],
   "source": [
    "# de both & dectected in both platforms\n",
    "intersect(sym_mrna_only, sym_mrna_de_ribo_de)\n",
    "intersect(sym_ribo_only, sym_mrna_de_ribo_de)\n",
    "sym_de <- union(sym_mrna_only, sym_ribo_only)\n",
    "sym_de <- union(sym_de, sym_mrna_de_ribo_de)\n",
    "n_de <- length(sym_de)\n",
    "n_de\n",
    "\n",
    "sym_no_de_both1 <- setdiff(sym_detected_both, sym_de)\n",
    "length(sym_no_de_both1)\n",
    "\n",
    "setequal(sym_no_de_both, sym_no_de_both1)"
   ]
  },
  {
   "cell_type": "markdown",
   "metadata": {},
   "source": [
    "# tgfb48 vs tgfbCX5461"
   ]
  },
  {
   "cell_type": "markdown",
   "metadata": {},
   "source": [
    "## df_mrna2"
   ]
  },
  {
   "cell_type": "code",
   "execution_count": 341,
   "metadata": {
    "scrolled": false
   },
   "outputs": [
    {
     "data": {
      "text/html": [
       "<table class=\"dataframe\">\n",
       "<caption>A data.frame: 6 × 5</caption>\n",
       "<thead>\n",
       "\t<tr><th></th><th scope=col>tgfb</th><th scope=col>tgfbCX</th><th scope=col>log2FC</th><th scope=col>FDR</th><th scope=col>p.value</th></tr>\n",
       "\t<tr><th></th><th scope=col>&lt;dbl&gt;</th><th scope=col>&lt;dbl&gt;</th><th scope=col>&lt;dbl&gt;</th><th scope=col>&lt;dbl&gt;</th><th scope=col>&lt;dbl&gt;</th></tr>\n",
       "</thead>\n",
       "<tbody>\n",
       "\t<tr><th scope=row>Gm48048</th><td>-4.665601</td><td>-8.134377</td><td>-3.468776</td><td>0.004385847</td><td>0.0001915553</td></tr>\n",
       "\t<tr><th scope=row>Gm12435</th><td>-4.397995</td><td>-7.534412</td><td>-3.136417</td><td>0.017733015</td><td>0.0012461922</td></tr>\n",
       "\t<tr><th scope=row>Serpina1e</th><td>-4.575426</td><td>-7.534598</td><td>-2.959172</td><td>0.022591396</td><td>0.0017752120</td></tr>\n",
       "\t<tr><th scope=row>Etohd2</th><td>-5.232751</td><td>-8.134377</td><td>-2.901626</td><td>0.037200411</td><td>0.0037040237</td></tr>\n",
       "\t<tr><th scope=row>Samd5</th><td>-4.041869</td><td>-6.646292</td><td>-2.604423</td><td>0.015702795</td><td>0.0010528093</td></tr>\n",
       "\t<tr><th scope=row>Kcnk10</th><td>-3.891947</td><td>-6.099245</td><td>-2.207298</td><td>0.037499985</td><td>0.0037539439</td></tr>\n",
       "</tbody>\n",
       "</table>\n"
      ],
      "text/latex": [
       "A data.frame: 6 × 5\n",
       "\\begin{tabular}{r|lllll}\n",
       "  & tgfb & tgfbCX & log2FC & FDR & p.value\\\\\n",
       "  & <dbl> & <dbl> & <dbl> & <dbl> & <dbl>\\\\\n",
       "\\hline\n",
       "\tGm48048 & -4.665601 & -8.134377 & -3.468776 & 0.004385847 & 0.0001915553\\\\\n",
       "\tGm12435 & -4.397995 & -7.534412 & -3.136417 & 0.017733015 & 0.0012461922\\\\\n",
       "\tSerpina1e & -4.575426 & -7.534598 & -2.959172 & 0.022591396 & 0.0017752120\\\\\n",
       "\tEtohd2 & -5.232751 & -8.134377 & -2.901626 & 0.037200411 & 0.0037040237\\\\\n",
       "\tSamd5 & -4.041869 & -6.646292 & -2.604423 & 0.015702795 & 0.0010528093\\\\\n",
       "\tKcnk10 & -3.891947 & -6.099245 & -2.207298 & 0.037499985 & 0.0037539439\\\\\n",
       "\\end{tabular}\n"
      ],
      "text/markdown": [
       "\n",
       "A data.frame: 6 × 5\n",
       "\n",
       "| <!--/--> | tgfb &lt;dbl&gt; | tgfbCX &lt;dbl&gt; | log2FC &lt;dbl&gt; | FDR &lt;dbl&gt; | p.value &lt;dbl&gt; |\n",
       "|---|---|---|---|---|---|\n",
       "| Gm48048 | -4.665601 | -8.134377 | -3.468776 | 0.004385847 | 0.0001915553 |\n",
       "| Gm12435 | -4.397995 | -7.534412 | -3.136417 | 0.017733015 | 0.0012461922 |\n",
       "| Serpina1e | -4.575426 | -7.534598 | -2.959172 | 0.022591396 | 0.0017752120 |\n",
       "| Etohd2 | -5.232751 | -8.134377 | -2.901626 | 0.037200411 | 0.0037040237 |\n",
       "| Samd5 | -4.041869 | -6.646292 | -2.604423 | 0.015702795 | 0.0010528093 |\n",
       "| Kcnk10 | -3.891947 | -6.099245 | -2.207298 | 0.037499985 | 0.0037539439 |\n",
       "\n"
      ],
      "text/plain": [
       "          tgfb      tgfbCX    log2FC    FDR         p.value     \n",
       "Gm48048   -4.665601 -8.134377 -3.468776 0.004385847 0.0001915553\n",
       "Gm12435   -4.397995 -7.534412 -3.136417 0.017733015 0.0012461922\n",
       "Serpina1e -4.575426 -7.534598 -2.959172 0.022591396 0.0017752120\n",
       "Etohd2    -5.232751 -8.134377 -2.901626 0.037200411 0.0037040237\n",
       "Samd5     -4.041869 -6.646292 -2.604423 0.015702795 0.0010528093\n",
       "Kcnk10    -3.891947 -6.099245 -2.207298 0.037499985 0.0037539439"
      ]
     },
     "metadata": {},
     "output_type": "display_data"
    },
    {
     "data": {
      "text/html": [
       "<style>\n",
       ".list-inline {list-style: none; margin:0; padding: 0}\n",
       ".list-inline>li {display: inline-block}\n",
       ".list-inline>li:not(:last-child)::after {content: \"\\00b7\"; padding: 0 .5ex}\n",
       "</style>\n",
       "<ol class=list-inline><li>1093</li><li>5</li></ol>\n"
      ],
      "text/latex": [
       "\\begin{enumerate*}\n",
       "\\item 1093\n",
       "\\item 5\n",
       "\\end{enumerate*}\n"
      ],
      "text/markdown": [
       "1. 1093\n",
       "2. 5\n",
       "\n",
       "\n"
      ],
      "text/plain": [
       "[1] 1093    5"
      ]
     },
     "metadata": {},
     "output_type": "display_data"
    },
    {
     "data": {
      "text/html": [
       "FALSE"
      ],
      "text/latex": [
       "FALSE"
      ],
      "text/markdown": [
       "FALSE"
      ],
      "text/plain": [
       "[1] FALSE"
      ]
     },
     "metadata": {},
     "output_type": "display_data"
    },
    {
     "data": {
      "text/html": [
       "<table class=\"dataframe\">\n",
       "<caption>A data.frame: 6 × 6</caption>\n",
       "<thead>\n",
       "\t<tr><th></th><th scope=col>tgfb</th><th scope=col>tgfbCX</th><th scope=col>log2FC</th><th scope=col>FDR</th><th scope=col>p.value</th><th scope=col>biotype</th></tr>\n",
       "\t<tr><th></th><th scope=col>&lt;dbl&gt;</th><th scope=col>&lt;dbl&gt;</th><th scope=col>&lt;dbl&gt;</th><th scope=col>&lt;dbl&gt;</th><th scope=col>&lt;dbl&gt;</th><th scope=col>&lt;chr&gt;</th></tr>\n",
       "</thead>\n",
       "<tbody>\n",
       "\t<tr><th scope=row>0610010F05Rik</th><td>-0.1829955</td><td>-0.5799545</td><td>-0.3969590</td><td>0.041485181</td><td>0.0043446887</td><td>protein_coding</td></tr>\n",
       "\t<tr><th scope=row>1110002L01Rik</th><td>-0.7176300</td><td>-0.2905577</td><td> 0.4270723</td><td>0.031212722</td><td>0.0028870448</td><td>lncRNA        </td></tr>\n",
       "\t<tr><th scope=row>1700017B05Rik</th><td> 2.4528345</td><td> 2.7315583</td><td> 0.2787238</td><td>0.003380659</td><td>0.0001369835</td><td>protein_coding</td></tr>\n",
       "\t<tr><th scope=row>1810013L24Rik</th><td> 1.2470260</td><td> 1.5439815</td><td> 0.2969555</td><td>0.006595667</td><td>0.0003321669</td><td>protein_coding</td></tr>\n",
       "\t<tr><th scope=row>2210418O10Rik</th><td>-2.6406196</td><td>-4.1794167</td><td>-1.5387971</td><td>0.045975213</td><td>0.0050478705</td><td>protein_coding</td></tr>\n",
       "\t<tr><th scope=row>2510039O18Rik</th><td> 0.9820496</td><td> 1.2884085</td><td> 0.3063589</td><td>0.012466718</td><td>0.0007706629</td><td>protein_coding</td></tr>\n",
       "</tbody>\n",
       "</table>\n"
      ],
      "text/latex": [
       "A data.frame: 6 × 6\n",
       "\\begin{tabular}{r|llllll}\n",
       "  & tgfb & tgfbCX & log2FC & FDR & p.value & biotype\\\\\n",
       "  & <dbl> & <dbl> & <dbl> & <dbl> & <dbl> & <chr>\\\\\n",
       "\\hline\n",
       "\t0610010F05Rik & -0.1829955 & -0.5799545 & -0.3969590 & 0.041485181 & 0.0043446887 & protein\\_coding\\\\\n",
       "\t1110002L01Rik & -0.7176300 & -0.2905577 &  0.4270723 & 0.031212722 & 0.0028870448 & lncRNA        \\\\\n",
       "\t1700017B05Rik &  2.4528345 &  2.7315583 &  0.2787238 & 0.003380659 & 0.0001369835 & protein\\_coding\\\\\n",
       "\t1810013L24Rik &  1.2470260 &  1.5439815 &  0.2969555 & 0.006595667 & 0.0003321669 & protein\\_coding\\\\\n",
       "\t2210418O10Rik & -2.6406196 & -4.1794167 & -1.5387971 & 0.045975213 & 0.0050478705 & protein\\_coding\\\\\n",
       "\t2510039O18Rik &  0.9820496 &  1.2884085 &  0.3063589 & 0.012466718 & 0.0007706629 & protein\\_coding\\\\\n",
       "\\end{tabular}\n"
      ],
      "text/markdown": [
       "\n",
       "A data.frame: 6 × 6\n",
       "\n",
       "| <!--/--> | tgfb &lt;dbl&gt; | tgfbCX &lt;dbl&gt; | log2FC &lt;dbl&gt; | FDR &lt;dbl&gt; | p.value &lt;dbl&gt; | biotype &lt;chr&gt; |\n",
       "|---|---|---|---|---|---|---|\n",
       "| 0610010F05Rik | -0.1829955 | -0.5799545 | -0.3969590 | 0.041485181 | 0.0043446887 | protein_coding |\n",
       "| 1110002L01Rik | -0.7176300 | -0.2905577 |  0.4270723 | 0.031212722 | 0.0028870448 | lncRNA         |\n",
       "| 1700017B05Rik |  2.4528345 |  2.7315583 |  0.2787238 | 0.003380659 | 0.0001369835 | protein_coding |\n",
       "| 1810013L24Rik |  1.2470260 |  1.5439815 |  0.2969555 | 0.006595667 | 0.0003321669 | protein_coding |\n",
       "| 2210418O10Rik | -2.6406196 | -4.1794167 | -1.5387971 | 0.045975213 | 0.0050478705 | protein_coding |\n",
       "| 2510039O18Rik |  0.9820496 |  1.2884085 |  0.3063589 | 0.012466718 | 0.0007706629 | protein_coding |\n",
       "\n"
      ],
      "text/plain": [
       "              tgfb       tgfbCX     log2FC     FDR         p.value     \n",
       "0610010F05Rik -0.1829955 -0.5799545 -0.3969590 0.041485181 0.0043446887\n",
       "1110002L01Rik -0.7176300 -0.2905577  0.4270723 0.031212722 0.0028870448\n",
       "1700017B05Rik  2.4528345  2.7315583  0.2787238 0.003380659 0.0001369835\n",
       "1810013L24Rik  1.2470260  1.5439815  0.2969555 0.006595667 0.0003321669\n",
       "2210418O10Rik -2.6406196 -4.1794167 -1.5387971 0.045975213 0.0050478705\n",
       "2510039O18Rik  0.9820496  1.2884085  0.3063589 0.012466718 0.0007706629\n",
       "              biotype       \n",
       "0610010F05Rik protein_coding\n",
       "1110002L01Rik lncRNA        \n",
       "1700017B05Rik protein_coding\n",
       "1810013L24Rik protein_coding\n",
       "2210418O10Rik protein_coding\n",
       "2510039O18Rik protein_coding"
      ]
     },
     "metadata": {},
     "output_type": "display_data"
    },
    {
     "data": {
      "text/html": [
       "<style>\n",
       ".list-inline {list-style: none; margin:0; padding: 0}\n",
       ".list-inline>li {display: inline-block}\n",
       ".list-inline>li:not(:last-child)::after {content: \"\\00b7\"; padding: 0 .5ex}\n",
       "</style>\n",
       "<ol class=list-inline><li>1093</li><li>6</li></ol>\n"
      ],
      "text/latex": [
       "\\begin{enumerate*}\n",
       "\\item 1093\n",
       "\\item 6\n",
       "\\end{enumerate*}\n"
      ],
      "text/markdown": [
       "1. 1093\n",
       "2. 6\n",
       "\n",
       "\n"
      ],
      "text/plain": [
       "[1] 1093    6"
      ]
     },
     "metadata": {},
     "output_type": "display_data"
    }
   ],
   "source": [
    "fname_in <- sprintf(\"blancgrp_211613_RNAseq_total_stranded.tgfb--vs--tgfbCX.diff-all.txt.gz\")\n",
    "df_mrna2 <- read.table(file = sprintf(\"%s/%s\", dir_rnaseq, fname_in), header = TRUE, \n",
    "    sep = \"\\t\", row.names = 1, quote = \"\", comment.char = \"#\", stringsAsFactors = F)\n",
    "\n",
    "if (!is.null(pattern_remove_gene)) {\n",
    "    dim(df_mrna2)\n",
    "    df_mrna2 <- df_mrna2[!grepl(pattern_remove_gene, rownames(df_mrna2)), ]\n",
    "}\n",
    "head(df_mrna2)\n",
    "dim(df_mrna2)\n",
    "\n",
    "idx <- which(df_all[, \"tgfb.tgfbCX5461.DEtranscription\"] != \"notSig\")\n",
    "df_mrna2 <- df_mrna2[rownames(df_all[idx, ]), ]\n",
    "\n",
    "# df_mrna$biotype\n",
    "idx <- match(rownames(df_mrna2), rownames(df_all))\n",
    "any(is.na(idx))  # should be FALSE\n",
    "df_mrna2$biotype <- df_all[idx, \"biotype\"]\n",
    "\n",
    "head(df_mrna2)\n",
    "dim(df_mrna2)\n",
    "\n",
    "if (f_write_table) {\n",
    "    fname_out <- sprintf(\"./data/table/170224%s.%s.tgfb48--vs--tgfb48cx5461100nm.diff-all.txt\", \n",
    "        rundate_appendix, strdir)\n",
    "    write.table(df_mrna2, file = fname_out, row.names = TRUE, col.names = NA, sep = \"\\t\", \n",
    "        quote = FALSE)\n",
    "}"
   ]
  },
  {
   "cell_type": "code",
   "execution_count": 342,
   "metadata": {},
   "outputs": [],
   "source": [
    "vec_log2FC <- df_mrna2$log2FC\n",
    "vec_fdr <- df_mrna2$FDR\n"
   ]
  },
  {
   "cell_type": "markdown",
   "metadata": {},
   "source": [
    "### sym_mrna2_up"
   ]
  },
  {
   "cell_type": "code",
   "execution_count": 343,
   "metadata": {},
   "outputs": [
    {
     "data": {
      "text/html": [
       "<style>\n",
       ".list-inline {list-style: none; margin:0; padding: 0}\n",
       ".list-inline>li {display: inline-block}\n",
       ".list-inline>li:not(:last-child)::after {content: \"\\00b7\"; padding: 0 .5ex}\n",
       "</style>\n",
       "<ol class=list-inline><li>535</li><li>6</li></ol>\n"
      ],
      "text/latex": [
       "\\begin{enumerate*}\n",
       "\\item 535\n",
       "\\item 6\n",
       "\\end{enumerate*}\n"
      ],
      "text/markdown": [
       "1. 535\n",
       "2. 6\n",
       "\n",
       "\n"
      ],
      "text/plain": [
       "[1] 535   6"
      ]
     },
     "metadata": {},
     "output_type": "display_data"
    }
   ],
   "source": [
    "f_up <- vec_fdr < th_adj_pvalue & vec_log2FC > th_log2fc\n",
    "df_mrna2_up <- df_mrna2[f_up,]\n",
    "sym_mrna2_up <- rownames(df_mrna2_up)\n",
    "dim(df_mrna2_up)\n",
    "\n",
    "list_genes[['sym_mrna2_up']] <- sym_mrna2_up"
   ]
  },
  {
   "cell_type": "markdown",
   "metadata": {},
   "source": [
    "### sym_mrna2_dn"
   ]
  },
  {
   "cell_type": "code",
   "execution_count": 344,
   "metadata": {},
   "outputs": [
    {
     "data": {
      "text/html": [
       "<style>\n",
       ".list-inline {list-style: none; margin:0; padding: 0}\n",
       ".list-inline>li {display: inline-block}\n",
       ".list-inline>li:not(:last-child)::after {content: \"\\00b7\"; padding: 0 .5ex}\n",
       "</style>\n",
       "<ol class=list-inline><li>558</li><li>6</li></ol>\n"
      ],
      "text/latex": [
       "\\begin{enumerate*}\n",
       "\\item 558\n",
       "\\item 6\n",
       "\\end{enumerate*}\n"
      ],
      "text/markdown": [
       "1. 558\n",
       "2. 6\n",
       "\n",
       "\n"
      ],
      "text/plain": [
       "[1] 558   6"
      ]
     },
     "metadata": {},
     "output_type": "display_data"
    }
   ],
   "source": [
    "\n",
    "f_dn <- vec_fdr < th_adj_pvalue & vec_log2FC < -th_log2fc\n",
    "df_mrna2_dn <- df_mrna2[f_dn,]\n",
    "sym_mrna2_dn <- rownames(df_mrna2_dn)\n",
    "dim(df_mrna2_dn)\n",
    "\n",
    "list_genes[['sym_mrna2_dn']] <- sym_mrna2_dn"
   ]
  },
  {
   "cell_type": "markdown",
   "metadata": {},
   "source": [
    "### sym_mrna2"
   ]
  },
  {
   "cell_type": "code",
   "execution_count": 345,
   "metadata": {},
   "outputs": [
    {
     "data": {
      "text/html": [
       "1093"
      ],
      "text/latex": [
       "1093"
      ],
      "text/markdown": [
       "1093"
      ],
      "text/plain": [
       "[1] 1093"
      ]
     },
     "metadata": {},
     "output_type": "display_data"
    }
   ],
   "source": [
    "sym_mrna2 <- union(sym_mrna2_up, sym_mrna2_dn)\n",
    "length(sym_mrna2)\n",
    "\n",
    "df_mrna2 <- df_mrna2[sym_mrna2,,drop=F]"
   ]
  },
  {
   "cell_type": "markdown",
   "metadata": {},
   "source": [
    "### sym_mrna2_no"
   ]
  },
  {
   "cell_type": "code",
   "execution_count": 346,
   "metadata": {},
   "outputs": [
    {
     "data": {
      "text/html": [
       "11913"
      ],
      "text/latex": [
       "11913"
      ],
      "text/markdown": [
       "11913"
      ],
      "text/plain": [
       "[1] 11913"
      ]
     },
     "metadata": {},
     "output_type": "display_data"
    }
   ],
   "source": [
    "sym_mrna2_no <- setdiff(sym_rnaseq, sym_mrna2)\n",
    "length(sym_mrna2_no)\n",
    "\n",
    "# Not DE in total RNA-seq for tgfb48 vs. tgfbCX\n",
    "# with GRCm38.97.gtf RSEM: 10447\n",
    "# with GRCm38.97.gtf HTSEQ: 10125\n",
    "# with GRCm38.97.rRNA.gtf: 10456"
   ]
  },
  {
   "cell_type": "markdown",
   "metadata": {},
   "source": [
    "## df_ribo2"
   ]
  },
  {
   "cell_type": "code",
   "execution_count": 347,
   "metadata": {
    "scrolled": false
   },
   "outputs": [
    {
     "data": {
      "text/html": [
       "<table class=\"dataframe\">\n",
       "<caption>A data.frame: 6 × 5</caption>\n",
       "<thead>\n",
       "\t<tr><th></th><th scope=col>tgfb48</th><th scope=col>tgfbCX5461</th><th scope=col>log2FC</th><th scope=col>FDR</th><th scope=col>p.value</th></tr>\n",
       "\t<tr><th></th><th scope=col>&lt;dbl&gt;</th><th scope=col>&lt;dbl&gt;</th><th scope=col>&lt;dbl&gt;</th><th scope=col>&lt;dbl&gt;</th><th scope=col>&lt;dbl&gt;</th></tr>\n",
       "</thead>\n",
       "<tbody>\n",
       "\t<tr><th scope=row>Gm23238</th><td>3.9645862</td><td>-4.513182</td><td>-8.477768</td><td>1.004305e-05</td><td>0.0000001482</td></tr>\n",
       "\t<tr><th scope=row>Gm5526</th><td>2.2208786</td><td>-5.645228</td><td>-7.866107</td><td>5.819154e-05</td><td>0.0000011040</td></tr>\n",
       "\t<tr><th scope=row>Ccdc7a</th><td>0.7046368</td><td>-5.645228</td><td>-6.349865</td><td>1.484941e-03</td><td>0.0000568085</td></tr>\n",
       "\t<tr><th scope=row>Gm9512</th><td>1.9202386</td><td>-4.266225</td><td>-6.186464</td><td>2.785005e-04</td><td>0.0000076833</td></tr>\n",
       "\t<tr><th scope=row>Gm22739</th><td>1.4669296</td><td>-4.513182</td><td>-5.980111</td><td>4.614975e-02</td><td>0.0056650787</td></tr>\n",
       "\t<tr><th scope=row>B230208H11Rik</th><td>8.0881136</td><td> 2.141498</td><td>-5.946615</td><td>1.000000e-11</td><td>0.0000000000</td></tr>\n",
       "</tbody>\n",
       "</table>\n"
      ],
      "text/latex": [
       "A data.frame: 6 × 5\n",
       "\\begin{tabular}{r|lllll}\n",
       "  & tgfb48 & tgfbCX5461 & log2FC & FDR & p.value\\\\\n",
       "  & <dbl> & <dbl> & <dbl> & <dbl> & <dbl>\\\\\n",
       "\\hline\n",
       "\tGm23238 & 3.9645862 & -4.513182 & -8.477768 & 1.004305e-05 & 0.0000001482\\\\\n",
       "\tGm5526 & 2.2208786 & -5.645228 & -7.866107 & 5.819154e-05 & 0.0000011040\\\\\n",
       "\tCcdc7a & 0.7046368 & -5.645228 & -6.349865 & 1.484941e-03 & 0.0000568085\\\\\n",
       "\tGm9512 & 1.9202386 & -4.266225 & -6.186464 & 2.785005e-04 & 0.0000076833\\\\\n",
       "\tGm22739 & 1.4669296 & -4.513182 & -5.980111 & 4.614975e-02 & 0.0056650787\\\\\n",
       "\tB230208H11Rik & 8.0881136 &  2.141498 & -5.946615 & 1.000000e-11 & 0.0000000000\\\\\n",
       "\\end{tabular}\n"
      ],
      "text/markdown": [
       "\n",
       "A data.frame: 6 × 5\n",
       "\n",
       "| <!--/--> | tgfb48 &lt;dbl&gt; | tgfbCX5461 &lt;dbl&gt; | log2FC &lt;dbl&gt; | FDR &lt;dbl&gt; | p.value &lt;dbl&gt; |\n",
       "|---|---|---|---|---|---|\n",
       "| Gm23238 | 3.9645862 | -4.513182 | -8.477768 | 1.004305e-05 | 0.0000001482 |\n",
       "| Gm5526 | 2.2208786 | -5.645228 | -7.866107 | 5.819154e-05 | 0.0000011040 |\n",
       "| Ccdc7a | 0.7046368 | -5.645228 | -6.349865 | 1.484941e-03 | 0.0000568085 |\n",
       "| Gm9512 | 1.9202386 | -4.266225 | -6.186464 | 2.785005e-04 | 0.0000076833 |\n",
       "| Gm22739 | 1.4669296 | -4.513182 | -5.980111 | 4.614975e-02 | 0.0056650787 |\n",
       "| B230208H11Rik | 8.0881136 |  2.141498 | -5.946615 | 1.000000e-11 | 0.0000000000 |\n",
       "\n"
      ],
      "text/plain": [
       "              tgfb48    tgfbCX5461 log2FC    FDR          p.value     \n",
       "Gm23238       3.9645862 -4.513182  -8.477768 1.004305e-05 0.0000001482\n",
       "Gm5526        2.2208786 -5.645228  -7.866107 5.819154e-05 0.0000011040\n",
       "Ccdc7a        0.7046368 -5.645228  -6.349865 1.484941e-03 0.0000568085\n",
       "Gm9512        1.9202386 -4.266225  -6.186464 2.785005e-04 0.0000076833\n",
       "Gm22739       1.4669296 -4.513182  -5.980111 4.614975e-02 0.0056650787\n",
       "B230208H11Rik 8.0881136  2.141498  -5.946615 1.000000e-11 0.0000000000"
      ]
     },
     "metadata": {},
     "output_type": "display_data"
    },
    {
     "data": {
      "text/html": [
       "<style>\n",
       ".list-inline {list-style: none; margin:0; padding: 0}\n",
       ".list-inline>li {display: inline-block}\n",
       ".list-inline>li:not(:last-child)::after {content: \"\\00b7\"; padding: 0 .5ex}\n",
       "</style>\n",
       "<ol class=list-inline><li>1522</li><li>5</li></ol>\n"
      ],
      "text/latex": [
       "\\begin{enumerate*}\n",
       "\\item 1522\n",
       "\\item 5\n",
       "\\end{enumerate*}\n"
      ],
      "text/markdown": [
       "1. 1522\n",
       "2. 5\n",
       "\n",
       "\n"
      ],
      "text/plain": [
       "[1] 1522    5"
      ]
     },
     "metadata": {},
     "output_type": "display_data"
    },
    {
     "data": {
      "text/html": [
       "FALSE"
      ],
      "text/latex": [
       "FALSE"
      ],
      "text/markdown": [
       "FALSE"
      ],
      "text/plain": [
       "[1] FALSE"
      ]
     },
     "metadata": {},
     "output_type": "display_data"
    },
    {
     "data": {
      "text/html": [
       "<table class=\"dataframe\">\n",
       "<caption>A data.frame: 6 × 6</caption>\n",
       "<thead>\n",
       "\t<tr><th></th><th scope=col>tgfb48</th><th scope=col>tgfbCX5461</th><th scope=col>log2FC</th><th scope=col>FDR</th><th scope=col>p.value</th><th scope=col>biotype</th></tr>\n",
       "\t<tr><th></th><th scope=col>&lt;dbl&gt;</th><th scope=col>&lt;dbl&gt;</th><th scope=col>&lt;dbl&gt;</th><th scope=col>&lt;dbl&gt;</th><th scope=col>&lt;dbl&gt;</th><th scope=col>&lt;chr&gt;</th></tr>\n",
       "</thead>\n",
       "<tbody>\n",
       "\t<tr><th scope=row>0610009B22Rik</th><td>-0.5623582</td><td> 0.4593551</td><td> 1.0217132</td><td>0.0291913586</td><td>0.0029293545</td><td>protein_coding</td></tr>\n",
       "\t<tr><th scope=row>1700015I17Rik</th><td>-1.0700091</td><td>-4.6043968</td><td>-3.5343878</td><td>0.0375198024</td><td>0.0041560108</td><td>lncRNA        </td></tr>\n",
       "\t<tr><th scope=row>1810013L24Rik</th><td> 1.9812100</td><td> 2.8701991</td><td> 0.8889891</td><td>0.0001134758</td><td>0.0000024969</td><td>protein_coding</td></tr>\n",
       "\t<tr><th scope=row>2200002D01Rik</th><td> 1.5131712</td><td> 2.3211691</td><td> 0.8079979</td><td>0.0017129703</td><td>0.0000691013</td><td>protein_coding</td></tr>\n",
       "\t<tr><th scope=row>2310030G06Rik</th><td>-0.1652000</td><td> 0.9174211</td><td> 1.0826212</td><td>0.0145442189</td><td>0.0011224291</td><td>protein_coding</td></tr>\n",
       "\t<tr><th scope=row>2610307P16Rik</th><td>-2.1443849</td><td>-0.3826178</td><td> 1.7617671</td><td>0.0325815452</td><td>0.0034670280</td><td>lncRNA        </td></tr>\n",
       "</tbody>\n",
       "</table>\n"
      ],
      "text/latex": [
       "A data.frame: 6 × 6\n",
       "\\begin{tabular}{r|llllll}\n",
       "  & tgfb48 & tgfbCX5461 & log2FC & FDR & p.value & biotype\\\\\n",
       "  & <dbl> & <dbl> & <dbl> & <dbl> & <dbl> & <chr>\\\\\n",
       "\\hline\n",
       "\t0610009B22Rik & -0.5623582 &  0.4593551 &  1.0217132 & 0.0291913586 & 0.0029293545 & protein\\_coding\\\\\n",
       "\t1700015I17Rik & -1.0700091 & -4.6043968 & -3.5343878 & 0.0375198024 & 0.0041560108 & lncRNA        \\\\\n",
       "\t1810013L24Rik &  1.9812100 &  2.8701991 &  0.8889891 & 0.0001134758 & 0.0000024969 & protein\\_coding\\\\\n",
       "\t2200002D01Rik &  1.5131712 &  2.3211691 &  0.8079979 & 0.0017129703 & 0.0000691013 & protein\\_coding\\\\\n",
       "\t2310030G06Rik & -0.1652000 &  0.9174211 &  1.0826212 & 0.0145442189 & 0.0011224291 & protein\\_coding\\\\\n",
       "\t2610307P16Rik & -2.1443849 & -0.3826178 &  1.7617671 & 0.0325815452 & 0.0034670280 & lncRNA        \\\\\n",
       "\\end{tabular}\n"
      ],
      "text/markdown": [
       "\n",
       "A data.frame: 6 × 6\n",
       "\n",
       "| <!--/--> | tgfb48 &lt;dbl&gt; | tgfbCX5461 &lt;dbl&gt; | log2FC &lt;dbl&gt; | FDR &lt;dbl&gt; | p.value &lt;dbl&gt; | biotype &lt;chr&gt; |\n",
       "|---|---|---|---|---|---|---|\n",
       "| 0610009B22Rik | -0.5623582 |  0.4593551 |  1.0217132 | 0.0291913586 | 0.0029293545 | protein_coding |\n",
       "| 1700015I17Rik | -1.0700091 | -4.6043968 | -3.5343878 | 0.0375198024 | 0.0041560108 | lncRNA         |\n",
       "| 1810013L24Rik |  1.9812100 |  2.8701991 |  0.8889891 | 0.0001134758 | 0.0000024969 | protein_coding |\n",
       "| 2200002D01Rik |  1.5131712 |  2.3211691 |  0.8079979 | 0.0017129703 | 0.0000691013 | protein_coding |\n",
       "| 2310030G06Rik | -0.1652000 |  0.9174211 |  1.0826212 | 0.0145442189 | 0.0011224291 | protein_coding |\n",
       "| 2610307P16Rik | -2.1443849 | -0.3826178 |  1.7617671 | 0.0325815452 | 0.0034670280 | lncRNA         |\n",
       "\n"
      ],
      "text/plain": [
       "              tgfb48     tgfbCX5461 log2FC     FDR          p.value     \n",
       "0610009B22Rik -0.5623582  0.4593551  1.0217132 0.0291913586 0.0029293545\n",
       "1700015I17Rik -1.0700091 -4.6043968 -3.5343878 0.0375198024 0.0041560108\n",
       "1810013L24Rik  1.9812100  2.8701991  0.8889891 0.0001134758 0.0000024969\n",
       "2200002D01Rik  1.5131712  2.3211691  0.8079979 0.0017129703 0.0000691013\n",
       "2310030G06Rik -0.1652000  0.9174211  1.0826212 0.0145442189 0.0011224291\n",
       "2610307P16Rik -2.1443849 -0.3826178  1.7617671 0.0325815452 0.0034670280\n",
       "              biotype       \n",
       "0610009B22Rik protein_coding\n",
       "1700015I17Rik lncRNA        \n",
       "1810013L24Rik protein_coding\n",
       "2200002D01Rik protein_coding\n",
       "2310030G06Rik protein_coding\n",
       "2610307P16Rik lncRNA        "
      ]
     },
     "metadata": {},
     "output_type": "display_data"
    },
    {
     "data": {
      "text/html": [
       "<style>\n",
       ".list-inline {list-style: none; margin:0; padding: 0}\n",
       ".list-inline>li {display: inline-block}\n",
       ".list-inline>li:not(:last-child)::after {content: \"\\00b7\"; padding: 0 .5ex}\n",
       "</style>\n",
       "<ol class=list-inline><li>1522</li><li>6</li></ol>\n"
      ],
      "text/latex": [
       "\\begin{enumerate*}\n",
       "\\item 1522\n",
       "\\item 6\n",
       "\\end{enumerate*}\n"
      ],
      "text/markdown": [
       "1. 1522\n",
       "2. 6\n",
       "\n",
       "\n"
      ],
      "text/plain": [
       "[1] 1522    6"
      ]
     },
     "metadata": {},
     "output_type": "display_data"
    }
   ],
   "source": [
    "# dir_riboseq <- '../data/limma-voom.mrna/161021/NMuMG' fname_ribo <-\n",
    "# 'emt.161021.limma-voom.mrna.limma.gene.tgfb48--vs--tgfbCX5461100nm.diff-all.txt'\n",
    "fname_ribo <- sprintf(\"blancgrp_161021_Riboseq.tgfb48--vs--tgfbCX5461.diff-all.txt.gz\")\n",
    "\n",
    "df_ribo2 <- read.table(file = sprintf(\"%s/%s\", dir_riboseq, fname_ribo), header = TRUE, \n",
    "    sep = \"\\t\", row.names = 1, quote = \"\", comment.char = \"#\", stringsAsFactors = F)\n",
    "\n",
    "if (!is.null(pattern_remove_gene)) {\n",
    "    dim(df_ribo2)\n",
    "    df_ribo2 <- df_ribo2[!grepl(pattern_remove_gene, rownames(df_ribo2)), ]\n",
    "}\n",
    "head(df_ribo2)\n",
    "dim(df_ribo2)\n",
    "\n",
    "idx <- which(df_all[, \"tgfb.tgfbCX5461.DEtranslation\"] != \"notSig\")\n",
    "df_ribo2 <- df_ribo2[rownames(df_all[idx, ]), ]\n",
    "\n",
    "# df_mrna$biotype\n",
    "idx <- match(rownames(df_ribo2), rownames(df_all))\n",
    "any(is.na(idx))  # should be FALSE\n",
    "df_ribo2$biotype <- df_all[idx, \"biotype\"]\n",
    "\n",
    "head(df_ribo2)\n",
    "dim(df_ribo2)\n",
    "\n",
    "if (!is.null(pattern_remove_gene)) {\n",
    "    any(grepl(pattern_remove_gene, rownames(df_ribo2)))  # should be FALSE\n",
    "}\n",
    "\n",
    "if (f_write_table) {\n",
    "    fname_out <- sprintf(\"./data/table/161021%s.%s.tgfb48--vs--tgfbCX5461100nm.diff-all.txt\", \n",
    "        rundate_appendix, strdir)\n",
    "    write.table(df_ribo2, file = fname_out, row.names = TRUE, col.names = NA, sep = \"\\t\", \n",
    "        quote = FALSE)\n",
    "}"
   ]
  },
  {
   "cell_type": "code",
   "execution_count": 348,
   "metadata": {},
   "outputs": [],
   "source": [
    "vec_log2FC <- df_ribo2$log2FC\n",
    "vec_fdr <- df_ribo2$FDR\n"
   ]
  },
  {
   "cell_type": "markdown",
   "metadata": {},
   "source": [
    "### sym_ribo2_up"
   ]
  },
  {
   "cell_type": "code",
   "execution_count": 349,
   "metadata": {},
   "outputs": [
    {
     "data": {
      "text/html": [
       "<style>\n",
       ".list-inline {list-style: none; margin:0; padding: 0}\n",
       ".list-inline>li {display: inline-block}\n",
       ".list-inline>li:not(:last-child)::after {content: \"\\00b7\"; padding: 0 .5ex}\n",
       "</style>\n",
       "<ol class=list-inline><li>809</li><li>6</li></ol>\n"
      ],
      "text/latex": [
       "\\begin{enumerate*}\n",
       "\\item 809\n",
       "\\item 6\n",
       "\\end{enumerate*}\n"
      ],
      "text/markdown": [
       "1. 809\n",
       "2. 6\n",
       "\n",
       "\n"
      ],
      "text/plain": [
       "[1] 809   6"
      ]
     },
     "metadata": {},
     "output_type": "display_data"
    }
   ],
   "source": [
    "f_up <- vec_fdr < th_adj_pvalue & vec_log2FC > th_log2fc\n",
    "df_ribo2_up <- df_ribo2[f_up,]\n",
    "sym_ribo2_up <- rownames(df_ribo2_up)\n",
    "dim(df_ribo2_up)\n",
    "\n",
    "list_genes[['sym_ribo2_up']] <- sym_ribo2_up"
   ]
  },
  {
   "cell_type": "markdown",
   "metadata": {},
   "source": [
    "### sym_ribo2_dn"
   ]
  },
  {
   "cell_type": "code",
   "execution_count": 350,
   "metadata": {},
   "outputs": [
    {
     "data": {
      "text/html": [
       "<style>\n",
       ".list-inline {list-style: none; margin:0; padding: 0}\n",
       ".list-inline>li {display: inline-block}\n",
       ".list-inline>li:not(:last-child)::after {content: \"\\00b7\"; padding: 0 .5ex}\n",
       "</style>\n",
       "<ol class=list-inline><li>713</li><li>6</li></ol>\n"
      ],
      "text/latex": [
       "\\begin{enumerate*}\n",
       "\\item 713\n",
       "\\item 6\n",
       "\\end{enumerate*}\n"
      ],
      "text/markdown": [
       "1. 713\n",
       "2. 6\n",
       "\n",
       "\n"
      ],
      "text/plain": [
       "[1] 713   6"
      ]
     },
     "metadata": {},
     "output_type": "display_data"
    }
   ],
   "source": [
    "f_dn <- vec_fdr < th_adj_pvalue & vec_log2FC < -th_log2fc\n",
    "df_ribo2_dn <- df_ribo2[f_dn,]\n",
    "sym_ribo2_dn <- rownames(df_ribo2_dn)\n",
    "dim(df_ribo2_dn)\n",
    "\n",
    "list_genes[['sym_ribo2_dn']] <- sym_ribo2_dn"
   ]
  },
  {
   "cell_type": "markdown",
   "metadata": {},
   "source": [
    "### sym_ribo2"
   ]
  },
  {
   "cell_type": "code",
   "execution_count": 351,
   "metadata": {},
   "outputs": [
    {
     "data": {
      "text/html": [
       "1522"
      ],
      "text/latex": [
       "1522"
      ],
      "text/markdown": [
       "1522"
      ],
      "text/plain": [
       "[1] 1522"
      ]
     },
     "metadata": {},
     "output_type": "display_data"
    }
   ],
   "source": [
    "sym_ribo2 <- union(sym_ribo2_up, sym_ribo2_dn)\n",
    "length(sym_ribo2)\n",
    "\n",
    "df_ribo2 <- df_ribo2[sym_ribo2,,drop=F]"
   ]
  },
  {
   "cell_type": "markdown",
   "metadata": {},
   "source": [
    "### sym_ribo2_no"
   ]
  },
  {
   "cell_type": "code",
   "execution_count": 352,
   "metadata": {},
   "outputs": [
    {
     "data": {
      "text/html": [
       "10476"
      ],
      "text/latex": [
       "10476"
      ],
      "text/markdown": [
       "10476"
      ],
      "text/plain": [
       "[1] 10476"
      ]
     },
     "metadata": {},
     "output_type": "display_data"
    }
   ],
   "source": [
    "sym_ribo2_no <- setdiff(sym_riboseq, sym_ribo2)\n",
    "length(sym_ribo2_no)\n",
    "\n",
    "# Not DE in ribosome profiling for tgfb48 vs. tgfbCX\n",
    "# with GRCm38.97.gtf RSEM: 10009\n",
    "# with GRCm38.97.gtf HTSEQ: 8958\n",
    "# with GRCm38.97.rRNA.gtf: 9984"
   ]
  },
  {
   "cell_type": "markdown",
   "metadata": {},
   "source": [
    "## shared between both rnaseq and riboseq"
   ]
  },
  {
   "cell_type": "markdown",
   "metadata": {},
   "source": [
    "### sym_mrna2_no_ribo2_no"
   ]
  },
  {
   "cell_type": "code",
   "execution_count": 353,
   "metadata": {},
   "outputs": [
    {
     "data": {
      "text/html": [
       "8303"
      ],
      "text/latex": [
       "8303"
      ],
      "text/markdown": [
       "8303"
      ],
      "text/plain": [
       "[1] 8303"
      ]
     },
     "metadata": {},
     "output_type": "display_data"
    },
    {
     "data": {
      "text/html": [
       "8303"
      ],
      "text/latex": [
       "8303"
      ],
      "text/markdown": [
       "8303"
      ],
      "text/plain": [
       "[1] 8303"
      ]
     },
     "metadata": {},
     "output_type": "display_data"
    }
   ],
   "source": [
    "sym_mrna2_no_ribo2_no <- intersect(sym_mrna2_no, sym_ribo2_no)\n",
    "length(sym_mrna2_no_ribo2_no)\n",
    "sym_mrna2_no_ribo2_no <- intersect(sym_mrna2_no_ribo2_no, sym_detected_both)\n",
    "length(sym_mrna2_no_ribo2_no)\n",
    "\n",
    "# Not DE in both platform for tgfb48 vs. tgfbCX\n",
    "# with GRCm38.97.gtf RSEM: 6920\n",
    "# with GRCm38.97.gtf HTSEQ: 6379\n",
    "# with GRCm38.97.rRNA.gtf: 6917"
   ]
  },
  {
   "cell_type": "markdown",
   "metadata": {},
   "source": [
    "### sym_mrna2_up_ribo2_no"
   ]
  },
  {
   "cell_type": "code",
   "execution_count": 354,
   "metadata": {},
   "outputs": [
    {
     "data": {
      "text/html": [
       "419"
      ],
      "text/latex": [
       "419"
      ],
      "text/markdown": [
       "419"
      ],
      "text/plain": [
       "[1] 419"
      ]
     },
     "metadata": {},
     "output_type": "display_data"
    },
    {
     "data": {
      "text/html": [
       "374"
      ],
      "text/latex": [
       "374"
      ],
      "text/markdown": [
       "374"
      ],
      "text/plain": [
       "[1] 374"
      ]
     },
     "metadata": {},
     "output_type": "display_data"
    }
   ],
   "source": [
    "sym_mrna2_up_ribo2_no <- setdiff(sym_mrna2_up, sym_ribo2)\n",
    "length(sym_mrna2_up_ribo2_no)\n",
    "sym_mrna2_up_ribo2_no <- intersect(sym_mrna2_up_ribo2_no, sym_detected_both)\n",
    "length(sym_mrna2_up_ribo2_no)\n",
    "\n",
    "list_genes[['sym_mrna2_up_ribo2_no']] <- sym_mrna2_up_ribo2_no"
   ]
  },
  {
   "cell_type": "markdown",
   "metadata": {},
   "source": [
    "### sym_mrna2_dn_ribo2_no"
   ]
  },
  {
   "cell_type": "code",
   "execution_count": 355,
   "metadata": {},
   "outputs": [
    {
     "data": {
      "text/html": [
       "488"
      ],
      "text/latex": [
       "488"
      ],
      "text/markdown": [
       "488"
      ],
      "text/plain": [
       "[1] 488"
      ]
     },
     "metadata": {},
     "output_type": "display_data"
    },
    {
     "data": {
      "text/html": [
       "443"
      ],
      "text/latex": [
       "443"
      ],
      "text/markdown": [
       "443"
      ],
      "text/plain": [
       "[1] 443"
      ]
     },
     "metadata": {},
     "output_type": "display_data"
    }
   ],
   "source": [
    "sym_mrna2_dn_ribo2_no <- setdiff(sym_mrna2_dn, sym_ribo2)\n",
    "length(sym_mrna2_dn_ribo2_no)\n",
    "sym_mrna2_dn_ribo2_no <- intersect(sym_mrna2_dn_ribo2_no, sym_detected_both)\n",
    "length(sym_mrna2_dn_ribo2_no)\n",
    "\n",
    "list_genes[['sym_mrna2_dn_ribo2_no']] <- sym_mrna2_dn_ribo2_no"
   ]
  },
  {
   "cell_type": "markdown",
   "metadata": {},
   "source": [
    "### sym_mrna2_no_ribo2_up"
   ]
  },
  {
   "cell_type": "code",
   "execution_count": 356,
   "metadata": {},
   "outputs": [
    {
     "data": {
      "text/html": [
       "715"
      ],
      "text/latex": [
       "715"
      ],
      "text/markdown": [
       "715"
      ],
      "text/plain": [
       "[1] 715"
      ]
     },
     "metadata": {},
     "output_type": "display_data"
    },
    {
     "data": {
      "text/html": [
       "632"
      ],
      "text/latex": [
       "632"
      ],
      "text/markdown": [
       "632"
      ],
      "text/plain": [
       "[1] 632"
      ]
     },
     "metadata": {},
     "output_type": "display_data"
    }
   ],
   "source": [
    "sym_mrna2_no_ribo2_up <- setdiff(sym_ribo2_up, sym_mrna2)\n",
    "length(sym_mrna2_no_ribo2_up)\n",
    "sym_mrna2_no_ribo2_up <- intersect(sym_mrna2_no_ribo2_up, sym_detected_both)\n",
    "length(sym_mrna2_no_ribo2_up)\n",
    "\n",
    "list_genes[['sym_mrna2_no_ribo2_up']] <- sym_mrna2_no_ribo2_up"
   ]
  },
  {
   "cell_type": "markdown",
   "metadata": {},
   "source": [
    "### sym_mrna2_no_ribo2_dn"
   ]
  },
  {
   "cell_type": "code",
   "execution_count": 357,
   "metadata": {},
   "outputs": [
    {
     "data": {
      "text/html": [
       "621"
      ],
      "text/latex": [
       "621"
      ],
      "text/markdown": [
       "621"
      ],
      "text/plain": [
       "[1] 621"
      ]
     },
     "metadata": {},
     "output_type": "display_data"
    },
    {
     "data": {
      "text/html": [
       "489"
      ],
      "text/latex": [
       "489"
      ],
      "text/markdown": [
       "489"
      ],
      "text/plain": [
       "[1] 489"
      ]
     },
     "metadata": {},
     "output_type": "display_data"
    }
   ],
   "source": [
    "sym_mrna2_no_ribo2_dn <- setdiff(sym_ribo2_dn, sym_mrna2)\n",
    "length(sym_mrna2_no_ribo2_dn)\n",
    "sym_mrna2_no_ribo2_dn <- intersect(sym_mrna2_no_ribo2_dn, sym_detected_both)\n",
    "length(sym_mrna2_no_ribo2_dn)\n",
    "\n",
    "list_genes[['sym_mrna2_no_ribo2_dn']] <- sym_mrna2_no_ribo2_dn"
   ]
  },
  {
   "cell_type": "markdown",
   "metadata": {},
   "source": [
    "### sym_mrna2_up_ribo2_up"
   ]
  },
  {
   "cell_type": "code",
   "execution_count": 358,
   "metadata": {},
   "outputs": [
    {
     "data": {
      "text/html": [
       "<style>\n",
       ".list-inline {list-style: none; margin:0; padding: 0}\n",
       ".list-inline>li {display: inline-block}\n",
       ".list-inline>li:not(:last-child)::after {content: \"\\00b7\"; padding: 0 .5ex}\n",
       "</style>\n",
       "<ol class=list-inline><li>'1810013L24Rik'</li><li>'AI837181'</li><li>'Aldh3b1'</li><li>'Areg'</li><li>'Arl2'</li><li>'Arl8a'</li><li>'Atf3'</li><li>'Bax'</li><li>'Bbc3'</li><li>'Bcl2l1'</li><li>'Bhlhe40'</li><li>'Btg2'</li><li>'Ccl2'</li><li>'Ccng1'</li><li>'Cdc34'</li><li>'Cdkn1a'</li><li>'Chchd5'</li><li>'Ciao3'</li><li>'Clcf1'</li><li>'Ctsd'</li><li>'Dcxr'</li><li>'Ddit3'</li><li>'Dnajb6'</li><li>'Epha2'</li><li>'Gadd45b'</li><li>'Gadd45g'</li><li>'Gla'</li><li>'Glipr1'</li><li>'Gprc5a'</li><li>'Gpx4'</li><li>'Grina'</li><li>'Hcfc1r1'</li><li>'Lce1g'</li><li>'Lif'</li><li>'Mafk'</li><li>'Map2k3'</li><li>'Mdm2'</li><li>'Napa'</li><li>'Ndufa7'</li><li>'Ninj1'</li><li>'Phlda1'</li><li>'Pmm1'</li><li>'Prrg4'</li><li>'Psrc1'</li><li>'Rnf185'</li><li>'Rps27l'</li><li>'Rras'</li><li>'Sh3glb2'</li><li>'Shisa4'</li><li>'Shisa5'</li><li>'Slc25a1'</li><li>'Sord'</li><li>'Sox9'</li><li>'Sqstm1'</li><li>'Stk17b'</li><li>'Tfr2'</li><li>'Tmbim4'</li><li>'Tmem171'</li><li>'Tnfrsf23'</li><li>'Traf4'</li><li>'Tspan7'</li><li>'Txnip'</li><li>'Vps37b'</li><li>'Zfp36l1'</li><li>'Zkscan5'</li></ol>\n"
      ],
      "text/latex": [
       "\\begin{enumerate*}\n",
       "\\item '1810013L24Rik'\n",
       "\\item 'AI837181'\n",
       "\\item 'Aldh3b1'\n",
       "\\item 'Areg'\n",
       "\\item 'Arl2'\n",
       "\\item 'Arl8a'\n",
       "\\item 'Atf3'\n",
       "\\item 'Bax'\n",
       "\\item 'Bbc3'\n",
       "\\item 'Bcl2l1'\n",
       "\\item 'Bhlhe40'\n",
       "\\item 'Btg2'\n",
       "\\item 'Ccl2'\n",
       "\\item 'Ccng1'\n",
       "\\item 'Cdc34'\n",
       "\\item 'Cdkn1a'\n",
       "\\item 'Chchd5'\n",
       "\\item 'Ciao3'\n",
       "\\item 'Clcf1'\n",
       "\\item 'Ctsd'\n",
       "\\item 'Dcxr'\n",
       "\\item 'Ddit3'\n",
       "\\item 'Dnajb6'\n",
       "\\item 'Epha2'\n",
       "\\item 'Gadd45b'\n",
       "\\item 'Gadd45g'\n",
       "\\item 'Gla'\n",
       "\\item 'Glipr1'\n",
       "\\item 'Gprc5a'\n",
       "\\item 'Gpx4'\n",
       "\\item 'Grina'\n",
       "\\item 'Hcfc1r1'\n",
       "\\item 'Lce1g'\n",
       "\\item 'Lif'\n",
       "\\item 'Mafk'\n",
       "\\item 'Map2k3'\n",
       "\\item 'Mdm2'\n",
       "\\item 'Napa'\n",
       "\\item 'Ndufa7'\n",
       "\\item 'Ninj1'\n",
       "\\item 'Phlda1'\n",
       "\\item 'Pmm1'\n",
       "\\item 'Prrg4'\n",
       "\\item 'Psrc1'\n",
       "\\item 'Rnf185'\n",
       "\\item 'Rps27l'\n",
       "\\item 'Rras'\n",
       "\\item 'Sh3glb2'\n",
       "\\item 'Shisa4'\n",
       "\\item 'Shisa5'\n",
       "\\item 'Slc25a1'\n",
       "\\item 'Sord'\n",
       "\\item 'Sox9'\n",
       "\\item 'Sqstm1'\n",
       "\\item 'Stk17b'\n",
       "\\item 'Tfr2'\n",
       "\\item 'Tmbim4'\n",
       "\\item 'Tmem171'\n",
       "\\item 'Tnfrsf23'\n",
       "\\item 'Traf4'\n",
       "\\item 'Tspan7'\n",
       "\\item 'Txnip'\n",
       "\\item 'Vps37b'\n",
       "\\item 'Zfp36l1'\n",
       "\\item 'Zkscan5'\n",
       "\\end{enumerate*}\n"
      ],
      "text/markdown": [
       "1. '1810013L24Rik'\n",
       "2. 'AI837181'\n",
       "3. 'Aldh3b1'\n",
       "4. 'Areg'\n",
       "5. 'Arl2'\n",
       "6. 'Arl8a'\n",
       "7. 'Atf3'\n",
       "8. 'Bax'\n",
       "9. 'Bbc3'\n",
       "10. 'Bcl2l1'\n",
       "11. 'Bhlhe40'\n",
       "12. 'Btg2'\n",
       "13. 'Ccl2'\n",
       "14. 'Ccng1'\n",
       "15. 'Cdc34'\n",
       "16. 'Cdkn1a'\n",
       "17. 'Chchd5'\n",
       "18. 'Ciao3'\n",
       "19. 'Clcf1'\n",
       "20. 'Ctsd'\n",
       "21. 'Dcxr'\n",
       "22. 'Ddit3'\n",
       "23. 'Dnajb6'\n",
       "24. 'Epha2'\n",
       "25. 'Gadd45b'\n",
       "26. 'Gadd45g'\n",
       "27. 'Gla'\n",
       "28. 'Glipr1'\n",
       "29. 'Gprc5a'\n",
       "30. 'Gpx4'\n",
       "31. 'Grina'\n",
       "32. 'Hcfc1r1'\n",
       "33. 'Lce1g'\n",
       "34. 'Lif'\n",
       "35. 'Mafk'\n",
       "36. 'Map2k3'\n",
       "37. 'Mdm2'\n",
       "38. 'Napa'\n",
       "39. 'Ndufa7'\n",
       "40. 'Ninj1'\n",
       "41. 'Phlda1'\n",
       "42. 'Pmm1'\n",
       "43. 'Prrg4'\n",
       "44. 'Psrc1'\n",
       "45. 'Rnf185'\n",
       "46. 'Rps27l'\n",
       "47. 'Rras'\n",
       "48. 'Sh3glb2'\n",
       "49. 'Shisa4'\n",
       "50. 'Shisa5'\n",
       "51. 'Slc25a1'\n",
       "52. 'Sord'\n",
       "53. 'Sox9'\n",
       "54. 'Sqstm1'\n",
       "55. 'Stk17b'\n",
       "56. 'Tfr2'\n",
       "57. 'Tmbim4'\n",
       "58. 'Tmem171'\n",
       "59. 'Tnfrsf23'\n",
       "60. 'Traf4'\n",
       "61. 'Tspan7'\n",
       "62. 'Txnip'\n",
       "63. 'Vps37b'\n",
       "64. 'Zfp36l1'\n",
       "65. 'Zkscan5'\n",
       "\n",
       "\n"
      ],
      "text/plain": [
       " [1] \"1810013L24Rik\" \"AI837181\"      \"Aldh3b1\"       \"Areg\"         \n",
       " [5] \"Arl2\"          \"Arl8a\"         \"Atf3\"          \"Bax\"          \n",
       " [9] \"Bbc3\"          \"Bcl2l1\"        \"Bhlhe40\"       \"Btg2\"         \n",
       "[13] \"Ccl2\"          \"Ccng1\"         \"Cdc34\"         \"Cdkn1a\"       \n",
       "[17] \"Chchd5\"        \"Ciao3\"         \"Clcf1\"         \"Ctsd\"         \n",
       "[21] \"Dcxr\"          \"Ddit3\"         \"Dnajb6\"        \"Epha2\"        \n",
       "[25] \"Gadd45b\"       \"Gadd45g\"       \"Gla\"           \"Glipr1\"       \n",
       "[29] \"Gprc5a\"        \"Gpx4\"          \"Grina\"         \"Hcfc1r1\"      \n",
       "[33] \"Lce1g\"         \"Lif\"           \"Mafk\"          \"Map2k3\"       \n",
       "[37] \"Mdm2\"          \"Napa\"          \"Ndufa7\"        \"Ninj1\"        \n",
       "[41] \"Phlda1\"        \"Pmm1\"          \"Prrg4\"         \"Psrc1\"        \n",
       "[45] \"Rnf185\"        \"Rps27l\"        \"Rras\"          \"Sh3glb2\"      \n",
       "[49] \"Shisa4\"        \"Shisa5\"        \"Slc25a1\"       \"Sord\"         \n",
       "[53] \"Sox9\"          \"Sqstm1\"        \"Stk17b\"        \"Tfr2\"         \n",
       "[57] \"Tmbim4\"        \"Tmem171\"       \"Tnfrsf23\"      \"Traf4\"        \n",
       "[61] \"Tspan7\"        \"Txnip\"         \"Vps37b\"        \"Zfp36l1\"      \n",
       "[65] \"Zkscan5\"      "
      ]
     },
     "metadata": {},
     "output_type": "display_data"
    },
    {
     "data": {
      "text/html": [
       "65"
      ],
      "text/latex": [
       "65"
      ],
      "text/markdown": [
       "65"
      ],
      "text/plain": [
       "[1] 65"
      ]
     },
     "metadata": {},
     "output_type": "display_data"
    }
   ],
   "source": [
    "sym_mrna2_up_ribo2_up <- intersect(sym_mrna2_up, sym_ribo2_up)\n",
    "sym_mrna2_up_ribo2_up\n",
    "length(sym_mrna2_up_ribo2_up)\n",
    "\n",
    "list_genes[['sym_mrna2_up_ribo2_up']] <- sym_mrna2_up_ribo2_up"
   ]
  },
  {
   "cell_type": "markdown",
   "metadata": {},
   "source": [
    "### sym_mrna2_dn_ribo2_dn\n"
   ]
  },
  {
   "cell_type": "code",
   "execution_count": 359,
   "metadata": {},
   "outputs": [
    {
     "data": {
      "text/html": [
       "<style>\n",
       ".list-inline {list-style: none; margin:0; padding: 0}\n",
       ".list-inline>li {display: inline-block}\n",
       ".list-inline>li:not(:last-child)::after {content: \"\\00b7\"; padding: 0 .5ex}\n",
       "</style>\n",
       "<ol class=list-inline><li>'Acox2'</li><li>'Adam12'</li><li>'Arid3a'</li><li>'Cct4'</li><li>'Cldn2'</li><li>'Col1a1'</li><li>'Cp'</li><li>'Cpd'</li><li>'Ddx21'</li><li>'Dnmt1'</li><li>'Dpysl2'</li><li>'Fanca'</li><li>'Fkbp5'</li><li>'H1f1'</li><li>'H1f5'</li><li>'H2ac10'</li><li>'H2ax'</li><li>'H2bc14'</li><li>'H2bc8'</li><li>'Hmgb2'</li><li>'Hnrnpa0'</li><li>'Hsp90b1'</li><li>'Hspa5'</li><li>'Klhl9'</li><li>'Lbr'</li><li>'Marcks'</li><li>'Mcam'</li><li>'Mcm3'</li><li>'mt-Cytb'</li><li>'Ncl'</li><li>'Nt5e'</li><li>'Paics'</li><li>'Pdia6'</li><li>'Pxdn'</li><li>'Ror1'</li><li>'Spon2'</li><li>'Spp1'</li><li>'Stk3'</li><li>'Tagln'</li><li>'Tarbp1'</li><li>'Tyms'</li></ol>\n"
      ],
      "text/latex": [
       "\\begin{enumerate*}\n",
       "\\item 'Acox2'\n",
       "\\item 'Adam12'\n",
       "\\item 'Arid3a'\n",
       "\\item 'Cct4'\n",
       "\\item 'Cldn2'\n",
       "\\item 'Col1a1'\n",
       "\\item 'Cp'\n",
       "\\item 'Cpd'\n",
       "\\item 'Ddx21'\n",
       "\\item 'Dnmt1'\n",
       "\\item 'Dpysl2'\n",
       "\\item 'Fanca'\n",
       "\\item 'Fkbp5'\n",
       "\\item 'H1f1'\n",
       "\\item 'H1f5'\n",
       "\\item 'H2ac10'\n",
       "\\item 'H2ax'\n",
       "\\item 'H2bc14'\n",
       "\\item 'H2bc8'\n",
       "\\item 'Hmgb2'\n",
       "\\item 'Hnrnpa0'\n",
       "\\item 'Hsp90b1'\n",
       "\\item 'Hspa5'\n",
       "\\item 'Klhl9'\n",
       "\\item 'Lbr'\n",
       "\\item 'Marcks'\n",
       "\\item 'Mcam'\n",
       "\\item 'Mcm3'\n",
       "\\item 'mt-Cytb'\n",
       "\\item 'Ncl'\n",
       "\\item 'Nt5e'\n",
       "\\item 'Paics'\n",
       "\\item 'Pdia6'\n",
       "\\item 'Pxdn'\n",
       "\\item 'Ror1'\n",
       "\\item 'Spon2'\n",
       "\\item 'Spp1'\n",
       "\\item 'Stk3'\n",
       "\\item 'Tagln'\n",
       "\\item 'Tarbp1'\n",
       "\\item 'Tyms'\n",
       "\\end{enumerate*}\n"
      ],
      "text/markdown": [
       "1. 'Acox2'\n",
       "2. 'Adam12'\n",
       "3. 'Arid3a'\n",
       "4. 'Cct4'\n",
       "5. 'Cldn2'\n",
       "6. 'Col1a1'\n",
       "7. 'Cp'\n",
       "8. 'Cpd'\n",
       "9. 'Ddx21'\n",
       "10. 'Dnmt1'\n",
       "11. 'Dpysl2'\n",
       "12. 'Fanca'\n",
       "13. 'Fkbp5'\n",
       "14. 'H1f1'\n",
       "15. 'H1f5'\n",
       "16. 'H2ac10'\n",
       "17. 'H2ax'\n",
       "18. 'H2bc14'\n",
       "19. 'H2bc8'\n",
       "20. 'Hmgb2'\n",
       "21. 'Hnrnpa0'\n",
       "22. 'Hsp90b1'\n",
       "23. 'Hspa5'\n",
       "24. 'Klhl9'\n",
       "25. 'Lbr'\n",
       "26. 'Marcks'\n",
       "27. 'Mcam'\n",
       "28. 'Mcm3'\n",
       "29. 'mt-Cytb'\n",
       "30. 'Ncl'\n",
       "31. 'Nt5e'\n",
       "32. 'Paics'\n",
       "33. 'Pdia6'\n",
       "34. 'Pxdn'\n",
       "35. 'Ror1'\n",
       "36. 'Spon2'\n",
       "37. 'Spp1'\n",
       "38. 'Stk3'\n",
       "39. 'Tagln'\n",
       "40. 'Tarbp1'\n",
       "41. 'Tyms'\n",
       "\n",
       "\n"
      ],
      "text/plain": [
       " [1] \"Acox2\"   \"Adam12\"  \"Arid3a\"  \"Cct4\"    \"Cldn2\"   \"Col1a1\"  \"Cp\"     \n",
       " [8] \"Cpd\"     \"Ddx21\"   \"Dnmt1\"   \"Dpysl2\"  \"Fanca\"   \"Fkbp5\"   \"H1f1\"   \n",
       "[15] \"H1f5\"    \"H2ac10\"  \"H2ax\"    \"H2bc14\"  \"H2bc8\"   \"Hmgb2\"   \"Hnrnpa0\"\n",
       "[22] \"Hsp90b1\" \"Hspa5\"   \"Klhl9\"   \"Lbr\"     \"Marcks\"  \"Mcam\"    \"Mcm3\"   \n",
       "[29] \"mt-Cytb\" \"Ncl\"     \"Nt5e\"    \"Paics\"   \"Pdia6\"   \"Pxdn\"    \"Ror1\"   \n",
       "[36] \"Spon2\"   \"Spp1\"    \"Stk3\"    \"Tagln\"   \"Tarbp1\"  \"Tyms\"   "
      ]
     },
     "metadata": {},
     "output_type": "display_data"
    },
    {
     "data": {
      "text/html": [
       "41"
      ],
      "text/latex": [
       "41"
      ],
      "text/markdown": [
       "41"
      ],
      "text/plain": [
       "[1] 41"
      ]
     },
     "metadata": {},
     "output_type": "display_data"
    }
   ],
   "source": [
    "sym_mrna2_dn_ribo2_dn <- intersect(sym_mrna2_dn, sym_ribo2_dn)\n",
    "sym_mrna2_dn_ribo2_dn\n",
    "length(sym_mrna2_dn_ribo2_dn)\n",
    "\n",
    "list_genes[['sym_mrna2_dn_ribo2_dn']] <- sym_mrna2_dn_ribo2_dn"
   ]
  },
  {
   "cell_type": "markdown",
   "metadata": {},
   "source": [
    "### sym_mrna2_up_ribo2_dn"
   ]
  },
  {
   "cell_type": "code",
   "execution_count": 360,
   "metadata": {},
   "outputs": [
    {
     "data": {
      "text/html": [
       "<style>\n",
       ".list-inline {list-style: none; margin:0; padding: 0}\n",
       ".list-inline>li {display: inline-block}\n",
       ".list-inline>li:not(:last-child)::after {content: \"\\00b7\"; padding: 0 .5ex}\n",
       "</style>\n",
       "<ol class=list-inline><li>'Acot7'</li><li>'Acta1'</li><li>'Agrn'</li><li>'Aldoa'</li><li>'Angptl4'</li><li>'Ass1'</li><li>'Atg2a'</li><li>'Card10'</li><li>'Ccn1'</li><li>'Cd81'</li><li>'Dusp4'</li><li>'Eno3'</li><li>'F3'</li><li>'Fbln2'</li><li>'Fcsk'</li><li>'Fgd3'</li><li>'Frmd8'</li><li>'Hspg2'</li><li>'Hyal2'</li><li>'Ier5l'</li><li>'Krt19'</li><li>'Lamb2'</li><li>'Lamb3'</li><li>'Llgl2'</li><li>'Loxl4'</li><li>'Lurap1l'</li><li>'Malat1'</li><li>'Map1s'</li><li>'Mvp'</li><li>'Myo1c'</li><li>'Niban2'</li><li>'Nuak2'</li><li>'Numbl'</li><li>'Pakap'</li><li>'Pex6'</li><li>'Plbd2'</li><li>'Pld3'</li><li>'Plin2'</li><li>'Slco2a1'</li><li>'Snap47'</li><li>'Ssh3'</li><li>'Tcn2'</li><li>'Tgm2'</li><li>'Tinagl1'</li><li>'Tmem43'</li><li>'Tnfaip3'</li><li>'Tom1l2'</li><li>'Vcl'</li><li>'Vil1'</li><li>'Wdr45'</li><li>'Wdr81'</li></ol>\n"
      ],
      "text/latex": [
       "\\begin{enumerate*}\n",
       "\\item 'Acot7'\n",
       "\\item 'Acta1'\n",
       "\\item 'Agrn'\n",
       "\\item 'Aldoa'\n",
       "\\item 'Angptl4'\n",
       "\\item 'Ass1'\n",
       "\\item 'Atg2a'\n",
       "\\item 'Card10'\n",
       "\\item 'Ccn1'\n",
       "\\item 'Cd81'\n",
       "\\item 'Dusp4'\n",
       "\\item 'Eno3'\n",
       "\\item 'F3'\n",
       "\\item 'Fbln2'\n",
       "\\item 'Fcsk'\n",
       "\\item 'Fgd3'\n",
       "\\item 'Frmd8'\n",
       "\\item 'Hspg2'\n",
       "\\item 'Hyal2'\n",
       "\\item 'Ier5l'\n",
       "\\item 'Krt19'\n",
       "\\item 'Lamb2'\n",
       "\\item 'Lamb3'\n",
       "\\item 'Llgl2'\n",
       "\\item 'Loxl4'\n",
       "\\item 'Lurap1l'\n",
       "\\item 'Malat1'\n",
       "\\item 'Map1s'\n",
       "\\item 'Mvp'\n",
       "\\item 'Myo1c'\n",
       "\\item 'Niban2'\n",
       "\\item 'Nuak2'\n",
       "\\item 'Numbl'\n",
       "\\item 'Pakap'\n",
       "\\item 'Pex6'\n",
       "\\item 'Plbd2'\n",
       "\\item 'Pld3'\n",
       "\\item 'Plin2'\n",
       "\\item 'Slco2a1'\n",
       "\\item 'Snap47'\n",
       "\\item 'Ssh3'\n",
       "\\item 'Tcn2'\n",
       "\\item 'Tgm2'\n",
       "\\item 'Tinagl1'\n",
       "\\item 'Tmem43'\n",
       "\\item 'Tnfaip3'\n",
       "\\item 'Tom1l2'\n",
       "\\item 'Vcl'\n",
       "\\item 'Vil1'\n",
       "\\item 'Wdr45'\n",
       "\\item 'Wdr81'\n",
       "\\end{enumerate*}\n"
      ],
      "text/markdown": [
       "1. 'Acot7'\n",
       "2. 'Acta1'\n",
       "3. 'Agrn'\n",
       "4. 'Aldoa'\n",
       "5. 'Angptl4'\n",
       "6. 'Ass1'\n",
       "7. 'Atg2a'\n",
       "8. 'Card10'\n",
       "9. 'Ccn1'\n",
       "10. 'Cd81'\n",
       "11. 'Dusp4'\n",
       "12. 'Eno3'\n",
       "13. 'F3'\n",
       "14. 'Fbln2'\n",
       "15. 'Fcsk'\n",
       "16. 'Fgd3'\n",
       "17. 'Frmd8'\n",
       "18. 'Hspg2'\n",
       "19. 'Hyal2'\n",
       "20. 'Ier5l'\n",
       "21. 'Krt19'\n",
       "22. 'Lamb2'\n",
       "23. 'Lamb3'\n",
       "24. 'Llgl2'\n",
       "25. 'Loxl4'\n",
       "26. 'Lurap1l'\n",
       "27. 'Malat1'\n",
       "28. 'Map1s'\n",
       "29. 'Mvp'\n",
       "30. 'Myo1c'\n",
       "31. 'Niban2'\n",
       "32. 'Nuak2'\n",
       "33. 'Numbl'\n",
       "34. 'Pakap'\n",
       "35. 'Pex6'\n",
       "36. 'Plbd2'\n",
       "37. 'Pld3'\n",
       "38. 'Plin2'\n",
       "39. 'Slco2a1'\n",
       "40. 'Snap47'\n",
       "41. 'Ssh3'\n",
       "42. 'Tcn2'\n",
       "43. 'Tgm2'\n",
       "44. 'Tinagl1'\n",
       "45. 'Tmem43'\n",
       "46. 'Tnfaip3'\n",
       "47. 'Tom1l2'\n",
       "48. 'Vcl'\n",
       "49. 'Vil1'\n",
       "50. 'Wdr45'\n",
       "51. 'Wdr81'\n",
       "\n",
       "\n"
      ],
      "text/plain": [
       " [1] \"Acot7\"   \"Acta1\"   \"Agrn\"    \"Aldoa\"   \"Angptl4\" \"Ass1\"    \"Atg2a\"  \n",
       " [8] \"Card10\"  \"Ccn1\"    \"Cd81\"    \"Dusp4\"   \"Eno3\"    \"F3\"      \"Fbln2\"  \n",
       "[15] \"Fcsk\"    \"Fgd3\"    \"Frmd8\"   \"Hspg2\"   \"Hyal2\"   \"Ier5l\"   \"Krt19\"  \n",
       "[22] \"Lamb2\"   \"Lamb3\"   \"Llgl2\"   \"Loxl4\"   \"Lurap1l\" \"Malat1\"  \"Map1s\"  \n",
       "[29] \"Mvp\"     \"Myo1c\"   \"Niban2\"  \"Nuak2\"   \"Numbl\"   \"Pakap\"   \"Pex6\"   \n",
       "[36] \"Plbd2\"   \"Pld3\"    \"Plin2\"   \"Slco2a1\" \"Snap47\"  \"Ssh3\"    \"Tcn2\"   \n",
       "[43] \"Tgm2\"    \"Tinagl1\" \"Tmem43\"  \"Tnfaip3\" \"Tom1l2\"  \"Vcl\"     \"Vil1\"   \n",
       "[50] \"Wdr45\"   \"Wdr81\"  "
      ]
     },
     "metadata": {},
     "output_type": "display_data"
    },
    {
     "data": {
      "text/html": [
       "51"
      ],
      "text/latex": [
       "51"
      ],
      "text/markdown": [
       "51"
      ],
      "text/plain": [
       "[1] 51"
      ]
     },
     "metadata": {},
     "output_type": "display_data"
    }
   ],
   "source": [
    "sym_mrna2_up_ribo2_dn <- intersect(sym_mrna2_up, sym_ribo2_dn)\n",
    "sym_mrna2_up_ribo2_dn\n",
    "length(sym_mrna2_up_ribo2_dn)\n",
    "\n",
    "list_genes[['sym_mrna2_up_ribo2_dn']] <- sym_mrna2_up_ribo2_dn"
   ]
  },
  {
   "cell_type": "markdown",
   "metadata": {},
   "source": [
    "### sym_mrna2_dn_ribo2_up"
   ]
  },
  {
   "cell_type": "code",
   "execution_count": 361,
   "metadata": {},
   "outputs": [
    {
     "data": {
      "text/html": [
       "<style>\n",
       ".list-inline {list-style: none; margin:0; padding: 0}\n",
       ".list-inline>li {display: inline-block}\n",
       ".list-inline>li:not(:last-child)::after {content: \"\\00b7\"; padding: 0 .5ex}\n",
       "</style>\n",
       "<ol class=list-inline><li>'Casp6'</li><li>'Ccnb1'</li><li>'Ccni'</li><li>'Cks1b'</li><li>'E2f3'</li><li>'Gas5'</li><li>'H2ac11'</li><li>'H2ac15'</li><li>'H2ac20'</li><li>'H2ac4'</li><li>'H2bc7'</li><li>'H3c13'</li><li>'H4c12'</li><li>'H4c14'</li><li>'H4c18'</li><li>'H4c2'</li><li>'H4c3'</li><li>'H4c6'</li><li>'H4c8'</li><li>'H4c9'</li><li>'Hmga2'</li><li>'Hmgb1'</li><li>'Prc1'</li><li>'Smarce1'</li><li>'Snrpd1'</li><li>'Snx5'</li><li>'Srsf3'</li><li>'Trpm7'</li><li>'Ubald2'</li></ol>\n"
      ],
      "text/latex": [
       "\\begin{enumerate*}\n",
       "\\item 'Casp6'\n",
       "\\item 'Ccnb1'\n",
       "\\item 'Ccni'\n",
       "\\item 'Cks1b'\n",
       "\\item 'E2f3'\n",
       "\\item 'Gas5'\n",
       "\\item 'H2ac11'\n",
       "\\item 'H2ac15'\n",
       "\\item 'H2ac20'\n",
       "\\item 'H2ac4'\n",
       "\\item 'H2bc7'\n",
       "\\item 'H3c13'\n",
       "\\item 'H4c12'\n",
       "\\item 'H4c14'\n",
       "\\item 'H4c18'\n",
       "\\item 'H4c2'\n",
       "\\item 'H4c3'\n",
       "\\item 'H4c6'\n",
       "\\item 'H4c8'\n",
       "\\item 'H4c9'\n",
       "\\item 'Hmga2'\n",
       "\\item 'Hmgb1'\n",
       "\\item 'Prc1'\n",
       "\\item 'Smarce1'\n",
       "\\item 'Snrpd1'\n",
       "\\item 'Snx5'\n",
       "\\item 'Srsf3'\n",
       "\\item 'Trpm7'\n",
       "\\item 'Ubald2'\n",
       "\\end{enumerate*}\n"
      ],
      "text/markdown": [
       "1. 'Casp6'\n",
       "2. 'Ccnb1'\n",
       "3. 'Ccni'\n",
       "4. 'Cks1b'\n",
       "5. 'E2f3'\n",
       "6. 'Gas5'\n",
       "7. 'H2ac11'\n",
       "8. 'H2ac15'\n",
       "9. 'H2ac20'\n",
       "10. 'H2ac4'\n",
       "11. 'H2bc7'\n",
       "12. 'H3c13'\n",
       "13. 'H4c12'\n",
       "14. 'H4c14'\n",
       "15. 'H4c18'\n",
       "16. 'H4c2'\n",
       "17. 'H4c3'\n",
       "18. 'H4c6'\n",
       "19. 'H4c8'\n",
       "20. 'H4c9'\n",
       "21. 'Hmga2'\n",
       "22. 'Hmgb1'\n",
       "23. 'Prc1'\n",
       "24. 'Smarce1'\n",
       "25. 'Snrpd1'\n",
       "26. 'Snx5'\n",
       "27. 'Srsf3'\n",
       "28. 'Trpm7'\n",
       "29. 'Ubald2'\n",
       "\n",
       "\n"
      ],
      "text/plain": [
       " [1] \"Casp6\"   \"Ccnb1\"   \"Ccni\"    \"Cks1b\"   \"E2f3\"    \"Gas5\"    \"H2ac11\" \n",
       " [8] \"H2ac15\"  \"H2ac20\"  \"H2ac4\"   \"H2bc7\"   \"H3c13\"   \"H4c12\"   \"H4c14\"  \n",
       "[15] \"H4c18\"   \"H4c2\"    \"H4c3\"    \"H4c6\"    \"H4c8\"    \"H4c9\"    \"Hmga2\"  \n",
       "[22] \"Hmgb1\"   \"Prc1\"    \"Smarce1\" \"Snrpd1\"  \"Snx5\"    \"Srsf3\"   \"Trpm7\"  \n",
       "[29] \"Ubald2\" "
      ]
     },
     "metadata": {},
     "output_type": "display_data"
    },
    {
     "data": {
      "text/html": [
       "29"
      ],
      "text/latex": [
       "29"
      ],
      "text/markdown": [
       "29"
      ],
      "text/plain": [
       "[1] 29"
      ]
     },
     "metadata": {},
     "output_type": "display_data"
    }
   ],
   "source": [
    "sym_mrna2_dn_ribo2_up <- intersect(sym_mrna2_dn, sym_ribo2_up)\n",
    "sym_mrna2_dn_ribo2_up\n",
    "length(sym_mrna2_dn_ribo2_up)\n",
    "\n",
    "list_genes[['sym_mrna2_dn_ribo2_up']] <- sym_mrna2_dn_ribo2_up"
   ]
  },
  {
   "cell_type": "markdown",
   "metadata": {},
   "source": [
    "# unt48 vs. tgfb48 vs. tgfbCX5461"
   ]
  },
  {
   "cell_type": "markdown",
   "metadata": {},
   "source": [
    "## sym_mrna1_no_mrna2_no"
   ]
  },
  {
   "cell_type": "code",
   "execution_count": 362,
   "metadata": {},
   "outputs": [
    {
     "data": {
      "text/html": [
       "6033"
      ],
      "text/latex": [
       "6033"
      ],
      "text/markdown": [
       "6033"
      ],
      "text/plain": [
       "[1] 6033"
      ]
     },
     "metadata": {},
     "output_type": "display_data"
    }
   ],
   "source": [
    "sym_mrna1_no_mrna2_no <- intersect(sym_mrna_no, sym_mrna2_no)\n",
    "length(sym_mrna1_no_mrna2_no)\n",
    "\n",
    "# No DE; No DE in total RNA-seq\n",
    "# with GRCm38.97.gtf RSEM: 6507\n",
    "# with GRCm38.97.gtf HTSEQ: 6244\n",
    "# with GRCm38.97.rRNA.gtf: 6487"
   ]
  },
  {
   "cell_type": "markdown",
   "metadata": {},
   "source": [
    "## sym_ribo1_no_ribo2_no"
   ]
  },
  {
   "cell_type": "code",
   "execution_count": 363,
   "metadata": {},
   "outputs": [
    {
     "data": {
      "text/html": [
       "8721"
      ],
      "text/latex": [
       "8721"
      ],
      "text/markdown": [
       "8721"
      ],
      "text/plain": [
       "[1] 8721"
      ]
     },
     "metadata": {},
     "output_type": "display_data"
    }
   ],
   "source": [
    "sym_ribo1_no_ribo2_no <- intersect(sym_ribo_no, sym_ribo2_no)\n",
    "length(sym_ribo1_no_ribo2_no)\n",
    "\n",
    "# No DE; No DE in ribosome profiling\n",
    "# with GRCm38.97.gtf RSEM: 8726\n",
    "# with GRCm38.97.gtf HTSEQ: 7228\n",
    "# with GRCm38.97.rRNA.gtf: 8720"
   ]
  },
  {
   "cell_type": "markdown",
   "metadata": {},
   "source": [
    "## sym_mrna_no_ribo_no"
   ]
  },
  {
   "cell_type": "code",
   "execution_count": 364,
   "metadata": {},
   "outputs": [
    {
     "data": {
      "text/html": [
       "3633"
      ],
      "text/latex": [
       "3633"
      ],
      "text/markdown": [
       "3633"
      ],
      "text/plain": [
       "[1] 3633"
      ]
     },
     "metadata": {},
     "output_type": "display_data"
    }
   ],
   "source": [
    "sym_mrna_no_ribo_no <- intersect(sym_mrna1_no_mrna2_no, sym_ribo1_no_ribo2_no)\n",
    "length(sym_mrna_no_ribo_no)\n",
    "\n",
    "# No DE; No De in both platform\n",
    "# with GRCm38.97.gtf RSEM: 4019\n",
    "# with GRCm38.97.gtf HTSEQ: 3516\n",
    "# with GRCm38.97.rRNA.gtf: 4015"
   ]
  },
  {
   "cell_type": "markdown",
   "metadata": {},
   "source": [
    "## more complex intersections\n"
   ]
  },
  {
   "cell_type": "markdown",
   "metadata": {},
   "source": [
    "### up/dn/only ; no DE"
   ]
  },
  {
   "cell_type": "code",
   "execution_count": 365,
   "metadata": {},
   "outputs": [
    {
     "name": "stdout",
     "output_type": "stream",
     "text": [
      "sym_mrna_up_ribo_up_ribo2_no: 598: 1700017B05Rik,4930402H24Rik,9930111J21Rik2,Abcg2,Abl1,Abr,Abracl,Acadvl,Acot9,Acta2,Actn4,Actr1a,Acvr1,Adam15,Adam8,Adarb1,Add2,Adgra1,Adssl1,Afap1,Aff1,Aif1l,Aldh1l1,Anapc10,Angptl2,Ankrd1,Ankrd13b,Ankrd44,Ano1,Anxa8,Ap2a1,Ap2b1,Ap5b1,Apbb2,Apol9b,Arc,Arfgef2,Arhgap23,Arhgap42,Arhgef18,Arhgef19,Arhgef5,Armc9,Arsb,ARVCF,Ascc3,Atg7,Atp10d,Atp1a3,Atp2b4,...\n",
      "\n",
      "sym_mrna_dn_ribo_dn_ribo2_no: 560: 2310009B15Rik,Abcc2,Abcc3,Abcc4,Abcc5,Abcd3,Abhd6,Acadm,Acbd5,Acot2,Acsl4,Acsl5,Acy3,Adh5,Adh7,Adora1,Adsl,Adss,Afp,Agfg1,Agmo,Agpat2,Agpat5,Ak3,Akr1b7,Akr1c12,Akr1c13,Akr1c19,Alad,Alcam,Aldh4a1,Alkbh7,Anapc13,Angpt2,Ank,Anks4b,Antxr2,Anxa11,Anxa13,Anxa4,Apoc2,Arf6,Arhgap18,Arhgap40,Asns,Atf5,Atp1a1,Atp5a1,Atp5e,Atp5o,...\n",
      "\n",
      "sym_mrna_up_ribo_dn_ribo2_no: 33: 2410006H16Rik,Adam9,Agpat1,Akt1,Aph1a,Atox1,Atp6v0a1,Bola2,Cmtm6,Cyb5r4,Dusp1,Eipr1,Fam13b,Fbxo42,Fgfr1op2,Gch1,Gpr137b-ps,Hsdl1,Jund,Leprotl1,Lsm14b,Msln,Ndrg1,Nfe2l1,Ptpra,Senp3,Serf2,Tmsb10,Trim8,Trir,Ywhag,Zfp994,Zmat3\n",
      "\n",
      "sym_mrna_dn_ribo_up_ribo2_no: 35: 2900060B14Rik,7SK,Abcf3,Alms1,Alpl,Copb1,Cpped1,Ddx52,Fus,Glo1-ps,Gm22711,Gm24201,Gm42427,Gse1,H2bc15,Kif4,Lipa,Lmnb1,Mcm4,Mcm6,Osgin1,Plxnb1,Pus10,Rangap1,Rnu12,Rrm1,Sik1,Snora65,Snora81,Sptbn1,Srsf2,Tnfaip8,Top2b,Vps13c,Zmynd8\n",
      "\n",
      "sym_mrna_up_ribo_no_ribo2_no: 1766: 0610010F05Rik,1110002E22Rik,1110002L01Rik,1600012H06Rik,1700123O20Rik,1810037I17Rik,1810055G02Rik,1810058I24Rik,2310022B05Rik,2310057M21Rik,2410002F23Rik,2510039O18Rik,2700081O15Rik,2900026A02Rik,3110082I17Rik,6330403L08Rik,8030462N17Rik,9130008F23Rik,9530068E07Rik,A930015D03Rik,Aatf,Abca2,Abcc1,Abhd11,Abhd12,Abhd13,Abhd17a,Abhd17c,Abi1,Abitram,Abl2,Abtb2,Acap3,Acat3,Ackr3,Acp2,Acp6,Acsbg1,Actg-ps1,Actg2,Actr1b,Adam10,Adamtsl4,Adamtsl5,Adar,Adgra3,Adgrg6,Adgrl1,Adipor1,Adk,...\n",
      "\n",
      "sym_mrna_dn_ribo_no_ribo2_no: 1893: 0610010K14Rik,0610040J01Rik,1190007I07Rik,1700025G04Rik,1700052K11Rik,1700088E04Rik,1810009A15Rik,1810014B01Rik,2210016L21Rik,2310033P09Rik,2410004B18Rik,2510002D24Rik,2610001J05Rik,2610008E11Rik,2700049A03Rik,2700097O09Rik,2700099C18Rik,2810006K23Rik,2810013P06Rik,3110009E18Rik,4921524J17Rik,4931406C07Rik,4932438A13Rik,5033406O09Rik,5430416N02Rik,9530053A07Rik,9930012K11Rik,9930021J03Rik,A430033K04Rik,A930007A09Rik,Aaas,Aarsd1,Abca3,Abca5,Abcb6,Abcb7,Abcc10,Abcd1,Abhd14b,Abhd8,Abi2,Abi3,Acaa1b,Acaa2,Acad11,Acad9,Acat1,Acat2,Acd,Acnat1,...\n",
      "\n",
      "sym_mrna_no_ribo_up_ribo2_no: 177: 9130019O22Rik,Acadl,Acbd3,Ankfy1,Ano8,Aopep,Apob,Arf4,Arfgap1,Atp6v1b2,Baz1a,Bmf,Cand1,Cdc16,Cdc27,Cdc42ep1,Cemip2,Chd4,Cnpy4,Copa,Copb2,Cpne3,Cpsf2,Cse1l,Ctns,Cyfip1,Dcaf8,Dcakd,Ddx3x,Ddx47,Dock7,Dot1l,Dpy19l4,Dync1i2,E430024I08Rik,Eed,Efnb1,Eif2ak4,Eif3f,Fcho2,Gak,Gm13410,Gm21399,Gm22042,Gm22519,Gm24029,Gm25117,Gm2541,Gm28035,Gm28036,...\n",
      "\n",
      "sym_mrna_no_ribo_dn_ribo2_no: 240: 1110038B12Rik,1110059E24Rik,1500011B03Rik,1700037H04Rik,2310039H08Rik,Abce1,Actr3,Acvr1b,Afdn,Aimp1,Aldh2,Alkbh5,Anxa2,Anxa3,Ap3d1,Api5,Arf5,Arhgap12,Arl3,Atp2a2,Atp5b,Atp5j,Atp5j2,Atraid,Avil,B230219D22Rik,BC003965,Bnip3l,Borcs8,Brcc3,Bri3bp,Btc,C1qbp,Cars,Cav1,Ccdc12,Ccnq,Chchd2,Cisd2,Clpp,Cnbp,Cnppd1,Cops5,Cox6c,Cpox,D10Wsu102e,Dalrd3,Ddrgk1,Ddx19b,Eef1d,...\n",
      "\n"
     ]
    }
   ],
   "source": [
    "vec1_var <- c('mrna_up_ribo_up', 'mrna_dn_ribo_dn', 'mrna_up_ribo_dn', 'mrna_dn_ribo_up',\n",
    "              'mrna_up_ribo_no', 'mrna_dn_ribo_no', 'mrna_no_ribo_up', 'mrna_no_ribo_dn')\n",
    "\n",
    "vec2_var <- c('ribo2_no')\n",
    "\n",
    "max_ngenes <- 50\n",
    "for (var1 in vec1_var) {\n",
    "    for (var2 in vec2_var) {\n",
    "      strvar <- sprintf('sym_%s_%s', var1, var2)\n",
    "      list_genes[[strvar]] <- eval(parse(text=sprintf(\"intersect(sym_%s, sym_%s)\", var1, var2)))\n",
    "      list_genes[[strvar]] <- intersect(list_genes[[strvar]], sym_detected_both)\n",
    "      strgene <- paste(head(list_genes[[strvar]],max_ngenes), collapse=\",\")\n",
    "      if (length(list_genes[[strvar]]) > max_ngenes) {\n",
    "          strgene <- paste0(strgene,',...')\n",
    "      }\n",
    "      verb('%s: %d: %s\\n\\n', strvar, length(list_genes[[strvar]]), strgene)\n",
    "    }\n",
    "}"
   ]
  },
  {
   "cell_type": "markdown",
   "metadata": {},
   "source": [
    "### no DE ; up/dn/only"
   ]
  },
  {
   "cell_type": "code",
   "execution_count": 366,
   "metadata": {},
   "outputs": [
    {
     "name": "stdout",
     "output_type": "stream",
     "text": [
      "sym_mrna_no_mrna2_up_ribo2_up: 9: Hcfc1r1,Rps27l,AI837181,Traf4,Ciao3,Btg2,Sox9,Areg,Ndufa7\n",
      "\n",
      "sym_mrna_no_mrna2_dn_ribo2_dn: 9: Cldn2,mt-Cytb,Dpysl2,Ddx21,Spon2,Cct4,Klhl9,Hnrnpa0,Hsp90b1\n",
      "\n",
      "sym_mrna_no_mrna2_up_ribo2_dn: 5: Agrn,Lamb2,Malat1,Tom1l2,Fcsk\n",
      "\n",
      "sym_mrna_no_mrna2_dn_ribo2_up: 7: Cks1b,Srsf3,Casp6,E2f3,Snrpd1,Snx5,Smarce1\n",
      "\n",
      "sym_mrna_no_mrna2_up_ribo2_no: 103: Pxn,Ei24,Drg2,Itgb4,Foxo3,Zbtb7b,Lgals3,Pgls,Itga3,Uck1,Tecpr1,Hps1,Cul7,Hspbp1,Usp20,Map2k2,Tmem199,Spns1,Gm5884,Cmtm7,Uqcrc1,Zc3h3,Abca7,Man2b1,Commd9,Ccs,Lrsam1,Mien1,Apeh,Hip1r,Mthfr,Mrps12,Rab4b,Zfp622,Pla2g6,Cdip1,Vps11,Asl,Tjap1,Ubxn6,Chmp1a,Etfb,Surf1,Exoc4,Cav1,Arap1,AA986860,Polk,Rnf10,Taf1c,...\n",
      "\n",
      "sym_mrna_no_mrna2_dn_ribo2_no: 113: Set,Nop56,Oaz1,Tmem109,Ufc1,Acaca,Heatr1,Nup153,Nup85,Ppid,Oaz2,Snrpf,Abcb10,Baz1a,Ola1,Srsf7,Mthfd1l,Rrp1b,Cdca7,BC005537,Rfwd3,Naa50,Las1l,Poglut2,Prkd3,Ric8b,Prr14l,Nolc1,D430020J02Rik,Trim59,Prkar2a,SPATA5L1,Lxn,Supt16,Spred1,Hace1,Rpp14,Gm20008,Ncbp2,Pask,Hnrnpdl,Syne2,Gm12435,Spast,Rbm6,Cycs,Mrpl40,Med1,Asf1a,Ppargc1b,...\n",
      "\n",
      "sym_mrna_no_mrna2_no_ribo2_up: 314: Tpt1,Rps3,Rps16,Rps17,Hspa9,Tle5,Rps14,Sdc4,Rplp2,Rpl23a,Bcap31,Rps9,Rpl11,Rps7,Naca,Rps19,Rpl26,Ywhae,Ftl1,Nptn,Cd164,Rpl30,Stub1,Rpl23,Rps12,Krt20,U2af1,Ssr3,Copz1,Chmp4b,Ier5,Rps7-ps3,Cox5b,Sars,Rtraf,Elob,Rpl19,Bsg,Cox6a1,Mtch2,Brk1,Hsbp1,Cops8,Atp6v1f,Ppib,Uqcc2,Ube2d3,Ndufv2,Rpl28,Cebpb,...\n",
      "\n",
      "sym_mrna_no_mrna2_no_ribo2_dn: 194: Tm4sf4,mt-Nd5,Slc6a6,Ltbp3,Prpf19,Anxa5,Ppp1r15b,Psmd3,Myo18a,Ubap2l,Eif4g1,mt-Nd2,Pygb,Rai1,Ints1,Psmd2,Clasp1,Lamc1,Psmc1,Smarca4,Nap1l1,Chd3,Adcy6,Cant1,Bag6,Mtap,Clptm1,mt-Co1,Mlec,Ddah1,Gnb2,Ubqln1,Tubb5,Pepd,Nop2,Kdm5c,Cstf2t,Pdha1,Gm15459,Aco1,Oat,Rab24,Midn,Eif3b,Pdcd11,Cox7c,Trim28,Snrnp70,Ganab,Sel1l,...\n",
      "\n"
     ]
    }
   ],
   "source": [
    "vec1_var <- c('mrna_no')\n",
    "\n",
    "vec2_var <- c('mrna2_up_ribo2_up', 'mrna2_dn_ribo2_dn', 'mrna2_up_ribo2_dn', 'mrna2_dn_ribo2_up',\n",
    "              'mrna2_up_ribo2_no', 'mrna2_dn_ribo2_no', 'mrna2_no_ribo2_up', 'mrna2_no_ribo2_dn')\n",
    "\n",
    "max_ngenes <- 50\n",
    "for (var1 in vec1_var) {\n",
    "    for (var2 in vec2_var) {\n",
    "      strvar <- sprintf('sym_%s_%s', var1, var2)\n",
    "      list_genes[[strvar]] <- eval(parse(text=sprintf(\"intersect(sym_%s, sym_%s)\", var1, var2)))\n",
    "      list_genes[[strvar]] <- intersect(list_genes[[strvar]], sym_detected_both)\n",
    "      strgene <- paste(head(list_genes[[strvar]],max_ngenes), collapse=\",\")\n",
    "      if (length(list_genes[[strvar]]) > max_ngenes) {\n",
    "          strgene <- paste0(strgene,',...')\n",
    "      }\n",
    "      verb('%s: %d: %s\\n\\n', strvar, length(list_genes[[strvar]]), strgene)\n",
    "    }\n",
    "}"
   ]
  },
  {
   "cell_type": "markdown",
   "metadata": {},
   "source": [
    "### other combinations"
   ]
  },
  {
   "cell_type": "code",
   "execution_count": 367,
   "metadata": {
    "scrolled": false
   },
   "outputs": [
    {
     "name": "stdout",
     "output_type": "stream",
     "text": [
      "-------------------------------------\n",
      "mrna_up_ribo_up\n",
      "\n",
      "\tsym_mrna_up_ribo_up_mrna2_up_ribo2_up: 15: Arl2,Bhlhe40,Ccl2,Clcf1,Gadd45b,Gadd45g,Gla,Glipr1,Lce1g,Lif,Rras,Stk17b,Tfr2,Tspan7,Zkscan5\n",
      "\n",
      "\tsym_mrna_up_ribo_up_mrna2_dn_ribo2_dn: 13: Adam12,Arid3a,Col1a1,Cpd,Fkbp5,Mcam,Nt5e,Pdia6,Pxdn,Ror1,Spp1,Stk3,Tagln\n",
      "\n",
      "\tsym_mrna_up_ribo_up_mrna2_up_ribo2_no: 62: 1700017B05Rik,Adam8,Adssl1,Aif1l,Ankrd13b,Ap5b1,Arc,Arhgap23,Armc9,ARVCF,Atg7,Atp6ap1,Atp6v0d1,Bcar1,Bmp1,Castor1,Ccl7,Cep170b,Cotl1,Creb3,Csf1,Csrnp1,Csrp1,Dcbld2,Ddhd1,Ecm1,Edn1,Ehd1,Fam20c,Flnb,Fosl2,Fst,Glmp,Grn,Gsn,Hmox1,Hyal1,Inf2,Itpr3,Jun,Klhl26,Lbp,Lgmn,Lims2,Lpcat4,Maged2,Man2b2,Mus81,Nectin2,Nfkbia,...\n",
      "\n",
      "\tsym_mrna_up_ribo_up_mrna2_dn_ribo2_no: 30: Adarb1,Adgra1,Angptl2,Atp2b4,Ckap4,Csdc2,Ctsw,Daam1,Dennd5b,Denr,Erap1,Foxf2,Gldc,Il11,Lgr6,Nav1,Nrp2,Olfml2b,Pdgfrb,Ppa1,Rflnb,Rrbp1,Serpinf1,Smarcc1,Spcs3,St3gal5,Tln2,Tmem119,Ulbp1,Zfp36l2\n",
      "\n",
      "\tsym_mrna_up_ribo_up_mrna2_no_ribo2_up: 40: Ak1,Arl6ip5,B2m,Coq10b,Cstb,Ctsl,Cyb5r3,Dusp5,F11r,Fam210b,Fosb,Gadd45a,Gm49909,Ier3,Kctd11,Klf10,Klf6,Krt18,Litaf,Maff,Micall1,mt-Rnr2,Noct,Nsmce3,Pdlim7,Pfkfb3,Pias1,Psmd8,Rabgef1,Rassf1,Rhoc,Sh3bp2,Sh3glb1,Tgif1,Timp1,Tiparp,Tmsb4x,Tsc22d1,Tubb6,Zfp655\n",
      "\n",
      "\tsym_mrna_up_ribo_up_mrna2_no_ribo2_dn: 168: 9930111J21Rik1,Actb,Actg1,Actn1,Add1,Adgrg1,Adprh,Akap12,Akr1b3,Als2cl,Amotl2,Ampd3,Angpt4,Anxa1,Anxa6,Ap2a2,Arid5a,Atl3,Atp1b1,Atrn,Bicd2,Cacna2d1,Calr,Capn1,Ccn2,Cdh2,Cdh6,Cdk17,Clu,Col12a1,Col18a1,Col4a1,Col4a2,Col5a1,Col7a1,Colgalt1,Cryab,Cyb561a3,D630003M21Rik,Ddb1,Ddit4,Dipk2a,Dlc1,Dnpep,Efemp2,Ehbp1l1,Ehd2,Enc1,Ets1,Fads3,...\n",
      "\n",
      "\tsym_mrna_up_ribo_up_mrna2_up_ribo2_dn: 34: Acot7,Acta1,Angptl4,Ass1,Atg2a,Card10,Ccn1,Cd81,Dusp4,Eno3,F3,Fbln2,Fgd3,Frmd8,Hspg2,Ier5l,Lamb3,Loxl4,Map1s,Mvp,Myo1c,Niban2,Numbl,Pakap,Plbd2,Plin2,Snap47,Ssh3,Tgm2,Tmem43,Tnfaip3,Vcl,Wdr45,Wdr81\n",
      "\n",
      "\tsym_mrna_up_ribo_up_mrna2_dn_ribo2_up: 0: \n",
      "\n",
      "-------------------------------------\n",
      "mrna_dn_ribo_dn\n",
      "\n",
      "\tsym_mrna_dn_ribo_dn_mrna2_up_ribo2_up: 19: Aldh3b1,Bax,Bbc3,Bcl2l1,Ccng1,Cdkn1a,Chchd5,Dcxr,Ddit3,Epha2,Gpx4,Mdm2,Psrc1,Slc25a1,Sord,Tmbim4,Tmem171,Txnip,Zfp36l1\n",
      "\n",
      "\tsym_mrna_dn_ribo_dn_mrna2_dn_ribo2_dn: 3: Acox2,Hmgb2,Lbr\n",
      "\n",
      "\tsym_mrna_dn_ribo_dn_mrna2_up_ribo2_no: 35: Anapc13,Cdhr2,Coa3,Cystm1,Ephx1,Epn1,Eps8l2,Ets2,Fgfbp1,Gaa,Gc,Gclc,Ggta1,Gpx4-ps2,H2bc4,Igf2r,Itm2b,Lgals2,Lgals9,Lmo7,Perp,Plin3,Polr2e,Rassf7,Ripk4,Rnf213,Siva1,Slc19a2,Slc39a4,Slc52a2,Spint2,Tmem176a,Trp53inp1,Uap1l1,Vegfb\n",
      "\n",
      "\tsym_mrna_dn_ribo_dn_mrna2_dn_ribo2_no: 42: Anxa13,Brca1,Cbx1,Cept1,Csrp2,Cyb5a,Dut,Eml4,Gm42743,Gpd1,H1f0,H2ac24,H2af-ps2,H2az1,H2bc11,H2bc18,H2bc6,H3c1,H3c15,H3c3,H3c7,H4f16,Hmga1,Hnf4a,Hnrnpa1,Kif23,Met,Mthfd1,Oxct1,Oxr1,Padi2,Pmvk,Prim1,Psat1,Ptma,Samd5,Slc16a1,Slc1a5,Slc25a5,Slc7a5,Tfrc,Uhrf1\n",
      "\n",
      "\tsym_mrna_dn_ribo_dn_mrna2_no_ribo2_up: 100: 2200002D01Rik,Acer3,Atp5c1,Atp5k,Cdh17,Cdk2ap2,Cebpg,Cers2,Chka,Chordc1,Commd2,Cops3,Cox8a,Eno1,Esd,F2rl1,Fam162a,Fitm2,Gapdh,Gde1,Gimd1,Gm15500,Gm15501,Gm43305,Gstp1,Gtse1,Guk1,H2ac19,H3f3b,Habp2,Hint1,Hpgds,Hsd17b10,Id2,Idh2,Krtcap2,Lactb2,Lin7c,Mob1b,Mrpl12,Mrpl13,Mrpl28,Mrps18a,Mrps6,Msmo1,Msrb2,Mtres1,Naxe,Ncoa4,Ndufa5,...\n",
      "\n",
      "\tsym_mrna_dn_ribo_dn_mrna2_no_ribo2_dn: 27: Abhd2,Aldh18a1,Aldh1a1,Aldoc,Cdh1,Crot,Ctnnb1,Dusp6,Epha4,Fkbp4,Glul,Gm4735,H2bc23,Hspd1,Map3k1,Me1,Mpp1,Notch1,Rbm47,Rnf128,Rpl29,Scd1,Scd2,Sprr1a,Srebf2,Ubqln2,Vars\n",
      "\n",
      "\tsym_mrna_dn_ribo_dn_mrna2_up_ribo2_dn: 5: Aldoa,Krt19,Slco2a1,Tinagl1,Vil1\n",
      "\n",
      "\tsym_mrna_dn_ribo_dn_mrna2_dn_ribo2_up: 9: Ccnb1,H2ac11,H2ac20,H2bc7,H3c13,H4c14,H4c18,H4c6,H4c8\n",
      "\n",
      "-------------------------------------\n",
      "mrna_up_ribo_dn\n",
      "\n",
      "\tsym_mrna_up_ribo_dn_mrna2_up_ribo2_up: 6: Arl8a,Atf3,Gprc5a,Phlda1,Sqstm1,Vps37b\n",
      "\n",
      "\tsym_mrna_up_ribo_dn_mrna2_dn_ribo2_dn: 0: \n",
      "\n",
      "\tsym_mrna_up_ribo_dn_mrna2_up_ribo2_no: 4: Dusp1,Msln,Ndrg1,Zmat3\n",
      "\n",
      "\tsym_mrna_up_ribo_dn_mrna2_dn_ribo2_no: 0: \n",
      "\n",
      "\tsym_mrna_up_ribo_dn_mrna2_no_ribo2_up: 21: Arpc1b,Atp6v0c,Brd2,Cd63,Cfl2,Cox7b,Cyb5r1,Gemin7,Ifitm2,Krt8-ps,Lamp1,Nip7,Npc2,Odc1,Pfdn2,Plaur,Rbis,Rbm38,Rpl22l1,Selenof,Slirp\n",
      "\n",
      "\tsym_mrna_up_ribo_dn_mrna2_no_ribo2_dn: 1: Igfbp3\n",
      "\n",
      "\tsym_mrna_up_ribo_dn_mrna2_up_ribo2_dn: 0: \n",
      "\n",
      "\tsym_mrna_up_ribo_dn_mrna2_dn_ribo2_up: 1: Gas5\n",
      "\n",
      "-------------------------------------\n",
      "mrna_dn_ribo_up\n",
      "\n",
      "\tsym_mrna_dn_ribo_up_mrna2_up_ribo2_up: 0: \n",
      "\n",
      "\tsym_mrna_dn_ribo_up_mrna2_dn_ribo2_dn: 5: Cp,Fanca,Marcks,Paics,Tyms\n",
      "\n",
      "\tsym_mrna_dn_ribo_up_mrna2_up_ribo2_no: 2: Cpped1,Osgin1\n",
      "\n",
      "\tsym_mrna_dn_ribo_up_mrna2_dn_ribo2_no: 6: H2bc15,Kif4,Lmnb1,Mcm4,Mcm6,Rrm1\n",
      "\n",
      "\tsym_mrna_dn_ribo_up_mrna2_no_ribo2_up: 1: Hes1\n",
      "\n",
      "\tsym_mrna_dn_ribo_up_mrna2_no_ribo2_dn: 20: Ahr,Baz1b,Cd14,Dhrs3,Fignl1,Gm10052,Gpatch1,Hsph1,Mettl26,Ogdh,Rnu11,Rpa1,Rpph1,Sfpq,Slco4a1,Smpd3,Trp53bp1,Upk1b,Ybx1,Zfp91\n",
      "\n",
      "\tsym_mrna_dn_ribo_up_mrna2_up_ribo2_dn: 1: Lurap1l\n",
      "\n",
      "\tsym_mrna_dn_ribo_up_mrna2_dn_ribo2_up: 0: \n",
      "\n",
      "-------------------------------------\n",
      "mrna_up_ribo_no\n",
      "\n",
      "\tsym_mrna_up_ribo_no_mrna2_up_ribo2_up: 14: 1810013L24Rik,Cdc34,Ctsd,Dnajb6,Grina,Mafk,Map2k3,Napa,Pmm1,Prrg4,Rnf185,Shisa4,Shisa5,Tnfrsf23\n",
      "\n",
      "\tsym_mrna_up_ribo_no_mrna2_dn_ribo2_dn: 1: Hspa5\n",
      "\n",
      "\tsym_mrna_up_ribo_no_mrna2_up_ribo2_no: 110: 1110002L01Rik,2510039O18Rik,6330403L08Rik,Abtb2,Adamtsl5,Aen,Ahnak2,Apba3,Arrdc1,Asb6,Atp6v0b,Atp6v0c-ps2,Atp6v0e,Bag2,Bet1l,Bhlhe41,Blcap,Calcoco1,Cbx4,Ccdc9b,Cdc42ep3,Cdk5,Chpf2,Clba1,Clcn7,Cpne2,Ctsa,Cuedc2,Cxcl16,Cyba,D17H6S53E,Dapk3,Dnajb2,Dnase1l1,Dpp7,Dusp10,Eif2b2,Eif2d,EPPK1,Fam214b,Fat1,Fbxl18,Fbxo46,Flcn,Flnc,Flt4,Gba2,Golga7,Gpr137,Grcc10,...\n",
      "\n",
      "\tsym_mrna_up_ribo_no_mrna2_dn_ribo2_no: 62: 0610010F05Rik,3110082I17Rik,Adam10,Adgrl1,Asph,Atf7,AU020206,Brd3,Cbfb,Crybg3,Csrnp2,Dnajc3,Eif4a2,Entpd7,Etv4,Gcsh,Gdpd1,Get1,Gng10,Hipk2,Kdm4c,Ktn1,L3mbtl3,Lix1l,Lrp11,Lrp8,Lrrc8b,Map1b,Mdn1,Mex3a,Mex3b,Mkx,Mmp11,Nin,Nlk,Nptxr,Ostc,Pdgfc,Plekha1,Rasal2,Rcl1,Rnf139,Rnf145,S100pbp,Samhd1,Scarb2,Selenoh,Sinhcaf,Slc10a7,Slc25a14,...\n",
      "\n",
      "\tsym_mrna_up_ribo_no_mrna2_no_ribo2_up: 108: 2310030G06Rik,4930503L19Rik,Abhd5,Actr2,Ankrd40,Ap3m1,Arpc3,Arpc4,Atp6v1d,Bin3,Ccdc68,Ccdc86,Cd47,Cd99l2,Cdk7,Cetn3,Cfl1,Cldnd1,Clk4,Cln5,Cops2,Dad1,Dctn3,Dnajb1,Dnajb9,Dstn,Dynlrb1,Dynlt3,Eef1e1,Eloc,Emc3,Erf,Exosc1,Fam118b,Fam76a,Fcf1,Fez2,Fkbp3,Gabarap,Galnt1,Ginm1,Gm9774,Gng5,Gosr1,Gosr2,Gxylt1,Hgsnat,Ifrd1,Kctd5,Lgalsl,...\n",
      "\n",
      "\tsym_mrna_up_ribo_no_mrna2_no_ribo2_dn: 21: Ankrd52,App,Banp,Bop1,Brat1,Cavin1,Crim1,Ctbp2,Dst,Hk1,Lmna,Myo1d,Ncln,Rraga,Sbf1,Sec61a1,Slc39a7,Snx14,Spns2,Sumf1,Xylt2\n",
      "\n",
      "\tsym_mrna_up_ribo_no_mrna2_up_ribo2_dn: 4: Hyal2,Nuak2,Pld3,Tcn2\n",
      "\n",
      "\tsym_mrna_up_ribo_no_mrna2_dn_ribo2_up: 3: Ccni,Hmga2,Trpm7\n",
      "\n",
      "-------------------------------------\n",
      "mrna_dn_ribo_no\n",
      "\n",
      "\tsym_mrna_dn_ribo_no_mrna2_up_ribo2_up: 2: Ninj1,Sh3glb2\n",
      "\n",
      "\tsym_mrna_dn_ribo_no_mrna2_dn_ribo2_dn: 10: Dnmt1,H1f1,H1f5,H2ac10,H2ax,H2bc14,H2bc8,Mcm3,Ncl,Tarbp1\n",
      "\n",
      "\tsym_mrna_dn_ribo_no_mrna2_up_ribo2_no: 58: 9530053A07Rik,Aaas,Acad11,Amdhd2,Amot,Apbb1,Arhgef16,Arhgef28,Atp13a2,Bcl6,Camk2n1,Ccl9,Cdc42bpg,Ctc1,Cyhr1,Dcaf4,Ddit4l,Dglucy,Eme2,Fam122a,Fbxw8,Fgfr3,G6pdx,Galt,Ghdc,Gm42047,Hook2,Inka2,Inpp1,Klhdc7a,Lonrf3,Lpar2,Marchf9,Nudt22,Nxn,Pax2,Pdss2,Pidd1,Plcxd2,Ppp6r2,Rab3a,Rab4a,Rnf167,Sema6b,Sertad3,Sesn2,Slc17a1,Slc25a11,Slc25a44,Sorbs1,...\n",
      "\n",
      "\tsym_mrna_dn_ribo_no_mrna2_dn_ribo2_no: 190: Aarsd1,Acat1,Add3,Anapc5,Anln,Anp32b,Anp32e,Arhgap11a,Asf1b,Asnsd1,Aspm,Atad2,Aurkb,Bard1,BC055324,Birc5,Bivm,Brip1os,Bub1b,C2cd3,Cbx5,Ccdc88c,Ccna2,Ccnb2,Ccnf,Cdc25c,Cdc45,Cdca3,Cdca8,Cdk1,Cdk19,Cdk6,Cenpe,Cenpf,Cenpi,Cep55,Chaf1b,Chd2,Chek2,Cip2a,Ckap2l,Cks2,Clspn,Cnot6,Crybg1,Ctcf,Dbf4,Dck,Dek,Dhfr,...\n",
      "\n",
      "\tsym_mrna_dn_ribo_no_mrna2_no_ribo2_up: 48: Alyref,Aprt,Arl2bp,Arl4c,Aurka,Bcl3,Calm2,Cd9,Cep20,Cep70,Chaserr,Dld,Dnaja1,Dnajc30,Egr1,Eif2b1,Eny2,Fth1,Grsf1,Gtpbp4,H4c1,Hunk,Idh3b,Ift46,Magohb,Mrpl54,Mrpl9,Mrps23,Ndufb4c,Net1,Rasgef1b,Rchy1,Rnaset2b,Rpl4,Rps2-ps10,Rps3a3,Sra1,Srp72,Sub1,Tdg,Ube2c,Ube2n-ps1,Vps36,Zc3h14,Zc3h15,Zfand6,Zfp36,Zfp948\n",
      "\n",
      "\tsym_mrna_dn_ribo_no_mrna2_no_ribo2_dn: 58: AA474408,Acaa1a,Acin1,Acot1,Akap13,Ap1b1,AU040320,Cd82,Cdh16,Cdk5rap3,Cpt1a,Dcaf7,Dhcr7,Dsp,Egfr,Elovl5,Elp2,Fmn1,Glud1,Gm13456,Gm5855,Gphn,H2-D1,Hnrnpk,Hnrnpu,Ifngr1,Irs2,Khdrbs1,Klhl13,Lgals3bp,Mrpl53,Myrf,Nbeal2,Ndufs7,Nono,Papss1,Pdp2,Pklr,Plxnb2,Por,Ppl,Rpl6,Rps8,Samm50,Sart3,Slc12a7,Slc40a1,Spg20,Srp68,Tacc2,...\n",
      "\n",
      "\tsym_mrna_dn_ribo_no_mrna2_up_ribo2_dn: 2: Llgl2,Pex6\n",
      "\n",
      "\tsym_mrna_dn_ribo_no_mrna2_dn_ribo2_up: 9: H2ac15,H2ac4,H4c12,H4c2,H4c3,H4c9,Hmgb1,Prc1,Ubald2\n",
      "\n",
      "-------------------------------------\n",
      "mrna_no_ribo_up\n",
      "\n",
      "\tsym_mrna_no_ribo_up_mrna2_up_ribo2_up: 2: Hcfc1r1,Sox9\n",
      "\n",
      "\tsym_mrna_no_ribo_up_mrna2_dn_ribo2_dn: 6: Cct4,Cldn2,Hsp90b1,Klhl9,mt-Cytb,Spon2\n",
      "\n",
      "\tsym_mrna_no_ribo_up_mrna2_up_ribo2_no: 3: Hip1r,Man2b1,Rnf169\n",
      "\n",
      "\tsym_mrna_no_ribo_up_mrna2_dn_ribo2_no: 7: Baz1a,Hnrnpdl,Med14,Pnn,Ric8b,Trim59,Ythdc1\n",
      "\n",
      "\tsym_mrna_no_ribo_up_mrna2_no_ribo2_up: 12: 5S_rRNA,Arl4d,Cebpb,Ftl1,Fxr1,Gm10123,Gm6180,Ier5,rDNA_Rn5-8s,Tmem38b,Tra2a,Vault\n",
      "\n",
      "\tsym_mrna_no_ribo_up_mrna2_no_ribo2_dn: 89: Aco1,Actb-ps1,Anxa5,Calm1,Chd3,Clasp1,Copg1,Dpp3,Eef2-ps2,Eif4a-ps4,Fads2,Gbf1,Gga2,Gm12715,Gm13340,Gm15459,Gm15590,Gm15725,Gm16385,Gm17383,Gm2223,Gm23201,Gm23238,Gm24514,Gm25878,Gm26447,Gm28438,Gm29216,Gm4366,Gm5525,Gm5526,Gm6192,Gm6548,Gm8337,Gm9512,Gnb2,Gspt1,Kdm1a,Kdm5c,Lrp1,Ltbp3,Maged1,Metazoa_SRP,mt-Co1,mt-Nd1,mt-Nd2,mt-Nd4,mt-Nd5,mt-Tm,mt-Tv,...\n",
      "\n",
      "\tsym_mrna_no_ribo_up_mrna2_up_ribo2_dn: 2: Agrn,Malat1\n",
      "\n",
      "\tsym_mrna_no_ribo_up_mrna2_dn_ribo2_up: 0: \n",
      "\n",
      "-------------------------------------\n",
      "mrna_no_ribo_dn\n",
      "\n",
      "\tsym_mrna_no_ribo_dn_mrna2_up_ribo2_up: 5: Areg,Btg2,Ndufa7,Rps27l,Traf4\n",
      "\n",
      "\tsym_mrna_no_ribo_dn_mrna2_dn_ribo2_dn: 0: \n",
      "\n",
      "\tsym_mrna_no_ribo_dn_mrna2_up_ribo2_no: 14: Borcs8,Cav1,Etfb,Flot1,Get3,Hspbp1,Itga3,Itgb4,Lgals3,Prmt2,Slc35c2,Surf1,Tob1,Ubxn6\n",
      "\n",
      "\tsym_mrna_no_ribo_dn_mrna2_dn_ribo2_no: 7: Gm12435,Hspe1,Mthfd1l,Nsun2,Oaz1,Set,Tomm70a\n",
      "\n",
      "\tsym_mrna_no_ribo_dn_mrna2_no_ribo2_up: 140: Arpc2,Arpc5l,Atp6v1f,Bcap31,Bcas2,Bsg,Btf3,Capza2,Card19,Cd164,Chchd1,Churc1,Cnih1,Commd3,Copz1,Cox4i1,Cox5b,Cox6a1,Cox7a2,Csnk2a1,Csnk2b,Edf1,Eef1g,Eif2s3x,Eif3k,Eif4ebp1,Eif5,Eif5a,Elob,Ergic3,Erh,Fosl1,Gm10076,Gm10110,Gm10175,Gm10221,Gm10232,Gm10275,Gm10443,Gm10705,Gm11942,Gm12338,Gm12918,Gm14494,Gm15772,Gm2000,Gm49450,Gm6969,Gm7536,Gm8797,...\n",
      "\n",
      "\tsym_mrna_no_ribo_dn_mrna2_no_ribo2_dn: 6: Ddx17,Fos,Gm6560,Lars2,Ldlr,Pdha1\n",
      "\n",
      "\tsym_mrna_no_ribo_dn_mrna2_up_ribo2_dn: 0: \n",
      "\n",
      "\tsym_mrna_no_ribo_dn_mrna2_dn_ribo2_up: 2: Cks1b,Snx5\n",
      "\n"
     ]
    }
   ],
   "source": [
    "vec1_var <- c('mrna_up_ribo_up', 'mrna_dn_ribo_dn', 'mrna_up_ribo_dn', 'mrna_dn_ribo_up',\n",
    "              'mrna_up_ribo_no', 'mrna_dn_ribo_no', 'mrna_no_ribo_up', 'mrna_no_ribo_dn')\n",
    "\n",
    "vec2_var <- c('mrna2_up_ribo2_up', 'mrna2_dn_ribo2_dn', \n",
    "              'mrna2_up_ribo2_no', 'mrna2_dn_ribo2_no', 'mrna2_no_ribo2_up', 'mrna2_no_ribo2_dn',\n",
    "              'mrna2_up_ribo2_dn', 'mrna2_dn_ribo2_up')\n",
    "\n",
    "max_ngenes <- 50\n",
    "for (var1 in vec1_var) {\n",
    "    verb('-------------------------------------\\n%s\\n\\n', var1)\n",
    "    for (var2 in vec2_var) {\n",
    "      strvar <- sprintf('sym_%s_%s', var1, var2)\n",
    "      list_genes[[strvar]] <- eval(parse(text=sprintf(\"intersect(sym_%s, sym_%s)\", var1, var2)))\n",
    "      list_genes[[strvar]] <- intersect(list_genes[[strvar]], sym_detected_both)\n",
    "      strgene <- paste(head(list_genes[[strvar]],max_ngenes), collapse=\",\")\n",
    "      if (length(list_genes[[strvar]]) > max_ngenes) {\n",
    "          strgene <- paste0(strgene,',...')\n",
    "      }\n",
    "      verb('\\t%s: %d: %s\\n\\n', strvar, length(list_genes[[strvar]]), strgene)\n",
    "    }\n",
    "}"
   ]
  },
  {
   "cell_type": "markdown",
   "metadata": {},
   "source": [
    "# define frequently used variables"
   ]
  },
  {
   "cell_type": "markdown",
   "metadata": {},
   "source": [
    "## sym_mrna_up_mrna2_dn"
   ]
  },
  {
   "cell_type": "code",
   "execution_count": 368,
   "metadata": {},
   "outputs": [
    {
     "data": {
      "text/html": [
       "127"
      ],
      "text/latex": [
       "127"
      ],
      "text/markdown": [
       "127"
      ],
      "text/plain": [
       "[1] 127"
      ]
     },
     "metadata": {},
     "output_type": "display_data"
    },
    {
     "data": {
      "text/html": [
       "127"
      ],
      "text/latex": [
       "127"
      ],
      "text/markdown": [
       "127"
      ],
      "text/plain": [
       "[1] 127"
      ]
     },
     "metadata": {},
     "output_type": "display_data"
    }
   ],
   "source": [
    "# relying on emt.tables.mrna.comprehensive.txt the first column of \"reversible.translation.CX\"\n",
    "# translation tgfb48 up and tgfb27h+cx down\n",
    "idx <- which(df_all[,'reversible.transcription']=='upDown')\n",
    "sym_mrna_up_mrna2_dn <- rownames(df_all[idx,])\n",
    "length(sym_mrna_up_mrna2_dn)\n",
    "\n",
    "if (!is.null(pattern_remove_gene)) {\n",
    "    any(grepl(pattern_remove_gene, sym_mrna_up_mrna2_dn)) # should be FALSE\n",
    "}\n",
    "\n",
    "sym_mrna_up_mrna2_dn <- intersect(sym_mrna_up, sym_mrna2_dn)\n",
    "length(sym_mrna_up_mrna2_dn)\n"
   ]
  },
  {
   "cell_type": "markdown",
   "metadata": {},
   "source": [
    "## sym_mrna_dn_mrna2_up"
   ]
  },
  {
   "cell_type": "code",
   "execution_count": 369,
   "metadata": {},
   "outputs": [
    {
     "data": {
      "text/html": [
       "315"
      ],
      "text/latex": [
       "315"
      ],
      "text/markdown": [
       "315"
      ],
      "text/plain": [
       "[1] 315"
      ]
     },
     "metadata": {},
     "output_type": "display_data"
    },
    {
     "data": {
      "text/html": [
       "144"
      ],
      "text/latex": [
       "144"
      ],
      "text/markdown": [
       "144"
      ],
      "text/plain": [
       "[1] 144"
      ]
     },
     "metadata": {},
     "output_type": "display_data"
    }
   ],
   "source": [
    "# translation tgfb48 down and tgfb27h+cx up\n",
    "idx <- which(df_all[,'reversible.translation']=='downUp')\n",
    "sym_mrna_dn_mrna2_up <- rownames(df_all[idx,])\n",
    "length(sym_mrna_dn_mrna2_up)\n",
    "\n",
    "sym_mrna_dn_mrna2_up <- intersect(sym_mrna_dn, sym_mrna2_up)\n",
    "length(sym_mrna_dn_mrna2_up)"
   ]
  },
  {
   "cell_type": "markdown",
   "metadata": {},
   "source": [
    "## sym_mrna_dn3x_mrna2_no"
   ]
  },
  {
   "cell_type": "code",
   "execution_count": 370,
   "metadata": {},
   "outputs": [
    {
     "data": {
      "text/html": [
       "117"
      ],
      "text/latex": [
       "117"
      ],
      "text/markdown": [
       "117"
      ],
      "text/plain": [
       "[1] 117"
      ]
     },
     "metadata": {},
     "output_type": "display_data"
    }
   ],
   "source": [
    "sym_mrna_dn3x_mrna2_no <- intersect(sym_mrna_dn3x, sym_mrna2_no)\n",
    "length(sym_mrna_dn3x_mrna2_no)"
   ]
  },
  {
   "cell_type": "markdown",
   "metadata": {},
   "source": [
    "## sym_ribo_up_ribo2_dn"
   ]
  },
  {
   "cell_type": "code",
   "execution_count": 371,
   "metadata": {},
   "outputs": [
    {
     "data": {
      "text/html": [
       "406"
      ],
      "text/latex": [
       "406"
      ],
      "text/markdown": [
       "406"
      ],
      "text/plain": [
       "[1] 406"
      ]
     },
     "metadata": {},
     "output_type": "display_data"
    },
    {
     "data": {
      "text/html": [
       "406"
      ],
      "text/latex": [
       "406"
      ],
      "text/markdown": [
       "406"
      ],
      "text/plain": [
       "[1] 406"
      ]
     },
     "metadata": {},
     "output_type": "display_data"
    }
   ],
   "source": [
    "# relying on emt.tables.mrna.comprehensive.txt the first column of \"reversible.translation.CX\"\n",
    "# translation tgfb48 up and tgfb27h+cx down\n",
    "idx <- which(df_all[,'reversible.translation']=='upDown')\n",
    "sym_ribo_up_ribo2_dn <- rownames(df_all[idx,])\n",
    "length(sym_ribo_up_ribo2_dn)\n",
    "\n",
    "if (!is.null(pattern_remove_gene)) {\n",
    "    any(grepl(pattern_remove_gene, sym_ribo_up_ribo2_dn)) # should be FALSE\n",
    "}\n",
    "\n",
    "sym_ribo_up_ribo2_dn <- intersect(sym_ribo_up, sym_ribo2_dn)\n",
    "length(sym_ribo_up_ribo2_dn)\n"
   ]
  },
  {
   "cell_type": "code",
   "execution_count": 372,
   "metadata": {},
   "outputs": [],
   "source": [
    "# translation tgfb48, tgfb48+27h+cx\n",
    "sym_mrna_up_cx_dn <- sym_mrna_up_mrna2_dn\n",
    "sym_mrna_dn_cx_up <- sym_mrna_dn_mrna2_up\n",
    "sym_mrna_dn3x_cx_no <- sym_mrna_dn3x_mrna2_no\n",
    "sym_mrna_up_cx_up <- intersect(sym_mrna_up, sym_mrna2_up)\n",
    "sym_mrna_dn_cx_dn <- intersect(sym_mrna_dn, sym_mrna2_dn)"
   ]
  },
  {
   "cell_type": "markdown",
   "metadata": {},
   "source": [
    "## sym_ribo_dn_ribo2_up"
   ]
  },
  {
   "cell_type": "code",
   "execution_count": 373,
   "metadata": {},
   "outputs": [
    {
     "data": {
      "text/html": [
       "315"
      ],
      "text/latex": [
       "315"
      ],
      "text/markdown": [
       "315"
      ],
      "text/plain": [
       "[1] 315"
      ]
     },
     "metadata": {},
     "output_type": "display_data"
    },
    {
     "data": {
      "text/html": [
       "315"
      ],
      "text/latex": [
       "315"
      ],
      "text/markdown": [
       "315"
      ],
      "text/plain": [
       "[1] 315"
      ]
     },
     "metadata": {},
     "output_type": "display_data"
    }
   ],
   "source": [
    "# translation tgfb48 down and tgfb27h+cx up\n",
    "idx <- which(df_all[,'reversible.translation']=='downUp')\n",
    "sym_ribo_dn_ribo2_up <- rownames(df_all[idx,])\n",
    "length(sym_ribo_dn_ribo2_up)\n",
    "\n",
    "sym_ribo_dn_ribo2_up <- intersect(sym_ribo_dn, sym_ribo2_up)\n",
    "length(sym_ribo_dn_ribo2_up)\n"
   ]
  },
  {
   "cell_type": "markdown",
   "metadata": {},
   "source": [
    "## sym_ribo_dn3x_ribo2_no"
   ]
  },
  {
   "cell_type": "code",
   "execution_count": 374,
   "metadata": {
    "scrolled": true
   },
   "outputs": [
    {
     "data": {
      "text/html": [
       "40"
      ],
      "text/latex": [
       "40"
      ],
      "text/markdown": [
       "40"
      ],
      "text/plain": [
       "[1] 40"
      ]
     },
     "metadata": {},
     "output_type": "display_data"
    }
   ],
   "source": [
    "sym_ribo_dn3x_ribo2_no <- intersect(sym_ribo_dn3x, sym_ribo2_no)\n",
    "length(sym_ribo_dn3x_ribo2_no)"
   ]
  },
  {
   "cell_type": "code",
   "execution_count": 375,
   "metadata": {},
   "outputs": [],
   "source": [
    "# translation tgfb48, tgfb48+27h+cx\n",
    "sym_ribo_up_cx_dn <- sym_ribo_up_ribo2_dn\n",
    "sym_ribo_dn_cx_up <- sym_ribo_dn_ribo2_up\n",
    "sym_ribo_dn3x_cx_no <- sym_ribo_dn3x_ribo2_no\n",
    "sym_ribo_up_cx_up <- intersect(sym_ribo_up, sym_ribo2_up)\n",
    "sym_ribo_dn_cx_dn <- intersect(sym_ribo_dn, sym_ribo2_dn)\n",
    "\n",
    "\n",
    "# translation tgfb48, tgfb48+27h+cx, no effect on transcription tgfb48\n",
    "# detected in both data sets\n",
    "sym_mrna_no_ribo_up_cx_dn <- intersect(sym_mrna_no_ribo_up, sym_ribo2_dn)\n",
    "sym_mrna_no_ribo_up_cx_dn <- intersect(sym_mrna_no_ribo_up_cx_dn, sym_detected_both)\n",
    "\n",
    "sym_mrna_no_ribo_dn_cx_up <- intersect(sym_mrna_no_ribo_dn, sym_ribo2_up)\n",
    "sym_mrna_no_ribo_dn_cx_up <- intersect(sym_mrna_no_ribo_dn_cx_up, sym_detected_both)\n",
    "\n",
    "sym_mrna_no_ribo_up_cx_up <- intersect(sym_mrna_no_ribo_up, sym_ribo2_up)\n",
    "sym_mrna_no_ribo_up_cx_up <- intersect(sym_mrna_no_ribo_up_cx_up, sym_detected_both)\n",
    "\n",
    "sym_mrna_no_ribo_dn_cx_dn <- intersect(sym_mrna_no_ribo_dn, sym_ribo2_dn)\n",
    "sym_mrna_no_ribo_dn_cx_dn <- intersect(sym_mrna_no_ribo_dn_cx_dn, sym_detected_both)"
   ]
  },
  {
   "cell_type": "markdown",
   "metadata": {},
   "source": [
    "## sym_ribo_cx_exclusively_affected"
   ]
  },
  {
   "cell_type": "code",
   "execution_count": 376,
   "metadata": {},
   "outputs": [
    {
     "data": {
      "text/html": [
       "1522"
      ],
      "text/latex": [
       "1522"
      ],
      "text/markdown": [
       "1522"
      ],
      "text/plain": [
       "[1] 1522"
      ]
     },
     "metadata": {},
     "output_type": "display_data"
    },
    {
     "data": {
      "text/html": [
       "2603"
      ],
      "text/latex": [
       "2603"
      ],
      "text/markdown": [
       "2603"
      ],
      "text/plain": [
       "[1] 2603"
      ]
     },
     "metadata": {},
     "output_type": "display_data"
    },
    {
     "data": {
      "text/html": [
       "674"
      ],
      "text/latex": [
       "674"
      ],
      "text/markdown": [
       "674"
      ],
      "text/plain": [
       "[1] 674"
      ]
     },
     "metadata": {},
     "output_type": "display_data"
    }
   ],
   "source": [
    "length(sym_ribo2)\n",
    "length(sym_ribo)\n",
    "sym_ribo_cx_exclusively_affected <- setdiff(sym_ribo2, sym_ribo)\n",
    "length(sym_ribo_cx_exclusively_affected)"
   ]
  },
  {
   "cell_type": "code",
   "execution_count": 377,
   "metadata": {},
   "outputs": [
    {
     "data": {
      "text/html": [
       "415"
      ],
      "text/latex": [
       "415"
      ],
      "text/markdown": [
       "415"
      ],
      "text/plain": [
       "[1] 415"
      ]
     },
     "metadata": {},
     "output_type": "display_data"
    }
   ],
   "source": [
    "sym_ribo_cx_exclusively_affected_up <- intersect(sym_ribo_cx_exclusively_affected,\n",
    "                                                 sym_ribo2_up)\n",
    "length(sym_ribo_cx_exclusively_affected_up)"
   ]
  },
  {
   "cell_type": "code",
   "execution_count": 378,
   "metadata": {},
   "outputs": [
    {
     "data": {
      "text/html": [
       "259"
      ],
      "text/latex": [
       "259"
      ],
      "text/markdown": [
       "259"
      ],
      "text/plain": [
       "[1] 259"
      ]
     },
     "metadata": {},
     "output_type": "display_data"
    }
   ],
   "source": [
    "sym_ribo_cx_exclusively_affected_dn <- intersect(sym_ribo_cx_exclusively_affected,\n",
    "                                                 sym_ribo2_dn)\n",
    "length(sym_ribo_cx_exclusively_affected_dn)"
   ]
  },
  {
   "cell_type": "markdown",
   "metadata": {},
   "source": [
    "## sym_ribo_cx_unaffected"
   ]
  },
  {
   "cell_type": "code",
   "execution_count": 379,
   "metadata": {},
   "outputs": [
    {
     "data": {
      "text/html": [
       "11998"
      ],
      "text/latex": [
       "11998"
      ],
      "text/markdown": [
       "11998"
      ],
      "text/plain": [
       "[1] 11998"
      ]
     },
     "metadata": {},
     "output_type": "display_data"
    },
    {
     "data": {
      "text/html": [
       "1522"
      ],
      "text/latex": [
       "1522"
      ],
      "text/markdown": [
       "1522"
      ],
      "text/plain": [
       "[1] 1522"
      ]
     },
     "metadata": {},
     "output_type": "display_data"
    },
    {
     "data": {
      "text/html": [
       "10476"
      ],
      "text/latex": [
       "10476"
      ],
      "text/markdown": [
       "10476"
      ],
      "text/plain": [
       "[1] 10476"
      ]
     },
     "metadata": {},
     "output_type": "display_data"
    }
   ],
   "source": [
    "length(sym_riboseq)  # 13827\n",
    "\n",
    "sym_ribo_cx_affected <- sym_ribo2\n",
    "length(sym_ribo_cx_affected)\n",
    "\n",
    "sym_ribo_cx_unaffected <- setdiff(sym_riboseq, sym_ribo_cx_affected)\n",
    "length(sym_ribo_cx_unaffected)"
   ]
  },
  {
   "cell_type": "markdown",
   "metadata": {},
   "source": [
    "## sym_mrna_no_ribo_de_cx_unaffected"
   ]
  },
  {
   "cell_type": "code",
   "execution_count": 380,
   "metadata": {
    "scrolled": true
   },
   "outputs": [
    {
     "data": {
      "text/html": [
       "417"
      ],
      "text/latex": [
       "417"
      ],
      "text/markdown": [
       "417"
      ],
      "text/plain": [
       "[1] 417"
      ]
     },
     "metadata": {},
     "output_type": "display_data"
    },
    {
     "data": {
      "text/html": [
       "417"
      ],
      "text/latex": [
       "417"
      ],
      "text/markdown": [
       "417"
      ],
      "text/plain": [
       "[1] 417"
      ]
     },
     "metadata": {},
     "output_type": "display_data"
    },
    {
     "data": {
      "text/html": [
       "417"
      ],
      "text/latex": [
       "417"
      ],
      "text/markdown": [
       "417"
      ],
      "text/plain": [
       "[1] 417"
      ]
     },
     "metadata": {},
     "output_type": "display_data"
    }
   ],
   "source": [
    "sym_mrna_no_ribo_de_cx_unaffected <- intersect(sym_ribo_only, sym_ribo_cx_unaffected)\n",
    "length(sym_mrna_no_ribo_de_cx_unaffected)\n",
    "\n",
    "length(intersect(sym_mrna_no_ribo_de_cx_unaffected, sym_rnaseq))\n",
    "length(intersect(sym_mrna_no_ribo_de_cx_unaffected, sym_riboseq))"
   ]
  },
  {
   "cell_type": "markdown",
   "metadata": {},
   "source": [
    "# df_protein"
   ]
  },
  {
   "cell_type": "code",
   "execution_count": 381,
   "metadata": {},
   "outputs": [
    {
     "name": "stderr",
     "output_type": "stream",
     "text": [
      "Warning message in file(file, \"rt\"):\n",
      "\"cannot open file '../nmumg_proteomics_mass_spec/table_s1a_protein_groups.txt': No such file or directory\"\n"
     ]
    },
    {
     "ename": "ERROR",
     "evalue": "Error in file(file, \"rt\"): cannot open the connection\n",
     "output_type": "error",
     "traceback": [
      "Error in file(file, \"rt\"): cannot open the connection\nTraceback:\n",
      "1. read.table(file = \"../nmumg_proteomics_mass_spec/table_s1a_protein_groups.txt\", \n .     header = TRUE, sep = \"\\t\", row.names = NULL, quote = \"\", \n .     comment.char = \"#\", stringsAsFactors = F)",
      "2. file(file, \"rt\")"
     ]
    }
   ],
   "source": [
    "## Proteomics part is not using at this point\n",
    "# https://epigeneticsandchromatin.biomedcentral.com/articles/10.1186/s13072-019-0256-y\n",
    "df_protein <- read.table(file=\"../nmumg_proteomics_mass_spec/table_s1a_protein_groups.txt\", \n",
    "                header=TRUE, sep=\"\\t\", row.names=NULL,\n",
    "                quote=\"\", comment.char=\"#\", stringsAsFactors=F)\n",
    "t(df_protein[1:3,])\n",
    "dim(df_protein)\n",
    "\n",
    "\n",
    "condstr <- 'proteomics.unt0.tgfb48'\n",
    "cols <- c('Majority.Gene.name','log2FC.2.days.0.min','X.log2.p..2.days.0.min')\n",
    "df <- df_protein[,cols]\n",
    "idx <- which((df[,2] > log2(1.2)) & (2^-df[,3] < 0.05))\n",
    "sym_protein_up <- df[idx,1]\n",
    "\n",
    "idx <- which((df[,2] < -log2(1.2)) & (2^-df[,3] < 0.05))\n",
    "sym_protein_dn <- df[idx,1]"
   ]
  },
  {
   "cell_type": "markdown",
   "metadata": {},
   "source": [
    "## sym_up_up2, sym_dn_dn2"
   ]
  },
  {
   "cell_type": "code",
   "execution_count": 382,
   "metadata": {},
   "outputs": [
    {
     "data": {
      "text/html": [
       "868"
      ],
      "text/latex": [
       "868"
      ],
      "text/markdown": [
       "868"
      ],
      "text/plain": [
       "[1] 868"
      ]
     },
     "metadata": {},
     "output_type": "display_data"
    },
    {
     "data": {
      "text/html": [],
      "text/latex": [],
      "text/markdown": [],
      "text/plain": [
       "character(0)"
      ]
     },
     "metadata": {},
     "output_type": "display_data"
    }
   ],
   "source": [
    "length(sym_mrna_up_ribo_up)\n",
    "f <- grepl('Rp', sym_mrna_up_ribo_up)\n",
    "sym_mrna_up_ribo_up[f]\n",
    "\n"
   ]
  },
  {
   "cell_type": "code",
   "execution_count": 383,
   "metadata": {},
   "outputs": [
    {
     "ename": "ERROR",
     "evalue": "Error in h(simpleError(msg, call)): error in evaluating the argument 'x' in selecting a method for function 'grepl': object 'sym_protein_up' not found\n",
     "output_type": "error",
     "traceback": [
      "Error in h(simpleError(msg, call)): error in evaluating the argument 'x' in selecting a method for function 'grepl': object 'sym_protein_up' not found\nTraceback:\n",
      "1. grepl(\"Rp\", sym_protein_up)",
      "2. .handleSimpleError(function (cond) \n . .Internal(C_tryCatchHelper(addr, 1L, cond)), \"object 'sym_protein_up' not found\", \n .     base::quote(grepl(\"Rp\", sym_protein_up)))",
      "3. h(simpleError(msg, call))"
     ]
    }
   ],
   "source": [
    "f <- grepl('Rp', sym_protein_up)\n",
    "sym_protein_up[f]\n"
   ]
  },
  {
   "cell_type": "code",
   "execution_count": 384,
   "metadata": {},
   "outputs": [
    {
     "data": {
      "text/html": [
       "<style>\n",
       ".list-inline {list-style: none; margin:0; padding: 0}\n",
       ".list-inline>li {display: inline-block}\n",
       ".list-inline>li:not(:last-child)::after {content: \"\\00b7\"; padding: 0 .5ex}\n",
       "</style>\n",
       "<ol class=list-inline><li>'Rp9'</li><li>'Rpa3'</li><li>'Rpe'</li><li>'Rpf2'</li><li>'Rpl13'</li><li>'Rpl13a'</li><li>'Rpl14'</li><li>'Rpl15'</li><li>'Rpl18'</li><li>'Rpl18a'</li><li>'Rpl19-ps11'</li><li>'Rpl21'</li><li>'Rpl22'</li><li>'Rpl29'</li><li>'Rpl32'</li><li>'Rpl36'</li><li>'Rpl36al'</li><li>'Rpl37'</li><li>'Rpl37a'</li><li>'Rpl37rt'</li><li>'Rpl7a'</li><li>'Rpl8'</li><li>'Rps10'</li><li>'Rps11'</li><li>'Rps15'</li><li>'Rps2'</li><li>'Rps21'</li><li>'Rps25'</li><li>'Rps26'</li><li>'Rps27'</li><li>'Rps28'</li><li>'Rps29'</li><li>'Rps3a1'</li><li>'Rps3a2'</li><li>'Rps4x'</li><li>'Rps6'</li><li>'Rpsa'</li></ol>\n"
      ],
      "text/latex": [
       "\\begin{enumerate*}\n",
       "\\item 'Rp9'\n",
       "\\item 'Rpa3'\n",
       "\\item 'Rpe'\n",
       "\\item 'Rpf2'\n",
       "\\item 'Rpl13'\n",
       "\\item 'Rpl13a'\n",
       "\\item 'Rpl14'\n",
       "\\item 'Rpl15'\n",
       "\\item 'Rpl18'\n",
       "\\item 'Rpl18a'\n",
       "\\item 'Rpl19-ps11'\n",
       "\\item 'Rpl21'\n",
       "\\item 'Rpl22'\n",
       "\\item 'Rpl29'\n",
       "\\item 'Rpl32'\n",
       "\\item 'Rpl36'\n",
       "\\item 'Rpl36al'\n",
       "\\item 'Rpl37'\n",
       "\\item 'Rpl37a'\n",
       "\\item 'Rpl37rt'\n",
       "\\item 'Rpl7a'\n",
       "\\item 'Rpl8'\n",
       "\\item 'Rps10'\n",
       "\\item 'Rps11'\n",
       "\\item 'Rps15'\n",
       "\\item 'Rps2'\n",
       "\\item 'Rps21'\n",
       "\\item 'Rps25'\n",
       "\\item 'Rps26'\n",
       "\\item 'Rps27'\n",
       "\\item 'Rps28'\n",
       "\\item 'Rps29'\n",
       "\\item 'Rps3a1'\n",
       "\\item 'Rps3a2'\n",
       "\\item 'Rps4x'\n",
       "\\item 'Rps6'\n",
       "\\item 'Rpsa'\n",
       "\\end{enumerate*}\n"
      ],
      "text/markdown": [
       "1. 'Rp9'\n",
       "2. 'Rpa3'\n",
       "3. 'Rpe'\n",
       "4. 'Rpf2'\n",
       "5. 'Rpl13'\n",
       "6. 'Rpl13a'\n",
       "7. 'Rpl14'\n",
       "8. 'Rpl15'\n",
       "9. 'Rpl18'\n",
       "10. 'Rpl18a'\n",
       "11. 'Rpl19-ps11'\n",
       "12. 'Rpl21'\n",
       "13. 'Rpl22'\n",
       "14. 'Rpl29'\n",
       "15. 'Rpl32'\n",
       "16. 'Rpl36'\n",
       "17. 'Rpl36al'\n",
       "18. 'Rpl37'\n",
       "19. 'Rpl37a'\n",
       "20. 'Rpl37rt'\n",
       "21. 'Rpl7a'\n",
       "22. 'Rpl8'\n",
       "23. 'Rps10'\n",
       "24. 'Rps11'\n",
       "25. 'Rps15'\n",
       "26. 'Rps2'\n",
       "27. 'Rps21'\n",
       "28. 'Rps25'\n",
       "29. 'Rps26'\n",
       "30. 'Rps27'\n",
       "31. 'Rps28'\n",
       "32. 'Rps29'\n",
       "33. 'Rps3a1'\n",
       "34. 'Rps3a2'\n",
       "35. 'Rps4x'\n",
       "36. 'Rps6'\n",
       "37. 'Rpsa'\n",
       "\n",
       "\n"
      ],
      "text/plain": [
       " [1] \"Rp9\"        \"Rpa3\"       \"Rpe\"        \"Rpf2\"       \"Rpl13\"     \n",
       " [6] \"Rpl13a\"     \"Rpl14\"      \"Rpl15\"      \"Rpl18\"      \"Rpl18a\"    \n",
       "[11] \"Rpl19-ps11\" \"Rpl21\"      \"Rpl22\"      \"Rpl29\"      \"Rpl32\"     \n",
       "[16] \"Rpl36\"      \"Rpl36al\"    \"Rpl37\"      \"Rpl37a\"     \"Rpl37rt\"   \n",
       "[21] \"Rpl7a\"      \"Rpl8\"       \"Rps10\"      \"Rps11\"      \"Rps15\"     \n",
       "[26] \"Rps2\"       \"Rps21\"      \"Rps25\"      \"Rps26\"      \"Rps27\"     \n",
       "[31] \"Rps28\"      \"Rps29\"      \"Rps3a1\"     \"Rps3a2\"     \"Rps4x\"     \n",
       "[36] \"Rps6\"       \"Rpsa\"      "
      ]
     },
     "metadata": {},
     "output_type": "display_data"
    },
    {
     "data": {
      "text/html": [
       "37"
      ],
      "text/latex": [
       "37"
      ],
      "text/markdown": [
       "37"
      ],
      "text/plain": [
       "[1] 37"
      ]
     },
     "metadata": {},
     "output_type": "display_data"
    }
   ],
   "source": [
    "f <- grepl('Rp', sym_mrna_dn_ribo_dn)\n",
    "sym_mrna_dn_ribo_dn[f]\n",
    "length(sym_mrna_dn_ribo_dn[f])"
   ]
  },
  {
   "cell_type": "code",
   "execution_count": 385,
   "metadata": {},
   "outputs": [
    {
     "ename": "ERROR",
     "evalue": "Error in h(simpleError(msg, call)): error in evaluating the argument 'y' in selecting a method for function 'intersect': object 'sym_protein_up' not found\n",
     "output_type": "error",
     "traceback": [
      "Error in h(simpleError(msg, call)): error in evaluating the argument 'y' in selecting a method for function 'intersect': object 'sym_protein_up' not found\nTraceback:\n",
      "1. intersect(sym_mrna_up_ribo_up, sym_protein_up)",
      "2. .handleSimpleError(function (cond) \n . .Internal(C_tryCatchHelper(addr, 1L, cond)), \"object 'sym_protein_up' not found\", \n .     base::quote(intersect(sym_mrna_up_ribo_up, sym_protein_up)))",
      "3. h(simpleError(msg, call))"
     ]
    }
   ],
   "source": [
    "\n",
    "sym_up_up2 <- intersect(sym_mrna_up_ribo_up, sym_protein_up)\n",
    "sym_up_up2\n",
    "length(sym_up_up2)\n",
    "\n",
    "sym_dn_dn2 <- intersect(sym_mrna_dn_ribo_dn, sym_protein_dn)\n",
    "sym_dn_dn2\n",
    "length(sym_dn_dn2)\n"
   ]
  },
  {
   "cell_type": "code",
   "execution_count": 386,
   "metadata": {},
   "outputs": [
    {
     "data": {
      "text/html": [
       "<table class=\"dataframe\">\n",
       "<caption>A data.frame: 6 × 31</caption>\n",
       "<thead>\n",
       "\t<tr><th></th><th scope=col>seqnames</th><th scope=col>start</th><th scope=col>end</th><th scope=col>width</th><th scope=col>strand</th><th scope=col>source</th><th scope=col>unt.transcription</th><th scope=col>tgfb.transcription</th><th scope=col>tgfbCX5461.transcription</th><th scope=col>log2FCuntVStgfb.transcription</th><th scope=col>...</th><th scope=col>log2FCuntVStgfb.translation</th><th scope=col>FDRuntVStgfb.translation</th><th scope=col>PuntVStgfb.translation</th><th scope=col>log2FCtgfbVStgfbCX5461.translation</th><th scope=col>FDRtgfbVStgfbCX5461.translation</th><th scope=col>PtgfbVStgfbCX5461.translation</th><th scope=col>unt.tgfb.DEtranslation</th><th scope=col>tgfb.tgfbCX5461.DEtranslation</th><th scope=col>reversible.translation</th><th scope=col>biotype</th></tr>\n",
       "\t<tr><th></th><th scope=col>&lt;fct&gt;</th><th scope=col>&lt;int&gt;</th><th scope=col>&lt;int&gt;</th><th scope=col>&lt;int&gt;</th><th scope=col>&lt;fct&gt;</th><th scope=col>&lt;fct&gt;</th><th scope=col>&lt;dbl&gt;</th><th scope=col>&lt;dbl&gt;</th><th scope=col>&lt;dbl&gt;</th><th scope=col>&lt;dbl&gt;</th><th scope=col>...</th><th scope=col>&lt;dbl&gt;</th><th scope=col>&lt;dbl&gt;</th><th scope=col>&lt;dbl&gt;</th><th scope=col>&lt;dbl&gt;</th><th scope=col>&lt;dbl&gt;</th><th scope=col>&lt;dbl&gt;</th><th scope=col>&lt;chr&gt;</th><th scope=col>&lt;chr&gt;</th><th scope=col>&lt;chr&gt;</th><th scope=col>&lt;chr&gt;</th></tr>\n",
       "</thead>\n",
       "<tbody>\n",
       "\t<tr><th scope=row>Rpl15</th><td>14</td><td>  4198305</td><td>  4201873</td><td>3569</td><td>+</td><td>ensembl_havana</td><td>4.144202</td><td>3.852056</td><td>3.921760</td><td>-0.29214638</td><td>...</td><td>-1.1376928</td><td>2.175378e-04</td><td>1.51939e-05</td><td> 0.71923131</td><td>4.374918e-02</td><td>0.0052288986</td><td>down</td><td>up    </td><td>downUp</td><td>protein_coding</td></tr>\n",
       "\t<tr><th scope=row>Rpl32</th><td>6 </td><td>115782466</td><td>115785708</td><td>3243</td><td>-</td><td>ensembl_havana</td><td>4.397618</td><td>4.124774</td><td>4.118941</td><td>-0.27284405</td><td>...</td><td>-0.6114659</td><td>9.480000e-08</td><td>2.00000e-09</td><td> 0.72048880</td><td>1.527900e-07</td><td>0.0000000010</td><td>down</td><td>up    </td><td>downUp</td><td>protein_coding</td></tr>\n",
       "\t<tr><th scope=row>Rplp1</th><td>9 </td><td> 61820566</td><td> 61821824</td><td>1259</td><td>-</td><td>ensembl_havana</td><td>5.219518</td><td>5.223095</td><td>5.237720</td><td> 0.00357701</td><td>...</td><td>-0.9682169</td><td>1.030000e-09</td><td>0.00000e+00</td><td> 0.06527635</td><td>7.483032e-01</td><td>0.5380572933</td><td>down</td><td>notSig</td><td>notSig</td><td>protein_coding</td></tr>\n",
       "\t<tr><th scope=row>Rps28</th><td>17</td><td> 34038001</td><td> 34043536</td><td>5536</td><td>-</td><td>ensembl_havana</td><td>4.384985</td><td>4.094191</td><td>4.261039</td><td>-0.29079309</td><td>...</td><td>-0.6379383</td><td>7.306360e-04</td><td>6.14446e-05</td><td>-0.23310234</td><td>3.723709e-01</td><td>0.1515931764</td><td>down</td><td>notSig</td><td>notSig</td><td>protein_coding</td></tr>\n",
       "\t<tr><th scope=row>Rps3</th><td>7 </td><td> 99127103</td><td> 99132945</td><td>5843</td><td>-</td><td>ensembl_havana</td><td>5.166973</td><td>4.930413</td><td>4.989184</td><td>-0.23656000</td><td>...</td><td>-0.6712653</td><td>1.440000e-09</td><td>0.00000e+00</td><td> 0.60189674</td><td>3.541000e-07</td><td>0.0000000029</td><td>down</td><td>up    </td><td>downUp</td><td>protein_coding</td></tr>\n",
       "\t<tr><th scope=row>Rpsa</th><td>9 </td><td>119956755</td><td>119961435</td><td>4681</td><td>+</td><td>ensembl_havana</td><td>6.373183</td><td>6.062804</td><td>6.010222</td><td>-0.31037840</td><td>...</td><td>-0.2809227</td><td>2.570434e-03</td><td>2.77439e-04</td><td> 0.32771627</td><td>5.305566e-03</td><td>0.0002984192</td><td>down</td><td>up    </td><td>downUp</td><td>protein_coding</td></tr>\n",
       "</tbody>\n",
       "</table>\n"
      ],
      "text/latex": [
       "A data.frame: 6 × 31\n",
       "\\begin{tabular}{r|lllllllllllllllllllll}\n",
       "  & seqnames & start & end & width & strand & source & unt.transcription & tgfb.transcription & tgfbCX5461.transcription & log2FCuntVStgfb.transcription & ... & log2FCuntVStgfb.translation & FDRuntVStgfb.translation & PuntVStgfb.translation & log2FCtgfbVStgfbCX5461.translation & FDRtgfbVStgfbCX5461.translation & PtgfbVStgfbCX5461.translation & unt.tgfb.DEtranslation & tgfb.tgfbCX5461.DEtranslation & reversible.translation & biotype\\\\\n",
       "  & <fct> & <int> & <int> & <int> & <fct> & <fct> & <dbl> & <dbl> & <dbl> & <dbl> & ... & <dbl> & <dbl> & <dbl> & <dbl> & <dbl> & <dbl> & <chr> & <chr> & <chr> & <chr>\\\\\n",
       "\\hline\n",
       "\tRpl15 & 14 &   4198305 &   4201873 & 3569 & + & ensembl\\_havana & 4.144202 & 3.852056 & 3.921760 & -0.29214638 & ... & -1.1376928 & 2.175378e-04 & 1.51939e-05 &  0.71923131 & 4.374918e-02 & 0.0052288986 & down & up     & downUp & protein\\_coding\\\\\n",
       "\tRpl32 & 6  & 115782466 & 115785708 & 3243 & - & ensembl\\_havana & 4.397618 & 4.124774 & 4.118941 & -0.27284405 & ... & -0.6114659 & 9.480000e-08 & 2.00000e-09 &  0.72048880 & 1.527900e-07 & 0.0000000010 & down & up     & downUp & protein\\_coding\\\\\n",
       "\tRplp1 & 9  &  61820566 &  61821824 & 1259 & - & ensembl\\_havana & 5.219518 & 5.223095 & 5.237720 &  0.00357701 & ... & -0.9682169 & 1.030000e-09 & 0.00000e+00 &  0.06527635 & 7.483032e-01 & 0.5380572933 & down & notSig & notSig & protein\\_coding\\\\\n",
       "\tRps28 & 17 &  34038001 &  34043536 & 5536 & - & ensembl\\_havana & 4.384985 & 4.094191 & 4.261039 & -0.29079309 & ... & -0.6379383 & 7.306360e-04 & 6.14446e-05 & -0.23310234 & 3.723709e-01 & 0.1515931764 & down & notSig & notSig & protein\\_coding\\\\\n",
       "\tRps3 & 7  &  99127103 &  99132945 & 5843 & - & ensembl\\_havana & 5.166973 & 4.930413 & 4.989184 & -0.23656000 & ... & -0.6712653 & 1.440000e-09 & 0.00000e+00 &  0.60189674 & 3.541000e-07 & 0.0000000029 & down & up     & downUp & protein\\_coding\\\\\n",
       "\tRpsa & 9  & 119956755 & 119961435 & 4681 & + & ensembl\\_havana & 6.373183 & 6.062804 & 6.010222 & -0.31037840 & ... & -0.2809227 & 2.570434e-03 & 2.77439e-04 &  0.32771627 & 5.305566e-03 & 0.0002984192 & down & up     & downUp & protein\\_coding\\\\\n",
       "\\end{tabular}\n"
      ],
      "text/markdown": [
       "\n",
       "A data.frame: 6 × 31\n",
       "\n",
       "| <!--/--> | seqnames &lt;fct&gt; | start &lt;int&gt; | end &lt;int&gt; | width &lt;int&gt; | strand &lt;fct&gt; | source &lt;fct&gt; | unt.transcription &lt;dbl&gt; | tgfb.transcription &lt;dbl&gt; | tgfbCX5461.transcription &lt;dbl&gt; | log2FCuntVStgfb.transcription &lt;dbl&gt; | ... ... | log2FCuntVStgfb.translation &lt;dbl&gt; | FDRuntVStgfb.translation &lt;dbl&gt; | PuntVStgfb.translation &lt;dbl&gt; | log2FCtgfbVStgfbCX5461.translation &lt;dbl&gt; | FDRtgfbVStgfbCX5461.translation &lt;dbl&gt; | PtgfbVStgfbCX5461.translation &lt;dbl&gt; | unt.tgfb.DEtranslation &lt;chr&gt; | tgfb.tgfbCX5461.DEtranslation &lt;chr&gt; | reversible.translation &lt;chr&gt; | biotype &lt;chr&gt; |\n",
       "|---|---|---|---|---|---|---|---|---|---|---|---|---|---|---|---|---|---|---|---|---|---|\n",
       "| Rpl15 | 14 |   4198305 |   4201873 | 3569 | + | ensembl_havana | 4.144202 | 3.852056 | 3.921760 | -0.29214638 | ... | -1.1376928 | 2.175378e-04 | 1.51939e-05 |  0.71923131 | 4.374918e-02 | 0.0052288986 | down | up     | downUp | protein_coding |\n",
       "| Rpl32 | 6  | 115782466 | 115785708 | 3243 | - | ensembl_havana | 4.397618 | 4.124774 | 4.118941 | -0.27284405 | ... | -0.6114659 | 9.480000e-08 | 2.00000e-09 |  0.72048880 | 1.527900e-07 | 0.0000000010 | down | up     | downUp | protein_coding |\n",
       "| Rplp1 | 9  |  61820566 |  61821824 | 1259 | - | ensembl_havana | 5.219518 | 5.223095 | 5.237720 |  0.00357701 | ... | -0.9682169 | 1.030000e-09 | 0.00000e+00 |  0.06527635 | 7.483032e-01 | 0.5380572933 | down | notSig | notSig | protein_coding |\n",
       "| Rps28 | 17 |  34038001 |  34043536 | 5536 | - | ensembl_havana | 4.384985 | 4.094191 | 4.261039 | -0.29079309 | ... | -0.6379383 | 7.306360e-04 | 6.14446e-05 | -0.23310234 | 3.723709e-01 | 0.1515931764 | down | notSig | notSig | protein_coding |\n",
       "| Rps3 | 7  |  99127103 |  99132945 | 5843 | - | ensembl_havana | 5.166973 | 4.930413 | 4.989184 | -0.23656000 | ... | -0.6712653 | 1.440000e-09 | 0.00000e+00 |  0.60189674 | 3.541000e-07 | 0.0000000029 | down | up     | downUp | protein_coding |\n",
       "| Rpsa | 9  | 119956755 | 119961435 | 4681 | + | ensembl_havana | 6.373183 | 6.062804 | 6.010222 | -0.31037840 | ... | -0.2809227 | 2.570434e-03 | 2.77439e-04 |  0.32771627 | 5.305566e-03 | 0.0002984192 | down | up     | downUp | protein_coding |\n",
       "\n"
      ],
      "text/plain": [
       "      seqnames start     end       width strand source        \n",
       "Rpl15 14         4198305   4201873 3569  +      ensembl_havana\n",
       "Rpl32 6        115782466 115785708 3243  -      ensembl_havana\n",
       "Rplp1 9         61820566  61821824 1259  -      ensembl_havana\n",
       "Rps28 17        34038001  34043536 5536  -      ensembl_havana\n",
       "Rps3  7         99127103  99132945 5843  -      ensembl_havana\n",
       "Rpsa  9        119956755 119961435 4681  +      ensembl_havana\n",
       "      unt.transcription tgfb.transcription tgfbCX5461.transcription\n",
       "Rpl15 4.144202          3.852056           3.921760                \n",
       "Rpl32 4.397618          4.124774           4.118941                \n",
       "Rplp1 5.219518          5.223095           5.237720                \n",
       "Rps28 4.384985          4.094191           4.261039                \n",
       "Rps3  5.166973          4.930413           4.989184                \n",
       "Rpsa  6.373183          6.062804           6.010222                \n",
       "      log2FCuntVStgfb.transcription ... log2FCuntVStgfb.translation\n",
       "Rpl15 -0.29214638                   ... -1.1376928                 \n",
       "Rpl32 -0.27284405                   ... -0.6114659                 \n",
       "Rplp1  0.00357701                   ... -0.9682169                 \n",
       "Rps28 -0.29079309                   ... -0.6379383                 \n",
       "Rps3  -0.23656000                   ... -0.6712653                 \n",
       "Rpsa  -0.31037840                   ... -0.2809227                 \n",
       "      FDRuntVStgfb.translation PuntVStgfb.translation\n",
       "Rpl15 2.175378e-04             1.51939e-05           \n",
       "Rpl32 9.480000e-08             2.00000e-09           \n",
       "Rplp1 1.030000e-09             0.00000e+00           \n",
       "Rps28 7.306360e-04             6.14446e-05           \n",
       "Rps3  1.440000e-09             0.00000e+00           \n",
       "Rpsa  2.570434e-03             2.77439e-04           \n",
       "      log2FCtgfbVStgfbCX5461.translation FDRtgfbVStgfbCX5461.translation\n",
       "Rpl15  0.71923131                        4.374918e-02                   \n",
       "Rpl32  0.72048880                        1.527900e-07                   \n",
       "Rplp1  0.06527635                        7.483032e-01                   \n",
       "Rps28 -0.23310234                        3.723709e-01                   \n",
       "Rps3   0.60189674                        3.541000e-07                   \n",
       "Rpsa   0.32771627                        5.305566e-03                   \n",
       "      PtgfbVStgfbCX5461.translation unt.tgfb.DEtranslation\n",
       "Rpl15 0.0052288986                  down                  \n",
       "Rpl32 0.0000000010                  down                  \n",
       "Rplp1 0.5380572933                  down                  \n",
       "Rps28 0.1515931764                  down                  \n",
       "Rps3  0.0000000029                  down                  \n",
       "Rpsa  0.0002984192                  down                  \n",
       "      tgfb.tgfbCX5461.DEtranslation reversible.translation biotype       \n",
       "Rpl15 up                            downUp                 protein_coding\n",
       "Rpl32 up                            downUp                 protein_coding\n",
       "Rplp1 notSig                        notSig                 protein_coding\n",
       "Rps28 notSig                        notSig                 protein_coding\n",
       "Rps3  up                            downUp                 protein_coding\n",
       "Rpsa  up                            downUp                 protein_coding"
      ]
     },
     "metadata": {},
     "output_type": "display_data"
    }
   ],
   "source": [
    "sym_ribosomal_proteins <- c('Rpl15', 'Rpl32', 'Rplp1', 'Rps28', 'Rps3', 'Rpsa')\n",
    "\n",
    "df_all[sym_ribosomal_proteins,]"
   ]
  },
  {
   "cell_type": "markdown",
   "metadata": {},
   "source": [
    "## sym_up_up2_dn, sym_dn_dn2_up"
   ]
  },
  {
   "cell_type": "code",
   "execution_count": 387,
   "metadata": {},
   "outputs": [],
   "source": [
    "sym_up_up_dn <- intersect(sym_mrna_up_ribo_up, sym_ribo2_dn)\n",
    "#sym_up_up2_dn <- intersect(sym_up_up_dn, sym_protein_up)\n",
    "#sym_up_up2_dn\n",
    "#length(sym_up_up2_dn)\n",
    "\n",
    "sym_dn_dn_up <- intersect(sym_mrna_dn_ribo_dn, sym_ribo2_up)\n",
    "#sym_dn_dn2_up <- intersect(sym_dn_dn_up, sym_protein_dn)\n",
    "#sym_dn_dn2_up\n",
    "#length(sym_dn_dn2_up)\n"
   ]
  },
  {
   "cell_type": "markdown",
   "metadata": {},
   "source": [
    "# save riboprof_170224_161021.rdata"
   ]
  },
  {
   "cell_type": "code",
   "execution_count": 388,
   "metadata": {},
   "outputs": [
    {
     "name": "stdout",
     "output_type": "stream",
     "text": [
      "./rdata/riboprof_170224.rdna_rn18s_161021.rdna_rn18s_limma-voom.mrna.rdata\n"
     ]
    }
   ],
   "source": [
    "\n",
    "fname_out <- sprintf(\"./rdata/riboprof_170224%s_161021%s_%s.rdata\",\n",
    "                     rundate_appendix, rundate_appendix, strdir)\n",
    "verb('%s\\n', fname_out)\n",
    "save(\n",
    "     # raw counts\n",
    "     df_count_mrna, df_count_ribo,\n",
    "     # dectected\n",
    "     sym_rnaseq, sym_riboseq,\n",
    "     # detected in the both platform or only one of them. \n",
    "     sym_detected_both, sym_detected_rnaseq_only, sym_detected_riboseq_only,\n",
    "     # comprehensive tables \n",
    "     df_all, \n",
    "     #df_protein,\n",
    "     # transcription tfgb48\n",
    "     sym_mrna, sym_mrna_up, sym_mrna_dn, sym_mrna_no,\n",
    "     # transcription tgfb48+27h+cx\n",
    "     sym_mrna2, sym_mrna2_up, sym_mrna2_dn, sym_mrna2_no,\n",
    "     # translation tgfb48\n",
    "     sym_ribo, sym_ribo_up, sym_ribo_dn, sym_ribo_no,\n",
    "     # translation tgfb48+27h+cx\n",
    "     sym_ribo2, sym_ribo2_up, sym_ribo2_dn, sym_ribo2_no,\n",
    "    \n",
    "     # transcription tfgb48, no effect on translation tgfb48\n",
    "     # detected in both data sets\n",
    "     sym_mrna_up_ribo_no, sym_mrna_dn_ribo_no,\n",
    "     sym_mrna_de_ribo_no, sym_mrna_only,\n",
    "     # translation tfgb48, no effect on transcription tgfb48\n",
    "     # detected in both data sets \n",
    "     sym_mrna_no_ribo_up, sym_mrna_no_ribo_dn,\n",
    "     sym_mrna_no_ribo_de, sym_ribo_only,\n",
    "     \n",
    "     # transcription tfgb48, translation tfgb48\n",
    "     # detected in both data sets\n",
    "     sym_mrna_up_ribo_up, sym_mrna_dn_ribo_dn,\n",
    "     sym_mrna_up_ribo_dn, sym_mrna_dn_ribo_up,\n",
    "    \n",
    "     ###### CX\n",
    "     # transcription tgfb48, tgfb48+27h+cx\n",
    "     sym_mrna_up_cx_dn, sym_mrna_dn_cx_up, sym_mrna_dn3x_cx_no,\n",
    "     sym_mrna_up_cx_up, sym_mrna_dn_cx_dn,\n",
    "     # translation tgfb48, tgfb48+27h+cx\n",
    "     sym_ribo_up_cx_dn, sym_ribo_dn_cx_up, sym_ribo_dn3x_cx_no,\n",
    "     sym_ribo_up_cx_up, sym_ribo_dn_cx_dn,\n",
    "     sym_ribo_cx_exclusively_affected,\n",
    "     sym_ribo_cx_exclusively_affected_up,\n",
    "     sym_ribo_cx_exclusively_affected_dn,\n",
    "     sym_ribo_cx_unaffected,\n",
    "     # translation tgfb48, tgfb48+27h+cx, no effect on transcription tgfb48\n",
    "     # detected in both data sets\n",
    "     sym_mrna_no_ribo_up_cx_dn, sym_mrna_no_ribo_dn_cx_up,\n",
    "     sym_mrna_no_ribo_up_cx_up, sym_mrna_no_ribo_dn_cx_dn,\n",
    "     sym_mrna_no_ribo_de_cx_unaffected, \n",
    "     # transcription tfgb48, translation tgfb48, tgfb48+27h+cx\n",
    "     # detected in both platforms \n",
    "     sym_up_up_dn, sym_dn_dn_up,\n",
    "    \n",
    "     ###### protein mass spec.    \n",
    "     # mass spec. tgfb48\n",
    "     #sym_protein_up, sym_protein_dn,\n",
    "     # transcription tfgb48, translation tgfb48, mass spec. tgfb48, tgfb48+27h+cx up\n",
    "     # detected in three platforms\n",
    "     #sym_up_up2_dn, sym_dn_dn2_up,\n",
    "     \n",
    "     ## list_genes\n",
    "     list_genes,\n",
    "    \n",
    "     file=fname_out)"
   ]
  },
  {
   "cell_type": "markdown",
   "metadata": {},
   "source": [
    "# additional check"
   ]
  },
  {
   "cell_type": "code",
   "execution_count": 389,
   "metadata": {},
   "outputs": [
    {
     "data": {
      "text/html": [
       "<style>\n",
       ".list-inline {list-style: none; margin:0; padding: 0}\n",
       ".list-inline>li {display: inline-block}\n",
       ".list-inline>li:not(:last-child)::after {content: \"\\00b7\"; padding: 0 .5ex}\n",
       "</style>\n",
       "<ol class=list-inline><li>FALSE</li><li>FALSE</li></ol>\n"
      ],
      "text/latex": [
       "\\begin{enumerate*}\n",
       "\\item FALSE\n",
       "\\item FALSE\n",
       "\\end{enumerate*}\n"
      ],
      "text/markdown": [
       "1. FALSE\n",
       "2. FALSE\n",
       "\n",
       "\n"
      ],
      "text/plain": [
       "[1] FALSE FALSE"
      ]
     },
     "metadata": {},
     "output_type": "display_data"
    },
    {
     "data": {
      "text/html": [
       "<style>\n",
       ".list-inline {list-style: none; margin:0; padding: 0}\n",
       ".list-inline>li {display: inline-block}\n",
       ".list-inline>li:not(:last-child)::after {content: \"\\00b7\"; padding: 0 .5ex}\n",
       "</style>\n",
       "<ol class=list-inline><li>FALSE</li><li>FALSE</li></ol>\n"
      ],
      "text/latex": [
       "\\begin{enumerate*}\n",
       "\\item FALSE\n",
       "\\item FALSE\n",
       "\\end{enumerate*}\n"
      ],
      "text/markdown": [
       "1. FALSE\n",
       "2. FALSE\n",
       "\n",
       "\n"
      ],
      "text/plain": [
       "[1] FALSE FALSE"
      ]
     },
     "metadata": {},
     "output_type": "display_data"
    },
    {
     "data": {
      "text/html": [
       "<style>\n",
       ".list-inline {list-style: none; margin:0; padding: 0}\n",
       ".list-inline>li {display: inline-block}\n",
       ".list-inline>li:not(:last-child)::after {content: \"\\00b7\"; padding: 0 .5ex}\n",
       "</style>\n",
       "<ol class=list-inline><li>FALSE</li><li>FALSE</li></ol>\n"
      ],
      "text/latex": [
       "\\begin{enumerate*}\n",
       "\\item FALSE\n",
       "\\item FALSE\n",
       "\\end{enumerate*}\n"
      ],
      "text/markdown": [
       "1. FALSE\n",
       "2. FALSE\n",
       "\n",
       "\n"
      ],
      "text/plain": [
       "[1] FALSE FALSE"
      ]
     },
     "metadata": {},
     "output_type": "display_data"
    }
   ],
   "source": [
    "c('Marc2','March2') %in% sym_mrna_dn\n",
    "c('Marc2','March2') %in% sym_ribo_dn\n",
    "c('Marc2','March2') %in% sym_mrna_dn_ribo_dn"
   ]
  },
  {
   "cell_type": "code",
   "execution_count": 390,
   "metadata": {},
   "outputs": [
    {
     "data": {
      "text/html": [
       "<style>\n",
       ".list-inline {list-style: none; margin:0; padding: 0}\n",
       ".list-inline>li {display: inline-block}\n",
       ".list-inline>li:not(:last-child)::after {content: \"\\00b7\"; padding: 0 .5ex}\n",
       "</style>\n",
       "<ol class=list-inline><li>FALSE</li><li>FALSE</li></ol>\n"
      ],
      "text/latex": [
       "\\begin{enumerate*}\n",
       "\\item FALSE\n",
       "\\item FALSE\n",
       "\\end{enumerate*}\n"
      ],
      "text/markdown": [
       "1. FALSE\n",
       "2. FALSE\n",
       "\n",
       "\n"
      ],
      "text/plain": [
       "[1] FALSE FALSE"
      ]
     },
     "metadata": {},
     "output_type": "display_data"
    },
    {
     "data": {
      "text/html": [
       "<style>\n",
       ".list-inline {list-style: none; margin:0; padding: 0}\n",
       ".list-inline>li {display: inline-block}\n",
       ".list-inline>li:not(:last-child)::after {content: \"\\00b7\"; padding: 0 .5ex}\n",
       "</style>\n",
       "<ol class=list-inline><li>FALSE</li><li>FALSE</li></ol>\n"
      ],
      "text/latex": [
       "\\begin{enumerate*}\n",
       "\\item FALSE\n",
       "\\item FALSE\n",
       "\\end{enumerate*}\n"
      ],
      "text/markdown": [
       "1. FALSE\n",
       "2. FALSE\n",
       "\n",
       "\n"
      ],
      "text/plain": [
       "[1] FALSE FALSE"
      ]
     },
     "metadata": {},
     "output_type": "display_data"
    }
   ],
   "source": [
    "c('Marc2','March2') %in% sym_mrna_dn_ribo_no\n",
    "c('Marc2','March2') %in% sym_mrna_no_ribo_dn"
   ]
  },
  {
   "cell_type": "code",
   "execution_count": 391,
   "metadata": {},
   "outputs": [
    {
     "data": {
      "text/html": [
       "<table class=\"dataframe\">\n",
       "<caption>A matrix: 31 × 2 of type chr</caption>\n",
       "<thead>\n",
       "\t<tr><th></th><th scope=col>NA</th><th scope=col>NA.1</th></tr>\n",
       "</thead>\n",
       "<tbody>\n",
       "\t<tr><th scope=row>seqnames</th><td>NA</td><td>NA</td></tr>\n",
       "\t<tr><th scope=row>start</th><td>NA</td><td>NA</td></tr>\n",
       "\t<tr><th scope=row>end</th><td>NA</td><td>NA</td></tr>\n",
       "\t<tr><th scope=row>width</th><td>NA</td><td>NA</td></tr>\n",
       "\t<tr><th scope=row>strand</th><td>NA</td><td>NA</td></tr>\n",
       "\t<tr><th scope=row>source</th><td>NA</td><td>NA</td></tr>\n",
       "\t<tr><th scope=row>unt.transcription</th><td>NA</td><td>NA</td></tr>\n",
       "\t<tr><th scope=row>tgfb.transcription</th><td>NA</td><td>NA</td></tr>\n",
       "\t<tr><th scope=row>tgfbCX5461.transcription</th><td>NA</td><td>NA</td></tr>\n",
       "\t<tr><th scope=row>log2FCuntVStgfb.transcription</th><td>NA</td><td>NA</td></tr>\n",
       "\t<tr><th scope=row>FDRuntVStgfb.transcription</th><td>NA</td><td>NA</td></tr>\n",
       "\t<tr><th scope=row>PuntVStgfb.transcription</th><td>NA</td><td>NA</td></tr>\n",
       "\t<tr><th scope=row>log2FCtgfbVStgfbCX5461.transcription</th><td>NA</td><td>NA</td></tr>\n",
       "\t<tr><th scope=row>FDRtgfbVStgfbCX5461.transcription</th><td>NA</td><td>NA</td></tr>\n",
       "\t<tr><th scope=row>PtgfbVStgfbCX5461.transcription</th><td>NA</td><td>NA</td></tr>\n",
       "\t<tr><th scope=row>unt.tgfb.DEtranscription</th><td>NA</td><td>NA</td></tr>\n",
       "\t<tr><th scope=row>tgfb.tgfbCX5461.DEtranscription</th><td>NA</td><td>NA</td></tr>\n",
       "\t<tr><th scope=row>reversible.transcription</th><td>NA</td><td>NA</td></tr>\n",
       "\t<tr><th scope=row>unt.translation</th><td>NA</td><td>NA</td></tr>\n",
       "\t<tr><th scope=row>tgfb.translation</th><td>NA</td><td>NA</td></tr>\n",
       "\t<tr><th scope=row>tgfbCX5461.translation</th><td>NA</td><td>NA</td></tr>\n",
       "\t<tr><th scope=row>log2FCuntVStgfb.translation</th><td>NA</td><td>NA</td></tr>\n",
       "\t<tr><th scope=row>FDRuntVStgfb.translation</th><td>NA</td><td>NA</td></tr>\n",
       "\t<tr><th scope=row>PuntVStgfb.translation</th><td>NA</td><td>NA</td></tr>\n",
       "\t<tr><th scope=row>log2FCtgfbVStgfbCX5461.translation</th><td>NA</td><td>NA</td></tr>\n",
       "\t<tr><th scope=row>FDRtgfbVStgfbCX5461.translation</th><td>NA</td><td>NA</td></tr>\n",
       "\t<tr><th scope=row>PtgfbVStgfbCX5461.translation</th><td>NA</td><td>NA</td></tr>\n",
       "\t<tr><th scope=row>unt.tgfb.DEtranslation</th><td>NA</td><td>NA</td></tr>\n",
       "\t<tr><th scope=row>tgfb.tgfbCX5461.DEtranslation</th><td>NA</td><td>NA</td></tr>\n",
       "\t<tr><th scope=row>reversible.translation</th><td>NA</td><td>NA</td></tr>\n",
       "\t<tr><th scope=row>biotype</th><td>NA</td><td>NA</td></tr>\n",
       "</tbody>\n",
       "</table>\n"
      ],
      "text/latex": [
       "A matrix: 31 × 2 of type chr\n",
       "\\begin{tabular}{r|ll}\n",
       "  & NA & NA.1\\\\\n",
       "\\hline\n",
       "\tseqnames & NA & NA\\\\\n",
       "\tstart & NA & NA\\\\\n",
       "\tend & NA & NA\\\\\n",
       "\twidth & NA & NA\\\\\n",
       "\tstrand & NA & NA\\\\\n",
       "\tsource & NA & NA\\\\\n",
       "\tunt.transcription & NA & NA\\\\\n",
       "\ttgfb.transcription & NA & NA\\\\\n",
       "\ttgfbCX5461.transcription & NA & NA\\\\\n",
       "\tlog2FCuntVStgfb.transcription & NA & NA\\\\\n",
       "\tFDRuntVStgfb.transcription & NA & NA\\\\\n",
       "\tPuntVStgfb.transcription & NA & NA\\\\\n",
       "\tlog2FCtgfbVStgfbCX5461.transcription & NA & NA\\\\\n",
       "\tFDRtgfbVStgfbCX5461.transcription & NA & NA\\\\\n",
       "\tPtgfbVStgfbCX5461.transcription & NA & NA\\\\\n",
       "\tunt.tgfb.DEtranscription & NA & NA\\\\\n",
       "\ttgfb.tgfbCX5461.DEtranscription & NA & NA\\\\\n",
       "\treversible.transcription & NA & NA\\\\\n",
       "\tunt.translation & NA & NA\\\\\n",
       "\ttgfb.translation & NA & NA\\\\\n",
       "\ttgfbCX5461.translation & NA & NA\\\\\n",
       "\tlog2FCuntVStgfb.translation & NA & NA\\\\\n",
       "\tFDRuntVStgfb.translation & NA & NA\\\\\n",
       "\tPuntVStgfb.translation & NA & NA\\\\\n",
       "\tlog2FCtgfbVStgfbCX5461.translation & NA & NA\\\\\n",
       "\tFDRtgfbVStgfbCX5461.translation & NA & NA\\\\\n",
       "\tPtgfbVStgfbCX5461.translation & NA & NA\\\\\n",
       "\tunt.tgfb.DEtranslation & NA & NA\\\\\n",
       "\ttgfb.tgfbCX5461.DEtranslation & NA & NA\\\\\n",
       "\treversible.translation & NA & NA\\\\\n",
       "\tbiotype & NA & NA\\\\\n",
       "\\end{tabular}\n"
      ],
      "text/markdown": [
       "\n",
       "A matrix: 31 × 2 of type chr\n",
       "\n",
       "| <!--/--> | NA | NA.1 |\n",
       "|---|---|---|\n",
       "| seqnames | NA | NA |\n",
       "| start | NA | NA |\n",
       "| end | NA | NA |\n",
       "| width | NA | NA |\n",
       "| strand | NA | NA |\n",
       "| source | NA | NA |\n",
       "| unt.transcription | NA | NA |\n",
       "| tgfb.transcription | NA | NA |\n",
       "| tgfbCX5461.transcription | NA | NA |\n",
       "| log2FCuntVStgfb.transcription | NA | NA |\n",
       "| FDRuntVStgfb.transcription | NA | NA |\n",
       "| PuntVStgfb.transcription | NA | NA |\n",
       "| log2FCtgfbVStgfbCX5461.transcription | NA | NA |\n",
       "| FDRtgfbVStgfbCX5461.transcription | NA | NA |\n",
       "| PtgfbVStgfbCX5461.transcription | NA | NA |\n",
       "| unt.tgfb.DEtranscription | NA | NA |\n",
       "| tgfb.tgfbCX5461.DEtranscription | NA | NA |\n",
       "| reversible.transcription | NA | NA |\n",
       "| unt.translation | NA | NA |\n",
       "| tgfb.translation | NA | NA |\n",
       "| tgfbCX5461.translation | NA | NA |\n",
       "| log2FCuntVStgfb.translation | NA | NA |\n",
       "| FDRuntVStgfb.translation | NA | NA |\n",
       "| PuntVStgfb.translation | NA | NA |\n",
       "| log2FCtgfbVStgfbCX5461.translation | NA | NA |\n",
       "| FDRtgfbVStgfbCX5461.translation | NA | NA |\n",
       "| PtgfbVStgfbCX5461.translation | NA | NA |\n",
       "| unt.tgfb.DEtranslation | NA | NA |\n",
       "| tgfb.tgfbCX5461.DEtranslation | NA | NA |\n",
       "| reversible.translation | NA | NA |\n",
       "| biotype | NA | NA |\n",
       "\n"
      ],
      "text/plain": [
       "                                     NA NA.1\n",
       "seqnames                             NA NA  \n",
       "start                                NA NA  \n",
       "end                                  NA NA  \n",
       "width                                NA NA  \n",
       "strand                               NA NA  \n",
       "source                               NA NA  \n",
       "unt.transcription                    NA NA  \n",
       "tgfb.transcription                   NA NA  \n",
       "tgfbCX5461.transcription             NA NA  \n",
       "log2FCuntVStgfb.transcription        NA NA  \n",
       "FDRuntVStgfb.transcription           NA NA  \n",
       "PuntVStgfb.transcription             NA NA  \n",
       "log2FCtgfbVStgfbCX5461.transcription NA NA  \n",
       "FDRtgfbVStgfbCX5461.transcription    NA NA  \n",
       "PtgfbVStgfbCX5461.transcription      NA NA  \n",
       "unt.tgfb.DEtranscription             NA NA  \n",
       "tgfb.tgfbCX5461.DEtranscription      NA NA  \n",
       "reversible.transcription             NA NA  \n",
       "unt.translation                      NA NA  \n",
       "tgfb.translation                     NA NA  \n",
       "tgfbCX5461.translation               NA NA  \n",
       "log2FCuntVStgfb.translation          NA NA  \n",
       "FDRuntVStgfb.translation             NA NA  \n",
       "PuntVStgfb.translation               NA NA  \n",
       "log2FCtgfbVStgfbCX5461.translation   NA NA  \n",
       "FDRtgfbVStgfbCX5461.translation      NA NA  \n",
       "PtgfbVStgfbCX5461.translation        NA NA  \n",
       "unt.tgfb.DEtranslation               NA NA  \n",
       "tgfb.tgfbCX5461.DEtranslation        NA NA  \n",
       "reversible.translation               NA NA  \n",
       "biotype                              NA NA  "
      ]
     },
     "metadata": {},
     "output_type": "display_data"
    }
   ],
   "source": [
    "t(df_all[c('Marc2','March2'),])"
   ]
  },
  {
   "cell_type": "markdown",
   "metadata": {},
   "source": [
    "# write xlsx"
   ]
  },
  {
   "cell_type": "raw",
   "metadata": {},
   "source": [
    "\n",
    "\n",
    "11: transcription unt48 vs. tgfb48\n",
    "12: transcription tgfb48 vs. CX\n",
    "\n",
    "\n",
    "21: translation unit48 vs. tgfb48\n",
    "22: translation tgfb48 vs. CX\n",
    "\n",
    "\n",
    "11_up_21_no: up for unt48 vs. tgfb48 only in rna-seq (e.g. Ap2a1, Atp11a, Bcl9l, Ctxn1, Neat1, Ptpn13, Stx6)\n",
    "\n",
    "11_no_21_up: up for unt48 vs. tgfb48 only in ribo-seq (e.g. Abcf3, Cd14, Elovl1, Gm25360, Hsph1, Nrg1, Pot1b, Pxylp1, Rnf169, Uba6, Usp5)\n",
    "\n",
    "\n",
    "11_up_21_up_12_no_22_dn: up for unt48 vs. tgfb48 in both platform, down for tgfb48 vs. CX only in ribo-seq (e.g. Zeb1)\n",
    "\n",
    "\n",
    "11_dn_21_dn_12_no_22_up: down for unt48 vs. tgfb48 in both platform, up for tgfb48 vs. CX only in ribo-seq (e.g. Eif3k)\n",
    "\n",
    "\n",
    "11_no_21_up_12_no_22_dn: up for unt48 vs. tgfb48 only in ribo-seq, down for tgfb48 vs. CX only in ribo-seq (e.g. Fanca)\n",
    "\n",
    "11_no_21_dn_12_no_22_up: down for unt48 vs. tgfb48 only in ribo-seq, up for tgfb48 vs. CX only in ribo-seq (e.g. Eif5a, Gemin7)\n",
    "\n"
   ]
  },
  {
   "cell_type": "code",
   "execution_count": 392,
   "metadata": {},
   "outputs": [
    {
     "data": {
      "text/html": [
       "<style>\n",
       ".list-inline {list-style: none; margin:0; padding: 0}\n",
       ".list-inline>li {display: inline-block}\n",
       ".list-inline>li:not(:last-child)::after {content: \"\\00b7\"; padding: 0 .5ex}\n",
       "</style>\n",
       "<ol class=list-inline><li>'seqnames'</li><li>'start'</li><li>'end'</li><li>'width'</li><li>'strand'</li><li>'source'</li><li>'unt.transcription'</li><li>'tgfb.transcription'</li><li>'tgfbCX5461.transcription'</li><li>'log2FCuntVStgfb.transcription'</li><li>'FDRuntVStgfb.transcription'</li><li>'PuntVStgfb.transcription'</li><li>'log2FCtgfbVStgfbCX5461.transcription'</li><li>'FDRtgfbVStgfbCX5461.transcription'</li><li>'PtgfbVStgfbCX5461.transcription'</li><li>'unt.tgfb.DEtranscription'</li><li>'tgfb.tgfbCX5461.DEtranscription'</li><li>'reversible.transcription'</li><li>'unt.translation'</li><li>'tgfb.translation'</li><li>'tgfbCX5461.translation'</li><li>'log2FCuntVStgfb.translation'</li><li>'FDRuntVStgfb.translation'</li><li>'PuntVStgfb.translation'</li><li>'log2FCtgfbVStgfbCX5461.translation'</li><li>'FDRtgfbVStgfbCX5461.translation'</li><li>'PtgfbVStgfbCX5461.translation'</li><li>'unt.tgfb.DEtranslation'</li><li>'tgfb.tgfbCX5461.DEtranslation'</li><li>'reversible.translation'</li><li>'biotype'</li></ol>\n"
      ],
      "text/latex": [
       "\\begin{enumerate*}\n",
       "\\item 'seqnames'\n",
       "\\item 'start'\n",
       "\\item 'end'\n",
       "\\item 'width'\n",
       "\\item 'strand'\n",
       "\\item 'source'\n",
       "\\item 'unt.transcription'\n",
       "\\item 'tgfb.transcription'\n",
       "\\item 'tgfbCX5461.transcription'\n",
       "\\item 'log2FCuntVStgfb.transcription'\n",
       "\\item 'FDRuntVStgfb.transcription'\n",
       "\\item 'PuntVStgfb.transcription'\n",
       "\\item 'log2FCtgfbVStgfbCX5461.transcription'\n",
       "\\item 'FDRtgfbVStgfbCX5461.transcription'\n",
       "\\item 'PtgfbVStgfbCX5461.transcription'\n",
       "\\item 'unt.tgfb.DEtranscription'\n",
       "\\item 'tgfb.tgfbCX5461.DEtranscription'\n",
       "\\item 'reversible.transcription'\n",
       "\\item 'unt.translation'\n",
       "\\item 'tgfb.translation'\n",
       "\\item 'tgfbCX5461.translation'\n",
       "\\item 'log2FCuntVStgfb.translation'\n",
       "\\item 'FDRuntVStgfb.translation'\n",
       "\\item 'PuntVStgfb.translation'\n",
       "\\item 'log2FCtgfbVStgfbCX5461.translation'\n",
       "\\item 'FDRtgfbVStgfbCX5461.translation'\n",
       "\\item 'PtgfbVStgfbCX5461.translation'\n",
       "\\item 'unt.tgfb.DEtranslation'\n",
       "\\item 'tgfb.tgfbCX5461.DEtranslation'\n",
       "\\item 'reversible.translation'\n",
       "\\item 'biotype'\n",
       "\\end{enumerate*}\n"
      ],
      "text/markdown": [
       "1. 'seqnames'\n",
       "2. 'start'\n",
       "3. 'end'\n",
       "4. 'width'\n",
       "5. 'strand'\n",
       "6. 'source'\n",
       "7. 'unt.transcription'\n",
       "8. 'tgfb.transcription'\n",
       "9. 'tgfbCX5461.transcription'\n",
       "10. 'log2FCuntVStgfb.transcription'\n",
       "11. 'FDRuntVStgfb.transcription'\n",
       "12. 'PuntVStgfb.transcription'\n",
       "13. 'log2FCtgfbVStgfbCX5461.transcription'\n",
       "14. 'FDRtgfbVStgfbCX5461.transcription'\n",
       "15. 'PtgfbVStgfbCX5461.transcription'\n",
       "16. 'unt.tgfb.DEtranscription'\n",
       "17. 'tgfb.tgfbCX5461.DEtranscription'\n",
       "18. 'reversible.transcription'\n",
       "19. 'unt.translation'\n",
       "20. 'tgfb.translation'\n",
       "21. 'tgfbCX5461.translation'\n",
       "22. 'log2FCuntVStgfb.translation'\n",
       "23. 'FDRuntVStgfb.translation'\n",
       "24. 'PuntVStgfb.translation'\n",
       "25. 'log2FCtgfbVStgfbCX5461.translation'\n",
       "26. 'FDRtgfbVStgfbCX5461.translation'\n",
       "27. 'PtgfbVStgfbCX5461.translation'\n",
       "28. 'unt.tgfb.DEtranslation'\n",
       "29. 'tgfb.tgfbCX5461.DEtranslation'\n",
       "30. 'reversible.translation'\n",
       "31. 'biotype'\n",
       "\n",
       "\n"
      ],
      "text/plain": [
       " [1] \"seqnames\"                            \n",
       " [2] \"start\"                               \n",
       " [3] \"end\"                                 \n",
       " [4] \"width\"                               \n",
       " [5] \"strand\"                              \n",
       " [6] \"source\"                              \n",
       " [7] \"unt.transcription\"                   \n",
       " [8] \"tgfb.transcription\"                  \n",
       " [9] \"tgfbCX5461.transcription\"            \n",
       "[10] \"log2FCuntVStgfb.transcription\"       \n",
       "[11] \"FDRuntVStgfb.transcription\"          \n",
       "[12] \"PuntVStgfb.transcription\"            \n",
       "[13] \"log2FCtgfbVStgfbCX5461.transcription\"\n",
       "[14] \"FDRtgfbVStgfbCX5461.transcription\"   \n",
       "[15] \"PtgfbVStgfbCX5461.transcription\"     \n",
       "[16] \"unt.tgfb.DEtranscription\"            \n",
       "[17] \"tgfb.tgfbCX5461.DEtranscription\"     \n",
       "[18] \"reversible.transcription\"            \n",
       "[19] \"unt.translation\"                     \n",
       "[20] \"tgfb.translation\"                    \n",
       "[21] \"tgfbCX5461.translation\"              \n",
       "[22] \"log2FCuntVStgfb.translation\"         \n",
       "[23] \"FDRuntVStgfb.translation\"            \n",
       "[24] \"PuntVStgfb.translation\"              \n",
       "[25] \"log2FCtgfbVStgfbCX5461.translation\"  \n",
       "[26] \"FDRtgfbVStgfbCX5461.translation\"     \n",
       "[27] \"PtgfbVStgfbCX5461.translation\"       \n",
       "[28] \"unt.tgfb.DEtranslation\"              \n",
       "[29] \"tgfb.tgfbCX5461.DEtranslation\"       \n",
       "[30] \"reversible.translation\"              \n",
       "[31] \"biotype\"                             "
      ]
     },
     "metadata": {},
     "output_type": "display_data"
    }
   ],
   "source": [
    "colnames(df_all)"
   ]
  },
  {
   "cell_type": "code",
   "execution_count": 393,
   "metadata": {
    "scrolled": false
   },
   "outputs": [
    {
     "name": "stdout",
     "output_type": "stream",
     "text": [
      "11_up\n",
      "11_dn\n",
      "11_dn3x\n",
      "21_up\n",
      "21_dn\n",
      "21_dn3x\n",
      "11_up_21_up\n",
      "11_dn_21_dn\n",
      "11_up_21_dn\n",
      "11_dn_21_up\n",
      "11_up_21_no\n",
      "11_dn_21_no\n",
      "11_no_21_up\n",
      "11_no_21_dn\n",
      "12_up\n",
      "12_dn\n",
      "22_up\n",
      "22_dn\n",
      "12_up_22_no\n",
      "12_dn_22_no\n",
      "12_no_22_up\n",
      "12_no_22_dn\n",
      "12_up_22_up\n",
      "12_dn_22_dn\n",
      "12_up_22_dn\n",
      "12_dn_22_up\n",
      "11_up_21_up_22_no\n",
      "11_dn_21_dn_22_no\n",
      "11_up_21_dn_22_no\n",
      "11_dn_21_up_22_no\n",
      "11_up_21_no_22_no\n",
      "11_dn_21_no_22_no\n",
      "11_no_21_up_22_no\n",
      "11_no_21_dn_22_no\n",
      "11_no_12_up_22_up\n",
      "11_no_12_dn_22_dn\n",
      "11_no_12_up_22_dn\n",
      "11_no_12_dn_22_up\n",
      "11_no_12_up_22_no\n",
      "11_no_12_dn_22_no\n",
      "11_no_12_no_22_up\n",
      "11_no_12_no_22_dn\n",
      "11_up_21_up_12_up_22_up\n",
      "11_up_21_up_12_dn_22_dn\n",
      "11_up_21_up_12_up_22_no\n",
      "11_up_21_up_12_dn_22_no\n",
      "11_up_21_up_12_no_22_up\n",
      "11_up_21_up_12_no_22_dn\n",
      "11_up_21_up_12_up_22_dn\n",
      "11_up_21_up_12_dn_22_up\n",
      "11_dn_21_dn_12_up_22_up\n",
      "11_dn_21_dn_12_dn_22_dn\n",
      "11_dn_21_dn_12_up_22_no\n",
      "11_dn_21_dn_12_dn_22_no\n",
      "11_dn_21_dn_12_no_22_up\n",
      "11_dn_21_dn_12_no_22_dn\n",
      "11_dn_21_dn_12_up_22_dn\n",
      "11_dn_21_dn_12_dn_22_up\n",
      "11_up_21_dn_12_up_22_up\n",
      "11_up_21_dn_12_dn_22_dn\n",
      "11_up_21_dn_12_up_22_no\n",
      "11_up_21_dn_12_dn_22_no\n",
      "11_up_21_dn_12_no_22_up\n",
      "11_up_21_dn_12_no_22_dn\n",
      "11_up_21_dn_12_up_22_dn\n",
      "11_up_21_dn_12_dn_22_up\n",
      "11_dn_21_up_12_up_22_up\n",
      "11_dn_21_up_12_dn_22_dn\n",
      "11_dn_21_up_12_up_22_no\n",
      "11_dn_21_up_12_dn_22_no\n",
      "11_dn_21_up_12_no_22_up\n",
      "11_dn_21_up_12_no_22_dn\n",
      "11_dn_21_up_12_up_22_dn\n",
      "11_dn_21_up_12_dn_22_up\n",
      "11_up_21_no_12_up_22_up\n",
      "11_up_21_no_12_dn_22_dn\n",
      "11_up_21_no_12_up_22_no\n",
      "11_up_21_no_12_dn_22_no\n",
      "11_up_21_no_12_no_22_up\n",
      "11_up_21_no_12_no_22_dn\n",
      "11_up_21_no_12_up_22_dn\n",
      "11_up_21_no_12_dn_22_up\n",
      "11_dn_21_no_12_up_22_up\n",
      "11_dn_21_no_12_dn_22_dn\n",
      "11_dn_21_no_12_up_22_no\n",
      "11_dn_21_no_12_dn_22_no\n",
      "11_dn_21_no_12_no_22_up\n",
      "11_dn_21_no_12_no_22_dn\n",
      "11_dn_21_no_12_up_22_dn\n",
      "11_dn_21_no_12_dn_22_up\n",
      "11_no_21_up_12_up_22_up\n",
      "11_no_21_up_12_dn_22_dn\n",
      "11_no_21_up_12_up_22_no\n",
      "11_no_21_up_12_dn_22_no\n",
      "11_no_21_up_12_no_22_up\n",
      "11_no_21_up_12_no_22_dn\n",
      "11_no_21_up_12_up_22_dn\n",
      "11_no_21_up_12_dn_22_up\n",
      "11_no_21_dn_12_up_22_up\n",
      "11_no_21_dn_12_dn_22_dn\n",
      "11_no_21_dn_12_up_22_no\n",
      "11_no_21_dn_12_dn_22_no\n",
      "11_no_21_dn_12_no_22_up\n",
      "11_no_21_dn_12_no_22_dn\n",
      "11_no_21_dn_12_up_22_dn\n",
      "11_no_21_dn_12_dn_22_up\n"
     ]
    }
   ],
   "source": [
    "list_df <- list()\n",
    "cols <- colnames(df_all)\n",
    "cols <- cols[!(cols %in% c(\"HomoloGene.ID\",\"mouse.sym\",\"mouse.eid\",\"human.sym\",\"human.eid\"))]\n",
    "cols <- cols[!grepl('^P',cols)]\n",
    "       \n",
    "sheet_names <- names(list_genes)\n",
    "for (sname in sheet_names) {\n",
    "    #verb('%s\\n', sname)\n",
    "    list_df[[sname]] <- df_all[list_genes[[sname]], cols]\n",
    "}\n",
    "titles <- sheet_names\n",
    "subtitles <- rep(NULL,length(sheet_names))\n",
    "nv_column_width <- rep(11,ncol(df_all))\n",
    "names(nv_column_width) <- colnames(df_all)\n",
    "#write_xlsx(list_df, 'xlsx/170224_161021.xlsx', titles, subtitles, nv_column_width)\n",
    "\n",
    "dir_xlsx <- sprintf('xlsx/170224%s_161021%s_%s',\n",
    "                        rundate_appendix, rundate_appendix, strdir)\n",
    "dir.create(dir_xlsx ,  recursive = TRUE , showWarnings = FALSE)\n",
    "filename_xlsx <- sprintf('%s/170224%s_161021%s_%s.xlsx', dir_xlsx,\n",
    "                         rundate_appendix, rundate_appendix, strdir)\n",
    "\n",
    "require(openxlsx)\n",
    "wb <- createWorkbook()\n",
    "\n",
    "#hs <- createStyle(fontColour = \"#ffffff\", fgFill = \"#4F80BD\", halign = \"center\", valign = \"center\", textDecoration = \"Bold\", border = \"TopBottomLeftRight\", textRotation = 45)\n",
    "#options(\"openxlsx.borderColour\" = \"#4F80BD\")\n",
    "#options(\"openxlsx.borderStyle\" = \"thin\")\n",
    "#modifyBaseFont(wb, fontSize = 10, fontName = \"Arial Narrow\")\n",
    "\n",
    "addWorksheet(wb, sheetName='all', gridLines=TRUE)\n",
    "writeDataTable(wb, sheet=1, x=df_all[,cols],\n",
    "        colNames=TRUE, rowNames=TRUE)\n",
    "setColWidths(wb, sheet=1, cols=1:(ncol(df_all)+1),\n",
    "        widths=c(25, rep(15,7), rep(12,3), rep(15,7), rep(12,3), 20) )\n",
    "\n",
    "sheet_names <- gsub('sym_','',names(list_df))\n",
    "sheet_names <- gsub('mrna_','11_', sheet_names)\n",
    "sheet_names <- gsub('ribo_','21_', sheet_names)\n",
    "sheet_names <- gsub('mrna2_','12_', sheet_names)\n",
    "sheet_names <- gsub('ribo2_','22_', sheet_names)\n",
    "for (i in 1:length(list_df)) {\n",
    "     verb('%s\\n', sheet_names[i]) \n",
    "     addWorksheet(wb, sheetName=sheet_names[i], gridLines=TRUE)\n",
    "     writeDataTable(wb, sheet=1+i, x=list_df[[i]],\n",
    "        colNames=TRUE, rowNames=TRUE)\n",
    "     setColWidths(wb, sheet=1+i, cols=1:(ncol(df_all)+1),\n",
    "        widths=c(25, rep(15,7), rep(12,3), rep(15,7), rep(12,3), 20) )\n",
    "}\n",
    "# save xlsx\n",
    "saveWorkbook(wb, filename_xlsx, overwrite=TRUE)"
   ]
  },
  {
   "cell_type": "markdown",
   "metadata": {},
   "source": [
    "## biotype"
   ]
  },
  {
   "cell_type": "code",
   "execution_count": 394,
   "metadata": {
    "scrolled": true
   },
   "outputs": [
    {
     "data": {
      "text/html": [
       "<style>\n",
       ".list-inline {list-style: none; margin:0; padding: 0}\n",
       ".list-inline>li {display: inline-block}\n",
       ".list-inline>li:not(:last-child)::after {content: \"\\00b7\"; padding: 0 .5ex}\n",
       "</style>\n",
       "<ol class=list-inline><li>'protein_coding'</li><li>'lncRNA'</li><li>'TEC'</li><li>'transcribed_unprocessed_pseudogene'</li><li>'transcribed_processed_pseudogene'</li><li>'rRNA'</li><li>'unprocessed_pseudogene'</li><li>'misc_RNA'</li><li>'translated_unprocessed_pseudogene'</li><li>'polymorphic_pseudogene'</li><li>'processed_pseudogene'</li><li>'snoRNA'</li><li>'pseudogene'</li><li>'transcribed_unitary_pseudogene'</li><li>'scaRNA'</li><li>'snRNA'</li><li>'miRNA'</li><li>'IG_C_gene'</li><li>'Mt_rRNA'</li><li>'Mt_tRNA'</li><li>'rDNA'</li><li>'ribozyme'</li><li>'TR_C_gene'</li><li>'TR_V_gene'</li></ol>\n"
      ],
      "text/latex": [
       "\\begin{enumerate*}\n",
       "\\item 'protein\\_coding'\n",
       "\\item 'lncRNA'\n",
       "\\item 'TEC'\n",
       "\\item 'transcribed\\_unprocessed\\_pseudogene'\n",
       "\\item 'transcribed\\_processed\\_pseudogene'\n",
       "\\item 'rRNA'\n",
       "\\item 'unprocessed\\_pseudogene'\n",
       "\\item 'misc\\_RNA'\n",
       "\\item 'translated\\_unprocessed\\_pseudogene'\n",
       "\\item 'polymorphic\\_pseudogene'\n",
       "\\item 'processed\\_pseudogene'\n",
       "\\item 'snoRNA'\n",
       "\\item 'pseudogene'\n",
       "\\item 'transcribed\\_unitary\\_pseudogene'\n",
       "\\item 'scaRNA'\n",
       "\\item 'snRNA'\n",
       "\\item 'miRNA'\n",
       "\\item 'IG\\_C\\_gene'\n",
       "\\item 'Mt\\_rRNA'\n",
       "\\item 'Mt\\_tRNA'\n",
       "\\item 'rDNA'\n",
       "\\item 'ribozyme'\n",
       "\\item 'TR\\_C\\_gene'\n",
       "\\item 'TR\\_V\\_gene'\n",
       "\\end{enumerate*}\n"
      ],
      "text/markdown": [
       "1. 'protein_coding'\n",
       "2. 'lncRNA'\n",
       "3. 'TEC'\n",
       "4. 'transcribed_unprocessed_pseudogene'\n",
       "5. 'transcribed_processed_pseudogene'\n",
       "6. 'rRNA'\n",
       "7. 'unprocessed_pseudogene'\n",
       "8. 'misc_RNA'\n",
       "9. 'translated_unprocessed_pseudogene'\n",
       "10. 'polymorphic_pseudogene'\n",
       "11. 'processed_pseudogene'\n",
       "12. 'snoRNA'\n",
       "13. 'pseudogene'\n",
       "14. 'transcribed_unitary_pseudogene'\n",
       "15. 'scaRNA'\n",
       "16. 'snRNA'\n",
       "17. 'miRNA'\n",
       "18. 'IG_C_gene'\n",
       "19. 'Mt_rRNA'\n",
       "20. 'Mt_tRNA'\n",
       "21. 'rDNA'\n",
       "22. 'ribozyme'\n",
       "23. 'TR_C_gene'\n",
       "24. 'TR_V_gene'\n",
       "\n",
       "\n"
      ],
      "text/plain": [
       " [1] \"protein_coding\"                     \"lncRNA\"                            \n",
       " [3] \"TEC\"                                \"transcribed_unprocessed_pseudogene\"\n",
       " [5] \"transcribed_processed_pseudogene\"   \"rRNA\"                              \n",
       " [7] \"unprocessed_pseudogene\"             \"misc_RNA\"                          \n",
       " [9] \"translated_unprocessed_pseudogene\"  \"polymorphic_pseudogene\"            \n",
       "[11] \"processed_pseudogene\"               \"snoRNA\"                            \n",
       "[13] \"pseudogene\"                         \"transcribed_unitary_pseudogene\"    \n",
       "[15] \"scaRNA\"                             \"snRNA\"                             \n",
       "[17] \"miRNA\"                              \"IG_C_gene\"                         \n",
       "[19] \"Mt_rRNA\"                            \"Mt_tRNA\"                           \n",
       "[21] \"rDNA\"                               \"ribozyme\"                          \n",
       "[23] \"TR_C_gene\"                          \"TR_V_gene\"                         "
      ]
     },
     "metadata": {},
     "output_type": "display_data"
    }
   ],
   "source": [
    "biotypes <- unique(df_all$biotype)\n",
    "biotypes"
   ]
  },
  {
   "cell_type": "code",
   "execution_count": 395,
   "metadata": {
    "scrolled": false
   },
   "outputs": [
    {
     "name": "stdout",
     "output_type": "stream",
     "text": [
      "protein_coding\n",
      "lncRNA\n",
      "TEC\n",
      "transcribed_unprocessed_pseudogene\n",
      "transcribed_processed_pseudogene\n",
      "rRNA\n",
      "unprocessed_pseudogene\n",
      "misc_RNA\n",
      "translated_unprocessed_pseudogene\n",
      "polymorphic_pseudogene\n",
      "processed_pseudogene\n",
      "snoRNA\n",
      "pseudogene\n",
      "transcribed_unitary_pseudogene\n",
      "scaRNA\n",
      "snRNA\n",
      "miRNA\n",
      "IG_C_gene\n",
      "Mt_rRNA\n",
      "Mt_tRNA\n",
      "rDNA\n",
      "ribozyme\n",
      "TR_C_gene\n",
      "TR_V_gene\n"
     ]
    }
   ],
   "source": [
    "\n",
    "for (biotype in biotypes) {\n",
    "  verb('%s\\n', biotype)  \n",
    "  filename_xlsx <- sprintf('%s/170224%s_161021%s_%s_%s.xlsx', dir_xlsx,\n",
    "                         rundate_appendix, rundate_appendix, strdir, biotype)\n",
    "\n",
    "  require(openxlsx)\n",
    "  wb <- createWorkbook()\n",
    "\n",
    "  #hs <- createStyle(fontColour = \"#ffffff\", fgFill = \"#4F80BD\", halign = \"center\", valign = \"center\", textDecoration = \"Bold\", border = \"TopBottomLeftRight\", textRotation = 45)\n",
    "  #options(\"openxlsx.borderColour\" = \"#4F80BD\")\n",
    "  #options(\"openxlsx.borderStyle\" = \"thin\")\n",
    "  #modifyBaseFont(wb, fontSize = 10, fontName = \"Arial Narrow\")\n",
    "\n",
    "  addWorksheet(wb, sheetName='all', gridLines=TRUE)\n",
    "  df1 <- df_all\n",
    "  idx <- which(df1$biotype == biotype)\n",
    "  #verb('\\t%all: %d\\n', length(idx))  \n",
    "  if (length(idx)==0) next    \n",
    "  writeDataTable(wb, sheet=1, x=df_all[idx,!grepl('^P',colnames(df_all))],\n",
    "        colNames=TRUE, rowNames=TRUE)\n",
    "  setColWidths(wb, sheet=1, cols=1:(ncol(df_all)+1),\n",
    "        widths=c(25, rep(15,7), rep(12,3), rep(15,7), rep(12,3), 20) )    \n",
    "    \n",
    "  sheet_names <- gsub('sym_','',names(list_df))\n",
    "  sheet_names <- gsub('mrna_','11_', sheet_names)\n",
    "  sheet_names <- gsub('ribo_','21_', sheet_names)\n",
    "  sheet_names <- gsub('mrna2_','12_', sheet_names)\n",
    "  sheet_names <- gsub('ribo2_','22_', sheet_names)\n",
    "  sheet_num <- 1  \n",
    "  for (i in 1:length(list_df)) {\n",
    "     df1 <- list_df[[i]]\n",
    "     idx <- which(df1$biotype == biotype)\n",
    "     #verb('\\t%s: %d\\n', sheet_names[i], length(idx))  \n",
    "     if (length(idx)==0) next\n",
    "    \n",
    "     sheet_num <- sheet_num+1 \n",
    "     addWorksheet(wb, sheetName=sheet_names[i], gridLines=TRUE)\n",
    "     writeDataTable(wb, sheet=sheet_num, x=df1[idx,!grepl('^P',colnames(df1)),drop=F],\n",
    "        colNames=TRUE, rowNames=TRUE)\n",
    "     setColWidths(wb, sheet=sheet_num, cols=1:(ncol(df_all)+1),\n",
    "        widths=c(25, rep(15,7), rep(12,3), rep(15,7), rep(12,3), 20) )\n",
    "  }\n",
    "  # save xlsx\n",
    "  saveWorkbook(wb, filename_xlsx, overwrite=TRUE)\n",
    "}\n",
    "\n"
   ]
  },
  {
   "cell_type": "markdown",
   "metadata": {},
   "source": [
    "# write xlsx for validation"
   ]
  },
  {
   "cell_type": "markdown",
   "metadata": {},
   "source": [
    "## filter_rows_with_log2fc_fdr"
   ]
  },
  {
   "cell_type": "code",
   "execution_count": 396,
   "metadata": {},
   "outputs": [],
   "source": [
    "filter_rows_with_log2fc_fdr <- function(df, col) {\n",
    "    \n",
    "    items <- strsplit(col, \"\\\\.\")[[1]]\n",
    "    items[1] <- gsub(\"tgfb48\", \"tgfb\", items[1])\n",
    "    items[3] <- gsub(\"DE\", '', items[3])\n",
    "    col_log2fc <- sprintf(\"log2FC%sVS%s.%s\", items[1], items[2], items[3])\n",
    "    col_fdr <- sprintf(\"FDR%sVS%s.%s\", items[1], items[2], items[3])\n",
    "    \n",
    "    f_out <- rep(FALSE, nrow(df))\n",
    "    # not sig\n",
    "    f_notsig <- df[,col] == \"notSig\"\n",
    "    idx <- which(f_notsig)\n",
    "    \n",
    "    f <- (abs(df[idx, col_log2fc]) < 0.1) & (df[idx, col_fdr] > 0.25)\n",
    "    f_out[idx[f]] <- TRUE\n",
    "    \n",
    "    # up/dn\n",
    "    idx <- which(!f_notsig)\n",
    "    f <- (abs(df[idx, col_log2fc]) > log2(1.5)) & (df[idx, col_fdr] < 0.05)\n",
    "    f_out[idx[f]] <- TRUE    \n",
    "    \n",
    "    f_out\n",
    "}\n",
    "\n"
   ]
  },
  {
   "cell_type": "markdown",
   "metadata": {},
   "source": [
    "## filter_rows_for_validation"
   ]
  },
  {
   "cell_type": "code",
   "execution_count": 397,
   "metadata": {},
   "outputs": [],
   "source": [
    "filter_rows_for_validation <- function(sheet_name, df, th_log2cpm=2) {\n",
    "    \n",
    "    # large cpm for unt48 vs. tgfb48\n",
    "    f1 <- (df$unt.transcription >= th_log2cpm) | (df$tgfb.transcription >= th_log2cpm)\n",
    "    # large cpm for tgfb48 vs. CX\n",
    "    f2 <- (df$tgfb.transcription >= th_log2cpm) | (df$tgfbCX5461.transcription >= th_log2cpm)\n",
    "    f <- f1 & f2\n",
    "    \n",
    "    f <- f & filter_rows_with_log2fc_fdr(df, \"unt.tgfb.DEtranscription\")\n",
    "    f <- f & filter_rows_with_log2fc_fdr(df, \"tgfb.tgfbCX5461.DEtranscription\")\n",
    "    \n",
    "    # large cpm for unt48 vs. tgfb48\n",
    "    f1 <- (df$unt.translation >= th_log2cpm) | (df$tgfb.translation >= th_log2cpm)\n",
    "    # large cpm for tgfb48 vs. CX\n",
    "    f2 <- (df$tgfb.translation >= th_log2cpm) | (df$tgfbCX5461.translation >= th_log2cpm)\n",
    "    f <- f & (f1 & f2)\n",
    "    \n",
    "    f <- f & filter_rows_with_log2fc_fdr(df, \"unt.tgfb.DEtranslation\")\n",
    "    f <- f & filter_rows_with_log2fc_fdr(df, \"tgfb.tgfbCX5461.DEtranslation\")\n",
    "    \n",
    "    df[f, !grepl('^P',colnames(df)), drop=F]\n",
    "}"
   ]
  },
  {
   "cell_type": "code",
   "execution_count": 398,
   "metadata": {
    "scrolled": false
   },
   "outputs": [
    {
     "name": "stdout",
     "output_type": "stream",
     "text": [
      "xlsx/170224.rdna_rn18s_161021.rdna_rn18s_limma-voom.mrna/170224.rdna_rn18s_161021.rdna_rn18s_limma-voom.mrna_for_validation.xlsx\n",
      "11_up\n",
      "11_dn\n",
      "11_dn3x\n",
      "21_up\n",
      "21_dn\n",
      "21_dn3x\n",
      "11_up_21_up\n",
      "11_dn_21_dn\n",
      "11_up_21_dn\n",
      "11_dn_21_up\n",
      "11_up_21_no\n",
      "11_dn_21_no\n",
      "11_no_21_up\n",
      "11_no_21_dn\n",
      "12_up\n",
      "12_dn\n",
      "22_up\n",
      "22_dn\n",
      "12_up_22_no\n",
      "12_dn_22_no\n",
      "12_no_22_up\n",
      "12_no_22_dn\n",
      "12_up_22_up\n",
      "12_dn_22_dn\n",
      "12_up_22_dn\n",
      "12_dn_22_up\n",
      "11_up_21_up_22_no\n",
      "11_dn_21_dn_22_no\n",
      "11_up_21_dn_22_no\n",
      "11_dn_21_up_22_no\n",
      "11_up_21_no_22_no\n",
      "11_dn_21_no_22_no\n",
      "11_no_21_up_22_no\n",
      "11_no_21_dn_22_no\n",
      "11_no_12_up_22_up\n",
      "11_no_12_dn_22_dn\n",
      "11_no_12_up_22_dn\n",
      "11_no_12_dn_22_up\n",
      "11_no_12_up_22_no\n",
      "11_no_12_dn_22_no\n",
      "11_no_12_no_22_up\n",
      "11_no_12_no_22_dn\n",
      "11_up_21_up_12_up_22_up\n",
      "11_up_21_up_12_dn_22_dn\n",
      "11_up_21_up_12_up_22_no\n",
      "11_up_21_up_12_dn_22_no\n",
      "11_up_21_up_12_no_22_up\n",
      "11_up_21_up_12_no_22_dn\n",
      "11_up_21_up_12_up_22_dn\n",
      "11_up_21_up_12_dn_22_up\n",
      "11_dn_21_dn_12_up_22_up\n",
      "11_dn_21_dn_12_dn_22_dn\n",
      "11_dn_21_dn_12_up_22_no\n",
      "11_dn_21_dn_12_dn_22_no\n",
      "11_dn_21_dn_12_no_22_up\n",
      "11_dn_21_dn_12_no_22_dn\n",
      "11_dn_21_dn_12_up_22_dn\n",
      "11_dn_21_dn_12_dn_22_up\n",
      "11_up_21_dn_12_up_22_up\n",
      "11_up_21_dn_12_dn_22_dn\n",
      "11_up_21_dn_12_up_22_no\n",
      "11_up_21_dn_12_dn_22_no\n",
      "11_up_21_dn_12_no_22_up\n",
      "11_up_21_dn_12_no_22_dn\n",
      "11_up_21_dn_12_up_22_dn\n",
      "11_up_21_dn_12_dn_22_up\n",
      "11_dn_21_up_12_up_22_up\n",
      "11_dn_21_up_12_dn_22_dn\n",
      "11_dn_21_up_12_up_22_no\n",
      "11_dn_21_up_12_dn_22_no\n",
      "11_dn_21_up_12_no_22_up\n",
      "11_dn_21_up_12_no_22_dn\n",
      "11_dn_21_up_12_up_22_dn\n",
      "11_dn_21_up_12_dn_22_up\n",
      "11_up_21_no_12_up_22_up\n",
      "11_up_21_no_12_dn_22_dn\n",
      "11_up_21_no_12_up_22_no\n",
      "11_up_21_no_12_dn_22_no\n",
      "11_up_21_no_12_no_22_up\n",
      "11_up_21_no_12_no_22_dn\n",
      "11_up_21_no_12_up_22_dn\n",
      "11_up_21_no_12_dn_22_up\n",
      "11_dn_21_no_12_up_22_up\n",
      "11_dn_21_no_12_dn_22_dn\n",
      "11_dn_21_no_12_up_22_no\n",
      "11_dn_21_no_12_dn_22_no\n",
      "11_dn_21_no_12_no_22_up\n",
      "11_dn_21_no_12_no_22_dn\n",
      "11_dn_21_no_12_up_22_dn\n",
      "11_dn_21_no_12_dn_22_up\n",
      "11_no_21_up_12_up_22_up\n",
      "11_no_21_up_12_dn_22_dn\n",
      "11_no_21_up_12_up_22_no\n",
      "11_no_21_up_12_dn_22_no\n",
      "11_no_21_up_12_no_22_up\n",
      "11_no_21_up_12_no_22_dn\n",
      "11_no_21_up_12_up_22_dn\n",
      "11_no_21_up_12_dn_22_up\n",
      "11_no_21_dn_12_up_22_up\n",
      "11_no_21_dn_12_dn_22_dn\n",
      "11_no_21_dn_12_up_22_no\n",
      "11_no_21_dn_12_dn_22_no\n",
      "11_no_21_dn_12_no_22_up\n",
      "11_no_21_dn_12_no_22_dn\n",
      "11_no_21_dn_12_up_22_dn\n",
      "11_no_21_dn_12_dn_22_up\n"
     ]
    }
   ],
   "source": [
    "list_df <- list()\n",
    "cols <- colnames(df_all)\n",
    "cols <- cols[!(cols %in% c(\"HomoloGene.ID\",\"mouse.sym\",\"mouse.eid\",\"human.sym\",\"human.eid\"))]\n",
    "cols <- cols[!grepl('^P',cols)]\n",
    "\n",
    "sheet_names <- names(list_genes)\n",
    "for (sname in sheet_names) {\n",
    "    #verb('%s\\n', sname)\n",
    "    list_df[[sname]] <- df_all[list_genes[[sname]], cols]\n",
    "}\n",
    "titles <- sheet_names\n",
    "subtitles <- rep(NULL,length(sheet_names))\n",
    "nv_column_width <- rep(11,ncol(df_all))\n",
    "names(nv_column_width) <- colnames(df_all)\n",
    "#write_xlsx(list_df, 'xlsx/170224_161021.xlsx', titles, subtitles, nv_column_width)\n",
    "\n",
    "filename_xlsx <- sprintf('%s/170224%s_161021%s_%s_for_validation.xlsx', dir_xlsx,\n",
    "                         rundate_appendix, rundate_appendix, strdir)\n",
    "verb(\"%s\\n\", filename_xlsx)\n",
    "\n",
    "require(openxlsx)\n",
    "wb <- createWorkbook()\n",
    "\n",
    "#hs <- createStyle(fontColour = \"#ffffff\", fgFill = \"#4F80BD\", halign = \"center\", valign = \"center\", textDecoration = \"Bold\", border = \"TopBottomLeftRight\", textRotation = 45)\n",
    "#options(\"openxlsx.borderColour\" = \"#4F80BD\")\n",
    "#options(\"openxlsx.borderStyle\" = \"thin\")\n",
    "#modifyBaseFont(wb, fontSize = 10, fontName = \"Arial Narrow\")\n",
    "\n",
    "addWorksheet(wb, sheetName='all', gridLines=TRUE)\n",
    "writeDataTable(wb, sheet=1, x=filter_rows_for_validation(\"all\", df_all[, cols]),\n",
    "        colNames=TRUE, rowNames=TRUE)\n",
    "setColWidths(wb, sheet=1, cols=1:(ncol(df_all)+1),\n",
    "        widths=c(25, rep(15,7), rep(12,3), rep(15,7), rep(12,3), 20) )\n",
    "\n",
    "sheet_names <- gsub('sym_','',names(list_df))\n",
    "sheet_names <- gsub('mrna_','11_', sheet_names)\n",
    "sheet_names <- gsub('ribo_','21_', sheet_names)\n",
    "sheet_names <- gsub('mrna2_','12_', sheet_names)\n",
    "sheet_names <- gsub('ribo2_','22_', sheet_names)\n",
    "for (i in 1:length(list_df)) {\n",
    "     verb('%s\\n', sheet_names[i]) \n",
    "     addWorksheet(wb, sheetName=sheet_names[i], gridLines=TRUE)\n",
    "     writeDataTable(wb, sheet=1+i, x=filter_rows_for_validation(sheet_names[i], list_df[[i]]),\n",
    "        colNames=TRUE, rowNames=TRUE)\n",
    "     setColWidths(wb, sheet=1+i, cols=1:(ncol(df_all)+1),\n",
    "        widths=c(25, rep(15,7), rep(12,3), rep(15,7), rep(12,3), 20) )\n",
    "}\n",
    "# save xlsx\n",
    "saveWorkbook(wb, filename_xlsx, overwrite=TRUE)"
   ]
  },
  {
   "cell_type": "markdown",
   "metadata": {},
   "source": [
    "## 11_up_21_no"
   ]
  },
  {
   "cell_type": "code",
   "execution_count": 399,
   "metadata": {},
   "outputs": [
    {
     "data": {
      "text/html": [
       "<style>\n",
       ".list-inline {list-style: none; margin:0; padding: 0}\n",
       ".list-inline>li {display: inline-block}\n",
       ".list-inline>li:not(:last-child)::after {content: \"\\00b7\"; padding: 0 .5ex}\n",
       "</style>\n",
       "<ol class=list-inline><li>1917</li><li>27</li></ol>\n"
      ],
      "text/latex": [
       "\\begin{enumerate*}\n",
       "\\item 1917\n",
       "\\item 27\n",
       "\\end{enumerate*}\n"
      ],
      "text/markdown": [
       "1. 1917\n",
       "2. 27\n",
       "\n",
       "\n"
      ],
      "text/plain": [
       "[1] 1917   27"
      ]
     },
     "metadata": {},
     "output_type": "display_data"
    },
    {
     "data": {
      "text/html": [
       "<table class=\"dataframe\">\n",
       "<caption>A data.frame: 1 × 27</caption>\n",
       "<thead>\n",
       "\t<tr><th></th><th scope=col>seqnames</th><th scope=col>start</th><th scope=col>end</th><th scope=col>width</th><th scope=col>strand</th><th scope=col>source</th><th scope=col>unt.transcription</th><th scope=col>tgfb.transcription</th><th scope=col>tgfbCX5461.transcription</th><th scope=col>log2FCuntVStgfb.transcription</th><th scope=col>...</th><th scope=col>tgfb.translation</th><th scope=col>tgfbCX5461.translation</th><th scope=col>log2FCuntVStgfb.translation</th><th scope=col>FDRuntVStgfb.translation</th><th scope=col>log2FCtgfbVStgfbCX5461.translation</th><th scope=col>FDRtgfbVStgfbCX5461.translation</th><th scope=col>unt.tgfb.DEtranslation</th><th scope=col>tgfb.tgfbCX5461.DEtranslation</th><th scope=col>reversible.translation</th><th scope=col>biotype</th></tr>\n",
       "\t<tr><th></th><th scope=col>&lt;fct&gt;</th><th scope=col>&lt;int&gt;</th><th scope=col>&lt;int&gt;</th><th scope=col>&lt;int&gt;</th><th scope=col>&lt;fct&gt;</th><th scope=col>&lt;fct&gt;</th><th scope=col>&lt;dbl&gt;</th><th scope=col>&lt;dbl&gt;</th><th scope=col>&lt;dbl&gt;</th><th scope=col>&lt;dbl&gt;</th><th scope=col>...</th><th scope=col>&lt;dbl&gt;</th><th scope=col>&lt;dbl&gt;</th><th scope=col>&lt;dbl&gt;</th><th scope=col>&lt;dbl&gt;</th><th scope=col>&lt;dbl&gt;</th><th scope=col>&lt;dbl&gt;</th><th scope=col>&lt;chr&gt;</th><th scope=col>&lt;chr&gt;</th><th scope=col>&lt;chr&gt;</th><th scope=col>&lt;chr&gt;</th></tr>\n",
       "</thead>\n",
       "<tbody>\n",
       "\t<tr><th scope=row>Timp2</th><td>11</td><td>118191895</td><td>118246566</td><td>54672</td><td>-</td><td>ensembl_havana</td><td>3.702578</td><td>4.61324</td><td>4.684573</td><td>0.9106621</td><td>...</td><td>3.152708</td><td>3.166464</td><td>0.03675525</td><td>0.8477296</td><td>0.01375588</td><td>0.9588233</td><td>notSig</td><td>notSig</td><td>notSig</td><td>protein_coding</td></tr>\n",
       "</tbody>\n",
       "</table>\n"
      ],
      "text/latex": [
       "A data.frame: 1 × 27\n",
       "\\begin{tabular}{r|lllllllllllllllllllll}\n",
       "  & seqnames & start & end & width & strand & source & unt.transcription & tgfb.transcription & tgfbCX5461.transcription & log2FCuntVStgfb.transcription & ... & tgfb.translation & tgfbCX5461.translation & log2FCuntVStgfb.translation & FDRuntVStgfb.translation & log2FCtgfbVStgfbCX5461.translation & FDRtgfbVStgfbCX5461.translation & unt.tgfb.DEtranslation & tgfb.tgfbCX5461.DEtranslation & reversible.translation & biotype\\\\\n",
       "  & <fct> & <int> & <int> & <int> & <fct> & <fct> & <dbl> & <dbl> & <dbl> & <dbl> & ... & <dbl> & <dbl> & <dbl> & <dbl> & <dbl> & <dbl> & <chr> & <chr> & <chr> & <chr>\\\\\n",
       "\\hline\n",
       "\tTimp2 & 11 & 118191895 & 118246566 & 54672 & - & ensembl\\_havana & 3.702578 & 4.61324 & 4.684573 & 0.9106621 & ... & 3.152708 & 3.166464 & 0.03675525 & 0.8477296 & 0.01375588 & 0.9588233 & notSig & notSig & notSig & protein\\_coding\\\\\n",
       "\\end{tabular}\n"
      ],
      "text/markdown": [
       "\n",
       "A data.frame: 1 × 27\n",
       "\n",
       "| <!--/--> | seqnames &lt;fct&gt; | start &lt;int&gt; | end &lt;int&gt; | width &lt;int&gt; | strand &lt;fct&gt; | source &lt;fct&gt; | unt.transcription &lt;dbl&gt; | tgfb.transcription &lt;dbl&gt; | tgfbCX5461.transcription &lt;dbl&gt; | log2FCuntVStgfb.transcription &lt;dbl&gt; | ... ... | tgfb.translation &lt;dbl&gt; | tgfbCX5461.translation &lt;dbl&gt; | log2FCuntVStgfb.translation &lt;dbl&gt; | FDRuntVStgfb.translation &lt;dbl&gt; | log2FCtgfbVStgfbCX5461.translation &lt;dbl&gt; | FDRtgfbVStgfbCX5461.translation &lt;dbl&gt; | unt.tgfb.DEtranslation &lt;chr&gt; | tgfb.tgfbCX5461.DEtranslation &lt;chr&gt; | reversible.translation &lt;chr&gt; | biotype &lt;chr&gt; |\n",
       "|---|---|---|---|---|---|---|---|---|---|---|---|---|---|---|---|---|---|---|---|---|---|\n",
       "| Timp2 | 11 | 118191895 | 118246566 | 54672 | - | ensembl_havana | 3.702578 | 4.61324 | 4.684573 | 0.9106621 | ... | 3.152708 | 3.166464 | 0.03675525 | 0.8477296 | 0.01375588 | 0.9588233 | notSig | notSig | notSig | protein_coding |\n",
       "\n"
      ],
      "text/plain": [
       "      seqnames start     end       width strand source        \n",
       "Timp2 11       118191895 118246566 54672 -      ensembl_havana\n",
       "      unt.transcription tgfb.transcription tgfbCX5461.transcription\n",
       "Timp2 3.702578          4.61324            4.684573                \n",
       "      log2FCuntVStgfb.transcription ... tgfb.translation tgfbCX5461.translation\n",
       "Timp2 0.9106621                     ... 3.152708         3.166464              \n",
       "      log2FCuntVStgfb.translation FDRuntVStgfb.translation\n",
       "Timp2 0.03675525                  0.8477296               \n",
       "      log2FCtgfbVStgfbCX5461.translation FDRtgfbVStgfbCX5461.translation\n",
       "Timp2 0.01375588                         0.9588233                      \n",
       "      unt.tgfb.DEtranslation tgfb.tgfbCX5461.DEtranslation\n",
       "Timp2 notSig                 notSig                       \n",
       "      reversible.translation biotype       \n",
       "Timp2 notSig                 protein_coding"
      ]
     },
     "metadata": {},
     "output_type": "display_data"
    }
   ],
   "source": [
    "# 11_up_21_no: up for unt48 vs. tgfb48 only in rna-seq\n",
    "name1 <- \"11_up_21_no\"\n",
    "idx <- which(sheet_names==name1)\n",
    "# DE3: 1340\n",
    "# DE4: 1272\n",
    "dim(list_df[[idx]])\n",
    "\n",
    "# DE3: Ap2a1, Atp11a, Bcl9l, Ctxn1, Neat1, Ptpn13, Stx6\n",
    "# DE4: Bcl9l, Neat1\n",
    "filter_rows_for_validation(name1, list_df[[idx]])"
   ]
  },
  {
   "cell_type": "markdown",
   "metadata": {},
   "source": [
    "## 11_no_21_up"
   ]
  },
  {
   "cell_type": "code",
   "execution_count": 400,
   "metadata": {
    "scrolled": false
   },
   "outputs": [
    {
     "data": {
      "text/html": [
       "<style>\n",
       ".list-inline {list-style: none; margin:0; padding: 0}\n",
       ".list-inline>li {display: inline-block}\n",
       ".list-inline>li:not(:last-child)::after {content: \"\\00b7\"; padding: 0 .5ex}\n",
       "</style>\n",
       "<ol class=list-inline><li>288</li><li>27</li></ol>\n"
      ],
      "text/latex": [
       "\\begin{enumerate*}\n",
       "\\item 288\n",
       "\\item 27\n",
       "\\end{enumerate*}\n"
      ],
      "text/markdown": [
       "1. 288\n",
       "2. 27\n",
       "\n",
       "\n"
      ],
      "text/plain": [
       "[1] 288  27"
      ]
     },
     "metadata": {},
     "output_type": "display_data"
    },
    {
     "data": {
      "text/html": [
       "<table class=\"dataframe\">\n",
       "<caption>A matrix: 27 × 1 of type chr</caption>\n",
       "<thead>\n",
       "\t<tr><th></th><th scope=col>mt-Nd1</th></tr>\n",
       "</thead>\n",
       "<tbody>\n",
       "\t<tr><th scope=row>seqnames</th><td>MT            </td></tr>\n",
       "\t<tr><th scope=row>start</th><td>2751          </td></tr>\n",
       "\t<tr><th scope=row>end</th><td>3707          </td></tr>\n",
       "\t<tr><th scope=row>width</th><td>957           </td></tr>\n",
       "\t<tr><th scope=row>strand</th><td>+             </td></tr>\n",
       "\t<tr><th scope=row>source</th><td>RefSeq        </td></tr>\n",
       "\t<tr><th scope=row>unt.transcription</th><td>6.095172      </td></tr>\n",
       "\t<tr><th scope=row>tgfb.transcription</th><td>6.006088      </td></tr>\n",
       "\t<tr><th scope=row>tgfbCX5461.transcription</th><td>5.933917      </td></tr>\n",
       "\t<tr><th scope=row>log2FCuntVStgfb.transcription</th><td>-0.08908384   </td></tr>\n",
       "\t<tr><th scope=row>FDRuntVStgfb.transcription</th><td>0.4849381     </td></tr>\n",
       "\t<tr><th scope=row>log2FCtgfbVStgfbCX5461.transcription</th><td>-0.07217076   </td></tr>\n",
       "\t<tr><th scope=row>FDRtgfbVStgfbCX5461.transcription</th><td>0.754093      </td></tr>\n",
       "\t<tr><th scope=row>unt.tgfb.DEtranscription</th><td>notSig        </td></tr>\n",
       "\t<tr><th scope=row>tgfb.tgfbCX5461.DEtranscription</th><td>notSig        </td></tr>\n",
       "\t<tr><th scope=row>reversible.transcription</th><td>notSig        </td></tr>\n",
       "\t<tr><th scope=row>unt.translation</th><td>1.918067      </td></tr>\n",
       "\t<tr><th scope=row>tgfb.translation</th><td>3.083192      </td></tr>\n",
       "\t<tr><th scope=row>tgfbCX5461.translation</th><td>2.049343      </td></tr>\n",
       "\t<tr><th scope=row>log2FCuntVStgfb.translation</th><td>1.165125      </td></tr>\n",
       "\t<tr><th scope=row>FDRuntVStgfb.translation</th><td>6.528e-08     </td></tr>\n",
       "\t<tr><th scope=row>log2FCtgfbVStgfbCX5461.translation</th><td>-1.03385      </td></tr>\n",
       "\t<tr><th scope=row>FDRtgfbVStgfbCX5461.translation</th><td>1.99832e-05   </td></tr>\n",
       "\t<tr><th scope=row>unt.tgfb.DEtranslation</th><td>up            </td></tr>\n",
       "\t<tr><th scope=row>tgfb.tgfbCX5461.DEtranslation</th><td>down          </td></tr>\n",
       "\t<tr><th scope=row>reversible.translation</th><td>upDown        </td></tr>\n",
       "\t<tr><th scope=row>biotype</th><td>protein_coding</td></tr>\n",
       "</tbody>\n",
       "</table>\n"
      ],
      "text/latex": [
       "A matrix: 27 × 1 of type chr\n",
       "\\begin{tabular}{r|l}\n",
       "  & mt-Nd1\\\\\n",
       "\\hline\n",
       "\tseqnames & MT            \\\\\n",
       "\tstart & 2751          \\\\\n",
       "\tend & 3707          \\\\\n",
       "\twidth & 957           \\\\\n",
       "\tstrand & +             \\\\\n",
       "\tsource & RefSeq        \\\\\n",
       "\tunt.transcription & 6.095172      \\\\\n",
       "\ttgfb.transcription & 6.006088      \\\\\n",
       "\ttgfbCX5461.transcription & 5.933917      \\\\\n",
       "\tlog2FCuntVStgfb.transcription & -0.08908384   \\\\\n",
       "\tFDRuntVStgfb.transcription & 0.4849381     \\\\\n",
       "\tlog2FCtgfbVStgfbCX5461.transcription & -0.07217076   \\\\\n",
       "\tFDRtgfbVStgfbCX5461.transcription & 0.754093      \\\\\n",
       "\tunt.tgfb.DEtranscription & notSig        \\\\\n",
       "\ttgfb.tgfbCX5461.DEtranscription & notSig        \\\\\n",
       "\treversible.transcription & notSig        \\\\\n",
       "\tunt.translation & 1.918067      \\\\\n",
       "\ttgfb.translation & 3.083192      \\\\\n",
       "\ttgfbCX5461.translation & 2.049343      \\\\\n",
       "\tlog2FCuntVStgfb.translation & 1.165125      \\\\\n",
       "\tFDRuntVStgfb.translation & 6.528e-08     \\\\\n",
       "\tlog2FCtgfbVStgfbCX5461.translation & -1.03385      \\\\\n",
       "\tFDRtgfbVStgfbCX5461.translation & 1.99832e-05   \\\\\n",
       "\tunt.tgfb.DEtranslation & up            \\\\\n",
       "\ttgfb.tgfbCX5461.DEtranslation & down          \\\\\n",
       "\treversible.translation & upDown        \\\\\n",
       "\tbiotype & protein\\_coding\\\\\n",
       "\\end{tabular}\n"
      ],
      "text/markdown": [
       "\n",
       "A matrix: 27 × 1 of type chr\n",
       "\n",
       "| <!--/--> | mt-Nd1 |\n",
       "|---|---|\n",
       "| seqnames | MT             |\n",
       "| start | 2751           |\n",
       "| end | 3707           |\n",
       "| width | 957            |\n",
       "| strand | +              |\n",
       "| source | RefSeq         |\n",
       "| unt.transcription | 6.095172       |\n",
       "| tgfb.transcription | 6.006088       |\n",
       "| tgfbCX5461.transcription | 5.933917       |\n",
       "| log2FCuntVStgfb.transcription | -0.08908384    |\n",
       "| FDRuntVStgfb.transcription | 0.4849381      |\n",
       "| log2FCtgfbVStgfbCX5461.transcription | -0.07217076    |\n",
       "| FDRtgfbVStgfbCX5461.transcription | 0.754093       |\n",
       "| unt.tgfb.DEtranscription | notSig         |\n",
       "| tgfb.tgfbCX5461.DEtranscription | notSig         |\n",
       "| reversible.transcription | notSig         |\n",
       "| unt.translation | 1.918067       |\n",
       "| tgfb.translation | 3.083192       |\n",
       "| tgfbCX5461.translation | 2.049343       |\n",
       "| log2FCuntVStgfb.translation | 1.165125       |\n",
       "| FDRuntVStgfb.translation | 6.528e-08      |\n",
       "| log2FCtgfbVStgfbCX5461.translation | -1.03385       |\n",
       "| FDRtgfbVStgfbCX5461.translation | 1.99832e-05    |\n",
       "| unt.tgfb.DEtranslation | up             |\n",
       "| tgfb.tgfbCX5461.DEtranslation | down           |\n",
       "| reversible.translation | upDown         |\n",
       "| biotype | protein_coding |\n",
       "\n"
      ],
      "text/plain": [
       "                                     mt-Nd1        \n",
       "seqnames                             MT            \n",
       "start                                2751          \n",
       "end                                  3707          \n",
       "width                                957           \n",
       "strand                               +             \n",
       "source                               RefSeq        \n",
       "unt.transcription                    6.095172      \n",
       "tgfb.transcription                   6.006088      \n",
       "tgfbCX5461.transcription             5.933917      \n",
       "log2FCuntVStgfb.transcription        -0.08908384   \n",
       "FDRuntVStgfb.transcription           0.4849381     \n",
       "log2FCtgfbVStgfbCX5461.transcription -0.07217076   \n",
       "FDRtgfbVStgfbCX5461.transcription    0.754093      \n",
       "unt.tgfb.DEtranscription             notSig        \n",
       "tgfb.tgfbCX5461.DEtranscription      notSig        \n",
       "reversible.transcription             notSig        \n",
       "unt.translation                      1.918067      \n",
       "tgfb.translation                     3.083192      \n",
       "tgfbCX5461.translation               2.049343      \n",
       "log2FCuntVStgfb.translation          1.165125      \n",
       "FDRuntVStgfb.translation             6.528e-08     \n",
       "log2FCtgfbVStgfbCX5461.translation   -1.03385      \n",
       "FDRtgfbVStgfbCX5461.translation      1.99832e-05   \n",
       "unt.tgfb.DEtranslation               up            \n",
       "tgfb.tgfbCX5461.DEtranslation        down          \n",
       "reversible.translation               upDown        \n",
       "biotype                              protein_coding"
      ]
     },
     "metadata": {},
     "output_type": "display_data"
    }
   ],
   "source": [
    "# 11_no_21_up\n",
    "# 11_no: no change for unt48 vs. tgfb48 only in RNA-seq\n",
    "# 21_up: up for unt48 vs. tgfb48 only in RPF-seq\n",
    "name1 <- \"11_no_21_up\"\n",
    "idx <- which(sheet_names==name1)\n",
    "# DE3: 180\n",
    "# DE4: 161\n",
    "dim(list_df[[idx]])\n",
    "\n",
    "# DE3: Abcf3, Cd14, Elovl1, Gm25360, Hsph1, Nrg1, Pot1b, Pxylp1, Rnf169, Uba6, Usp5\n",
    "# DE4: Abcf3, Cd14, Elovl1, Hexim1, Hsph1, Nrg1, Rnf169, Usp5\n",
    "df_out <- filter_rows_for_validation(name1, list_df[[idx]])\n",
    "t(df_out)"
   ]
  },
  {
   "cell_type": "markdown",
   "metadata": {},
   "source": [
    "## 11_up_21_up_12_no_22_dn"
   ]
  },
  {
   "cell_type": "code",
   "execution_count": 401,
   "metadata": {
    "scrolled": false
   },
   "outputs": [
    {
     "data": {
      "text/html": [
       "<style>\n",
       ".list-inline {list-style: none; margin:0; padding: 0}\n",
       ".list-inline>li {display: inline-block}\n",
       ".list-inline>li:not(:last-child)::after {content: \"\\00b7\"; padding: 0 .5ex}\n",
       "</style>\n",
       "<ol class=list-inline><li>168</li><li>27</li></ol>\n"
      ],
      "text/latex": [
       "\\begin{enumerate*}\n",
       "\\item 168\n",
       "\\item 27\n",
       "\\end{enumerate*}\n"
      ],
      "text/markdown": [
       "1. 168\n",
       "2. 27\n",
       "\n",
       "\n"
      ],
      "text/plain": [
       "[1] 168  27"
      ]
     },
     "metadata": {},
     "output_type": "display_data"
    },
    {
     "data": {
      "text/html": [
       "<table class=\"dataframe\">\n",
       "<caption>A data.frame: 22 × 27</caption>\n",
       "<thead>\n",
       "\t<tr><th></th><th scope=col>seqnames</th><th scope=col>start</th><th scope=col>end</th><th scope=col>width</th><th scope=col>strand</th><th scope=col>source</th><th scope=col>unt.transcription</th><th scope=col>tgfb.transcription</th><th scope=col>tgfbCX5461.transcription</th><th scope=col>log2FCuntVStgfb.transcription</th><th scope=col>...</th><th scope=col>tgfb.translation</th><th scope=col>tgfbCX5461.translation</th><th scope=col>log2FCuntVStgfb.translation</th><th scope=col>FDRuntVStgfb.translation</th><th scope=col>log2FCtgfbVStgfbCX5461.translation</th><th scope=col>FDRtgfbVStgfbCX5461.translation</th><th scope=col>unt.tgfb.DEtranslation</th><th scope=col>tgfb.tgfbCX5461.DEtranslation</th><th scope=col>reversible.translation</th><th scope=col>biotype</th></tr>\n",
       "\t<tr><th></th><th scope=col>&lt;fct&gt;</th><th scope=col>&lt;int&gt;</th><th scope=col>&lt;int&gt;</th><th scope=col>&lt;int&gt;</th><th scope=col>&lt;fct&gt;</th><th scope=col>&lt;fct&gt;</th><th scope=col>&lt;dbl&gt;</th><th scope=col>&lt;dbl&gt;</th><th scope=col>&lt;dbl&gt;</th><th scope=col>&lt;dbl&gt;</th><th scope=col>...</th><th scope=col>&lt;dbl&gt;</th><th scope=col>&lt;dbl&gt;</th><th scope=col>&lt;dbl&gt;</th><th scope=col>&lt;dbl&gt;</th><th scope=col>&lt;dbl&gt;</th><th scope=col>&lt;dbl&gt;</th><th scope=col>&lt;chr&gt;</th><th scope=col>&lt;chr&gt;</th><th scope=col>&lt;chr&gt;</th><th scope=col>&lt;chr&gt;</th></tr>\n",
       "</thead>\n",
       "<tbody>\n",
       "\t<tr><th scope=row>Akr1b3</th><td>6 </td><td> 34279369</td><td> 34294413</td><td> 15045</td><td>-</td><td>ensembl_havana</td><td> 1.5021399</td><td>3.404960</td><td>3.491553</td><td>1.9028201</td><td>...</td><td>2.728316</td><td>1.3137932</td><td>2.4870701</td><td>2.249105e-04</td><td>-1.4145226</td><td>1.821304e-02</td><td>up</td><td>down</td><td>upDown</td><td>protein_coding</td></tr>\n",
       "\t<tr><th scope=row>Col4a1</th><td>8 </td><td> 11248423</td><td> 11362826</td><td>114404</td><td>-</td><td>ensembl_havana</td><td> 3.2556386</td><td>5.325969</td><td>5.390736</td><td>2.0703301</td><td>...</td><td>4.948415</td><td>2.9929565</td><td>2.6071701</td><td>0.000000e+00</td><td>-1.9554584</td><td>1.000000e-11</td><td>up</td><td>down</td><td>upDown</td><td>protein_coding</td></tr>\n",
       "\t<tr><th scope=row>Colgalt1</th><td>8 </td><td> 72063642</td><td> 72077555</td><td> 13914</td><td>+</td><td>ensembl_havana</td><td> 2.9508621</td><td>4.418117</td><td>4.467390</td><td>1.4672553</td><td>...</td><td>4.062421</td><td>3.4009698</td><td>1.9474767</td><td>0.000000e+00</td><td>-0.6614512</td><td>5.247929e-05</td><td>up</td><td>down</td><td>upDown</td><td>protein_coding</td></tr>\n",
       "\t<tr><th scope=row>D630003M21Rik</th><td>2 </td><td>158024453</td><td>158071142</td><td> 46690</td><td>-</td><td>ensembl_havana</td><td> 0.2401005</td><td>2.755146</td><td>2.802101</td><td>2.5150454</td><td>...</td><td>2.307610</td><td>0.8531208</td><td>3.0001153</td><td>1.100000e-10</td><td>-1.4544888</td><td>7.409930e-06</td><td>up</td><td>down</td><td>upDown</td><td>protein_coding</td></tr>\n",
       "\t<tr><th scope=row>Efemp2</th><td>19</td><td>  5523982</td><td>  5532545</td><td>  8564</td><td>+</td><td>ensembl_havana</td><td> 2.3539001</td><td>3.536365</td><td>3.609116</td><td>1.1824646</td><td>...</td><td>2.242610</td><td>1.6014558</td><td>1.2970120</td><td>5.962300e-07</td><td>-0.6411542</td><td>1.374074e-02</td><td>up</td><td>down</td><td>upDown</td><td>protein_coding</td></tr>\n",
       "\t<tr><th scope=row>Enc1</th><td>13</td><td> 97377613</td><td> 97389542</td><td> 11930</td><td>+</td><td>ensembl_havana</td><td> 1.1909819</td><td>2.437358</td><td>2.388628</td><td>1.2463757</td><td>...</td><td>2.283187</td><td>1.0844962</td><td>0.9283433</td><td>1.096159e-05</td><td>-1.1986908</td><td>4.375509e-05</td><td>up</td><td>down</td><td>upDown</td><td>protein_coding</td></tr>\n",
       "\t<tr><th scope=row>Fndc3b</th><td>3 </td><td> 27470311</td><td> 27765456</td><td>295146</td><td>-</td><td>ensembl_havana</td><td> 1.2177858</td><td>2.960893</td><td>3.008540</td><td>1.7431069</td><td>...</td><td>2.200100</td><td>1.1877016</td><td>1.3213026</td><td>4.033800e-07</td><td>-1.0123985</td><td>3.866486e-04</td><td>up</td><td>down</td><td>upDown</td><td>protein_coding</td></tr>\n",
       "\t<tr><th scope=row>Hk2</th><td>6 </td><td> 82702006</td><td> 82751435</td><td> 49430</td><td>-</td><td>ensembl_havana</td><td> 0.7010763</td><td>2.085114</td><td>2.152475</td><td>1.3840378</td><td>...</td><td>2.910086</td><td>1.9109113</td><td>1.3979067</td><td>2.295000e-08</td><td>-0.9991744</td><td>8.654022e-05</td><td>up</td><td>down</td><td>upDown</td><td>protein_coding</td></tr>\n",
       "\t<tr><th scope=row>Jup</th><td>11</td><td>100259784</td><td>100288589</td><td> 28806</td><td>-</td><td>ensembl_havana</td><td> 3.3563116</td><td>4.332686</td><td>4.402641</td><td>0.9763748</td><td>...</td><td>4.708209</td><td>3.9693213</td><td>1.3962396</td><td>8.400000e-10</td><td>-0.7388882</td><td>9.735087e-05</td><td>up</td><td>down</td><td>upDown</td><td>protein_coding</td></tr>\n",
       "\t<tr><th scope=row>Lmcd1</th><td>6 </td><td>112250719</td><td>112307386</td><td> 56668</td><td>+</td><td>ensembl_havana</td><td>-2.2793554</td><td>2.262028</td><td>2.301087</td><td>4.5413839</td><td>...</td><td>3.902408</td><td>3.1311039</td><td>3.1744348</td><td>0.000000e+00</td><td>-0.7713039</td><td>1.170752e-05</td><td>up</td><td>down</td><td>upDown</td><td>protein_coding</td></tr>\n",
       "\t<tr><th scope=row>Loxl2</th><td>14</td><td> 69846517</td><td> 69933283</td><td> 86767</td><td>+</td><td>ensembl_havana</td><td> 2.7009052</td><td>4.042003</td><td>4.071427</td><td>1.3410982</td><td>...</td><td>3.016678</td><td>1.7780552</td><td>1.8053481</td><td>3.510660e-06</td><td>-1.2386229</td><td>1.509134e-03</td><td>up</td><td>down</td><td>upDown</td><td>protein_coding</td></tr>\n",
       "\t<tr><th scope=row>Msn</th><td>X </td><td> 95139648</td><td> 95212158</td><td> 72511</td><td>+</td><td>ensembl_havana</td><td> 4.2104460</td><td>6.342298</td><td>6.391707</td><td>2.1318520</td><td>...</td><td>5.449766</td><td>4.7876647</td><td>1.5558578</td><td>0.000000e+00</td><td>-0.6621009</td><td>3.975800e-07</td><td>up</td><td>down</td><td>upDown</td><td>protein_coding</td></tr>\n",
       "\t<tr><th scope=row>mt-Atp8</th><td>MT</td><td>     7766</td><td>     7969</td><td>   204</td><td>+</td><td>RefSeq        </td><td> 3.1051339</td><td>3.762418</td><td>3.742999</td><td>0.6572838</td><td>...</td><td>2.758486</td><td>1.5716784</td><td>1.7666486</td><td>6.700000e-09</td><td>-1.1868072</td><td>5.830832e-05</td><td>up</td><td>down</td><td>upDown</td><td>protein_coding</td></tr>\n",
       "\t<tr><th scope=row>Myadm</th><td>7 </td><td>  3337605</td><td>  3348958</td><td> 11354</td><td>+</td><td>ensembl_havana</td><td> 2.2006744</td><td>4.703958</td><td>4.729324</td><td>2.5032839</td><td>...</td><td>4.109949</td><td>3.4885697</td><td>1.2481836</td><td>1.800000e-10</td><td>-0.6213790</td><td>1.492108e-04</td><td>up</td><td>down</td><td>upDown</td><td>protein_coding</td></tr>\n",
       "\t<tr><th scope=row>Myh9</th><td>15</td><td> 77644787</td><td> 77726375</td><td> 81589</td><td>-</td><td>ensembl_havana</td><td> 6.6509024</td><td>7.918561</td><td>7.954783</td><td>1.2676582</td><td>...</td><td>5.899741</td><td>4.7368435</td><td>1.2038800</td><td>0.000000e+00</td><td>-1.1628971</td><td>0.000000e+00</td><td>up</td><td>down</td><td>upDown</td><td>protein_coding</td></tr>\n",
       "\t<tr><th scope=row>Ncor2</th><td>5 </td><td>125094217</td><td>125256283</td><td>162067</td><td>-</td><td>ensembl_havana</td><td> 2.6585890</td><td>3.534376</td><td>3.551598</td><td>0.8757872</td><td>...</td><td>2.082946</td><td>1.3240847</td><td>0.8771784</td><td>1.865247e-04</td><td>-0.7588614</td><td>1.006514e-02</td><td>up</td><td>down</td><td>upDown</td><td>protein_coding</td></tr>\n",
       "\t<tr><th scope=row>Nmt1</th><td>11</td><td>102919016</td><td>102959738</td><td> 40723</td><td>+</td><td>ensembl_havana</td><td> 1.9939842</td><td>2.606884</td><td>2.568838</td><td>0.6128998</td><td>...</td><td>2.310647</td><td>1.5556961</td><td>0.6143146</td><td>9.826733e-04</td><td>-0.7549514</td><td>2.521207e-03</td><td>up</td><td>down</td><td>upDown</td><td>protein_coding</td></tr>\n",
       "\t<tr><th scope=row>Notch2</th><td>3 </td><td> 97920843</td><td> 98057677</td><td>136835</td><td>+</td><td>ensembl_havana</td><td> 3.1096530</td><td>3.870810</td><td>3.887898</td><td>0.7611568</td><td>...</td><td>2.901890</td><td>2.1497745</td><td>0.8162566</td><td>5.877210e-06</td><td>-0.7521160</td><td>5.065703e-04</td><td>up</td><td>down</td><td>upDown</td><td>protein_coding</td></tr>\n",
       "\t<tr><th scope=row>Parm1</th><td>5 </td><td> 91665474</td><td> 91774753</td><td>109280</td><td>+</td><td>ensembl_havana</td><td> 2.7992963</td><td>3.661282</td><td>3.680049</td><td>0.8619855</td><td>...</td><td>2.976846</td><td>2.1697285</td><td>1.2113307</td><td>2.783000e-08</td><td>-0.8071172</td><td>2.264543e-04</td><td>up</td><td>down</td><td>upDown</td><td>protein_coding</td></tr>\n",
       "\t<tr><th scope=row>Plxnd1</th><td>6 </td><td>115931772</td><td>115971966</td><td> 40195</td><td>-</td><td>ensembl_havana</td><td> 0.6300056</td><td>3.890855</td><td>3.822463</td><td>3.2608494</td><td>...</td><td>2.031074</td><td>0.8139823</td><td>3.1102529</td><td>1.900000e-09</td><td>-1.2170914</td><td>2.683544e-04</td><td>up</td><td>down</td><td>upDown</td><td>protein_coding</td></tr>\n",
       "\t<tr><th scope=row>Rhob</th><td>12</td><td>  8547661</td><td>  8550009</td><td>  2349</td><td>-</td><td>ensembl_havana</td><td> 0.8528061</td><td>3.655349</td><td>3.732955</td><td>2.8025432</td><td>...</td><td>5.276651</td><td>4.2505750</td><td>0.9891221</td><td>1.000000e-11</td><td>-1.0260762</td><td>1.360000e-09</td><td>up</td><td>down</td><td>upDown</td><td>protein_coding</td></tr>\n",
       "\t<tr><th scope=row>Slc7a6</th><td>8 </td><td>106895489</td><td>106925338</td><td> 29850</td><td>+</td><td>ensembl_havana</td><td> 1.4915397</td><td>2.344935</td><td>2.321206</td><td>0.8533951</td><td>...</td><td>2.567716</td><td>1.8228138</td><td>0.8341127</td><td>2.987297e-05</td><td>-0.7449018</td><td>2.280136e-03</td><td>up</td><td>down</td><td>upDown</td><td>protein_coding</td></tr>\n",
       "</tbody>\n",
       "</table>\n"
      ],
      "text/latex": [
       "A data.frame: 22 × 27\n",
       "\\begin{tabular}{r|lllllllllllllllllllll}\n",
       "  & seqnames & start & end & width & strand & source & unt.transcription & tgfb.transcription & tgfbCX5461.transcription & log2FCuntVStgfb.transcription & ... & tgfb.translation & tgfbCX5461.translation & log2FCuntVStgfb.translation & FDRuntVStgfb.translation & log2FCtgfbVStgfbCX5461.translation & FDRtgfbVStgfbCX5461.translation & unt.tgfb.DEtranslation & tgfb.tgfbCX5461.DEtranslation & reversible.translation & biotype\\\\\n",
       "  & <fct> & <int> & <int> & <int> & <fct> & <fct> & <dbl> & <dbl> & <dbl> & <dbl> & ... & <dbl> & <dbl> & <dbl> & <dbl> & <dbl> & <dbl> & <chr> & <chr> & <chr> & <chr>\\\\\n",
       "\\hline\n",
       "\tAkr1b3 & 6  &  34279369 &  34294413 &  15045 & - & ensembl\\_havana &  1.5021399 & 3.404960 & 3.491553 & 1.9028201 & ... & 2.728316 & 1.3137932 & 2.4870701 & 2.249105e-04 & -1.4145226 & 1.821304e-02 & up & down & upDown & protein\\_coding\\\\\n",
       "\tCol4a1 & 8  &  11248423 &  11362826 & 114404 & - & ensembl\\_havana &  3.2556386 & 5.325969 & 5.390736 & 2.0703301 & ... & 4.948415 & 2.9929565 & 2.6071701 & 0.000000e+00 & -1.9554584 & 1.000000e-11 & up & down & upDown & protein\\_coding\\\\\n",
       "\tColgalt1 & 8  &  72063642 &  72077555 &  13914 & + & ensembl\\_havana &  2.9508621 & 4.418117 & 4.467390 & 1.4672553 & ... & 4.062421 & 3.4009698 & 1.9474767 & 0.000000e+00 & -0.6614512 & 5.247929e-05 & up & down & upDown & protein\\_coding\\\\\n",
       "\tD630003M21Rik & 2  & 158024453 & 158071142 &  46690 & - & ensembl\\_havana &  0.2401005 & 2.755146 & 2.802101 & 2.5150454 & ... & 2.307610 & 0.8531208 & 3.0001153 & 1.100000e-10 & -1.4544888 & 7.409930e-06 & up & down & upDown & protein\\_coding\\\\\n",
       "\tEfemp2 & 19 &   5523982 &   5532545 &   8564 & + & ensembl\\_havana &  2.3539001 & 3.536365 & 3.609116 & 1.1824646 & ... & 2.242610 & 1.6014558 & 1.2970120 & 5.962300e-07 & -0.6411542 & 1.374074e-02 & up & down & upDown & protein\\_coding\\\\\n",
       "\tEnc1 & 13 &  97377613 &  97389542 &  11930 & + & ensembl\\_havana &  1.1909819 & 2.437358 & 2.388628 & 1.2463757 & ... & 2.283187 & 1.0844962 & 0.9283433 & 1.096159e-05 & -1.1986908 & 4.375509e-05 & up & down & upDown & protein\\_coding\\\\\n",
       "\tFndc3b & 3  &  27470311 &  27765456 & 295146 & - & ensembl\\_havana &  1.2177858 & 2.960893 & 3.008540 & 1.7431069 & ... & 2.200100 & 1.1877016 & 1.3213026 & 4.033800e-07 & -1.0123985 & 3.866486e-04 & up & down & upDown & protein\\_coding\\\\\n",
       "\tHk2 & 6  &  82702006 &  82751435 &  49430 & - & ensembl\\_havana &  0.7010763 & 2.085114 & 2.152475 & 1.3840378 & ... & 2.910086 & 1.9109113 & 1.3979067 & 2.295000e-08 & -0.9991744 & 8.654022e-05 & up & down & upDown & protein\\_coding\\\\\n",
       "\tJup & 11 & 100259784 & 100288589 &  28806 & - & ensembl\\_havana &  3.3563116 & 4.332686 & 4.402641 & 0.9763748 & ... & 4.708209 & 3.9693213 & 1.3962396 & 8.400000e-10 & -0.7388882 & 9.735087e-05 & up & down & upDown & protein\\_coding\\\\\n",
       "\tLmcd1 & 6  & 112250719 & 112307386 &  56668 & + & ensembl\\_havana & -2.2793554 & 2.262028 & 2.301087 & 4.5413839 & ... & 3.902408 & 3.1311039 & 3.1744348 & 0.000000e+00 & -0.7713039 & 1.170752e-05 & up & down & upDown & protein\\_coding\\\\\n",
       "\tLoxl2 & 14 &  69846517 &  69933283 &  86767 & + & ensembl\\_havana &  2.7009052 & 4.042003 & 4.071427 & 1.3410982 & ... & 3.016678 & 1.7780552 & 1.8053481 & 3.510660e-06 & -1.2386229 & 1.509134e-03 & up & down & upDown & protein\\_coding\\\\\n",
       "\tMsn & X  &  95139648 &  95212158 &  72511 & + & ensembl\\_havana &  4.2104460 & 6.342298 & 6.391707 & 2.1318520 & ... & 5.449766 & 4.7876647 & 1.5558578 & 0.000000e+00 & -0.6621009 & 3.975800e-07 & up & down & upDown & protein\\_coding\\\\\n",
       "\tmt-Atp8 & MT &      7766 &      7969 &    204 & + & RefSeq         &  3.1051339 & 3.762418 & 3.742999 & 0.6572838 & ... & 2.758486 & 1.5716784 & 1.7666486 & 6.700000e-09 & -1.1868072 & 5.830832e-05 & up & down & upDown & protein\\_coding\\\\\n",
       "\tMyadm & 7  &   3337605 &   3348958 &  11354 & + & ensembl\\_havana &  2.2006744 & 4.703958 & 4.729324 & 2.5032839 & ... & 4.109949 & 3.4885697 & 1.2481836 & 1.800000e-10 & -0.6213790 & 1.492108e-04 & up & down & upDown & protein\\_coding\\\\\n",
       "\tMyh9 & 15 &  77644787 &  77726375 &  81589 & - & ensembl\\_havana &  6.6509024 & 7.918561 & 7.954783 & 1.2676582 & ... & 5.899741 & 4.7368435 & 1.2038800 & 0.000000e+00 & -1.1628971 & 0.000000e+00 & up & down & upDown & protein\\_coding\\\\\n",
       "\tNcor2 & 5  & 125094217 & 125256283 & 162067 & - & ensembl\\_havana &  2.6585890 & 3.534376 & 3.551598 & 0.8757872 & ... & 2.082946 & 1.3240847 & 0.8771784 & 1.865247e-04 & -0.7588614 & 1.006514e-02 & up & down & upDown & protein\\_coding\\\\\n",
       "\tNmt1 & 11 & 102919016 & 102959738 &  40723 & + & ensembl\\_havana &  1.9939842 & 2.606884 & 2.568838 & 0.6128998 & ... & 2.310647 & 1.5556961 & 0.6143146 & 9.826733e-04 & -0.7549514 & 2.521207e-03 & up & down & upDown & protein\\_coding\\\\\n",
       "\tNotch2 & 3  &  97920843 &  98057677 & 136835 & + & ensembl\\_havana &  3.1096530 & 3.870810 & 3.887898 & 0.7611568 & ... & 2.901890 & 2.1497745 & 0.8162566 & 5.877210e-06 & -0.7521160 & 5.065703e-04 & up & down & upDown & protein\\_coding\\\\\n",
       "\tParm1 & 5  &  91665474 &  91774753 & 109280 & + & ensembl\\_havana &  2.7992963 & 3.661282 & 3.680049 & 0.8619855 & ... & 2.976846 & 2.1697285 & 1.2113307 & 2.783000e-08 & -0.8071172 & 2.264543e-04 & up & down & upDown & protein\\_coding\\\\\n",
       "\tPlxnd1 & 6  & 115931772 & 115971966 &  40195 & - & ensembl\\_havana &  0.6300056 & 3.890855 & 3.822463 & 3.2608494 & ... & 2.031074 & 0.8139823 & 3.1102529 & 1.900000e-09 & -1.2170914 & 2.683544e-04 & up & down & upDown & protein\\_coding\\\\\n",
       "\tRhob & 12 &   8547661 &   8550009 &   2349 & - & ensembl\\_havana &  0.8528061 & 3.655349 & 3.732955 & 2.8025432 & ... & 5.276651 & 4.2505750 & 0.9891221 & 1.000000e-11 & -1.0260762 & 1.360000e-09 & up & down & upDown & protein\\_coding\\\\\n",
       "\tSlc7a6 & 8  & 106895489 & 106925338 &  29850 & + & ensembl\\_havana &  1.4915397 & 2.344935 & 2.321206 & 0.8533951 & ... & 2.567716 & 1.8228138 & 0.8341127 & 2.987297e-05 & -0.7449018 & 2.280136e-03 & up & down & upDown & protein\\_coding\\\\\n",
       "\\end{tabular}\n"
      ],
      "text/markdown": [
       "\n",
       "A data.frame: 22 × 27\n",
       "\n",
       "| <!--/--> | seqnames &lt;fct&gt; | start &lt;int&gt; | end &lt;int&gt; | width &lt;int&gt; | strand &lt;fct&gt; | source &lt;fct&gt; | unt.transcription &lt;dbl&gt; | tgfb.transcription &lt;dbl&gt; | tgfbCX5461.transcription &lt;dbl&gt; | log2FCuntVStgfb.transcription &lt;dbl&gt; | ... ... | tgfb.translation &lt;dbl&gt; | tgfbCX5461.translation &lt;dbl&gt; | log2FCuntVStgfb.translation &lt;dbl&gt; | FDRuntVStgfb.translation &lt;dbl&gt; | log2FCtgfbVStgfbCX5461.translation &lt;dbl&gt; | FDRtgfbVStgfbCX5461.translation &lt;dbl&gt; | unt.tgfb.DEtranslation &lt;chr&gt; | tgfb.tgfbCX5461.DEtranslation &lt;chr&gt; | reversible.translation &lt;chr&gt; | biotype &lt;chr&gt; |\n",
       "|---|---|---|---|---|---|---|---|---|---|---|---|---|---|---|---|---|---|---|---|---|---|\n",
       "| Akr1b3 | 6  |  34279369 |  34294413 |  15045 | - | ensembl_havana |  1.5021399 | 3.404960 | 3.491553 | 1.9028201 | ... | 2.728316 | 1.3137932 | 2.4870701 | 2.249105e-04 | -1.4145226 | 1.821304e-02 | up | down | upDown | protein_coding |\n",
       "| Col4a1 | 8  |  11248423 |  11362826 | 114404 | - | ensembl_havana |  3.2556386 | 5.325969 | 5.390736 | 2.0703301 | ... | 4.948415 | 2.9929565 | 2.6071701 | 0.000000e+00 | -1.9554584 | 1.000000e-11 | up | down | upDown | protein_coding |\n",
       "| Colgalt1 | 8  |  72063642 |  72077555 |  13914 | + | ensembl_havana |  2.9508621 | 4.418117 | 4.467390 | 1.4672553 | ... | 4.062421 | 3.4009698 | 1.9474767 | 0.000000e+00 | -0.6614512 | 5.247929e-05 | up | down | upDown | protein_coding |\n",
       "| D630003M21Rik | 2  | 158024453 | 158071142 |  46690 | - | ensembl_havana |  0.2401005 | 2.755146 | 2.802101 | 2.5150454 | ... | 2.307610 | 0.8531208 | 3.0001153 | 1.100000e-10 | -1.4544888 | 7.409930e-06 | up | down | upDown | protein_coding |\n",
       "| Efemp2 | 19 |   5523982 |   5532545 |   8564 | + | ensembl_havana |  2.3539001 | 3.536365 | 3.609116 | 1.1824646 | ... | 2.242610 | 1.6014558 | 1.2970120 | 5.962300e-07 | -0.6411542 | 1.374074e-02 | up | down | upDown | protein_coding |\n",
       "| Enc1 | 13 |  97377613 |  97389542 |  11930 | + | ensembl_havana |  1.1909819 | 2.437358 | 2.388628 | 1.2463757 | ... | 2.283187 | 1.0844962 | 0.9283433 | 1.096159e-05 | -1.1986908 | 4.375509e-05 | up | down | upDown | protein_coding |\n",
       "| Fndc3b | 3  |  27470311 |  27765456 | 295146 | - | ensembl_havana |  1.2177858 | 2.960893 | 3.008540 | 1.7431069 | ... | 2.200100 | 1.1877016 | 1.3213026 | 4.033800e-07 | -1.0123985 | 3.866486e-04 | up | down | upDown | protein_coding |\n",
       "| Hk2 | 6  |  82702006 |  82751435 |  49430 | - | ensembl_havana |  0.7010763 | 2.085114 | 2.152475 | 1.3840378 | ... | 2.910086 | 1.9109113 | 1.3979067 | 2.295000e-08 | -0.9991744 | 8.654022e-05 | up | down | upDown | protein_coding |\n",
       "| Jup | 11 | 100259784 | 100288589 |  28806 | - | ensembl_havana |  3.3563116 | 4.332686 | 4.402641 | 0.9763748 | ... | 4.708209 | 3.9693213 | 1.3962396 | 8.400000e-10 | -0.7388882 | 9.735087e-05 | up | down | upDown | protein_coding |\n",
       "| Lmcd1 | 6  | 112250719 | 112307386 |  56668 | + | ensembl_havana | -2.2793554 | 2.262028 | 2.301087 | 4.5413839 | ... | 3.902408 | 3.1311039 | 3.1744348 | 0.000000e+00 | -0.7713039 | 1.170752e-05 | up | down | upDown | protein_coding |\n",
       "| Loxl2 | 14 |  69846517 |  69933283 |  86767 | + | ensembl_havana |  2.7009052 | 4.042003 | 4.071427 | 1.3410982 | ... | 3.016678 | 1.7780552 | 1.8053481 | 3.510660e-06 | -1.2386229 | 1.509134e-03 | up | down | upDown | protein_coding |\n",
       "| Msn | X  |  95139648 |  95212158 |  72511 | + | ensembl_havana |  4.2104460 | 6.342298 | 6.391707 | 2.1318520 | ... | 5.449766 | 4.7876647 | 1.5558578 | 0.000000e+00 | -0.6621009 | 3.975800e-07 | up | down | upDown | protein_coding |\n",
       "| mt-Atp8 | MT |      7766 |      7969 |    204 | + | RefSeq         |  3.1051339 | 3.762418 | 3.742999 | 0.6572838 | ... | 2.758486 | 1.5716784 | 1.7666486 | 6.700000e-09 | -1.1868072 | 5.830832e-05 | up | down | upDown | protein_coding |\n",
       "| Myadm | 7  |   3337605 |   3348958 |  11354 | + | ensembl_havana |  2.2006744 | 4.703958 | 4.729324 | 2.5032839 | ... | 4.109949 | 3.4885697 | 1.2481836 | 1.800000e-10 | -0.6213790 | 1.492108e-04 | up | down | upDown | protein_coding |\n",
       "| Myh9 | 15 |  77644787 |  77726375 |  81589 | - | ensembl_havana |  6.6509024 | 7.918561 | 7.954783 | 1.2676582 | ... | 5.899741 | 4.7368435 | 1.2038800 | 0.000000e+00 | -1.1628971 | 0.000000e+00 | up | down | upDown | protein_coding |\n",
       "| Ncor2 | 5  | 125094217 | 125256283 | 162067 | - | ensembl_havana |  2.6585890 | 3.534376 | 3.551598 | 0.8757872 | ... | 2.082946 | 1.3240847 | 0.8771784 | 1.865247e-04 | -0.7588614 | 1.006514e-02 | up | down | upDown | protein_coding |\n",
       "| Nmt1 | 11 | 102919016 | 102959738 |  40723 | + | ensembl_havana |  1.9939842 | 2.606884 | 2.568838 | 0.6128998 | ... | 2.310647 | 1.5556961 | 0.6143146 | 9.826733e-04 | -0.7549514 | 2.521207e-03 | up | down | upDown | protein_coding |\n",
       "| Notch2 | 3  |  97920843 |  98057677 | 136835 | + | ensembl_havana |  3.1096530 | 3.870810 | 3.887898 | 0.7611568 | ... | 2.901890 | 2.1497745 | 0.8162566 | 5.877210e-06 | -0.7521160 | 5.065703e-04 | up | down | upDown | protein_coding |\n",
       "| Parm1 | 5  |  91665474 |  91774753 | 109280 | + | ensembl_havana |  2.7992963 | 3.661282 | 3.680049 | 0.8619855 | ... | 2.976846 | 2.1697285 | 1.2113307 | 2.783000e-08 | -0.8071172 | 2.264543e-04 | up | down | upDown | protein_coding |\n",
       "| Plxnd1 | 6  | 115931772 | 115971966 |  40195 | - | ensembl_havana |  0.6300056 | 3.890855 | 3.822463 | 3.2608494 | ... | 2.031074 | 0.8139823 | 3.1102529 | 1.900000e-09 | -1.2170914 | 2.683544e-04 | up | down | upDown | protein_coding |\n",
       "| Rhob | 12 |   8547661 |   8550009 |   2349 | - | ensembl_havana |  0.8528061 | 3.655349 | 3.732955 | 2.8025432 | ... | 5.276651 | 4.2505750 | 0.9891221 | 1.000000e-11 | -1.0260762 | 1.360000e-09 | up | down | upDown | protein_coding |\n",
       "| Slc7a6 | 8  | 106895489 | 106925338 |  29850 | + | ensembl_havana |  1.4915397 | 2.344935 | 2.321206 | 0.8533951 | ... | 2.567716 | 1.8228138 | 0.8341127 | 2.987297e-05 | -0.7449018 | 2.280136e-03 | up | down | upDown | protein_coding |\n",
       "\n"
      ],
      "text/plain": [
       "              seqnames start     end       width  strand source        \n",
       "Akr1b3        6         34279369  34294413  15045 -      ensembl_havana\n",
       "Col4a1        8         11248423  11362826 114404 -      ensembl_havana\n",
       "Colgalt1      8         72063642  72077555  13914 +      ensembl_havana\n",
       "D630003M21Rik 2        158024453 158071142  46690 -      ensembl_havana\n",
       "Efemp2        19         5523982   5532545   8564 +      ensembl_havana\n",
       "Enc1          13        97377613  97389542  11930 +      ensembl_havana\n",
       "Fndc3b        3         27470311  27765456 295146 -      ensembl_havana\n",
       "Hk2           6         82702006  82751435  49430 -      ensembl_havana\n",
       "Jup           11       100259784 100288589  28806 -      ensembl_havana\n",
       "Lmcd1         6        112250719 112307386  56668 +      ensembl_havana\n",
       "Loxl2         14        69846517  69933283  86767 +      ensembl_havana\n",
       "Msn           X         95139648  95212158  72511 +      ensembl_havana\n",
       "mt-Atp8       MT            7766      7969    204 +      RefSeq        \n",
       "Myadm         7          3337605   3348958  11354 +      ensembl_havana\n",
       "Myh9          15        77644787  77726375  81589 -      ensembl_havana\n",
       "Ncor2         5        125094217 125256283 162067 -      ensembl_havana\n",
       "Nmt1          11       102919016 102959738  40723 +      ensembl_havana\n",
       "Notch2        3         97920843  98057677 136835 +      ensembl_havana\n",
       "Parm1         5         91665474  91774753 109280 +      ensembl_havana\n",
       "Plxnd1        6        115931772 115971966  40195 -      ensembl_havana\n",
       "Rhob          12         8547661   8550009   2349 -      ensembl_havana\n",
       "Slc7a6        8        106895489 106925338  29850 +      ensembl_havana\n",
       "              unt.transcription tgfb.transcription tgfbCX5461.transcription\n",
       "Akr1b3         1.5021399        3.404960           3.491553                \n",
       "Col4a1         3.2556386        5.325969           5.390736                \n",
       "Colgalt1       2.9508621        4.418117           4.467390                \n",
       "D630003M21Rik  0.2401005        2.755146           2.802101                \n",
       "Efemp2         2.3539001        3.536365           3.609116                \n",
       "Enc1           1.1909819        2.437358           2.388628                \n",
       "Fndc3b         1.2177858        2.960893           3.008540                \n",
       "Hk2            0.7010763        2.085114           2.152475                \n",
       "Jup            3.3563116        4.332686           4.402641                \n",
       "Lmcd1         -2.2793554        2.262028           2.301087                \n",
       "Loxl2          2.7009052        4.042003           4.071427                \n",
       "Msn            4.2104460        6.342298           6.391707                \n",
       "mt-Atp8        3.1051339        3.762418           3.742999                \n",
       "Myadm          2.2006744        4.703958           4.729324                \n",
       "Myh9           6.6509024        7.918561           7.954783                \n",
       "Ncor2          2.6585890        3.534376           3.551598                \n",
       "Nmt1           1.9939842        2.606884           2.568838                \n",
       "Notch2         3.1096530        3.870810           3.887898                \n",
       "Parm1          2.7992963        3.661282           3.680049                \n",
       "Plxnd1         0.6300056        3.890855           3.822463                \n",
       "Rhob           0.8528061        3.655349           3.732955                \n",
       "Slc7a6         1.4915397        2.344935           2.321206                \n",
       "              log2FCuntVStgfb.transcription ... tgfb.translation\n",
       "Akr1b3        1.9028201                     ... 2.728316        \n",
       "Col4a1        2.0703301                     ... 4.948415        \n",
       "Colgalt1      1.4672553                     ... 4.062421        \n",
       "D630003M21Rik 2.5150454                     ... 2.307610        \n",
       "Efemp2        1.1824646                     ... 2.242610        \n",
       "Enc1          1.2463757                     ... 2.283187        \n",
       "Fndc3b        1.7431069                     ... 2.200100        \n",
       "Hk2           1.3840378                     ... 2.910086        \n",
       "Jup           0.9763748                     ... 4.708209        \n",
       "Lmcd1         4.5413839                     ... 3.902408        \n",
       "Loxl2         1.3410982                     ... 3.016678        \n",
       "Msn           2.1318520                     ... 5.449766        \n",
       "mt-Atp8       0.6572838                     ... 2.758486        \n",
       "Myadm         2.5032839                     ... 4.109949        \n",
       "Myh9          1.2676582                     ... 5.899741        \n",
       "Ncor2         0.8757872                     ... 2.082946        \n",
       "Nmt1          0.6128998                     ... 2.310647        \n",
       "Notch2        0.7611568                     ... 2.901890        \n",
       "Parm1         0.8619855                     ... 2.976846        \n",
       "Plxnd1        3.2608494                     ... 2.031074        \n",
       "Rhob          2.8025432                     ... 5.276651        \n",
       "Slc7a6        0.8533951                     ... 2.567716        \n",
       "              tgfbCX5461.translation log2FCuntVStgfb.translation\n",
       "Akr1b3        1.3137932              2.4870701                  \n",
       "Col4a1        2.9929565              2.6071701                  \n",
       "Colgalt1      3.4009698              1.9474767                  \n",
       "D630003M21Rik 0.8531208              3.0001153                  \n",
       "Efemp2        1.6014558              1.2970120                  \n",
       "Enc1          1.0844962              0.9283433                  \n",
       "Fndc3b        1.1877016              1.3213026                  \n",
       "Hk2           1.9109113              1.3979067                  \n",
       "Jup           3.9693213              1.3962396                  \n",
       "Lmcd1         3.1311039              3.1744348                  \n",
       "Loxl2         1.7780552              1.8053481                  \n",
       "Msn           4.7876647              1.5558578                  \n",
       "mt-Atp8       1.5716784              1.7666486                  \n",
       "Myadm         3.4885697              1.2481836                  \n",
       "Myh9          4.7368435              1.2038800                  \n",
       "Ncor2         1.3240847              0.8771784                  \n",
       "Nmt1          1.5556961              0.6143146                  \n",
       "Notch2        2.1497745              0.8162566                  \n",
       "Parm1         2.1697285              1.2113307                  \n",
       "Plxnd1        0.8139823              3.1102529                  \n",
       "Rhob          4.2505750              0.9891221                  \n",
       "Slc7a6        1.8228138              0.8341127                  \n",
       "              FDRuntVStgfb.translation log2FCtgfbVStgfbCX5461.translation\n",
       "Akr1b3        2.249105e-04             -1.4145226                        \n",
       "Col4a1        0.000000e+00             -1.9554584                        \n",
       "Colgalt1      0.000000e+00             -0.6614512                        \n",
       "D630003M21Rik 1.100000e-10             -1.4544888                        \n",
       "Efemp2        5.962300e-07             -0.6411542                        \n",
       "Enc1          1.096159e-05             -1.1986908                        \n",
       "Fndc3b        4.033800e-07             -1.0123985                        \n",
       "Hk2           2.295000e-08             -0.9991744                        \n",
       "Jup           8.400000e-10             -0.7388882                        \n",
       "Lmcd1         0.000000e+00             -0.7713039                        \n",
       "Loxl2         3.510660e-06             -1.2386229                        \n",
       "Msn           0.000000e+00             -0.6621009                        \n",
       "mt-Atp8       6.700000e-09             -1.1868072                        \n",
       "Myadm         1.800000e-10             -0.6213790                        \n",
       "Myh9          0.000000e+00             -1.1628971                        \n",
       "Ncor2         1.865247e-04             -0.7588614                        \n",
       "Nmt1          9.826733e-04             -0.7549514                        \n",
       "Notch2        5.877210e-06             -0.7521160                        \n",
       "Parm1         2.783000e-08             -0.8071172                        \n",
       "Plxnd1        1.900000e-09             -1.2170914                        \n",
       "Rhob          1.000000e-11             -1.0260762                        \n",
       "Slc7a6        2.987297e-05             -0.7449018                        \n",
       "              FDRtgfbVStgfbCX5461.translation unt.tgfb.DEtranslation\n",
       "Akr1b3        1.821304e-02                    up                    \n",
       "Col4a1        1.000000e-11                    up                    \n",
       "Colgalt1      5.247929e-05                    up                    \n",
       "D630003M21Rik 7.409930e-06                    up                    \n",
       "Efemp2        1.374074e-02                    up                    \n",
       "Enc1          4.375509e-05                    up                    \n",
       "Fndc3b        3.866486e-04                    up                    \n",
       "Hk2           8.654022e-05                    up                    \n",
       "Jup           9.735087e-05                    up                    \n",
       "Lmcd1         1.170752e-05                    up                    \n",
       "Loxl2         1.509134e-03                    up                    \n",
       "Msn           3.975800e-07                    up                    \n",
       "mt-Atp8       5.830832e-05                    up                    \n",
       "Myadm         1.492108e-04                    up                    \n",
       "Myh9          0.000000e+00                    up                    \n",
       "Ncor2         1.006514e-02                    up                    \n",
       "Nmt1          2.521207e-03                    up                    \n",
       "Notch2        5.065703e-04                    up                    \n",
       "Parm1         2.264543e-04                    up                    \n",
       "Plxnd1        2.683544e-04                    up                    \n",
       "Rhob          1.360000e-09                    up                    \n",
       "Slc7a6        2.280136e-03                    up                    \n",
       "              tgfb.tgfbCX5461.DEtranslation reversible.translation\n",
       "Akr1b3        down                          upDown                \n",
       "Col4a1        down                          upDown                \n",
       "Colgalt1      down                          upDown                \n",
       "D630003M21Rik down                          upDown                \n",
       "Efemp2        down                          upDown                \n",
       "Enc1          down                          upDown                \n",
       "Fndc3b        down                          upDown                \n",
       "Hk2           down                          upDown                \n",
       "Jup           down                          upDown                \n",
       "Lmcd1         down                          upDown                \n",
       "Loxl2         down                          upDown                \n",
       "Msn           down                          upDown                \n",
       "mt-Atp8       down                          upDown                \n",
       "Myadm         down                          upDown                \n",
       "Myh9          down                          upDown                \n",
       "Ncor2         down                          upDown                \n",
       "Nmt1          down                          upDown                \n",
       "Notch2        down                          upDown                \n",
       "Parm1         down                          upDown                \n",
       "Plxnd1        down                          upDown                \n",
       "Rhob          down                          upDown                \n",
       "Slc7a6        down                          upDown                \n",
       "              biotype       \n",
       "Akr1b3        protein_coding\n",
       "Col4a1        protein_coding\n",
       "Colgalt1      protein_coding\n",
       "D630003M21Rik protein_coding\n",
       "Efemp2        protein_coding\n",
       "Enc1          protein_coding\n",
       "Fndc3b        protein_coding\n",
       "Hk2           protein_coding\n",
       "Jup           protein_coding\n",
       "Lmcd1         protein_coding\n",
       "Loxl2         protein_coding\n",
       "Msn           protein_coding\n",
       "mt-Atp8       protein_coding\n",
       "Myadm         protein_coding\n",
       "Myh9          protein_coding\n",
       "Ncor2         protein_coding\n",
       "Nmt1          protein_coding\n",
       "Notch2        protein_coding\n",
       "Parm1         protein_coding\n",
       "Plxnd1        protein_coding\n",
       "Rhob          protein_coding\n",
       "Slc7a6        protein_coding"
      ]
     },
     "metadata": {},
     "output_type": "display_data"
    }
   ],
   "source": [
    "# 11_up_21_up_12_no_22_dn: up for unt48 vs. tgfb48 in both platform, down for tgfb48 vs. CX only in ribo-seq (e.g. Zeb1)\n",
    "\n",
    "name1 <- \"11_up_21_up_12_no_22_dn\"\n",
    "idx <- which(sheet_names==name1)\n",
    "\n",
    "# DE3: 182\n",
    "# DE4: 182\n",
    "dim(list_df[[idx]])\n",
    "\n",
    "filter_rows_for_validation(name1, list_df[[idx]])\n"
   ]
  },
  {
   "cell_type": "markdown",
   "metadata": {},
   "source": [
    "## 11_dn_21_dn_12_no_22_up"
   ]
  },
  {
   "cell_type": "code",
   "execution_count": 402,
   "metadata": {},
   "outputs": [
    {
     "data": {
      "text/html": [
       "<style>\n",
       ".list-inline {list-style: none; margin:0; padding: 0}\n",
       ".list-inline>li {display: inline-block}\n",
       ".list-inline>li:not(:last-child)::after {content: \"\\00b7\"; padding: 0 .5ex}\n",
       "</style>\n",
       "<ol class=list-inline><li>100</li><li>27</li></ol>\n"
      ],
      "text/latex": [
       "\\begin{enumerate*}\n",
       "\\item 100\n",
       "\\item 27\n",
       "\\end{enumerate*}\n"
      ],
      "text/markdown": [
       "1. 100\n",
       "2. 27\n",
       "\n",
       "\n"
      ],
      "text/plain": [
       "[1] 100  27"
      ]
     },
     "metadata": {},
     "output_type": "display_data"
    },
    {
     "data": {
      "text/html": [
       "<table class=\"dataframe\">\n",
       "<caption>A data.frame: 1 × 27</caption>\n",
       "<thead>\n",
       "\t<tr><th></th><th scope=col>seqnames</th><th scope=col>start</th><th scope=col>end</th><th scope=col>width</th><th scope=col>strand</th><th scope=col>source</th><th scope=col>unt.transcription</th><th scope=col>tgfb.transcription</th><th scope=col>tgfbCX5461.transcription</th><th scope=col>log2FCuntVStgfb.transcription</th><th scope=col>...</th><th scope=col>tgfb.translation</th><th scope=col>tgfbCX5461.translation</th><th scope=col>log2FCuntVStgfb.translation</th><th scope=col>FDRuntVStgfb.translation</th><th scope=col>log2FCtgfbVStgfbCX5461.translation</th><th scope=col>FDRtgfbVStgfbCX5461.translation</th><th scope=col>unt.tgfb.DEtranslation</th><th scope=col>tgfb.tgfbCX5461.DEtranslation</th><th scope=col>reversible.translation</th><th scope=col>biotype</th></tr>\n",
       "\t<tr><th></th><th scope=col>&lt;fct&gt;</th><th scope=col>&lt;int&gt;</th><th scope=col>&lt;int&gt;</th><th scope=col>&lt;int&gt;</th><th scope=col>&lt;fct&gt;</th><th scope=col>&lt;fct&gt;</th><th scope=col>&lt;dbl&gt;</th><th scope=col>&lt;dbl&gt;</th><th scope=col>&lt;dbl&gt;</th><th scope=col>&lt;dbl&gt;</th><th scope=col>...</th><th scope=col>&lt;dbl&gt;</th><th scope=col>&lt;dbl&gt;</th><th scope=col>&lt;dbl&gt;</th><th scope=col>&lt;dbl&gt;</th><th scope=col>&lt;dbl&gt;</th><th scope=col>&lt;dbl&gt;</th><th scope=col>&lt;chr&gt;</th><th scope=col>&lt;chr&gt;</th><th scope=col>&lt;chr&gt;</th><th scope=col>&lt;chr&gt;</th></tr>\n",
       "</thead>\n",
       "<tbody>\n",
       "\t<tr><th scope=row>Gstp1</th><td>19</td><td>4085407</td><td>4087985</td><td>2579</td><td>-</td><td>ensembl_havana</td><td>4.584731</td><td>3.298379</td><td>3.286578</td><td>-1.286352</td><td>...</td><td>4.017704</td><td>4.73958</td><td>-1.269607</td><td>0</td><td>0.7218763</td><td>5.212e-07</td><td>down</td><td>up</td><td>downUp</td><td>protein_coding</td></tr>\n",
       "</tbody>\n",
       "</table>\n"
      ],
      "text/latex": [
       "A data.frame: 1 × 27\n",
       "\\begin{tabular}{r|lllllllllllllllllllll}\n",
       "  & seqnames & start & end & width & strand & source & unt.transcription & tgfb.transcription & tgfbCX5461.transcription & log2FCuntVStgfb.transcription & ... & tgfb.translation & tgfbCX5461.translation & log2FCuntVStgfb.translation & FDRuntVStgfb.translation & log2FCtgfbVStgfbCX5461.translation & FDRtgfbVStgfbCX5461.translation & unt.tgfb.DEtranslation & tgfb.tgfbCX5461.DEtranslation & reversible.translation & biotype\\\\\n",
       "  & <fct> & <int> & <int> & <int> & <fct> & <fct> & <dbl> & <dbl> & <dbl> & <dbl> & ... & <dbl> & <dbl> & <dbl> & <dbl> & <dbl> & <dbl> & <chr> & <chr> & <chr> & <chr>\\\\\n",
       "\\hline\n",
       "\tGstp1 & 19 & 4085407 & 4087985 & 2579 & - & ensembl\\_havana & 4.584731 & 3.298379 & 3.286578 & -1.286352 & ... & 4.017704 & 4.73958 & -1.269607 & 0 & 0.7218763 & 5.212e-07 & down & up & downUp & protein\\_coding\\\\\n",
       "\\end{tabular}\n"
      ],
      "text/markdown": [
       "\n",
       "A data.frame: 1 × 27\n",
       "\n",
       "| <!--/--> | seqnames &lt;fct&gt; | start &lt;int&gt; | end &lt;int&gt; | width &lt;int&gt; | strand &lt;fct&gt; | source &lt;fct&gt; | unt.transcription &lt;dbl&gt; | tgfb.transcription &lt;dbl&gt; | tgfbCX5461.transcription &lt;dbl&gt; | log2FCuntVStgfb.transcription &lt;dbl&gt; | ... ... | tgfb.translation &lt;dbl&gt; | tgfbCX5461.translation &lt;dbl&gt; | log2FCuntVStgfb.translation &lt;dbl&gt; | FDRuntVStgfb.translation &lt;dbl&gt; | log2FCtgfbVStgfbCX5461.translation &lt;dbl&gt; | FDRtgfbVStgfbCX5461.translation &lt;dbl&gt; | unt.tgfb.DEtranslation &lt;chr&gt; | tgfb.tgfbCX5461.DEtranslation &lt;chr&gt; | reversible.translation &lt;chr&gt; | biotype &lt;chr&gt; |\n",
       "|---|---|---|---|---|---|---|---|---|---|---|---|---|---|---|---|---|---|---|---|---|---|\n",
       "| Gstp1 | 19 | 4085407 | 4087985 | 2579 | - | ensembl_havana | 4.584731 | 3.298379 | 3.286578 | -1.286352 | ... | 4.017704 | 4.73958 | -1.269607 | 0 | 0.7218763 | 5.212e-07 | down | up | downUp | protein_coding |\n",
       "\n"
      ],
      "text/plain": [
       "      seqnames start   end     width strand source         unt.transcription\n",
       "Gstp1 19       4085407 4087985 2579  -      ensembl_havana 4.584731         \n",
       "      tgfb.transcription tgfbCX5461.transcription log2FCuntVStgfb.transcription\n",
       "Gstp1 3.298379           3.286578                 -1.286352                    \n",
       "      ... tgfb.translation tgfbCX5461.translation log2FCuntVStgfb.translation\n",
       "Gstp1 ... 4.017704         4.73958                -1.269607                  \n",
       "      FDRuntVStgfb.translation log2FCtgfbVStgfbCX5461.translation\n",
       "Gstp1 0                        0.7218763                         \n",
       "      FDRtgfbVStgfbCX5461.translation unt.tgfb.DEtranslation\n",
       "Gstp1 5.212e-07                       down                  \n",
       "      tgfb.tgfbCX5461.DEtranslation reversible.translation biotype       \n",
       "Gstp1 up                            downUp                 protein_coding"
      ]
     },
     "metadata": {},
     "output_type": "display_data"
    }
   ],
   "source": [
    "# down for unt48 vs. tgfb48 in both platform, up for tgfb48 vs. CX only in Ribo-seq (e.g. Eif3k)\n",
    "\n",
    "name1 <- \"11_dn_21_dn_12_no_22_up\"\n",
    "idx <- which(sheet_names==name1)\n",
    "\n",
    "# DE3: 83\n",
    "# DE4: 83\n",
    "dim(list_df[[idx]])\n",
    "\n",
    "filter_rows_for_validation(name1, list_df[[idx]])\n"
   ]
  },
  {
   "cell_type": "markdown",
   "metadata": {},
   "source": [
    "## 11_no_21_up_12_no_22_dn"
   ]
  },
  {
   "cell_type": "code",
   "execution_count": 403,
   "metadata": {},
   "outputs": [
    {
     "data": {
      "text/html": [
       "<style>\n",
       ".list-inline {list-style: none; margin:0; padding: 0}\n",
       ".list-inline>li {display: inline-block}\n",
       ".list-inline>li:not(:last-child)::after {content: \"\\00b7\"; padding: 0 .5ex}\n",
       "</style>\n",
       "<ol class=list-inline><li>89</li><li>27</li></ol>\n"
      ],
      "text/latex": [
       "\\begin{enumerate*}\n",
       "\\item 89\n",
       "\\item 27\n",
       "\\end{enumerate*}\n"
      ],
      "text/markdown": [
       "1. 89\n",
       "2. 27\n",
       "\n",
       "\n"
      ],
      "text/plain": [
       "[1] 89 27"
      ]
     },
     "metadata": {},
     "output_type": "display_data"
    },
    {
     "data": {
      "text/html": [
       "<table class=\"dataframe\">\n",
       "<caption>A data.frame: 1 × 27</caption>\n",
       "<thead>\n",
       "\t<tr><th></th><th scope=col>seqnames</th><th scope=col>start</th><th scope=col>end</th><th scope=col>width</th><th scope=col>strand</th><th scope=col>source</th><th scope=col>unt.transcription</th><th scope=col>tgfb.transcription</th><th scope=col>tgfbCX5461.transcription</th><th scope=col>log2FCuntVStgfb.transcription</th><th scope=col>...</th><th scope=col>tgfb.translation</th><th scope=col>tgfbCX5461.translation</th><th scope=col>log2FCuntVStgfb.translation</th><th scope=col>FDRuntVStgfb.translation</th><th scope=col>log2FCtgfbVStgfbCX5461.translation</th><th scope=col>FDRtgfbVStgfbCX5461.translation</th><th scope=col>unt.tgfb.DEtranslation</th><th scope=col>tgfb.tgfbCX5461.DEtranslation</th><th scope=col>reversible.translation</th><th scope=col>biotype</th></tr>\n",
       "\t<tr><th></th><th scope=col>&lt;fct&gt;</th><th scope=col>&lt;int&gt;</th><th scope=col>&lt;int&gt;</th><th scope=col>&lt;int&gt;</th><th scope=col>&lt;fct&gt;</th><th scope=col>&lt;fct&gt;</th><th scope=col>&lt;dbl&gt;</th><th scope=col>&lt;dbl&gt;</th><th scope=col>&lt;dbl&gt;</th><th scope=col>&lt;dbl&gt;</th><th scope=col>...</th><th scope=col>&lt;dbl&gt;</th><th scope=col>&lt;dbl&gt;</th><th scope=col>&lt;dbl&gt;</th><th scope=col>&lt;dbl&gt;</th><th scope=col>&lt;dbl&gt;</th><th scope=col>&lt;dbl&gt;</th><th scope=col>&lt;chr&gt;</th><th scope=col>&lt;chr&gt;</th><th scope=col>&lt;chr&gt;</th><th scope=col>&lt;chr&gt;</th></tr>\n",
       "</thead>\n",
       "<tbody>\n",
       "\t<tr><th scope=row>mt-Nd1</th><td>MT</td><td>2751</td><td>3707</td><td>957</td><td>+</td><td>RefSeq</td><td>6.095172</td><td>6.006088</td><td>5.933917</td><td>-0.08908384</td><td>...</td><td>3.083192</td><td>2.049343</td><td>1.165125</td><td>6.528e-08</td><td>-1.03385</td><td>1.99832e-05</td><td>up</td><td>down</td><td>upDown</td><td>protein_coding</td></tr>\n",
       "</tbody>\n",
       "</table>\n"
      ],
      "text/latex": [
       "A data.frame: 1 × 27\n",
       "\\begin{tabular}{r|lllllllllllllllllllll}\n",
       "  & seqnames & start & end & width & strand & source & unt.transcription & tgfb.transcription & tgfbCX5461.transcription & log2FCuntVStgfb.transcription & ... & tgfb.translation & tgfbCX5461.translation & log2FCuntVStgfb.translation & FDRuntVStgfb.translation & log2FCtgfbVStgfbCX5461.translation & FDRtgfbVStgfbCX5461.translation & unt.tgfb.DEtranslation & tgfb.tgfbCX5461.DEtranslation & reversible.translation & biotype\\\\\n",
       "  & <fct> & <int> & <int> & <int> & <fct> & <fct> & <dbl> & <dbl> & <dbl> & <dbl> & ... & <dbl> & <dbl> & <dbl> & <dbl> & <dbl> & <dbl> & <chr> & <chr> & <chr> & <chr>\\\\\n",
       "\\hline\n",
       "\tmt-Nd1 & MT & 2751 & 3707 & 957 & + & RefSeq & 6.095172 & 6.006088 & 5.933917 & -0.08908384 & ... & 3.083192 & 2.049343 & 1.165125 & 6.528e-08 & -1.03385 & 1.99832e-05 & up & down & upDown & protein\\_coding\\\\\n",
       "\\end{tabular}\n"
      ],
      "text/markdown": [
       "\n",
       "A data.frame: 1 × 27\n",
       "\n",
       "| <!--/--> | seqnames &lt;fct&gt; | start &lt;int&gt; | end &lt;int&gt; | width &lt;int&gt; | strand &lt;fct&gt; | source &lt;fct&gt; | unt.transcription &lt;dbl&gt; | tgfb.transcription &lt;dbl&gt; | tgfbCX5461.transcription &lt;dbl&gt; | log2FCuntVStgfb.transcription &lt;dbl&gt; | ... ... | tgfb.translation &lt;dbl&gt; | tgfbCX5461.translation &lt;dbl&gt; | log2FCuntVStgfb.translation &lt;dbl&gt; | FDRuntVStgfb.translation &lt;dbl&gt; | log2FCtgfbVStgfbCX5461.translation &lt;dbl&gt; | FDRtgfbVStgfbCX5461.translation &lt;dbl&gt; | unt.tgfb.DEtranslation &lt;chr&gt; | tgfb.tgfbCX5461.DEtranslation &lt;chr&gt; | reversible.translation &lt;chr&gt; | biotype &lt;chr&gt; |\n",
       "|---|---|---|---|---|---|---|---|---|---|---|---|---|---|---|---|---|---|---|---|---|---|\n",
       "| mt-Nd1 | MT | 2751 | 3707 | 957 | + | RefSeq | 6.095172 | 6.006088 | 5.933917 | -0.08908384 | ... | 3.083192 | 2.049343 | 1.165125 | 6.528e-08 | -1.03385 | 1.99832e-05 | up | down | upDown | protein_coding |\n",
       "\n"
      ],
      "text/plain": [
       "       seqnames start end  width strand source unt.transcription\n",
       "mt-Nd1 MT       2751  3707 957   +      RefSeq 6.095172         \n",
       "       tgfb.transcription tgfbCX5461.transcription\n",
       "mt-Nd1 6.006088           5.933917                \n",
       "       log2FCuntVStgfb.transcription ... tgfb.translation\n",
       "mt-Nd1 -0.08908384                   ... 3.083192        \n",
       "       tgfbCX5461.translation log2FCuntVStgfb.translation\n",
       "mt-Nd1 2.049343               1.165125                   \n",
       "       FDRuntVStgfb.translation log2FCtgfbVStgfbCX5461.translation\n",
       "mt-Nd1 6.528e-08                -1.03385                          \n",
       "       FDRtgfbVStgfbCX5461.translation unt.tgfb.DEtranslation\n",
       "mt-Nd1 1.99832e-05                     up                    \n",
       "       tgfb.tgfbCX5461.DEtranslation reversible.translation biotype       \n",
       "mt-Nd1 down                          upDown                 protein_coding"
      ]
     },
     "metadata": {},
     "output_type": "display_data"
    }
   ],
   "source": [
    "# 11_no_21_up_12_no_22_dn: up for unt48 vs. tgfb48 only in ribo-seq, down for tgfb48 vs. CX only in ribo-seq (e.g. Fanca)\n",
    "\n",
    "name1 <- \"11_no_21_up_12_no_22_dn\"\n",
    "idx <- which(sheet_names==name1)\n",
    "\n",
    "# DE3: 57\n",
    "# DE4: 53\n",
    "dim(list_df[[idx]])\n",
    "\n",
    "filter_rows_for_validation(name1, list_df[[idx]])\n"
   ]
  },
  {
   "cell_type": "markdown",
   "metadata": {},
   "source": [
    "## 11_no_21_dn_12_no_22_up"
   ]
  },
  {
   "cell_type": "code",
   "execution_count": null,
   "metadata": {},
   "outputs": [],
   "source": []
  }
 ],
 "metadata": {
  "hide_input": false,
  "kernelspec": {
   "display_name": "R",
   "language": "R",
   "name": "ir"
  },
  "language_info": {
   "codemirror_mode": "r",
   "file_extension": ".r",
   "mimetype": "text/x-r-source",
   "name": "R",
   "pygments_lexer": "r",
   "version": "4.1.0"
  },
  "toc": {
   "base_numbering": 1,
   "nav_menu": {},
   "number_sections": true,
   "sideBar": true,
   "skip_h1_title": false,
   "title_cell": "Table of Contents",
   "title_sidebar": "Contents",
   "toc_cell": false,
   "toc_position": {
    "height": "calc(100% - 180px)",
    "left": "10px",
    "top": "150px",
    "width": "295.969px"
   },
   "toc_section_display": true,
   "toc_window_display": true
  },
  "toc-autonumbering": true,
  "toc-showcode": false,
  "toc-showmarkdowntxt": true,
  "toc-showtags": false
 },
 "nbformat": 4,
 "nbformat_minor": 2
}
