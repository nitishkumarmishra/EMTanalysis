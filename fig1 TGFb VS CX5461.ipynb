{
 "cells": [
  {
   "cell_type": "markdown",
   "id": "39c3933f",
   "metadata": {},
   "source": [
    "# TGFb Vs CX5461 starburst plot"
   ]
  },
  {
   "cell_type": "markdown",
   "id": "db43e1a4",
   "metadata": {},
   "source": [
    "##  ***Load functions***"
   ]
  },
  {
   "cell_type": "code",
   "execution_count": 1,
   "id": "1b167d5e",
   "metadata": {},
   "outputs": [
    {
     "data": {
      "text/html": [
       "<style>\n",
       ".list-inline {list-style: none; margin:0; padding: 0}\n",
       ".list-inline>li {display: inline-block}\n",
       ".list-inline>li:not(:last-child)::after {content: \"\\00b7\"; padding: 0 .5ex}\n",
       "</style>\n",
       "<ol class=list-inline><li>14577</li><li>31</li></ol>\n"
      ],
      "text/latex": [
       "\\begin{enumerate*}\n",
       "\\item 14577\n",
       "\\item 31\n",
       "\\end{enumerate*}\n"
      ],
      "text/markdown": [
       "1. 14577\n",
       "2. 31\n",
       "\n",
       "\n"
      ],
      "text/plain": [
       "[1] 14577    31"
      ]
     },
     "metadata": {},
     "output_type": "display_data"
    }
   ],
   "source": [
    "suppressMessages(suppressWarnings(source(\"./jupyter_common.R\")))\n",
    "#load('./rdata/jupyter_common.rdata')\n",
    "load('./rdata/riboprof_170224.rdna_rn18s_161021.rdna_rn18s_limma-voom.mrna.rdata')\n",
    "dim(df_all)"
   ]
  },
  {
   "cell_type": "markdown",
   "id": "31ab0579",
   "metadata": {},
   "source": [
    "# Common parameter"
   ]
  },
  {
   "cell_type": "code",
   "execution_count": 2,
   "id": "67a1bfcc",
   "metadata": {},
   "outputs": [
    {
     "data": {
      "text/html": [
       "'./out/limma-voom.mrna/170224.rdna_rn18s/NMuMG'"
      ],
      "text/latex": [
       "'./out/limma-voom.mrna/170224.rdna\\_rn18s/NMuMG'"
      ],
      "text/markdown": [
       "'./out/limma-voom.mrna/170224.rdna_rn18s/NMuMG'"
      ],
      "text/plain": [
       "[1] \"./out/limma-voom.mrna/170224.rdna_rn18s/NMuMG\""
      ]
     },
     "metadata": {},
     "output_type": "display_data"
    },
    {
     "data": {
      "text/html": [
       "'./out/limma-voom.mrna/161021.rdna_rn18s/NMuMG'"
      ],
      "text/latex": [
       "'./out/limma-voom.mrna/161021.rdna\\_rn18s/NMuMG'"
      ],
      "text/markdown": [
       "'./out/limma-voom.mrna/161021.rdna_rn18s/NMuMG'"
      ],
      "text/plain": [
       "[1] \"./out/limma-voom.mrna/161021.rdna_rn18s/NMuMG\""
      ]
     },
     "metadata": {},
     "output_type": "display_data"
    },
    {
     "data": {
      "text/html": [
       "'limma-voom.mrna'"
      ],
      "text/latex": [
       "'limma-voom.mrna'"
      ],
      "text/markdown": [
       "'limma-voom.mrna'"
      ],
      "text/plain": [
       "[1] \"limma-voom.mrna\""
      ]
     },
     "metadata": {},
     "output_type": "display_data"
    }
   ],
   "source": [
    "type <- \"limma-voom.mrna\"\n",
    "level <- \"htseq_gene\"\n",
    "\n",
    "rundate_appendix <- \".rdna_rn18s\"\n",
    "pattern_remove_gene <- NULL\n",
    "\n",
    "th_adj_pvalue <- 0.05\n",
    "th_log2fc <- log2(1.2)\n",
    "\n",
    "list_genes <- list()\n",
    "strdir <- type\n",
    "\n",
    "dir_limma_output <- \"out/limma-voom.mrna\"\n",
    "dir_rnaseq <- sprintf('./%s/170224.rdna_rn18s/NMuMG', dir_limma_output) \n",
    "dir_riboseq <- sprintf(\"./%s/161021.rdna_rn18s/NMuMG\", dir_limma_output)\n",
    "\n",
    "f_write_table <- FALSE\n",
    "dir_rnaseq\n",
    "dir_riboseq\n",
    "strdir"
   ]
  },
  {
   "cell_type": "markdown",
   "id": "0b9bc447",
   "metadata": {},
   "source": [
    "## Read GTF file"
   ]
  },
  {
   "cell_type": "code",
   "execution_count": 3,
   "id": "3c319841",
   "metadata": {},
   "outputs": [
    {
     "name": "stdout",
     "output_type": "stream",
     "text": [
      "[1] \"data/mouse/Mus_musculus.GRCm39.104.rdna_rn18s.gtf.gz\"\n"
     ]
    },
    {
     "data": {
      "text/plain": [
       "GRanges object with 6 ranges and 22 metadata columns:\n",
       "      seqnames              ranges strand |   source       type     score\n",
       "         <Rle>           <IRanges>  <Rle> | <factor>   <factor> <numeric>\n",
       "  [1]        1 150956201-150958296      + |   havana gene              NA\n",
       "  [2]        1 150956201-150958296      + |   havana transcript        NA\n",
       "  [3]        1 150956201-150958296      + |   havana exon              NA\n",
       "  [4]        1 150983666-150984611      + |   havana gene              NA\n",
       "  [5]        1 150983666-150984611      + |   havana transcript        NA\n",
       "  [6]        1 150983666-150984611      + |   havana exon              NA\n",
       "          phase            gene_id gene_version   gene_name gene_source\n",
       "      <integer>        <character>  <character> <character> <character>\n",
       "  [1]      <NA> ENSMUSG00000102628            2     Gm37671      havana\n",
       "  [2]      <NA> ENSMUSG00000102628            2     Gm37671      havana\n",
       "  [3]      <NA> ENSMUSG00000102628            2     Gm37671      havana\n",
       "  [4]      <NA> ENSMUSG00000100595            2     Gm19087      havana\n",
       "  [5]      <NA> ENSMUSG00000100595            2     Gm19087      havana\n",
       "  [6]      <NA> ENSMUSG00000100595            2     Gm19087      havana\n",
       "              gene_biotype      transcript_id transcript_version\n",
       "               <character>        <character>        <character>\n",
       "  [1]                  TEC               <NA>               <NA>\n",
       "  [2]                  TEC ENSMUST00000193198                  2\n",
       "  [3]                  TEC ENSMUST00000193198                  2\n",
       "  [4] processed_pseudogene               <NA>               <NA>\n",
       "  [5] processed_pseudogene ENSMUST00000191430                  2\n",
       "  [6] processed_pseudogene ENSMUST00000191430                  2\n",
       "      transcript_name transcript_source   transcript_biotype         tag\n",
       "          <character>       <character>          <character> <character>\n",
       "  [1]            <NA>              <NA>                 <NA>        <NA>\n",
       "  [2]     Gm37671-201            havana                  TEC       basic\n",
       "  [3]     Gm37671-201            havana                  TEC       basic\n",
       "  [4]            <NA>              <NA>                 <NA>        <NA>\n",
       "  [5]     Gm19087-201            havana processed_pseudogene       basic\n",
       "  [6]     Gm19087-201            havana processed_pseudogene       basic\n",
       "      transcript_support_level exon_number            exon_id exon_version\n",
       "                   <character> <character>        <character>  <character>\n",
       "  [1]                     <NA>        <NA>               <NA>         <NA>\n",
       "  [2]   NA (assigned to prev..        <NA>               <NA>         <NA>\n",
       "  [3]   NA (assigned to prev..           1 ENSMUSE00001342333            2\n",
       "  [4]                     <NA>        <NA>               <NA>         <NA>\n",
       "  [5]   NA (assigned to prev..        <NA>               <NA>         <NA>\n",
       "  [6]   NA (assigned to prev..           1 ENSMUSE00001324949            2\n",
       "       protein_id protein_version     ccds_id\n",
       "      <character>     <character> <character>\n",
       "  [1]        <NA>            <NA>        <NA>\n",
       "  [2]        <NA>            <NA>        <NA>\n",
       "  [3]        <NA>            <NA>        <NA>\n",
       "  [4]        <NA>            <NA>        <NA>\n",
       "  [5]        <NA>            <NA>        <NA>\n",
       "  [6]        <NA>            <NA>        <NA>\n",
       "  -------\n",
       "  seqinfo: 40 sequences from an unspecified genome; no seqlengths"
      ]
     },
     "metadata": {},
     "output_type": "display_data"
    },
    {
     "data": {
      "text/html": [
       "1866363"
      ],
      "text/latex": [
       "1866363"
      ],
      "text/markdown": [
       "1866363"
      ],
      "text/plain": [
       "[1] 1866363"
      ]
     },
     "metadata": {},
     "output_type": "display_data"
    }
   ],
   "source": [
    "suppressMessages(suppressWarnings(library('rtracklayer')))\n",
    "my_file <- \"data/mouse/Mus_musculus.GRCm39.104.rdna_rn18s.gtf.gz\"\n",
    "show(my_file)\n",
    "granges_gtf <- import(my_file)\n",
    "head(granges_gtf)\n",
    "length(granges_gtf)"
   ]
  },
  {
   "cell_type": "code",
   "execution_count": 4,
   "id": "4e42889d",
   "metadata": {},
   "outputs": [
    {
     "data": {
      "text/html": [
       "<table class=\"dataframe\">\n",
       "<caption>A matrix: 27 × 3 of type chr</caption>\n",
       "<thead>\n",
       "\t<tr><th></th><th scope=col>1</th><th scope=col>4</th><th scope=col>7</th></tr>\n",
       "</thead>\n",
       "<tbody>\n",
       "\t<tr><th scope=row>seqnames</th><td>1                 </td><td>1                   </td><td>1                   </td></tr>\n",
       "\t<tr><th scope=row>start</th><td>150956201         </td><td>150983666           </td><td>151012258           </td></tr>\n",
       "\t<tr><th scope=row>end</th><td>150958296         </td><td>150984611           </td><td>151013531           </td></tr>\n",
       "\t<tr><th scope=row>width</th><td>2096              </td><td> 946                </td><td>1274                </td></tr>\n",
       "\t<tr><th scope=row>strand</th><td>+                 </td><td>+                   </td><td>+                   </td></tr>\n",
       "\t<tr><th scope=row>source</th><td>havana            </td><td>havana              </td><td>havana              </td></tr>\n",
       "\t<tr><th scope=row>type</th><td>gene              </td><td>gene                </td><td>gene                </td></tr>\n",
       "\t<tr><th scope=row>score</th><td>NA                </td><td>NA                  </td><td>NA                  </td></tr>\n",
       "\t<tr><th scope=row>phase</th><td>NA                </td><td>NA                  </td><td>NA                  </td></tr>\n",
       "\t<tr><th scope=row>gene_id</th><td>ENSMUSG00000102628</td><td>ENSMUSG00000100595  </td><td>ENSMUSG00000097426  </td></tr>\n",
       "\t<tr><th scope=row>gene_version</th><td>2                 </td><td>2                   </td><td>2                   </td></tr>\n",
       "\t<tr><th scope=row>gene_name</th><td>Gm37671           </td><td>Gm19087             </td><td>Gm8941              </td></tr>\n",
       "\t<tr><th scope=row>gene_source</th><td>havana            </td><td>havana              </td><td>havana              </td></tr>\n",
       "\t<tr><th scope=row>gene_biotype</th><td>TEC               </td><td>processed_pseudogene</td><td>processed_pseudogene</td></tr>\n",
       "\t<tr><th scope=row>transcript_id</th><td>NA                </td><td>NA                  </td><td>NA                  </td></tr>\n",
       "\t<tr><th scope=row>transcript_version</th><td>NA                </td><td>NA                  </td><td>NA                  </td></tr>\n",
       "\t<tr><th scope=row>transcript_name</th><td>NA                </td><td>NA                  </td><td>NA                  </td></tr>\n",
       "\t<tr><th scope=row>transcript_source</th><td>NA                </td><td>NA                  </td><td>NA                  </td></tr>\n",
       "\t<tr><th scope=row>transcript_biotype</th><td>NA                </td><td>NA                  </td><td>NA                  </td></tr>\n",
       "\t<tr><th scope=row>tag</th><td>NA                </td><td>NA                  </td><td>NA                  </td></tr>\n",
       "\t<tr><th scope=row>transcript_support_level</th><td>NA                </td><td>NA                  </td><td>NA                  </td></tr>\n",
       "\t<tr><th scope=row>exon_number</th><td>NA                </td><td>NA                  </td><td>NA                  </td></tr>\n",
       "\t<tr><th scope=row>exon_id</th><td>NA                </td><td>NA                  </td><td>NA                  </td></tr>\n",
       "\t<tr><th scope=row>exon_version</th><td>NA                </td><td>NA                  </td><td>NA                  </td></tr>\n",
       "\t<tr><th scope=row>protein_id</th><td>NA                </td><td>NA                  </td><td>NA                  </td></tr>\n",
       "\t<tr><th scope=row>protein_version</th><td>NA                </td><td>NA                  </td><td>NA                  </td></tr>\n",
       "\t<tr><th scope=row>ccds_id</th><td>NA                </td><td>NA                  </td><td>NA                  </td></tr>\n",
       "</tbody>\n",
       "</table>\n"
      ],
      "text/latex": [
       "A matrix: 27 × 3 of type chr\n",
       "\\begin{tabular}{r|lll}\n",
       "  & 1 & 4 & 7\\\\\n",
       "\\hline\n",
       "\tseqnames & 1                  & 1                    & 1                   \\\\\n",
       "\tstart & 150956201          & 150983666            & 151012258           \\\\\n",
       "\tend & 150958296          & 150984611            & 151013531           \\\\\n",
       "\twidth & 2096               &  946                 & 1274                \\\\\n",
       "\tstrand & +                  & +                    & +                   \\\\\n",
       "\tsource & havana             & havana               & havana              \\\\\n",
       "\ttype & gene               & gene                 & gene                \\\\\n",
       "\tscore & NA                 & NA                   & NA                  \\\\\n",
       "\tphase & NA                 & NA                   & NA                  \\\\\n",
       "\tgene\\_id & ENSMUSG00000102628 & ENSMUSG00000100595   & ENSMUSG00000097426  \\\\\n",
       "\tgene\\_version & 2                  & 2                    & 2                   \\\\\n",
       "\tgene\\_name & Gm37671            & Gm19087              & Gm8941              \\\\\n",
       "\tgene\\_source & havana             & havana               & havana              \\\\\n",
       "\tgene\\_biotype & TEC                & processed\\_pseudogene & processed\\_pseudogene\\\\\n",
       "\ttranscript\\_id & NA                 & NA                   & NA                  \\\\\n",
       "\ttranscript\\_version & NA                 & NA                   & NA                  \\\\\n",
       "\ttranscript\\_name & NA                 & NA                   & NA                  \\\\\n",
       "\ttranscript\\_source & NA                 & NA                   & NA                  \\\\\n",
       "\ttranscript\\_biotype & NA                 & NA                   & NA                  \\\\\n",
       "\ttag & NA                 & NA                   & NA                  \\\\\n",
       "\ttranscript\\_support\\_level & NA                 & NA                   & NA                  \\\\\n",
       "\texon\\_number & NA                 & NA                   & NA                  \\\\\n",
       "\texon\\_id & NA                 & NA                   & NA                  \\\\\n",
       "\texon\\_version & NA                 & NA                   & NA                  \\\\\n",
       "\tprotein\\_id & NA                 & NA                   & NA                  \\\\\n",
       "\tprotein\\_version & NA                 & NA                   & NA                  \\\\\n",
       "\tccds\\_id & NA                 & NA                   & NA                  \\\\\n",
       "\\end{tabular}\n"
      ],
      "text/markdown": [
       "\n",
       "A matrix: 27 × 3 of type chr\n",
       "\n",
       "| <!--/--> | 1 | 4 | 7 |\n",
       "|---|---|---|---|\n",
       "| seqnames | 1                  | 1                    | 1                    |\n",
       "| start | 150956201          | 150983666            | 151012258            |\n",
       "| end | 150958296          | 150984611            | 151013531            |\n",
       "| width | 2096               |  946                 | 1274                 |\n",
       "| strand | +                  | +                    | +                    |\n",
       "| source | havana             | havana               | havana               |\n",
       "| type | gene               | gene                 | gene                 |\n",
       "| score | NA                 | NA                   | NA                   |\n",
       "| phase | NA                 | NA                   | NA                   |\n",
       "| gene_id | ENSMUSG00000102628 | ENSMUSG00000100595   | ENSMUSG00000097426   |\n",
       "| gene_version | 2                  | 2                    | 2                    |\n",
       "| gene_name | Gm37671            | Gm19087              | Gm8941               |\n",
       "| gene_source | havana             | havana               | havana               |\n",
       "| gene_biotype | TEC                | processed_pseudogene | processed_pseudogene |\n",
       "| transcript_id | NA                 | NA                   | NA                   |\n",
       "| transcript_version | NA                 | NA                   | NA                   |\n",
       "| transcript_name | NA                 | NA                   | NA                   |\n",
       "| transcript_source | NA                 | NA                   | NA                   |\n",
       "| transcript_biotype | NA                 | NA                   | NA                   |\n",
       "| tag | NA                 | NA                   | NA                   |\n",
       "| transcript_support_level | NA                 | NA                   | NA                   |\n",
       "| exon_number | NA                 | NA                   | NA                   |\n",
       "| exon_id | NA                 | NA                   | NA                   |\n",
       "| exon_version | NA                 | NA                   | NA                   |\n",
       "| protein_id | NA                 | NA                   | NA                   |\n",
       "| protein_version | NA                 | NA                   | NA                   |\n",
       "| ccds_id | NA                 | NA                   | NA                   |\n",
       "\n"
      ],
      "text/plain": [
       "                         1                  4                   \n",
       "seqnames                 1                  1                   \n",
       "start                    150956201          150983666           \n",
       "end                      150958296          150984611           \n",
       "width                    2096                946                \n",
       "strand                   +                  +                   \n",
       "source                   havana             havana              \n",
       "type                     gene               gene                \n",
       "score                    NA                 NA                  \n",
       "phase                    NA                 NA                  \n",
       "gene_id                  ENSMUSG00000102628 ENSMUSG00000100595  \n",
       "gene_version             2                  2                   \n",
       "gene_name                Gm37671            Gm19087             \n",
       "gene_source              havana             havana              \n",
       "gene_biotype             TEC                processed_pseudogene\n",
       "transcript_id            NA                 NA                  \n",
       "transcript_version       NA                 NA                  \n",
       "transcript_name          NA                 NA                  \n",
       "transcript_source        NA                 NA                  \n",
       "transcript_biotype       NA                 NA                  \n",
       "tag                      NA                 NA                  \n",
       "transcript_support_level NA                 NA                  \n",
       "exon_number              NA                 NA                  \n",
       "exon_id                  NA                 NA                  \n",
       "exon_version             NA                 NA                  \n",
       "protein_id               NA                 NA                  \n",
       "protein_version          NA                 NA                  \n",
       "ccds_id                  NA                 NA                  \n",
       "                         7                   \n",
       "seqnames                 1                   \n",
       "start                    151012258           \n",
       "end                      151013531           \n",
       "width                    1274                \n",
       "strand                   +                   \n",
       "source                   havana              \n",
       "type                     gene                \n",
       "score                    NA                  \n",
       "phase                    NA                  \n",
       "gene_id                  ENSMUSG00000097426  \n",
       "gene_version             2                   \n",
       "gene_name                Gm8941              \n",
       "gene_source              havana              \n",
       "gene_biotype             processed_pseudogene\n",
       "transcript_id            NA                  \n",
       "transcript_version       NA                  \n",
       "transcript_name          NA                  \n",
       "transcript_source        NA                  \n",
       "transcript_biotype       NA                  \n",
       "tag                      NA                  \n",
       "transcript_support_level NA                  \n",
       "exon_number              NA                  \n",
       "exon_id                  NA                  \n",
       "exon_version             NA                  \n",
       "protein_id               NA                  \n",
       "protein_version          NA                  \n",
       "ccds_id                  NA                  "
      ]
     },
     "metadata": {},
     "output_type": "display_data"
    },
    {
     "data": {
      "text/html": [
       "<style>\n",
       ".list-inline {list-style: none; margin:0; padding: 0}\n",
       ".list-inline>li {display: inline-block}\n",
       ".list-inline>li:not(:last-child)::after {content: \"\\00b7\"; padding: 0 .5ex}\n",
       "</style>\n",
       "<ol class=list-inline><li>55426</li><li>27</li></ol>\n"
      ],
      "text/latex": [
       "\\begin{enumerate*}\n",
       "\\item 55426\n",
       "\\item 27\n",
       "\\end{enumerate*}\n"
      ],
      "text/markdown": [
       "1. 55426\n",
       "2. 27\n",
       "\n",
       "\n"
      ],
      "text/plain": [
       "[1] 55426    27"
      ]
     },
     "metadata": {},
     "output_type": "display_data"
    },
    {
     "data": {
      "text/html": [
       "55426"
      ],
      "text/latex": [
       "55426"
      ],
      "text/markdown": [
       "55426"
      ],
      "text/plain": [
       "[1] 55426"
      ]
     },
     "metadata": {},
     "output_type": "display_data"
    },
    {
     "data": {
      "text/html": [
       "TRUE"
      ],
      "text/latex": [
       "TRUE"
      ],
      "text/markdown": [
       "TRUE"
      ],
      "text/plain": [
       "[1] TRUE"
      ]
     },
     "metadata": {},
     "output_type": "display_data"
    },
    {
     "data": {
      "text/html": [
       "&lt;NA&gt;"
      ],
      "text/latex": [
       "<NA>"
      ],
      "text/markdown": [
       "&lt;NA&gt;"
      ],
      "text/plain": [
       "[1] NA"
      ]
     },
     "metadata": {},
     "output_type": "display_data"
    },
    {
     "data": {
      "text/html": [
       "&lt;NA&gt;"
      ],
      "text/latex": [
       "<NA>"
      ],
      "text/markdown": [
       "&lt;NA&gt;"
      ],
      "text/plain": [
       "[1] NA"
      ]
     },
     "metadata": {},
     "output_type": "display_data"
    },
    {
     "data": {
      "text/html": [
       "52338"
      ],
      "text/latex": [
       "52338"
      ],
      "text/markdown": [
       "52338"
      ],
      "text/plain": [
       "[1] 52338"
      ]
     },
     "metadata": {},
     "output_type": "display_data"
    }
   ],
   "source": [
    "df_gtf0 <- as.data.frame(granges_gtf)\n",
    "if (grepl(\"isoform\", level)) {\n",
    "    df_gtf <- df_gtf0[df_gtf0$type=='transcript',]\n",
    "} else {\n",
    "    df_gtf <- df_gtf0[df_gtf0$type=='gene',]\n",
    "}\n",
    "          \n",
    "#head(df_gtf)\n",
    "t(df_gtf[c(1,2,3),])\n",
    "dim(df_gtf)\n",
    "\n",
    "length(unique(df_gtf$gene_id))\n",
    "\n",
    "gene_name <- unique(df_gtf$gene_name)\n",
    "any(is.na(gene_name))\n",
    "any(gene_name == 'NA')\n",
    "any(nchar(gene_name)==0)\n",
    "length(gene_name)"
   ]
  },
  {
   "cell_type": "markdown",
   "id": "4107848d",
   "metadata": {},
   "source": [
    "## Gene ID"
   ]
  },
  {
   "cell_type": "code",
   "execution_count": 5,
   "id": "cb9817a3",
   "metadata": {},
   "outputs": [
    {
     "data": {
      "text/html": [
       "55426"
      ],
      "text/latex": [
       "55426"
      ],
      "text/markdown": [
       "55426"
      ],
      "text/plain": [
       "[1] 55426"
      ]
     },
     "metadata": {},
     "output_type": "display_data"
    }
   ],
   "source": [
    "length(unique(df_gtf$gene_id))"
   ]
  },
  {
   "cell_type": "code",
   "execution_count": 6,
   "id": "cfe2a213",
   "metadata": {},
   "outputs": [
    {
     "data": {
      "text/html": [],
      "text/latex": [],
      "text/markdown": [],
      "text/plain": [
       "character(0)"
      ]
     },
     "metadata": {},
     "output_type": "display_data"
    },
    {
     "data": {
      "text/html": [
       "0"
      ],
      "text/latex": [
       "0"
      ],
      "text/markdown": [
       "0"
      ],
      "text/plain": [
       "[1] 0"
      ]
     },
     "metadata": {},
     "output_type": "display_data"
    }
   ],
   "source": [
    "f <- grepl('^ucsc', df_gtf$gene_id)\n",
    "gene_id_ucsc <- unique(df_gtf$gene_id[f])\n",
    "head(gene_id_ucsc)\n",
    "length(gene_id_ucsc)"
   ]
  },
  {
   "cell_type": "code",
   "execution_count": 7,
   "id": "efcef4b2",
   "metadata": {},
   "outputs": [
    {
     "data": {
      "text/html": [
       "55426"
      ],
      "text/latex": [
       "55426"
      ],
      "text/markdown": [
       "55426"
      ],
      "text/plain": [
       "[1] 55426"
      ]
     },
     "metadata": {},
     "output_type": "display_data"
    }
   ],
   "source": [
    "length(setdiff(df_gtf$gene_id, gene_id_ucsc))"
   ]
  },
  {
   "cell_type": "markdown",
   "id": "657d8cbe",
   "metadata": {},
   "source": [
    "## Gene name"
   ]
  },
  {
   "cell_type": "code",
   "execution_count": 8,
   "id": "dd19e309",
   "metadata": {},
   "outputs": [
    {
     "data": {
      "text/html": [
       "52338"
      ],
      "text/latex": [
       "52338"
      ],
      "text/markdown": [
       "52338"
      ],
      "text/plain": [
       "[1] 52338"
      ]
     },
     "metadata": {},
     "output_type": "display_data"
    }
   ],
   "source": [
    "length(unique(df_gtf$gene_name))"
   ]
  },
  {
   "cell_type": "code",
   "execution_count": 9,
   "id": "f7428c14",
   "metadata": {},
   "outputs": [
    {
     "data": {
      "text/html": [],
      "text/latex": [],
      "text/markdown": [],
      "text/plain": [
       "character(0)"
      ]
     },
     "metadata": {},
     "output_type": "display_data"
    },
    {
     "data": {
      "text/html": [
       "0"
      ],
      "text/latex": [
       "0"
      ],
      "text/markdown": [
       "0"
      ],
      "text/plain": [
       "[1] 0"
      ]
     },
     "metadata": {},
     "output_type": "display_data"
    }
   ],
   "source": [
    "f <- grepl('^ucsc', df_gtf$gene_name)\n",
    "gene_name_ucsc <- unique(df_gtf$gene_name[f])\n",
    "head(gene_name_ucsc)\n",
    "length(gene_name_ucsc)"
   ]
  },
  {
   "cell_type": "code",
   "execution_count": 10,
   "id": "c88c5f83",
   "metadata": {},
   "outputs": [
    {
     "data": {
      "text/html": [
       "52338"
      ],
      "text/latex": [
       "52338"
      ],
      "text/markdown": [
       "52338"
      ],
      "text/plain": [
       "[1] 52338"
      ]
     },
     "metadata": {},
     "output_type": "display_data"
    }
   ],
   "source": [
    "length(setdiff(df_gtf$gene_name, gene_name_ucsc))"
   ]
  },
  {
   "cell_type": "markdown",
   "id": "bcd0a80c",
   "metadata": {},
   "source": [
    "## Gene biotype"
   ]
  },
  {
   "cell_type": "code",
   "execution_count": 11,
   "id": "6f07be56",
   "metadata": {},
   "outputs": [
    {
     "data": {
      "text/html": [
       "21802"
      ],
      "text/latex": [
       "21802"
      ],
      "text/markdown": [
       "21802"
      ],
      "text/plain": [
       "[1] 21802"
      ]
     },
     "metadata": {},
     "output_type": "display_data"
    }
   ],
   "source": [
    "f <- df_gtf$gene_biotype == 'protein_coding'\n",
    "length(unique(df_gtf[f,'gene_name']))"
   ]
  },
  {
   "cell_type": "code",
   "execution_count": 12,
   "id": "00dcd9ca",
   "metadata": {},
   "outputs": [
    {
     "data": {
      "text/html": [
       "<style>\n",
       ".list-inline {list-style: none; margin:0; padding: 0}\n",
       ".list-inline>li {display: inline-block}\n",
       ".list-inline>li:not(:last-child)::after {content: \"\\00b7\"; padding: 0 .5ex}\n",
       "</style>\n",
       "<ol class=list-inline><li>'5_8S_rRNA'</li><li>'5S_rRNA'</li><li>'rDNA_Rn18s'</li><li>'rDNA_Rn28s'</li><li>'rDNA_Rn5-8s'</li><li>'Rn18s'</li></ol>\n"
      ],
      "text/latex": [
       "\\begin{enumerate*}\n",
       "\\item '5\\_8S\\_rRNA'\n",
       "\\item '5S\\_rRNA'\n",
       "\\item 'rDNA\\_Rn18s'\n",
       "\\item 'rDNA\\_Rn28s'\n",
       "\\item 'rDNA\\_Rn5-8s'\n",
       "\\item 'Rn18s'\n",
       "\\end{enumerate*}\n"
      ],
      "text/markdown": [
       "1. '5_8S_rRNA'\n",
       "2. '5S_rRNA'\n",
       "3. 'rDNA_Rn18s'\n",
       "4. 'rDNA_Rn28s'\n",
       "5. 'rDNA_Rn5-8s'\n",
       "6. 'Rn18s'\n",
       "\n",
       "\n"
      ],
      "text/plain": [
       "[1] \"5_8S_rRNA\"   \"5S_rRNA\"     \"rDNA_Rn18s\"  \"rDNA_Rn28s\"  \"rDNA_Rn5-8s\"\n",
       "[6] \"Rn18s\"      "
      ]
     },
     "metadata": {},
     "output_type": "display_data"
    }
   ],
   "source": [
    "f <- df_gtf$gene_biotype == 'rRNA'\n",
    "f <- f & !grepl(\"n-R5s\", df_gtf$gene_name)\n",
    "sort(unique(df_gtf[f,'gene_name']))"
   ]
  },
  {
   "cell_type": "markdown",
   "id": "1a46c415",
   "metadata": {},
   "source": [
    "# df_count_mrna"
   ]
  },
  {
   "cell_type": "code",
   "execution_count": 13,
   "id": "ab6ca46c",
   "metadata": {},
   "outputs": [
    {
     "name": "stdout",
     "output_type": "stream",
     "text": [
      "./out/limma-voom.mrna/170224.rdna_rn18s/NMuMG/blancgrp_211613_RNAseq_total_stranded.counts.raw.txt.gz\n"
     ]
    },
    {
     "data": {
      "text/html": [
       "<table class=\"dataframe\">\n",
       "<caption>A data.frame: 6 × 16</caption>\n",
       "<thead>\n",
       "\t<tr><th></th><th scope=col>seqnames</th><th scope=col>start</th><th scope=col>end</th><th scope=col>width</th><th scope=col>strand</th><th scope=col>source</th><th scope=col>JBQS001</th><th scope=col>JBQS002</th><th scope=col>JBQS003</th><th scope=col>JBQS004</th><th scope=col>JBQS005</th><th scope=col>JBQS006</th><th scope=col>JBQS007</th><th scope=col>JBQS008</th><th scope=col>JBQS009</th><th scope=col>biotype</th></tr>\n",
       "\t<tr><th></th><th scope=col>&lt;fct&gt;</th><th scope=col>&lt;int&gt;</th><th scope=col>&lt;int&gt;</th><th scope=col>&lt;int&gt;</th><th scope=col>&lt;fct&gt;</th><th scope=col>&lt;fct&gt;</th><th scope=col>&lt;int&gt;</th><th scope=col>&lt;int&gt;</th><th scope=col>&lt;int&gt;</th><th scope=col>&lt;int&gt;</th><th scope=col>&lt;int&gt;</th><th scope=col>&lt;int&gt;</th><th scope=col>&lt;int&gt;</th><th scope=col>&lt;int&gt;</th><th scope=col>&lt;int&gt;</th><th scope=col>&lt;chr&gt;</th></tr>\n",
       "</thead>\n",
       "<tbody>\n",
       "\t<tr><th scope=row>rDNA_promoter</th><td>BK000964.3</td><td>   45306</td><td>   45446</td><td>  141</td><td>+</td><td>stjude        </td><td> 0</td><td> 0</td><td> 0</td><td> 0</td><td> 0</td><td> 0</td><td> 0</td><td> 0</td><td> 0</td><td>rDNA          </td></tr>\n",
       "\t<tr><th scope=row>rDNA_promoter1</th><td>BK000964.3</td><td>       1</td><td>     141</td><td>  141</td><td>+</td><td>stjude        </td><td> 0</td><td> 0</td><td> 0</td><td> 0</td><td> 0</td><td> 0</td><td> 0</td><td> 0</td><td> 0</td><td>rDNA          </td></tr>\n",
       "\t<tr><th scope=row>0610005C13Rik</th><td>7         </td><td>45217218</td><td>45224751</td><td> 7534</td><td>-</td><td>havana        </td><td> 1</td><td> 0</td><td> 0</td><td> 1</td><td> 0</td><td> 0</td><td> 0</td><td> 0</td><td> 0</td><td>lncRNA        </td></tr>\n",
       "\t<tr><th scope=row>0610006L08Rik</th><td>7         </td><td>74468566</td><td>74503561</td><td>34996</td><td>-</td><td>havana        </td><td> 0</td><td> 0</td><td> 0</td><td> 0</td><td> 0</td><td> 0</td><td> 0</td><td> 0</td><td> 0</td><td>lncRNA        </td></tr>\n",
       "\t<tr><th scope=row>0610009B22Rik</th><td>11        </td><td>51576213</td><td>51579701</td><td> 3489</td><td>-</td><td>ensembl_havana</td><td>50</td><td>47</td><td>48</td><td>40</td><td>52</td><td>68</td><td>28</td><td>85</td><td>41</td><td>protein_coding</td></tr>\n",
       "\t<tr><th scope=row>0610009E02Rik</th><td>2         </td><td>26335708</td><td>26349402</td><td>13695</td><td>+</td><td>havana        </td><td> 8</td><td> 7</td><td> 6</td><td> 2</td><td> 2</td><td> 4</td><td> 3</td><td> 4</td><td> 3</td><td>lncRNA        </td></tr>\n",
       "</tbody>\n",
       "</table>\n"
      ],
      "text/latex": [
       "A data.frame: 6 × 16\n",
       "\\begin{tabular}{r|llllllllllllllll}\n",
       "  & seqnames & start & end & width & strand & source & JBQS001 & JBQS002 & JBQS003 & JBQS004 & JBQS005 & JBQS006 & JBQS007 & JBQS008 & JBQS009 & biotype\\\\\n",
       "  & <fct> & <int> & <int> & <int> & <fct> & <fct> & <int> & <int> & <int> & <int> & <int> & <int> & <int> & <int> & <int> & <chr>\\\\\n",
       "\\hline\n",
       "\trDNA\\_promoter & BK000964.3 &    45306 &    45446 &   141 & + & stjude         &  0 &  0 &  0 &  0 &  0 &  0 &  0 &  0 &  0 & rDNA          \\\\\n",
       "\trDNA\\_promoter1 & BK000964.3 &        1 &      141 &   141 & + & stjude         &  0 &  0 &  0 &  0 &  0 &  0 &  0 &  0 &  0 & rDNA          \\\\\n",
       "\t0610005C13Rik & 7          & 45217218 & 45224751 &  7534 & - & havana         &  1 &  0 &  0 &  1 &  0 &  0 &  0 &  0 &  0 & lncRNA        \\\\\n",
       "\t0610006L08Rik & 7          & 74468566 & 74503561 & 34996 & - & havana         &  0 &  0 &  0 &  0 &  0 &  0 &  0 &  0 &  0 & lncRNA        \\\\\n",
       "\t0610009B22Rik & 11         & 51576213 & 51579701 &  3489 & - & ensembl\\_havana & 50 & 47 & 48 & 40 & 52 & 68 & 28 & 85 & 41 & protein\\_coding\\\\\n",
       "\t0610009E02Rik & 2          & 26335708 & 26349402 & 13695 & + & havana         &  8 &  7 &  6 &  2 &  2 &  4 &  3 &  4 &  3 & lncRNA        \\\\\n",
       "\\end{tabular}\n"
      ],
      "text/markdown": [
       "\n",
       "A data.frame: 6 × 16\n",
       "\n",
       "| <!--/--> | seqnames &lt;fct&gt; | start &lt;int&gt; | end &lt;int&gt; | width &lt;int&gt; | strand &lt;fct&gt; | source &lt;fct&gt; | JBQS001 &lt;int&gt; | JBQS002 &lt;int&gt; | JBQS003 &lt;int&gt; | JBQS004 &lt;int&gt; | JBQS005 &lt;int&gt; | JBQS006 &lt;int&gt; | JBQS007 &lt;int&gt; | JBQS008 &lt;int&gt; | JBQS009 &lt;int&gt; | biotype &lt;chr&gt; |\n",
       "|---|---|---|---|---|---|---|---|---|---|---|---|---|---|---|---|---|\n",
       "| rDNA_promoter | BK000964.3 |    45306 |    45446 |   141 | + | stjude         |  0 |  0 |  0 |  0 |  0 |  0 |  0 |  0 |  0 | rDNA           |\n",
       "| rDNA_promoter1 | BK000964.3 |        1 |      141 |   141 | + | stjude         |  0 |  0 |  0 |  0 |  0 |  0 |  0 |  0 |  0 | rDNA           |\n",
       "| 0610005C13Rik | 7          | 45217218 | 45224751 |  7534 | - | havana         |  1 |  0 |  0 |  1 |  0 |  0 |  0 |  0 |  0 | lncRNA         |\n",
       "| 0610006L08Rik | 7          | 74468566 | 74503561 | 34996 | - | havana         |  0 |  0 |  0 |  0 |  0 |  0 |  0 |  0 |  0 | lncRNA         |\n",
       "| 0610009B22Rik | 11         | 51576213 | 51579701 |  3489 | - | ensembl_havana | 50 | 47 | 48 | 40 | 52 | 68 | 28 | 85 | 41 | protein_coding |\n",
       "| 0610009E02Rik | 2          | 26335708 | 26349402 | 13695 | + | havana         |  8 |  7 |  6 |  2 |  2 |  4 |  3 |  4 |  3 | lncRNA         |\n",
       "\n"
      ],
      "text/plain": [
       "               seqnames   start    end      width strand source         JBQS001\n",
       "rDNA_promoter  BK000964.3    45306    45446   141 +      stjude          0     \n",
       "rDNA_promoter1 BK000964.3        1      141   141 +      stjude          0     \n",
       "0610005C13Rik  7          45217218 45224751  7534 -      havana          1     \n",
       "0610006L08Rik  7          74468566 74503561 34996 -      havana          0     \n",
       "0610009B22Rik  11         51576213 51579701  3489 -      ensembl_havana 50     \n",
       "0610009E02Rik  2          26335708 26349402 13695 +      havana          8     \n",
       "               JBQS002 JBQS003 JBQS004 JBQS005 JBQS006 JBQS007 JBQS008 JBQS009\n",
       "rDNA_promoter   0       0       0       0       0       0       0       0     \n",
       "rDNA_promoter1  0       0       0       0       0       0       0       0     \n",
       "0610005C13Rik   0       0       1       0       0       0       0       0     \n",
       "0610006L08Rik   0       0       0       0       0       0       0       0     \n",
       "0610009B22Rik  47      48      40      52      68      28      85      41     \n",
       "0610009E02Rik   7       6       2       2       4       3       4       3     \n",
       "               biotype       \n",
       "rDNA_promoter  rDNA          \n",
       "rDNA_promoter1 rDNA          \n",
       "0610005C13Rik  lncRNA        \n",
       "0610006L08Rik  lncRNA        \n",
       "0610009B22Rik  protein_coding\n",
       "0610009E02Rik  lncRNA        "
      ]
     },
     "metadata": {},
     "output_type": "display_data"
    }
   ],
   "source": [
    "# Jake quick lysis totalRNA \n",
    "\n",
    "fname_in <- sprintf(\"%s/blancgrp_211613_RNAseq_total_stranded.counts.raw.txt.gz\", dir_rnaseq)\n",
    "verb('%s\\n', fname_in)\n",
    "df_count_mrna <- read.table(file=fname_in, \n",
    "                header=TRUE, sep=\"\\t\", row.names=1,\n",
    "                quote=\"\", comment.char=\"#\", stringsAsFactors=F)\n",
    "\n",
    "# add seqnames, start, end, witdth, strand, source\n",
    "sym <- rownames(df_count_mrna)\n",
    "if (grepl(\"isoform\", level)) {\n",
    "    idx <- match(rownames(df_count_mrna), df_gtf$transcript_name)\n",
    "    df_count_mrna <- cbind(df_gtf[idx, 1:6], df_count_mrna)\n",
    "    df_count_mrna$biotype <- df_gtf[idx, \"transcript_biotype\"]\n",
    "    \n",
    "} else {    \n",
    "    idx <- match(rownames(df_count_mrna), df_gtf$gene_name)\n",
    "    df_count_mrna <- cbind(df_gtf[idx, 1:6], df_count_mrna)    \n",
    "    df_count_mrna$biotype <- df_gtf[idx, \"gene_biotype\"]\n",
    "}\n",
    "\n",
    "rownames(df_count_mrna) <- sym\n",
    "head(df_count_mrna)"
   ]
  },
  {
   "cell_type": "markdown",
   "id": "91d90e4a",
   "metadata": {},
   "source": [
    "# df_count_ribo"
   ]
  },
  {
   "cell_type": "code",
   "execution_count": 14,
   "id": "1f53429d",
   "metadata": {},
   "outputs": [
    {
     "name": "stdout",
     "output_type": "stream",
     "text": [
      "./out/limma-voom.mrna/161021.rdna_rn18s/NMuMG/blancgrp_161021_Riboseq.counts.raw.txt.gz\n"
     ]
    },
    {
     "data": {
      "text/html": [
       "<table class=\"dataframe\">\n",
       "<caption>A data.frame: 6 × 16</caption>\n",
       "<thead>\n",
       "\t<tr><th></th><th scope=col>seqnames</th><th scope=col>start</th><th scope=col>end</th><th scope=col>width</th><th scope=col>strand</th><th scope=col>source</th><th scope=col>RD0175</th><th scope=col>RD0176</th><th scope=col>RD0177</th><th scope=col>RD0178</th><th scope=col>RD0179</th><th scope=col>RD0180</th><th scope=col>RD0184</th><th scope=col>RD0185</th><th scope=col>RD0186</th><th scope=col>biotype</th></tr>\n",
       "\t<tr><th></th><th scope=col>&lt;fct&gt;</th><th scope=col>&lt;int&gt;</th><th scope=col>&lt;int&gt;</th><th scope=col>&lt;int&gt;</th><th scope=col>&lt;fct&gt;</th><th scope=col>&lt;fct&gt;</th><th scope=col>&lt;int&gt;</th><th scope=col>&lt;int&gt;</th><th scope=col>&lt;int&gt;</th><th scope=col>&lt;int&gt;</th><th scope=col>&lt;int&gt;</th><th scope=col>&lt;int&gt;</th><th scope=col>&lt;int&gt;</th><th scope=col>&lt;int&gt;</th><th scope=col>&lt;int&gt;</th><th scope=col>&lt;chr&gt;</th></tr>\n",
       "</thead>\n",
       "<tbody>\n",
       "\t<tr><th scope=row>rDNA_promoter</th><td>BK000964.3</td><td>   45306</td><td>   45446</td><td>  141</td><td>+</td><td>stjude        </td><td> 0</td><td> 0</td><td> 0</td><td> 0</td><td> 0</td><td> 0</td><td> 0</td><td> 0</td><td> 0</td><td>rDNA          </td></tr>\n",
       "\t<tr><th scope=row>rDNA_promoter1</th><td>BK000964.3</td><td>       1</td><td>     141</td><td>  141</td><td>+</td><td>stjude        </td><td> 0</td><td> 0</td><td> 0</td><td> 0</td><td> 0</td><td> 0</td><td> 0</td><td> 0</td><td> 0</td><td>rDNA          </td></tr>\n",
       "\t<tr><th scope=row>0610005C13Rik</th><td>7         </td><td>45217218</td><td>45224751</td><td> 7534</td><td>-</td><td>havana        </td><td> 0</td><td> 0</td><td> 0</td><td> 0</td><td> 0</td><td> 0</td><td> 0</td><td> 0</td><td> 0</td><td>lncRNA        </td></tr>\n",
       "\t<tr><th scope=row>0610006L08Rik</th><td>7         </td><td>74468566</td><td>74503561</td><td>34996</td><td>-</td><td>havana        </td><td> 0</td><td> 0</td><td> 0</td><td> 0</td><td> 0</td><td> 0</td><td> 0</td><td> 0</td><td> 0</td><td>lncRNA        </td></tr>\n",
       "\t<tr><th scope=row>0610009B22Rik</th><td>11        </td><td>51576213</td><td>51579701</td><td> 3489</td><td>-</td><td>ensembl_havana</td><td>32</td><td>34</td><td>28</td><td>12</td><td>12</td><td>19</td><td>35</td><td>38</td><td>31</td><td>protein_coding</td></tr>\n",
       "\t<tr><th scope=row>0610009E02Rik</th><td>2         </td><td>26335708</td><td>26349402</td><td>13695</td><td>+</td><td>havana        </td><td> 0</td><td> 0</td><td> 0</td><td> 0</td><td> 0</td><td> 1</td><td> 0</td><td> 0</td><td> 0</td><td>lncRNA        </td></tr>\n",
       "</tbody>\n",
       "</table>\n"
      ],
      "text/latex": [
       "A data.frame: 6 × 16\n",
       "\\begin{tabular}{r|llllllllllllllll}\n",
       "  & seqnames & start & end & width & strand & source & RD0175 & RD0176 & RD0177 & RD0178 & RD0179 & RD0180 & RD0184 & RD0185 & RD0186 & biotype\\\\\n",
       "  & <fct> & <int> & <int> & <int> & <fct> & <fct> & <int> & <int> & <int> & <int> & <int> & <int> & <int> & <int> & <int> & <chr>\\\\\n",
       "\\hline\n",
       "\trDNA\\_promoter & BK000964.3 &    45306 &    45446 &   141 & + & stjude         &  0 &  0 &  0 &  0 &  0 &  0 &  0 &  0 &  0 & rDNA          \\\\\n",
       "\trDNA\\_promoter1 & BK000964.3 &        1 &      141 &   141 & + & stjude         &  0 &  0 &  0 &  0 &  0 &  0 &  0 &  0 &  0 & rDNA          \\\\\n",
       "\t0610005C13Rik & 7          & 45217218 & 45224751 &  7534 & - & havana         &  0 &  0 &  0 &  0 &  0 &  0 &  0 &  0 &  0 & lncRNA        \\\\\n",
       "\t0610006L08Rik & 7          & 74468566 & 74503561 & 34996 & - & havana         &  0 &  0 &  0 &  0 &  0 &  0 &  0 &  0 &  0 & lncRNA        \\\\\n",
       "\t0610009B22Rik & 11         & 51576213 & 51579701 &  3489 & - & ensembl\\_havana & 32 & 34 & 28 & 12 & 12 & 19 & 35 & 38 & 31 & protein\\_coding\\\\\n",
       "\t0610009E02Rik & 2          & 26335708 & 26349402 & 13695 & + & havana         &  0 &  0 &  0 &  0 &  0 &  1 &  0 &  0 &  0 & lncRNA        \\\\\n",
       "\\end{tabular}\n"
      ],
      "text/markdown": [
       "\n",
       "A data.frame: 6 × 16\n",
       "\n",
       "| <!--/--> | seqnames &lt;fct&gt; | start &lt;int&gt; | end &lt;int&gt; | width &lt;int&gt; | strand &lt;fct&gt; | source &lt;fct&gt; | RD0175 &lt;int&gt; | RD0176 &lt;int&gt; | RD0177 &lt;int&gt; | RD0178 &lt;int&gt; | RD0179 &lt;int&gt; | RD0180 &lt;int&gt; | RD0184 &lt;int&gt; | RD0185 &lt;int&gt; | RD0186 &lt;int&gt; | biotype &lt;chr&gt; |\n",
       "|---|---|---|---|---|---|---|---|---|---|---|---|---|---|---|---|---|\n",
       "| rDNA_promoter | BK000964.3 |    45306 |    45446 |   141 | + | stjude         |  0 |  0 |  0 |  0 |  0 |  0 |  0 |  0 |  0 | rDNA           |\n",
       "| rDNA_promoter1 | BK000964.3 |        1 |      141 |   141 | + | stjude         |  0 |  0 |  0 |  0 |  0 |  0 |  0 |  0 |  0 | rDNA           |\n",
       "| 0610005C13Rik | 7          | 45217218 | 45224751 |  7534 | - | havana         |  0 |  0 |  0 |  0 |  0 |  0 |  0 |  0 |  0 | lncRNA         |\n",
       "| 0610006L08Rik | 7          | 74468566 | 74503561 | 34996 | - | havana         |  0 |  0 |  0 |  0 |  0 |  0 |  0 |  0 |  0 | lncRNA         |\n",
       "| 0610009B22Rik | 11         | 51576213 | 51579701 |  3489 | - | ensembl_havana | 32 | 34 | 28 | 12 | 12 | 19 | 35 | 38 | 31 | protein_coding |\n",
       "| 0610009E02Rik | 2          | 26335708 | 26349402 | 13695 | + | havana         |  0 |  0 |  0 |  0 |  0 |  1 |  0 |  0 |  0 | lncRNA         |\n",
       "\n"
      ],
      "text/plain": [
       "               seqnames   start    end      width strand source         RD0175\n",
       "rDNA_promoter  BK000964.3    45306    45446   141 +      stjude          0    \n",
       "rDNA_promoter1 BK000964.3        1      141   141 +      stjude          0    \n",
       "0610005C13Rik  7          45217218 45224751  7534 -      havana          0    \n",
       "0610006L08Rik  7          74468566 74503561 34996 -      havana          0    \n",
       "0610009B22Rik  11         51576213 51579701  3489 -      ensembl_havana 32    \n",
       "0610009E02Rik  2          26335708 26349402 13695 +      havana          0    \n",
       "               RD0176 RD0177 RD0178 RD0179 RD0180 RD0184 RD0185 RD0186\n",
       "rDNA_promoter   0      0      0      0      0      0      0      0    \n",
       "rDNA_promoter1  0      0      0      0      0      0      0      0    \n",
       "0610005C13Rik   0      0      0      0      0      0      0      0    \n",
       "0610006L08Rik   0      0      0      0      0      0      0      0    \n",
       "0610009B22Rik  34     28     12     12     19     35     38     31    \n",
       "0610009E02Rik   0      0      0      0      1      0      0      0    \n",
       "               biotype       \n",
       "rDNA_promoter  rDNA          \n",
       "rDNA_promoter1 rDNA          \n",
       "0610005C13Rik  lncRNA        \n",
       "0610006L08Rik  lncRNA        \n",
       "0610009B22Rik  protein_coding\n",
       "0610009E02Rik  lncRNA        "
      ]
     },
     "metadata": {},
     "output_type": "display_data"
    }
   ],
   "source": [
    "fname_in <- sprintf(\"%s/blancgrp_161021_Riboseq.counts.raw.txt.gz\", dir_riboseq)\n",
    "verb('%s\\n', fname_in)\n",
    "df_count_ribo <- read.table(file=fname_in, \n",
    "                header=TRUE, sep=\"\\t\", row.names=1,\n",
    "                quote=\"\", comment.char=\"#\", stringsAsFactors=F)\n",
    "\n",
    "sym <- rownames(df_count_ribo)\n",
    "if (grepl(\"isoform\", level)) {\n",
    "    idx <- match(rownames(df_count_ribo), df_gtf$transcript_name)\n",
    "    df_count_ribo <- cbind(df_gtf[idx, 1:6], df_count_ribo)\n",
    "    df_count_ribo$biotype <- df_gtf[idx, \"transcript_biotype\"]\n",
    "    \n",
    "} else {    \n",
    "    idx <- match(rownames(df_count_ribo), df_gtf$gene_name)\n",
    "    df_count_ribo <- cbind(df_gtf[idx, 1:6], df_count_ribo)    \n",
    "    df_count_ribo$biotype <- df_gtf[idx, \"gene_biotype\"]\n",
    "}\n",
    "\n",
    "rownames(df_count_ribo) <- sym\n",
    "head(df_count_ribo)"
   ]
  },
  {
   "cell_type": "markdown",
   "id": "c61decdc",
   "metadata": {},
   "source": [
    "## df_transcription"
   ]
  },
  {
   "cell_type": "code",
   "execution_count": 15,
   "id": "cdded628",
   "metadata": {},
   "outputs": [
    {
     "name": "stdout",
     "output_type": "stream",
     "text": [
      "./out/limma-voom.mrna/170224.rdna_rn18s/NMuMG/blancgrp_211613_RNAseq_total_stranded.log2cpm.txt.gz\n"
     ]
    },
    {
     "data": {
      "text/html": [
       "<table class=\"dataframe\">\n",
       "<caption>A data.frame: 6 × 3</caption>\n",
       "<thead>\n",
       "\t<tr><th></th><th scope=col>unt.transcription</th><th scope=col>tgfb.transcription</th><th scope=col>tgfbCX5461.transcription</th></tr>\n",
       "\t<tr><th></th><th scope=col>&lt;dbl&gt;</th><th scope=col>&lt;dbl&gt;</th><th scope=col>&lt;dbl&gt;</th></tr>\n",
       "</thead>\n",
       "<tbody>\n",
       "\t<tr><th scope=row>0610009B22Rik</th><td>-1.7361927</td><td>-1.77777696</td><td>-1.52337076</td></tr>\n",
       "\t<tr><th scope=row>0610009E02Rik</th><td>-4.4542278</td><td>-5.89842646</td><td>-5.22659361</td></tr>\n",
       "\t<tr><th scope=row>0610009L18Rik</th><td>-5.7348513</td><td>-5.04982074</td><td>-5.32317910</td></tr>\n",
       "\t<tr><th scope=row>0610010F05Rik</th><td>-0.5443124</td><td>-0.18299550</td><td>-0.57995446</td></tr>\n",
       "\t<tr><th scope=row>0610010K14Rik</th><td>-1.0822802</td><td>-1.73978964</td><td>-1.85796767</td></tr>\n",
       "\t<tr><th scope=row>0610012G03Rik</th><td> 0.1094487</td><td> 0.09824498</td><td> 0.09778162</td></tr>\n",
       "</tbody>\n",
       "</table>\n"
      ],
      "text/latex": [
       "A data.frame: 6 × 3\n",
       "\\begin{tabular}{r|lll}\n",
       "  & unt.transcription & tgfb.transcription & tgfbCX5461.transcription\\\\\n",
       "  & <dbl> & <dbl> & <dbl>\\\\\n",
       "\\hline\n",
       "\t0610009B22Rik & -1.7361927 & -1.77777696 & -1.52337076\\\\\n",
       "\t0610009E02Rik & -4.4542278 & -5.89842646 & -5.22659361\\\\\n",
       "\t0610009L18Rik & -5.7348513 & -5.04982074 & -5.32317910\\\\\n",
       "\t0610010F05Rik & -0.5443124 & -0.18299550 & -0.57995446\\\\\n",
       "\t0610010K14Rik & -1.0822802 & -1.73978964 & -1.85796767\\\\\n",
       "\t0610012G03Rik &  0.1094487 &  0.09824498 &  0.09778162\\\\\n",
       "\\end{tabular}\n"
      ],
      "text/markdown": [
       "\n",
       "A data.frame: 6 × 3\n",
       "\n",
       "| <!--/--> | unt.transcription &lt;dbl&gt; | tgfb.transcription &lt;dbl&gt; | tgfbCX5461.transcription &lt;dbl&gt; |\n",
       "|---|---|---|---|\n",
       "| 0610009B22Rik | -1.7361927 | -1.77777696 | -1.52337076 |\n",
       "| 0610009E02Rik | -4.4542278 | -5.89842646 | -5.22659361 |\n",
       "| 0610009L18Rik | -5.7348513 | -5.04982074 | -5.32317910 |\n",
       "| 0610010F05Rik | -0.5443124 | -0.18299550 | -0.57995446 |\n",
       "| 0610010K14Rik | -1.0822802 | -1.73978964 | -1.85796767 |\n",
       "| 0610012G03Rik |  0.1094487 |  0.09824498 |  0.09778162 |\n",
       "\n"
      ],
      "text/plain": [
       "              unt.transcription tgfb.transcription tgfbCX5461.transcription\n",
       "0610009B22Rik -1.7361927        -1.77777696        -1.52337076             \n",
       "0610009E02Rik -4.4542278        -5.89842646        -5.22659361             \n",
       "0610009L18Rik -5.7348513        -5.04982074        -5.32317910             \n",
       "0610010F05Rik -0.5443124        -0.18299550        -0.57995446             \n",
       "0610010K14Rik -1.0822802        -1.73978964        -1.85796767             \n",
       "0610012G03Rik  0.1094487         0.09824498         0.09778162             "
      ]
     },
     "metadata": {},
     "output_type": "display_data"
    },
    {
     "data": {
      "text/html": [
       "<style>\n",
       ".list-inline {list-style: none; margin:0; padding: 0}\n",
       ".list-inline>li {display: inline-block}\n",
       ".list-inline>li:not(:last-child)::after {content: \"\\00b7\"; padding: 0 .5ex}\n",
       "</style>\n",
       "<ol class=list-inline><li>13006</li><li>3</li></ol>\n"
      ],
      "text/latex": [
       "\\begin{enumerate*}\n",
       "\\item 13006\n",
       "\\item 3\n",
       "\\end{enumerate*}\n"
      ],
      "text/markdown": [
       "1. 13006\n",
       "2. 3\n",
       "\n",
       "\n"
      ],
      "text/plain": [
       "[1] 13006     3"
      ]
     },
     "metadata": {},
     "output_type": "display_data"
    },
    {
     "name": "stdout",
     "output_type": "stream",
     "text": [
      "./out/limma-voom.mrna/170224.rdna_rn18s/NMuMG/blancgrp_211613_RNAseq_total_stranded.unt--vs--tgfb.all.txt.gz\n"
     ]
    },
    {
     "data": {
      "text/html": [
       "<table class=\"dataframe\">\n",
       "<caption>A data.frame: 6 × 5</caption>\n",
       "<thead>\n",
       "\t<tr><th></th><th scope=col>unt.transcription</th><th scope=col>tgfb.transcription</th><th scope=col>log2FCuntVStgfb.transcription</th><th scope=col>FDRuntVStgfb.transcription</th><th scope=col>PuntVStgfb.transcription</th></tr>\n",
       "\t<tr><th></th><th scope=col>&lt;dbl&gt;</th><th scope=col>&lt;dbl&gt;</th><th scope=col>&lt;dbl&gt;</th><th scope=col>&lt;dbl&gt;</th><th scope=col>&lt;dbl&gt;</th></tr>\n",
       "</thead>\n",
       "<tbody>\n",
       "\t<tr><th scope=row>4930402H24Rik</th><td> 1.6107994</td><td> 2.4726014</td><td> 0.861802</td><td>0</td><td>0</td></tr>\n",
       "\t<tr><th scope=row>Abcc2</th><td>-0.3106197</td><td>-3.8326160</td><td>-3.521996</td><td>0</td><td>0</td></tr>\n",
       "\t<tr><th scope=row>Abcc3</th><td> 1.8096731</td><td> 0.6774089</td><td>-1.132264</td><td>0</td><td>0</td></tr>\n",
       "\t<tr><th scope=row>Abcc4</th><td> 2.6411045</td><td> 1.0325850</td><td>-1.608520</td><td>0</td><td>0</td></tr>\n",
       "\t<tr><th scope=row>Abcd3</th><td> 1.8514176</td><td> 0.3012823</td><td>-1.550135</td><td>0</td><td>0</td></tr>\n",
       "\t<tr><th scope=row>Abhd17a</th><td> 0.9001339</td><td> 1.9114717</td><td> 1.011338</td><td>0</td><td>0</td></tr>\n",
       "</tbody>\n",
       "</table>\n"
      ],
      "text/latex": [
       "A data.frame: 6 × 5\n",
       "\\begin{tabular}{r|lllll}\n",
       "  & unt.transcription & tgfb.transcription & log2FCuntVStgfb.transcription & FDRuntVStgfb.transcription & PuntVStgfb.transcription\\\\\n",
       "  & <dbl> & <dbl> & <dbl> & <dbl> & <dbl>\\\\\n",
       "\\hline\n",
       "\t4930402H24Rik &  1.6107994 &  2.4726014 &  0.861802 & 0 & 0\\\\\n",
       "\tAbcc2 & -0.3106197 & -3.8326160 & -3.521996 & 0 & 0\\\\\n",
       "\tAbcc3 &  1.8096731 &  0.6774089 & -1.132264 & 0 & 0\\\\\n",
       "\tAbcc4 &  2.6411045 &  1.0325850 & -1.608520 & 0 & 0\\\\\n",
       "\tAbcd3 &  1.8514176 &  0.3012823 & -1.550135 & 0 & 0\\\\\n",
       "\tAbhd17a &  0.9001339 &  1.9114717 &  1.011338 & 0 & 0\\\\\n",
       "\\end{tabular}\n"
      ],
      "text/markdown": [
       "\n",
       "A data.frame: 6 × 5\n",
       "\n",
       "| <!--/--> | unt.transcription &lt;dbl&gt; | tgfb.transcription &lt;dbl&gt; | log2FCuntVStgfb.transcription &lt;dbl&gt; | FDRuntVStgfb.transcription &lt;dbl&gt; | PuntVStgfb.transcription &lt;dbl&gt; |\n",
       "|---|---|---|---|---|---|\n",
       "| 4930402H24Rik |  1.6107994 |  2.4726014 |  0.861802 | 0 | 0 |\n",
       "| Abcc2 | -0.3106197 | -3.8326160 | -3.521996 | 0 | 0 |\n",
       "| Abcc3 |  1.8096731 |  0.6774089 | -1.132264 | 0 | 0 |\n",
       "| Abcc4 |  2.6411045 |  1.0325850 | -1.608520 | 0 | 0 |\n",
       "| Abcd3 |  1.8514176 |  0.3012823 | -1.550135 | 0 | 0 |\n",
       "| Abhd17a |  0.9001339 |  1.9114717 |  1.011338 | 0 | 0 |\n",
       "\n"
      ],
      "text/plain": [
       "              unt.transcription tgfb.transcription\n",
       "4930402H24Rik  1.6107994         2.4726014        \n",
       "Abcc2         -0.3106197        -3.8326160        \n",
       "Abcc3          1.8096731         0.6774089        \n",
       "Abcc4          2.6411045         1.0325850        \n",
       "Abcd3          1.8514176         0.3012823        \n",
       "Abhd17a        0.9001339         1.9114717        \n",
       "              log2FCuntVStgfb.transcription FDRuntVStgfb.transcription\n",
       "4930402H24Rik  0.861802                     0                         \n",
       "Abcc2         -3.521996                     0                         \n",
       "Abcc3         -1.132264                     0                         \n",
       "Abcc4         -1.608520                     0                         \n",
       "Abcd3         -1.550135                     0                         \n",
       "Abhd17a        1.011338                     0                         \n",
       "              PuntVStgfb.transcription\n",
       "4930402H24Rik 0                       \n",
       "Abcc2         0                       \n",
       "Abcc3         0                       \n",
       "Abcc4         0                       \n",
       "Abcd3         0                       \n",
       "Abhd17a       0                       "
      ]
     },
     "metadata": {},
     "output_type": "display_data"
    },
    {
     "data": {
      "text/html": [
       "<style>\n",
       ".list-inline {list-style: none; margin:0; padding: 0}\n",
       ".list-inline>li {display: inline-block}\n",
       ".list-inline>li:not(:last-child)::after {content: \"\\00b7\"; padding: 0 .5ex}\n",
       "</style>\n",
       "<ol class=list-inline><li>13006</li><li>5</li></ol>\n"
      ],
      "text/latex": [
       "\\begin{enumerate*}\n",
       "\\item 13006\n",
       "\\item 5\n",
       "\\end{enumerate*}\n"
      ],
      "text/markdown": [
       "1. 13006\n",
       "2. 5\n",
       "\n",
       "\n"
      ],
      "text/plain": [
       "[1] 13006     5"
      ]
     },
     "metadata": {},
     "output_type": "display_data"
    },
    {
     "name": "stdout",
     "output_type": "stream",
     "text": [
      "./out/limma-voom.mrna/170224.rdna_rn18s/NMuMG/blancgrp_211613_RNAseq_total_stranded.tgfb--vs--tgfbCX.all.txt.gz\n"
     ]
    },
    {
     "data": {
      "text/html": [
       "<table class=\"dataframe\">\n",
       "<caption>A data.frame: 6 × 5</caption>\n",
       "<thead>\n",
       "\t<tr><th></th><th scope=col>tgfb.transcription</th><th scope=col>tgfbCX5461.transcription</th><th scope=col>log2FCtgfbVStgfbCX5461.transcription</th><th scope=col>FDRtgfbVStgfbCX5461.transcription</th><th scope=col>PtgfbVStgfbCX5461.transcription</th></tr>\n",
       "\t<tr><th></th><th scope=col>&lt;dbl&gt;</th><th scope=col>&lt;dbl&gt;</th><th scope=col>&lt;dbl&gt;</th><th scope=col>&lt;dbl&gt;</th><th scope=col>&lt;dbl&gt;</th></tr>\n",
       "</thead>\n",
       "<tbody>\n",
       "\t<tr><th scope=row>Ccng1</th><td>2.024061</td><td>3.005395</td><td>0.9813342</td><td>0e+00</td><td>0</td></tr>\n",
       "\t<tr><th scope=row>Cdkn1a</th><td>1.201262</td><td>2.903427</td><td>1.7021649</td><td>0e+00</td><td>0</td></tr>\n",
       "\t<tr><th scope=row>Ctsd</th><td>5.208313</td><td>5.777468</td><td>0.5691555</td><td>1e-11</td><td>0</td></tr>\n",
       "\t<tr><th scope=row>Lce1g</th><td>2.005627</td><td>2.834313</td><td>0.8286863</td><td>1e-11</td><td>0</td></tr>\n",
       "\t<tr><th scope=row>Slco2a1</th><td>2.261261</td><td>3.028303</td><td>0.7670417</td><td>3e-11</td><td>0</td></tr>\n",
       "\t<tr><th scope=row>Itgb4</th><td>2.102091</td><td>2.894961</td><td>0.7928702</td><td>5e-11</td><td>0</td></tr>\n",
       "</tbody>\n",
       "</table>\n"
      ],
      "text/latex": [
       "A data.frame: 6 × 5\n",
       "\\begin{tabular}{r|lllll}\n",
       "  & tgfb.transcription & tgfbCX5461.transcription & log2FCtgfbVStgfbCX5461.transcription & FDRtgfbVStgfbCX5461.transcription & PtgfbVStgfbCX5461.transcription\\\\\n",
       "  & <dbl> & <dbl> & <dbl> & <dbl> & <dbl>\\\\\n",
       "\\hline\n",
       "\tCcng1 & 2.024061 & 3.005395 & 0.9813342 & 0e+00 & 0\\\\\n",
       "\tCdkn1a & 1.201262 & 2.903427 & 1.7021649 & 0e+00 & 0\\\\\n",
       "\tCtsd & 5.208313 & 5.777468 & 0.5691555 & 1e-11 & 0\\\\\n",
       "\tLce1g & 2.005627 & 2.834313 & 0.8286863 & 1e-11 & 0\\\\\n",
       "\tSlco2a1 & 2.261261 & 3.028303 & 0.7670417 & 3e-11 & 0\\\\\n",
       "\tItgb4 & 2.102091 & 2.894961 & 0.7928702 & 5e-11 & 0\\\\\n",
       "\\end{tabular}\n"
      ],
      "text/markdown": [
       "\n",
       "A data.frame: 6 × 5\n",
       "\n",
       "| <!--/--> | tgfb.transcription &lt;dbl&gt; | tgfbCX5461.transcription &lt;dbl&gt; | log2FCtgfbVStgfbCX5461.transcription &lt;dbl&gt; | FDRtgfbVStgfbCX5461.transcription &lt;dbl&gt; | PtgfbVStgfbCX5461.transcription &lt;dbl&gt; |\n",
       "|---|---|---|---|---|---|\n",
       "| Ccng1 | 2.024061 | 3.005395 | 0.9813342 | 0e+00 | 0 |\n",
       "| Cdkn1a | 1.201262 | 2.903427 | 1.7021649 | 0e+00 | 0 |\n",
       "| Ctsd | 5.208313 | 5.777468 | 0.5691555 | 1e-11 | 0 |\n",
       "| Lce1g | 2.005627 | 2.834313 | 0.8286863 | 1e-11 | 0 |\n",
       "| Slco2a1 | 2.261261 | 3.028303 | 0.7670417 | 3e-11 | 0 |\n",
       "| Itgb4 | 2.102091 | 2.894961 | 0.7928702 | 5e-11 | 0 |\n",
       "\n"
      ],
      "text/plain": [
       "        tgfb.transcription tgfbCX5461.transcription\n",
       "Ccng1   2.024061           3.005395                \n",
       "Cdkn1a  1.201262           2.903427                \n",
       "Ctsd    5.208313           5.777468                \n",
       "Lce1g   2.005627           2.834313                \n",
       "Slco2a1 2.261261           3.028303                \n",
       "Itgb4   2.102091           2.894961                \n",
       "        log2FCtgfbVStgfbCX5461.transcription FDRtgfbVStgfbCX5461.transcription\n",
       "Ccng1   0.9813342                            0e+00                            \n",
       "Cdkn1a  1.7021649                            0e+00                            \n",
       "Ctsd    0.5691555                            1e-11                            \n",
       "Lce1g   0.8286863                            1e-11                            \n",
       "Slco2a1 0.7670417                            3e-11                            \n",
       "Itgb4   0.7928702                            5e-11                            \n",
       "        PtgfbVStgfbCX5461.transcription\n",
       "Ccng1   0                              \n",
       "Cdkn1a  0                              \n",
       "Ctsd    0                              \n",
       "Lce1g   0                              \n",
       "Slco2a1 0                              \n",
       "Itgb4   0                              "
      ]
     },
     "metadata": {},
     "output_type": "display_data"
    },
    {
     "data": {
      "text/html": [
       "<style>\n",
       ".list-inline {list-style: none; margin:0; padding: 0}\n",
       ".list-inline>li {display: inline-block}\n",
       ".list-inline>li:not(:last-child)::after {content: \"\\00b7\"; padding: 0 .5ex}\n",
       "</style>\n",
       "<ol class=list-inline><li>13006</li><li>5</li></ol>\n"
      ],
      "text/latex": [
       "\\begin{enumerate*}\n",
       "\\item 13006\n",
       "\\item 5\n",
       "\\end{enumerate*}\n"
      ],
      "text/markdown": [
       "1. 13006\n",
       "2. 5\n",
       "\n",
       "\n"
      ],
      "text/plain": [
       "[1] 13006     5"
      ]
     },
     "metadata": {},
     "output_type": "display_data"
    },
    {
     "data": {
      "text/html": [
       "<table class=\"dataframe\">\n",
       "<caption>A data.frame: 1 × 12</caption>\n",
       "<thead>\n",
       "\t<tr><th></th><th scope=col>unt.transcription</th><th scope=col>tgfb.transcription</th><th scope=col>tgfbCX5461.transcription</th><th scope=col>log2FCuntVStgfb.transcription</th><th scope=col>FDRuntVStgfb.transcription</th><th scope=col>PuntVStgfb.transcription</th><th scope=col>log2FCtgfbVStgfbCX5461.transcription</th><th scope=col>FDRtgfbVStgfbCX5461.transcription</th><th scope=col>PtgfbVStgfbCX5461.transcription</th><th scope=col>unt.tgfb.DEtranscription</th><th scope=col>tgfb.tgfbCX5461.DEtranscription</th><th scope=col>reversible.transcription</th></tr>\n",
       "\t<tr><th></th><th scope=col>&lt;dbl&gt;</th><th scope=col>&lt;dbl&gt;</th><th scope=col>&lt;dbl&gt;</th><th scope=col>&lt;dbl&gt;</th><th scope=col>&lt;dbl&gt;</th><th scope=col>&lt;dbl&gt;</th><th scope=col>&lt;dbl&gt;</th><th scope=col>&lt;dbl&gt;</th><th scope=col>&lt;dbl&gt;</th><th scope=col>&lt;chr&gt;</th><th scope=col>&lt;chr&gt;</th><th scope=col>&lt;chr&gt;</th></tr>\n",
       "</thead>\n",
       "<tbody>\n",
       "\t<tr><th scope=row>Abcc2</th><td>-0.3106197</td><td>-3.832616</td><td>-3.871377</td><td>-3.521996</td><td>0</td><td>0</td><td>-0.03876149</td><td>0.9709617</td><td>0.9282336</td><td>down</td><td>notSig</td><td>notSig</td></tr>\n",
       "</tbody>\n",
       "</table>\n"
      ],
      "text/latex": [
       "A data.frame: 1 × 12\n",
       "\\begin{tabular}{r|llllllllllll}\n",
       "  & unt.transcription & tgfb.transcription & tgfbCX5461.transcription & log2FCuntVStgfb.transcription & FDRuntVStgfb.transcription & PuntVStgfb.transcription & log2FCtgfbVStgfbCX5461.transcription & FDRtgfbVStgfbCX5461.transcription & PtgfbVStgfbCX5461.transcription & unt.tgfb.DEtranscription & tgfb.tgfbCX5461.DEtranscription & reversible.transcription\\\\\n",
       "  & <dbl> & <dbl> & <dbl> & <dbl> & <dbl> & <dbl> & <dbl> & <dbl> & <dbl> & <chr> & <chr> & <chr>\\\\\n",
       "\\hline\n",
       "\tAbcc2 & -0.3106197 & -3.832616 & -3.871377 & -3.521996 & 0 & 0 & -0.03876149 & 0.9709617 & 0.9282336 & down & notSig & notSig\\\\\n",
       "\\end{tabular}\n"
      ],
      "text/markdown": [
       "\n",
       "A data.frame: 1 × 12\n",
       "\n",
       "| <!--/--> | unt.transcription &lt;dbl&gt; | tgfb.transcription &lt;dbl&gt; | tgfbCX5461.transcription &lt;dbl&gt; | log2FCuntVStgfb.transcription &lt;dbl&gt; | FDRuntVStgfb.transcription &lt;dbl&gt; | PuntVStgfb.transcription &lt;dbl&gt; | log2FCtgfbVStgfbCX5461.transcription &lt;dbl&gt; | FDRtgfbVStgfbCX5461.transcription &lt;dbl&gt; | PtgfbVStgfbCX5461.transcription &lt;dbl&gt; | unt.tgfb.DEtranscription &lt;chr&gt; | tgfb.tgfbCX5461.DEtranscription &lt;chr&gt; | reversible.transcription &lt;chr&gt; |\n",
       "|---|---|---|---|---|---|---|---|---|---|---|---|---|\n",
       "| Abcc2 | -0.3106197 | -3.832616 | -3.871377 | -3.521996 | 0 | 0 | -0.03876149 | 0.9709617 | 0.9282336 | down | notSig | notSig |\n",
       "\n"
      ],
      "text/plain": [
       "      unt.transcription tgfb.transcription tgfbCX5461.transcription\n",
       "Abcc2 -0.3106197        -3.832616          -3.871377               \n",
       "      log2FCuntVStgfb.transcription FDRuntVStgfb.transcription\n",
       "Abcc2 -3.521996                     0                         \n",
       "      PuntVStgfb.transcription log2FCtgfbVStgfbCX5461.transcription\n",
       "Abcc2 0                        -0.03876149                         \n",
       "      FDRtgfbVStgfbCX5461.transcription PtgfbVStgfbCX5461.transcription\n",
       "Abcc2 0.9709617                         0.9282336                      \n",
       "      unt.tgfb.DEtranscription tgfb.tgfbCX5461.DEtranscription\n",
       "Abcc2 down                     notSig                         \n",
       "      reversible.transcription\n",
       "Abcc2 notSig                  "
      ]
     },
     "metadata": {},
     "output_type": "display_data"
    },
    {
     "data": {
      "text/html": [
       "<style>\n",
       ".list-inline {list-style: none; margin:0; padding: 0}\n",
       ".list-inline>li {display: inline-block}\n",
       ".list-inline>li:not(:last-child)::after {content: \"\\00b7\"; padding: 0 .5ex}\n",
       "</style>\n",
       "<ol class=list-inline><li>13006</li><li>12</li></ol>\n"
      ],
      "text/latex": [
       "\\begin{enumerate*}\n",
       "\\item 13006\n",
       "\\item 12\n",
       "\\end{enumerate*}\n"
      ],
      "text/markdown": [
       "1. 13006\n",
       "2. 12\n",
       "\n",
       "\n"
      ],
      "text/plain": [
       "[1] 13006    12"
      ]
     },
     "metadata": {},
     "output_type": "display_data"
    }
   ],
   "source": [
    "# Jake quick lysis totalRNA \n",
    "# log2cpm\n",
    "fname_in <- sprintf(\"%s/blancgrp_211613_RNAseq_total_stranded.log2cpm.txt.gz\", dir_rnaseq)\n",
    "verb('%s\\n', fname_in)\n",
    "df_log2cpm <- read.table(file=fname_in, \n",
    "                header=TRUE, sep=\"\\t\", row.names=1,\n",
    "                quote=\"\", comment.char=\"#\", stringsAsFactors=F)\n",
    "colnames(df_log2cpm) <- c('unt.transcription','tgfb.transcription','tgfbCX5461.transcription')\n",
    "\n",
    "if (!is.null(pattern_remove_gene)) {\n",
    "  dim(df_log2cpm)\n",
    "  df_log2cpm <- df_log2cpm[!grepl(pattern_remove_gene, rownames(df_log2cpm)),]\n",
    "}\n",
    "head(df_log2cpm)\n",
    "dim(df_log2cpm)\n",
    "\n",
    "fname_in <- sprintf(\"%s/blancgrp_211613_RNAseq_total_stranded.unt--vs--tgfb.all.txt.gz\", dir_rnaseq)\n",
    "verb('%s\\n', fname_in)\n",
    "df_mrna <- read.table(file=fname_in, \n",
    "                header=TRUE, sep=\"\\t\", row.names=1,\n",
    "                quote=\"\", comment.char=\"#\", stringsAsFactors=F)\n",
    "colnames(df_mrna) <- c('unt.transcription','tgfb.transcription',\n",
    "                       'log2FCuntVStgfb.transcription','FDRuntVStgfb.transcription',\n",
    "                       'PuntVStgfb.transcription')\n",
    "\n",
    "if (!is.null(pattern_remove_gene)) {\n",
    "  dim(df_mrna)\n",
    "  df_mrna <- df_mrna[!grepl(pattern_remove_gene, rownames(df_mrna)),]\n",
    "}\n",
    "head(df_mrna)\n",
    "dim(df_mrna)\n",
    "\n",
    "fname_in <- sprintf(\"%s/blancgrp_211613_RNAseq_total_stranded.tgfb--vs--tgfbCX.all.txt.gz\", dir_rnaseq)\n",
    "verb('%s\\n', fname_in)\n",
    "df_mrna_cx <- read.table(file=fname_in, \n",
    "                header=TRUE, sep=\"\\t\", row.names=1,\n",
    "                quote=\"\", comment.char=\"#\", stringsAsFactors=F)\n",
    "colnames(df_mrna_cx) <- c('tgfb.transcription','tgfbCX5461.transcription',\n",
    "                          'log2FCtgfbVStgfbCX5461.transcription','FDRtgfbVStgfbCX5461.transcription',\n",
    "                          'PtgfbVStgfbCX5461.transcription')\n",
    "\n",
    "if (!is.null(pattern_remove_gene)) {\n",
    "  dim(df_mrna_cx)\n",
    "  df_mrna_cx <- df_mrna_cx[!grepl(pattern_remove_gene, rownames(df_mrna_cx)),]\n",
    "}\n",
    "head(df_mrna_cx)\n",
    "dim(df_mrna_cx)\n",
    "\n",
    "# https://adairama.wordpress.com/2017/11/22/how-to-merge-multiple-datasets-in-r-based-on-row-names/\n",
    "mylist <- list(df_log2cpm[,c('unt.transcription','tgfb.transcription','tgfbCX5461.transcription')],\n",
    "                df_mrna[,c('log2FCuntVStgfb.transcription',\n",
    "                           'FDRuntVStgfb.transcription',\n",
    "                           'PuntVStgfb.transcription')],\n",
    "                df_mrna_cx[,c('log2FCtgfbVStgfbCX5461.transcription',\n",
    "                           'FDRtgfbVStgfbCX5461.transcription',\n",
    "                           'PtgfbVStgfbCX5461.transcription')])\n",
    "for(i in 1:length(mylist)){\n",
    "  #colnames(mylist[[i]]) <- paste0( names(mylist)[i], \"_\", colnames(mylist[[i]]) )\n",
    "  mylist[[i]]$ROWNAMES  <- rownames(mylist[[i]])\n",
    "}\n",
    "df_transcription <- plyr::join_all(mylist, by=\"ROWNAMES\", type=\"full\")\n",
    "rownames(df_transcription) <- df_transcription$ROWNAMES; df_transcription$ROWNAMES <- NULL\n",
    "\n",
    "\n",
    "df_transcription$unt.tgfb.DEtranscription <- 'notSig'\n",
    "df_transcription$tgfb.tgfbCX5461.DEtranscription <- 'notSig'\n",
    "df_transcription$reversible.transcription <- 'notSig'\n",
    "\n",
    "f_up <- df_transcription$log2FCuntVStgfb.transcription > th_log2fc & df_transcription$FDRuntVStgfb.transcription < th_adj_pvalue\n",
    "f_dn <- df_transcription$log2FCtgfbVStgfbCX5461.transcription < -th_log2fc & df_transcription$FDRtgfbVStgfbCX5461.transcription < th_adj_pvalue\n",
    "df_transcription$unt.tgfb.DEtranscription[f_up] <- 'up'\n",
    "df_transcription$tgfb.tgfbCX5461.DEtranscription[f_dn] <- 'down'\n",
    "df_transcription$reversible.transcription[f_up & f_dn] <- 'upDown'\n",
    "\n",
    "f_dn <- df_transcription$log2FCuntVStgfb.transcription < -th_log2fc & df_transcription$FDRuntVStgfb.transcription < th_adj_pvalue\n",
    "f_up <- df_transcription$log2FCtgfbVStgfbCX5461.transcription > th_log2fc & df_transcription$FDRtgfbVStgfbCX5461.transcription < th_adj_pvalue\n",
    "df_transcription$unt.tgfb.DEtranscription[f_dn] <- 'down'\n",
    "df_transcription$tgfb.tgfbCX5461.DEtranscription[f_up] <- 'up'\n",
    "df_transcription$reversible.transcription[f_dn & f_up] <- 'downUp'\n",
    "\n",
    "#tail(df_transcription)\n",
    "df_transcription[c('Abcc2'),]\n",
    "dim(df_transcription)"
   ]
  },
  {
   "cell_type": "markdown",
   "id": "07b0ce02",
   "metadata": {},
   "source": [
    "## df_translation"
   ]
  },
  {
   "cell_type": "code",
   "execution_count": 16,
   "id": "dc9c72e1",
   "metadata": {},
   "outputs": [
    {
     "name": "stdout",
     "output_type": "stream",
     "text": [
      "./out/limma-voom.mrna/161021.rdna_rn18s/NMuMG/blancgrp_161021_Riboseq.log2cpm.txt.gz\n"
     ]
    },
    {
     "data": {
      "text/html": [
       "<table class=\"dataframe\">\n",
       "<caption>A data.frame: 6 × 3</caption>\n",
       "<thead>\n",
       "\t<tr><th></th><th scope=col>unt.translation</th><th scope=col>tgfb.translation</th><th scope=col>tgfbCX5461.translation</th></tr>\n",
       "\t<tr><th></th><th scope=col>&lt;dbl&gt;</th><th scope=col>&lt;dbl&gt;</th><th scope=col>&lt;dbl&gt;</th></tr>\n",
       "</thead>\n",
       "<tbody>\n",
       "\t<tr><th scope=row>0610009B22Rik</th><td>-0.1209301</td><td>-0.5623582</td><td> 0.4593551</td></tr>\n",
       "\t<tr><th scope=row>0610010F05Rik</th><td>-1.4390170</td><td>-1.1130376</td><td>-1.8999308</td></tr>\n",
       "\t<tr><th scope=row>0610010K14Rik</th><td>-0.7062234</td><td>-2.1409318</td><td>-0.6268219</td></tr>\n",
       "\t<tr><th scope=row>0610012G03Rik</th><td> 0.2537944</td><td>-0.2992177</td><td>-0.2840107</td></tr>\n",
       "\t<tr><th scope=row>0610040J01Rik</th><td>-2.6671038</td><td>-3.6173387</td><td>-3.7617905</td></tr>\n",
       "\t<tr><th scope=row>1110002E22Rik</th><td>-1.7847344</td><td>-2.3942601</td><td>-5.1504356</td></tr>\n",
       "</tbody>\n",
       "</table>\n"
      ],
      "text/latex": [
       "A data.frame: 6 × 3\n",
       "\\begin{tabular}{r|lll}\n",
       "  & unt.translation & tgfb.translation & tgfbCX5461.translation\\\\\n",
       "  & <dbl> & <dbl> & <dbl>\\\\\n",
       "\\hline\n",
       "\t0610009B22Rik & -0.1209301 & -0.5623582 &  0.4593551\\\\\n",
       "\t0610010F05Rik & -1.4390170 & -1.1130376 & -1.8999308\\\\\n",
       "\t0610010K14Rik & -0.7062234 & -2.1409318 & -0.6268219\\\\\n",
       "\t0610012G03Rik &  0.2537944 & -0.2992177 & -0.2840107\\\\\n",
       "\t0610040J01Rik & -2.6671038 & -3.6173387 & -3.7617905\\\\\n",
       "\t1110002E22Rik & -1.7847344 & -2.3942601 & -5.1504356\\\\\n",
       "\\end{tabular}\n"
      ],
      "text/markdown": [
       "\n",
       "A data.frame: 6 × 3\n",
       "\n",
       "| <!--/--> | unt.translation &lt;dbl&gt; | tgfb.translation &lt;dbl&gt; | tgfbCX5461.translation &lt;dbl&gt; |\n",
       "|---|---|---|---|\n",
       "| 0610009B22Rik | -0.1209301 | -0.5623582 |  0.4593551 |\n",
       "| 0610010F05Rik | -1.4390170 | -1.1130376 | -1.8999308 |\n",
       "| 0610010K14Rik | -0.7062234 | -2.1409318 | -0.6268219 |\n",
       "| 0610012G03Rik |  0.2537944 | -0.2992177 | -0.2840107 |\n",
       "| 0610040J01Rik | -2.6671038 | -3.6173387 | -3.7617905 |\n",
       "| 1110002E22Rik | -1.7847344 | -2.3942601 | -5.1504356 |\n",
       "\n"
      ],
      "text/plain": [
       "              unt.translation tgfb.translation tgfbCX5461.translation\n",
       "0610009B22Rik -0.1209301      -0.5623582        0.4593551            \n",
       "0610010F05Rik -1.4390170      -1.1130376       -1.8999308            \n",
       "0610010K14Rik -0.7062234      -2.1409318       -0.6268219            \n",
       "0610012G03Rik  0.2537944      -0.2992177       -0.2840107            \n",
       "0610040J01Rik -2.6671038      -3.6173387       -3.7617905            \n",
       "1110002E22Rik -1.7847344      -2.3942601       -5.1504356            "
      ]
     },
     "metadata": {},
     "output_type": "display_data"
    },
    {
     "data": {
      "text/html": [
       "<style>\n",
       ".list-inline {list-style: none; margin:0; padding: 0}\n",
       ".list-inline>li {display: inline-block}\n",
       ".list-inline>li:not(:last-child)::after {content: \"\\00b7\"; padding: 0 .5ex}\n",
       "</style>\n",
       "<ol class=list-inline><li>11998</li><li>3</li></ol>\n"
      ],
      "text/latex": [
       "\\begin{enumerate*}\n",
       "\\item 11998\n",
       "\\item 3\n",
       "\\end{enumerate*}\n"
      ],
      "text/markdown": [
       "1. 11998\n",
       "2. 3\n",
       "\n",
       "\n"
      ],
      "text/plain": [
       "[1] 11998     3"
      ]
     },
     "metadata": {},
     "output_type": "display_data"
    },
    {
     "name": "stdout",
     "output_type": "stream",
     "text": [
      "./out/limma-voom.mrna/161021.rdna_rn18s/NMuMG/blancgrp_161021_Riboseq.unt48--vs--tgfb48.diff-all.txt.gz\n"
     ]
    },
    {
     "data": {
      "text/html": [
       "<table class=\"dataframe\">\n",
       "<caption>A data.frame: 6 × 5</caption>\n",
       "<thead>\n",
       "\t<tr><th></th><th scope=col>unt.translation</th><th scope=col>tgfb.translation</th><th scope=col>log2FCuntVStgfb.translation</th><th scope=col>FDRuntVStgfb.translation</th><th scope=col>PuntVStgfb.translation</th></tr>\n",
       "\t<tr><th></th><th scope=col>&lt;dbl&gt;</th><th scope=col>&lt;dbl&gt;</th><th scope=col>&lt;dbl&gt;</th><th scope=col>&lt;dbl&gt;</th><th scope=col>&lt;dbl&gt;</th></tr>\n",
       "</thead>\n",
       "<tbody>\n",
       "\t<tr><th scope=row>Akr1c19</th><td> 1.2798329</td><td>-5.394223</td><td>-6.674056</td><td>3.231760e-06</td><td>1.19600e-07</td></tr>\n",
       "\t<tr><th scope=row>Gm22973</th><td> 0.4065654</td><td>-5.394223</td><td>-5.800788</td><td>2.505955e-04</td><td>1.79206e-05</td></tr>\n",
       "\t<tr><th scope=row>Lgals4</th><td> 4.0592875</td><td>-1.190004</td><td>-5.249291</td><td>0.000000e+00</td><td>0.00000e+00</td></tr>\n",
       "\t<tr><th scope=row>Gm10076</th><td> 1.6797900</td><td>-3.459413</td><td>-5.139203</td><td>6.104391e-04</td><td>5.02679e-05</td></tr>\n",
       "\t<tr><th scope=row>Apoc2</th><td>-0.3649858</td><td>-5.394223</td><td>-5.029237</td><td>2.057103e-04</td><td>1.41371e-05</td></tr>\n",
       "\t<tr><th scope=row>Ugt2b34</th><td> 2.0156044</td><td>-2.992556</td><td>-5.008161</td><td>6.005600e-07</td><td>1.75000e-08</td></tr>\n",
       "</tbody>\n",
       "</table>\n"
      ],
      "text/latex": [
       "A data.frame: 6 × 5\n",
       "\\begin{tabular}{r|lllll}\n",
       "  & unt.translation & tgfb.translation & log2FCuntVStgfb.translation & FDRuntVStgfb.translation & PuntVStgfb.translation\\\\\n",
       "  & <dbl> & <dbl> & <dbl> & <dbl> & <dbl>\\\\\n",
       "\\hline\n",
       "\tAkr1c19 &  1.2798329 & -5.394223 & -6.674056 & 3.231760e-06 & 1.19600e-07\\\\\n",
       "\tGm22973 &  0.4065654 & -5.394223 & -5.800788 & 2.505955e-04 & 1.79206e-05\\\\\n",
       "\tLgals4 &  4.0592875 & -1.190004 & -5.249291 & 0.000000e+00 & 0.00000e+00\\\\\n",
       "\tGm10076 &  1.6797900 & -3.459413 & -5.139203 & 6.104391e-04 & 5.02679e-05\\\\\n",
       "\tApoc2 & -0.3649858 & -5.394223 & -5.029237 & 2.057103e-04 & 1.41371e-05\\\\\n",
       "\tUgt2b34 &  2.0156044 & -2.992556 & -5.008161 & 6.005600e-07 & 1.75000e-08\\\\\n",
       "\\end{tabular}\n"
      ],
      "text/markdown": [
       "\n",
       "A data.frame: 6 × 5\n",
       "\n",
       "| <!--/--> | unt.translation &lt;dbl&gt; | tgfb.translation &lt;dbl&gt; | log2FCuntVStgfb.translation &lt;dbl&gt; | FDRuntVStgfb.translation &lt;dbl&gt; | PuntVStgfb.translation &lt;dbl&gt; |\n",
       "|---|---|---|---|---|---|\n",
       "| Akr1c19 |  1.2798329 | -5.394223 | -6.674056 | 3.231760e-06 | 1.19600e-07 |\n",
       "| Gm22973 |  0.4065654 | -5.394223 | -5.800788 | 2.505955e-04 | 1.79206e-05 |\n",
       "| Lgals4 |  4.0592875 | -1.190004 | -5.249291 | 0.000000e+00 | 0.00000e+00 |\n",
       "| Gm10076 |  1.6797900 | -3.459413 | -5.139203 | 6.104391e-04 | 5.02679e-05 |\n",
       "| Apoc2 | -0.3649858 | -5.394223 | -5.029237 | 2.057103e-04 | 1.41371e-05 |\n",
       "| Ugt2b34 |  2.0156044 | -2.992556 | -5.008161 | 6.005600e-07 | 1.75000e-08 |\n",
       "\n"
      ],
      "text/plain": [
       "        unt.translation tgfb.translation log2FCuntVStgfb.translation\n",
       "Akr1c19  1.2798329      -5.394223        -6.674056                  \n",
       "Gm22973  0.4065654      -5.394223        -5.800788                  \n",
       "Lgals4   4.0592875      -1.190004        -5.249291                  \n",
       "Gm10076  1.6797900      -3.459413        -5.139203                  \n",
       "Apoc2   -0.3649858      -5.394223        -5.029237                  \n",
       "Ugt2b34  2.0156044      -2.992556        -5.008161                  \n",
       "        FDRuntVStgfb.translation PuntVStgfb.translation\n",
       "Akr1c19 3.231760e-06             1.19600e-07           \n",
       "Gm22973 2.505955e-04             1.79206e-05           \n",
       "Lgals4  0.000000e+00             0.00000e+00           \n",
       "Gm10076 6.104391e-04             5.02679e-05           \n",
       "Apoc2   2.057103e-04             1.41371e-05           \n",
       "Ugt2b34 6.005600e-07             1.75000e-08           "
      ]
     },
     "metadata": {},
     "output_type": "display_data"
    },
    {
     "data": {
      "text/html": [
       "<style>\n",
       ".list-inline {list-style: none; margin:0; padding: 0}\n",
       ".list-inline>li {display: inline-block}\n",
       ".list-inline>li:not(:last-child)::after {content: \"\\00b7\"; padding: 0 .5ex}\n",
       "</style>\n",
       "<ol class=list-inline><li>2603</li><li>5</li></ol>\n"
      ],
      "text/latex": [
       "\\begin{enumerate*}\n",
       "\\item 2603\n",
       "\\item 5\n",
       "\\end{enumerate*}\n"
      ],
      "text/markdown": [
       "1. 2603\n",
       "2. 5\n",
       "\n",
       "\n"
      ],
      "text/plain": [
       "[1] 2603    5"
      ]
     },
     "metadata": {},
     "output_type": "display_data"
    },
    {
     "name": "stdout",
     "output_type": "stream",
     "text": [
      "./out/limma-voom.mrna/161021.rdna_rn18s/NMuMG/blancgrp_161021_Riboseq.tgfb48--vs--tgfbCX5461.all.txt.gz\n"
     ]
    },
    {
     "data": {
      "text/html": [
       "'C:/Users/nmishra/Desktop/Total RNAseq EMT/jupyter codes'"
      ],
      "text/latex": [
       "'C:/Users/nmishra/Desktop/Total RNAseq EMT/jupyter codes'"
      ],
      "text/markdown": [
       "'C:/Users/nmishra/Desktop/Total RNAseq EMT/jupyter codes'"
      ],
      "text/plain": [
       "[1] \"C:/Users/nmishra/Desktop/Total RNAseq EMT/jupyter codes\""
      ]
     },
     "metadata": {},
     "output_type": "display_data"
    },
    {
     "data": {
      "text/html": [
       "<table class=\"dataframe\">\n",
       "<caption>A data.frame: 6 × 5</caption>\n",
       "<thead>\n",
       "\t<tr><th></th><th scope=col>tgfb.translation</th><th scope=col>tgfbCX5461.translation</th><th scope=col>log2FCtgfbVStgfbCX5461.translation</th><th scope=col>FDRtgfbVStgfbCX5461.translation</th><th scope=col>PtgfbVStgfbCX5461.translation</th></tr>\n",
       "\t<tr><th></th><th scope=col>&lt;dbl&gt;</th><th scope=col>&lt;dbl&gt;</th><th scope=col>&lt;dbl&gt;</th><th scope=col>&lt;dbl&gt;</th><th scope=col>&lt;dbl&gt;</th></tr>\n",
       "</thead>\n",
       "<tbody>\n",
       "\t<tr><th scope=row>Atf3</th><td>3.385307</td><td>5.081134</td><td> 1.695826</td><td>0</td><td>0</td></tr>\n",
       "\t<tr><th scope=row>Ccn2</th><td>7.709552</td><td>6.451640</td><td>-1.257912</td><td>0</td><td>0</td></tr>\n",
       "\t<tr><th scope=row>Gm10616</th><td>5.937916</td><td>3.850963</td><td>-2.086953</td><td>0</td><td>0</td></tr>\n",
       "\t<tr><th scope=row>Gm29371</th><td>5.548829</td><td>2.816191</td><td>-2.732638</td><td>0</td><td>0</td></tr>\n",
       "\t<tr><th scope=row>Gm49450</th><td>2.970223</td><td>4.930980</td><td> 1.960757</td><td>0</td><td>0</td></tr>\n",
       "\t<tr><th scope=row>Krt8</th><td>7.227771</td><td>6.438771</td><td>-0.789000</td><td>0</td><td>0</td></tr>\n",
       "</tbody>\n",
       "</table>\n"
      ],
      "text/latex": [
       "A data.frame: 6 × 5\n",
       "\\begin{tabular}{r|lllll}\n",
       "  & tgfb.translation & tgfbCX5461.translation & log2FCtgfbVStgfbCX5461.translation & FDRtgfbVStgfbCX5461.translation & PtgfbVStgfbCX5461.translation\\\\\n",
       "  & <dbl> & <dbl> & <dbl> & <dbl> & <dbl>\\\\\n",
       "\\hline\n",
       "\tAtf3 & 3.385307 & 5.081134 &  1.695826 & 0 & 0\\\\\n",
       "\tCcn2 & 7.709552 & 6.451640 & -1.257912 & 0 & 0\\\\\n",
       "\tGm10616 & 5.937916 & 3.850963 & -2.086953 & 0 & 0\\\\\n",
       "\tGm29371 & 5.548829 & 2.816191 & -2.732638 & 0 & 0\\\\\n",
       "\tGm49450 & 2.970223 & 4.930980 &  1.960757 & 0 & 0\\\\\n",
       "\tKrt8 & 7.227771 & 6.438771 & -0.789000 & 0 & 0\\\\\n",
       "\\end{tabular}\n"
      ],
      "text/markdown": [
       "\n",
       "A data.frame: 6 × 5\n",
       "\n",
       "| <!--/--> | tgfb.translation &lt;dbl&gt; | tgfbCX5461.translation &lt;dbl&gt; | log2FCtgfbVStgfbCX5461.translation &lt;dbl&gt; | FDRtgfbVStgfbCX5461.translation &lt;dbl&gt; | PtgfbVStgfbCX5461.translation &lt;dbl&gt; |\n",
       "|---|---|---|---|---|---|\n",
       "| Atf3 | 3.385307 | 5.081134 |  1.695826 | 0 | 0 |\n",
       "| Ccn2 | 7.709552 | 6.451640 | -1.257912 | 0 | 0 |\n",
       "| Gm10616 | 5.937916 | 3.850963 | -2.086953 | 0 | 0 |\n",
       "| Gm29371 | 5.548829 | 2.816191 | -2.732638 | 0 | 0 |\n",
       "| Gm49450 | 2.970223 | 4.930980 |  1.960757 | 0 | 0 |\n",
       "| Krt8 | 7.227771 | 6.438771 | -0.789000 | 0 | 0 |\n",
       "\n"
      ],
      "text/plain": [
       "        tgfb.translation tgfbCX5461.translation\n",
       "Atf3    3.385307         5.081134              \n",
       "Ccn2    7.709552         6.451640              \n",
       "Gm10616 5.937916         3.850963              \n",
       "Gm29371 5.548829         2.816191              \n",
       "Gm49450 2.970223         4.930980              \n",
       "Krt8    7.227771         6.438771              \n",
       "        log2FCtgfbVStgfbCX5461.translation FDRtgfbVStgfbCX5461.translation\n",
       "Atf3     1.695826                          0                              \n",
       "Ccn2    -1.257912                          0                              \n",
       "Gm10616 -2.086953                          0                              \n",
       "Gm29371 -2.732638                          0                              \n",
       "Gm49450  1.960757                          0                              \n",
       "Krt8    -0.789000                          0                              \n",
       "        PtgfbVStgfbCX5461.translation\n",
       "Atf3    0                            \n",
       "Ccn2    0                            \n",
       "Gm10616 0                            \n",
       "Gm29371 0                            \n",
       "Gm49450 0                            \n",
       "Krt8    0                            "
      ]
     },
     "metadata": {},
     "output_type": "display_data"
    },
    {
     "data": {
      "text/html": [
       "<style>\n",
       ".list-inline {list-style: none; margin:0; padding: 0}\n",
       ".list-inline>li {display: inline-block}\n",
       ".list-inline>li:not(:last-child)::after {content: \"\\00b7\"; padding: 0 .5ex}\n",
       "</style>\n",
       "<ol class=list-inline><li>11998</li><li>5</li></ol>\n"
      ],
      "text/latex": [
       "\\begin{enumerate*}\n",
       "\\item 11998\n",
       "\\item 5\n",
       "\\end{enumerate*}\n"
      ],
      "text/markdown": [
       "1. 11998\n",
       "2. 5\n",
       "\n",
       "\n"
      ],
      "text/plain": [
       "[1] 11998     5"
      ]
     },
     "metadata": {},
     "output_type": "display_data"
    },
    {
     "data": {
      "text/html": [
       "<table class=\"dataframe\">\n",
       "<caption>A data.frame: 6 × 12</caption>\n",
       "<thead>\n",
       "\t<tr><th></th><th scope=col>unt.translation</th><th scope=col>tgfb.translation</th><th scope=col>tgfbCX5461.translation</th><th scope=col>log2FCuntVStgfb.translation</th><th scope=col>FDRuntVStgfb.translation</th><th scope=col>PuntVStgfb.translation</th><th scope=col>log2FCtgfbVStgfbCX5461.translation</th><th scope=col>FDRtgfbVStgfbCX5461.translation</th><th scope=col>PtgfbVStgfbCX5461.translation</th><th scope=col>unt.tgfb.DEtranslation</th><th scope=col>tgfb.tgfbCX5461.DEtranslation</th><th scope=col>reversible.translation</th></tr>\n",
       "\t<tr><th></th><th scope=col>&lt;dbl&gt;</th><th scope=col>&lt;dbl&gt;</th><th scope=col>&lt;dbl&gt;</th><th scope=col>&lt;dbl&gt;</th><th scope=col>&lt;dbl&gt;</th><th scope=col>&lt;dbl&gt;</th><th scope=col>&lt;dbl&gt;</th><th scope=col>&lt;dbl&gt;</th><th scope=col>&lt;dbl&gt;</th><th scope=col>&lt;chr&gt;</th><th scope=col>&lt;chr&gt;</th><th scope=col>&lt;chr&gt;</th></tr>\n",
       "</thead>\n",
       "<tbody>\n",
       "\t<tr><th scope=row>0610009B22Rik</th><td>-0.1209301</td><td>-0.5623582</td><td> 0.4593551</td><td>NA</td><td>NA</td><td>NA</td><td> 1.02171324</td><td>0.02919136</td><td>0.002929355</td><td>notSig</td><td>up    </td><td>notSig</td></tr>\n",
       "\t<tr><th scope=row>0610010F05Rik</th><td>-1.4390170</td><td>-1.1130376</td><td>-1.8999308</td><td>NA</td><td>NA</td><td>NA</td><td>-0.78689319</td><td>0.41800085</td><td>0.183428443</td><td>notSig</td><td>notSig</td><td>notSig</td></tr>\n",
       "\t<tr><th scope=row>0610010K14Rik</th><td>-0.7062234</td><td>-2.1409318</td><td>-0.6268219</td><td>NA</td><td>NA</td><td>NA</td><td> 1.51410985</td><td>0.07704533</td><td>0.012849451</td><td>notSig</td><td>notSig</td><td>notSig</td></tr>\n",
       "\t<tr><th scope=row>0610012G03Rik</th><td> 0.2537944</td><td>-0.2992177</td><td>-0.2840107</td><td>NA</td><td>NA</td><td>NA</td><td> 0.01520704</td><td>0.98121037</td><td>0.964044006</td><td>notSig</td><td>notSig</td><td>notSig</td></tr>\n",
       "\t<tr><th scope=row>0610040J01Rik</th><td>-2.6671038</td><td>-3.6173387</td><td>-3.7617905</td><td>NA</td><td>NA</td><td>NA</td><td>-0.14445185</td><td>0.95563779</td><td>0.908020836</td><td>notSig</td><td>notSig</td><td>notSig</td></tr>\n",
       "\t<tr><th scope=row>1110002E22Rik</th><td>-1.7847344</td><td>-2.3942601</td><td>-5.1504356</td><td>NA</td><td>NA</td><td>NA</td><td>-2.75617555</td><td>0.17439999</td><td>0.043534588</td><td>notSig</td><td>notSig</td><td>notSig</td></tr>\n",
       "</tbody>\n",
       "</table>\n"
      ],
      "text/latex": [
       "A data.frame: 6 × 12\n",
       "\\begin{tabular}{r|llllllllllll}\n",
       "  & unt.translation & tgfb.translation & tgfbCX5461.translation & log2FCuntVStgfb.translation & FDRuntVStgfb.translation & PuntVStgfb.translation & log2FCtgfbVStgfbCX5461.translation & FDRtgfbVStgfbCX5461.translation & PtgfbVStgfbCX5461.translation & unt.tgfb.DEtranslation & tgfb.tgfbCX5461.DEtranslation & reversible.translation\\\\\n",
       "  & <dbl> & <dbl> & <dbl> & <dbl> & <dbl> & <dbl> & <dbl> & <dbl> & <dbl> & <chr> & <chr> & <chr>\\\\\n",
       "\\hline\n",
       "\t0610009B22Rik & -0.1209301 & -0.5623582 &  0.4593551 & NA & NA & NA &  1.02171324 & 0.02919136 & 0.002929355 & notSig & up     & notSig\\\\\n",
       "\t0610010F05Rik & -1.4390170 & -1.1130376 & -1.8999308 & NA & NA & NA & -0.78689319 & 0.41800085 & 0.183428443 & notSig & notSig & notSig\\\\\n",
       "\t0610010K14Rik & -0.7062234 & -2.1409318 & -0.6268219 & NA & NA & NA &  1.51410985 & 0.07704533 & 0.012849451 & notSig & notSig & notSig\\\\\n",
       "\t0610012G03Rik &  0.2537944 & -0.2992177 & -0.2840107 & NA & NA & NA &  0.01520704 & 0.98121037 & 0.964044006 & notSig & notSig & notSig\\\\\n",
       "\t0610040J01Rik & -2.6671038 & -3.6173387 & -3.7617905 & NA & NA & NA & -0.14445185 & 0.95563779 & 0.908020836 & notSig & notSig & notSig\\\\\n",
       "\t1110002E22Rik & -1.7847344 & -2.3942601 & -5.1504356 & NA & NA & NA & -2.75617555 & 0.17439999 & 0.043534588 & notSig & notSig & notSig\\\\\n",
       "\\end{tabular}\n"
      ],
      "text/markdown": [
       "\n",
       "A data.frame: 6 × 12\n",
       "\n",
       "| <!--/--> | unt.translation &lt;dbl&gt; | tgfb.translation &lt;dbl&gt; | tgfbCX5461.translation &lt;dbl&gt; | log2FCuntVStgfb.translation &lt;dbl&gt; | FDRuntVStgfb.translation &lt;dbl&gt; | PuntVStgfb.translation &lt;dbl&gt; | log2FCtgfbVStgfbCX5461.translation &lt;dbl&gt; | FDRtgfbVStgfbCX5461.translation &lt;dbl&gt; | PtgfbVStgfbCX5461.translation &lt;dbl&gt; | unt.tgfb.DEtranslation &lt;chr&gt; | tgfb.tgfbCX5461.DEtranslation &lt;chr&gt; | reversible.translation &lt;chr&gt; |\n",
       "|---|---|---|---|---|---|---|---|---|---|---|---|---|\n",
       "| 0610009B22Rik | -0.1209301 | -0.5623582 |  0.4593551 | NA | NA | NA |  1.02171324 | 0.02919136 | 0.002929355 | notSig | up     | notSig |\n",
       "| 0610010F05Rik | -1.4390170 | -1.1130376 | -1.8999308 | NA | NA | NA | -0.78689319 | 0.41800085 | 0.183428443 | notSig | notSig | notSig |\n",
       "| 0610010K14Rik | -0.7062234 | -2.1409318 | -0.6268219 | NA | NA | NA |  1.51410985 | 0.07704533 | 0.012849451 | notSig | notSig | notSig |\n",
       "| 0610012G03Rik |  0.2537944 | -0.2992177 | -0.2840107 | NA | NA | NA |  0.01520704 | 0.98121037 | 0.964044006 | notSig | notSig | notSig |\n",
       "| 0610040J01Rik | -2.6671038 | -3.6173387 | -3.7617905 | NA | NA | NA | -0.14445185 | 0.95563779 | 0.908020836 | notSig | notSig | notSig |\n",
       "| 1110002E22Rik | -1.7847344 | -2.3942601 | -5.1504356 | NA | NA | NA | -2.75617555 | 0.17439999 | 0.043534588 | notSig | notSig | notSig |\n",
       "\n"
      ],
      "text/plain": [
       "              unt.translation tgfb.translation tgfbCX5461.translation\n",
       "0610009B22Rik -0.1209301      -0.5623582        0.4593551            \n",
       "0610010F05Rik -1.4390170      -1.1130376       -1.8999308            \n",
       "0610010K14Rik -0.7062234      -2.1409318       -0.6268219            \n",
       "0610012G03Rik  0.2537944      -0.2992177       -0.2840107            \n",
       "0610040J01Rik -2.6671038      -3.6173387       -3.7617905            \n",
       "1110002E22Rik -1.7847344      -2.3942601       -5.1504356            \n",
       "              log2FCuntVStgfb.translation FDRuntVStgfb.translation\n",
       "0610009B22Rik NA                          NA                      \n",
       "0610010F05Rik NA                          NA                      \n",
       "0610010K14Rik NA                          NA                      \n",
       "0610012G03Rik NA                          NA                      \n",
       "0610040J01Rik NA                          NA                      \n",
       "1110002E22Rik NA                          NA                      \n",
       "              PuntVStgfb.translation log2FCtgfbVStgfbCX5461.translation\n",
       "0610009B22Rik NA                      1.02171324                       \n",
       "0610010F05Rik NA                     -0.78689319                       \n",
       "0610010K14Rik NA                      1.51410985                       \n",
       "0610012G03Rik NA                      0.01520704                       \n",
       "0610040J01Rik NA                     -0.14445185                       \n",
       "1110002E22Rik NA                     -2.75617555                       \n",
       "              FDRtgfbVStgfbCX5461.translation PtgfbVStgfbCX5461.translation\n",
       "0610009B22Rik 0.02919136                      0.002929355                  \n",
       "0610010F05Rik 0.41800085                      0.183428443                  \n",
       "0610010K14Rik 0.07704533                      0.012849451                  \n",
       "0610012G03Rik 0.98121037                      0.964044006                  \n",
       "0610040J01Rik 0.95563779                      0.908020836                  \n",
       "1110002E22Rik 0.17439999                      0.043534588                  \n",
       "              unt.tgfb.DEtranslation tgfb.tgfbCX5461.DEtranslation\n",
       "0610009B22Rik notSig                 up                           \n",
       "0610010F05Rik notSig                 notSig                       \n",
       "0610010K14Rik notSig                 notSig                       \n",
       "0610012G03Rik notSig                 notSig                       \n",
       "0610040J01Rik notSig                 notSig                       \n",
       "1110002E22Rik notSig                 notSig                       \n",
       "              reversible.translation\n",
       "0610009B22Rik notSig                \n",
       "0610010F05Rik notSig                \n",
       "0610010K14Rik notSig                \n",
       "0610012G03Rik notSig                \n",
       "0610040J01Rik notSig                \n",
       "1110002E22Rik notSig                "
      ]
     },
     "metadata": {},
     "output_type": "display_data"
    },
    {
     "data": {
      "text/html": [
       "<style>\n",
       ".list-inline {list-style: none; margin:0; padding: 0}\n",
       ".list-inline>li {display: inline-block}\n",
       ".list-inline>li:not(:last-child)::after {content: \"\\00b7\"; padding: 0 .5ex}\n",
       "</style>\n",
       "<ol class=list-inline><li>11998</li><li>12</li></ol>\n"
      ],
      "text/latex": [
       "\\begin{enumerate*}\n",
       "\\item 11998\n",
       "\\item 12\n",
       "\\end{enumerate*}\n"
      ],
      "text/markdown": [
       "1. 11998\n",
       "2. 12\n",
       "\n",
       "\n"
      ],
      "text/plain": [
       "[1] 11998    12"
      ]
     },
     "metadata": {},
     "output_type": "display_data"
    }
   ],
   "source": [
    "fname_in <- sprintf(\"%s/blancgrp_161021_Riboseq.log2cpm.txt.gz\", dir_riboseq)\n",
    "\n",
    "verb('%s\\n', fname_in)\n",
    "df_log2cpm <- read.table(file=fname_in, \n",
    "                header=TRUE, sep=\"\\t\", row.names=1,\n",
    "                quote=\"\", comment.char=\"#\", stringsAsFactors=F)\n",
    "colnames(df_log2cpm) <- c('unt.translation','tgfb.translation','tgfbCX5461.translation')\n",
    "\n",
    "if (!is.null(pattern_remove_gene)) {\n",
    "  dim(df_log2cpm)\n",
    "  df_log2cpm <- df_log2cpm[!grepl(pattern_remove_gene, rownames(df_log2cpm)),]\n",
    "}\n",
    "head(df_log2cpm)\n",
    "dim(df_log2cpm)\n",
    "\n",
    "fname_in <- sprintf(\"%s/blancgrp_161021_Riboseq.unt48--vs--tgfb48.diff-all.txt.gz\", dir_riboseq)\n",
    "#file.exists(fname_in)\n",
    "verb('%s\\n', fname_in)\n",
    "df_ribo <- read.table(file=fname_in, \n",
    "                header=TRUE, sep=\"\\t\", row.names=1,\n",
    "                quote=\"\", comment.char=\"#\", stringsAsFactors=F)\n",
    "colnames(df_ribo) <- c('unt.translation','tgfb.translation',\n",
    "                       'log2FCuntVStgfb.translation','FDRuntVStgfb.translation',\n",
    "                       'PuntVStgfb.translation')\n",
    "\n",
    "if (!is.null(pattern_remove_gene)) {\n",
    "  dim(df_ribo)\n",
    "  df_ribo <- df_ribo[!grepl(pattern_remove_gene, rownames(df_ribo)),]\n",
    "}\n",
    "head(df_ribo)\n",
    "dim(df_ribo)\n",
    "\n",
    "fname_in <- sprintf(\"%s/blancgrp_161021_Riboseq.tgfb48--vs--tgfbCX5461.all.txt.gz\", dir_riboseq)\n",
    "verb('%s\\n', fname_in)\n",
    "df_ribo_cx <- read.table(file=fname_in, \n",
    "                header=TRUE, sep=\"\\t\", row.names=1,\n",
    "                quote=\"\", comment.char=\"#\", stringsAsFactors=F)\n",
    "colnames(df_ribo_cx) <- c('tgfb.translation','tgfbCX5461.translation',\n",
    "                          'log2FCtgfbVStgfbCX5461.translation','FDRtgfbVStgfbCX5461.translation',\n",
    "                          'PtgfbVStgfbCX5461.translation')\n",
    "\n",
    "if (!is.null(pattern_remove_gene)) {\n",
    "  dim(df_ribo_cx)\n",
    "  df_ribo_cx <- df_ribo_cx[!grepl(pattern_remove_gene, rownames(df_ribo_cx)),]\n",
    "}\n",
    "getwd()\n",
    "head(df_ribo_cx)\n",
    "dim(df_ribo_cx)\n",
    "\n",
    "# https://adairama.wordpress.com/2017/11/22/how-to-merge-multiple-datasets-in-r-based-on-row-names/\n",
    "mylist <- list(df_log2cpm[,c('unt.translation','tgfb.translation','tgfbCX5461.translation')],\n",
    "                df_ribo[,c('log2FCuntVStgfb.translation',\n",
    "                           'FDRuntVStgfb.translation',\n",
    "                           'PuntVStgfb.translation')],\n",
    "                df_ribo_cx[,c('log2FCtgfbVStgfbCX5461.translation',\n",
    "                           'FDRtgfbVStgfbCX5461.translation',\n",
    "                           'PtgfbVStgfbCX5461.translation')])\n",
    "for(i in 1:length(mylist)){\n",
    "  #colnames(mylist[[i]]) <- paste0( names(mylist)[i], \"_\", colnames(mylist[[i]]) )\n",
    "  mylist[[i]]$ROWNAMES  <- rownames(mylist[[i]])\n",
    "}\n",
    "df_translation <- plyr::join_all(mylist, by=\"ROWNAMES\", type=\"full\")\n",
    "rownames(df_translation) <- df_translation$ROWNAMES; df_translation$ROWNAMES <- NULL\n",
    "\n",
    "df_translation$unt.tgfb.DEtranslation <- 'notSig'\n",
    "df_translation$tgfb.tgfbCX5461.DEtranslation <- 'notSig'\n",
    "df_translation$reversible.translation <- 'notSig'\n",
    "\n",
    "f_up <- df_translation$log2FCuntVStgfb.translation > th_log2fc & df_translation$FDRuntVStgfb.translation < th_adj_pvalue\n",
    "f_dn <- df_translation$log2FCtgfbVStgfbCX5461.translation < -th_log2fc & df_translation$FDRtgfbVStgfbCX5461.translation < th_adj_pvalue\n",
    "df_translation$unt.tgfb.DEtranslation[f_up] <- 'up'\n",
    "df_translation$tgfb.tgfbCX5461.DEtranslation[f_dn] <- 'down'\n",
    "df_translation$reversible.translation[f_up & f_dn] <- 'upDown'\n",
    "\n",
    "f_dn <- df_translation$log2FCuntVStgfb.translation < -th_log2fc & df_translation$FDRuntVStgfb.translation < th_adj_pvalue\n",
    "f_up <- df_translation$log2FCtgfbVStgfbCX5461.translation > th_log2fc & df_translation$FDRtgfbVStgfbCX5461.translation < th_adj_pvalue\n",
    "df_translation$unt.tgfb.DEtranslation[f_dn] <- 'down'\n",
    "df_translation$tgfb.tgfbCX5461.DEtranslation[f_up] <- 'up'\n",
    "df_translation$reversible.translation[f_dn & f_up] <- 'downUp'\n",
    "\n",
    "head(df_translation)\n",
    "dim(df_translation)"
   ]
  },
  {
   "cell_type": "markdown",
   "id": "0440e1b3",
   "metadata": {},
   "source": [
    "## df_all"
   ]
  },
  {
   "cell_type": "code",
   "execution_count": 17,
   "id": "de1cd85e",
   "metadata": {},
   "outputs": [
    {
     "data": {
      "text/html": [
       "<table class=\"dataframe\">\n",
       "<caption>A data.frame: 6 × 31</caption>\n",
       "<thead>\n",
       "\t<tr><th></th><th scope=col>seqnames</th><th scope=col>start</th><th scope=col>end</th><th scope=col>width</th><th scope=col>strand</th><th scope=col>source</th><th scope=col>unt.transcription</th><th scope=col>tgfb.transcription</th><th scope=col>tgfbCX5461.transcription</th><th scope=col>log2FCuntVStgfb.transcription</th><th scope=col>...</th><th scope=col>log2FCuntVStgfb.translation</th><th scope=col>FDRuntVStgfb.translation</th><th scope=col>PuntVStgfb.translation</th><th scope=col>log2FCtgfbVStgfbCX5461.translation</th><th scope=col>FDRtgfbVStgfbCX5461.translation</th><th scope=col>PtgfbVStgfbCX5461.translation</th><th scope=col>unt.tgfb.DEtranslation</th><th scope=col>tgfb.tgfbCX5461.DEtranslation</th><th scope=col>reversible.translation</th><th scope=col>biotype</th></tr>\n",
       "\t<tr><th></th><th scope=col>&lt;fct&gt;</th><th scope=col>&lt;int&gt;</th><th scope=col>&lt;int&gt;</th><th scope=col>&lt;int&gt;</th><th scope=col>&lt;fct&gt;</th><th scope=col>&lt;fct&gt;</th><th scope=col>&lt;dbl&gt;</th><th scope=col>&lt;dbl&gt;</th><th scope=col>&lt;dbl&gt;</th><th scope=col>&lt;dbl&gt;</th><th scope=col>...</th><th scope=col>&lt;dbl&gt;</th><th scope=col>&lt;dbl&gt;</th><th scope=col>&lt;dbl&gt;</th><th scope=col>&lt;dbl&gt;</th><th scope=col>&lt;dbl&gt;</th><th scope=col>&lt;dbl&gt;</th><th scope=col>&lt;chr&gt;</th><th scope=col>&lt;chr&gt;</th><th scope=col>&lt;chr&gt;</th><th scope=col>&lt;chr&gt;</th></tr>\n",
       "</thead>\n",
       "<tbody>\n",
       "\t<tr><th scope=row>0610009B22Rik</th><td>11</td><td> 51576213</td><td> 51579701</td><td> 3489</td><td>-</td><td>ensembl_havana</td><td>-1.7361927</td><td>-1.77777696</td><td>-1.52337076</td><td>-0.04158431</td><td>...</td><td>NA</td><td>NA</td><td>NA</td><td> 1.02171324</td><td>0.02919136</td><td>0.002929355</td><td>notSig</td><td>up    </td><td>notSig</td><td>protein_coding</td></tr>\n",
       "\t<tr><th scope=row>0610009E02Rik</th><td>2 </td><td> 26335708</td><td> 26349402</td><td>13695</td><td>+</td><td>havana        </td><td>-4.4542278</td><td>-5.89842646</td><td>-5.22659361</td><td>-1.44419866</td><td>...</td><td>NA</td><td>NA</td><td>NA</td><td>         NA</td><td>        NA</td><td>         NA</td><td>NA    </td><td>NA    </td><td>NA    </td><td>lncRNA        </td></tr>\n",
       "\t<tr><th scope=row>0610009L18Rik</th><td>11</td><td>120239504</td><td>120242016</td><td> 2513</td><td>+</td><td>ensembl_havana</td><td>-5.7348513</td><td>-5.04982074</td><td>-5.32317910</td><td> 0.68503055</td><td>...</td><td>NA</td><td>NA</td><td>NA</td><td>         NA</td><td>        NA</td><td>         NA</td><td>NA    </td><td>NA    </td><td>NA    </td><td>lncRNA        </td></tr>\n",
       "\t<tr><th scope=row>0610010F05Rik</th><td>11</td><td> 23514961</td><td> 23583639</td><td>68679</td><td>-</td><td>ensembl_havana</td><td>-0.5443124</td><td>-0.18299550</td><td>-0.57995446</td><td> 0.36131693</td><td>...</td><td>NA</td><td>NA</td><td>NA</td><td>-0.78689319</td><td>0.41800085</td><td>0.183428443</td><td>notSig</td><td>notSig</td><td>notSig</td><td>protein_coding</td></tr>\n",
       "\t<tr><th scope=row>0610010K14Rik</th><td>11</td><td> 70126032</td><td> 70128740</td><td> 2709</td><td>-</td><td>ensembl_havana</td><td>-1.0822802</td><td>-1.73978964</td><td>-1.85796767</td><td>-0.65750941</td><td>...</td><td>NA</td><td>NA</td><td>NA</td><td> 1.51410985</td><td>0.07704533</td><td>0.012849451</td><td>notSig</td><td>notSig</td><td>notSig</td><td>protein_coding</td></tr>\n",
       "\t<tr><th scope=row>0610012G03Rik</th><td>16</td><td> 31765868</td><td> 31767312</td><td> 1445</td><td>-</td><td>havana        </td><td> 0.1094487</td><td> 0.09824498</td><td> 0.09778162</td><td>-0.01120375</td><td>...</td><td>NA</td><td>NA</td><td>NA</td><td> 0.01520704</td><td>0.98121037</td><td>0.964044006</td><td>notSig</td><td>notSig</td><td>notSig</td><td>protein_coding</td></tr>\n",
       "</tbody>\n",
       "</table>\n"
      ],
      "text/latex": [
       "A data.frame: 6 × 31\n",
       "\\begin{tabular}{r|lllllllllllllllllllll}\n",
       "  & seqnames & start & end & width & strand & source & unt.transcription & tgfb.transcription & tgfbCX5461.transcription & log2FCuntVStgfb.transcription & ... & log2FCuntVStgfb.translation & FDRuntVStgfb.translation & PuntVStgfb.translation & log2FCtgfbVStgfbCX5461.translation & FDRtgfbVStgfbCX5461.translation & PtgfbVStgfbCX5461.translation & unt.tgfb.DEtranslation & tgfb.tgfbCX5461.DEtranslation & reversible.translation & biotype\\\\\n",
       "  & <fct> & <int> & <int> & <int> & <fct> & <fct> & <dbl> & <dbl> & <dbl> & <dbl> & ... & <dbl> & <dbl> & <dbl> & <dbl> & <dbl> & <dbl> & <chr> & <chr> & <chr> & <chr>\\\\\n",
       "\\hline\n",
       "\t0610009B22Rik & 11 &  51576213 &  51579701 &  3489 & - & ensembl\\_havana & -1.7361927 & -1.77777696 & -1.52337076 & -0.04158431 & ... & NA & NA & NA &  1.02171324 & 0.02919136 & 0.002929355 & notSig & up     & notSig & protein\\_coding\\\\\n",
       "\t0610009E02Rik & 2  &  26335708 &  26349402 & 13695 & + & havana         & -4.4542278 & -5.89842646 & -5.22659361 & -1.44419866 & ... & NA & NA & NA &          NA &         NA &          NA & NA     & NA     & NA     & lncRNA        \\\\\n",
       "\t0610009L18Rik & 11 & 120239504 & 120242016 &  2513 & + & ensembl\\_havana & -5.7348513 & -5.04982074 & -5.32317910 &  0.68503055 & ... & NA & NA & NA &          NA &         NA &          NA & NA     & NA     & NA     & lncRNA        \\\\\n",
       "\t0610010F05Rik & 11 &  23514961 &  23583639 & 68679 & - & ensembl\\_havana & -0.5443124 & -0.18299550 & -0.57995446 &  0.36131693 & ... & NA & NA & NA & -0.78689319 & 0.41800085 & 0.183428443 & notSig & notSig & notSig & protein\\_coding\\\\\n",
       "\t0610010K14Rik & 11 &  70126032 &  70128740 &  2709 & - & ensembl\\_havana & -1.0822802 & -1.73978964 & -1.85796767 & -0.65750941 & ... & NA & NA & NA &  1.51410985 & 0.07704533 & 0.012849451 & notSig & notSig & notSig & protein\\_coding\\\\\n",
       "\t0610012G03Rik & 16 &  31765868 &  31767312 &  1445 & - & havana         &  0.1094487 &  0.09824498 &  0.09778162 & -0.01120375 & ... & NA & NA & NA &  0.01520704 & 0.98121037 & 0.964044006 & notSig & notSig & notSig & protein\\_coding\\\\\n",
       "\\end{tabular}\n"
      ],
      "text/markdown": [
       "\n",
       "A data.frame: 6 × 31\n",
       "\n",
       "| <!--/--> | seqnames &lt;fct&gt; | start &lt;int&gt; | end &lt;int&gt; | width &lt;int&gt; | strand &lt;fct&gt; | source &lt;fct&gt; | unt.transcription &lt;dbl&gt; | tgfb.transcription &lt;dbl&gt; | tgfbCX5461.transcription &lt;dbl&gt; | log2FCuntVStgfb.transcription &lt;dbl&gt; | ... ... | log2FCuntVStgfb.translation &lt;dbl&gt; | FDRuntVStgfb.translation &lt;dbl&gt; | PuntVStgfb.translation &lt;dbl&gt; | log2FCtgfbVStgfbCX5461.translation &lt;dbl&gt; | FDRtgfbVStgfbCX5461.translation &lt;dbl&gt; | PtgfbVStgfbCX5461.translation &lt;dbl&gt; | unt.tgfb.DEtranslation &lt;chr&gt; | tgfb.tgfbCX5461.DEtranslation &lt;chr&gt; | reversible.translation &lt;chr&gt; | biotype &lt;chr&gt; |\n",
       "|---|---|---|---|---|---|---|---|---|---|---|---|---|---|---|---|---|---|---|---|---|---|\n",
       "| 0610009B22Rik | 11 |  51576213 |  51579701 |  3489 | - | ensembl_havana | -1.7361927 | -1.77777696 | -1.52337076 | -0.04158431 | ... | NA | NA | NA |  1.02171324 | 0.02919136 | 0.002929355 | notSig | up     | notSig | protein_coding |\n",
       "| 0610009E02Rik | 2  |  26335708 |  26349402 | 13695 | + | havana         | -4.4542278 | -5.89842646 | -5.22659361 | -1.44419866 | ... | NA | NA | NA |          NA |         NA |          NA | NA     | NA     | NA     | lncRNA         |\n",
       "| 0610009L18Rik | 11 | 120239504 | 120242016 |  2513 | + | ensembl_havana | -5.7348513 | -5.04982074 | -5.32317910 |  0.68503055 | ... | NA | NA | NA |          NA |         NA |          NA | NA     | NA     | NA     | lncRNA         |\n",
       "| 0610010F05Rik | 11 |  23514961 |  23583639 | 68679 | - | ensembl_havana | -0.5443124 | -0.18299550 | -0.57995446 |  0.36131693 | ... | NA | NA | NA | -0.78689319 | 0.41800085 | 0.183428443 | notSig | notSig | notSig | protein_coding |\n",
       "| 0610010K14Rik | 11 |  70126032 |  70128740 |  2709 | - | ensembl_havana | -1.0822802 | -1.73978964 | -1.85796767 | -0.65750941 | ... | NA | NA | NA |  1.51410985 | 0.07704533 | 0.012849451 | notSig | notSig | notSig | protein_coding |\n",
       "| 0610012G03Rik | 16 |  31765868 |  31767312 |  1445 | - | havana         |  0.1094487 |  0.09824498 |  0.09778162 | -0.01120375 | ... | NA | NA | NA |  0.01520704 | 0.98121037 | 0.964044006 | notSig | notSig | notSig | protein_coding |\n",
       "\n"
      ],
      "text/plain": [
       "              seqnames start     end       width strand source        \n",
       "0610009B22Rik 11        51576213  51579701  3489 -      ensembl_havana\n",
       "0610009E02Rik 2         26335708  26349402 13695 +      havana        \n",
       "0610009L18Rik 11       120239504 120242016  2513 +      ensembl_havana\n",
       "0610010F05Rik 11        23514961  23583639 68679 -      ensembl_havana\n",
       "0610010K14Rik 11        70126032  70128740  2709 -      ensembl_havana\n",
       "0610012G03Rik 16        31765868  31767312  1445 -      havana        \n",
       "              unt.transcription tgfb.transcription tgfbCX5461.transcription\n",
       "0610009B22Rik -1.7361927        -1.77777696        -1.52337076             \n",
       "0610009E02Rik -4.4542278        -5.89842646        -5.22659361             \n",
       "0610009L18Rik -5.7348513        -5.04982074        -5.32317910             \n",
       "0610010F05Rik -0.5443124        -0.18299550        -0.57995446             \n",
       "0610010K14Rik -1.0822802        -1.73978964        -1.85796767             \n",
       "0610012G03Rik  0.1094487         0.09824498         0.09778162             \n",
       "              log2FCuntVStgfb.transcription ... log2FCuntVStgfb.translation\n",
       "0610009B22Rik -0.04158431                   ... NA                         \n",
       "0610009E02Rik -1.44419866                   ... NA                         \n",
       "0610009L18Rik  0.68503055                   ... NA                         \n",
       "0610010F05Rik  0.36131693                   ... NA                         \n",
       "0610010K14Rik -0.65750941                   ... NA                         \n",
       "0610012G03Rik -0.01120375                   ... NA                         \n",
       "              FDRuntVStgfb.translation PuntVStgfb.translation\n",
       "0610009B22Rik NA                       NA                    \n",
       "0610009E02Rik NA                       NA                    \n",
       "0610009L18Rik NA                       NA                    \n",
       "0610010F05Rik NA                       NA                    \n",
       "0610010K14Rik NA                       NA                    \n",
       "0610012G03Rik NA                       NA                    \n",
       "              log2FCtgfbVStgfbCX5461.translation\n",
       "0610009B22Rik  1.02171324                       \n",
       "0610009E02Rik          NA                       \n",
       "0610009L18Rik          NA                       \n",
       "0610010F05Rik -0.78689319                       \n",
       "0610010K14Rik  1.51410985                       \n",
       "0610012G03Rik  0.01520704                       \n",
       "              FDRtgfbVStgfbCX5461.translation PtgfbVStgfbCX5461.translation\n",
       "0610009B22Rik 0.02919136                      0.002929355                  \n",
       "0610009E02Rik         NA                               NA                  \n",
       "0610009L18Rik         NA                               NA                  \n",
       "0610010F05Rik 0.41800085                      0.183428443                  \n",
       "0610010K14Rik 0.07704533                      0.012849451                  \n",
       "0610012G03Rik 0.98121037                      0.964044006                  \n",
       "              unt.tgfb.DEtranslation tgfb.tgfbCX5461.DEtranslation\n",
       "0610009B22Rik notSig                 up                           \n",
       "0610009E02Rik NA                     NA                           \n",
       "0610009L18Rik NA                     NA                           \n",
       "0610010F05Rik notSig                 notSig                       \n",
       "0610010K14Rik notSig                 notSig                       \n",
       "0610012G03Rik notSig                 notSig                       \n",
       "              reversible.translation biotype       \n",
       "0610009B22Rik notSig                 protein_coding\n",
       "0610009E02Rik NA                     lncRNA        \n",
       "0610009L18Rik NA                     lncRNA        \n",
       "0610010F05Rik notSig                 protein_coding\n",
       "0610010K14Rik notSig                 protein_coding\n",
       "0610012G03Rik notSig                 protein_coding"
      ]
     },
     "metadata": {},
     "output_type": "display_data"
    },
    {
     "data": {
      "text/html": [
       "<style>\n",
       ".list-inline {list-style: none; margin:0; padding: 0}\n",
       ".list-inline>li {display: inline-block}\n",
       ".list-inline>li:not(:last-child)::after {content: \"\\00b7\"; padding: 0 .5ex}\n",
       "</style>\n",
       "<ol class=list-inline><li>14577</li><li>31</li></ol>\n"
      ],
      "text/latex": [
       "\\begin{enumerate*}\n",
       "\\item 14577\n",
       "\\item 31\n",
       "\\end{enumerate*}\n"
      ],
      "text/markdown": [
       "1. 14577\n",
       "2. 31\n",
       "\n",
       "\n"
      ],
      "text/plain": [
       "[1] 14577    31"
      ]
     },
     "metadata": {},
     "output_type": "display_data"
    }
   ],
   "source": [
    "df_all <- merge(df_transcription, df_translation, by = 0, all = T)\n",
    "sym <- df_all$Row.names\n",
    "rownames(df_all) <- sym\n",
    "df_all$Row.names <- NULL\n",
    "\n",
    "if (grepl(\"isoform\", level)) {\n",
    "    idx <- match(rownames(df_all), df_gtf$transcript_name)\n",
    "    df_all <- cbind(df_gtf[idx, 1:6], df_all)\n",
    "    df_all$biotype <- df_gtf[idx, \"transcript_biotype\"]\n",
    "    \n",
    "} else {    \n",
    "    idx <- match(rownames(df_all), df_gtf$gene_name)\n",
    "    df_all <- cbind(df_gtf[idx, 1:6], df_all)    \n",
    "    df_all$biotype <- df_gtf[idx, \"gene_biotype\"]\n",
    "}\n",
    "\n",
    "rownames(df_all) <- sym\n",
    "\n",
    "head(df_all)\n",
    "dim(df_all)"
   ]
  },
  {
   "cell_type": "markdown",
   "id": "192fa7c9",
   "metadata": {},
   "source": [
    "## fix biotype"
   ]
  },
  {
   "cell_type": "code",
   "execution_count": 18,
   "id": "381b4996",
   "metadata": {},
   "outputs": [
    {
     "data": {
      "text/html": [
       "12114"
      ],
      "text/latex": [
       "12114"
      ],
      "text/markdown": [
       "12114"
      ],
      "text/plain": [
       "[1] 12114"
      ]
     },
     "metadata": {},
     "output_type": "display_data"
    }
   ],
   "source": [
    "# Snord43 ENSMUSG00000105167 was annotated as miRNA \n",
    "idx <- which(rownames(df_all)==\"Snord43\")\n",
    "\n",
    "if (length(idx)==1) {\n",
    "    df_all[idx, \"biotype\"] <- \"snoRNA\"\n",
    "}\n",
    "idx"
   ]
  },
  {
   "cell_type": "markdown",
   "id": "5d0b970b",
   "metadata": {},
   "source": [
    "# TFGb Vs CX5461"
   ]
  },
  {
   "cell_type": "markdown",
   "id": "e6b307c1",
   "metadata": {},
   "source": [
    "## detect gene symbol"
   ]
  },
  {
   "cell_type": "markdown",
   "id": "65b1204a",
   "metadata": {},
   "source": [
    "### RNAseq detection"
   ]
  },
  {
   "cell_type": "code",
   "execution_count": 19,
   "id": "e6024796",
   "metadata": {},
   "outputs": [
    {
     "data": {
      "text/html": [
       "FALSE"
      ],
      "text/latex": [
       "FALSE"
      ],
      "text/markdown": [
       "FALSE"
      ],
      "text/plain": [
       "[1] FALSE"
      ]
     },
     "metadata": {},
     "output_type": "display_data"
    },
    {
     "data": {
      "text/html": [
       "<style>\n",
       ".list-inline {list-style: none; margin:0; padding: 0}\n",
       ".list-inline>li {display: inline-block}\n",
       ".list-inline>li:not(:last-child)::after {content: \"\\00b7\"; padding: 0 .5ex}\n",
       "</style>\n",
       "<ol class=list-inline><li>'protein_coding'</li><li>'lncRNA'</li><li>'rDNA'</li><li>'processed_pseudogene'</li><li>'transcribed_unitary_pseudogene'</li><li>'transcribed_processed_pseudogene'</li><li>'TEC'</li><li>'polymorphic_pseudogene'</li><li>'misc_RNA'</li><li>'snoRNA'</li><li>'scaRNA'</li><li>'unprocessed_pseudogene'</li><li>'transcribed_unprocessed_pseudogene'</li><li>'snRNA'</li><li>'TR_C_gene'</li><li>'rRNA'</li><li>'Mt_rRNA'</li><li>'Mt_tRNA'</li><li>'IG_C_gene'</li><li>'miRNA'</li><li>'ribozyme'</li><li>'pseudogene'</li><li>'translated_unprocessed_pseudogene'</li></ol>\n"
      ],
      "text/latex": [
       "\\begin{enumerate*}\n",
       "\\item 'protein\\_coding'\n",
       "\\item 'lncRNA'\n",
       "\\item 'rDNA'\n",
       "\\item 'processed\\_pseudogene'\n",
       "\\item 'transcribed\\_unitary\\_pseudogene'\n",
       "\\item 'transcribed\\_processed\\_pseudogene'\n",
       "\\item 'TEC'\n",
       "\\item 'polymorphic\\_pseudogene'\n",
       "\\item 'misc\\_RNA'\n",
       "\\item 'snoRNA'\n",
       "\\item 'scaRNA'\n",
       "\\item 'unprocessed\\_pseudogene'\n",
       "\\item 'transcribed\\_unprocessed\\_pseudogene'\n",
       "\\item 'snRNA'\n",
       "\\item 'TR\\_C\\_gene'\n",
       "\\item 'rRNA'\n",
       "\\item 'Mt\\_rRNA'\n",
       "\\item 'Mt\\_tRNA'\n",
       "\\item 'IG\\_C\\_gene'\n",
       "\\item 'miRNA'\n",
       "\\item 'ribozyme'\n",
       "\\item 'pseudogene'\n",
       "\\item 'translated\\_unprocessed\\_pseudogene'\n",
       "\\end{enumerate*}\n"
      ],
      "text/markdown": [
       "1. 'protein_coding'\n",
       "2. 'lncRNA'\n",
       "3. 'rDNA'\n",
       "4. 'processed_pseudogene'\n",
       "5. 'transcribed_unitary_pseudogene'\n",
       "6. 'transcribed_processed_pseudogene'\n",
       "7. 'TEC'\n",
       "8. 'polymorphic_pseudogene'\n",
       "9. 'misc_RNA'\n",
       "10. 'snoRNA'\n",
       "11. 'scaRNA'\n",
       "12. 'unprocessed_pseudogene'\n",
       "13. 'transcribed_unprocessed_pseudogene'\n",
       "14. 'snRNA'\n",
       "15. 'TR_C_gene'\n",
       "16. 'rRNA'\n",
       "17. 'Mt_rRNA'\n",
       "18. 'Mt_tRNA'\n",
       "19. 'IG_C_gene'\n",
       "20. 'miRNA'\n",
       "21. 'ribozyme'\n",
       "22. 'pseudogene'\n",
       "23. 'translated_unprocessed_pseudogene'\n",
       "\n",
       "\n"
      ],
      "text/plain": [
       " [1] \"protein_coding\"                     \"lncRNA\"                            \n",
       " [3] \"rDNA\"                               \"processed_pseudogene\"              \n",
       " [5] \"transcribed_unitary_pseudogene\"     \"transcribed_processed_pseudogene\"  \n",
       " [7] \"TEC\"                                \"polymorphic_pseudogene\"            \n",
       " [9] \"misc_RNA\"                           \"snoRNA\"                            \n",
       "[11] \"scaRNA\"                             \"unprocessed_pseudogene\"            \n",
       "[13] \"transcribed_unprocessed_pseudogene\" \"snRNA\"                             \n",
       "[15] \"TR_C_gene\"                          \"rRNA\"                              \n",
       "[17] \"Mt_rRNA\"                            \"Mt_tRNA\"                           \n",
       "[19] \"IG_C_gene\"                          \"miRNA\"                             \n",
       "[21] \"ribozyme\"                           \"pseudogene\"                        \n",
       "[23] \"translated_unprocessed_pseudogene\" "
      ]
     },
     "metadata": {},
     "output_type": "display_data"
    },
    {
     "data": {
      "text/html": [
       "<table class=\"dataframe\">\n",
       "<caption>A data.frame: 6 × 6</caption>\n",
       "<thead>\n",
       "\t<tr><th></th><th scope=col>tgfb</th><th scope=col>tgfbCX</th><th scope=col>log2FC</th><th scope=col>FDR</th><th scope=col>p.value</th><th scope=col>biotype</th></tr>\n",
       "\t<tr><th></th><th scope=col>&lt;dbl&gt;</th><th scope=col>&lt;dbl&gt;</th><th scope=col>&lt;dbl&gt;</th><th scope=col>&lt;dbl&gt;</th><th scope=col>&lt;dbl&gt;</th><th scope=col>&lt;chr&gt;</th></tr>\n",
       "</thead>\n",
       "<tbody>\n",
       "\t<tr><th scope=row>Ccng1</th><td>2.024061</td><td>3.005395</td><td>0.9813342</td><td>0e+00</td><td>0</td><td>protein_coding</td></tr>\n",
       "\t<tr><th scope=row>Cdkn1a</th><td>1.201262</td><td>2.903427</td><td>1.7021649</td><td>0e+00</td><td>0</td><td>protein_coding</td></tr>\n",
       "\t<tr><th scope=row>Ctsd</th><td>5.208313</td><td>5.777468</td><td>0.5691555</td><td>1e-11</td><td>0</td><td>protein_coding</td></tr>\n",
       "\t<tr><th scope=row>Lce1g</th><td>2.005627</td><td>2.834313</td><td>0.8286863</td><td>1e-11</td><td>0</td><td>protein_coding</td></tr>\n",
       "\t<tr><th scope=row>Slco2a1</th><td>2.261261</td><td>3.028303</td><td>0.7670417</td><td>3e-11</td><td>0</td><td>protein_coding</td></tr>\n",
       "\t<tr><th scope=row>Itgb4</th><td>2.102091</td><td>2.894961</td><td>0.7928702</td><td>5e-11</td><td>0</td><td>protein_coding</td></tr>\n",
       "</tbody>\n",
       "</table>\n"
      ],
      "text/latex": [
       "A data.frame: 6 × 6\n",
       "\\begin{tabular}{r|llllll}\n",
       "  & tgfb & tgfbCX & log2FC & FDR & p.value & biotype\\\\\n",
       "  & <dbl> & <dbl> & <dbl> & <dbl> & <dbl> & <chr>\\\\\n",
       "\\hline\n",
       "\tCcng1 & 2.024061 & 3.005395 & 0.9813342 & 0e+00 & 0 & protein\\_coding\\\\\n",
       "\tCdkn1a & 1.201262 & 2.903427 & 1.7021649 & 0e+00 & 0 & protein\\_coding\\\\\n",
       "\tCtsd & 5.208313 & 5.777468 & 0.5691555 & 1e-11 & 0 & protein\\_coding\\\\\n",
       "\tLce1g & 2.005627 & 2.834313 & 0.8286863 & 1e-11 & 0 & protein\\_coding\\\\\n",
       "\tSlco2a1 & 2.261261 & 3.028303 & 0.7670417 & 3e-11 & 0 & protein\\_coding\\\\\n",
       "\tItgb4 & 2.102091 & 2.894961 & 0.7928702 & 5e-11 & 0 & protein\\_coding\\\\\n",
       "\\end{tabular}\n"
      ],
      "text/markdown": [
       "\n",
       "A data.frame: 6 × 6\n",
       "\n",
       "| <!--/--> | tgfb &lt;dbl&gt; | tgfbCX &lt;dbl&gt; | log2FC &lt;dbl&gt; | FDR &lt;dbl&gt; | p.value &lt;dbl&gt; | biotype &lt;chr&gt; |\n",
       "|---|---|---|---|---|---|---|\n",
       "| Ccng1 | 2.024061 | 3.005395 | 0.9813342 | 0e+00 | 0 | protein_coding |\n",
       "| Cdkn1a | 1.201262 | 2.903427 | 1.7021649 | 0e+00 | 0 | protein_coding |\n",
       "| Ctsd | 5.208313 | 5.777468 | 0.5691555 | 1e-11 | 0 | protein_coding |\n",
       "| Lce1g | 2.005627 | 2.834313 | 0.8286863 | 1e-11 | 0 | protein_coding |\n",
       "| Slco2a1 | 2.261261 | 3.028303 | 0.7670417 | 3e-11 | 0 | protein_coding |\n",
       "| Itgb4 | 2.102091 | 2.894961 | 0.7928702 | 5e-11 | 0 | protein_coding |\n",
       "\n"
      ],
      "text/plain": [
       "        tgfb     tgfbCX   log2FC    FDR   p.value biotype       \n",
       "Ccng1   2.024061 3.005395 0.9813342 0e+00 0       protein_coding\n",
       "Cdkn1a  1.201262 2.903427 1.7021649 0e+00 0       protein_coding\n",
       "Ctsd    5.208313 5.777468 0.5691555 1e-11 0       protein_coding\n",
       "Lce1g   2.005627 2.834313 0.8286863 1e-11 0       protein_coding\n",
       "Slco2a1 2.261261 3.028303 0.7670417 3e-11 0       protein_coding\n",
       "Itgb4   2.102091 2.894961 0.7928702 5e-11 0       protein_coding"
      ]
     },
     "metadata": {},
     "output_type": "display_data"
    },
    {
     "data": {
      "text/html": [
       "<style>\n",
       ".list-inline {list-style: none; margin:0; padding: 0}\n",
       ".list-inline>li {display: inline-block}\n",
       ".list-inline>li:not(:last-child)::after {content: \"\\00b7\"; padding: 0 .5ex}\n",
       "</style>\n",
       "<ol class=list-inline><li>13006</li><li>6</li></ol>\n"
      ],
      "text/latex": [
       "\\begin{enumerate*}\n",
       "\\item 13006\n",
       "\\item 6\n",
       "\\end{enumerate*}\n"
      ],
      "text/markdown": [
       "1. 13006\n",
       "2. 6\n",
       "\n",
       "\n"
      ],
      "text/plain": [
       "[1] 13006     6"
      ]
     },
     "metadata": {},
     "output_type": "display_data"
    },
    {
     "data": {
      "text/html": [
       "13006"
      ],
      "text/latex": [
       "13006"
      ],
      "text/markdown": [
       "13006"
      ],
      "text/plain": [
       "[1] 13006"
      ]
     },
     "metadata": {},
     "output_type": "display_data"
    }
   ],
   "source": [
    "# TGFb Vs CX5461\n",
    "fname_rnaseq <- sprintf(\"blancgrp_211613_RNAseq_total_stranded.tgfb--vs--tgfbCX.all.txt.gz\")\n",
    "df_rnaseq <- read.table(file=sprintf(\"%s/%s\", dir_rnaseq, fname_rnaseq), \n",
    "                header=TRUE, sep=\"\\t\", row.names=1,\n",
    "                quote=\"\", comment.char=\"#\", stringsAsFactors=F)\n",
    "\n",
    "if (!is.null(pattern_remove_gene)) {\n",
    "  dim(df_rnaseq)\n",
    "  df_rnaseq <- df_rnaseq[!grepl(pattern_remove_gene, rownames(df_rnaseq)),]\n",
    "}\n",
    "\n",
    "# df_mrna$biotype\n",
    "idx <- match(rownames(df_rnaseq), rownames(df_all))\n",
    "any(is.na(idx)) # should be FALSE\n",
    "df_rnaseq$biotype <- df_all[idx,'biotype']\n",
    "biotype_rnaseq <- unique(df_rnaseq$biotype)\n",
    "biotype_rnaseq\n",
    "\n",
    "head(df_rnaseq)\n",
    "dim(df_rnaseq)\n",
    "sym_rnaseq <- rownames(df_rnaseq)\n",
    "length(sym_rnaseq)"
   ]
  },
  {
   "cell_type": "markdown",
   "id": "bd24efae",
   "metadata": {},
   "source": [
    "### Ribo-seq detection"
   ]
  },
  {
   "cell_type": "code",
   "execution_count": 20,
   "id": "202b835f",
   "metadata": {},
   "outputs": [
    {
     "data": {
      "text/html": [
       "FALSE"
      ],
      "text/latex": [
       "FALSE"
      ],
      "text/markdown": [
       "FALSE"
      ],
      "text/plain": [
       "[1] FALSE"
      ]
     },
     "metadata": {},
     "output_type": "display_data"
    },
    {
     "data": {
      "text/html": [
       "<style>\n",
       ".list-inline {list-style: none; margin:0; padding: 0}\n",
       ".list-inline>li {display: inline-block}\n",
       ".list-inline>li:not(:last-child)::after {content: \"\\00b7\"; padding: 0 .5ex}\n",
       "</style>\n",
       "<ol class=list-inline><li>'protein_coding'</li><li>'TEC'</li><li>'lncRNA'</li><li>'processed_pseudogene'</li><li>'Mt_tRNA'</li><li>'misc_RNA'</li><li>'ribozyme'</li><li>'rRNA'</li><li>'miRNA'</li><li>'transcribed_processed_pseudogene'</li><li>'snRNA'</li><li>'snoRNA'</li><li>'rDNA'</li><li>'unprocessed_pseudogene'</li><li>'Mt_rRNA'</li><li>'transcribed_unprocessed_pseudogene'</li><li>'scaRNA'</li><li>'IG_C_gene'</li><li>'TR_V_gene'</li><li>'polymorphic_pseudogene'</li><li>'transcribed_unitary_pseudogene'</li><li>'TR_C_gene'</li><li>'pseudogene'</li></ol>\n"
      ],
      "text/latex": [
       "\\begin{enumerate*}\n",
       "\\item 'protein\\_coding'\n",
       "\\item 'TEC'\n",
       "\\item 'lncRNA'\n",
       "\\item 'processed\\_pseudogene'\n",
       "\\item 'Mt\\_tRNA'\n",
       "\\item 'misc\\_RNA'\n",
       "\\item 'ribozyme'\n",
       "\\item 'rRNA'\n",
       "\\item 'miRNA'\n",
       "\\item 'transcribed\\_processed\\_pseudogene'\n",
       "\\item 'snRNA'\n",
       "\\item 'snoRNA'\n",
       "\\item 'rDNA'\n",
       "\\item 'unprocessed\\_pseudogene'\n",
       "\\item 'Mt\\_rRNA'\n",
       "\\item 'transcribed\\_unprocessed\\_pseudogene'\n",
       "\\item 'scaRNA'\n",
       "\\item 'IG\\_C\\_gene'\n",
       "\\item 'TR\\_V\\_gene'\n",
       "\\item 'polymorphic\\_pseudogene'\n",
       "\\item 'transcribed\\_unitary\\_pseudogene'\n",
       "\\item 'TR\\_C\\_gene'\n",
       "\\item 'pseudogene'\n",
       "\\end{enumerate*}\n"
      ],
      "text/markdown": [
       "1. 'protein_coding'\n",
       "2. 'TEC'\n",
       "3. 'lncRNA'\n",
       "4. 'processed_pseudogene'\n",
       "5. 'Mt_tRNA'\n",
       "6. 'misc_RNA'\n",
       "7. 'ribozyme'\n",
       "8. 'rRNA'\n",
       "9. 'miRNA'\n",
       "10. 'transcribed_processed_pseudogene'\n",
       "11. 'snRNA'\n",
       "12. 'snoRNA'\n",
       "13. 'rDNA'\n",
       "14. 'unprocessed_pseudogene'\n",
       "15. 'Mt_rRNA'\n",
       "16. 'transcribed_unprocessed_pseudogene'\n",
       "17. 'scaRNA'\n",
       "18. 'IG_C_gene'\n",
       "19. 'TR_V_gene'\n",
       "20. 'polymorphic_pseudogene'\n",
       "21. 'transcribed_unitary_pseudogene'\n",
       "22. 'TR_C_gene'\n",
       "23. 'pseudogene'\n",
       "\n",
       "\n"
      ],
      "text/plain": [
       " [1] \"protein_coding\"                     \"TEC\"                               \n",
       " [3] \"lncRNA\"                             \"processed_pseudogene\"              \n",
       " [5] \"Mt_tRNA\"                            \"misc_RNA\"                          \n",
       " [7] \"ribozyme\"                           \"rRNA\"                              \n",
       " [9] \"miRNA\"                              \"transcribed_processed_pseudogene\"  \n",
       "[11] \"snRNA\"                              \"snoRNA\"                            \n",
       "[13] \"rDNA\"                               \"unprocessed_pseudogene\"            \n",
       "[15] \"Mt_rRNA\"                            \"transcribed_unprocessed_pseudogene\"\n",
       "[17] \"scaRNA\"                             \"IG_C_gene\"                         \n",
       "[19] \"TR_V_gene\"                          \"polymorphic_pseudogene\"            \n",
       "[21] \"transcribed_unitary_pseudogene\"     \"TR_C_gene\"                         \n",
       "[23] \"pseudogene\"                        "
      ]
     },
     "metadata": {},
     "output_type": "display_data"
    },
    {
     "data": {
      "text/html": [
       "<table class=\"dataframe\">\n",
       "<caption>A data.frame: 6 × 6</caption>\n",
       "<thead>\n",
       "\t<tr><th></th><th scope=col>tgfb48</th><th scope=col>tgfbCX5461</th><th scope=col>log2FC</th><th scope=col>FDR</th><th scope=col>p.value</th><th scope=col>biotype</th></tr>\n",
       "\t<tr><th></th><th scope=col>&lt;dbl&gt;</th><th scope=col>&lt;dbl&gt;</th><th scope=col>&lt;dbl&gt;</th><th scope=col>&lt;dbl&gt;</th><th scope=col>&lt;dbl&gt;</th><th scope=col>&lt;chr&gt;</th></tr>\n",
       "</thead>\n",
       "<tbody>\n",
       "\t<tr><th scope=row>Atf3</th><td>3.385307</td><td>5.081134</td><td> 1.695826</td><td>0</td><td>0</td><td>protein_coding</td></tr>\n",
       "\t<tr><th scope=row>Ccn2</th><td>7.709552</td><td>6.451640</td><td>-1.257912</td><td>0</td><td>0</td><td>protein_coding</td></tr>\n",
       "\t<tr><th scope=row>Gm10616</th><td>5.937916</td><td>3.850963</td><td>-2.086953</td><td>0</td><td>0</td><td>TEC           </td></tr>\n",
       "\t<tr><th scope=row>Gm29371</th><td>5.548829</td><td>2.816191</td><td>-2.732638</td><td>0</td><td>0</td><td>lncRNA        </td></tr>\n",
       "\t<tr><th scope=row>Gm49450</th><td>2.970223</td><td>4.930980</td><td> 1.960757</td><td>0</td><td>0</td><td>protein_coding</td></tr>\n",
       "\t<tr><th scope=row>Krt8</th><td>7.227771</td><td>6.438771</td><td>-0.789000</td><td>0</td><td>0</td><td>protein_coding</td></tr>\n",
       "</tbody>\n",
       "</table>\n"
      ],
      "text/latex": [
       "A data.frame: 6 × 6\n",
       "\\begin{tabular}{r|llllll}\n",
       "  & tgfb48 & tgfbCX5461 & log2FC & FDR & p.value & biotype\\\\\n",
       "  & <dbl> & <dbl> & <dbl> & <dbl> & <dbl> & <chr>\\\\\n",
       "\\hline\n",
       "\tAtf3 & 3.385307 & 5.081134 &  1.695826 & 0 & 0 & protein\\_coding\\\\\n",
       "\tCcn2 & 7.709552 & 6.451640 & -1.257912 & 0 & 0 & protein\\_coding\\\\\n",
       "\tGm10616 & 5.937916 & 3.850963 & -2.086953 & 0 & 0 & TEC           \\\\\n",
       "\tGm29371 & 5.548829 & 2.816191 & -2.732638 & 0 & 0 & lncRNA        \\\\\n",
       "\tGm49450 & 2.970223 & 4.930980 &  1.960757 & 0 & 0 & protein\\_coding\\\\\n",
       "\tKrt8 & 7.227771 & 6.438771 & -0.789000 & 0 & 0 & protein\\_coding\\\\\n",
       "\\end{tabular}\n"
      ],
      "text/markdown": [
       "\n",
       "A data.frame: 6 × 6\n",
       "\n",
       "| <!--/--> | tgfb48 &lt;dbl&gt; | tgfbCX5461 &lt;dbl&gt; | log2FC &lt;dbl&gt; | FDR &lt;dbl&gt; | p.value &lt;dbl&gt; | biotype &lt;chr&gt; |\n",
       "|---|---|---|---|---|---|---|\n",
       "| Atf3 | 3.385307 | 5.081134 |  1.695826 | 0 | 0 | protein_coding |\n",
       "| Ccn2 | 7.709552 | 6.451640 | -1.257912 | 0 | 0 | protein_coding |\n",
       "| Gm10616 | 5.937916 | 3.850963 | -2.086953 | 0 | 0 | TEC            |\n",
       "| Gm29371 | 5.548829 | 2.816191 | -2.732638 | 0 | 0 | lncRNA         |\n",
       "| Gm49450 | 2.970223 | 4.930980 |  1.960757 | 0 | 0 | protein_coding |\n",
       "| Krt8 | 7.227771 | 6.438771 | -0.789000 | 0 | 0 | protein_coding |\n",
       "\n"
      ],
      "text/plain": [
       "        tgfb48   tgfbCX5461 log2FC    FDR p.value biotype       \n",
       "Atf3    3.385307 5.081134    1.695826 0   0       protein_coding\n",
       "Ccn2    7.709552 6.451640   -1.257912 0   0       protein_coding\n",
       "Gm10616 5.937916 3.850963   -2.086953 0   0       TEC           \n",
       "Gm29371 5.548829 2.816191   -2.732638 0   0       lncRNA        \n",
       "Gm49450 2.970223 4.930980    1.960757 0   0       protein_coding\n",
       "Krt8    7.227771 6.438771   -0.789000 0   0       protein_coding"
      ]
     },
     "metadata": {},
     "output_type": "display_data"
    },
    {
     "data": {
      "text/html": [
       "<style>\n",
       ".list-inline {list-style: none; margin:0; padding: 0}\n",
       ".list-inline>li {display: inline-block}\n",
       ".list-inline>li:not(:last-child)::after {content: \"\\00b7\"; padding: 0 .5ex}\n",
       "</style>\n",
       "<ol class=list-inline><li>11998</li><li>6</li></ol>\n"
      ],
      "text/latex": [
       "\\begin{enumerate*}\n",
       "\\item 11998\n",
       "\\item 6\n",
       "\\end{enumerate*}\n"
      ],
      "text/markdown": [
       "1. 11998\n",
       "2. 6\n",
       "\n",
       "\n"
      ],
      "text/plain": [
       "[1] 11998     6"
      ]
     },
     "metadata": {},
     "output_type": "display_data"
    },
    {
     "data": {
      "text/html": [
       "11998"
      ],
      "text/latex": [
       "11998"
      ],
      "text/markdown": [
       "11998"
      ],
      "text/plain": [
       "[1] 11998"
      ]
     },
     "metadata": {},
     "output_type": "display_data"
    },
    {
     "data": {
      "text/html": [
       "11998"
      ],
      "text/latex": [
       "11998"
      ],
      "text/markdown": [
       "11998"
      ],
      "text/plain": [
       "[1] 11998"
      ]
     },
     "metadata": {},
     "output_type": "display_data"
    }
   ],
   "source": [
    "# TGFb Vs CX5461\n",
    "fname_riboseq <- sprintf(\"blancgrp_161021_Riboseq.tgfb48--vs--tgfbCX5461.all.txt.gz\")\n",
    "df_riboseq <- read.table(file=sprintf(\"%s/%s\", dir_riboseq, fname_riboseq), \n",
    "                header=TRUE, sep=\"\\t\", row.names=1,\n",
    "                quote=\"\", comment.char=\"#\", stringsAsFactors=F)\n",
    "\n",
    "if (!is.null(pattern_remove_gene)) {\n",
    "  dim(df_riboseq)\n",
    "  df_riboseq <- df_riboseq[!grepl(pattern_remove_gene, rownames(df_riboseq)),]\n",
    "}\n",
    "\n",
    "# df_mrna$biotype\n",
    "idx <- match(rownames(df_riboseq), rownames(df_all))\n",
    "any(is.na(idx)) # should be FALSE\n",
    "df_riboseq$biotype <- df_all[idx,'biotype']\n",
    "biotype_riboseq <- unique(df_riboseq$biotype)\n",
    "biotype_riboseq\n",
    "\n",
    "\n",
    "head(df_riboseq)\n",
    "dim(df_riboseq)\n",
    "sym_riboseq <- rownames(df_riboseq)\n",
    "length(sym_riboseq)\n",
    "sym_riboseq <- unique(sym_riboseq)\n",
    "length(sym_riboseq)"
   ]
  },
  {
   "cell_type": "markdown",
   "id": "6f2a564d",
   "metadata": {},
   "source": [
    "### Protein coding only"
   ]
  },
  {
   "cell_type": "code",
   "execution_count": 21,
   "id": "5ecf8d72",
   "metadata": {},
   "outputs": [
    {
     "data": {
      "text/html": [
       "<table class=\"dataframe\">\n",
       "<caption>A data.frame: 6 × 6</caption>\n",
       "<thead>\n",
       "\t<tr><th></th><th scope=col>tgfb48</th><th scope=col>tgfbCX5461</th><th scope=col>log2FC</th><th scope=col>FDR</th><th scope=col>p.value</th><th scope=col>biotype</th></tr>\n",
       "\t<tr><th></th><th scope=col>&lt;dbl&gt;</th><th scope=col>&lt;dbl&gt;</th><th scope=col>&lt;dbl&gt;</th><th scope=col>&lt;dbl&gt;</th><th scope=col>&lt;dbl&gt;</th><th scope=col>&lt;chr&gt;</th></tr>\n",
       "</thead>\n",
       "<tbody>\n",
       "\t<tr><th scope=row>Atf3</th><td>3.385307</td><td>5.081134</td><td> 1.695826</td><td>0</td><td>0</td><td>protein_coding</td></tr>\n",
       "\t<tr><th scope=row>Ccn2</th><td>7.709552</td><td>6.451640</td><td>-1.257912</td><td>0</td><td>0</td><td>protein_coding</td></tr>\n",
       "\t<tr><th scope=row>Gm49450</th><td>2.970223</td><td>4.930980</td><td> 1.960757</td><td>0</td><td>0</td><td>protein_coding</td></tr>\n",
       "\t<tr><th scope=row>Krt8</th><td>7.227771</td><td>6.438771</td><td>-0.789000</td><td>0</td><td>0</td><td>protein_coding</td></tr>\n",
       "\t<tr><th scope=row>mt-Co1</th><td>6.388669</td><td>5.226476</td><td>-1.162193</td><td>0</td><td>0</td><td>protein_coding</td></tr>\n",
       "\t<tr><th scope=row>Myh9</th><td>5.899741</td><td>4.736843</td><td>-1.162897</td><td>0</td><td>0</td><td>protein_coding</td></tr>\n",
       "</tbody>\n",
       "</table>\n"
      ],
      "text/latex": [
       "A data.frame: 6 × 6\n",
       "\\begin{tabular}{r|llllll}\n",
       "  & tgfb48 & tgfbCX5461 & log2FC & FDR & p.value & biotype\\\\\n",
       "  & <dbl> & <dbl> & <dbl> & <dbl> & <dbl> & <chr>\\\\\n",
       "\\hline\n",
       "\tAtf3 & 3.385307 & 5.081134 &  1.695826 & 0 & 0 & protein\\_coding\\\\\n",
       "\tCcn2 & 7.709552 & 6.451640 & -1.257912 & 0 & 0 & protein\\_coding\\\\\n",
       "\tGm49450 & 2.970223 & 4.930980 &  1.960757 & 0 & 0 & protein\\_coding\\\\\n",
       "\tKrt8 & 7.227771 & 6.438771 & -0.789000 & 0 & 0 & protein\\_coding\\\\\n",
       "\tmt-Co1 & 6.388669 & 5.226476 & -1.162193 & 0 & 0 & protein\\_coding\\\\\n",
       "\tMyh9 & 5.899741 & 4.736843 & -1.162897 & 0 & 0 & protein\\_coding\\\\\n",
       "\\end{tabular}\n"
      ],
      "text/markdown": [
       "\n",
       "A data.frame: 6 × 6\n",
       "\n",
       "| <!--/--> | tgfb48 &lt;dbl&gt; | tgfbCX5461 &lt;dbl&gt; | log2FC &lt;dbl&gt; | FDR &lt;dbl&gt; | p.value &lt;dbl&gt; | biotype &lt;chr&gt; |\n",
       "|---|---|---|---|---|---|---|\n",
       "| Atf3 | 3.385307 | 5.081134 |  1.695826 | 0 | 0 | protein_coding |\n",
       "| Ccn2 | 7.709552 | 6.451640 | -1.257912 | 0 | 0 | protein_coding |\n",
       "| Gm49450 | 2.970223 | 4.930980 |  1.960757 | 0 | 0 | protein_coding |\n",
       "| Krt8 | 7.227771 | 6.438771 | -0.789000 | 0 | 0 | protein_coding |\n",
       "| mt-Co1 | 6.388669 | 5.226476 | -1.162193 | 0 | 0 | protein_coding |\n",
       "| Myh9 | 5.899741 | 4.736843 | -1.162897 | 0 | 0 | protein_coding |\n",
       "\n"
      ],
      "text/plain": [
       "        tgfb48   tgfbCX5461 log2FC    FDR p.value biotype       \n",
       "Atf3    3.385307 5.081134    1.695826 0   0       protein_coding\n",
       "Ccn2    7.709552 6.451640   -1.257912 0   0       protein_coding\n",
       "Gm49450 2.970223 4.930980    1.960757 0   0       protein_coding\n",
       "Krt8    7.227771 6.438771   -0.789000 0   0       protein_coding\n",
       "mt-Co1  6.388669 5.226476   -1.162193 0   0       protein_coding\n",
       "Myh9    5.899741 4.736843   -1.162897 0   0       protein_coding"
      ]
     },
     "metadata": {},
     "output_type": "display_data"
    },
    {
     "data": {
      "text/html": [
       "<style>\n",
       ".list-inline {list-style: none; margin:0; padding: 0}\n",
       ".list-inline>li {display: inline-block}\n",
       ".list-inline>li:not(:last-child)::after {content: \"\\00b7\"; padding: 0 .5ex}\n",
       "</style>\n",
       "<ol class=list-inline><li>9973</li><li>6</li></ol>\n"
      ],
      "text/latex": [
       "\\begin{enumerate*}\n",
       "\\item 9973\n",
       "\\item 6\n",
       "\\end{enumerate*}\n"
      ],
      "text/markdown": [
       "1. 9973\n",
       "2. 6\n",
       "\n",
       "\n"
      ],
      "text/plain": [
       "[1] 9973    6"
      ]
     },
     "metadata": {},
     "output_type": "display_data"
    }
   ],
   "source": [
    "f <- grepl('^protein_coding$', df_riboseq$biotype)\n",
    "df_ribo_wo_pseudo <- df_riboseq[f,]\n",
    "head(df_ribo_wo_pseudo)\n",
    "dim(df_ribo_wo_pseudo)"
   ]
  },
  {
   "cell_type": "markdown",
   "id": "f41bca7c",
   "metadata": {},
   "source": [
    "### sym_detect_both"
   ]
  },
  {
   "cell_type": "code",
   "execution_count": 22,
   "id": "639be8ae",
   "metadata": {},
   "outputs": [
    {
     "data": {
      "text/html": [
       "10427"
      ],
      "text/latex": [
       "10427"
      ],
      "text/markdown": [
       "10427"
      ],
      "text/plain": [
       "[1] 10427"
      ]
     },
     "metadata": {},
     "output_type": "display_data"
    }
   ],
   "source": [
    "sym_detected_both <- intersect(sym_rnaseq, sym_riboseq)\n",
    "length(sym_detected_both)"
   ]
  },
  {
   "cell_type": "markdown",
   "id": "c4b18f5f",
   "metadata": {},
   "source": [
    "### sym_detected_rnaseq_only"
   ]
  },
  {
   "cell_type": "code",
   "execution_count": 23,
   "id": "d58568fc",
   "metadata": {},
   "outputs": [
    {
     "data": {
      "text/html": [
       "2579"
      ],
      "text/latex": [
       "2579"
      ],
      "text/markdown": [
       "2579"
      ],
      "text/plain": [
       "[1] 2579"
      ]
     },
     "metadata": {},
     "output_type": "display_data"
    }
   ],
   "source": [
    "sym_detected_rnaseq_only <- setdiff(sym_rnaseq, sym_riboseq)\n",
    "length(sym_detected_rnaseq_only)"
   ]
  },
  {
   "cell_type": "markdown",
   "id": "04ffbcda",
   "metadata": {},
   "source": [
    "### sym_detected_riboseq_only"
   ]
  },
  {
   "cell_type": "code",
   "execution_count": 24,
   "id": "082c7c63",
   "metadata": {},
   "outputs": [
    {
     "data": {
      "text/html": [
       "1571"
      ],
      "text/latex": [
       "1571"
      ],
      "text/markdown": [
       "1571"
      ],
      "text/plain": [
       "[1] 1571"
      ]
     },
     "metadata": {},
     "output_type": "display_data"
    }
   ],
   "source": [
    "sym_detected_riboseq_only <- setdiff(sym_riboseq, sym_rnaseq)\n",
    "length(sym_detected_riboseq_only)"
   ]
  },
  {
   "cell_type": "markdown",
   "id": "20ce12d9",
   "metadata": {},
   "source": [
    "## df_mrna"
   ]
  },
  {
   "cell_type": "code",
   "execution_count": 25,
   "id": "2b923306",
   "metadata": {},
   "outputs": [
    {
     "data": {
      "text/html": [
       "<table class=\"dataframe\">\n",
       "<caption>A data.frame: 6 × 5</caption>\n",
       "<thead>\n",
       "\t<tr><th></th><th scope=col>tgfb</th><th scope=col>tgfbCX</th><th scope=col>log2FC</th><th scope=col>FDR</th><th scope=col>p.value</th></tr>\n",
       "\t<tr><th></th><th scope=col>&lt;dbl&gt;</th><th scope=col>&lt;dbl&gt;</th><th scope=col>&lt;dbl&gt;</th><th scope=col>&lt;dbl&gt;</th><th scope=col>&lt;dbl&gt;</th></tr>\n",
       "</thead>\n",
       "<tbody>\n",
       "\t<tr><th scope=row>Ccng1</th><td>2.024061</td><td>3.005395</td><td>0.9813342</td><td>0e+00</td><td>0</td></tr>\n",
       "\t<tr><th scope=row>Cdkn1a</th><td>1.201262</td><td>2.903427</td><td>1.7021649</td><td>0e+00</td><td>0</td></tr>\n",
       "\t<tr><th scope=row>Ctsd</th><td>5.208313</td><td>5.777468</td><td>0.5691555</td><td>1e-11</td><td>0</td></tr>\n",
       "\t<tr><th scope=row>Lce1g</th><td>2.005627</td><td>2.834313</td><td>0.8286863</td><td>1e-11</td><td>0</td></tr>\n",
       "\t<tr><th scope=row>Slco2a1</th><td>2.261261</td><td>3.028303</td><td>0.7670417</td><td>3e-11</td><td>0</td></tr>\n",
       "\t<tr><th scope=row>Itgb4</th><td>2.102091</td><td>2.894961</td><td>0.7928702</td><td>5e-11</td><td>0</td></tr>\n",
       "</tbody>\n",
       "</table>\n"
      ],
      "text/latex": [
       "A data.frame: 6 × 5\n",
       "\\begin{tabular}{r|lllll}\n",
       "  & tgfb & tgfbCX & log2FC & FDR & p.value\\\\\n",
       "  & <dbl> & <dbl> & <dbl> & <dbl> & <dbl>\\\\\n",
       "\\hline\n",
       "\tCcng1 & 2.024061 & 3.005395 & 0.9813342 & 0e+00 & 0\\\\\n",
       "\tCdkn1a & 1.201262 & 2.903427 & 1.7021649 & 0e+00 & 0\\\\\n",
       "\tCtsd & 5.208313 & 5.777468 & 0.5691555 & 1e-11 & 0\\\\\n",
       "\tLce1g & 2.005627 & 2.834313 & 0.8286863 & 1e-11 & 0\\\\\n",
       "\tSlco2a1 & 2.261261 & 3.028303 & 0.7670417 & 3e-11 & 0\\\\\n",
       "\tItgb4 & 2.102091 & 2.894961 & 0.7928702 & 5e-11 & 0\\\\\n",
       "\\end{tabular}\n"
      ],
      "text/markdown": [
       "\n",
       "A data.frame: 6 × 5\n",
       "\n",
       "| <!--/--> | tgfb &lt;dbl&gt; | tgfbCX &lt;dbl&gt; | log2FC &lt;dbl&gt; | FDR &lt;dbl&gt; | p.value &lt;dbl&gt; |\n",
       "|---|---|---|---|---|---|\n",
       "| Ccng1 | 2.024061 | 3.005395 | 0.9813342 | 0e+00 | 0 |\n",
       "| Cdkn1a | 1.201262 | 2.903427 | 1.7021649 | 0e+00 | 0 |\n",
       "| Ctsd | 5.208313 | 5.777468 | 0.5691555 | 1e-11 | 0 |\n",
       "| Lce1g | 2.005627 | 2.834313 | 0.8286863 | 1e-11 | 0 |\n",
       "| Slco2a1 | 2.261261 | 3.028303 | 0.7670417 | 3e-11 | 0 |\n",
       "| Itgb4 | 2.102091 | 2.894961 | 0.7928702 | 5e-11 | 0 |\n",
       "\n"
      ],
      "text/plain": [
       "        tgfb     tgfbCX   log2FC    FDR   p.value\n",
       "Ccng1   2.024061 3.005395 0.9813342 0e+00 0      \n",
       "Cdkn1a  1.201262 2.903427 1.7021649 0e+00 0      \n",
       "Ctsd    5.208313 5.777468 0.5691555 1e-11 0      \n",
       "Lce1g   2.005627 2.834313 0.8286863 1e-11 0      \n",
       "Slco2a1 2.261261 3.028303 0.7670417 3e-11 0      \n",
       "Itgb4   2.102091 2.894961 0.7928702 5e-11 0      "
      ]
     },
     "metadata": {},
     "output_type": "display_data"
    },
    {
     "data": {
      "text/html": [
       "<style>\n",
       ".list-inline {list-style: none; margin:0; padding: 0}\n",
       ".list-inline>li {display: inline-block}\n",
       ".list-inline>li:not(:last-child)::after {content: \"\\00b7\"; padding: 0 .5ex}\n",
       "</style>\n",
       "<ol class=list-inline><li>13006</li><li>5</li></ol>\n"
      ],
      "text/latex": [
       "\\begin{enumerate*}\n",
       "\\item 13006\n",
       "\\item 5\n",
       "\\end{enumerate*}\n"
      ],
      "text/markdown": [
       "1. 13006\n",
       "2. 5\n",
       "\n",
       "\n"
      ],
      "text/plain": [
       "[1] 13006     5"
      ]
     },
     "metadata": {},
     "output_type": "display_data"
    },
    {
     "data": {
      "text/html": [
       "<style>\n",
       ".list-inline {list-style: none; margin:0; padding: 0}\n",
       ".list-inline>li {display: inline-block}\n",
       ".list-inline>li:not(:last-child)::after {content: \"\\00b7\"; padding: 0 .5ex}\n",
       "</style>\n",
       "<ol class=list-inline><li>'seqnames'</li><li>'start'</li><li>'end'</li><li>'width'</li><li>'strand'</li><li>'source'</li><li>'unt.transcription'</li><li>'tgfb.transcription'</li><li>'tgfbCX5461.transcription'</li><li>'log2FCuntVStgfb.transcription'</li><li>'FDRuntVStgfb.transcription'</li><li>'PuntVStgfb.transcription'</li><li>'log2FCtgfbVStgfbCX5461.transcription'</li><li>'FDRtgfbVStgfbCX5461.transcription'</li><li>'PtgfbVStgfbCX5461.transcription'</li><li>'unt.tgfb.DEtranscription'</li><li>'tgfb.tgfbCX5461.DEtranscription'</li><li>'reversible.transcription'</li><li>'unt.translation'</li><li>'tgfb.translation'</li><li>'tgfbCX5461.translation'</li><li>'log2FCuntVStgfb.translation'</li><li>'FDRuntVStgfb.translation'</li><li>'PuntVStgfb.translation'</li><li>'log2FCtgfbVStgfbCX5461.translation'</li><li>'FDRtgfbVStgfbCX5461.translation'</li><li>'PtgfbVStgfbCX5461.translation'</li><li>'unt.tgfb.DEtranslation'</li><li>'tgfb.tgfbCX5461.DEtranslation'</li><li>'reversible.translation'</li><li>'biotype'</li></ol>\n"
      ],
      "text/latex": [
       "\\begin{enumerate*}\n",
       "\\item 'seqnames'\n",
       "\\item 'start'\n",
       "\\item 'end'\n",
       "\\item 'width'\n",
       "\\item 'strand'\n",
       "\\item 'source'\n",
       "\\item 'unt.transcription'\n",
       "\\item 'tgfb.transcription'\n",
       "\\item 'tgfbCX5461.transcription'\n",
       "\\item 'log2FCuntVStgfb.transcription'\n",
       "\\item 'FDRuntVStgfb.transcription'\n",
       "\\item 'PuntVStgfb.transcription'\n",
       "\\item 'log2FCtgfbVStgfbCX5461.transcription'\n",
       "\\item 'FDRtgfbVStgfbCX5461.transcription'\n",
       "\\item 'PtgfbVStgfbCX5461.transcription'\n",
       "\\item 'unt.tgfb.DEtranscription'\n",
       "\\item 'tgfb.tgfbCX5461.DEtranscription'\n",
       "\\item 'reversible.transcription'\n",
       "\\item 'unt.translation'\n",
       "\\item 'tgfb.translation'\n",
       "\\item 'tgfbCX5461.translation'\n",
       "\\item 'log2FCuntVStgfb.translation'\n",
       "\\item 'FDRuntVStgfb.translation'\n",
       "\\item 'PuntVStgfb.translation'\n",
       "\\item 'log2FCtgfbVStgfbCX5461.translation'\n",
       "\\item 'FDRtgfbVStgfbCX5461.translation'\n",
       "\\item 'PtgfbVStgfbCX5461.translation'\n",
       "\\item 'unt.tgfb.DEtranslation'\n",
       "\\item 'tgfb.tgfbCX5461.DEtranslation'\n",
       "\\item 'reversible.translation'\n",
       "\\item 'biotype'\n",
       "\\end{enumerate*}\n"
      ],
      "text/markdown": [
       "1. 'seqnames'\n",
       "2. 'start'\n",
       "3. 'end'\n",
       "4. 'width'\n",
       "5. 'strand'\n",
       "6. 'source'\n",
       "7. 'unt.transcription'\n",
       "8. 'tgfb.transcription'\n",
       "9. 'tgfbCX5461.transcription'\n",
       "10. 'log2FCuntVStgfb.transcription'\n",
       "11. 'FDRuntVStgfb.transcription'\n",
       "12. 'PuntVStgfb.transcription'\n",
       "13. 'log2FCtgfbVStgfbCX5461.transcription'\n",
       "14. 'FDRtgfbVStgfbCX5461.transcription'\n",
       "15. 'PtgfbVStgfbCX5461.transcription'\n",
       "16. 'unt.tgfb.DEtranscription'\n",
       "17. 'tgfb.tgfbCX5461.DEtranscription'\n",
       "18. 'reversible.transcription'\n",
       "19. 'unt.translation'\n",
       "20. 'tgfb.translation'\n",
       "21. 'tgfbCX5461.translation'\n",
       "22. 'log2FCuntVStgfb.translation'\n",
       "23. 'FDRuntVStgfb.translation'\n",
       "24. 'PuntVStgfb.translation'\n",
       "25. 'log2FCtgfbVStgfbCX5461.translation'\n",
       "26. 'FDRtgfbVStgfbCX5461.translation'\n",
       "27. 'PtgfbVStgfbCX5461.translation'\n",
       "28. 'unt.tgfb.DEtranslation'\n",
       "29. 'tgfb.tgfbCX5461.DEtranslation'\n",
       "30. 'reversible.translation'\n",
       "31. 'biotype'\n",
       "\n",
       "\n"
      ],
      "text/plain": [
       " [1] \"seqnames\"                            \n",
       " [2] \"start\"                               \n",
       " [3] \"end\"                                 \n",
       " [4] \"width\"                               \n",
       " [5] \"strand\"                              \n",
       " [6] \"source\"                              \n",
       " [7] \"unt.transcription\"                   \n",
       " [8] \"tgfb.transcription\"                  \n",
       " [9] \"tgfbCX5461.transcription\"            \n",
       "[10] \"log2FCuntVStgfb.transcription\"       \n",
       "[11] \"FDRuntVStgfb.transcription\"          \n",
       "[12] \"PuntVStgfb.transcription\"            \n",
       "[13] \"log2FCtgfbVStgfbCX5461.transcription\"\n",
       "[14] \"FDRtgfbVStgfbCX5461.transcription\"   \n",
       "[15] \"PtgfbVStgfbCX5461.transcription\"     \n",
       "[16] \"unt.tgfb.DEtranscription\"            \n",
       "[17] \"tgfb.tgfbCX5461.DEtranscription\"     \n",
       "[18] \"reversible.transcription\"            \n",
       "[19] \"unt.translation\"                     \n",
       "[20] \"tgfb.translation\"                    \n",
       "[21] \"tgfbCX5461.translation\"              \n",
       "[22] \"log2FCuntVStgfb.translation\"         \n",
       "[23] \"FDRuntVStgfb.translation\"            \n",
       "[24] \"PuntVStgfb.translation\"              \n",
       "[25] \"log2FCtgfbVStgfbCX5461.translation\"  \n",
       "[26] \"FDRtgfbVStgfbCX5461.translation\"     \n",
       "[27] \"PtgfbVStgfbCX5461.translation\"       \n",
       "[28] \"unt.tgfb.DEtranslation\"              \n",
       "[29] \"tgfb.tgfbCX5461.DEtranslation\"       \n",
       "[30] \"reversible.translation\"              \n",
       "[31] \"biotype\"                             "
      ]
     },
     "metadata": {},
     "output_type": "display_data"
    },
    {
     "data": {
      "text/html": [
       "FALSE"
      ],
      "text/latex": [
       "FALSE"
      ],
      "text/markdown": [
       "FALSE"
      ],
      "text/plain": [
       "[1] FALSE"
      ]
     },
     "metadata": {},
     "output_type": "display_data"
    },
    {
     "data": {
      "text/html": [
       "<table class=\"dataframe\">\n",
       "<caption>A data.frame: 6 × 6</caption>\n",
       "<thead>\n",
       "\t<tr><th></th><th scope=col>tgfb</th><th scope=col>tgfbCX</th><th scope=col>log2FC</th><th scope=col>FDR</th><th scope=col>p.value</th><th scope=col>biotype</th></tr>\n",
       "\t<tr><th></th><th scope=col>&lt;dbl&gt;</th><th scope=col>&lt;dbl&gt;</th><th scope=col>&lt;dbl&gt;</th><th scope=col>&lt;dbl&gt;</th><th scope=col>&lt;dbl&gt;</th><th scope=col>&lt;chr&gt;</th></tr>\n",
       "</thead>\n",
       "<tbody>\n",
       "\t<tr><th scope=row>0610009E02Rik</th><td>-5.8984265</td><td>-5.2265936</td><td> 0.6718328</td><td>0.55977147</td><td>0.292009949</td><td>lncRNA        </td></tr>\n",
       "\t<tr><th scope=row>0610010F05Rik</th><td>-0.1829955</td><td>-0.5799545</td><td>-0.3969590</td><td>0.04148518</td><td>0.004344689</td><td>protein_coding</td></tr>\n",
       "\t<tr><th scope=row>0610010K14Rik</th><td>-1.7397896</td><td>-1.8579677</td><td>-0.1181780</td><td>0.79854067</td><td>0.584691893</td><td>protein_coding</td></tr>\n",
       "\t<tr><th scope=row>0610040J01Rik</th><td>-4.7394168</td><td>-3.7050215</td><td> 1.0343953</td><td>0.16393562</td><td>0.034095484</td><td>protein_coding</td></tr>\n",
       "\t<tr><th scope=row>1110002E22Rik</th><td>-0.3413013</td><td>-0.1778612</td><td> 0.1634400</td><td>0.52467287</td><td>0.257096267</td><td>protein_coding</td></tr>\n",
       "\t<tr><th scope=row>1110002L01Rik</th><td>-0.7176300</td><td>-0.2905577</td><td> 0.4270723</td><td>0.03121272</td><td>0.002887045</td><td>lncRNA        </td></tr>\n",
       "</tbody>\n",
       "</table>\n"
      ],
      "text/latex": [
       "A data.frame: 6 × 6\n",
       "\\begin{tabular}{r|llllll}\n",
       "  & tgfb & tgfbCX & log2FC & FDR & p.value & biotype\\\\\n",
       "  & <dbl> & <dbl> & <dbl> & <dbl> & <dbl> & <chr>\\\\\n",
       "\\hline\n",
       "\t0610009E02Rik & -5.8984265 & -5.2265936 &  0.6718328 & 0.55977147 & 0.292009949 & lncRNA        \\\\\n",
       "\t0610010F05Rik & -0.1829955 & -0.5799545 & -0.3969590 & 0.04148518 & 0.004344689 & protein\\_coding\\\\\n",
       "\t0610010K14Rik & -1.7397896 & -1.8579677 & -0.1181780 & 0.79854067 & 0.584691893 & protein\\_coding\\\\\n",
       "\t0610040J01Rik & -4.7394168 & -3.7050215 &  1.0343953 & 0.16393562 & 0.034095484 & protein\\_coding\\\\\n",
       "\t1110002E22Rik & -0.3413013 & -0.1778612 &  0.1634400 & 0.52467287 & 0.257096267 & protein\\_coding\\\\\n",
       "\t1110002L01Rik & -0.7176300 & -0.2905577 &  0.4270723 & 0.03121272 & 0.002887045 & lncRNA        \\\\\n",
       "\\end{tabular}\n"
      ],
      "text/markdown": [
       "\n",
       "A data.frame: 6 × 6\n",
       "\n",
       "| <!--/--> | tgfb &lt;dbl&gt; | tgfbCX &lt;dbl&gt; | log2FC &lt;dbl&gt; | FDR &lt;dbl&gt; | p.value &lt;dbl&gt; | biotype &lt;chr&gt; |\n",
       "|---|---|---|---|---|---|---|\n",
       "| 0610009E02Rik | -5.8984265 | -5.2265936 |  0.6718328 | 0.55977147 | 0.292009949 | lncRNA         |\n",
       "| 0610010F05Rik | -0.1829955 | -0.5799545 | -0.3969590 | 0.04148518 | 0.004344689 | protein_coding |\n",
       "| 0610010K14Rik | -1.7397896 | -1.8579677 | -0.1181780 | 0.79854067 | 0.584691893 | protein_coding |\n",
       "| 0610040J01Rik | -4.7394168 | -3.7050215 |  1.0343953 | 0.16393562 | 0.034095484 | protein_coding |\n",
       "| 1110002E22Rik | -0.3413013 | -0.1778612 |  0.1634400 | 0.52467287 | 0.257096267 | protein_coding |\n",
       "| 1110002L01Rik | -0.7176300 | -0.2905577 |  0.4270723 | 0.03121272 | 0.002887045 | lncRNA         |\n",
       "\n"
      ],
      "text/plain": [
       "              tgfb       tgfbCX     log2FC     FDR        p.value    \n",
       "0610009E02Rik -5.8984265 -5.2265936  0.6718328 0.55977147 0.292009949\n",
       "0610010F05Rik -0.1829955 -0.5799545 -0.3969590 0.04148518 0.004344689\n",
       "0610010K14Rik -1.7397896 -1.8579677 -0.1181780 0.79854067 0.584691893\n",
       "0610040J01Rik -4.7394168 -3.7050215  1.0343953 0.16393562 0.034095484\n",
       "1110002E22Rik -0.3413013 -0.1778612  0.1634400 0.52467287 0.257096267\n",
       "1110002L01Rik -0.7176300 -0.2905577  0.4270723 0.03121272 0.002887045\n",
       "              biotype       \n",
       "0610009E02Rik lncRNA        \n",
       "0610010F05Rik protein_coding\n",
       "0610010K14Rik protein_coding\n",
       "0610040J01Rik protein_coding\n",
       "1110002E22Rik protein_coding\n",
       "1110002L01Rik lncRNA        "
      ]
     },
     "metadata": {},
     "output_type": "display_data"
    },
    {
     "data": {
      "text/html": [
       "<style>\n",
       ".list-inline {list-style: none; margin:0; padding: 0}\n",
       ".list-inline>li {display: inline-block}\n",
       ".list-inline>li:not(:last-child)::after {content: \"\\00b7\"; padding: 0 .5ex}\n",
       "</style>\n",
       "<ol class=list-inline><li>6703</li><li>6</li></ol>\n"
      ],
      "text/latex": [
       "\\begin{enumerate*}\n",
       "\\item 6703\n",
       "\\item 6\n",
       "\\end{enumerate*}\n"
      ],
      "text/markdown": [
       "1. 6703\n",
       "2. 6\n",
       "\n",
       "\n"
      ],
      "text/plain": [
       "[1] 6703    6"
      ]
     },
     "metadata": {},
     "output_type": "display_data"
    }
   ],
   "source": [
    "fname_mrna <- sprintf(\"blancgrp_211613_RNAseq_total_stranded.tgfb--vs--tgfbCX.all.txt.gz\")\n",
    "df_mrna <- read.table(file = sprintf(\"%s/%s\", dir_rnaseq, fname_mrna), header = TRUE, \n",
    "    sep = \"\\t\", row.names = 1, quote = \"\", comment.char = \"#\", stringsAsFactors = F)\n",
    "\n",
    "if (!is.null(pattern_remove_gene)) {\n",
    "    dim(df_mrna)\n",
    "    df_mrna <- df_mrna[!grepl(pattern_remove_gene, rownames(df_mrna)), ]\n",
    "}\n",
    "head(df_mrna)\n",
    "dim(df_mrna)\n",
    "\n",
    "colnames(df_all)\n",
    "idx <- which(df_all[, \"unt.tgfb.DEtranscription\"] != \"notSig\")\n",
    "df_mrna <- df_mrna[rownames(df_all[idx, ]), ]\n",
    "\n",
    "# df_mrna$biotype\n",
    "idx <- match(rownames(df_mrna), rownames(df_all))\n",
    "any(is.na(idx))  # should be FALSE\n",
    "df_mrna$biotype <- df_all[idx, \"biotype\"]\n",
    "\n",
    "head(df_mrna)\n",
    "dim(df_mrna)\n",
    "\n",
    "vec_log2FC <- df_mrna$log2FC\n",
    "vec_fdr <- df_mrna$FDR"
   ]
  },
  {
   "cell_type": "markdown",
   "id": "a544e98e",
   "metadata": {},
   "source": [
    "### sym_mrna_up"
   ]
  },
  {
   "cell_type": "code",
   "execution_count": 26,
   "id": "1693fdae",
   "metadata": {},
   "outputs": [
    {
     "data": {
      "text/html": [
       "<style>\n",
       ".list-inline {list-style: none; margin:0; padding: 0}\n",
       ".list-inline>li {display: inline-block}\n",
       ".list-inline>li:not(:last-child)::after {content: \"\\00b7\"; padding: 0 .5ex}\n",
       "</style>\n",
       "<ol class=list-inline><li>403</li><li>6</li></ol>\n"
      ],
      "text/latex": [
       "\\begin{enumerate*}\n",
       "\\item 403\n",
       "\\item 6\n",
       "\\end{enumerate*}\n"
      ],
      "text/markdown": [
       "1. 403\n",
       "2. 6\n",
       "\n",
       "\n"
      ],
      "text/plain": [
       "[1] 403   6"
      ]
     },
     "metadata": {},
     "output_type": "display_data"
    }
   ],
   "source": [
    "f_up <- (vec_fdr < th_adj_pvalue) & (vec_log2FC > th_log2fc)\n",
    "df_mrna_up <- df_mrna[f_up,]\n",
    "sym_mrna_up <- rownames(df_mrna_up)\n",
    "dim(df_mrna_up)\n",
    "\n",
    "list_genes[['sym_mrna_up']] <- sym_mrna_up"
   ]
  },
  {
   "cell_type": "markdown",
   "id": "721a28ff",
   "metadata": {},
   "source": [
    "### sym_mrna_down"
   ]
  },
  {
   "cell_type": "code",
   "execution_count": 27,
   "id": "fcf5da81",
   "metadata": {},
   "outputs": [
    {
     "data": {
      "text/html": [
       "<style>\n",
       ".list-inline {list-style: none; margin:0; padding: 0}\n",
       ".list-inline>li {display: inline-block}\n",
       ".list-inline>li:not(:last-child)::after {content: \"\\00b7\"; padding: 0 .5ex}\n",
       "</style>\n",
       "<ol class=list-inline><li>420</li><li>6</li></ol>\n"
      ],
      "text/latex": [
       "\\begin{enumerate*}\n",
       "\\item 420\n",
       "\\item 6\n",
       "\\end{enumerate*}\n"
      ],
      "text/markdown": [
       "1. 420\n",
       "2. 6\n",
       "\n",
       "\n"
      ],
      "text/plain": [
       "[1] 420   6"
      ]
     },
     "metadata": {},
     "output_type": "display_data"
    }
   ],
   "source": [
    "f_dn <- (vec_fdr < th_adj_pvalue) & (vec_log2FC < -th_log2fc)\n",
    "df_mrna_dn <- df_mrna[f_dn,]\n",
    "sym_mrna_dn <- rownames(df_mrna_dn)\n",
    "dim(df_mrna_dn)\n",
    "\n",
    "list_genes[['sym_mrna_dn']] <- sym_mrna_dn"
   ]
  },
  {
   "cell_type": "markdown",
   "id": "49c710cc",
   "metadata": {},
   "source": [
    "### sym_mrna"
   ]
  },
  {
   "cell_type": "code",
   "execution_count": 28,
   "id": "f59dae35",
   "metadata": {},
   "outputs": [
    {
     "data": {
      "text/html": [
       "823"
      ],
      "text/latex": [
       "823"
      ],
      "text/markdown": [
       "823"
      ],
      "text/plain": [
       "[1] 823"
      ]
     },
     "metadata": {},
     "output_type": "display_data"
    }
   ],
   "source": [
    "sym_mrna <- union(sym_mrna_up, sym_mrna_dn)\n",
    "length(sym_mrna)\n",
    "\n",
    "df_mrna <- df_mrna[sym_mrna,,drop=F]"
   ]
  },
  {
   "cell_type": "markdown",
   "id": "d6120bbf",
   "metadata": {},
   "source": [
    "### sym_mrna_no"
   ]
  },
  {
   "cell_type": "code",
   "execution_count": 29,
   "id": "38dbff18",
   "metadata": {},
   "outputs": [
    {
     "data": {
      "text/html": [
       "12183"
      ],
      "text/latex": [
       "12183"
      ],
      "text/markdown": [
       "12183"
      ],
      "text/plain": [
       "[1] 12183"
      ]
     },
     "metadata": {},
     "output_type": "display_data"
    }
   ],
   "source": [
    "sym_mrna_no <- setdiff(sym_rnaseq, sym_mrna)\n",
    "length(sym_mrna_no)"
   ]
  },
  {
   "cell_type": "markdown",
   "id": "e03cd938",
   "metadata": {},
   "source": [
    "### sym_mrna_de_detected_both"
   ]
  },
  {
   "cell_type": "code",
   "execution_count": 30,
   "id": "1ac490c5",
   "metadata": {},
   "outputs": [
    {
     "data": {
      "text/html": [
       "757"
      ],
      "text/latex": [
       "757"
      ],
      "text/markdown": [
       "757"
      ],
      "text/plain": [
       "[1] 757"
      ]
     },
     "metadata": {},
     "output_type": "display_data"
    }
   ],
   "source": [
    "sym_mrna_de_detected_both <- intersect(sym_mrna, sym_detected_both)\n",
    "length(sym_mrna_de_detected_both)"
   ]
  },
  {
   "cell_type": "markdown",
   "id": "3d0dbe34",
   "metadata": {},
   "source": [
    "## df_ribo"
   ]
  },
  {
   "cell_type": "code",
   "execution_count": 31,
   "id": "77f6176b",
   "metadata": {},
   "outputs": [
    {
     "data": {
      "text/html": [
       "<table class=\"dataframe\">\n",
       "<caption>A data.frame: 6 × 5</caption>\n",
       "<thead>\n",
       "\t<tr><th></th><th scope=col>unt48</th><th scope=col>tgfb48</th><th scope=col>log2FC</th><th scope=col>FDR</th><th scope=col>p.value</th></tr>\n",
       "\t<tr><th></th><th scope=col>&lt;dbl&gt;</th><th scope=col>&lt;dbl&gt;</th><th scope=col>&lt;dbl&gt;</th><th scope=col>&lt;dbl&gt;</th><th scope=col>&lt;dbl&gt;</th></tr>\n",
       "</thead>\n",
       "<tbody>\n",
       "\t<tr><th scope=row>Akr1c19</th><td> 1.2798329</td><td>-5.394223</td><td>-6.674056</td><td>3.231760e-06</td><td>1.19600e-07</td></tr>\n",
       "\t<tr><th scope=row>Gm22973</th><td> 0.4065654</td><td>-5.394223</td><td>-5.800788</td><td>2.505955e-04</td><td>1.79206e-05</td></tr>\n",
       "\t<tr><th scope=row>Lgals4</th><td> 4.0592875</td><td>-1.190004</td><td>-5.249291</td><td>0.000000e+00</td><td>0.00000e+00</td></tr>\n",
       "\t<tr><th scope=row>Gm10076</th><td> 1.6797900</td><td>-3.459413</td><td>-5.139203</td><td>6.104391e-04</td><td>5.02679e-05</td></tr>\n",
       "\t<tr><th scope=row>Apoc2</th><td>-0.3649858</td><td>-5.394223</td><td>-5.029237</td><td>2.057103e-04</td><td>1.41371e-05</td></tr>\n",
       "\t<tr><th scope=row>Ugt2b34</th><td> 2.0156044</td><td>-2.992556</td><td>-5.008161</td><td>6.005600e-07</td><td>1.75000e-08</td></tr>\n",
       "</tbody>\n",
       "</table>\n"
      ],
      "text/latex": [
       "A data.frame: 6 × 5\n",
       "\\begin{tabular}{r|lllll}\n",
       "  & unt48 & tgfb48 & log2FC & FDR & p.value\\\\\n",
       "  & <dbl> & <dbl> & <dbl> & <dbl> & <dbl>\\\\\n",
       "\\hline\n",
       "\tAkr1c19 &  1.2798329 & -5.394223 & -6.674056 & 3.231760e-06 & 1.19600e-07\\\\\n",
       "\tGm22973 &  0.4065654 & -5.394223 & -5.800788 & 2.505955e-04 & 1.79206e-05\\\\\n",
       "\tLgals4 &  4.0592875 & -1.190004 & -5.249291 & 0.000000e+00 & 0.00000e+00\\\\\n",
       "\tGm10076 &  1.6797900 & -3.459413 & -5.139203 & 6.104391e-04 & 5.02679e-05\\\\\n",
       "\tApoc2 & -0.3649858 & -5.394223 & -5.029237 & 2.057103e-04 & 1.41371e-05\\\\\n",
       "\tUgt2b34 &  2.0156044 & -2.992556 & -5.008161 & 6.005600e-07 & 1.75000e-08\\\\\n",
       "\\end{tabular}\n"
      ],
      "text/markdown": [
       "\n",
       "A data.frame: 6 × 5\n",
       "\n",
       "| <!--/--> | unt48 &lt;dbl&gt; | tgfb48 &lt;dbl&gt; | log2FC &lt;dbl&gt; | FDR &lt;dbl&gt; | p.value &lt;dbl&gt; |\n",
       "|---|---|---|---|---|---|\n",
       "| Akr1c19 |  1.2798329 | -5.394223 | -6.674056 | 3.231760e-06 | 1.19600e-07 |\n",
       "| Gm22973 |  0.4065654 | -5.394223 | -5.800788 | 2.505955e-04 | 1.79206e-05 |\n",
       "| Lgals4 |  4.0592875 | -1.190004 | -5.249291 | 0.000000e+00 | 0.00000e+00 |\n",
       "| Gm10076 |  1.6797900 | -3.459413 | -5.139203 | 6.104391e-04 | 5.02679e-05 |\n",
       "| Apoc2 | -0.3649858 | -5.394223 | -5.029237 | 2.057103e-04 | 1.41371e-05 |\n",
       "| Ugt2b34 |  2.0156044 | -2.992556 | -5.008161 | 6.005600e-07 | 1.75000e-08 |\n",
       "\n"
      ],
      "text/plain": [
       "        unt48      tgfb48    log2FC    FDR          p.value    \n",
       "Akr1c19  1.2798329 -5.394223 -6.674056 3.231760e-06 1.19600e-07\n",
       "Gm22973  0.4065654 -5.394223 -5.800788 2.505955e-04 1.79206e-05\n",
       "Lgals4   4.0592875 -1.190004 -5.249291 0.000000e+00 0.00000e+00\n",
       "Gm10076  1.6797900 -3.459413 -5.139203 6.104391e-04 5.02679e-05\n",
       "Apoc2   -0.3649858 -5.394223 -5.029237 2.057103e-04 1.41371e-05\n",
       "Ugt2b34  2.0156044 -2.992556 -5.008161 6.005600e-07 1.75000e-08"
      ]
     },
     "metadata": {},
     "output_type": "display_data"
    },
    {
     "data": {
      "text/html": [
       "<style>\n",
       ".list-inline {list-style: none; margin:0; padding: 0}\n",
       ".list-inline>li {display: inline-block}\n",
       ".list-inline>li:not(:last-child)::after {content: \"\\00b7\"; padding: 0 .5ex}\n",
       "</style>\n",
       "<ol class=list-inline><li>2603</li><li>5</li></ol>\n"
      ],
      "text/latex": [
       "\\begin{enumerate*}\n",
       "\\item 2603\n",
       "\\item 5\n",
       "\\end{enumerate*}\n"
      ],
      "text/markdown": [
       "1. 2603\n",
       "2. 5\n",
       "\n",
       "\n"
      ],
      "text/plain": [
       "[1] 2603    5"
      ]
     },
     "metadata": {},
     "output_type": "display_data"
    },
    {
     "data": {
      "text/html": [
       "FALSE"
      ],
      "text/latex": [
       "FALSE"
      ],
      "text/markdown": [
       "FALSE"
      ],
      "text/plain": [
       "[1] FALSE"
      ]
     },
     "metadata": {},
     "output_type": "display_data"
    },
    {
     "data": {
      "text/html": [
       "<table class=\"dataframe\">\n",
       "<caption>A data.frame: 6 × 6</caption>\n",
       "<thead>\n",
       "\t<tr><th></th><th scope=col>unt48</th><th scope=col>tgfb48</th><th scope=col>log2FC</th><th scope=col>FDR</th><th scope=col>p.value</th><th scope=col>biotype</th></tr>\n",
       "\t<tr><th></th><th scope=col>&lt;dbl&gt;</th><th scope=col>&lt;dbl&gt;</th><th scope=col>&lt;dbl&gt;</th><th scope=col>&lt;dbl&gt;</th><th scope=col>&lt;dbl&gt;</th><th scope=col>&lt;chr&gt;</th></tr>\n",
       "</thead>\n",
       "<tbody>\n",
       "\t<tr><th scope=row>1110038B12Rik</th><td> 2.6703556</td><td> 2.3172192</td><td>-0.3531364</td><td>2.700556e-02</td><td>0.0049270853</td><td>lncRNA        </td></tr>\n",
       "\t<tr><th scope=row>1110059E24Rik</th><td> 0.1306316</td><td>-0.8647351</td><td>-0.9953667</td><td>2.004643e-02</td><td>0.0034012561</td><td>protein_coding</td></tr>\n",
       "\t<tr><th scope=row>1500011B03Rik</th><td>-0.6397620</td><td>-2.0752952</td><td>-1.4355331</td><td>2.352269e-02</td><td>0.0041348011</td><td>protein_coding</td></tr>\n",
       "\t<tr><th scope=row>1700015I17Rik</th><td>-3.3048711</td><td>-1.0700091</td><td> 2.2348621</td><td>8.306292e-03</td><td>0.0011381517</td><td>lncRNA        </td></tr>\n",
       "\t<tr><th scope=row>1700017B05Rik</th><td> 0.9365901</td><td> 2.0120754</td><td> 1.0754853</td><td>1.137532e-05</td><td>0.0000004984</td><td>protein_coding</td></tr>\n",
       "\t<tr><th scope=row>1700037H04Rik</th><td> 0.1562650</td><td>-1.1485832</td><td>-1.3048481</td><td>1.614225e-02</td><td>0.0025791538</td><td>protein_coding</td></tr>\n",
       "</tbody>\n",
       "</table>\n"
      ],
      "text/latex": [
       "A data.frame: 6 × 6\n",
       "\\begin{tabular}{r|llllll}\n",
       "  & unt48 & tgfb48 & log2FC & FDR & p.value & biotype\\\\\n",
       "  & <dbl> & <dbl> & <dbl> & <dbl> & <dbl> & <chr>\\\\\n",
       "\\hline\n",
       "\t1110038B12Rik &  2.6703556 &  2.3172192 & -0.3531364 & 2.700556e-02 & 0.0049270853 & lncRNA        \\\\\n",
       "\t1110059E24Rik &  0.1306316 & -0.8647351 & -0.9953667 & 2.004643e-02 & 0.0034012561 & protein\\_coding\\\\\n",
       "\t1500011B03Rik & -0.6397620 & -2.0752952 & -1.4355331 & 2.352269e-02 & 0.0041348011 & protein\\_coding\\\\\n",
       "\t1700015I17Rik & -3.3048711 & -1.0700091 &  2.2348621 & 8.306292e-03 & 0.0011381517 & lncRNA        \\\\\n",
       "\t1700017B05Rik &  0.9365901 &  2.0120754 &  1.0754853 & 1.137532e-05 & 0.0000004984 & protein\\_coding\\\\\n",
       "\t1700037H04Rik &  0.1562650 & -1.1485832 & -1.3048481 & 1.614225e-02 & 0.0025791538 & protein\\_coding\\\\\n",
       "\\end{tabular}\n"
      ],
      "text/markdown": [
       "\n",
       "A data.frame: 6 × 6\n",
       "\n",
       "| <!--/--> | unt48 &lt;dbl&gt; | tgfb48 &lt;dbl&gt; | log2FC &lt;dbl&gt; | FDR &lt;dbl&gt; | p.value &lt;dbl&gt; | biotype &lt;chr&gt; |\n",
       "|---|---|---|---|---|---|---|\n",
       "| 1110038B12Rik |  2.6703556 |  2.3172192 | -0.3531364 | 2.700556e-02 | 0.0049270853 | lncRNA         |\n",
       "| 1110059E24Rik |  0.1306316 | -0.8647351 | -0.9953667 | 2.004643e-02 | 0.0034012561 | protein_coding |\n",
       "| 1500011B03Rik | -0.6397620 | -2.0752952 | -1.4355331 | 2.352269e-02 | 0.0041348011 | protein_coding |\n",
       "| 1700015I17Rik | -3.3048711 | -1.0700091 |  2.2348621 | 8.306292e-03 | 0.0011381517 | lncRNA         |\n",
       "| 1700017B05Rik |  0.9365901 |  2.0120754 |  1.0754853 | 1.137532e-05 | 0.0000004984 | protein_coding |\n",
       "| 1700037H04Rik |  0.1562650 | -1.1485832 | -1.3048481 | 1.614225e-02 | 0.0025791538 | protein_coding |\n",
       "\n"
      ],
      "text/plain": [
       "              unt48      tgfb48     log2FC     FDR          p.value     \n",
       "1110038B12Rik  2.6703556  2.3172192 -0.3531364 2.700556e-02 0.0049270853\n",
       "1110059E24Rik  0.1306316 -0.8647351 -0.9953667 2.004643e-02 0.0034012561\n",
       "1500011B03Rik -0.6397620 -2.0752952 -1.4355331 2.352269e-02 0.0041348011\n",
       "1700015I17Rik -3.3048711 -1.0700091  2.2348621 8.306292e-03 0.0011381517\n",
       "1700017B05Rik  0.9365901  2.0120754  1.0754853 1.137532e-05 0.0000004984\n",
       "1700037H04Rik  0.1562650 -1.1485832 -1.3048481 1.614225e-02 0.0025791538\n",
       "              biotype       \n",
       "1110038B12Rik lncRNA        \n",
       "1110059E24Rik protein_coding\n",
       "1500011B03Rik protein_coding\n",
       "1700015I17Rik lncRNA        \n",
       "1700017B05Rik protein_coding\n",
       "1700037H04Rik protein_coding"
      ]
     },
     "metadata": {},
     "output_type": "display_data"
    },
    {
     "data": {
      "text/html": [
       "<style>\n",
       ".list-inline {list-style: none; margin:0; padding: 0}\n",
       ".list-inline>li {display: inline-block}\n",
       ".list-inline>li:not(:last-child)::after {content: \"\\00b7\"; padding: 0 .5ex}\n",
       "</style>\n",
       "<ol class=list-inline><li>2603</li><li>6</li></ol>\n"
      ],
      "text/latex": [
       "\\begin{enumerate*}\n",
       "\\item 2603\n",
       "\\item 6\n",
       "\\end{enumerate*}\n"
      ],
      "text/markdown": [
       "1. 2603\n",
       "2. 6\n",
       "\n",
       "\n"
      ],
      "text/plain": [
       "[1] 2603    6"
      ]
     },
     "metadata": {},
     "output_type": "display_data"
    }
   ],
   "source": [
    "fname_ribo <- sprintf(\"blancgrp_161021_Riboseq.unt48--vs--tgfb48.diff-all.txt.gz\")\n",
    "df_ribo <- read.table(file = sprintf(\"%s/%s\", dir_riboseq, fname_ribo), header = TRUE, \n",
    "    sep = \"\\t\", row.names = 1, quote = \"\", comment.char = \"#\", stringsAsFactors = F)\n",
    "\n",
    "if (!is.null(pattern_remove_gene)) {\n",
    "    dim(df_ribo)\n",
    "    df_ribo <- df_ribo[!grepl(pattern_remove_gene, rownames(df_ribo)), ]\n",
    "}\n",
    "head(df_ribo)\n",
    "dim(df_ribo)\n",
    "\n",
    "idx <- which(df_all[, \"unt.tgfb.DEtranslation\"] != \"notSig\")\n",
    "df_ribo <- df_ribo[rownames(df_all[idx, ]), ]\n",
    "\n",
    "# df_mrna$biotype\n",
    "idx <- match(rownames(df_ribo), rownames(df_all))\n",
    "any(is.na(idx))  # should be FALSE\n",
    "df_ribo$biotype <- df_all[idx, \"biotype\"]\n",
    "\n",
    "head(df_ribo)\n",
    "dim(df_ribo)\n",
    "\n",
    "\n",
    "vec_log2FC <- df_ribo$log2FC\n",
    "vec_fdr <- df_ribo$FDR"
   ]
  },
  {
   "cell_type": "markdown",
   "id": "676b2ba1",
   "metadata": {},
   "source": [
    "### sym_ribo_up"
   ]
  },
  {
   "cell_type": "code",
   "execution_count": 32,
   "id": "06c72414",
   "metadata": {},
   "outputs": [
    {
     "data": {
      "text/html": [
       "<style>\n",
       ".list-inline {list-style: none; margin:0; padding: 0}\n",
       ".list-inline>li {display: inline-block}\n",
       ".list-inline>li:not(:last-child)::after {content: \"\\00b7\"; padding: 0 .5ex}\n",
       "</style>\n",
       "<ol class=list-inline><li>1351</li><li>6</li></ol>\n"
      ],
      "text/latex": [
       "\\begin{enumerate*}\n",
       "\\item 1351\n",
       "\\item 6\n",
       "\\end{enumerate*}\n"
      ],
      "text/markdown": [
       "1. 1351\n",
       "2. 6\n",
       "\n",
       "\n"
      ],
      "text/plain": [
       "[1] 1351    6"
      ]
     },
     "metadata": {},
     "output_type": "display_data"
    }
   ],
   "source": [
    "f_up <- (vec_fdr < th_adj_pvalue) & (vec_log2FC > th_log2fc)\n",
    "df_ribo_up <- df_ribo[f_up,]\n",
    "sym_ribo_up <- rownames(df_ribo_up)\n",
    "dim(df_ribo_up)\n",
    "\n",
    "list_genes[['sym_ribo_up']] <- sym_ribo_up"
   ]
  },
  {
   "cell_type": "markdown",
   "id": "6f460ba1",
   "metadata": {},
   "source": [
    "### sym_ribo_down"
   ]
  },
  {
   "cell_type": "code",
   "execution_count": 33,
   "id": "275072fc",
   "metadata": {},
   "outputs": [
    {
     "data": {
      "text/html": [
       "<style>\n",
       ".list-inline {list-style: none; margin:0; padding: 0}\n",
       ".list-inline>li {display: inline-block}\n",
       ".list-inline>li:not(:last-child)::after {content: \"\\00b7\"; padding: 0 .5ex}\n",
       "</style>\n",
       "<ol class=list-inline><li>1252</li><li>6</li></ol>\n"
      ],
      "text/latex": [
       "\\begin{enumerate*}\n",
       "\\item 1252\n",
       "\\item 6\n",
       "\\end{enumerate*}\n"
      ],
      "text/markdown": [
       "1. 1252\n",
       "2. 6\n",
       "\n",
       "\n"
      ],
      "text/plain": [
       "[1] 1252    6"
      ]
     },
     "metadata": {},
     "output_type": "display_data"
    }
   ],
   "source": [
    "f_dn <- (vec_fdr < th_adj_pvalue) & (vec_log2FC < -th_log2fc)\n",
    "df_ribo_dn <- df_ribo[f_dn,]\n",
    "sym_ribo_dn <- rownames(df_ribo_dn)\n",
    "dim(df_ribo_dn)\n",
    "\n",
    "list_genes[['sym_ribo_dn']] <- sym_ribo_dn"
   ]
  },
  {
   "cell_type": "markdown",
   "id": "e7103548",
   "metadata": {},
   "source": [
    "### sym_ribo"
   ]
  },
  {
   "cell_type": "code",
   "execution_count": 34,
   "id": "a2ea27c8",
   "metadata": {},
   "outputs": [
    {
     "data": {
      "text/html": [
       "2603"
      ],
      "text/latex": [
       "2603"
      ],
      "text/markdown": [
       "2603"
      ],
      "text/plain": [
       "[1] 2603"
      ]
     },
     "metadata": {},
     "output_type": "display_data"
    }
   ],
   "source": [
    "sym_ribo <- union(sym_ribo_up, sym_ribo_dn)\n",
    "length(sym_ribo)\n",
    "\n",
    "df_ribo <- df_ribo[sym_ribo,,drop=F]"
   ]
  },
  {
   "cell_type": "markdown",
   "id": "4c081b89",
   "metadata": {},
   "source": [
    "### sym_ribo_no"
   ]
  },
  {
   "cell_type": "code",
   "execution_count": 35,
   "id": "7675fba4",
   "metadata": {},
   "outputs": [
    {
     "data": {
      "text/html": [
       "9395"
      ],
      "text/latex": [
       "9395"
      ],
      "text/markdown": [
       "9395"
      ],
      "text/plain": [
       "[1] 9395"
      ]
     },
     "metadata": {},
     "output_type": "display_data"
    }
   ],
   "source": [
    "sym_ribo_no <- setdiff(sym_riboseq, sym_ribo)\n",
    "length(sym_ribo_no)"
   ]
  },
  {
   "cell_type": "markdown",
   "id": "6eb51469",
   "metadata": {},
   "source": [
    "### sym_ribo_de_detected_both"
   ]
  },
  {
   "cell_type": "code",
   "execution_count": 36,
   "id": "f400a3fd",
   "metadata": {},
   "outputs": [
    {
     "data": {
      "text/html": [
       "2396"
      ],
      "text/latex": [
       "2396"
      ],
      "text/markdown": [
       "2396"
      ],
      "text/plain": [
       "[1] 2396"
      ]
     },
     "metadata": {},
     "output_type": "display_data"
    }
   ],
   "source": [
    "sym_ribo_de_detected_both <- intersect(sym_ribo, sym_detected_both)\n",
    "length(sym_ribo_de_detected_both)"
   ]
  },
  {
   "cell_type": "markdown",
   "id": "820171ed",
   "metadata": {},
   "source": [
    "### biotype"
   ]
  },
  {
   "cell_type": "code",
   "execution_count": 37,
   "id": "5974f6d6",
   "metadata": {},
   "outputs": [
    {
     "data": {
      "text/html": [
       "<style>\n",
       ".list-inline {list-style: none; margin:0; padding: 0}\n",
       ".list-inline>li {display: inline-block}\n",
       ".list-inline>li:not(:last-child)::after {content: \"\\00b7\"; padding: 0 .5ex}\n",
       "</style>\n",
       "<ol class=list-inline><li>'lncRNA'</li><li>'protein_coding'</li><li>'rRNA'</li><li>'misc_RNA'</li><li>'transcribed_processed_pseudogene'</li><li>'polymorphic_pseudogene'</li><li>'processed_pseudogene'</li><li>'unprocessed_pseudogene'</li><li>'scaRNA'</li><li>'snRNA'</li><li>'snoRNA'</li><li>'TEC'</li><li>'IG_C_gene'</li><li>'miRNA'</li><li>'Mt_rRNA'</li><li>'Mt_tRNA'</li><li>'rDNA'</li><li>'ribozyme'</li><li>'TR_C_gene'</li><li>'transcribed_unprocessed_pseudogene'</li></ol>\n"
      ],
      "text/latex": [
       "\\begin{enumerate*}\n",
       "\\item 'lncRNA'\n",
       "\\item 'protein\\_coding'\n",
       "\\item 'rRNA'\n",
       "\\item 'misc\\_RNA'\n",
       "\\item 'transcribed\\_processed\\_pseudogene'\n",
       "\\item 'polymorphic\\_pseudogene'\n",
       "\\item 'processed\\_pseudogene'\n",
       "\\item 'unprocessed\\_pseudogene'\n",
       "\\item 'scaRNA'\n",
       "\\item 'snRNA'\n",
       "\\item 'snoRNA'\n",
       "\\item 'TEC'\n",
       "\\item 'IG\\_C\\_gene'\n",
       "\\item 'miRNA'\n",
       "\\item 'Mt\\_rRNA'\n",
       "\\item 'Mt\\_tRNA'\n",
       "\\item 'rDNA'\n",
       "\\item 'ribozyme'\n",
       "\\item 'TR\\_C\\_gene'\n",
       "\\item 'transcribed\\_unprocessed\\_pseudogene'\n",
       "\\end{enumerate*}\n"
      ],
      "text/markdown": [
       "1. 'lncRNA'\n",
       "2. 'protein_coding'\n",
       "3. 'rRNA'\n",
       "4. 'misc_RNA'\n",
       "5. 'transcribed_processed_pseudogene'\n",
       "6. 'polymorphic_pseudogene'\n",
       "7. 'processed_pseudogene'\n",
       "8. 'unprocessed_pseudogene'\n",
       "9. 'scaRNA'\n",
       "10. 'snRNA'\n",
       "11. 'snoRNA'\n",
       "12. 'TEC'\n",
       "13. 'IG_C_gene'\n",
       "14. 'miRNA'\n",
       "15. 'Mt_rRNA'\n",
       "16. 'Mt_tRNA'\n",
       "17. 'rDNA'\n",
       "18. 'ribozyme'\n",
       "19. 'TR_C_gene'\n",
       "20. 'transcribed_unprocessed_pseudogene'\n",
       "\n",
       "\n"
      ],
      "text/plain": [
       " [1] \"lncRNA\"                             \"protein_coding\"                    \n",
       " [3] \"rRNA\"                               \"misc_RNA\"                          \n",
       " [5] \"transcribed_processed_pseudogene\"   \"polymorphic_pseudogene\"            \n",
       " [7] \"processed_pseudogene\"               \"unprocessed_pseudogene\"            \n",
       " [9] \"scaRNA\"                             \"snRNA\"                             \n",
       "[11] \"snoRNA\"                             \"TEC\"                               \n",
       "[13] \"IG_C_gene\"                          \"miRNA\"                             \n",
       "[15] \"Mt_rRNA\"                            \"Mt_tRNA\"                           \n",
       "[17] \"rDNA\"                               \"ribozyme\"                          \n",
       "[19] \"TR_C_gene\"                          \"transcribed_unprocessed_pseudogene\""
      ]
     },
     "metadata": {},
     "output_type": "display_data"
    },
    {
     "data": {
      "text/html": [
       "202"
      ],
      "text/latex": [
       "202"
      ],
      "text/markdown": [
       "202"
      ],
      "text/plain": [
       "[1] 202"
      ]
     },
     "metadata": {},
     "output_type": "display_data"
    }
   ],
   "source": [
    "unique(df_ribo$biotype)\n",
    "length(which(df_ribo$biotype=='processed_pseudogene'))"
   ]
  },
  {
   "cell_type": "markdown",
   "id": "329c2a92",
   "metadata": {},
   "source": [
    "### protein_coding_only"
   ]
  },
  {
   "cell_type": "code",
   "execution_count": 38,
   "id": "301c4e24",
   "metadata": {},
   "outputs": [
    {
     "data": {
      "text/html": [
       "<table class=\"dataframe\">\n",
       "<caption>A data.frame: 6 × 6</caption>\n",
       "<thead>\n",
       "\t<tr><th></th><th scope=col>unt48</th><th scope=col>tgfb48</th><th scope=col>log2FC</th><th scope=col>FDR</th><th scope=col>p.value</th><th scope=col>biotype</th></tr>\n",
       "\t<tr><th></th><th scope=col>&lt;dbl&gt;</th><th scope=col>&lt;dbl&gt;</th><th scope=col>&lt;dbl&gt;</th><th scope=col>&lt;dbl&gt;</th><th scope=col>&lt;dbl&gt;</th><th scope=col>&lt;chr&gt;</th></tr>\n",
       "</thead>\n",
       "<tbody>\n",
       "\t<tr><th scope=row>1700017B05Rik</th><td> 0.9365901</td><td> 2.0120754</td><td>1.0754853</td><td>1.137532e-05</td><td>0.0000004984</td><td>protein_coding</td></tr>\n",
       "\t<tr><th scope=row>4930402H24Rik</th><td> 0.3611133</td><td> 1.7281300</td><td>1.3670168</td><td>4.406850e-06</td><td>0.0000001697</td><td>protein_coding</td></tr>\n",
       "\t<tr><th scope=row>9130019O22Rik</th><td>-4.6965296</td><td>-1.7175273</td><td>2.9790024</td><td>4.080761e-02</td><td>0.0083743560</td><td>protein_coding</td></tr>\n",
       "\t<tr><th scope=row>9930111J21Rik1</th><td>-3.2764441</td><td> 1.2721796</td><td>4.5486236</td><td>9.366500e-07</td><td>0.0000000297</td><td>protein_coding</td></tr>\n",
       "\t<tr><th scope=row>9930111J21Rik2</th><td>-4.2238439</td><td>-0.4650922</td><td>3.7587516</td><td>1.088954e-03</td><td>0.0000991936</td><td>protein_coding</td></tr>\n",
       "\t<tr><th scope=row>Abcf3</th><td> 0.3664803</td><td> 1.0211312</td><td>0.6546509</td><td>2.767077e-02</td><td>0.0050876573</td><td>protein_coding</td></tr>\n",
       "</tbody>\n",
       "</table>\n"
      ],
      "text/latex": [
       "A data.frame: 6 × 6\n",
       "\\begin{tabular}{r|llllll}\n",
       "  & unt48 & tgfb48 & log2FC & FDR & p.value & biotype\\\\\n",
       "  & <dbl> & <dbl> & <dbl> & <dbl> & <dbl> & <chr>\\\\\n",
       "\\hline\n",
       "\t1700017B05Rik &  0.9365901 &  2.0120754 & 1.0754853 & 1.137532e-05 & 0.0000004984 & protein\\_coding\\\\\n",
       "\t4930402H24Rik &  0.3611133 &  1.7281300 & 1.3670168 & 4.406850e-06 & 0.0000001697 & protein\\_coding\\\\\n",
       "\t9130019O22Rik & -4.6965296 & -1.7175273 & 2.9790024 & 4.080761e-02 & 0.0083743560 & protein\\_coding\\\\\n",
       "\t9930111J21Rik1 & -3.2764441 &  1.2721796 & 4.5486236 & 9.366500e-07 & 0.0000000297 & protein\\_coding\\\\\n",
       "\t9930111J21Rik2 & -4.2238439 & -0.4650922 & 3.7587516 & 1.088954e-03 & 0.0000991936 & protein\\_coding\\\\\n",
       "\tAbcf3 &  0.3664803 &  1.0211312 & 0.6546509 & 2.767077e-02 & 0.0050876573 & protein\\_coding\\\\\n",
       "\\end{tabular}\n"
      ],
      "text/markdown": [
       "\n",
       "A data.frame: 6 × 6\n",
       "\n",
       "| <!--/--> | unt48 &lt;dbl&gt; | tgfb48 &lt;dbl&gt; | log2FC &lt;dbl&gt; | FDR &lt;dbl&gt; | p.value &lt;dbl&gt; | biotype &lt;chr&gt; |\n",
       "|---|---|---|---|---|---|---|\n",
       "| 1700017B05Rik |  0.9365901 |  2.0120754 | 1.0754853 | 1.137532e-05 | 0.0000004984 | protein_coding |\n",
       "| 4930402H24Rik |  0.3611133 |  1.7281300 | 1.3670168 | 4.406850e-06 | 0.0000001697 | protein_coding |\n",
       "| 9130019O22Rik | -4.6965296 | -1.7175273 | 2.9790024 | 4.080761e-02 | 0.0083743560 | protein_coding |\n",
       "| 9930111J21Rik1 | -3.2764441 |  1.2721796 | 4.5486236 | 9.366500e-07 | 0.0000000297 | protein_coding |\n",
       "| 9930111J21Rik2 | -4.2238439 | -0.4650922 | 3.7587516 | 1.088954e-03 | 0.0000991936 | protein_coding |\n",
       "| Abcf3 |  0.3664803 |  1.0211312 | 0.6546509 | 2.767077e-02 | 0.0050876573 | protein_coding |\n",
       "\n"
      ],
      "text/plain": [
       "               unt48      tgfb48     log2FC    FDR          p.value     \n",
       "1700017B05Rik   0.9365901  2.0120754 1.0754853 1.137532e-05 0.0000004984\n",
       "4930402H24Rik   0.3611133  1.7281300 1.3670168 4.406850e-06 0.0000001697\n",
       "9130019O22Rik  -4.6965296 -1.7175273 2.9790024 4.080761e-02 0.0083743560\n",
       "9930111J21Rik1 -3.2764441  1.2721796 4.5486236 9.366500e-07 0.0000000297\n",
       "9930111J21Rik2 -4.2238439 -0.4650922 3.7587516 1.088954e-03 0.0000991936\n",
       "Abcf3           0.3664803  1.0211312 0.6546509 2.767077e-02 0.0050876573\n",
       "               biotype       \n",
       "1700017B05Rik  protein_coding\n",
       "4930402H24Rik  protein_coding\n",
       "9130019O22Rik  protein_coding\n",
       "9930111J21Rik1 protein_coding\n",
       "9930111J21Rik2 protein_coding\n",
       "Abcf3          protein_coding"
      ]
     },
     "metadata": {},
     "output_type": "display_data"
    },
    {
     "data": {
      "text/html": [
       "<style>\n",
       ".list-inline {list-style: none; margin:0; padding: 0}\n",
       ".list-inline>li {display: inline-block}\n",
       ".list-inline>li:not(:last-child)::after {content: \"\\00b7\"; padding: 0 .5ex}\n",
       "</style>\n",
       "<ol class=list-inline><li>2251</li><li>6</li></ol>\n"
      ],
      "text/latex": [
       "\\begin{enumerate*}\n",
       "\\item 2251\n",
       "\\item 6\n",
       "\\end{enumerate*}\n"
      ],
      "text/markdown": [
       "1. 2251\n",
       "2. 6\n",
       "\n",
       "\n"
      ],
      "text/plain": [
       "[1] 2251    6"
      ]
     },
     "metadata": {},
     "output_type": "display_data"
    }
   ],
   "source": [
    "f <- grepl('^protein_coding$', df_ribo$biotype)\n",
    "df_ribo_wo_pseudo <- df_ribo[f,]\n",
    "head(df_ribo_wo_pseudo)\n",
    "dim(df_ribo_wo_pseudo)"
   ]
  },
  {
   "cell_type": "markdown",
   "id": "bcda1610",
   "metadata": {},
   "source": [
    "## shared between both rnaseq and riboseq"
   ]
  },
  {
   "cell_type": "markdown",
   "id": "7d137a75",
   "metadata": {},
   "source": [
    "### sym_mrna_ribo_no"
   ]
  },
  {
   "cell_type": "code",
   "execution_count": 39,
   "id": "f13b9da8",
   "metadata": {},
   "outputs": [
    {
     "data": {
      "text/html": [
       "7566"
      ],
      "text/latex": [
       "7566"
      ],
      "text/markdown": [
       "7566"
      ],
      "text/plain": [
       "[1] 7566"
      ]
     },
     "metadata": {},
     "output_type": "display_data"
    }
   ],
   "source": [
    "sym_mrna_ribo_no <- intersect(sym_mrna_no, sym_ribo_no)\n",
    "length(sym_mrna_ribo_no)"
   ]
  },
  {
   "cell_type": "markdown",
   "id": "94dc6a62",
   "metadata": {},
   "source": [
    "### sym_mrna_up_ribo_up"
   ]
  },
  {
   "cell_type": "code",
   "execution_count": 40,
   "id": "05c0c861",
   "metadata": {},
   "outputs": [
    {
     "data": {
      "text/html": [
       "114"
      ],
      "text/latex": [
       "114"
      ],
      "text/markdown": [
       "114"
      ],
      "text/plain": [
       "[1] 114"
      ]
     },
     "metadata": {},
     "output_type": "display_data"
    }
   ],
   "source": [
    "# detected in both platforms\n",
    "sym_mrna_up_ribo_up <- intersect(sym_mrna_up, sym_ribo_up)\n",
    "length(sym_mrna_up_ribo_up)\n",
    "\n",
    "list_genes[['sym_mrna_up_ribo_up']] <- sym_mrna_up_ribo_up"
   ]
  },
  {
   "cell_type": "markdown",
   "id": "a250d9cd",
   "metadata": {},
   "source": [
    "### sym_mrna_dn_ribo_dn"
   ]
  },
  {
   "cell_type": "code",
   "execution_count": 41,
   "id": "bf94162c",
   "metadata": {},
   "outputs": [
    {
     "data": {
      "text/html": [
       "55"
      ],
      "text/latex": [
       "55"
      ],
      "text/markdown": [
       "55"
      ],
      "text/plain": [
       "[1] 55"
      ]
     },
     "metadata": {},
     "output_type": "display_data"
    }
   ],
   "source": [
    "# detected in both platforms\n",
    "sym_mrna_dn_ribo_dn <- intersect(sym_mrna_dn, sym_ribo_dn)\n",
    "length(sym_mrna_dn_ribo_dn)\n",
    "\n",
    "list_genes[['sym_mrna_dn_ribo_dn']] <- sym_mrna_dn_ribo_dn"
   ]
  },
  {
   "cell_type": "markdown",
   "id": "9a409032",
   "metadata": {},
   "source": [
    "### sym_mrna_up_ribo_dn"
   ]
  },
  {
   "cell_type": "code",
   "execution_count": 42,
   "id": "7a5600e0",
   "metadata": {},
   "outputs": [
    {
     "data": {
      "text/html": [
       "<style>\n",
       ".list-inline {list-style: none; margin:0; padding: 0}\n",
       ".list-inline>li {display: inline-block}\n",
       ".list-inline>li:not(:last-child)::after {content: \"\\00b7\"; padding: 0 .5ex}\n",
       "</style>\n",
       "<ol class=list-inline><li>'Aldh3b1'</li><li>'Aldoa'</li><li>'Anapc13'</li><li>'Arl8a'</li><li>'Atf3'</li><li>'Bax'</li><li>'Bbc3'</li><li>'Bcl2l1'</li><li>'Ccng1'</li><li>'Cdhr2'</li><li>'Cdkn1a'</li><li>'Chchd5'</li><li>'Coa3'</li><li>'Cystm1'</li><li>'Dcxr'</li><li>'Ddit3'</li><li>'Dusp1'</li><li>'Epha2'</li><li>'Ephx1'</li><li>'Epn1'</li><li>'Eps8l2'</li><li>'Ets2'</li><li>'Fgfbp1'</li><li>'Gaa'</li><li>'Gc'</li><li>'Gclc'</li><li>'Ggta1'</li><li>'Gprc5a'</li><li>'Gpx4'</li><li>'Gpx4-ps2'</li><li>'H2bc4'</li><li>'Igf2r'</li><li>'Itm2b'</li><li>'Krt19'</li><li>'Lgals2'</li><li>'Lgals9'</li><li>'Lmo7'</li><li>'Mdm2'</li><li>'Msln'</li><li>'Ndrg1'</li><li>'Perp'</li><li>'Phlda1'</li><li>'Plin3'</li><li>'Polr2e'</li><li>'Psrc1'</li><li>'Rassf7'</li><li>'Ripk4'</li><li>'Rnf213'</li><li>'Siva1'</li><li>'Slc19a2'</li><li>'Slc25a1'</li><li>'Slc39a4'</li><li>'Slc52a2'</li><li>'Slco2a1'</li><li>'Sord'</li><li>'Spint2'</li><li>'Sqstm1'</li><li>'Tinagl1'</li><li>'Tmbim4'</li><li>'Tmem171'</li><li>'Tmem176a'</li><li>'Trp53inp1'</li><li>'Txnip'</li><li>'Uap1l1'</li><li>'Vegfb'</li><li>'Vil1'</li><li>'Vps37b'</li><li>'Zfp36l1'</li><li>'Zmat3'</li></ol>\n"
      ],
      "text/latex": [
       "\\begin{enumerate*}\n",
       "\\item 'Aldh3b1'\n",
       "\\item 'Aldoa'\n",
       "\\item 'Anapc13'\n",
       "\\item 'Arl8a'\n",
       "\\item 'Atf3'\n",
       "\\item 'Bax'\n",
       "\\item 'Bbc3'\n",
       "\\item 'Bcl2l1'\n",
       "\\item 'Ccng1'\n",
       "\\item 'Cdhr2'\n",
       "\\item 'Cdkn1a'\n",
       "\\item 'Chchd5'\n",
       "\\item 'Coa3'\n",
       "\\item 'Cystm1'\n",
       "\\item 'Dcxr'\n",
       "\\item 'Ddit3'\n",
       "\\item 'Dusp1'\n",
       "\\item 'Epha2'\n",
       "\\item 'Ephx1'\n",
       "\\item 'Epn1'\n",
       "\\item 'Eps8l2'\n",
       "\\item 'Ets2'\n",
       "\\item 'Fgfbp1'\n",
       "\\item 'Gaa'\n",
       "\\item 'Gc'\n",
       "\\item 'Gclc'\n",
       "\\item 'Ggta1'\n",
       "\\item 'Gprc5a'\n",
       "\\item 'Gpx4'\n",
       "\\item 'Gpx4-ps2'\n",
       "\\item 'H2bc4'\n",
       "\\item 'Igf2r'\n",
       "\\item 'Itm2b'\n",
       "\\item 'Krt19'\n",
       "\\item 'Lgals2'\n",
       "\\item 'Lgals9'\n",
       "\\item 'Lmo7'\n",
       "\\item 'Mdm2'\n",
       "\\item 'Msln'\n",
       "\\item 'Ndrg1'\n",
       "\\item 'Perp'\n",
       "\\item 'Phlda1'\n",
       "\\item 'Plin3'\n",
       "\\item 'Polr2e'\n",
       "\\item 'Psrc1'\n",
       "\\item 'Rassf7'\n",
       "\\item 'Ripk4'\n",
       "\\item 'Rnf213'\n",
       "\\item 'Siva1'\n",
       "\\item 'Slc19a2'\n",
       "\\item 'Slc25a1'\n",
       "\\item 'Slc39a4'\n",
       "\\item 'Slc52a2'\n",
       "\\item 'Slco2a1'\n",
       "\\item 'Sord'\n",
       "\\item 'Spint2'\n",
       "\\item 'Sqstm1'\n",
       "\\item 'Tinagl1'\n",
       "\\item 'Tmbim4'\n",
       "\\item 'Tmem171'\n",
       "\\item 'Tmem176a'\n",
       "\\item 'Trp53inp1'\n",
       "\\item 'Txnip'\n",
       "\\item 'Uap1l1'\n",
       "\\item 'Vegfb'\n",
       "\\item 'Vil1'\n",
       "\\item 'Vps37b'\n",
       "\\item 'Zfp36l1'\n",
       "\\item 'Zmat3'\n",
       "\\end{enumerate*}\n"
      ],
      "text/markdown": [
       "1. 'Aldh3b1'\n",
       "2. 'Aldoa'\n",
       "3. 'Anapc13'\n",
       "4. 'Arl8a'\n",
       "5. 'Atf3'\n",
       "6. 'Bax'\n",
       "7. 'Bbc3'\n",
       "8. 'Bcl2l1'\n",
       "9. 'Ccng1'\n",
       "10. 'Cdhr2'\n",
       "11. 'Cdkn1a'\n",
       "12. 'Chchd5'\n",
       "13. 'Coa3'\n",
       "14. 'Cystm1'\n",
       "15. 'Dcxr'\n",
       "16. 'Ddit3'\n",
       "17. 'Dusp1'\n",
       "18. 'Epha2'\n",
       "19. 'Ephx1'\n",
       "20. 'Epn1'\n",
       "21. 'Eps8l2'\n",
       "22. 'Ets2'\n",
       "23. 'Fgfbp1'\n",
       "24. 'Gaa'\n",
       "25. 'Gc'\n",
       "26. 'Gclc'\n",
       "27. 'Ggta1'\n",
       "28. 'Gprc5a'\n",
       "29. 'Gpx4'\n",
       "30. 'Gpx4-ps2'\n",
       "31. 'H2bc4'\n",
       "32. 'Igf2r'\n",
       "33. 'Itm2b'\n",
       "34. 'Krt19'\n",
       "35. 'Lgals2'\n",
       "36. 'Lgals9'\n",
       "37. 'Lmo7'\n",
       "38. 'Mdm2'\n",
       "39. 'Msln'\n",
       "40. 'Ndrg1'\n",
       "41. 'Perp'\n",
       "42. 'Phlda1'\n",
       "43. 'Plin3'\n",
       "44. 'Polr2e'\n",
       "45. 'Psrc1'\n",
       "46. 'Rassf7'\n",
       "47. 'Ripk4'\n",
       "48. 'Rnf213'\n",
       "49. 'Siva1'\n",
       "50. 'Slc19a2'\n",
       "51. 'Slc25a1'\n",
       "52. 'Slc39a4'\n",
       "53. 'Slc52a2'\n",
       "54. 'Slco2a1'\n",
       "55. 'Sord'\n",
       "56. 'Spint2'\n",
       "57. 'Sqstm1'\n",
       "58. 'Tinagl1'\n",
       "59. 'Tmbim4'\n",
       "60. 'Tmem171'\n",
       "61. 'Tmem176a'\n",
       "62. 'Trp53inp1'\n",
       "63. 'Txnip'\n",
       "64. 'Uap1l1'\n",
       "65. 'Vegfb'\n",
       "66. 'Vil1'\n",
       "67. 'Vps37b'\n",
       "68. 'Zfp36l1'\n",
       "69. 'Zmat3'\n",
       "\n",
       "\n"
      ],
      "text/plain": [
       " [1] \"Aldh3b1\"   \"Aldoa\"     \"Anapc13\"   \"Arl8a\"     \"Atf3\"      \"Bax\"      \n",
       " [7] \"Bbc3\"      \"Bcl2l1\"    \"Ccng1\"     \"Cdhr2\"     \"Cdkn1a\"    \"Chchd5\"   \n",
       "[13] \"Coa3\"      \"Cystm1\"    \"Dcxr\"      \"Ddit3\"     \"Dusp1\"     \"Epha2\"    \n",
       "[19] \"Ephx1\"     \"Epn1\"      \"Eps8l2\"    \"Ets2\"      \"Fgfbp1\"    \"Gaa\"      \n",
       "[25] \"Gc\"        \"Gclc\"      \"Ggta1\"     \"Gprc5a\"    \"Gpx4\"      \"Gpx4-ps2\" \n",
       "[31] \"H2bc4\"     \"Igf2r\"     \"Itm2b\"     \"Krt19\"     \"Lgals2\"    \"Lgals9\"   \n",
       "[37] \"Lmo7\"      \"Mdm2\"      \"Msln\"      \"Ndrg1\"     \"Perp\"      \"Phlda1\"   \n",
       "[43] \"Plin3\"     \"Polr2e\"    \"Psrc1\"     \"Rassf7\"    \"Ripk4\"     \"Rnf213\"   \n",
       "[49] \"Siva1\"     \"Slc19a2\"   \"Slc25a1\"   \"Slc39a4\"   \"Slc52a2\"   \"Slco2a1\"  \n",
       "[55] \"Sord\"      \"Spint2\"    \"Sqstm1\"    \"Tinagl1\"   \"Tmbim4\"    \"Tmem171\"  \n",
       "[61] \"Tmem176a\"  \"Trp53inp1\" \"Txnip\"     \"Uap1l1\"    \"Vegfb\"     \"Vil1\"     \n",
       "[67] \"Vps37b\"    \"Zfp36l1\"   \"Zmat3\"    "
      ]
     },
     "metadata": {},
     "output_type": "display_data"
    },
    {
     "data": {
      "text/html": [
       "69"
      ],
      "text/latex": [
       "69"
      ],
      "text/markdown": [
       "69"
      ],
      "text/plain": [
       "[1] 69"
      ]
     },
     "metadata": {},
     "output_type": "display_data"
    }
   ],
   "source": [
    "# detected in both platforms\n",
    "sym_mrna_up_ribo_dn <- intersect(sym_mrna_up, sym_ribo_dn)\n",
    "sym_mrna_up_ribo_dn\n",
    "length(sym_mrna_up_ribo_dn)\n",
    "\n",
    "list_genes[['sym_mrna_up_ribo_dn']] <- sym_mrna_up_ribo_dn"
   ]
  },
  {
   "cell_type": "markdown",
   "id": "2c87162e",
   "metadata": {},
   "source": [
    "### sym_mrna_dn_ribo_up"
   ]
  },
  {
   "cell_type": "code",
   "execution_count": 43,
   "id": "75c1cbb1",
   "metadata": {},
   "outputs": [
    {
     "data": {
      "text/html": [
       "<style>\n",
       ".list-inline {list-style: none; margin:0; padding: 0}\n",
       ".list-inline>li {display: inline-block}\n",
       ".list-inline>li:not(:last-child)::after {content: \"\\00b7\"; padding: 0 .5ex}\n",
       "</style>\n",
       "<ol class=list-inline><li>'Adam12'</li><li>'Adarb1'</li><li>'Adgra1'</li><li>'Angptl2'</li><li>'Arid3a'</li><li>'Atp2b4'</li><li>'Ckap4'</li><li>'Col1a1'</li><li>'Cp'</li><li>'Cpd'</li><li>'Csdc2'</li><li>'Ctsw'</li><li>'Daam1'</li><li>'Dennd5b'</li><li>'Denr'</li><li>'Erap1'</li><li>'Fanca'</li><li>'Fkbp5'</li><li>'Foxf2'</li><li>'Gldc'</li><li>'H2bc15'</li><li>'Il11'</li><li>'Kif4'</li><li>'Lgr6'</li><li>'Lmnb1'</li><li>'Marcks'</li><li>'Mcam'</li><li>'Mcm4'</li><li>'Mcm6'</li><li>'Nav1'</li><li>'Nrp2'</li><li>'Nt5e'</li><li>'Olfml2b'</li><li>'Paics'</li><li>'Pdgfrb'</li><li>'Pdia6'</li><li>'Ppa1'</li><li>'Pxdn'</li><li>'Rflnb'</li><li>'Ror1'</li><li>'Rrbp1'</li><li>'Rrm1'</li><li>'Serpinf1'</li><li>'Smarcc1'</li><li>'Spcs3'</li><li>'Spp1'</li><li>'St3gal5'</li><li>'Stk3'</li><li>'Tagln'</li><li>'Tln2'</li><li>'Tmem119'</li><li>'Tyms'</li><li>'Ulbp1'</li><li>'Zfp36l2'</li></ol>\n"
      ],
      "text/latex": [
       "\\begin{enumerate*}\n",
       "\\item 'Adam12'\n",
       "\\item 'Adarb1'\n",
       "\\item 'Adgra1'\n",
       "\\item 'Angptl2'\n",
       "\\item 'Arid3a'\n",
       "\\item 'Atp2b4'\n",
       "\\item 'Ckap4'\n",
       "\\item 'Col1a1'\n",
       "\\item 'Cp'\n",
       "\\item 'Cpd'\n",
       "\\item 'Csdc2'\n",
       "\\item 'Ctsw'\n",
       "\\item 'Daam1'\n",
       "\\item 'Dennd5b'\n",
       "\\item 'Denr'\n",
       "\\item 'Erap1'\n",
       "\\item 'Fanca'\n",
       "\\item 'Fkbp5'\n",
       "\\item 'Foxf2'\n",
       "\\item 'Gldc'\n",
       "\\item 'H2bc15'\n",
       "\\item 'Il11'\n",
       "\\item 'Kif4'\n",
       "\\item 'Lgr6'\n",
       "\\item 'Lmnb1'\n",
       "\\item 'Marcks'\n",
       "\\item 'Mcam'\n",
       "\\item 'Mcm4'\n",
       "\\item 'Mcm6'\n",
       "\\item 'Nav1'\n",
       "\\item 'Nrp2'\n",
       "\\item 'Nt5e'\n",
       "\\item 'Olfml2b'\n",
       "\\item 'Paics'\n",
       "\\item 'Pdgfrb'\n",
       "\\item 'Pdia6'\n",
       "\\item 'Ppa1'\n",
       "\\item 'Pxdn'\n",
       "\\item 'Rflnb'\n",
       "\\item 'Ror1'\n",
       "\\item 'Rrbp1'\n",
       "\\item 'Rrm1'\n",
       "\\item 'Serpinf1'\n",
       "\\item 'Smarcc1'\n",
       "\\item 'Spcs3'\n",
       "\\item 'Spp1'\n",
       "\\item 'St3gal5'\n",
       "\\item 'Stk3'\n",
       "\\item 'Tagln'\n",
       "\\item 'Tln2'\n",
       "\\item 'Tmem119'\n",
       "\\item 'Tyms'\n",
       "\\item 'Ulbp1'\n",
       "\\item 'Zfp36l2'\n",
       "\\end{enumerate*}\n"
      ],
      "text/markdown": [
       "1. 'Adam12'\n",
       "2. 'Adarb1'\n",
       "3. 'Adgra1'\n",
       "4. 'Angptl2'\n",
       "5. 'Arid3a'\n",
       "6. 'Atp2b4'\n",
       "7. 'Ckap4'\n",
       "8. 'Col1a1'\n",
       "9. 'Cp'\n",
       "10. 'Cpd'\n",
       "11. 'Csdc2'\n",
       "12. 'Ctsw'\n",
       "13. 'Daam1'\n",
       "14. 'Dennd5b'\n",
       "15. 'Denr'\n",
       "16. 'Erap1'\n",
       "17. 'Fanca'\n",
       "18. 'Fkbp5'\n",
       "19. 'Foxf2'\n",
       "20. 'Gldc'\n",
       "21. 'H2bc15'\n",
       "22. 'Il11'\n",
       "23. 'Kif4'\n",
       "24. 'Lgr6'\n",
       "25. 'Lmnb1'\n",
       "26. 'Marcks'\n",
       "27. 'Mcam'\n",
       "28. 'Mcm4'\n",
       "29. 'Mcm6'\n",
       "30. 'Nav1'\n",
       "31. 'Nrp2'\n",
       "32. 'Nt5e'\n",
       "33. 'Olfml2b'\n",
       "34. 'Paics'\n",
       "35. 'Pdgfrb'\n",
       "36. 'Pdia6'\n",
       "37. 'Ppa1'\n",
       "38. 'Pxdn'\n",
       "39. 'Rflnb'\n",
       "40. 'Ror1'\n",
       "41. 'Rrbp1'\n",
       "42. 'Rrm1'\n",
       "43. 'Serpinf1'\n",
       "44. 'Smarcc1'\n",
       "45. 'Spcs3'\n",
       "46. 'Spp1'\n",
       "47. 'St3gal5'\n",
       "48. 'Stk3'\n",
       "49. 'Tagln'\n",
       "50. 'Tln2'\n",
       "51. 'Tmem119'\n",
       "52. 'Tyms'\n",
       "53. 'Ulbp1'\n",
       "54. 'Zfp36l2'\n",
       "\n",
       "\n"
      ],
      "text/plain": [
       " [1] \"Adam12\"   \"Adarb1\"   \"Adgra1\"   \"Angptl2\"  \"Arid3a\"   \"Atp2b4\"  \n",
       " [7] \"Ckap4\"    \"Col1a1\"   \"Cp\"       \"Cpd\"      \"Csdc2\"    \"Ctsw\"    \n",
       "[13] \"Daam1\"    \"Dennd5b\"  \"Denr\"     \"Erap1\"    \"Fanca\"    \"Fkbp5\"   \n",
       "[19] \"Foxf2\"    \"Gldc\"     \"H2bc15\"   \"Il11\"     \"Kif4\"     \"Lgr6\"    \n",
       "[25] \"Lmnb1\"    \"Marcks\"   \"Mcam\"     \"Mcm4\"     \"Mcm6\"     \"Nav1\"    \n",
       "[31] \"Nrp2\"     \"Nt5e\"     \"Olfml2b\"  \"Paics\"    \"Pdgfrb\"   \"Pdia6\"   \n",
       "[37] \"Ppa1\"     \"Pxdn\"     \"Rflnb\"    \"Ror1\"     \"Rrbp1\"    \"Rrm1\"    \n",
       "[43] \"Serpinf1\" \"Smarcc1\"  \"Spcs3\"    \"Spp1\"     \"St3gal5\"  \"Stk3\"    \n",
       "[49] \"Tagln\"    \"Tln2\"     \"Tmem119\"  \"Tyms\"     \"Ulbp1\"    \"Zfp36l2\" "
      ]
     },
     "metadata": {},
     "output_type": "display_data"
    },
    {
     "data": {
      "text/html": [
       "54"
      ],
      "text/latex": [
       "54"
      ],
      "text/markdown": [
       "54"
      ],
      "text/plain": [
       "[1] 54"
      ]
     },
     "metadata": {},
     "output_type": "display_data"
    }
   ],
   "source": [
    "# detected in both platforms\n",
    "sym_mrna_dn_ribo_up <- intersect(sym_mrna_dn, sym_ribo_up)\n",
    "sym_mrna_dn_ribo_up\n",
    "length(sym_mrna_dn_ribo_up)\n",
    "\n",
    "list_genes[['sym_mrna_dn_ribo_up']] <- sym_mrna_dn_ribo_up"
   ]
  },
  {
   "cell_type": "markdown",
   "id": "99a1c07b",
   "metadata": {},
   "source": [
    "## transcription & translation total"
   ]
  },
  {
   "cell_type": "code",
   "execution_count": 44,
   "id": "720b3bf1",
   "metadata": {},
   "outputs": [
    {
     "data": {
      "text/html": [
       "823"
      ],
      "text/latex": [
       "823"
      ],
      "text/markdown": [
       "823"
      ],
      "text/plain": [
       "[1] 823"
      ]
     },
     "metadata": {},
     "output_type": "display_data"
    },
    {
     "data": {
      "text/html": [
       "2603"
      ],
      "text/latex": [
       "2603"
      ],
      "text/markdown": [
       "2603"
      ],
      "text/plain": [
       "[1] 2603"
      ]
     },
     "metadata": {},
     "output_type": "display_data"
    },
    {
     "data": {
      "text/html": [
       "292"
      ],
      "text/latex": [
       "292"
      ],
      "text/markdown": [
       "292"
      ],
      "text/plain": [
       "[1] 292"
      ]
     },
     "metadata": {},
     "output_type": "display_data"
    }
   ],
   "source": [
    "length(sym_mrna)\n",
    "length(sym_ribo)\n",
    "\n",
    "# detected in both platforms\n",
    "sym_mrna_de_ribo_de <- intersect(sym_mrna, sym_ribo)\n",
    "length(sym_mrna_de_ribo_de)"
   ]
  },
  {
   "cell_type": "code",
   "execution_count": 45,
   "id": "b2411ced",
   "metadata": {},
   "outputs": [
    {
     "data": {
      "text/html": [
       "757"
      ],
      "text/latex": [
       "757"
      ],
      "text/markdown": [
       "757"
      ],
      "text/plain": [
       "[1] 757"
      ]
     },
     "metadata": {},
     "output_type": "display_data"
    },
    {
     "data": {
      "text/html": [
       "2396"
      ],
      "text/latex": [
       "2396"
      ],
      "text/markdown": [
       "2396"
      ],
      "text/plain": [
       "[1] 2396"
      ]
     },
     "metadata": {},
     "output_type": "display_data"
    },
    {
     "data": {
      "text/html": [
       "292"
      ],
      "text/latex": [
       "292"
      ],
      "text/markdown": [
       "292"
      ],
      "text/plain": [
       "[1] 292"
      ]
     },
     "metadata": {},
     "output_type": "display_data"
    }
   ],
   "source": [
    "# detected in both platforms\n",
    "length(sym_mrna_de_detected_both)\n",
    "length(sym_ribo_de_detected_both)\n",
    "sym_mrna_de_ribo_de <- intersect(sym_mrna_de_detected_both, sym_ribo_de_detected_both)\n",
    "length(sym_mrna_de_ribo_de)"
   ]
  },
  {
   "cell_type": "markdown",
   "id": "efc934fd",
   "metadata": {},
   "source": [
    "### validation"
   ]
  },
  {
   "cell_type": "code",
   "execution_count": 46,
   "id": "30980a11",
   "metadata": {},
   "outputs": [
    {
     "data": {
      "text/html": [
       "292"
      ],
      "text/latex": [
       "292"
      ],
      "text/markdown": [
       "292"
      ],
      "text/plain": [
       "[1] 292"
      ]
     },
     "metadata": {},
     "output_type": "display_data"
    }
   ],
   "source": [
    "length(sym_mrna_up_ribo_up) + length(sym_mrna_dn_ribo_dn) +\n",
    "length(sym_mrna_up_ribo_dn) + length(sym_mrna_dn_ribo_up)"
   ]
  },
  {
   "cell_type": "markdown",
   "id": "3461b5ce",
   "metadata": {},
   "source": [
    "## df_mrna_only"
   ]
  },
  {
   "cell_type": "code",
   "execution_count": 47,
   "id": "cb9efb18",
   "metadata": {},
   "outputs": [
    {
     "data": {
      "text/html": [
       "531"
      ],
      "text/latex": [
       "531"
      ],
      "text/markdown": [
       "531"
      ],
      "text/plain": [
       "[1] 531"
      ]
     },
     "metadata": {},
     "output_type": "display_data"
    },
    {
     "data": {
      "text/html": [
       "<table class=\"dataframe\">\n",
       "<caption>A data.frame: 6 × 6</caption>\n",
       "<thead>\n",
       "\t<tr><th></th><th scope=col>tgfb</th><th scope=col>tgfbCX</th><th scope=col>log2FC</th><th scope=col>FDR</th><th scope=col>p.value</th><th scope=col>biotype</th></tr>\n",
       "\t<tr><th></th><th scope=col>&lt;dbl&gt;</th><th scope=col>&lt;dbl&gt;</th><th scope=col>&lt;dbl&gt;</th><th scope=col>&lt;dbl&gt;</th><th scope=col>&lt;dbl&gt;</th><th scope=col>&lt;chr&gt;</th></tr>\n",
       "</thead>\n",
       "<tbody>\n",
       "\t<tr><th scope=row>1110002L01Rik</th><td>-0.7176300</td><td>-0.2905577</td><td>0.4270723</td><td>0.0312127218</td><td>0.0028870448</td><td>lncRNA        </td></tr>\n",
       "\t<tr><th scope=row>1810013L24Rik</th><td> 1.2470260</td><td> 1.5439815</td><td>0.2969555</td><td>0.0065956673</td><td>0.0003321669</td><td>protein_coding</td></tr>\n",
       "\t<tr><th scope=row>2510039O18Rik</th><td> 0.9820496</td><td> 1.2884085</td><td>0.3063589</td><td>0.0124667183</td><td>0.0007706629</td><td>protein_coding</td></tr>\n",
       "\t<tr><th scope=row>6330403L08Rik</th><td>-0.2687510</td><td> 0.1286940</td><td>0.3974450</td><td>0.0193795845</td><td>0.0014276226</td><td>lncRNA        </td></tr>\n",
       "\t<tr><th scope=row>9030025P20Rik</th><td>-2.1175119</td><td>-1.4752304</td><td>0.6422814</td><td>0.0470695833</td><td>0.0052470017</td><td>protein_coding</td></tr>\n",
       "\t<tr><th scope=row>9530053A07Rik</th><td>-2.6486490</td><td>-1.4373689</td><td>1.2112801</td><td>0.0001465024</td><td>0.0000025795</td><td>protein_coding</td></tr>\n",
       "</tbody>\n",
       "</table>\n"
      ],
      "text/latex": [
       "A data.frame: 6 × 6\n",
       "\\begin{tabular}{r|llllll}\n",
       "  & tgfb & tgfbCX & log2FC & FDR & p.value & biotype\\\\\n",
       "  & <dbl> & <dbl> & <dbl> & <dbl> & <dbl> & <chr>\\\\\n",
       "\\hline\n",
       "\t1110002L01Rik & -0.7176300 & -0.2905577 & 0.4270723 & 0.0312127218 & 0.0028870448 & lncRNA        \\\\\n",
       "\t1810013L24Rik &  1.2470260 &  1.5439815 & 0.2969555 & 0.0065956673 & 0.0003321669 & protein\\_coding\\\\\n",
       "\t2510039O18Rik &  0.9820496 &  1.2884085 & 0.3063589 & 0.0124667183 & 0.0007706629 & protein\\_coding\\\\\n",
       "\t6330403L08Rik & -0.2687510 &  0.1286940 & 0.3974450 & 0.0193795845 & 0.0014276226 & lncRNA        \\\\\n",
       "\t9030025P20Rik & -2.1175119 & -1.4752304 & 0.6422814 & 0.0470695833 & 0.0052470017 & protein\\_coding\\\\\n",
       "\t9530053A07Rik & -2.6486490 & -1.4373689 & 1.2112801 & 0.0001465024 & 0.0000025795 & protein\\_coding\\\\\n",
       "\\end{tabular}\n"
      ],
      "text/markdown": [
       "\n",
       "A data.frame: 6 × 6\n",
       "\n",
       "| <!--/--> | tgfb &lt;dbl&gt; | tgfbCX &lt;dbl&gt; | log2FC &lt;dbl&gt; | FDR &lt;dbl&gt; | p.value &lt;dbl&gt; | biotype &lt;chr&gt; |\n",
       "|---|---|---|---|---|---|---|\n",
       "| 1110002L01Rik | -0.7176300 | -0.2905577 | 0.4270723 | 0.0312127218 | 0.0028870448 | lncRNA         |\n",
       "| 1810013L24Rik |  1.2470260 |  1.5439815 | 0.2969555 | 0.0065956673 | 0.0003321669 | protein_coding |\n",
       "| 2510039O18Rik |  0.9820496 |  1.2884085 | 0.3063589 | 0.0124667183 | 0.0007706629 | protein_coding |\n",
       "| 6330403L08Rik | -0.2687510 |  0.1286940 | 0.3974450 | 0.0193795845 | 0.0014276226 | lncRNA         |\n",
       "| 9030025P20Rik | -2.1175119 | -1.4752304 | 0.6422814 | 0.0470695833 | 0.0052470017 | protein_coding |\n",
       "| 9530053A07Rik | -2.6486490 | -1.4373689 | 1.2112801 | 0.0001465024 | 0.0000025795 | protein_coding |\n",
       "\n"
      ],
      "text/plain": [
       "              tgfb       tgfbCX     log2FC    FDR          p.value     \n",
       "1110002L01Rik -0.7176300 -0.2905577 0.4270723 0.0312127218 0.0028870448\n",
       "1810013L24Rik  1.2470260  1.5439815 0.2969555 0.0065956673 0.0003321669\n",
       "2510039O18Rik  0.9820496  1.2884085 0.3063589 0.0124667183 0.0007706629\n",
       "6330403L08Rik -0.2687510  0.1286940 0.3974450 0.0193795845 0.0014276226\n",
       "9030025P20Rik -2.1175119 -1.4752304 0.6422814 0.0470695833 0.0052470017\n",
       "9530053A07Rik -2.6486490 -1.4373689 1.2112801 0.0001465024 0.0000025795\n",
       "              biotype       \n",
       "1110002L01Rik lncRNA        \n",
       "1810013L24Rik protein_coding\n",
       "2510039O18Rik protein_coding\n",
       "6330403L08Rik lncRNA        \n",
       "9030025P20Rik protein_coding\n",
       "9530053A07Rik protein_coding"
      ]
     },
     "metadata": {},
     "output_type": "display_data"
    },
    {
     "data": {
      "text/html": [
       "<style>\n",
       ".list-inline {list-style: none; margin:0; padding: 0}\n",
       ".list-inline>li {display: inline-block}\n",
       ".list-inline>li:not(:last-child)::after {content: \"\\00b7\"; padding: 0 .5ex}\n",
       "</style>\n",
       "<ol class=list-inline><li>531</li><li>6</li></ol>\n"
      ],
      "text/latex": [
       "\\begin{enumerate*}\n",
       "\\item 531\n",
       "\\item 6\n",
       "\\end{enumerate*}\n"
      ],
      "text/markdown": [
       "1. 531\n",
       "2. 6\n",
       "\n",
       "\n"
      ],
      "text/plain": [
       "[1] 531   6"
      ]
     },
     "metadata": {},
     "output_type": "display_data"
    }
   ],
   "source": [
    "sym_mrna_only <- setdiff(sym_mrna, sym_ribo)\n",
    "length(sym_mrna_only)\n",
    "\n",
    "# subsetting df_mrna\n",
    "df_mrna_only <- df_mrna[sym_mrna_only,]\n",
    "head(df_mrna_only)\n",
    "dim(df_mrna_only)"
   ]
  },
  {
   "cell_type": "markdown",
   "id": "97218a98",
   "metadata": {},
   "source": [
    "### check Ribo-seq FRD"
   ]
  },
  {
   "cell_type": "code",
   "execution_count": 48,
   "id": "157c7f6d",
   "metadata": {},
   "outputs": [
    {
     "data": {
      "text/html": [
       "<table class=\"dataframe\">\n",
       "<caption>A data.frame: 6 × 6</caption>\n",
       "<thead>\n",
       "\t<tr><th></th><th scope=col>tgfb48</th><th scope=col>tgfbCX5461</th><th scope=col>log2FC</th><th scope=col>FDR</th><th scope=col>p.value</th><th scope=col>biotype</th></tr>\n",
       "\t<tr><th></th><th scope=col>&lt;dbl&gt;</th><th scope=col>&lt;dbl&gt;</th><th scope=col>&lt;dbl&gt;</th><th scope=col>&lt;dbl&gt;</th><th scope=col>&lt;dbl&gt;</th><th scope=col>&lt;chr&gt;</th></tr>\n",
       "</thead>\n",
       "<tbody>\n",
       "\t<tr><th scope=row>Nuak2</th><td>6.326950</td><td>4.193520</td><td>-2.1334294</td><td>1.252200e-07</td><td>8.0000e-10</td><td>protein_coding</td></tr>\n",
       "\t<tr><th scope=row>Ctsd</th><td>4.575188</td><td>5.192208</td><td> 0.6170203</td><td>1.335870e-06</td><td>1.4100e-08</td><td>protein_coding</td></tr>\n",
       "\t<tr><th scope=row>H4c2</th><td>3.141561</td><td>4.022108</td><td> 0.8805477</td><td>7.173980e-06</td><td>1.0160e-07</td><td>protein_coding</td></tr>\n",
       "\t<tr><th scope=row>H2ax</th><td>2.612105</td><td>1.419278</td><td>-1.1928263</td><td>1.682139e-05</td><td>2.5940e-07</td><td>protein_coding</td></tr>\n",
       "\t<tr><th scope=row>Grina</th><td>2.160766</td><td>3.045025</td><td> 0.8842591</td><td>5.887560e-05</td><td>1.1434e-06</td><td>protein_coding</td></tr>\n",
       "\t<tr><th scope=row>H1f5</th><td>2.356463</td><td>1.176045</td><td>-1.1804185</td><td>7.444010e-05</td><td>1.5139e-06</td><td>protein_coding</td></tr>\n",
       "</tbody>\n",
       "</table>\n"
      ],
      "text/latex": [
       "A data.frame: 6 × 6\n",
       "\\begin{tabular}{r|llllll}\n",
       "  & tgfb48 & tgfbCX5461 & log2FC & FDR & p.value & biotype\\\\\n",
       "  & <dbl> & <dbl> & <dbl> & <dbl> & <dbl> & <chr>\\\\\n",
       "\\hline\n",
       "\tNuak2 & 6.326950 & 4.193520 & -2.1334294 & 1.252200e-07 & 8.0000e-10 & protein\\_coding\\\\\n",
       "\tCtsd & 4.575188 & 5.192208 &  0.6170203 & 1.335870e-06 & 1.4100e-08 & protein\\_coding\\\\\n",
       "\tH4c2 & 3.141561 & 4.022108 &  0.8805477 & 7.173980e-06 & 1.0160e-07 & protein\\_coding\\\\\n",
       "\tH2ax & 2.612105 & 1.419278 & -1.1928263 & 1.682139e-05 & 2.5940e-07 & protein\\_coding\\\\\n",
       "\tGrina & 2.160766 & 3.045025 &  0.8842591 & 5.887560e-05 & 1.1434e-06 & protein\\_coding\\\\\n",
       "\tH1f5 & 2.356463 & 1.176045 & -1.1804185 & 7.444010e-05 & 1.5139e-06 & protein\\_coding\\\\\n",
       "\\end{tabular}\n"
      ],
      "text/markdown": [
       "\n",
       "A data.frame: 6 × 6\n",
       "\n",
       "| <!--/--> | tgfb48 &lt;dbl&gt; | tgfbCX5461 &lt;dbl&gt; | log2FC &lt;dbl&gt; | FDR &lt;dbl&gt; | p.value &lt;dbl&gt; | biotype &lt;chr&gt; |\n",
       "|---|---|---|---|---|---|---|\n",
       "| Nuak2 | 6.326950 | 4.193520 | -2.1334294 | 1.252200e-07 | 8.0000e-10 | protein_coding |\n",
       "| Ctsd | 4.575188 | 5.192208 |  0.6170203 | 1.335870e-06 | 1.4100e-08 | protein_coding |\n",
       "| H4c2 | 3.141561 | 4.022108 |  0.8805477 | 7.173980e-06 | 1.0160e-07 | protein_coding |\n",
       "| H2ax | 2.612105 | 1.419278 | -1.1928263 | 1.682139e-05 | 2.5940e-07 | protein_coding |\n",
       "| Grina | 2.160766 | 3.045025 |  0.8842591 | 5.887560e-05 | 1.1434e-06 | protein_coding |\n",
       "| H1f5 | 2.356463 | 1.176045 | -1.1804185 | 7.444010e-05 | 1.5139e-06 | protein_coding |\n",
       "\n"
      ],
      "text/plain": [
       "      tgfb48   tgfbCX5461 log2FC     FDR          p.value    biotype       \n",
       "Nuak2 6.326950 4.193520   -2.1334294 1.252200e-07 8.0000e-10 protein_coding\n",
       "Ctsd  4.575188 5.192208    0.6170203 1.335870e-06 1.4100e-08 protein_coding\n",
       "H4c2  3.141561 4.022108    0.8805477 7.173980e-06 1.0160e-07 protein_coding\n",
       "H2ax  2.612105 1.419278   -1.1928263 1.682139e-05 2.5940e-07 protein_coding\n",
       "Grina 2.160766 3.045025    0.8842591 5.887560e-05 1.1434e-06 protein_coding\n",
       "H1f5  2.356463 1.176045   -1.1804185 7.444010e-05 1.5139e-06 protein_coding"
      ]
     },
     "metadata": {},
     "output_type": "display_data"
    },
    {
     "data": {
      "text/html": [
       "TRUE"
      ],
      "text/latex": [
       "TRUE"
      ],
      "text/markdown": [
       "TRUE"
      ],
      "text/plain": [
       "[1] TRUE"
      ]
     },
     "metadata": {},
     "output_type": "display_data"
    }
   ],
   "source": [
    "f <- rownames(df_riboseq) %in% rownames(df_mrna_only)\n",
    "head(df_riboseq[f,])\n",
    "\n",
    "any(abs(df_riboseq[f,'log2FC']) > th_log2fc & df_riboseq[f,'FDR'] < th_adj_pvalue)"
   ]
  },
  {
   "cell_type": "code",
   "execution_count": 49,
   "id": "501994d3",
   "metadata": {},
   "outputs": [],
   "source": [
    "vec_log2FC <- df_mrna_only$log2FC\n",
    "vec_fdr <- df_mrna_only$FDR"
   ]
  },
  {
   "cell_type": "markdown",
   "id": "8c72fb40",
   "metadata": {},
   "source": [
    "### sym_mrna_up_ribo_no"
   ]
  },
  {
   "cell_type": "code",
   "execution_count": 50,
   "id": "c67fca52",
   "metadata": {},
   "outputs": [
    {
     "data": {
      "text/html": [
       "<style>\n",
       ".list-inline {list-style: none; margin:0; padding: 0}\n",
       ".list-inline>li {display: inline-block}\n",
       ".list-inline>li:not(:last-child)::after {content: \"\\00b7\"; padding: 0 .5ex}\n",
       "</style>\n",
       "<ol class=list-inline><li>220</li><li>6</li></ol>\n"
      ],
      "text/latex": [
       "\\begin{enumerate*}\n",
       "\\item 220\n",
       "\\item 6\n",
       "\\end{enumerate*}\n"
      ],
      "text/markdown": [
       "1. 220\n",
       "2. 6\n",
       "\n",
       "\n"
      ],
      "text/plain": [
       "[1] 220   6"
      ]
     },
     "metadata": {},
     "output_type": "display_data"
    },
    {
     "data": {
      "text/html": [
       "190"
      ],
      "text/latex": [
       "190"
      ],
      "text/markdown": [
       "190"
      ],
      "text/plain": [
       "[1] 190"
      ]
     },
     "metadata": {},
     "output_type": "display_data"
    }
   ],
   "source": [
    "f_up <- vec_fdr < th_adj_pvalue & vec_log2FC > th_log2fc\n",
    "df_mrna_only_up <- df_mrna_only[f_up,]\n",
    "sym_mrna_up_ribo_no <- rownames(df_mrna_only_up)\n",
    "dim(df_mrna_only_up)\n",
    "\n",
    "# detected in both platforms\n",
    "sym_mrna_up_ribo_no <- intersect(sym_mrna_up_ribo_no, sym_detected_both)\n",
    "length(sym_mrna_up_ribo_no)\n",
    "\n",
    "list_genes[['sym_mrna_up_ribo_no']] <- sym_mrna_up_ribo_no"
   ]
  },
  {
   "cell_type": "markdown",
   "id": "99e6d471",
   "metadata": {},
   "source": [
    "### sym_mrna_dn_ribo_no"
   ]
  },
  {
   "cell_type": "code",
   "execution_count": 51,
   "id": "738b4d06",
   "metadata": {},
   "outputs": [
    {
     "data": {
      "text/html": [
       "<style>\n",
       ".list-inline {list-style: none; margin:0; padding: 0}\n",
       ".list-inline>li {display: inline-block}\n",
       ".list-inline>li:not(:last-child)::after {content: \"\\00b7\"; padding: 0 .5ex}\n",
       "</style>\n",
       "<ol class=list-inline><li>311</li><li>6</li></ol>\n"
      ],
      "text/latex": [
       "\\begin{enumerate*}\n",
       "\\item 311\n",
       "\\item 6\n",
       "\\end{enumerate*}\n"
      ],
      "text/markdown": [
       "1. 311\n",
       "2. 6\n",
       "\n",
       "\n"
      ],
      "text/plain": [
       "[1] 311   6"
      ]
     },
     "metadata": {},
     "output_type": "display_data"
    },
    {
     "data": {
      "text/html": [
       "275"
      ],
      "text/latex": [
       "275"
      ],
      "text/markdown": [
       "275"
      ],
      "text/plain": [
       "[1] 275"
      ]
     },
     "metadata": {},
     "output_type": "display_data"
    }
   ],
   "source": [
    "f_dn <- vec_fdr < th_adj_pvalue & vec_log2FC < -th_log2fc\n",
    "df_mrna_only_dn <- df_mrna_only[f_dn,]\n",
    "sym_mrna_dn_ribo_no <- rownames(df_mrna_only_dn)\n",
    "dim(df_mrna_only_dn)\n",
    "\n",
    "# detected in both platforms\n",
    "sym_mrna_dn_ribo_no <- intersect(sym_mrna_dn_ribo_no, sym_detected_both)\n",
    "length(sym_mrna_dn_ribo_no)\n",
    "\n",
    "list_genes[['sym_mrna_dn_ribo_no']] <- sym_mrna_dn_ribo_no"
   ]
  },
  {
   "cell_type": "markdown",
   "id": "392f9735",
   "metadata": {},
   "source": [
    "### sym_mrna_only (=sym_mrna_de_ribo_no)"
   ]
  },
  {
   "cell_type": "code",
   "execution_count": 52,
   "id": "ea7ebacc",
   "metadata": {},
   "outputs": [
    {
     "data": {
      "text/html": [
       "465"
      ],
      "text/latex": [
       "465"
      ],
      "text/markdown": [
       "465"
      ],
      "text/plain": [
       "[1] 465"
      ]
     },
     "metadata": {},
     "output_type": "display_data"
    },
    {
     "data": {
      "text/html": [
       "465"
      ],
      "text/latex": [
       "465"
      ],
      "text/markdown": [
       "465"
      ],
      "text/plain": [
       "[1] 465"
      ]
     },
     "metadata": {},
     "output_type": "display_data"
    }
   ],
   "source": [
    "# detected in both platforms\n",
    "sym_mrna_de_ribo_no <- union(sym_mrna_up_ribo_no, sym_mrna_dn_ribo_no)\n",
    "length(sym_mrna_de_ribo_no)\n",
    "\n",
    "sym_mrna_only <- sym_mrna_de_ribo_no\n",
    "length(sym_mrna_only)\n",
    "\n",
    "df_mrna_only <- df_mrna[sym_mrna_only, ]"
   ]
  },
  {
   "cell_type": "markdown",
   "id": "29fb44bd",
   "metadata": {},
   "source": [
    "## df_ribo_only"
   ]
  },
  {
   "cell_type": "code",
   "execution_count": 53,
   "id": "02e1fe26",
   "metadata": {},
   "outputs": [
    {
     "data": {
      "text/html": [
       "2311"
      ],
      "text/latex": [
       "2311"
      ],
      "text/markdown": [
       "2311"
      ],
      "text/plain": [
       "[1] 2311"
      ]
     },
     "metadata": {},
     "output_type": "display_data"
    },
    {
     "data": {
      "text/html": [
       "<table class=\"dataframe\">\n",
       "<caption>A data.frame: 6 × 6</caption>\n",
       "<thead>\n",
       "\t<tr><th></th><th scope=col>unt48</th><th scope=col>tgfb48</th><th scope=col>log2FC</th><th scope=col>FDR</th><th scope=col>p.value</th><th scope=col>biotype</th></tr>\n",
       "\t<tr><th></th><th scope=col>&lt;dbl&gt;</th><th scope=col>&lt;dbl&gt;</th><th scope=col>&lt;dbl&gt;</th><th scope=col>&lt;dbl&gt;</th><th scope=col>&lt;dbl&gt;</th><th scope=col>&lt;chr&gt;</th></tr>\n",
       "</thead>\n",
       "<tbody>\n",
       "\t<tr><th scope=row>1700015I17Rik</th><td>-3.3048711</td><td>-1.07000906</td><td>2.2348621</td><td>8.306292e-03</td><td>0.0011381517</td><td>lncRNA        </td></tr>\n",
       "\t<tr><th scope=row>2900060B14Rik</th><td>-1.4247999</td><td>-0.01341032</td><td>1.4113896</td><td>2.272762e-03</td><td>0.0002392481</td><td>lncRNA        </td></tr>\n",
       "\t<tr><th scope=row>4930402H24Rik</th><td> 0.3611133</td><td> 1.72813003</td><td>1.3670168</td><td>4.406850e-06</td><td>0.0000001697</td><td>protein_coding</td></tr>\n",
       "\t<tr><th scope=row>4931419H13Rik</th><td>-1.7459926</td><td>-0.29323655</td><td>1.4527561</td><td>6.859988e-03</td><td>0.0008930906</td><td>lncRNA        </td></tr>\n",
       "\t<tr><th scope=row>5S_rRNA</th><td>10.5330843</td><td>11.39664485</td><td>0.8635606</td><td>1.277112e-02</td><td>0.0019380505</td><td>rRNA          </td></tr>\n",
       "\t<tr><th scope=row>7SK</th><td> 0.6332460</td><td> 1.59180049</td><td>0.9585545</td><td>2.133194e-04</td><td>0.0000147570</td><td>misc_RNA      </td></tr>\n",
       "</tbody>\n",
       "</table>\n"
      ],
      "text/latex": [
       "A data.frame: 6 × 6\n",
       "\\begin{tabular}{r|llllll}\n",
       "  & unt48 & tgfb48 & log2FC & FDR & p.value & biotype\\\\\n",
       "  & <dbl> & <dbl> & <dbl> & <dbl> & <dbl> & <chr>\\\\\n",
       "\\hline\n",
       "\t1700015I17Rik & -3.3048711 & -1.07000906 & 2.2348621 & 8.306292e-03 & 0.0011381517 & lncRNA        \\\\\n",
       "\t2900060B14Rik & -1.4247999 & -0.01341032 & 1.4113896 & 2.272762e-03 & 0.0002392481 & lncRNA        \\\\\n",
       "\t4930402H24Rik &  0.3611133 &  1.72813003 & 1.3670168 & 4.406850e-06 & 0.0000001697 & protein\\_coding\\\\\n",
       "\t4931419H13Rik & -1.7459926 & -0.29323655 & 1.4527561 & 6.859988e-03 & 0.0008930906 & lncRNA        \\\\\n",
       "\t5S\\_rRNA & 10.5330843 & 11.39664485 & 0.8635606 & 1.277112e-02 & 0.0019380505 & rRNA          \\\\\n",
       "\t7SK &  0.6332460 &  1.59180049 & 0.9585545 & 2.133194e-04 & 0.0000147570 & misc\\_RNA      \\\\\n",
       "\\end{tabular}\n"
      ],
      "text/markdown": [
       "\n",
       "A data.frame: 6 × 6\n",
       "\n",
       "| <!--/--> | unt48 &lt;dbl&gt; | tgfb48 &lt;dbl&gt; | log2FC &lt;dbl&gt; | FDR &lt;dbl&gt; | p.value &lt;dbl&gt; | biotype &lt;chr&gt; |\n",
       "|---|---|---|---|---|---|---|\n",
       "| 1700015I17Rik | -3.3048711 | -1.07000906 | 2.2348621 | 8.306292e-03 | 0.0011381517 | lncRNA         |\n",
       "| 2900060B14Rik | -1.4247999 | -0.01341032 | 1.4113896 | 2.272762e-03 | 0.0002392481 | lncRNA         |\n",
       "| 4930402H24Rik |  0.3611133 |  1.72813003 | 1.3670168 | 4.406850e-06 | 0.0000001697 | protein_coding |\n",
       "| 4931419H13Rik | -1.7459926 | -0.29323655 | 1.4527561 | 6.859988e-03 | 0.0008930906 | lncRNA         |\n",
       "| 5S_rRNA | 10.5330843 | 11.39664485 | 0.8635606 | 1.277112e-02 | 0.0019380505 | rRNA           |\n",
       "| 7SK |  0.6332460 |  1.59180049 | 0.9585545 | 2.133194e-04 | 0.0000147570 | misc_RNA       |\n",
       "\n"
      ],
      "text/plain": [
       "              unt48      tgfb48      log2FC    FDR          p.value     \n",
       "1700015I17Rik -3.3048711 -1.07000906 2.2348621 8.306292e-03 0.0011381517\n",
       "2900060B14Rik -1.4247999 -0.01341032 1.4113896 2.272762e-03 0.0002392481\n",
       "4930402H24Rik  0.3611133  1.72813003 1.3670168 4.406850e-06 0.0000001697\n",
       "4931419H13Rik -1.7459926 -0.29323655 1.4527561 6.859988e-03 0.0008930906\n",
       "5S_rRNA       10.5330843 11.39664485 0.8635606 1.277112e-02 0.0019380505\n",
       "7SK            0.6332460  1.59180049 0.9585545 2.133194e-04 0.0000147570\n",
       "              biotype       \n",
       "1700015I17Rik lncRNA        \n",
       "2900060B14Rik lncRNA        \n",
       "4930402H24Rik protein_coding\n",
       "4931419H13Rik lncRNA        \n",
       "5S_rRNA       rRNA          \n",
       "7SK           misc_RNA      "
      ]
     },
     "metadata": {},
     "output_type": "display_data"
    },
    {
     "data": {
      "text/html": [
       "<style>\n",
       ".list-inline {list-style: none; margin:0; padding: 0}\n",
       ".list-inline>li {display: inline-block}\n",
       ".list-inline>li:not(:last-child)::after {content: \"\\00b7\"; padding: 0 .5ex}\n",
       "</style>\n",
       "<ol class=list-inline><li>2311</li><li>6</li></ol>\n"
      ],
      "text/latex": [
       "\\begin{enumerate*}\n",
       "\\item 2311\n",
       "\\item 6\n",
       "\\end{enumerate*}\n"
      ],
      "text/markdown": [
       "1. 2311\n",
       "2. 6\n",
       "\n",
       "\n"
      ],
      "text/plain": [
       "[1] 2311    6"
      ]
     },
     "metadata": {},
     "output_type": "display_data"
    }
   ],
   "source": [
    "sym_ribo_only <- setdiff(sym_ribo, sym_mrna)\n",
    "length(sym_ribo_only)\n",
    "\n",
    "if (!is.null(pattern_remove_gene)) {\n",
    "  any(grepl(pattern_remove_gene, sym_ribo_only)) # should be FALSE\n",
    "}\n",
    "\n",
    "# subsetting df_ribo\n",
    "df_ribo_only <- df_ribo[sym_ribo_only,]\n",
    "\n",
    "head(df_ribo_only)\n",
    "dim(df_ribo_only)"
   ]
  },
  {
   "cell_type": "code",
   "execution_count": 54,
   "id": "30c62877",
   "metadata": {},
   "outputs": [
    {
     "data": {
      "text/html": [
       "2104"
      ],
      "text/latex": [
       "2104"
      ],
      "text/markdown": [
       "2104"
      ],
      "text/plain": [
       "[1] 2104"
      ]
     },
     "metadata": {},
     "output_type": "display_data"
    }
   ],
   "source": [
    "length(intersect(sym_ribo_only, sym_detected_both))"
   ]
  },
  {
   "cell_type": "code",
   "execution_count": 55,
   "id": "93c25b06",
   "metadata": {},
   "outputs": [],
   "source": [
    "vec_log2FC <- df_ribo_only$log2FC\n",
    "vec_fdr <- df_ribo_only$FDR"
   ]
  },
  {
   "cell_type": "markdown",
   "id": "0a48307f",
   "metadata": {},
   "source": [
    "### sym_mrna_no_ribo_up"
   ]
  },
  {
   "cell_type": "code",
   "execution_count": 56,
   "id": "9d4b53b0",
   "metadata": {},
   "outputs": [
    {
     "data": {
      "text/html": [
       "<style>\n",
       ".list-inline {list-style: none; margin:0; padding: 0}\n",
       ".list-inline>li {display: inline-block}\n",
       ".list-inline>li:not(:last-child)::after {content: \"\\00b7\"; padding: 0 .5ex}\n",
       "</style>\n",
       "<ol class=list-inline><li>1183</li><li>6</li></ol>\n"
      ],
      "text/latex": [
       "\\begin{enumerate*}\n",
       "\\item 1183\n",
       "\\item 6\n",
       "\\end{enumerate*}\n"
      ],
      "text/markdown": [
       "1. 1183\n",
       "2. 6\n",
       "\n",
       "\n"
      ],
      "text/plain": [
       "[1] 1183    6"
      ]
     },
     "metadata": {},
     "output_type": "display_data"
    },
    {
     "data": {
      "text/html": [
       "1050"
      ],
      "text/latex": [
       "1050"
      ],
      "text/markdown": [
       "1050"
      ],
      "text/plain": [
       "[1] 1050"
      ]
     },
     "metadata": {},
     "output_type": "display_data"
    }
   ],
   "source": [
    "f_up <- (vec_fdr < th_adj_pvalue) & (vec_log2FC > th_log2fc)\n",
    "df_ribo_only_up <- df_ribo_only[f_up,]\n",
    "sym_mrna_no_ribo_up <- rownames(df_ribo_only_up)\n",
    "dim(df_ribo_only_up)\n",
    "\n",
    "# detected in both platforms\n",
    "sym_mrna_no_ribo_up <- intersect(sym_mrna_no_ribo_up, sym_detected_both)\n",
    "length(sym_mrna_no_ribo_up)\n",
    "\n",
    "list_genes[['sym_mrna_no_ribo_up']] <- sym_mrna_no_ribo_up"
   ]
  },
  {
   "cell_type": "markdown",
   "id": "dc4d8a56",
   "metadata": {},
   "source": [
    "### sym_mrna_no_ribo_dn"
   ]
  },
  {
   "cell_type": "code",
   "execution_count": 57,
   "id": "19a77748",
   "metadata": {},
   "outputs": [
    {
     "data": {
      "text/html": [
       "<style>\n",
       ".list-inline {list-style: none; margin:0; padding: 0}\n",
       ".list-inline>li {display: inline-block}\n",
       ".list-inline>li:not(:last-child)::after {content: \"\\00b7\"; padding: 0 .5ex}\n",
       "</style>\n",
       "<ol class=list-inline><li>1128</li><li>6</li></ol>\n"
      ],
      "text/latex": [
       "\\begin{enumerate*}\n",
       "\\item 1128\n",
       "\\item 6\n",
       "\\end{enumerate*}\n"
      ],
      "text/markdown": [
       "1. 1128\n",
       "2. 6\n",
       "\n",
       "\n"
      ],
      "text/plain": [
       "[1] 1128    6"
      ]
     },
     "metadata": {},
     "output_type": "display_data"
    },
    {
     "data": {
      "text/html": [
       "1054"
      ],
      "text/latex": [
       "1054"
      ],
      "text/markdown": [
       "1054"
      ],
      "text/plain": [
       "[1] 1054"
      ]
     },
     "metadata": {},
     "output_type": "display_data"
    }
   ],
   "source": [
    "f_dn <- (vec_fdr < th_adj_pvalue) & (vec_log2FC < -th_log2fc)\n",
    "df_ribo_only_dn <- df_ribo_only[f_dn,]\n",
    "sym_mrna_no_ribo_dn <- rownames(df_ribo_only_dn)\n",
    "dim(df_ribo_only_dn)\n",
    "\n",
    "# detected in both platforms\n",
    "sym_mrna_no_ribo_dn <- intersect(sym_mrna_no_ribo_dn, sym_detected_both)\n",
    "length(sym_mrna_no_ribo_dn)\n",
    "\n",
    "list_genes[['sym_mrna_no_ribo_dn']] <- sym_mrna_no_ribo_dn"
   ]
  },
  {
   "cell_type": "markdown",
   "id": "331d2569",
   "metadata": {},
   "source": [
    "### sym_ribo_only (=sym_mrna_no_ribo_de)"
   ]
  },
  {
   "cell_type": "code",
   "execution_count": 58,
   "id": "638cb306",
   "metadata": {},
   "outputs": [
    {
     "data": {
      "text/html": [
       "2104"
      ],
      "text/latex": [
       "2104"
      ],
      "text/markdown": [
       "2104"
      ],
      "text/plain": [
       "[1] 2104"
      ]
     },
     "metadata": {},
     "output_type": "display_data"
    },
    {
     "data": {
      "text/html": [
       "2104"
      ],
      "text/latex": [
       "2104"
      ],
      "text/markdown": [
       "2104"
      ],
      "text/plain": [
       "[1] 2104"
      ]
     },
     "metadata": {},
     "output_type": "display_data"
    }
   ],
   "source": [
    "# detected in both platforms\n",
    "sym_mrna_no_ribo_de <- union(sym_mrna_no_ribo_up, sym_mrna_no_ribo_dn)\n",
    "length(sym_mrna_no_ribo_de)\n",
    "\n",
    "# here, sym_ribo_only was redefined.\n",
    "# sym_ribo_only were detected in both platforms.\n",
    "sym_ribo_only <- sym_mrna_no_ribo_de\n",
    "length(sym_ribo_only)\n",
    "\n",
    "df_ribo_only <- df_ribo[sym_ribo_only, ]"
   ]
  },
  {
   "cell_type": "markdown",
   "id": "4ae5efc2",
   "metadata": {},
   "source": [
    "### biotype"
   ]
  },
  {
   "cell_type": "code",
   "execution_count": 59,
   "id": "d524bea4",
   "metadata": {},
   "outputs": [
    {
     "data": {
      "text/html": [
       "<style>\n",
       ".list-inline {list-style: none; margin:0; padding: 0}\n",
       ".list-inline>li {display: inline-block}\n",
       ".list-inline>li:not(:last-child)::after {content: \"\\00b7\"; padding: 0 .5ex}\n",
       "</style>\n",
       "<ol class=list-inline><li>'protein_coding'</li><li>'lncRNA'</li><li>'TEC'</li><li>'transcribed_unprocessed_pseudogene'</li><li>'transcribed_processed_pseudogene'</li><li>'rRNA'</li><li>'unprocessed_pseudogene'</li><li>'misc_RNA'</li><li>'translated_unprocessed_pseudogene'</li><li>'polymorphic_pseudogene'</li><li>'processed_pseudogene'</li><li>'snoRNA'</li><li>'pseudogene'</li><li>'transcribed_unitary_pseudogene'</li><li>'scaRNA'</li><li>'snRNA'</li><li>'miRNA'</li><li>'IG_C_gene'</li><li>'Mt_rRNA'</li><li>'Mt_tRNA'</li><li>'rDNA'</li><li>'ribozyme'</li><li>'TR_C_gene'</li><li>'TR_V_gene'</li></ol>\n"
      ],
      "text/latex": [
       "\\begin{enumerate*}\n",
       "\\item 'protein\\_coding'\n",
       "\\item 'lncRNA'\n",
       "\\item 'TEC'\n",
       "\\item 'transcribed\\_unprocessed\\_pseudogene'\n",
       "\\item 'transcribed\\_processed\\_pseudogene'\n",
       "\\item 'rRNA'\n",
       "\\item 'unprocessed\\_pseudogene'\n",
       "\\item 'misc\\_RNA'\n",
       "\\item 'translated\\_unprocessed\\_pseudogene'\n",
       "\\item 'polymorphic\\_pseudogene'\n",
       "\\item 'processed\\_pseudogene'\n",
       "\\item 'snoRNA'\n",
       "\\item 'pseudogene'\n",
       "\\item 'transcribed\\_unitary\\_pseudogene'\n",
       "\\item 'scaRNA'\n",
       "\\item 'snRNA'\n",
       "\\item 'miRNA'\n",
       "\\item 'IG\\_C\\_gene'\n",
       "\\item 'Mt\\_rRNA'\n",
       "\\item 'Mt\\_tRNA'\n",
       "\\item 'rDNA'\n",
       "\\item 'ribozyme'\n",
       "\\item 'TR\\_C\\_gene'\n",
       "\\item 'TR\\_V\\_gene'\n",
       "\\end{enumerate*}\n"
      ],
      "text/markdown": [
       "1. 'protein_coding'\n",
       "2. 'lncRNA'\n",
       "3. 'TEC'\n",
       "4. 'transcribed_unprocessed_pseudogene'\n",
       "5. 'transcribed_processed_pseudogene'\n",
       "6. 'rRNA'\n",
       "7. 'unprocessed_pseudogene'\n",
       "8. 'misc_RNA'\n",
       "9. 'translated_unprocessed_pseudogene'\n",
       "10. 'polymorphic_pseudogene'\n",
       "11. 'processed_pseudogene'\n",
       "12. 'snoRNA'\n",
       "13. 'pseudogene'\n",
       "14. 'transcribed_unitary_pseudogene'\n",
       "15. 'scaRNA'\n",
       "16. 'snRNA'\n",
       "17. 'miRNA'\n",
       "18. 'IG_C_gene'\n",
       "19. 'Mt_rRNA'\n",
       "20. 'Mt_tRNA'\n",
       "21. 'rDNA'\n",
       "22. 'ribozyme'\n",
       "23. 'TR_C_gene'\n",
       "24. 'TR_V_gene'\n",
       "\n",
       "\n"
      ],
      "text/plain": [
       " [1] \"protein_coding\"                     \"lncRNA\"                            \n",
       " [3] \"TEC\"                                \"transcribed_unprocessed_pseudogene\"\n",
       " [5] \"transcribed_processed_pseudogene\"   \"rRNA\"                              \n",
       " [7] \"unprocessed_pseudogene\"             \"misc_RNA\"                          \n",
       " [9] \"translated_unprocessed_pseudogene\"  \"polymorphic_pseudogene\"            \n",
       "[11] \"processed_pseudogene\"               \"snoRNA\"                            \n",
       "[13] \"pseudogene\"                         \"transcribed_unitary_pseudogene\"    \n",
       "[15] \"scaRNA\"                             \"snRNA\"                             \n",
       "[17] \"miRNA\"                              \"IG_C_gene\"                         \n",
       "[19] \"Mt_rRNA\"                            \"Mt_tRNA\"                           \n",
       "[21] \"rDNA\"                               \"ribozyme\"                          \n",
       "[23] \"TR_C_gene\"                          \"TR_V_gene\"                         "
      ]
     },
     "metadata": {},
     "output_type": "display_data"
    },
    {
     "data": {
      "text/html": [
       "1006"
      ],
      "text/latex": [
       "1006"
      ],
      "text/markdown": [
       "1006"
      ],
      "text/plain": [
       "[1] 1006"
      ]
     },
     "metadata": {},
     "output_type": "display_data"
    },
    {
     "data": {
      "text/html": [
       "993"
      ],
      "text/latex": [
       "993"
      ],
      "text/markdown": [
       "993"
      ],
      "text/plain": [
       "[1] 993"
      ]
     },
     "metadata": {},
     "output_type": "display_data"
    }
   ],
   "source": [
    "unique(df_all$biotype)\n",
    "f_pseudo <- grepl('pseudo', df_all$biotype)\n",
    "sym_pseudo <- rownames(df_all[f_pseudo,])\n",
    "\n",
    "length(setdiff(sym_mrna_no_ribo_up, sym_pseudo))\n",
    "length(setdiff(sym_mrna_no_ribo_dn, sym_pseudo))"
   ]
  },
  {
   "cell_type": "markdown",
   "id": "97b5a160",
   "metadata": {},
   "source": [
    "### no_DE"
   ]
  },
  {
   "cell_type": "code",
   "execution_count": 60,
   "id": "237dd90c",
   "metadata": {},
   "outputs": [
    {
     "data": {
      "text/html": [
       "10427"
      ],
      "text/latex": [
       "10427"
      ],
      "text/markdown": [
       "10427"
      ],
      "text/plain": [
       "[1] 10427"
      ]
     },
     "metadata": {},
     "output_type": "display_data"
    },
    {
     "data": {
      "text/html": [
       "7566"
      ],
      "text/latex": [
       "7566"
      ],
      "text/markdown": [
       "7566"
      ],
      "text/plain": [
       "[1] 7566"
      ]
     },
     "metadata": {},
     "output_type": "display_data"
    }
   ],
   "source": [
    "n_detected <- length(sym_detected_both)\n",
    "n_detected\n",
    "\n",
    "sym_de_both <- union(sym_mrna_de_detected_both, sym_ribo_de_detected_both)\n",
    "\n",
    "sym_no_de_both <- setdiff(sym_detected_both, sym_de_both)\n",
    "length(sym_no_de_both)"
   ]
  },
  {
   "cell_type": "markdown",
   "id": "6c2a6fab",
   "metadata": {},
   "source": [
    "### validation"
   ]
  },
  {
   "cell_type": "code",
   "execution_count": 61,
   "id": "d46fb8cd",
   "metadata": {},
   "outputs": [
    {
     "data": {
      "text/html": [],
      "text/latex": [],
      "text/markdown": [],
      "text/plain": [
       "character(0)"
      ]
     },
     "metadata": {},
     "output_type": "display_data"
    },
    {
     "data": {
      "text/html": [],
      "text/latex": [],
      "text/markdown": [],
      "text/plain": [
       "character(0)"
      ]
     },
     "metadata": {},
     "output_type": "display_data"
    },
    {
     "data": {
      "text/html": [
       "2861"
      ],
      "text/latex": [
       "2861"
      ],
      "text/markdown": [
       "2861"
      ],
      "text/plain": [
       "[1] 2861"
      ]
     },
     "metadata": {},
     "output_type": "display_data"
    },
    {
     "data": {
      "text/html": [
       "7566"
      ],
      "text/latex": [
       "7566"
      ],
      "text/markdown": [
       "7566"
      ],
      "text/plain": [
       "[1] 7566"
      ]
     },
     "metadata": {},
     "output_type": "display_data"
    },
    {
     "data": {
      "text/html": [
       "TRUE"
      ],
      "text/latex": [
       "TRUE"
      ],
      "text/markdown": [
       "TRUE"
      ],
      "text/plain": [
       "[1] TRUE"
      ]
     },
     "metadata": {},
     "output_type": "display_data"
    }
   ],
   "source": [
    "# de both & dectected in both platforms\n",
    "intersect(sym_mrna_only, sym_mrna_de_ribo_de)\n",
    "intersect(sym_ribo_only, sym_mrna_de_ribo_de)\n",
    "sym_de <- union(sym_mrna_only, sym_ribo_only)\n",
    "sym_de <- union(sym_de, sym_mrna_de_ribo_de)\n",
    "n_de <- length(sym_de)\n",
    "n_de\n",
    "\n",
    "sym_no_de_both1 <- setdiff(sym_detected_both, sym_de)\n",
    "length(sym_no_de_both1)\n",
    "\n",
    "setequal(sym_no_de_both, sym_no_de_both1)"
   ]
  },
  {
   "cell_type": "markdown",
   "id": "9b1cc576",
   "metadata": {},
   "source": [
    "## common parameter"
   ]
  },
  {
   "cell_type": "code",
   "execution_count": 62,
   "id": "18051e99",
   "metadata": {},
   "outputs": [
    {
     "data": {
      "text/html": [
       "'_protein_coding_wo_pseudogene'"
      ],
      "text/latex": [
       "'\\_protein\\_coding\\_wo\\_pseudogene'"
      ],
      "text/markdown": [
       "'_protein_coding_wo_pseudogene'"
      ],
      "text/plain": [
       "[1] \"_protein_coding_wo_pseudogene\""
      ]
     },
     "metadata": {},
     "output_type": "display_data"
    }
   ],
   "source": [
    "f_display_sym <- FALSE\n",
    "seed_geom_text_repel <- 40\n",
    "\n",
    "#biotype_exclude <- NULL\n",
    "biotype_exclude <- \"pseudogene\"  # current choice of fig1\n",
    "#biotype_exclude <- \"protein_coding|pseudogene\"\n",
    "\n",
    "#biotype_include <- NULL\n",
    "biotype_include <- \"protein_coding\"  # current choice of fig1\n",
    "\n",
    "fname_appendix <- \"\"\n",
    "if (!is.null(biotype_include)) {\n",
    "    fname_appendix <- sprintf(\"_%s\", gsub(\"\\\\|\", \"_\", biotype_include))\n",
    "} \n",
    "if (!is.null(biotype_exclude)) {\n",
    "    fname_appendix <- sprintf(\"%s_wo_%s\", fname_appendix, gsub(\"\\\\|\", \"_\", biotype_exclude))\n",
    "} \n",
    "\n",
    "fname_appendix"
   ]
  },
  {
   "cell_type": "code",
   "execution_count": 63,
   "id": "8ec231c1",
   "metadata": {},
   "outputs": [
    {
     "name": "stdout",
     "output_type": "stream",
     "text": [
      "              seqnames    start      end width strand         source\n",
      "0610009B22Rik       11 51576213 51579701  3489      - ensembl_havana\n",
      "0610010F05Rik       11 23514961 23583639 68679      - ensembl_havana\n",
      "0610010K14Rik       11 70126032 70128740  2709      - ensembl_havana\n",
      "0610012G03Rik       16 31765868 31767312  1445      -         havana\n",
      "0610030E20Rik        6 72324300 72330131  5832      + ensembl_havana\n",
      "0610040J01Rik        5 63969706 64056968 87263      + ensembl_havana\n",
      "              unt.transcription tgfb.transcription tgfbCX5461.transcription\n",
      "0610009B22Rik        -1.7361927        -1.77777696              -1.52337076\n",
      "0610010F05Rik        -0.5443124        -0.18299550              -0.57995446\n",
      "0610010K14Rik        -1.0822802        -1.73978964              -1.85796767\n",
      "0610012G03Rik         0.1094487         0.09824498               0.09778162\n",
      "0610030E20Rik        -0.7066802        -0.89024066              -0.91363548\n",
      "0610040J01Rik        -1.1236084        -4.73941679              -3.70502147\n",
      "              log2FCuntVStgfb.transcription FDRuntVStgfb.transcription\n",
      "0610009B22Rik                   -0.04158431               8.658629e-01\n",
      "0610010F05Rik                    0.36131693               8.558582e-03\n",
      "0610010K14Rik                   -0.65750941               1.465000e-03\n",
      "0610012G03Rik                   -0.01120375               9.284910e-01\n",
      "0610030E20Rik                   -0.18356050               2.586286e-01\n",
      "0610040J01Rik                   -3.61580842               1.100000e-10\n",
      "              PuntVStgfb.transcription log2FCtgfbVStgfbCX5461.transcription\n",
      "0610009B22Rik             0.8259850180                          0.254406206\n",
      "0610010F05Rik             0.0040252843                         -0.396958965\n",
      "0610010K14Rik             0.0005896719                         -0.118178034\n",
      "0610012G03Rik             0.9060291342                         -0.000463367\n",
      "0610030E20Rik             0.1882543985                         -0.023394823\n",
      "0610040J01Rik             0.0000000000                          1.034395317\n",
      "              FDRtgfbVStgfbCX5461.transcription PtgfbVStgfbCX5461.transcription\n",
      "0610009B22Rik                        0.47845885                     0.215207158\n",
      "0610010F05Rik                        0.04148518                     0.004344689\n",
      "0610010K14Rik                        0.79854067                     0.584691893\n",
      "0610012G03Rik                        0.99821843                     0.996435920\n",
      "0610030E20Rik                        0.94973859                     0.881608030\n",
      "0610040J01Rik                        0.16393562                     0.034095484\n",
      "              unt.tgfb.DEtranscription tgfb.tgfbCX5461.DEtranscription\n",
      "0610009B22Rik                   notSig                          notSig\n",
      "0610010F05Rik                       up                            down\n",
      "0610010K14Rik                     down                          notSig\n",
      "0610012G03Rik                   notSig                          notSig\n",
      "0610030E20Rik                   notSig                          notSig\n",
      "0610040J01Rik                     down                          notSig\n",
      "              reversible.transcription unt.translation tgfb.translation\n",
      "0610009B22Rik                   notSig      -0.1209301       -0.5623582\n",
      "0610010F05Rik                   upDown      -1.4390170       -1.1130376\n",
      "0610010K14Rik                   notSig      -0.7062234       -2.1409318\n",
      "0610012G03Rik                   notSig       0.2537944       -0.2992177\n",
      "0610030E20Rik                   notSig              NA               NA\n",
      "0610040J01Rik                   notSig      -2.6671038       -3.6173387\n",
      "              tgfbCX5461.translation log2FCuntVStgfb.translation\n",
      "0610009B22Rik              0.4593551                          NA\n",
      "0610010F05Rik             -1.8999308                          NA\n",
      "0610010K14Rik             -0.6268219                          NA\n",
      "0610012G03Rik             -0.2840107                          NA\n",
      "0610030E20Rik                     NA                          NA\n",
      "0610040J01Rik             -3.7617905                          NA\n",
      "              FDRuntVStgfb.translation PuntVStgfb.translation\n",
      "0610009B22Rik                       NA                     NA\n",
      "0610010F05Rik                       NA                     NA\n",
      "0610010K14Rik                       NA                     NA\n",
      "0610012G03Rik                       NA                     NA\n",
      "0610030E20Rik                       NA                     NA\n",
      "0610040J01Rik                       NA                     NA\n",
      "              log2FCtgfbVStgfbCX5461.translation\n",
      "0610009B22Rik                         1.02171324\n",
      "0610010F05Rik                        -0.78689319\n",
      "0610010K14Rik                         1.51410985\n",
      "0610012G03Rik                         0.01520704\n",
      "0610030E20Rik                                 NA\n",
      "0610040J01Rik                        -0.14445185\n",
      "              FDRtgfbVStgfbCX5461.translation PtgfbVStgfbCX5461.translation\n",
      "0610009B22Rik                      0.02919136                   0.002929355\n",
      "0610010F05Rik                      0.41800085                   0.183428443\n",
      "0610010K14Rik                      0.07704533                   0.012849451\n",
      "0610012G03Rik                      0.98121037                   0.964044006\n",
      "0610030E20Rik                              NA                            NA\n",
      "0610040J01Rik                      0.95563779                   0.908020836\n",
      "              unt.tgfb.DEtranslation tgfb.tgfbCX5461.DEtranslation\n",
      "0610009B22Rik                 notSig                            up\n",
      "0610010F05Rik                 notSig                        notSig\n",
      "0610010K14Rik                 notSig                        notSig\n",
      "0610012G03Rik                 notSig                        notSig\n",
      "0610030E20Rik                   <NA>                          <NA>\n",
      "0610040J01Rik                 notSig                        notSig\n",
      "              reversible.translation        biotype\n",
      "0610009B22Rik                 notSig protein_coding\n",
      "0610010F05Rik                 notSig protein_coding\n",
      "0610010K14Rik                 notSig protein_coding\n",
      "0610012G03Rik                 notSig protein_coding\n",
      "0610030E20Rik                   <NA> protein_coding\n",
      "0610040J01Rik                 notSig protein_coding\n",
      "[1] 11452    31\n"
     ]
    }
   ],
   "source": [
    "if (!is.null(biotype_include)) {\n",
    "    f <- grepl(biotype_include, df_all$biotype)\n",
    "    df_include <- df_all[f, ]\n",
    "    show(head(df_include))\n",
    "    show(dim(df_include))\n",
    "    include_genes <- rownames(df_include)\n",
    "    \n",
    "    sym_mrna_only <- intersect(sym_mrna_only, include_genes)\n",
    "    sym_mrna_up_ribo_up <- intersect(sym_mrna_up_ribo_up, include_genes)\n",
    "    sym_mrna_dn_ribo_dn <- intersect(sym_mrna_dn_ribo_dn, include_genes)\n",
    "    sym_mrna_no_ribo_up <- intersect(sym_mrna_no_ribo_up, include_genes)\n",
    "    sym_mrna_no_ribo_dn <- intersect(sym_mrna_no_ribo_dn, include_genes)\n",
    "    sym_mrna_up_ribo_dn <- intersect(sym_mrna_up_ribo_dn, include_genes)\n",
    "    sym_mrna_dn_ribo_up <- intersect(sym_mrna_dn_ribo_up, include_genes)    \n",
    "}"
   ]
  },
  {
   "cell_type": "markdown",
   "id": "453e81ba",
   "metadata": {},
   "source": [
    "## rpf_only_up_dn"
   ]
  },
  {
   "cell_type": "code",
   "execution_count": 64,
   "id": "b8f287ef",
   "metadata": {},
   "outputs": [
    {
     "name": "stdout",
     "output_type": "stream",
     "text": [
      "sym_mrna_only: 457\n",
      "sym_mrna_up_ribo_up: 114\n",
      "sym_mrna_dn_ribo_dn: 52\n",
      "sym_mrna_no_ribo_up: 952\n",
      "sym_mrna_no_ribo_dn: 982\n"
     ]
    }
   ],
   "source": [
    "df_fig <- df_all\n",
    "sym <- rownames(df_fig)\n",
    "df_fig$fig.type <- NA\n",
    "\n",
    "verb(\"sym_mrna_only: %d\\n\", length(sym_mrna_only))\n",
    "f <- sym %in% sym_mrna_only\n",
    "str_mrna_only <- sprintf(\"RNA Only (n=%d)\", length(sym_mrna_only))\n",
    "df_fig[f, \"fig.type\"] <- str_mrna_only\n",
    "\n",
    "verb(\"sym_mrna_up_ribo_up: %d\\n\", length(sym_mrna_up_ribo_up))\n",
    "verb(\"sym_mrna_dn_ribo_dn: %d\\n\", length(sym_mrna_dn_ribo_dn))\n",
    "f <- sym %in% sym_mrna_up_ribo_up | sym %in% sym_mrna_dn_ribo_dn\n",
    "str_mrna_rpf <- sprintf(\"RNA and RPF (n=%d)\", length(sym_mrna_up_ribo_up)+length(sym_mrna_dn_ribo_dn))\n",
    "df_fig[f, \"fig.type\"] <- str_mrna_rpf\n",
    "\n",
    "verb(\"sym_mrna_no_ribo_up: %d\\n\", length(sym_mrna_no_ribo_up))\n",
    "f <- sym %in% sym_mrna_no_ribo_up\n",
    "str_rpf_only_up <- sprintf(\"RPF Only - Up (n=%d)\", length(sym_mrna_no_ribo_up))\n",
    "df_fig[f, \"fig.type\"] <- str_rpf_only_up\n",
    "\n",
    "verb(\"sym_mrna_no_ribo_dn: %d\\n\", length(sym_mrna_no_ribo_dn))\n",
    "f <- sym %in% sym_mrna_no_ribo_dn\n",
    "str_rpf_only_dn <- sprintf(\"RPF Only - Down (n=%d)\", length(sym_mrna_no_ribo_dn))\n",
    "df_fig[f, \"fig.type\"] <- str_rpf_only_dn\n",
    "# verb('sym_no_de_both: %d\\n',length(sym_no_de_both)); f <- sym %in%\n",
    "# sym_no_de_both; df_fig[f, 'fig.type'] <- 'No DE'\n",
    "\n",
    "f <- !is.na(df_fig$fig.type) & !is.na(df_fig$log2FCtgfbVStgfbCX5461.transcription) & \n",
    "    !is.na(df_fig$log2FCtgfbVStgfbCX5461.translation)\n",
    "df_fig <- df_fig[f, ]\n",
    "df_fig$fig.type <- factor(df_fig$fig.type, level = c(str_mrna_only, str_mrna_rpf, str_rpf_only_up, str_rpf_only_dn))\n",
    "df_fig <- df_fig[order(df_fig$fig.type), ]\n",
    "\n",
    "nv_color <- c('RNA Only'='#aaaaaa',\n",
    "              'RNA and RPF'='#7aaa3d',\n",
    "              'RPF Only - Up'='#d78c5e',\n",
    "              'RPF Only - Down'='#fcf050')\n",
    "names(nv_color) <- levels(df_fig$fig.type)"
   ]
  },
  {
   "cell_type": "code",
   "execution_count": 65,
   "id": "24d0426f",
   "metadata": {},
   "outputs": [
    {
     "data": {
      "text/html": [
       "<table class=\"dataframe\">\n",
       "<caption>A data.frame: 6 × 32</caption>\n",
       "<thead>\n",
       "\t<tr><th></th><th scope=col>seqnames</th><th scope=col>start</th><th scope=col>end</th><th scope=col>width</th><th scope=col>strand</th><th scope=col>source</th><th scope=col>unt.transcription</th><th scope=col>tgfb.transcription</th><th scope=col>tgfbCX5461.transcription</th><th scope=col>log2FCuntVStgfb.transcription</th><th scope=col>...</th><th scope=col>FDRuntVStgfb.translation</th><th scope=col>PuntVStgfb.translation</th><th scope=col>log2FCtgfbVStgfbCX5461.translation</th><th scope=col>FDRtgfbVStgfbCX5461.translation</th><th scope=col>PtgfbVStgfbCX5461.translation</th><th scope=col>unt.tgfb.DEtranslation</th><th scope=col>tgfb.tgfbCX5461.DEtranslation</th><th scope=col>reversible.translation</th><th scope=col>biotype</th><th scope=col>fig.type</th></tr>\n",
       "\t<tr><th></th><th scope=col>&lt;fct&gt;</th><th scope=col>&lt;int&gt;</th><th scope=col>&lt;int&gt;</th><th scope=col>&lt;int&gt;</th><th scope=col>&lt;fct&gt;</th><th scope=col>&lt;fct&gt;</th><th scope=col>&lt;dbl&gt;</th><th scope=col>&lt;dbl&gt;</th><th scope=col>&lt;dbl&gt;</th><th scope=col>&lt;dbl&gt;</th><th scope=col>...</th><th scope=col>&lt;dbl&gt;</th><th scope=col>&lt;dbl&gt;</th><th scope=col>&lt;dbl&gt;</th><th scope=col>&lt;dbl&gt;</th><th scope=col>&lt;dbl&gt;</th><th scope=col>&lt;chr&gt;</th><th scope=col>&lt;chr&gt;</th><th scope=col>&lt;chr&gt;</th><th scope=col>&lt;chr&gt;</th><th scope=col>&lt;fct&gt;</th></tr>\n",
       "</thead>\n",
       "<tbody>\n",
       "\t<tr><th scope=row>0610010F05Rik</th><td>11</td><td> 23514961</td><td> 23583639</td><td> 68679</td><td>-</td><td>ensembl_havana</td><td>-0.5443124</td><td>-0.1829955</td><td>-0.5799545</td><td> 0.3613169</td><td>...</td><td>NA</td><td>NA</td><td>-0.786893192</td><td>0.4180008464</td><td>0.1834284428</td><td>notSig</td><td>notSig</td><td>notSig</td><td>protein_coding</td><td>RNA Only (n=457)</td></tr>\n",
       "\t<tr><th scope=row>1810013L24Rik</th><td>16</td><td>  8647964</td><td>  8676786</td><td> 28823</td><td>+</td><td>ensembl_havana</td><td> 0.9570812</td><td> 1.2470260</td><td> 1.5439815</td><td> 0.2899448</td><td>...</td><td>NA</td><td>NA</td><td> 0.888989100</td><td>0.0001134758</td><td>0.0000024969</td><td>notSig</td><td>up    </td><td>notSig</td><td>protein_coding</td><td>RNA Only (n=457)</td></tr>\n",
       "\t<tr><th scope=row>2510039O18Rik</th><td>4 </td><td>148025352</td><td>148031771</td><td>  6420</td><td>+</td><td>ensembl_havana</td><td> 0.1081589</td><td> 0.9820496</td><td> 1.2884085</td><td> 0.8738907</td><td>...</td><td>NA</td><td>NA</td><td> 0.005385121</td><td>0.9931558420</td><td>0.9860253330</td><td>notSig</td><td>notSig</td><td>notSig</td><td>protein_coding</td><td>RNA Only (n=457)</td></tr>\n",
       "\t<tr><th scope=row>3110082I17Rik</th><td>5 </td><td>139345494</td><td>139446282</td><td>100789</td><td>-</td><td>ensembl_havana</td><td>-1.5814904</td><td>-1.1940075</td><td>-1.7329866</td><td> 0.3874829</td><td>...</td><td>NA</td><td>NA</td><td> 1.015035969</td><td>0.2697065841</td><td>0.0880502514</td><td>notSig</td><td>notSig</td><td>notSig</td><td>protein_coding</td><td>RNA Only (n=457)</td></tr>\n",
       "\t<tr><th scope=row>9530053A07Rik</th><td>7 </td><td> 27828891</td><td> 27864236</td><td> 35346</td><td>+</td><td>ensembl_havana</td><td>-0.5843792</td><td>-2.6486490</td><td>-1.4373689</td><td>-2.0642698</td><td>...</td><td>NA</td><td>NA</td><td> 0.932338693</td><td>0.4426091248</td><td>0.2036505670</td><td>notSig</td><td>notSig</td><td>notSig</td><td>protein_coding</td><td>RNA Only (n=457)</td></tr>\n",
       "\t<tr><th scope=row>Aaas</th><td>15</td><td>102246687</td><td>102259206</td><td> 12520</td><td>-</td><td>ensembl_havana</td><td> 1.0503938</td><td> 0.5298635</td><td> 0.8885579</td><td>-0.5205303</td><td>...</td><td>NA</td><td>NA</td><td> 0.351339617</td><td>0.4913063239</td><td>0.2463083463</td><td>notSig</td><td>notSig</td><td>notSig</td><td>protein_coding</td><td>RNA Only (n=457)</td></tr>\n",
       "</tbody>\n",
       "</table>\n"
      ],
      "text/latex": [
       "A data.frame: 6 × 32\n",
       "\\begin{tabular}{r|lllllllllllllllllllll}\n",
       "  & seqnames & start & end & width & strand & source & unt.transcription & tgfb.transcription & tgfbCX5461.transcription & log2FCuntVStgfb.transcription & ... & FDRuntVStgfb.translation & PuntVStgfb.translation & log2FCtgfbVStgfbCX5461.translation & FDRtgfbVStgfbCX5461.translation & PtgfbVStgfbCX5461.translation & unt.tgfb.DEtranslation & tgfb.tgfbCX5461.DEtranslation & reversible.translation & biotype & fig.type\\\\\n",
       "  & <fct> & <int> & <int> & <int> & <fct> & <fct> & <dbl> & <dbl> & <dbl> & <dbl> & ... & <dbl> & <dbl> & <dbl> & <dbl> & <dbl> & <chr> & <chr> & <chr> & <chr> & <fct>\\\\\n",
       "\\hline\n",
       "\t0610010F05Rik & 11 &  23514961 &  23583639 &  68679 & - & ensembl\\_havana & -0.5443124 & -0.1829955 & -0.5799545 &  0.3613169 & ... & NA & NA & -0.786893192 & 0.4180008464 & 0.1834284428 & notSig & notSig & notSig & protein\\_coding & RNA Only (n=457)\\\\\n",
       "\t1810013L24Rik & 16 &   8647964 &   8676786 &  28823 & + & ensembl\\_havana &  0.9570812 &  1.2470260 &  1.5439815 &  0.2899448 & ... & NA & NA &  0.888989100 & 0.0001134758 & 0.0000024969 & notSig & up     & notSig & protein\\_coding & RNA Only (n=457)\\\\\n",
       "\t2510039O18Rik & 4  & 148025352 & 148031771 &   6420 & + & ensembl\\_havana &  0.1081589 &  0.9820496 &  1.2884085 &  0.8738907 & ... & NA & NA &  0.005385121 & 0.9931558420 & 0.9860253330 & notSig & notSig & notSig & protein\\_coding & RNA Only (n=457)\\\\\n",
       "\t3110082I17Rik & 5  & 139345494 & 139446282 & 100789 & - & ensembl\\_havana & -1.5814904 & -1.1940075 & -1.7329866 &  0.3874829 & ... & NA & NA &  1.015035969 & 0.2697065841 & 0.0880502514 & notSig & notSig & notSig & protein\\_coding & RNA Only (n=457)\\\\\n",
       "\t9530053A07Rik & 7  &  27828891 &  27864236 &  35346 & + & ensembl\\_havana & -0.5843792 & -2.6486490 & -1.4373689 & -2.0642698 & ... & NA & NA &  0.932338693 & 0.4426091248 & 0.2036505670 & notSig & notSig & notSig & protein\\_coding & RNA Only (n=457)\\\\\n",
       "\tAaas & 15 & 102246687 & 102259206 &  12520 & - & ensembl\\_havana &  1.0503938 &  0.5298635 &  0.8885579 & -0.5205303 & ... & NA & NA &  0.351339617 & 0.4913063239 & 0.2463083463 & notSig & notSig & notSig & protein\\_coding & RNA Only (n=457)\\\\\n",
       "\\end{tabular}\n"
      ],
      "text/markdown": [
       "\n",
       "A data.frame: 6 × 32\n",
       "\n",
       "| <!--/--> | seqnames &lt;fct&gt; | start &lt;int&gt; | end &lt;int&gt; | width &lt;int&gt; | strand &lt;fct&gt; | source &lt;fct&gt; | unt.transcription &lt;dbl&gt; | tgfb.transcription &lt;dbl&gt; | tgfbCX5461.transcription &lt;dbl&gt; | log2FCuntVStgfb.transcription &lt;dbl&gt; | ... ... | FDRuntVStgfb.translation &lt;dbl&gt; | PuntVStgfb.translation &lt;dbl&gt; | log2FCtgfbVStgfbCX5461.translation &lt;dbl&gt; | FDRtgfbVStgfbCX5461.translation &lt;dbl&gt; | PtgfbVStgfbCX5461.translation &lt;dbl&gt; | unt.tgfb.DEtranslation &lt;chr&gt; | tgfb.tgfbCX5461.DEtranslation &lt;chr&gt; | reversible.translation &lt;chr&gt; | biotype &lt;chr&gt; | fig.type &lt;fct&gt; |\n",
       "|---|---|---|---|---|---|---|---|---|---|---|---|---|---|---|---|---|---|---|---|---|---|\n",
       "| 0610010F05Rik | 11 |  23514961 |  23583639 |  68679 | - | ensembl_havana | -0.5443124 | -0.1829955 | -0.5799545 |  0.3613169 | ... | NA | NA | -0.786893192 | 0.4180008464 | 0.1834284428 | notSig | notSig | notSig | protein_coding | RNA Only (n=457) |\n",
       "| 1810013L24Rik | 16 |   8647964 |   8676786 |  28823 | + | ensembl_havana |  0.9570812 |  1.2470260 |  1.5439815 |  0.2899448 | ... | NA | NA |  0.888989100 | 0.0001134758 | 0.0000024969 | notSig | up     | notSig | protein_coding | RNA Only (n=457) |\n",
       "| 2510039O18Rik | 4  | 148025352 | 148031771 |   6420 | + | ensembl_havana |  0.1081589 |  0.9820496 |  1.2884085 |  0.8738907 | ... | NA | NA |  0.005385121 | 0.9931558420 | 0.9860253330 | notSig | notSig | notSig | protein_coding | RNA Only (n=457) |\n",
       "| 3110082I17Rik | 5  | 139345494 | 139446282 | 100789 | - | ensembl_havana | -1.5814904 | -1.1940075 | -1.7329866 |  0.3874829 | ... | NA | NA |  1.015035969 | 0.2697065841 | 0.0880502514 | notSig | notSig | notSig | protein_coding | RNA Only (n=457) |\n",
       "| 9530053A07Rik | 7  |  27828891 |  27864236 |  35346 | + | ensembl_havana | -0.5843792 | -2.6486490 | -1.4373689 | -2.0642698 | ... | NA | NA |  0.932338693 | 0.4426091248 | 0.2036505670 | notSig | notSig | notSig | protein_coding | RNA Only (n=457) |\n",
       "| Aaas | 15 | 102246687 | 102259206 |  12520 | - | ensembl_havana |  1.0503938 |  0.5298635 |  0.8885579 | -0.5205303 | ... | NA | NA |  0.351339617 | 0.4913063239 | 0.2463083463 | notSig | notSig | notSig | protein_coding | RNA Only (n=457) |\n",
       "\n"
      ],
      "text/plain": [
       "              seqnames start     end       width  strand source        \n",
       "0610010F05Rik 11        23514961  23583639  68679 -      ensembl_havana\n",
       "1810013L24Rik 16         8647964   8676786  28823 +      ensembl_havana\n",
       "2510039O18Rik 4        148025352 148031771   6420 +      ensembl_havana\n",
       "3110082I17Rik 5        139345494 139446282 100789 -      ensembl_havana\n",
       "9530053A07Rik 7         27828891  27864236  35346 +      ensembl_havana\n",
       "Aaas          15       102246687 102259206  12520 -      ensembl_havana\n",
       "              unt.transcription tgfb.transcription tgfbCX5461.transcription\n",
       "0610010F05Rik -0.5443124        -0.1829955         -0.5799545              \n",
       "1810013L24Rik  0.9570812         1.2470260          1.5439815              \n",
       "2510039O18Rik  0.1081589         0.9820496          1.2884085              \n",
       "3110082I17Rik -1.5814904        -1.1940075         -1.7329866              \n",
       "9530053A07Rik -0.5843792        -2.6486490         -1.4373689              \n",
       "Aaas           1.0503938         0.5298635          0.8885579              \n",
       "              log2FCuntVStgfb.transcription ... FDRuntVStgfb.translation\n",
       "0610010F05Rik  0.3613169                    ... NA                      \n",
       "1810013L24Rik  0.2899448                    ... NA                      \n",
       "2510039O18Rik  0.8738907                    ... NA                      \n",
       "3110082I17Rik  0.3874829                    ... NA                      \n",
       "9530053A07Rik -2.0642698                    ... NA                      \n",
       "Aaas          -0.5205303                    ... NA                      \n",
       "              PuntVStgfb.translation log2FCtgfbVStgfbCX5461.translation\n",
       "0610010F05Rik NA                     -0.786893192                      \n",
       "1810013L24Rik NA                      0.888989100                      \n",
       "2510039O18Rik NA                      0.005385121                      \n",
       "3110082I17Rik NA                      1.015035969                      \n",
       "9530053A07Rik NA                      0.932338693                      \n",
       "Aaas          NA                      0.351339617                      \n",
       "              FDRtgfbVStgfbCX5461.translation PtgfbVStgfbCX5461.translation\n",
       "0610010F05Rik 0.4180008464                    0.1834284428                 \n",
       "1810013L24Rik 0.0001134758                    0.0000024969                 \n",
       "2510039O18Rik 0.9931558420                    0.9860253330                 \n",
       "3110082I17Rik 0.2697065841                    0.0880502514                 \n",
       "9530053A07Rik 0.4426091248                    0.2036505670                 \n",
       "Aaas          0.4913063239                    0.2463083463                 \n",
       "              unt.tgfb.DEtranslation tgfb.tgfbCX5461.DEtranslation\n",
       "0610010F05Rik notSig                 notSig                       \n",
       "1810013L24Rik notSig                 up                           \n",
       "2510039O18Rik notSig                 notSig                       \n",
       "3110082I17Rik notSig                 notSig                       \n",
       "9530053A07Rik notSig                 notSig                       \n",
       "Aaas          notSig                 notSig                       \n",
       "              reversible.translation biotype        fig.type        \n",
       "0610010F05Rik notSig                 protein_coding RNA Only (n=457)\n",
       "1810013L24Rik notSig                 protein_coding RNA Only (n=457)\n",
       "2510039O18Rik notSig                 protein_coding RNA Only (n=457)\n",
       "3110082I17Rik notSig                 protein_coding RNA Only (n=457)\n",
       "9530053A07Rik notSig                 protein_coding RNA Only (n=457)\n",
       "Aaas          notSig                 protein_coding RNA Only (n=457)"
      ]
     },
     "metadata": {},
     "output_type": "display_data"
    },
    {
     "data": {
      "image/png": "[encoded data removed]",
      "text/plain": [
       "plot without title"
      ]
     },
     "metadata": {
      "image/png": {
       "height": 300,
       "width": 300
      }
     },
     "output_type": "display_data"
    }
   ],
   "source": [
    "library(ggplot2)\n",
    "nticks=13; xmax=12; ymax=12; gap_tick_label=4\n",
    "gg <- ggplot(data=df_fig,\n",
    "    aes(x=log2FCtgfbVStgfbCX5461.transcription, \n",
    "        y=log2FCtgfbVStgfbCX5461.translation, colour=fig.type)) + \n",
    "    theme_geometry(ticks=nticks, xlim=xmax, ylim=ymax, linesize=0.5, \n",
    "                   xlab=expression('RNA-seq log'[2]*'(fold change)'),\n",
    "                   ylab=expression('RPF-seq log'[2]*'(fold change)'),\n",
    "                   labsize=3.5, labgap=1.5, epsilon=max(xmax,ymax)/50, gap_tick_label=gap_tick_label) +\n",
    "    geom_point(alpha=1, size=1) +\n",
    "    theme(legend.title=element_blank(), \n",
    "          legend.text=element_text(size=9),\n",
    "          legend.background = element_rect(color = NA),\n",
    "          legend.key = element_rect(fill = \"white\", color = NA),\n",
    "          legend.key.size = unit(0.4, \"cm\"),\n",
    "          legend.key.width = unit(0,\"cm\"),\n",
    "          #legend.spacing.y = unit(0.5, \"cm\"),          \n",
    "          legend.position = c(0.02, 0.92), legend.justification = c(0, 1) ) +\n",
    "    guides(colour = guide_legend(override.aes = list(size=3))) +\n",
    "    ggtitle(\"\") +\n",
    "    scale_colour_manual(values = nv_color)\n",
    "\n",
    "if (f_display_sym) {\n",
    "    \n",
    "  df_fig$sig <- 'no'; \n",
    "  df_fig$sym <- rownames(df_fig)  \n",
    "  f_sym <- grepl('Malat', df_fig$sym)\n",
    "    \n",
    "  th_log2fc <- log2(1.2)\n",
    "  th_adj_pvalue <- 0.05\n",
    "  th_log2fc; th_adj_pvalue\n",
    "    \n",
    "  f_tgfb48_rnaseq_up_rpf_up <- !is.na(df_fig$fig.type) & df_fig$log2FCtgfbVStgfbCX5461.transcription > th_log2fc & df_fig$log2FCtgfbVStgfbCX5461.translation > th_log2fc\n",
    "  f_tgfb48_rnaseq_dn_rpf_up <- !is.na(df_fig$fig.type) & df_fig$log2FCtgfbVStgfbCX5461.transcription < -th_log2fc & df_fig$log2FCtgfbVStgfbCX5461.translation > th_log2fc\n",
    "  df_fig$sig[f_tgfb48_rnaseq_up_rpf_up & f_sym] <- 'up_up';\n",
    "  df_fig$sig[f_tgfb48_rnaseq_up_rpf_up & f_sym] <- 'dn_up';\n",
    "  #f <- grepl(\"Gm|Rik\", df_fig$sym)\n",
    "  #df_fig$sig[f] <- 'no'\n",
    "\n",
    "  require('ggrepel')\n",
    "  df_fig$nudge_x <- 0.2\n",
    "  df_fig$nudge_x[f_tgfb48_rnaseq_up_rpf_up] <- -0.2 \n",
    "  df_fig$nudge_y <- 0.2\n",
    "  #f <- grepl(\"Malat1\", df_fig$sym)\n",
    "  #df_fig[f, 'nudge_x'] <- 0.4  \n",
    "  #df_fig[f, 'nudge_y'] <- 0.4\n",
    "\n",
    "  # change name\n",
    "  df_fig$sym <- mgsub::mgsub(df_fig$sym,\n",
    "        tolower(c('HALLMARK','_')), c('',' '))\n",
    "  #df_fig$sym <- str_wrap(df_fig$sym, width=15)\n",
    "\n",
    "  f <- df_fig$sig != 'no'\n",
    "  if (any(f)) {\n",
    "  df1 <- df_fig[f,,drop=F]          \n",
    "  gg <- gg + geom_text_repel(data=df1,\n",
    "           aes(label=sym, lineheight=.75),\n",
    "           size=3.5, colour='black',\n",
    "           force=1, box.padding=0.25, point.padding=0.5,\n",
    "           min.segment.length = unit(0, 'lines'),          \n",
    "           nudge_x=df1$nudge_x, nudge_y=df1$nudge_y,\n",
    "           seed=seed_geom_text_repel)\n",
    "  }\n",
    "             \n",
    "}\n",
    "\n",
    "head(df_fig)\n",
    "print_figure(gg, width=5, height=5,\n",
    "    file=sprintf(\"scatter_plot.fig1 TGFb VS CX5461%s.rpf_only_up_dn\", fname_appendix))"
   ]
  },
  {
   "cell_type": "markdown",
   "id": "3c5ae31b",
   "metadata": {},
   "source": [
    "## Fig 1"
   ]
  },
  {
   "cell_type": "code",
   "execution_count": 66,
   "id": "e13f01b8",
   "metadata": {},
   "outputs": [
    {
     "name": "stdout",
     "output_type": "stream",
     "text": [
      "sym_mrna_only: 457\n",
      "sym_mrna_up_ribo_dn: 68\n",
      "sym_mrna_dn_ribo_up: 54\n",
      "sym_mrna_up_ribo_up: 114\n",
      "sym_mrna_dn_ribo_dn: 52\n",
      "sym_mrna_no_ribo_up: 952\n",
      "sym_mrna_no_ribo_dn: 982\n"
     ]
    }
   ],
   "source": [
    "df_fig <- df_all\n",
    "sym <- rownames(df_fig)\n",
    "df_fig$fig.type <- NA\n",
    "\n",
    "verb(\"sym_mrna_only: %d\\n\", length(sym_mrna_only))\n",
    "f <- sym %in% sym_mrna_only\n",
    "str_mrna_only <- sprintf(\"RNA Only (n=%s)\", format(length(sym_mrna_only), big.mark = \",\"))\n",
    "df_fig[f, \"fig.type\"] <- str_mrna_only\n",
    "\n",
    "verb(\"sym_mrna_up_ribo_dn: %d\\n\", length(sym_mrna_up_ribo_dn))\n",
    "verb(\"sym_mrna_dn_ribo_up: %d\\n\", length(sym_mrna_dn_ribo_up))\n",
    "f <- sym %in% sym_mrna_up_ribo_dn | sym %in% sym_mrna_dn_ribo_up\n",
    "str_mrna_rpf_discord <- sprintf(\"RNA RPF Discord (n=%s)\", format(length(sym_mrna_up_ribo_dn) + \n",
    "    length(sym_mrna_dn_ribo_up), big.mark = \",\"))\n",
    "df_fig[f, \"fig.type\"] <- str_mrna_rpf_discord\n",
    "\n",
    "verb(\"sym_mrna_up_ribo_up: %d\\n\", length(sym_mrna_up_ribo_up))\n",
    "verb(\"sym_mrna_dn_ribo_dn: %d\\n\", length(sym_mrna_dn_ribo_dn))\n",
    "f <- sym %in% sym_mrna_up_ribo_up | sym %in% sym_mrna_dn_ribo_dn\n",
    "str_mrna_rpf <- sprintf(\"RNA and RPF (n=%s)\", format(length(sym_mrna_up_ribo_up) + \n",
    "    length(sym_mrna_dn_ribo_dn), big.mark = \",\"))\n",
    "df_fig[f, \"fig.type\"] <- str_mrna_rpf\n",
    "\n",
    "verb(\"sym_mrna_no_ribo_up: %d\\n\", length(sym_mrna_no_ribo_up))\n",
    "verb(\"sym_mrna_no_ribo_dn: %d\\n\", length(sym_mrna_no_ribo_dn))\n",
    "f <- sym %in% sym_mrna_no_ribo_up | sym %in% sym_mrna_no_ribo_dn\n",
    "str_rpf_only <- sprintf(\"RPF Only (n=%s)\", format(length(sym_mrna_no_ribo_up) + length(sym_mrna_no_ribo_dn), \n",
    "    big.mark = \",\"))\n",
    "df_fig[f, \"fig.type\"] <- str_rpf_only\n",
    "\n",
    "f <- !is.na(df_fig$fig.type) & !is.na(df_fig$log2FCtgfbVStgfbCX5461.transcription) & \n",
    "    !is.na(df_fig$log2FCtgfbVStgfbCX5461.translation)\n",
    "df_fig <- df_fig[f, ]\n",
    "df_fig$fig.type <- factor(df_fig$fig.type, level = c(str_mrna_only, str_mrna_rpf_discord, \n",
    "    str_mrna_rpf, str_rpf_only))\n",
    "df_fig <- df_fig[order(df_fig$fig.type), ]\n",
    "\n",
    "nv_color <- c(`RNA Only` = \"#aaaaaa\", `RNA RPF Discord` = \"#fcf050\",\n",
    "              `RNA and RPF` = \"#7aaa3d\", `RPF Only` = \"#d78c5e\")\n",
    "names(nv_color) <- levels(df_fig$fig.type)"
   ]
  },
  {
   "cell_type": "code",
   "execution_count": 67,
   "id": "23140a97",
   "metadata": {},
   "outputs": [
    {
     "data": {
      "image/png": "[encoded data removed]",
      "text/plain": [
       "plot without title"
      ]
     },
     "metadata": {
      "image/png": {
       "height": 300,
       "width": 300
      }
     },
     "output_type": "display_data"
    }
   ],
   "source": [
    "nticks=13; xmax=12; ymax=12; gap_tick_label=4\n",
    "gg <- ggplot(data=df_fig,\n",
    "    aes(x=log2FCtgfbVStgfbCX5461.transcription, \n",
    "        y=log2FCtgfbVStgfbCX5461.translation, colour=fig.type)) + \n",
    "    theme_geometry(ticks=nticks, xlim=xmax, ylim=ymax, linesize=0.5, \n",
    "                   xlab=expression('RNA-seq log'[2]*'(fold change)'),\n",
    "                   ylab=expression('RPF-seq log'[2]*'(fold change)'),\n",
    "                   labsize=3.5, labgap=1.5, epsilon=max(xmax,ymax)/50, gap_tick_label=gap_tick_label) +\n",
    "    geom_point(alpha=1, size=1) +\n",
    "    theme(legend.title=element_blank(), \n",
    "          legend.text=element_text(size=9),\n",
    "          legend.background = element_rect(color = NA),\n",
    "          legend.key = element_rect(fill = \"white\", color = NA),\n",
    "          legend.key.size = unit(0.4, \"cm\"),\n",
    "          legend.key.width = unit(0,\"cm\"),\n",
    "          #legend.spacing.y = unit(0.5, \"cm\"),          \n",
    "          legend.position = c(0.06, 0.9), legend.justification = c(0, 1) ) +\n",
    "    guides(colour = guide_legend(override.aes = list(size=3))) +\n",
    "    ggtitle(\"\") +\n",
    "    scale_colour_manual(values = nv_color)\n",
    "\n",
    "if (f_display_sym) {\n",
    "    \n",
    "  df_fig$sig <- 'no'; \n",
    "  df_fig$sym <- rownames(df_fig)  \n",
    "  # Snord43, Snora23, Snord83b, Snord17, Snord104  \n",
    "  f_sym <- grepl('Malat|Snord43', df_fig$sym)\n",
    "    \n",
    "  th_log2fc <- log2(1.2)\n",
    "  f_tgfb48_rnaseq_up_rpf_up <- !is.na(df_fig$fig.type) & df_fig$log2FCtgfbVStgfbCX5461.transcription > th_log2fc & df_fig$log2FCtgfbVStgfbCX5461.translation > th_log2fc\n",
    "  f_tgfb48_rnaseq_dn_rpf_up <- !is.na(df_fig$fig.type) & df_fig$log2FCtgfbVStgfbCX5461.transcription < -th_log2fc & df_fig$log2FCtgfbVStgfbCX5461.translation > th_log2fc\n",
    "  df_fig$sig[f_tgfb48_rnaseq_up_rpf_up & f_sym] <- 'up_up';\n",
    "  df_fig$sig[f_tgfb48_rnaseq_dn_rpf_up & f_sym] <- 'dn_up';\n",
    "  #f <- grepl(\"Gm|Rik\", df_fig$sym)\n",
    "  #df_fig$sig[f] <- 'no'\n",
    "\n",
    "  require('ggrepel')\n",
    "  df_fig$nudge_x <- 0.2\n",
    "  df_fig$nudge_x[f_tgfb48_rnaseq_dn_rpf_up] <- -0.2 \n",
    "  df_fig$nudge_y <- 0.2\n",
    "  #f <- grepl(\"Malat1\", df_fig$sym)\n",
    "  #df_fig[f, 'nudge_x'] <- 0.4  \n",
    "  #df_fig[f, 'nudge_y'] <- 0.4\n",
    "\n",
    "  # change name\n",
    "  df_fig$sym <- mgsub::mgsub(df_fig$sym,\n",
    "        tolower(c('HALLMARK','_')), c('',' '))\n",
    "  #df_fig$sym <- str_wrap(df_fig$sym, width=15)\n",
    "\n",
    "  f <- df_fig$sig != 'no'\n",
    "  if (any(f)) {\n",
    "  df1 <- df_fig[f,,drop=F]          \n",
    "  gg <- gg + geom_text_repel(data=df1,\n",
    "           aes(label=sym, lineheight=.75),\n",
    "           size=3.5, colour='black',\n",
    "           force=1, box.padding=0.25, point.padding=0.5,\n",
    "           min.segment.length = unit(0, 'lines'),          \n",
    "           nudge_x=df1$nudge_x, nudge_y=df1$nudge_y,\n",
    "           seed=seed_geom_text_repel)\n",
    "  }\n",
    "             \n",
    "}\n",
    "\n",
    "print_figure(gg, width=5, height=5,\n",
    "             file=sprintf(\"scatter_plot.fig1 TGFb VS CX54611%s\", fname_appendix))"
   ]
  },
  {
   "cell_type": "markdown",
   "id": "dcb44e74",
   "metadata": {},
   "source": [
    "# Gene Ontology (GO) analysis"
   ]
  },
  {
   "cell_type": "markdown",
   "id": "7d56ad8c",
   "metadata": {},
   "source": [
    "## rna_only_up"
   ]
  },
  {
   "cell_type": "code",
   "execution_count": 68,
   "id": "9cc55ff6",
   "metadata": {},
   "outputs": [
    {
     "name": "stdout",
     "output_type": "stream",
     "text": [
      "sym_rna_only_up: 186\n"
     ]
    }
   ],
   "source": [
    "condstr <- \"sym_rna_only_up\"\n",
    "\n",
    "sym_rna_only_up <- intersect(sym_mrna_only, sym_mrna_up)\n",
    "verb(\"sym_rna_only_up: %d\\n\", length(sym_rna_only_up))"
   ]
  },
  {
   "cell_type": "code",
   "execution_count": 69,
   "id": "6c7172b7",
   "metadata": {},
   "outputs": [
    {
     "name": "stderr",
     "output_type": "stream",
     "text": [
      "Warning message:\n",
      "\"package 'DOSE' was built under R version 4.1.2\"\n",
      "DOSE v3.20.1  For help: https://yulab-smu.top/biomedical-knowledge-mining-book/\n",
      "\n",
      "If you use DOSE in published research, please cite:\n",
      "Guangchuang Yu, Li-Gen Wang, Guang-Rong Yan, Qing-Yu He. DOSE: an R/Bioconductor package for Disease Ontology Semantic and Enrichment analysis. Bioinformatics 2015, 31(4):608-609\n",
      "\n",
      "\n",
      "Warning message:\n",
      "\"package 'msigdbr' was built under R version 4.1.1\"\n"
     ]
    },
    {
     "data": {
      "text/html": [
       "<table class=\"dataframe\">\n",
       "<caption>A data.frame: 3 × 9</caption>\n",
       "<thead>\n",
       "\t<tr><th></th><th scope=col>ID</th><th scope=col>Description</th><th scope=col>GeneRatio</th><th scope=col>BgRatio</th><th scope=col>pvalue</th><th scope=col>p.adjust</th><th scope=col>qvalue</th><th scope=col>geneID</th><th scope=col>Count</th></tr>\n",
       "\t<tr><th></th><th scope=col>&lt;chr&gt;</th><th scope=col>&lt;chr&gt;</th><th scope=col>&lt;chr&gt;</th><th scope=col>&lt;chr&gt;</th><th scope=col>&lt;dbl&gt;</th><th scope=col>&lt;dbl&gt;</th><th scope=col>&lt;dbl&gt;</th><th scope=col>&lt;chr&gt;</th><th scope=col>&lt;int&gt;</th></tr>\n",
       "</thead>\n",
       "<tbody>\n",
       "\t<tr><th scope=row>GOBP_NEGATIVE_REGULATION_OF_GROWTH</th><td>GOBP_NEGATIVE_REGULATION_OF_GROWTH     </td><td>GOBP_NEGATIVE_REGULATION_OF_GROWTH     </td><td>12/160</td><td>234/16223</td><td>3.594494e-06</td><td>0.006973319</td><td>0.006632788</td><td>Apbb1/Bcl6/Cdk5/Dnajb2/Dusp10/Fgfr3/Flcn/G6pdx/Hyal2/Sema6b/Sertad3/Sesn2           </td><td>12</td></tr>\n",
       "\t<tr><th scope=row>GOBP_NEGATIVE_REGULATION_OF_CELL_GROWTH</th><td>GOBP_NEGATIVE_REGULATION_OF_CELL_GROWTH</td><td>GOBP_NEGATIVE_REGULATION_OF_CELL_GROWTH</td><td>10/160</td><td>184/16223</td><td>1.444245e-05</td><td>0.014009178</td><td>0.013325062</td><td>Apbb1/Bcl6/Cdk5/Dnajb2/Flcn/G6pdx/Hyal2/Sema6b/Sertad3/Sesn2                        </td><td>10</td></tr>\n",
       "\t<tr><th scope=row>GOBP_REGULATION_OF_AUTOPHAGY</th><td>GOBP_REGULATION_OF_AUTOPHAGY           </td><td>GOBP_REGULATION_OF_AUTOPHAGY           </td><td>13/160</td><td>328/16223</td><td>2.267946e-05</td><td>0.014666048</td><td>0.013949854</td><td>Atp13a2/Atp6v0b/Atp6v0e/Cdk5/Ctsa/Dapk3/Flcn/Gpr137/Htra2/Sesn2/Ticam1/Tmem150a/Tsc2</td><td>13</td></tr>\n",
       "</tbody>\n",
       "</table>\n"
      ],
      "text/latex": [
       "A data.frame: 3 × 9\n",
       "\\begin{tabular}{r|lllllllll}\n",
       "  & ID & Description & GeneRatio & BgRatio & pvalue & p.adjust & qvalue & geneID & Count\\\\\n",
       "  & <chr> & <chr> & <chr> & <chr> & <dbl> & <dbl> & <dbl> & <chr> & <int>\\\\\n",
       "\\hline\n",
       "\tGOBP\\_NEGATIVE\\_REGULATION\\_OF\\_GROWTH & GOBP\\_NEGATIVE\\_REGULATION\\_OF\\_GROWTH      & GOBP\\_NEGATIVE\\_REGULATION\\_OF\\_GROWTH      & 12/160 & 234/16223 & 3.594494e-06 & 0.006973319 & 0.006632788 & Apbb1/Bcl6/Cdk5/Dnajb2/Dusp10/Fgfr3/Flcn/G6pdx/Hyal2/Sema6b/Sertad3/Sesn2            & 12\\\\\n",
       "\tGOBP\\_NEGATIVE\\_REGULATION\\_OF\\_CELL\\_GROWTH & GOBP\\_NEGATIVE\\_REGULATION\\_OF\\_CELL\\_GROWTH & GOBP\\_NEGATIVE\\_REGULATION\\_OF\\_CELL\\_GROWTH & 10/160 & 184/16223 & 1.444245e-05 & 0.014009178 & 0.013325062 & Apbb1/Bcl6/Cdk5/Dnajb2/Flcn/G6pdx/Hyal2/Sema6b/Sertad3/Sesn2                         & 10\\\\\n",
       "\tGOBP\\_REGULATION\\_OF\\_AUTOPHAGY & GOBP\\_REGULATION\\_OF\\_AUTOPHAGY            & GOBP\\_REGULATION\\_OF\\_AUTOPHAGY            & 13/160 & 328/16223 & 2.267946e-05 & 0.014666048 & 0.013949854 & Atp13a2/Atp6v0b/Atp6v0e/Cdk5/Ctsa/Dapk3/Flcn/Gpr137/Htra2/Sesn2/Ticam1/Tmem150a/Tsc2 & 13\\\\\n",
       "\\end{tabular}\n"
      ],
      "text/markdown": [
       "\n",
       "A data.frame: 3 × 9\n",
       "\n",
       "| <!--/--> | ID &lt;chr&gt; | Description &lt;chr&gt; | GeneRatio &lt;chr&gt; | BgRatio &lt;chr&gt; | pvalue &lt;dbl&gt; | p.adjust &lt;dbl&gt; | qvalue &lt;dbl&gt; | geneID &lt;chr&gt; | Count &lt;int&gt; |\n",
       "|---|---|---|---|---|---|---|---|---|---|\n",
       "| GOBP_NEGATIVE_REGULATION_OF_GROWTH | GOBP_NEGATIVE_REGULATION_OF_GROWTH      | GOBP_NEGATIVE_REGULATION_OF_GROWTH      | 12/160 | 234/16223 | 3.594494e-06 | 0.006973319 | 0.006632788 | Apbb1/Bcl6/Cdk5/Dnajb2/Dusp10/Fgfr3/Flcn/G6pdx/Hyal2/Sema6b/Sertad3/Sesn2            | 12 |\n",
       "| GOBP_NEGATIVE_REGULATION_OF_CELL_GROWTH | GOBP_NEGATIVE_REGULATION_OF_CELL_GROWTH | GOBP_NEGATIVE_REGULATION_OF_CELL_GROWTH | 10/160 | 184/16223 | 1.444245e-05 | 0.014009178 | 0.013325062 | Apbb1/Bcl6/Cdk5/Dnajb2/Flcn/G6pdx/Hyal2/Sema6b/Sertad3/Sesn2                         | 10 |\n",
       "| GOBP_REGULATION_OF_AUTOPHAGY | GOBP_REGULATION_OF_AUTOPHAGY            | GOBP_REGULATION_OF_AUTOPHAGY            | 13/160 | 328/16223 | 2.267946e-05 | 0.014666048 | 0.013949854 | Atp13a2/Atp6v0b/Atp6v0e/Cdk5/Ctsa/Dapk3/Flcn/Gpr137/Htra2/Sesn2/Ticam1/Tmem150a/Tsc2 | 13 |\n",
       "\n"
      ],
      "text/plain": [
       "                                        ID                                     \n",
       "GOBP_NEGATIVE_REGULATION_OF_GROWTH      GOBP_NEGATIVE_REGULATION_OF_GROWTH     \n",
       "GOBP_NEGATIVE_REGULATION_OF_CELL_GROWTH GOBP_NEGATIVE_REGULATION_OF_CELL_GROWTH\n",
       "GOBP_REGULATION_OF_AUTOPHAGY            GOBP_REGULATION_OF_AUTOPHAGY           \n",
       "                                        Description                            \n",
       "GOBP_NEGATIVE_REGULATION_OF_GROWTH      GOBP_NEGATIVE_REGULATION_OF_GROWTH     \n",
       "GOBP_NEGATIVE_REGULATION_OF_CELL_GROWTH GOBP_NEGATIVE_REGULATION_OF_CELL_GROWTH\n",
       "GOBP_REGULATION_OF_AUTOPHAGY            GOBP_REGULATION_OF_AUTOPHAGY           \n",
       "                                        GeneRatio BgRatio   pvalue      \n",
       "GOBP_NEGATIVE_REGULATION_OF_GROWTH      12/160    234/16223 3.594494e-06\n",
       "GOBP_NEGATIVE_REGULATION_OF_CELL_GROWTH 10/160    184/16223 1.444245e-05\n",
       "GOBP_REGULATION_OF_AUTOPHAGY            13/160    328/16223 2.267946e-05\n",
       "                                        p.adjust    qvalue     \n",
       "GOBP_NEGATIVE_REGULATION_OF_GROWTH      0.006973319 0.006632788\n",
       "GOBP_NEGATIVE_REGULATION_OF_CELL_GROWTH 0.014009178 0.013325062\n",
       "GOBP_REGULATION_OF_AUTOPHAGY            0.014666048 0.013949854\n",
       "                                        geneID                                                                              \n",
       "GOBP_NEGATIVE_REGULATION_OF_GROWTH      Apbb1/Bcl6/Cdk5/Dnajb2/Dusp10/Fgfr3/Flcn/G6pdx/Hyal2/Sema6b/Sertad3/Sesn2           \n",
       "GOBP_NEGATIVE_REGULATION_OF_CELL_GROWTH Apbb1/Bcl6/Cdk5/Dnajb2/Flcn/G6pdx/Hyal2/Sema6b/Sertad3/Sesn2                        \n",
       "GOBP_REGULATION_OF_AUTOPHAGY            Atp13a2/Atp6v0b/Atp6v0e/Cdk5/Ctsa/Dapk3/Flcn/Gpr137/Htra2/Sesn2/Ticam1/Tmem150a/Tsc2\n",
       "                                        Count\n",
       "GOBP_NEGATIVE_REGULATION_OF_GROWTH      12   \n",
       "GOBP_NEGATIVE_REGULATION_OF_CELL_GROWTH 10   \n",
       "GOBP_REGULATION_OF_AUTOPHAGY            13   "
      ]
     },
     "metadata": {},
     "output_type": "display_data"
    },
    {
     "data": {
      "text/html": [
       "<table class=\"dataframe\">\n",
       "<caption>A data.frame: 3 × 9</caption>\n",
       "<thead>\n",
       "\t<tr><th></th><th scope=col>ID</th><th scope=col>Description</th><th scope=col>GeneRatio</th><th scope=col>BgRatio</th><th scope=col>pvalue</th><th scope=col>p.adjust</th><th scope=col>qvalue</th><th scope=col>geneID</th><th scope=col>Count</th></tr>\n",
       "\t<tr><th></th><th scope=col>&lt;chr&gt;</th><th scope=col>&lt;chr&gt;</th><th scope=col>&lt;chr&gt;</th><th scope=col>&lt;chr&gt;</th><th scope=col>&lt;dbl&gt;</th><th scope=col>&lt;dbl&gt;</th><th scope=col>&lt;dbl&gt;</th><th scope=col>&lt;chr&gt;</th><th scope=col>&lt;int&gt;</th></tr>\n",
       "</thead>\n",
       "<tbody>\n",
       "\t<tr><th scope=row>GOCC_VACUOLAR_MEMBRANE</th><td>GOCC_VACUOLAR_MEMBRANE</td><td>GOCC_VACUOLAR_MEMBRANE</td><td>14/125</td><td>428/13139</td><td>5.551814e-05</td><td>0.01260262</td><td>0.01215555</td><td>Atp13a2/Atp6v0b/Clcn7/Ctsa/Ctsd/Flcn/Gpr137/Marchf9/Mcoln1/Mfsd12/Napa/Pld3/Slc35f6/Tom1</td><td>14</td></tr>\n",
       "\t<tr><th scope=row>GOCC_LYSOSOMAL_LUMEN</th><td>GOCC_LYSOSOMAL_LUMEN  </td><td>GOCC_LYSOSOMAL_LUMEN  </td><td>6/125 </td><td>94/13139 </td><td>2.702752e-04</td><td>0.03067624</td><td>0.02958803</td><td>Atp13a2/Ctsa/Ctsd/Pld3/Tcn2/Tpp1                                                        </td><td> 6</td></tr>\n",
       "\t<tr><th scope=row>GOCC_COSTAMERE</th><td>GOCC_COSTAMERE        </td><td>GOCC_COSTAMERE        </td><td>3/125 </td><td>18/13139 </td><td>6.179239e-04</td><td>0.04675624</td><td>0.04509760</td><td>Ahnak2/Flnc/Plec                                                                        </td><td> 3</td></tr>\n",
       "</tbody>\n",
       "</table>\n"
      ],
      "text/latex": [
       "A data.frame: 3 × 9\n",
       "\\begin{tabular}{r|lllllllll}\n",
       "  & ID & Description & GeneRatio & BgRatio & pvalue & p.adjust & qvalue & geneID & Count\\\\\n",
       "  & <chr> & <chr> & <chr> & <chr> & <dbl> & <dbl> & <dbl> & <chr> & <int>\\\\\n",
       "\\hline\n",
       "\tGOCC\\_VACUOLAR\\_MEMBRANE & GOCC\\_VACUOLAR\\_MEMBRANE & GOCC\\_VACUOLAR\\_MEMBRANE & 14/125 & 428/13139 & 5.551814e-05 & 0.01260262 & 0.01215555 & Atp13a2/Atp6v0b/Clcn7/Ctsa/Ctsd/Flcn/Gpr137/Marchf9/Mcoln1/Mfsd12/Napa/Pld3/Slc35f6/Tom1 & 14\\\\\n",
       "\tGOCC\\_LYSOSOMAL\\_LUMEN & GOCC\\_LYSOSOMAL\\_LUMEN   & GOCC\\_LYSOSOMAL\\_LUMEN   & 6/125  & 94/13139  & 2.702752e-04 & 0.03067624 & 0.02958803 & Atp13a2/Ctsa/Ctsd/Pld3/Tcn2/Tpp1                                                         &  6\\\\\n",
       "\tGOCC\\_COSTAMERE & GOCC\\_COSTAMERE         & GOCC\\_COSTAMERE         & 3/125  & 18/13139  & 6.179239e-04 & 0.04675624 & 0.04509760 & Ahnak2/Flnc/Plec                                                                         &  3\\\\\n",
       "\\end{tabular}\n"
      ],
      "text/markdown": [
       "\n",
       "A data.frame: 3 × 9\n",
       "\n",
       "| <!--/--> | ID &lt;chr&gt; | Description &lt;chr&gt; | GeneRatio &lt;chr&gt; | BgRatio &lt;chr&gt; | pvalue &lt;dbl&gt; | p.adjust &lt;dbl&gt; | qvalue &lt;dbl&gt; | geneID &lt;chr&gt; | Count &lt;int&gt; |\n",
       "|---|---|---|---|---|---|---|---|---|---|\n",
       "| GOCC_VACUOLAR_MEMBRANE | GOCC_VACUOLAR_MEMBRANE | GOCC_VACUOLAR_MEMBRANE | 14/125 | 428/13139 | 5.551814e-05 | 0.01260262 | 0.01215555 | Atp13a2/Atp6v0b/Clcn7/Ctsa/Ctsd/Flcn/Gpr137/Marchf9/Mcoln1/Mfsd12/Napa/Pld3/Slc35f6/Tom1 | 14 |\n",
       "| GOCC_LYSOSOMAL_LUMEN | GOCC_LYSOSOMAL_LUMEN   | GOCC_LYSOSOMAL_LUMEN   | 6/125  | 94/13139  | 2.702752e-04 | 0.03067624 | 0.02958803 | Atp13a2/Ctsa/Ctsd/Pld3/Tcn2/Tpp1                                                         |  6 |\n",
       "| GOCC_COSTAMERE | GOCC_COSTAMERE         | GOCC_COSTAMERE         | 3/125  | 18/13139  | 6.179239e-04 | 0.04675624 | 0.04509760 | Ahnak2/Flnc/Plec                                                                         |  3 |\n",
       "\n"
      ],
      "text/plain": [
       "                       ID                     Description            GeneRatio\n",
       "GOCC_VACUOLAR_MEMBRANE GOCC_VACUOLAR_MEMBRANE GOCC_VACUOLAR_MEMBRANE 14/125   \n",
       "GOCC_LYSOSOMAL_LUMEN   GOCC_LYSOSOMAL_LUMEN   GOCC_LYSOSOMAL_LUMEN   6/125    \n",
       "GOCC_COSTAMERE         GOCC_COSTAMERE         GOCC_COSTAMERE         3/125    \n",
       "                       BgRatio   pvalue       p.adjust   qvalue    \n",
       "GOCC_VACUOLAR_MEMBRANE 428/13139 5.551814e-05 0.01260262 0.01215555\n",
       "GOCC_LYSOSOMAL_LUMEN   94/13139  2.702752e-04 0.03067624 0.02958803\n",
       "GOCC_COSTAMERE         18/13139  6.179239e-04 0.04675624 0.04509760\n",
       "                       geneID                                                                                  \n",
       "GOCC_VACUOLAR_MEMBRANE Atp13a2/Atp6v0b/Clcn7/Ctsa/Ctsd/Flcn/Gpr137/Marchf9/Mcoln1/Mfsd12/Napa/Pld3/Slc35f6/Tom1\n",
       "GOCC_LYSOSOMAL_LUMEN   Atp13a2/Ctsa/Ctsd/Pld3/Tcn2/Tpp1                                                        \n",
       "GOCC_COSTAMERE         Ahnak2/Flnc/Plec                                                                        \n",
       "                       Count\n",
       "GOCC_VACUOLAR_MEMBRANE 14   \n",
       "GOCC_LYSOSOMAL_LUMEN    6   \n",
       "GOCC_COSTAMERE          3   "
      ]
     },
     "metadata": {},
     "output_type": "display_data"
    },
    {
     "data": {
      "text/html": [
       "<table class=\"dataframe\">\n",
       "<caption>A data.frame: 3 × 9</caption>\n",
       "<thead>\n",
       "\t<tr><th></th><th scope=col>ID</th><th scope=col>Description</th><th scope=col>GeneRatio</th><th scope=col>BgRatio</th><th scope=col>pvalue</th><th scope=col>p.adjust</th><th scope=col>qvalue</th><th scope=col>geneID</th><th scope=col>Count</th></tr>\n",
       "\t<tr><th></th><th scope=col>&lt;chr&gt;</th><th scope=col>&lt;chr&gt;</th><th scope=col>&lt;chr&gt;</th><th scope=col>&lt;chr&gt;</th><th scope=col>&lt;dbl&gt;</th><th scope=col>&lt;dbl&gt;</th><th scope=col>&lt;dbl&gt;</th><th scope=col>&lt;chr&gt;</th><th scope=col>&lt;int&gt;</th></tr>\n",
       "</thead>\n",
       "<tbody>\n",
       "\t<tr><th scope=row>GOMF_NUCLEOSIDE_TRIPHOSPHATASE_REGULATOR_ACTIVITY</th><td>GOMF_NUCLEOSIDE_TRIPHOSPHATASE_REGULATOR_ACTIVITY</td><td>GOMF_NUCLEOSIDE_TRIPHOSPHATASE_REGULATOR_ACTIVITY</td><td>17/150</td><td>479/14695</td><td>7.920279e-06</td><td>0.002700815</td><td>0.002601186</td><td>Arhgef16/Arhgef28/Bag2/Dnajb2/Dnajb6/Eif2b2/Flcn/Llgl2/Nucb1/Rab3a/Rab4a/Sesn2/Sgsm2/Sh3bp5l/Tbc1d17/Tbc1d2/Tsc2</td><td>17</td></tr>\n",
       "\t<tr><th scope=row>GOMF_ATPASE_REGULATOR_ACTIVITY</th><td>GOMF_ATPASE_REGULATOR_ACTIVITY                   </td><td>GOMF_ATPASE_REGULATOR_ACTIVITY                   </td><td>5/150 </td><td>45/14695 </td><td>9.113346e-05</td><td>0.014879573</td><td>0.014330689</td><td>Bag2/Dnajb2/Dnajb6/Rab3a/Rab4a                                                                                  </td><td> 5</td></tr>\n",
       "\t<tr><th scope=row>GOMF_ATPASE_ACTIVATOR_ACTIVITY</th><td>GOMF_ATPASE_ACTIVATOR_ACTIVITY                   </td><td>GOMF_ATPASE_ACTIVATOR_ACTIVITY                   </td><td>4/150 </td><td>26/14695 </td><td>1.309053e-04</td><td>0.014879573</td><td>0.014330689</td><td>Dnajb2/Dnajb6/Rab3a/Rab4a                                                                                       </td><td> 4</td></tr>\n",
       "</tbody>\n",
       "</table>\n"
      ],
      "text/latex": [
       "A data.frame: 3 × 9\n",
       "\\begin{tabular}{r|lllllllll}\n",
       "  & ID & Description & GeneRatio & BgRatio & pvalue & p.adjust & qvalue & geneID & Count\\\\\n",
       "  & <chr> & <chr> & <chr> & <chr> & <dbl> & <dbl> & <dbl> & <chr> & <int>\\\\\n",
       "\\hline\n",
       "\tGOMF\\_NUCLEOSIDE\\_TRIPHOSPHATASE\\_REGULATOR\\_ACTIVITY & GOMF\\_NUCLEOSIDE\\_TRIPHOSPHATASE\\_REGULATOR\\_ACTIVITY & GOMF\\_NUCLEOSIDE\\_TRIPHOSPHATASE\\_REGULATOR\\_ACTIVITY & 17/150 & 479/14695 & 7.920279e-06 & 0.002700815 & 0.002601186 & Arhgef16/Arhgef28/Bag2/Dnajb2/Dnajb6/Eif2b2/Flcn/Llgl2/Nucb1/Rab3a/Rab4a/Sesn2/Sgsm2/Sh3bp5l/Tbc1d17/Tbc1d2/Tsc2 & 17\\\\\n",
       "\tGOMF\\_ATPASE\\_REGULATOR\\_ACTIVITY & GOMF\\_ATPASE\\_REGULATOR\\_ACTIVITY                    & GOMF\\_ATPASE\\_REGULATOR\\_ACTIVITY                    & 5/150  & 45/14695  & 9.113346e-05 & 0.014879573 & 0.014330689 & Bag2/Dnajb2/Dnajb6/Rab3a/Rab4a                                                                                   &  5\\\\\n",
       "\tGOMF\\_ATPASE\\_ACTIVATOR\\_ACTIVITY & GOMF\\_ATPASE\\_ACTIVATOR\\_ACTIVITY                    & GOMF\\_ATPASE\\_ACTIVATOR\\_ACTIVITY                    & 4/150  & 26/14695  & 1.309053e-04 & 0.014879573 & 0.014330689 & Dnajb2/Dnajb6/Rab3a/Rab4a                                                                                        &  4\\\\\n",
       "\\end{tabular}\n"
      ],
      "text/markdown": [
       "\n",
       "A data.frame: 3 × 9\n",
       "\n",
       "| <!--/--> | ID &lt;chr&gt; | Description &lt;chr&gt; | GeneRatio &lt;chr&gt; | BgRatio &lt;chr&gt; | pvalue &lt;dbl&gt; | p.adjust &lt;dbl&gt; | qvalue &lt;dbl&gt; | geneID &lt;chr&gt; | Count &lt;int&gt; |\n",
       "|---|---|---|---|---|---|---|---|---|---|\n",
       "| GOMF_NUCLEOSIDE_TRIPHOSPHATASE_REGULATOR_ACTIVITY | GOMF_NUCLEOSIDE_TRIPHOSPHATASE_REGULATOR_ACTIVITY | GOMF_NUCLEOSIDE_TRIPHOSPHATASE_REGULATOR_ACTIVITY | 17/150 | 479/14695 | 7.920279e-06 | 0.002700815 | 0.002601186 | Arhgef16/Arhgef28/Bag2/Dnajb2/Dnajb6/Eif2b2/Flcn/Llgl2/Nucb1/Rab3a/Rab4a/Sesn2/Sgsm2/Sh3bp5l/Tbc1d17/Tbc1d2/Tsc2 | 17 |\n",
       "| GOMF_ATPASE_REGULATOR_ACTIVITY | GOMF_ATPASE_REGULATOR_ACTIVITY                    | GOMF_ATPASE_REGULATOR_ACTIVITY                    | 5/150  | 45/14695  | 9.113346e-05 | 0.014879573 | 0.014330689 | Bag2/Dnajb2/Dnajb6/Rab3a/Rab4a                                                                                   |  5 |\n",
       "| GOMF_ATPASE_ACTIVATOR_ACTIVITY | GOMF_ATPASE_ACTIVATOR_ACTIVITY                    | GOMF_ATPASE_ACTIVATOR_ACTIVITY                    | 4/150  | 26/14695  | 1.309053e-04 | 0.014879573 | 0.014330689 | Dnajb2/Dnajb6/Rab3a/Rab4a                                                                                        |  4 |\n",
       "\n"
      ],
      "text/plain": [
       "                                                  ID                                               \n",
       "GOMF_NUCLEOSIDE_TRIPHOSPHATASE_REGULATOR_ACTIVITY GOMF_NUCLEOSIDE_TRIPHOSPHATASE_REGULATOR_ACTIVITY\n",
       "GOMF_ATPASE_REGULATOR_ACTIVITY                    GOMF_ATPASE_REGULATOR_ACTIVITY                   \n",
       "GOMF_ATPASE_ACTIVATOR_ACTIVITY                    GOMF_ATPASE_ACTIVATOR_ACTIVITY                   \n",
       "                                                  Description                                      \n",
       "GOMF_NUCLEOSIDE_TRIPHOSPHATASE_REGULATOR_ACTIVITY GOMF_NUCLEOSIDE_TRIPHOSPHATASE_REGULATOR_ACTIVITY\n",
       "GOMF_ATPASE_REGULATOR_ACTIVITY                    GOMF_ATPASE_REGULATOR_ACTIVITY                   \n",
       "GOMF_ATPASE_ACTIVATOR_ACTIVITY                    GOMF_ATPASE_ACTIVATOR_ACTIVITY                   \n",
       "                                                  GeneRatio BgRatio  \n",
       "GOMF_NUCLEOSIDE_TRIPHOSPHATASE_REGULATOR_ACTIVITY 17/150    479/14695\n",
       "GOMF_ATPASE_REGULATOR_ACTIVITY                    5/150     45/14695 \n",
       "GOMF_ATPASE_ACTIVATOR_ACTIVITY                    4/150     26/14695 \n",
       "                                                  pvalue       p.adjust   \n",
       "GOMF_NUCLEOSIDE_TRIPHOSPHATASE_REGULATOR_ACTIVITY 7.920279e-06 0.002700815\n",
       "GOMF_ATPASE_REGULATOR_ACTIVITY                    9.113346e-05 0.014879573\n",
       "GOMF_ATPASE_ACTIVATOR_ACTIVITY                    1.309053e-04 0.014879573\n",
       "                                                  qvalue     \n",
       "GOMF_NUCLEOSIDE_TRIPHOSPHATASE_REGULATOR_ACTIVITY 0.002601186\n",
       "GOMF_ATPASE_REGULATOR_ACTIVITY                    0.014330689\n",
       "GOMF_ATPASE_ACTIVATOR_ACTIVITY                    0.014330689\n",
       "                                                  geneID                                                                                                          \n",
       "GOMF_NUCLEOSIDE_TRIPHOSPHATASE_REGULATOR_ACTIVITY Arhgef16/Arhgef28/Bag2/Dnajb2/Dnajb6/Eif2b2/Flcn/Llgl2/Nucb1/Rab3a/Rab4a/Sesn2/Sgsm2/Sh3bp5l/Tbc1d17/Tbc1d2/Tsc2\n",
       "GOMF_ATPASE_REGULATOR_ACTIVITY                    Bag2/Dnajb2/Dnajb6/Rab3a/Rab4a                                                                                  \n",
       "GOMF_ATPASE_ACTIVATOR_ACTIVITY                    Dnajb2/Dnajb6/Rab3a/Rab4a                                                                                       \n",
       "                                                  Count\n",
       "GOMF_NUCLEOSIDE_TRIPHOSPHATASE_REGULATOR_ACTIVITY 17   \n",
       "GOMF_ATPASE_REGULATOR_ACTIVITY                     5   \n",
       "GOMF_ATPASE_ACTIVATOR_ACTIVITY                     4   "
      ]
     },
     "metadata": {},
     "output_type": "display_data"
    }
   ],
   "source": [
    "library(clusterProfiler)\n",
    "library(DOSE)\n",
    "library(msigdbr)\n",
    "library(enrichplot)\n",
    "\n",
    "#entrez.id <- unique(entrezdf$entrez_id[ match(sym_rna_only_up, entrezdf$gene_name) ])\n",
    "gmt_mus.bp <- msigdbr(species = \"mouse\", category = \"C5\", subcategory = \"GO:BP\") %>% \n",
    "  dplyr::select(gs_name, gene_symbol)\n",
    "\n",
    "gmt_mus.cc <- msigdbr(species = \"mouse\", category = \"C5\", subcategory = \"GO:CC\") %>% \n",
    "  dplyr::select(gs_name, gene_symbol)\n",
    "\n",
    "gmt_mus.mf <- msigdbr(species = \"mouse\", category = \"C5\", subcategory = \"GO:MF\") %>% \n",
    "  dplyr::select(gs_name, gene_symbol)\n",
    "#head(gmt_mus)\n",
    "set.seed(40)\n",
    "em.bp <- enricher(sym_rna_only_up, TERM2GENE=gmt_mus.bp)\n",
    "em.cc <- enricher(sym_rna_only_up, TERM2GENE=gmt_mus.cc)\n",
    "em.mf <- enricher(sym_rna_only_up, TERM2GENE=gmt_mus.mf)\n",
    "head(em.bp)\n",
    "head(em.cc)\n",
    "head(em.mf)\n",
    "#egmt_rna_only_up <- enrichGO(sym_rna_only_up, org.Mm.eg.db=gmt_mus, ont='all', keyType = \"gene_symbol\",\n",
    "#                pvalueCutoff = 0.05, pAdjustMethod = \"BH\", qvalueCutoff = 0.05,\n",
    "#                minGSSize = 10, maxGSSize = 500)\n",
    "#egmt_rna_only_up <- setReadable(egmt_rna_only_up, OrgDb=org.Mm.eg.db, keyType=\"ENTREZID\")\n",
    "\n",
    "#head(egmt_rna_only_up)\n",
    "#dim(egmt_rna_only_up)\n",
    "\n",
    "write.table(em.bp, file = sprintf('table/fig1. TGFB VS CX5461.%s.go.bp.txt', condstr),\n",
    "            row.names = TRUE , col.names = NA ,  sep=\"\\t\"  , quote = FALSE  )\n",
    "\n",
    "\n",
    "write.table(em.cc, file = sprintf('table/fig1. TGFB VS CX5461.%s.go.cc.txt', condstr),\n",
    "            row.names = TRUE , col.names = NA ,  sep=\"\\t\"  , quote = FALSE  )\n",
    "\n",
    "\n",
    "write.table(em.mf, file = sprintf('table/fig1. TGFB VS CX5461.%s.go.mf.txt', condstr),\n",
    "            row.names = TRUE , col.names = NA ,  sep=\"\\t\"  , quote = FALSE  )"
   ]
  },
  {
   "cell_type": "markdown",
   "id": "6c421396",
   "metadata": {},
   "source": [
    "## dotplot"
   ]
  },
  {
   "cell_type": "code",
   "execution_count": 70,
   "id": "dd864814",
   "metadata": {},
   "outputs": [
    {
     "data": {
      "image/png": "[encoded data removed]",
      "text/plain": [
       "plot without title"
      ]
     },
     "metadata": {
      "image/png": {
       "height": 510,
       "width": 540
      }
     },
     "output_type": "display_data"
    },
    {
     "data": {
      "image/png": "[encoded data removed]",
      "text/plain": [
       "plot without title"
      ]
     },
     "metadata": {
      "image/png": {
       "height": 510,
       "width": 540
      }
     },
     "output_type": "display_data"
    },
    {
     "data": {
      "image/png": "[encoded data removed]",
      "text/plain": [
       "plot without title"
      ]
     },
     "metadata": {
      "image/png": {
       "height": 510,
       "width": 540
      }
     },
     "output_type": "display_data"
    }
   ],
   "source": [
    "n_top_egmt <- 10\n",
    "gg <- dotplot(em.bp, showCategory=n_top_egmt)\n",
    "#gg <- dotplot(em, x = \"GeneRatio\",\n",
    "#        color = \"p.adjust\", showCategory = n_top_egmt, split = \"ONTOLOGY\", font.size = 11,\n",
    "#        title = \"RNA Only Up\") + facet_grid(ONTOLOGY~., scale=\"free\")\n",
    "\n",
    "print_figure(gg, width=9, height=8.5,\n",
    "    file=sprintf(\"TGFb VS CX5461.dotplot.%s.enricher.go_top_BP%d\", condstr, n_top_egmt))\n",
    "\n",
    "\n",
    "gg <- dotplot(em.cc, showCategory=n_top_egmt)\n",
    "print_figure(gg, width=9, height=8.5,\n",
    "    file=sprintf(\"TGFb VS CX5461.dotplot.%s.enricher.go_top_CC%d\", condstr, n_top_egmt))\n",
    "\n",
    "gg <- dotplot(em.mf, showCategory=n_top_egmt)\n",
    "print_figure(gg, width=9, height=8.5,\n",
    "    file=sprintf(\"TGFb VS CX5461.dotplot.%s.enricher.go_top_MF%d\", condstr, n_top_egmt))"
   ]
  },
  {
   "cell_type": "markdown",
   "id": "97c0fe34",
   "metadata": {},
   "source": [
    "## rna_only_down"
   ]
  },
  {
   "cell_type": "code",
   "execution_count": 71,
   "id": "1af75626",
   "metadata": {},
   "outputs": [
    {
     "name": "stdout",
     "output_type": "stream",
     "text": [
      "sym_rna_only_dn: 271\n"
     ]
    }
   ],
   "source": [
    "condstr <- \"sym_rna_only_dn\"\n",
    "\n",
    "sym_rna_only_dn <- intersect(sym_mrna_only, sym_mrna_dn)\n",
    "verb(\"sym_rna_only_dn: %d\\n\", length(sym_rna_only_dn))"
   ]
  },
  {
   "cell_type": "code",
   "execution_count": 72,
   "id": "34b66180",
   "metadata": {},
   "outputs": [
    {
     "data": {
      "text/html": [
       "<table class=\"dataframe\">\n",
       "<caption>A data.frame: 6 × 9</caption>\n",
       "<thead>\n",
       "\t<tr><th></th><th scope=col>ID</th><th scope=col>Description</th><th scope=col>GeneRatio</th><th scope=col>BgRatio</th><th scope=col>pvalue</th><th scope=col>p.adjust</th><th scope=col>qvalue</th><th scope=col>geneID</th><th scope=col>Count</th></tr>\n",
       "\t<tr><th></th><th scope=col>&lt;chr&gt;</th><th scope=col>&lt;chr&gt;</th><th scope=col>&lt;chr&gt;</th><th scope=col>&lt;chr&gt;</th><th scope=col>&lt;dbl&gt;</th><th scope=col>&lt;dbl&gt;</th><th scope=col>&lt;dbl&gt;</th><th scope=col>&lt;chr&gt;</th><th scope=col>&lt;int&gt;</th></tr>\n",
       "</thead>\n",
       "<tbody>\n",
       "\t<tr><th scope=row>GOBP_MITOTIC_NUCLEAR_DIVISION</th><td>GOBP_MITOTIC_NUCLEAR_DIVISION            </td><td>GOBP_MITOTIC_NUCLEAR_DIVISION            </td><td>49/253</td><td>291/16223</td><td>1.245350e-36</td><td>2.524325e-33</td><td>2.177396e-33</td><td>Anapc5/Anln/Aurkb/Bub1b/Ccnb2/Cdc25c/Cdca8/Cdk1/Cenpe/Cenpf/Chek2/Espl1/Fbxo5/Incenp/Kif11/Kif20b/Kif22/Kif2c/Knstrn/Kntc1/Mad2l1/Mki67/Mtbp/Mybl2/Ncapd2/Ncapd3/Ncapg/Ncapg2/Ncaph/Ndc80/Nek2/Nusap1/Plk1/Prc1/Pttg1/Racgap1/Rad21/Sgo1/Sgo2a/Smc1a/Smc2/Smc3/Smc4/Spag5/Tacc3/Tpx2/Trip13/Ttk/Vrk1  </td><td>49</td></tr>\n",
       "\t<tr><th scope=row>GOBP_DNA_CONFORMATION_CHANGE</th><td>GOBP_DNA_CONFORMATION_CHANGE             </td><td>GOBP_DNA_CONFORMATION_CHANGE             </td><td>50/253</td><td>325/16223</td><td>2.093801e-35</td><td>2.122067e-32</td><td>1.830423e-32</td><td>Anp32b/Asf1b/Cenpi/Chaf1b/Chd2/Ctcf/Dhx9/Dna2/Dnmt1/Ercc6l/H1f1/H1f3/H1f4/H1f5/H2ax/H2bc12/H2bc13/H2bc14/H2bc22/H2bc3/H2bc8/H3c10/H3c11/H3c2/H3c6/H3c8/H4c11/H4c12/H4c2/H4c3/H4c4/H4c9/Hjurp/Hmga2/Hmgb1/Hmgb3/Hnrnpa2b1/Incenp/Knl1/Mcm3/Mcm5/Ncapd2/Ncapd3/Ncapg/Ncapg2/Ncaph/Nusap1/Parp1/Smc2/Smc4</td><td>50</td></tr>\n",
       "\t<tr><th scope=row>GOBP_DNA_PACKAGING</th><td>GOBP_DNA_PACKAGING                       </td><td>GOBP_DNA_PACKAGING                       </td><td>41/253</td><td>215/16223</td><td>6.340439e-33</td><td>4.284023e-30</td><td>3.695252e-30</td><td>Anp32b/Asf1b/Cenpi/Chaf1b/Ctcf/Dnmt1/H1f1/H1f3/H1f4/H1f5/H2ax/H2bc12/H2bc13/H2bc14/H2bc22/H2bc3/H2bc8/H3c10/H3c11/H3c2/H3c6/H3c8/H4c11/H4c12/H4c2/H4c3/H4c4/H4c9/Hjurp/Hmga2/Hmgb1/Incenp/Knl1/Ncapd2/Ncapd3/Ncapg/Ncapg2/Ncaph/Nusap1/Smc2/Smc4                                                      </td><td>41</td></tr>\n",
       "\t<tr><th scope=row>GOBP_CHROMOSOME_SEGREGATION</th><td>GOBP_CHROMOSOME_SEGREGATION              </td><td>GOBP_CHROMOSOME_SEGREGATION              </td><td>47/253</td><td>325/16223</td><td>5.233446e-32</td><td>2.652049e-29</td><td>2.287567e-29</td><td>Anapc5/Aurkb/Birc5/Bub1b/Cdca8/Cenpe/Cenpf/Ctcf/Ect2/Eme1/Espl1/Fancd2/Fbxo5/Hjurp/Incenp/Kif22/Kif2c/Knl1/Knstrn/Kntc1/Mad2l1/Mki67/Ncapd2/Ncapd3/Ncapg/Ncapg2/Ncaph/Ndc1/Ndc80/Nek2/Nusap1/Plk1/Pmf1/Prc1/Pttg1/Racgap1/Rad21/Sgo1/Sgo2a/Smc1a/Smc2/Smc3/Smc4/Spag5/Tacc3/Trip13/Ttk                </td><td>47</td></tr>\n",
       "\t<tr><th scope=row>GOBP_MITOTIC_SISTER_CHROMATID_SEGREGATION</th><td>GOBP_MITOTIC_SISTER_CHROMATID_SEGREGATION</td><td>GOBP_MITOTIC_SISTER_CHROMATID_SEGREGATION</td><td>36/253</td><td>160/16223</td><td>1.107631e-31</td><td>4.490335e-29</td><td>3.873210e-29</td><td>Anapc5/Aurkb/Bub1b/Cdca8/Cenpe/Cenpf/Espl1/Fbxo5/Incenp/Kif22/Kif2c/Knstrn/Kntc1/Mad2l1/Ncapd2/Ncapd3/Ncapg/Ncapg2/Ncaph/Ndc80/Nek2/Nusap1/Plk1/Prc1/Pttg1/Racgap1/Rad21/Sgo1/Sgo2a/Smc1a/Smc2/Smc4/Spag5/Tacc3/Trip13/Ttk                                                                            </td><td>36</td></tr>\n",
       "\t<tr><th scope=row>GOBP_NUCLEAR_CHROMOSOME_SEGREGATION</th><td>GOBP_NUCLEAR_CHROMOSOME_SEGREGATION      </td><td>GOBP_NUCLEAR_CHROMOSOME_SEGREGATION      </td><td>43/253</td><td>263/16223</td><td>1.409855e-31</td><td>4.762961e-29</td><td>4.108368e-29</td><td>Anapc5/Aurkb/Bub1b/Cdca8/Cenpe/Cenpf/Ctcf/Ect2/Eme1/Espl1/Fancd2/Fbxo5/Incenp/Kif22/Kif2c/Knl1/Knstrn/Kntc1/Mad2l1/Ncapd2/Ncapd3/Ncapg/Ncapg2/Ncaph/Ndc1/Ndc80/Nek2/Nusap1/Plk1/Prc1/Pttg1/Racgap1/Rad21/Sgo1/Sgo2a/Smc1a/Smc2/Smc3/Smc4/Spag5/Tacc3/Trip13/Ttk                                       </td><td>43</td></tr>\n",
       "</tbody>\n",
       "</table>\n"
      ],
      "text/latex": [
       "A data.frame: 6 × 9\n",
       "\\begin{tabular}{r|lllllllll}\n",
       "  & ID & Description & GeneRatio & BgRatio & pvalue & p.adjust & qvalue & geneID & Count\\\\\n",
       "  & <chr> & <chr> & <chr> & <chr> & <dbl> & <dbl> & <dbl> & <chr> & <int>\\\\\n",
       "\\hline\n",
       "\tGOBP\\_MITOTIC\\_NUCLEAR\\_DIVISION & GOBP\\_MITOTIC\\_NUCLEAR\\_DIVISION             & GOBP\\_MITOTIC\\_NUCLEAR\\_DIVISION             & 49/253 & 291/16223 & 1.245350e-36 & 2.524325e-33 & 2.177396e-33 & Anapc5/Anln/Aurkb/Bub1b/Ccnb2/Cdc25c/Cdca8/Cdk1/Cenpe/Cenpf/Chek2/Espl1/Fbxo5/Incenp/Kif11/Kif20b/Kif22/Kif2c/Knstrn/Kntc1/Mad2l1/Mki67/Mtbp/Mybl2/Ncapd2/Ncapd3/Ncapg/Ncapg2/Ncaph/Ndc80/Nek2/Nusap1/Plk1/Prc1/Pttg1/Racgap1/Rad21/Sgo1/Sgo2a/Smc1a/Smc2/Smc3/Smc4/Spag5/Tacc3/Tpx2/Trip13/Ttk/Vrk1   & 49\\\\\n",
       "\tGOBP\\_DNA\\_CONFORMATION\\_CHANGE & GOBP\\_DNA\\_CONFORMATION\\_CHANGE              & GOBP\\_DNA\\_CONFORMATION\\_CHANGE              & 50/253 & 325/16223 & 2.093801e-35 & 2.122067e-32 & 1.830423e-32 & Anp32b/Asf1b/Cenpi/Chaf1b/Chd2/Ctcf/Dhx9/Dna2/Dnmt1/Ercc6l/H1f1/H1f3/H1f4/H1f5/H2ax/H2bc12/H2bc13/H2bc14/H2bc22/H2bc3/H2bc8/H3c10/H3c11/H3c2/H3c6/H3c8/H4c11/H4c12/H4c2/H4c3/H4c4/H4c9/Hjurp/Hmga2/Hmgb1/Hmgb3/Hnrnpa2b1/Incenp/Knl1/Mcm3/Mcm5/Ncapd2/Ncapd3/Ncapg/Ncapg2/Ncaph/Nusap1/Parp1/Smc2/Smc4 & 50\\\\\n",
       "\tGOBP\\_DNA\\_PACKAGING & GOBP\\_DNA\\_PACKAGING                        & GOBP\\_DNA\\_PACKAGING                        & 41/253 & 215/16223 & 6.340439e-33 & 4.284023e-30 & 3.695252e-30 & Anp32b/Asf1b/Cenpi/Chaf1b/Ctcf/Dnmt1/H1f1/H1f3/H1f4/H1f5/H2ax/H2bc12/H2bc13/H2bc14/H2bc22/H2bc3/H2bc8/H3c10/H3c11/H3c2/H3c6/H3c8/H4c11/H4c12/H4c2/H4c3/H4c4/H4c9/Hjurp/Hmga2/Hmgb1/Incenp/Knl1/Ncapd2/Ncapd3/Ncapg/Ncapg2/Ncaph/Nusap1/Smc2/Smc4                                                       & 41\\\\\n",
       "\tGOBP\\_CHROMOSOME\\_SEGREGATION & GOBP\\_CHROMOSOME\\_SEGREGATION               & GOBP\\_CHROMOSOME\\_SEGREGATION               & 47/253 & 325/16223 & 5.233446e-32 & 2.652049e-29 & 2.287567e-29 & Anapc5/Aurkb/Birc5/Bub1b/Cdca8/Cenpe/Cenpf/Ctcf/Ect2/Eme1/Espl1/Fancd2/Fbxo5/Hjurp/Incenp/Kif22/Kif2c/Knl1/Knstrn/Kntc1/Mad2l1/Mki67/Ncapd2/Ncapd3/Ncapg/Ncapg2/Ncaph/Ndc1/Ndc80/Nek2/Nusap1/Plk1/Pmf1/Prc1/Pttg1/Racgap1/Rad21/Sgo1/Sgo2a/Smc1a/Smc2/Smc3/Smc4/Spag5/Tacc3/Trip13/Ttk                 & 47\\\\\n",
       "\tGOBP\\_MITOTIC\\_SISTER\\_CHROMATID\\_SEGREGATION & GOBP\\_MITOTIC\\_SISTER\\_CHROMATID\\_SEGREGATION & GOBP\\_MITOTIC\\_SISTER\\_CHROMATID\\_SEGREGATION & 36/253 & 160/16223 & 1.107631e-31 & 4.490335e-29 & 3.873210e-29 & Anapc5/Aurkb/Bub1b/Cdca8/Cenpe/Cenpf/Espl1/Fbxo5/Incenp/Kif22/Kif2c/Knstrn/Kntc1/Mad2l1/Ncapd2/Ncapd3/Ncapg/Ncapg2/Ncaph/Ndc80/Nek2/Nusap1/Plk1/Prc1/Pttg1/Racgap1/Rad21/Sgo1/Sgo2a/Smc1a/Smc2/Smc4/Spag5/Tacc3/Trip13/Ttk                                                                             & 36\\\\\n",
       "\tGOBP\\_NUCLEAR\\_CHROMOSOME\\_SEGREGATION & GOBP\\_NUCLEAR\\_CHROMOSOME\\_SEGREGATION       & GOBP\\_NUCLEAR\\_CHROMOSOME\\_SEGREGATION       & 43/253 & 263/16223 & 1.409855e-31 & 4.762961e-29 & 4.108368e-29 & Anapc5/Aurkb/Bub1b/Cdca8/Cenpe/Cenpf/Ctcf/Ect2/Eme1/Espl1/Fancd2/Fbxo5/Incenp/Kif22/Kif2c/Knl1/Knstrn/Kntc1/Mad2l1/Ncapd2/Ncapd3/Ncapg/Ncapg2/Ncaph/Ndc1/Ndc80/Nek2/Nusap1/Plk1/Prc1/Pttg1/Racgap1/Rad21/Sgo1/Sgo2a/Smc1a/Smc2/Smc3/Smc4/Spag5/Tacc3/Trip13/Ttk                                        & 43\\\\\n",
       "\\end{tabular}\n"
      ],
      "text/markdown": [
       "\n",
       "A data.frame: 6 × 9\n",
       "\n",
       "| <!--/--> | ID &lt;chr&gt; | Description &lt;chr&gt; | GeneRatio &lt;chr&gt; | BgRatio &lt;chr&gt; | pvalue &lt;dbl&gt; | p.adjust &lt;dbl&gt; | qvalue &lt;dbl&gt; | geneID &lt;chr&gt; | Count &lt;int&gt; |\n",
       "|---|---|---|---|---|---|---|---|---|---|\n",
       "| GOBP_MITOTIC_NUCLEAR_DIVISION | GOBP_MITOTIC_NUCLEAR_DIVISION             | GOBP_MITOTIC_NUCLEAR_DIVISION             | 49/253 | 291/16223 | 1.245350e-36 | 2.524325e-33 | 2.177396e-33 | Anapc5/Anln/Aurkb/Bub1b/Ccnb2/Cdc25c/Cdca8/Cdk1/Cenpe/Cenpf/Chek2/Espl1/Fbxo5/Incenp/Kif11/Kif20b/Kif22/Kif2c/Knstrn/Kntc1/Mad2l1/Mki67/Mtbp/Mybl2/Ncapd2/Ncapd3/Ncapg/Ncapg2/Ncaph/Ndc80/Nek2/Nusap1/Plk1/Prc1/Pttg1/Racgap1/Rad21/Sgo1/Sgo2a/Smc1a/Smc2/Smc3/Smc4/Spag5/Tacc3/Tpx2/Trip13/Ttk/Vrk1   | 49 |\n",
       "| GOBP_DNA_CONFORMATION_CHANGE | GOBP_DNA_CONFORMATION_CHANGE              | GOBP_DNA_CONFORMATION_CHANGE              | 50/253 | 325/16223 | 2.093801e-35 | 2.122067e-32 | 1.830423e-32 | Anp32b/Asf1b/Cenpi/Chaf1b/Chd2/Ctcf/Dhx9/Dna2/Dnmt1/Ercc6l/H1f1/H1f3/H1f4/H1f5/H2ax/H2bc12/H2bc13/H2bc14/H2bc22/H2bc3/H2bc8/H3c10/H3c11/H3c2/H3c6/H3c8/H4c11/H4c12/H4c2/H4c3/H4c4/H4c9/Hjurp/Hmga2/Hmgb1/Hmgb3/Hnrnpa2b1/Incenp/Knl1/Mcm3/Mcm5/Ncapd2/Ncapd3/Ncapg/Ncapg2/Ncaph/Nusap1/Parp1/Smc2/Smc4 | 50 |\n",
       "| GOBP_DNA_PACKAGING | GOBP_DNA_PACKAGING                        | GOBP_DNA_PACKAGING                        | 41/253 | 215/16223 | 6.340439e-33 | 4.284023e-30 | 3.695252e-30 | Anp32b/Asf1b/Cenpi/Chaf1b/Ctcf/Dnmt1/H1f1/H1f3/H1f4/H1f5/H2ax/H2bc12/H2bc13/H2bc14/H2bc22/H2bc3/H2bc8/H3c10/H3c11/H3c2/H3c6/H3c8/H4c11/H4c12/H4c2/H4c3/H4c4/H4c9/Hjurp/Hmga2/Hmgb1/Incenp/Knl1/Ncapd2/Ncapd3/Ncapg/Ncapg2/Ncaph/Nusap1/Smc2/Smc4                                                       | 41 |\n",
       "| GOBP_CHROMOSOME_SEGREGATION | GOBP_CHROMOSOME_SEGREGATION               | GOBP_CHROMOSOME_SEGREGATION               | 47/253 | 325/16223 | 5.233446e-32 | 2.652049e-29 | 2.287567e-29 | Anapc5/Aurkb/Birc5/Bub1b/Cdca8/Cenpe/Cenpf/Ctcf/Ect2/Eme1/Espl1/Fancd2/Fbxo5/Hjurp/Incenp/Kif22/Kif2c/Knl1/Knstrn/Kntc1/Mad2l1/Mki67/Ncapd2/Ncapd3/Ncapg/Ncapg2/Ncaph/Ndc1/Ndc80/Nek2/Nusap1/Plk1/Pmf1/Prc1/Pttg1/Racgap1/Rad21/Sgo1/Sgo2a/Smc1a/Smc2/Smc3/Smc4/Spag5/Tacc3/Trip13/Ttk                 | 47 |\n",
       "| GOBP_MITOTIC_SISTER_CHROMATID_SEGREGATION | GOBP_MITOTIC_SISTER_CHROMATID_SEGREGATION | GOBP_MITOTIC_SISTER_CHROMATID_SEGREGATION | 36/253 | 160/16223 | 1.107631e-31 | 4.490335e-29 | 3.873210e-29 | Anapc5/Aurkb/Bub1b/Cdca8/Cenpe/Cenpf/Espl1/Fbxo5/Incenp/Kif22/Kif2c/Knstrn/Kntc1/Mad2l1/Ncapd2/Ncapd3/Ncapg/Ncapg2/Ncaph/Ndc80/Nek2/Nusap1/Plk1/Prc1/Pttg1/Racgap1/Rad21/Sgo1/Sgo2a/Smc1a/Smc2/Smc4/Spag5/Tacc3/Trip13/Ttk                                                                             | 36 |\n",
       "| GOBP_NUCLEAR_CHROMOSOME_SEGREGATION | GOBP_NUCLEAR_CHROMOSOME_SEGREGATION       | GOBP_NUCLEAR_CHROMOSOME_SEGREGATION       | 43/253 | 263/16223 | 1.409855e-31 | 4.762961e-29 | 4.108368e-29 | Anapc5/Aurkb/Bub1b/Cdca8/Cenpe/Cenpf/Ctcf/Ect2/Eme1/Espl1/Fancd2/Fbxo5/Incenp/Kif22/Kif2c/Knl1/Knstrn/Kntc1/Mad2l1/Ncapd2/Ncapd3/Ncapg/Ncapg2/Ncaph/Ndc1/Ndc80/Nek2/Nusap1/Plk1/Prc1/Pttg1/Racgap1/Rad21/Sgo1/Sgo2a/Smc1a/Smc2/Smc3/Smc4/Spag5/Tacc3/Trip13/Ttk                                        | 43 |\n",
       "\n"
      ],
      "text/plain": [
       "                                          ID                                       \n",
       "GOBP_MITOTIC_NUCLEAR_DIVISION             GOBP_MITOTIC_NUCLEAR_DIVISION            \n",
       "GOBP_DNA_CONFORMATION_CHANGE              GOBP_DNA_CONFORMATION_CHANGE             \n",
       "GOBP_DNA_PACKAGING                        GOBP_DNA_PACKAGING                       \n",
       "GOBP_CHROMOSOME_SEGREGATION               GOBP_CHROMOSOME_SEGREGATION              \n",
       "GOBP_MITOTIC_SISTER_CHROMATID_SEGREGATION GOBP_MITOTIC_SISTER_CHROMATID_SEGREGATION\n",
       "GOBP_NUCLEAR_CHROMOSOME_SEGREGATION       GOBP_NUCLEAR_CHROMOSOME_SEGREGATION      \n",
       "                                          Description                              \n",
       "GOBP_MITOTIC_NUCLEAR_DIVISION             GOBP_MITOTIC_NUCLEAR_DIVISION            \n",
       "GOBP_DNA_CONFORMATION_CHANGE              GOBP_DNA_CONFORMATION_CHANGE             \n",
       "GOBP_DNA_PACKAGING                        GOBP_DNA_PACKAGING                       \n",
       "GOBP_CHROMOSOME_SEGREGATION               GOBP_CHROMOSOME_SEGREGATION              \n",
       "GOBP_MITOTIC_SISTER_CHROMATID_SEGREGATION GOBP_MITOTIC_SISTER_CHROMATID_SEGREGATION\n",
       "GOBP_NUCLEAR_CHROMOSOME_SEGREGATION       GOBP_NUCLEAR_CHROMOSOME_SEGREGATION      \n",
       "                                          GeneRatio BgRatio   pvalue      \n",
       "GOBP_MITOTIC_NUCLEAR_DIVISION             49/253    291/16223 1.245350e-36\n",
       "GOBP_DNA_CONFORMATION_CHANGE              50/253    325/16223 2.093801e-35\n",
       "GOBP_DNA_PACKAGING                        41/253    215/16223 6.340439e-33\n",
       "GOBP_CHROMOSOME_SEGREGATION               47/253    325/16223 5.233446e-32\n",
       "GOBP_MITOTIC_SISTER_CHROMATID_SEGREGATION 36/253    160/16223 1.107631e-31\n",
       "GOBP_NUCLEAR_CHROMOSOME_SEGREGATION       43/253    263/16223 1.409855e-31\n",
       "                                          p.adjust     qvalue      \n",
       "GOBP_MITOTIC_NUCLEAR_DIVISION             2.524325e-33 2.177396e-33\n",
       "GOBP_DNA_CONFORMATION_CHANGE              2.122067e-32 1.830423e-32\n",
       "GOBP_DNA_PACKAGING                        4.284023e-30 3.695252e-30\n",
       "GOBP_CHROMOSOME_SEGREGATION               2.652049e-29 2.287567e-29\n",
       "GOBP_MITOTIC_SISTER_CHROMATID_SEGREGATION 4.490335e-29 3.873210e-29\n",
       "GOBP_NUCLEAR_CHROMOSOME_SEGREGATION       4.762961e-29 4.108368e-29\n",
       "                                          geneID                                                                                                                                                                                                                                                                                                \n",
       "GOBP_MITOTIC_NUCLEAR_DIVISION             Anapc5/Anln/Aurkb/Bub1b/Ccnb2/Cdc25c/Cdca8/Cdk1/Cenpe/Cenpf/Chek2/Espl1/Fbxo5/Incenp/Kif11/Kif20b/Kif22/Kif2c/Knstrn/Kntc1/Mad2l1/Mki67/Mtbp/Mybl2/Ncapd2/Ncapd3/Ncapg/Ncapg2/Ncaph/Ndc80/Nek2/Nusap1/Plk1/Prc1/Pttg1/Racgap1/Rad21/Sgo1/Sgo2a/Smc1a/Smc2/Smc3/Smc4/Spag5/Tacc3/Tpx2/Trip13/Ttk/Vrk1  \n",
       "GOBP_DNA_CONFORMATION_CHANGE              Anp32b/Asf1b/Cenpi/Chaf1b/Chd2/Ctcf/Dhx9/Dna2/Dnmt1/Ercc6l/H1f1/H1f3/H1f4/H1f5/H2ax/H2bc12/H2bc13/H2bc14/H2bc22/H2bc3/H2bc8/H3c10/H3c11/H3c2/H3c6/H3c8/H4c11/H4c12/H4c2/H4c3/H4c4/H4c9/Hjurp/Hmga2/Hmgb1/Hmgb3/Hnrnpa2b1/Incenp/Knl1/Mcm3/Mcm5/Ncapd2/Ncapd3/Ncapg/Ncapg2/Ncaph/Nusap1/Parp1/Smc2/Smc4\n",
       "GOBP_DNA_PACKAGING                        Anp32b/Asf1b/Cenpi/Chaf1b/Ctcf/Dnmt1/H1f1/H1f3/H1f4/H1f5/H2ax/H2bc12/H2bc13/H2bc14/H2bc22/H2bc3/H2bc8/H3c10/H3c11/H3c2/H3c6/H3c8/H4c11/H4c12/H4c2/H4c3/H4c4/H4c9/Hjurp/Hmga2/Hmgb1/Incenp/Knl1/Ncapd2/Ncapd3/Ncapg/Ncapg2/Ncaph/Nusap1/Smc2/Smc4                                                      \n",
       "GOBP_CHROMOSOME_SEGREGATION               Anapc5/Aurkb/Birc5/Bub1b/Cdca8/Cenpe/Cenpf/Ctcf/Ect2/Eme1/Espl1/Fancd2/Fbxo5/Hjurp/Incenp/Kif22/Kif2c/Knl1/Knstrn/Kntc1/Mad2l1/Mki67/Ncapd2/Ncapd3/Ncapg/Ncapg2/Ncaph/Ndc1/Ndc80/Nek2/Nusap1/Plk1/Pmf1/Prc1/Pttg1/Racgap1/Rad21/Sgo1/Sgo2a/Smc1a/Smc2/Smc3/Smc4/Spag5/Tacc3/Trip13/Ttk                \n",
       "GOBP_MITOTIC_SISTER_CHROMATID_SEGREGATION Anapc5/Aurkb/Bub1b/Cdca8/Cenpe/Cenpf/Espl1/Fbxo5/Incenp/Kif22/Kif2c/Knstrn/Kntc1/Mad2l1/Ncapd2/Ncapd3/Ncapg/Ncapg2/Ncaph/Ndc80/Nek2/Nusap1/Plk1/Prc1/Pttg1/Racgap1/Rad21/Sgo1/Sgo2a/Smc1a/Smc2/Smc4/Spag5/Tacc3/Trip13/Ttk                                                                            \n",
       "GOBP_NUCLEAR_CHROMOSOME_SEGREGATION       Anapc5/Aurkb/Bub1b/Cdca8/Cenpe/Cenpf/Ctcf/Ect2/Eme1/Espl1/Fancd2/Fbxo5/Incenp/Kif22/Kif2c/Knl1/Knstrn/Kntc1/Mad2l1/Ncapd2/Ncapd3/Ncapg/Ncapg2/Ncaph/Ndc1/Ndc80/Nek2/Nusap1/Plk1/Prc1/Pttg1/Racgap1/Rad21/Sgo1/Sgo2a/Smc1a/Smc2/Smc3/Smc4/Spag5/Tacc3/Trip13/Ttk                                       \n",
       "                                          Count\n",
       "GOBP_MITOTIC_NUCLEAR_DIVISION             49   \n",
       "GOBP_DNA_CONFORMATION_CHANGE              50   \n",
       "GOBP_DNA_PACKAGING                        41   \n",
       "GOBP_CHROMOSOME_SEGREGATION               47   \n",
       "GOBP_MITOTIC_SISTER_CHROMATID_SEGREGATION 36   \n",
       "GOBP_NUCLEAR_CHROMOSOME_SEGREGATION       43   "
      ]
     },
     "metadata": {},
     "output_type": "display_data"
    },
    {
     "data": {
      "text/html": [
       "<table class=\"dataframe\">\n",
       "<caption>A data.frame: 6 × 9</caption>\n",
       "<thead>\n",
       "\t<tr><th></th><th scope=col>ID</th><th scope=col>Description</th><th scope=col>GeneRatio</th><th scope=col>BgRatio</th><th scope=col>pvalue</th><th scope=col>p.adjust</th><th scope=col>qvalue</th><th scope=col>geneID</th><th scope=col>Count</th></tr>\n",
       "\t<tr><th></th><th scope=col>&lt;chr&gt;</th><th scope=col>&lt;chr&gt;</th><th scope=col>&lt;chr&gt;</th><th scope=col>&lt;chr&gt;</th><th scope=col>&lt;dbl&gt;</th><th scope=col>&lt;dbl&gt;</th><th scope=col>&lt;dbl&gt;</th><th scope=col>&lt;chr&gt;</th><th scope=col>&lt;int&gt;</th></tr>\n",
       "</thead>\n",
       "<tbody>\n",
       "\t<tr><th scope=row>GOCC_CHROMOSOMAL_REGION</th><td>GOCC_CHROMOSOMAL_REGION           </td><td>GOCC_CHROMOSOMAL_REGION           </td><td>58/235</td><td>341/13139</td><td>9.804853e-41</td><td>2.421799e-38</td><td>1.888724e-38</td><td>Atf7/Aurkb/Birc5/Bub1b/Cbx5/Cdca8/Cdk1/Cenpe/Cenpf/Cenpi/Chek2/Ctcf/Dna2/Ercc6l/Ezh2/H2ax/H2bc3/H4c11/H4c12/H4c2/H4c3/H4c4/H4c9/Hjurp/Hnrnpa2b1/Incenp/Kif22/Kif2c/Knl1/Knstrn/Kntc1/Mad2l1/Mcm3/Mcm5/Msh2/Mtbp/Ncapd2/Ncapd3/Ncapg/Ndc80/Nek2/Nup107/Nup160/Parp1/Pcna/Phf6/Plk1/Pmf1/Rad21/Sgo1/Sgo2a/Smc1a/Smc3/Smc4/Spag5/Spc24/Ssb/Ttk</td><td>58</td></tr>\n",
       "\t<tr><th scope=row>GOCC_DNA_PACKAGING_COMPLEX</th><td>GOCC_DNA_PACKAGING_COMPLEX        </td><td>GOCC_DNA_PACKAGING_COMPLEX        </td><td>36/235</td><td>101/13139</td><td>8.904585e-38</td><td>1.099716e-35</td><td>8.576521e-36</td><td>H1f1/H1f3/H1f4/H1f5/H2ac10/H2ac15/H2ac22/H2ac4/H2ac6/H2ac7/H2ac8/H2ax/H2bc12/H2bc13/H2bc14/H2bc22/H2bc3/H2bc8/H3c10/H3c11/H3c2/H3c6/H3c8/H4c11/H4c12/H4c2/H4c3/H4c4/H4c9/Ncapd2/Ncapd3/Ncapg/Ncapg2/Ncaph/Smc2/Smc4                                                                                                                        </td><td>36</td></tr>\n",
       "\t<tr><th scope=row>GOCC_CHROMOSOME_CENTROMERIC_REGION</th><td>GOCC_CHROMOSOME_CENTROMERIC_REGION</td><td>GOCC_CHROMOSOME_CENTROMERIC_REGION</td><td>38/235</td><td>196/13139</td><td>8.820953e-29</td><td>7.262585e-27</td><td>5.663981e-27</td><td>Aurkb/Birc5/Bub1b/Cbx5/Cdca8/Cenpe/Cenpf/Cenpi/Ctcf/Ercc6l/Hjurp/Incenp/Kif22/Kif2c/Knl1/Knstrn/Kntc1/Mad2l1/Mtbp/Ncapd2/Ncapd3/Ncapg/Ndc80/Nek2/Nup107/Nup160/Phf6/Plk1/Pmf1/Rad21/Sgo1/Sgo2a/Smc1a/Smc3/Smc4/Spag5/Spc24/Ttk                                                                                                             </td><td>38</td></tr>\n",
       "\t<tr><th scope=row>GOCC_PROTEIN_DNA_COMPLEX</th><td>GOCC_PROTEIN_DNA_COMPLEX          </td><td>GOCC_PROTEIN_DNA_COMPLEX          </td><td>37/235</td><td>191/13139</td><td>5.089596e-28</td><td>3.142825e-26</td><td>2.451042e-26</td><td>Cdc45/Donson/H1f1/H1f3/H1f4/H1f5/H2ac10/H2ac15/H2ac22/H2ac4/H2ac6/H2ac7/H2ac8/H2ax/H2bc12/H2bc13/H2bc14/H2bc22/H2bc3/H2bc8/H3c10/H3c11/H3c2/H3c6/H3c8/H4c11/H4c12/H4c2/H4c3/H4c4/H4c9/Hmga2/Mcm3/Mcm5/Parp1/Pcna/Pola1                                                                                                                     </td><td>37</td></tr>\n",
       "\t<tr><th scope=row>GOCC_CONDENSED_CHROMOSOME</th><td>GOCC_CONDENSED_CHROMOSOME         </td><td>GOCC_CONDENSED_CHROMOSOME         </td><td>36/235</td><td>215/13139</td><td>5.855965e-25</td><td>2.892847e-23</td><td>2.256087e-23</td><td>Add3/Aurkb/Birc5/Bub1b/Cenpe/Cenpf/Ctcf/Ercc6l/Fancd2/H2ax/Hjurp/Hmgb1/Incenp/Kif2c/Knl1/Knstrn/Kntc1/Mad2l1/Mki67/Ncapd2/Ncapd3/Ncapg/Ndc80/Nek2/Nup107/Phf6/Plk1/Pmf1/Rad21/Sgo1/Sgo2a/Smc1a/Smc2/Smc3/Spag5/Spc24                                                                                                                       </td><td>36</td></tr>\n",
       "\t<tr><th scope=row>GOCC_KINETOCHORE</th><td>GOCC_KINETOCHORE                  </td><td>GOCC_KINETOCHORE                  </td><td>30/235</td><td>137/13139</td><td>1.685292e-24</td><td>6.937784e-23</td><td>5.410673e-23</td><td>Aurkb/Birc5/Bub1b/Cbx5/Cenpe/Cenpf/Cenpi/Ercc6l/Hjurp/Incenp/Kif22/Kif2c/Knl1/Knstrn/Kntc1/Mad2l1/Mtbp/Ndc80/Nek2/Nup107/Nup160/Phf6/Plk1/Pmf1/Sgo1/Sgo2a/Smc1a/Spag5/Spc24/Ttk                                                                                                                                                            </td><td>30</td></tr>\n",
       "</tbody>\n",
       "</table>\n"
      ],
      "text/latex": [
       "A data.frame: 6 × 9\n",
       "\\begin{tabular}{r|lllllllll}\n",
       "  & ID & Description & GeneRatio & BgRatio & pvalue & p.adjust & qvalue & geneID & Count\\\\\n",
       "  & <chr> & <chr> & <chr> & <chr> & <dbl> & <dbl> & <dbl> & <chr> & <int>\\\\\n",
       "\\hline\n",
       "\tGOCC\\_CHROMOSOMAL\\_REGION & GOCC\\_CHROMOSOMAL\\_REGION            & GOCC\\_CHROMOSOMAL\\_REGION            & 58/235 & 341/13139 & 9.804853e-41 & 2.421799e-38 & 1.888724e-38 & Atf7/Aurkb/Birc5/Bub1b/Cbx5/Cdca8/Cdk1/Cenpe/Cenpf/Cenpi/Chek2/Ctcf/Dna2/Ercc6l/Ezh2/H2ax/H2bc3/H4c11/H4c12/H4c2/H4c3/H4c4/H4c9/Hjurp/Hnrnpa2b1/Incenp/Kif22/Kif2c/Knl1/Knstrn/Kntc1/Mad2l1/Mcm3/Mcm5/Msh2/Mtbp/Ncapd2/Ncapd3/Ncapg/Ndc80/Nek2/Nup107/Nup160/Parp1/Pcna/Phf6/Plk1/Pmf1/Rad21/Sgo1/Sgo2a/Smc1a/Smc3/Smc4/Spag5/Spc24/Ssb/Ttk & 58\\\\\n",
       "\tGOCC\\_DNA\\_PACKAGING\\_COMPLEX & GOCC\\_DNA\\_PACKAGING\\_COMPLEX         & GOCC\\_DNA\\_PACKAGING\\_COMPLEX         & 36/235 & 101/13139 & 8.904585e-38 & 1.099716e-35 & 8.576521e-36 & H1f1/H1f3/H1f4/H1f5/H2ac10/H2ac15/H2ac22/H2ac4/H2ac6/H2ac7/H2ac8/H2ax/H2bc12/H2bc13/H2bc14/H2bc22/H2bc3/H2bc8/H3c10/H3c11/H3c2/H3c6/H3c8/H4c11/H4c12/H4c2/H4c3/H4c4/H4c9/Ncapd2/Ncapd3/Ncapg/Ncapg2/Ncaph/Smc2/Smc4                                                                                                                         & 36\\\\\n",
       "\tGOCC\\_CHROMOSOME\\_CENTROMERIC\\_REGION & GOCC\\_CHROMOSOME\\_CENTROMERIC\\_REGION & GOCC\\_CHROMOSOME\\_CENTROMERIC\\_REGION & 38/235 & 196/13139 & 8.820953e-29 & 7.262585e-27 & 5.663981e-27 & Aurkb/Birc5/Bub1b/Cbx5/Cdca8/Cenpe/Cenpf/Cenpi/Ctcf/Ercc6l/Hjurp/Incenp/Kif22/Kif2c/Knl1/Knstrn/Kntc1/Mad2l1/Mtbp/Ncapd2/Ncapd3/Ncapg/Ndc80/Nek2/Nup107/Nup160/Phf6/Plk1/Pmf1/Rad21/Sgo1/Sgo2a/Smc1a/Smc3/Smc4/Spag5/Spc24/Ttk                                                                                                              & 38\\\\\n",
       "\tGOCC\\_PROTEIN\\_DNA\\_COMPLEX & GOCC\\_PROTEIN\\_DNA\\_COMPLEX           & GOCC\\_PROTEIN\\_DNA\\_COMPLEX           & 37/235 & 191/13139 & 5.089596e-28 & 3.142825e-26 & 2.451042e-26 & Cdc45/Donson/H1f1/H1f3/H1f4/H1f5/H2ac10/H2ac15/H2ac22/H2ac4/H2ac6/H2ac7/H2ac8/H2ax/H2bc12/H2bc13/H2bc14/H2bc22/H2bc3/H2bc8/H3c10/H3c11/H3c2/H3c6/H3c8/H4c11/H4c12/H4c2/H4c3/H4c4/H4c9/Hmga2/Mcm3/Mcm5/Parp1/Pcna/Pola1                                                                                                                      & 37\\\\\n",
       "\tGOCC\\_CONDENSED\\_CHROMOSOME & GOCC\\_CONDENSED\\_CHROMOSOME          & GOCC\\_CONDENSED\\_CHROMOSOME          & 36/235 & 215/13139 & 5.855965e-25 & 2.892847e-23 & 2.256087e-23 & Add3/Aurkb/Birc5/Bub1b/Cenpe/Cenpf/Ctcf/Ercc6l/Fancd2/H2ax/Hjurp/Hmgb1/Incenp/Kif2c/Knl1/Knstrn/Kntc1/Mad2l1/Mki67/Ncapd2/Ncapd3/Ncapg/Ndc80/Nek2/Nup107/Phf6/Plk1/Pmf1/Rad21/Sgo1/Sgo2a/Smc1a/Smc2/Smc3/Spag5/Spc24                                                                                                                        & 36\\\\\n",
       "\tGOCC\\_KINETOCHORE & GOCC\\_KINETOCHORE                   & GOCC\\_KINETOCHORE                   & 30/235 & 137/13139 & 1.685292e-24 & 6.937784e-23 & 5.410673e-23 & Aurkb/Birc5/Bub1b/Cbx5/Cenpe/Cenpf/Cenpi/Ercc6l/Hjurp/Incenp/Kif22/Kif2c/Knl1/Knstrn/Kntc1/Mad2l1/Mtbp/Ndc80/Nek2/Nup107/Nup160/Phf6/Plk1/Pmf1/Sgo1/Sgo2a/Smc1a/Spag5/Spc24/Ttk                                                                                                                                                             & 30\\\\\n",
       "\\end{tabular}\n"
      ],
      "text/markdown": [
       "\n",
       "A data.frame: 6 × 9\n",
       "\n",
       "| <!--/--> | ID &lt;chr&gt; | Description &lt;chr&gt; | GeneRatio &lt;chr&gt; | BgRatio &lt;chr&gt; | pvalue &lt;dbl&gt; | p.adjust &lt;dbl&gt; | qvalue &lt;dbl&gt; | geneID &lt;chr&gt; | Count &lt;int&gt; |\n",
       "|---|---|---|---|---|---|---|---|---|---|\n",
       "| GOCC_CHROMOSOMAL_REGION | GOCC_CHROMOSOMAL_REGION            | GOCC_CHROMOSOMAL_REGION            | 58/235 | 341/13139 | 9.804853e-41 | 2.421799e-38 | 1.888724e-38 | Atf7/Aurkb/Birc5/Bub1b/Cbx5/Cdca8/Cdk1/Cenpe/Cenpf/Cenpi/Chek2/Ctcf/Dna2/Ercc6l/Ezh2/H2ax/H2bc3/H4c11/H4c12/H4c2/H4c3/H4c4/H4c9/Hjurp/Hnrnpa2b1/Incenp/Kif22/Kif2c/Knl1/Knstrn/Kntc1/Mad2l1/Mcm3/Mcm5/Msh2/Mtbp/Ncapd2/Ncapd3/Ncapg/Ndc80/Nek2/Nup107/Nup160/Parp1/Pcna/Phf6/Plk1/Pmf1/Rad21/Sgo1/Sgo2a/Smc1a/Smc3/Smc4/Spag5/Spc24/Ssb/Ttk | 58 |\n",
       "| GOCC_DNA_PACKAGING_COMPLEX | GOCC_DNA_PACKAGING_COMPLEX         | GOCC_DNA_PACKAGING_COMPLEX         | 36/235 | 101/13139 | 8.904585e-38 | 1.099716e-35 | 8.576521e-36 | H1f1/H1f3/H1f4/H1f5/H2ac10/H2ac15/H2ac22/H2ac4/H2ac6/H2ac7/H2ac8/H2ax/H2bc12/H2bc13/H2bc14/H2bc22/H2bc3/H2bc8/H3c10/H3c11/H3c2/H3c6/H3c8/H4c11/H4c12/H4c2/H4c3/H4c4/H4c9/Ncapd2/Ncapd3/Ncapg/Ncapg2/Ncaph/Smc2/Smc4                                                                                                                         | 36 |\n",
       "| GOCC_CHROMOSOME_CENTROMERIC_REGION | GOCC_CHROMOSOME_CENTROMERIC_REGION | GOCC_CHROMOSOME_CENTROMERIC_REGION | 38/235 | 196/13139 | 8.820953e-29 | 7.262585e-27 | 5.663981e-27 | Aurkb/Birc5/Bub1b/Cbx5/Cdca8/Cenpe/Cenpf/Cenpi/Ctcf/Ercc6l/Hjurp/Incenp/Kif22/Kif2c/Knl1/Knstrn/Kntc1/Mad2l1/Mtbp/Ncapd2/Ncapd3/Ncapg/Ndc80/Nek2/Nup107/Nup160/Phf6/Plk1/Pmf1/Rad21/Sgo1/Sgo2a/Smc1a/Smc3/Smc4/Spag5/Spc24/Ttk                                                                                                              | 38 |\n",
       "| GOCC_PROTEIN_DNA_COMPLEX | GOCC_PROTEIN_DNA_COMPLEX           | GOCC_PROTEIN_DNA_COMPLEX           | 37/235 | 191/13139 | 5.089596e-28 | 3.142825e-26 | 2.451042e-26 | Cdc45/Donson/H1f1/H1f3/H1f4/H1f5/H2ac10/H2ac15/H2ac22/H2ac4/H2ac6/H2ac7/H2ac8/H2ax/H2bc12/H2bc13/H2bc14/H2bc22/H2bc3/H2bc8/H3c10/H3c11/H3c2/H3c6/H3c8/H4c11/H4c12/H4c2/H4c3/H4c4/H4c9/Hmga2/Mcm3/Mcm5/Parp1/Pcna/Pola1                                                                                                                      | 37 |\n",
       "| GOCC_CONDENSED_CHROMOSOME | GOCC_CONDENSED_CHROMOSOME          | GOCC_CONDENSED_CHROMOSOME          | 36/235 | 215/13139 | 5.855965e-25 | 2.892847e-23 | 2.256087e-23 | Add3/Aurkb/Birc5/Bub1b/Cenpe/Cenpf/Ctcf/Ercc6l/Fancd2/H2ax/Hjurp/Hmgb1/Incenp/Kif2c/Knl1/Knstrn/Kntc1/Mad2l1/Mki67/Ncapd2/Ncapd3/Ncapg/Ndc80/Nek2/Nup107/Phf6/Plk1/Pmf1/Rad21/Sgo1/Sgo2a/Smc1a/Smc2/Smc3/Spag5/Spc24                                                                                                                        | 36 |\n",
       "| GOCC_KINETOCHORE | GOCC_KINETOCHORE                   | GOCC_KINETOCHORE                   | 30/235 | 137/13139 | 1.685292e-24 | 6.937784e-23 | 5.410673e-23 | Aurkb/Birc5/Bub1b/Cbx5/Cenpe/Cenpf/Cenpi/Ercc6l/Hjurp/Incenp/Kif22/Kif2c/Knl1/Knstrn/Kntc1/Mad2l1/Mtbp/Ndc80/Nek2/Nup107/Nup160/Phf6/Plk1/Pmf1/Sgo1/Sgo2a/Smc1a/Spag5/Spc24/Ttk                                                                                                                                                             | 30 |\n",
       "\n"
      ],
      "text/plain": [
       "                                   ID                                \n",
       "GOCC_CHROMOSOMAL_REGION            GOCC_CHROMOSOMAL_REGION           \n",
       "GOCC_DNA_PACKAGING_COMPLEX         GOCC_DNA_PACKAGING_COMPLEX        \n",
       "GOCC_CHROMOSOME_CENTROMERIC_REGION GOCC_CHROMOSOME_CENTROMERIC_REGION\n",
       "GOCC_PROTEIN_DNA_COMPLEX           GOCC_PROTEIN_DNA_COMPLEX          \n",
       "GOCC_CONDENSED_CHROMOSOME          GOCC_CONDENSED_CHROMOSOME         \n",
       "GOCC_KINETOCHORE                   GOCC_KINETOCHORE                  \n",
       "                                   Description                        GeneRatio\n",
       "GOCC_CHROMOSOMAL_REGION            GOCC_CHROMOSOMAL_REGION            58/235   \n",
       "GOCC_DNA_PACKAGING_COMPLEX         GOCC_DNA_PACKAGING_COMPLEX         36/235   \n",
       "GOCC_CHROMOSOME_CENTROMERIC_REGION GOCC_CHROMOSOME_CENTROMERIC_REGION 38/235   \n",
       "GOCC_PROTEIN_DNA_COMPLEX           GOCC_PROTEIN_DNA_COMPLEX           37/235   \n",
       "GOCC_CONDENSED_CHROMOSOME          GOCC_CONDENSED_CHROMOSOME          36/235   \n",
       "GOCC_KINETOCHORE                   GOCC_KINETOCHORE                   30/235   \n",
       "                                   BgRatio   pvalue       p.adjust    \n",
       "GOCC_CHROMOSOMAL_REGION            341/13139 9.804853e-41 2.421799e-38\n",
       "GOCC_DNA_PACKAGING_COMPLEX         101/13139 8.904585e-38 1.099716e-35\n",
       "GOCC_CHROMOSOME_CENTROMERIC_REGION 196/13139 8.820953e-29 7.262585e-27\n",
       "GOCC_PROTEIN_DNA_COMPLEX           191/13139 5.089596e-28 3.142825e-26\n",
       "GOCC_CONDENSED_CHROMOSOME          215/13139 5.855965e-25 2.892847e-23\n",
       "GOCC_KINETOCHORE                   137/13139 1.685292e-24 6.937784e-23\n",
       "                                   qvalue      \n",
       "GOCC_CHROMOSOMAL_REGION            1.888724e-38\n",
       "GOCC_DNA_PACKAGING_COMPLEX         8.576521e-36\n",
       "GOCC_CHROMOSOME_CENTROMERIC_REGION 5.663981e-27\n",
       "GOCC_PROTEIN_DNA_COMPLEX           2.451042e-26\n",
       "GOCC_CONDENSED_CHROMOSOME          2.256087e-23\n",
       "GOCC_KINETOCHORE                   5.410673e-23\n",
       "                                   geneID                                                                                                                                                                                                                                                                                                                                     \n",
       "GOCC_CHROMOSOMAL_REGION            Atf7/Aurkb/Birc5/Bub1b/Cbx5/Cdca8/Cdk1/Cenpe/Cenpf/Cenpi/Chek2/Ctcf/Dna2/Ercc6l/Ezh2/H2ax/H2bc3/H4c11/H4c12/H4c2/H4c3/H4c4/H4c9/Hjurp/Hnrnpa2b1/Incenp/Kif22/Kif2c/Knl1/Knstrn/Kntc1/Mad2l1/Mcm3/Mcm5/Msh2/Mtbp/Ncapd2/Ncapd3/Ncapg/Ndc80/Nek2/Nup107/Nup160/Parp1/Pcna/Phf6/Plk1/Pmf1/Rad21/Sgo1/Sgo2a/Smc1a/Smc3/Smc4/Spag5/Spc24/Ssb/Ttk\n",
       "GOCC_DNA_PACKAGING_COMPLEX         H1f1/H1f3/H1f4/H1f5/H2ac10/H2ac15/H2ac22/H2ac4/H2ac6/H2ac7/H2ac8/H2ax/H2bc12/H2bc13/H2bc14/H2bc22/H2bc3/H2bc8/H3c10/H3c11/H3c2/H3c6/H3c8/H4c11/H4c12/H4c2/H4c3/H4c4/H4c9/Ncapd2/Ncapd3/Ncapg/Ncapg2/Ncaph/Smc2/Smc4                                                                                                                        \n",
       "GOCC_CHROMOSOME_CENTROMERIC_REGION Aurkb/Birc5/Bub1b/Cbx5/Cdca8/Cenpe/Cenpf/Cenpi/Ctcf/Ercc6l/Hjurp/Incenp/Kif22/Kif2c/Knl1/Knstrn/Kntc1/Mad2l1/Mtbp/Ncapd2/Ncapd3/Ncapg/Ndc80/Nek2/Nup107/Nup160/Phf6/Plk1/Pmf1/Rad21/Sgo1/Sgo2a/Smc1a/Smc3/Smc4/Spag5/Spc24/Ttk                                                                                                             \n",
       "GOCC_PROTEIN_DNA_COMPLEX           Cdc45/Donson/H1f1/H1f3/H1f4/H1f5/H2ac10/H2ac15/H2ac22/H2ac4/H2ac6/H2ac7/H2ac8/H2ax/H2bc12/H2bc13/H2bc14/H2bc22/H2bc3/H2bc8/H3c10/H3c11/H3c2/H3c6/H3c8/H4c11/H4c12/H4c2/H4c3/H4c4/H4c9/Hmga2/Mcm3/Mcm5/Parp1/Pcna/Pola1                                                                                                                     \n",
       "GOCC_CONDENSED_CHROMOSOME          Add3/Aurkb/Birc5/Bub1b/Cenpe/Cenpf/Ctcf/Ercc6l/Fancd2/H2ax/Hjurp/Hmgb1/Incenp/Kif2c/Knl1/Knstrn/Kntc1/Mad2l1/Mki67/Ncapd2/Ncapd3/Ncapg/Ndc80/Nek2/Nup107/Phf6/Plk1/Pmf1/Rad21/Sgo1/Sgo2a/Smc1a/Smc2/Smc3/Spag5/Spc24                                                                                                                       \n",
       "GOCC_KINETOCHORE                   Aurkb/Birc5/Bub1b/Cbx5/Cenpe/Cenpf/Cenpi/Ercc6l/Hjurp/Incenp/Kif22/Kif2c/Knl1/Knstrn/Kntc1/Mad2l1/Mtbp/Ndc80/Nek2/Nup107/Nup160/Phf6/Plk1/Pmf1/Sgo1/Sgo2a/Smc1a/Spag5/Spc24/Ttk                                                                                                                                                            \n",
       "                                   Count\n",
       "GOCC_CHROMOSOMAL_REGION            58   \n",
       "GOCC_DNA_PACKAGING_COMPLEX         36   \n",
       "GOCC_CHROMOSOME_CENTROMERIC_REGION 38   \n",
       "GOCC_PROTEIN_DNA_COMPLEX           37   \n",
       "GOCC_CONDENSED_CHROMOSOME          36   \n",
       "GOCC_KINETOCHORE                   30   "
      ]
     },
     "metadata": {},
     "output_type": "display_data"
    },
    {
     "data": {
      "text/html": [
       "<table class=\"dataframe\">\n",
       "<caption>A data.frame: 6 × 9</caption>\n",
       "<thead>\n",
       "\t<tr><th></th><th scope=col>ID</th><th scope=col>Description</th><th scope=col>GeneRatio</th><th scope=col>BgRatio</th><th scope=col>pvalue</th><th scope=col>p.adjust</th><th scope=col>qvalue</th><th scope=col>geneID</th><th scope=col>Count</th></tr>\n",
       "\t<tr><th></th><th scope=col>&lt;chr&gt;</th><th scope=col>&lt;chr&gt;</th><th scope=col>&lt;chr&gt;</th><th scope=col>&lt;chr&gt;</th><th scope=col>&lt;dbl&gt;</th><th scope=col>&lt;dbl&gt;</th><th scope=col>&lt;dbl&gt;</th><th scope=col>&lt;chr&gt;</th><th scope=col>&lt;int&gt;</th></tr>\n",
       "</thead>\n",
       "<tbody>\n",
       "\t<tr><th scope=row>GOMF_PROTEIN_HETERODIMERIZATION_ACTIVITY</th><td>GOMF_PROTEIN_HETERODIMERIZATION_ACTIVITY</td><td>GOMF_PROTEIN_HETERODIMERIZATION_ACTIVITY</td><td>29/237</td><td>305/14695</td><td>1.233675e-14</td><td>4.737310e-12</td><td>4.233452e-12</td><td>Bard1/H2ac10/H2ac15/H2ac22/H2ac4/H2ac6/H2ac7/H2ac8/H2ax/H2bc12/H2bc13/H2bc14/H2bc22/H2bc3/H2bc8/H3c10/H3c11/H3c2/H3c6/H3c8/H4c11/H4c12/H4c2/H4c3/H4c4/H4c9/Smc1a/Smc3/Tcf3</td><td>29</td></tr>\n",
       "\t<tr><th scope=row>GOMF_HISTONE_BINDING</th><td>GOMF_HISTONE_BINDING                    </td><td>GOMF_HISTONE_BINDING                    </td><td>21/237</td><td>229/14695</td><td>1.329843e-10</td><td>2.553298e-08</td><td>2.281730e-08</td><td>Anp32b/Anp32e/Asf1b/Atad2/Brd3/Cbx5/Chaf1b/Chd2/Cks2/Dek/H2ax/Hjurp/L3mbtl3/Msh6/Ncapd2/Ncapd3/Ncapg2/Phf6/Suz12/Tbl1xr1/Vrk1                                             </td><td>21</td></tr>\n",
       "\t<tr><th scope=row>GOMF_MICROTUBULE_BINDING</th><td>GOMF_MICROTUBULE_BINDING                </td><td>GOMF_MICROTUBULE_BINDING                </td><td>20/237</td><td>265/14695</td><td>1.106956e-08</td><td>1.416904e-06</td><td>1.266203e-06</td><td>Birc5/Ccdc88c/Cenpe/Cenpf/Gas2l3/Kif11/Kif15/Kif20a/Kif20b/Kif22/Kif2c/Knstrn/Map1b/Nin/Nusap1/Plk1/Prc1/Racgap1/Spag5/Tpx2                                               </td><td>20</td></tr>\n",
       "\t<tr><th scope=row>GOMF_TUBULIN_BINDING</th><td>GOMF_TUBULIN_BINDING                    </td><td>GOMF_TUBULIN_BINDING                    </td><td>23/237</td><td>362/14695</td><td>2.213268e-08</td><td>2.124737e-06</td><td>1.898751e-06</td><td>Birc5/Ccdc88c/Cenpe/Cenpf/Gas2l3/Kif11/Kif15/Kif20a/Kif20b/Kif22/Kif2c/Knstrn/Map1b/Nin/Nusap1/Phf6/Plk1/Prc1/Racgap1/Smc3/Spag5/Stmn1/Tpx2                               </td><td>23</td></tr>\n",
       "\t<tr><th scope=row>GOMF_SINGLE_STRANDED_DNA_BINDING</th><td>GOMF_SINGLE_STRANDED_DNA_BINDING        </td><td>GOMF_SINGLE_STRANDED_DNA_BINDING        </td><td>11/237</td><td>115/14695</td><td>2.480895e-06</td><td>1.905327e-04</td><td>1.702677e-04</td><td>Cdc45/Dhx9/Hmgb1/Hnrnpa2b1/Mcm3/Mcm5/Msh2/Pola1/Samhd1/Smc2/Smc4                                                                                                          </td><td>11</td></tr>\n",
       "\t<tr><th scope=row>GOMF_CHROMATIN_DNA_BINDING</th><td>GOMF_CHROMATIN_DNA_BINDING              </td><td>GOMF_CHROMATIN_DNA_BINDING              </td><td>10/237</td><td>100/14695</td><td>4.789352e-06</td><td>3.065185e-04</td><td>2.739173e-04</td><td>Ctcf/Dhx9/Ezh2/H1f1/H1f3/H1f4/H1f5/Hmga2/Hmgn2/Suz12                                                                                                                      </td><td>10</td></tr>\n",
       "</tbody>\n",
       "</table>\n"
      ],
      "text/latex": [
       "A data.frame: 6 × 9\n",
       "\\begin{tabular}{r|lllllllll}\n",
       "  & ID & Description & GeneRatio & BgRatio & pvalue & p.adjust & qvalue & geneID & Count\\\\\n",
       "  & <chr> & <chr> & <chr> & <chr> & <dbl> & <dbl> & <dbl> & <chr> & <int>\\\\\n",
       "\\hline\n",
       "\tGOMF\\_PROTEIN\\_HETERODIMERIZATION\\_ACTIVITY & GOMF\\_PROTEIN\\_HETERODIMERIZATION\\_ACTIVITY & GOMF\\_PROTEIN\\_HETERODIMERIZATION\\_ACTIVITY & 29/237 & 305/14695 & 1.233675e-14 & 4.737310e-12 & 4.233452e-12 & Bard1/H2ac10/H2ac15/H2ac22/H2ac4/H2ac6/H2ac7/H2ac8/H2ax/H2bc12/H2bc13/H2bc14/H2bc22/H2bc3/H2bc8/H3c10/H3c11/H3c2/H3c6/H3c8/H4c11/H4c12/H4c2/H4c3/H4c4/H4c9/Smc1a/Smc3/Tcf3 & 29\\\\\n",
       "\tGOMF\\_HISTONE\\_BINDING & GOMF\\_HISTONE\\_BINDING                     & GOMF\\_HISTONE\\_BINDING                     & 21/237 & 229/14695 & 1.329843e-10 & 2.553298e-08 & 2.281730e-08 & Anp32b/Anp32e/Asf1b/Atad2/Brd3/Cbx5/Chaf1b/Chd2/Cks2/Dek/H2ax/Hjurp/L3mbtl3/Msh6/Ncapd2/Ncapd3/Ncapg2/Phf6/Suz12/Tbl1xr1/Vrk1                                              & 21\\\\\n",
       "\tGOMF\\_MICROTUBULE\\_BINDING & GOMF\\_MICROTUBULE\\_BINDING                 & GOMF\\_MICROTUBULE\\_BINDING                 & 20/237 & 265/14695 & 1.106956e-08 & 1.416904e-06 & 1.266203e-06 & Birc5/Ccdc88c/Cenpe/Cenpf/Gas2l3/Kif11/Kif15/Kif20a/Kif20b/Kif22/Kif2c/Knstrn/Map1b/Nin/Nusap1/Plk1/Prc1/Racgap1/Spag5/Tpx2                                                & 20\\\\\n",
       "\tGOMF\\_TUBULIN\\_BINDING & GOMF\\_TUBULIN\\_BINDING                     & GOMF\\_TUBULIN\\_BINDING                     & 23/237 & 362/14695 & 2.213268e-08 & 2.124737e-06 & 1.898751e-06 & Birc5/Ccdc88c/Cenpe/Cenpf/Gas2l3/Kif11/Kif15/Kif20a/Kif20b/Kif22/Kif2c/Knstrn/Map1b/Nin/Nusap1/Phf6/Plk1/Prc1/Racgap1/Smc3/Spag5/Stmn1/Tpx2                                & 23\\\\\n",
       "\tGOMF\\_SINGLE\\_STRANDED\\_DNA\\_BINDING & GOMF\\_SINGLE\\_STRANDED\\_DNA\\_BINDING         & GOMF\\_SINGLE\\_STRANDED\\_DNA\\_BINDING         & 11/237 & 115/14695 & 2.480895e-06 & 1.905327e-04 & 1.702677e-04 & Cdc45/Dhx9/Hmgb1/Hnrnpa2b1/Mcm3/Mcm5/Msh2/Pola1/Samhd1/Smc2/Smc4                                                                                                           & 11\\\\\n",
       "\tGOMF\\_CHROMATIN\\_DNA\\_BINDING & GOMF\\_CHROMATIN\\_DNA\\_BINDING               & GOMF\\_CHROMATIN\\_DNA\\_BINDING               & 10/237 & 100/14695 & 4.789352e-06 & 3.065185e-04 & 2.739173e-04 & Ctcf/Dhx9/Ezh2/H1f1/H1f3/H1f4/H1f5/Hmga2/Hmgn2/Suz12                                                                                                                       & 10\\\\\n",
       "\\end{tabular}\n"
      ],
      "text/markdown": [
       "\n",
       "A data.frame: 6 × 9\n",
       "\n",
       "| <!--/--> | ID &lt;chr&gt; | Description &lt;chr&gt; | GeneRatio &lt;chr&gt; | BgRatio &lt;chr&gt; | pvalue &lt;dbl&gt; | p.adjust &lt;dbl&gt; | qvalue &lt;dbl&gt; | geneID &lt;chr&gt; | Count &lt;int&gt; |\n",
       "|---|---|---|---|---|---|---|---|---|---|\n",
       "| GOMF_PROTEIN_HETERODIMERIZATION_ACTIVITY | GOMF_PROTEIN_HETERODIMERIZATION_ACTIVITY | GOMF_PROTEIN_HETERODIMERIZATION_ACTIVITY | 29/237 | 305/14695 | 1.233675e-14 | 4.737310e-12 | 4.233452e-12 | Bard1/H2ac10/H2ac15/H2ac22/H2ac4/H2ac6/H2ac7/H2ac8/H2ax/H2bc12/H2bc13/H2bc14/H2bc22/H2bc3/H2bc8/H3c10/H3c11/H3c2/H3c6/H3c8/H4c11/H4c12/H4c2/H4c3/H4c4/H4c9/Smc1a/Smc3/Tcf3 | 29 |\n",
       "| GOMF_HISTONE_BINDING | GOMF_HISTONE_BINDING                     | GOMF_HISTONE_BINDING                     | 21/237 | 229/14695 | 1.329843e-10 | 2.553298e-08 | 2.281730e-08 | Anp32b/Anp32e/Asf1b/Atad2/Brd3/Cbx5/Chaf1b/Chd2/Cks2/Dek/H2ax/Hjurp/L3mbtl3/Msh6/Ncapd2/Ncapd3/Ncapg2/Phf6/Suz12/Tbl1xr1/Vrk1                                              | 21 |\n",
       "| GOMF_MICROTUBULE_BINDING | GOMF_MICROTUBULE_BINDING                 | GOMF_MICROTUBULE_BINDING                 | 20/237 | 265/14695 | 1.106956e-08 | 1.416904e-06 | 1.266203e-06 | Birc5/Ccdc88c/Cenpe/Cenpf/Gas2l3/Kif11/Kif15/Kif20a/Kif20b/Kif22/Kif2c/Knstrn/Map1b/Nin/Nusap1/Plk1/Prc1/Racgap1/Spag5/Tpx2                                                | 20 |\n",
       "| GOMF_TUBULIN_BINDING | GOMF_TUBULIN_BINDING                     | GOMF_TUBULIN_BINDING                     | 23/237 | 362/14695 | 2.213268e-08 | 2.124737e-06 | 1.898751e-06 | Birc5/Ccdc88c/Cenpe/Cenpf/Gas2l3/Kif11/Kif15/Kif20a/Kif20b/Kif22/Kif2c/Knstrn/Map1b/Nin/Nusap1/Phf6/Plk1/Prc1/Racgap1/Smc3/Spag5/Stmn1/Tpx2                                | 23 |\n",
       "| GOMF_SINGLE_STRANDED_DNA_BINDING | GOMF_SINGLE_STRANDED_DNA_BINDING         | GOMF_SINGLE_STRANDED_DNA_BINDING         | 11/237 | 115/14695 | 2.480895e-06 | 1.905327e-04 | 1.702677e-04 | Cdc45/Dhx9/Hmgb1/Hnrnpa2b1/Mcm3/Mcm5/Msh2/Pola1/Samhd1/Smc2/Smc4                                                                                                           | 11 |\n",
       "| GOMF_CHROMATIN_DNA_BINDING | GOMF_CHROMATIN_DNA_BINDING               | GOMF_CHROMATIN_DNA_BINDING               | 10/237 | 100/14695 | 4.789352e-06 | 3.065185e-04 | 2.739173e-04 | Ctcf/Dhx9/Ezh2/H1f1/H1f3/H1f4/H1f5/Hmga2/Hmgn2/Suz12                                                                                                                       | 10 |\n",
       "\n"
      ],
      "text/plain": [
       "                                         ID                                      \n",
       "GOMF_PROTEIN_HETERODIMERIZATION_ACTIVITY GOMF_PROTEIN_HETERODIMERIZATION_ACTIVITY\n",
       "GOMF_HISTONE_BINDING                     GOMF_HISTONE_BINDING                    \n",
       "GOMF_MICROTUBULE_BINDING                 GOMF_MICROTUBULE_BINDING                \n",
       "GOMF_TUBULIN_BINDING                     GOMF_TUBULIN_BINDING                    \n",
       "GOMF_SINGLE_STRANDED_DNA_BINDING         GOMF_SINGLE_STRANDED_DNA_BINDING        \n",
       "GOMF_CHROMATIN_DNA_BINDING               GOMF_CHROMATIN_DNA_BINDING              \n",
       "                                         Description                             \n",
       "GOMF_PROTEIN_HETERODIMERIZATION_ACTIVITY GOMF_PROTEIN_HETERODIMERIZATION_ACTIVITY\n",
       "GOMF_HISTONE_BINDING                     GOMF_HISTONE_BINDING                    \n",
       "GOMF_MICROTUBULE_BINDING                 GOMF_MICROTUBULE_BINDING                \n",
       "GOMF_TUBULIN_BINDING                     GOMF_TUBULIN_BINDING                    \n",
       "GOMF_SINGLE_STRANDED_DNA_BINDING         GOMF_SINGLE_STRANDED_DNA_BINDING        \n",
       "GOMF_CHROMATIN_DNA_BINDING               GOMF_CHROMATIN_DNA_BINDING              \n",
       "                                         GeneRatio BgRatio   pvalue      \n",
       "GOMF_PROTEIN_HETERODIMERIZATION_ACTIVITY 29/237    305/14695 1.233675e-14\n",
       "GOMF_HISTONE_BINDING                     21/237    229/14695 1.329843e-10\n",
       "GOMF_MICROTUBULE_BINDING                 20/237    265/14695 1.106956e-08\n",
       "GOMF_TUBULIN_BINDING                     23/237    362/14695 2.213268e-08\n",
       "GOMF_SINGLE_STRANDED_DNA_BINDING         11/237    115/14695 2.480895e-06\n",
       "GOMF_CHROMATIN_DNA_BINDING               10/237    100/14695 4.789352e-06\n",
       "                                         p.adjust     qvalue      \n",
       "GOMF_PROTEIN_HETERODIMERIZATION_ACTIVITY 4.737310e-12 4.233452e-12\n",
       "GOMF_HISTONE_BINDING                     2.553298e-08 2.281730e-08\n",
       "GOMF_MICROTUBULE_BINDING                 1.416904e-06 1.266203e-06\n",
       "GOMF_TUBULIN_BINDING                     2.124737e-06 1.898751e-06\n",
       "GOMF_SINGLE_STRANDED_DNA_BINDING         1.905327e-04 1.702677e-04\n",
       "GOMF_CHROMATIN_DNA_BINDING               3.065185e-04 2.739173e-04\n",
       "                                         geneID                                                                                                                                                                    \n",
       "GOMF_PROTEIN_HETERODIMERIZATION_ACTIVITY Bard1/H2ac10/H2ac15/H2ac22/H2ac4/H2ac6/H2ac7/H2ac8/H2ax/H2bc12/H2bc13/H2bc14/H2bc22/H2bc3/H2bc8/H3c10/H3c11/H3c2/H3c6/H3c8/H4c11/H4c12/H4c2/H4c3/H4c4/H4c9/Smc1a/Smc3/Tcf3\n",
       "GOMF_HISTONE_BINDING                     Anp32b/Anp32e/Asf1b/Atad2/Brd3/Cbx5/Chaf1b/Chd2/Cks2/Dek/H2ax/Hjurp/L3mbtl3/Msh6/Ncapd2/Ncapd3/Ncapg2/Phf6/Suz12/Tbl1xr1/Vrk1                                             \n",
       "GOMF_MICROTUBULE_BINDING                 Birc5/Ccdc88c/Cenpe/Cenpf/Gas2l3/Kif11/Kif15/Kif20a/Kif20b/Kif22/Kif2c/Knstrn/Map1b/Nin/Nusap1/Plk1/Prc1/Racgap1/Spag5/Tpx2                                               \n",
       "GOMF_TUBULIN_BINDING                     Birc5/Ccdc88c/Cenpe/Cenpf/Gas2l3/Kif11/Kif15/Kif20a/Kif20b/Kif22/Kif2c/Knstrn/Map1b/Nin/Nusap1/Phf6/Plk1/Prc1/Racgap1/Smc3/Spag5/Stmn1/Tpx2                               \n",
       "GOMF_SINGLE_STRANDED_DNA_BINDING         Cdc45/Dhx9/Hmgb1/Hnrnpa2b1/Mcm3/Mcm5/Msh2/Pola1/Samhd1/Smc2/Smc4                                                                                                          \n",
       "GOMF_CHROMATIN_DNA_BINDING               Ctcf/Dhx9/Ezh2/H1f1/H1f3/H1f4/H1f5/Hmga2/Hmgn2/Suz12                                                                                                                      \n",
       "                                         Count\n",
       "GOMF_PROTEIN_HETERODIMERIZATION_ACTIVITY 29   \n",
       "GOMF_HISTONE_BINDING                     21   \n",
       "GOMF_MICROTUBULE_BINDING                 20   \n",
       "GOMF_TUBULIN_BINDING                     23   \n",
       "GOMF_SINGLE_STRANDED_DNA_BINDING         11   \n",
       "GOMF_CHROMATIN_DNA_BINDING               10   "
      ]
     },
     "metadata": {},
     "output_type": "display_data"
    }
   ],
   "source": [
    "library(clusterProfiler)\n",
    "library(DOSE)\n",
    "\n",
    "gmt_mus.bp <- msigdbr(species = \"mouse\", category = \"C5\", subcategory = \"GO:BP\") %>% \n",
    "  dplyr::select(gs_name, gene_symbol)\n",
    "\n",
    "gmt_mus.cc <- msigdbr(species = \"mouse\", category = \"C5\", subcategory = \"GO:CC\") %>% \n",
    "  dplyr::select(gs_name, gene_symbol)\n",
    "\n",
    "gmt_mus.mf <- msigdbr(species = \"mouse\", category = \"C5\", subcategory = \"GO:MF\") %>% \n",
    "  dplyr::select(gs_name, gene_symbol)\n",
    "#head(gmt_mus)\n",
    "set.seed(40)\n",
    "em.bp <- enricher(sym_rna_only_dn, TERM2GENE=gmt_mus.bp)\n",
    "em.cc <- enricher(sym_rna_only_dn, TERM2GENE=gmt_mus.cc)\n",
    "em.mf <- enricher(sym_rna_only_dn, TERM2GENE=gmt_mus.mf)\n",
    "head(em.bp)\n",
    "head(em.cc)\n",
    "head(em.mf)\n",
    "#egmt_rna_only_up <- enrichGO(sym_rna_only_up, org.Mm.eg.db=gmt_mus, ont='all', keyType = \"gene_symbol\",\n",
    "#                pvalueCutoff = 0.05, pAdjustMethod = \"BH\", qvalueCutoff = 0.05,\n",
    "#                minGSSize = 10, maxGSSize = 500)\n",
    "#egmt_rna_only_up <- setReadable(egmt_rna_only_up, OrgDb=org.Mm.eg.db, keyType=\"ENTREZID\")\n",
    "\n",
    "#head(egmt_rna_only_up)\n",
    "#dim(egmt_rna_only_up)\n",
    "\n",
    "write.table(em.bp, file = sprintf('table/fig1. TGFB VS CX5461.%s.go.bp.txt', condstr),\n",
    "            row.names = TRUE , col.names = NA ,  sep=\"\\t\"  , quote = FALSE  )\n",
    "\n",
    "\n",
    "write.table(em.cc, file = sprintf('table/fig1.TGFB VS CX5461.%s.go.cc.txt', condstr),\n",
    "            row.names = TRUE , col.names = NA ,  sep=\"\\t\"  , quote = FALSE  )\n",
    "\n",
    "\n",
    "write.table(em.mf, file = sprintf('table/fig1.TGFB VS CX5461.%s.go.mf.txt', condstr),\n",
    "            row.names = TRUE , col.names = NA ,  sep=\"\\t\"  , quote = FALSE  )"
   ]
  },
  {
   "cell_type": "markdown",
   "id": "5bc5400f",
   "metadata": {},
   "source": [
    "### dotplot"
   ]
  },
  {
   "cell_type": "code",
   "execution_count": 73,
   "id": "d1591a1e",
   "metadata": {},
   "outputs": [
    {
     "data": {
      "image/png": "[encoded data removed]",
      "text/plain": [
       "plot without title"
      ]
     },
     "metadata": {
      "image/png": {
       "height": 510,
       "width": 540
      }
     },
     "output_type": "display_data"
    },
    {
     "data": {
      "image/png": "[encoded data removed]",
      "text/plain": [
       "plot without title"
      ]
     },
     "metadata": {
      "image/png": {
       "height": 510,
       "width": 540
      }
     },
     "output_type": "display_data"
    },
    {
     "data": {
      "image/png": "[encoded data removed]",
      "text/plain": [
       "plot without title"
      ]
     },
     "metadata": {
      "image/png": {
       "height": 510,
       "width": 540
      }
     },
     "output_type": "display_data"
    }
   ],
   "source": [
    "n_top_egmt <- 10\n",
    "gg <- dotplot(em.bp, showCategory=n_top_egmt)\n",
    "#gg <- dotplot(em, x = \"GeneRatio\",\n",
    "#        color = \"p.adjust\", showCategory = n_top_egmt, split = \"ONTOLOGY\", font.size = 11,\n",
    "#        title = \"RNA Only Up\") + facet_grid(ONTOLOGY~., scale=\"free\")\n",
    "\n",
    "print_figure(gg, width=9, height=8.5,\n",
    "    file=sprintf(\"TGFB VS CX5461.dotplot.%s.enricher.go_top_BP%d\", condstr, n_top_egmt))\n",
    "\n",
    "\n",
    "gg <- dotplot(em.cc, showCategory=n_top_egmt)\n",
    "print_figure(gg, width=9, height=8.5,\n",
    "    file=sprintf(\"TGFB VS CX5461.dotplot.%s.enricher.go_top_CC%d\", condstr, n_top_egmt))\n",
    "\n",
    "gg <- dotplot(em.mf, showCategory=n_top_egmt)\n",
    "print_figure(gg, width=9, height=8.5,\n",
    "    file=sprintf(\"TGFB VS CX5461.dotplot.%s.enricher.go_top_MF%d\", condstr, n_top_egmt))"
   ]
  },
  {
   "cell_type": "code",
   "execution_count": null,
   "id": "56418122",
   "metadata": {},
   "outputs": [],
   "source": []
  }
 ],
 "metadata": {
  "kernelspec": {
   "display_name": "R",
   "language": "R",
   "name": "ir"
  },
  "language_info": {
   "codemirror_mode": "r",
   "file_extension": ".r",
   "mimetype": "text/x-r-source",
   "name": "R",
   "pygments_lexer": "r",
   "version": "4.1.0"
  }
 },
 "nbformat": 4,
 "nbformat_minor": 5
}
