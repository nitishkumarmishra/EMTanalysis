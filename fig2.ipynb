{
 "cells": [
  {
   "cell_type": "markdown",
   "metadata": {},
   "source": [
    "# load functions"
   ]
  },
  {
   "cell_type": "code",
   "execution_count": 1,
   "metadata": {
    "scrolled": false
   },
   "outputs": [
    {
     "data": {
      "text/html": [
       "<table class=\"dataframe\">\n",
       "<caption>A data.frame: 6 × 31</caption>\n",
       "<thead>\n",
       "\t<tr><th></th><th scope=col>seqnames</th><th scope=col>start</th><th scope=col>end</th><th scope=col>width</th><th scope=col>strand</th><th scope=col>source</th><th scope=col>unt.transcription</th><th scope=col>tgfb.transcription</th><th scope=col>tgfbCX5461.transcription</th><th scope=col>log2FCuntVStgfb.transcription</th><th scope=col>...</th><th scope=col>log2FCuntVStgfb.translation</th><th scope=col>FDRuntVStgfb.translation</th><th scope=col>PuntVStgfb.translation</th><th scope=col>log2FCtgfbVStgfbCX5461.translation</th><th scope=col>FDRtgfbVStgfbCX5461.translation</th><th scope=col>PtgfbVStgfbCX5461.translation</th><th scope=col>unt.tgfb.DEtranslation</th><th scope=col>tgfb.tgfbCX5461.DEtranslation</th><th scope=col>reversible.translation</th><th scope=col>biotype</th></tr>\n",
       "\t<tr><th></th><th scope=col>&lt;fct&gt;</th><th scope=col>&lt;int&gt;</th><th scope=col>&lt;int&gt;</th><th scope=col>&lt;int&gt;</th><th scope=col>&lt;fct&gt;</th><th scope=col>&lt;fct&gt;</th><th scope=col>&lt;dbl&gt;</th><th scope=col>&lt;dbl&gt;</th><th scope=col>&lt;dbl&gt;</th><th scope=col>&lt;dbl&gt;</th><th scope=col>...</th><th scope=col>&lt;dbl&gt;</th><th scope=col>&lt;dbl&gt;</th><th scope=col>&lt;dbl&gt;</th><th scope=col>&lt;dbl&gt;</th><th scope=col>&lt;dbl&gt;</th><th scope=col>&lt;dbl&gt;</th><th scope=col>&lt;chr&gt;</th><th scope=col>&lt;chr&gt;</th><th scope=col>&lt;chr&gt;</th><th scope=col>&lt;chr&gt;</th></tr>\n",
       "</thead>\n",
       "<tbody>\n",
       "\t<tr><th scope=row>0610009B22Rik</th><td>11</td><td> 51576213</td><td> 51579701</td><td> 3489</td><td>-</td><td>ensembl_havana</td><td>-1.7361927</td><td>-1.77777696</td><td>-1.52337076</td><td>-0.04158431</td><td>...</td><td>-0.4414281</td><td>0.30541555</td><td>0.14036813</td><td> 1.02171324</td><td>0.02919136</td><td>0.002929355</td><td>notSig</td><td>up    </td><td>notSig</td><td>protein_coding</td></tr>\n",
       "\t<tr><th scope=row>0610009E02Rik</th><td>2 </td><td> 26335708</td><td> 26349402</td><td>13695</td><td>+</td><td>havana        </td><td>-4.4542278</td><td>-5.89842646</td><td>-5.22659361</td><td>-1.44419866</td><td>...</td><td>        NA</td><td>        NA</td><td>        NA</td><td>         NA</td><td>        NA</td><td>         NA</td><td>NA    </td><td>NA    </td><td>NA    </td><td>lncRNA        </td></tr>\n",
       "\t<tr><th scope=row>0610009L18Rik</th><td>11</td><td>120239504</td><td>120242016</td><td> 2513</td><td>+</td><td>ensembl_havana</td><td>-5.7348513</td><td>-5.04982074</td><td>-5.32317910</td><td> 0.68503055</td><td>...</td><td>        NA</td><td>        NA</td><td>        NA</td><td>         NA</td><td>        NA</td><td>         NA</td><td>NA    </td><td>NA    </td><td>NA    </td><td>lncRNA        </td></tr>\n",
       "\t<tr><th scope=row>0610010F05Rik</th><td>11</td><td> 23514961</td><td> 23583639</td><td>68679</td><td>-</td><td>ensembl_havana</td><td>-0.5443124</td><td>-0.18299550</td><td>-0.57995446</td><td> 0.36131693</td><td>...</td><td> 0.3259794</td><td>0.64123254</td><td>0.45306626</td><td>-0.78689319</td><td>0.41800085</td><td>0.183428443</td><td>notSig</td><td>notSig</td><td>notSig</td><td>protein_coding</td></tr>\n",
       "\t<tr><th scope=row>0610010K14Rik</th><td>11</td><td> 70126032</td><td> 70128740</td><td> 2709</td><td>-</td><td>ensembl_havana</td><td>-1.0822802</td><td>-1.73978964</td><td>-1.85796767</td><td>-0.65750941</td><td>...</td><td>-1.4347083</td><td>0.05167993</td><td>0.01144092</td><td> 1.51410985</td><td>0.07704533</td><td>0.012849451</td><td>notSig</td><td>notSig</td><td>notSig</td><td>protein_coding</td></tr>\n",
       "\t<tr><th scope=row>0610012G03Rik</th><td>16</td><td> 31765868</td><td> 31767312</td><td> 1445</td><td>-</td><td>havana        </td><td> 0.1094487</td><td> 0.09824498</td><td> 0.09778162</td><td>-0.01120375</td><td>...</td><td>-0.5530121</td><td>0.13823240</td><td>0.04346982</td><td> 0.01520704</td><td>0.98121037</td><td>0.964044006</td><td>notSig</td><td>notSig</td><td>notSig</td><td>protein_coding</td></tr>\n",
       "</tbody>\n",
       "</table>\n"
      ],
      "text/latex": [
       "A data.frame: 6 × 31\n",
       "\\begin{tabular}{r|lllllllllllllllllllll}\n",
       "  & seqnames & start & end & width & strand & source & unt.transcription & tgfb.transcription & tgfbCX5461.transcription & log2FCuntVStgfb.transcription & ... & log2FCuntVStgfb.translation & FDRuntVStgfb.translation & PuntVStgfb.translation & log2FCtgfbVStgfbCX5461.translation & FDRtgfbVStgfbCX5461.translation & PtgfbVStgfbCX5461.translation & unt.tgfb.DEtranslation & tgfb.tgfbCX5461.DEtranslation & reversible.translation & biotype\\\\\n",
       "  & <fct> & <int> & <int> & <int> & <fct> & <fct> & <dbl> & <dbl> & <dbl> & <dbl> & ... & <dbl> & <dbl> & <dbl> & <dbl> & <dbl> & <dbl> & <chr> & <chr> & <chr> & <chr>\\\\\n",
       "\\hline\n",
       "\t0610009B22Rik & 11 &  51576213 &  51579701 &  3489 & - & ensembl\\_havana & -1.7361927 & -1.77777696 & -1.52337076 & -0.04158431 & ... & -0.4414281 & 0.30541555 & 0.14036813 &  1.02171324 & 0.02919136 & 0.002929355 & notSig & up     & notSig & protein\\_coding\\\\\n",
       "\t0610009E02Rik & 2  &  26335708 &  26349402 & 13695 & + & havana         & -4.4542278 & -5.89842646 & -5.22659361 & -1.44419866 & ... &         NA &         NA &         NA &          NA &         NA &          NA & NA     & NA     & NA     & lncRNA        \\\\\n",
       "\t0610009L18Rik & 11 & 120239504 & 120242016 &  2513 & + & ensembl\\_havana & -5.7348513 & -5.04982074 & -5.32317910 &  0.68503055 & ... &         NA &         NA &         NA &          NA &         NA &          NA & NA     & NA     & NA     & lncRNA        \\\\\n",
       "\t0610010F05Rik & 11 &  23514961 &  23583639 & 68679 & - & ensembl\\_havana & -0.5443124 & -0.18299550 & -0.57995446 &  0.36131693 & ... &  0.3259794 & 0.64123254 & 0.45306626 & -0.78689319 & 0.41800085 & 0.183428443 & notSig & notSig & notSig & protein\\_coding\\\\\n",
       "\t0610010K14Rik & 11 &  70126032 &  70128740 &  2709 & - & ensembl\\_havana & -1.0822802 & -1.73978964 & -1.85796767 & -0.65750941 & ... & -1.4347083 & 0.05167993 & 0.01144092 &  1.51410985 & 0.07704533 & 0.012849451 & notSig & notSig & notSig & protein\\_coding\\\\\n",
       "\t0610012G03Rik & 16 &  31765868 &  31767312 &  1445 & - & havana         &  0.1094487 &  0.09824498 &  0.09778162 & -0.01120375 & ... & -0.5530121 & 0.13823240 & 0.04346982 &  0.01520704 & 0.98121037 & 0.964044006 & notSig & notSig & notSig & protein\\_coding\\\\\n",
       "\\end{tabular}\n"
      ],
      "text/markdown": [
       "\n",
       "A data.frame: 6 × 31\n",
       "\n",
       "| <!--/--> | seqnames &lt;fct&gt; | start &lt;int&gt; | end &lt;int&gt; | width &lt;int&gt; | strand &lt;fct&gt; | source &lt;fct&gt; | unt.transcription &lt;dbl&gt; | tgfb.transcription &lt;dbl&gt; | tgfbCX5461.transcription &lt;dbl&gt; | log2FCuntVStgfb.transcription &lt;dbl&gt; | ... ... | log2FCuntVStgfb.translation &lt;dbl&gt; | FDRuntVStgfb.translation &lt;dbl&gt; | PuntVStgfb.translation &lt;dbl&gt; | log2FCtgfbVStgfbCX5461.translation &lt;dbl&gt; | FDRtgfbVStgfbCX5461.translation &lt;dbl&gt; | PtgfbVStgfbCX5461.translation &lt;dbl&gt; | unt.tgfb.DEtranslation &lt;chr&gt; | tgfb.tgfbCX5461.DEtranslation &lt;chr&gt; | reversible.translation &lt;chr&gt; | biotype &lt;chr&gt; |\n",
       "|---|---|---|---|---|---|---|---|---|---|---|---|---|---|---|---|---|---|---|---|---|---|\n",
       "| 0610009B22Rik | 11 |  51576213 |  51579701 |  3489 | - | ensembl_havana | -1.7361927 | -1.77777696 | -1.52337076 | -0.04158431 | ... | -0.4414281 | 0.30541555 | 0.14036813 |  1.02171324 | 0.02919136 | 0.002929355 | notSig | up     | notSig | protein_coding |\n",
       "| 0610009E02Rik | 2  |  26335708 |  26349402 | 13695 | + | havana         | -4.4542278 | -5.89842646 | -5.22659361 | -1.44419866 | ... |         NA |         NA |         NA |          NA |         NA |          NA | NA     | NA     | NA     | lncRNA         |\n",
       "| 0610009L18Rik | 11 | 120239504 | 120242016 |  2513 | + | ensembl_havana | -5.7348513 | -5.04982074 | -5.32317910 |  0.68503055 | ... |         NA |         NA |         NA |          NA |         NA |          NA | NA     | NA     | NA     | lncRNA         |\n",
       "| 0610010F05Rik | 11 |  23514961 |  23583639 | 68679 | - | ensembl_havana | -0.5443124 | -0.18299550 | -0.57995446 |  0.36131693 | ... |  0.3259794 | 0.64123254 | 0.45306626 | -0.78689319 | 0.41800085 | 0.183428443 | notSig | notSig | notSig | protein_coding |\n",
       "| 0610010K14Rik | 11 |  70126032 |  70128740 |  2709 | - | ensembl_havana | -1.0822802 | -1.73978964 | -1.85796767 | -0.65750941 | ... | -1.4347083 | 0.05167993 | 0.01144092 |  1.51410985 | 0.07704533 | 0.012849451 | notSig | notSig | notSig | protein_coding |\n",
       "| 0610012G03Rik | 16 |  31765868 |  31767312 |  1445 | - | havana         |  0.1094487 |  0.09824498 |  0.09778162 | -0.01120375 | ... | -0.5530121 | 0.13823240 | 0.04346982 |  0.01520704 | 0.98121037 | 0.964044006 | notSig | notSig | notSig | protein_coding |\n",
       "\n"
      ],
      "text/plain": [
       "              seqnames start     end       width strand source        \n",
       "0610009B22Rik 11        51576213  51579701  3489 -      ensembl_havana\n",
       "0610009E02Rik 2         26335708  26349402 13695 +      havana        \n",
       "0610009L18Rik 11       120239504 120242016  2513 +      ensembl_havana\n",
       "0610010F05Rik 11        23514961  23583639 68679 -      ensembl_havana\n",
       "0610010K14Rik 11        70126032  70128740  2709 -      ensembl_havana\n",
       "0610012G03Rik 16        31765868  31767312  1445 -      havana        \n",
       "              unt.transcription tgfb.transcription tgfbCX5461.transcription\n",
       "0610009B22Rik -1.7361927        -1.77777696        -1.52337076             \n",
       "0610009E02Rik -4.4542278        -5.89842646        -5.22659361             \n",
       "0610009L18Rik -5.7348513        -5.04982074        -5.32317910             \n",
       "0610010F05Rik -0.5443124        -0.18299550        -0.57995446             \n",
       "0610010K14Rik -1.0822802        -1.73978964        -1.85796767             \n",
       "0610012G03Rik  0.1094487         0.09824498         0.09778162             \n",
       "              log2FCuntVStgfb.transcription ... log2FCuntVStgfb.translation\n",
       "0610009B22Rik -0.04158431                   ... -0.4414281                 \n",
       "0610009E02Rik -1.44419866                   ...         NA                 \n",
       "0610009L18Rik  0.68503055                   ...         NA                 \n",
       "0610010F05Rik  0.36131693                   ...  0.3259794                 \n",
       "0610010K14Rik -0.65750941                   ... -1.4347083                 \n",
       "0610012G03Rik -0.01120375                   ... -0.5530121                 \n",
       "              FDRuntVStgfb.translation PuntVStgfb.translation\n",
       "0610009B22Rik 0.30541555               0.14036813            \n",
       "0610009E02Rik         NA                       NA            \n",
       "0610009L18Rik         NA                       NA            \n",
       "0610010F05Rik 0.64123254               0.45306626            \n",
       "0610010K14Rik 0.05167993               0.01144092            \n",
       "0610012G03Rik 0.13823240               0.04346982            \n",
       "              log2FCtgfbVStgfbCX5461.translation\n",
       "0610009B22Rik  1.02171324                       \n",
       "0610009E02Rik          NA                       \n",
       "0610009L18Rik          NA                       \n",
       "0610010F05Rik -0.78689319                       \n",
       "0610010K14Rik  1.51410985                       \n",
       "0610012G03Rik  0.01520704                       \n",
       "              FDRtgfbVStgfbCX5461.translation PtgfbVStgfbCX5461.translation\n",
       "0610009B22Rik 0.02919136                      0.002929355                  \n",
       "0610009E02Rik         NA                               NA                  \n",
       "0610009L18Rik         NA                               NA                  \n",
       "0610010F05Rik 0.41800085                      0.183428443                  \n",
       "0610010K14Rik 0.07704533                      0.012849451                  \n",
       "0610012G03Rik 0.98121037                      0.964044006                  \n",
       "              unt.tgfb.DEtranslation tgfb.tgfbCX5461.DEtranslation\n",
       "0610009B22Rik notSig                 up                           \n",
       "0610009E02Rik NA                     NA                           \n",
       "0610009L18Rik NA                     NA                           \n",
       "0610010F05Rik notSig                 notSig                       \n",
       "0610010K14Rik notSig                 notSig                       \n",
       "0610012G03Rik notSig                 notSig                       \n",
       "              reversible.translation biotype       \n",
       "0610009B22Rik notSig                 protein_coding\n",
       "0610009E02Rik NA                     lncRNA        \n",
       "0610009L18Rik NA                     lncRNA        \n",
       "0610010F05Rik notSig                 protein_coding\n",
       "0610010K14Rik notSig                 protein_coding\n",
       "0610012G03Rik notSig                 protein_coding"
      ]
     },
     "metadata": {},
     "output_type": "display_data"
    }
   ],
   "source": [
    "suppressMessages(suppressWarnings(source(\"./jupyter_common.R\")))\n",
    "#load('./rdata/jupyter_common.rdata')\n",
    "load('./rdata/riboprof_170224.rdna_rn18s_161021.rdna_rn18s_limma-voom.mrna.rdata')\n",
    "head(df_all)"
   ]
  },
  {
   "cell_type": "markdown",
   "metadata": {},
   "source": [
    "# common parameters"
   ]
  },
  {
   "cell_type": "code",
   "execution_count": 2,
   "metadata": {},
   "outputs": [
    {
     "data": {
      "text/html": [
       "'_protein_coding_wo_pseudogene'"
      ],
      "text/latex": [
       "'\\_protein\\_coding\\_wo\\_pseudogene'"
      ],
      "text/markdown": [
       "'_protein_coding_wo_pseudogene'"
      ],
      "text/plain": [
       "[1] \"_protein_coding_wo_pseudogene\""
      ]
     },
     "metadata": {},
     "output_type": "display_data"
    }
   ],
   "source": [
    "f_display_sym <- FALSE\n",
    "seed_geom_text_repel <- 40\n",
    "\n",
    "#biotype_exclude <- NULL\n",
    "biotype_exclude <- \"pseudogene\"  # current chice of fig2\n",
    "#biotype_exclude <- \"protein_coding|pseudogene\"\n",
    "\n",
    "#biotype_include <- NULL\n",
    "biotype_include <- \"protein_coding\"  # current choice of fig2\n",
    "\n",
    "# rsem with --outFilterMultimapNmax 20\n",
    "fname_appendix <- \"\"\n",
    "\n",
    "# htseq\n",
    "#fname_appendix <- \"_htseq\"\n",
    "\n",
    "if (!is.null(biotype_include)) {\n",
    "    fname_appendix <- sprintf(\"%s_%s\", fname_appendix, gsub(\"\\\\|\", \"_\", biotype_include))\n",
    "} \n",
    "if (!is.null(biotype_exclude)) {\n",
    "    fname_appendix <- sprintf(\"%s_wo_%s\", fname_appendix, gsub(\"\\\\|\", \"_\", biotype_exclude))\n",
    "} \n",
    "\n",
    "fname_appendix\n",
    "\n"
   ]
  },
  {
   "cell_type": "markdown",
   "metadata": {},
   "source": [
    "# common variables"
   ]
  },
  {
   "cell_type": "code",
   "execution_count": 3,
   "metadata": {
    "scrolled": false
   },
   "outputs": [
    {
     "name": "stdout",
     "output_type": "stream",
     "text": [
      "              seqnames     start       end width strand         source\n",
      "1810014B01Rik       10  86521389  86530670  9282      +         havana\n",
      "2610005L07Rik        8  20016466  20055498 39033      +         havana\n",
      "2700099C18Rik       17  95057528  95082560 25033      +         havana\n",
      "2810025M15Rik        1 157239922 157247806  7885      + ensembl_havana\n",
      "3000002C10Rik        9 109657011 109661774  4764      - ensembl_havana\n",
      "3110053B16Rik       12  20924126  20971263 47138      -         havana\n",
      "              unt.transcription tgfb.transcription tgfbCX5461.transcription\n",
      "1810014B01Rik        -2.8286057         -4.4853001               -4.1425466\n",
      "2610005L07Rik        -0.3642834         -0.3366501               -0.4971759\n",
      "2700099C18Rik        -3.1993504         -4.2285648               -5.3041198\n",
      "2810025M15Rik        -0.6030111         -0.7441168               -0.9447124\n",
      "3000002C10Rik        -3.3429596         -4.1075866               -3.9474193\n",
      "3110053B16Rik        -3.9591801         -3.9958193               -3.8926421\n",
      "              log2FCuntVStgfb.transcription FDRuntVStgfb.transcription\n",
      "1810014B01Rik                   -1.65669444               8.350319e-05\n",
      "2610005L07Rik                    0.02763331               8.547750e-01\n",
      "2700099C18Rik                   -1.02921442               1.354106e-02\n",
      "2810025M15Rik                   -0.14110568               3.352852e-01\n",
      "3000002C10Rik                   -0.76462696               6.746396e-02\n",
      "3110053B16Rik                   -0.03663918               9.404335e-01\n",
      "              PuntVStgfb.transcription log2FCtgfbVStgfbCX5461.transcription\n",
      "1810014B01Rik             0.0000264326                            0.3427535\n",
      "2610005L07Rik             0.8116616756                           -0.1605258\n",
      "2700099C18Rik             0.0066757839                           -1.0755550\n",
      "2810025M15Rik             0.2551632315                           -0.2005956\n",
      "3000002C10Rik             0.0402470312                            0.1601674\n",
      "3110053B16Rik             0.9217058227                            0.1031772\n",
      "              FDRtgfbVStgfbCX5461.transcription PtgfbVStgfbCX5461.transcription\n",
      "1810014B01Rik                         0.6919289                      0.44217238\n",
      "2610005L07Rik                         0.4897350                      0.22532480\n",
      "2700099C18Rik                         0.2266801                      0.05728876\n",
      "2810025M15Rik                         0.4194596                      0.16780318\n",
      "3000002C10Rik                         0.8674915                      0.70961421\n",
      "3110053B16Rik                         0.9078370                      0.79491846\n",
      "              unt.tgfb.DEtranscription tgfb.tgfbCX5461.DEtranscription\n",
      "1810014B01Rik                     down                          notSig\n",
      "2610005L07Rik                   notSig                          notSig\n",
      "2700099C18Rik                     down                          notSig\n",
      "2810025M15Rik                   notSig                          notSig\n",
      "3000002C10Rik                   notSig                          notSig\n",
      "3110053B16Rik                   notSig                          notSig\n",
      "              reversible.transcription unt.translation tgfb.translation\n",
      "1810014B01Rik                   notSig      -3.2070605       -3.5635518\n",
      "2610005L07Rik                   notSig       0.9415392        0.4179391\n",
      "2700099C18Rik                   notSig      -2.9383367       -5.3942231\n",
      "2810025M15Rik                   notSig      -0.9932045       -1.1337141\n",
      "3000002C10Rik                   notSig              NA               NA\n",
      "3110053B16Rik                   notSig              NA               NA\n",
      "              tgfbCX5461.translation log2FCuntVStgfb.translation\n",
      "1810014B01Rik             -3.9805067                  -0.3564913\n",
      "2610005L07Rik              0.9722199                  -0.5236001\n",
      "2700099C18Rik             -3.6679420                  -2.4558864\n",
      "2810025M15Rik             -1.0305873                  -0.1405096\n",
      "3000002C10Rik                     NA                          NA\n",
      "3110053B16Rik                     NA                          NA\n",
      "              FDRuntVStgfb.translation PuntVStgfb.translation\n",
      "1810014B01Rik               0.84029959             0.72410834\n",
      "2610005L07Rik               0.09822444             0.02692798\n",
      "2700099C18Rik               0.14513772             0.04658488\n",
      "2810025M15Rik               0.84319936             0.72766180\n",
      "3000002C10Rik                       NA                     NA\n",
      "3110053B16Rik                       NA                     NA\n",
      "              log2FCtgfbVStgfbCX5461.translation\n",
      "1810014B01Rik                         -0.4169549\n",
      "2610005L07Rik                          0.5542807\n",
      "2700099C18Rik                          1.7262810\n",
      "2810025M15Rik                          0.1031268\n",
      "3000002C10Rik                                 NA\n",
      "3110053B16Rik                                 NA\n",
      "              FDRtgfbVStgfbCX5461.translation PtgfbVStgfbCX5461.translation\n",
      "1810014B01Rik                       0.8829556                    0.75733425\n",
      "2610005L07Rik                       0.1687514                    0.04116814\n",
      "2700099C18Rik                       0.4633478                    0.22159443\n",
      "2810025M15Rik                       0.9218463                    0.82949263\n",
      "3000002C10Rik                              NA                            NA\n",
      "3110053B16Rik                              NA                            NA\n",
      "              unt.tgfb.DEtranslation tgfb.tgfbCX5461.DEtranslation\n",
      "1810014B01Rik                 notSig                        notSig\n",
      "2610005L07Rik                 notSig                        notSig\n",
      "2700099C18Rik                 notSig                        notSig\n",
      "2810025M15Rik                 notSig                        notSig\n",
      "3000002C10Rik                   <NA>                          <NA>\n",
      "3110053B16Rik                   <NA>                          <NA>\n",
      "              reversible.translation                            biotype\n",
      "1810014B01Rik                 notSig transcribed_unprocessed_pseudogene\n",
      "2610005L07Rik                 notSig transcribed_unprocessed_pseudogene\n",
      "2700099C18Rik                 notSig transcribed_unprocessed_pseudogene\n",
      "2810025M15Rik                 notSig   transcribed_processed_pseudogene\n",
      "3000002C10Rik                   <NA>   transcribed_processed_pseudogene\n",
      "3110053B16Rik                   <NA> transcribed_unprocessed_pseudogene\n",
      "[1] 1746   31\n"
     ]
    }
   ],
   "source": [
    "if (!is.null(biotype_exclude)) {\n",
    "    f <- grepl(biotype_exclude, df_all$biotype)\n",
    "    df_exclude <- df_all[f, ]\n",
    "    show(head(df_exclude))\n",
    "    show(dim(df_exclude))\n",
    "    excludes <- rownames(df_exclude)\n",
    "    \n",
    "    sym_ribo_up_cx_dn <- setdiff(sym_ribo_up_cx_dn, excludes)\n",
    "    sym_ribo_dn_cx_up <- setdiff(sym_ribo_dn_cx_up, excludes)\n",
    "    sym_ribo_up_cx_up <- setdiff(sym_ribo_up_cx_up, excludes)\n",
    "    sym_ribo_dn_cx_dn <- setdiff(sym_ribo_dn_cx_dn, excludes)\n",
    "    sym_ribo_cx_exclusively_affected <- setdiff(sym_ribo_cx_exclusively_affected, \n",
    "        excludes)\n",
    "    sym_ribo_cx_exclusively_affected_up <- setdiff(sym_ribo_cx_exclusively_affected_up, \n",
    "        excludes)\n",
    "    sym_ribo_cx_exclusively_affected_dn <- setdiff(sym_ribo_cx_exclusively_affected_dn, \n",
    "        excludes)    \n",
    "}"
   ]
  },
  {
   "cell_type": "code",
   "execution_count": 4,
   "metadata": {},
   "outputs": [
    {
     "name": "stdout",
     "output_type": "stream",
     "text": [
      "              seqnames    start      end width strand         source\n",
      "0610009B22Rik       11 51576213 51579701  3489      - ensembl_havana\n",
      "0610010F05Rik       11 23514961 23583639 68679      - ensembl_havana\n",
      "0610010K14Rik       11 70126032 70128740  2709      - ensembl_havana\n",
      "0610012G03Rik       16 31765868 31767312  1445      -         havana\n",
      "0610030E20Rik        6 72324300 72330131  5832      + ensembl_havana\n",
      "0610040J01Rik        5 63969706 64056968 87263      + ensembl_havana\n",
      "              unt.transcription tgfb.transcription tgfbCX5461.transcription\n",
      "0610009B22Rik        -1.7361927        -1.77777696              -1.52337076\n",
      "0610010F05Rik        -0.5443124        -0.18299550              -0.57995446\n",
      "0610010K14Rik        -1.0822802        -1.73978964              -1.85796767\n",
      "0610012G03Rik         0.1094487         0.09824498               0.09778162\n",
      "0610030E20Rik        -0.7066802        -0.89024066              -0.91363548\n",
      "0610040J01Rik        -1.1236084        -4.73941679              -3.70502147\n",
      "              log2FCuntVStgfb.transcription FDRuntVStgfb.transcription\n",
      "0610009B22Rik                   -0.04158431               8.658629e-01\n",
      "0610010F05Rik                    0.36131693               8.558582e-03\n",
      "0610010K14Rik                   -0.65750941               1.465000e-03\n",
      "0610012G03Rik                   -0.01120375               9.284910e-01\n",
      "0610030E20Rik                   -0.18356050               2.586286e-01\n",
      "0610040J01Rik                   -3.61580842               1.100000e-10\n",
      "              PuntVStgfb.transcription log2FCtgfbVStgfbCX5461.transcription\n",
      "0610009B22Rik             0.8259850180                          0.254406206\n",
      "0610010F05Rik             0.0040252843                         -0.396958965\n",
      "0610010K14Rik             0.0005896719                         -0.118178034\n",
      "0610012G03Rik             0.9060291342                         -0.000463367\n",
      "0610030E20Rik             0.1882543985                         -0.023394823\n",
      "0610040J01Rik             0.0000000000                          1.034395317\n",
      "              FDRtgfbVStgfbCX5461.transcription PtgfbVStgfbCX5461.transcription\n",
      "0610009B22Rik                        0.47845885                     0.215207158\n",
      "0610010F05Rik                        0.04148518                     0.004344689\n",
      "0610010K14Rik                        0.79854067                     0.584691893\n",
      "0610012G03Rik                        0.99821843                     0.996435920\n",
      "0610030E20Rik                        0.94973859                     0.881608030\n",
      "0610040J01Rik                        0.16393562                     0.034095484\n",
      "              unt.tgfb.DEtranscription tgfb.tgfbCX5461.DEtranscription\n",
      "0610009B22Rik                   notSig                          notSig\n",
      "0610010F05Rik                       up                            down\n",
      "0610010K14Rik                     down                          notSig\n",
      "0610012G03Rik                   notSig                          notSig\n",
      "0610030E20Rik                   notSig                          notSig\n",
      "0610040J01Rik                     down                          notSig\n",
      "              reversible.transcription unt.translation tgfb.translation\n",
      "0610009B22Rik                   notSig      -0.1209301       -0.5623582\n",
      "0610010F05Rik                   upDown      -1.4390170       -1.1130376\n",
      "0610010K14Rik                   notSig      -0.7062234       -2.1409318\n",
      "0610012G03Rik                   notSig       0.2537944       -0.2992177\n",
      "0610030E20Rik                   notSig              NA               NA\n",
      "0610040J01Rik                   notSig      -2.6671038       -3.6173387\n",
      "              tgfbCX5461.translation log2FCuntVStgfb.translation\n",
      "0610009B22Rik              0.4593551                  -0.4414281\n",
      "0610010F05Rik             -1.8999308                   0.3259794\n",
      "0610010K14Rik             -0.6268219                  -1.4347083\n",
      "0610012G03Rik             -0.2840107                  -0.5530121\n",
      "0610030E20Rik                     NA                          NA\n",
      "0610040J01Rik             -3.7617905                  -0.9502349\n",
      "              FDRuntVStgfb.translation PuntVStgfb.translation\n",
      "0610009B22Rik               0.30541555             0.14036813\n",
      "0610010F05Rik               0.64123254             0.45306626\n",
      "0610010K14Rik               0.05167993             0.01144092\n",
      "0610012G03Rik               0.13823240             0.04346982\n",
      "0610030E20Rik                       NA                     NA\n",
      "0610040J01Rik               0.49047068             0.29624483\n",
      "              log2FCtgfbVStgfbCX5461.translation\n",
      "0610009B22Rik                         1.02171324\n",
      "0610010F05Rik                        -0.78689319\n",
      "0610010K14Rik                         1.51410985\n",
      "0610012G03Rik                         0.01520704\n",
      "0610030E20Rik                                 NA\n",
      "0610040J01Rik                        -0.14445185\n",
      "              FDRtgfbVStgfbCX5461.translation PtgfbVStgfbCX5461.translation\n",
      "0610009B22Rik                      0.02919136                   0.002929355\n",
      "0610010F05Rik                      0.41800085                   0.183428443\n",
      "0610010K14Rik                      0.07704533                   0.012849451\n",
      "0610012G03Rik                      0.98121037                   0.964044006\n",
      "0610030E20Rik                              NA                            NA\n",
      "0610040J01Rik                      0.95563779                   0.908020836\n",
      "              unt.tgfb.DEtranslation tgfb.tgfbCX5461.DEtranslation\n",
      "0610009B22Rik                 notSig                            up\n",
      "0610010F05Rik                 notSig                        notSig\n",
      "0610010K14Rik                 notSig                        notSig\n",
      "0610012G03Rik                 notSig                        notSig\n",
      "0610030E20Rik                   <NA>                          <NA>\n",
      "0610040J01Rik                 notSig                        notSig\n",
      "              reversible.translation        biotype\n",
      "0610009B22Rik                 notSig protein_coding\n",
      "0610010F05Rik                 notSig protein_coding\n",
      "0610010K14Rik                 notSig protein_coding\n",
      "0610012G03Rik                 notSig protein_coding\n",
      "0610030E20Rik                   <NA> protein_coding\n",
      "0610040J01Rik                 notSig protein_coding\n",
      "[1] 11452    31\n"
     ]
    }
   ],
   "source": [
    "if (!is.null(biotype_include)) {\n",
    "    f <- grepl(biotype_include, df_all$biotype)\n",
    "    df_include <- df_all[f, ]\n",
    "    show(head(df_include))\n",
    "    show(dim(df_include))\n",
    "    include_genes <- rownames(df_include)\n",
    "    \n",
    "    sym_ribo_up_cx_dn <- intersect(sym_ribo_up_cx_dn, include_genes)\n",
    "    sym_ribo_dn_cx_up <- intersect(sym_ribo_dn_cx_up, include_genes)\n",
    "    sym_ribo_up_cx_up <- intersect(sym_ribo_up_cx_up, include_genes)\n",
    "    sym_ribo_dn_cx_dn <- intersect(sym_ribo_dn_cx_dn, include_genes)\n",
    "    sym_ribo_cx_exclusively_affected <- intersect(sym_ribo_cx_exclusively_affected, \n",
    "        include_genes)\n",
    "    sym_ribo_cx_exclusively_affected_up <- intersect(sym_ribo_cx_exclusively_affected_up, \n",
    "        include_genes)\n",
    "    sym_ribo_cx_exclusively_affected_dn <- intersect(sym_ribo_cx_exclusively_affected_dn, \n",
    "        include_genes)    \n",
    "}"
   ]
  },
  {
   "cell_type": "markdown",
   "metadata": {},
   "source": [
    "# fig2"
   ]
  },
  {
   "cell_type": "code",
   "execution_count": 5,
   "metadata": {},
   "outputs": [
    {
     "name": "stdout",
     "output_type": "stream",
     "text": [
      "sym_ribo_up_cx_dn: 301\n",
      "sym_ribo_dn_cx_up: 262\n",
      "sym_ribo_up_cx_up: 65\n",
      "sym_ribo_dn_cx_dn: 41\n",
      "sym_ribo_cx_exclusively_affected: 519\n"
     ]
    }
   ],
   "source": [
    "df_fig <- df_all\n",
    "sym <- rownames(df_fig)\n",
    "df_fig$fig.type <- NA\n",
    "\n",
    "verb(\"sym_ribo_up_cx_dn: %d\\n\", length(sym_ribo_up_cx_dn))\n",
    "f <- sym %in% sym_ribo_up_cx_dn\n",
    "str_up_dn <- sprintf(\"Up-Down (n=%d)\", length(sym_ribo_up_cx_dn))\n",
    "df_fig[f, \"fig.type\"] <- str_up_dn\n",
    "\n",
    "verb(\"sym_ribo_dn_cx_up: %d\\n\", length(sym_ribo_dn_cx_up))\n",
    "f <- sym %in% sym_ribo_dn_cx_up\n",
    "str_dn_up <- sprintf(\"Down-Up (n=%d)\", length(sym_ribo_dn_cx_up))\n",
    "df_fig[f, \"fig.type\"] <- str_dn_up\n",
    "\n",
    "verb(\"sym_ribo_up_cx_up: %d\\n\", length(sym_ribo_up_cx_up))\n",
    "f <- sym %in% sym_ribo_up_cx_up\n",
    "str_up_up <- sprintf(\"Up-Up (n=%d)\", length(sym_ribo_up_cx_up))\n",
    "df_fig[f, \"fig.type\"] <- str_up_up\n",
    "\n",
    "verb(\"sym_ribo_dn_cx_dn: %d\\n\", length(sym_ribo_dn_cx_dn))\n",
    "f <- sym %in% sym_ribo_dn_cx_dn\n",
    "str_dn_dn <- sprintf(\"Down-Down (n=%d)\", length(sym_ribo_dn_cx_dn))\n",
    "df_fig[f, \"fig.type\"] <- str_dn_dn\n",
    "\n",
    "verb(\"sym_ribo_cx_exclusively_affected: %d\\n\", length(sym_ribo_cx_exclusively_affected))\n",
    "f <- sym %in% sym_ribo_cx_exclusively_affected\n",
    "# str_cx <- sprintf('Exclusively CX-affected (n=%d)',\n",
    "# length(sym_ribo_cx_exclusively_affected))\n",
    "str_cx <- sprintf(\"Excl. CX-affected (n=%d)\", length(sym_ribo_cx_exclusively_affected))\n",
    "df_fig[f, \"fig.type\"] <- str_cx\n",
    "# verb('sym_ribo_cx_unaffected: %d\\n',length(sym_ribo_cx_unaffected)); f <- sym\n",
    "# %in% sym_ribo_cx_unaffected; df_fig[f, 'fig.type'] <- 'CX-unaffected'\n",
    "\n",
    "#f <- !is.na(df_fig$fig.type) & !is.na(df_fig$log2FCunt48VStgfb48.translation) & !is.na(df_fig$log2FCtgfbVStgfbCX5461100nm.translation)\n",
    "#df_fig <- df_fig[f, ]\n",
    "df_fig$fig.type <- factor(df_fig$fig.type, level = c(str_up_dn, str_dn_up, str_up_up, \n",
    "    str_dn_dn, str_cx))\n",
    "# reorder\n",
    "df_fig$order <- factor(df_fig$fig.type, level = c(str_cx, str_up_up, str_dn_dn, str_up_dn, \n",
    "    str_dn_up))\n",
    "df_fig <- df_fig[order(df_fig$order), ]\n",
    "\n",
    "nv_color <- c(`Up-Down` = \"#ed7470\", `Down-Up` = \"#7aaa3d\", `Up-Up` = \"#e5af3c\", \n",
    "    `Down-Down` = \"#73c4fa\", `Exclusively CX-affected` = \"#aaaaaa\")\n",
    "names(nv_color) <- levels(df_fig$fig.type)"
   ]
  },
  {
   "cell_type": "code",
   "execution_count": 6,
   "metadata": {
    "scrolled": false
   },
   "outputs": [
    {
     "data": {
      "image/png": "[encoded data removed]",
      "text/plain": [
       "plot without title"
      ]
     },
     "metadata": {
      "image/png": {
       "height": 252,
       "width": 252
      }
     },
     "output_type": "display_data"
    }
   ],
   "source": [
    "#nticks=13; xmax=12; ymax=12; gap_tick_label=5\n",
    "nticks=9; xmax =8; ymax=8; gap_tick_label=8\n",
    "\n",
    "f2 <- !is.na(df_fig$fig.type)\n",
    "df_fig2 <- df_fig[f2,]\n",
    "gg <- ggplot(data=df_fig2,\n",
    "    aes(x=log2FCuntVStgfb.translation, \n",
    "        y=log2FCtgfbVStgfbCX5461.translation, colour=fig.type)) + \n",
    "    theme_geometry(ticks=nticks, xlim=xmax, ylim=ymax, linesize=0.5, \n",
    "                   xlab=expression('log'[2]*'(fold change [unt vs. tgfb])'),\n",
    "                   ylab=expression('log'[2]*'(fold change [tgfb vs. tgfbCX])'),\n",
    "                   labsize=3.5, labgap=1, epsilon=max(xmax,ymax)/50, gap_tick_label=gap_tick_label) +\n",
    "    geom_point(alpha=1, size=1) +\n",
    "    theme(legend.title=element_blank(), \n",
    "          legend.text=element_text(size=9),\n",
    "          legend.background = element_rect(color = NA),\n",
    "          legend.key = element_rect(fill = \"white\", color = NA),\n",
    "          legend.key.size = unit(0.4, \"cm\"),\n",
    "          legend.key.width = unit(0,\"cm\"),\n",
    "          #legend.spacing.y = unit(0.5, \"cm\"),          \n",
    "          legend.position = c(0.53, 0.95), legend.justification = c(0, 1) ) +\n",
    "    guides(colour = guide_legend(override.aes = list(size=3))) +\n",
    "    ggtitle(\"\") +\n",
    "    scale_colour_manual(values = nv_color)\n",
    "\n",
    "if (f_display_sym) {\n",
    "    \n",
    "  df_fig2$sig <- 'no'; \n",
    "  df_fig2$sym <- rownames(df_fig2)  \n",
    "  f_sym <- grepl('n-R5s|Snora73a', df_fig2$sym)\n",
    "    \n",
    "  th_log2fc <- log2(4)\n",
    "  f_up_dn <- !is.na(df_fig2$fig.type) & df_fig2$log2FCuntVStgfb.translation > th_log2fc & df_fig2$log2FCtgfbVStgfbCX5461.translation < -th_log2fc\n",
    "  f_dn_up <- !is.na(df_fig2$fig.type) & df_fig2$log2FCuntVStgfb.translation < -th_log2fc & df_fig2$log2FCtgfbVStgfbCX5461.translation > th_log2fc\n",
    "  df_fig2$sig[f_up_dn & f_sym] <- 'up_dn';\n",
    "  df_fig2$sig[f_dn_up & f_sym] <- 'dn_up';\n",
    "  f <- grepl(\"Gm|Rik\", df_fig2$sym)\n",
    "  df_fig2$sig[f] <- 'no'\n",
    "\n",
    "  require('ggrepel')\n",
    "  df_fig2$nudge_x <- 0.2\n",
    "  df_fig2$nudge_x[f_dn_up] <- -0.2 \n",
    "  df_fig2$nudge_y <- -0.2\n",
    "  f <- grepl(\"n-R5s\", df_fig2$sym)\n",
    "  df_fig2[f, 'nudge_x'] <- 0.2  \n",
    "  df_fig2[f, 'nudge_y'] <- 0.2\n",
    "\n",
    "  # change name\n",
    "  df_fig2$sym <- mgsub::mgsub(df_fig2$sym,\n",
    "        tolower(c('HALLMARK','_')), c('',' '))\n",
    "  #df_fig2$sym <- str_wrap(df_fig2$sym, width=15)\n",
    "\n",
    "  f <- df_fig2$sig != 'no'\n",
    "  if (any(f)) {\n",
    "  df1 <- df_fig2[f,,drop=F]          \n",
    "  gg <- gg + geom_text_repel(data=df1,\n",
    "           aes(label=sym, lineheight=.75),\n",
    "           size=3.5, colour='black',\n",
    "           force=1, box.padding=0.25, point.padding=0.5,\n",
    "           min.segment.length = unit(0, 'lines'),          \n",
    "           nudge_x=df1$nudge_x, nudge_y=df1$nudge_y,\n",
    "           seed=seed_geom_text_repel)\n",
    "  }\n",
    "             \n",
    "}\n",
    "\n",
    "\n",
    "print_figure(gg, width=4.2, height=4.2,\n",
    "            file=sprintf(\"scatter_plot.fig2%s\", fname_appendix))"
   ]
  },
  {
   "cell_type": "markdown",
   "metadata": {},
   "source": [
    "# GO enrichment"
   ]
  },
  {
   "cell_type": "markdown",
   "metadata": {},
   "source": [
    "## cx_exclusively_affected_up"
   ]
  },
  {
   "cell_type": "code",
   "execution_count": 7,
   "metadata": {},
   "outputs": [],
   "source": [
    "condstr <- \"cx_exclusively_affected_up\""
   ]
  },
  {
   "cell_type": "code",
   "execution_count": 8,
   "metadata": {
    "scrolled": false
   },
   "outputs": [
    {
     "name": "stdout",
     "output_type": "stream",
     "text": [
      "sym_ribo_cx_exclusively_affected_up: 331\n"
     ]
    }
   ],
   "source": [
    "verb(\"sym_ribo_cx_exclusively_affected_up: %d\\n\", length(sym_ribo_cx_exclusively_affected_up))\n"
   ]
  },
  {
   "cell_type": "code",
   "execution_count": 9,
   "metadata": {},
   "outputs": [
    {
     "name": "stderr",
     "output_type": "stream",
     "text": [
      "Warning message:\n",
      "\"package 'DOSE' was built under R version 4.1.2\"\n",
      "DOSE v3.20.1  For help: https://yulab-smu.top/biomedical-knowledge-mining-book/\n",
      "\n",
      "If you use DOSE in published research, please cite:\n",
      "Guangchuang Yu, Li-Gen Wang, Guang-Rong Yan, Qing-Yu He. DOSE: an R/Bioconductor package for Disease Ontology Semantic and Enrichment analysis. Bioinformatics 2015, 31(4):608-609\n",
      "\n",
      "\n"
     ]
    },
    {
     "ename": "ERROR",
     "evalue": "Error in h(simpleError(msg, call)): error in evaluating the argument 'x' in selecting a method for function 'unique': object 'entrezdf' not found\n",
     "output_type": "error",
     "traceback": [
      "Error in h(simpleError(msg, call)): error in evaluating the argument 'x' in selecting a method for function 'unique': object 'entrezdf' not found\nTraceback:\n",
      "1. unique(entrezdf$entrez_id[match(sym_ribo_cx_exclusively_affected_up, \n .     entrezdf$gene_name)])",
      "2. .handleSimpleError(function (cond) \n . .Internal(C_tryCatchHelper(addr, 1L, cond)), \"object 'entrezdf' not found\", \n .     base::quote(unique(entrezdf$entrez_id[match(sym_ribo_cx_exclusively_affected_up, \n .         entrezdf$gene_name)])))",
      "3. h(simpleError(msg, call))"
     ]
    }
   ],
   "source": [
    "library(clusterProfiler)\n",
    "library(DOSE)\n",
    "\n",
    "entrez.id <- unique(entrezdf$entrez_id[ match(sym_ribo_cx_exclusively_affected_up, entrezdf$gene_name) ])\n",
    "\n",
    "set.seed(40)\n",
    "egmt_cx_exclusive_up <- enrichGO(entrez.id, OrgDb=org.Mm.eg.db, keyType = \"ENTREZID\", ont='all',\n",
    "                pvalueCutoff = 0.05, pAdjustMethod = \"BH\", qvalueCutoff = 0.05,\n",
    "                minGSSize = 10, maxGSSize = 500)\n",
    "egmt_cx_exclusive_up <- setReadable(egmt_cx_exclusive_up, OrgDb=org.Mm.eg.db, keyType=\"ENTREZID\")\n",
    "\n",
    "head(egmt_cx_exclusive_up)\n",
    "dim(egmt_cx_exclusive_up)\n",
    "\n",
    "write.table(egmt_cx_exclusive_up, file = sprintf('table/fig2.%s.go.txt', condstr),\n",
    "            row.names = TRUE , col.names = NA ,  sep=\"\\t\"  , quote = FALSE  )"
   ]
  },
  {
   "cell_type": "markdown",
   "metadata": {},
   "source": [
    "### dotplot"
   ]
  },
  {
   "cell_type": "code",
   "execution_count": null,
   "metadata": {
    "scrolled": false
   },
   "outputs": [],
   "source": [
    "n_top_egmt <- 10\n",
    "gg <- dotplot(egmt_cx_exclusive_up, x = \"GeneRatio\",\n",
    "        color = \"p.adjust\", showCategory = n_top_egmt, split = \"ONTOLOGY\", font.size = 11,\n",
    "        title = \"Excl. CX-affected Up\") + facet_grid(ONTOLOGY~., scale=\"free\")\n",
    "\n",
    "print_figure(gg, width=9, height=8.5,\n",
    "    file=sprintf(\"dotplot.%s.enricher.go_top%d\", condstr, n_top_egmt))\n"
   ]
  },
  {
   "cell_type": "markdown",
   "metadata": {},
   "source": [
    "## cx_exclusively_affected_dn"
   ]
  },
  {
   "cell_type": "code",
   "execution_count": null,
   "metadata": {},
   "outputs": [],
   "source": [
    "condstr <- \"cx_exclusively_affected_dn\""
   ]
  },
  {
   "cell_type": "code",
   "execution_count": null,
   "metadata": {
    "scrolled": false
   },
   "outputs": [],
   "source": [
    "verb(\"sym_ribo_cx_exclusively_affected_dn: %d\\n\", length(sym_ribo_cx_exclusively_affected_dn))\n"
   ]
  },
  {
   "cell_type": "code",
   "execution_count": null,
   "metadata": {},
   "outputs": [],
   "source": [
    "library(clusterProfiler)\n",
    "library(DOSE)\n",
    "library(org.Mm.eg.db)\n",
    "\n",
    "#entrez.id <- unique(entrezdf$entrez_id[ match(sym_ribo_cx_exclusively_affected_dn, entrezdf$gene_name) ])\n",
    "## Modified by Nitish\n",
    "entrez.id <- bitr(sym_ribo_cx_exclusively_affected_dn, fromType = \"SYMBOL\",\n",
    "                  toType = c(\"ENSEMBL\", \"ENTREZID\"),\n",
    "                  OrgDb = org.Mm.eg.db)\n",
    "#(sym_ribo_cx_exclusively_affected_dn)\n",
    "entrez.id <- entrez.id$ENTREZID\n",
    "set.seed(40)\n",
    "egmt_cx_exclusive_dn <- enrichGO(entrez.id, OrgDb=org.Mm.eg.db, keyType = \"ENTREZID\", ont='all',\n",
    "                pvalueCutoff = 0.05, pAdjustMethod = \"BH\", qvalueCutoff = 0.05,\n",
    "                minGSSize = 10, maxGSSize = 500)\n",
    "egmt_cx_exclusive_dn <- setReadable(egmt_cx_exclusive_dn, OrgDb=org.Mm.eg.db, keyType=\"ENTREZID\")\n",
    "\n",
    "head(egmt_cx_exclusive_dn)\n",
    "dim(egmt_cx_exclusive_dn)\n",
    "\n",
    "write.table(egmt_cx_exclusive_dn, file = sprintf('table/fig2.%s.go.txt', condstr),\n",
    "            row.names = TRUE , col.names = NA ,  sep=\"\\t\"  , quote = FALSE  )"
   ]
  },
  {
   "cell_type": "markdown",
   "metadata": {},
   "source": [
    "## dotplot"
   ]
  },
  {
   "cell_type": "code",
   "execution_count": null,
   "metadata": {
    "scrolled": false
   },
   "outputs": [],
   "source": [
    "n_top_egmt <- 10\n",
    "gg <- dotplot(egmt_cx_exclusive_dn, x = \"GeneRatio\",\n",
    "        color = \"p.adjust\", showCategory = n_top_egmt, split = \"ONTOLOGY\", font.size = 11,\n",
    "        title = \"Excl. CX-affected Down\") + facet_grid(ONTOLOGY~., scale=\"free\")\n",
    "\n",
    "print_figure(gg, width=9, height=8.5,\n",
    "    file=sprintf(\"dotplot.%s.enricher.go_top%d\", condstr, n_top_egmt))"
   ]
  },
  {
   "cell_type": "code",
   "execution_count": null,
   "metadata": {},
   "outputs": [],
   "source": [
    "help(dotplot)"
   ]
  },
  {
   "cell_type": "code",
   "execution_count": null,
   "metadata": {},
   "outputs": [],
   "source": []
  }
 ],
 "metadata": {
  "hide_input": false,
  "kernelspec": {
   "display_name": "R",
   "language": "R",
   "name": "ir"
  },
  "language_info": {
   "codemirror_mode": "r",
   "file_extension": ".r",
   "mimetype": "text/x-r-source",
   "name": "R",
   "pygments_lexer": "r",
   "version": "4.1.0"
  },
  "toc": {
   "base_numbering": 1,
   "nav_menu": {},
   "number_sections": true,
   "sideBar": true,
   "skip_h1_title": false,
   "title_cell": "Table of Contents",
   "title_sidebar": "Contents",
   "toc_cell": false,
   "toc_position": {
    "height": "calc(100% - 180px)",
    "left": "10px",
    "top": "150px",
    "width": "213.969px"
   },
   "toc_section_display": true,
   "toc_window_display": true
  },
  "toc-autonumbering": true,
  "toc-showcode": false,
  "toc-showmarkdowntxt": true,
  "toc-showtags": false
 },
 "nbformat": 4,
 "nbformat_minor": 2
}
