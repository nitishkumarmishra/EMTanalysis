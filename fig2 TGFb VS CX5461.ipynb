{
 "cells": [
  {
   "cell_type": "markdown",
   "id": "f79ab171",
   "metadata": {},
   "source": [
    "## Load functions"
   ]
  },
  {
   "cell_type": "code",
   "execution_count": 157,
   "id": "b54b488d",
   "metadata": {},
   "outputs": [
    {
     "data": {
      "text/html": [
       "<table class=\"dataframe\">\n",
       "<caption>A data.frame: 6 × 31</caption>\n",
       "<thead>\n",
       "\t<tr><th></th><th scope=col>seqnames</th><th scope=col>start</th><th scope=col>end</th><th scope=col>width</th><th scope=col>strand</th><th scope=col>source</th><th scope=col>unt.transcription</th><th scope=col>tgfb.transcription</th><th scope=col>tgfbCX5461.transcription</th><th scope=col>log2FCuntVStgfb.transcription</th><th scope=col>...</th><th scope=col>log2FCuntVStgfb.translation</th><th scope=col>FDRuntVStgfb.translation</th><th scope=col>PuntVStgfb.translation</th><th scope=col>log2FCtgfbVStgfbCX5461.translation</th><th scope=col>FDRtgfbVStgfbCX5461.translation</th><th scope=col>PtgfbVStgfbCX5461.translation</th><th scope=col>unt.tgfb.DEtranslation</th><th scope=col>tgfb.tgfbCX5461.DEtranslation</th><th scope=col>reversible.translation</th><th scope=col>biotype</th></tr>\n",
       "\t<tr><th></th><th scope=col>&lt;fct&gt;</th><th scope=col>&lt;int&gt;</th><th scope=col>&lt;int&gt;</th><th scope=col>&lt;int&gt;</th><th scope=col>&lt;fct&gt;</th><th scope=col>&lt;fct&gt;</th><th scope=col>&lt;dbl&gt;</th><th scope=col>&lt;dbl&gt;</th><th scope=col>&lt;dbl&gt;</th><th scope=col>&lt;dbl&gt;</th><th scope=col>...</th><th scope=col>&lt;dbl&gt;</th><th scope=col>&lt;dbl&gt;</th><th scope=col>&lt;dbl&gt;</th><th scope=col>&lt;dbl&gt;</th><th scope=col>&lt;dbl&gt;</th><th scope=col>&lt;dbl&gt;</th><th scope=col>&lt;chr&gt;</th><th scope=col>&lt;chr&gt;</th><th scope=col>&lt;chr&gt;</th><th scope=col>&lt;chr&gt;</th></tr>\n",
       "</thead>\n",
       "<tbody>\n",
       "\t<tr><th scope=row>0610009B22Rik</th><td>11</td><td> 51576213</td><td> 51579701</td><td> 3489</td><td>-</td><td>ensembl_havana</td><td>-1.7361927</td><td>-1.77777696</td><td>-1.52337076</td><td>-0.04158431</td><td>...</td><td>-0.4414281</td><td>0.30541555</td><td>0.14036813</td><td> 1.02171324</td><td>0.02919136</td><td>0.002929355</td><td>notSig</td><td>up    </td><td>notSig</td><td>protein_coding</td></tr>\n",
       "\t<tr><th scope=row>0610009E02Rik</th><td>2 </td><td> 26335708</td><td> 26349402</td><td>13695</td><td>+</td><td>havana        </td><td>-4.4542278</td><td>-5.89842646</td><td>-5.22659361</td><td>-1.44419866</td><td>...</td><td>        NA</td><td>        NA</td><td>        NA</td><td>         NA</td><td>        NA</td><td>         NA</td><td>NA    </td><td>NA    </td><td>NA    </td><td>lncRNA        </td></tr>\n",
       "\t<tr><th scope=row>0610009L18Rik</th><td>11</td><td>120239504</td><td>120242016</td><td> 2513</td><td>+</td><td>ensembl_havana</td><td>-5.7348513</td><td>-5.04982074</td><td>-5.32317910</td><td> 0.68503055</td><td>...</td><td>        NA</td><td>        NA</td><td>        NA</td><td>         NA</td><td>        NA</td><td>         NA</td><td>NA    </td><td>NA    </td><td>NA    </td><td>lncRNA        </td></tr>\n",
       "\t<tr><th scope=row>0610010F05Rik</th><td>11</td><td> 23514961</td><td> 23583639</td><td>68679</td><td>-</td><td>ensembl_havana</td><td>-0.5443124</td><td>-0.18299550</td><td>-0.57995446</td><td> 0.36131693</td><td>...</td><td> 0.3259794</td><td>0.64123254</td><td>0.45306626</td><td>-0.78689319</td><td>0.41800085</td><td>0.183428443</td><td>notSig</td><td>notSig</td><td>notSig</td><td>protein_coding</td></tr>\n",
       "\t<tr><th scope=row>0610010K14Rik</th><td>11</td><td> 70126032</td><td> 70128740</td><td> 2709</td><td>-</td><td>ensembl_havana</td><td>-1.0822802</td><td>-1.73978964</td><td>-1.85796767</td><td>-0.65750941</td><td>...</td><td>-1.4347083</td><td>0.05167993</td><td>0.01144092</td><td> 1.51410985</td><td>0.07704533</td><td>0.012849451</td><td>notSig</td><td>notSig</td><td>notSig</td><td>protein_coding</td></tr>\n",
       "\t<tr><th scope=row>0610012G03Rik</th><td>16</td><td> 31765868</td><td> 31767312</td><td> 1445</td><td>-</td><td>havana        </td><td> 0.1094487</td><td> 0.09824498</td><td> 0.09778162</td><td>-0.01120375</td><td>...</td><td>-0.5530121</td><td>0.13823240</td><td>0.04346982</td><td> 0.01520704</td><td>0.98121037</td><td>0.964044006</td><td>notSig</td><td>notSig</td><td>notSig</td><td>protein_coding</td></tr>\n",
       "</tbody>\n",
       "</table>\n"
      ],
      "text/latex": [
       "A data.frame: 6 × 31\n",
       "\\begin{tabular}{r|lllllllllllllllllllll}\n",
       "  & seqnames & start & end & width & strand & source & unt.transcription & tgfb.transcription & tgfbCX5461.transcription & log2FCuntVStgfb.transcription & ... & log2FCuntVStgfb.translation & FDRuntVStgfb.translation & PuntVStgfb.translation & log2FCtgfbVStgfbCX5461.translation & FDRtgfbVStgfbCX5461.translation & PtgfbVStgfbCX5461.translation & unt.tgfb.DEtranslation & tgfb.tgfbCX5461.DEtranslation & reversible.translation & biotype\\\\\n",
       "  & <fct> & <int> & <int> & <int> & <fct> & <fct> & <dbl> & <dbl> & <dbl> & <dbl> & ... & <dbl> & <dbl> & <dbl> & <dbl> & <dbl> & <dbl> & <chr> & <chr> & <chr> & <chr>\\\\\n",
       "\\hline\n",
       "\t0610009B22Rik & 11 &  51576213 &  51579701 &  3489 & - & ensembl\\_havana & -1.7361927 & -1.77777696 & -1.52337076 & -0.04158431 & ... & -0.4414281 & 0.30541555 & 0.14036813 &  1.02171324 & 0.02919136 & 0.002929355 & notSig & up     & notSig & protein\\_coding\\\\\n",
       "\t0610009E02Rik & 2  &  26335708 &  26349402 & 13695 & + & havana         & -4.4542278 & -5.89842646 & -5.22659361 & -1.44419866 & ... &         NA &         NA &         NA &          NA &         NA &          NA & NA     & NA     & NA     & lncRNA        \\\\\n",
       "\t0610009L18Rik & 11 & 120239504 & 120242016 &  2513 & + & ensembl\\_havana & -5.7348513 & -5.04982074 & -5.32317910 &  0.68503055 & ... &         NA &         NA &         NA &          NA &         NA &          NA & NA     & NA     & NA     & lncRNA        \\\\\n",
       "\t0610010F05Rik & 11 &  23514961 &  23583639 & 68679 & - & ensembl\\_havana & -0.5443124 & -0.18299550 & -0.57995446 &  0.36131693 & ... &  0.3259794 & 0.64123254 & 0.45306626 & -0.78689319 & 0.41800085 & 0.183428443 & notSig & notSig & notSig & protein\\_coding\\\\\n",
       "\t0610010K14Rik & 11 &  70126032 &  70128740 &  2709 & - & ensembl\\_havana & -1.0822802 & -1.73978964 & -1.85796767 & -0.65750941 & ... & -1.4347083 & 0.05167993 & 0.01144092 &  1.51410985 & 0.07704533 & 0.012849451 & notSig & notSig & notSig & protein\\_coding\\\\\n",
       "\t0610012G03Rik & 16 &  31765868 &  31767312 &  1445 & - & havana         &  0.1094487 &  0.09824498 &  0.09778162 & -0.01120375 & ... & -0.5530121 & 0.13823240 & 0.04346982 &  0.01520704 & 0.98121037 & 0.964044006 & notSig & notSig & notSig & protein\\_coding\\\\\n",
       "\\end{tabular}\n"
      ],
      "text/markdown": [
       "\n",
       "A data.frame: 6 × 31\n",
       "\n",
       "| <!--/--> | seqnames &lt;fct&gt; | start &lt;int&gt; | end &lt;int&gt; | width &lt;int&gt; | strand &lt;fct&gt; | source &lt;fct&gt; | unt.transcription &lt;dbl&gt; | tgfb.transcription &lt;dbl&gt; | tgfbCX5461.transcription &lt;dbl&gt; | log2FCuntVStgfb.transcription &lt;dbl&gt; | ... ... | log2FCuntVStgfb.translation &lt;dbl&gt; | FDRuntVStgfb.translation &lt;dbl&gt; | PuntVStgfb.translation &lt;dbl&gt; | log2FCtgfbVStgfbCX5461.translation &lt;dbl&gt; | FDRtgfbVStgfbCX5461.translation &lt;dbl&gt; | PtgfbVStgfbCX5461.translation &lt;dbl&gt; | unt.tgfb.DEtranslation &lt;chr&gt; | tgfb.tgfbCX5461.DEtranslation &lt;chr&gt; | reversible.translation &lt;chr&gt; | biotype &lt;chr&gt; |\n",
       "|---|---|---|---|---|---|---|---|---|---|---|---|---|---|---|---|---|---|---|---|---|---|\n",
       "| 0610009B22Rik | 11 |  51576213 |  51579701 |  3489 | - | ensembl_havana | -1.7361927 | -1.77777696 | -1.52337076 | -0.04158431 | ... | -0.4414281 | 0.30541555 | 0.14036813 |  1.02171324 | 0.02919136 | 0.002929355 | notSig | up     | notSig | protein_coding |\n",
       "| 0610009E02Rik | 2  |  26335708 |  26349402 | 13695 | + | havana         | -4.4542278 | -5.89842646 | -5.22659361 | -1.44419866 | ... |         NA |         NA |         NA |          NA |         NA |          NA | NA     | NA     | NA     | lncRNA         |\n",
       "| 0610009L18Rik | 11 | 120239504 | 120242016 |  2513 | + | ensembl_havana | -5.7348513 | -5.04982074 | -5.32317910 |  0.68503055 | ... |         NA |         NA |         NA |          NA |         NA |          NA | NA     | NA     | NA     | lncRNA         |\n",
       "| 0610010F05Rik | 11 |  23514961 |  23583639 | 68679 | - | ensembl_havana | -0.5443124 | -0.18299550 | -0.57995446 |  0.36131693 | ... |  0.3259794 | 0.64123254 | 0.45306626 | -0.78689319 | 0.41800085 | 0.183428443 | notSig | notSig | notSig | protein_coding |\n",
       "| 0610010K14Rik | 11 |  70126032 |  70128740 |  2709 | - | ensembl_havana | -1.0822802 | -1.73978964 | -1.85796767 | -0.65750941 | ... | -1.4347083 | 0.05167993 | 0.01144092 |  1.51410985 | 0.07704533 | 0.012849451 | notSig | notSig | notSig | protein_coding |\n",
       "| 0610012G03Rik | 16 |  31765868 |  31767312 |  1445 | - | havana         |  0.1094487 |  0.09824498 |  0.09778162 | -0.01120375 | ... | -0.5530121 | 0.13823240 | 0.04346982 |  0.01520704 | 0.98121037 | 0.964044006 | notSig | notSig | notSig | protein_coding |\n",
       "\n"
      ],
      "text/plain": [
       "              seqnames start     end       width strand source        \n",
       "0610009B22Rik 11        51576213  51579701  3489 -      ensembl_havana\n",
       "0610009E02Rik 2         26335708  26349402 13695 +      havana        \n",
       "0610009L18Rik 11       120239504 120242016  2513 +      ensembl_havana\n",
       "0610010F05Rik 11        23514961  23583639 68679 -      ensembl_havana\n",
       "0610010K14Rik 11        70126032  70128740  2709 -      ensembl_havana\n",
       "0610012G03Rik 16        31765868  31767312  1445 -      havana        \n",
       "              unt.transcription tgfb.transcription tgfbCX5461.transcription\n",
       "0610009B22Rik -1.7361927        -1.77777696        -1.52337076             \n",
       "0610009E02Rik -4.4542278        -5.89842646        -5.22659361             \n",
       "0610009L18Rik -5.7348513        -5.04982074        -5.32317910             \n",
       "0610010F05Rik -0.5443124        -0.18299550        -0.57995446             \n",
       "0610010K14Rik -1.0822802        -1.73978964        -1.85796767             \n",
       "0610012G03Rik  0.1094487         0.09824498         0.09778162             \n",
       "              log2FCuntVStgfb.transcription ... log2FCuntVStgfb.translation\n",
       "0610009B22Rik -0.04158431                   ... -0.4414281                 \n",
       "0610009E02Rik -1.44419866                   ...         NA                 \n",
       "0610009L18Rik  0.68503055                   ...         NA                 \n",
       "0610010F05Rik  0.36131693                   ...  0.3259794                 \n",
       "0610010K14Rik -0.65750941                   ... -1.4347083                 \n",
       "0610012G03Rik -0.01120375                   ... -0.5530121                 \n",
       "              FDRuntVStgfb.translation PuntVStgfb.translation\n",
       "0610009B22Rik 0.30541555               0.14036813            \n",
       "0610009E02Rik         NA                       NA            \n",
       "0610009L18Rik         NA                       NA            \n",
       "0610010F05Rik 0.64123254               0.45306626            \n",
       "0610010K14Rik 0.05167993               0.01144092            \n",
       "0610012G03Rik 0.13823240               0.04346982            \n",
       "              log2FCtgfbVStgfbCX5461.translation\n",
       "0610009B22Rik  1.02171324                       \n",
       "0610009E02Rik          NA                       \n",
       "0610009L18Rik          NA                       \n",
       "0610010F05Rik -0.78689319                       \n",
       "0610010K14Rik  1.51410985                       \n",
       "0610012G03Rik  0.01520704                       \n",
       "              FDRtgfbVStgfbCX5461.translation PtgfbVStgfbCX5461.translation\n",
       "0610009B22Rik 0.02919136                      0.002929355                  \n",
       "0610009E02Rik         NA                               NA                  \n",
       "0610009L18Rik         NA                               NA                  \n",
       "0610010F05Rik 0.41800085                      0.183428443                  \n",
       "0610010K14Rik 0.07704533                      0.012849451                  \n",
       "0610012G03Rik 0.98121037                      0.964044006                  \n",
       "              unt.tgfb.DEtranslation tgfb.tgfbCX5461.DEtranslation\n",
       "0610009B22Rik notSig                 up                           \n",
       "0610009E02Rik NA                     NA                           \n",
       "0610009L18Rik NA                     NA                           \n",
       "0610010F05Rik notSig                 notSig                       \n",
       "0610010K14Rik notSig                 notSig                       \n",
       "0610012G03Rik notSig                 notSig                       \n",
       "              reversible.translation biotype       \n",
       "0610009B22Rik notSig                 protein_coding\n",
       "0610009E02Rik NA                     lncRNA        \n",
       "0610009L18Rik NA                     lncRNA        \n",
       "0610010F05Rik notSig                 protein_coding\n",
       "0610010K14Rik notSig                 protein_coding\n",
       "0610012G03Rik notSig                 protein_coding"
      ]
     },
     "metadata": {},
     "output_type": "display_data"
    }
   ],
   "source": [
    "suppressMessages(suppressWarnings(source(\"./jupyter_common.R\")))\n",
    "#load('./rdata/jupyter_common.rdata')\n",
    "load('./rdata/riboprof_170224.rdna_rn18s_161021.rdna_rn18s_limma-voom.mrna.rdata')\n",
    "head(df_all)"
   ]
  },
  {
   "cell_type": "markdown",
   "id": "6701859a",
   "metadata": {},
   "source": [
    "## Common parameters"
   ]
  },
  {
   "cell_type": "code",
   "execution_count": 158,
   "id": "695f2277",
   "metadata": {},
   "outputs": [
    {
     "data": {
      "text/html": [
       "'_protein_coding_wo_pseudogene'"
      ],
      "text/latex": [
       "'\\_protein\\_coding\\_wo\\_pseudogene'"
      ],
      "text/markdown": [
       "'_protein_coding_wo_pseudogene'"
      ],
      "text/plain": [
       "[1] \"_protein_coding_wo_pseudogene\""
      ]
     },
     "metadata": {},
     "output_type": "display_data"
    }
   ],
   "source": [
    "f_display_sym <- FALSE\n",
    "seed_geom_text_repel <- 40\n",
    "\n",
    "#biotype_exclude <- NULL\n",
    "biotype_exclude <- \"pseudogene\"  # current chice of fig2\n",
    "#biotype_exclude <- \"protein_coding|pseudogene\"\n",
    "\n",
    "#biotype_include <- NULL\n",
    "biotype_include <- \"protein_coding\"  # current choice of fig2\n",
    "\n",
    "# rsem with --outFilterMultimapNmax 20\n",
    "fname_appendix <- \"\"\n",
    "\n",
    "# htseq\n",
    "#fname_appendix <- \"_htseq\"\n",
    "\n",
    "if (!is.null(biotype_include)) {\n",
    "    fname_appendix <- sprintf(\"%s_%s\", fname_appendix, gsub(\"\\\\|\", \"_\", biotype_include))\n",
    "} \n",
    "if (!is.null(biotype_exclude)) {\n",
    "    fname_appendix <- sprintf(\"%s_wo_%s\", fname_appendix, gsub(\"\\\\|\", \"_\", biotype_exclude))\n",
    "} \n",
    "\n",
    "fname_appendix"
   ]
  },
  {
   "cell_type": "code",
   "execution_count": null,
   "id": "2b262921",
   "metadata": {},
   "outputs": [],
   "source": []
  }
 ],
 "metadata": {
  "kernelspec": {
   "display_name": "R",
   "language": "R",
   "name": "ir"
  },
  "language_info": {
   "codemirror_mode": "r",
   "file_extension": ".r",
   "mimetype": "text/x-r-source",
   "name": "R",
   "pygments_lexer": "r",
   "version": "4.1.0"
  }
 },
 "nbformat": 4,
 "nbformat_minor": 5
}
