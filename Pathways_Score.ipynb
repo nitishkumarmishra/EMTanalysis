{
 "cells": [
  {
   "cell_type": "markdown",
   "id": "1c931496",
   "metadata": {},
   "source": [
    "# Cell cycle score calculation"
   ]
  },
  {
   "cell_type": "markdown",
   "id": "60f6d6d4",
   "metadata": {},
   "source": [
    "<b>This code is for the Cell cycle (S,G2/M), cell cycle progression (CCP), hypoxia,  mesenchymal and epithelial score calculation.</b><br>\n",
    "In this analysis I am calculating score for above pathways by using common biomarker genes.<br>\n",
    "This is basic methodology for cell cycles score by using Seurat, but I am using my own code.\n",
    "https://hbctraining.github.io/scRNA-seq/lessons/cell_cycle_scoring.html <br>\n",
    "https://satijalab.org/seurat/reference/cc.genes.updated.2019.html#source <br>\n",
    "<b> Cell cycle </b> genes :: https://raw.githubusercontent.com/hbc/tinyatlas/master/cell_cycle/Mus_musculus.csv <br>\n",
    "https://github.com/hbc/tinyatlas <br>\n",
    "<b>Cell cycle progession (CCP) </b> score :: https://www.sciencedirect.com/science/article/pii/S1535610818305828?via%3Dihub<br>\n",
    "<b>Hypoxia Biomaker</b> https:://www.sciencedirect.com/science/article/pii/S0936655515003118 <br>\n",
    "<b>Stemness biomarker genes list </b>are available at www.pnas.org/cgi/doi/10.1073/pnas.1818210116 <br>\n",
    "\n",
    "Omit genes below the median of average expression across samples Biranda et al. PNAS Stemness paper. At this point I didn't remove genes based on median expression cutoff. <br>\n",
    "CCP manuscript also have Hypoxia score methodology, but I am not using that one.\n"
   ]
  },
  {
   "cell_type": "markdown",
   "id": "d02e2338",
   "metadata": {},
   "source": [
    "## Global parameter"
   ]
  },
  {
   "cell_type": "code",
   "execution_count": 3,
   "id": "8ba5f101",
   "metadata": {},
   "outputs": [],
   "source": [
    "suppressMessages(suppressWarnings(library(dplyr)))\n",
    "suppressMessages(suppressWarnings(library(rtracklayer)))\n",
    "suppressMessages(suppressWarnings(library(edgeR)))\n",
    "suppressMessages(suppressWarnings(library(limma)))"
   ]
  },
  {
   "cell_type": "markdown",
   "id": "5a1d0466",
   "metadata": {},
   "source": [
    "## Read GTF file"
   ]
  },
  {
   "cell_type": "code",
   "execution_count": 4,
   "id": "bd63ee2a",
   "metadata": {},
   "outputs": [
    {
     "data": {
      "text/html": [
       "<table class=\"dataframe\">\n",
       "<caption>A data.frame: 6 × 27</caption>\n",
       "<thead>\n",
       "\t<tr><th></th><th scope=col>seqnames</th><th scope=col>start</th><th scope=col>end</th><th scope=col>width</th><th scope=col>strand</th><th scope=col>source</th><th scope=col>type</th><th scope=col>score</th><th scope=col>phase</th><th scope=col>gene_id</th><th scope=col>...</th><th scope=col>transcript_source</th><th scope=col>transcript_biotype</th><th scope=col>tag</th><th scope=col>transcript_support_level</th><th scope=col>exon_number</th><th scope=col>exon_id</th><th scope=col>exon_version</th><th scope=col>protein_id</th><th scope=col>protein_version</th><th scope=col>ccds_id</th></tr>\n",
       "\t<tr><th></th><th scope=col>&lt;fct&gt;</th><th scope=col>&lt;int&gt;</th><th scope=col>&lt;int&gt;</th><th scope=col>&lt;int&gt;</th><th scope=col>&lt;fct&gt;</th><th scope=col>&lt;fct&gt;</th><th scope=col>&lt;fct&gt;</th><th scope=col>&lt;dbl&gt;</th><th scope=col>&lt;int&gt;</th><th scope=col>&lt;chr&gt;</th><th scope=col>...</th><th scope=col>&lt;chr&gt;</th><th scope=col>&lt;chr&gt;</th><th scope=col>&lt;chr&gt;</th><th scope=col>&lt;chr&gt;</th><th scope=col>&lt;chr&gt;</th><th scope=col>&lt;chr&gt;</th><th scope=col>&lt;chr&gt;</th><th scope=col>&lt;chr&gt;</th><th scope=col>&lt;chr&gt;</th><th scope=col>&lt;chr&gt;</th></tr>\n",
       "</thead>\n",
       "<tbody>\n",
       "\t<tr><th scope=row>1</th><td>1</td><td>150956201</td><td>150958296</td><td>2096</td><td>+</td><td>havana</td><td>gene      </td><td>NA</td><td>NA</td><td>ENSMUSG00000102628</td><td>...</td><td>NA    </td><td>NA                  </td><td>NA   </td><td>NA                                 </td><td>NA</td><td>NA                </td><td>NA</td><td>NA</td><td>NA</td><td>NA</td></tr>\n",
       "\t<tr><th scope=row>2</th><td>1</td><td>150956201</td><td>150958296</td><td>2096</td><td>+</td><td>havana</td><td>transcript</td><td>NA</td><td>NA</td><td>ENSMUSG00000102628</td><td>...</td><td>havana</td><td>TEC                 </td><td>basic</td><td>NA (assigned to previous version 1)</td><td>NA</td><td>NA                </td><td>NA</td><td>NA</td><td>NA</td><td>NA</td></tr>\n",
       "\t<tr><th scope=row>3</th><td>1</td><td>150956201</td><td>150958296</td><td>2096</td><td>+</td><td>havana</td><td>exon      </td><td>NA</td><td>NA</td><td>ENSMUSG00000102628</td><td>...</td><td>havana</td><td>TEC                 </td><td>basic</td><td>NA (assigned to previous version 1)</td><td>1 </td><td>ENSMUSE00001342333</td><td>2 </td><td>NA</td><td>NA</td><td>NA</td></tr>\n",
       "\t<tr><th scope=row>4</th><td>1</td><td>150983666</td><td>150984611</td><td> 946</td><td>+</td><td>havana</td><td>gene      </td><td>NA</td><td>NA</td><td>ENSMUSG00000100595</td><td>...</td><td>NA    </td><td>NA                  </td><td>NA   </td><td>NA                                 </td><td>NA</td><td>NA                </td><td>NA</td><td>NA</td><td>NA</td><td>NA</td></tr>\n",
       "\t<tr><th scope=row>5</th><td>1</td><td>150983666</td><td>150984611</td><td> 946</td><td>+</td><td>havana</td><td>transcript</td><td>NA</td><td>NA</td><td>ENSMUSG00000100595</td><td>...</td><td>havana</td><td>processed_pseudogene</td><td>basic</td><td>NA (assigned to previous version 1)</td><td>NA</td><td>NA                </td><td>NA</td><td>NA</td><td>NA</td><td>NA</td></tr>\n",
       "\t<tr><th scope=row>6</th><td>1</td><td>150983666</td><td>150984611</td><td> 946</td><td>+</td><td>havana</td><td>exon      </td><td>NA</td><td>NA</td><td>ENSMUSG00000100595</td><td>...</td><td>havana</td><td>processed_pseudogene</td><td>basic</td><td>NA (assigned to previous version 1)</td><td>1 </td><td>ENSMUSE00001324949</td><td>2 </td><td>NA</td><td>NA</td><td>NA</td></tr>\n",
       "</tbody>\n",
       "</table>\n"
      ],
      "text/latex": [
       "A data.frame: 6 × 27\n",
       "\\begin{tabular}{r|lllllllllllllllllllll}\n",
       "  & seqnames & start & end & width & strand & source & type & score & phase & gene\\_id & ... & transcript\\_source & transcript\\_biotype & tag & transcript\\_support\\_level & exon\\_number & exon\\_id & exon\\_version & protein\\_id & protein\\_version & ccds\\_id\\\\\n",
       "  & <fct> & <int> & <int> & <int> & <fct> & <fct> & <fct> & <dbl> & <int> & <chr> & ... & <chr> & <chr> & <chr> & <chr> & <chr> & <chr> & <chr> & <chr> & <chr> & <chr>\\\\\n",
       "\\hline\n",
       "\t1 & 1 & 150956201 & 150958296 & 2096 & + & havana & gene       & NA & NA & ENSMUSG00000102628 & ... & NA     & NA                   & NA    & NA                                  & NA & NA                 & NA & NA & NA & NA\\\\\n",
       "\t2 & 1 & 150956201 & 150958296 & 2096 & + & havana & transcript & NA & NA & ENSMUSG00000102628 & ... & havana & TEC                  & basic & NA (assigned to previous version 1) & NA & NA                 & NA & NA & NA & NA\\\\\n",
       "\t3 & 1 & 150956201 & 150958296 & 2096 & + & havana & exon       & NA & NA & ENSMUSG00000102628 & ... & havana & TEC                  & basic & NA (assigned to previous version 1) & 1  & ENSMUSE00001342333 & 2  & NA & NA & NA\\\\\n",
       "\t4 & 1 & 150983666 & 150984611 &  946 & + & havana & gene       & NA & NA & ENSMUSG00000100595 & ... & NA     & NA                   & NA    & NA                                  & NA & NA                 & NA & NA & NA & NA\\\\\n",
       "\t5 & 1 & 150983666 & 150984611 &  946 & + & havana & transcript & NA & NA & ENSMUSG00000100595 & ... & havana & processed\\_pseudogene & basic & NA (assigned to previous version 1) & NA & NA                 & NA & NA & NA & NA\\\\\n",
       "\t6 & 1 & 150983666 & 150984611 &  946 & + & havana & exon       & NA & NA & ENSMUSG00000100595 & ... & havana & processed\\_pseudogene & basic & NA (assigned to previous version 1) & 1  & ENSMUSE00001324949 & 2  & NA & NA & NA\\\\\n",
       "\\end{tabular}\n"
      ],
      "text/markdown": [
       "\n",
       "A data.frame: 6 × 27\n",
       "\n",
       "| <!--/--> | seqnames &lt;fct&gt; | start &lt;int&gt; | end &lt;int&gt; | width &lt;int&gt; | strand &lt;fct&gt; | source &lt;fct&gt; | type &lt;fct&gt; | score &lt;dbl&gt; | phase &lt;int&gt; | gene_id &lt;chr&gt; | ... ... | transcript_source &lt;chr&gt; | transcript_biotype &lt;chr&gt; | tag &lt;chr&gt; | transcript_support_level &lt;chr&gt; | exon_number &lt;chr&gt; | exon_id &lt;chr&gt; | exon_version &lt;chr&gt; | protein_id &lt;chr&gt; | protein_version &lt;chr&gt; | ccds_id &lt;chr&gt; |\n",
       "|---|---|---|---|---|---|---|---|---|---|---|---|---|---|---|---|---|---|---|---|---|---|\n",
       "| 1 | 1 | 150956201 | 150958296 | 2096 | + | havana | gene       | NA | NA | ENSMUSG00000102628 | ... | NA     | NA                   | NA    | NA                                  | NA | NA                 | NA | NA | NA | NA |\n",
       "| 2 | 1 | 150956201 | 150958296 | 2096 | + | havana | transcript | NA | NA | ENSMUSG00000102628 | ... | havana | TEC                  | basic | NA (assigned to previous version 1) | NA | NA                 | NA | NA | NA | NA |\n",
       "| 3 | 1 | 150956201 | 150958296 | 2096 | + | havana | exon       | NA | NA | ENSMUSG00000102628 | ... | havana | TEC                  | basic | NA (assigned to previous version 1) | 1  | ENSMUSE00001342333 | 2  | NA | NA | NA |\n",
       "| 4 | 1 | 150983666 | 150984611 |  946 | + | havana | gene       | NA | NA | ENSMUSG00000100595 | ... | NA     | NA                   | NA    | NA                                  | NA | NA                 | NA | NA | NA | NA |\n",
       "| 5 | 1 | 150983666 | 150984611 |  946 | + | havana | transcript | NA | NA | ENSMUSG00000100595 | ... | havana | processed_pseudogene | basic | NA (assigned to previous version 1) | NA | NA                 | NA | NA | NA | NA |\n",
       "| 6 | 1 | 150983666 | 150984611 |  946 | + | havana | exon       | NA | NA | ENSMUSG00000100595 | ... | havana | processed_pseudogene | basic | NA (assigned to previous version 1) | 1  | ENSMUSE00001324949 | 2  | NA | NA | NA |\n",
       "\n"
      ],
      "text/plain": [
       "  seqnames start     end       width strand source type       score phase\n",
       "1 1        150956201 150958296 2096  +      havana gene       NA    NA   \n",
       "2 1        150956201 150958296 2096  +      havana transcript NA    NA   \n",
       "3 1        150956201 150958296 2096  +      havana exon       NA    NA   \n",
       "4 1        150983666 150984611  946  +      havana gene       NA    NA   \n",
       "5 1        150983666 150984611  946  +      havana transcript NA    NA   \n",
       "6 1        150983666 150984611  946  +      havana exon       NA    NA   \n",
       "  gene_id            ... transcript_source transcript_biotype   tag  \n",
       "1 ENSMUSG00000102628 ... NA                NA                   NA   \n",
       "2 ENSMUSG00000102628 ... havana            TEC                  basic\n",
       "3 ENSMUSG00000102628 ... havana            TEC                  basic\n",
       "4 ENSMUSG00000100595 ... NA                NA                   NA   \n",
       "5 ENSMUSG00000100595 ... havana            processed_pseudogene basic\n",
       "6 ENSMUSG00000100595 ... havana            processed_pseudogene basic\n",
       "  transcript_support_level            exon_number exon_id           \n",
       "1 NA                                  NA          NA                \n",
       "2 NA (assigned to previous version 1) NA          NA                \n",
       "3 NA (assigned to previous version 1) 1           ENSMUSE00001342333\n",
       "4 NA                                  NA          NA                \n",
       "5 NA (assigned to previous version 1) NA          NA                \n",
       "6 NA (assigned to previous version 1) 1           ENSMUSE00001324949\n",
       "  exon_version protein_id protein_version ccds_id\n",
       "1 NA           NA         NA              NA     \n",
       "2 NA           NA         NA              NA     \n",
       "3 2            NA         NA              NA     \n",
       "4 NA           NA         NA              NA     \n",
       "5 NA           NA         NA              NA     \n",
       "6 2            NA         NA              NA     "
      ]
     },
     "metadata": {},
     "output_type": "display_data"
    },
    {
     "data": {
      "text/html": [
       "<style>\n",
       ".list-inline {list-style: none; margin:0; padding: 0}\n",
       ".list-inline>li {display: inline-block}\n",
       ".list-inline>li:not(:last-child)::after {content: \"\\00b7\"; padding: 0 .5ex}\n",
       "</style>\n",
       "<ol class=list-inline><li>'seqnames'</li><li>'start'</li><li>'end'</li><li>'width'</li><li>'strand'</li><li>'source'</li><li>'type'</li><li>'score'</li><li>'phase'</li><li>'gene_id'</li><li>'gene_version'</li><li>'gene_name'</li><li>'gene_source'</li><li>'gene_biotype'</li><li>'transcript_id'</li><li>'transcript_version'</li><li>'transcript_name'</li><li>'transcript_source'</li><li>'transcript_biotype'</li><li>'tag'</li><li>'transcript_support_level'</li><li>'exon_number'</li><li>'exon_id'</li><li>'exon_version'</li><li>'protein_id'</li><li>'protein_version'</li><li>'ccds_id'</li></ol>\n"
      ],
      "text/latex": [
       "\\begin{enumerate*}\n",
       "\\item 'seqnames'\n",
       "\\item 'start'\n",
       "\\item 'end'\n",
       "\\item 'width'\n",
       "\\item 'strand'\n",
       "\\item 'source'\n",
       "\\item 'type'\n",
       "\\item 'score'\n",
       "\\item 'phase'\n",
       "\\item 'gene\\_id'\n",
       "\\item 'gene\\_version'\n",
       "\\item 'gene\\_name'\n",
       "\\item 'gene\\_source'\n",
       "\\item 'gene\\_biotype'\n",
       "\\item 'transcript\\_id'\n",
       "\\item 'transcript\\_version'\n",
       "\\item 'transcript\\_name'\n",
       "\\item 'transcript\\_source'\n",
       "\\item 'transcript\\_biotype'\n",
       "\\item 'tag'\n",
       "\\item 'transcript\\_support\\_level'\n",
       "\\item 'exon\\_number'\n",
       "\\item 'exon\\_id'\n",
       "\\item 'exon\\_version'\n",
       "\\item 'protein\\_id'\n",
       "\\item 'protein\\_version'\n",
       "\\item 'ccds\\_id'\n",
       "\\end{enumerate*}\n"
      ],
      "text/markdown": [
       "1. 'seqnames'\n",
       "2. 'start'\n",
       "3. 'end'\n",
       "4. 'width'\n",
       "5. 'strand'\n",
       "6. 'source'\n",
       "7. 'type'\n",
       "8. 'score'\n",
       "9. 'phase'\n",
       "10. 'gene_id'\n",
       "11. 'gene_version'\n",
       "12. 'gene_name'\n",
       "13. 'gene_source'\n",
       "14. 'gene_biotype'\n",
       "15. 'transcript_id'\n",
       "16. 'transcript_version'\n",
       "17. 'transcript_name'\n",
       "18. 'transcript_source'\n",
       "19. 'transcript_biotype'\n",
       "20. 'tag'\n",
       "21. 'transcript_support_level'\n",
       "22. 'exon_number'\n",
       "23. 'exon_id'\n",
       "24. 'exon_version'\n",
       "25. 'protein_id'\n",
       "26. 'protein_version'\n",
       "27. 'ccds_id'\n",
       "\n",
       "\n"
      ],
      "text/plain": [
       " [1] \"seqnames\"                 \"start\"                   \n",
       " [3] \"end\"                      \"width\"                   \n",
       " [5] \"strand\"                   \"source\"                  \n",
       " [7] \"type\"                     \"score\"                   \n",
       " [9] \"phase\"                    \"gene_id\"                 \n",
       "[11] \"gene_version\"             \"gene_name\"               \n",
       "[13] \"gene_source\"              \"gene_biotype\"            \n",
       "[15] \"transcript_id\"            \"transcript_version\"      \n",
       "[17] \"transcript_name\"          \"transcript_source\"       \n",
       "[19] \"transcript_biotype\"       \"tag\"                     \n",
       "[21] \"transcript_support_level\" \"exon_number\"             \n",
       "[23] \"exon_id\"                  \"exon_version\"            \n",
       "[25] \"protein_id\"               \"protein_version\"         \n",
       "[27] \"ccds_id\"                 "
      ]
     },
     "metadata": {},
     "output_type": "display_data"
    }
   ],
   "source": [
    "GTF=\"Mus_musculus.GRCm39.104.rdna_rn18s.gtf.gz\"\n",
    "GTF <- import(GTF)\n",
    "gencode.vM27.gtf <- as.data.frame(GTF)\n",
    "head(gencode.vM27.gtf)\n",
    "colnames(gencode.vM27.gtf)"
   ]
  },
  {
   "cell_type": "code",
   "execution_count": 5,
   "id": "480c4d85",
   "metadata": {},
   "outputs": [
    {
     "data": {
      "text/html": [
       "<table class=\"dataframe\">\n",
       "<caption>A data.frame: 6 × 8</caption>\n",
       "<thead>\n",
       "\t<tr><th></th><th scope=col>Geneid</th><th scope=col>GeneSymbol</th><th scope=col>Chromosome</th><th scope=col>Start</th><th scope=col>End</th><th scope=col>Class</th><th scope=col>Strand</th><th scope=col>Length</th></tr>\n",
       "\t<tr><th></th><th scope=col>&lt;chr&gt;</th><th scope=col>&lt;chr&gt;</th><th scope=col>&lt;fct&gt;</th><th scope=col>&lt;int&gt;</th><th scope=col>&lt;int&gt;</th><th scope=col>&lt;chr&gt;</th><th scope=col>&lt;fct&gt;</th><th scope=col>&lt;int&gt;</th></tr>\n",
       "</thead>\n",
       "<tbody>\n",
       "\t<tr><th scope=row>ENSMUSG00000102628</th><td>ENSMUSG00000102628</td><td>Gm37671</td><td>1</td><td>150956201</td><td>150958296</td><td>TEC                 </td><td>+</td><td>2096</td></tr>\n",
       "\t<tr><th scope=row>ENSMUSG00000100595</th><td>ENSMUSG00000100595</td><td>Gm19087</td><td>1</td><td>150983666</td><td>150984611</td><td>processed_pseudogene</td><td>+</td><td> 946</td></tr>\n",
       "\t<tr><th scope=row>ENSMUSG00000097426</th><td>ENSMUSG00000097426</td><td>Gm8941 </td><td>1</td><td>151012258</td><td>151013531</td><td>processed_pseudogene</td><td>+</td><td>1274</td></tr>\n",
       "\t<tr><th scope=row>ENSMUSG00000104478</th><td>ENSMUSG00000104478</td><td>Gm38212</td><td>1</td><td>108344807</td><td>108347562</td><td>TEC                 </td><td>+</td><td>2756</td></tr>\n",
       "\t<tr><th scope=row>ENSMUSG00000104385</th><td>ENSMUSG00000104385</td><td>Gm7449 </td><td>1</td><td>  6980784</td><td>  6981446</td><td>processed_pseudogene</td><td>+</td><td> 663</td></tr>\n",
       "\t<tr><th scope=row>ENSMUSG00000086053</th><td>ENSMUSG00000086053</td><td>Gm15178</td><td>1</td><td> 75368775</td><td> 75373007</td><td>lncRNA              </td><td>-</td><td>4233</td></tr>\n",
       "</tbody>\n",
       "</table>\n"
      ],
      "text/latex": [
       "A data.frame: 6 × 8\n",
       "\\begin{tabular}{r|llllllll}\n",
       "  & Geneid & GeneSymbol & Chromosome & Start & End & Class & Strand & Length\\\\\n",
       "  & <chr> & <chr> & <fct> & <int> & <int> & <chr> & <fct> & <int>\\\\\n",
       "\\hline\n",
       "\tENSMUSG00000102628 & ENSMUSG00000102628 & Gm37671 & 1 & 150956201 & 150958296 & TEC                  & + & 2096\\\\\n",
       "\tENSMUSG00000100595 & ENSMUSG00000100595 & Gm19087 & 1 & 150983666 & 150984611 & processed\\_pseudogene & + &  946\\\\\n",
       "\tENSMUSG00000097426 & ENSMUSG00000097426 & Gm8941  & 1 & 151012258 & 151013531 & processed\\_pseudogene & + & 1274\\\\\n",
       "\tENSMUSG00000104478 & ENSMUSG00000104478 & Gm38212 & 1 & 108344807 & 108347562 & TEC                  & + & 2756\\\\\n",
       "\tENSMUSG00000104385 & ENSMUSG00000104385 & Gm7449  & 1 &   6980784 &   6981446 & processed\\_pseudogene & + &  663\\\\\n",
       "\tENSMUSG00000086053 & ENSMUSG00000086053 & Gm15178 & 1 &  75368775 &  75373007 & lncRNA               & - & 4233\\\\\n",
       "\\end{tabular}\n"
      ],
      "text/markdown": [
       "\n",
       "A data.frame: 6 × 8\n",
       "\n",
       "| <!--/--> | Geneid &lt;chr&gt; | GeneSymbol &lt;chr&gt; | Chromosome &lt;fct&gt; | Start &lt;int&gt; | End &lt;int&gt; | Class &lt;chr&gt; | Strand &lt;fct&gt; | Length &lt;int&gt; |\n",
       "|---|---|---|---|---|---|---|---|---|\n",
       "| ENSMUSG00000102628 | ENSMUSG00000102628 | Gm37671 | 1 | 150956201 | 150958296 | TEC                  | + | 2096 |\n",
       "| ENSMUSG00000100595 | ENSMUSG00000100595 | Gm19087 | 1 | 150983666 | 150984611 | processed_pseudogene | + |  946 |\n",
       "| ENSMUSG00000097426 | ENSMUSG00000097426 | Gm8941  | 1 | 151012258 | 151013531 | processed_pseudogene | + | 1274 |\n",
       "| ENSMUSG00000104478 | ENSMUSG00000104478 | Gm38212 | 1 | 108344807 | 108347562 | TEC                  | + | 2756 |\n",
       "| ENSMUSG00000104385 | ENSMUSG00000104385 | Gm7449  | 1 |   6980784 |   6981446 | processed_pseudogene | + |  663 |\n",
       "| ENSMUSG00000086053 | ENSMUSG00000086053 | Gm15178 | 1 |  75368775 |  75373007 | lncRNA               | - | 4233 |\n",
       "\n"
      ],
      "text/plain": [
       "                   Geneid             GeneSymbol Chromosome Start     End      \n",
       "ENSMUSG00000102628 ENSMUSG00000102628 Gm37671    1          150956201 150958296\n",
       "ENSMUSG00000100595 ENSMUSG00000100595 Gm19087    1          150983666 150984611\n",
       "ENSMUSG00000097426 ENSMUSG00000097426 Gm8941     1          151012258 151013531\n",
       "ENSMUSG00000104478 ENSMUSG00000104478 Gm38212    1          108344807 108347562\n",
       "ENSMUSG00000104385 ENSMUSG00000104385 Gm7449     1            6980784   6981446\n",
       "ENSMUSG00000086053 ENSMUSG00000086053 Gm15178    1           75368775  75373007\n",
       "                   Class                Strand Length\n",
       "ENSMUSG00000102628 TEC                  +      2096  \n",
       "ENSMUSG00000100595 processed_pseudogene +       946  \n",
       "ENSMUSG00000097426 processed_pseudogene +      1274  \n",
       "ENSMUSG00000104478 TEC                  +      2756  \n",
       "ENSMUSG00000104385 processed_pseudogene +       663  \n",
       "ENSMUSG00000086053 lncRNA               -      4233  "
      ]
     },
     "metadata": {},
     "output_type": "display_data"
    }
   ],
   "source": [
    "gene_lengths <- gencode.vM27.gtf %>%\n",
    "  filter(type==\"gene\") %>%\n",
    "  dplyr::rename(Chromosome= seqnames, Type= type, Geneid = gene_id, Class=gene_biotype, GeneSymbol= gene_name, Length=width, Start = start, End=end, Strand=strand) %>%\n",
    "  select(Geneid, GeneSymbol, Chromosome, Start, End, Class,  Strand, Length) %>%\n",
    "  filter(!grepl(\"chrM\",Chromosome))\n",
    "\n",
    "rownames(gene_lengths) <- gene_lengths$Geneid\n",
    "head(gene_lengths)"
   ]
  },
  {
   "cell_type": "markdown",
   "id": "df9982d8",
   "metadata": {},
   "source": [
    "## Gene expression"
   ]
  },
  {
   "cell_type": "code",
   "execution_count": 6,
   "id": "207265c8",
   "metadata": {},
   "outputs": [
    {
     "data": {
      "text/html": [
       "<table class=\"dataframe\">\n",
       "<caption>A data.frame: 6 × 9</caption>\n",
       "<thead>\n",
       "\t<tr><th></th><th scope=col>JBQS001</th><th scope=col>JBQS002</th><th scope=col>JBQS003</th><th scope=col>JBQS004</th><th scope=col>JBQS005</th><th scope=col>JBQS006</th><th scope=col>JBQS007</th><th scope=col>JBQS008</th><th scope=col>JBQS009</th></tr>\n",
       "\t<tr><th></th><th scope=col>&lt;int&gt;</th><th scope=col>&lt;int&gt;</th><th scope=col>&lt;int&gt;</th><th scope=col>&lt;int&gt;</th><th scope=col>&lt;int&gt;</th><th scope=col>&lt;int&gt;</th><th scope=col>&lt;int&gt;</th><th scope=col>&lt;int&gt;</th><th scope=col>&lt;int&gt;</th></tr>\n",
       "</thead>\n",
       "<tbody>\n",
       "\t<tr><th scope=row>__alignment_not_unique</th><td>        0</td><td>       0</td><td>       0</td><td>       0</td><td>       0</td><td>        0</td><td>       0</td><td>        0</td><td>       0</td></tr>\n",
       "\t<tr><th scope=row>__ambiguous</th><td>  2560090</td><td> 1985537</td><td> 2111861</td><td> 2173495</td><td> 2588939</td><td>  2547004</td><td> 1475506</td><td>  2456396</td><td> 1492933</td></tr>\n",
       "\t<tr><th scope=row>__no_feature</th><td>  7214805</td><td> 5557028</td><td> 6265574</td><td> 5430678</td><td> 6721998</td><td>  7243883</td><td> 4780631</td><td>  6372950</td><td> 4928527</td></tr>\n",
       "\t<tr><th scope=row>__not_aligned</th><td>108660468</td><td>83657393</td><td>91248863</td><td>86022491</td><td>99134745</td><td>117253539</td><td>75553198</td><td>101248621</td><td>67440141</td></tr>\n",
       "\t<tr><th scope=row>rDNA_promoter</th><td>        0</td><td>       0</td><td>       0</td><td>       0</td><td>       0</td><td>        0</td><td>       0</td><td>        0</td><td>       0</td></tr>\n",
       "\t<tr><th scope=row>rDNA_promoter1</th><td>        0</td><td>       0</td><td>       0</td><td>       0</td><td>       0</td><td>        0</td><td>       0</td><td>        0</td><td>       0</td></tr>\n",
       "</tbody>\n",
       "</table>\n"
      ],
      "text/latex": [
       "A data.frame: 6 × 9\n",
       "\\begin{tabular}{r|lllllllll}\n",
       "  & JBQS001 & JBQS002 & JBQS003 & JBQS004 & JBQS005 & JBQS006 & JBQS007 & JBQS008 & JBQS009\\\\\n",
       "  & <int> & <int> & <int> & <int> & <int> & <int> & <int> & <int> & <int>\\\\\n",
       "\\hline\n",
       "\t\\_\\_alignment\\_not\\_unique &         0 &        0 &        0 &        0 &        0 &         0 &        0 &         0 &        0\\\\\n",
       "\t\\_\\_ambiguous &   2560090 &  1985537 &  2111861 &  2173495 &  2588939 &   2547004 &  1475506 &   2456396 &  1492933\\\\\n",
       "\t\\_\\_no\\_feature &   7214805 &  5557028 &  6265574 &  5430678 &  6721998 &   7243883 &  4780631 &   6372950 &  4928527\\\\\n",
       "\t\\_\\_not\\_aligned & 108660468 & 83657393 & 91248863 & 86022491 & 99134745 & 117253539 & 75553198 & 101248621 & 67440141\\\\\n",
       "\trDNA\\_promoter &         0 &        0 &        0 &        0 &        0 &         0 &        0 &         0 &        0\\\\\n",
       "\trDNA\\_promoter1 &         0 &        0 &        0 &        0 &        0 &         0 &        0 &         0 &        0\\\\\n",
       "\\end{tabular}\n"
      ],
      "text/markdown": [
       "\n",
       "A data.frame: 6 × 9\n",
       "\n",
       "| <!--/--> | JBQS001 &lt;int&gt; | JBQS002 &lt;int&gt; | JBQS003 &lt;int&gt; | JBQS004 &lt;int&gt; | JBQS005 &lt;int&gt; | JBQS006 &lt;int&gt; | JBQS007 &lt;int&gt; | JBQS008 &lt;int&gt; | JBQS009 &lt;int&gt; |\n",
       "|---|---|---|---|---|---|---|---|---|---|\n",
       "| __alignment_not_unique |         0 |        0 |        0 |        0 |        0 |         0 |        0 |         0 |        0 |\n",
       "| __ambiguous |   2560090 |  1985537 |  2111861 |  2173495 |  2588939 |   2547004 |  1475506 |   2456396 |  1492933 |\n",
       "| __no_feature |   7214805 |  5557028 |  6265574 |  5430678 |  6721998 |   7243883 |  4780631 |   6372950 |  4928527 |\n",
       "| __not_aligned | 108660468 | 83657393 | 91248863 | 86022491 | 99134745 | 117253539 | 75553198 | 101248621 | 67440141 |\n",
       "| rDNA_promoter |         0 |        0 |        0 |        0 |        0 |         0 |        0 |         0 |        0 |\n",
       "| rDNA_promoter1 |         0 |        0 |        0 |        0 |        0 |         0 |        0 |         0 |        0 |\n",
       "\n"
      ],
      "text/plain": [
       "                       JBQS001   JBQS002  JBQS003  JBQS004  JBQS005  JBQS006  \n",
       "__alignment_not_unique         0        0        0        0        0         0\n",
       "__ambiguous              2560090  1985537  2111861  2173495  2588939   2547004\n",
       "__no_feature             7214805  5557028  6265574  5430678  6721998   7243883\n",
       "__not_aligned          108660468 83657393 91248863 86022491 99134745 117253539\n",
       "rDNA_promoter                  0        0        0        0        0         0\n",
       "rDNA_promoter1                 0        0        0        0        0         0\n",
       "                       JBQS007  JBQS008   JBQS009 \n",
       "__alignment_not_unique        0         0        0\n",
       "__ambiguous             1475506   2456396  1492933\n",
       "__no_feature            4780631   6372950  4928527\n",
       "__not_aligned          75553198 101248621 67440141\n",
       "rDNA_promoter                 0         0        0\n",
       "rDNA_promoter1                0         0        0"
      ]
     },
     "metadata": {},
     "output_type": "display_data"
    }
   ],
   "source": [
    "Exp <- read.table(\"blancgrp_211613_RNAseq_total_stranded_HTSeq.counts.raw.txt\")\n",
    "\n",
    "sampleTable <- factor(rep(c(\"Control\", \"TGFB\", \"TGFb_CX5461\"), each = 3))\n",
    "Exp <- as.data.frame(Exp)\n",
    "head(Exp)"
   ]
  },
  {
   "cell_type": "code",
   "execution_count": 7,
   "id": "0c4c424d",
   "metadata": {},
   "outputs": [
    {
     "data": {
      "text/html": [
       "<table class=\"dataframe\">\n",
       "<caption>A data.frame: 9 × 1</caption>\n",
       "<thead>\n",
       "\t<tr><th></th><th scope=col>condition</th></tr>\n",
       "\t<tr><th></th><th scope=col>&lt;fct&gt;</th></tr>\n",
       "</thead>\n",
       "<tbody>\n",
       "\t<tr><th scope=row>JBQS001</th><td>Control    </td></tr>\n",
       "\t<tr><th scope=row>JBQS002</th><td>Control    </td></tr>\n",
       "\t<tr><th scope=row>JBQS003</th><td>Control    </td></tr>\n",
       "\t<tr><th scope=row>JBQS004</th><td>TGFB       </td></tr>\n",
       "\t<tr><th scope=row>JBQS005</th><td>TGFB       </td></tr>\n",
       "\t<tr><th scope=row>JBQS006</th><td>TGFB       </td></tr>\n",
       "\t<tr><th scope=row>JBQS007</th><td>TGFb_CX5461</td></tr>\n",
       "\t<tr><th scope=row>JBQS008</th><td>TGFb_CX5461</td></tr>\n",
       "\t<tr><th scope=row>JBQS009</th><td>TGFb_CX5461</td></tr>\n",
       "</tbody>\n",
       "</table>\n"
      ],
      "text/latex": [
       "A data.frame: 9 × 1\n",
       "\\begin{tabular}{r|l}\n",
       "  & condition\\\\\n",
       "  & <fct>\\\\\n",
       "\\hline\n",
       "\tJBQS001 & Control    \\\\\n",
       "\tJBQS002 & Control    \\\\\n",
       "\tJBQS003 & Control    \\\\\n",
       "\tJBQS004 & TGFB       \\\\\n",
       "\tJBQS005 & TGFB       \\\\\n",
       "\tJBQS006 & TGFB       \\\\\n",
       "\tJBQS007 & TGFb\\_CX5461\\\\\n",
       "\tJBQS008 & TGFb\\_CX5461\\\\\n",
       "\tJBQS009 & TGFb\\_CX5461\\\\\n",
       "\\end{tabular}\n"
      ],
      "text/markdown": [
       "\n",
       "A data.frame: 9 × 1\n",
       "\n",
       "| <!--/--> | condition &lt;fct&gt; |\n",
       "|---|---|\n",
       "| JBQS001 | Control     |\n",
       "| JBQS002 | Control     |\n",
       "| JBQS003 | Control     |\n",
       "| JBQS004 | TGFB        |\n",
       "| JBQS005 | TGFB        |\n",
       "| JBQS006 | TGFB        |\n",
       "| JBQS007 | TGFb_CX5461 |\n",
       "| JBQS008 | TGFb_CX5461 |\n",
       "| JBQS009 | TGFb_CX5461 |\n",
       "\n"
      ],
      "text/plain": [
       "        condition  \n",
       "JBQS001 Control    \n",
       "JBQS002 Control    \n",
       "JBQS003 Control    \n",
       "JBQS004 TGFB       \n",
       "JBQS005 TGFB       \n",
       "JBQS006 TGFB       \n",
       "JBQS007 TGFb_CX5461\n",
       "JBQS008 TGFb_CX5461\n",
       "JBQS009 TGFb_CX5461"
      ]
     },
     "metadata": {},
     "output_type": "display_data"
    }
   ],
   "source": [
    "sampleTable <- data.frame(condition = factor(rep(c(\"Control\", \"TGFB\", \"TGFb_CX5461\"), each = 3)))\n",
    "rownames(sampleTable) <- colnames(Exp)\n",
    "sampleTable"
   ]
  },
  {
   "cell_type": "markdown",
   "id": "e7a728e9",
   "metadata": {},
   "source": [
    "## Gene filtering"
   ]
  },
  {
   "cell_type": "code",
   "execution_count": 29,
   "id": "fb62851b",
   "metadata": {},
   "outputs": [],
   "source": [
    "################## Filtering Step/remove probes #####################\n",
    "Gene_filtering <- function(mat, Count_filter=0){\n",
    "  not_all_na <- function(x) any(!is.na(x))\n",
    "  mat <- mat %>%\n",
    "    dplyr::select(where(not_all_na))\n",
    "  mat <- subset(mat, apply(mat, 1, sum) != 0)\n",
    "  #mat <- subset(mat, apply(mat, 2, sum) != 0)# not_all_na already did this\n",
    "  mat <- mat[apply(mat,1,function(x) sum(x<=0))< ncol(mat)*0.75,]##Remove genes which have over 25% zero\n",
    "  mat <- subset(mat, apply(mat, 1, sum) >= Count_filter)\n",
    "  return(mat)}\n",
    "counts <- Gene_filtering(mat = as.data.frame(Exp), Count_filter = 3)"
   ]
  },
  {
   "cell_type": "code",
   "execution_count": 9,
   "id": "1ea57125",
   "metadata": {},
   "outputs": [
    {
     "name": "stderr",
     "output_type": "stream",
     "text": [
      "converting counts to integer mode\n",
      "\n"
     ]
    },
    {
     "data": {
      "text/html": [
       "<table class=\"dataframe\">\n",
       "<caption>A matrix: 6 × 9 of type dbl</caption>\n",
       "<thead>\n",
       "\t<tr><th></th><th scope=col>JBQS001</th><th scope=col>JBQS002</th><th scope=col>JBQS003</th><th scope=col>JBQS004</th><th scope=col>JBQS005</th><th scope=col>JBQS006</th><th scope=col>JBQS007</th><th scope=col>JBQS008</th><th scope=col>JBQS009</th></tr>\n",
       "</thead>\n",
       "<tbody>\n",
       "\t<tr><th scope=row>__ambiguous</th><td>20.9741985</td><td>21.164356</td><td>21.001657</td><td>21.315922</td><td>20.918094</td><td>20.862762</td><td>21.031248</td><td>21.001354</td><td>20.697300</td></tr>\n",
       "\t<tr><th scope=row>__no_feature</th><td>22.4689639</td><td>22.649140</td><td>22.570588</td><td>22.637038</td><td>22.294623</td><td>22.370723</td><td>22.727238</td><td>22.376772</td><td>22.420307</td></tr>\n",
       "\t<tr><th scope=row>__not_aligned</th><td>26.3816866</td><td>26.561248</td><td>26.434876</td><td>26.622547</td><td>26.177052</td><td>26.387447</td><td>26.709458</td><td>26.366569</td><td>26.194686</td></tr>\n",
       "\t<tr><th scope=row>__too_low_aQual</th><td> 0.8517197</td><td> 1.751603</td><td> 0.000000</td><td> 0.000000</td><td> 1.339520</td><td> 1.320386</td><td> 2.421503</td><td> 1.833359</td><td> 2.142923</td></tr>\n",
       "\t<tr><th scope=row>0610009B22Rik</th><td> 5.4741486</td><td> 5.966948</td><td> 5.773086</td><td> 5.782638</td><td> 5.575478</td><td> 5.798375</td><td> 5.654854</td><td> 6.251731</td><td> 5.707315</td></tr>\n",
       "\t<tr><th scope=row>0610009E02Rik</th><td> 3.7943548</td><td> 3.388093</td><td> 3.692662</td><td> 2.202653</td><td> 1.339520</td><td> 2.245898</td><td> 2.767595</td><td> 2.803613</td><td> 2.142923</td></tr>\n",
       "</tbody>\n",
       "</table>\n"
      ],
      "text/latex": [
       "A matrix: 6 × 9 of type dbl\n",
       "\\begin{tabular}{r|lllllllll}\n",
       "  & JBQS001 & JBQS002 & JBQS003 & JBQS004 & JBQS005 & JBQS006 & JBQS007 & JBQS008 & JBQS009\\\\\n",
       "\\hline\n",
       "\t\\_\\_ambiguous & 20.9741985 & 21.164356 & 21.001657 & 21.315922 & 20.918094 & 20.862762 & 21.031248 & 21.001354 & 20.697300\\\\\n",
       "\t\\_\\_no\\_feature & 22.4689639 & 22.649140 & 22.570588 & 22.637038 & 22.294623 & 22.370723 & 22.727238 & 22.376772 & 22.420307\\\\\n",
       "\t\\_\\_not\\_aligned & 26.3816866 & 26.561248 & 26.434876 & 26.622547 & 26.177052 & 26.387447 & 26.709458 & 26.366569 & 26.194686\\\\\n",
       "\t\\_\\_too\\_low\\_aQual &  0.8517197 &  1.751603 &  0.000000 &  0.000000 &  1.339520 &  1.320386 &  2.421503 &  1.833359 &  2.142923\\\\\n",
       "\t0610009B22Rik &  5.4741486 &  5.966948 &  5.773086 &  5.782638 &  5.575478 &  5.798375 &  5.654854 &  6.251731 &  5.707315\\\\\n",
       "\t0610009E02Rik &  3.7943548 &  3.388093 &  3.692662 &  2.202653 &  1.339520 &  2.245898 &  2.767595 &  2.803613 &  2.142923\\\\\n",
       "\\end{tabular}\n"
      ],
      "text/markdown": [
       "\n",
       "A matrix: 6 × 9 of type dbl\n",
       "\n",
       "| <!--/--> | JBQS001 | JBQS002 | JBQS003 | JBQS004 | JBQS005 | JBQS006 | JBQS007 | JBQS008 | JBQS009 |\n",
       "|---|---|---|---|---|---|---|---|---|---|\n",
       "| __ambiguous | 20.9741985 | 21.164356 | 21.001657 | 21.315922 | 20.918094 | 20.862762 | 21.031248 | 21.001354 | 20.697300 |\n",
       "| __no_feature | 22.4689639 | 22.649140 | 22.570588 | 22.637038 | 22.294623 | 22.370723 | 22.727238 | 22.376772 | 22.420307 |\n",
       "| __not_aligned | 26.3816866 | 26.561248 | 26.434876 | 26.622547 | 26.177052 | 26.387447 | 26.709458 | 26.366569 | 26.194686 |\n",
       "| __too_low_aQual |  0.8517197 |  1.751603 |  0.000000 |  0.000000 |  1.339520 |  1.320386 |  2.421503 |  1.833359 |  2.142923 |\n",
       "| 0610009B22Rik |  5.4741486 |  5.966948 |  5.773086 |  5.782638 |  5.575478 |  5.798375 |  5.654854 |  6.251731 |  5.707315 |\n",
       "| 0610009E02Rik |  3.7943548 |  3.388093 |  3.692662 |  2.202653 |  1.339520 |  2.245898 |  2.767595 |  2.803613 |  2.142923 |\n",
       "\n"
      ],
      "text/plain": [
       "                JBQS001    JBQS002   JBQS003   JBQS004   JBQS005   JBQS006  \n",
       "__ambiguous     20.9741985 21.164356 21.001657 21.315922 20.918094 20.862762\n",
       "__no_feature    22.4689639 22.649140 22.570588 22.637038 22.294623 22.370723\n",
       "__not_aligned   26.3816866 26.561248 26.434876 26.622547 26.177052 26.387447\n",
       "__too_low_aQual  0.8517197  1.751603  0.000000  0.000000  1.339520  1.320386\n",
       "0610009B22Rik    5.4741486  5.966948  5.773086  5.782638  5.575478  5.798375\n",
       "0610009E02Rik    3.7943548  3.388093  3.692662  2.202653  1.339520  2.245898\n",
       "                JBQS007   JBQS008   JBQS009  \n",
       "__ambiguous     21.031248 21.001354 20.697300\n",
       "__no_feature    22.727238 22.376772 22.420307\n",
       "__not_aligned   26.709458 26.366569 26.194686\n",
       "__too_low_aQual  2.421503  1.833359  2.142923\n",
       "0610009B22Rik    5.654854  6.251731  5.707315\n",
       "0610009E02Rik    2.767595  2.803613  2.142923"
      ]
     },
     "metadata": {},
     "output_type": "display_data"
    }
   ],
   "source": [
    "dds <- DESeq2::DESeqDataSetFromMatrix(round(counts), sampleTable, ~condition)\n",
    "dds <- estimateSizeFactors( dds )\n",
    "#normalized_counts <- counts(dds, normalized=TRUE)\n",
    "logcounts <- log2( counts(dds, normalized=TRUE) + 1 )\n",
    "\n",
    "head(logcounts)"
   ]
  },
  {
   "cell_type": "code",
   "execution_count": 10,
   "id": "865d1ce7",
   "metadata": {},
   "outputs": [
    {
     "data": {
      "image/png": "[encoded data removed]",
      "text/plain": [
       "Plot with title \"voom: Mean-variance trend\""
      ]
     },
     "metadata": {
      "image/png": {
       "height": 420,
       "width": 420
      }
     },
     "output_type": "display_data"
    }
   ],
   "source": [
    "groupLabels <- rep(c(\"Control\", \"TGFB\", \"CX5461\"), each = 3)\n",
    "TS <- factor(groupLabels, levels = c(\"Control\", \"TGFB\", \"CX5461\"))\n",
    "\n",
    "design <- model.matrix(~ 0 + TS )\n",
    "colnames(design) <- levels(TS)\n",
    "dge <- DGEList(counts = Exp, group = groupLabels)\n",
    "\n",
    "# filter out low expressed genes\n",
    "cpm_cutoff=5; min.expr.counts=1; min.expr.num.samples=3\n",
    "\n",
    "cutoff <- as.vector(cpm(cpm_cutoff,mean(dge$samples$lib.size) ) )\n",
    "#keep <- rowSums(cpm(dge) > cutoff) >= min(as.numeric(table(groupLabels)))\n",
    "keep <- rowSums(getCounts(dge) >= min.expr.counts)  >=  min.expr.num.samples\n",
    "dge <- dge[keep, keep.lib.sizes = FALSE]\n",
    "normMethod = \"TMM\"\n",
    "dge <- calcNormFactors(dge, method=normMethod)\n",
    "#getCounts(dge) #get expression matrix from \n",
    "v <- voom(dge, design, plot = T)\n",
    "#logcounts <- v$E"
   ]
  },
  {
   "cell_type": "code",
   "execution_count": 30,
   "id": "24d161d4",
   "metadata": {},
   "outputs": [
    {
     "data": {
      "text/html": [
       "<table class=\"dataframe\">\n",
       "<caption>A data.frame: 6 × 9</caption>\n",
       "<thead>\n",
       "\t<tr><th></th><th scope=col>JBQS001</th><th scope=col>JBQS002</th><th scope=col>JBQS003</th><th scope=col>JBQS004</th><th scope=col>JBQS005</th><th scope=col>JBQS006</th><th scope=col>JBQS007</th><th scope=col>JBQS008</th><th scope=col>JBQS009</th></tr>\n",
       "\t<tr><th></th><th scope=col>&lt;int&gt;</th><th scope=col>&lt;int&gt;</th><th scope=col>&lt;int&gt;</th><th scope=col>&lt;int&gt;</th><th scope=col>&lt;int&gt;</th><th scope=col>&lt;int&gt;</th><th scope=col>&lt;int&gt;</th><th scope=col>&lt;int&gt;</th><th scope=col>&lt;int&gt;</th></tr>\n",
       "</thead>\n",
       "<tbody>\n",
       "\t<tr><th scope=row>0610009B22Rik</th><td> 54</td><td> 52</td><td> 54</td><td> 45</td><td> 61</td><td> 73</td><td> 34</td><td> 88</td><td> 45</td></tr>\n",
       "\t<tr><th scope=row>0610009E02Rik</th><td> 16</td><td>  8</td><td> 12</td><td>  3</td><td>  2</td><td>  5</td><td>  4</td><td>  7</td><td>  3</td></tr>\n",
       "\t<tr><th scope=row>0610009L18Rik</th><td> 13</td><td>  3</td><td> 10</td><td>  5</td><td> 10</td><td> 15</td><td>  6</td><td> 11</td><td>  7</td></tr>\n",
       "\t<tr><th scope=row>0610010F05Rik</th><td>142</td><td>107</td><td>112</td><td>106</td><td>198</td><td>217</td><td> 80</td><td>128</td><td>131</td></tr>\n",
       "\t<tr><th scope=row>0610010K14Rik</th><td>  0</td><td>  1</td><td>  1</td><td>  4</td><td>  4</td><td>  1</td><td>  1</td><td>  2</td><td>  2</td></tr>\n",
       "\t<tr><th scope=row>0610012G03Rik</th><td>201</td><td>155</td><td>173</td><td>150</td><td>214</td><td>230</td><td>136</td><td>200</td><td>139</td></tr>\n",
       "</tbody>\n",
       "</table>\n"
      ],
      "text/latex": [
       "A data.frame: 6 × 9\n",
       "\\begin{tabular}{r|lllllllll}\n",
       "  & JBQS001 & JBQS002 & JBQS003 & JBQS004 & JBQS005 & JBQS006 & JBQS007 & JBQS008 & JBQS009\\\\\n",
       "  & <int> & <int> & <int> & <int> & <int> & <int> & <int> & <int> & <int>\\\\\n",
       "\\hline\n",
       "\t0610009B22Rik &  54 &  52 &  54 &  45 &  61 &  73 &  34 &  88 &  45\\\\\n",
       "\t0610009E02Rik &  16 &   8 &  12 &   3 &   2 &   5 &   4 &   7 &   3\\\\\n",
       "\t0610009L18Rik &  13 &   3 &  10 &   5 &  10 &  15 &   6 &  11 &   7\\\\\n",
       "\t0610010F05Rik & 142 & 107 & 112 & 106 & 198 & 217 &  80 & 128 & 131\\\\\n",
       "\t0610010K14Rik &   0 &   1 &   1 &   4 &   4 &   1 &   1 &   2 &   2\\\\\n",
       "\t0610012G03Rik & 201 & 155 & 173 & 150 & 214 & 230 & 136 & 200 & 139\\\\\n",
       "\\end{tabular}\n"
      ],
      "text/markdown": [
       "\n",
       "A data.frame: 6 × 9\n",
       "\n",
       "| <!--/--> | JBQS001 &lt;int&gt; | JBQS002 &lt;int&gt; | JBQS003 &lt;int&gt; | JBQS004 &lt;int&gt; | JBQS005 &lt;int&gt; | JBQS006 &lt;int&gt; | JBQS007 &lt;int&gt; | JBQS008 &lt;int&gt; | JBQS009 &lt;int&gt; |\n",
       "|---|---|---|---|---|---|---|---|---|---|\n",
       "| 0610009B22Rik |  54 |  52 |  54 |  45 |  61 |  73 |  34 |  88 |  45 |\n",
       "| 0610009E02Rik |  16 |   8 |  12 |   3 |   2 |   5 |   4 |   7 |   3 |\n",
       "| 0610009L18Rik |  13 |   3 |  10 |   5 |  10 |  15 |   6 |  11 |   7 |\n",
       "| 0610010F05Rik | 142 | 107 | 112 | 106 | 198 | 217 |  80 | 128 | 131 |\n",
       "| 0610010K14Rik |   0 |   1 |   1 |   4 |   4 |   1 |   1 |   2 |   2 |\n",
       "| 0610012G03Rik | 201 | 155 | 173 | 150 | 214 | 230 | 136 | 200 | 139 |\n",
       "\n"
      ],
      "text/plain": [
       "              JBQS001 JBQS002 JBQS003 JBQS004 JBQS005 JBQS006 JBQS007 JBQS008\n",
       "0610009B22Rik  54      52      54      45      61      73      34      88    \n",
       "0610009E02Rik  16       8      12       3       2       5       4       7    \n",
       "0610009L18Rik  13       3      10       5      10      15       6      11    \n",
       "0610010F05Rik 142     107     112     106     198     217      80     128    \n",
       "0610010K14Rik   0       1       1       4       4       1       1       2    \n",
       "0610012G03Rik 201     155     173     150     214     230     136     200    \n",
       "              JBQS009\n",
       "0610009B22Rik  45    \n",
       "0610009E02Rik   3    \n",
       "0610009L18Rik   7    \n",
       "0610010F05Rik 131    \n",
       "0610010K14Rik   2    \n",
       "0610012G03Rik 139    "
      ]
     },
     "metadata": {},
     "output_type": "display_data"
    },
    {
     "data": {
      "text/html": [
       "<table class=\"dataframe\">\n",
       "<caption>A data.frame: 6 × 8</caption>\n",
       "<thead>\n",
       "\t<tr><th></th><th scope=col>Geneid</th><th scope=col>GeneSymbol</th><th scope=col>Chromosome</th><th scope=col>Start</th><th scope=col>End</th><th scope=col>Class</th><th scope=col>Strand</th><th scope=col>Length</th></tr>\n",
       "\t<tr><th></th><th scope=col>&lt;chr&gt;</th><th scope=col>&lt;chr&gt;</th><th scope=col>&lt;fct&gt;</th><th scope=col>&lt;int&gt;</th><th scope=col>&lt;int&gt;</th><th scope=col>&lt;chr&gt;</th><th scope=col>&lt;fct&gt;</th><th scope=col>&lt;int&gt;</th></tr>\n",
       "</thead>\n",
       "<tbody>\n",
       "\t<tr><th scope=row>ENSMUSG00000100480</th><td>ENSMUSG00000100480</td><td>Gm29156</td><td>1</td><td> 43784944</td><td> 43785442</td><td>lncRNA              </td><td>-</td><td>  499</td></tr>\n",
       "\t<tr><th scope=row>ENSMUSG00002076531</th><td>ENSMUSG00002076531</td><td>7SK    </td><td>1</td><td>109732490</td><td>109732774</td><td>misc_RNA            </td><td>+</td><td>  285</td></tr>\n",
       "\t<tr><th scope=row>ENSMUSG00000100025</th><td>ENSMUSG00000100025</td><td>Gm8141 </td><td>1</td><td>109760754</td><td>109762476</td><td>processed_pseudogene</td><td>+</td><td> 1723</td></tr>\n",
       "\t<tr><th scope=row>ENSMUSG00002076687</th><td>ENSMUSG00002076687</td><td>U2     </td><td>1</td><td>151136575</td><td>151136665</td><td>snRNA               </td><td>-</td><td>   91</td></tr>\n",
       "\t<tr><th scope=row>ENSMUSG00000100954</th><td>ENSMUSG00000100954</td><td>Gm10138</td><td>1</td><td>151215355</td><td>151220982</td><td>lncRNA              </td><td>-</td><td> 5628</td></tr>\n",
       "\t<tr><th scope=row>ENSMUSG00000051285</th><td>ENSMUSG00000051285</td><td>Pcmtd1 </td><td>1</td><td>  7159144</td><td>  7243852</td><td>protein_coding      </td><td>+</td><td>84709</td></tr>\n",
       "</tbody>\n",
       "</table>\n"
      ],
      "text/latex": [
       "A data.frame: 6 × 8\n",
       "\\begin{tabular}{r|llllllll}\n",
       "  & Geneid & GeneSymbol & Chromosome & Start & End & Class & Strand & Length\\\\\n",
       "  & <chr> & <chr> & <fct> & <int> & <int> & <chr> & <fct> & <int>\\\\\n",
       "\\hline\n",
       "\tENSMUSG00000100480 & ENSMUSG00000100480 & Gm29156 & 1 &  43784944 &  43785442 & lncRNA               & - &   499\\\\\n",
       "\tENSMUSG00002076531 & ENSMUSG00002076531 & 7SK     & 1 & 109732490 & 109732774 & misc\\_RNA             & + &   285\\\\\n",
       "\tENSMUSG00000100025 & ENSMUSG00000100025 & Gm8141  & 1 & 109760754 & 109762476 & processed\\_pseudogene & + &  1723\\\\\n",
       "\tENSMUSG00002076687 & ENSMUSG00002076687 & U2      & 1 & 151136575 & 151136665 & snRNA                & - &    91\\\\\n",
       "\tENSMUSG00000100954 & ENSMUSG00000100954 & Gm10138 & 1 & 151215355 & 151220982 & lncRNA               & - &  5628\\\\\n",
       "\tENSMUSG00000051285 & ENSMUSG00000051285 & Pcmtd1  & 1 &   7159144 &   7243852 & protein\\_coding       & + & 84709\\\\\n",
       "\\end{tabular}\n"
      ],
      "text/markdown": [
       "\n",
       "A data.frame: 6 × 8\n",
       "\n",
       "| <!--/--> | Geneid &lt;chr&gt; | GeneSymbol &lt;chr&gt; | Chromosome &lt;fct&gt; | Start &lt;int&gt; | End &lt;int&gt; | Class &lt;chr&gt; | Strand &lt;fct&gt; | Length &lt;int&gt; |\n",
       "|---|---|---|---|---|---|---|---|---|\n",
       "| ENSMUSG00000100480 | ENSMUSG00000100480 | Gm29156 | 1 |  43784944 |  43785442 | lncRNA               | - |   499 |\n",
       "| ENSMUSG00002076531 | ENSMUSG00002076531 | 7SK     | 1 | 109732490 | 109732774 | misc_RNA             | + |   285 |\n",
       "| ENSMUSG00000100025 | ENSMUSG00000100025 | Gm8141  | 1 | 109760754 | 109762476 | processed_pseudogene | + |  1723 |\n",
       "| ENSMUSG00002076687 | ENSMUSG00002076687 | U2      | 1 | 151136575 | 151136665 | snRNA                | - |    91 |\n",
       "| ENSMUSG00000100954 | ENSMUSG00000100954 | Gm10138 | 1 | 151215355 | 151220982 | lncRNA               | - |  5628 |\n",
       "| ENSMUSG00000051285 | ENSMUSG00000051285 | Pcmtd1  | 1 |   7159144 |   7243852 | protein_coding       | + | 84709 |\n",
       "\n"
      ],
      "text/plain": [
       "                   Geneid             GeneSymbol Chromosome Start     End      \n",
       "ENSMUSG00000100480 ENSMUSG00000100480 Gm29156    1           43784944  43785442\n",
       "ENSMUSG00002076531 ENSMUSG00002076531 7SK        1          109732490 109732774\n",
       "ENSMUSG00000100025 ENSMUSG00000100025 Gm8141     1          109760754 109762476\n",
       "ENSMUSG00002076687 ENSMUSG00002076687 U2         1          151136575 151136665\n",
       "ENSMUSG00000100954 ENSMUSG00000100954 Gm10138    1          151215355 151220982\n",
       "ENSMUSG00000051285 ENSMUSG00000051285 Pcmtd1     1            7159144   7243852\n",
       "                   Class                Strand Length\n",
       "ENSMUSG00000100480 lncRNA               -        499 \n",
       "ENSMUSG00002076531 misc_RNA             +        285 \n",
       "ENSMUSG00000100025 processed_pseudogene +       1723 \n",
       "ENSMUSG00002076687 snRNA                -         91 \n",
       "ENSMUSG00000100954 lncRNA               -       5628 \n",
       "ENSMUSG00000051285 protein_coding       +      84709 "
      ]
     },
     "metadata": {},
     "output_type": "display_data"
    },
    {
     "data": {
      "text/html": [
       "'data.frame'"
      ],
      "text/latex": [
       "'data.frame'"
      ],
      "text/markdown": [
       "'data.frame'"
      ],
      "text/plain": [
       "[1] \"data.frame\""
      ]
     },
     "metadata": {},
     "output_type": "display_data"
    }
   ],
   "source": [
    "\n",
    "Selected_Gene <- function(mat, geneLength){\n",
    "  genes <- intersect(rownames(mat), geneLength$GeneSymbol)\n",
    "  geneLength <- geneLength[geneLength$GeneSymbol %in% genes,]\n",
    "  geneLength <- geneLength[!duplicated(geneLength$GeneSymbol),]\n",
    "  mat <- as.data.frame(mat[genes,])\n",
    "  return(list(Expression=mat, GeneLength=geneLength))}\n",
    "\n",
    "#scale(log2(RSEM_FPKM+1), center = TRUE, scale = TRUE) ##https://medium.com/swlh/data-normalisation-with-r-6ef1d1947970\n",
    "#exp.scaled <- (scale(log2(t(RSEM_FPKM+1)), center = TRUE, scale = TRUE))\n",
    "\n",
    "#Selected_Gene_Exp <- Selected_Gene(mat = logcounts, geneLength = gene_lengths)\n",
    "Selected_Gene_Exp <- Selected_Gene(mat = counts, geneLength = gene_lengths)\n",
    "head(Selected_Gene_Exp$Expression)\n",
    "head(Selected_Gene_Exp$GeneLength)\n",
    "class(Selected_Gene_Exp$Expression)"
   ]
  },
  {
   "cell_type": "markdown",
   "id": "4d02f775",
   "metadata": {},
   "source": [
    "## Biomakers genes list"
   ]
  },
  {
   "cell_type": "code",
   "execution_count": 12,
   "id": "5eee9534",
   "metadata": {},
   "outputs": [],
   "source": [
    "# https://hbctraining.github.io/scRNA-seq/lessons/cell_cycle_scoring.html\n",
    "mouse.cell.cycle <- read.csv(\"https://raw.githubusercontent.com/hbc/tinyatlas/master/cell_cycle/Mus_musculus.csv\")\n",
    "# www.pnas.org/cgi/doi/10.1073/pnas.1818210116 #Stemness marker\n",
    "#https://satijalab.org/seurat/reference/cc.genes.updated.2019.html#source\n",
    "#Seurat::cc.genes.updated.2019\n",
    "#median(colMeans(logcounts)) ## omit genes below the median of average expression across samples Biranda et al. PNAS Stemness paper\n",
    "cc.S <- mouse.cell.cycle[mouse.cell.cycle$phase==\"S\",]\n",
    "cc.G2 <- mouse.cell.cycle[mouse.cell.cycle$phase==\"G2/M\",]\n",
    "CCP_gene <- stringr::str_to_sentence(c(\"PLK1\", \"RRM2\", \"CDCA8\", \"CDC20\", \"CDCA3\", \"FOXM1\", \"BIRC5\", \"PBK\", \"CDKN3\", \"CENPM\", \"MCM10\", \"TK1\", \"DTL\", \"ASF1B\", \"NUSAP1\", \"PRC1\", \"BUB1B\", \"DLGAP5\", \"TOP2A\", \"ASPM\", \"CENPF\", \"KIF20A\", \"PTTG1\", \"RAD54L\", \"ORC6\", \"CDK1\", \"CEP55\", \"KIF11\", \"RAD51\", \"KIAA0101\", \"SKA1\"))\n",
    "Housekeeping_gene <- stringr::str_to_sentence(c(\"RPL38\", \"UBA52\", \"PSMC1\", \"RPL4\", \"RPL37\", \"RPS29\", \"SLC25A3\", \"CLTC\", \"TXNL1\", \"PSMA1\", \"RPL8\", \"MMADHC\", \"RPL13A\", \"PPP2CA\", \"MRFAP1\"))\n",
    "Hypoxia_Gene <- stringr::str_to_sentence(c(\"BNIP3\", \"F3\", \"LOX\", \"TNF\", \"TH\", \"SLC2A1\", \"PGK1\", \"NDRG1\", \"GAL\", \"BNIP3L\", \"ANG\", \"P4HA1\", \"ADM\", \"AK3\", \"PDK1\", \"ERO1L\", \"ALDOC\", \"PLOD2\", \"P4HA2\", \"MXI1\", \"DDIT4\", \"ANGPTL4\"))\n",
    "Mesenchymal_Gene <- stringr::str_to_sentence(c(\"VIM\", \"CDH2\", \"FOXC2\", \"SNAI1\", \"SNAI2\", \"TWIST1\", \"FN1\", \"ITGB6\", \"MMP2\", \"MMP3\", \"MMP9\", \"SOX10\", \"GCS\"))\n",
    "Epithelial_Gene <- stringr::str_to_sentence(c(\"CDH1\", \"DSP\", \"OCLN\"))\n",
    "STEM_Gene <- stringr::str_to_sentence(c(\"DNMT3B\", \"PFAS\", \"XRCC5\", \"HAUS6\", \"TET1\", \"IGF2BP1\", \"PLAA\", \"TEX10\", \"MSH6\", \"DLGAP5\", \"SKIV2L2\", \"SOHLH2\", \"RRAS2\", \"PAICS\", \"CPSF3\", \"LIN28B\", \"IPO5\", \"BMPR1A\", \"ZNF788\", \"ASCC3\", \"FANCB\", \"HMGA2\", \"TRIM24\", \"ORC1\", \"HDAC2\", \"HESX1\", \"INHBE\", \"MIS18A\", \"DCUN1D5\", \"MRPL3\", \"CENPH\", \"MYCN\", \"HAUS1\", \"GDF3\", \"TBCE\", \"RIOK2\", \"BCKDHB\", \"RAD1\", \"NREP\", \"ADH5\", \"PLRG1\", \"ROR1\", \"RAB3B\", \"DIAPH3\", \"GNL2\", \"FGF2\", \"NMNAT2\", \"KIF20A\", \"CENPI\", \"DDX1\", \"XXYLT1\", \"GPR176\", \"BBS9\", \"C14orf166\", \"BOD1\", \"CDC123\", \"SNRPD3\", \"FAM118B\", \"DPH3\", \"EIF2B3\", \"RPF2\", \"APLP1\", \"DACT1\", \"PDHB\", \"C14orf119\", \"DTD1\", \"SAMM50\", \"CCL26\", \"MED20\", \"UTP6\", \"RARS2\", \"ARMCX2\", \"RARS\", \"MTHFD2\", \"DHX15\", \"HTR7\", \"MTHFD1L\", \"ARMC9\", \"XPOT\", \"IARS\", \"HDX\", \"ACTRT3\", \"ERCC2\", \"TBC1D16\", \"GARS\", \"KIF7\", \"UBE2K\", \"SLC25A3\", \"ICMT\", \"UGGT2\", \"ATP11C\", \"SLC24A1\", \"EIF2AK4\", \"GPX8\", \"ALX1\", \"OSTC\", \"TRPC4\", \"HAS2\", \"FZD2\", \"TRNT1\", \"MMADHC\", \"SNX8\", \"CDH6\", \"HAT1\", \"SEC11A\", \"DIMT1\", \"TM2D2\", \"FST\", \"GBE1\"))"
   ]
  },
  {
   "cell_type": "markdown",
   "id": "ab3fbc23",
   "metadata": {},
   "source": [
    "## Pathways score calculation"
   ]
  },
  {
   "cell_type": "code",
   "execution_count": 45,
   "id": "65469f20",
   "metadata": {},
   "outputs": [],
   "source": [
    "S_Score <- Selected_Gene_Exp$Expression %>% filter(Selected_Gene_Exp$GeneLength$Geneid %in% cc.S$geneID) %>% select(everything()) %>% as.matrix() %>% matrixStats::colMedians(na.rm = TRUE)\n",
    "G2M_Score <- Selected_Gene_Exp$Expression %>% filter(Selected_Gene_Exp$GeneLength$Geneid %in% cc.G2$geneID) %>% select(everything()) %>% as.matrix() %>% matrixStats::colMedians(na.rm = TRUE)\n",
    "CCP <- Selected_Gene_Exp$Expression %>% filter(Selected_Gene_Exp$GeneLength$GeneSymbol %in% CCP_gene) %>% select(everything()) %>% as.matrix() %>% matrixStats::colMedians(na.rm = TRUE)\n",
    "Housekeeping_Score <- Selected_Gene_Exp$Expression %>% filter(Selected_Gene_Exp$GeneLength$GeneSymbol %in% Housekeeping_gene) %>% select(everything()) %>% as.matrix() %>% matrixStats::colMedians(na.rm = TRUE)\n",
    "Hypoxia_Score <- Selected_Gene_Exp$Expression %>% filter(Selected_Gene_Exp$GeneLength$GeneSymbol %in% Hypoxia_Gene) %>% select(everything()) %>% as.matrix() %>% matrixStats::colMedians(na.rm = TRUE)\n",
    "Mesenchymal_Score <- Selected_Gene_Exp$Expression %>% filter(Selected_Gene_Exp$GeneLength$GeneSymbol %in% Mesenchymal_Gene) %>% select(everything()) %>% as.matrix() %>% matrixStats::colMedians(na.rm = TRUE)\n",
    "Epithelial_Score <- Selected_Gene_Exp$Expression %>% filter(Selected_Gene_Exp$GeneLength$GeneSymbol %in% Epithelial_Gene) %>% select(everything()) %>% as.matrix() %>% matrixStats::colMedians(na.rm = TRUE)\n",
    "\n",
    "Score_Total <- as.data.frame(t(rbind(S_Score, G2M_Score, CCP, Housekeeping_Score, Hypoxia_Score, Mesenchymal_Score, Epithelial_Score)))"
   ]
  },
  {
   "cell_type": "code",
   "execution_count": 46,
   "id": "2b221306",
   "metadata": {},
   "outputs": [
    {
     "data": {
      "text/html": [
       "<table class=\"dataframe\">\n",
       "<caption>A data.frame: 9 × 7</caption>\n",
       "<thead>\n",
       "\t<tr><th scope=col>S_Score</th><th scope=col>G2M_Score</th><th scope=col>CCP</th><th scope=col>Housekeeping_Score</th><th scope=col>Hypoxia_Score</th><th scope=col>Mesenchymal_Score</th><th scope=col>Epithelial_Score</th></tr>\n",
       "\t<tr><th scope=col>&lt;dbl&gt;</th><th scope=col>&lt;dbl&gt;</th><th scope=col>&lt;dbl&gt;</th><th scope=col>&lt;dbl&gt;</th><th scope=col>&lt;dbl&gt;</th><th scope=col>&lt;dbl&gt;</th><th scope=col>&lt;dbl&gt;</th></tr>\n",
       "</thead>\n",
       "<tbody>\n",
       "\t<tr><td>55</td><td>79.5</td><td>92.0</td><td>118</td><td>93</td><td>150.0</td><td>95</td></tr>\n",
       "\t<tr><td>35</td><td>55.5</td><td>61.5</td><td> 73</td><td>72</td><td>101.5</td><td>64</td></tr>\n",
       "\t<tr><td>50</td><td>68.0</td><td>71.5</td><td> 98</td><td>79</td><td>110.5</td><td>71</td></tr>\n",
       "\t<tr><td>43</td><td>45.0</td><td>41.0</td><td> 89</td><td>21</td><td> 88.5</td><td>59</td></tr>\n",
       "\t<tr><td>63</td><td>96.5</td><td>94.0</td><td>127</td><td>47</td><td>156.0</td><td>92</td></tr>\n",
       "\t<tr><td>76</td><td>83.5</td><td>89.0</td><td>118</td><td>57</td><td>141.0</td><td>75</td></tr>\n",
       "\t<tr><td>39</td><td>47.0</td><td>47.0</td><td> 80</td><td>17</td><td> 51.5</td><td>67</td></tr>\n",
       "\t<tr><td>62</td><td>89.5</td><td>78.5</td><td>124</td><td>32</td><td>106.0</td><td>75</td></tr>\n",
       "\t<tr><td>46</td><td>57.0</td><td>51.5</td><td> 94</td><td>34</td><td> 73.5</td><td>64</td></tr>\n",
       "</tbody>\n",
       "</table>\n"
      ],
      "text/latex": [
       "A data.frame: 9 × 7\n",
       "\\begin{tabular}{lllllll}\n",
       " S\\_Score & G2M\\_Score & CCP & Housekeeping\\_Score & Hypoxia\\_Score & Mesenchymal\\_Score & Epithelial\\_Score\\\\\n",
       " <dbl> & <dbl> & <dbl> & <dbl> & <dbl> & <dbl> & <dbl>\\\\\n",
       "\\hline\n",
       "\t 55 & 79.5 & 92.0 & 118 & 93 & 150.0 & 95\\\\\n",
       "\t 35 & 55.5 & 61.5 &  73 & 72 & 101.5 & 64\\\\\n",
       "\t 50 & 68.0 & 71.5 &  98 & 79 & 110.5 & 71\\\\\n",
       "\t 43 & 45.0 & 41.0 &  89 & 21 &  88.5 & 59\\\\\n",
       "\t 63 & 96.5 & 94.0 & 127 & 47 & 156.0 & 92\\\\\n",
       "\t 76 & 83.5 & 89.0 & 118 & 57 & 141.0 & 75\\\\\n",
       "\t 39 & 47.0 & 47.0 &  80 & 17 &  51.5 & 67\\\\\n",
       "\t 62 & 89.5 & 78.5 & 124 & 32 & 106.0 & 75\\\\\n",
       "\t 46 & 57.0 & 51.5 &  94 & 34 &  73.5 & 64\\\\\n",
       "\\end{tabular}\n"
      ],
      "text/markdown": [
       "\n",
       "A data.frame: 9 × 7\n",
       "\n",
       "| S_Score &lt;dbl&gt; | G2M_Score &lt;dbl&gt; | CCP &lt;dbl&gt; | Housekeeping_Score &lt;dbl&gt; | Hypoxia_Score &lt;dbl&gt; | Mesenchymal_Score &lt;dbl&gt; | Epithelial_Score &lt;dbl&gt; |\n",
       "|---|---|---|---|---|---|---|\n",
       "| 55 | 79.5 | 92.0 | 118 | 93 | 150.0 | 95 |\n",
       "| 35 | 55.5 | 61.5 |  73 | 72 | 101.5 | 64 |\n",
       "| 50 | 68.0 | 71.5 |  98 | 79 | 110.5 | 71 |\n",
       "| 43 | 45.0 | 41.0 |  89 | 21 |  88.5 | 59 |\n",
       "| 63 | 96.5 | 94.0 | 127 | 47 | 156.0 | 92 |\n",
       "| 76 | 83.5 | 89.0 | 118 | 57 | 141.0 | 75 |\n",
       "| 39 | 47.0 | 47.0 |  80 | 17 |  51.5 | 67 |\n",
       "| 62 | 89.5 | 78.5 | 124 | 32 | 106.0 | 75 |\n",
       "| 46 | 57.0 | 51.5 |  94 | 34 |  73.5 | 64 |\n",
       "\n"
      ],
      "text/plain": [
       "  S_Score G2M_Score CCP  Housekeeping_Score Hypoxia_Score Mesenchymal_Score\n",
       "1 55      79.5      92.0 118                93            150.0            \n",
       "2 35      55.5      61.5  73                72            101.5            \n",
       "3 50      68.0      71.5  98                79            110.5            \n",
       "4 43      45.0      41.0  89                21             88.5            \n",
       "5 63      96.5      94.0 127                47            156.0            \n",
       "6 76      83.5      89.0 118                57            141.0            \n",
       "7 39      47.0      47.0  80                17             51.5            \n",
       "8 62      89.5      78.5 124                32            106.0            \n",
       "9 46      57.0      51.5  94                34             73.5            \n",
       "  Epithelial_Score\n",
       "1 95              \n",
       "2 64              \n",
       "3 71              \n",
       "4 59              \n",
       "5 92              \n",
       "6 75              \n",
       "7 67              \n",
       "8 75              \n",
       "9 64              "
      ]
     },
     "metadata": {},
     "output_type": "display_data"
    }
   ],
   "source": [
    "Score_Total"
   ]
  },
  {
   "cell_type": "code",
   "execution_count": 37,
   "id": "e22859c0",
   "metadata": {},
   "outputs": [],
   "source": [
    "Score_Total <- Score_Total %>%\n",
    "  select(everything()) %>%\n",
    "  mutate(EMT_Score=scales::rescale(Mesenchymal_Score-Epithelial_Score, to = c(0.1,1)), \n",
    "         CCP_Score=scales::rescale(CCP-Housekeeping_Score, to=c(0.1,1)), \n",
    "         S_Score=scales::rescale(S_Score, to = c(0.1,1)),\n",
    "         G2M_Score=scales::rescale(G2M_Score, to = c(0.1,1)),\n",
    "         Hypoxia_Score=scales::rescale(Hypoxia_Score, to = c(0.1,1)),\n",
    "         Sample=rep(c(\"Control\", \"TGFB\", \"TGFb_CX5461\"), each = 3)) %>%\n",
    "  select(c(\"Sample\",\"EMT_Score\",\"CCP_Score\",\"S_Score\",\"G2M_Score\", \"Hypoxia_Score\"), everything())\n",
    "\n",
    "## Save score in CSV files\n",
    "#Score_Total %>% \n",
    "#  mutate(Scaled_EMT=scales::rescale(Score_Total$EMT_Score, to = c(0,1)))\n",
    "#write.csv(Score_Total, file = \"EMT_Score_File.csv\")"
   ]
  },
  {
   "cell_type": "code",
   "execution_count": 49,
   "id": "9fbc4294",
   "metadata": {},
   "outputs": [
    {
     "ename": "ERROR",
     "evalue": "Error in colMeans(x, na.rm = TRUE): 'x' must be numeric\n",
     "output_type": "error",
     "traceback": [
      "Error in colMeans(x, na.rm = TRUE): 'x' must be numeric\nTraceback:\n",
      "1. scale(Score_Total)",
      "2. scale.default(Score_Total)",
      "3. colMeans(x, na.rm = TRUE)"
     ]
    }
   ],
   "source": [
    "#G2M_Score=G2M_Score-Housekeeping_Score\n",
    "#S_Score=S_Score-Housekeeping_Score\n",
    "Mesenchymal_Score=Mesenchymal_Score-Housekeeping_Score\n",
    "Epithelial_Score=Epithelial_Score-Housekeeping_Score\n",
    "Score_Total <- Score_Total %>%\n",
    "  select(everything()) %>%\n",
    "  mutate(EMT_Score=Mesenchymal_Score-Epithelial_Score, \n",
    "         CCP_Score=CCP-Housekeeping_Score, \n",
    "         S_Score=S_Score-Housekeeping_Score,\n",
    "         G2M_Score=G2M_Score-Housekeeping_Score,\n",
    "         Hypoxia_Score=Hypoxia_Score-Housekeeping_Score,\n",
    "         Sample=rep(c(\"Control\", \"TGFB\", \"TGFb_CX5461\"), each = 3)) %>%\n",
    "  select(c(\"Sample\",\"EMT_Score\",\"CCP_Score\",\"S_Score\",\"G2M_Score\", \"Hypoxia_Score\"), everything())"
   ]
  },
  {
   "cell_type": "code",
   "execution_count": 48,
   "id": "87a2e46d",
   "metadata": {},
   "outputs": [
    {
     "data": {
      "text/html": [
       "<table class=\"dataframe\">\n",
       "<caption>A data.frame: 9 × 10</caption>\n",
       "<thead>\n",
       "\t<tr><th scope=col>Sample</th><th scope=col>EMT_Score</th><th scope=col>CCP_Score</th><th scope=col>S_Score</th><th scope=col>G2M_Score</th><th scope=col>Hypoxia_Score</th><th scope=col>CCP</th><th scope=col>Housekeeping_Score</th><th scope=col>Mesenchymal_Score</th><th scope=col>Epithelial_Score</th></tr>\n",
       "\t<tr><th scope=col>&lt;chr&gt;</th><th scope=col>&lt;dbl&gt;</th><th scope=col>&lt;dbl&gt;</th><th scope=col>&lt;dbl&gt;</th><th scope=col>&lt;dbl&gt;</th><th scope=col>&lt;dbl&gt;</th><th scope=col>&lt;dbl&gt;</th><th scope=col>&lt;dbl&gt;</th><th scope=col>&lt;dbl&gt;</th><th scope=col>&lt;dbl&gt;</th></tr>\n",
       "</thead>\n",
       "<tbody>\n",
       "\t<tr><td>Control    </td><td> 55.0</td><td>-26.0</td><td>-63</td><td>-38.5</td><td>-25</td><td>92.0</td><td>118</td><td>150.0</td><td>95</td></tr>\n",
       "\t<tr><td>Control    </td><td> 37.5</td><td>-11.5</td><td>-38</td><td>-17.5</td><td> -1</td><td>61.5</td><td> 73</td><td>101.5</td><td>64</td></tr>\n",
       "\t<tr><td>Control    </td><td> 39.5</td><td>-26.5</td><td>-48</td><td>-30.0</td><td>-19</td><td>71.5</td><td> 98</td><td>110.5</td><td>71</td></tr>\n",
       "\t<tr><td>TGFB       </td><td> 29.5</td><td>-48.0</td><td>-46</td><td>-44.0</td><td>-68</td><td>41.0</td><td> 89</td><td> 88.5</td><td>59</td></tr>\n",
       "\t<tr><td>TGFB       </td><td> 64.0</td><td>-33.0</td><td>-64</td><td>-30.5</td><td>-80</td><td>94.0</td><td>127</td><td>156.0</td><td>92</td></tr>\n",
       "\t<tr><td>TGFB       </td><td> 66.0</td><td>-29.0</td><td>-42</td><td>-34.5</td><td>-61</td><td>89.0</td><td>118</td><td>141.0</td><td>75</td></tr>\n",
       "\t<tr><td>TGFb_CX5461</td><td>-15.5</td><td>-33.0</td><td>-41</td><td>-33.0</td><td>-63</td><td>47.0</td><td> 80</td><td> 51.5</td><td>67</td></tr>\n",
       "\t<tr><td>TGFb_CX5461</td><td> 31.0</td><td>-45.5</td><td>-62</td><td>-34.5</td><td>-92</td><td>78.5</td><td>124</td><td>106.0</td><td>75</td></tr>\n",
       "\t<tr><td>TGFb_CX5461</td><td>  9.5</td><td>-42.5</td><td>-48</td><td>-37.0</td><td>-60</td><td>51.5</td><td> 94</td><td> 73.5</td><td>64</td></tr>\n",
       "</tbody>\n",
       "</table>\n"
      ],
      "text/latex": [
       "A data.frame: 9 × 10\n",
       "\\begin{tabular}{llllllllll}\n",
       " Sample & EMT\\_Score & CCP\\_Score & S\\_Score & G2M\\_Score & Hypoxia\\_Score & CCP & Housekeeping\\_Score & Mesenchymal\\_Score & Epithelial\\_Score\\\\\n",
       " <chr> & <dbl> & <dbl> & <dbl> & <dbl> & <dbl> & <dbl> & <dbl> & <dbl> & <dbl>\\\\\n",
       "\\hline\n",
       "\t Control     &  55.0 & -26.0 & -63 & -38.5 & -25 & 92.0 & 118 & 150.0 & 95\\\\\n",
       "\t Control     &  37.5 & -11.5 & -38 & -17.5 &  -1 & 61.5 &  73 & 101.5 & 64\\\\\n",
       "\t Control     &  39.5 & -26.5 & -48 & -30.0 & -19 & 71.5 &  98 & 110.5 & 71\\\\\n",
       "\t TGFB        &  29.5 & -48.0 & -46 & -44.0 & -68 & 41.0 &  89 &  88.5 & 59\\\\\n",
       "\t TGFB        &  64.0 & -33.0 & -64 & -30.5 & -80 & 94.0 & 127 & 156.0 & 92\\\\\n",
       "\t TGFB        &  66.0 & -29.0 & -42 & -34.5 & -61 & 89.0 & 118 & 141.0 & 75\\\\\n",
       "\t TGFb\\_CX5461 & -15.5 & -33.0 & -41 & -33.0 & -63 & 47.0 &  80 &  51.5 & 67\\\\\n",
       "\t TGFb\\_CX5461 &  31.0 & -45.5 & -62 & -34.5 & -92 & 78.5 & 124 & 106.0 & 75\\\\\n",
       "\t TGFb\\_CX5461 &   9.5 & -42.5 & -48 & -37.0 & -60 & 51.5 &  94 &  73.5 & 64\\\\\n",
       "\\end{tabular}\n"
      ],
      "text/markdown": [
       "\n",
       "A data.frame: 9 × 10\n",
       "\n",
       "| Sample &lt;chr&gt; | EMT_Score &lt;dbl&gt; | CCP_Score &lt;dbl&gt; | S_Score &lt;dbl&gt; | G2M_Score &lt;dbl&gt; | Hypoxia_Score &lt;dbl&gt; | CCP &lt;dbl&gt; | Housekeeping_Score &lt;dbl&gt; | Mesenchymal_Score &lt;dbl&gt; | Epithelial_Score &lt;dbl&gt; |\n",
       "|---|---|---|---|---|---|---|---|---|---|\n",
       "| Control     |  55.0 | -26.0 | -63 | -38.5 | -25 | 92.0 | 118 | 150.0 | 95 |\n",
       "| Control     |  37.5 | -11.5 | -38 | -17.5 |  -1 | 61.5 |  73 | 101.5 | 64 |\n",
       "| Control     |  39.5 | -26.5 | -48 | -30.0 | -19 | 71.5 |  98 | 110.5 | 71 |\n",
       "| TGFB        |  29.5 | -48.0 | -46 | -44.0 | -68 | 41.0 |  89 |  88.5 | 59 |\n",
       "| TGFB        |  64.0 | -33.0 | -64 | -30.5 | -80 | 94.0 | 127 | 156.0 | 92 |\n",
       "| TGFB        |  66.0 | -29.0 | -42 | -34.5 | -61 | 89.0 | 118 | 141.0 | 75 |\n",
       "| TGFb_CX5461 | -15.5 | -33.0 | -41 | -33.0 | -63 | 47.0 |  80 |  51.5 | 67 |\n",
       "| TGFb_CX5461 |  31.0 | -45.5 | -62 | -34.5 | -92 | 78.5 | 124 | 106.0 | 75 |\n",
       "| TGFb_CX5461 |   9.5 | -42.5 | -48 | -37.0 | -60 | 51.5 |  94 |  73.5 | 64 |\n",
       "\n"
      ],
      "text/plain": [
       "  Sample      EMT_Score CCP_Score S_Score G2M_Score Hypoxia_Score CCP \n",
       "1 Control      55.0     -26.0     -63     -38.5     -25           92.0\n",
       "2 Control      37.5     -11.5     -38     -17.5      -1           61.5\n",
       "3 Control      39.5     -26.5     -48     -30.0     -19           71.5\n",
       "4 TGFB         29.5     -48.0     -46     -44.0     -68           41.0\n",
       "5 TGFB         64.0     -33.0     -64     -30.5     -80           94.0\n",
       "6 TGFB         66.0     -29.0     -42     -34.5     -61           89.0\n",
       "7 TGFb_CX5461 -15.5     -33.0     -41     -33.0     -63           47.0\n",
       "8 TGFb_CX5461  31.0     -45.5     -62     -34.5     -92           78.5\n",
       "9 TGFb_CX5461   9.5     -42.5     -48     -37.0     -60           51.5\n",
       "  Housekeeping_Score Mesenchymal_Score Epithelial_Score\n",
       "1 118                150.0             95              \n",
       "2  73                101.5             64              \n",
       "3  98                110.5             71              \n",
       "4  89                 88.5             59              \n",
       "5 127                156.0             92              \n",
       "6 118                141.0             75              \n",
       "7  80                 51.5             67              \n",
       "8 124                106.0             75              \n",
       "9  94                 73.5             64              "
      ]
     },
     "metadata": {},
     "output_type": "display_data"
    }
   ],
   "source": [
    "Score_Total"
   ]
  },
  {
   "cell_type": "markdown",
   "id": "62447f56",
   "metadata": {},
   "source": [
    "### Heatmap based on EMT gene's expression level"
   ]
  },
  {
   "cell_type": "code",
   "execution_count": 35,
   "id": "c354874c",
   "metadata": {},
   "outputs": [],
   "source": [
    "Exp.EMT <- Exp[stringr::str_to_sentence(c(\"VIM\", \"CDH2\", \"FOXC2\", \"SNAI1\", \"SNAI2\", \"TWIST1\", \"FN1\", \"ITGB6\", \"MMP2\", \"MMP3\", \"MMP9\", \"SOX10\", \"GCS\", \"CDH1\", \"DSP\", \"OCLN\")),]"
   ]
  },
  {
   "cell_type": "code",
   "execution_count": 36,
   "id": "c373178b",
   "metadata": {},
   "outputs": [
    {
     "data": {
      "image/png": "[encoded data removed]",
      "text/plain": [
       "plot without title"
      ]
     },
     "metadata": {
      "image/png": {
       "height": 420,
       "width": 420
      }
     },
     "output_type": "display_data"
    }
   ],
   "source": [
    "Exp.EMT <- na.omit(Exp.EMT)\n",
    "heatmap(as.matrix(Exp.EMT), scale = \"row\")"
   ]
  },
  {
   "cell_type": "code",
   "execution_count": 50,
   "id": "3cf18f75",
   "metadata": {},
   "outputs": [
    {
     "data": {
      "text/html": [
       "<style>\n",
       ".list-inline {list-style: none; margin:0; padding: 0}\n",
       ".list-inline>li {display: inline-block}\n",
       ".list-inline>li:not(:last-child)::after {content: \"\\00b7\"; padding: 0 .5ex}\n",
       "</style>\n",
       "<ol class=list-inline><li>55</li><li>35</li><li>50</li><li>43</li><li>63</li><li>76</li><li>39</li><li>62</li><li>46</li></ol>\n"
      ],
      "text/latex": [
       "\\begin{enumerate*}\n",
       "\\item 55\n",
       "\\item 35\n",
       "\\item 50\n",
       "\\item 43\n",
       "\\item 63\n",
       "\\item 76\n",
       "\\item 39\n",
       "\\item 62\n",
       "\\item 46\n",
       "\\end{enumerate*}\n"
      ],
      "text/markdown": [
       "1. 55\n",
       "2. 35\n",
       "3. 50\n",
       "4. 43\n",
       "5. 63\n",
       "6. 76\n",
       "7. 39\n",
       "8. 62\n",
       "9. 46\n",
       "\n",
       "\n"
      ],
      "text/plain": [
       "[1] 55 35 50 43 63 76 39 62 46"
      ]
     },
     "metadata": {},
     "output_type": "display_data"
    }
   ],
   "source": [
    "Selected_Gene_Exp$Expression %>% filter(Selected_Gene_Exp$GeneLength$Geneid %in% cc.S$geneID) %>% select(everything()) %>% as.matrix() %>% matrixStats::colMedians(na.rm = TRUE)"
   ]
  },
  {
   "cell_type": "code",
   "execution_count": 54,
   "id": "7c940d6e",
   "metadata": {},
   "outputs": [
    {
     "data": {
      "text/html": [
       "'data.frame'"
      ],
      "text/latex": [
       "'data.frame'"
      ],
      "text/markdown": [
       "'data.frame'"
      ],
      "text/plain": [
       "[1] \"data.frame\""
      ]
     },
     "metadata": {},
     "output_type": "display_data"
    }
   ],
   "source": [
    "class(Selected_Gene_Exp$GeneLength)"
   ]
  },
  {
   "cell_type": "code",
   "execution_count": null,
   "id": "80e7c204",
   "metadata": {},
   "outputs": [],
   "source": []
  }
 ],
 "metadata": {
  "kernelspec": {
   "display_name": "R",
   "language": "R",
   "name": "ir"
  },
  "language_info": {
   "codemirror_mode": "r",
   "file_extension": ".r",
   "mimetype": "text/x-r-source",
   "name": "R",
   "pygments_lexer": "r",
   "version": "4.1.0"
  }
 },
 "nbformat": 4,
 "nbformat_minor": 5
}
