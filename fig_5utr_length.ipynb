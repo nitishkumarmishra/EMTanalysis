{
 "cells": [
  {
   "cell_type": "code",
   "execution_count": 1,
   "id": "1ed26b6d",
   "metadata": {},
   "outputs": [],
   "source": [
    "load(file = \"..//gene_length.rds\")"
   ]
  },
  {
   "cell_type": "code",
   "execution_count": 2,
   "id": "415f7c87",
   "metadata": {},
   "outputs": [
    {
     "data": {
      "text/html": [
       "<table class=\"dataframe\">\n",
       "<caption>A data.frame: 6 × 8</caption>\n",
       "<thead>\n",
       "\t<tr><th></th><th scope=col>Geneid</th><th scope=col>GeneSymbol</th><th scope=col>Chromosome</th><th scope=col>Start</th><th scope=col>End</th><th scope=col>Class</th><th scope=col>Strand</th><th scope=col>Length</th></tr>\n",
       "\t<tr><th></th><th scope=col>&lt;chr&gt;</th><th scope=col>&lt;chr&gt;</th><th scope=col>&lt;fct&gt;</th><th scope=col>&lt;int&gt;</th><th scope=col>&lt;int&gt;</th><th scope=col>&lt;chr&gt;</th><th scope=col>&lt;fct&gt;</th><th scope=col>&lt;int&gt;</th></tr>\n",
       "</thead>\n",
       "<tbody>\n",
       "\t<tr><th scope=row>ENSMUSG00000102693.2</th><td>ENSMUSG00000102693.2</td><td>4933401J01Rik</td><td>chr1</td><td>3143476</td><td>3144545</td><td>TEC                 </td><td>+</td><td>  1070</td></tr>\n",
       "\t<tr><th scope=row>ENSMUSG00000064842.3</th><td>ENSMUSG00000064842.3</td><td>Gm26206      </td><td>chr1</td><td>3172239</td><td>3172348</td><td>snRNA               </td><td>+</td><td>   110</td></tr>\n",
       "\t<tr><th scope=row>ENSMUSG00000051951.6</th><td>ENSMUSG00000051951.6</td><td>Xkr4         </td><td>chr1</td><td>3276124</td><td>3741721</td><td>protein_coding      </td><td>-</td><td>465598</td></tr>\n",
       "\t<tr><th scope=row>ENSMUSG00000102851.2</th><td>ENSMUSG00000102851.2</td><td>Gm18956      </td><td>chr1</td><td>3322980</td><td>3323459</td><td>processed_pseudogene</td><td>+</td><td>   480</td></tr>\n",
       "\t<tr><th scope=row>ENSMUSG00000103377.2</th><td>ENSMUSG00000103377.2</td><td>Gm37180      </td><td>chr1</td><td>3435954</td><td>3438772</td><td>TEC                 </td><td>-</td><td>  2819</td></tr>\n",
       "\t<tr><th scope=row>ENSMUSG00000104017.2</th><td>ENSMUSG00000104017.2</td><td>Gm37363      </td><td>chr1</td><td>3445779</td><td>3448011</td><td>TEC                 </td><td>-</td><td>  2233</td></tr>\n",
       "</tbody>\n",
       "</table>\n"
      ],
      "text/latex": [
       "A data.frame: 6 × 8\n",
       "\\begin{tabular}{r|llllllll}\n",
       "  & Geneid & GeneSymbol & Chromosome & Start & End & Class & Strand & Length\\\\\n",
       "  & <chr> & <chr> & <fct> & <int> & <int> & <chr> & <fct> & <int>\\\\\n",
       "\\hline\n",
       "\tENSMUSG00000102693.2 & ENSMUSG00000102693.2 & 4933401J01Rik & chr1 & 3143476 & 3144545 & TEC                  & + &   1070\\\\\n",
       "\tENSMUSG00000064842.3 & ENSMUSG00000064842.3 & Gm26206       & chr1 & 3172239 & 3172348 & snRNA                & + &    110\\\\\n",
       "\tENSMUSG00000051951.6 & ENSMUSG00000051951.6 & Xkr4          & chr1 & 3276124 & 3741721 & protein\\_coding       & - & 465598\\\\\n",
       "\tENSMUSG00000102851.2 & ENSMUSG00000102851.2 & Gm18956       & chr1 & 3322980 & 3323459 & processed\\_pseudogene & + &    480\\\\\n",
       "\tENSMUSG00000103377.2 & ENSMUSG00000103377.2 & Gm37180       & chr1 & 3435954 & 3438772 & TEC                  & - &   2819\\\\\n",
       "\tENSMUSG00000104017.2 & ENSMUSG00000104017.2 & Gm37363       & chr1 & 3445779 & 3448011 & TEC                  & - &   2233\\\\\n",
       "\\end{tabular}\n"
      ],
      "text/markdown": [
       "\n",
       "A data.frame: 6 × 8\n",
       "\n",
       "| <!--/--> | Geneid &lt;chr&gt; | GeneSymbol &lt;chr&gt; | Chromosome &lt;fct&gt; | Start &lt;int&gt; | End &lt;int&gt; | Class &lt;chr&gt; | Strand &lt;fct&gt; | Length &lt;int&gt; |\n",
       "|---|---|---|---|---|---|---|---|---|\n",
       "| ENSMUSG00000102693.2 | ENSMUSG00000102693.2 | 4933401J01Rik | chr1 | 3143476 | 3144545 | TEC                  | + |   1070 |\n",
       "| ENSMUSG00000064842.3 | ENSMUSG00000064842.3 | Gm26206       | chr1 | 3172239 | 3172348 | snRNA                | + |    110 |\n",
       "| ENSMUSG00000051951.6 | ENSMUSG00000051951.6 | Xkr4          | chr1 | 3276124 | 3741721 | protein_coding       | - | 465598 |\n",
       "| ENSMUSG00000102851.2 | ENSMUSG00000102851.2 | Gm18956       | chr1 | 3322980 | 3323459 | processed_pseudogene | + |    480 |\n",
       "| ENSMUSG00000103377.2 | ENSMUSG00000103377.2 | Gm37180       | chr1 | 3435954 | 3438772 | TEC                  | - |   2819 |\n",
       "| ENSMUSG00000104017.2 | ENSMUSG00000104017.2 | Gm37363       | chr1 | 3445779 | 3448011 | TEC                  | - |   2233 |\n",
       "\n"
      ],
      "text/plain": [
       "                     Geneid               GeneSymbol    Chromosome Start  \n",
       "ENSMUSG00000102693.2 ENSMUSG00000102693.2 4933401J01Rik chr1       3143476\n",
       "ENSMUSG00000064842.3 ENSMUSG00000064842.3 Gm26206       chr1       3172239\n",
       "ENSMUSG00000051951.6 ENSMUSG00000051951.6 Xkr4          chr1       3276124\n",
       "ENSMUSG00000102851.2 ENSMUSG00000102851.2 Gm18956       chr1       3322980\n",
       "ENSMUSG00000103377.2 ENSMUSG00000103377.2 Gm37180       chr1       3435954\n",
       "ENSMUSG00000104017.2 ENSMUSG00000104017.2 Gm37363       chr1       3445779\n",
       "                     End     Class                Strand Length\n",
       "ENSMUSG00000102693.2 3144545 TEC                  +        1070\n",
       "ENSMUSG00000064842.3 3172348 snRNA                +         110\n",
       "ENSMUSG00000051951.6 3741721 protein_coding       -      465598\n",
       "ENSMUSG00000102851.2 3323459 processed_pseudogene +         480\n",
       "ENSMUSG00000103377.2 3438772 TEC                  -        2819\n",
       "ENSMUSG00000104017.2 3448011 TEC                  -        2233"
      ]
     },
     "metadata": {},
     "output_type": "display_data"
    },
    {
     "data": {
      "text/html": [
       "<style>\n",
       ".list-inline {list-style: none; margin:0; padding: 0}\n",
       ".list-inline>li {display: inline-block}\n",
       ".list-inline>li:not(:last-child)::after {content: \"\\00b7\"; padding: 0 .5ex}\n",
       "</style>\n",
       "<ol class=list-inline><li>55322</li><li>8</li></ol>\n"
      ],
      "text/latex": [
       "\\begin{enumerate*}\n",
       "\\item 55322\n",
       "\\item 8\n",
       "\\end{enumerate*}\n"
      ],
      "text/markdown": [
       "1. 55322\n",
       "2. 8\n",
       "\n",
       "\n"
      ],
      "text/plain": [
       "[1] 55322     8"
      ]
     },
     "metadata": {},
     "output_type": "display_data"
    }
   ],
   "source": [
    "head(gene_lengths)\n",
    "dim(gene_lengths)"
   ]
  },
  {
   "cell_type": "code",
   "execution_count": 3,
   "id": "898bf853",
   "metadata": {},
   "outputs": [
    {
     "data": {
      "text/html": [
       "<table class=\"dataframe\">\n",
       "<caption>A data.frame: 6 × 8</caption>\n",
       "<thead>\n",
       "\t<tr><th></th><th scope=col>Geneid</th><th scope=col>GeneSymbol</th><th scope=col>Chromosome</th><th scope=col>Start</th><th scope=col>End</th><th scope=col>Class</th><th scope=col>Strand</th><th scope=col>Length</th></tr>\n",
       "\t<tr><th></th><th scope=col>&lt;chr&gt;</th><th scope=col>&lt;chr&gt;</th><th scope=col>&lt;fct&gt;</th><th scope=col>&lt;int&gt;</th><th scope=col>&lt;int&gt;</th><th scope=col>&lt;chr&gt;</th><th scope=col>&lt;fct&gt;</th><th scope=col>&lt;int&gt;</th></tr>\n",
       "</thead>\n",
       "<tbody>\n",
       "\t<tr><th scope=row>ENSMUSG00000051951.6</th><td>ENSMUSG00000051951.6 </td><td>Xkr4   </td><td>chr1</td><td>3276124</td><td>3741721</td><td>protein_coding</td><td>-</td><td>465598</td></tr>\n",
       "\t<tr><th scope=row>ENSMUSG00000025900.14</th><td>ENSMUSG00000025900.14</td><td>Rp1    </td><td>chr1</td><td>4069780</td><td>4479464</td><td>protein_coding</td><td>-</td><td>409685</td></tr>\n",
       "\t<tr><th scope=row>ENSMUSG00000025902.14</th><td>ENSMUSG00000025902.14</td><td>Sox17  </td><td>chr1</td><td>4561154</td><td>4567577</td><td>protein_coding</td><td>-</td><td>  6424</td></tr>\n",
       "\t<tr><th scope=row>ENSMUSG00000033845.14</th><td>ENSMUSG00000033845.14</td><td>Mrpl15 </td><td>chr1</td><td>4843429</td><td>4855962</td><td>protein_coding</td><td>-</td><td> 12534</td></tr>\n",
       "\t<tr><th scope=row>ENSMUSG00000025903.15</th><td>ENSMUSG00000025903.15</td><td>Lypla1 </td><td>chr1</td><td>4878011</td><td>4918633</td><td>protein_coding</td><td>+</td><td> 40623</td></tr>\n",
       "\t<tr><th scope=row>ENSMUSG00000104217.2</th><td>ENSMUSG00000104217.2 </td><td>Gm37988</td><td>chr1</td><td>4878115</td><td>4956993</td><td>protein_coding</td><td>+</td><td> 78879</td></tr>\n",
       "</tbody>\n",
       "</table>\n"
      ],
      "text/latex": [
       "A data.frame: 6 × 8\n",
       "\\begin{tabular}{r|llllllll}\n",
       "  & Geneid & GeneSymbol & Chromosome & Start & End & Class & Strand & Length\\\\\n",
       "  & <chr> & <chr> & <fct> & <int> & <int> & <chr> & <fct> & <int>\\\\\n",
       "\\hline\n",
       "\tENSMUSG00000051951.6 & ENSMUSG00000051951.6  & Xkr4    & chr1 & 3276124 & 3741721 & protein\\_coding & - & 465598\\\\\n",
       "\tENSMUSG00000025900.14 & ENSMUSG00000025900.14 & Rp1     & chr1 & 4069780 & 4479464 & protein\\_coding & - & 409685\\\\\n",
       "\tENSMUSG00000025902.14 & ENSMUSG00000025902.14 & Sox17   & chr1 & 4561154 & 4567577 & protein\\_coding & - &   6424\\\\\n",
       "\tENSMUSG00000033845.14 & ENSMUSG00000033845.14 & Mrpl15  & chr1 & 4843429 & 4855962 & protein\\_coding & - &  12534\\\\\n",
       "\tENSMUSG00000025903.15 & ENSMUSG00000025903.15 & Lypla1  & chr1 & 4878011 & 4918633 & protein\\_coding & + &  40623\\\\\n",
       "\tENSMUSG00000104217.2 & ENSMUSG00000104217.2  & Gm37988 & chr1 & 4878115 & 4956993 & protein\\_coding & + &  78879\\\\\n",
       "\\end{tabular}\n"
      ],
      "text/markdown": [
       "\n",
       "A data.frame: 6 × 8\n",
       "\n",
       "| <!--/--> | Geneid &lt;chr&gt; | GeneSymbol &lt;chr&gt; | Chromosome &lt;fct&gt; | Start &lt;int&gt; | End &lt;int&gt; | Class &lt;chr&gt; | Strand &lt;fct&gt; | Length &lt;int&gt; |\n",
       "|---|---|---|---|---|---|---|---|---|\n",
       "| ENSMUSG00000051951.6 | ENSMUSG00000051951.6  | Xkr4    | chr1 | 3276124 | 3741721 | protein_coding | - | 465598 |\n",
       "| ENSMUSG00000025900.14 | ENSMUSG00000025900.14 | Rp1     | chr1 | 4069780 | 4479464 | protein_coding | - | 409685 |\n",
       "| ENSMUSG00000025902.14 | ENSMUSG00000025902.14 | Sox17   | chr1 | 4561154 | 4567577 | protein_coding | - |   6424 |\n",
       "| ENSMUSG00000033845.14 | ENSMUSG00000033845.14 | Mrpl15  | chr1 | 4843429 | 4855962 | protein_coding | - |  12534 |\n",
       "| ENSMUSG00000025903.15 | ENSMUSG00000025903.15 | Lypla1  | chr1 | 4878011 | 4918633 | protein_coding | + |  40623 |\n",
       "| ENSMUSG00000104217.2 | ENSMUSG00000104217.2  | Gm37988 | chr1 | 4878115 | 4956993 | protein_coding | + |  78879 |\n",
       "\n"
      ],
      "text/plain": [
       "                      Geneid                GeneSymbol Chromosome Start  \n",
       "ENSMUSG00000051951.6  ENSMUSG00000051951.6  Xkr4       chr1       3276124\n",
       "ENSMUSG00000025900.14 ENSMUSG00000025900.14 Rp1        chr1       4069780\n",
       "ENSMUSG00000025902.14 ENSMUSG00000025902.14 Sox17      chr1       4561154\n",
       "ENSMUSG00000033845.14 ENSMUSG00000033845.14 Mrpl15     chr1       4843429\n",
       "ENSMUSG00000025903.15 ENSMUSG00000025903.15 Lypla1     chr1       4878011\n",
       "ENSMUSG00000104217.2  ENSMUSG00000104217.2  Gm37988    chr1       4878115\n",
       "                      End     Class          Strand Length\n",
       "ENSMUSG00000051951.6  3741721 protein_coding -      465598\n",
       "ENSMUSG00000025900.14 4479464 protein_coding -      409685\n",
       "ENSMUSG00000025902.14 4567577 protein_coding -        6424\n",
       "ENSMUSG00000033845.14 4855962 protein_coding -       12534\n",
       "ENSMUSG00000025903.15 4918633 protein_coding +       40623\n",
       "ENSMUSG00000104217.2  4956993 protein_coding +       78879"
      ]
     },
     "metadata": {},
     "output_type": "display_data"
    }
   ],
   "source": [
    "gene_lengths_protein_coding <- gene_lengths[gene_lengths$Class==\"protein_coding\",]\n",
    "head(gene_lengths_protein_coding)"
   ]
  },
  {
   "cell_type": "markdown",
   "id": "9c93b1f8",
   "metadata": {},
   "source": [
    "## Make file for 5' UTR length of each ENST"
   ]
  },
  {
   "cell_type": "code",
   "execution_count": 4,
   "id": "976c52c0",
   "metadata": {
    "scrolled": true
   },
   "outputs": [
    {
     "name": "stderr",
     "output_type": "stream",
     "text": [
      "Import genomic features from the file as a GRanges object ... \n",
      "OK\n",
      "\n",
      "Prepare the 'metadata' data frame ... \n",
      "OK\n",
      "\n",
      "Make the TxDb object ... \n",
      "Warning message in .get_cds_IDX(mcols0$type, mcols0$phase):\n",
      "\"The \"phase\" metadata column contains non-NA values for features of type\n",
      "  stop_codon. This information was ignored.\"\n",
      "OK\n",
      "\n",
      "`summarise()` has grouped output by 'group'. You can override using the `.groups` argument.\n",
      "\n"
     ]
    },
    {
     "data": {
      "text/html": [
       "<table class=\"dataframe\">\n",
       "<caption>A data.frame: 6 × 4</caption>\n",
       "<thead>\n",
       "\t<tr><th></th><th scope=col>ENST</th><th scope=col>ENSG</th><th scope=col>Symbol</th><th scope=col>5' UTR Length</th></tr>\n",
       "\t<tr><th></th><th scope=col>&lt;chr&gt;</th><th scope=col>&lt;chr&gt;</th><th scope=col>&lt;chr&gt;</th><th scope=col>&lt;int&gt;</th></tr>\n",
       "</thead>\n",
       "<tbody>\n",
       "\t<tr><th scope=row>1</th><td>ENSMUST00000000001</td><td>ENSMUSG00000000001</td><td>Gnai3</td><td>141</td></tr>\n",
       "\t<tr><th scope=row>2</th><td>ENSMUST00000000003</td><td>ENSMUSG00000000003</td><td>Pbsn </td><td>140</td></tr>\n",
       "\t<tr><th scope=row>3</th><td>ENSMUST00000000010</td><td>ENSMUSG00000020875</td><td>Hoxb9</td><td> 85</td></tr>\n",
       "\t<tr><th scope=row>4</th><td>ENSMUST00000000028</td><td>ENSMUSG00000000028</td><td>Cdc45</td><td>313</td></tr>\n",
       "\t<tr><th scope=row>5</th><td>ENSMUST00000000033</td><td>ENSMUSG00000048583</td><td>Igf2 </td><td>115</td></tr>\n",
       "\t<tr><th scope=row>6</th><td>ENSMUST00000000049</td><td>ENSMUSG00000000049</td><td>Apoh </td><td> 51</td></tr>\n",
       "</tbody>\n",
       "</table>\n"
      ],
      "text/latex": [
       "A data.frame: 6 × 4\n",
       "\\begin{tabular}{r|llll}\n",
       "  & ENST & ENSG & Symbol & 5' UTR Length\\\\\n",
       "  & <chr> & <chr> & <chr> & <int>\\\\\n",
       "\\hline\n",
       "\t1 & ENSMUST00000000001 & ENSMUSG00000000001 & Gnai3 & 141\\\\\n",
       "\t2 & ENSMUST00000000003 & ENSMUSG00000000003 & Pbsn  & 140\\\\\n",
       "\t3 & ENSMUST00000000010 & ENSMUSG00000020875 & Hoxb9 &  85\\\\\n",
       "\t4 & ENSMUST00000000028 & ENSMUSG00000000028 & Cdc45 & 313\\\\\n",
       "\t5 & ENSMUST00000000033 & ENSMUSG00000048583 & Igf2  & 115\\\\\n",
       "\t6 & ENSMUST00000000049 & ENSMUSG00000000049 & Apoh  &  51\\\\\n",
       "\\end{tabular}\n"
      ],
      "text/markdown": [
       "\n",
       "A data.frame: 6 × 4\n",
       "\n",
       "| <!--/--> | ENST &lt;chr&gt; | ENSG &lt;chr&gt; | Symbol &lt;chr&gt; | 5' UTR Length &lt;int&gt; |\n",
       "|---|---|---|---|---|\n",
       "| 1 | ENSMUST00000000001 | ENSMUSG00000000001 | Gnai3 | 141 |\n",
       "| 2 | ENSMUST00000000003 | ENSMUSG00000000003 | Pbsn  | 140 |\n",
       "| 3 | ENSMUST00000000010 | ENSMUSG00000020875 | Hoxb9 |  85 |\n",
       "| 4 | ENSMUST00000000028 | ENSMUSG00000000028 | Cdc45 | 313 |\n",
       "| 5 | ENSMUST00000000033 | ENSMUSG00000048583 | Igf2  | 115 |\n",
       "| 6 | ENSMUST00000000049 | ENSMUSG00000000049 | Apoh  |  51 |\n",
       "\n"
      ],
      "text/plain": [
       "  ENST               ENSG               Symbol 5' UTR Length\n",
       "1 ENSMUST00000000001 ENSMUSG00000000001 Gnai3  141          \n",
       "2 ENSMUST00000000003 ENSMUSG00000000003 Pbsn   140          \n",
       "3 ENSMUST00000000010 ENSMUSG00000020875 Hoxb9   85          \n",
       "4 ENSMUST00000000028 ENSMUSG00000000028 Cdc45  313          \n",
       "5 ENSMUST00000000033 ENSMUSG00000048583 Igf2   115          \n",
       "6 ENSMUST00000000049 ENSMUSG00000000049 Apoh    51          "
      ]
     },
     "metadata": {},
     "output_type": "display_data"
    }
   ],
   "source": [
    "suppressMessages(suppressWarnings(library(GenomicFeatures)))\n",
    "suppressMessages(suppressWarnings(library(dplyr)))\n",
    "suppressMessages(suppressWarnings(library('rtracklayer')))\n",
    "\n",
    "# 5' UTR length\n",
    "ensemble_gtf <- makeTxDbFromGFF('Mus_musculus.GRCm39.104.rdna_rn18s.gtf.gz', organism = \"Homo sapiens\")\n",
    "fiveUTRs          <- fiveUTRsByTranscript(ensemble_gtf,use.names=TRUE)\n",
    "length_fiveUTRs   <- width(ranges(fiveUTRs))\n",
    "the_lengths        <- as.data.frame(length_fiveUTRs)\n",
    "the_lengths        <- the_lengths %>% group_by(group, group_name) %>% summarise(sum(value))\n",
    "the_lengths        <- unique(the_lengths[,c(\"group_name\", \"sum(value)\")])\n",
    "colnames(the_lengths) <- c(\"ENST\", \"5' UTR Length\")\n",
    "the_lengths <- as.data.frame(the_lengths)\n",
    "\n",
    "# Read GTF and make ENSG and ENST information for each genes\n",
    "GTF=\"Mus_musculus.GRCm39.104.rdna_rn18s.gtf.gz\"\n",
    "GTF <- import(GTF)\n",
    "GRCm39.104.gtf <- as.data.frame(GTF)\n",
    "\n",
    "GRCm39.104.selected <- GRCm39.104.gtf %>%\n",
    "  filter(type==\"gene\") %>%\n",
    "  rename(Chr=seqnames, Type=type,ENSG=gene_id, Symbol=gene_name, GeneType=gene_biotype, GeneLength=width) %>%\n",
    "  select(Chr, Type, GeneType, ENSG, Symbol, GeneLength) \n",
    "\n",
    "GRCm39.104.ENST <- GRCm39.104.gtf %>%\n",
    "  rename(ENSG=gene_id, ENST=transcript_id, Symbol=gene_name) %>%\n",
    "  select(ENSG, ENST, Symbol) %>%\n",
    "  tidyr::drop_na()%>%  #filter(!is.na(ENST)) ##Both filter/is.na will work\n",
    "  distinct()\n",
    "\n",
    "# Make final file\n",
    "UTR_Length <- merge(GRCm39.104.ENST, the_lengths, by =\"ENST\")\n",
    "head(UTR_Length)"
   ]
  },
  {
   "cell_type": "markdown",
   "id": "1f3fd74c",
   "metadata": {},
   "source": [
    "## Load functions"
   ]
  },
  {
   "cell_type": "code",
   "execution_count": 5,
   "id": "fb4153a7",
   "metadata": {},
   "outputs": [],
   "source": [
    "suppressMessages(suppressWarnings(source(\"./jupyter_common.R\")))\n",
    "#load('./rdata/jupyter_common.rdata')\n",
    "load('./rdata/riboprof_170224.rdna_rn18s_161021.rdna_rn18s_limma-voom.mrna.rdata')"
   ]
  },
  {
   "cell_type": "markdown",
   "id": "49ef50cb",
   "metadata": {},
   "source": [
    "## Common parameters"
   ]
  },
  {
   "cell_type": "code",
   "execution_count": 6,
   "id": "5f431836",
   "metadata": {},
   "outputs": [],
   "source": [
    "version_gtf <- \"v104\"\n",
    "species <- \"mmusculus\"\n",
    "platform <- \"rnaseq\"\n",
    "#platform <- \"riboseq\""
   ]
  },
  {
   "cell_type": "markdown",
   "id": "2c7921b5",
   "metadata": {},
   "source": [
    "## RNAseq"
   ]
  },
  {
   "cell_type": "code",
   "execution_count": 7,
   "id": "05c7f9d7",
   "metadata": {},
   "outputs": [],
   "source": [
    "condstr <- \"rnaseq.protein_coding_gene\""
   ]
  },
  {
   "cell_type": "markdown",
   "id": "61dc6139",
   "metadata": {},
   "source": [
    "## unt vs. tgfb vs. cx5461"
   ]
  },
  {
   "cell_type": "markdown",
   "id": "aa30d13d",
   "metadata": {},
   "source": [
    "### rev-Up-Down"
   ]
  },
  {
   "cell_type": "code",
   "execution_count": 8,
   "id": "3b907fce",
   "metadata": {},
   "outputs": [],
   "source": [
    "sym_mrna_up_dn <- setdiff(sym_mrna_up_cx_dn, sym_ribo_up_cx_dn)"
   ]
  },
  {
   "cell_type": "markdown",
   "id": "90a70434",
   "metadata": {},
   "source": [
    "### check"
   ]
  },
  {
   "cell_type": "code",
   "execution_count": 9,
   "id": "e8ce3639",
   "metadata": {},
   "outputs": [
    {
     "data": {
      "text/html": [],
      "text/latex": [],
      "text/markdown": [],
      "text/plain": [
       "character(0)"
      ]
     },
     "metadata": {},
     "output_type": "display_data"
    }
   ],
   "source": [
    "f <- grepl(\"Rp\", sym_mrna_up_dn)\n",
    "sym_mrna_up_cx_dn[f]"
   ]
  },
  {
   "cell_type": "code",
   "execution_count": 10,
   "id": "f99ea60c",
   "metadata": {},
   "outputs": [
    {
     "data": {
      "text/html": [
       "<style>\n",
       ".list-inline {list-style: none; margin:0; padding: 0}\n",
       ".list-inline>li {display: inline-block}\n",
       ".list-inline>li:not(:last-child)::after {content: \"\\00b7\"; padding: 0 .5ex}\n",
       "</style>\n",
       "<ol class=list-inline><li>'Rpl22l1'</li><li>'Rpp38'</li><li>'Rps6ka2'</li><li>'Rps6kb2'</li><li>'Rps6kc1'</li></ol>\n"
      ],
      "text/latex": [
       "\\begin{enumerate*}\n",
       "\\item 'Rpl22l1'\n",
       "\\item 'Rpp38'\n",
       "\\item 'Rps6ka2'\n",
       "\\item 'Rps6kb2'\n",
       "\\item 'Rps6kc1'\n",
       "\\end{enumerate*}\n"
      ],
      "text/markdown": [
       "1. 'Rpl22l1'\n",
       "2. 'Rpp38'\n",
       "3. 'Rps6ka2'\n",
       "4. 'Rps6kb2'\n",
       "5. 'Rps6kc1'\n",
       "\n",
       "\n"
      ],
      "text/plain": [
       "[1] \"Rpl22l1\" \"Rpp38\"   \"Rps6ka2\" \"Rps6kb2\" \"Rps6kc1\""
      ]
     },
     "metadata": {},
     "output_type": "display_data"
    },
    {
     "data": {
      "text/html": [
       "<style>\n",
       ".list-inline {list-style: none; margin:0; padding: 0}\n",
       ".list-inline>li {display: inline-block}\n",
       ".list-inline>li:not(:last-child)::after {content: \"\\00b7\"; padding: 0 .5ex}\n",
       "</style>\n",
       "<ol class=list-inline><li>'Rpp14'</li><li>'Rprd1b'</li></ol>\n"
      ],
      "text/latex": [
       "\\begin{enumerate*}\n",
       "\\item 'Rpp14'\n",
       "\\item 'Rprd1b'\n",
       "\\end{enumerate*}\n"
      ],
      "text/markdown": [
       "1. 'Rpp14'\n",
       "2. 'Rprd1b'\n",
       "\n",
       "\n"
      ],
      "text/plain": [
       "[1] \"Rpp14\"  \"Rprd1b\""
      ]
     },
     "metadata": {},
     "output_type": "display_data"
    }
   ],
   "source": [
    "f <- grepl(\"Rp\", sym_mrna_up)\n",
    "sym_mrna_up[f]\n",
    "f <- grepl(\"Rp\", sym_mrna2_dn)\n",
    "sym_mrna2_dn[f]"
   ]
  },
  {
   "cell_type": "markdown",
   "id": "48468eec",
   "metadata": {},
   "source": [
    "### 5' UTR"
   ]
  },
  {
   "cell_type": "code",
   "execution_count": 11,
   "id": "c7279ef9",
   "metadata": {},
   "outputs": [
    {
     "data": {
      "text/html": [
       "<table class=\"dataframe\">\n",
       "<caption>A data.frame: 6 × 3</caption>\n",
       "<thead>\n",
       "\t<tr><th></th><th scope=col>sym</th><th scope=col>len</th><th scope=col>type</th></tr>\n",
       "\t<tr><th></th><th scope=col>&lt;chr&gt;</th><th scope=col>&lt;int&gt;</th><th scope=col>&lt;chr&gt;</th></tr>\n",
       "</thead>\n",
       "<tbody>\n",
       "\t<tr><th scope=row>107</th><td>Zfp469       </td><td> 2</td><td>Up-Down</td></tr>\n",
       "\t<tr><th scope=row>1</th><td>0610010F05Rik</td><td> 5</td><td>Up-Down</td></tr>\n",
       "\t<tr><th scope=row>18</th><td>Crybg3       </td><td> 5</td><td>Up-Down</td></tr>\n",
       "\t<tr><th scope=row>21</th><td>Ctsw         </td><td>24</td><td>Up-Down</td></tr>\n",
       "\t<tr><th scope=row>43</th><td>Ktn1         </td><td>31</td><td>Up-Down</td></tr>\n",
       "\t<tr><th scope=row>46</th><td>Lix1l        </td><td>33</td><td>Up-Down</td></tr>\n",
       "</tbody>\n",
       "</table>\n"
      ],
      "text/latex": [
       "A data.frame: 6 × 3\n",
       "\\begin{tabular}{r|lll}\n",
       "  & sym & len & type\\\\\n",
       "  & <chr> & <int> & <chr>\\\\\n",
       "\\hline\n",
       "\t107 & Zfp469        &  2 & Up-Down\\\\\n",
       "\t1 & 0610010F05Rik &  5 & Up-Down\\\\\n",
       "\t18 & Crybg3        &  5 & Up-Down\\\\\n",
       "\t21 & Ctsw          & 24 & Up-Down\\\\\n",
       "\t43 & Ktn1          & 31 & Up-Down\\\\\n",
       "\t46 & Lix1l         & 33 & Up-Down\\\\\n",
       "\\end{tabular}\n"
      ],
      "text/markdown": [
       "\n",
       "A data.frame: 6 × 3\n",
       "\n",
       "| <!--/--> | sym &lt;chr&gt; | len &lt;int&gt; | type &lt;chr&gt; |\n",
       "|---|---|---|---|\n",
       "| 107 | Zfp469        |  2 | Up-Down |\n",
       "| 1 | 0610010F05Rik |  5 | Up-Down |\n",
       "| 18 | Crybg3        |  5 | Up-Down |\n",
       "| 21 | Ctsw          | 24 | Up-Down |\n",
       "| 43 | Ktn1          | 31 | Up-Down |\n",
       "| 46 | Lix1l         | 33 | Up-Down |\n",
       "\n"
      ],
      "text/plain": [
       "    sym           len type   \n",
       "107 Zfp469         2  Up-Down\n",
       "1   0610010F05Rik  5  Up-Down\n",
       "18  Crybg3         5  Up-Down\n",
       "21  Ctsw          24  Up-Down\n",
       "43  Ktn1          31  Up-Down\n",
       "46  Lix1l         33  Up-Down"
      ]
     },
     "metadata": {},
     "output_type": "display_data"
    },
    {
     "data": {
      "text/html": [
       "<style>\n",
       ".list-inline {list-style: none; margin:0; padding: 0}\n",
       ".list-inline>li {display: inline-block}\n",
       ".list-inline>li:not(:last-child)::after {content: \"\\00b7\"; padding: 0 .5ex}\n",
       "</style>\n",
       "<ol class=list-inline><li>107</li><li>3</li></ol>\n"
      ],
      "text/latex": [
       "\\begin{enumerate*}\n",
       "\\item 107\n",
       "\\item 3\n",
       "\\end{enumerate*}\n"
      ],
      "text/markdown": [
       "1. 107\n",
       "2. 3\n",
       "\n",
       "\n"
      ],
      "text/plain": [
       "[1] 107   3"
      ]
     },
     "metadata": {},
     "output_type": "display_data"
    }
   ],
   "source": [
    "df <- UTR_Length\n",
    "idx <- match(sym_mrna_up_dn, df$Symbol)\n",
    "f <- !is.na(idx); idx <- idx[f]\n",
    "df_updn_5utr <- data.frame(sym=df[idx,\"Symbol\"], len=df[idx,\"5' UTR Length\"], type=\"Up-Down\")\n",
    "df_updn_5utr <- df_updn_5utr[order(df_updn_5utr$len), ]\n",
    "\n",
    "head(df_updn_5utr)\n",
    "dim(df_updn_5utr)"
   ]
  },
  {
   "cell_type": "code",
   "execution_count": 12,
   "id": "8ff86fd8",
   "metadata": {},
   "outputs": [
    {
     "data": {
      "text/html": [
       "<table class=\"dataframe\">\n",
       "<caption>A data.frame: 0 × 3</caption>\n",
       "<thead>\n",
       "\t<tr><th scope=col>sym</th><th scope=col>len</th><th scope=col>type</th></tr>\n",
       "\t<tr><th scope=col>&lt;chr&gt;</th><th scope=col>&lt;int&gt;</th><th scope=col>&lt;chr&gt;</th></tr>\n",
       "</thead>\n",
       "<tbody>\n",
       "</tbody>\n",
       "</table>\n"
      ],
      "text/latex": [
       "A data.frame: 0 × 3\n",
       "\\begin{tabular}{lll}\n",
       " sym & len & type\\\\\n",
       " <chr> & <int> & <chr>\\\\\n",
       "\\hline\n",
       "\\end{tabular}\n"
      ],
      "text/markdown": [
       "\n",
       "A data.frame: 0 × 3\n",
       "\n",
       "| sym &lt;chr&gt; | len &lt;int&gt; | type &lt;chr&gt; |\n",
       "|---|---|---|\n",
       "\n"
      ],
      "text/plain": [
       "     sym len type"
      ]
     },
     "metadata": {},
     "output_type": "display_data"
    }
   ],
   "source": [
    "f <- grepl(\"Zeb\", df_updn_5utr$sym)\n",
    "df_updn_5utr[f,]"
   ]
  },
  {
   "cell_type": "code",
   "execution_count": 13,
   "id": "20e936e9",
   "metadata": {},
   "outputs": [
    {
     "data": {
      "text/html": [],
      "text/latex": [],
      "text/markdown": [],
      "text/plain": [
       "character(0)"
      ]
     },
     "metadata": {},
     "output_type": "display_data"
    },
    {
     "data": {
      "text/html": [
       "0"
      ],
      "text/latex": [
       "0"
      ],
      "text/markdown": [
       "0"
      ],
      "text/plain": [
       "[1] 0"
      ]
     },
     "metadata": {},
     "output_type": "display_data"
    }
   ],
   "source": [
    "idx <- which(df_updn_5utr$len == 0)\n",
    "sym_no_5utr <- df_updn_5utr[idx, \"sym\"]\n",
    "sym_no_5utr\n",
    "length(sym_no_5utr)"
   ]
  },
  {
   "cell_type": "markdown",
   "id": "fcd73370",
   "metadata": {},
   "source": [
    "### rev-DownUP"
   ]
  },
  {
   "cell_type": "code",
   "execution_count": 14,
   "id": "de06977a",
   "metadata": {},
   "outputs": [],
   "source": [
    "sym_mrna_dn_up <- setdiff(sym_mrna_dn_cx_up, sym_ribo_dn_cx_up)"
   ]
  },
  {
   "cell_type": "code",
   "execution_count": 15,
   "id": "27bbb12f",
   "metadata": {},
   "outputs": [
    {
     "data": {
      "text/html": [],
      "text/latex": [],
      "text/markdown": [],
      "text/plain": [
       "character(0)"
      ]
     },
     "metadata": {},
     "output_type": "display_data"
    }
   ],
   "source": [
    "f <- grepl(\"Rp\", sym_mrna_dn_cx_up)\n",
    "sym_mrna_dn_cx_up[f]"
   ]
  },
  {
   "cell_type": "code",
   "execution_count": 16,
   "id": "68aff5b9",
   "metadata": {},
   "outputs": [
    {
     "data": {
      "text/html": [
       "<style>\n",
       ".list-inline {list-style: none; margin:0; padding: 0}\n",
       ".list-inline>li {display: inline-block}\n",
       ".list-inline>li:not(:last-child)::after {content: \"\\00b7\"; padding: 0 .5ex}\n",
       "</style>\n",
       "<ol class=list-inline><li>'Rp9'</li><li>'Rpa1'</li><li>'Rpa2'</li><li>'Rpa3'</li><li>'Rpap1'</li><li>'Rpap3'</li><li>'Rpe'</li><li>'Rpf2'</li><li>'Rpl13'</li><li>'Rpl13a'</li><li>'Rpl14'</li><li>'Rpl15'</li><li>'Rpl18'</li><li>'Rpl18a'</li><li>'Rpl19-ps11'</li><li>'Rpl21'</li><li>'Rpl22'</li><li>'Rpl29'</li><li>'Rpl32'</li><li>'Rpl36'</li><li>'Rpl36al'</li><li>'Rpl37'</li><li>'Rpl37a'</li><li>'Rpl37rt'</li><li>'Rpl4'</li><li>'Rpl41'</li><li>'Rpl6'</li><li>'Rpl7a'</li><li>'Rpl8'</li><li>'Rpl9'</li><li>'Rpp25l'</li><li>'Rpp30'</li><li>'Rpph1'</li><li>'Rps10'</li><li>'Rps11'</li><li>'Rps15'</li><li>'Rps2'</li><li>'Rps2-ps10'</li><li>'Rps2-ps6'</li><li>'Rps21'</li><li>'Rps25'</li><li>'Rps26'</li><li>'Rps27'</li><li>'Rps28'</li><li>'Rps29'</li><li>'Rps3a1'</li><li>'Rps3a2'</li><li>'Rps3a3'</li><li>'Rps4x'</li><li>'Rps6'</li><li>'Rps6ka1'</li><li>'Rps6ka5'</li><li>'Rps8'</li><li>'Rpsa'</li></ol>\n"
      ],
      "text/latex": [
       "\\begin{enumerate*}\n",
       "\\item 'Rp9'\n",
       "\\item 'Rpa1'\n",
       "\\item 'Rpa2'\n",
       "\\item 'Rpa3'\n",
       "\\item 'Rpap1'\n",
       "\\item 'Rpap3'\n",
       "\\item 'Rpe'\n",
       "\\item 'Rpf2'\n",
       "\\item 'Rpl13'\n",
       "\\item 'Rpl13a'\n",
       "\\item 'Rpl14'\n",
       "\\item 'Rpl15'\n",
       "\\item 'Rpl18'\n",
       "\\item 'Rpl18a'\n",
       "\\item 'Rpl19-ps11'\n",
       "\\item 'Rpl21'\n",
       "\\item 'Rpl22'\n",
       "\\item 'Rpl29'\n",
       "\\item 'Rpl32'\n",
       "\\item 'Rpl36'\n",
       "\\item 'Rpl36al'\n",
       "\\item 'Rpl37'\n",
       "\\item 'Rpl37a'\n",
       "\\item 'Rpl37rt'\n",
       "\\item 'Rpl4'\n",
       "\\item 'Rpl41'\n",
       "\\item 'Rpl6'\n",
       "\\item 'Rpl7a'\n",
       "\\item 'Rpl8'\n",
       "\\item 'Rpl9'\n",
       "\\item 'Rpp25l'\n",
       "\\item 'Rpp30'\n",
       "\\item 'Rpph1'\n",
       "\\item 'Rps10'\n",
       "\\item 'Rps11'\n",
       "\\item 'Rps15'\n",
       "\\item 'Rps2'\n",
       "\\item 'Rps2-ps10'\n",
       "\\item 'Rps2-ps6'\n",
       "\\item 'Rps21'\n",
       "\\item 'Rps25'\n",
       "\\item 'Rps26'\n",
       "\\item 'Rps27'\n",
       "\\item 'Rps28'\n",
       "\\item 'Rps29'\n",
       "\\item 'Rps3a1'\n",
       "\\item 'Rps3a2'\n",
       "\\item 'Rps3a3'\n",
       "\\item 'Rps4x'\n",
       "\\item 'Rps6'\n",
       "\\item 'Rps6ka1'\n",
       "\\item 'Rps6ka5'\n",
       "\\item 'Rps8'\n",
       "\\item 'Rpsa'\n",
       "\\end{enumerate*}\n"
      ],
      "text/markdown": [
       "1. 'Rp9'\n",
       "2. 'Rpa1'\n",
       "3. 'Rpa2'\n",
       "4. 'Rpa3'\n",
       "5. 'Rpap1'\n",
       "6. 'Rpap3'\n",
       "7. 'Rpe'\n",
       "8. 'Rpf2'\n",
       "9. 'Rpl13'\n",
       "10. 'Rpl13a'\n",
       "11. 'Rpl14'\n",
       "12. 'Rpl15'\n",
       "13. 'Rpl18'\n",
       "14. 'Rpl18a'\n",
       "15. 'Rpl19-ps11'\n",
       "16. 'Rpl21'\n",
       "17. 'Rpl22'\n",
       "18. 'Rpl29'\n",
       "19. 'Rpl32'\n",
       "20. 'Rpl36'\n",
       "21. 'Rpl36al'\n",
       "22. 'Rpl37'\n",
       "23. 'Rpl37a'\n",
       "24. 'Rpl37rt'\n",
       "25. 'Rpl4'\n",
       "26. 'Rpl41'\n",
       "27. 'Rpl6'\n",
       "28. 'Rpl7a'\n",
       "29. 'Rpl8'\n",
       "30. 'Rpl9'\n",
       "31. 'Rpp25l'\n",
       "32. 'Rpp30'\n",
       "33. 'Rpph1'\n",
       "34. 'Rps10'\n",
       "35. 'Rps11'\n",
       "36. 'Rps15'\n",
       "37. 'Rps2'\n",
       "38. 'Rps2-ps10'\n",
       "39. 'Rps2-ps6'\n",
       "40. 'Rps21'\n",
       "41. 'Rps25'\n",
       "42. 'Rps26'\n",
       "43. 'Rps27'\n",
       "44. 'Rps28'\n",
       "45. 'Rps29'\n",
       "46. 'Rps3a1'\n",
       "47. 'Rps3a2'\n",
       "48. 'Rps3a3'\n",
       "49. 'Rps4x'\n",
       "50. 'Rps6'\n",
       "51. 'Rps6ka1'\n",
       "52. 'Rps6ka5'\n",
       "53. 'Rps8'\n",
       "54. 'Rpsa'\n",
       "\n",
       "\n"
      ],
      "text/plain": [
       " [1] \"Rp9\"        \"Rpa1\"       \"Rpa2\"       \"Rpa3\"       \"Rpap1\"     \n",
       " [6] \"Rpap3\"      \"Rpe\"        \"Rpf2\"       \"Rpl13\"      \"Rpl13a\"    \n",
       "[11] \"Rpl14\"      \"Rpl15\"      \"Rpl18\"      \"Rpl18a\"     \"Rpl19-ps11\"\n",
       "[16] \"Rpl21\"      \"Rpl22\"      \"Rpl29\"      \"Rpl32\"      \"Rpl36\"     \n",
       "[21] \"Rpl36al\"    \"Rpl37\"      \"Rpl37a\"     \"Rpl37rt\"    \"Rpl4\"      \n",
       "[26] \"Rpl41\"      \"Rpl6\"       \"Rpl7a\"      \"Rpl8\"       \"Rpl9\"      \n",
       "[31] \"Rpp25l\"     \"Rpp30\"      \"Rpph1\"      \"Rps10\"      \"Rps11\"     \n",
       "[36] \"Rps15\"      \"Rps2\"       \"Rps2-ps10\"  \"Rps2-ps6\"   \"Rps21\"     \n",
       "[41] \"Rps25\"      \"Rps26\"      \"Rps27\"      \"Rps28\"      \"Rps29\"     \n",
       "[46] \"Rps3a1\"     \"Rps3a2\"     \"Rps3a3\"     \"Rps4x\"      \"Rps6\"      \n",
       "[51] \"Rps6ka1\"    \"Rps6ka5\"    \"Rps8\"       \"Rpsa\"      "
      ]
     },
     "metadata": {},
     "output_type": "display_data"
    },
    {
     "data": {
      "text/html": [
       "'Rps27l'"
      ],
      "text/latex": [
       "'Rps27l'"
      ],
      "text/markdown": [
       "'Rps27l'"
      ],
      "text/plain": [
       "[1] \"Rps27l\""
      ]
     },
     "metadata": {},
     "output_type": "display_data"
    }
   ],
   "source": [
    "f <- grepl(\"Rp\", sym_mrna_dn)\n",
    "sym_mrna_dn[f]\n",
    "f <- grepl(\"Rp\", sym_mrna2_up)\n",
    "sym_mrna2_up[f]"
   ]
  },
  {
   "cell_type": "markdown",
   "id": "c7d19dd2",
   "metadata": {},
   "source": [
    "### 5' UTR"
   ]
  },
  {
   "cell_type": "code",
   "execution_count": 17,
   "id": "790b4096",
   "metadata": {},
   "outputs": [
    {
     "data": {
      "text/html": [
       "<table class=\"dataframe\">\n",
       "<caption>A data.frame: 6 × 3</caption>\n",
       "<thead>\n",
       "\t<tr><th></th><th scope=col>sym</th><th scope=col>len</th><th scope=col>type</th></tr>\n",
       "\t<tr><th></th><th scope=col>&lt;chr&gt;</th><th scope=col>&lt;int&gt;</th><th scope=col>&lt;chr&gt;</th></tr>\n",
       "</thead>\n",
       "<tbody>\n",
       "\t<tr><th scope=row>30</th><td>Eme2         </td><td> 6</td><td>Down-Up</td></tr>\n",
       "\t<tr><th scope=row>57</th><td>Lgals9       </td><td>15</td><td>Down-Up</td></tr>\n",
       "\t<tr><th scope=row>102</th><td>Stxbp2       </td><td>15</td><td>Down-Up</td></tr>\n",
       "\t<tr><th scope=row>2</th><td>9530053A07Rik</td><td>19</td><td>Down-Up</td></tr>\n",
       "\t<tr><th scope=row>47</th><td>H2bc4        </td><td>33</td><td>Down-Up</td></tr>\n",
       "\t<tr><th scope=row>74</th><td>Pex6         </td><td>37</td><td>Down-Up</td></tr>\n",
       "</tbody>\n",
       "</table>\n"
      ],
      "text/latex": [
       "A data.frame: 6 × 3\n",
       "\\begin{tabular}{r|lll}\n",
       "  & sym & len & type\\\\\n",
       "  & <chr> & <int> & <chr>\\\\\n",
       "\\hline\n",
       "\t30 & Eme2          &  6 & Down-Up\\\\\n",
       "\t57 & Lgals9        & 15 & Down-Up\\\\\n",
       "\t102 & Stxbp2        & 15 & Down-Up\\\\\n",
       "\t2 & 9530053A07Rik & 19 & Down-Up\\\\\n",
       "\t47 & H2bc4         & 33 & Down-Up\\\\\n",
       "\t74 & Pex6          & 37 & Down-Up\\\\\n",
       "\\end{tabular}\n"
      ],
      "text/markdown": [
       "\n",
       "A data.frame: 6 × 3\n",
       "\n",
       "| <!--/--> | sym &lt;chr&gt; | len &lt;int&gt; | type &lt;chr&gt; |\n",
       "|---|---|---|---|\n",
       "| 30 | Eme2          |  6 | Down-Up |\n",
       "| 57 | Lgals9        | 15 | Down-Up |\n",
       "| 102 | Stxbp2        | 15 | Down-Up |\n",
       "| 2 | 9530053A07Rik | 19 | Down-Up |\n",
       "| 47 | H2bc4         | 33 | Down-Up |\n",
       "| 74 | Pex6          | 37 | Down-Up |\n",
       "\n"
      ],
      "text/plain": [
       "    sym           len type   \n",
       "30  Eme2           6  Down-Up\n",
       "57  Lgals9        15  Down-Up\n",
       "102 Stxbp2        15  Down-Up\n",
       "2   9530053A07Rik 19  Down-Up\n",
       "47  H2bc4         33  Down-Up\n",
       "74  Pex6          37  Down-Up"
      ]
     },
     "metadata": {},
     "output_type": "display_data"
    },
    {
     "data": {
      "text/html": [
       "<style>\n",
       ".list-inline {list-style: none; margin:0; padding: 0}\n",
       ".list-inline>li {display: inline-block}\n",
       ".list-inline>li:not(:last-child)::after {content: \"\\00b7\"; padding: 0 .5ex}\n",
       "</style>\n",
       "<ol class=list-inline><li>116</li><li>3</li></ol>\n"
      ],
      "text/latex": [
       "\\begin{enumerate*}\n",
       "\\item 116\n",
       "\\item 3\n",
       "\\end{enumerate*}\n"
      ],
      "text/markdown": [
       "1. 116\n",
       "2. 3\n",
       "\n",
       "\n"
      ],
      "text/plain": [
       "[1] 116   3"
      ]
     },
     "metadata": {},
     "output_type": "display_data"
    }
   ],
   "source": [
    "df <- UTR_Length\n",
    "\n",
    "idx <- match(sym_mrna_dn_up, df$Symbol)\n",
    "f <- !is.na(idx); idx <- idx[f]\n",
    "df_dnup_5utr <- data.frame(sym=df[idx,\"Symbol\"], len=df[idx,\"5' UTR Length\"], type=\"Down-Up\")\n",
    "df_dnup_5utr <- df_dnup_5utr[order(df_dnup_5utr$len), ]\n",
    "\n",
    "head(df_dnup_5utr)\n",
    "dim(df_dnup_5utr)"
   ]
  },
  {
   "cell_type": "code",
   "execution_count": 18,
   "id": "583e0931",
   "metadata": {},
   "outputs": [
    {
     "data": {
      "text/html": [
       "<table class=\"dataframe\">\n",
       "<caption>A data.frame: 0 × 3</caption>\n",
       "<thead>\n",
       "\t<tr><th scope=col>sym</th><th scope=col>len</th><th scope=col>type</th></tr>\n",
       "\t<tr><th scope=col>&lt;chr&gt;</th><th scope=col>&lt;int&gt;</th><th scope=col>&lt;chr&gt;</th></tr>\n",
       "</thead>\n",
       "<tbody>\n",
       "</tbody>\n",
       "</table>\n"
      ],
      "text/latex": [
       "A data.frame: 0 × 3\n",
       "\\begin{tabular}{lll}\n",
       " sym & len & type\\\\\n",
       " <chr> & <int> & <chr>\\\\\n",
       "\\hline\n",
       "\\end{tabular}\n"
      ],
      "text/markdown": [
       "\n",
       "A data.frame: 0 × 3\n",
       "\n",
       "| sym &lt;chr&gt; | len &lt;int&gt; | type &lt;chr&gt; |\n",
       "|---|---|---|\n",
       "\n"
      ],
      "text/plain": [
       "     sym len type"
      ]
     },
     "metadata": {},
     "output_type": "display_data"
    }
   ],
   "source": [
    "f <- grepl(\"Rp\", df_dnup_5utr$sym)\n",
    "df_dnup_5utr[f,]"
   ]
  },
  {
   "cell_type": "code",
   "execution_count": 19,
   "id": "e4a7f6c9",
   "metadata": {},
   "outputs": [
    {
     "data": {
      "text/html": [],
      "text/latex": [],
      "text/markdown": [],
      "text/plain": [
       "character(0)"
      ]
     },
     "metadata": {},
     "output_type": "display_data"
    },
    {
     "data": {
      "text/html": [
       "0"
      ],
      "text/latex": [
       "0"
      ],
      "text/markdown": [
       "0"
      ],
      "text/plain": [
       "[1] 0"
      ]
     },
     "metadata": {},
     "output_type": "display_data"
    }
   ],
   "source": [
    "idx <- which(df_dnup_5utr$len == 0)\n",
    "sym_no_5utr <- df_dnup_5utr[idx, \"sym\"]\n",
    "sym_no_5utr\n",
    "length(sym_no_5utr)"
   ]
  },
  {
   "cell_type": "markdown",
   "id": "4e272c59",
   "metadata": {},
   "source": [
    "## Violin plot"
   ]
  },
  {
   "cell_type": "markdown",
   "id": "971ffaef",
   "metadata": {},
   "source": [
    "### 5' UTR"
   ]
  },
  {
   "cell_type": "code",
   "execution_count": 20,
   "id": "ff5b298e",
   "metadata": {},
   "outputs": [
    {
     "data": {
      "text/html": [
       "<table class=\"dataframe\">\n",
       "<caption>A data.frame: 6 × 3</caption>\n",
       "<thead>\n",
       "\t<tr><th></th><th scope=col>sym</th><th scope=col>len</th><th scope=col>type</th></tr>\n",
       "\t<tr><th></th><th scope=col>&lt;chr&gt;</th><th scope=col>&lt;int&gt;</th><th scope=col>&lt;chr&gt;</th></tr>\n",
       "</thead>\n",
       "<tbody>\n",
       "\t<tr><th scope=row>107</th><td>Zfp469       </td><td> 2</td><td>Up-Down</td></tr>\n",
       "\t<tr><th scope=row>1</th><td>0610010F05Rik</td><td> 5</td><td>Up-Down</td></tr>\n",
       "\t<tr><th scope=row>18</th><td>Crybg3       </td><td> 5</td><td>Up-Down</td></tr>\n",
       "\t<tr><th scope=row>21</th><td>Ctsw         </td><td>24</td><td>Up-Down</td></tr>\n",
       "\t<tr><th scope=row>43</th><td>Ktn1         </td><td>31</td><td>Up-Down</td></tr>\n",
       "\t<tr><th scope=row>46</th><td>Lix1l        </td><td>33</td><td>Up-Down</td></tr>\n",
       "</tbody>\n",
       "</table>\n"
      ],
      "text/latex": [
       "A data.frame: 6 × 3\n",
       "\\begin{tabular}{r|lll}\n",
       "  & sym & len & type\\\\\n",
       "  & <chr> & <int> & <chr>\\\\\n",
       "\\hline\n",
       "\t107 & Zfp469        &  2 & Up-Down\\\\\n",
       "\t1 & 0610010F05Rik &  5 & Up-Down\\\\\n",
       "\t18 & Crybg3        &  5 & Up-Down\\\\\n",
       "\t21 & Ctsw          & 24 & Up-Down\\\\\n",
       "\t43 & Ktn1          & 31 & Up-Down\\\\\n",
       "\t46 & Lix1l         & 33 & Up-Down\\\\\n",
       "\\end{tabular}\n"
      ],
      "text/markdown": [
       "\n",
       "A data.frame: 6 × 3\n",
       "\n",
       "| <!--/--> | sym &lt;chr&gt; | len &lt;int&gt; | type &lt;chr&gt; |\n",
       "|---|---|---|---|\n",
       "| 107 | Zfp469        |  2 | Up-Down |\n",
       "| 1 | 0610010F05Rik |  5 | Up-Down |\n",
       "| 18 | Crybg3        |  5 | Up-Down |\n",
       "| 21 | Ctsw          | 24 | Up-Down |\n",
       "| 43 | Ktn1          | 31 | Up-Down |\n",
       "| 46 | Lix1l         | 33 | Up-Down |\n",
       "\n"
      ],
      "text/plain": [
       "    sym           len type   \n",
       "107 Zfp469         2  Up-Down\n",
       "1   0610010F05Rik  5  Up-Down\n",
       "18  Crybg3         5  Up-Down\n",
       "21  Ctsw          24  Up-Down\n",
       "43  Ktn1          31  Up-Down\n",
       "46  Lix1l         33  Up-Down"
      ]
     },
     "metadata": {},
     "output_type": "display_data"
    },
    {
     "data": {
      "text/html": [
       "<style>\n",
       ".dl-inline {width: auto; margin:0; padding: 0}\n",
       ".dl-inline>dt, .dl-inline>dd {float: none; width: auto; display: inline-block}\n",
       ".dl-inline>dt::after {content: \":\\0020\"; padding-right: .5ex}\n",
       ".dl-inline>dt:not(:first-of-type) {padding-left: .5ex}\n",
       "</style><dl class=dl-inline><dt>25%</dt><dd>122</dd><dt>50%</dt><dd>207</dd><dt>75%</dt><dd>345.5</dd></dl>\n"
      ],
      "text/latex": [
       "\\begin{description*}\n",
       "\\item[25\\textbackslash{}\\%] 122\n",
       "\\item[50\\textbackslash{}\\%] 207\n",
       "\\item[75\\textbackslash{}\\%] 345.5\n",
       "\\end{description*}\n"
      ],
      "text/markdown": [
       "25%\n",
       ":   12250%\n",
       ":   20775%\n",
       ":   345.5\n",
       "\n"
      ],
      "text/plain": [
       "  25%   50%   75% \n",
       "122.0 207.0 345.5 "
      ]
     },
     "metadata": {},
     "output_type": "display_data"
    }
   ],
   "source": [
    "head(df_updn_5utr)\n",
    "quantile_updn_5utr <- quantile(df_updn_5utr$len, probs = c(0.25,0.5,0.75))\n",
    "quantile_updn_5utr"
   ]
  },
  {
   "cell_type": "code",
   "execution_count": 21,
   "id": "f06ea096",
   "metadata": {},
   "outputs": [
    {
     "data": {
      "text/html": [
       "<table class=\"dataframe\">\n",
       "<caption>A data.frame: 6 × 3</caption>\n",
       "<thead>\n",
       "\t<tr><th></th><th scope=col>sym</th><th scope=col>len</th><th scope=col>type</th></tr>\n",
       "\t<tr><th></th><th scope=col>&lt;chr&gt;</th><th scope=col>&lt;int&gt;</th><th scope=col>&lt;chr&gt;</th></tr>\n",
       "</thead>\n",
       "<tbody>\n",
       "\t<tr><th scope=row>30</th><td>Eme2         </td><td> 6</td><td>Down-Up</td></tr>\n",
       "\t<tr><th scope=row>57</th><td>Lgals9       </td><td>15</td><td>Down-Up</td></tr>\n",
       "\t<tr><th scope=row>102</th><td>Stxbp2       </td><td>15</td><td>Down-Up</td></tr>\n",
       "\t<tr><th scope=row>2</th><td>9530053A07Rik</td><td>19</td><td>Down-Up</td></tr>\n",
       "\t<tr><th scope=row>47</th><td>H2bc4        </td><td>33</td><td>Down-Up</td></tr>\n",
       "\t<tr><th scope=row>74</th><td>Pex6         </td><td>37</td><td>Down-Up</td></tr>\n",
       "</tbody>\n",
       "</table>\n"
      ],
      "text/latex": [
       "A data.frame: 6 × 3\n",
       "\\begin{tabular}{r|lll}\n",
       "  & sym & len & type\\\\\n",
       "  & <chr> & <int> & <chr>\\\\\n",
       "\\hline\n",
       "\t30 & Eme2          &  6 & Down-Up\\\\\n",
       "\t57 & Lgals9        & 15 & Down-Up\\\\\n",
       "\t102 & Stxbp2        & 15 & Down-Up\\\\\n",
       "\t2 & 9530053A07Rik & 19 & Down-Up\\\\\n",
       "\t47 & H2bc4         & 33 & Down-Up\\\\\n",
       "\t74 & Pex6          & 37 & Down-Up\\\\\n",
       "\\end{tabular}\n"
      ],
      "text/markdown": [
       "\n",
       "A data.frame: 6 × 3\n",
       "\n",
       "| <!--/--> | sym &lt;chr&gt; | len &lt;int&gt; | type &lt;chr&gt; |\n",
       "|---|---|---|---|\n",
       "| 30 | Eme2          |  6 | Down-Up |\n",
       "| 57 | Lgals9        | 15 | Down-Up |\n",
       "| 102 | Stxbp2        | 15 | Down-Up |\n",
       "| 2 | 9530053A07Rik | 19 | Down-Up |\n",
       "| 47 | H2bc4         | 33 | Down-Up |\n",
       "| 74 | Pex6          | 37 | Down-Up |\n",
       "\n"
      ],
      "text/plain": [
       "    sym           len type   \n",
       "30  Eme2           6  Down-Up\n",
       "57  Lgals9        15  Down-Up\n",
       "102 Stxbp2        15  Down-Up\n",
       "2   9530053A07Rik 19  Down-Up\n",
       "47  H2bc4         33  Down-Up\n",
       "74  Pex6          37  Down-Up"
      ]
     },
     "metadata": {},
     "output_type": "display_data"
    },
    {
     "data": {
      "text/html": [
       "<style>\n",
       ".dl-inline {width: auto; margin:0; padding: 0}\n",
       ".dl-inline>dt, .dl-inline>dd {float: none; width: auto; display: inline-block}\n",
       ".dl-inline>dt::after {content: \":\\0020\"; padding-right: .5ex}\n",
       ".dl-inline>dt:not(:first-of-type) {padding-left: .5ex}\n",
       "</style><dl class=dl-inline><dt>25%</dt><dd>91</dd><dt>50%</dt><dd>176.5</dd><dt>75%</dt><dd>288</dd></dl>\n"
      ],
      "text/latex": [
       "\\begin{description*}\n",
       "\\item[25\\textbackslash{}\\%] 91\n",
       "\\item[50\\textbackslash{}\\%] 176.5\n",
       "\\item[75\\textbackslash{}\\%] 288\n",
       "\\end{description*}\n"
      ],
      "text/markdown": [
       "25%\n",
       ":   9150%\n",
       ":   176.575%\n",
       ":   288\n",
       "\n"
      ],
      "text/plain": [
       "  25%   50%   75% \n",
       " 91.0 176.5 288.0 "
      ]
     },
     "metadata": {},
     "output_type": "display_data"
    }
   ],
   "source": [
    "head(df_dnup_5utr)\n",
    "quantile_dnup_5utr <- quantile(df_dnup_5utr$len, probs = c(0.25,0.5,0.75))\n",
    "quantile_dnup_5utr"
   ]
  },
  {
   "cell_type": "code",
   "execution_count": 22,
   "id": "3bfe8403",
   "metadata": {},
   "outputs": [
    {
     "data": {
      "image/png": "[encoded data removed]",
      "text/plain": [
       "plot without title"
      ]
     },
     "metadata": {
      "image/png": {
       "height": 300,
       "width": 300
      }
     },
     "output_type": "display_data"
    }
   ],
   "source": [
    "df_5utr <- rbind(df_dnup_5utr, df_updn_5utr)\n",
    "\n",
    "yscale_100 <- function(x) {\n",
    "  sprintf(\"%.0f\", x/100)\n",
    "}\n",
    "\n",
    "gg <- ggplot(df_5utr, aes(x=type, y=len, fill=type)) +\n",
    "  geom_violin(trim=FALSE)+\n",
    "  geom_boxplot(width=0.1, fill=\"white\") + theme_bw() +\n",
    "  theme(legend.position = \"none\") + \n",
    "  xlab(NULL) + \n",
    "  #ylab(expression(\"5' UTR\"~log[2](length)~(nt))) + \n",
    "  ylab(expression(\"5' UTR length (100 nt)\")) + \n",
    "  ggtitle('') +\n",
    "  theme(plot.title=element_text(size=10),\n",
    "      axis.text.x=element_text(size=22),\n",
    "      axis.text.y=element_text(size=15, lineheight=0.9),\n",
    "      axis.title.x=element_text(size=9),\n",
    "      axis.title.y=element_text(size=22)) +\n",
    "  scale_y_continuous(label=yscale_100, limit=c(-200,2000)) +\n",
    "  geom_hline(yintercept=c(quantile_dnup_5utr[[\"50%\"]]),\n",
    "             linetype=\"dashed\", size=1, color = \"black\") +\n",
    "  scale_fill_manual(values = \n",
    "      alpha(c('no'='#aaaaaa','Up-Down'='#7aaa3d', 'Down-Up'='#ed7470'), 0.4))\n",
    "\n",
    "\n",
    "print_figure(gg, width=5, height=5,\n",
    "    file=sprintf(\"violin_plot.%s.reversible.5utr_length\", condstr))\n"
   ]
  },
  {
   "cell_type": "markdown",
   "id": "c144679f",
   "metadata": {},
   "source": [
    "## Ribo-seq"
   ]
  },
  {
   "cell_type": "code",
   "execution_count": 23,
   "id": "27c79a95",
   "metadata": {},
   "outputs": [],
   "source": [
    "condstr <- \"riboseq.protein_coding_gene\""
   ]
  },
  {
   "cell_type": "markdown",
   "id": "a594ced5",
   "metadata": {},
   "source": [
    "### unt48 vs. tgfb48 vs. cx5461"
   ]
  },
  {
   "cell_type": "markdown",
   "id": "7edc8417",
   "metadata": {},
   "source": [
    "### rev-upDown"
   ]
  },
  {
   "cell_type": "code",
   "execution_count": 24,
   "id": "9f9ff5b6",
   "metadata": {},
   "outputs": [],
   "source": [
    "sym_ribo_up_dn <- setdiff(sym_ribo_up_cx_dn, sym_mrna_up_cx_dn)"
   ]
  },
  {
   "cell_type": "code",
   "execution_count": 25,
   "id": "8a5f70a1",
   "metadata": {},
   "outputs": [
    {
     "data": {
      "text/html": [
       "'Usp22'"
      ],
      "text/latex": [
       "'Usp22'"
      ],
      "text/markdown": [
       "'Usp22'"
      ],
      "text/plain": [
       "[1] \"Usp22\""
      ]
     },
     "metadata": {},
     "output_type": "display_data"
    }
   ],
   "source": [
    "f <- grepl(\"Zeb\", sym_ribo_up_dn)\n",
    "sym_ribo_up_cx_dn[f]"
   ]
  },
  {
   "cell_type": "markdown",
   "id": "7e675beb",
   "metadata": {},
   "source": [
    "### 5' UTR"
   ]
  },
  {
   "cell_type": "code",
   "execution_count": 26,
   "id": "147b9e31",
   "metadata": {},
   "outputs": [
    {
     "data": {
      "text/html": [
       "<table class=\"dataframe\">\n",
       "<caption>A data.frame: 6 × 3</caption>\n",
       "<thead>\n",
       "\t<tr><th></th><th scope=col>sym</th><th scope=col>len</th><th scope=col>type</th></tr>\n",
       "\t<tr><th></th><th scope=col>&lt;chr&gt;</th><th scope=col>&lt;int&gt;</th><th scope=col>&lt;chr&gt;</th></tr>\n",
       "</thead>\n",
       "<tbody>\n",
       "\t<tr><th scope=row>3</th><td>Acot7  </td><td> 4</td><td>Up-Down</td></tr>\n",
       "\t<tr><th scope=row>47</th><td>Chd3   </td><td>15</td><td>Up-Down</td></tr>\n",
       "\t<tr><th scope=row>280</th><td>Zswim6 </td><td>15</td><td>Up-Down</td></tr>\n",
       "\t<tr><th scope=row>140</th><td>Lrrfip1</td><td>19</td><td>Up-Down</td></tr>\n",
       "\t<tr><th scope=row>101</th><td>Glg1   </td><td>20</td><td>Up-Down</td></tr>\n",
       "\t<tr><th scope=row>83</th><td>Fanca  </td><td>23</td><td>Up-Down</td></tr>\n",
       "</tbody>\n",
       "</table>\n"
      ],
      "text/latex": [
       "A data.frame: 6 × 3\n",
       "\\begin{tabular}{r|lll}\n",
       "  & sym & len & type\\\\\n",
       "  & <chr> & <int> & <chr>\\\\\n",
       "\\hline\n",
       "\t3 & Acot7   &  4 & Up-Down\\\\\n",
       "\t47 & Chd3    & 15 & Up-Down\\\\\n",
       "\t280 & Zswim6  & 15 & Up-Down\\\\\n",
       "\t140 & Lrrfip1 & 19 & Up-Down\\\\\n",
       "\t101 & Glg1    & 20 & Up-Down\\\\\n",
       "\t83 & Fanca   & 23 & Up-Down\\\\\n",
       "\\end{tabular}\n"
      ],
      "text/markdown": [
       "\n",
       "A data.frame: 6 × 3\n",
       "\n",
       "| <!--/--> | sym &lt;chr&gt; | len &lt;int&gt; | type &lt;chr&gt; |\n",
       "|---|---|---|---|\n",
       "| 3 | Acot7   |  4 | Up-Down |\n",
       "| 47 | Chd3    | 15 | Up-Down |\n",
       "| 280 | Zswim6  | 15 | Up-Down |\n",
       "| 140 | Lrrfip1 | 19 | Up-Down |\n",
       "| 101 | Glg1    | 20 | Up-Down |\n",
       "| 83 | Fanca   | 23 | Up-Down |\n",
       "\n"
      ],
      "text/plain": [
       "    sym     len type   \n",
       "3   Acot7    4  Up-Down\n",
       "47  Chd3    15  Up-Down\n",
       "280 Zswim6  15  Up-Down\n",
       "140 Lrrfip1 19  Up-Down\n",
       "101 Glg1    20  Up-Down\n",
       "83  Fanca   23  Up-Down"
      ]
     },
     "metadata": {},
     "output_type": "display_data"
    },
    {
     "data": {
      "text/html": [
       "<style>\n",
       ".list-inline {list-style: none; margin:0; padding: 0}\n",
       ".list-inline>li {display: inline-block}\n",
       ".list-inline>li:not(:last-child)::after {content: \"\\00b7\"; padding: 0 .5ex}\n",
       "</style>\n",
       "<ol class=list-inline><li>280</li><li>3</li></ol>\n"
      ],
      "text/latex": [
       "\\begin{enumerate*}\n",
       "\\item 280\n",
       "\\item 3\n",
       "\\end{enumerate*}\n"
      ],
      "text/markdown": [
       "1. 280\n",
       "2. 3\n",
       "\n",
       "\n"
      ],
      "text/plain": [
       "[1] 280   3"
      ]
     },
     "metadata": {},
     "output_type": "display_data"
    }
   ],
   "source": [
    "df <- UTR_Length\n",
    "\n",
    "idx <- match(sym_ribo_up_dn, df$Symbol)\n",
    "f <- !is.na(idx); idx <- idx[f]\n",
    "df_updn_5utr <- data.frame(sym=df[idx,\"Symbol\"], len=df[idx,\"5' UTR Length\"], type=\"Up-Down\")\n",
    "df_updn_5utr <- df_updn_5utr[order(df_updn_5utr$len), ]\n",
    "\n",
    "head(df_updn_5utr)\n",
    "dim(df_updn_5utr)"
   ]
  },
  {
   "cell_type": "code",
   "execution_count": 27,
   "id": "dfadd873",
   "metadata": {},
   "outputs": [
    {
     "data": {
      "text/html": [
       "<table class=\"dataframe\">\n",
       "<caption>A data.frame: 1 × 3</caption>\n",
       "<thead>\n",
       "\t<tr><th></th><th scope=col>sym</th><th scope=col>len</th><th scope=col>type</th></tr>\n",
       "\t<tr><th></th><th scope=col>&lt;chr&gt;</th><th scope=col>&lt;int&gt;</th><th scope=col>&lt;chr&gt;</th></tr>\n",
       "</thead>\n",
       "<tbody>\n",
       "\t<tr><th scope=row>275</th><td>Zeb1</td><td>46</td><td>Up-Down</td></tr>\n",
       "</tbody>\n",
       "</table>\n"
      ],
      "text/latex": [
       "A data.frame: 1 × 3\n",
       "\\begin{tabular}{r|lll}\n",
       "  & sym & len & type\\\\\n",
       "  & <chr> & <int> & <chr>\\\\\n",
       "\\hline\n",
       "\t275 & Zeb1 & 46 & Up-Down\\\\\n",
       "\\end{tabular}\n"
      ],
      "text/markdown": [
       "\n",
       "A data.frame: 1 × 3\n",
       "\n",
       "| <!--/--> | sym &lt;chr&gt; | len &lt;int&gt; | type &lt;chr&gt; |\n",
       "|---|---|---|---|\n",
       "| 275 | Zeb1 | 46 | Up-Down |\n",
       "\n"
      ],
      "text/plain": [
       "    sym  len type   \n",
       "275 Zeb1 46  Up-Down"
      ]
     },
     "metadata": {},
     "output_type": "display_data"
    }
   ],
   "source": [
    "f <- grepl(\"Zeb\", df_updn_5utr$sym)\n",
    "df_updn_5utr[f,]"
   ]
  },
  {
   "cell_type": "code",
   "execution_count": 28,
   "id": "4777cc67",
   "metadata": {},
   "outputs": [
    {
     "data": {
      "text/html": [],
      "text/latex": [],
      "text/markdown": [],
      "text/plain": [
       "character(0)"
      ]
     },
     "metadata": {},
     "output_type": "display_data"
    },
    {
     "data": {
      "text/html": [
       "0"
      ],
      "text/latex": [
       "0"
      ],
      "text/markdown": [
       "0"
      ],
      "text/plain": [
       "[1] 0"
      ]
     },
     "metadata": {},
     "output_type": "display_data"
    }
   ],
   "source": [
    "idx <- which(df_updn_5utr$len == 0)\n",
    "sym_no_5utr <- df_updn_5utr[idx, \"sym\"]\n",
    "sym_no_5utr\n",
    "length(sym_no_5utr)"
   ]
  },
  {
   "cell_type": "markdown",
   "id": "182ef5e4",
   "metadata": {},
   "source": [
    "### rev-downUp"
   ]
  },
  {
   "cell_type": "code",
   "execution_count": 29,
   "id": "64a474e4",
   "metadata": {},
   "outputs": [],
   "source": [
    "sym_ribo_dn_up <- setdiff(sym_ribo_dn_cx_up, sym_mrna_dn_cx_up)"
   ]
  },
  {
   "cell_type": "markdown",
   "id": "aff4e707",
   "metadata": {},
   "source": [
    "### 5' UTR"
   ]
  },
  {
   "cell_type": "code",
   "execution_count": 30,
   "id": "2fb0a5ea",
   "metadata": {},
   "outputs": [
    {
     "data": {
      "text/html": [
       "<table class=\"dataframe\">\n",
       "<caption>A data.frame: 6 × 3</caption>\n",
       "<thead>\n",
       "\t<tr><th></th><th scope=col>sym</th><th scope=col>len</th><th scope=col>type</th></tr>\n",
       "\t<tr><th></th><th scope=col>&lt;chr&gt;</th><th scope=col>&lt;int&gt;</th><th scope=col>&lt;chr&gt;</th></tr>\n",
       "</thead>\n",
       "<tbody>\n",
       "\t<tr><th scope=row>84</th><td>H4c6   </td><td> 5</td><td>Down-Up</td></tr>\n",
       "\t<tr><th scope=row>120</th><td>Naxe   </td><td> 5</td><td>Down-Up</td></tr>\n",
       "\t<tr><th scope=row>79</th><td>H2bc7  </td><td> 6</td><td>Down-Up</td></tr>\n",
       "\t<tr><th scope=row>82</th><td>H4c14  </td><td> 7</td><td>Down-Up</td></tr>\n",
       "\t<tr><th scope=row>62</th><td>Fam162a</td><td>12</td><td>Down-Up</td></tr>\n",
       "\t<tr><th scope=row>38</th><td>Copz1  </td><td>14</td><td>Down-Up</td></tr>\n",
       "</tbody>\n",
       "</table>\n"
      ],
      "text/latex": [
       "A data.frame: 6 × 3\n",
       "\\begin{tabular}{r|lll}\n",
       "  & sym & len & type\\\\\n",
       "  & <chr> & <int> & <chr>\\\\\n",
       "\\hline\n",
       "\t84 & H4c6    &  5 & Down-Up\\\\\n",
       "\t120 & Naxe    &  5 & Down-Up\\\\\n",
       "\t79 & H2bc7   &  6 & Down-Up\\\\\n",
       "\t82 & H4c14   &  7 & Down-Up\\\\\n",
       "\t62 & Fam162a & 12 & Down-Up\\\\\n",
       "\t38 & Copz1   & 14 & Down-Up\\\\\n",
       "\\end{tabular}\n"
      ],
      "text/markdown": [
       "\n",
       "A data.frame: 6 × 3\n",
       "\n",
       "| <!--/--> | sym &lt;chr&gt; | len &lt;int&gt; | type &lt;chr&gt; |\n",
       "|---|---|---|---|\n",
       "| 84 | H4c6    |  5 | Down-Up |\n",
       "| 120 | Naxe    |  5 | Down-Up |\n",
       "| 79 | H2bc7   |  6 | Down-Up |\n",
       "| 82 | H4c14   |  7 | Down-Up |\n",
       "| 62 | Fam162a | 12 | Down-Up |\n",
       "| 38 | Copz1   | 14 | Down-Up |\n",
       "\n"
      ],
      "text/plain": [
       "    sym     len type   \n",
       "84  H4c6     5  Down-Up\n",
       "120 Naxe     5  Down-Up\n",
       "79  H2bc7    6  Down-Up\n",
       "82  H4c14    7  Down-Up\n",
       "62  Fam162a 12  Down-Up\n",
       "38  Copz1   14  Down-Up"
      ]
     },
     "metadata": {},
     "output_type": "display_data"
    },
    {
     "data": {
      "text/html": [
       "<style>\n",
       ".list-inline {list-style: none; margin:0; padding: 0}\n",
       ".list-inline>li {display: inline-block}\n",
       ".list-inline>li:not(:last-child)::after {content: \"\\00b7\"; padding: 0 .5ex}\n",
       "</style>\n",
       "<ol class=list-inline><li>243</li><li>3</li></ol>\n"
      ],
      "text/latex": [
       "\\begin{enumerate*}\n",
       "\\item 243\n",
       "\\item 3\n",
       "\\end{enumerate*}\n"
      ],
      "text/markdown": [
       "1. 243\n",
       "2. 3\n",
       "\n",
       "\n"
      ],
      "text/plain": [
       "[1] 243   3"
      ]
     },
     "metadata": {},
     "output_type": "display_data"
    }
   ],
   "source": [
    "df <- UTR_Length\n",
    "\n",
    "idx <- match(sym_ribo_dn_up, df$Symbol)\n",
    "f <- !is.na(idx); idx <- idx[f]\n",
    "df_dnup_5utr <- data.frame(sym=df[idx,\"Symbol\"], len=df[idx,\"5' UTR Length\"], type=\"Down-Up\")\n",
    "df_dnup_5utr <- df_dnup_5utr[order(df_dnup_5utr$len), ]\n",
    "\n",
    "head(df_dnup_5utr)\n",
    "dim(df_dnup_5utr)"
   ]
  },
  {
   "cell_type": "code",
   "execution_count": 31,
   "id": "bc446272",
   "metadata": {},
   "outputs": [
    {
     "data": {
      "text/html": [
       "<table class=\"dataframe\">\n",
       "<caption>A data.frame: 47 × 3</caption>\n",
       "<thead>\n",
       "\t<tr><th></th><th scope=col>sym</th><th scope=col>len</th><th scope=col>type</th></tr>\n",
       "\t<tr><th></th><th scope=col>&lt;chr&gt;</th><th scope=col>&lt;int&gt;</th><th scope=col>&lt;chr&gt;</th></tr>\n",
       "</thead>\n",
       "<tbody>\n",
       "\t<tr><th scope=row>168</th><td>Rpl22   </td><td> 31</td><td>Down-Up</td></tr>\n",
       "\t<tr><th scope=row>178</th><td>Rpl37a  </td><td> 31</td><td>Down-Up</td></tr>\n",
       "\t<tr><th scope=row>191</th><td>Rps19   </td><td> 32</td><td>Down-Up</td></tr>\n",
       "\t<tr><th scope=row>176</th><td>Rpl36   </td><td> 35</td><td>Down-Up</td></tr>\n",
       "\t<tr><th scope=row>197</th><td>Rps27   </td><td> 36</td><td>Down-Up</td></tr>\n",
       "\t<tr><th scope=row>177</th><td>Rpl37   </td><td> 37</td><td>Down-Up</td></tr>\n",
       "\t<tr><th scope=row>183</th><td>Rps10   </td><td> 37</td><td>Down-Up</td></tr>\n",
       "\t<tr><th scope=row>192</th><td>Rps19bp1</td><td> 37</td><td>Down-Up</td></tr>\n",
       "\t<tr><th scope=row>163</th><td>Rpl11   </td><td> 40</td><td>Down-Up</td></tr>\n",
       "\t<tr><th scope=row>180</th><td>Rpl8    </td><td> 42</td><td>Down-Up</td></tr>\n",
       "\t<tr><th scope=row>164</th><td>Rpl13a  </td><td> 47</td><td>Down-Up</td></tr>\n",
       "\t<tr><th scope=row>171</th><td>Rpl26   </td><td> 47</td><td>Down-Up</td></tr>\n",
       "\t<tr><th scope=row>190</th><td>Rps17   </td><td> 50</td><td>Down-Up</td></tr>\n",
       "\t<tr><th scope=row>175</th><td>Rpl32   </td><td> 55</td><td>Down-Up</td></tr>\n",
       "\t<tr><th scope=row>167</th><td>Rpl19   </td><td> 62</td><td>Down-Up</td></tr>\n",
       "\t<tr><th scope=row>166</th><td>Rpl18   </td><td> 66</td><td>Down-Up</td></tr>\n",
       "\t<tr><th scope=row>185</th><td>Rps12   </td><td> 70</td><td>Down-Up</td></tr>\n",
       "\t<tr><th scope=row>195</th><td>Rps24   </td><td> 75</td><td>Down-Up</td></tr>\n",
       "\t<tr><th scope=row>162</th><td>Rpe     </td><td> 76</td><td>Down-Up</td></tr>\n",
       "\t<tr><th scope=row>172</th><td>Rpl3    </td><td> 80</td><td>Down-Up</td></tr>\n",
       "\t<tr><th scope=row>170</th><td>Rpl23   </td><td> 81</td><td>Down-Up</td></tr>\n",
       "\t<tr><th scope=row>193</th><td>Rps21   </td><td> 84</td><td>Down-Up</td></tr>\n",
       "\t<tr><th scope=row>205</th><td>Rps6    </td><td> 86</td><td>Down-Up</td></tr>\n",
       "\t<tr><th scope=row>199</th><td>Rps27l  </td><td> 89</td><td>Down-Up</td></tr>\n",
       "\t<tr><th scope=row>174</th><td>Rpl31   </td><td> 93</td><td>Down-Up</td></tr>\n",
       "\t<tr><th scope=row>186</th><td>Rps14   </td><td> 93</td><td>Down-Up</td></tr>\n",
       "\t<tr><th scope=row>203</th><td>Rps4x   </td><td> 94</td><td>Down-Up</td></tr>\n",
       "\t<tr><th scope=row>207</th><td>Rps9    </td><td> 97</td><td>Down-Up</td></tr>\n",
       "\t<tr><th scope=row>169</th><td>Rpl22l1 </td><td> 99</td><td>Down-Up</td></tr>\n",
       "\t<tr><th scope=row>204</th><td>Rps5    </td><td>100</td><td>Down-Up</td></tr>\n",
       "\t<tr><th scope=row>206</th><td>Rps7    </td><td>107</td><td>Down-Up</td></tr>\n",
       "\t<tr><th scope=row>179</th><td>Rpl38   </td><td>110</td><td>Down-Up</td></tr>\n",
       "\t<tr><th scope=row>201</th><td>Rps3    </td><td>117</td><td>Down-Up</td></tr>\n",
       "\t<tr><th scope=row>181</th><td>Rplp0   </td><td>121</td><td>Down-Up</td></tr>\n",
       "\t<tr><th scope=row>184</th><td>Rps11   </td><td>128</td><td>Down-Up</td></tr>\n",
       "\t<tr><th scope=row>200</th><td>Rps29   </td><td>128</td><td>Down-Up</td></tr>\n",
       "\t<tr><th scope=row>198</th><td>Rps27a  </td><td>132</td><td>Down-Up</td></tr>\n",
       "\t<tr><th scope=row>202</th><td>Rps3a1  </td><td>133</td><td>Down-Up</td></tr>\n",
       "\t<tr><th scope=row>189</th><td>Rps16   </td><td>152</td><td>Down-Up</td></tr>\n",
       "\t<tr><th scope=row>208</th><td>Rpsa    </td><td>175</td><td>Down-Up</td></tr>\n",
       "\t<tr><th scope=row>173</th><td>Rpl30   </td><td>177</td><td>Down-Up</td></tr>\n",
       "\t<tr><th scope=row>187</th><td>Rps15   </td><td>208</td><td>Down-Up</td></tr>\n",
       "\t<tr><th scope=row>188</th><td>Rps15a  </td><td>211</td><td>Down-Up</td></tr>\n",
       "\t<tr><th scope=row>165</th><td>Rpl15   </td><td>217</td><td>Down-Up</td></tr>\n",
       "\t<tr><th scope=row>194</th><td>Rps23   </td><td>238</td><td>Down-Up</td></tr>\n",
       "\t<tr><th scope=row>196</th><td>Rps26   </td><td>269</td><td>Down-Up</td></tr>\n",
       "\t<tr><th scope=row>182</th><td>Rplp2   </td><td>339</td><td>Down-Up</td></tr>\n",
       "</tbody>\n",
       "</table>\n"
      ],
      "text/latex": [
       "A data.frame: 47 × 3\n",
       "\\begin{tabular}{r|lll}\n",
       "  & sym & len & type\\\\\n",
       "  & <chr> & <int> & <chr>\\\\\n",
       "\\hline\n",
       "\t168 & Rpl22    &  31 & Down-Up\\\\\n",
       "\t178 & Rpl37a   &  31 & Down-Up\\\\\n",
       "\t191 & Rps19    &  32 & Down-Up\\\\\n",
       "\t176 & Rpl36    &  35 & Down-Up\\\\\n",
       "\t197 & Rps27    &  36 & Down-Up\\\\\n",
       "\t177 & Rpl37    &  37 & Down-Up\\\\\n",
       "\t183 & Rps10    &  37 & Down-Up\\\\\n",
       "\t192 & Rps19bp1 &  37 & Down-Up\\\\\n",
       "\t163 & Rpl11    &  40 & Down-Up\\\\\n",
       "\t180 & Rpl8     &  42 & Down-Up\\\\\n",
       "\t164 & Rpl13a   &  47 & Down-Up\\\\\n",
       "\t171 & Rpl26    &  47 & Down-Up\\\\\n",
       "\t190 & Rps17    &  50 & Down-Up\\\\\n",
       "\t175 & Rpl32    &  55 & Down-Up\\\\\n",
       "\t167 & Rpl19    &  62 & Down-Up\\\\\n",
       "\t166 & Rpl18    &  66 & Down-Up\\\\\n",
       "\t185 & Rps12    &  70 & Down-Up\\\\\n",
       "\t195 & Rps24    &  75 & Down-Up\\\\\n",
       "\t162 & Rpe      &  76 & Down-Up\\\\\n",
       "\t172 & Rpl3     &  80 & Down-Up\\\\\n",
       "\t170 & Rpl23    &  81 & Down-Up\\\\\n",
       "\t193 & Rps21    &  84 & Down-Up\\\\\n",
       "\t205 & Rps6     &  86 & Down-Up\\\\\n",
       "\t199 & Rps27l   &  89 & Down-Up\\\\\n",
       "\t174 & Rpl31    &  93 & Down-Up\\\\\n",
       "\t186 & Rps14    &  93 & Down-Up\\\\\n",
       "\t203 & Rps4x    &  94 & Down-Up\\\\\n",
       "\t207 & Rps9     &  97 & Down-Up\\\\\n",
       "\t169 & Rpl22l1  &  99 & Down-Up\\\\\n",
       "\t204 & Rps5     & 100 & Down-Up\\\\\n",
       "\t206 & Rps7     & 107 & Down-Up\\\\\n",
       "\t179 & Rpl38    & 110 & Down-Up\\\\\n",
       "\t201 & Rps3     & 117 & Down-Up\\\\\n",
       "\t181 & Rplp0    & 121 & Down-Up\\\\\n",
       "\t184 & Rps11    & 128 & Down-Up\\\\\n",
       "\t200 & Rps29    & 128 & Down-Up\\\\\n",
       "\t198 & Rps27a   & 132 & Down-Up\\\\\n",
       "\t202 & Rps3a1   & 133 & Down-Up\\\\\n",
       "\t189 & Rps16    & 152 & Down-Up\\\\\n",
       "\t208 & Rpsa     & 175 & Down-Up\\\\\n",
       "\t173 & Rpl30    & 177 & Down-Up\\\\\n",
       "\t187 & Rps15    & 208 & Down-Up\\\\\n",
       "\t188 & Rps15a   & 211 & Down-Up\\\\\n",
       "\t165 & Rpl15    & 217 & Down-Up\\\\\n",
       "\t194 & Rps23    & 238 & Down-Up\\\\\n",
       "\t196 & Rps26    & 269 & Down-Up\\\\\n",
       "\t182 & Rplp2    & 339 & Down-Up\\\\\n",
       "\\end{tabular}\n"
      ],
      "text/markdown": [
       "\n",
       "A data.frame: 47 × 3\n",
       "\n",
       "| <!--/--> | sym &lt;chr&gt; | len &lt;int&gt; | type &lt;chr&gt; |\n",
       "|---|---|---|---|\n",
       "| 168 | Rpl22    |  31 | Down-Up |\n",
       "| 178 | Rpl37a   |  31 | Down-Up |\n",
       "| 191 | Rps19    |  32 | Down-Up |\n",
       "| 176 | Rpl36    |  35 | Down-Up |\n",
       "| 197 | Rps27    |  36 | Down-Up |\n",
       "| 177 | Rpl37    |  37 | Down-Up |\n",
       "| 183 | Rps10    |  37 | Down-Up |\n",
       "| 192 | Rps19bp1 |  37 | Down-Up |\n",
       "| 163 | Rpl11    |  40 | Down-Up |\n",
       "| 180 | Rpl8     |  42 | Down-Up |\n",
       "| 164 | Rpl13a   |  47 | Down-Up |\n",
       "| 171 | Rpl26    |  47 | Down-Up |\n",
       "| 190 | Rps17    |  50 | Down-Up |\n",
       "| 175 | Rpl32    |  55 | Down-Up |\n",
       "| 167 | Rpl19    |  62 | Down-Up |\n",
       "| 166 | Rpl18    |  66 | Down-Up |\n",
       "| 185 | Rps12    |  70 | Down-Up |\n",
       "| 195 | Rps24    |  75 | Down-Up |\n",
       "| 162 | Rpe      |  76 | Down-Up |\n",
       "| 172 | Rpl3     |  80 | Down-Up |\n",
       "| 170 | Rpl23    |  81 | Down-Up |\n",
       "| 193 | Rps21    |  84 | Down-Up |\n",
       "| 205 | Rps6     |  86 | Down-Up |\n",
       "| 199 | Rps27l   |  89 | Down-Up |\n",
       "| 174 | Rpl31    |  93 | Down-Up |\n",
       "| 186 | Rps14    |  93 | Down-Up |\n",
       "| 203 | Rps4x    |  94 | Down-Up |\n",
       "| 207 | Rps9     |  97 | Down-Up |\n",
       "| 169 | Rpl22l1  |  99 | Down-Up |\n",
       "| 204 | Rps5     | 100 | Down-Up |\n",
       "| 206 | Rps7     | 107 | Down-Up |\n",
       "| 179 | Rpl38    | 110 | Down-Up |\n",
       "| 201 | Rps3     | 117 | Down-Up |\n",
       "| 181 | Rplp0    | 121 | Down-Up |\n",
       "| 184 | Rps11    | 128 | Down-Up |\n",
       "| 200 | Rps29    | 128 | Down-Up |\n",
       "| 198 | Rps27a   | 132 | Down-Up |\n",
       "| 202 | Rps3a1   | 133 | Down-Up |\n",
       "| 189 | Rps16    | 152 | Down-Up |\n",
       "| 208 | Rpsa     | 175 | Down-Up |\n",
       "| 173 | Rpl30    | 177 | Down-Up |\n",
       "| 187 | Rps15    | 208 | Down-Up |\n",
       "| 188 | Rps15a   | 211 | Down-Up |\n",
       "| 165 | Rpl15    | 217 | Down-Up |\n",
       "| 194 | Rps23    | 238 | Down-Up |\n",
       "| 196 | Rps26    | 269 | Down-Up |\n",
       "| 182 | Rplp2    | 339 | Down-Up |\n",
       "\n"
      ],
      "text/plain": [
       "    sym      len type   \n",
       "168 Rpl22     31 Down-Up\n",
       "178 Rpl37a    31 Down-Up\n",
       "191 Rps19     32 Down-Up\n",
       "176 Rpl36     35 Down-Up\n",
       "197 Rps27     36 Down-Up\n",
       "177 Rpl37     37 Down-Up\n",
       "183 Rps10     37 Down-Up\n",
       "192 Rps19bp1  37 Down-Up\n",
       "163 Rpl11     40 Down-Up\n",
       "180 Rpl8      42 Down-Up\n",
       "164 Rpl13a    47 Down-Up\n",
       "171 Rpl26     47 Down-Up\n",
       "190 Rps17     50 Down-Up\n",
       "175 Rpl32     55 Down-Up\n",
       "167 Rpl19     62 Down-Up\n",
       "166 Rpl18     66 Down-Up\n",
       "185 Rps12     70 Down-Up\n",
       "195 Rps24     75 Down-Up\n",
       "162 Rpe       76 Down-Up\n",
       "172 Rpl3      80 Down-Up\n",
       "170 Rpl23     81 Down-Up\n",
       "193 Rps21     84 Down-Up\n",
       "205 Rps6      86 Down-Up\n",
       "199 Rps27l    89 Down-Up\n",
       "174 Rpl31     93 Down-Up\n",
       "186 Rps14     93 Down-Up\n",
       "203 Rps4x     94 Down-Up\n",
       "207 Rps9      97 Down-Up\n",
       "169 Rpl22l1   99 Down-Up\n",
       "204 Rps5     100 Down-Up\n",
       "206 Rps7     107 Down-Up\n",
       "179 Rpl38    110 Down-Up\n",
       "201 Rps3     117 Down-Up\n",
       "181 Rplp0    121 Down-Up\n",
       "184 Rps11    128 Down-Up\n",
       "200 Rps29    128 Down-Up\n",
       "198 Rps27a   132 Down-Up\n",
       "202 Rps3a1   133 Down-Up\n",
       "189 Rps16    152 Down-Up\n",
       "208 Rpsa     175 Down-Up\n",
       "173 Rpl30    177 Down-Up\n",
       "187 Rps15    208 Down-Up\n",
       "188 Rps15a   211 Down-Up\n",
       "165 Rpl15    217 Down-Up\n",
       "194 Rps23    238 Down-Up\n",
       "196 Rps26    269 Down-Up\n",
       "182 Rplp2    339 Down-Up"
      ]
     },
     "metadata": {},
     "output_type": "display_data"
    }
   ],
   "source": [
    "f <- grepl(\"Rp\", df_dnup_5utr$sym)\n",
    "df_dnup_5utr[f,]"
   ]
  },
  {
   "cell_type": "code",
   "execution_count": 32,
   "id": "9443f914",
   "metadata": {},
   "outputs": [
    {
     "data": {
      "text/html": [],
      "text/latex": [],
      "text/markdown": [],
      "text/plain": [
       "character(0)"
      ]
     },
     "metadata": {},
     "output_type": "display_data"
    },
    {
     "data": {
      "text/html": [
       "0"
      ],
      "text/latex": [
       "0"
      ],
      "text/markdown": [
       "0"
      ],
      "text/plain": [
       "[1] 0"
      ]
     },
     "metadata": {},
     "output_type": "display_data"
    }
   ],
   "source": [
    "idx <- which(df_dnup_5utr$len == 0)\n",
    "sym_no_5utr <- df_dnup_5utr[idx, \"sym\"]\n",
    "sym_no_5utr\n",
    "length(sym_no_5utr)"
   ]
  },
  {
   "cell_type": "markdown",
   "id": "8197b823",
   "metadata": {},
   "source": [
    "## Violin plot"
   ]
  },
  {
   "cell_type": "markdown",
   "id": "412e2be5",
   "metadata": {},
   "source": [
    "### 5' UTR"
   ]
  },
  {
   "cell_type": "code",
   "execution_count": 33,
   "id": "6d5dfc32",
   "metadata": {},
   "outputs": [
    {
     "data": {
      "text/html": [
       "<table class=\"dataframe\">\n",
       "<caption>A data.frame: 6 × 3</caption>\n",
       "<thead>\n",
       "\t<tr><th></th><th scope=col>sym</th><th scope=col>len</th><th scope=col>type</th></tr>\n",
       "\t<tr><th></th><th scope=col>&lt;chr&gt;</th><th scope=col>&lt;int&gt;</th><th scope=col>&lt;chr&gt;</th></tr>\n",
       "</thead>\n",
       "<tbody>\n",
       "\t<tr><th scope=row>3</th><td>Acot7  </td><td> 4</td><td>Up-Down</td></tr>\n",
       "\t<tr><th scope=row>47</th><td>Chd3   </td><td>15</td><td>Up-Down</td></tr>\n",
       "\t<tr><th scope=row>280</th><td>Zswim6 </td><td>15</td><td>Up-Down</td></tr>\n",
       "\t<tr><th scope=row>140</th><td>Lrrfip1</td><td>19</td><td>Up-Down</td></tr>\n",
       "\t<tr><th scope=row>101</th><td>Glg1   </td><td>20</td><td>Up-Down</td></tr>\n",
       "\t<tr><th scope=row>83</th><td>Fanca  </td><td>23</td><td>Up-Down</td></tr>\n",
       "</tbody>\n",
       "</table>\n"
      ],
      "text/latex": [
       "A data.frame: 6 × 3\n",
       "\\begin{tabular}{r|lll}\n",
       "  & sym & len & type\\\\\n",
       "  & <chr> & <int> & <chr>\\\\\n",
       "\\hline\n",
       "\t3 & Acot7   &  4 & Up-Down\\\\\n",
       "\t47 & Chd3    & 15 & Up-Down\\\\\n",
       "\t280 & Zswim6  & 15 & Up-Down\\\\\n",
       "\t140 & Lrrfip1 & 19 & Up-Down\\\\\n",
       "\t101 & Glg1    & 20 & Up-Down\\\\\n",
       "\t83 & Fanca   & 23 & Up-Down\\\\\n",
       "\\end{tabular}\n"
      ],
      "text/markdown": [
       "\n",
       "A data.frame: 6 × 3\n",
       "\n",
       "| <!--/--> | sym &lt;chr&gt; | len &lt;int&gt; | type &lt;chr&gt; |\n",
       "|---|---|---|---|\n",
       "| 3 | Acot7   |  4 | Up-Down |\n",
       "| 47 | Chd3    | 15 | Up-Down |\n",
       "| 280 | Zswim6  | 15 | Up-Down |\n",
       "| 140 | Lrrfip1 | 19 | Up-Down |\n",
       "| 101 | Glg1    | 20 | Up-Down |\n",
       "| 83 | Fanca   | 23 | Up-Down |\n",
       "\n"
      ],
      "text/plain": [
       "    sym     len type   \n",
       "3   Acot7    4  Up-Down\n",
       "47  Chd3    15  Up-Down\n",
       "280 Zswim6  15  Up-Down\n",
       "140 Lrrfip1 19  Up-Down\n",
       "101 Glg1    20  Up-Down\n",
       "83  Fanca   23  Up-Down"
      ]
     },
     "metadata": {},
     "output_type": "display_data"
    },
    {
     "data": {
      "text/html": [
       "<style>\n",
       ".dl-inline {width: auto; margin:0; padding: 0}\n",
       ".dl-inline>dt, .dl-inline>dd {float: none; width: auto; display: inline-block}\n",
       ".dl-inline>dt::after {content: \":\\0020\"; padding-right: .5ex}\n",
       ".dl-inline>dt:not(:first-of-type) {padding-left: .5ex}\n",
       "</style><dl class=dl-inline><dt>25%</dt><dd>119</dd><dt>50%</dt><dd>202.5</dd><dt>75%</dt><dd>313.25</dd></dl>\n"
      ],
      "text/latex": [
       "\\begin{description*}\n",
       "\\item[25\\textbackslash{}\\%] 119\n",
       "\\item[50\\textbackslash{}\\%] 202.5\n",
       "\\item[75\\textbackslash{}\\%] 313.25\n",
       "\\end{description*}\n"
      ],
      "text/markdown": [
       "25%\n",
       ":   11950%\n",
       ":   202.575%\n",
       ":   313.25\n",
       "\n"
      ],
      "text/plain": [
       "   25%    50%    75% \n",
       "119.00 202.50 313.25 "
      ]
     },
     "metadata": {},
     "output_type": "display_data"
    }
   ],
   "source": [
    "head(df_updn_5utr)\n",
    "quantile_updn_5utr <- quantile(df_updn_5utr$len, probs = c(0.25,0.5,0.75))\n",
    "quantile_updn_5utr"
   ]
  },
  {
   "cell_type": "code",
   "execution_count": 34,
   "id": "16b18e97",
   "metadata": {},
   "outputs": [
    {
     "data": {
      "text/html": [
       "<table class=\"dataframe\">\n",
       "<caption>A data.frame: 6 × 3</caption>\n",
       "<thead>\n",
       "\t<tr><th></th><th scope=col>sym</th><th scope=col>len</th><th scope=col>type</th></tr>\n",
       "\t<tr><th></th><th scope=col>&lt;chr&gt;</th><th scope=col>&lt;int&gt;</th><th scope=col>&lt;chr&gt;</th></tr>\n",
       "</thead>\n",
       "<tbody>\n",
       "\t<tr><th scope=row>84</th><td>H4c6   </td><td> 5</td><td>Down-Up</td></tr>\n",
       "\t<tr><th scope=row>120</th><td>Naxe   </td><td> 5</td><td>Down-Up</td></tr>\n",
       "\t<tr><th scope=row>79</th><td>H2bc7  </td><td> 6</td><td>Down-Up</td></tr>\n",
       "\t<tr><th scope=row>82</th><td>H4c14  </td><td> 7</td><td>Down-Up</td></tr>\n",
       "\t<tr><th scope=row>62</th><td>Fam162a</td><td>12</td><td>Down-Up</td></tr>\n",
       "\t<tr><th scope=row>38</th><td>Copz1  </td><td>14</td><td>Down-Up</td></tr>\n",
       "</tbody>\n",
       "</table>\n"
      ],
      "text/latex": [
       "A data.frame: 6 × 3\n",
       "\\begin{tabular}{r|lll}\n",
       "  & sym & len & type\\\\\n",
       "  & <chr> & <int> & <chr>\\\\\n",
       "\\hline\n",
       "\t84 & H4c6    &  5 & Down-Up\\\\\n",
       "\t120 & Naxe    &  5 & Down-Up\\\\\n",
       "\t79 & H2bc7   &  6 & Down-Up\\\\\n",
       "\t82 & H4c14   &  7 & Down-Up\\\\\n",
       "\t62 & Fam162a & 12 & Down-Up\\\\\n",
       "\t38 & Copz1   & 14 & Down-Up\\\\\n",
       "\\end{tabular}\n"
      ],
      "text/markdown": [
       "\n",
       "A data.frame: 6 × 3\n",
       "\n",
       "| <!--/--> | sym &lt;chr&gt; | len &lt;int&gt; | type &lt;chr&gt; |\n",
       "|---|---|---|---|\n",
       "| 84 | H4c6    |  5 | Down-Up |\n",
       "| 120 | Naxe    |  5 | Down-Up |\n",
       "| 79 | H2bc7   |  6 | Down-Up |\n",
       "| 82 | H4c14   |  7 | Down-Up |\n",
       "| 62 | Fam162a | 12 | Down-Up |\n",
       "| 38 | Copz1   | 14 | Down-Up |\n",
       "\n"
      ],
      "text/plain": [
       "    sym     len type   \n",
       "84  H4c6     5  Down-Up\n",
       "120 Naxe     5  Down-Up\n",
       "79  H2bc7    6  Down-Up\n",
       "82  H4c14    7  Down-Up\n",
       "62  Fam162a 12  Down-Up\n",
       "38  Copz1   14  Down-Up"
      ]
     },
     "metadata": {},
     "output_type": "display_data"
    },
    {
     "data": {
      "text/html": [
       "<style>\n",
       ".dl-inline {width: auto; margin:0; padding: 0}\n",
       ".dl-inline>dt, .dl-inline>dd {float: none; width: auto; display: inline-block}\n",
       ".dl-inline>dt::after {content: \":\\0020\"; padding-right: .5ex}\n",
       ".dl-inline>dt:not(:first-of-type) {padding-left: .5ex}\n",
       "</style><dl class=dl-inline><dt>25%</dt><dd>58</dd><dt>50%</dt><dd>104</dd><dt>75%</dt><dd>175.5</dd></dl>\n"
      ],
      "text/latex": [
       "\\begin{description*}\n",
       "\\item[25\\textbackslash{}\\%] 58\n",
       "\\item[50\\textbackslash{}\\%] 104\n",
       "\\item[75\\textbackslash{}\\%] 175.5\n",
       "\\end{description*}\n"
      ],
      "text/markdown": [
       "25%\n",
       ":   5850%\n",
       ":   10475%\n",
       ":   175.5\n",
       "\n"
      ],
      "text/plain": [
       "  25%   50%   75% \n",
       " 58.0 104.0 175.5 "
      ]
     },
     "metadata": {},
     "output_type": "display_data"
    }
   ],
   "source": [
    "head(df_dnup_5utr)\n",
    "quantile_dnup_5utr <- quantile(df_dnup_5utr$len, probs = c(0.25,0.5,0.75))\n",
    "quantile_dnup_5utr"
   ]
  },
  {
   "cell_type": "code",
   "execution_count": 35,
   "id": "32c628e5",
   "metadata": {},
   "outputs": [
    {
     "data": {
      "image/png": "[encoded data removed]",
      "text/plain": [
       "plot without title"
      ]
     },
     "metadata": {
      "image/png": {
       "height": 300,
       "width": 300
      }
     },
     "output_type": "display_data"
    }
   ],
   "source": [
    "df_5utr <- rbind(df_dnup_5utr, df_updn_5utr)\n",
    "\n",
    "yscale_100 <- function(x) {\n",
    "  sprintf(\"%.0f\", x/100)\n",
    "}\n",
    "\n",
    "gg <- ggplot(df_5utr, aes(x=type, y=len, fill=type)) +\n",
    "  geom_violin(trim=FALSE)+\n",
    "  geom_boxplot(width=0.1, fill=\"white\") + theme_bw() +\n",
    "  theme(legend.position = \"none\") + \n",
    "  xlab(NULL) + \n",
    "  #ylab(expression(\"5' UTR\"~log[2](length)~(nt))) + \n",
    "  ylab(expression(\"5' UTR length (100 nt)\")) + \n",
    "  ggtitle('') +\n",
    "  theme(plot.title=element_text(size=10),\n",
    "      axis.text.x=element_text(size=22),\n",
    "      axis.text.y=element_text(size=15, lineheight=0.9),\n",
    "      axis.title.x=element_text(size=9),\n",
    "      axis.title.y=element_text(size=22)) +\n",
    "  scale_y_continuous(label=yscale_100, limit=c(-200,2000)) +\n",
    "  geom_hline(yintercept=c(quantile_dnup_5utr[[\"50%\"]]),\n",
    "             linetype=\"dashed\", size=1, color = \"black\") +\n",
    "  scale_fill_manual(values = \n",
    "      alpha(c('no'='#aaaaaa','Up-Down'='#7aaa3d', 'Down-Up'='#ed7470'), 0.4))\n",
    "\n",
    "\n",
    "print_figure(gg, width=5, height=5,\n",
    "    file=sprintf(\"violin_plot.%s.reversible.5utr_length\", condstr))"
   ]
  },
  {
   "cell_type": "code",
   "execution_count": null,
   "id": "86a3f9e7",
   "metadata": {},
   "outputs": [],
   "source": []
  }
 ],
 "metadata": {
  "kernelspec": {
   "display_name": "R",
   "language": "R",
   "name": "ir"
  },
  "language_info": {
   "codemirror_mode": "r",
   "file_extension": ".r",
   "mimetype": "text/x-r-source",
   "name": "R",
   "pygments_lexer": "r",
   "version": "4.1.0"
  }
 },
 "nbformat": 4,
 "nbformat_minor": 5
}
