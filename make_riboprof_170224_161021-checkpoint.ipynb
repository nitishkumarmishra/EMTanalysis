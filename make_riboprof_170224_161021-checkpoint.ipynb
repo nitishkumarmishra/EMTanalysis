{
 "cells": [
  {
   "cell_type": "markdown",
   "metadata": {},
   "source": [
    "# load functions"
   ]
  },
  {
   "cell_type": "code",
   "execution_count": 4,
   "metadata": {
    "scrolled": false
   },
   "outputs": [],
   "source": [
    "suppressMessages(suppressWarnings(source(\"./jupyter_common.R\")))\n"
   ]
  },
  {
   "cell_type": "markdown",
   "metadata": {},
   "source": [
    "# common parameters"
   ]
  },
  {
   "cell_type": "code",
   "execution_count": 5,
   "metadata": {},
   "outputs": [
    {
     "data": {
      "text/html": [
       "'C:/Users/nmishra/Desktop/Total RNAseq EMT/jupyter codes'"
      ],
      "text/latex": [
       "'C:/Users/nmishra/Desktop/Total RNAseq EMT/jupyter codes'"
      ],
      "text/markdown": [
       "'C:/Users/nmishra/Desktop/Total RNAseq EMT/jupyter codes'"
      ],
      "text/plain": [
       "[1] \"C:/Users/nmishra/Desktop/Total RNAseq EMT/jupyter codes\""
      ]
     },
     "metadata": {},
     "output_type": "display_data"
    }
   ],
   "source": [
    "type <- \"limma-voom.mrna\"\n",
    "level <- \"htseq_gene\"\n",
    "\n",
    "rundate_appendix <- \".rdna_rn18s\"\n",
    "pattern_remove_gene <- NULL\n",
    "\n",
    "th_adj_pvalue <- 0.05\n",
    "th_log2fc <- log2(1.2)\n",
    "\n",
    "list_genes <- list()\n",
    "strdir <- type\n",
    "\n",
    "dir_limma_output <- \"out/limma-voom.mrna\"\n",
    "dir_rnaseq <- sprintf('./%s/170224.rdna_rn18s/NMuMG', dir_limma_output) \n",
    "dir_riboseq <- sprintf(\"./%s/161021.rdna_rn18s/NMuMG\", dir_limma_output)\n",
    "\n",
    "f_write_table <- FALSE\n",
    "getwd()"
   ]
  },
  {
   "cell_type": "markdown",
   "metadata": {},
   "source": [
    "# read gtf"
   ]
  },
  {
   "cell_type": "code",
   "execution_count": 6,
   "metadata": {},
   "outputs": [
    {
     "name": "stderr",
     "output_type": "stream",
     "text": [
      "Warning message:\n",
      "\"package 'rtracklayer' was built under R version 4.1.1\"\n",
      "Loading required package: GenomicRanges\n",
      "\n",
      "Warning message:\n",
      "\"package 'GenomicRanges' was built under R version 4.1.2\"\n"
     ]
    },
    {
     "name": "stdout",
     "output_type": "stream",
     "text": [
      "[1] \"./data/mouse/Mus_musculus.GRCm38.97.rdna_rn18s.gtf.gz\"\n"
     ]
    },
    {
     "data": {
      "text/plain": [
       "GRanges object with 6 ranges and 22 metadata columns:\n",
       "      seqnames          ranges strand |   source       type     score     phase\n",
       "         <Rle>       <IRanges>  <Rle> | <factor>   <factor> <numeric> <integer>\n",
       "  [1]        1 3073253-3074322      + |  havana  gene              NA      <NA>\n",
       "  [2]        1 3073253-3074322      + |  havana  transcript        NA      <NA>\n",
       "  [3]        1 3073253-3074322      + |  havana  exon              NA      <NA>\n",
       "  [4]        1 3102016-3102125      + |  ensembl gene              NA      <NA>\n",
       "  [5]        1 3102016-3102125      + |  ensembl transcript        NA      <NA>\n",
       "  [6]        1 3102016-3102125      + |  ensembl exon              NA      <NA>\n",
       "                 gene_id gene_version     gene_name gene_source gene_biotype\n",
       "             <character>  <character>   <character> <character>  <character>\n",
       "  [1] ENSMUSG00000102693            1 4933401J01Rik      havana          TEC\n",
       "  [2] ENSMUSG00000102693            1 4933401J01Rik      havana          TEC\n",
       "  [3] ENSMUSG00000102693            1 4933401J01Rik      havana          TEC\n",
       "  [4] ENSMUSG00000064842            1       Gm26206     ensembl        snRNA\n",
       "  [5] ENSMUSG00000064842            1       Gm26206     ensembl        snRNA\n",
       "  [6] ENSMUSG00000064842            1       Gm26206     ensembl        snRNA\n",
       "           transcript_id transcript_version   transcript_name transcript_source\n",
       "             <character>        <character>       <character>       <character>\n",
       "  [1]               <NA>               <NA>              <NA>              <NA>\n",
       "  [2] ENSMUST00000193812                  1 4933401J01Rik-201            havana\n",
       "  [3] ENSMUST00000193812                  1 4933401J01Rik-201            havana\n",
       "  [4]               <NA>               <NA>              <NA>              <NA>\n",
       "  [5] ENSMUST00000082908                  1       Gm26206-201           ensembl\n",
       "  [6] ENSMUST00000082908                  1       Gm26206-201           ensembl\n",
       "      transcript_biotype         tag transcript_support_level exon_number\n",
       "             <character> <character>              <character> <character>\n",
       "  [1]               <NA>        <NA>                     <NA>        <NA>\n",
       "  [2]                TEC       basic                       NA        <NA>\n",
       "  [3]                TEC       basic                       NA           1\n",
       "  [4]               <NA>        <NA>                     <NA>        <NA>\n",
       "  [5]              snRNA       basic                       NA        <NA>\n",
       "  [6]              snRNA       basic                       NA           1\n",
       "                 exon_id exon_version     ccds_id  protein_id protein_version\n",
       "             <character>  <character> <character> <character>     <character>\n",
       "  [1]               <NA>         <NA>        <NA>        <NA>            <NA>\n",
       "  [2]               <NA>         <NA>        <NA>        <NA>            <NA>\n",
       "  [3] ENSMUSE00001343744            1        <NA>        <NA>            <NA>\n",
       "  [4]               <NA>         <NA>        <NA>        <NA>            <NA>\n",
       "  [5]               <NA>         <NA>        <NA>        <NA>            <NA>\n",
       "  [6] ENSMUSE00000522066            1        <NA>        <NA>            <NA>\n",
       "  -------\n",
       "  seqinfo: 46 sequences from an unspecified genome; no seqlengths"
      ]
     },
     "metadata": {},
     "output_type": "display_data"
    },
    {
     "data": {
      "text/html": [
       "1858606"
      ],
      "text/latex": [
       "1858606"
      ],
      "text/markdown": [
       "1858606"
      ],
      "text/plain": [
       "[1] 1858606"
      ]
     },
     "metadata": {},
     "output_type": "display_data"
    }
   ],
   "source": [
    "library('rtracklayer')\n",
    "my_file <- sprintf(\"./data/mouse/Mus_musculus.GRCm38.97%s.gtf.gz\", rundate_appendix)\n",
    "show(my_file)\n",
    "granges_gtf <- import(my_file)\n",
    "\n",
    "head(granges_gtf)\n",
    "length(granges_gtf)"
   ]
  },
  {
   "cell_type": "code",
   "execution_count": 7,
   "metadata": {},
   "outputs": [
    {
     "data": {
      "text/html": [
       "<table class=\"dataframe\">\n",
       "<caption>A matrix: 27 × 3 of type chr</caption>\n",
       "<thead>\n",
       "\t<tr><th></th><th scope=col>1</th><th scope=col>4</th><th scope=col>7</th></tr>\n",
       "</thead>\n",
       "<tbody>\n",
       "\t<tr><th scope=row>seqnames</th><td>1                 </td><td>1                 </td><td>1                 </td></tr>\n",
       "\t<tr><th scope=row>start</th><td>3073253           </td><td>3102016           </td><td>3205901           </td></tr>\n",
       "\t<tr><th scope=row>end</th><td>3074322           </td><td>3102125           </td><td>3671498           </td></tr>\n",
       "\t<tr><th scope=row>width</th><td>  1070            </td><td>   110            </td><td>465598            </td></tr>\n",
       "\t<tr><th scope=row>strand</th><td>+                 </td><td>+                 </td><td>-                 </td></tr>\n",
       "\t<tr><th scope=row>source</th><td>havana            </td><td>ensembl           </td><td>ensembl_havana    </td></tr>\n",
       "\t<tr><th scope=row>type</th><td>gene              </td><td>gene              </td><td>gene              </td></tr>\n",
       "\t<tr><th scope=row>score</th><td>NA                </td><td>NA                </td><td>NA                </td></tr>\n",
       "\t<tr><th scope=row>phase</th><td>NA                </td><td>NA                </td><td>NA                </td></tr>\n",
       "\t<tr><th scope=row>gene_id</th><td>ENSMUSG00000102693</td><td>ENSMUSG00000064842</td><td>ENSMUSG00000051951</td></tr>\n",
       "\t<tr><th scope=row>gene_version</th><td>1                 </td><td>1                 </td><td>5                 </td></tr>\n",
       "\t<tr><th scope=row>gene_name</th><td>4933401J01Rik     </td><td>Gm26206           </td><td>Xkr4              </td></tr>\n",
       "\t<tr><th scope=row>gene_source</th><td>havana            </td><td>ensembl           </td><td>ensembl_havana    </td></tr>\n",
       "\t<tr><th scope=row>gene_biotype</th><td>TEC               </td><td>snRNA             </td><td>protein_coding    </td></tr>\n",
       "\t<tr><th scope=row>transcript_id</th><td>NA                </td><td>NA                </td><td>NA                </td></tr>\n",
       "\t<tr><th scope=row>transcript_version</th><td>NA                </td><td>NA                </td><td>NA                </td></tr>\n",
       "\t<tr><th scope=row>transcript_name</th><td>NA                </td><td>NA                </td><td>NA                </td></tr>\n",
       "\t<tr><th scope=row>transcript_source</th><td>NA                </td><td>NA                </td><td>NA                </td></tr>\n",
       "\t<tr><th scope=row>transcript_biotype</th><td>NA                </td><td>NA                </td><td>NA                </td></tr>\n",
       "\t<tr><th scope=row>tag</th><td>NA                </td><td>NA                </td><td>NA                </td></tr>\n",
       "\t<tr><th scope=row>transcript_support_level</th><td>NA                </td><td>NA                </td><td>NA                </td></tr>\n",
       "\t<tr><th scope=row>exon_number</th><td>NA                </td><td>NA                </td><td>NA                </td></tr>\n",
       "\t<tr><th scope=row>exon_id</th><td>NA                </td><td>NA                </td><td>NA                </td></tr>\n",
       "\t<tr><th scope=row>exon_version</th><td>NA                </td><td>NA                </td><td>NA                </td></tr>\n",
       "\t<tr><th scope=row>ccds_id</th><td>NA                </td><td>NA                </td><td>NA                </td></tr>\n",
       "\t<tr><th scope=row>protein_id</th><td>NA                </td><td>NA                </td><td>NA                </td></tr>\n",
       "\t<tr><th scope=row>protein_version</th><td>NA                </td><td>NA                </td><td>NA                </td></tr>\n",
       "</tbody>\n",
       "</table>\n"
      ],
      "text/latex": [
       "A matrix: 27 × 3 of type chr\n",
       "\\begin{tabular}{r|lll}\n",
       "  & 1 & 4 & 7\\\\\n",
       "\\hline\n",
       "\tseqnames & 1                  & 1                  & 1                 \\\\\n",
       "\tstart & 3073253            & 3102016            & 3205901           \\\\\n",
       "\tend & 3074322            & 3102125            & 3671498           \\\\\n",
       "\twidth &   1070             &    110             & 465598            \\\\\n",
       "\tstrand & +                  & +                  & -                 \\\\\n",
       "\tsource & havana             & ensembl            & ensembl\\_havana    \\\\\n",
       "\ttype & gene               & gene               & gene              \\\\\n",
       "\tscore & NA                 & NA                 & NA                \\\\\n",
       "\tphase & NA                 & NA                 & NA                \\\\\n",
       "\tgene\\_id & ENSMUSG00000102693 & ENSMUSG00000064842 & ENSMUSG00000051951\\\\\n",
       "\tgene\\_version & 1                  & 1                  & 5                 \\\\\n",
       "\tgene\\_name & 4933401J01Rik      & Gm26206            & Xkr4              \\\\\n",
       "\tgene\\_source & havana             & ensembl            & ensembl\\_havana    \\\\\n",
       "\tgene\\_biotype & TEC                & snRNA              & protein\\_coding    \\\\\n",
       "\ttranscript\\_id & NA                 & NA                 & NA                \\\\\n",
       "\ttranscript\\_version & NA                 & NA                 & NA                \\\\\n",
       "\ttranscript\\_name & NA                 & NA                 & NA                \\\\\n",
       "\ttranscript\\_source & NA                 & NA                 & NA                \\\\\n",
       "\ttranscript\\_biotype & NA                 & NA                 & NA                \\\\\n",
       "\ttag & NA                 & NA                 & NA                \\\\\n",
       "\ttranscript\\_support\\_level & NA                 & NA                 & NA                \\\\\n",
       "\texon\\_number & NA                 & NA                 & NA                \\\\\n",
       "\texon\\_id & NA                 & NA                 & NA                \\\\\n",
       "\texon\\_version & NA                 & NA                 & NA                \\\\\n",
       "\tccds\\_id & NA                 & NA                 & NA                \\\\\n",
       "\tprotein\\_id & NA                 & NA                 & NA                \\\\\n",
       "\tprotein\\_version & NA                 & NA                 & NA                \\\\\n",
       "\\end{tabular}\n"
      ],
      "text/markdown": [
       "\n",
       "A matrix: 27 × 3 of type chr\n",
       "\n",
       "| <!--/--> | 1 | 4 | 7 |\n",
       "|---|---|---|---|\n",
       "| seqnames | 1                  | 1                  | 1                  |\n",
       "| start | 3073253            | 3102016            | 3205901            |\n",
       "| end | 3074322            | 3102125            | 3671498            |\n",
       "| width |   1070             |    110             | 465598             |\n",
       "| strand | +                  | +                  | -                  |\n",
       "| source | havana             | ensembl            | ensembl_havana     |\n",
       "| type | gene               | gene               | gene               |\n",
       "| score | NA                 | NA                 | NA                 |\n",
       "| phase | NA                 | NA                 | NA                 |\n",
       "| gene_id | ENSMUSG00000102693 | ENSMUSG00000064842 | ENSMUSG00000051951 |\n",
       "| gene_version | 1                  | 1                  | 5                  |\n",
       "| gene_name | 4933401J01Rik      | Gm26206            | Xkr4               |\n",
       "| gene_source | havana             | ensembl            | ensembl_havana     |\n",
       "| gene_biotype | TEC                | snRNA              | protein_coding     |\n",
       "| transcript_id | NA                 | NA                 | NA                 |\n",
       "| transcript_version | NA                 | NA                 | NA                 |\n",
       "| transcript_name | NA                 | NA                 | NA                 |\n",
       "| transcript_source | NA                 | NA                 | NA                 |\n",
       "| transcript_biotype | NA                 | NA                 | NA                 |\n",
       "| tag | NA                 | NA                 | NA                 |\n",
       "| transcript_support_level | NA                 | NA                 | NA                 |\n",
       "| exon_number | NA                 | NA                 | NA                 |\n",
       "| exon_id | NA                 | NA                 | NA                 |\n",
       "| exon_version | NA                 | NA                 | NA                 |\n",
       "| ccds_id | NA                 | NA                 | NA                 |\n",
       "| protein_id | NA                 | NA                 | NA                 |\n",
       "| protein_version | NA                 | NA                 | NA                 |\n",
       "\n"
      ],
      "text/plain": [
       "                         1                  4                 \n",
       "seqnames                 1                  1                 \n",
       "start                    3073253            3102016           \n",
       "end                      3074322            3102125           \n",
       "width                      1070                110            \n",
       "strand                   +                  +                 \n",
       "source                   havana             ensembl           \n",
       "type                     gene               gene              \n",
       "score                    NA                 NA                \n",
       "phase                    NA                 NA                \n",
       "gene_id                  ENSMUSG00000102693 ENSMUSG00000064842\n",
       "gene_version             1                  1                 \n",
       "gene_name                4933401J01Rik      Gm26206           \n",
       "gene_source              havana             ensembl           \n",
       "gene_biotype             TEC                snRNA             \n",
       "transcript_id            NA                 NA                \n",
       "transcript_version       NA                 NA                \n",
       "transcript_name          NA                 NA                \n",
       "transcript_source        NA                 NA                \n",
       "transcript_biotype       NA                 NA                \n",
       "tag                      NA                 NA                \n",
       "transcript_support_level NA                 NA                \n",
       "exon_number              NA                 NA                \n",
       "exon_id                  NA                 NA                \n",
       "exon_version             NA                 NA                \n",
       "ccds_id                  NA                 NA                \n",
       "protein_id               NA                 NA                \n",
       "protein_version          NA                 NA                \n",
       "                         7                 \n",
       "seqnames                 1                 \n",
       "start                    3205901           \n",
       "end                      3671498           \n",
       "width                    465598            \n",
       "strand                   -                 \n",
       "source                   ensembl_havana    \n",
       "type                     gene              \n",
       "score                    NA                \n",
       "phase                    NA                \n",
       "gene_id                  ENSMUSG00000051951\n",
       "gene_version             5                 \n",
       "gene_name                Xkr4              \n",
       "gene_source              ensembl_havana    \n",
       "gene_biotype             protein_coding    \n",
       "transcript_id            NA                \n",
       "transcript_version       NA                \n",
       "transcript_name          NA                \n",
       "transcript_source        NA                \n",
       "transcript_biotype       NA                \n",
       "tag                      NA                \n",
       "transcript_support_level NA                \n",
       "exon_number              NA                \n",
       "exon_id                  NA                \n",
       "exon_version             NA                \n",
       "ccds_id                  NA                \n",
       "protein_id               NA                \n",
       "protein_version          NA                "
      ]
     },
     "metadata": {},
     "output_type": "display_data"
    },
    {
     "data": {
      "text/html": [
       "<style>\n",
       ".list-inline {list-style: none; margin:0; padding: 0}\n",
       ".list-inline>li {display: inline-block}\n",
       ".list-inline>li:not(:last-child)::after {content: \"\\00b7\"; padding: 0 .5ex}\n",
       "</style>\n",
       "<ol class=list-inline><li>55583</li><li>27</li></ol>\n"
      ],
      "text/latex": [
       "\\begin{enumerate*}\n",
       "\\item 55583\n",
       "\\item 27\n",
       "\\end{enumerate*}\n"
      ],
      "text/markdown": [
       "1. 55583\n",
       "2. 27\n",
       "\n",
       "\n"
      ],
      "text/plain": [
       "[1] 55583    27"
      ]
     },
     "metadata": {},
     "output_type": "display_data"
    },
    {
     "data": {
      "text/html": [
       "55583"
      ],
      "text/latex": [
       "55583"
      ],
      "text/markdown": [
       "55583"
      ],
      "text/plain": [
       "[1] 55583"
      ]
     },
     "metadata": {},
     "output_type": "display_data"
    },
    {
     "data": {
      "text/html": [
       "FALSE"
      ],
      "text/latex": [
       "FALSE"
      ],
      "text/markdown": [
       "FALSE"
      ],
      "text/plain": [
       "[1] FALSE"
      ]
     },
     "metadata": {},
     "output_type": "display_data"
    },
    {
     "data": {
      "text/html": [
       "FALSE"
      ],
      "text/latex": [
       "FALSE"
      ],
      "text/markdown": [
       "FALSE"
      ],
      "text/plain": [
       "[1] FALSE"
      ]
     },
     "metadata": {},
     "output_type": "display_data"
    },
    {
     "data": {
      "text/html": [
       "FALSE"
      ],
      "text/latex": [
       "FALSE"
      ],
      "text/markdown": [
       "FALSE"
      ],
      "text/plain": [
       "[1] FALSE"
      ]
     },
     "metadata": {},
     "output_type": "display_data"
    },
    {
     "data": {
      "text/html": [
       "55463"
      ],
      "text/latex": [
       "55463"
      ],
      "text/markdown": [
       "55463"
      ],
      "text/plain": [
       "[1] 55463"
      ]
     },
     "metadata": {},
     "output_type": "display_data"
    }
   ],
   "source": [
    "df_gtf0 <- as.data.frame(granges_gtf)\n",
    "if (grepl(\"isoform\", level)) {\n",
    "    df_gtf <- df_gtf0[df_gtf0$type=='transcript',]\n",
    "} else {\n",
    "    df_gtf <- df_gtf0[df_gtf0$type=='gene',]\n",
    "}\n",
    "          \n",
    "#head(df_gtf)\n",
    "t(df_gtf[c(1,2,3),])\n",
    "dim(df_gtf)\n",
    "\n",
    "length(unique(df_gtf$gene_id))\n",
    "\n",
    "gene_name <- unique(df_gtf$gene_name)\n",
    "any(is.na(gene_name))\n",
    "any(gene_name == 'NA')\n",
    "any(nchar(gene_name)==0)\n",
    "length(gene_name)\n"
   ]
  },
  {
   "cell_type": "markdown",
   "metadata": {},
   "source": [
    "## gene_id"
   ]
  },
  {
   "cell_type": "code",
   "execution_count": 62,
   "metadata": {},
   "outputs": [
    {
     "data": {
      "text/html": [
       "55583"
      ],
      "text/latex": [
       "55583"
      ],
      "text/markdown": [
       "55583"
      ],
      "text/plain": [
       "[1] 55583"
      ]
     },
     "metadata": {},
     "output_type": "display_data"
    }
   ],
   "source": [
    "length(unique(df_gtf$gene_id))"
   ]
  },
  {
   "cell_type": "code",
   "execution_count": 63,
   "metadata": {},
   "outputs": [
    {
     "data": {
      "text/html": [],
      "text/latex": [],
      "text/markdown": [],
      "text/plain": [
       "character(0)"
      ]
     },
     "metadata": {},
     "output_type": "display_data"
    },
    {
     "data": {
      "text/html": [
       "0"
      ],
      "text/latex": [
       "0"
      ],
      "text/markdown": [
       "0"
      ],
      "text/plain": [
       "[1] 0"
      ]
     },
     "metadata": {},
     "output_type": "display_data"
    }
   ],
   "source": [
    "f <- grepl('^ucsc', df_gtf$gene_id)\n",
    "gene_id_ucsc <- unique(df_gtf$gene_id[f])\n",
    "head(gene_id_ucsc)\n",
    "length(gene_id_ucsc)"
   ]
  },
  {
   "cell_type": "code",
   "execution_count": 64,
   "metadata": {},
   "outputs": [
    {
     "data": {
      "text/html": [
       "55583"
      ],
      "text/latex": [
       "55583"
      ],
      "text/markdown": [
       "55583"
      ],
      "text/plain": [
       "[1] 55583"
      ]
     },
     "metadata": {},
     "output_type": "display_data"
    },
    {
     "data": {
      "text/html": [
       "55573"
      ],
      "text/latex": [
       "55573"
      ],
      "text/markdown": [
       "55573"
      ],
      "text/plain": [
       "[1] 55573"
      ]
     },
     "metadata": {},
     "output_type": "display_data"
    }
   ],
   "source": [
    "length(setdiff(df_gtf$gene_id, gene_id_ucsc))\n",
    "56754-1181"
   ]
  },
  {
   "cell_type": "markdown",
   "metadata": {},
   "source": [
    "## gene_name"
   ]
  },
  {
   "cell_type": "code",
   "execution_count": 65,
   "metadata": {},
   "outputs": [
    {
     "data": {
      "text/html": [
       "55463"
      ],
      "text/latex": [
       "55463"
      ],
      "text/markdown": [
       "55463"
      ],
      "text/plain": [
       "[1] 55463"
      ]
     },
     "metadata": {},
     "output_type": "display_data"
    }
   ],
   "source": [
    "length(unique(df_gtf$gene_name))"
   ]
  },
  {
   "cell_type": "code",
   "execution_count": 66,
   "metadata": {},
   "outputs": [
    {
     "data": {
      "text/html": [],
      "text/latex": [],
      "text/markdown": [],
      "text/plain": [
       "character(0)"
      ]
     },
     "metadata": {},
     "output_type": "display_data"
    },
    {
     "data": {
      "text/html": [
       "0"
      ],
      "text/latex": [
       "0"
      ],
      "text/markdown": [
       "0"
      ],
      "text/plain": [
       "[1] 0"
      ]
     },
     "metadata": {},
     "output_type": "display_data"
    }
   ],
   "source": [
    "f <- grepl('^ucsc', df_gtf$gene_name)\n",
    "gene_name_ucsc <- unique(df_gtf$gene_name[f])\n",
    "head(gene_name_ucsc)\n",
    "length(gene_name_ucsc)"
   ]
  },
  {
   "cell_type": "code",
   "execution_count": 67,
   "metadata": {},
   "outputs": [
    {
     "data": {
      "text/html": [
       "55463"
      ],
      "text/latex": [
       "55463"
      ],
      "text/markdown": [
       "55463"
      ],
      "text/plain": [
       "[1] 55463"
      ]
     },
     "metadata": {},
     "output_type": "display_data"
    },
    {
     "data": {
      "text/html": [
       "55453"
      ],
      "text/latex": [
       "55453"
      ],
      "text/markdown": [
       "55453"
      ],
      "text/plain": [
       "[1] 55453"
      ]
     },
     "metadata": {},
     "output_type": "display_data"
    }
   ],
   "source": [
    "length(setdiff(df_gtf$gene_name, gene_name_ucsc))\n",
    "56634-1181"
   ]
  },
  {
   "cell_type": "markdown",
   "metadata": {},
   "source": [
    "## gene_biotype"
   ]
  },
  {
   "cell_type": "code",
   "execution_count": 68,
   "metadata": {},
   "outputs": [
    {
     "data": {
      "text/html": [
       "21868"
      ],
      "text/latex": [
       "21868"
      ],
      "text/markdown": [
       "21868"
      ],
      "text/plain": [
       "[1] 21868"
      ]
     },
     "metadata": {},
     "output_type": "display_data"
    }
   ],
   "source": [
    "f <- df_gtf$gene_biotype == 'protein_coding'\n",
    "length(unique(df_gtf[f,'gene_name']))"
   ]
  },
  {
   "cell_type": "code",
   "execution_count": 69,
   "metadata": {},
   "outputs": [
    {
     "data": {
      "text/html": [
       "<style>\n",
       ".list-inline {list-style: none; margin:0; padding: 0}\n",
       ".list-inline>li {display: inline-block}\n",
       ".list-inline>li:not(:last-child)::after {content: \"\\00b7\"; padding: 0 .5ex}\n",
       "</style>\n",
       "<ol class=list-inline><li>'CT010467.1'</li><li>'Gm22076'</li><li>'Gm22093'</li><li>'Gm22094'</li><li>'Gm22109'</li><li>'Gm22135'</li><li>'Gm22164'</li><li>'Gm22216'</li><li>'Gm22224'</li><li>'Gm22291'</li><li>'Gm22311'</li><li>'Gm22340'</li><li>'Gm22385'</li><li>'Gm22527'</li><li>'Gm22535'</li><li>'Gm22556'</li><li>'Gm22560'</li><li>'Gm22562'</li><li>'Gm22586'</li><li>'Gm22624'</li><li>'Gm22651'</li><li>'Gm22687'</li><li>'Gm22731'</li><li>'Gm22790'</li><li>'Gm22816'</li><li>'Gm22832'</li><li>'Gm22853'</li><li>'Gm22968'</li><li>'Gm23023'</li><li>'Gm23052'</li><li>'Gm23065'</li><li>'Gm23071'</li><li>'Gm23084'</li><li>'Gm23114'</li><li>'Gm23115'</li><li>'Gm23152'</li><li>'Gm23198'</li><li>'Gm23257'</li><li>'Gm23279'</li><li>'Gm23284'</li><li>'Gm23289'</li><li>'Gm23342'</li><li>'Gm23380'</li><li>'Gm23381'</li><li>'Gm23392'</li><li>'Gm23473'</li><li>'Gm23536'</li><li>'Gm23558'</li><li>'Gm23647'</li><li>'Gm23662'</li><li>'Gm23667'</li><li>'Gm23668'</li><li>'Gm23702'</li><li>'Gm23740'</li><li>'Gm23752'</li><li>'Gm23756'</li><li>'Gm23757'</li><li>'Gm23764'</li><li>'Gm23770'</li><li>'Gm23782'</li><li>'Gm23799'</li><li>'Gm23806'</li><li>'Gm23821'</li><li>'Gm23857'</li><li>'Gm23863'</li><li>'Gm23899'</li><li>'Gm23900'</li><li>'Gm23905'</li><li>'Gm23918'</li><li>'Gm23956'</li><li>'Gm23957'</li><li>'Gm23964'</li><li>'Gm23983'</li><li>'Gm23997'</li><li>'Gm23999'</li><li>'Gm24009'</li><li>'Gm24089'</li><li>'Gm24174'</li><li>'Gm24186'</li><li>'Gm24188'</li><li>'Gm24189'</li><li>'Gm24217'</li><li>'Gm24222'</li><li>'Gm24238'</li><li>'Gm24250'</li><li>'Gm24312'</li><li>'Gm24476'</li><li>'Gm24509'</li><li>'Gm24573'</li><li>'Gm24601'</li><li>'Gm24647'</li><li>'Gm24649'</li><li>'Gm24664'</li><li>'Gm24690'</li><li>'Gm24738'</li><li>'Gm24741'</li><li>'Gm24747'</li><li>'Gm24772'</li><li>'Gm24777'</li><li>'Gm24786'</li><li>'Gm24808'</li><li>'Gm24828'</li><li>'Gm24845'</li><li>'Gm24876'</li><li>'Gm24880'</li><li>'Gm24915'</li><li>'Gm24931'</li><li>'Gm24939'</li><li>'Gm24971'</li><li>'Gm24976'</li><li>'Gm24991'</li><li>'Gm25018'</li><li>'Gm25154'</li><li>'Gm25164'</li><li>'Gm25180'</li><li>'Gm25212'</li><li>'Gm25329'</li><li>'Gm25348'</li><li>'Gm25358'</li><li>'Gm25359'</li><li>'Gm25365'</li><li>'Gm25368'</li><li>'Gm25447'</li><li>'Gm25488'</li><li>'Gm25551'</li><li>'Gm25553'</li><li>'Gm25554'</li><li>'Gm25555'</li><li>'Gm25606'</li><li>'Gm25621'</li><li>'Gm25625'</li><li>'Gm25659'</li><li>'Gm25660'</li><li>'Gm25669'</li><li>'Gm25675'</li><li>'Gm25712'</li><li>'Gm25729'</li><li>'Gm25885'</li><li>'Gm25908'</li><li>'Gm25923'</li><li>'Gm25961'</li><li>'Gm25966'</li><li>'Gm25974'</li><li>'Gm26004'</li><li>'Gm26041'</li><li>'Gm26089'</li><li>'Gm26152'</li><li>'Gm26157'</li><li>'Gm26171'</li><li>'Gm26197'</li><li>'Gm26213'</li><li>'Gm26216'</li><li>'Gm26280'</li><li>'Gm26381'</li><li>'Gm26391'</li><li>'Gm26400'</li><li>'Gm26405'</li><li>'Gm26486'</li><li>'Gm27266'</li><li>'Gm27289'</li><li>'Gm27355'</li><li>'Gm27362'</li><li>'Gm27490'</li><li>'Gm27595'</li><li>'Gm27648'</li><li>'Gm27781'</li><li>'Gm27783'</li><li>'Gm27792'</li><li>'Gm27952'</li><li>'Gm27959'</li><li>'Gm27977'</li><li>'Gm28001'</li><li>'n-R5-8s1'</li><li>'rDNA_Rn18s'</li><li>'rDNA_Rn28s'</li><li>'rDNA_Rn5-8s'</li><li>'Rn18s-rs5'</li><li>'Rn5s'</li></ol>\n"
      ],
      "text/latex": [
       "\\begin{enumerate*}\n",
       "\\item 'CT010467.1'\n",
       "\\item 'Gm22076'\n",
       "\\item 'Gm22093'\n",
       "\\item 'Gm22094'\n",
       "\\item 'Gm22109'\n",
       "\\item 'Gm22135'\n",
       "\\item 'Gm22164'\n",
       "\\item 'Gm22216'\n",
       "\\item 'Gm22224'\n",
       "\\item 'Gm22291'\n",
       "\\item 'Gm22311'\n",
       "\\item 'Gm22340'\n",
       "\\item 'Gm22385'\n",
       "\\item 'Gm22527'\n",
       "\\item 'Gm22535'\n",
       "\\item 'Gm22556'\n",
       "\\item 'Gm22560'\n",
       "\\item 'Gm22562'\n",
       "\\item 'Gm22586'\n",
       "\\item 'Gm22624'\n",
       "\\item 'Gm22651'\n",
       "\\item 'Gm22687'\n",
       "\\item 'Gm22731'\n",
       "\\item 'Gm22790'\n",
       "\\item 'Gm22816'\n",
       "\\item 'Gm22832'\n",
       "\\item 'Gm22853'\n",
       "\\item 'Gm22968'\n",
       "\\item 'Gm23023'\n",
       "\\item 'Gm23052'\n",
       "\\item 'Gm23065'\n",
       "\\item 'Gm23071'\n",
       "\\item 'Gm23084'\n",
       "\\item 'Gm23114'\n",
       "\\item 'Gm23115'\n",
       "\\item 'Gm23152'\n",
       "\\item 'Gm23198'\n",
       "\\item 'Gm23257'\n",
       "\\item 'Gm23279'\n",
       "\\item 'Gm23284'\n",
       "\\item 'Gm23289'\n",
       "\\item 'Gm23342'\n",
       "\\item 'Gm23380'\n",
       "\\item 'Gm23381'\n",
       "\\item 'Gm23392'\n",
       "\\item 'Gm23473'\n",
       "\\item 'Gm23536'\n",
       "\\item 'Gm23558'\n",
       "\\item 'Gm23647'\n",
       "\\item 'Gm23662'\n",
       "\\item 'Gm23667'\n",
       "\\item 'Gm23668'\n",
       "\\item 'Gm23702'\n",
       "\\item 'Gm23740'\n",
       "\\item 'Gm23752'\n",
       "\\item 'Gm23756'\n",
       "\\item 'Gm23757'\n",
       "\\item 'Gm23764'\n",
       "\\item 'Gm23770'\n",
       "\\item 'Gm23782'\n",
       "\\item 'Gm23799'\n",
       "\\item 'Gm23806'\n",
       "\\item 'Gm23821'\n",
       "\\item 'Gm23857'\n",
       "\\item 'Gm23863'\n",
       "\\item 'Gm23899'\n",
       "\\item 'Gm23900'\n",
       "\\item 'Gm23905'\n",
       "\\item 'Gm23918'\n",
       "\\item 'Gm23956'\n",
       "\\item 'Gm23957'\n",
       "\\item 'Gm23964'\n",
       "\\item 'Gm23983'\n",
       "\\item 'Gm23997'\n",
       "\\item 'Gm23999'\n",
       "\\item 'Gm24009'\n",
       "\\item 'Gm24089'\n",
       "\\item 'Gm24174'\n",
       "\\item 'Gm24186'\n",
       "\\item 'Gm24188'\n",
       "\\item 'Gm24189'\n",
       "\\item 'Gm24217'\n",
       "\\item 'Gm24222'\n",
       "\\item 'Gm24238'\n",
       "\\item 'Gm24250'\n",
       "\\item 'Gm24312'\n",
       "\\item 'Gm24476'\n",
       "\\item 'Gm24509'\n",
       "\\item 'Gm24573'\n",
       "\\item 'Gm24601'\n",
       "\\item 'Gm24647'\n",
       "\\item 'Gm24649'\n",
       "\\item 'Gm24664'\n",
       "\\item 'Gm24690'\n",
       "\\item 'Gm24738'\n",
       "\\item 'Gm24741'\n",
       "\\item 'Gm24747'\n",
       "\\item 'Gm24772'\n",
       "\\item 'Gm24777'\n",
       "\\item 'Gm24786'\n",
       "\\item 'Gm24808'\n",
       "\\item 'Gm24828'\n",
       "\\item 'Gm24845'\n",
       "\\item 'Gm24876'\n",
       "\\item 'Gm24880'\n",
       "\\item 'Gm24915'\n",
       "\\item 'Gm24931'\n",
       "\\item 'Gm24939'\n",
       "\\item 'Gm24971'\n",
       "\\item 'Gm24976'\n",
       "\\item 'Gm24991'\n",
       "\\item 'Gm25018'\n",
       "\\item 'Gm25154'\n",
       "\\item 'Gm25164'\n",
       "\\item 'Gm25180'\n",
       "\\item 'Gm25212'\n",
       "\\item 'Gm25329'\n",
       "\\item 'Gm25348'\n",
       "\\item 'Gm25358'\n",
       "\\item 'Gm25359'\n",
       "\\item 'Gm25365'\n",
       "\\item 'Gm25368'\n",
       "\\item 'Gm25447'\n",
       "\\item 'Gm25488'\n",
       "\\item 'Gm25551'\n",
       "\\item 'Gm25553'\n",
       "\\item 'Gm25554'\n",
       "\\item 'Gm25555'\n",
       "\\item 'Gm25606'\n",
       "\\item 'Gm25621'\n",
       "\\item 'Gm25625'\n",
       "\\item 'Gm25659'\n",
       "\\item 'Gm25660'\n",
       "\\item 'Gm25669'\n",
       "\\item 'Gm25675'\n",
       "\\item 'Gm25712'\n",
       "\\item 'Gm25729'\n",
       "\\item 'Gm25885'\n",
       "\\item 'Gm25908'\n",
       "\\item 'Gm25923'\n",
       "\\item 'Gm25961'\n",
       "\\item 'Gm25966'\n",
       "\\item 'Gm25974'\n",
       "\\item 'Gm26004'\n",
       "\\item 'Gm26041'\n",
       "\\item 'Gm26089'\n",
       "\\item 'Gm26152'\n",
       "\\item 'Gm26157'\n",
       "\\item 'Gm26171'\n",
       "\\item 'Gm26197'\n",
       "\\item 'Gm26213'\n",
       "\\item 'Gm26216'\n",
       "\\item 'Gm26280'\n",
       "\\item 'Gm26381'\n",
       "\\item 'Gm26391'\n",
       "\\item 'Gm26400'\n",
       "\\item 'Gm26405'\n",
       "\\item 'Gm26486'\n",
       "\\item 'Gm27266'\n",
       "\\item 'Gm27289'\n",
       "\\item 'Gm27355'\n",
       "\\item 'Gm27362'\n",
       "\\item 'Gm27490'\n",
       "\\item 'Gm27595'\n",
       "\\item 'Gm27648'\n",
       "\\item 'Gm27781'\n",
       "\\item 'Gm27783'\n",
       "\\item 'Gm27792'\n",
       "\\item 'Gm27952'\n",
       "\\item 'Gm27959'\n",
       "\\item 'Gm27977'\n",
       "\\item 'Gm28001'\n",
       "\\item 'n-R5-8s1'\n",
       "\\item 'rDNA\\_Rn18s'\n",
       "\\item 'rDNA\\_Rn28s'\n",
       "\\item 'rDNA\\_Rn5-8s'\n",
       "\\item 'Rn18s-rs5'\n",
       "\\item 'Rn5s'\n",
       "\\end{enumerate*}\n"
      ],
      "text/markdown": [
       "1. 'CT010467.1'\n",
       "2. 'Gm22076'\n",
       "3. 'Gm22093'\n",
       "4. 'Gm22094'\n",
       "5. 'Gm22109'\n",
       "6. 'Gm22135'\n",
       "7. 'Gm22164'\n",
       "8. 'Gm22216'\n",
       "9. 'Gm22224'\n",
       "10. 'Gm22291'\n",
       "11. 'Gm22311'\n",
       "12. 'Gm22340'\n",
       "13. 'Gm22385'\n",
       "14. 'Gm22527'\n",
       "15. 'Gm22535'\n",
       "16. 'Gm22556'\n",
       "17. 'Gm22560'\n",
       "18. 'Gm22562'\n",
       "19. 'Gm22586'\n",
       "20. 'Gm22624'\n",
       "21. 'Gm22651'\n",
       "22. 'Gm22687'\n",
       "23. 'Gm22731'\n",
       "24. 'Gm22790'\n",
       "25. 'Gm22816'\n",
       "26. 'Gm22832'\n",
       "27. 'Gm22853'\n",
       "28. 'Gm22968'\n",
       "29. 'Gm23023'\n",
       "30. 'Gm23052'\n",
       "31. 'Gm23065'\n",
       "32. 'Gm23071'\n",
       "33. 'Gm23084'\n",
       "34. 'Gm23114'\n",
       "35. 'Gm23115'\n",
       "36. 'Gm23152'\n",
       "37. 'Gm23198'\n",
       "38. 'Gm23257'\n",
       "39. 'Gm23279'\n",
       "40. 'Gm23284'\n",
       "41. 'Gm23289'\n",
       "42. 'Gm23342'\n",
       "43. 'Gm23380'\n",
       "44. 'Gm23381'\n",
       "45. 'Gm23392'\n",
       "46. 'Gm23473'\n",
       "47. 'Gm23536'\n",
       "48. 'Gm23558'\n",
       "49. 'Gm23647'\n",
       "50. 'Gm23662'\n",
       "51. 'Gm23667'\n",
       "52. 'Gm23668'\n",
       "53. 'Gm23702'\n",
       "54. 'Gm23740'\n",
       "55. 'Gm23752'\n",
       "56. 'Gm23756'\n",
       "57. 'Gm23757'\n",
       "58. 'Gm23764'\n",
       "59. 'Gm23770'\n",
       "60. 'Gm23782'\n",
       "61. 'Gm23799'\n",
       "62. 'Gm23806'\n",
       "63. 'Gm23821'\n",
       "64. 'Gm23857'\n",
       "65. 'Gm23863'\n",
       "66. 'Gm23899'\n",
       "67. 'Gm23900'\n",
       "68. 'Gm23905'\n",
       "69. 'Gm23918'\n",
       "70. 'Gm23956'\n",
       "71. 'Gm23957'\n",
       "72. 'Gm23964'\n",
       "73. 'Gm23983'\n",
       "74. 'Gm23997'\n",
       "75. 'Gm23999'\n",
       "76. 'Gm24009'\n",
       "77. 'Gm24089'\n",
       "78. 'Gm24174'\n",
       "79. 'Gm24186'\n",
       "80. 'Gm24188'\n",
       "81. 'Gm24189'\n",
       "82. 'Gm24217'\n",
       "83. 'Gm24222'\n",
       "84. 'Gm24238'\n",
       "85. 'Gm24250'\n",
       "86. 'Gm24312'\n",
       "87. 'Gm24476'\n",
       "88. 'Gm24509'\n",
       "89. 'Gm24573'\n",
       "90. 'Gm24601'\n",
       "91. 'Gm24647'\n",
       "92. 'Gm24649'\n",
       "93. 'Gm24664'\n",
       "94. 'Gm24690'\n",
       "95. 'Gm24738'\n",
       "96. 'Gm24741'\n",
       "97. 'Gm24747'\n",
       "98. 'Gm24772'\n",
       "99. 'Gm24777'\n",
       "100. 'Gm24786'\n",
       "101. 'Gm24808'\n",
       "102. 'Gm24828'\n",
       "103. 'Gm24845'\n",
       "104. 'Gm24876'\n",
       "105. 'Gm24880'\n",
       "106. 'Gm24915'\n",
       "107. 'Gm24931'\n",
       "108. 'Gm24939'\n",
       "109. 'Gm24971'\n",
       "110. 'Gm24976'\n",
       "111. 'Gm24991'\n",
       "112. 'Gm25018'\n",
       "113. 'Gm25154'\n",
       "114. 'Gm25164'\n",
       "115. 'Gm25180'\n",
       "116. 'Gm25212'\n",
       "117. 'Gm25329'\n",
       "118. 'Gm25348'\n",
       "119. 'Gm25358'\n",
       "120. 'Gm25359'\n",
       "121. 'Gm25365'\n",
       "122. 'Gm25368'\n",
       "123. 'Gm25447'\n",
       "124. 'Gm25488'\n",
       "125. 'Gm25551'\n",
       "126. 'Gm25553'\n",
       "127. 'Gm25554'\n",
       "128. 'Gm25555'\n",
       "129. 'Gm25606'\n",
       "130. 'Gm25621'\n",
       "131. 'Gm25625'\n",
       "132. 'Gm25659'\n",
       "133. 'Gm25660'\n",
       "134. 'Gm25669'\n",
       "135. 'Gm25675'\n",
       "136. 'Gm25712'\n",
       "137. 'Gm25729'\n",
       "138. 'Gm25885'\n",
       "139. 'Gm25908'\n",
       "140. 'Gm25923'\n",
       "141. 'Gm25961'\n",
       "142. 'Gm25966'\n",
       "143. 'Gm25974'\n",
       "144. 'Gm26004'\n",
       "145. 'Gm26041'\n",
       "146. 'Gm26089'\n",
       "147. 'Gm26152'\n",
       "148. 'Gm26157'\n",
       "149. 'Gm26171'\n",
       "150. 'Gm26197'\n",
       "151. 'Gm26213'\n",
       "152. 'Gm26216'\n",
       "153. 'Gm26280'\n",
       "154. 'Gm26381'\n",
       "155. 'Gm26391'\n",
       "156. 'Gm26400'\n",
       "157. 'Gm26405'\n",
       "158. 'Gm26486'\n",
       "159. 'Gm27266'\n",
       "160. 'Gm27289'\n",
       "161. 'Gm27355'\n",
       "162. 'Gm27362'\n",
       "163. 'Gm27490'\n",
       "164. 'Gm27595'\n",
       "165. 'Gm27648'\n",
       "166. 'Gm27781'\n",
       "167. 'Gm27783'\n",
       "168. 'Gm27792'\n",
       "169. 'Gm27952'\n",
       "170. 'Gm27959'\n",
       "171. 'Gm27977'\n",
       "172. 'Gm28001'\n",
       "173. 'n-R5-8s1'\n",
       "174. 'rDNA_Rn18s'\n",
       "175. 'rDNA_Rn28s'\n",
       "176. 'rDNA_Rn5-8s'\n",
       "177. 'Rn18s-rs5'\n",
       "178. 'Rn5s'\n",
       "\n",
       "\n"
      ],
      "text/plain": [
       "  [1] \"CT010467.1\"  \"Gm22076\"     \"Gm22093\"     \"Gm22094\"     \"Gm22109\"    \n",
       "  [6] \"Gm22135\"     \"Gm22164\"     \"Gm22216\"     \"Gm22224\"     \"Gm22291\"    \n",
       " [11] \"Gm22311\"     \"Gm22340\"     \"Gm22385\"     \"Gm22527\"     \"Gm22535\"    \n",
       " [16] \"Gm22556\"     \"Gm22560\"     \"Gm22562\"     \"Gm22586\"     \"Gm22624\"    \n",
       " [21] \"Gm22651\"     \"Gm22687\"     \"Gm22731\"     \"Gm22790\"     \"Gm22816\"    \n",
       " [26] \"Gm22832\"     \"Gm22853\"     \"Gm22968\"     \"Gm23023\"     \"Gm23052\"    \n",
       " [31] \"Gm23065\"     \"Gm23071\"     \"Gm23084\"     \"Gm23114\"     \"Gm23115\"    \n",
       " [36] \"Gm23152\"     \"Gm23198\"     \"Gm23257\"     \"Gm23279\"     \"Gm23284\"    \n",
       " [41] \"Gm23289\"     \"Gm23342\"     \"Gm23380\"     \"Gm23381\"     \"Gm23392\"    \n",
       " [46] \"Gm23473\"     \"Gm23536\"     \"Gm23558\"     \"Gm23647\"     \"Gm23662\"    \n",
       " [51] \"Gm23667\"     \"Gm23668\"     \"Gm23702\"     \"Gm23740\"     \"Gm23752\"    \n",
       " [56] \"Gm23756\"     \"Gm23757\"     \"Gm23764\"     \"Gm23770\"     \"Gm23782\"    \n",
       " [61] \"Gm23799\"     \"Gm23806\"     \"Gm23821\"     \"Gm23857\"     \"Gm23863\"    \n",
       " [66] \"Gm23899\"     \"Gm23900\"     \"Gm23905\"     \"Gm23918\"     \"Gm23956\"    \n",
       " [71] \"Gm23957\"     \"Gm23964\"     \"Gm23983\"     \"Gm23997\"     \"Gm23999\"    \n",
       " [76] \"Gm24009\"     \"Gm24089\"     \"Gm24174\"     \"Gm24186\"     \"Gm24188\"    \n",
       " [81] \"Gm24189\"     \"Gm24217\"     \"Gm24222\"     \"Gm24238\"     \"Gm24250\"    \n",
       " [86] \"Gm24312\"     \"Gm24476\"     \"Gm24509\"     \"Gm24573\"     \"Gm24601\"    \n",
       " [91] \"Gm24647\"     \"Gm24649\"     \"Gm24664\"     \"Gm24690\"     \"Gm24738\"    \n",
       " [96] \"Gm24741\"     \"Gm24747\"     \"Gm24772\"     \"Gm24777\"     \"Gm24786\"    \n",
       "[101] \"Gm24808\"     \"Gm24828\"     \"Gm24845\"     \"Gm24876\"     \"Gm24880\"    \n",
       "[106] \"Gm24915\"     \"Gm24931\"     \"Gm24939\"     \"Gm24971\"     \"Gm24976\"    \n",
       "[111] \"Gm24991\"     \"Gm25018\"     \"Gm25154\"     \"Gm25164\"     \"Gm25180\"    \n",
       "[116] \"Gm25212\"     \"Gm25329\"     \"Gm25348\"     \"Gm25358\"     \"Gm25359\"    \n",
       "[121] \"Gm25365\"     \"Gm25368\"     \"Gm25447\"     \"Gm25488\"     \"Gm25551\"    \n",
       "[126] \"Gm25553\"     \"Gm25554\"     \"Gm25555\"     \"Gm25606\"     \"Gm25621\"    \n",
       "[131] \"Gm25625\"     \"Gm25659\"     \"Gm25660\"     \"Gm25669\"     \"Gm25675\"    \n",
       "[136] \"Gm25712\"     \"Gm25729\"     \"Gm25885\"     \"Gm25908\"     \"Gm25923\"    \n",
       "[141] \"Gm25961\"     \"Gm25966\"     \"Gm25974\"     \"Gm26004\"     \"Gm26041\"    \n",
       "[146] \"Gm26089\"     \"Gm26152\"     \"Gm26157\"     \"Gm26171\"     \"Gm26197\"    \n",
       "[151] \"Gm26213\"     \"Gm26216\"     \"Gm26280\"     \"Gm26381\"     \"Gm26391\"    \n",
       "[156] \"Gm26400\"     \"Gm26405\"     \"Gm26486\"     \"Gm27266\"     \"Gm27289\"    \n",
       "[161] \"Gm27355\"     \"Gm27362\"     \"Gm27490\"     \"Gm27595\"     \"Gm27648\"    \n",
       "[166] \"Gm27781\"     \"Gm27783\"     \"Gm27792\"     \"Gm27952\"     \"Gm27959\"    \n",
       "[171] \"Gm27977\"     \"Gm28001\"     \"n-R5-8s1\"    \"rDNA_Rn18s\"  \"rDNA_Rn28s\" \n",
       "[176] \"rDNA_Rn5-8s\" \"Rn18s-rs5\"   \"Rn5s\"       "
      ]
     },
     "metadata": {},
     "output_type": "display_data"
    }
   ],
   "source": [
    "f <- df_gtf$gene_biotype == 'rRNA'\n",
    "f <- f & !grepl(\"n-R5s\", df_gtf$gene_name)\n",
    "sort(unique(df_gtf[f,'gene_name']))"
   ]
  },
  {
   "cell_type": "markdown",
   "metadata": {},
   "source": [
    "## transcript_id"
   ]
  },
  {
   "cell_type": "code",
   "execution_count": 70,
   "metadata": {},
   "outputs": [
    {
     "data": {
      "text/html": [
       "1"
      ],
      "text/latex": [
       "1"
      ],
      "text/markdown": [
       "1"
      ],
      "text/plain": [
       "[1] 1"
      ]
     },
     "metadata": {},
     "output_type": "display_data"
    }
   ],
   "source": [
    "length(unique(df_gtf$transcript_id))"
   ]
  },
  {
   "cell_type": "markdown",
   "metadata": {},
   "source": [
    "## transcript_name"
   ]
  },
  {
   "cell_type": "code",
   "execution_count": 71,
   "metadata": {},
   "outputs": [
    {
     "data": {
      "text/html": [
       "1"
      ],
      "text/latex": [
       "1"
      ],
      "text/markdown": [
       "1"
      ],
      "text/plain": [
       "[1] 1"
      ]
     },
     "metadata": {},
     "output_type": "display_data"
    }
   ],
   "source": [
    "length(unique(df_gtf$transcript_name))"
   ]
  },
  {
   "cell_type": "markdown",
   "metadata": {},
   "source": [
    "## transcript_biotype"
   ]
  },
  {
   "cell_type": "code",
   "execution_count": 72,
   "metadata": {},
   "outputs": [
    {
     "data": {
      "text/html": [
       "1"
      ],
      "text/latex": [
       "1"
      ],
      "text/markdown": [
       "1"
      ],
      "text/plain": [
       "[1] 1"
      ]
     },
     "metadata": {},
     "output_type": "display_data"
    }
   ],
   "source": [
    "f <- df_gtf$transcript_biotype == 'protein_coding'\n",
    "length(unique(df_gtf[f,'transcript_name']))"
   ]
  },
  {
   "cell_type": "code",
   "execution_count": 73,
   "metadata": {},
   "outputs": [
    {
     "data": {
      "text/html": [
       "NA"
      ],
      "text/latex": [
       "NA"
      ],
      "text/markdown": [
       "NA"
      ],
      "text/plain": [
       "[1] NA"
      ]
     },
     "metadata": {},
     "output_type": "display_data"
    }
   ],
   "source": [
    "idx <- which(df_gtf0$transcript_biotype == \"rRNA\" & df_gtf0$exon_number > 1)\n",
    "if (length(idx) > 0) {\n",
    "    head(df_gtf0[idx, ])\n",
    "    dim(df_gtf0[idx, ])\n",
    "} else {\n",
    "    f <- df_gtf0$transcript_biotype == \"rRNA\"\n",
    "    unique(df_gtf[f, 'exon_number'])\n",
    "}"
   ]
  },
  {
   "cell_type": "markdown",
   "metadata": {},
   "source": [
    "# df_count_mrna"
   ]
  },
  {
   "cell_type": "code",
   "execution_count": 3,
   "metadata": {},
   "outputs": [
    {
     "name": "stdout",
     "output_type": "stream",
     "text": [
      "./out/limma-voom.mrna/170224.rdna_rn18s/NMuMG/170224.NMuMG.limma-voom.mrna.counts.raw.txt.gz\n"
     ]
    },
    {
     "name": "stderr",
     "output_type": "stream",
     "text": [
      "Warning message in file(file, \"rt\"):\n",
      "\"cannot open file './out/limma-voom.mrna/170224.rdna_rn18s/NMuMG/170224.NMuMG.limma-voom.mrna.counts.raw.txt.gz': No such file or directory\"\n"
     ]
    },
    {
     "ename": "ERROR",
     "evalue": "Error in file(file, \"rt\"): cannot open the connection\n",
     "output_type": "error",
     "traceback": [
      "Error in file(file, \"rt\"): cannot open the connection\nTraceback:\n",
      "1. read.table(file = fname_in, header = TRUE, sep = \"\\t\", row.names = 1, \n .     quote = \"\", comment.char = \"#\", stringsAsFactors = F)",
      "2. file(file, \"rt\")"
     ]
    }
   ],
   "source": [
    "# Randall totalRNA \n",
    "\n",
    "fname_in <- sprintf(\"%s/170224.NMuMG.%s.counts.raw.txt.gz\", dir_rnaseq, strdir)\n",
    "verb('%s\\n', fname_in)\n",
    "df_count_mrna <- read.table(file=fname_in, \n",
    "                header=TRUE, sep=\"\\t\", row.names=1,\n",
    "                quote=\"\", comment.char=\"#\", stringsAsFactors=F)\n",
    "\n",
    "# add seqnames, start, end, witdth, strand, source\n",
    "sym <- rownames(df_count_mrna)\n",
    "if (grepl(\"isoform\", level)) {\n",
    "    idx <- match(rownames(df_count_mrna), df_gtf$transcript_name)\n",
    "    df_count_mrna <- cbind(df_gtf[idx, 1:6], df_count_mrna)\n",
    "    df_count_mrna$biotype <- df_gtf[idx, \"transcript_biotype\"]\n",
    "    \n",
    "} else {    \n",
    "    idx <- match(rownames(df_count_mrna), df_gtf$gene_name)\n",
    "    df_count_mrna <- cbind(df_gtf[idx, 1:6], df_count_mrna)    \n",
    "    df_count_mrna$biotype <- df_gtf[idx, \"gene_biotype\"]\n",
    "}\n",
    "\n",
    "rownames(df_count_mrna) <- sym\n",
    "head(df_count_mrna)"
   ]
  },
  {
   "cell_type": "markdown",
   "metadata": {},
   "source": [
    "# df_count_ribo"
   ]
  },
  {
   "cell_type": "code",
   "execution_count": 75,
   "metadata": {},
   "outputs": [
    {
     "name": "stdout",
     "output_type": "stream",
     "text": [
      "./out/limma-voom.mrna/161021.rdna_rn18s/NMuMG/161021.NMuMG.limma-voom.mrna.counts.raw.txt.gz\n"
     ]
    },
    {
     "data": {
      "text/html": [
       "<table>\n",
       "<caption>A data.frame: 6 × 16</caption>\n",
       "<thead>\n",
       "\t<tr><th></th><th scope=col>seqnames</th><th scope=col>start</th><th scope=col>end</th><th scope=col>width</th><th scope=col>strand</th><th scope=col>source</th><th scope=col>RD0175</th><th scope=col>RD0176</th><th scope=col>RD0177</th><th scope=col>RD0178</th><th scope=col>RD0179</th><th scope=col>RD0180</th><th scope=col>RD0184</th><th scope=col>RD0185</th><th scope=col>RD0186</th><th scope=col>biotype</th></tr>\n",
       "\t<tr><th></th><th scope=col>&lt;fct&gt;</th><th scope=col>&lt;int&gt;</th><th scope=col>&lt;int&gt;</th><th scope=col>&lt;int&gt;</th><th scope=col>&lt;fct&gt;</th><th scope=col>&lt;fct&gt;</th><th scope=col>&lt;int&gt;</th><th scope=col>&lt;int&gt;</th><th scope=col>&lt;int&gt;</th><th scope=col>&lt;int&gt;</th><th scope=col>&lt;int&gt;</th><th scope=col>&lt;int&gt;</th><th scope=col>&lt;int&gt;</th><th scope=col>&lt;int&gt;</th><th scope=col>&lt;int&gt;</th><th scope=col>&lt;chr&gt;</th></tr>\n",
       "</thead>\n",
       "<tbody>\n",
       "\t<tr><th scope=row>__alignment_not_unique</th><td>NA        </td><td>   NA</td><td>   NA</td><td> NA</td><td>NA</td><td>NA    </td><td>       0</td><td>       0</td><td>       0</td><td>       0</td><td>       0</td><td>       0</td><td>       0</td><td>       0</td><td>       0</td><td>NA  </td></tr>\n",
       "\t<tr><th scope=row>__ambiguous</th><td>NA        </td><td>   NA</td><td>   NA</td><td> NA</td><td>NA</td><td>NA    </td><td>   31331</td><td>   36394</td><td>   33298</td><td>   17428</td><td>   23539</td><td>   21878</td><td>   13380</td><td>   15968</td><td>   10757</td><td>NA  </td></tr>\n",
       "\t<tr><th scope=row>__no_feature</th><td>NA        </td><td>   NA</td><td>   NA</td><td> NA</td><td>NA</td><td>NA    </td><td>  433684</td><td>  593196</td><td>  638550</td><td>  430982</td><td>  592788</td><td>  614080</td><td>  258134</td><td>  277100</td><td>  186826</td><td>NA  </td></tr>\n",
       "\t<tr><th scope=row>__not_aligned</th><td>NA        </td><td>   NA</td><td>   NA</td><td> NA</td><td>NA</td><td>NA    </td><td>35064519</td><td>43483167</td><td>46348710</td><td>28888575</td><td>39393642</td><td>40654786</td><td>27907812</td><td>32865359</td><td>21965755</td><td>NA  </td></tr>\n",
       "\t<tr><th scope=row>__too_low_aQual</th><td>NA        </td><td>   NA</td><td>   NA</td><td> NA</td><td>NA</td><td>NA    </td><td>       0</td><td>       0</td><td>       0</td><td>       0</td><td>       0</td><td>       0</td><td>       0</td><td>       0</td><td>       0</td><td>NA  </td></tr>\n",
       "\t<tr><th scope=row>rDNA_promoter</th><td>BK000964.3</td><td>45306</td><td>45446</td><td>141</td><td>+ </td><td>stjude</td><td>       0</td><td>       0</td><td>       0</td><td>       0</td><td>       0</td><td>       0</td><td>       0</td><td>       0</td><td>       0</td><td>rDNA</td></tr>\n",
       "</tbody>\n",
       "</table>\n"
      ],
      "text/latex": [
       "A data.frame: 6 × 16\n",
       "\\begin{tabular}{r|llllllllllllllll}\n",
       "  & seqnames & start & end & width & strand & source & RD0175 & RD0176 & RD0177 & RD0178 & RD0179 & RD0180 & RD0184 & RD0185 & RD0186 & biotype\\\\\n",
       "  & <fct> & <int> & <int> & <int> & <fct> & <fct> & <int> & <int> & <int> & <int> & <int> & <int> & <int> & <int> & <int> & <chr>\\\\\n",
       "\\hline\n",
       "\t\\_\\_alignment\\_not\\_unique & NA         &    NA &    NA &  NA & NA & NA     &        0 &        0 &        0 &        0 &        0 &        0 &        0 &        0 &        0 & NA  \\\\\n",
       "\t\\_\\_ambiguous & NA         &    NA &    NA &  NA & NA & NA     &    31331 &    36394 &    33298 &    17428 &    23539 &    21878 &    13380 &    15968 &    10757 & NA  \\\\\n",
       "\t\\_\\_no\\_feature & NA         &    NA &    NA &  NA & NA & NA     &   433684 &   593196 &   638550 &   430982 &   592788 &   614080 &   258134 &   277100 &   186826 & NA  \\\\\n",
       "\t\\_\\_not\\_aligned & NA         &    NA &    NA &  NA & NA & NA     & 35064519 & 43483167 & 46348710 & 28888575 & 39393642 & 40654786 & 27907812 & 32865359 & 21965755 & NA  \\\\\n",
       "\t\\_\\_too\\_low\\_aQual & NA         &    NA &    NA &  NA & NA & NA     &        0 &        0 &        0 &        0 &        0 &        0 &        0 &        0 &        0 & NA  \\\\\n",
       "\trDNA\\_promoter & BK000964.3 & 45306 & 45446 & 141 & +  & stjude &        0 &        0 &        0 &        0 &        0 &        0 &        0 &        0 &        0 & rDNA\\\\\n",
       "\\end{tabular}\n"
      ],
      "text/markdown": [
       "\n",
       "A data.frame: 6 × 16\n",
       "\n",
       "| <!--/--> | seqnames &lt;fct&gt; | start &lt;int&gt; | end &lt;int&gt; | width &lt;int&gt; | strand &lt;fct&gt; | source &lt;fct&gt; | RD0175 &lt;int&gt; | RD0176 &lt;int&gt; | RD0177 &lt;int&gt; | RD0178 &lt;int&gt; | RD0179 &lt;int&gt; | RD0180 &lt;int&gt; | RD0184 &lt;int&gt; | RD0185 &lt;int&gt; | RD0186 &lt;int&gt; | biotype &lt;chr&gt; |\n",
       "|---|---|---|---|---|---|---|---|---|---|---|---|---|---|---|---|---|\n",
       "| __alignment_not_unique | NA         |    NA |    NA |  NA | NA | NA     |        0 |        0 |        0 |        0 |        0 |        0 |        0 |        0 |        0 | NA   |\n",
       "| __ambiguous | NA         |    NA |    NA |  NA | NA | NA     |    31331 |    36394 |    33298 |    17428 |    23539 |    21878 |    13380 |    15968 |    10757 | NA   |\n",
       "| __no_feature | NA         |    NA |    NA |  NA | NA | NA     |   433684 |   593196 |   638550 |   430982 |   592788 |   614080 |   258134 |   277100 |   186826 | NA   |\n",
       "| __not_aligned | NA         |    NA |    NA |  NA | NA | NA     | 35064519 | 43483167 | 46348710 | 28888575 | 39393642 | 40654786 | 27907812 | 32865359 | 21965755 | NA   |\n",
       "| __too_low_aQual | NA         |    NA |    NA |  NA | NA | NA     |        0 |        0 |        0 |        0 |        0 |        0 |        0 |        0 |        0 | NA   |\n",
       "| rDNA_promoter | BK000964.3 | 45306 | 45446 | 141 | +  | stjude |        0 |        0 |        0 |        0 |        0 |        0 |        0 |        0 |        0 | rDNA |\n",
       "\n"
      ],
      "text/plain": [
       "                       seqnames   start end   width strand source RD0175  \n",
       "__alignment_not_unique NA            NA    NA  NA   NA     NA            0\n",
       "__ambiguous            NA            NA    NA  NA   NA     NA        31331\n",
       "__no_feature           NA            NA    NA  NA   NA     NA       433684\n",
       "__not_aligned          NA            NA    NA  NA   NA     NA     35064519\n",
       "__too_low_aQual        NA            NA    NA  NA   NA     NA            0\n",
       "rDNA_promoter          BK000964.3 45306 45446 141   +      stjude        0\n",
       "                       RD0176   RD0177   RD0178   RD0179   RD0180   RD0184  \n",
       "__alignment_not_unique        0        0        0        0        0        0\n",
       "__ambiguous               36394    33298    17428    23539    21878    13380\n",
       "__no_feature             593196   638550   430982   592788   614080   258134\n",
       "__not_aligned          43483167 46348710 28888575 39393642 40654786 27907812\n",
       "__too_low_aQual               0        0        0        0        0        0\n",
       "rDNA_promoter                 0        0        0        0        0        0\n",
       "                       RD0185   RD0186   biotype\n",
       "__alignment_not_unique        0        0 NA     \n",
       "__ambiguous               15968    10757 NA     \n",
       "__no_feature             277100   186826 NA     \n",
       "__not_aligned          32865359 21965755 NA     \n",
       "__too_low_aQual               0        0 NA     \n",
       "rDNA_promoter                 0        0 rDNA   "
      ]
     },
     "metadata": {},
     "output_type": "display_data"
    }
   ],
   "source": [
    "fname_in <- sprintf(\"%s/161021.NMuMG.%s.counts.raw.txt.gz\", dir_riboseq, strdir)\n",
    "verb('%s\\n', fname_in)\n",
    "df_count_ribo <- read.table(file=fname_in, \n",
    "                header=TRUE, sep=\"\\t\", row.names=1,\n",
    "                quote=\"\", comment.char=\"#\", stringsAsFactors=F)\n",
    "\n",
    "sym <- rownames(df_count_ribo)\n",
    "if (grepl(\"isoform\", level)) {\n",
    "    idx <- match(rownames(df_count_ribo), df_gtf$transcript_name)\n",
    "    df_count_ribo <- cbind(df_gtf[idx, 1:6], df_count_ribo)\n",
    "    df_count_ribo$biotype <- df_gtf[idx, \"transcript_biotype\"]\n",
    "    \n",
    "} else {    \n",
    "    idx <- match(rownames(df_count_ribo), df_gtf$gene_name)\n",
    "    df_count_ribo <- cbind(df_gtf[idx, 1:6], df_count_ribo)    \n",
    "    df_count_ribo$biotype <- df_gtf[idx, \"gene_biotype\"]\n",
    "}\n",
    "\n",
    "rownames(df_count_ribo) <- sym\n",
    "head(df_count_ribo)\n"
   ]
  },
  {
   "cell_type": "markdown",
   "metadata": {},
   "source": [
    "# df_transcription"
   ]
  },
  {
   "cell_type": "code",
   "execution_count": 76,
   "metadata": {},
   "outputs": [
    {
     "name": "stdout",
     "output_type": "stream",
     "text": [
      "./out/limma-voom.mrna/170224.rdna_rn18s/NMuMG/170224.NMuMG.limma-voom.mrna.log2cpm.txt.gz\n"
     ]
    },
    {
     "data": {
      "text/html": [
       "<table>\n",
       "<caption>A data.frame: 6 × 3</caption>\n",
       "<thead>\n",
       "\t<tr><th></th><th scope=col>unt48.transcription</th><th scope=col>tgfb48.transcription</th><th scope=col>tgfbCX5461100nm.transcription</th></tr>\n",
       "\t<tr><th></th><th scope=col>&lt;dbl&gt;</th><th scope=col>&lt;dbl&gt;</th><th scope=col>&lt;dbl&gt;</th></tr>\n",
       "</thead>\n",
       "<tbody>\n",
       "\t<tr><th scope=row>0610009B22Rik</th><td> 1.378095</td><td> 0.5586290</td><td> 0.8116783</td></tr>\n",
       "\t<tr><th scope=row>0610009L18Rik</th><td>-2.252284</td><td>-3.1533015</td><td>-3.7140633</td></tr>\n",
       "\t<tr><th scope=row>0610010F05Rik</th><td> 3.071791</td><td> 3.7414762</td><td> 3.6247997</td></tr>\n",
       "\t<tr><th scope=row>0610012G03Rik</th><td> 2.057036</td><td> 1.8223029</td><td> 1.6342654</td></tr>\n",
       "\t<tr><th scope=row>0610030E20Rik</th><td> 1.809939</td><td> 1.7710470</td><td> 1.8676255</td></tr>\n",
       "\t<tr><th scope=row>0610038B21Rik</th><td>-1.771257</td><td>-0.9942376</td><td>-1.9819725</td></tr>\n",
       "</tbody>\n",
       "</table>\n"
      ],
      "text/latex": [
       "A data.frame: 6 × 3\n",
       "\\begin{tabular}{r|lll}\n",
       "  & unt48.transcription & tgfb48.transcription & tgfbCX5461100nm.transcription\\\\\n",
       "  & <dbl> & <dbl> & <dbl>\\\\\n",
       "\\hline\n",
       "\t0610009B22Rik &  1.378095 &  0.5586290 &  0.8116783\\\\\n",
       "\t0610009L18Rik & -2.252284 & -3.1533015 & -3.7140633\\\\\n",
       "\t0610010F05Rik &  3.071791 &  3.7414762 &  3.6247997\\\\\n",
       "\t0610012G03Rik &  2.057036 &  1.8223029 &  1.6342654\\\\\n",
       "\t0610030E20Rik &  1.809939 &  1.7710470 &  1.8676255\\\\\n",
       "\t0610038B21Rik & -1.771257 & -0.9942376 & -1.9819725\\\\\n",
       "\\end{tabular}\n"
      ],
      "text/markdown": [
       "\n",
       "A data.frame: 6 × 3\n",
       "\n",
       "| <!--/--> | unt48.transcription &lt;dbl&gt; | tgfb48.transcription &lt;dbl&gt; | tgfbCX5461100nm.transcription &lt;dbl&gt; |\n",
       "|---|---|---|---|\n",
       "| 0610009B22Rik |  1.378095 |  0.5586290 |  0.8116783 |\n",
       "| 0610009L18Rik | -2.252284 | -3.1533015 | -3.7140633 |\n",
       "| 0610010F05Rik |  3.071791 |  3.7414762 |  3.6247997 |\n",
       "| 0610012G03Rik |  2.057036 |  1.8223029 |  1.6342654 |\n",
       "| 0610030E20Rik |  1.809939 |  1.7710470 |  1.8676255 |\n",
       "| 0610038B21Rik | -1.771257 | -0.9942376 | -1.9819725 |\n",
       "\n"
      ],
      "text/plain": [
       "              unt48.transcription tgfb48.transcription\n",
       "0610009B22Rik  1.378095            0.5586290          \n",
       "0610009L18Rik -2.252284           -3.1533015          \n",
       "0610010F05Rik  3.071791            3.7414762          \n",
       "0610012G03Rik  2.057036            1.8223029          \n",
       "0610030E20Rik  1.809939            1.7710470          \n",
       "0610038B21Rik -1.771257           -0.9942376          \n",
       "              tgfbCX5461100nm.transcription\n",
       "0610009B22Rik  0.8116783                   \n",
       "0610009L18Rik -3.7140633                   \n",
       "0610010F05Rik  3.6247997                   \n",
       "0610012G03Rik  1.6342654                   \n",
       "0610030E20Rik  1.8676255                   \n",
       "0610038B21Rik -1.9819725                   "
      ]
     },
     "metadata": {},
     "output_type": "display_data"
    },
    {
     "data": {
      "text/html": [
       "<style>\n",
       ".list-inline {list-style: none; margin:0; padding: 0}\n",
       ".list-inline>li {display: inline-block}\n",
       ".list-inline>li:not(:last-child)::after {content: \"\\00b7\"; padding: 0 .5ex}\n",
       "</style>\n",
       "<ol class=list-inline><li>12913</li><li>3</li></ol>\n"
      ],
      "text/latex": [
       "\\begin{enumerate*}\n",
       "\\item 12913\n",
       "\\item 3\n",
       "\\end{enumerate*}\n"
      ],
      "text/markdown": [
       "1. 12913\n",
       "2. 3\n",
       "\n",
       "\n"
      ],
      "text/plain": [
       "[1] 12913     3"
      ]
     },
     "metadata": {},
     "output_type": "display_data"
    },
    {
     "name": "stdout",
     "output_type": "stream",
     "text": [
      "./out/limma-voom.mrna/170224.rdna_rn18s/NMuMG/170224.NMuMG.limma-voom.mrna.unt48--vs--tgfb48.all.txt.gz\n"
     ]
    },
    {
     "data": {
      "text/html": [
       "<table>\n",
       "<caption>A data.frame: 6 × 5</caption>\n",
       "<thead>\n",
       "\t<tr><th></th><th scope=col>unt48.transcription</th><th scope=col>tgfb48.transcription</th><th scope=col>log2FCunt48VStgfb48.transcription</th><th scope=col>FDRunt48VStgfb48.transcription</th><th scope=col>Punt48VStgfb48.transcription</th></tr>\n",
       "\t<tr><th></th><th scope=col>&lt;dbl&gt;</th><th scope=col>&lt;dbl&gt;</th><th scope=col>&lt;dbl&gt;</th><th scope=col>&lt;dbl&gt;</th><th scope=col>&lt;dbl&gt;</th></tr>\n",
       "</thead>\n",
       "<tbody>\n",
       "\t<tr><th scope=row>1700017B05Rik</th><td>5.137420</td><td>6.2813516</td><td> 1.1439316</td><td>0</td><td>0</td></tr>\n",
       "\t<tr><th scope=row>4930402H24Rik</th><td>4.246960</td><td>5.3145640</td><td> 1.0676044</td><td>0</td><td>0</td></tr>\n",
       "\t<tr><th scope=row>4931406P16Rik</th><td>3.317556</td><td>4.8805024</td><td> 1.5629466</td><td>0</td><td>0</td></tr>\n",
       "\t<tr><th scope=row>Abcc2</th><td>3.268253</td><td>0.3278268</td><td>-2.9404266</td><td>0</td><td>0</td></tr>\n",
       "\t<tr><th scope=row>Abcc4</th><td>5.253194</td><td>4.1491558</td><td>-1.1040378</td><td>0</td><td>0</td></tr>\n",
       "\t<tr><th scope=row>Abhd2</th><td>7.013178</td><td>6.0712420</td><td>-0.9419359</td><td>0</td><td>0</td></tr>\n",
       "</tbody>\n",
       "</table>\n"
      ],
      "text/latex": [
       "A data.frame: 6 × 5\n",
       "\\begin{tabular}{r|lllll}\n",
       "  & unt48.transcription & tgfb48.transcription & log2FCunt48VStgfb48.transcription & FDRunt48VStgfb48.transcription & Punt48VStgfb48.transcription\\\\\n",
       "  & <dbl> & <dbl> & <dbl> & <dbl> & <dbl>\\\\\n",
       "\\hline\n",
       "\t1700017B05Rik & 5.137420 & 6.2813516 &  1.1439316 & 0 & 0\\\\\n",
       "\t4930402H24Rik & 4.246960 & 5.3145640 &  1.0676044 & 0 & 0\\\\\n",
       "\t4931406P16Rik & 3.317556 & 4.8805024 &  1.5629466 & 0 & 0\\\\\n",
       "\tAbcc2 & 3.268253 & 0.3278268 & -2.9404266 & 0 & 0\\\\\n",
       "\tAbcc4 & 5.253194 & 4.1491558 & -1.1040378 & 0 & 0\\\\\n",
       "\tAbhd2 & 7.013178 & 6.0712420 & -0.9419359 & 0 & 0\\\\\n",
       "\\end{tabular}\n"
      ],
      "text/markdown": [
       "\n",
       "A data.frame: 6 × 5\n",
       "\n",
       "| <!--/--> | unt48.transcription &lt;dbl&gt; | tgfb48.transcription &lt;dbl&gt; | log2FCunt48VStgfb48.transcription &lt;dbl&gt; | FDRunt48VStgfb48.transcription &lt;dbl&gt; | Punt48VStgfb48.transcription &lt;dbl&gt; |\n",
       "|---|---|---|---|---|---|\n",
       "| 1700017B05Rik | 5.137420 | 6.2813516 |  1.1439316 | 0 | 0 |\n",
       "| 4930402H24Rik | 4.246960 | 5.3145640 |  1.0676044 | 0 | 0 |\n",
       "| 4931406P16Rik | 3.317556 | 4.8805024 |  1.5629466 | 0 | 0 |\n",
       "| Abcc2 | 3.268253 | 0.3278268 | -2.9404266 | 0 | 0 |\n",
       "| Abcc4 | 5.253194 | 4.1491558 | -1.1040378 | 0 | 0 |\n",
       "| Abhd2 | 7.013178 | 6.0712420 | -0.9419359 | 0 | 0 |\n",
       "\n"
      ],
      "text/plain": [
       "              unt48.transcription tgfb48.transcription\n",
       "1700017B05Rik 5.137420            6.2813516           \n",
       "4930402H24Rik 4.246960            5.3145640           \n",
       "4931406P16Rik 3.317556            4.8805024           \n",
       "Abcc2         3.268253            0.3278268           \n",
       "Abcc4         5.253194            4.1491558           \n",
       "Abhd2         7.013178            6.0712420           \n",
       "              log2FCunt48VStgfb48.transcription FDRunt48VStgfb48.transcription\n",
       "1700017B05Rik  1.1439316                        0                             \n",
       "4930402H24Rik  1.0676044                        0                             \n",
       "4931406P16Rik  1.5629466                        0                             \n",
       "Abcc2         -2.9404266                        0                             \n",
       "Abcc4         -1.1040378                        0                             \n",
       "Abhd2         -0.9419359                        0                             \n",
       "              Punt48VStgfb48.transcription\n",
       "1700017B05Rik 0                           \n",
       "4930402H24Rik 0                           \n",
       "4931406P16Rik 0                           \n",
       "Abcc2         0                           \n",
       "Abcc4         0                           \n",
       "Abhd2         0                           "
      ]
     },
     "metadata": {},
     "output_type": "display_data"
    },
    {
     "data": {
      "text/html": [
       "<style>\n",
       ".list-inline {list-style: none; margin:0; padding: 0}\n",
       ".list-inline>li {display: inline-block}\n",
       ".list-inline>li:not(:last-child)::after {content: \"\\00b7\"; padding: 0 .5ex}\n",
       "</style>\n",
       "<ol class=list-inline><li>12913</li><li>5</li></ol>\n"
      ],
      "text/latex": [
       "\\begin{enumerate*}\n",
       "\\item 12913\n",
       "\\item 5\n",
       "\\end{enumerate*}\n"
      ],
      "text/markdown": [
       "1. 12913\n",
       "2. 5\n",
       "\n",
       "\n"
      ],
      "text/plain": [
       "[1] 12913     5"
      ]
     },
     "metadata": {},
     "output_type": "display_data"
    },
    {
     "name": "stdout",
     "output_type": "stream",
     "text": [
      "./out/limma-voom.mrna/170224.rdna_rn18s/NMuMG/170224.NMuMG.limma-voom.mrna.tgfb48--vs--tgfbCX5461100nm.all.txt.gz\n"
     ]
    },
    {
     "data": {
      "text/html": [
       "<table>\n",
       "<caption>A data.frame: 6 × 5</caption>\n",
       "<thead>\n",
       "\t<tr><th></th><th scope=col>tgfb48.transcription</th><th scope=col>tgfbCX5461100nm.transcription</th><th scope=col>log2FCtgfbVStgfbCX5461100nm.transcription</th><th scope=col>FDRtgfbVStgfbCX5461100nm.transcription</th><th scope=col>PtgfbVStgfbCX5461100nm.transcription</th></tr>\n",
       "\t<tr><th></th><th scope=col>&lt;dbl&gt;</th><th scope=col>&lt;dbl&gt;</th><th scope=col>&lt;dbl&gt;</th><th scope=col>&lt;dbl&gt;</th><th scope=col>&lt;dbl&gt;</th></tr>\n",
       "</thead>\n",
       "<tbody>\n",
       "\t<tr><th scope=row>Acox1</th><td>5.293247</td><td>6.374570</td><td>1.081322</td><td>0</td><td>0</td></tr>\n",
       "\t<tr><th scope=row>Arhgap23</th><td>4.985406</td><td>6.017128</td><td>1.031722</td><td>0</td><td>0</td></tr>\n",
       "\t<tr><th scope=row>Arid3a</th><td>3.813112</td><td>5.110447</td><td>1.297335</td><td>0</td><td>0</td></tr>\n",
       "\t<tr><th scope=row>Atf3</th><td>6.785541</td><td>7.736118</td><td>0.950577</td><td>0</td><td>0</td></tr>\n",
       "\t<tr><th scope=row>Bcl6</th><td>3.075916</td><td>4.695217</td><td>1.619301</td><td>0</td><td>0</td></tr>\n",
       "\t<tr><th scope=row>Cdkn1a</th><td>4.881347</td><td>6.464424</td><td>1.583077</td><td>0</td><td>0</td></tr>\n",
       "</tbody>\n",
       "</table>\n"
      ],
      "text/latex": [
       "A data.frame: 6 × 5\n",
       "\\begin{tabular}{r|lllll}\n",
       "  & tgfb48.transcription & tgfbCX5461100nm.transcription & log2FCtgfbVStgfbCX5461100nm.transcription & FDRtgfbVStgfbCX5461100nm.transcription & PtgfbVStgfbCX5461100nm.transcription\\\\\n",
       "  & <dbl> & <dbl> & <dbl> & <dbl> & <dbl>\\\\\n",
       "\\hline\n",
       "\tAcox1 & 5.293247 & 6.374570 & 1.081322 & 0 & 0\\\\\n",
       "\tArhgap23 & 4.985406 & 6.017128 & 1.031722 & 0 & 0\\\\\n",
       "\tArid3a & 3.813112 & 5.110447 & 1.297335 & 0 & 0\\\\\n",
       "\tAtf3 & 6.785541 & 7.736118 & 0.950577 & 0 & 0\\\\\n",
       "\tBcl6 & 3.075916 & 4.695217 & 1.619301 & 0 & 0\\\\\n",
       "\tCdkn1a & 4.881347 & 6.464424 & 1.583077 & 0 & 0\\\\\n",
       "\\end{tabular}\n"
      ],
      "text/markdown": [
       "\n",
       "A data.frame: 6 × 5\n",
       "\n",
       "| <!--/--> | tgfb48.transcription &lt;dbl&gt; | tgfbCX5461100nm.transcription &lt;dbl&gt; | log2FCtgfbVStgfbCX5461100nm.transcription &lt;dbl&gt; | FDRtgfbVStgfbCX5461100nm.transcription &lt;dbl&gt; | PtgfbVStgfbCX5461100nm.transcription &lt;dbl&gt; |\n",
       "|---|---|---|---|---|---|\n",
       "| Acox1 | 5.293247 | 6.374570 | 1.081322 | 0 | 0 |\n",
       "| Arhgap23 | 4.985406 | 6.017128 | 1.031722 | 0 | 0 |\n",
       "| Arid3a | 3.813112 | 5.110447 | 1.297335 | 0 | 0 |\n",
       "| Atf3 | 6.785541 | 7.736118 | 0.950577 | 0 | 0 |\n",
       "| Bcl6 | 3.075916 | 4.695217 | 1.619301 | 0 | 0 |\n",
       "| Cdkn1a | 4.881347 | 6.464424 | 1.583077 | 0 | 0 |\n",
       "\n"
      ],
      "text/plain": [
       "         tgfb48.transcription tgfbCX5461100nm.transcription\n",
       "Acox1    5.293247             6.374570                     \n",
       "Arhgap23 4.985406             6.017128                     \n",
       "Arid3a   3.813112             5.110447                     \n",
       "Atf3     6.785541             7.736118                     \n",
       "Bcl6     3.075916             4.695217                     \n",
       "Cdkn1a   4.881347             6.464424                     \n",
       "         log2FCtgfbVStgfbCX5461100nm.transcription\n",
       "Acox1    1.081322                                 \n",
       "Arhgap23 1.031722                                 \n",
       "Arid3a   1.297335                                 \n",
       "Atf3     0.950577                                 \n",
       "Bcl6     1.619301                                 \n",
       "Cdkn1a   1.583077                                 \n",
       "         FDRtgfbVStgfbCX5461100nm.transcription\n",
       "Acox1    0                                     \n",
       "Arhgap23 0                                     \n",
       "Arid3a   0                                     \n",
       "Atf3     0                                     \n",
       "Bcl6     0                                     \n",
       "Cdkn1a   0                                     \n",
       "         PtgfbVStgfbCX5461100nm.transcription\n",
       "Acox1    0                                   \n",
       "Arhgap23 0                                   \n",
       "Arid3a   0                                   \n",
       "Atf3     0                                   \n",
       "Bcl6     0                                   \n",
       "Cdkn1a   0                                   "
      ]
     },
     "metadata": {},
     "output_type": "display_data"
    },
    {
     "data": {
      "text/html": [
       "<style>\n",
       ".list-inline {list-style: none; margin:0; padding: 0}\n",
       ".list-inline>li {display: inline-block}\n",
       ".list-inline>li:not(:last-child)::after {content: \"\\00b7\"; padding: 0 .5ex}\n",
       "</style>\n",
       "<ol class=list-inline><li>12913</li><li>5</li></ol>\n"
      ],
      "text/latex": [
       "\\begin{enumerate*}\n",
       "\\item 12913\n",
       "\\item 5\n",
       "\\end{enumerate*}\n"
      ],
      "text/markdown": [
       "1. 12913\n",
       "2. 5\n",
       "\n",
       "\n"
      ],
      "text/plain": [
       "[1] 12913     5"
      ]
     },
     "metadata": {},
     "output_type": "display_data"
    },
    {
     "data": {
      "text/html": [
       "<table>\n",
       "<caption>A data.frame: 1 × 12</caption>\n",
       "<thead>\n",
       "\t<tr><th></th><th scope=col>unt48.transcription</th><th scope=col>tgfb48.transcription</th><th scope=col>tgfbCX5461100nm.transcription</th><th scope=col>log2FCunt48VStgfb48.transcription</th><th scope=col>FDRunt48VStgfb48.transcription</th><th scope=col>Punt48VStgfb48.transcription</th><th scope=col>log2FCtgfbVStgfbCX5461100nm.transcription</th><th scope=col>FDRtgfbVStgfbCX5461100nm.transcription</th><th scope=col>PtgfbVStgfbCX5461100nm.transcription</th><th scope=col>unt48.tgfb48.DEtranscription</th><th scope=col>tgfb48.tgfbCX5461100nm.DEtranscription</th><th scope=col>reversible.transcription</th></tr>\n",
       "\t<tr><th></th><th scope=col>&lt;dbl&gt;</th><th scope=col>&lt;dbl&gt;</th><th scope=col>&lt;dbl&gt;</th><th scope=col>&lt;dbl&gt;</th><th scope=col>&lt;dbl&gt;</th><th scope=col>&lt;dbl&gt;</th><th scope=col>&lt;dbl&gt;</th><th scope=col>&lt;dbl&gt;</th><th scope=col>&lt;dbl&gt;</th><th scope=col>&lt;chr&gt;</th><th scope=col>&lt;chr&gt;</th><th scope=col>&lt;chr&gt;</th></tr>\n",
       "</thead>\n",
       "<tbody>\n",
       "\t<tr><th scope=row>Abcc2</th><td>3.268253</td><td>0.3278268</td><td>1.535872</td><td>-2.940427</td><td>0</td><td>0</td><td>1.208045</td><td>0.0001150507</td><td>5.6576e-06</td><td>down</td><td>up</td><td>downUp</td></tr>\n",
       "</tbody>\n",
       "</table>\n"
      ],
      "text/latex": [
       "A data.frame: 1 × 12\n",
       "\\begin{tabular}{r|llllllllllll}\n",
       "  & unt48.transcription & tgfb48.transcription & tgfbCX5461100nm.transcription & log2FCunt48VStgfb48.transcription & FDRunt48VStgfb48.transcription & Punt48VStgfb48.transcription & log2FCtgfbVStgfbCX5461100nm.transcription & FDRtgfbVStgfbCX5461100nm.transcription & PtgfbVStgfbCX5461100nm.transcription & unt48.tgfb48.DEtranscription & tgfb48.tgfbCX5461100nm.DEtranscription & reversible.transcription\\\\\n",
       "  & <dbl> & <dbl> & <dbl> & <dbl> & <dbl> & <dbl> & <dbl> & <dbl> & <dbl> & <chr> & <chr> & <chr>\\\\\n",
       "\\hline\n",
       "\tAbcc2 & 3.268253 & 0.3278268 & 1.535872 & -2.940427 & 0 & 0 & 1.208045 & 0.0001150507 & 5.6576e-06 & down & up & downUp\\\\\n",
       "\\end{tabular}\n"
      ],
      "text/markdown": [
       "\n",
       "A data.frame: 1 × 12\n",
       "\n",
       "| <!--/--> | unt48.transcription &lt;dbl&gt; | tgfb48.transcription &lt;dbl&gt; | tgfbCX5461100nm.transcription &lt;dbl&gt; | log2FCunt48VStgfb48.transcription &lt;dbl&gt; | FDRunt48VStgfb48.transcription &lt;dbl&gt; | Punt48VStgfb48.transcription &lt;dbl&gt; | log2FCtgfbVStgfbCX5461100nm.transcription &lt;dbl&gt; | FDRtgfbVStgfbCX5461100nm.transcription &lt;dbl&gt; | PtgfbVStgfbCX5461100nm.transcription &lt;dbl&gt; | unt48.tgfb48.DEtranscription &lt;chr&gt; | tgfb48.tgfbCX5461100nm.DEtranscription &lt;chr&gt; | reversible.transcription &lt;chr&gt; |\n",
       "|---|---|---|---|---|---|---|---|---|---|---|---|---|\n",
       "| Abcc2 | 3.268253 | 0.3278268 | 1.535872 | -2.940427 | 0 | 0 | 1.208045 | 0.0001150507 | 5.6576e-06 | down | up | downUp |\n",
       "\n"
      ],
      "text/plain": [
       "      unt48.transcription tgfb48.transcription tgfbCX5461100nm.transcription\n",
       "Abcc2 3.268253            0.3278268            1.535872                     \n",
       "      log2FCunt48VStgfb48.transcription FDRunt48VStgfb48.transcription\n",
       "Abcc2 -2.940427                         0                             \n",
       "      Punt48VStgfb48.transcription log2FCtgfbVStgfbCX5461100nm.transcription\n",
       "Abcc2 0                            1.208045                                 \n",
       "      FDRtgfbVStgfbCX5461100nm.transcription\n",
       "Abcc2 0.0001150507                          \n",
       "      PtgfbVStgfbCX5461100nm.transcription unt48.tgfb48.DEtranscription\n",
       "Abcc2 5.6576e-06                           down                        \n",
       "      tgfb48.tgfbCX5461100nm.DEtranscription reversible.transcription\n",
       "Abcc2 up                                     downUp                  "
      ]
     },
     "metadata": {},
     "output_type": "display_data"
    },
    {
     "data": {
      "text/html": [
       "<style>\n",
       ".list-inline {list-style: none; margin:0; padding: 0}\n",
       ".list-inline>li {display: inline-block}\n",
       ".list-inline>li:not(:last-child)::after {content: \"\\00b7\"; padding: 0 .5ex}\n",
       "</style>\n",
       "<ol class=list-inline><li>12913</li><li>12</li></ol>\n"
      ],
      "text/latex": [
       "\\begin{enumerate*}\n",
       "\\item 12913\n",
       "\\item 12\n",
       "\\end{enumerate*}\n"
      ],
      "text/markdown": [
       "1. 12913\n",
       "2. 12\n",
       "\n",
       "\n"
      ],
      "text/plain": [
       "[1] 12913    12"
      ]
     },
     "metadata": {},
     "output_type": "display_data"
    }
   ],
   "source": [
    "# Randall totalRNA \n",
    "# log2cpm\n",
    "fname_in <- sprintf(\"%s/170224.NMuMG.%s.log2cpm.txt.gz\", dir_rnaseq, strdir)\n",
    "verb('%s\\n', fname_in)\n",
    "df_log2cpm <- read.table(file=fname_in, \n",
    "                header=TRUE, sep=\"\\t\", row.names=1,\n",
    "                quote=\"\", comment.char=\"#\", stringsAsFactors=F)\n",
    "colnames(df_log2cpm) <- c('unt48.transcription','tgfb48.transcription','tgfbCX5461100nm.transcription')\n",
    "\n",
    "if (!is.null(pattern_remove_gene)) {\n",
    "  dim(df_log2cpm)\n",
    "  df_log2cpm <- df_log2cpm[!grepl(pattern_remove_gene, rownames(df_log2cpm)),]\n",
    "}\n",
    "head(df_log2cpm)\n",
    "dim(df_log2cpm)\n",
    "\n",
    "fname_in <- sprintf(\"%s/170224.NMuMG.%s.unt48--vs--tgfb48.all.txt.gz\", dir_rnaseq, strdir)\n",
    "verb('%s\\n', fname_in)\n",
    "df_mrna <- read.table(file=fname_in, \n",
    "                header=TRUE, sep=\"\\t\", row.names=1,\n",
    "                quote=\"\", comment.char=\"#\", stringsAsFactors=F)\n",
    "colnames(df_mrna) <- c('unt48.transcription','tgfb48.transcription',\n",
    "                       'log2FCunt48VStgfb48.transcription','FDRunt48VStgfb48.transcription',\n",
    "                       'Punt48VStgfb48.transcription')\n",
    "\n",
    "if (!is.null(pattern_remove_gene)) {\n",
    "  dim(df_mrna)\n",
    "  df_mrna <- df_mrna[!grepl(pattern_remove_gene, rownames(df_mrna)),]\n",
    "}\n",
    "head(df_mrna)\n",
    "dim(df_mrna)\n",
    "\n",
    "fname_in <- sprintf(\"%s/170224.NMuMG.%s.tgfb48--vs--tgfbCX5461100nm.all.txt.gz\", dir_rnaseq, strdir)\n",
    "verb('%s\\n', fname_in)\n",
    "df_mrna_cx <- read.table(file=fname_in, \n",
    "                header=TRUE, sep=\"\\t\", row.names=1,\n",
    "                quote=\"\", comment.char=\"#\", stringsAsFactors=F)\n",
    "colnames(df_mrna_cx) <- c('tgfb48.transcription','tgfbCX5461100nm.transcription',\n",
    "                          'log2FCtgfbVStgfbCX5461100nm.transcription','FDRtgfbVStgfbCX5461100nm.transcription',\n",
    "                          'PtgfbVStgfbCX5461100nm.transcription')\n",
    "\n",
    "if (!is.null(pattern_remove_gene)) {\n",
    "  dim(df_mrna_cx)\n",
    "  df_mrna_cx <- df_mrna_cx[!grepl(pattern_remove_gene, rownames(df_mrna_cx)),]\n",
    "}\n",
    "head(df_mrna_cx)\n",
    "dim(df_mrna_cx)\n",
    "\n",
    "# https://adairama.wordpress.com/2017/11/22/how-to-merge-multiple-datasets-in-r-based-on-row-names/\n",
    "mylist <- list(df_log2cpm[,c('unt48.transcription','tgfb48.transcription','tgfbCX5461100nm.transcription')],\n",
    "                df_mrna[,c('log2FCunt48VStgfb48.transcription',\n",
    "                           'FDRunt48VStgfb48.transcription',\n",
    "                           'Punt48VStgfb48.transcription')],\n",
    "                df_mrna_cx[,c('log2FCtgfbVStgfbCX5461100nm.transcription',\n",
    "                           'FDRtgfbVStgfbCX5461100nm.transcription',\n",
    "                           'PtgfbVStgfbCX5461100nm.transcription')])\n",
    "for(i in 1:length(mylist)){\n",
    "  #colnames(mylist[[i]]) <- paste0( names(mylist)[i], \"_\", colnames(mylist[[i]]) )\n",
    "  mylist[[i]]$ROWNAMES  <- rownames(mylist[[i]])\n",
    "}\n",
    "df_transcription <- plyr::join_all(mylist, by=\"ROWNAMES\", type=\"full\")\n",
    "rownames(df_transcription) <- df_transcription$ROWNAMES; df_transcription$ROWNAMES <- NULL\n",
    "\n",
    "\n",
    "df_transcription$unt48.tgfb48.DEtranscription <- 'notSig'\n",
    "df_transcription$tgfb48.tgfbCX5461100nm.DEtranscription <- 'notSig'\n",
    "df_transcription$reversible.transcription <- 'notSig'\n",
    "\n",
    "f_up <- df_transcription$log2FCunt48VStgfb48.transcription > th_log2fc & df_transcription$FDRunt48VStgfb48.transcription < th_adj_pvalue\n",
    "f_dn <- df_transcription$log2FCtgfbVStgfbCX5461100nm.transcription < -th_log2fc & df_transcription$FDRtgfbVStgfbCX5461100nm.transcription < th_adj_pvalue\n",
    "df_transcription$unt48.tgfb48.DEtranscription[f_up] <- 'up'\n",
    "df_transcription$tgfb48.tgfbCX5461100nm.DEtranscription[f_dn] <- 'down'\n",
    "df_transcription$reversible.transcription[f_up & f_dn] <- 'upDown'\n",
    "\n",
    "f_dn <- df_transcription$log2FCunt48VStgfb48.transcription < -th_log2fc & df_transcription$FDRunt48VStgfb48.transcription < th_adj_pvalue\n",
    "f_up <- df_transcription$log2FCtgfbVStgfbCX5461100nm.transcription > th_log2fc & df_transcription$FDRtgfbVStgfbCX5461100nm.transcription < th_adj_pvalue\n",
    "df_transcription$unt48.tgfb48.DEtranscription[f_dn] <- 'down'\n",
    "df_transcription$tgfb48.tgfbCX5461100nm.DEtranscription[f_up] <- 'up'\n",
    "df_transcription$reversible.transcription[f_dn & f_up] <- 'downUp'\n",
    "\n",
    "#tail(df_transcription)\n",
    "df_transcription[c('Abcc2'),]\n",
    "dim(df_transcription)"
   ]
  },
  {
   "cell_type": "markdown",
   "metadata": {},
   "source": [
    "# df_translation"
   ]
  },
  {
   "cell_type": "code",
   "execution_count": 77,
   "metadata": {},
   "outputs": [
    {
     "name": "stdout",
     "output_type": "stream",
     "text": [
      "./out/limma-voom.mrna/161021.rdna_rn18s/NMuMG/161021.NMuMG.limma-voom.mrna.log2cpm.txt.gz\n"
     ]
    },
    {
     "data": {
      "text/html": [
       "<table>\n",
       "<caption>A data.frame: 6 × 3</caption>\n",
       "<thead>\n",
       "\t<tr><th></th><th scope=col>unt48.translation</th><th scope=col>tgfb48.translation</th><th scope=col>tgfbCX5461100nm.translation</th></tr>\n",
       "\t<tr><th></th><th scope=col>&lt;dbl&gt;</th><th scope=col>&lt;dbl&gt;</th><th scope=col>&lt;dbl&gt;</th></tr>\n",
       "</thead>\n",
       "<tbody>\n",
       "\t<tr><th scope=row>0610009B22Rik</th><td> 1.4699579</td><td> 1.1791783</td><td> 2.2156391</td></tr>\n",
       "\t<tr><th scope=row>0610010F05Rik</th><td> 0.3837540</td><td> 0.6242094</td><td>-0.1382724</td></tr>\n",
       "\t<tr><th scope=row>0610012G03Rik</th><td> 2.0402057</td><td> 1.5075815</td><td> 1.5199931</td></tr>\n",
       "\t<tr><th scope=row>0610040J01Rik</th><td>-0.9933001</td><td>-1.8930848</td><td>-1.9545279</td></tr>\n",
       "\t<tr><th scope=row>1110002E22Rik</th><td>-0.1409433</td><td>-0.5588888</td><td>-3.3332046</td></tr>\n",
       "\t<tr><th scope=row>1110002L01Rik</th><td>-0.6420859</td><td>-0.8959827</td><td>-0.7116839</td></tr>\n",
       "</tbody>\n",
       "</table>\n"
      ],
      "text/latex": [
       "A data.frame: 6 × 3\n",
       "\\begin{tabular}{r|lll}\n",
       "  & unt48.translation & tgfb48.translation & tgfbCX5461100nm.translation\\\\\n",
       "  & <dbl> & <dbl> & <dbl>\\\\\n",
       "\\hline\n",
       "\t0610009B22Rik &  1.4699579 &  1.1791783 &  2.2156391\\\\\n",
       "\t0610010F05Rik &  0.3837540 &  0.6242094 & -0.1382724\\\\\n",
       "\t0610012G03Rik &  2.0402057 &  1.5075815 &  1.5199931\\\\\n",
       "\t0610040J01Rik & -0.9933001 & -1.8930848 & -1.9545279\\\\\n",
       "\t1110002E22Rik & -0.1409433 & -0.5588888 & -3.3332046\\\\\n",
       "\t1110002L01Rik & -0.6420859 & -0.8959827 & -0.7116839\\\\\n",
       "\\end{tabular}\n"
      ],
      "text/markdown": [
       "\n",
       "A data.frame: 6 × 3\n",
       "\n",
       "| <!--/--> | unt48.translation &lt;dbl&gt; | tgfb48.translation &lt;dbl&gt; | tgfbCX5461100nm.translation &lt;dbl&gt; |\n",
       "|---|---|---|---|\n",
       "| 0610009B22Rik |  1.4699579 |  1.1791783 |  2.2156391 |\n",
       "| 0610010F05Rik |  0.3837540 |  0.6242094 | -0.1382724 |\n",
       "| 0610012G03Rik |  2.0402057 |  1.5075815 |  1.5199931 |\n",
       "| 0610040J01Rik | -0.9933001 | -1.8930848 | -1.9545279 |\n",
       "| 1110002E22Rik | -0.1409433 | -0.5588888 | -3.3332046 |\n",
       "| 1110002L01Rik | -0.6420859 | -0.8959827 | -0.7116839 |\n",
       "\n"
      ],
      "text/plain": [
       "              unt48.translation tgfb48.translation tgfbCX5461100nm.translation\n",
       "0610009B22Rik  1.4699579         1.1791783          2.2156391                 \n",
       "0610010F05Rik  0.3837540         0.6242094         -0.1382724                 \n",
       "0610012G03Rik  2.0402057         1.5075815          1.5199931                 \n",
       "0610040J01Rik -0.9933001        -1.8930848         -1.9545279                 \n",
       "1110002E22Rik -0.1409433        -0.5588888         -3.3332046                 \n",
       "1110002L01Rik -0.6420859        -0.8959827         -0.7116839                 "
      ]
     },
     "metadata": {},
     "output_type": "display_data"
    },
    {
     "data": {
      "text/html": [
       "<style>\n",
       ".list-inline {list-style: none; margin:0; padding: 0}\n",
       ".list-inline>li {display: inline-block}\n",
       ".list-inline>li:not(:last-child)::after {content: \"\\00b7\"; padding: 0 .5ex}\n",
       "</style>\n",
       "<ol class=list-inline><li>10343</li><li>3</li></ol>\n"
      ],
      "text/latex": [
       "\\begin{enumerate*}\n",
       "\\item 10343\n",
       "\\item 3\n",
       "\\end{enumerate*}\n"
      ],
      "text/markdown": [
       "1. 10343\n",
       "2. 3\n",
       "\n",
       "\n"
      ],
      "text/plain": [
       "[1] 10343     3"
      ]
     },
     "metadata": {},
     "output_type": "display_data"
    },
    {
     "name": "stdout",
     "output_type": "stream",
     "text": [
      "./out/limma-voom.mrna/161021.rdna_rn18s/NMuMG/161021.NMuMG.limma-voom.mrna.unt48--vs--tgfb48.all.txt.gz\n"
     ]
    },
    {
     "data": {
      "text/html": [
       "<table>\n",
       "<caption>A data.frame: 6 × 5</caption>\n",
       "<thead>\n",
       "\t<tr><th></th><th scope=col>unt48.translation</th><th scope=col>tgfb48.translation</th><th scope=col>log2FCunt48VStgfb48.translation</th><th scope=col>FDRunt48VStgfb48.translation</th><th scope=col>Punt48VStgfb48.translation</th></tr>\n",
       "\t<tr><th></th><th scope=col>&lt;dbl&gt;</th><th scope=col>&lt;dbl&gt;</th><th scope=col>&lt;dbl&gt;</th><th scope=col>&lt;dbl&gt;</th><th scope=col>&lt;dbl&gt;</th></tr>\n",
       "</thead>\n",
       "<tbody>\n",
       "\t<tr><th scope=row>Actb</th><td> 9.0693462</td><td>9.471076</td><td> 0.401730</td><td>0</td><td>0</td></tr>\n",
       "\t<tr><th scope=row>Actn1</th><td> 4.7529615</td><td>6.419199</td><td> 1.666237</td><td>0</td><td>0</td></tr>\n",
       "\t<tr><th scope=row>Adam8</th><td> 1.3825386</td><td>3.730572</td><td> 2.348033</td><td>0</td><td>0</td></tr>\n",
       "\t<tr><th scope=row>Adgrg1</th><td> 3.5475901</td><td>4.875399</td><td> 1.327808</td><td>0</td><td>0</td></tr>\n",
       "\t<tr><th scope=row>Ak1</th><td>-0.6852402</td><td>4.533343</td><td> 5.218583</td><td>0</td><td>0</td></tr>\n",
       "\t<tr><th scope=row>Aldoa</th><td> 6.7594436</td><td>5.638770</td><td>-1.120674</td><td>0</td><td>0</td></tr>\n",
       "</tbody>\n",
       "</table>\n"
      ],
      "text/latex": [
       "A data.frame: 6 × 5\n",
       "\\begin{tabular}{r|lllll}\n",
       "  & unt48.translation & tgfb48.translation & log2FCunt48VStgfb48.translation & FDRunt48VStgfb48.translation & Punt48VStgfb48.translation\\\\\n",
       "  & <dbl> & <dbl> & <dbl> & <dbl> & <dbl>\\\\\n",
       "\\hline\n",
       "\tActb &  9.0693462 & 9.471076 &  0.401730 & 0 & 0\\\\\n",
       "\tActn1 &  4.7529615 & 6.419199 &  1.666237 & 0 & 0\\\\\n",
       "\tAdam8 &  1.3825386 & 3.730572 &  2.348033 & 0 & 0\\\\\n",
       "\tAdgrg1 &  3.5475901 & 4.875399 &  1.327808 & 0 & 0\\\\\n",
       "\tAk1 & -0.6852402 & 4.533343 &  5.218583 & 0 & 0\\\\\n",
       "\tAldoa &  6.7594436 & 5.638770 & -1.120674 & 0 & 0\\\\\n",
       "\\end{tabular}\n"
      ],
      "text/markdown": [
       "\n",
       "A data.frame: 6 × 5\n",
       "\n",
       "| <!--/--> | unt48.translation &lt;dbl&gt; | tgfb48.translation &lt;dbl&gt; | log2FCunt48VStgfb48.translation &lt;dbl&gt; | FDRunt48VStgfb48.translation &lt;dbl&gt; | Punt48VStgfb48.translation &lt;dbl&gt; |\n",
       "|---|---|---|---|---|---|\n",
       "| Actb |  9.0693462 | 9.471076 |  0.401730 | 0 | 0 |\n",
       "| Actn1 |  4.7529615 | 6.419199 |  1.666237 | 0 | 0 |\n",
       "| Adam8 |  1.3825386 | 3.730572 |  2.348033 | 0 | 0 |\n",
       "| Adgrg1 |  3.5475901 | 4.875399 |  1.327808 | 0 | 0 |\n",
       "| Ak1 | -0.6852402 | 4.533343 |  5.218583 | 0 | 0 |\n",
       "| Aldoa |  6.7594436 | 5.638770 | -1.120674 | 0 | 0 |\n",
       "\n"
      ],
      "text/plain": [
       "       unt48.translation tgfb48.translation log2FCunt48VStgfb48.translation\n",
       "Actb    9.0693462        9.471076            0.401730                      \n",
       "Actn1   4.7529615        6.419199            1.666237                      \n",
       "Adam8   1.3825386        3.730572            2.348033                      \n",
       "Adgrg1  3.5475901        4.875399            1.327808                      \n",
       "Ak1    -0.6852402        4.533343            5.218583                      \n",
       "Aldoa   6.7594436        5.638770           -1.120674                      \n",
       "       FDRunt48VStgfb48.translation Punt48VStgfb48.translation\n",
       "Actb   0                            0                         \n",
       "Actn1  0                            0                         \n",
       "Adam8  0                            0                         \n",
       "Adgrg1 0                            0                         \n",
       "Ak1    0                            0                         \n",
       "Aldoa  0                            0                         "
      ]
     },
     "metadata": {},
     "output_type": "display_data"
    },
    {
     "data": {
      "text/html": [
       "<style>\n",
       ".list-inline {list-style: none; margin:0; padding: 0}\n",
       ".list-inline>li {display: inline-block}\n",
       ".list-inline>li:not(:last-child)::after {content: \"\\00b7\"; padding: 0 .5ex}\n",
       "</style>\n",
       "<ol class=list-inline><li>10343</li><li>5</li></ol>\n"
      ],
      "text/latex": [
       "\\begin{enumerate*}\n",
       "\\item 10343\n",
       "\\item 5\n",
       "\\end{enumerate*}\n"
      ],
      "text/markdown": [
       "1. 10343\n",
       "2. 5\n",
       "\n",
       "\n"
      ],
      "text/plain": [
       "[1] 10343     5"
      ]
     },
     "metadata": {},
     "output_type": "display_data"
    },
    {
     "name": "stdout",
     "output_type": "stream",
     "text": [
      "./out/limma-voom.mrna/161021.rdna_rn18s/NMuMG/161021.NMuMG.limma-voom.mrna.tgfb48--vs--tgfbCX5461100nm.all.txt.gz\n"
     ]
    },
    {
     "data": {
      "text/html": [
       "<table>\n",
       "<caption>A data.frame: 6 × 5</caption>\n",
       "<thead>\n",
       "\t<tr><th></th><th scope=col>tgfb48.translation</th><th scope=col>tgfbCX5461100nm.translation</th><th scope=col>log2FCtgfbVStgfbCX5461100nm.translation</th><th scope=col>FDRtgfbVStgfbCX5461100nm.translation</th><th scope=col>PtgfbVStgfbCX5461100nm.translation</th></tr>\n",
       "\t<tr><th></th><th scope=col>&lt;dbl&gt;</th><th scope=col>&lt;dbl&gt;</th><th scope=col>&lt;dbl&gt;</th><th scope=col>&lt;dbl&gt;</th><th scope=col>&lt;dbl&gt;</th></tr>\n",
       "</thead>\n",
       "<tbody>\n",
       "\t<tr><th scope=row>Actb</th><td>9.471076</td><td>9.155017</td><td>-0.3160591</td><td>0</td><td>0</td></tr>\n",
       "\t<tr><th scope=row>Atf3</th><td>5.118301</td><td>6.856082</td><td> 1.7377810</td><td>0</td><td>0</td></tr>\n",
       "\t<tr><th scope=row>B230208H11Rik</th><td>6.059496</td><td>4.778324</td><td>-1.2811722</td><td>0</td><td>0</td></tr>\n",
       "\t<tr><th scope=row>B2m</th><td>6.272014</td><td>6.994009</td><td> 0.7219950</td><td>0</td><td>0</td></tr>\n",
       "\t<tr><th scope=row>Btg2</th><td>5.509405</td><td>6.353397</td><td> 0.8439911</td><td>0</td><td>0</td></tr>\n",
       "\t<tr><th scope=row>Ccl2</th><td>5.869266</td><td>6.877332</td><td> 1.0080662</td><td>0</td><td>0</td></tr>\n",
       "</tbody>\n",
       "</table>\n"
      ],
      "text/latex": [
       "A data.frame: 6 × 5\n",
       "\\begin{tabular}{r|lllll}\n",
       "  & tgfb48.translation & tgfbCX5461100nm.translation & log2FCtgfbVStgfbCX5461100nm.translation & FDRtgfbVStgfbCX5461100nm.translation & PtgfbVStgfbCX5461100nm.translation\\\\\n",
       "  & <dbl> & <dbl> & <dbl> & <dbl> & <dbl>\\\\\n",
       "\\hline\n",
       "\tActb & 9.471076 & 9.155017 & -0.3160591 & 0 & 0\\\\\n",
       "\tAtf3 & 5.118301 & 6.856082 &  1.7377810 & 0 & 0\\\\\n",
       "\tB230208H11Rik & 6.059496 & 4.778324 & -1.2811722 & 0 & 0\\\\\n",
       "\tB2m & 6.272014 & 6.994009 &  0.7219950 & 0 & 0\\\\\n",
       "\tBtg2 & 5.509405 & 6.353397 &  0.8439911 & 0 & 0\\\\\n",
       "\tCcl2 & 5.869266 & 6.877332 &  1.0080662 & 0 & 0\\\\\n",
       "\\end{tabular}\n"
      ],
      "text/markdown": [
       "\n",
       "A data.frame: 6 × 5\n",
       "\n",
       "| <!--/--> | tgfb48.translation &lt;dbl&gt; | tgfbCX5461100nm.translation &lt;dbl&gt; | log2FCtgfbVStgfbCX5461100nm.translation &lt;dbl&gt; | FDRtgfbVStgfbCX5461100nm.translation &lt;dbl&gt; | PtgfbVStgfbCX5461100nm.translation &lt;dbl&gt; |\n",
       "|---|---|---|---|---|---|\n",
       "| Actb | 9.471076 | 9.155017 | -0.3160591 | 0 | 0 |\n",
       "| Atf3 | 5.118301 | 6.856082 |  1.7377810 | 0 | 0 |\n",
       "| B230208H11Rik | 6.059496 | 4.778324 | -1.2811722 | 0 | 0 |\n",
       "| B2m | 6.272014 | 6.994009 |  0.7219950 | 0 | 0 |\n",
       "| Btg2 | 5.509405 | 6.353397 |  0.8439911 | 0 | 0 |\n",
       "| Ccl2 | 5.869266 | 6.877332 |  1.0080662 | 0 | 0 |\n",
       "\n"
      ],
      "text/plain": [
       "              tgfb48.translation tgfbCX5461100nm.translation\n",
       "Actb          9.471076           9.155017                   \n",
       "Atf3          5.118301           6.856082                   \n",
       "B230208H11Rik 6.059496           4.778324                   \n",
       "B2m           6.272014           6.994009                   \n",
       "Btg2          5.509405           6.353397                   \n",
       "Ccl2          5.869266           6.877332                   \n",
       "              log2FCtgfbVStgfbCX5461100nm.translation\n",
       "Actb          -0.3160591                             \n",
       "Atf3           1.7377810                             \n",
       "B230208H11Rik -1.2811722                             \n",
       "B2m            0.7219950                             \n",
       "Btg2           0.8439911                             \n",
       "Ccl2           1.0080662                             \n",
       "              FDRtgfbVStgfbCX5461100nm.translation\n",
       "Actb          0                                   \n",
       "Atf3          0                                   \n",
       "B230208H11Rik 0                                   \n",
       "B2m           0                                   \n",
       "Btg2          0                                   \n",
       "Ccl2          0                                   \n",
       "              PtgfbVStgfbCX5461100nm.translation\n",
       "Actb          0                                 \n",
       "Atf3          0                                 \n",
       "B230208H11Rik 0                                 \n",
       "B2m           0                                 \n",
       "Btg2          0                                 \n",
       "Ccl2          0                                 "
      ]
     },
     "metadata": {},
     "output_type": "display_data"
    },
    {
     "data": {
      "text/html": [
       "<style>\n",
       ".list-inline {list-style: none; margin:0; padding: 0}\n",
       ".list-inline>li {display: inline-block}\n",
       ".list-inline>li:not(:last-child)::after {content: \"\\00b7\"; padding: 0 .5ex}\n",
       "</style>\n",
       "<ol class=list-inline><li>10343</li><li>5</li></ol>\n"
      ],
      "text/latex": [
       "\\begin{enumerate*}\n",
       "\\item 10343\n",
       "\\item 5\n",
       "\\end{enumerate*}\n"
      ],
      "text/markdown": [
       "1. 10343\n",
       "2. 5\n",
       "\n",
       "\n"
      ],
      "text/plain": [
       "[1] 10343     5"
      ]
     },
     "metadata": {},
     "output_type": "display_data"
    },
    {
     "data": {
      "text/html": [
       "<table>\n",
       "<caption>A data.frame: 6 × 12</caption>\n",
       "<thead>\n",
       "\t<tr><th></th><th scope=col>unt48.translation</th><th scope=col>tgfb48.translation</th><th scope=col>tgfbCX5461100nm.translation</th><th scope=col>log2FCunt48VStgfb48.translation</th><th scope=col>FDRunt48VStgfb48.translation</th><th scope=col>Punt48VStgfb48.translation</th><th scope=col>log2FCtgfbVStgfbCX5461100nm.translation</th><th scope=col>FDRtgfbVStgfbCX5461100nm.translation</th><th scope=col>PtgfbVStgfbCX5461100nm.translation</th><th scope=col>unt48.tgfb48.DEtranslation</th><th scope=col>tgfb48.tgfbCX5461100nm.DEtranslation</th><th scope=col>reversible.translation</th></tr>\n",
       "\t<tr><th></th><th scope=col>&lt;dbl&gt;</th><th scope=col>&lt;dbl&gt;</th><th scope=col>&lt;dbl&gt;</th><th scope=col>&lt;dbl&gt;</th><th scope=col>&lt;dbl&gt;</th><th scope=col>&lt;dbl&gt;</th><th scope=col>&lt;dbl&gt;</th><th scope=col>&lt;dbl&gt;</th><th scope=col>&lt;dbl&gt;</th><th scope=col>&lt;chr&gt;</th><th scope=col>&lt;chr&gt;</th><th scope=col>&lt;chr&gt;</th></tr>\n",
       "</thead>\n",
       "<tbody>\n",
       "\t<tr><th scope=row>0610009B22Rik</th><td> 1.4699579</td><td> 1.1791783</td><td> 2.2156391</td><td>-0.2907796</td><td>0.5964922</td><td>0.38680006</td><td> 1.03646083</td><td>0.02002003</td><td>0.002253052</td><td>notSig</td><td>up    </td><td>notSig</td></tr>\n",
       "\t<tr><th scope=row>0610010F05Rik</th><td> 0.3837540</td><td> 0.6242094</td><td>-0.1382724</td><td> 0.2404554</td><td>0.7624600</td><td>0.59687073</td><td>-0.76248178</td><td>0.36051466</td><td>0.155805910</td><td>notSig</td><td>notSig</td><td>notSig</td></tr>\n",
       "\t<tr><th scope=row>0610012G03Rik</th><td> 2.0402057</td><td> 1.5075815</td><td> 1.5199931</td><td>-0.5326242</td><td>0.2004935</td><td>0.07022991</td><td> 0.01241152</td><td>0.98882154</td><td>0.970293622</td><td>notSig</td><td>notSig</td><td>notSig</td></tr>\n",
       "\t<tr><th scope=row>0610040J01Rik</th><td>-0.9933001</td><td>-1.8930848</td><td>-1.9545279</td><td>-0.8997847</td><td>0.5090293</td><td>0.29465928</td><td>-0.06144307</td><td>0.97795512</td><td>0.950913146</td><td>notSig</td><td>notSig</td><td>notSig</td></tr>\n",
       "\t<tr><th scope=row>1110002E22Rik</th><td>-0.1409433</td><td>-0.5588888</td><td>-3.3332046</td><td>-0.4179455</td><td>0.6805423</td><td>0.48861134</td><td>-2.77431585</td><td>0.04079412</td><td>0.006152840</td><td>notSig</td><td>down  </td><td>notSig</td></tr>\n",
       "\t<tr><th scope=row>1110002L01Rik</th><td>-0.6420859</td><td>-0.8959827</td><td>-0.7116839</td><td>-0.2538969</td><td>0.8454341</td><td>0.71661232</td><td> 0.18429884</td><td>0.90322779</td><td>0.803521505</td><td>notSig</td><td>notSig</td><td>notSig</td></tr>\n",
       "</tbody>\n",
       "</table>\n"
      ],
      "text/latex": [
       "A data.frame: 6 × 12\n",
       "\\begin{tabular}{r|llllllllllll}\n",
       "  & unt48.translation & tgfb48.translation & tgfbCX5461100nm.translation & log2FCunt48VStgfb48.translation & FDRunt48VStgfb48.translation & Punt48VStgfb48.translation & log2FCtgfbVStgfbCX5461100nm.translation & FDRtgfbVStgfbCX5461100nm.translation & PtgfbVStgfbCX5461100nm.translation & unt48.tgfb48.DEtranslation & tgfb48.tgfbCX5461100nm.DEtranslation & reversible.translation\\\\\n",
       "  & <dbl> & <dbl> & <dbl> & <dbl> & <dbl> & <dbl> & <dbl> & <dbl> & <dbl> & <chr> & <chr> & <chr>\\\\\n",
       "\\hline\n",
       "\t0610009B22Rik &  1.4699579 &  1.1791783 &  2.2156391 & -0.2907796 & 0.5964922 & 0.38680006 &  1.03646083 & 0.02002003 & 0.002253052 & notSig & up     & notSig\\\\\n",
       "\t0610010F05Rik &  0.3837540 &  0.6242094 & -0.1382724 &  0.2404554 & 0.7624600 & 0.59687073 & -0.76248178 & 0.36051466 & 0.155805910 & notSig & notSig & notSig\\\\\n",
       "\t0610012G03Rik &  2.0402057 &  1.5075815 &  1.5199931 & -0.5326242 & 0.2004935 & 0.07022991 &  0.01241152 & 0.98882154 & 0.970293622 & notSig & notSig & notSig\\\\\n",
       "\t0610040J01Rik & -0.9933001 & -1.8930848 & -1.9545279 & -0.8997847 & 0.5090293 & 0.29465928 & -0.06144307 & 0.97795512 & 0.950913146 & notSig & notSig & notSig\\\\\n",
       "\t1110002E22Rik & -0.1409433 & -0.5588888 & -3.3332046 & -0.4179455 & 0.6805423 & 0.48861134 & -2.77431585 & 0.04079412 & 0.006152840 & notSig & down   & notSig\\\\\n",
       "\t1110002L01Rik & -0.6420859 & -0.8959827 & -0.7116839 & -0.2538969 & 0.8454341 & 0.71661232 &  0.18429884 & 0.90322779 & 0.803521505 & notSig & notSig & notSig\\\\\n",
       "\\end{tabular}\n"
      ],
      "text/markdown": [
       "\n",
       "A data.frame: 6 × 12\n",
       "\n",
       "| <!--/--> | unt48.translation &lt;dbl&gt; | tgfb48.translation &lt;dbl&gt; | tgfbCX5461100nm.translation &lt;dbl&gt; | log2FCunt48VStgfb48.translation &lt;dbl&gt; | FDRunt48VStgfb48.translation &lt;dbl&gt; | Punt48VStgfb48.translation &lt;dbl&gt; | log2FCtgfbVStgfbCX5461100nm.translation &lt;dbl&gt; | FDRtgfbVStgfbCX5461100nm.translation &lt;dbl&gt; | PtgfbVStgfbCX5461100nm.translation &lt;dbl&gt; | unt48.tgfb48.DEtranslation &lt;chr&gt; | tgfb48.tgfbCX5461100nm.DEtranslation &lt;chr&gt; | reversible.translation &lt;chr&gt; |\n",
       "|---|---|---|---|---|---|---|---|---|---|---|---|---|\n",
       "| 0610009B22Rik |  1.4699579 |  1.1791783 |  2.2156391 | -0.2907796 | 0.5964922 | 0.38680006 |  1.03646083 | 0.02002003 | 0.002253052 | notSig | up     | notSig |\n",
       "| 0610010F05Rik |  0.3837540 |  0.6242094 | -0.1382724 |  0.2404554 | 0.7624600 | 0.59687073 | -0.76248178 | 0.36051466 | 0.155805910 | notSig | notSig | notSig |\n",
       "| 0610012G03Rik |  2.0402057 |  1.5075815 |  1.5199931 | -0.5326242 | 0.2004935 | 0.07022991 |  0.01241152 | 0.98882154 | 0.970293622 | notSig | notSig | notSig |\n",
       "| 0610040J01Rik | -0.9933001 | -1.8930848 | -1.9545279 | -0.8997847 | 0.5090293 | 0.29465928 | -0.06144307 | 0.97795512 | 0.950913146 | notSig | notSig | notSig |\n",
       "| 1110002E22Rik | -0.1409433 | -0.5588888 | -3.3332046 | -0.4179455 | 0.6805423 | 0.48861134 | -2.77431585 | 0.04079412 | 0.006152840 | notSig | down   | notSig |\n",
       "| 1110002L01Rik | -0.6420859 | -0.8959827 | -0.7116839 | -0.2538969 | 0.8454341 | 0.71661232 |  0.18429884 | 0.90322779 | 0.803521505 | notSig | notSig | notSig |\n",
       "\n"
      ],
      "text/plain": [
       "              unt48.translation tgfb48.translation tgfbCX5461100nm.translation\n",
       "0610009B22Rik  1.4699579         1.1791783          2.2156391                 \n",
       "0610010F05Rik  0.3837540         0.6242094         -0.1382724                 \n",
       "0610012G03Rik  2.0402057         1.5075815          1.5199931                 \n",
       "0610040J01Rik -0.9933001        -1.8930848         -1.9545279                 \n",
       "1110002E22Rik -0.1409433        -0.5588888         -3.3332046                 \n",
       "1110002L01Rik -0.6420859        -0.8959827         -0.7116839                 \n",
       "              log2FCunt48VStgfb48.translation FDRunt48VStgfb48.translation\n",
       "0610009B22Rik -0.2907796                      0.5964922                   \n",
       "0610010F05Rik  0.2404554                      0.7624600                   \n",
       "0610012G03Rik -0.5326242                      0.2004935                   \n",
       "0610040J01Rik -0.8997847                      0.5090293                   \n",
       "1110002E22Rik -0.4179455                      0.6805423                   \n",
       "1110002L01Rik -0.2538969                      0.8454341                   \n",
       "              Punt48VStgfb48.translation\n",
       "0610009B22Rik 0.38680006                \n",
       "0610010F05Rik 0.59687073                \n",
       "0610012G03Rik 0.07022991                \n",
       "0610040J01Rik 0.29465928                \n",
       "1110002E22Rik 0.48861134                \n",
       "1110002L01Rik 0.71661232                \n",
       "              log2FCtgfbVStgfbCX5461100nm.translation\n",
       "0610009B22Rik  1.03646083                            \n",
       "0610010F05Rik -0.76248178                            \n",
       "0610012G03Rik  0.01241152                            \n",
       "0610040J01Rik -0.06144307                            \n",
       "1110002E22Rik -2.77431585                            \n",
       "1110002L01Rik  0.18429884                            \n",
       "              FDRtgfbVStgfbCX5461100nm.translation\n",
       "0610009B22Rik 0.02002003                          \n",
       "0610010F05Rik 0.36051466                          \n",
       "0610012G03Rik 0.98882154                          \n",
       "0610040J01Rik 0.97795512                          \n",
       "1110002E22Rik 0.04079412                          \n",
       "1110002L01Rik 0.90322779                          \n",
       "              PtgfbVStgfbCX5461100nm.translation unt48.tgfb48.DEtranslation\n",
       "0610009B22Rik 0.002253052                        notSig                    \n",
       "0610010F05Rik 0.155805910                        notSig                    \n",
       "0610012G03Rik 0.970293622                        notSig                    \n",
       "0610040J01Rik 0.950913146                        notSig                    \n",
       "1110002E22Rik 0.006152840                        notSig                    \n",
       "1110002L01Rik 0.803521505                        notSig                    \n",
       "              tgfb48.tgfbCX5461100nm.DEtranslation reversible.translation\n",
       "0610009B22Rik up                                   notSig                \n",
       "0610010F05Rik notSig                               notSig                \n",
       "0610012G03Rik notSig                               notSig                \n",
       "0610040J01Rik notSig                               notSig                \n",
       "1110002E22Rik down                                 notSig                \n",
       "1110002L01Rik notSig                               notSig                "
      ]
     },
     "metadata": {},
     "output_type": "display_data"
    },
    {
     "data": {
      "text/html": [
       "<style>\n",
       ".list-inline {list-style: none; margin:0; padding: 0}\n",
       ".list-inline>li {display: inline-block}\n",
       ".list-inline>li:not(:last-child)::after {content: \"\\00b7\"; padding: 0 .5ex}\n",
       "</style>\n",
       "<ol class=list-inline><li>10343</li><li>12</li></ol>\n"
      ],
      "text/latex": [
       "\\begin{enumerate*}\n",
       "\\item 10343\n",
       "\\item 12\n",
       "\\end{enumerate*}\n"
      ],
      "text/markdown": [
       "1. 10343\n",
       "2. 12\n",
       "\n",
       "\n"
      ],
      "text/plain": [
       "[1] 10343    12"
      ]
     },
     "metadata": {},
     "output_type": "display_data"
    }
   ],
   "source": [
    "\n",
    "fname_in <- sprintf(\"%s/161021.NMuMG.%s.log2cpm.txt.gz\", dir_riboseq, strdir)\n",
    "verb('%s\\n', fname_in)\n",
    "df_log2cpm <- read.table(file=fname_in, \n",
    "                header=TRUE, sep=\"\\t\", row.names=1,\n",
    "                quote=\"\", comment.char=\"#\", stringsAsFactors=F)\n",
    "colnames(df_log2cpm) <- c('unt48.translation','tgfb48.translation','tgfbCX5461100nm.translation')\n",
    "\n",
    "if (!is.null(pattern_remove_gene)) {\n",
    "  dim(df_log2cpm)\n",
    "  df_log2cpm <- df_log2cpm[!grepl(pattern_remove_gene, rownames(df_log2cpm)),]\n",
    "}\n",
    "head(df_log2cpm)\n",
    "dim(df_log2cpm)\n",
    "\n",
    "fname_in <- sprintf(\"%s/161021.NMuMG.%s.unt48--vs--tgfb48.all.txt.gz\", dir_riboseq, strdir)\n",
    "verb('%s\\n', fname_in)\n",
    "df_ribo <- read.table(file=fname_in, \n",
    "                header=TRUE, sep=\"\\t\", row.names=1,\n",
    "                quote=\"\", comment.char=\"#\", stringsAsFactors=F)\n",
    "colnames(df_ribo) <- c('unt48.translation','tgfb48.translation',\n",
    "                       'log2FCunt48VStgfb48.translation','FDRunt48VStgfb48.translation',\n",
    "                       'Punt48VStgfb48.translation')\n",
    "\n",
    "if (!is.null(pattern_remove_gene)) {\n",
    "  dim(df_ribo)\n",
    "  df_ribo <- df_ribo[!grepl(pattern_remove_gene, rownames(df_ribo)),]\n",
    "}\n",
    "head(df_ribo)\n",
    "dim(df_ribo)\n",
    "\n",
    "fname_in <- sprintf(\"%s/161021.NMuMG.%s.tgfb48--vs--tgfbCX5461100nm.all.txt.gz\", dir_riboseq, strdir)\n",
    "verb('%s\\n', fname_in)\n",
    "df_ribo_cx <- read.table(file=fname_in, \n",
    "                header=TRUE, sep=\"\\t\", row.names=1,\n",
    "                quote=\"\", comment.char=\"#\", stringsAsFactors=F)\n",
    "colnames(df_ribo_cx) <- c('tgfb48.translation','tgfbCX5461100nm.translation',\n",
    "                          'log2FCtgfbVStgfbCX5461100nm.translation','FDRtgfbVStgfbCX5461100nm.translation',\n",
    "                          'PtgfbVStgfbCX5461100nm.translation')\n",
    "\n",
    "if (!is.null(pattern_remove_gene)) {\n",
    "  dim(df_ribo_cx)\n",
    "  df_ribo_cx <- df_ribo_cx[!grepl(pattern_remove_gene, rownames(df_ribo_cx)),]\n",
    "}\n",
    "head(df_ribo_cx)\n",
    "dim(df_ribo_cx)\n",
    "\n",
    "# https://adairama.wordpress.com/2017/11/22/how-to-merge-multiple-datasets-in-r-based-on-row-names/\n",
    "mylist <- list(df_log2cpm[,c('unt48.translation','tgfb48.translation','tgfbCX5461100nm.translation')],\n",
    "                df_ribo[,c('log2FCunt48VStgfb48.translation',\n",
    "                           'FDRunt48VStgfb48.translation',\n",
    "                           'Punt48VStgfb48.translation')],\n",
    "                df_ribo_cx[,c('log2FCtgfbVStgfbCX5461100nm.translation',\n",
    "                           'FDRtgfbVStgfbCX5461100nm.translation',\n",
    "                           'PtgfbVStgfbCX5461100nm.translation')])\n",
    "for(i in 1:length(mylist)){\n",
    "  #colnames(mylist[[i]]) <- paste0( names(mylist)[i], \"_\", colnames(mylist[[i]]) )\n",
    "  mylist[[i]]$ROWNAMES  <- rownames(mylist[[i]])\n",
    "}\n",
    "df_translation <- plyr::join_all(mylist, by=\"ROWNAMES\", type=\"full\")\n",
    "rownames(df_translation) <- df_translation$ROWNAMES; df_translation$ROWNAMES <- NULL\n",
    "\n",
    "df_translation$unt48.tgfb48.DEtranslation <- 'notSig'\n",
    "df_translation$tgfb48.tgfbCX5461100nm.DEtranslation <- 'notSig'\n",
    "df_translation$reversible.translation <- 'notSig'\n",
    "\n",
    "f_up <- df_translation$log2FCunt48VStgfb48.translation > th_log2fc & df_translation$FDRunt48VStgfb48.translation < th_adj_pvalue\n",
    "f_dn <- df_translation$log2FCtgfbVStgfbCX5461100nm.translation < -th_log2fc & df_translation$FDRtgfbVStgfbCX5461100nm.translation < th_adj_pvalue\n",
    "df_translation$unt48.tgfb48.DEtranslation[f_up] <- 'up'\n",
    "df_translation$tgfb48.tgfbCX5461100nm.DEtranslation[f_dn] <- 'down'\n",
    "df_translation$reversible.translation[f_up & f_dn] <- 'upDown'\n",
    "\n",
    "f_dn <- df_translation$log2FCunt48VStgfb48.translation < -th_log2fc & df_translation$FDRunt48VStgfb48.translation < th_adj_pvalue\n",
    "f_up <- df_translation$log2FCtgfbVStgfbCX5461100nm.translation > th_log2fc & df_translation$FDRtgfbVStgfbCX5461100nm.translation < th_adj_pvalue\n",
    "df_translation$unt48.tgfb48.DEtranslation[f_dn] <- 'down'\n",
    "df_translation$tgfb48.tgfbCX5461100nm.DEtranslation[f_up] <- 'up'\n",
    "df_translation$reversible.translation[f_dn & f_up] <- 'downUp'\n",
    "\n",
    "head(df_translation)\n",
    "dim(df_translation)"
   ]
  },
  {
   "cell_type": "markdown",
   "metadata": {},
   "source": [
    "# df_all"
   ]
  },
  {
   "cell_type": "code",
   "execution_count": 78,
   "metadata": {},
   "outputs": [
    {
     "data": {
      "text/html": [
       "<table>\n",
       "<caption>A matrix: 27 × 3 of type chr</caption>\n",
       "<thead>\n",
       "\t<tr><th></th><th scope=col>1</th><th scope=col>4</th><th scope=col>7</th></tr>\n",
       "</thead>\n",
       "<tbody>\n",
       "\t<tr><th scope=row>seqnames</th><td>1                 </td><td>1                 </td><td>1                 </td></tr>\n",
       "\t<tr><th scope=row>start</th><td>3073253           </td><td>3102016           </td><td>3205901           </td></tr>\n",
       "\t<tr><th scope=row>end</th><td>3074322           </td><td>3102125           </td><td>3671498           </td></tr>\n",
       "\t<tr><th scope=row>width</th><td>  1070            </td><td>   110            </td><td>465598            </td></tr>\n",
       "\t<tr><th scope=row>strand</th><td>+                 </td><td>+                 </td><td>-                 </td></tr>\n",
       "\t<tr><th scope=row>source</th><td>havana            </td><td>ensembl           </td><td>ensembl_havana    </td></tr>\n",
       "\t<tr><th scope=row>type</th><td>gene              </td><td>gene              </td><td>gene              </td></tr>\n",
       "\t<tr><th scope=row>score</th><td>NA                </td><td>NA                </td><td>NA                </td></tr>\n",
       "\t<tr><th scope=row>phase</th><td>NA                </td><td>NA                </td><td>NA                </td></tr>\n",
       "\t<tr><th scope=row>gene_id</th><td>ENSMUSG00000102693</td><td>ENSMUSG00000064842</td><td>ENSMUSG00000051951</td></tr>\n",
       "\t<tr><th scope=row>gene_version</th><td>1                 </td><td>1                 </td><td>5                 </td></tr>\n",
       "\t<tr><th scope=row>gene_name</th><td>4933401J01Rik     </td><td>Gm26206           </td><td>Xkr4              </td></tr>\n",
       "\t<tr><th scope=row>gene_source</th><td>havana            </td><td>ensembl           </td><td>ensembl_havana    </td></tr>\n",
       "\t<tr><th scope=row>gene_biotype</th><td>TEC               </td><td>snRNA             </td><td>protein_coding    </td></tr>\n",
       "\t<tr><th scope=row>transcript_id</th><td>NA                </td><td>NA                </td><td>NA                </td></tr>\n",
       "\t<tr><th scope=row>transcript_version</th><td>NA                </td><td>NA                </td><td>NA                </td></tr>\n",
       "\t<tr><th scope=row>transcript_name</th><td>NA                </td><td>NA                </td><td>NA                </td></tr>\n",
       "\t<tr><th scope=row>transcript_source</th><td>NA                </td><td>NA                </td><td>NA                </td></tr>\n",
       "\t<tr><th scope=row>transcript_biotype</th><td>NA                </td><td>NA                </td><td>NA                </td></tr>\n",
       "\t<tr><th scope=row>tag</th><td>NA                </td><td>NA                </td><td>NA                </td></tr>\n",
       "\t<tr><th scope=row>transcript_support_level</th><td>NA                </td><td>NA                </td><td>NA                </td></tr>\n",
       "\t<tr><th scope=row>exon_number</th><td>NA                </td><td>NA                </td><td>NA                </td></tr>\n",
       "\t<tr><th scope=row>exon_id</th><td>NA                </td><td>NA                </td><td>NA                </td></tr>\n",
       "\t<tr><th scope=row>exon_version</th><td>NA                </td><td>NA                </td><td>NA                </td></tr>\n",
       "\t<tr><th scope=row>ccds_id</th><td>NA                </td><td>NA                </td><td>NA                </td></tr>\n",
       "\t<tr><th scope=row>protein_id</th><td>NA                </td><td>NA                </td><td>NA                </td></tr>\n",
       "\t<tr><th scope=row>protein_version</th><td>NA                </td><td>NA                </td><td>NA                </td></tr>\n",
       "</tbody>\n",
       "</table>\n"
      ],
      "text/latex": [
       "A matrix: 27 × 3 of type chr\n",
       "\\begin{tabular}{r|lll}\n",
       "  & 1 & 4 & 7\\\\\n",
       "\\hline\n",
       "\tseqnames & 1                  & 1                  & 1                 \\\\\n",
       "\tstart & 3073253            & 3102016            & 3205901           \\\\\n",
       "\tend & 3074322            & 3102125            & 3671498           \\\\\n",
       "\twidth &   1070             &    110             & 465598            \\\\\n",
       "\tstrand & +                  & +                  & -                 \\\\\n",
       "\tsource & havana             & ensembl            & ensembl\\_havana    \\\\\n",
       "\ttype & gene               & gene               & gene              \\\\\n",
       "\tscore & NA                 & NA                 & NA                \\\\\n",
       "\tphase & NA                 & NA                 & NA                \\\\\n",
       "\tgene\\_id & ENSMUSG00000102693 & ENSMUSG00000064842 & ENSMUSG00000051951\\\\\n",
       "\tgene\\_version & 1                  & 1                  & 5                 \\\\\n",
       "\tgene\\_name & 4933401J01Rik      & Gm26206            & Xkr4              \\\\\n",
       "\tgene\\_source & havana             & ensembl            & ensembl\\_havana    \\\\\n",
       "\tgene\\_biotype & TEC                & snRNA              & protein\\_coding    \\\\\n",
       "\ttranscript\\_id & NA                 & NA                 & NA                \\\\\n",
       "\ttranscript\\_version & NA                 & NA                 & NA                \\\\\n",
       "\ttranscript\\_name & NA                 & NA                 & NA                \\\\\n",
       "\ttranscript\\_source & NA                 & NA                 & NA                \\\\\n",
       "\ttranscript\\_biotype & NA                 & NA                 & NA                \\\\\n",
       "\ttag & NA                 & NA                 & NA                \\\\\n",
       "\ttranscript\\_support\\_level & NA                 & NA                 & NA                \\\\\n",
       "\texon\\_number & NA                 & NA                 & NA                \\\\\n",
       "\texon\\_id & NA                 & NA                 & NA                \\\\\n",
       "\texon\\_version & NA                 & NA                 & NA                \\\\\n",
       "\tccds\\_id & NA                 & NA                 & NA                \\\\\n",
       "\tprotein\\_id & NA                 & NA                 & NA                \\\\\n",
       "\tprotein\\_version & NA                 & NA                 & NA                \\\\\n",
       "\\end{tabular}\n"
      ],
      "text/markdown": [
       "\n",
       "A matrix: 27 × 3 of type chr\n",
       "\n",
       "| <!--/--> | 1 | 4 | 7 |\n",
       "|---|---|---|---|\n",
       "| seqnames | 1                  | 1                  | 1                  |\n",
       "| start | 3073253            | 3102016            | 3205901            |\n",
       "| end | 3074322            | 3102125            | 3671498            |\n",
       "| width |   1070             |    110             | 465598             |\n",
       "| strand | +                  | +                  | -                  |\n",
       "| source | havana             | ensembl            | ensembl_havana     |\n",
       "| type | gene               | gene               | gene               |\n",
       "| score | NA                 | NA                 | NA                 |\n",
       "| phase | NA                 | NA                 | NA                 |\n",
       "| gene_id | ENSMUSG00000102693 | ENSMUSG00000064842 | ENSMUSG00000051951 |\n",
       "| gene_version | 1                  | 1                  | 5                  |\n",
       "| gene_name | 4933401J01Rik      | Gm26206            | Xkr4               |\n",
       "| gene_source | havana             | ensembl            | ensembl_havana     |\n",
       "| gene_biotype | TEC                | snRNA              | protein_coding     |\n",
       "| transcript_id | NA                 | NA                 | NA                 |\n",
       "| transcript_version | NA                 | NA                 | NA                 |\n",
       "| transcript_name | NA                 | NA                 | NA                 |\n",
       "| transcript_source | NA                 | NA                 | NA                 |\n",
       "| transcript_biotype | NA                 | NA                 | NA                 |\n",
       "| tag | NA                 | NA                 | NA                 |\n",
       "| transcript_support_level | NA                 | NA                 | NA                 |\n",
       "| exon_number | NA                 | NA                 | NA                 |\n",
       "| exon_id | NA                 | NA                 | NA                 |\n",
       "| exon_version | NA                 | NA                 | NA                 |\n",
       "| ccds_id | NA                 | NA                 | NA                 |\n",
       "| protein_id | NA                 | NA                 | NA                 |\n",
       "| protein_version | NA                 | NA                 | NA                 |\n",
       "\n"
      ],
      "text/plain": [
       "                         1                  4                 \n",
       "seqnames                 1                  1                 \n",
       "start                    3073253            3102016           \n",
       "end                      3074322            3102125           \n",
       "width                      1070                110            \n",
       "strand                   +                  +                 \n",
       "source                   havana             ensembl           \n",
       "type                     gene               gene              \n",
       "score                    NA                 NA                \n",
       "phase                    NA                 NA                \n",
       "gene_id                  ENSMUSG00000102693 ENSMUSG00000064842\n",
       "gene_version             1                  1                 \n",
       "gene_name                4933401J01Rik      Gm26206           \n",
       "gene_source              havana             ensembl           \n",
       "gene_biotype             TEC                snRNA             \n",
       "transcript_id            NA                 NA                \n",
       "transcript_version       NA                 NA                \n",
       "transcript_name          NA                 NA                \n",
       "transcript_source        NA                 NA                \n",
       "transcript_biotype       NA                 NA                \n",
       "tag                      NA                 NA                \n",
       "transcript_support_level NA                 NA                \n",
       "exon_number              NA                 NA                \n",
       "exon_id                  NA                 NA                \n",
       "exon_version             NA                 NA                \n",
       "ccds_id                  NA                 NA                \n",
       "protein_id               NA                 NA                \n",
       "protein_version          NA                 NA                \n",
       "                         7                 \n",
       "seqnames                 1                 \n",
       "start                    3205901           \n",
       "end                      3671498           \n",
       "width                    465598            \n",
       "strand                   -                 \n",
       "source                   ensembl_havana    \n",
       "type                     gene              \n",
       "score                    NA                \n",
       "phase                    NA                \n",
       "gene_id                  ENSMUSG00000051951\n",
       "gene_version             5                 \n",
       "gene_name                Xkr4              \n",
       "gene_source              ensembl_havana    \n",
       "gene_biotype             protein_coding    \n",
       "transcript_id            NA                \n",
       "transcript_version       NA                \n",
       "transcript_name          NA                \n",
       "transcript_source        NA                \n",
       "transcript_biotype       NA                \n",
       "tag                      NA                \n",
       "transcript_support_level NA                \n",
       "exon_number              NA                \n",
       "exon_id                  NA                \n",
       "exon_version             NA                \n",
       "ccds_id                  NA                \n",
       "protein_id               NA                \n",
       "protein_version          NA                "
      ]
     },
     "metadata": {},
     "output_type": "display_data"
    }
   ],
   "source": [
    "t(df_gtf[1:3,])"
   ]
  },
  {
   "cell_type": "code",
   "execution_count": 79,
   "metadata": {},
   "outputs": [
    {
     "data": {
      "text/html": [
       "<table>\n",
       "<caption>A data.frame: 6 × 31</caption>\n",
       "<thead>\n",
       "\t<tr><th></th><th scope=col>seqnames</th><th scope=col>start</th><th scope=col>end</th><th scope=col>width</th><th scope=col>strand</th><th scope=col>source</th><th scope=col>unt48.transcription</th><th scope=col>tgfb48.transcription</th><th scope=col>tgfbCX5461100nm.transcription</th><th scope=col>log2FCunt48VStgfb48.transcription</th><th scope=col>⋯</th><th scope=col>log2FCunt48VStgfb48.translation</th><th scope=col>FDRunt48VStgfb48.translation</th><th scope=col>Punt48VStgfb48.translation</th><th scope=col>log2FCtgfbVStgfbCX5461100nm.translation</th><th scope=col>FDRtgfbVStgfbCX5461100nm.translation</th><th scope=col>PtgfbVStgfbCX5461100nm.translation</th><th scope=col>unt48.tgfb48.DEtranslation</th><th scope=col>tgfb48.tgfbCX5461100nm.DEtranslation</th><th scope=col>reversible.translation</th><th scope=col>biotype</th></tr>\n",
       "\t<tr><th></th><th scope=col>&lt;fct&gt;</th><th scope=col>&lt;int&gt;</th><th scope=col>&lt;int&gt;</th><th scope=col>&lt;int&gt;</th><th scope=col>&lt;fct&gt;</th><th scope=col>&lt;fct&gt;</th><th scope=col>&lt;dbl&gt;</th><th scope=col>&lt;dbl&gt;</th><th scope=col>&lt;dbl&gt;</th><th scope=col>&lt;dbl&gt;</th><th scope=col>⋯</th><th scope=col>&lt;dbl&gt;</th><th scope=col>&lt;dbl&gt;</th><th scope=col>&lt;dbl&gt;</th><th scope=col>&lt;dbl&gt;</th><th scope=col>&lt;dbl&gt;</th><th scope=col>&lt;dbl&gt;</th><th scope=col>&lt;chr&gt;</th><th scope=col>&lt;chr&gt;</th><th scope=col>&lt;chr&gt;</th><th scope=col>&lt;chr&gt;</th></tr>\n",
       "</thead>\n",
       "<tbody>\n",
       "\t<tr><th scope=row>0610009B22Rik</th><td>11</td><td> 51685386</td><td> 51688874</td><td> 3489</td><td>-</td><td>ensembl_havana</td><td> 1.378095</td><td> 0.5586290</td><td> 0.8116783</td><td>-0.81946578</td><td>⋯</td><td>-0.2907796</td><td>0.5964922</td><td>0.38680006</td><td> 1.03646083</td><td>0.02002003</td><td>0.002253052</td><td>notSig</td><td>up    </td><td>notSig</td><td>protein_coding</td></tr>\n",
       "\t<tr><th scope=row>0610009L18Rik</th><td>11</td><td>120348678</td><td>120351190</td><td> 2513</td><td>+</td><td>ensembl_havana</td><td>-2.252284</td><td>-3.1533015</td><td>-3.7140633</td><td>-0.90101716</td><td>⋯</td><td>        NA</td><td>       NA</td><td>        NA</td><td>         NA</td><td>        NA</td><td>         NA</td><td>NA    </td><td>NA    </td><td>NA    </td><td>lncRNA        </td></tr>\n",
       "\t<tr><th scope=row>0610010F05Rik</th><td>11</td><td> 23564961</td><td> 23633639</td><td>68679</td><td>-</td><td>ensembl_havana</td><td> 3.071791</td><td> 3.7414762</td><td> 3.6247997</td><td> 0.66968552</td><td>⋯</td><td> 0.2404554</td><td>0.7624600</td><td>0.59687073</td><td>-0.76248178</td><td>0.36051466</td><td>0.155805910</td><td>notSig</td><td>notSig</td><td>notSig</td><td>protein_coding</td></tr>\n",
       "\t<tr><th scope=row>0610012G03Rik</th><td>16</td><td> 31947050</td><td> 31948494</td><td> 1445</td><td>-</td><td>havana        </td><td> 2.057036</td><td> 1.8223029</td><td> 1.6342654</td><td>-0.23473296</td><td>⋯</td><td>-0.5326242</td><td>0.2004935</td><td>0.07022991</td><td> 0.01241152</td><td>0.98882154</td><td>0.970293622</td><td>notSig</td><td>notSig</td><td>notSig</td><td>protein_coding</td></tr>\n",
       "\t<tr><th scope=row>0610030E20Rik</th><td>6 </td><td> 72347317</td><td> 72353148</td><td> 5832</td><td>+</td><td>ensembl_havana</td><td> 1.809939</td><td> 1.7710470</td><td> 1.8676255</td><td>-0.03889221</td><td>⋯</td><td>        NA</td><td>       NA</td><td>        NA</td><td>         NA</td><td>        NA</td><td>         NA</td><td>NA    </td><td>NA    </td><td>NA    </td><td>protein_coding</td></tr>\n",
       "\t<tr><th scope=row>0610038B21Rik</th><td>8 </td><td> 77517056</td><td> 77523898</td><td> 6843</td><td>+</td><td>havana        </td><td>-1.771257</td><td>-0.9942376</td><td>-1.9819725</td><td> 0.77701890</td><td>⋯</td><td>        NA</td><td>       NA</td><td>        NA</td><td>         NA</td><td>        NA</td><td>         NA</td><td>NA    </td><td>NA    </td><td>NA    </td><td>lncRNA        </td></tr>\n",
       "</tbody>\n",
       "</table>\n"
      ],
      "text/latex": [
       "A data.frame: 6 × 31\n",
       "\\begin{tabular}{r|lllllllllllllllllllll}\n",
       "  & seqnames & start & end & width & strand & source & unt48.transcription & tgfb48.transcription & tgfbCX5461100nm.transcription & log2FCunt48VStgfb48.transcription & ⋯ & log2FCunt48VStgfb48.translation & FDRunt48VStgfb48.translation & Punt48VStgfb48.translation & log2FCtgfbVStgfbCX5461100nm.translation & FDRtgfbVStgfbCX5461100nm.translation & PtgfbVStgfbCX5461100nm.translation & unt48.tgfb48.DEtranslation & tgfb48.tgfbCX5461100nm.DEtranslation & reversible.translation & biotype\\\\\n",
       "  & <fct> & <int> & <int> & <int> & <fct> & <fct> & <dbl> & <dbl> & <dbl> & <dbl> & ⋯ & <dbl> & <dbl> & <dbl> & <dbl> & <dbl> & <dbl> & <chr> & <chr> & <chr> & <chr>\\\\\n",
       "\\hline\n",
       "\t0610009B22Rik & 11 &  51685386 &  51688874 &  3489 & - & ensembl\\_havana &  1.378095 &  0.5586290 &  0.8116783 & -0.81946578 & ⋯ & -0.2907796 & 0.5964922 & 0.38680006 &  1.03646083 & 0.02002003 & 0.002253052 & notSig & up     & notSig & protein\\_coding\\\\\n",
       "\t0610009L18Rik & 11 & 120348678 & 120351190 &  2513 & + & ensembl\\_havana & -2.252284 & -3.1533015 & -3.7140633 & -0.90101716 & ⋯ &         NA &        NA &         NA &          NA &         NA &          NA & NA     & NA     & NA     & lncRNA        \\\\\n",
       "\t0610010F05Rik & 11 &  23564961 &  23633639 & 68679 & - & ensembl\\_havana &  3.071791 &  3.7414762 &  3.6247997 &  0.66968552 & ⋯ &  0.2404554 & 0.7624600 & 0.59687073 & -0.76248178 & 0.36051466 & 0.155805910 & notSig & notSig & notSig & protein\\_coding\\\\\n",
       "\t0610012G03Rik & 16 &  31947050 &  31948494 &  1445 & - & havana         &  2.057036 &  1.8223029 &  1.6342654 & -0.23473296 & ⋯ & -0.5326242 & 0.2004935 & 0.07022991 &  0.01241152 & 0.98882154 & 0.970293622 & notSig & notSig & notSig & protein\\_coding\\\\\n",
       "\t0610030E20Rik & 6  &  72347317 &  72353148 &  5832 & + & ensembl\\_havana &  1.809939 &  1.7710470 &  1.8676255 & -0.03889221 & ⋯ &         NA &        NA &         NA &          NA &         NA &          NA & NA     & NA     & NA     & protein\\_coding\\\\\n",
       "\t0610038B21Rik & 8  &  77517056 &  77523898 &  6843 & + & havana         & -1.771257 & -0.9942376 & -1.9819725 &  0.77701890 & ⋯ &         NA &        NA &         NA &          NA &         NA &          NA & NA     & NA     & NA     & lncRNA        \\\\\n",
       "\\end{tabular}\n"
      ],
      "text/markdown": [
       "\n",
       "A data.frame: 6 × 31\n",
       "\n",
       "| <!--/--> | seqnames &lt;fct&gt; | start &lt;int&gt; | end &lt;int&gt; | width &lt;int&gt; | strand &lt;fct&gt; | source &lt;fct&gt; | unt48.transcription &lt;dbl&gt; | tgfb48.transcription &lt;dbl&gt; | tgfbCX5461100nm.transcription &lt;dbl&gt; | log2FCunt48VStgfb48.transcription &lt;dbl&gt; | ⋯ ⋯ | log2FCunt48VStgfb48.translation &lt;dbl&gt; | FDRunt48VStgfb48.translation &lt;dbl&gt; | Punt48VStgfb48.translation &lt;dbl&gt; | log2FCtgfbVStgfbCX5461100nm.translation &lt;dbl&gt; | FDRtgfbVStgfbCX5461100nm.translation &lt;dbl&gt; | PtgfbVStgfbCX5461100nm.translation &lt;dbl&gt; | unt48.tgfb48.DEtranslation &lt;chr&gt; | tgfb48.tgfbCX5461100nm.DEtranslation &lt;chr&gt; | reversible.translation &lt;chr&gt; | biotype &lt;chr&gt; |\n",
       "|---|---|---|---|---|---|---|---|---|---|---|---|---|---|---|---|---|---|---|---|---|---|\n",
       "| 0610009B22Rik | 11 |  51685386 |  51688874 |  3489 | - | ensembl_havana |  1.378095 |  0.5586290 |  0.8116783 | -0.81946578 | ⋯ | -0.2907796 | 0.5964922 | 0.38680006 |  1.03646083 | 0.02002003 | 0.002253052 | notSig | up     | notSig | protein_coding |\n",
       "| 0610009L18Rik | 11 | 120348678 | 120351190 |  2513 | + | ensembl_havana | -2.252284 | -3.1533015 | -3.7140633 | -0.90101716 | ⋯ |         NA |        NA |         NA |          NA |         NA |          NA | NA     | NA     | NA     | lncRNA         |\n",
       "| 0610010F05Rik | 11 |  23564961 |  23633639 | 68679 | - | ensembl_havana |  3.071791 |  3.7414762 |  3.6247997 |  0.66968552 | ⋯ |  0.2404554 | 0.7624600 | 0.59687073 | -0.76248178 | 0.36051466 | 0.155805910 | notSig | notSig | notSig | protein_coding |\n",
       "| 0610012G03Rik | 16 |  31947050 |  31948494 |  1445 | - | havana         |  2.057036 |  1.8223029 |  1.6342654 | -0.23473296 | ⋯ | -0.5326242 | 0.2004935 | 0.07022991 |  0.01241152 | 0.98882154 | 0.970293622 | notSig | notSig | notSig | protein_coding |\n",
       "| 0610030E20Rik | 6  |  72347317 |  72353148 |  5832 | + | ensembl_havana |  1.809939 |  1.7710470 |  1.8676255 | -0.03889221 | ⋯ |         NA |        NA |         NA |          NA |         NA |          NA | NA     | NA     | NA     | protein_coding |\n",
       "| 0610038B21Rik | 8  |  77517056 |  77523898 |  6843 | + | havana         | -1.771257 | -0.9942376 | -1.9819725 |  0.77701890 | ⋯ |         NA |        NA |         NA |          NA |         NA |          NA | NA     | NA     | NA     | lncRNA         |\n",
       "\n"
      ],
      "text/plain": [
       "              seqnames start     end       width strand source        \n",
       "0610009B22Rik 11        51685386  51688874  3489 -      ensembl_havana\n",
       "0610009L18Rik 11       120348678 120351190  2513 +      ensembl_havana\n",
       "0610010F05Rik 11        23564961  23633639 68679 -      ensembl_havana\n",
       "0610012G03Rik 16        31947050  31948494  1445 -      havana        \n",
       "0610030E20Rik 6         72347317  72353148  5832 +      ensembl_havana\n",
       "0610038B21Rik 8         77517056  77523898  6843 +      havana        \n",
       "              unt48.transcription tgfb48.transcription\n",
       "0610009B22Rik  1.378095            0.5586290          \n",
       "0610009L18Rik -2.252284           -3.1533015          \n",
       "0610010F05Rik  3.071791            3.7414762          \n",
       "0610012G03Rik  2.057036            1.8223029          \n",
       "0610030E20Rik  1.809939            1.7710470          \n",
       "0610038B21Rik -1.771257           -0.9942376          \n",
       "              tgfbCX5461100nm.transcription log2FCunt48VStgfb48.transcription ⋯\n",
       "0610009B22Rik  0.8116783                    -0.81946578                       ⋯\n",
       "0610009L18Rik -3.7140633                    -0.90101716                       ⋯\n",
       "0610010F05Rik  3.6247997                     0.66968552                       ⋯\n",
       "0610012G03Rik  1.6342654                    -0.23473296                       ⋯\n",
       "0610030E20Rik  1.8676255                    -0.03889221                       ⋯\n",
       "0610038B21Rik -1.9819725                     0.77701890                       ⋯\n",
       "              log2FCunt48VStgfb48.translation FDRunt48VStgfb48.translation\n",
       "0610009B22Rik -0.2907796                      0.5964922                   \n",
       "0610009L18Rik         NA                             NA                   \n",
       "0610010F05Rik  0.2404554                      0.7624600                   \n",
       "0610012G03Rik -0.5326242                      0.2004935                   \n",
       "0610030E20Rik         NA                             NA                   \n",
       "0610038B21Rik         NA                             NA                   \n",
       "              Punt48VStgfb48.translation\n",
       "0610009B22Rik 0.38680006                \n",
       "0610009L18Rik         NA                \n",
       "0610010F05Rik 0.59687073                \n",
       "0610012G03Rik 0.07022991                \n",
       "0610030E20Rik         NA                \n",
       "0610038B21Rik         NA                \n",
       "              log2FCtgfbVStgfbCX5461100nm.translation\n",
       "0610009B22Rik  1.03646083                            \n",
       "0610009L18Rik          NA                            \n",
       "0610010F05Rik -0.76248178                            \n",
       "0610012G03Rik  0.01241152                            \n",
       "0610030E20Rik          NA                            \n",
       "0610038B21Rik          NA                            \n",
       "              FDRtgfbVStgfbCX5461100nm.translation\n",
       "0610009B22Rik 0.02002003                          \n",
       "0610009L18Rik         NA                          \n",
       "0610010F05Rik 0.36051466                          \n",
       "0610012G03Rik 0.98882154                          \n",
       "0610030E20Rik         NA                          \n",
       "0610038B21Rik         NA                          \n",
       "              PtgfbVStgfbCX5461100nm.translation unt48.tgfb48.DEtranslation\n",
       "0610009B22Rik 0.002253052                        notSig                    \n",
       "0610009L18Rik          NA                        NA                        \n",
       "0610010F05Rik 0.155805910                        notSig                    \n",
       "0610012G03Rik 0.970293622                        notSig                    \n",
       "0610030E20Rik          NA                        NA                        \n",
       "0610038B21Rik          NA                        NA                        \n",
       "              tgfb48.tgfbCX5461100nm.DEtranslation reversible.translation\n",
       "0610009B22Rik up                                   notSig                \n",
       "0610009L18Rik NA                                   NA                    \n",
       "0610010F05Rik notSig                               notSig                \n",
       "0610012G03Rik notSig                               notSig                \n",
       "0610030E20Rik NA                                   NA                    \n",
       "0610038B21Rik NA                                   NA                    \n",
       "              biotype       \n",
       "0610009B22Rik protein_coding\n",
       "0610009L18Rik lncRNA        \n",
       "0610010F05Rik protein_coding\n",
       "0610012G03Rik protein_coding\n",
       "0610030E20Rik protein_coding\n",
       "0610038B21Rik lncRNA        "
      ]
     },
     "metadata": {},
     "output_type": "display_data"
    },
    {
     "data": {
      "text/html": [
       "<style>\n",
       ".list-inline {list-style: none; margin:0; padding: 0}\n",
       ".list-inline>li {display: inline-block}\n",
       ".list-inline>li:not(:last-child)::after {content: \"\\00b7\"; padding: 0 .5ex}\n",
       "</style>\n",
       "<ol class=list-inline><li>13576</li><li>31</li></ol>\n"
      ],
      "text/latex": [
       "\\begin{enumerate*}\n",
       "\\item 13576\n",
       "\\item 31\n",
       "\\end{enumerate*}\n"
      ],
      "text/markdown": [
       "1. 13576\n",
       "2. 31\n",
       "\n",
       "\n"
      ],
      "text/plain": [
       "[1] 13576    31"
      ]
     },
     "metadata": {},
     "output_type": "display_data"
    }
   ],
   "source": [
    "df_all <- merge(df_transcription, df_translation, by = 0, all = T)\n",
    "sym <- df_all$Row.names\n",
    "rownames(df_all) <- sym\n",
    "df_all$Row.names <- NULL\n",
    "\n",
    "if (grepl(\"isoform\", level)) {\n",
    "    idx <- match(rownames(df_all), df_gtf$transcript_name)\n",
    "    df_all <- cbind(df_gtf[idx, 1:6], df_all)\n",
    "    df_all$biotype <- df_gtf[idx, \"transcript_biotype\"]\n",
    "    \n",
    "} else {    \n",
    "    idx <- match(rownames(df_all), df_gtf$gene_name)\n",
    "    df_all <- cbind(df_gtf[idx, 1:6], df_all)    \n",
    "    df_all$biotype <- df_gtf[idx, \"gene_biotype\"]\n",
    "}\n",
    "\n",
    "rownames(df_all) <- sym\n",
    "\n",
    "head(df_all)\n",
    "dim(df_all)\n"
   ]
  },
  {
   "cell_type": "markdown",
   "metadata": {},
   "source": [
    "## fix biotype"
   ]
  },
  {
   "cell_type": "code",
   "execution_count": 80,
   "metadata": {},
   "outputs": [],
   "source": [
    "# Snord43 ENSMUSG00000105167 was annotated as miRNA \n",
    "idx <- which(rownames(df_all)==\"Snord43\")\n",
    "\n",
    "if (length(idx)==1) {\n",
    "    df_all[idx, \"biotype\"] <- \"snoRNA\"\n",
    "}\n"
   ]
  },
  {
   "cell_type": "markdown",
   "metadata": {},
   "source": [
    "## write df_all"
   ]
  },
  {
   "cell_type": "code",
   "execution_count": 81,
   "metadata": {},
   "outputs": [],
   "source": [
    "fname_out <- sprintf(\"./data/emt.tables.%s.comprehensive_170224%s_161021%s.txt\",\n",
    "                     strdir, rundate_appendix, rundate_appendix)\n",
    "write.table(df_all, file = fname_out,\n",
    "            row.names = TRUE , col.names = NA ,  sep=\"\\t\"  , quote = FALSE  )"
   ]
  },
  {
   "cell_type": "markdown",
   "metadata": {},
   "source": [
    "# unt48 vs. tgfb48"
   ]
  },
  {
   "cell_type": "markdown",
   "metadata": {},
   "source": [
    "## detected gene symbols"
   ]
  },
  {
   "cell_type": "markdown",
   "metadata": {},
   "source": [
    "### rnaseq detection"
   ]
  },
  {
   "cell_type": "code",
   "execution_count": 82,
   "metadata": {},
   "outputs": [
    {
     "data": {
      "text/html": [
       "FALSE"
      ],
      "text/latex": [
       "FALSE"
      ],
      "text/markdown": [
       "FALSE"
      ],
      "text/plain": [
       "[1] FALSE"
      ]
     },
     "metadata": {},
     "output_type": "display_data"
    },
    {
     "data": {
      "text/html": [
       "<style>\n",
       ".list-inline {list-style: none; margin:0; padding: 0}\n",
       ".list-inline>li {display: inline-block}\n",
       ".list-inline>li:not(:last-child)::after {content: \"\\00b7\"; padding: 0 .5ex}\n",
       "</style>\n",
       "<ol class=list-inline><li>'protein_coding'</li><li>'lncRNA'</li><li>'polymorphic_pseudogene'</li><li>'transcribed_unprocessed_pseudogene'</li><li>'unprocessed_pseudogene'</li><li>'TR_C_gene'</li><li>'processed_pseudogene'</li><li>'misc_RNA'</li><li>'scaRNA'</li><li>'rDNA'</li><li>'snoRNA'</li><li>'transcribed_processed_pseudogene'</li><li>'TEC'</li><li>'snRNA'</li><li>'ribozyme'</li><li>'transcribed_unitary_pseudogene'</li><li>'rRNA'</li><li>'Mt_rRNA'</li><li>'miRNA'</li><li>'pseudogene'</li><li>'TR_V_gene'</li><li>'unitary_pseudogene'</li><li>'Mt_tRNA'</li></ol>\n"
      ],
      "text/latex": [
       "\\begin{enumerate*}\n",
       "\\item 'protein\\_coding'\n",
       "\\item 'lncRNA'\n",
       "\\item 'polymorphic\\_pseudogene'\n",
       "\\item 'transcribed\\_unprocessed\\_pseudogene'\n",
       "\\item 'unprocessed\\_pseudogene'\n",
       "\\item 'TR\\_C\\_gene'\n",
       "\\item 'processed\\_pseudogene'\n",
       "\\item 'misc\\_RNA'\n",
       "\\item 'scaRNA'\n",
       "\\item 'rDNA'\n",
       "\\item 'snoRNA'\n",
       "\\item 'transcribed\\_processed\\_pseudogene'\n",
       "\\item 'TEC'\n",
       "\\item 'snRNA'\n",
       "\\item 'ribozyme'\n",
       "\\item 'transcribed\\_unitary\\_pseudogene'\n",
       "\\item 'rRNA'\n",
       "\\item 'Mt\\_rRNA'\n",
       "\\item 'miRNA'\n",
       "\\item 'pseudogene'\n",
       "\\item 'TR\\_V\\_gene'\n",
       "\\item 'unitary\\_pseudogene'\n",
       "\\item 'Mt\\_tRNA'\n",
       "\\end{enumerate*}\n"
      ],
      "text/markdown": [
       "1. 'protein_coding'\n",
       "2. 'lncRNA'\n",
       "3. 'polymorphic_pseudogene'\n",
       "4. 'transcribed_unprocessed_pseudogene'\n",
       "5. 'unprocessed_pseudogene'\n",
       "6. 'TR_C_gene'\n",
       "7. 'processed_pseudogene'\n",
       "8. 'misc_RNA'\n",
       "9. 'scaRNA'\n",
       "10. 'rDNA'\n",
       "11. 'snoRNA'\n",
       "12. 'transcribed_processed_pseudogene'\n",
       "13. 'TEC'\n",
       "14. 'snRNA'\n",
       "15. 'ribozyme'\n",
       "16. 'transcribed_unitary_pseudogene'\n",
       "17. 'rRNA'\n",
       "18. 'Mt_rRNA'\n",
       "19. 'miRNA'\n",
       "20. 'pseudogene'\n",
       "21. 'TR_V_gene'\n",
       "22. 'unitary_pseudogene'\n",
       "23. 'Mt_tRNA'\n",
       "\n",
       "\n"
      ],
      "text/plain": [
       " [1] \"protein_coding\"                     \"lncRNA\"                            \n",
       " [3] \"polymorphic_pseudogene\"             \"transcribed_unprocessed_pseudogene\"\n",
       " [5] \"unprocessed_pseudogene\"             \"TR_C_gene\"                         \n",
       " [7] \"processed_pseudogene\"               \"misc_RNA\"                          \n",
       " [9] \"scaRNA\"                             \"rDNA\"                              \n",
       "[11] \"snoRNA\"                             \"transcribed_processed_pseudogene\"  \n",
       "[13] \"TEC\"                                \"snRNA\"                             \n",
       "[15] \"ribozyme\"                           \"transcribed_unitary_pseudogene\"    \n",
       "[17] \"rRNA\"                               \"Mt_rRNA\"                           \n",
       "[19] \"miRNA\"                              \"pseudogene\"                        \n",
       "[21] \"TR_V_gene\"                          \"unitary_pseudogene\"                \n",
       "[23] \"Mt_tRNA\"                           "
      ]
     },
     "metadata": {},
     "output_type": "display_data"
    },
    {
     "data": {
      "text/html": [
       "<table>\n",
       "<caption>A data.frame: 6 × 6</caption>\n",
       "<thead>\n",
       "\t<tr><th></th><th scope=col>unt48</th><th scope=col>tgfb48</th><th scope=col>log2FC</th><th scope=col>FDR</th><th scope=col>p.value</th><th scope=col>biotype</th></tr>\n",
       "\t<tr><th></th><th scope=col>&lt;dbl&gt;</th><th scope=col>&lt;dbl&gt;</th><th scope=col>&lt;dbl&gt;</th><th scope=col>&lt;dbl&gt;</th><th scope=col>&lt;dbl&gt;</th><th scope=col>&lt;chr&gt;</th></tr>\n",
       "</thead>\n",
       "<tbody>\n",
       "\t<tr><th scope=row>1700017B05Rik</th><td>5.137420</td><td>6.2813516</td><td> 1.1439316</td><td>0</td><td>0</td><td>protein_coding</td></tr>\n",
       "\t<tr><th scope=row>4930402H24Rik</th><td>4.246960</td><td>5.3145640</td><td> 1.0676044</td><td>0</td><td>0</td><td>protein_coding</td></tr>\n",
       "\t<tr><th scope=row>4931406P16Rik</th><td>3.317556</td><td>4.8805024</td><td> 1.5629466</td><td>0</td><td>0</td><td>protein_coding</td></tr>\n",
       "\t<tr><th scope=row>Abcc2</th><td>3.268253</td><td>0.3278268</td><td>-2.9404266</td><td>0</td><td>0</td><td>protein_coding</td></tr>\n",
       "\t<tr><th scope=row>Abcc4</th><td>5.253194</td><td>4.1491558</td><td>-1.1040378</td><td>0</td><td>0</td><td>protein_coding</td></tr>\n",
       "\t<tr><th scope=row>Abhd2</th><td>7.013178</td><td>6.0712420</td><td>-0.9419359</td><td>0</td><td>0</td><td>protein_coding</td></tr>\n",
       "</tbody>\n",
       "</table>\n"
      ],
      "text/latex": [
       "A data.frame: 6 × 6\n",
       "\\begin{tabular}{r|llllll}\n",
       "  & unt48 & tgfb48 & log2FC & FDR & p.value & biotype\\\\\n",
       "  & <dbl> & <dbl> & <dbl> & <dbl> & <dbl> & <chr>\\\\\n",
       "\\hline\n",
       "\t1700017B05Rik & 5.137420 & 6.2813516 &  1.1439316 & 0 & 0 & protein\\_coding\\\\\n",
       "\t4930402H24Rik & 4.246960 & 5.3145640 &  1.0676044 & 0 & 0 & protein\\_coding\\\\\n",
       "\t4931406P16Rik & 3.317556 & 4.8805024 &  1.5629466 & 0 & 0 & protein\\_coding\\\\\n",
       "\tAbcc2 & 3.268253 & 0.3278268 & -2.9404266 & 0 & 0 & protein\\_coding\\\\\n",
       "\tAbcc4 & 5.253194 & 4.1491558 & -1.1040378 & 0 & 0 & protein\\_coding\\\\\n",
       "\tAbhd2 & 7.013178 & 6.0712420 & -0.9419359 & 0 & 0 & protein\\_coding\\\\\n",
       "\\end{tabular}\n"
      ],
      "text/markdown": [
       "\n",
       "A data.frame: 6 × 6\n",
       "\n",
       "| <!--/--> | unt48 &lt;dbl&gt; | tgfb48 &lt;dbl&gt; | log2FC &lt;dbl&gt; | FDR &lt;dbl&gt; | p.value &lt;dbl&gt; | biotype &lt;chr&gt; |\n",
       "|---|---|---|---|---|---|---|\n",
       "| 1700017B05Rik | 5.137420 | 6.2813516 |  1.1439316 | 0 | 0 | protein_coding |\n",
       "| 4930402H24Rik | 4.246960 | 5.3145640 |  1.0676044 | 0 | 0 | protein_coding |\n",
       "| 4931406P16Rik | 3.317556 | 4.8805024 |  1.5629466 | 0 | 0 | protein_coding |\n",
       "| Abcc2 | 3.268253 | 0.3278268 | -2.9404266 | 0 | 0 | protein_coding |\n",
       "| Abcc4 | 5.253194 | 4.1491558 | -1.1040378 | 0 | 0 | protein_coding |\n",
       "| Abhd2 | 7.013178 | 6.0712420 | -0.9419359 | 0 | 0 | protein_coding |\n",
       "\n"
      ],
      "text/plain": [
       "              unt48    tgfb48    log2FC     FDR p.value biotype       \n",
       "1700017B05Rik 5.137420 6.2813516  1.1439316 0   0       protein_coding\n",
       "4930402H24Rik 4.246960 5.3145640  1.0676044 0   0       protein_coding\n",
       "4931406P16Rik 3.317556 4.8805024  1.5629466 0   0       protein_coding\n",
       "Abcc2         3.268253 0.3278268 -2.9404266 0   0       protein_coding\n",
       "Abcc4         5.253194 4.1491558 -1.1040378 0   0       protein_coding\n",
       "Abhd2         7.013178 6.0712420 -0.9419359 0   0       protein_coding"
      ]
     },
     "metadata": {},
     "output_type": "display_data"
    },
    {
     "data": {
      "text/html": [
       "<style>\n",
       ".list-inline {list-style: none; margin:0; padding: 0}\n",
       ".list-inline>li {display: inline-block}\n",
       ".list-inline>li:not(:last-child)::after {content: \"\\00b7\"; padding: 0 .5ex}\n",
       "</style>\n",
       "<ol class=list-inline><li>12913</li><li>6</li></ol>\n"
      ],
      "text/latex": [
       "\\begin{enumerate*}\n",
       "\\item 12913\n",
       "\\item 6\n",
       "\\end{enumerate*}\n"
      ],
      "text/markdown": [
       "1. 12913\n",
       "2. 6\n",
       "\n",
       "\n"
      ],
      "text/plain": [
       "[1] 12913     6"
      ]
     },
     "metadata": {},
     "output_type": "display_data"
    },
    {
     "data": {
      "text/html": [
       "12913"
      ],
      "text/latex": [
       "12913"
      ],
      "text/markdown": [
       "12913"
      ],
      "text/plain": [
       "[1] 12913"
      ]
     },
     "metadata": {},
     "output_type": "display_data"
    }
   ],
   "source": [
    "\n",
    "fname_rnaseq <- sprintf(\"170224.NMuMG.%s.unt48--vs--tgfb48.all.txt.gz\", strdir)\n",
    "df_rnaseq <- read.table(file=sprintf(\"%s/%s\", dir_rnaseq, fname_rnaseq), \n",
    "                header=TRUE, sep=\"\\t\", row.names=1,\n",
    "                quote=\"\", comment.char=\"#\", stringsAsFactors=F)\n",
    "\n",
    "if (!is.null(pattern_remove_gene)) {\n",
    "  dim(df_rnaseq)\n",
    "  df_rnaseq <- df_rnaseq[!grepl(pattern_remove_gene, rownames(df_rnaseq)),]\n",
    "}\n",
    "\n",
    "# df_mrna$biotype\n",
    "idx <- match(rownames(df_rnaseq), rownames(df_all))\n",
    "any(is.na(idx)) # should be FALSE\n",
    "df_rnaseq$biotype <- df_all[idx,'biotype']\n",
    "biotype_rnaseq <- unique(df_rnaseq$biotype)\n",
    "biotype_rnaseq\n",
    "\n",
    "head(df_rnaseq)\n",
    "dim(df_rnaseq)\n",
    "sym_rnaseq <- rownames(df_rnaseq)\n",
    "length(sym_rnaseq)\n",
    "\n",
    "# total genes detected in total RNA-seq\n",
    "# with GRCm38.97.gtf RSEM: 13013\n",
    "# with GRCm38.97.gtf HTSEQ: 12914\n",
    "# with GRCm38.97.rRNA.gtf: 13007\n"
   ]
  },
  {
   "cell_type": "markdown",
   "metadata": {},
   "source": [
    "### riboseq detection"
   ]
  },
  {
   "cell_type": "code",
   "execution_count": 83,
   "metadata": {},
   "outputs": [
    {
     "data": {
      "text/html": [
       "FALSE"
      ],
      "text/latex": [
       "FALSE"
      ],
      "text/markdown": [
       "FALSE"
      ],
      "text/plain": [
       "[1] FALSE"
      ]
     },
     "metadata": {},
     "output_type": "display_data"
    },
    {
     "data": {
      "text/html": [
       "<style>\n",
       ".list-inline {list-style: none; margin:0; padding: 0}\n",
       ".list-inline>li {display: inline-block}\n",
       ".list-inline>li:not(:last-child)::after {content: \"\\00b7\"; padding: 0 .5ex}\n",
       "</style>\n",
       "<ol class=list-inline><li>'protein_coding'</li><li>'snRNA'</li><li>'miRNA'</li><li>'Mt_tRNA'</li><li>'rRNA'</li><li>'misc_RNA'</li><li>'ribozyme'</li><li>'lncRNA'</li><li>'rDNA'</li><li>'snoRNA'</li><li>'processed_pseudogene'</li><li>'Mt_rRNA'</li><li>'unprocessed_pseudogene'</li><li>'IG_C_gene'</li><li>'transcribed_processed_pseudogene'</li><li>'polymorphic_pseudogene'</li><li>'TEC'</li><li>'scaRNA'</li><li>'transcribed_unprocessed_pseudogene'</li><li>'TR_V_gene'</li><li>'transcribed_unitary_pseudogene'</li></ol>\n"
      ],
      "text/latex": [
       "\\begin{enumerate*}\n",
       "\\item 'protein\\_coding'\n",
       "\\item 'snRNA'\n",
       "\\item 'miRNA'\n",
       "\\item 'Mt\\_tRNA'\n",
       "\\item 'rRNA'\n",
       "\\item 'misc\\_RNA'\n",
       "\\item 'ribozyme'\n",
       "\\item 'lncRNA'\n",
       "\\item 'rDNA'\n",
       "\\item 'snoRNA'\n",
       "\\item 'processed\\_pseudogene'\n",
       "\\item 'Mt\\_rRNA'\n",
       "\\item 'unprocessed\\_pseudogene'\n",
       "\\item 'IG\\_C\\_gene'\n",
       "\\item 'transcribed\\_processed\\_pseudogene'\n",
       "\\item 'polymorphic\\_pseudogene'\n",
       "\\item 'TEC'\n",
       "\\item 'scaRNA'\n",
       "\\item 'transcribed\\_unprocessed\\_pseudogene'\n",
       "\\item 'TR\\_V\\_gene'\n",
       "\\item 'transcribed\\_unitary\\_pseudogene'\n",
       "\\end{enumerate*}\n"
      ],
      "text/markdown": [
       "1. 'protein_coding'\n",
       "2. 'snRNA'\n",
       "3. 'miRNA'\n",
       "4. 'Mt_tRNA'\n",
       "5. 'rRNA'\n",
       "6. 'misc_RNA'\n",
       "7. 'ribozyme'\n",
       "8. 'lncRNA'\n",
       "9. 'rDNA'\n",
       "10. 'snoRNA'\n",
       "11. 'processed_pseudogene'\n",
       "12. 'Mt_rRNA'\n",
       "13. 'unprocessed_pseudogene'\n",
       "14. 'IG_C_gene'\n",
       "15. 'transcribed_processed_pseudogene'\n",
       "16. 'polymorphic_pseudogene'\n",
       "17. 'TEC'\n",
       "18. 'scaRNA'\n",
       "19. 'transcribed_unprocessed_pseudogene'\n",
       "20. 'TR_V_gene'\n",
       "21. 'transcribed_unitary_pseudogene'\n",
       "\n",
       "\n"
      ],
      "text/plain": [
       " [1] \"protein_coding\"                     \"snRNA\"                             \n",
       " [3] \"miRNA\"                              \"Mt_tRNA\"                           \n",
       " [5] \"rRNA\"                               \"misc_RNA\"                          \n",
       " [7] \"ribozyme\"                           \"lncRNA\"                            \n",
       " [9] \"rDNA\"                               \"snoRNA\"                            \n",
       "[11] \"processed_pseudogene\"               \"Mt_rRNA\"                           \n",
       "[13] \"unprocessed_pseudogene\"             \"IG_C_gene\"                         \n",
       "[15] \"transcribed_processed_pseudogene\"   \"polymorphic_pseudogene\"            \n",
       "[17] \"TEC\"                                \"scaRNA\"                            \n",
       "[19] \"transcribed_unprocessed_pseudogene\" \"TR_V_gene\"                         \n",
       "[21] \"transcribed_unitary_pseudogene\"    "
      ]
     },
     "metadata": {},
     "output_type": "display_data"
    },
    {
     "data": {
      "text/html": [
       "<table>\n",
       "<caption>A data.frame: 6 × 6</caption>\n",
       "<thead>\n",
       "\t<tr><th></th><th scope=col>unt48</th><th scope=col>tgfb48</th><th scope=col>log2FC</th><th scope=col>FDR</th><th scope=col>p.value</th><th scope=col>biotype</th></tr>\n",
       "\t<tr><th></th><th scope=col>&lt;dbl&gt;</th><th scope=col>&lt;dbl&gt;</th><th scope=col>&lt;dbl&gt;</th><th scope=col>&lt;dbl&gt;</th><th scope=col>&lt;dbl&gt;</th><th scope=col>&lt;chr&gt;</th></tr>\n",
       "</thead>\n",
       "<tbody>\n",
       "\t<tr><th scope=row>Actb</th><td> 9.0693462</td><td>9.471076</td><td> 0.401730</td><td>0</td><td>0</td><td>protein_coding</td></tr>\n",
       "\t<tr><th scope=row>Actn1</th><td> 4.7529615</td><td>6.419199</td><td> 1.666237</td><td>0</td><td>0</td><td>protein_coding</td></tr>\n",
       "\t<tr><th scope=row>Adam8</th><td> 1.3825386</td><td>3.730572</td><td> 2.348033</td><td>0</td><td>0</td><td>protein_coding</td></tr>\n",
       "\t<tr><th scope=row>Adgrg1</th><td> 3.5475901</td><td>4.875399</td><td> 1.327808</td><td>0</td><td>0</td><td>protein_coding</td></tr>\n",
       "\t<tr><th scope=row>Ak1</th><td>-0.6852402</td><td>4.533343</td><td> 5.218583</td><td>0</td><td>0</td><td>protein_coding</td></tr>\n",
       "\t<tr><th scope=row>Aldoa</th><td> 6.7594436</td><td>5.638770</td><td>-1.120674</td><td>0</td><td>0</td><td>protein_coding</td></tr>\n",
       "</tbody>\n",
       "</table>\n"
      ],
      "text/latex": [
       "A data.frame: 6 × 6\n",
       "\\begin{tabular}{r|llllll}\n",
       "  & unt48 & tgfb48 & log2FC & FDR & p.value & biotype\\\\\n",
       "  & <dbl> & <dbl> & <dbl> & <dbl> & <dbl> & <chr>\\\\\n",
       "\\hline\n",
       "\tActb &  9.0693462 & 9.471076 &  0.401730 & 0 & 0 & protein\\_coding\\\\\n",
       "\tActn1 &  4.7529615 & 6.419199 &  1.666237 & 0 & 0 & protein\\_coding\\\\\n",
       "\tAdam8 &  1.3825386 & 3.730572 &  2.348033 & 0 & 0 & protein\\_coding\\\\\n",
       "\tAdgrg1 &  3.5475901 & 4.875399 &  1.327808 & 0 & 0 & protein\\_coding\\\\\n",
       "\tAk1 & -0.6852402 & 4.533343 &  5.218583 & 0 & 0 & protein\\_coding\\\\\n",
       "\tAldoa &  6.7594436 & 5.638770 & -1.120674 & 0 & 0 & protein\\_coding\\\\\n",
       "\\end{tabular}\n"
      ],
      "text/markdown": [
       "\n",
       "A data.frame: 6 × 6\n",
       "\n",
       "| <!--/--> | unt48 &lt;dbl&gt; | tgfb48 &lt;dbl&gt; | log2FC &lt;dbl&gt; | FDR &lt;dbl&gt; | p.value &lt;dbl&gt; | biotype &lt;chr&gt; |\n",
       "|---|---|---|---|---|---|---|\n",
       "| Actb |  9.0693462 | 9.471076 |  0.401730 | 0 | 0 | protein_coding |\n",
       "| Actn1 |  4.7529615 | 6.419199 |  1.666237 | 0 | 0 | protein_coding |\n",
       "| Adam8 |  1.3825386 | 3.730572 |  2.348033 | 0 | 0 | protein_coding |\n",
       "| Adgrg1 |  3.5475901 | 4.875399 |  1.327808 | 0 | 0 | protein_coding |\n",
       "| Ak1 | -0.6852402 | 4.533343 |  5.218583 | 0 | 0 | protein_coding |\n",
       "| Aldoa |  6.7594436 | 5.638770 | -1.120674 | 0 | 0 | protein_coding |\n",
       "\n"
      ],
      "text/plain": [
       "       unt48      tgfb48   log2FC    FDR p.value biotype       \n",
       "Actb    9.0693462 9.471076  0.401730 0   0       protein_coding\n",
       "Actn1   4.7529615 6.419199  1.666237 0   0       protein_coding\n",
       "Adam8   1.3825386 3.730572  2.348033 0   0       protein_coding\n",
       "Adgrg1  3.5475901 4.875399  1.327808 0   0       protein_coding\n",
       "Ak1    -0.6852402 4.533343  5.218583 0   0       protein_coding\n",
       "Aldoa   6.7594436 5.638770 -1.120674 0   0       protein_coding"
      ]
     },
     "metadata": {},
     "output_type": "display_data"
    },
    {
     "data": {
      "text/html": [
       "<style>\n",
       ".list-inline {list-style: none; margin:0; padding: 0}\n",
       ".list-inline>li {display: inline-block}\n",
       ".list-inline>li:not(:last-child)::after {content: \"\\00b7\"; padding: 0 .5ex}\n",
       "</style>\n",
       "<ol class=list-inline><li>10343</li><li>6</li></ol>\n"
      ],
      "text/latex": [
       "\\begin{enumerate*}\n",
       "\\item 10343\n",
       "\\item 6\n",
       "\\end{enumerate*}\n"
      ],
      "text/markdown": [
       "1. 10343\n",
       "2. 6\n",
       "\n",
       "\n"
      ],
      "text/plain": [
       "[1] 10343     6"
      ]
     },
     "metadata": {},
     "output_type": "display_data"
    },
    {
     "data": {
      "text/html": [
       "10343"
      ],
      "text/latex": [
       "10343"
      ],
      "text/markdown": [
       "10343"
      ],
      "text/plain": [
       "[1] 10343"
      ]
     },
     "metadata": {},
     "output_type": "display_data"
    },
    {
     "data": {
      "text/html": [
       "10343"
      ],
      "text/latex": [
       "10343"
      ],
      "text/markdown": [
       "10343"
      ],
      "text/plain": [
       "[1] 10343"
      ]
     },
     "metadata": {},
     "output_type": "display_data"
    }
   ],
   "source": [
    "\n",
    "fname_riboseq <- sprintf(\"161021.NMuMG.%s.unt48--vs--tgfb48.all.txt.gz\", strdir)\n",
    "df_riboseq <- read.table(file=sprintf(\"%s/%s\", dir_riboseq, fname_riboseq), \n",
    "                header=TRUE, sep=\"\\t\", row.names=1,\n",
    "                quote=\"\", comment.char=\"#\", stringsAsFactors=F)\n",
    "\n",
    "if (!is.null(pattern_remove_gene)) {\n",
    "  dim(df_riboseq)\n",
    "  df_riboseq <- df_riboseq[!grepl(pattern_remove_gene, rownames(df_riboseq)),]\n",
    "}\n",
    "\n",
    "# df_mrna$biotype\n",
    "idx <- match(rownames(df_riboseq), rownames(df_all))\n",
    "any(is.na(idx)) # should be FALSE\n",
    "df_riboseq$biotype <- df_all[idx,'biotype']\n",
    "biotype_riboseq <- unique(df_riboseq$biotype)\n",
    "biotype_riboseq\n",
    "\n",
    "\n",
    "head(df_riboseq)\n",
    "dim(df_riboseq)\n",
    "sym_riboseq <- rownames(df_riboseq)\n",
    "length(sym_riboseq)\n",
    "sym_riboseq <- unique(sym_riboseq)\n",
    "length(sym_riboseq)\n",
    "\n",
    "# total genes detected in robosome profiling\n",
    "# with GRCm38.97.gtf RSEM: 11779\n",
    "# with GRCm38.97.gtf HTSEQ: 11264\n",
    "# with GRCm38.97.rRNA.gtf: 11811\n"
   ]
  },
  {
   "cell_type": "markdown",
   "metadata": {},
   "source": [
    "#### protein_coding only"
   ]
  },
  {
   "cell_type": "code",
   "execution_count": 84,
   "metadata": {},
   "outputs": [
    {
     "data": {
      "text/html": [
       "<table>\n",
       "<caption>A data.frame: 6 × 6</caption>\n",
       "<thead>\n",
       "\t<tr><th></th><th scope=col>unt48</th><th scope=col>tgfb48</th><th scope=col>log2FC</th><th scope=col>FDR</th><th scope=col>p.value</th><th scope=col>biotype</th></tr>\n",
       "\t<tr><th></th><th scope=col>&lt;dbl&gt;</th><th scope=col>&lt;dbl&gt;</th><th scope=col>&lt;dbl&gt;</th><th scope=col>&lt;dbl&gt;</th><th scope=col>&lt;dbl&gt;</th><th scope=col>&lt;chr&gt;</th></tr>\n",
       "</thead>\n",
       "<tbody>\n",
       "\t<tr><th scope=row>Actb</th><td> 9.0693462</td><td>9.471076</td><td> 0.401730</td><td>0</td><td>0</td><td>protein_coding</td></tr>\n",
       "\t<tr><th scope=row>Actn1</th><td> 4.7529615</td><td>6.419199</td><td> 1.666237</td><td>0</td><td>0</td><td>protein_coding</td></tr>\n",
       "\t<tr><th scope=row>Adam8</th><td> 1.3825386</td><td>3.730572</td><td> 2.348033</td><td>0</td><td>0</td><td>protein_coding</td></tr>\n",
       "\t<tr><th scope=row>Adgrg1</th><td> 3.5475901</td><td>4.875399</td><td> 1.327808</td><td>0</td><td>0</td><td>protein_coding</td></tr>\n",
       "\t<tr><th scope=row>Ak1</th><td>-0.6852402</td><td>4.533343</td><td> 5.218583</td><td>0</td><td>0</td><td>protein_coding</td></tr>\n",
       "\t<tr><th scope=row>Aldoa</th><td> 6.7594436</td><td>5.638770</td><td>-1.120674</td><td>0</td><td>0</td><td>protein_coding</td></tr>\n",
       "</tbody>\n",
       "</table>\n"
      ],
      "text/latex": [
       "A data.frame: 6 × 6\n",
       "\\begin{tabular}{r|llllll}\n",
       "  & unt48 & tgfb48 & log2FC & FDR & p.value & biotype\\\\\n",
       "  & <dbl> & <dbl> & <dbl> & <dbl> & <dbl> & <chr>\\\\\n",
       "\\hline\n",
       "\tActb &  9.0693462 & 9.471076 &  0.401730 & 0 & 0 & protein\\_coding\\\\\n",
       "\tActn1 &  4.7529615 & 6.419199 &  1.666237 & 0 & 0 & protein\\_coding\\\\\n",
       "\tAdam8 &  1.3825386 & 3.730572 &  2.348033 & 0 & 0 & protein\\_coding\\\\\n",
       "\tAdgrg1 &  3.5475901 & 4.875399 &  1.327808 & 0 & 0 & protein\\_coding\\\\\n",
       "\tAk1 & -0.6852402 & 4.533343 &  5.218583 & 0 & 0 & protein\\_coding\\\\\n",
       "\tAldoa &  6.7594436 & 5.638770 & -1.120674 & 0 & 0 & protein\\_coding\\\\\n",
       "\\end{tabular}\n"
      ],
      "text/markdown": [
       "\n",
       "A data.frame: 6 × 6\n",
       "\n",
       "| <!--/--> | unt48 &lt;dbl&gt; | tgfb48 &lt;dbl&gt; | log2FC &lt;dbl&gt; | FDR &lt;dbl&gt; | p.value &lt;dbl&gt; | biotype &lt;chr&gt; |\n",
       "|---|---|---|---|---|---|---|\n",
       "| Actb |  9.0693462 | 9.471076 |  0.401730 | 0 | 0 | protein_coding |\n",
       "| Actn1 |  4.7529615 | 6.419199 |  1.666237 | 0 | 0 | protein_coding |\n",
       "| Adam8 |  1.3825386 | 3.730572 |  2.348033 | 0 | 0 | protein_coding |\n",
       "| Adgrg1 |  3.5475901 | 4.875399 |  1.327808 | 0 | 0 | protein_coding |\n",
       "| Ak1 | -0.6852402 | 4.533343 |  5.218583 | 0 | 0 | protein_coding |\n",
       "| Aldoa |  6.7594436 | 5.638770 | -1.120674 | 0 | 0 | protein_coding |\n",
       "\n"
      ],
      "text/plain": [
       "       unt48      tgfb48   log2FC    FDR p.value biotype       \n",
       "Actb    9.0693462 9.471076  0.401730 0   0       protein_coding\n",
       "Actn1   4.7529615 6.419199  1.666237 0   0       protein_coding\n",
       "Adam8   1.3825386 3.730572  2.348033 0   0       protein_coding\n",
       "Adgrg1  3.5475901 4.875399  1.327808 0   0       protein_coding\n",
       "Ak1    -0.6852402 4.533343  5.218583 0   0       protein_coding\n",
       "Aldoa   6.7594436 5.638770 -1.120674 0   0       protein_coding"
      ]
     },
     "metadata": {},
     "output_type": "display_data"
    },
    {
     "data": {
      "text/html": [
       "<style>\n",
       ".list-inline {list-style: none; margin:0; padding: 0}\n",
       ".list-inline>li {display: inline-block}\n",
       ".list-inline>li:not(:last-child)::after {content: \"\\00b7\"; padding: 0 .5ex}\n",
       "</style>\n",
       "<ol class=list-inline><li>9517</li><li>6</li></ol>\n"
      ],
      "text/latex": [
       "\\begin{enumerate*}\n",
       "\\item 9517\n",
       "\\item 6\n",
       "\\end{enumerate*}\n"
      ],
      "text/markdown": [
       "1. 9517\n",
       "2. 6\n",
       "\n",
       "\n"
      ],
      "text/plain": [
       "[1] 9517    6"
      ]
     },
     "metadata": {},
     "output_type": "display_data"
    }
   ],
   "source": [
    "f <- grepl('^protein_coding$', df_riboseq$biotype)\n",
    "df_ribo_wo_pseudo <- df_riboseq[f,]\n",
    "head(df_ribo_wo_pseudo)\n",
    "dim(df_ribo_wo_pseudo)"
   ]
  },
  {
   "cell_type": "markdown",
   "metadata": {},
   "source": [
    "### sym_detected_both"
   ]
  },
  {
   "cell_type": "code",
   "execution_count": 85,
   "metadata": {},
   "outputs": [
    {
     "data": {
      "text/html": [
       "9680"
      ],
      "text/latex": [
       "9680"
      ],
      "text/markdown": [
       "9680"
      ],
      "text/plain": [
       "[1] 9680"
      ]
     },
     "metadata": {},
     "output_type": "display_data"
    }
   ],
   "source": [
    "sym_detected_both <- intersect(sym_rnaseq, sym_riboseq)\n",
    "length(sym_detected_both)\n",
    "\n",
    "# total genes detected in shared between both datasets\n",
    "# with GRCm38.97.gtf RSEM: 10212\n",
    "# with GRCm38.97.gtf HTSEQ: 10150\n",
    "# with GRCm38.97.rRNA.gtf: 10235"
   ]
  },
  {
   "cell_type": "markdown",
   "metadata": {},
   "source": [
    "### sym_detected_rnaseq_only"
   ]
  },
  {
   "cell_type": "code",
   "execution_count": 86,
   "metadata": {},
   "outputs": [
    {
     "data": {
      "text/html": [
       "3233"
      ],
      "text/latex": [
       "3233"
      ],
      "text/markdown": [
       "3233"
      ],
      "text/plain": [
       "[1] 3233"
      ]
     },
     "metadata": {},
     "output_type": "display_data"
    }
   ],
   "source": [
    "sym_detected_rnaseq_only <- setdiff(sym_rnaseq, sym_riboseq)\n",
    "length(sym_detected_rnaseq_only)"
   ]
  },
  {
   "cell_type": "markdown",
   "metadata": {},
   "source": [
    "### sym_detected_riboseq_only"
   ]
  },
  {
   "cell_type": "code",
   "execution_count": 87,
   "metadata": {},
   "outputs": [
    {
     "data": {
      "text/html": [
       "663"
      ],
      "text/latex": [
       "663"
      ],
      "text/markdown": [
       "663"
      ],
      "text/plain": [
       "[1] 663"
      ]
     },
     "metadata": {},
     "output_type": "display_data"
    }
   ],
   "source": [
    "sym_detected_riboseq_only <- setdiff(sym_riboseq, sym_rnaseq)\n",
    "length(sym_detected_riboseq_only)\n"
   ]
  },
  {
   "cell_type": "markdown",
   "metadata": {},
   "source": [
    "## df_mrna"
   ]
  },
  {
   "cell_type": "code",
   "execution_count": 88,
   "metadata": {
    "scrolled": false
   },
   "outputs": [
    {
     "data": {
      "text/html": [
       "<table>\n",
       "<caption>A data.frame: 6 × 5</caption>\n",
       "<thead>\n",
       "\t<tr><th></th><th scope=col>unt48</th><th scope=col>tgfb48</th><th scope=col>log2FC</th><th scope=col>FDR</th><th scope=col>p.value</th></tr>\n",
       "\t<tr><th></th><th scope=col>&lt;dbl&gt;</th><th scope=col>&lt;dbl&gt;</th><th scope=col>&lt;dbl&gt;</th><th scope=col>&lt;dbl&gt;</th><th scope=col>&lt;dbl&gt;</th></tr>\n",
       "</thead>\n",
       "<tbody>\n",
       "\t<tr><th scope=row>Itih2</th><td>1.640282</td><td>-5.128863</td><td>-6.769146</td><td>2.070e-09</td><td>1.0e-10</td></tr>\n",
       "\t<tr><th scope=row>Ugt2b34</th><td>4.614077</td><td>-1.923804</td><td>-6.537881</td><td>0.000e+00</td><td>0.0e+00</td></tr>\n",
       "\t<tr><th scope=row>Ngef</th><td>1.259440</td><td>-5.128863</td><td>-6.388304</td><td>2.340e-08</td><td>1.9e-09</td></tr>\n",
       "\t<tr><th scope=row>Mep1a</th><td>2.151093</td><td>-4.114984</td><td>-6.266077</td><td>1.167e-08</td><td>9.0e-10</td></tr>\n",
       "\t<tr><th scope=row>Serpina1b</th><td>4.318216</td><td>-1.818996</td><td>-6.137213</td><td>0.000e+00</td><td>0.0e+00</td></tr>\n",
       "\t<tr><th scope=row>Dio3os</th><td>1.667966</td><td>-4.212294</td><td>-5.880260</td><td>8.484e-08</td><td>7.8e-09</td></tr>\n",
       "</tbody>\n",
       "</table>\n"
      ],
      "text/latex": [
       "A data.frame: 6 × 5\n",
       "\\begin{tabular}{r|lllll}\n",
       "  & unt48 & tgfb48 & log2FC & FDR & p.value\\\\\n",
       "  & <dbl> & <dbl> & <dbl> & <dbl> & <dbl>\\\\\n",
       "\\hline\n",
       "\tItih2 & 1.640282 & -5.128863 & -6.769146 & 2.070e-09 & 1.0e-10\\\\\n",
       "\tUgt2b34 & 4.614077 & -1.923804 & -6.537881 & 0.000e+00 & 0.0e+00\\\\\n",
       "\tNgef & 1.259440 & -5.128863 & -6.388304 & 2.340e-08 & 1.9e-09\\\\\n",
       "\tMep1a & 2.151093 & -4.114984 & -6.266077 & 1.167e-08 & 9.0e-10\\\\\n",
       "\tSerpina1b & 4.318216 & -1.818996 & -6.137213 & 0.000e+00 & 0.0e+00\\\\\n",
       "\tDio3os & 1.667966 & -4.212294 & -5.880260 & 8.484e-08 & 7.8e-09\\\\\n",
       "\\end{tabular}\n"
      ],
      "text/markdown": [
       "\n",
       "A data.frame: 6 × 5\n",
       "\n",
       "| <!--/--> | unt48 &lt;dbl&gt; | tgfb48 &lt;dbl&gt; | log2FC &lt;dbl&gt; | FDR &lt;dbl&gt; | p.value &lt;dbl&gt; |\n",
       "|---|---|---|---|---|---|\n",
       "| Itih2 | 1.640282 | -5.128863 | -6.769146 | 2.070e-09 | 1.0e-10 |\n",
       "| Ugt2b34 | 4.614077 | -1.923804 | -6.537881 | 0.000e+00 | 0.0e+00 |\n",
       "| Ngef | 1.259440 | -5.128863 | -6.388304 | 2.340e-08 | 1.9e-09 |\n",
       "| Mep1a | 2.151093 | -4.114984 | -6.266077 | 1.167e-08 | 9.0e-10 |\n",
       "| Serpina1b | 4.318216 | -1.818996 | -6.137213 | 0.000e+00 | 0.0e+00 |\n",
       "| Dio3os | 1.667966 | -4.212294 | -5.880260 | 8.484e-08 | 7.8e-09 |\n",
       "\n"
      ],
      "text/plain": [
       "          unt48    tgfb48    log2FC    FDR       p.value\n",
       "Itih2     1.640282 -5.128863 -6.769146 2.070e-09 1.0e-10\n",
       "Ugt2b34   4.614077 -1.923804 -6.537881 0.000e+00 0.0e+00\n",
       "Ngef      1.259440 -5.128863 -6.388304 2.340e-08 1.9e-09\n",
       "Mep1a     2.151093 -4.114984 -6.266077 1.167e-08 9.0e-10\n",
       "Serpina1b 4.318216 -1.818996 -6.137213 0.000e+00 0.0e+00\n",
       "Dio3os    1.667966 -4.212294 -5.880260 8.484e-08 7.8e-09"
      ]
     },
     "metadata": {},
     "output_type": "display_data"
    },
    {
     "data": {
      "text/html": [
       "<style>\n",
       ".list-inline {list-style: none; margin:0; padding: 0}\n",
       ".list-inline>li {display: inline-block}\n",
       ".list-inline>li:not(:last-child)::after {content: \"\\00b7\"; padding: 0 .5ex}\n",
       "</style>\n",
       "<ol class=list-inline><li>5288</li><li>5</li></ol>\n"
      ],
      "text/latex": [
       "\\begin{enumerate*}\n",
       "\\item 5288\n",
       "\\item 5\n",
       "\\end{enumerate*}\n"
      ],
      "text/markdown": [
       "1. 5288\n",
       "2. 5\n",
       "\n",
       "\n"
      ],
      "text/plain": [
       "[1] 5288    5"
      ]
     },
     "metadata": {},
     "output_type": "display_data"
    },
    {
     "data": {
      "text/html": [
       "FALSE"
      ],
      "text/latex": [
       "FALSE"
      ],
      "text/markdown": [
       "FALSE"
      ],
      "text/plain": [
       "[1] FALSE"
      ]
     },
     "metadata": {},
     "output_type": "display_data"
    },
    {
     "data": {
      "text/html": [
       "<table>\n",
       "<caption>A data.frame: 6 × 6</caption>\n",
       "<thead>\n",
       "\t<tr><th></th><th scope=col>unt48</th><th scope=col>tgfb48</th><th scope=col>log2FC</th><th scope=col>FDR</th><th scope=col>p.value</th><th scope=col>biotype</th></tr>\n",
       "\t<tr><th></th><th scope=col>&lt;dbl&gt;</th><th scope=col>&lt;dbl&gt;</th><th scope=col>&lt;dbl&gt;</th><th scope=col>&lt;dbl&gt;</th><th scope=col>&lt;dbl&gt;</th><th scope=col>&lt;chr&gt;</th></tr>\n",
       "</thead>\n",
       "<tbody>\n",
       "\t<tr><th scope=row>0610009B22Rik</th><td> 1.3780948</td><td> 0.55862900</td><td>-0.8194658</td><td>5.547618e-03</td><td>0.0016759278</td><td>protein_coding</td></tr>\n",
       "\t<tr><th scope=row>0610010F05Rik</th><td> 3.0717907</td><td> 3.74147621</td><td> 0.6696855</td><td>3.829709e-05</td><td>0.0000062934</td><td>protein_coding</td></tr>\n",
       "\t<tr><th scope=row>0610040J01Rik</th><td> 2.0375611</td><td>-0.10219950</td><td>-2.1397606</td><td>3.797000e-08</td><td>0.0000000032</td><td>protein_coding</td></tr>\n",
       "\t<tr><th scope=row>1110002L01Rik</th><td> 0.6359643</td><td>-0.08954396</td><td>-0.7255082</td><td>3.581027e-02</td><td>0.0147339873</td><td>lncRNA        </td></tr>\n",
       "\t<tr><th scope=row>1110012L19Rik</th><td> 2.1203010</td><td> 1.74798983</td><td>-0.3723112</td><td>4.394907e-02</td><td>0.0186986901</td><td>protein_coding</td></tr>\n",
       "\t<tr><th scope=row>1110046J04Rik</th><td>-2.5207668</td><td>-0.82482908</td><td> 1.6959377</td><td>1.196216e-02</td><td>0.0040565545</td><td>lncRNA        </td></tr>\n",
       "</tbody>\n",
       "</table>\n"
      ],
      "text/latex": [
       "A data.frame: 6 × 6\n",
       "\\begin{tabular}{r|llllll}\n",
       "  & unt48 & tgfb48 & log2FC & FDR & p.value & biotype\\\\\n",
       "  & <dbl> & <dbl> & <dbl> & <dbl> & <dbl> & <chr>\\\\\n",
       "\\hline\n",
       "\t0610009B22Rik &  1.3780948 &  0.55862900 & -0.8194658 & 5.547618e-03 & 0.0016759278 & protein\\_coding\\\\\n",
       "\t0610010F05Rik &  3.0717907 &  3.74147621 &  0.6696855 & 3.829709e-05 & 0.0000062934 & protein\\_coding\\\\\n",
       "\t0610040J01Rik &  2.0375611 & -0.10219950 & -2.1397606 & 3.797000e-08 & 0.0000000032 & protein\\_coding\\\\\n",
       "\t1110002L01Rik &  0.6359643 & -0.08954396 & -0.7255082 & 3.581027e-02 & 0.0147339873 & lncRNA        \\\\\n",
       "\t1110012L19Rik &  2.1203010 &  1.74798983 & -0.3723112 & 4.394907e-02 & 0.0186986901 & protein\\_coding\\\\\n",
       "\t1110046J04Rik & -2.5207668 & -0.82482908 &  1.6959377 & 1.196216e-02 & 0.0040565545 & lncRNA        \\\\\n",
       "\\end{tabular}\n"
      ],
      "text/markdown": [
       "\n",
       "A data.frame: 6 × 6\n",
       "\n",
       "| <!--/--> | unt48 &lt;dbl&gt; | tgfb48 &lt;dbl&gt; | log2FC &lt;dbl&gt; | FDR &lt;dbl&gt; | p.value &lt;dbl&gt; | biotype &lt;chr&gt; |\n",
       "|---|---|---|---|---|---|---|\n",
       "| 0610009B22Rik |  1.3780948 |  0.55862900 | -0.8194658 | 5.547618e-03 | 0.0016759278 | protein_coding |\n",
       "| 0610010F05Rik |  3.0717907 |  3.74147621 |  0.6696855 | 3.829709e-05 | 0.0000062934 | protein_coding |\n",
       "| 0610040J01Rik |  2.0375611 | -0.10219950 | -2.1397606 | 3.797000e-08 | 0.0000000032 | protein_coding |\n",
       "| 1110002L01Rik |  0.6359643 | -0.08954396 | -0.7255082 | 3.581027e-02 | 0.0147339873 | lncRNA         |\n",
       "| 1110012L19Rik |  2.1203010 |  1.74798983 | -0.3723112 | 4.394907e-02 | 0.0186986901 | protein_coding |\n",
       "| 1110046J04Rik | -2.5207668 | -0.82482908 |  1.6959377 | 1.196216e-02 | 0.0040565545 | lncRNA         |\n",
       "\n"
      ],
      "text/plain": [
       "              unt48      tgfb48      log2FC     FDR          p.value     \n",
       "0610009B22Rik  1.3780948  0.55862900 -0.8194658 5.547618e-03 0.0016759278\n",
       "0610010F05Rik  3.0717907  3.74147621  0.6696855 3.829709e-05 0.0000062934\n",
       "0610040J01Rik  2.0375611 -0.10219950 -2.1397606 3.797000e-08 0.0000000032\n",
       "1110002L01Rik  0.6359643 -0.08954396 -0.7255082 3.581027e-02 0.0147339873\n",
       "1110012L19Rik  2.1203010  1.74798983 -0.3723112 4.394907e-02 0.0186986901\n",
       "1110046J04Rik -2.5207668 -0.82482908  1.6959377 1.196216e-02 0.0040565545\n",
       "              biotype       \n",
       "0610009B22Rik protein_coding\n",
       "0610010F05Rik protein_coding\n",
       "0610040J01Rik protein_coding\n",
       "1110002L01Rik lncRNA        \n",
       "1110012L19Rik protein_coding\n",
       "1110046J04Rik lncRNA        "
      ]
     },
     "metadata": {},
     "output_type": "display_data"
    },
    {
     "data": {
      "text/html": [
       "<style>\n",
       ".list-inline {list-style: none; margin:0; padding: 0}\n",
       ".list-inline>li {display: inline-block}\n",
       ".list-inline>li:not(:last-child)::after {content: \"\\00b7\"; padding: 0 .5ex}\n",
       "</style>\n",
       "<ol class=list-inline><li>5288</li><li>6</li></ol>\n"
      ],
      "text/latex": [
       "\\begin{enumerate*}\n",
       "\\item 5288\n",
       "\\item 6\n",
       "\\end{enumerate*}\n"
      ],
      "text/markdown": [
       "1. 5288\n",
       "2. 6\n",
       "\n",
       "\n"
      ],
      "text/plain": [
       "[1] 5288    6"
      ]
     },
     "metadata": {},
     "output_type": "display_data"
    }
   ],
   "source": [
    "fname_mrna <- sprintf(\"170224.NMuMG.%s.unt48--vs--tgfb48.diff-all.txt.gz\", strdir)\n",
    "df_mrna <- read.table(file = sprintf(\"%s/%s\", dir_rnaseq, fname_mrna), header = TRUE, \n",
    "    sep = \"\\t\", row.names = 1, quote = \"\", comment.char = \"#\", stringsAsFactors = F)\n",
    "\n",
    "if (!is.null(pattern_remove_gene)) {\n",
    "    dim(df_mrna)\n",
    "    df_mrna <- df_mrna[!grepl(pattern_remove_gene, rownames(df_mrna)), ]\n",
    "}\n",
    "head(df_mrna)\n",
    "dim(df_mrna)\n",
    "\n",
    "idx <- which(df_all[, \"unt48.tgfb48.DEtranscription\"] != \"notSig\")\n",
    "df_mrna <- df_mrna[rownames(df_all[idx, ]), ]\n",
    "\n",
    "# df_mrna$biotype\n",
    "idx <- match(rownames(df_mrna), rownames(df_all))\n",
    "any(is.na(idx))  # should be FALSE\n",
    "df_mrna$biotype <- df_all[idx, \"biotype\"]\n",
    "\n",
    "head(df_mrna)\n",
    "dim(df_mrna)\n",
    "\n",
    "if (f_write_table) {\n",
    "    fname_out <- sprintf(\"./data/table/170224%s.NMuMG.%s.unt48--vs--tgfb48.diff-all.txt\", \n",
    "        rundate_appendix, strdir)\n",
    "    write.table(df_mrna, file = fname_out, row.names = TRUE, col.names = NA, sep = \"\\t\", \n",
    "        quote = FALSE)\n",
    "}\n",
    "\n",
    "vec_log2FC <- df_mrna$log2FC\n",
    "vec_fdr <- df_mrna$FDR\n"
   ]
  },
  {
   "cell_type": "markdown",
   "metadata": {},
   "source": [
    "### sym_mrna_up"
   ]
  },
  {
   "cell_type": "code",
   "execution_count": 89,
   "metadata": {},
   "outputs": [
    {
     "data": {
      "text/html": [
       "<style>\n",
       ".list-inline {list-style: none; margin:0; padding: 0}\n",
       ".list-inline>li {display: inline-block}\n",
       ".list-inline>li:not(:last-child)::after {content: \"\\00b7\"; padding: 0 .5ex}\n",
       "</style>\n",
       "<ol class=list-inline><li>2713</li><li>6</li></ol>\n"
      ],
      "text/latex": [
       "\\begin{enumerate*}\n",
       "\\item 2713\n",
       "\\item 6\n",
       "\\end{enumerate*}\n"
      ],
      "text/markdown": [
       "1. 2713\n",
       "2. 6\n",
       "\n",
       "\n"
      ],
      "text/plain": [
       "[1] 2713    6"
      ]
     },
     "metadata": {},
     "output_type": "display_data"
    }
   ],
   "source": [
    "f_up <- (vec_fdr < th_adj_pvalue) & (vec_log2FC > th_log2fc)\n",
    "df_mrna_up <- df_mrna[f_up,]\n",
    "sym_mrna_up <- rownames(df_mrna_up)\n",
    "dim(df_mrna_up)\n",
    "\n",
    "list_genes[['sym_mrna_up']] <- sym_mrna_up"
   ]
  },
  {
   "cell_type": "markdown",
   "metadata": {},
   "source": [
    "### sym_mrna_dn"
   ]
  },
  {
   "cell_type": "code",
   "execution_count": 90,
   "metadata": {},
   "outputs": [
    {
     "data": {
      "text/html": [
       "<style>\n",
       ".list-inline {list-style: none; margin:0; padding: 0}\n",
       ".list-inline>li {display: inline-block}\n",
       ".list-inline>li:not(:last-child)::after {content: \"\\00b7\"; padding: 0 .5ex}\n",
       "</style>\n",
       "<ol class=list-inline><li>2575</li><li>6</li></ol>\n"
      ],
      "text/latex": [
       "\\begin{enumerate*}\n",
       "\\item 2575\n",
       "\\item 6\n",
       "\\end{enumerate*}\n"
      ],
      "text/markdown": [
       "1. 2575\n",
       "2. 6\n",
       "\n",
       "\n"
      ],
      "text/plain": [
       "[1] 2575    6"
      ]
     },
     "metadata": {},
     "output_type": "display_data"
    }
   ],
   "source": [
    "f_dn <- (vec_fdr < th_adj_pvalue) & (vec_log2FC < -th_log2fc)\n",
    "df_mrna_dn <- df_mrna[f_dn,]\n",
    "sym_mrna_dn <- rownames(df_mrna_dn)\n",
    "dim(df_mrna_dn)\n",
    "\n",
    "list_genes[['sym_mrna_dn']] <- sym_mrna_dn"
   ]
  },
  {
   "cell_type": "markdown",
   "metadata": {},
   "source": [
    "### sym_mrna_dn3x"
   ]
  },
  {
   "cell_type": "code",
   "execution_count": 91,
   "metadata": {},
   "outputs": [
    {
     "data": {
      "text/html": [
       "<table>\n",
       "<caption>A data.frame: 6 × 6</caption>\n",
       "<thead>\n",
       "\t<tr><th></th><th scope=col>unt48</th><th scope=col>tgfb48</th><th scope=col>log2FC</th><th scope=col>FDR</th><th scope=col>p.value</th><th scope=col>biotype</th></tr>\n",
       "\t<tr><th></th><th scope=col>&lt;dbl&gt;</th><th scope=col>&lt;dbl&gt;</th><th scope=col>&lt;dbl&gt;</th><th scope=col>&lt;dbl&gt;</th><th scope=col>&lt;dbl&gt;</th><th scope=col>&lt;chr&gt;</th></tr>\n",
       "</thead>\n",
       "<tbody>\n",
       "\t<tr><th scope=row>Areg</th><td>4.73056994</td><td> 3.1890182</td><td>-1.541552</td><td>0.000000e+00</td><td>0.0000000000</td><td>protein_coding</td></tr>\n",
       "\t<tr><th scope=row>Arl4a</th><td>1.77397773</td><td> 0.2083347</td><td>-1.565643</td><td>2.444730e-06</td><td>0.0000003042</td><td>protein_coding</td></tr>\n",
       "\t<tr><th scope=row>Arrb1</th><td>2.30361308</td><td> 0.7528758</td><td>-1.550737</td><td>1.098600e-07</td><td>0.0000000103</td><td>protein_coding</td></tr>\n",
       "\t<tr><th scope=row>Bcam</th><td>0.04162516</td><td>-1.4695714</td><td>-1.511197</td><td>5.507664e-03</td><td>0.0016617252</td><td>protein_coding</td></tr>\n",
       "\t<tr><th scope=row>Bicd1</th><td>2.50891352</td><td> 1.0085863</td><td>-1.500327</td><td>1.709600e-07</td><td>0.0000000167</td><td>protein_coding</td></tr>\n",
       "\t<tr><th scope=row>Bmp4</th><td>1.29905203</td><td>-0.2520544</td><td>-1.551106</td><td>4.041069e-05</td><td>0.0000066657</td><td>protein_coding</td></tr>\n",
       "</tbody>\n",
       "</table>\n"
      ],
      "text/latex": [
       "A data.frame: 6 × 6\n",
       "\\begin{tabular}{r|llllll}\n",
       "  & unt48 & tgfb48 & log2FC & FDR & p.value & biotype\\\\\n",
       "  & <dbl> & <dbl> & <dbl> & <dbl> & <dbl> & <chr>\\\\\n",
       "\\hline\n",
       "\tAreg & 4.73056994 &  3.1890182 & -1.541552 & 0.000000e+00 & 0.0000000000 & protein\\_coding\\\\\n",
       "\tArl4a & 1.77397773 &  0.2083347 & -1.565643 & 2.444730e-06 & 0.0000003042 & protein\\_coding\\\\\n",
       "\tArrb1 & 2.30361308 &  0.7528758 & -1.550737 & 1.098600e-07 & 0.0000000103 & protein\\_coding\\\\\n",
       "\tBcam & 0.04162516 & -1.4695714 & -1.511197 & 5.507664e-03 & 0.0016617252 & protein\\_coding\\\\\n",
       "\tBicd1 & 2.50891352 &  1.0085863 & -1.500327 & 1.709600e-07 & 0.0000000167 & protein\\_coding\\\\\n",
       "\tBmp4 & 1.29905203 & -0.2520544 & -1.551106 & 4.041069e-05 & 0.0000066657 & protein\\_coding\\\\\n",
       "\\end{tabular}\n"
      ],
      "text/markdown": [
       "\n",
       "A data.frame: 6 × 6\n",
       "\n",
       "| <!--/--> | unt48 &lt;dbl&gt; | tgfb48 &lt;dbl&gt; | log2FC &lt;dbl&gt; | FDR &lt;dbl&gt; | p.value &lt;dbl&gt; | biotype &lt;chr&gt; |\n",
       "|---|---|---|---|---|---|---|\n",
       "| Areg | 4.73056994 |  3.1890182 | -1.541552 | 0.000000e+00 | 0.0000000000 | protein_coding |\n",
       "| Arl4a | 1.77397773 |  0.2083347 | -1.565643 | 2.444730e-06 | 0.0000003042 | protein_coding |\n",
       "| Arrb1 | 2.30361308 |  0.7528758 | -1.550737 | 1.098600e-07 | 0.0000000103 | protein_coding |\n",
       "| Bcam | 0.04162516 | -1.4695714 | -1.511197 | 5.507664e-03 | 0.0016617252 | protein_coding |\n",
       "| Bicd1 | 2.50891352 |  1.0085863 | -1.500327 | 1.709600e-07 | 0.0000000167 | protein_coding |\n",
       "| Bmp4 | 1.29905203 | -0.2520544 | -1.551106 | 4.041069e-05 | 0.0000066657 | protein_coding |\n",
       "\n"
      ],
      "text/plain": [
       "      unt48      tgfb48     log2FC    FDR          p.value      biotype       \n",
       "Areg  4.73056994  3.1890182 -1.541552 0.000000e+00 0.0000000000 protein_coding\n",
       "Arl4a 1.77397773  0.2083347 -1.565643 2.444730e-06 0.0000003042 protein_coding\n",
       "Arrb1 2.30361308  0.7528758 -1.550737 1.098600e-07 0.0000000103 protein_coding\n",
       "Bcam  0.04162516 -1.4695714 -1.511197 5.507664e-03 0.0016617252 protein_coding\n",
       "Bicd1 2.50891352  1.0085863 -1.500327 1.709600e-07 0.0000000167 protein_coding\n",
       "Bmp4  1.29905203 -0.2520544 -1.551106 4.041069e-05 0.0000066657 protein_coding"
      ]
     },
     "metadata": {},
     "output_type": "display_data"
    },
    {
     "data": {
      "text/html": [
       "<style>\n",
       ".list-inline {list-style: none; margin:0; padding: 0}\n",
       ".list-inline>li {display: inline-block}\n",
       ".list-inline>li:not(:last-child)::after {content: \"\\00b7\"; padding: 0 .5ex}\n",
       "</style>\n",
       "<ol class=list-inline><li>68</li><li>6</li></ol>\n"
      ],
      "text/latex": [
       "\\begin{enumerate*}\n",
       "\\item 68\n",
       "\\item 6\n",
       "\\end{enumerate*}\n"
      ],
      "text/markdown": [
       "1. 68\n",
       "2. 6\n",
       "\n",
       "\n"
      ],
      "text/plain": [
       "[1] 68  6"
      ]
     },
     "metadata": {},
     "output_type": "display_data"
    }
   ],
   "source": [
    "f_dn3x <- (vec_fdr < th_adj_pvalue) & \n",
    "         (vec_log2FC > -log2(3.15) & vec_log2FC < -log2(2.75))\n",
    "df_mrna_dn3x <- df_mrna[f_dn3x,]\n",
    "sym_mrna_dn3x <- rownames(df_mrna_dn3x)\n",
    "head(df_mrna_dn3x)\n",
    "dim(df_mrna_dn3x)\n",
    "\n",
    "list_genes[['sym_mrna_dn3x']] <- sym_mrna_dn3x"
   ]
  },
  {
   "cell_type": "markdown",
   "metadata": {},
   "source": [
    "### sym_mrna"
   ]
  },
  {
   "cell_type": "code",
   "execution_count": 92,
   "metadata": {},
   "outputs": [
    {
     "data": {
      "text/html": [
       "5288"
      ],
      "text/latex": [
       "5288"
      ],
      "text/markdown": [
       "5288"
      ],
      "text/plain": [
       "[1] 5288"
      ]
     },
     "metadata": {},
     "output_type": "display_data"
    }
   ],
   "source": [
    "sym_mrna <- union(sym_mrna_up, sym_mrna_dn)\n",
    "length(sym_mrna)\n",
    "\n",
    "df_mrna <- df_mrna[sym_mrna,,drop=F]"
   ]
  },
  {
   "cell_type": "markdown",
   "metadata": {},
   "source": [
    "### sym_mrna_no"
   ]
  },
  {
   "cell_type": "code",
   "execution_count": 93,
   "metadata": {},
   "outputs": [
    {
     "data": {
      "text/html": [
       "7625"
      ],
      "text/latex": [
       "7625"
      ],
      "text/markdown": [
       "7625"
      ],
      "text/plain": [
       "[1] 7625"
      ]
     },
     "metadata": {},
     "output_type": "display_data"
    }
   ],
   "source": [
    "sym_mrna_no <- setdiff(sym_rnaseq, sym_mrna)\n",
    "length(sym_mrna_no)\n",
    "\n",
    "# Not DE in total RNA-seq for control vs. tgfb48\n",
    "# with GRCm38.97.gtf RSEM: 7732\n",
    "# with GRCm38.97.gtf HTSEQ: 7630\n",
    "# with GRCm38.97.rRNA.gtf: 7703"
   ]
  },
  {
   "cell_type": "markdown",
   "metadata": {},
   "source": [
    "### sym_mrna_de_detected_both"
   ]
  },
  {
   "cell_type": "code",
   "execution_count": 94,
   "metadata": {},
   "outputs": [
    {
     "data": {
      "text/html": [
       "4415"
      ],
      "text/latex": [
       "4415"
      ],
      "text/markdown": [
       "4415"
      ],
      "text/plain": [
       "[1] 4415"
      ]
     },
     "metadata": {},
     "output_type": "display_data"
    }
   ],
   "source": [
    "sym_mrna_de_detected_both <- intersect(sym_mrna, sym_detected_both)\n",
    "length(sym_mrna_de_detected_both)\n"
   ]
  },
  {
   "cell_type": "markdown",
   "metadata": {},
   "source": [
    "## df_ribo"
   ]
  },
  {
   "cell_type": "code",
   "execution_count": 95,
   "metadata": {},
   "outputs": [
    {
     "data": {
      "text/html": [
       "<table>\n",
       "<caption>A data.frame: 6 × 5</caption>\n",
       "<thead>\n",
       "\t<tr><th></th><th scope=col>unt48</th><th scope=col>tgfb48</th><th scope=col>log2FC</th><th scope=col>FDR</th><th scope=col>p.value</th></tr>\n",
       "\t<tr><th></th><th scope=col>&lt;dbl&gt;</th><th scope=col>&lt;dbl&gt;</th><th scope=col>&lt;dbl&gt;</th><th scope=col>&lt;dbl&gt;</th><th scope=col>&lt;dbl&gt;</th></tr>\n",
       "</thead>\n",
       "<tbody>\n",
       "\t<tr><th scope=row>Akr1c19</th><td>2.972913</td><td>-3.1463625</td><td>-6.119275</td><td>3.170000e-08</td><td>1.1000e-09</td></tr>\n",
       "\t<tr><th scope=row>Lgals4</th><td>5.783977</td><td> 0.4568861</td><td>-5.327091</td><td>0.000000e+00</td><td>0.0000e+00</td></tr>\n",
       "\t<tr><th scope=row>Ugt2b34</th><td>3.582636</td><td>-1.4148791</td><td>-4.997515</td><td>3.140000e-09</td><td>1.0000e-10</td></tr>\n",
       "\t<tr><th scope=row>Itih2</th><td>1.167930</td><td>-3.6746833</td><td>-4.842613</td><td>1.734998e-05</td><td>1.0367e-06</td></tr>\n",
       "\t<tr><th scope=row>Tigit</th><td>2.073585</td><td>-2.5762724</td><td>-4.649857</td><td>2.404480e-05</td><td>1.5041e-06</td></tr>\n",
       "\t<tr><th scope=row>Ermp1</th><td>4.282262</td><td>-0.1966184</td><td>-4.478880</td><td>2.000000e-11</td><td>0.0000e+00</td></tr>\n",
       "</tbody>\n",
       "</table>\n"
      ],
      "text/latex": [
       "A data.frame: 6 × 5\n",
       "\\begin{tabular}{r|lllll}\n",
       "  & unt48 & tgfb48 & log2FC & FDR & p.value\\\\\n",
       "  & <dbl> & <dbl> & <dbl> & <dbl> & <dbl>\\\\\n",
       "\\hline\n",
       "\tAkr1c19 & 2.972913 & -3.1463625 & -6.119275 & 3.170000e-08 & 1.1000e-09\\\\\n",
       "\tLgals4 & 5.783977 &  0.4568861 & -5.327091 & 0.000000e+00 & 0.0000e+00\\\\\n",
       "\tUgt2b34 & 3.582636 & -1.4148791 & -4.997515 & 3.140000e-09 & 1.0000e-10\\\\\n",
       "\tItih2 & 1.167930 & -3.6746833 & -4.842613 & 1.734998e-05 & 1.0367e-06\\\\\n",
       "\tTigit & 2.073585 & -2.5762724 & -4.649857 & 2.404480e-05 & 1.5041e-06\\\\\n",
       "\tErmp1 & 4.282262 & -0.1966184 & -4.478880 & 2.000000e-11 & 0.0000e+00\\\\\n",
       "\\end{tabular}\n"
      ],
      "text/markdown": [
       "\n",
       "A data.frame: 6 × 5\n",
       "\n",
       "| <!--/--> | unt48 &lt;dbl&gt; | tgfb48 &lt;dbl&gt; | log2FC &lt;dbl&gt; | FDR &lt;dbl&gt; | p.value &lt;dbl&gt; |\n",
       "|---|---|---|---|---|---|\n",
       "| Akr1c19 | 2.972913 | -3.1463625 | -6.119275 | 3.170000e-08 | 1.1000e-09 |\n",
       "| Lgals4 | 5.783977 |  0.4568861 | -5.327091 | 0.000000e+00 | 0.0000e+00 |\n",
       "| Ugt2b34 | 3.582636 | -1.4148791 | -4.997515 | 3.140000e-09 | 1.0000e-10 |\n",
       "| Itih2 | 1.167930 | -3.6746833 | -4.842613 | 1.734998e-05 | 1.0367e-06 |\n",
       "| Tigit | 2.073585 | -2.5762724 | -4.649857 | 2.404480e-05 | 1.5041e-06 |\n",
       "| Ermp1 | 4.282262 | -0.1966184 | -4.478880 | 2.000000e-11 | 0.0000e+00 |\n",
       "\n"
      ],
      "text/plain": [
       "        unt48    tgfb48     log2FC    FDR          p.value   \n",
       "Akr1c19 2.972913 -3.1463625 -6.119275 3.170000e-08 1.1000e-09\n",
       "Lgals4  5.783977  0.4568861 -5.327091 0.000000e+00 0.0000e+00\n",
       "Ugt2b34 3.582636 -1.4148791 -4.997515 3.140000e-09 1.0000e-10\n",
       "Itih2   1.167930 -3.6746833 -4.842613 1.734998e-05 1.0367e-06\n",
       "Tigit   2.073585 -2.5762724 -4.649857 2.404480e-05 1.5041e-06\n",
       "Ermp1   4.282262 -0.1966184 -4.478880 2.000000e-11 0.0000e+00"
      ]
     },
     "metadata": {},
     "output_type": "display_data"
    },
    {
     "data": {
      "text/html": [
       "<style>\n",
       ".list-inline {list-style: none; margin:0; padding: 0}\n",
       ".list-inline>li {display: inline-block}\n",
       ".list-inline>li:not(:last-child)::after {content: \"\\00b7\"; padding: 0 .5ex}\n",
       "</style>\n",
       "<ol class=list-inline><li>2183</li><li>5</li></ol>\n"
      ],
      "text/latex": [
       "\\begin{enumerate*}\n",
       "\\item 2183\n",
       "\\item 5\n",
       "\\end{enumerate*}\n"
      ],
      "text/markdown": [
       "1. 2183\n",
       "2. 5\n",
       "\n",
       "\n"
      ],
      "text/plain": [
       "[1] 2183    5"
      ]
     },
     "metadata": {},
     "output_type": "display_data"
    },
    {
     "data": {
      "text/html": [
       "FALSE"
      ],
      "text/latex": [
       "FALSE"
      ],
      "text/markdown": [
       "FALSE"
      ],
      "text/plain": [
       "[1] FALSE"
      ]
     },
     "metadata": {},
     "output_type": "display_data"
    },
    {
     "data": {
      "text/html": [
       "<table>\n",
       "<caption>A data.frame: 6 × 6</caption>\n",
       "<thead>\n",
       "\t<tr><th></th><th scope=col>unt48</th><th scope=col>tgfb48</th><th scope=col>log2FC</th><th scope=col>FDR</th><th scope=col>p.value</th><th scope=col>biotype</th></tr>\n",
       "\t<tr><th></th><th scope=col>&lt;dbl&gt;</th><th scope=col>&lt;dbl&gt;</th><th scope=col>&lt;dbl&gt;</th><th scope=col>&lt;dbl&gt;</th><th scope=col>&lt;dbl&gt;</th><th scope=col>&lt;chr&gt;</th></tr>\n",
       "</thead>\n",
       "<tbody>\n",
       "\t<tr><th scope=row>1500011B03Rik</th><td>0.9749769</td><td>-0.6392740</td><td>-1.6142509</td><td>2.899104e-02</td><td>0.0052723729</td><td>protein_coding</td></tr>\n",
       "\t<tr><th scope=row>1700017B05Rik</th><td>2.6078233</td><td> 3.7538244</td><td> 1.1460011</td><td>1.938400e-07</td><td>0.0000000078</td><td>protein_coding</td></tr>\n",
       "\t<tr><th scope=row>1700021F05Rik</th><td>1.5161538</td><td> 0.2188761</td><td>-1.2972777</td><td>2.097997e-02</td><td>0.0035395960</td><td>protein_coding</td></tr>\n",
       "\t<tr><th scope=row>1700037H04Rik</th><td>1.9977438</td><td> 0.6242094</td><td>-1.3735344</td><td>7.937892e-03</td><td>0.0010867306</td><td>protein_coding</td></tr>\n",
       "\t<tr><th scope=row>1810022K09Rik</th><td>1.2220342</td><td>-0.2602219</td><td>-1.4822561</td><td>3.427127e-02</td><td>0.0065308584</td><td>protein_coding</td></tr>\n",
       "\t<tr><th scope=row>2200002D01Rik</th><td>3.6340760</td><td> 3.0558296</td><td>-0.5782464</td><td>1.088532e-02</td><td>0.0015660208</td><td>protein_coding</td></tr>\n",
       "</tbody>\n",
       "</table>\n"
      ],
      "text/latex": [
       "A data.frame: 6 × 6\n",
       "\\begin{tabular}{r|llllll}\n",
       "  & unt48 & tgfb48 & log2FC & FDR & p.value & biotype\\\\\n",
       "  & <dbl> & <dbl> & <dbl> & <dbl> & <dbl> & <chr>\\\\\n",
       "\\hline\n",
       "\t1500011B03Rik & 0.9749769 & -0.6392740 & -1.6142509 & 2.899104e-02 & 0.0052723729 & protein\\_coding\\\\\n",
       "\t1700017B05Rik & 2.6078233 &  3.7538244 &  1.1460011 & 1.938400e-07 & 0.0000000078 & protein\\_coding\\\\\n",
       "\t1700021F05Rik & 1.5161538 &  0.2188761 & -1.2972777 & 2.097997e-02 & 0.0035395960 & protein\\_coding\\\\\n",
       "\t1700037H04Rik & 1.9977438 &  0.6242094 & -1.3735344 & 7.937892e-03 & 0.0010867306 & protein\\_coding\\\\\n",
       "\t1810022K09Rik & 1.2220342 & -0.2602219 & -1.4822561 & 3.427127e-02 & 0.0065308584 & protein\\_coding\\\\\n",
       "\t2200002D01Rik & 3.6340760 &  3.0558296 & -0.5782464 & 1.088532e-02 & 0.0015660208 & protein\\_coding\\\\\n",
       "\\end{tabular}\n"
      ],
      "text/markdown": [
       "\n",
       "A data.frame: 6 × 6\n",
       "\n",
       "| <!--/--> | unt48 &lt;dbl&gt; | tgfb48 &lt;dbl&gt; | log2FC &lt;dbl&gt; | FDR &lt;dbl&gt; | p.value &lt;dbl&gt; | biotype &lt;chr&gt; |\n",
       "|---|---|---|---|---|---|---|\n",
       "| 1500011B03Rik | 0.9749769 | -0.6392740 | -1.6142509 | 2.899104e-02 | 0.0052723729 | protein_coding |\n",
       "| 1700017B05Rik | 2.6078233 |  3.7538244 |  1.1460011 | 1.938400e-07 | 0.0000000078 | protein_coding |\n",
       "| 1700021F05Rik | 1.5161538 |  0.2188761 | -1.2972777 | 2.097997e-02 | 0.0035395960 | protein_coding |\n",
       "| 1700037H04Rik | 1.9977438 |  0.6242094 | -1.3735344 | 7.937892e-03 | 0.0010867306 | protein_coding |\n",
       "| 1810022K09Rik | 1.2220342 | -0.2602219 | -1.4822561 | 3.427127e-02 | 0.0065308584 | protein_coding |\n",
       "| 2200002D01Rik | 3.6340760 |  3.0558296 | -0.5782464 | 1.088532e-02 | 0.0015660208 | protein_coding |\n",
       "\n"
      ],
      "text/plain": [
       "              unt48     tgfb48     log2FC     FDR          p.value     \n",
       "1500011B03Rik 0.9749769 -0.6392740 -1.6142509 2.899104e-02 0.0052723729\n",
       "1700017B05Rik 2.6078233  3.7538244  1.1460011 1.938400e-07 0.0000000078\n",
       "1700021F05Rik 1.5161538  0.2188761 -1.2972777 2.097997e-02 0.0035395960\n",
       "1700037H04Rik 1.9977438  0.6242094 -1.3735344 7.937892e-03 0.0010867306\n",
       "1810022K09Rik 1.2220342 -0.2602219 -1.4822561 3.427127e-02 0.0065308584\n",
       "2200002D01Rik 3.6340760  3.0558296 -0.5782464 1.088532e-02 0.0015660208\n",
       "              biotype       \n",
       "1500011B03Rik protein_coding\n",
       "1700017B05Rik protein_coding\n",
       "1700021F05Rik protein_coding\n",
       "1700037H04Rik protein_coding\n",
       "1810022K09Rik protein_coding\n",
       "2200002D01Rik protein_coding"
      ]
     },
     "metadata": {},
     "output_type": "display_data"
    },
    {
     "data": {
      "text/html": [
       "<style>\n",
       ".list-inline {list-style: none; margin:0; padding: 0}\n",
       ".list-inline>li {display: inline-block}\n",
       ".list-inline>li:not(:last-child)::after {content: \"\\00b7\"; padding: 0 .5ex}\n",
       "</style>\n",
       "<ol class=list-inline><li>2183</li><li>6</li></ol>\n"
      ],
      "text/latex": [
       "\\begin{enumerate*}\n",
       "\\item 2183\n",
       "\\item 6\n",
       "\\end{enumerate*}\n"
      ],
      "text/markdown": [
       "1. 2183\n",
       "2. 6\n",
       "\n",
       "\n"
      ],
      "text/plain": [
       "[1] 2183    6"
      ]
     },
     "metadata": {},
     "output_type": "display_data"
    }
   ],
   "source": [
    "# dir_riboseq <- '../data/limma-voom.mrna/161021/NMuMG' fname_ribo <-\n",
    "# 'emt.161021.limma-voom.mrna.limma.gene.unt48--vs--tgfb48.diff-all.txt'\n",
    "fname_ribo <- sprintf(\"161021.NMuMG.%s.unt48--vs--tgfb48.diff-all.txt.gz\", strdir)\n",
    "df_ribo <- read.table(file = sprintf(\"%s/%s\", dir_riboseq, fname_ribo), header = TRUE, \n",
    "    sep = \"\\t\", row.names = 1, quote = \"\", comment.char = \"#\", stringsAsFactors = F)\n",
    "\n",
    "if (!is.null(pattern_remove_gene)) {\n",
    "    dim(df_ribo)\n",
    "    df_ribo <- df_ribo[!grepl(pattern_remove_gene, rownames(df_ribo)), ]\n",
    "}\n",
    "head(df_ribo)\n",
    "dim(df_ribo)\n",
    "\n",
    "idx <- which(df_all[, \"unt48.tgfb48.DEtranslation\"] != \"notSig\")\n",
    "df_ribo <- df_ribo[rownames(df_all[idx, ]), ]\n",
    "\n",
    "# df_mrna$biotype\n",
    "idx <- match(rownames(df_ribo), rownames(df_all))\n",
    "any(is.na(idx))  # should be FALSE\n",
    "df_ribo$biotype <- df_all[idx, \"biotype\"]\n",
    "\n",
    "head(df_ribo)\n",
    "dim(df_ribo)\n",
    "\n",
    "\n",
    "if (f_write_table) {\n",
    "    fname_out <- sprintf(\"./data/table/161021%s.NMuMG.%s.unt48--vs--tgfb48.diff-all.txt\", \n",
    "        rundate_appendix, strdir)\n",
    "    write.table(df_ribo, file = fname_out, row.names = TRUE, col.names = NA, sep = \"\\t\", \n",
    "        quote = FALSE)\n",
    "}\n",
    "\n",
    "vec_log2FC <- df_ribo$log2FC\n",
    "vec_fdr <- df_ribo$FDR\n"
   ]
  },
  {
   "cell_type": "markdown",
   "metadata": {},
   "source": [
    "### sym_ribo_up"
   ]
  },
  {
   "cell_type": "code",
   "execution_count": 96,
   "metadata": {},
   "outputs": [
    {
     "data": {
      "text/html": [
       "<style>\n",
       ".list-inline {list-style: none; margin:0; padding: 0}\n",
       ".list-inline>li {display: inline-block}\n",
       ".list-inline>li:not(:last-child)::after {content: \"\\00b7\"; padding: 0 .5ex}\n",
       "</style>\n",
       "<ol class=list-inline><li>1216</li><li>6</li></ol>\n"
      ],
      "text/latex": [
       "\\begin{enumerate*}\n",
       "\\item 1216\n",
       "\\item 6\n",
       "\\end{enumerate*}\n"
      ],
      "text/markdown": [
       "1. 1216\n",
       "2. 6\n",
       "\n",
       "\n"
      ],
      "text/plain": [
       "[1] 1216    6"
      ]
     },
     "metadata": {},
     "output_type": "display_data"
    }
   ],
   "source": [
    "f_up <- (vec_fdr < th_adj_pvalue) & (vec_log2FC > th_log2fc)\n",
    "df_ribo_up <- df_ribo[f_up,]\n",
    "sym_ribo_up <- rownames(df_ribo_up)\n",
    "dim(df_ribo_up)\n",
    "\n",
    "list_genes[['sym_ribo_up']] <- sym_ribo_up"
   ]
  },
  {
   "cell_type": "markdown",
   "metadata": {},
   "source": [
    "### sym_ribo_dn"
   ]
  },
  {
   "cell_type": "code",
   "execution_count": 97,
   "metadata": {},
   "outputs": [
    {
     "data": {
      "text/html": [
       "<style>\n",
       ".list-inline {list-style: none; margin:0; padding: 0}\n",
       ".list-inline>li {display: inline-block}\n",
       ".list-inline>li:not(:last-child)::after {content: \"\\00b7\"; padding: 0 .5ex}\n",
       "</style>\n",
       "<ol class=list-inline><li>967</li><li>6</li></ol>\n"
      ],
      "text/latex": [
       "\\begin{enumerate*}\n",
       "\\item 967\n",
       "\\item 6\n",
       "\\end{enumerate*}\n"
      ],
      "text/markdown": [
       "1. 967\n",
       "2. 6\n",
       "\n",
       "\n"
      ],
      "text/plain": [
       "[1] 967   6"
      ]
     },
     "metadata": {},
     "output_type": "display_data"
    }
   ],
   "source": [
    "f_dn <- (vec_fdr < th_adj_pvalue) & (vec_log2FC < -th_log2fc)\n",
    "df_ribo_dn <- df_ribo[f_dn,]\n",
    "sym_ribo_dn <- rownames(df_ribo_dn)\n",
    "dim(df_ribo_dn)\n",
    "\n",
    "list_genes[['sym_ribo_dn']] <- sym_ribo_dn"
   ]
  },
  {
   "cell_type": "markdown",
   "metadata": {},
   "source": [
    "### sym_ribo_dn3x"
   ]
  },
  {
   "cell_type": "code",
   "execution_count": 98,
   "metadata": {},
   "outputs": [
    {
     "data": {
      "text/html": [
       "<table>\n",
       "<caption>A data.frame: 6 × 6</caption>\n",
       "<thead>\n",
       "\t<tr><th></th><th scope=col>unt48</th><th scope=col>tgfb48</th><th scope=col>log2FC</th><th scope=col>FDR</th><th scope=col>p.value</th><th scope=col>biotype</th></tr>\n",
       "\t<tr><th></th><th scope=col>&lt;dbl&gt;</th><th scope=col>&lt;dbl&gt;</th><th scope=col>&lt;dbl&gt;</th><th scope=col>&lt;dbl&gt;</th><th scope=col>&lt;dbl&gt;</th><th scope=col>&lt;chr&gt;</th></tr>\n",
       "</thead>\n",
       "<tbody>\n",
       "\t<tr><th scope=row>1500011B03Rik</th><td>0.9749769</td><td>-0.63927403</td><td>-1.614251</td><td>2.899104e-02</td><td>0.0052723729</td><td>protein_coding</td></tr>\n",
       "\t<tr><th scope=row>1810022K09Rik</th><td>1.2220342</td><td>-0.26022186</td><td>-1.482256</td><td>3.427127e-02</td><td>0.0065308584</td><td>protein_coding</td></tr>\n",
       "\t<tr><th scope=row>Abcc3</th><td>3.3512283</td><td> 1.76084801</td><td>-1.590380</td><td>1.076490e-06</td><td>0.0000000491</td><td>protein_coding</td></tr>\n",
       "\t<tr><th scope=row>Alkbh7</th><td>1.4856990</td><td> 0.01557098</td><td>-1.470128</td><td>2.775712e-02</td><td>0.0050023459</td><td>protein_coding</td></tr>\n",
       "\t<tr><th scope=row>Angpt2</th><td>0.8902749</td><td>-0.63865979</td><td>-1.528935</td><td>3.914492e-02</td><td>0.0077623734</td><td>protein_coding</td></tr>\n",
       "\t<tr><th scope=row>Anxa4</th><td>6.2716177</td><td> 4.73604843</td><td>-1.535569</td><td>0.000000e+00</td><td>0.0000000000</td><td>protein_coding</td></tr>\n",
       "</tbody>\n",
       "</table>\n"
      ],
      "text/latex": [
       "A data.frame: 6 × 6\n",
       "\\begin{tabular}{r|llllll}\n",
       "  & unt48 & tgfb48 & log2FC & FDR & p.value & biotype\\\\\n",
       "  & <dbl> & <dbl> & <dbl> & <dbl> & <dbl> & <chr>\\\\\n",
       "\\hline\n",
       "\t1500011B03Rik & 0.9749769 & -0.63927403 & -1.614251 & 2.899104e-02 & 0.0052723729 & protein\\_coding\\\\\n",
       "\t1810022K09Rik & 1.2220342 & -0.26022186 & -1.482256 & 3.427127e-02 & 0.0065308584 & protein\\_coding\\\\\n",
       "\tAbcc3 & 3.3512283 &  1.76084801 & -1.590380 & 1.076490e-06 & 0.0000000491 & protein\\_coding\\\\\n",
       "\tAlkbh7 & 1.4856990 &  0.01557098 & -1.470128 & 2.775712e-02 & 0.0050023459 & protein\\_coding\\\\\n",
       "\tAngpt2 & 0.8902749 & -0.63865979 & -1.528935 & 3.914492e-02 & 0.0077623734 & protein\\_coding\\\\\n",
       "\tAnxa4 & 6.2716177 &  4.73604843 & -1.535569 & 0.000000e+00 & 0.0000000000 & protein\\_coding\\\\\n",
       "\\end{tabular}\n"
      ],
      "text/markdown": [
       "\n",
       "A data.frame: 6 × 6\n",
       "\n",
       "| <!--/--> | unt48 &lt;dbl&gt; | tgfb48 &lt;dbl&gt; | log2FC &lt;dbl&gt; | FDR &lt;dbl&gt; | p.value &lt;dbl&gt; | biotype &lt;chr&gt; |\n",
       "|---|---|---|---|---|---|---|\n",
       "| 1500011B03Rik | 0.9749769 | -0.63927403 | -1.614251 | 2.899104e-02 | 0.0052723729 | protein_coding |\n",
       "| 1810022K09Rik | 1.2220342 | -0.26022186 | -1.482256 | 3.427127e-02 | 0.0065308584 | protein_coding |\n",
       "| Abcc3 | 3.3512283 |  1.76084801 | -1.590380 | 1.076490e-06 | 0.0000000491 | protein_coding |\n",
       "| Alkbh7 | 1.4856990 |  0.01557098 | -1.470128 | 2.775712e-02 | 0.0050023459 | protein_coding |\n",
       "| Angpt2 | 0.8902749 | -0.63865979 | -1.528935 | 3.914492e-02 | 0.0077623734 | protein_coding |\n",
       "| Anxa4 | 6.2716177 |  4.73604843 | -1.535569 | 0.000000e+00 | 0.0000000000 | protein_coding |\n",
       "\n"
      ],
      "text/plain": [
       "              unt48     tgfb48      log2FC    FDR          p.value     \n",
       "1500011B03Rik 0.9749769 -0.63927403 -1.614251 2.899104e-02 0.0052723729\n",
       "1810022K09Rik 1.2220342 -0.26022186 -1.482256 3.427127e-02 0.0065308584\n",
       "Abcc3         3.3512283  1.76084801 -1.590380 1.076490e-06 0.0000000491\n",
       "Alkbh7        1.4856990  0.01557098 -1.470128 2.775712e-02 0.0050023459\n",
       "Angpt2        0.8902749 -0.63865979 -1.528935 3.914492e-02 0.0077623734\n",
       "Anxa4         6.2716177  4.73604843 -1.535569 0.000000e+00 0.0000000000\n",
       "              biotype       \n",
       "1500011B03Rik protein_coding\n",
       "1810022K09Rik protein_coding\n",
       "Abcc3         protein_coding\n",
       "Alkbh7        protein_coding\n",
       "Angpt2        protein_coding\n",
       "Anxa4         protein_coding"
      ]
     },
     "metadata": {},
     "output_type": "display_data"
    },
    {
     "data": {
      "text/html": [
       "<style>\n",
       ".list-inline {list-style: none; margin:0; padding: 0}\n",
       ".list-inline>li {display: inline-block}\n",
       ".list-inline>li:not(:last-child)::after {content: \"\\00b7\"; padding: 0 .5ex}\n",
       "</style>\n",
       "<ol class=list-inline><li>65</li><li>6</li></ol>\n"
      ],
      "text/latex": [
       "\\begin{enumerate*}\n",
       "\\item 65\n",
       "\\item 6\n",
       "\\end{enumerate*}\n"
      ],
      "text/markdown": [
       "1. 65\n",
       "2. 6\n",
       "\n",
       "\n"
      ],
      "text/plain": [
       "[1] 65  6"
      ]
     },
     "metadata": {},
     "output_type": "display_data"
    }
   ],
   "source": [
    "f_dn3x <- (vec_fdr < th_adj_pvalue) &\n",
    "         (vec_log2FC > -log2(3.15) & vec_log2FC < -log2(2.75))\n",
    "df_ribo_dn3x <- df_ribo[f_dn3x,]\n",
    "sym_ribo_dn3x <- rownames(df_ribo_dn3x)\n",
    "head(df_ribo_dn3x)\n",
    "dim(df_ribo_dn3x)\n",
    "\n",
    "list_genes[['sym_ribo_dn3x']] <- sym_ribo_dn3x"
   ]
  },
  {
   "cell_type": "markdown",
   "metadata": {},
   "source": [
    "### sym_ribo"
   ]
  },
  {
   "cell_type": "code",
   "execution_count": 99,
   "metadata": {},
   "outputs": [
    {
     "data": {
      "text/html": [
       "2183"
      ],
      "text/latex": [
       "2183"
      ],
      "text/markdown": [
       "2183"
      ],
      "text/plain": [
       "[1] 2183"
      ]
     },
     "metadata": {},
     "output_type": "display_data"
    }
   ],
   "source": [
    "sym_ribo <- union(sym_ribo_up, sym_ribo_dn)\n",
    "length(sym_ribo)\n",
    "\n",
    "df_ribo <- df_ribo[sym_ribo,,drop=F]"
   ]
  },
  {
   "cell_type": "markdown",
   "metadata": {},
   "source": [
    "### sym_ribo_no"
   ]
  },
  {
   "cell_type": "code",
   "execution_count": 100,
   "metadata": {},
   "outputs": [
    {
     "data": {
      "text/html": [
       "8160"
      ],
      "text/latex": [
       "8160"
      ],
      "text/markdown": [
       "8160"
      ],
      "text/plain": [
       "[1] 8160"
      ]
     },
     "metadata": {},
     "output_type": "display_data"
    }
   ],
   "source": [
    "sym_ribo_no <- setdiff(sym_riboseq, sym_ribo)\n",
    "length(sym_ribo_no)\n",
    "\n",
    "# Not DE in ribosome profiling for control vs. tgfb48\n",
    "# with GRCm38.97.gtf RSEM: 9633\n",
    "# with GRCm38.97.gtf HTSEQ: 8497\n",
    "# with GRCm38.97.rRNA.gtf: 9659"
   ]
  },
  {
   "cell_type": "markdown",
   "metadata": {},
   "source": [
    "### sym_ribo_de_detected_both"
   ]
  },
  {
   "cell_type": "code",
   "execution_count": 101,
   "metadata": {},
   "outputs": [
    {
     "data": {
      "text/html": [
       "2073"
      ],
      "text/latex": [
       "2073"
      ],
      "text/markdown": [
       "2073"
      ],
      "text/plain": [
       "[1] 2073"
      ]
     },
     "metadata": {},
     "output_type": "display_data"
    }
   ],
   "source": [
    "sym_ribo_de_detected_both <- intersect(sym_ribo, sym_detected_both)\n",
    "length(sym_ribo_de_detected_both)"
   ]
  },
  {
   "cell_type": "markdown",
   "metadata": {},
   "source": [
    "## biotype"
   ]
  },
  {
   "cell_type": "code",
   "execution_count": 102,
   "metadata": {},
   "outputs": [
    {
     "data": {
      "text/html": [
       "<style>\n",
       ".list-inline {list-style: none; margin:0; padding: 0}\n",
       ".list-inline>li {display: inline-block}\n",
       ".list-inline>li:not(:last-child)::after {content: \"\\00b7\"; padding: 0 .5ex}\n",
       "</style>\n",
       "<ol class=list-inline><li>'protein_coding'</li><li>'lncRNA'</li><li>'polymorphic_pseudogene'</li><li>'processed_pseudogene'</li><li>'unprocessed_pseudogene'</li><li>'snRNA'</li><li>'snoRNA'</li><li>'miRNA'</li><li>'rRNA'</li><li>'misc_RNA'</li><li>'IG_C_gene'</li><li>'Mt_rRNA'</li><li>'Mt_tRNA'</li><li>'ribozyme'</li><li>'transcribed_processed_pseudogene'</li><li>'rDNA'</li></ol>\n"
      ],
      "text/latex": [
       "\\begin{enumerate*}\n",
       "\\item 'protein\\_coding'\n",
       "\\item 'lncRNA'\n",
       "\\item 'polymorphic\\_pseudogene'\n",
       "\\item 'processed\\_pseudogene'\n",
       "\\item 'unprocessed\\_pseudogene'\n",
       "\\item 'snRNA'\n",
       "\\item 'snoRNA'\n",
       "\\item 'miRNA'\n",
       "\\item 'rRNA'\n",
       "\\item 'misc\\_RNA'\n",
       "\\item 'IG\\_C\\_gene'\n",
       "\\item 'Mt\\_rRNA'\n",
       "\\item 'Mt\\_tRNA'\n",
       "\\item 'ribozyme'\n",
       "\\item 'transcribed\\_processed\\_pseudogene'\n",
       "\\item 'rDNA'\n",
       "\\end{enumerate*}\n"
      ],
      "text/markdown": [
       "1. 'protein_coding'\n",
       "2. 'lncRNA'\n",
       "3. 'polymorphic_pseudogene'\n",
       "4. 'processed_pseudogene'\n",
       "5. 'unprocessed_pseudogene'\n",
       "6. 'snRNA'\n",
       "7. 'snoRNA'\n",
       "8. 'miRNA'\n",
       "9. 'rRNA'\n",
       "10. 'misc_RNA'\n",
       "11. 'IG_C_gene'\n",
       "12. 'Mt_rRNA'\n",
       "13. 'Mt_tRNA'\n",
       "14. 'ribozyme'\n",
       "15. 'transcribed_processed_pseudogene'\n",
       "16. 'rDNA'\n",
       "\n",
       "\n"
      ],
      "text/plain": [
       " [1] \"protein_coding\"                   \"lncRNA\"                          \n",
       " [3] \"polymorphic_pseudogene\"           \"processed_pseudogene\"            \n",
       " [5] \"unprocessed_pseudogene\"           \"snRNA\"                           \n",
       " [7] \"snoRNA\"                           \"miRNA\"                           \n",
       " [9] \"rRNA\"                             \"misc_RNA\"                        \n",
       "[11] \"IG_C_gene\"                        \"Mt_rRNA\"                         \n",
       "[13] \"Mt_tRNA\"                          \"ribozyme\"                        \n",
       "[15] \"transcribed_processed_pseudogene\" \"rDNA\"                            "
      ]
     },
     "metadata": {},
     "output_type": "display_data"
    },
    {
     "data": {
      "text/html": [
       "40"
      ],
      "text/latex": [
       "40"
      ],
      "text/markdown": [
       "40"
      ],
      "text/plain": [
       "[1] 40"
      ]
     },
     "metadata": {},
     "output_type": "display_data"
    }
   ],
   "source": [
    "unique(df_ribo$biotype)\n",
    "length(which(df_ribo$biotype=='processed_pseudogene'))"
   ]
  },
  {
   "cell_type": "markdown",
   "metadata": {},
   "source": [
    "## protein_coding only"
   ]
  },
  {
   "cell_type": "code",
   "execution_count": 103,
   "metadata": {
    "scrolled": true
   },
   "outputs": [
    {
     "data": {
      "text/html": [
       "<table>\n",
       "<caption>A data.frame: 6 × 6</caption>\n",
       "<thead>\n",
       "\t<tr><th></th><th scope=col>unt48</th><th scope=col>tgfb48</th><th scope=col>log2FC</th><th scope=col>FDR</th><th scope=col>p.value</th><th scope=col>biotype</th></tr>\n",
       "\t<tr><th></th><th scope=col>&lt;dbl&gt;</th><th scope=col>&lt;dbl&gt;</th><th scope=col>&lt;dbl&gt;</th><th scope=col>&lt;dbl&gt;</th><th scope=col>&lt;dbl&gt;</th><th scope=col>&lt;chr&gt;</th></tr>\n",
       "</thead>\n",
       "<tbody>\n",
       "\t<tr><th scope=row>1700017B05Rik</th><td>2.607823</td><td>3.753824</td><td>1.1460011</td><td>1.938400e-07</td><td>0.0000000078</td><td>protein_coding</td></tr>\n",
       "\t<tr><th scope=row>4930402H24Rik</th><td>2.075533</td><td>3.447984</td><td>1.3724509</td><td>1.995000e-07</td><td>0.0000000081</td><td>protein_coding</td></tr>\n",
       "\t<tr><th scope=row>4931406P16Rik</th><td>1.359496</td><td>2.584558</td><td>1.2250627</td><td>2.122674e-04</td><td>0.0000169313</td><td>protein_coding</td></tr>\n",
       "\t<tr><th scope=row>Abcf3</th><td>2.063664</td><td>2.720818</td><td>0.6571541</td><td>3.310276e-02</td><td>0.0062468040</td><td>protein_coding</td></tr>\n",
       "\t<tr><th scope=row>Abcg2</th><td>1.241131</td><td>2.263150</td><td>1.0220188</td><td>4.737738e-03</td><td>0.0005936487</td><td>protein_coding</td></tr>\n",
       "\t<tr><th scope=row>Abl1</th><td>2.151249</td><td>2.763326</td><td>0.6120770</td><td>3.859921e-02</td><td>0.0076093772</td><td>protein_coding</td></tr>\n",
       "</tbody>\n",
       "</table>\n"
      ],
      "text/latex": [
       "A data.frame: 6 × 6\n",
       "\\begin{tabular}{r|llllll}\n",
       "  & unt48 & tgfb48 & log2FC & FDR & p.value & biotype\\\\\n",
       "  & <dbl> & <dbl> & <dbl> & <dbl> & <dbl> & <chr>\\\\\n",
       "\\hline\n",
       "\t1700017B05Rik & 2.607823 & 3.753824 & 1.1460011 & 1.938400e-07 & 0.0000000078 & protein\\_coding\\\\\n",
       "\t4930402H24Rik & 2.075533 & 3.447984 & 1.3724509 & 1.995000e-07 & 0.0000000081 & protein\\_coding\\\\\n",
       "\t4931406P16Rik & 1.359496 & 2.584558 & 1.2250627 & 2.122674e-04 & 0.0000169313 & protein\\_coding\\\\\n",
       "\tAbcf3 & 2.063664 & 2.720818 & 0.6571541 & 3.310276e-02 & 0.0062468040 & protein\\_coding\\\\\n",
       "\tAbcg2 & 1.241131 & 2.263150 & 1.0220188 & 4.737738e-03 & 0.0005936487 & protein\\_coding\\\\\n",
       "\tAbl1 & 2.151249 & 2.763326 & 0.6120770 & 3.859921e-02 & 0.0076093772 & protein\\_coding\\\\\n",
       "\\end{tabular}\n"
      ],
      "text/markdown": [
       "\n",
       "A data.frame: 6 × 6\n",
       "\n",
       "| <!--/--> | unt48 &lt;dbl&gt; | tgfb48 &lt;dbl&gt; | log2FC &lt;dbl&gt; | FDR &lt;dbl&gt; | p.value &lt;dbl&gt; | biotype &lt;chr&gt; |\n",
       "|---|---|---|---|---|---|---|\n",
       "| 1700017B05Rik | 2.607823 | 3.753824 | 1.1460011 | 1.938400e-07 | 0.0000000078 | protein_coding |\n",
       "| 4930402H24Rik | 2.075533 | 3.447984 | 1.3724509 | 1.995000e-07 | 0.0000000081 | protein_coding |\n",
       "| 4931406P16Rik | 1.359496 | 2.584558 | 1.2250627 | 2.122674e-04 | 0.0000169313 | protein_coding |\n",
       "| Abcf3 | 2.063664 | 2.720818 | 0.6571541 | 3.310276e-02 | 0.0062468040 | protein_coding |\n",
       "| Abcg2 | 1.241131 | 2.263150 | 1.0220188 | 4.737738e-03 | 0.0005936487 | protein_coding |\n",
       "| Abl1 | 2.151249 | 2.763326 | 0.6120770 | 3.859921e-02 | 0.0076093772 | protein_coding |\n",
       "\n"
      ],
      "text/plain": [
       "              unt48    tgfb48   log2FC    FDR          p.value     \n",
       "1700017B05Rik 2.607823 3.753824 1.1460011 1.938400e-07 0.0000000078\n",
       "4930402H24Rik 2.075533 3.447984 1.3724509 1.995000e-07 0.0000000081\n",
       "4931406P16Rik 1.359496 2.584558 1.2250627 2.122674e-04 0.0000169313\n",
       "Abcf3         2.063664 2.720818 0.6571541 3.310276e-02 0.0062468040\n",
       "Abcg2         1.241131 2.263150 1.0220188 4.737738e-03 0.0005936487\n",
       "Abl1          2.151249 2.763326 0.6120770 3.859921e-02 0.0076093772\n",
       "              biotype       \n",
       "1700017B05Rik protein_coding\n",
       "4930402H24Rik protein_coding\n",
       "4931406P16Rik protein_coding\n",
       "Abcf3         protein_coding\n",
       "Abcg2         protein_coding\n",
       "Abl1          protein_coding"
      ]
     },
     "metadata": {},
     "output_type": "display_data"
    },
    {
     "data": {
      "text/html": [
       "<style>\n",
       ".list-inline {list-style: none; margin:0; padding: 0}\n",
       ".list-inline>li {display: inline-block}\n",
       ".list-inline>li:not(:last-child)::after {content: \"\\00b7\"; padding: 0 .5ex}\n",
       "</style>\n",
       "<ol class=list-inline><li>2033</li><li>6</li></ol>\n"
      ],
      "text/latex": [
       "\\begin{enumerate*}\n",
       "\\item 2033\n",
       "\\item 6\n",
       "\\end{enumerate*}\n"
      ],
      "text/markdown": [
       "1. 2033\n",
       "2. 6\n",
       "\n",
       "\n"
      ],
      "text/plain": [
       "[1] 2033    6"
      ]
     },
     "metadata": {},
     "output_type": "display_data"
    }
   ],
   "source": [
    "f <- grepl('^protein_coding$', df_ribo$biotype)\n",
    "df_ribo_wo_pseudo <- df_ribo[f,]\n",
    "head(df_ribo_wo_pseudo)\n",
    "dim(df_ribo_wo_pseudo)\n"
   ]
  },
  {
   "cell_type": "markdown",
   "metadata": {},
   "source": [
    "## shared between both rnaseq and riboseq"
   ]
  },
  {
   "cell_type": "markdown",
   "metadata": {},
   "source": [
    "### sym_mrna_ribo_no"
   ]
  },
  {
   "cell_type": "code",
   "execution_count": 104,
   "metadata": {},
   "outputs": [
    {
     "data": {
      "text/html": [
       "4920"
      ],
      "text/latex": [
       "4920"
      ],
      "text/markdown": [
       "4920"
      ],
      "text/plain": [
       "[1] 4920"
      ]
     },
     "metadata": {},
     "output_type": "display_data"
    }
   ],
   "source": [
    "sym_mrna_ribo_no <- intersect(sym_mrna_no, sym_ribo_no)\n",
    "length(sym_mrna_ribo_no)\n",
    "\n",
    "# Not DE in both platform for control vs. tgfb48\n",
    "# with GRCm38.97.gtf RSEM: 5351\n",
    "# with GRCm38.97.gtf HTSEQ: 5027\n",
    "# with GRCm38.97.rRNA.gtf: 5351"
   ]
  },
  {
   "cell_type": "markdown",
   "metadata": {},
   "source": [
    "### sym_mrna_up_ribo_up"
   ]
  },
  {
   "cell_type": "code",
   "execution_count": 105,
   "metadata": {},
   "outputs": [
    {
     "data": {
      "text/html": [
       "936"
      ],
      "text/latex": [
       "936"
      ],
      "text/markdown": [
       "936"
      ],
      "text/plain": [
       "[1] 936"
      ]
     },
     "metadata": {},
     "output_type": "display_data"
    }
   ],
   "source": [
    "# detected in both platforms\n",
    "sym_mrna_up_ribo_up <- intersect(sym_mrna_up, sym_ribo_up)\n",
    "length(sym_mrna_up_ribo_up)\n",
    "\n",
    "list_genes[['sym_mrna_up_ribo_up']] <- sym_mrna_up_ribo_up"
   ]
  },
  {
   "cell_type": "markdown",
   "metadata": {},
   "source": [
    "### sym_mrna_dn_ribo_dn"
   ]
  },
  {
   "cell_type": "code",
   "execution_count": 106,
   "metadata": {},
   "outputs": [
    {
     "data": {
      "text/html": [
       "773"
      ],
      "text/latex": [
       "773"
      ],
      "text/markdown": [
       "773"
      ],
      "text/plain": [
       "[1] 773"
      ]
     },
     "metadata": {},
     "output_type": "display_data"
    }
   ],
   "source": [
    "# detected in both platforms\n",
    "sym_mrna_dn_ribo_dn <- intersect(sym_mrna_dn, sym_ribo_dn)\n",
    "length(sym_mrna_dn_ribo_dn)\n",
    "\n",
    "list_genes[['sym_mrna_dn_ribo_dn']] <- sym_mrna_dn_ribo_dn"
   ]
  },
  {
   "cell_type": "markdown",
   "metadata": {},
   "source": [
    "### sym_mrna_up_ribo_dn"
   ]
  },
  {
   "cell_type": "code",
   "execution_count": 107,
   "metadata": {},
   "outputs": [
    {
     "data": {
      "text/html": [
       "<style>\n",
       ".list-inline {list-style: none; margin:0; padding: 0}\n",
       ".list-inline>li {display: inline-block}\n",
       ".list-inline>li:not(:last-child)::after {content: \"\\00b7\"; padding: 0 .5ex}\n",
       "</style>\n",
       "<ol class=list-inline><li>'Arl8a'</li><li>'Hist1h4n'</li><li>'Sh3kbp1'</li></ol>\n"
      ],
      "text/latex": [
       "\\begin{enumerate*}\n",
       "\\item 'Arl8a'\n",
       "\\item 'Hist1h4n'\n",
       "\\item 'Sh3kbp1'\n",
       "\\end{enumerate*}\n"
      ],
      "text/markdown": [
       "1. 'Arl8a'\n",
       "2. 'Hist1h4n'\n",
       "3. 'Sh3kbp1'\n",
       "\n",
       "\n"
      ],
      "text/plain": [
       "[1] \"Arl8a\"    \"Hist1h4n\" \"Sh3kbp1\" "
      ]
     },
     "metadata": {},
     "output_type": "display_data"
    },
    {
     "data": {
      "text/html": [
       "3"
      ],
      "text/latex": [
       "3"
      ],
      "text/markdown": [
       "3"
      ],
      "text/plain": [
       "[1] 3"
      ]
     },
     "metadata": {},
     "output_type": "display_data"
    }
   ],
   "source": [
    "# detected in both platforms\n",
    "sym_mrna_up_ribo_dn <- intersect(sym_mrna_up, sym_ribo_dn)\n",
    "sym_mrna_up_ribo_dn\n",
    "length(sym_mrna_up_ribo_dn)\n",
    "\n",
    "list_genes[['sym_mrna_up_ribo_dn']] <- sym_mrna_up_ribo_dn"
   ]
  },
  {
   "cell_type": "markdown",
   "metadata": {},
   "source": [
    "### sym_mrna_dn_ribo_up"
   ]
  },
  {
   "cell_type": "code",
   "execution_count": 108,
   "metadata": {},
   "outputs": [
    {
     "data": {
      "text/html": [
       "<style>\n",
       ".list-inline {list-style: none; margin:0; padding: 0}\n",
       ".list-inline>li {display: inline-block}\n",
       ".list-inline>li:not(:last-child)::after {content: \"\\00b7\"; padding: 0 .5ex}\n",
       "</style>\n",
       "<ol class=list-inline><li>'Aco1'</li><li>'Eef1a1'</li><li>'Gm23143'</li><li>'Gm24265'</li><li>'Lurap1l'</li><li>'Osgin1'</li><li>'Plk2'</li><li>'Rabggta'</li><li>'rDNA_Rn5-8s'</li><li>'Rny1'</li><li>'Rpa1'</li><li>'Rprl3'</li><li>'Tsr1'</li><li>'Umps'</li><li>'Upk1b'</li><li>'Ybx1'</li></ol>\n"
      ],
      "text/latex": [
       "\\begin{enumerate*}\n",
       "\\item 'Aco1'\n",
       "\\item 'Eef1a1'\n",
       "\\item 'Gm23143'\n",
       "\\item 'Gm24265'\n",
       "\\item 'Lurap1l'\n",
       "\\item 'Osgin1'\n",
       "\\item 'Plk2'\n",
       "\\item 'Rabggta'\n",
       "\\item 'rDNA\\_Rn5-8s'\n",
       "\\item 'Rny1'\n",
       "\\item 'Rpa1'\n",
       "\\item 'Rprl3'\n",
       "\\item 'Tsr1'\n",
       "\\item 'Umps'\n",
       "\\item 'Upk1b'\n",
       "\\item 'Ybx1'\n",
       "\\end{enumerate*}\n"
      ],
      "text/markdown": [
       "1. 'Aco1'\n",
       "2. 'Eef1a1'\n",
       "3. 'Gm23143'\n",
       "4. 'Gm24265'\n",
       "5. 'Lurap1l'\n",
       "6. 'Osgin1'\n",
       "7. 'Plk2'\n",
       "8. 'Rabggta'\n",
       "9. 'rDNA_Rn5-8s'\n",
       "10. 'Rny1'\n",
       "11. 'Rpa1'\n",
       "12. 'Rprl3'\n",
       "13. 'Tsr1'\n",
       "14. 'Umps'\n",
       "15. 'Upk1b'\n",
       "16. 'Ybx1'\n",
       "\n",
       "\n"
      ],
      "text/plain": [
       " [1] \"Aco1\"        \"Eef1a1\"      \"Gm23143\"     \"Gm24265\"     \"Lurap1l\"    \n",
       " [6] \"Osgin1\"      \"Plk2\"        \"Rabggta\"     \"rDNA_Rn5-8s\" \"Rny1\"       \n",
       "[11] \"Rpa1\"        \"Rprl3\"       \"Tsr1\"        \"Umps\"        \"Upk1b\"      \n",
       "[16] \"Ybx1\"       "
      ]
     },
     "metadata": {},
     "output_type": "display_data"
    },
    {
     "data": {
      "text/html": [
       "16"
      ],
      "text/latex": [
       "16"
      ],
      "text/markdown": [
       "16"
      ],
      "text/plain": [
       "[1] 16"
      ]
     },
     "metadata": {},
     "output_type": "display_data"
    }
   ],
   "source": [
    "# detected in both platforms\n",
    "sym_mrna_dn_ribo_up <- intersect(sym_mrna_dn, sym_ribo_up)\n",
    "sym_mrna_dn_ribo_up\n",
    "length(sym_mrna_dn_ribo_up)\n",
    "\n",
    "list_genes[['sym_mrna_dn_ribo_up']] <- sym_mrna_dn_ribo_up"
   ]
  },
  {
   "cell_type": "markdown",
   "metadata": {},
   "source": [
    "## transcription & translation total"
   ]
  },
  {
   "cell_type": "code",
   "execution_count": 109,
   "metadata": {},
   "outputs": [
    {
     "data": {
      "text/html": [
       "5288"
      ],
      "text/latex": [
       "5288"
      ],
      "text/markdown": [
       "5288"
      ],
      "text/plain": [
       "[1] 5288"
      ]
     },
     "metadata": {},
     "output_type": "display_data"
    },
    {
     "data": {
      "text/html": [
       "2183"
      ],
      "text/latex": [
       "2183"
      ],
      "text/markdown": [
       "2183"
      ],
      "text/plain": [
       "[1] 2183"
      ]
     },
     "metadata": {},
     "output_type": "display_data"
    },
    {
     "data": {
      "text/html": [
       "1728"
      ],
      "text/latex": [
       "1728"
      ],
      "text/markdown": [
       "1728"
      ],
      "text/plain": [
       "[1] 1728"
      ]
     },
     "metadata": {},
     "output_type": "display_data"
    }
   ],
   "source": [
    "\n",
    "length(sym_mrna)\n",
    "length(sym_ribo)\n",
    "\n",
    "# detected in both platforms\n",
    "sym_mrna_de_ribo_de <- intersect(sym_mrna, sym_ribo)\n",
    "length(sym_mrna_de_ribo_de)\n"
   ]
  },
  {
   "cell_type": "code",
   "execution_count": 110,
   "metadata": {},
   "outputs": [
    {
     "data": {
      "text/html": [
       "4415"
      ],
      "text/latex": [
       "4415"
      ],
      "text/markdown": [
       "4415"
      ],
      "text/plain": [
       "[1] 4415"
      ]
     },
     "metadata": {},
     "output_type": "display_data"
    },
    {
     "data": {
      "text/html": [
       "2073"
      ],
      "text/latex": [
       "2073"
      ],
      "text/markdown": [
       "2073"
      ],
      "text/plain": [
       "[1] 2073"
      ]
     },
     "metadata": {},
     "output_type": "display_data"
    },
    {
     "data": {
      "text/html": [
       "1728"
      ],
      "text/latex": [
       "1728"
      ],
      "text/markdown": [
       "1728"
      ],
      "text/plain": [
       "[1] 1728"
      ]
     },
     "metadata": {},
     "output_type": "display_data"
    }
   ],
   "source": [
    "# detected in both platforms\n",
    "length(sym_mrna_de_detected_both)\n",
    "length(sym_ribo_de_detected_both)\n",
    "sym_mrna_de_ribo_de <- intersect(sym_mrna_de_detected_both, sym_ribo_de_detected_both)\n",
    "length(sym_mrna_de_ribo_de)\n"
   ]
  },
  {
   "cell_type": "markdown",
   "metadata": {},
   "source": [
    "### validation"
   ]
  },
  {
   "cell_type": "code",
   "execution_count": 111,
   "metadata": {
    "scrolled": false
   },
   "outputs": [
    {
     "data": {
      "text/html": [
       "1728"
      ],
      "text/latex": [
       "1728"
      ],
      "text/markdown": [
       "1728"
      ],
      "text/plain": [
       "[1] 1728"
      ]
     },
     "metadata": {},
     "output_type": "display_data"
    }
   ],
   "source": [
    "length(sym_mrna_up_ribo_up) + length(sym_mrna_dn_ribo_dn) +\n",
    "length(sym_mrna_up_ribo_dn) + length(sym_mrna_dn_ribo_up)"
   ]
  },
  {
   "cell_type": "markdown",
   "metadata": {},
   "source": [
    "## df_mrna_only"
   ]
  },
  {
   "cell_type": "code",
   "execution_count": 112,
   "metadata": {
    "scrolled": true
   },
   "outputs": [
    {
     "data": {
      "text/html": [
       "3560"
      ],
      "text/latex": [
       "3560"
      ],
      "text/markdown": [
       "3560"
      ],
      "text/plain": [
       "[1] 3560"
      ]
     },
     "metadata": {},
     "output_type": "display_data"
    },
    {
     "data": {
      "text/html": [
       "<table>\n",
       "<caption>A data.frame: 6 × 6</caption>\n",
       "<thead>\n",
       "\t<tr><th></th><th scope=col>unt48</th><th scope=col>tgfb48</th><th scope=col>log2FC</th><th scope=col>FDR</th><th scope=col>p.value</th><th scope=col>biotype</th></tr>\n",
       "\t<tr><th></th><th scope=col>&lt;dbl&gt;</th><th scope=col>&lt;dbl&gt;</th><th scope=col>&lt;dbl&gt;</th><th scope=col>&lt;dbl&gt;</th><th scope=col>&lt;dbl&gt;</th><th scope=col>&lt;chr&gt;</th></tr>\n",
       "</thead>\n",
       "<tbody>\n",
       "\t<tr><th scope=row>0610010F05Rik</th><td> 3.0717907</td><td> 3.74147621</td><td>0.6696855</td><td>3.829709e-05</td><td>0.0000062934</td><td>protein_coding</td></tr>\n",
       "\t<tr><th scope=row>1110046J04Rik</th><td>-2.5207668</td><td>-0.82482908</td><td>1.6959377</td><td>1.196216e-02</td><td>0.0040565545</td><td>lncRNA        </td></tr>\n",
       "\t<tr><th scope=row>1500009C09Rik</th><td>-5.1302054</td><td>-2.15308879</td><td>2.9771166</td><td>3.631782e-03</td><td>0.0010296960</td><td>protein_coding</td></tr>\n",
       "\t<tr><th scope=row>1700001C19Rik</th><td>-4.6018846</td><td>-1.59908837</td><td>3.0027962</td><td>4.348290e-03</td><td>0.0012624286</td><td>protein_coding</td></tr>\n",
       "\t<tr><th scope=row>1700006J14Rik</th><td>-0.9045477</td><td>-0.07321008</td><td>0.8313376</td><td>4.730304e-02</td><td>0.0204150721</td><td>lncRNA        </td></tr>\n",
       "\t<tr><th scope=row>1700018A04Rik</th><td>-2.1593318</td><td> 0.44183829</td><td>2.6011701</td><td>6.289988e-05</td><td>0.0000109988</td><td>lncRNA        </td></tr>\n",
       "</tbody>\n",
       "</table>\n"
      ],
      "text/latex": [
       "A data.frame: 6 × 6\n",
       "\\begin{tabular}{r|llllll}\n",
       "  & unt48 & tgfb48 & log2FC & FDR & p.value & biotype\\\\\n",
       "  & <dbl> & <dbl> & <dbl> & <dbl> & <dbl> & <chr>\\\\\n",
       "\\hline\n",
       "\t0610010F05Rik &  3.0717907 &  3.74147621 & 0.6696855 & 3.829709e-05 & 0.0000062934 & protein\\_coding\\\\\n",
       "\t1110046J04Rik & -2.5207668 & -0.82482908 & 1.6959377 & 1.196216e-02 & 0.0040565545 & lncRNA        \\\\\n",
       "\t1500009C09Rik & -5.1302054 & -2.15308879 & 2.9771166 & 3.631782e-03 & 0.0010296960 & protein\\_coding\\\\\n",
       "\t1700001C19Rik & -4.6018846 & -1.59908837 & 3.0027962 & 4.348290e-03 & 0.0012624286 & protein\\_coding\\\\\n",
       "\t1700006J14Rik & -0.9045477 & -0.07321008 & 0.8313376 & 4.730304e-02 & 0.0204150721 & lncRNA        \\\\\n",
       "\t1700018A04Rik & -2.1593318 &  0.44183829 & 2.6011701 & 6.289988e-05 & 0.0000109988 & lncRNA        \\\\\n",
       "\\end{tabular}\n"
      ],
      "text/markdown": [
       "\n",
       "A data.frame: 6 × 6\n",
       "\n",
       "| <!--/--> | unt48 &lt;dbl&gt; | tgfb48 &lt;dbl&gt; | log2FC &lt;dbl&gt; | FDR &lt;dbl&gt; | p.value &lt;dbl&gt; | biotype &lt;chr&gt; |\n",
       "|---|---|---|---|---|---|---|\n",
       "| 0610010F05Rik |  3.0717907 |  3.74147621 | 0.6696855 | 3.829709e-05 | 0.0000062934 | protein_coding |\n",
       "| 1110046J04Rik | -2.5207668 | -0.82482908 | 1.6959377 | 1.196216e-02 | 0.0040565545 | lncRNA         |\n",
       "| 1500009C09Rik | -5.1302054 | -2.15308879 | 2.9771166 | 3.631782e-03 | 0.0010296960 | protein_coding |\n",
       "| 1700001C19Rik | -4.6018846 | -1.59908837 | 3.0027962 | 4.348290e-03 | 0.0012624286 | protein_coding |\n",
       "| 1700006J14Rik | -0.9045477 | -0.07321008 | 0.8313376 | 4.730304e-02 | 0.0204150721 | lncRNA         |\n",
       "| 1700018A04Rik | -2.1593318 |  0.44183829 | 2.6011701 | 6.289988e-05 | 0.0000109988 | lncRNA         |\n",
       "\n"
      ],
      "text/plain": [
       "              unt48      tgfb48      log2FC    FDR          p.value     \n",
       "0610010F05Rik  3.0717907  3.74147621 0.6696855 3.829709e-05 0.0000062934\n",
       "1110046J04Rik -2.5207668 -0.82482908 1.6959377 1.196216e-02 0.0040565545\n",
       "1500009C09Rik -5.1302054 -2.15308879 2.9771166 3.631782e-03 0.0010296960\n",
       "1700001C19Rik -4.6018846 -1.59908837 3.0027962 4.348290e-03 0.0012624286\n",
       "1700006J14Rik -0.9045477 -0.07321008 0.8313376 4.730304e-02 0.0204150721\n",
       "1700018A04Rik -2.1593318  0.44183829 2.6011701 6.289988e-05 0.0000109988\n",
       "              biotype       \n",
       "0610010F05Rik protein_coding\n",
       "1110046J04Rik lncRNA        \n",
       "1500009C09Rik protein_coding\n",
       "1700001C19Rik protein_coding\n",
       "1700006J14Rik lncRNA        \n",
       "1700018A04Rik lncRNA        "
      ]
     },
     "metadata": {},
     "output_type": "display_data"
    },
    {
     "data": {
      "text/html": [
       "<style>\n",
       ".list-inline {list-style: none; margin:0; padding: 0}\n",
       ".list-inline>li {display: inline-block}\n",
       ".list-inline>li:not(:last-child)::after {content: \"\\00b7\"; padding: 0 .5ex}\n",
       "</style>\n",
       "<ol class=list-inline><li>3560</li><li>6</li></ol>\n"
      ],
      "text/latex": [
       "\\begin{enumerate*}\n",
       "\\item 3560\n",
       "\\item 6\n",
       "\\end{enumerate*}\n"
      ],
      "text/markdown": [
       "1. 3560\n",
       "2. 6\n",
       "\n",
       "\n"
      ],
      "text/plain": [
       "[1] 3560    6"
      ]
     },
     "metadata": {},
     "output_type": "display_data"
    }
   ],
   "source": [
    "sym_mrna_only <- setdiff(sym_mrna, sym_ribo)\n",
    "length(sym_mrna_only)\n",
    "\n",
    "# subsetting df_mrna\n",
    "df_mrna_only <- df_mrna[sym_mrna_only,]\n",
    "head(df_mrna_only)\n",
    "dim(df_mrna_only)\n",
    "\n"
   ]
  },
  {
   "cell_type": "markdown",
   "metadata": {},
   "source": [
    "### check riboseq FDR"
   ]
  },
  {
   "cell_type": "code",
   "execution_count": 113,
   "metadata": {
    "scrolled": true
   },
   "outputs": [
    {
     "data": {
      "text/html": [
       "<table>\n",
       "<caption>A data.frame: 6 × 6</caption>\n",
       "<thead>\n",
       "\t<tr><th></th><th scope=col>unt48</th><th scope=col>tgfb48</th><th scope=col>log2FC</th><th scope=col>FDR</th><th scope=col>p.value</th><th scope=col>biotype</th></tr>\n",
       "\t<tr><th></th><th scope=col>&lt;dbl&gt;</th><th scope=col>&lt;dbl&gt;</th><th scope=col>&lt;dbl&gt;</th><th scope=col>&lt;dbl&gt;</th><th scope=col>&lt;dbl&gt;</th><th scope=col>&lt;chr&gt;</th></tr>\n",
       "</thead>\n",
       "<tbody>\n",
       "\t<tr><th scope=row>Atp5a1</th><td>6.543008</td><td>6.299365</td><td>-0.2436438</td><td>0.004166421</td><td>0.0005099767</td><td>protein_coding</td></tr>\n",
       "\t<tr><th scope=row>Krt8</th><td>6.465768</td><td>6.655029</td><td> 0.1892606</td><td>0.017984660</td><td>0.0028881872</td><td>protein_coding</td></tr>\n",
       "\t<tr><th scope=row>Eef1b2</th><td>5.699159</td><td>5.448913</td><td>-0.2502463</td><td>0.037826085</td><td>0.0073801643</td><td>protein_coding</td></tr>\n",
       "\t<tr><th scope=row>Fam160b1</th><td>2.483063</td><td>3.033937</td><td> 0.5508746</td><td>0.050046192</td><td>0.0106354983</td><td>protein_coding</td></tr>\n",
       "\t<tr><th scope=row>Mrpl21</th><td>3.063110</td><td>2.487265</td><td>-0.5758453</td><td>0.050046192</td><td>0.0106401988</td><td>protein_coding</td></tr>\n",
       "\t<tr><th scope=row>Phip</th><td>1.741018</td><td>2.417732</td><td> 0.6767138</td><td>0.050046192</td><td>0.0106329403</td><td>protein_coding</td></tr>\n",
       "</tbody>\n",
       "</table>\n"
      ],
      "text/latex": [
       "A data.frame: 6 × 6\n",
       "\\begin{tabular}{r|llllll}\n",
       "  & unt48 & tgfb48 & log2FC & FDR & p.value & biotype\\\\\n",
       "  & <dbl> & <dbl> & <dbl> & <dbl> & <dbl> & <chr>\\\\\n",
       "\\hline\n",
       "\tAtp5a1 & 6.543008 & 6.299365 & -0.2436438 & 0.004166421 & 0.0005099767 & protein\\_coding\\\\\n",
       "\tKrt8 & 6.465768 & 6.655029 &  0.1892606 & 0.017984660 & 0.0028881872 & protein\\_coding\\\\\n",
       "\tEef1b2 & 5.699159 & 5.448913 & -0.2502463 & 0.037826085 & 0.0073801643 & protein\\_coding\\\\\n",
       "\tFam160b1 & 2.483063 & 3.033937 &  0.5508746 & 0.050046192 & 0.0106354983 & protein\\_coding\\\\\n",
       "\tMrpl21 & 3.063110 & 2.487265 & -0.5758453 & 0.050046192 & 0.0106401988 & protein\\_coding\\\\\n",
       "\tPhip & 1.741018 & 2.417732 &  0.6767138 & 0.050046192 & 0.0106329403 & protein\\_coding\\\\\n",
       "\\end{tabular}\n"
      ],
      "text/markdown": [
       "\n",
       "A data.frame: 6 × 6\n",
       "\n",
       "| <!--/--> | unt48 &lt;dbl&gt; | tgfb48 &lt;dbl&gt; | log2FC &lt;dbl&gt; | FDR &lt;dbl&gt; | p.value &lt;dbl&gt; | biotype &lt;chr&gt; |\n",
       "|---|---|---|---|---|---|---|\n",
       "| Atp5a1 | 6.543008 | 6.299365 | -0.2436438 | 0.004166421 | 0.0005099767 | protein_coding |\n",
       "| Krt8 | 6.465768 | 6.655029 |  0.1892606 | 0.017984660 | 0.0028881872 | protein_coding |\n",
       "| Eef1b2 | 5.699159 | 5.448913 | -0.2502463 | 0.037826085 | 0.0073801643 | protein_coding |\n",
       "| Fam160b1 | 2.483063 | 3.033937 |  0.5508746 | 0.050046192 | 0.0106354983 | protein_coding |\n",
       "| Mrpl21 | 3.063110 | 2.487265 | -0.5758453 | 0.050046192 | 0.0106401988 | protein_coding |\n",
       "| Phip | 1.741018 | 2.417732 |  0.6767138 | 0.050046192 | 0.0106329403 | protein_coding |\n",
       "\n"
      ],
      "text/plain": [
       "         unt48    tgfb48   log2FC     FDR         p.value      biotype       \n",
       "Atp5a1   6.543008 6.299365 -0.2436438 0.004166421 0.0005099767 protein_coding\n",
       "Krt8     6.465768 6.655029  0.1892606 0.017984660 0.0028881872 protein_coding\n",
       "Eef1b2   5.699159 5.448913 -0.2502463 0.037826085 0.0073801643 protein_coding\n",
       "Fam160b1 2.483063 3.033937  0.5508746 0.050046192 0.0106354983 protein_coding\n",
       "Mrpl21   3.063110 2.487265 -0.5758453 0.050046192 0.0106401988 protein_coding\n",
       "Phip     1.741018 2.417732  0.6767138 0.050046192 0.0106329403 protein_coding"
      ]
     },
     "metadata": {},
     "output_type": "display_data"
    },
    {
     "data": {
      "text/html": [
       "FALSE"
      ],
      "text/latex": [
       "FALSE"
      ],
      "text/markdown": [
       "FALSE"
      ],
      "text/plain": [
       "[1] FALSE"
      ]
     },
     "metadata": {},
     "output_type": "display_data"
    }
   ],
   "source": [
    "f <- rownames(df_riboseq) %in% rownames(df_mrna_only)\n",
    "head(df_riboseq[f,])\n",
    "\n",
    "any(abs(df_riboseq[f,'log2FC']) > th_log2fc & df_riboseq[f,'FDR'] < th_adj_pvalue)\n"
   ]
  },
  {
   "cell_type": "code",
   "execution_count": 114,
   "metadata": {},
   "outputs": [],
   "source": [
    "vec_log2FC <- df_mrna_only$log2FC\n",
    "vec_fdr <- df_mrna_only$FDR\n"
   ]
  },
  {
   "cell_type": "markdown",
   "metadata": {},
   "source": [
    "### sym_mrna_up_ribo_no"
   ]
  },
  {
   "cell_type": "code",
   "execution_count": 115,
   "metadata": {},
   "outputs": [
    {
     "data": {
      "text/html": [
       "<style>\n",
       ".list-inline {list-style: none; margin:0; padding: 0}\n",
       ".list-inline>li {display: inline-block}\n",
       ".list-inline>li:not(:last-child)::after {content: \"\\00b7\"; padding: 0 .5ex}\n",
       "</style>\n",
       "<ol class=list-inline><li>1774</li><li>6</li></ol>\n"
      ],
      "text/latex": [
       "\\begin{enumerate*}\n",
       "\\item 1774\n",
       "\\item 6\n",
       "\\end{enumerate*}\n"
      ],
      "text/markdown": [
       "1. 1774\n",
       "2. 6\n",
       "\n",
       "\n"
      ],
      "text/plain": [
       "[1] 1774    6"
      ]
     },
     "metadata": {},
     "output_type": "display_data"
    },
    {
     "data": {
      "text/html": [
       "1322"
      ],
      "text/latex": [
       "1322"
      ],
      "text/markdown": [
       "1322"
      ],
      "text/plain": [
       "[1] 1322"
      ]
     },
     "metadata": {},
     "output_type": "display_data"
    }
   ],
   "source": [
    "f_up <- vec_fdr < th_adj_pvalue & vec_log2FC > th_log2fc\n",
    "df_mrna_only_up <- df_mrna_only[f_up,]\n",
    "sym_mrna_up_ribo_no <- rownames(df_mrna_only_up)\n",
    "dim(df_mrna_only_up)\n",
    "\n",
    "# detected in both platforms\n",
    "sym_mrna_up_ribo_no <- intersect(sym_mrna_up_ribo_no, sym_detected_both)\n",
    "length(sym_mrna_up_ribo_no)\n",
    "\n",
    "list_genes[['sym_mrna_up_ribo_no']] <- sym_mrna_up_ribo_no"
   ]
  },
  {
   "cell_type": "markdown",
   "metadata": {},
   "source": [
    "### sym_mrna_dn_ribo_no"
   ]
  },
  {
   "cell_type": "code",
   "execution_count": 116,
   "metadata": {},
   "outputs": [
    {
     "data": {
      "text/html": [
       "<style>\n",
       ".list-inline {list-style: none; margin:0; padding: 0}\n",
       ".list-inline>li {display: inline-block}\n",
       ".list-inline>li:not(:last-child)::after {content: \"\\00b7\"; padding: 0 .5ex}\n",
       "</style>\n",
       "<ol class=list-inline><li>1786</li><li>6</li></ol>\n"
      ],
      "text/latex": [
       "\\begin{enumerate*}\n",
       "\\item 1786\n",
       "\\item 6\n",
       "\\end{enumerate*}\n"
      ],
      "text/markdown": [
       "1. 1786\n",
       "2. 6\n",
       "\n",
       "\n"
      ],
      "text/plain": [
       "[1] 1786    6"
      ]
     },
     "metadata": {},
     "output_type": "display_data"
    },
    {
     "data": {
      "text/html": [
       "1365"
      ],
      "text/latex": [
       "1365"
      ],
      "text/markdown": [
       "1365"
      ],
      "text/plain": [
       "[1] 1365"
      ]
     },
     "metadata": {},
     "output_type": "display_data"
    }
   ],
   "source": [
    "f_dn <- vec_fdr < th_adj_pvalue & vec_log2FC < -th_log2fc\n",
    "df_mrna_only_dn <- df_mrna_only[f_dn,]\n",
    "sym_mrna_dn_ribo_no <- rownames(df_mrna_only_dn)\n",
    "dim(df_mrna_only_dn)\n",
    "\n",
    "# detected in both platforms\n",
    "sym_mrna_dn_ribo_no <- intersect(sym_mrna_dn_ribo_no, sym_detected_both)\n",
    "length(sym_mrna_dn_ribo_no)\n",
    "\n",
    "list_genes[['sym_mrna_dn_ribo_no']] <- sym_mrna_dn_ribo_no"
   ]
  },
  {
   "cell_type": "markdown",
   "metadata": {},
   "source": [
    "### sym_mrna_only (=sym_mrna_de_ribo_no)"
   ]
  },
  {
   "cell_type": "code",
   "execution_count": 117,
   "metadata": {},
   "outputs": [
    {
     "data": {
      "text/html": [
       "2687"
      ],
      "text/latex": [
       "2687"
      ],
      "text/markdown": [
       "2687"
      ],
      "text/plain": [
       "[1] 2687"
      ]
     },
     "metadata": {},
     "output_type": "display_data"
    },
    {
     "data": {
      "text/html": [
       "2687"
      ],
      "text/latex": [
       "2687"
      ],
      "text/markdown": [
       "2687"
      ],
      "text/plain": [
       "[1] 2687"
      ]
     },
     "metadata": {},
     "output_type": "display_data"
    }
   ],
   "source": [
    "# detected in both platforms\n",
    "sym_mrna_de_ribo_no <- union(sym_mrna_up_ribo_no, sym_mrna_dn_ribo_no)\n",
    "length(sym_mrna_de_ribo_no)\n",
    "\n",
    "sym_mrna_only <- sym_mrna_de_ribo_no\n",
    "length(sym_mrna_only)\n",
    "\n",
    "df_mrna_only <- df_mrna[sym_mrna_only, ]\n",
    "if (f_write_table) {\n",
    "    fname_out <- sprintf(\"./data/table/170224%s.NMuMG.%s.unt48--vs--tgfb48.diff-all.transcriptionONLY.txt\", \n",
    "        rundate_appendix, strdir)\n",
    "    write.table(df_mrna_only, file = fname_out, row.names = TRUE, col.names = NA, \n",
    "        sep = \"\\t\", quote = FALSE)\n",
    "}"
   ]
  },
  {
   "cell_type": "markdown",
   "metadata": {},
   "source": [
    "##  df_ribo_only"
   ]
  },
  {
   "cell_type": "code",
   "execution_count": 118,
   "metadata": {},
   "outputs": [
    {
     "data": {
      "text/html": [
       "455"
      ],
      "text/latex": [
       "455"
      ],
      "text/markdown": [
       "455"
      ],
      "text/plain": [
       "[1] 455"
      ]
     },
     "metadata": {},
     "output_type": "display_data"
    },
    {
     "data": {
      "text/html": [
       "<table>\n",
       "<caption>A data.frame: 6 × 6</caption>\n",
       "<thead>\n",
       "\t<tr><th></th><th scope=col>unt48</th><th scope=col>tgfb48</th><th scope=col>log2FC</th><th scope=col>FDR</th><th scope=col>p.value</th><th scope=col>biotype</th></tr>\n",
       "\t<tr><th></th><th scope=col>&lt;dbl&gt;</th><th scope=col>&lt;dbl&gt;</th><th scope=col>&lt;dbl&gt;</th><th scope=col>&lt;dbl&gt;</th><th scope=col>&lt;dbl&gt;</th><th scope=col>&lt;chr&gt;</th></tr>\n",
       "</thead>\n",
       "<tbody>\n",
       "\t<tr><th scope=row>4931419H13Rik</th><td>-0.2645954</td><td> 1.0148059</td><td>1.2794013</td><td>3.964730e-02</td><td>0.0079040669</td><td>lncRNA        </td></tr>\n",
       "\t<tr><th scope=row>Abcf3</th><td> 2.0636635</td><td> 2.7208177</td><td>0.6571541</td><td>3.310276e-02</td><td>0.0062468040</td><td>protein_coding</td></tr>\n",
       "\t<tr><th scope=row>Acbd3</th><td> 2.3254237</td><td> 2.9717840</td><td>0.6463603</td><td>2.154767e-02</td><td>0.0036626302</td><td>protein_coding</td></tr>\n",
       "\t<tr><th scope=row>Acta2</th><td>-2.7982033</td><td> 0.5463877</td><td>3.3445910</td><td>1.598918e-03</td><td>0.0001678840</td><td>protein_coding</td></tr>\n",
       "\t<tr><th scope=row>Adamts15</th><td>-2.9268356</td><td>-0.5595413</td><td>2.3672943</td><td>4.458295e-02</td><td>0.0091424583</td><td>protein_coding</td></tr>\n",
       "\t<tr><th scope=row>Agrn</th><td> 5.6241352</td><td> 6.0133807</td><td>0.3892455</td><td>7.707763e-05</td><td>0.0000054326</td><td>protein_coding</td></tr>\n",
       "</tbody>\n",
       "</table>\n"
      ],
      "text/latex": [
       "A data.frame: 6 × 6\n",
       "\\begin{tabular}{r|llllll}\n",
       "  & unt48 & tgfb48 & log2FC & FDR & p.value & biotype\\\\\n",
       "  & <dbl> & <dbl> & <dbl> & <dbl> & <dbl> & <chr>\\\\\n",
       "\\hline\n",
       "\t4931419H13Rik & -0.2645954 &  1.0148059 & 1.2794013 & 3.964730e-02 & 0.0079040669 & lncRNA        \\\\\n",
       "\tAbcf3 &  2.0636635 &  2.7208177 & 0.6571541 & 3.310276e-02 & 0.0062468040 & protein\\_coding\\\\\n",
       "\tAcbd3 &  2.3254237 &  2.9717840 & 0.6463603 & 2.154767e-02 & 0.0036626302 & protein\\_coding\\\\\n",
       "\tActa2 & -2.7982033 &  0.5463877 & 3.3445910 & 1.598918e-03 & 0.0001678840 & protein\\_coding\\\\\n",
       "\tAdamts15 & -2.9268356 & -0.5595413 & 2.3672943 & 4.458295e-02 & 0.0091424583 & protein\\_coding\\\\\n",
       "\tAgrn &  5.6241352 &  6.0133807 & 0.3892455 & 7.707763e-05 & 0.0000054326 & protein\\_coding\\\\\n",
       "\\end{tabular}\n"
      ],
      "text/markdown": [
       "\n",
       "A data.frame: 6 × 6\n",
       "\n",
       "| <!--/--> | unt48 &lt;dbl&gt; | tgfb48 &lt;dbl&gt; | log2FC &lt;dbl&gt; | FDR &lt;dbl&gt; | p.value &lt;dbl&gt; | biotype &lt;chr&gt; |\n",
       "|---|---|---|---|---|---|---|\n",
       "| 4931419H13Rik | -0.2645954 |  1.0148059 | 1.2794013 | 3.964730e-02 | 0.0079040669 | lncRNA         |\n",
       "| Abcf3 |  2.0636635 |  2.7208177 | 0.6571541 | 3.310276e-02 | 0.0062468040 | protein_coding |\n",
       "| Acbd3 |  2.3254237 |  2.9717840 | 0.6463603 | 2.154767e-02 | 0.0036626302 | protein_coding |\n",
       "| Acta2 | -2.7982033 |  0.5463877 | 3.3445910 | 1.598918e-03 | 0.0001678840 | protein_coding |\n",
       "| Adamts15 | -2.9268356 | -0.5595413 | 2.3672943 | 4.458295e-02 | 0.0091424583 | protein_coding |\n",
       "| Agrn |  5.6241352 |  6.0133807 | 0.3892455 | 7.707763e-05 | 0.0000054326 | protein_coding |\n",
       "\n"
      ],
      "text/plain": [
       "              unt48      tgfb48     log2FC    FDR          p.value     \n",
       "4931419H13Rik -0.2645954  1.0148059 1.2794013 3.964730e-02 0.0079040669\n",
       "Abcf3          2.0636635  2.7208177 0.6571541 3.310276e-02 0.0062468040\n",
       "Acbd3          2.3254237  2.9717840 0.6463603 2.154767e-02 0.0036626302\n",
       "Acta2         -2.7982033  0.5463877 3.3445910 1.598918e-03 0.0001678840\n",
       "Adamts15      -2.9268356 -0.5595413 2.3672943 4.458295e-02 0.0091424583\n",
       "Agrn           5.6241352  6.0133807 0.3892455 7.707763e-05 0.0000054326\n",
       "              biotype       \n",
       "4931419H13Rik lncRNA        \n",
       "Abcf3         protein_coding\n",
       "Acbd3         protein_coding\n",
       "Acta2         protein_coding\n",
       "Adamts15      protein_coding\n",
       "Agrn          protein_coding"
      ]
     },
     "metadata": {},
     "output_type": "display_data"
    },
    {
     "data": {
      "text/html": [
       "<style>\n",
       ".list-inline {list-style: none; margin:0; padding: 0}\n",
       ".list-inline>li {display: inline-block}\n",
       ".list-inline>li:not(:last-child)::after {content: \"\\00b7\"; padding: 0 .5ex}\n",
       "</style>\n",
       "<ol class=list-inline><li>455</li><li>6</li></ol>\n"
      ],
      "text/latex": [
       "\\begin{enumerate*}\n",
       "\\item 455\n",
       "\\item 6\n",
       "\\end{enumerate*}\n"
      ],
      "text/markdown": [
       "1. 455\n",
       "2. 6\n",
       "\n",
       "\n"
      ],
      "text/plain": [
       "[1] 455   6"
      ]
     },
     "metadata": {},
     "output_type": "display_data"
    }
   ],
   "source": [
    "sym_ribo_only <- setdiff(sym_ribo, sym_mrna)\n",
    "length(sym_ribo_only)\n",
    "\n",
    "if (!is.null(pattern_remove_gene)) {\n",
    "  any(grepl(pattern_remove_gene, sym_ribo_only)) # should be FALSE\n",
    "}\n",
    "\n",
    "# subsetting df_ribo\n",
    "df_ribo_only <- df_ribo[sym_ribo_only,]\n",
    "\n",
    "head(df_ribo_only)\n",
    "dim(df_ribo_only)\n"
   ]
  },
  {
   "cell_type": "code",
   "execution_count": 119,
   "metadata": {},
   "outputs": [
    {
     "data": {
      "text/html": [
       "345"
      ],
      "text/latex": [
       "345"
      ],
      "text/markdown": [
       "345"
      ],
      "text/plain": [
       "[1] 345"
      ]
     },
     "metadata": {},
     "output_type": "display_data"
    }
   ],
   "source": [
    "length(intersect(sym_ribo_only, sym_detected_both))\n"
   ]
  },
  {
   "cell_type": "code",
   "execution_count": 120,
   "metadata": {},
   "outputs": [],
   "source": [
    "vec_log2FC <- df_ribo_only$log2FC\n",
    "vec_fdr <- df_ribo_only$FDR\n"
   ]
  },
  {
   "cell_type": "markdown",
   "metadata": {},
   "source": [
    "### sym_mrna_no_ribo_up"
   ]
  },
  {
   "cell_type": "code",
   "execution_count": 121,
   "metadata": {},
   "outputs": [
    {
     "data": {
      "text/html": [
       "<style>\n",
       ".list-inline {list-style: none; margin:0; padding: 0}\n",
       ".list-inline>li {display: inline-block}\n",
       ".list-inline>li:not(:last-child)::after {content: \"\\00b7\"; padding: 0 .5ex}\n",
       "</style>\n",
       "<ol class=list-inline><li>264</li><li>6</li></ol>\n"
      ],
      "text/latex": [
       "\\begin{enumerate*}\n",
       "\\item 264\n",
       "\\item 6\n",
       "\\end{enumerate*}\n"
      ],
      "text/markdown": [
       "1. 264\n",
       "2. 6\n",
       "\n",
       "\n"
      ],
      "text/plain": [
       "[1] 264   6"
      ]
     },
     "metadata": {},
     "output_type": "display_data"
    },
    {
     "data": {
      "text/html": [
       "174"
      ],
      "text/latex": [
       "174"
      ],
      "text/markdown": [
       "174"
      ],
      "text/plain": [
       "[1] 174"
      ]
     },
     "metadata": {},
     "output_type": "display_data"
    }
   ],
   "source": [
    "f_up <- (vec_fdr < th_adj_pvalue) & (vec_log2FC > th_log2fc)\n",
    "df_ribo_only_up <- df_ribo_only[f_up,]\n",
    "sym_mrna_no_ribo_up <- rownames(df_ribo_only_up)\n",
    "dim(df_ribo_only_up)\n",
    "\n",
    "# detected in both platforms\n",
    "sym_mrna_no_ribo_up <- intersect(sym_mrna_no_ribo_up, sym_detected_both)\n",
    "length(sym_mrna_no_ribo_up)\n",
    "\n",
    "list_genes[['sym_mrna_no_ribo_up']] <- sym_mrna_no_ribo_up"
   ]
  },
  {
   "cell_type": "markdown",
   "metadata": {},
   "source": [
    "### sym_mrna_no_ribo_dn"
   ]
  },
  {
   "cell_type": "code",
   "execution_count": 122,
   "metadata": {},
   "outputs": [
    {
     "data": {
      "text/html": [
       "<style>\n",
       ".list-inline {list-style: none; margin:0; padding: 0}\n",
       ".list-inline>li {display: inline-block}\n",
       ".list-inline>li:not(:last-child)::after {content: \"\\00b7\"; padding: 0 .5ex}\n",
       "</style>\n",
       "<ol class=list-inline><li>191</li><li>6</li></ol>\n"
      ],
      "text/latex": [
       "\\begin{enumerate*}\n",
       "\\item 191\n",
       "\\item 6\n",
       "\\end{enumerate*}\n"
      ],
      "text/markdown": [
       "1. 191\n",
       "2. 6\n",
       "\n",
       "\n"
      ],
      "text/plain": [
       "[1] 191   6"
      ]
     },
     "metadata": {},
     "output_type": "display_data"
    },
    {
     "data": {
      "text/html": [
       "171"
      ],
      "text/latex": [
       "171"
      ],
      "text/markdown": [
       "171"
      ],
      "text/plain": [
       "[1] 171"
      ]
     },
     "metadata": {},
     "output_type": "display_data"
    }
   ],
   "source": [
    "f_dn <- (vec_fdr < th_adj_pvalue) & (vec_log2FC < -th_log2fc)\n",
    "df_ribo_only_dn <- df_ribo_only[f_dn,]\n",
    "sym_mrna_no_ribo_dn <- rownames(df_ribo_only_dn)\n",
    "dim(df_ribo_only_dn)\n",
    "\n",
    "# detected in both platforms\n",
    "sym_mrna_no_ribo_dn <- intersect(sym_mrna_no_ribo_dn, sym_detected_both)\n",
    "length(sym_mrna_no_ribo_dn)\n",
    "\n",
    "list_genes[['sym_mrna_no_ribo_dn']] <- sym_mrna_no_ribo_dn"
   ]
  },
  {
   "cell_type": "markdown",
   "metadata": {},
   "source": [
    "### sym_ribo_only (=sym_mrna_no_ribo_de)"
   ]
  },
  {
   "cell_type": "code",
   "execution_count": 123,
   "metadata": {},
   "outputs": [
    {
     "data": {
      "text/html": [
       "345"
      ],
      "text/latex": [
       "345"
      ],
      "text/markdown": [
       "345"
      ],
      "text/plain": [
       "[1] 345"
      ]
     },
     "metadata": {},
     "output_type": "display_data"
    },
    {
     "data": {
      "text/html": [
       "345"
      ],
      "text/latex": [
       "345"
      ],
      "text/markdown": [
       "345"
      ],
      "text/plain": [
       "[1] 345"
      ]
     },
     "metadata": {},
     "output_type": "display_data"
    }
   ],
   "source": [
    "# detected in both platforms\n",
    "sym_mrna_no_ribo_de <- union(sym_mrna_no_ribo_up, sym_mrna_no_ribo_dn)\n",
    "length(sym_mrna_no_ribo_de)\n",
    "\n",
    "# here, sym_ribo_only was redefined.\n",
    "# sym_ribo_only were detected in both platforms.\n",
    "sym_ribo_only <- sym_mrna_no_ribo_de\n",
    "length(sym_ribo_only)\n",
    "\n",
    "df_ribo_only <- df_ribo[sym_ribo_only, ]\n",
    "\n",
    "if (f_write_table) {\n",
    "    fname_out <- sprintf(\"./data/table/161021%s.NMuMG.%s.unt48--vs--tgfb48.diff-all.translationONLY.txt\", \n",
    "        rundate_appendix, strdir)\n",
    "    write.table(df_ribo_only, file = fname_out, row.names = TRUE, col.names = NA, \n",
    "        sep = \"\\t\", quote = FALSE)\n",
    "}"
   ]
  },
  {
   "cell_type": "markdown",
   "metadata": {},
   "source": [
    "## biotype"
   ]
  },
  {
   "cell_type": "code",
   "execution_count": 124,
   "metadata": {},
   "outputs": [
    {
     "data": {
      "text/html": [
       "<style>\n",
       ".list-inline {list-style: none; margin:0; padding: 0}\n",
       ".list-inline>li {display: inline-block}\n",
       ".list-inline>li:not(:last-child)::after {content: \"\\00b7\"; padding: 0 .5ex}\n",
       "</style>\n",
       "<ol class=list-inline><li>'protein_coding'</li><li>'lncRNA'</li><li>'TEC'</li><li>'transcribed_unprocessed_pseudogene'</li><li>'transcribed_processed_pseudogene'</li><li>'transcribed_unitary_pseudogene'</li><li>'unprocessed_pseudogene'</li><li>'polymorphic_pseudogene'</li><li>'processed_pseudogene'</li><li>'unitary_pseudogene'</li><li>'snoRNA'</li><li>'rRNA'</li><li>'pseudogene'</li><li>'scaRNA'</li><li>'snRNA'</li><li>'misc_RNA'</li><li>'miRNA'</li><li>'IG_C_gene'</li><li>'Mt_rRNA'</li><li>'Mt_tRNA'</li><li>'rDNA'</li><li>'ribozyme'</li><li>'TR_C_gene'</li><li>'TR_V_gene'</li></ol>\n"
      ],
      "text/latex": [
       "\\begin{enumerate*}\n",
       "\\item 'protein\\_coding'\n",
       "\\item 'lncRNA'\n",
       "\\item 'TEC'\n",
       "\\item 'transcribed\\_unprocessed\\_pseudogene'\n",
       "\\item 'transcribed\\_processed\\_pseudogene'\n",
       "\\item 'transcribed\\_unitary\\_pseudogene'\n",
       "\\item 'unprocessed\\_pseudogene'\n",
       "\\item 'polymorphic\\_pseudogene'\n",
       "\\item 'processed\\_pseudogene'\n",
       "\\item 'unitary\\_pseudogene'\n",
       "\\item 'snoRNA'\n",
       "\\item 'rRNA'\n",
       "\\item 'pseudogene'\n",
       "\\item 'scaRNA'\n",
       "\\item 'snRNA'\n",
       "\\item 'misc\\_RNA'\n",
       "\\item 'miRNA'\n",
       "\\item 'IG\\_C\\_gene'\n",
       "\\item 'Mt\\_rRNA'\n",
       "\\item 'Mt\\_tRNA'\n",
       "\\item 'rDNA'\n",
       "\\item 'ribozyme'\n",
       "\\item 'TR\\_C\\_gene'\n",
       "\\item 'TR\\_V\\_gene'\n",
       "\\end{enumerate*}\n"
      ],
      "text/markdown": [
       "1. 'protein_coding'\n",
       "2. 'lncRNA'\n",
       "3. 'TEC'\n",
       "4. 'transcribed_unprocessed_pseudogene'\n",
       "5. 'transcribed_processed_pseudogene'\n",
       "6. 'transcribed_unitary_pseudogene'\n",
       "7. 'unprocessed_pseudogene'\n",
       "8. 'polymorphic_pseudogene'\n",
       "9. 'processed_pseudogene'\n",
       "10. 'unitary_pseudogene'\n",
       "11. 'snoRNA'\n",
       "12. 'rRNA'\n",
       "13. 'pseudogene'\n",
       "14. 'scaRNA'\n",
       "15. 'snRNA'\n",
       "16. 'misc_RNA'\n",
       "17. 'miRNA'\n",
       "18. 'IG_C_gene'\n",
       "19. 'Mt_rRNA'\n",
       "20. 'Mt_tRNA'\n",
       "21. 'rDNA'\n",
       "22. 'ribozyme'\n",
       "23. 'TR_C_gene'\n",
       "24. 'TR_V_gene'\n",
       "\n",
       "\n"
      ],
      "text/plain": [
       " [1] \"protein_coding\"                     \"lncRNA\"                            \n",
       " [3] \"TEC\"                                \"transcribed_unprocessed_pseudogene\"\n",
       " [5] \"transcribed_processed_pseudogene\"   \"transcribed_unitary_pseudogene\"    \n",
       " [7] \"unprocessed_pseudogene\"             \"polymorphic_pseudogene\"            \n",
       " [9] \"processed_pseudogene\"               \"unitary_pseudogene\"                \n",
       "[11] \"snoRNA\"                             \"rRNA\"                              \n",
       "[13] \"pseudogene\"                         \"scaRNA\"                            \n",
       "[15] \"snRNA\"                              \"misc_RNA\"                          \n",
       "[17] \"miRNA\"                              \"IG_C_gene\"                         \n",
       "[19] \"Mt_rRNA\"                            \"Mt_tRNA\"                           \n",
       "[21] \"rDNA\"                               \"ribozyme\"                          \n",
       "[23] \"TR_C_gene\"                          \"TR_V_gene\"                         "
      ]
     },
     "metadata": {},
     "output_type": "display_data"
    },
    {
     "data": {
      "text/html": [
       "172"
      ],
      "text/latex": [
       "172"
      ],
      "text/markdown": [
       "172"
      ],
      "text/plain": [
       "[1] 172"
      ]
     },
     "metadata": {},
     "output_type": "display_data"
    },
    {
     "data": {
      "text/html": [
       "168"
      ],
      "text/latex": [
       "168"
      ],
      "text/markdown": [
       "168"
      ],
      "text/plain": [
       "[1] 168"
      ]
     },
     "metadata": {},
     "output_type": "display_data"
    }
   ],
   "source": [
    "unique(df_all$biotype)\n",
    "f_pseudo <- grepl('pseudo', df_all$biotype)\n",
    "sym_pseudo <- rownames(df_all[f_pseudo,])\n",
    "\n",
    "length(setdiff(sym_mrna_no_ribo_up, sym_pseudo))\n",
    "length(setdiff(sym_mrna_no_ribo_dn, sym_pseudo))"
   ]
  },
  {
   "cell_type": "markdown",
   "metadata": {},
   "source": [
    "## no DE"
   ]
  },
  {
   "cell_type": "code",
   "execution_count": 125,
   "metadata": {
    "scrolled": true
   },
   "outputs": [
    {
     "data": {
      "text/html": [
       "9680"
      ],
      "text/latex": [
       "9680"
      ],
      "text/markdown": [
       "9680"
      ],
      "text/plain": [
       "[1] 9680"
      ]
     },
     "metadata": {},
     "output_type": "display_data"
    },
    {
     "data": {
      "text/html": [
       "4920"
      ],
      "text/latex": [
       "4920"
      ],
      "text/markdown": [
       "4920"
      ],
      "text/plain": [
       "[1] 4920"
      ]
     },
     "metadata": {},
     "output_type": "display_data"
    }
   ],
   "source": [
    "n_detected <- length(sym_detected_both)\n",
    "n_detected\n",
    "\n",
    "sym_de_both <- union(sym_mrna_de_detected_both, sym_ribo_de_detected_both)\n",
    "\n",
    "sym_no_de_both <- setdiff(sym_detected_both, sym_de_both)\n",
    "length(sym_no_de_both)\n"
   ]
  },
  {
   "cell_type": "markdown",
   "metadata": {},
   "source": [
    "### validation"
   ]
  },
  {
   "cell_type": "code",
   "execution_count": 126,
   "metadata": {},
   "outputs": [
    {
     "data": {
      "text/html": [],
      "text/latex": [],
      "text/markdown": [],
      "text/plain": [
       "character(0)"
      ]
     },
     "metadata": {},
     "output_type": "display_data"
    },
    {
     "data": {
      "text/html": [],
      "text/latex": [],
      "text/markdown": [],
      "text/plain": [
       "character(0)"
      ]
     },
     "metadata": {},
     "output_type": "display_data"
    },
    {
     "data": {
      "text/html": [
       "4760"
      ],
      "text/latex": [
       "4760"
      ],
      "text/markdown": [
       "4760"
      ],
      "text/plain": [
       "[1] 4760"
      ]
     },
     "metadata": {},
     "output_type": "display_data"
    },
    {
     "data": {
      "text/html": [
       "4920"
      ],
      "text/latex": [
       "4920"
      ],
      "text/markdown": [
       "4920"
      ],
      "text/plain": [
       "[1] 4920"
      ]
     },
     "metadata": {},
     "output_type": "display_data"
    },
    {
     "data": {
      "text/html": [
       "TRUE"
      ],
      "text/latex": [
       "TRUE"
      ],
      "text/markdown": [
       "TRUE"
      ],
      "text/plain": [
       "[1] TRUE"
      ]
     },
     "metadata": {},
     "output_type": "display_data"
    }
   ],
   "source": [
    "# de both & dectected in both platforms\n",
    "intersect(sym_mrna_only, sym_mrna_de_ribo_de)\n",
    "intersect(sym_ribo_only, sym_mrna_de_ribo_de)\n",
    "sym_de <- union(sym_mrna_only, sym_ribo_only)\n",
    "sym_de <- union(sym_de, sym_mrna_de_ribo_de)\n",
    "n_de <- length(sym_de)\n",
    "n_de\n",
    "\n",
    "sym_no_de_both1 <- setdiff(sym_detected_both, sym_de)\n",
    "length(sym_no_de_both1)\n",
    "\n",
    "setequal(sym_no_de_both, sym_no_de_both1)"
   ]
  },
  {
   "cell_type": "markdown",
   "metadata": {},
   "source": [
    "# tgfb48 vs tgfbCX5461"
   ]
  },
  {
   "cell_type": "markdown",
   "metadata": {},
   "source": [
    "## df_mrna2"
   ]
  },
  {
   "cell_type": "code",
   "execution_count": 127,
   "metadata": {
    "scrolled": false
   },
   "outputs": [
    {
     "data": {
      "text/html": [
       "<table>\n",
       "<caption>A data.frame: 6 × 5</caption>\n",
       "<thead>\n",
       "\t<tr><th></th><th scope=col>tgfb48</th><th scope=col>tgfbCX5461100nm</th><th scope=col>log2FC</th><th scope=col>FDR</th><th scope=col>p.value</th></tr>\n",
       "\t<tr><th></th><th scope=col>&lt;dbl&gt;</th><th scope=col>&lt;dbl&gt;</th><th scope=col>&lt;dbl&gt;</th><th scope=col>&lt;dbl&gt;</th><th scope=col>&lt;dbl&gt;</th></tr>\n",
       "</thead>\n",
       "<tbody>\n",
       "\t<tr><th scope=row>Hist1h2ai</th><td>-1.823194</td><td>-4.604358</td><td>-2.781164</td><td>8.573554e-03</td><td>0.0011957694</td></tr>\n",
       "\t<tr><th scope=row>Thsd7a</th><td>-1.218782</td><td>-3.664414</td><td>-2.445632</td><td>1.237485e-02</td><td>0.0019252754</td></tr>\n",
       "\t<tr><th scope=row>Stc1</th><td>-1.763874</td><td>-4.162247</td><td>-2.398372</td><td>1.494062e-02</td><td>0.0024697456</td></tr>\n",
       "\t<tr><th scope=row>Pard3b</th><td> 1.261556</td><td>-1.081571</td><td>-2.343127</td><td>2.720600e-07</td><td>0.0000000043</td></tr>\n",
       "\t<tr><th scope=row>Spr-ps1</th><td>-2.117083</td><td>-4.434833</td><td>-2.317750</td><td>3.347868e-02</td><td>0.0070919507</td></tr>\n",
       "\t<tr><th scope=row>Cdk14</th><td>-1.258622</td><td>-3.525566</td><td>-2.266943</td><td>9.614947e-03</td><td>0.0013871793</td></tr>\n",
       "</tbody>\n",
       "</table>\n"
      ],
      "text/latex": [
       "A data.frame: 6 × 5\n",
       "\\begin{tabular}{r|lllll}\n",
       "  & tgfb48 & tgfbCX5461100nm & log2FC & FDR & p.value\\\\\n",
       "  & <dbl> & <dbl> & <dbl> & <dbl> & <dbl>\\\\\n",
       "\\hline\n",
       "\tHist1h2ai & -1.823194 & -4.604358 & -2.781164 & 8.573554e-03 & 0.0011957694\\\\\n",
       "\tThsd7a & -1.218782 & -3.664414 & -2.445632 & 1.237485e-02 & 0.0019252754\\\\\n",
       "\tStc1 & -1.763874 & -4.162247 & -2.398372 & 1.494062e-02 & 0.0024697456\\\\\n",
       "\tPard3b &  1.261556 & -1.081571 & -2.343127 & 2.720600e-07 & 0.0000000043\\\\\n",
       "\tSpr-ps1 & -2.117083 & -4.434833 & -2.317750 & 3.347868e-02 & 0.0070919507\\\\\n",
       "\tCdk14 & -1.258622 & -3.525566 & -2.266943 & 9.614947e-03 & 0.0013871793\\\\\n",
       "\\end{tabular}\n"
      ],
      "text/markdown": [
       "\n",
       "A data.frame: 6 × 5\n",
       "\n",
       "| <!--/--> | tgfb48 &lt;dbl&gt; | tgfbCX5461100nm &lt;dbl&gt; | log2FC &lt;dbl&gt; | FDR &lt;dbl&gt; | p.value &lt;dbl&gt; |\n",
       "|---|---|---|---|---|---|\n",
       "| Hist1h2ai | -1.823194 | -4.604358 | -2.781164 | 8.573554e-03 | 0.0011957694 |\n",
       "| Thsd7a | -1.218782 | -3.664414 | -2.445632 | 1.237485e-02 | 0.0019252754 |\n",
       "| Stc1 | -1.763874 | -4.162247 | -2.398372 | 1.494062e-02 | 0.0024697456 |\n",
       "| Pard3b |  1.261556 | -1.081571 | -2.343127 | 2.720600e-07 | 0.0000000043 |\n",
       "| Spr-ps1 | -2.117083 | -4.434833 | -2.317750 | 3.347868e-02 | 0.0070919507 |\n",
       "| Cdk14 | -1.258622 | -3.525566 | -2.266943 | 9.614947e-03 | 0.0013871793 |\n",
       "\n"
      ],
      "text/plain": [
       "          tgfb48    tgfbCX5461100nm log2FC    FDR          p.value     \n",
       "Hist1h2ai -1.823194 -4.604358       -2.781164 8.573554e-03 0.0011957694\n",
       "Thsd7a    -1.218782 -3.664414       -2.445632 1.237485e-02 0.0019252754\n",
       "Stc1      -1.763874 -4.162247       -2.398372 1.494062e-02 0.0024697456\n",
       "Pard3b     1.261556 -1.081571       -2.343127 2.720600e-07 0.0000000043\n",
       "Spr-ps1   -2.117083 -4.434833       -2.317750 3.347868e-02 0.0070919507\n",
       "Cdk14     -1.258622 -3.525566       -2.266943 9.614947e-03 0.0013871793"
      ]
     },
     "metadata": {},
     "output_type": "display_data"
    },
    {
     "data": {
      "text/html": [
       "<style>\n",
       ".list-inline {list-style: none; margin:0; padding: 0}\n",
       ".list-inline>li {display: inline-block}\n",
       ".list-inline>li:not(:last-child)::after {content: \"\\00b7\"; padding: 0 .5ex}\n",
       "</style>\n",
       "<ol class=list-inline><li>2786</li><li>5</li></ol>\n"
      ],
      "text/latex": [
       "\\begin{enumerate*}\n",
       "\\item 2786\n",
       "\\item 5\n",
       "\\end{enumerate*}\n"
      ],
      "text/markdown": [
       "1. 2786\n",
       "2. 5\n",
       "\n",
       "\n"
      ],
      "text/plain": [
       "[1] 2786    5"
      ]
     },
     "metadata": {},
     "output_type": "display_data"
    },
    {
     "data": {
      "text/html": [
       "FALSE"
      ],
      "text/latex": [
       "FALSE"
      ],
      "text/markdown": [
       "FALSE"
      ],
      "text/plain": [
       "[1] FALSE"
      ]
     },
     "metadata": {},
     "output_type": "display_data"
    },
    {
     "data": {
      "text/html": [
       "<table>\n",
       "<caption>A data.frame: 6 × 6</caption>\n",
       "<thead>\n",
       "\t<tr><th></th><th scope=col>tgfb48</th><th scope=col>tgfbCX5461100nm</th><th scope=col>log2FC</th><th scope=col>FDR</th><th scope=col>p.value</th><th scope=col>biotype</th></tr>\n",
       "\t<tr><th></th><th scope=col>&lt;dbl&gt;</th><th scope=col>&lt;dbl&gt;</th><th scope=col>&lt;dbl&gt;</th><th scope=col>&lt;dbl&gt;</th><th scope=col>&lt;dbl&gt;</th><th scope=col>&lt;chr&gt;</th></tr>\n",
       "</thead>\n",
       "<tbody>\n",
       "\t<tr><th scope=row>1110002E22Rik</th><td> 2.72632752</td><td> 3.308517</td><td> 0.5821899</td><td>1.237559e-04</td><td>0.0000061635</td><td>protein_coding</td></tr>\n",
       "\t<tr><th scope=row>1110008L16Rik</th><td> 1.89353341</td><td> 1.480044</td><td>-0.4134898</td><td>4.614794e-02</td><td>0.0110929453</td><td>protein_coding</td></tr>\n",
       "\t<tr><th scope=row>1110059E24Rik</th><td> 2.54356606</td><td> 1.975447</td><td>-0.5681191</td><td>1.015220e-03</td><td>0.0000792489</td><td>protein_coding</td></tr>\n",
       "\t<tr><th scope=row>1600014C10Rik</th><td> 1.75873637</td><td> 1.097187</td><td>-0.6615492</td><td>8.912400e-03</td><td>0.0012616640</td><td>protein_coding</td></tr>\n",
       "\t<tr><th scope=row>1700006J14Rik</th><td>-0.07321008</td><td> 1.258784</td><td> 1.3319937</td><td>7.054605e-05</td><td>0.0000031461</td><td>lncRNA        </td></tr>\n",
       "\t<tr><th scope=row>1700007J10Rik</th><td>-1.74280455</td><td>-0.264305</td><td> 1.4784996</td><td>7.614453e-03</td><td>0.0010272112</td><td>lncRNA        </td></tr>\n",
       "</tbody>\n",
       "</table>\n"
      ],
      "text/latex": [
       "A data.frame: 6 × 6\n",
       "\\begin{tabular}{r|llllll}\n",
       "  & tgfb48 & tgfbCX5461100nm & log2FC & FDR & p.value & biotype\\\\\n",
       "  & <dbl> & <dbl> & <dbl> & <dbl> & <dbl> & <chr>\\\\\n",
       "\\hline\n",
       "\t1110002E22Rik &  2.72632752 &  3.308517 &  0.5821899 & 1.237559e-04 & 0.0000061635 & protein\\_coding\\\\\n",
       "\t1110008L16Rik &  1.89353341 &  1.480044 & -0.4134898 & 4.614794e-02 & 0.0110929453 & protein\\_coding\\\\\n",
       "\t1110059E24Rik &  2.54356606 &  1.975447 & -0.5681191 & 1.015220e-03 & 0.0000792489 & protein\\_coding\\\\\n",
       "\t1600014C10Rik &  1.75873637 &  1.097187 & -0.6615492 & 8.912400e-03 & 0.0012616640 & protein\\_coding\\\\\n",
       "\t1700006J14Rik & -0.07321008 &  1.258784 &  1.3319937 & 7.054605e-05 & 0.0000031461 & lncRNA        \\\\\n",
       "\t1700007J10Rik & -1.74280455 & -0.264305 &  1.4784996 & 7.614453e-03 & 0.0010272112 & lncRNA        \\\\\n",
       "\\end{tabular}\n"
      ],
      "text/markdown": [
       "\n",
       "A data.frame: 6 × 6\n",
       "\n",
       "| <!--/--> | tgfb48 &lt;dbl&gt; | tgfbCX5461100nm &lt;dbl&gt; | log2FC &lt;dbl&gt; | FDR &lt;dbl&gt; | p.value &lt;dbl&gt; | biotype &lt;chr&gt; |\n",
       "|---|---|---|---|---|---|---|\n",
       "| 1110002E22Rik |  2.72632752 |  3.308517 |  0.5821899 | 1.237559e-04 | 0.0000061635 | protein_coding |\n",
       "| 1110008L16Rik |  1.89353341 |  1.480044 | -0.4134898 | 4.614794e-02 | 0.0110929453 | protein_coding |\n",
       "| 1110059E24Rik |  2.54356606 |  1.975447 | -0.5681191 | 1.015220e-03 | 0.0000792489 | protein_coding |\n",
       "| 1600014C10Rik |  1.75873637 |  1.097187 | -0.6615492 | 8.912400e-03 | 0.0012616640 | protein_coding |\n",
       "| 1700006J14Rik | -0.07321008 |  1.258784 |  1.3319937 | 7.054605e-05 | 0.0000031461 | lncRNA         |\n",
       "| 1700007J10Rik | -1.74280455 | -0.264305 |  1.4784996 | 7.614453e-03 | 0.0010272112 | lncRNA         |\n",
       "\n"
      ],
      "text/plain": [
       "              tgfb48      tgfbCX5461100nm log2FC     FDR          p.value     \n",
       "1110002E22Rik  2.72632752  3.308517        0.5821899 1.237559e-04 0.0000061635\n",
       "1110008L16Rik  1.89353341  1.480044       -0.4134898 4.614794e-02 0.0110929453\n",
       "1110059E24Rik  2.54356606  1.975447       -0.5681191 1.015220e-03 0.0000792489\n",
       "1600014C10Rik  1.75873637  1.097187       -0.6615492 8.912400e-03 0.0012616640\n",
       "1700006J14Rik -0.07321008  1.258784        1.3319937 7.054605e-05 0.0000031461\n",
       "1700007J10Rik -1.74280455 -0.264305        1.4784996 7.614453e-03 0.0010272112\n",
       "              biotype       \n",
       "1110002E22Rik protein_coding\n",
       "1110008L16Rik protein_coding\n",
       "1110059E24Rik protein_coding\n",
       "1600014C10Rik protein_coding\n",
       "1700006J14Rik lncRNA        \n",
       "1700007J10Rik lncRNA        "
      ]
     },
     "metadata": {},
     "output_type": "display_data"
    },
    {
     "data": {
      "text/html": [
       "<style>\n",
       ".list-inline {list-style: none; margin:0; padding: 0}\n",
       ".list-inline>li {display: inline-block}\n",
       ".list-inline>li:not(:last-child)::after {content: \"\\00b7\"; padding: 0 .5ex}\n",
       "</style>\n",
       "<ol class=list-inline><li>2786</li><li>6</li></ol>\n"
      ],
      "text/latex": [
       "\\begin{enumerate*}\n",
       "\\item 2786\n",
       "\\item 6\n",
       "\\end{enumerate*}\n"
      ],
      "text/markdown": [
       "1. 2786\n",
       "2. 6\n",
       "\n",
       "\n"
      ],
      "text/plain": [
       "[1] 2786    6"
      ]
     },
     "metadata": {},
     "output_type": "display_data"
    }
   ],
   "source": [
    "fname_in <- sprintf(\"170224.NMuMG.%s.tgfb48--vs--tgfbCX5461100nm.diff-all.txt.gz\", \n",
    "    strdir)\n",
    "df_mrna2 <- read.table(file = sprintf(\"%s/%s\", dir_rnaseq, fname_in), header = TRUE, \n",
    "    sep = \"\\t\", row.names = 1, quote = \"\", comment.char = \"#\", stringsAsFactors = F)\n",
    "\n",
    "if (!is.null(pattern_remove_gene)) {\n",
    "    dim(df_mrna2)\n",
    "    df_mrna2 <- df_mrna2[!grepl(pattern_remove_gene, rownames(df_mrna2)), ]\n",
    "}\n",
    "head(df_mrna2)\n",
    "dim(df_mrna2)\n",
    "\n",
    "idx <- which(df_all[, \"tgfb48.tgfbCX5461100nm.DEtranscription\"] != \"notSig\")\n",
    "df_mrna2 <- df_mrna2[rownames(df_all[idx, ]), ]\n",
    "\n",
    "# df_mrna$biotype\n",
    "idx <- match(rownames(df_mrna2), rownames(df_all))\n",
    "any(is.na(idx))  # should be FALSE\n",
    "df_mrna2$biotype <- df_all[idx, \"biotype\"]\n",
    "\n",
    "head(df_mrna2)\n",
    "dim(df_mrna2)\n",
    "\n",
    "if (f_write_table) {\n",
    "    fname_out <- sprintf(\"./data/table/170224%s.NMuMG.%s.tgfb48--vs--tgfb48cx5461100nm.diff-all.txt\", \n",
    "        rundate_appendix, strdir)\n",
    "    write.table(df_mrna2, file = fname_out, row.names = TRUE, col.names = NA, sep = \"\\t\", \n",
    "        quote = FALSE)\n",
    "}"
   ]
  },
  {
   "cell_type": "code",
   "execution_count": 128,
   "metadata": {},
   "outputs": [],
   "source": [
    "vec_log2FC <- df_mrna2$log2FC\n",
    "vec_fdr <- df_mrna2$FDR\n"
   ]
  },
  {
   "cell_type": "markdown",
   "metadata": {},
   "source": [
    "### sym_mrna2_up"
   ]
  },
  {
   "cell_type": "code",
   "execution_count": 129,
   "metadata": {},
   "outputs": [
    {
     "data": {
      "text/html": [
       "<style>\n",
       ".list-inline {list-style: none; margin:0; padding: 0}\n",
       ".list-inline>li {display: inline-block}\n",
       ".list-inline>li:not(:last-child)::after {content: \"\\00b7\"; padding: 0 .5ex}\n",
       "</style>\n",
       "<ol class=list-inline><li>1567</li><li>6</li></ol>\n"
      ],
      "text/latex": [
       "\\begin{enumerate*}\n",
       "\\item 1567\n",
       "\\item 6\n",
       "\\end{enumerate*}\n"
      ],
      "text/markdown": [
       "1. 1567\n",
       "2. 6\n",
       "\n",
       "\n"
      ],
      "text/plain": [
       "[1] 1567    6"
      ]
     },
     "metadata": {},
     "output_type": "display_data"
    }
   ],
   "source": [
    "f_up <- vec_fdr < th_adj_pvalue & vec_log2FC > th_log2fc\n",
    "df_mrna2_up <- df_mrna2[f_up,]\n",
    "sym_mrna2_up <- rownames(df_mrna2_up)\n",
    "dim(df_mrna2_up)\n",
    "\n",
    "list_genes[['sym_mrna2_up']] <- sym_mrna2_up"
   ]
  },
  {
   "cell_type": "markdown",
   "metadata": {},
   "source": [
    "### sym_mrna2_dn"
   ]
  },
  {
   "cell_type": "code",
   "execution_count": 130,
   "metadata": {},
   "outputs": [
    {
     "data": {
      "text/html": [
       "<style>\n",
       ".list-inline {list-style: none; margin:0; padding: 0}\n",
       ".list-inline>li {display: inline-block}\n",
       ".list-inline>li:not(:last-child)::after {content: \"\\00b7\"; padding: 0 .5ex}\n",
       "</style>\n",
       "<ol class=list-inline><li>1219</li><li>6</li></ol>\n"
      ],
      "text/latex": [
       "\\begin{enumerate*}\n",
       "\\item 1219\n",
       "\\item 6\n",
       "\\end{enumerate*}\n"
      ],
      "text/markdown": [
       "1. 1219\n",
       "2. 6\n",
       "\n",
       "\n"
      ],
      "text/plain": [
       "[1] 1219    6"
      ]
     },
     "metadata": {},
     "output_type": "display_data"
    }
   ],
   "source": [
    "\n",
    "f_dn <- vec_fdr < th_adj_pvalue & vec_log2FC < -th_log2fc\n",
    "df_mrna2_dn <- df_mrna2[f_dn,]\n",
    "sym_mrna2_dn <- rownames(df_mrna2_dn)\n",
    "dim(df_mrna2_dn)\n",
    "\n",
    "list_genes[['sym_mrna2_dn']] <- sym_mrna2_dn"
   ]
  },
  {
   "cell_type": "markdown",
   "metadata": {},
   "source": [
    "### sym_mrna2"
   ]
  },
  {
   "cell_type": "code",
   "execution_count": 131,
   "metadata": {},
   "outputs": [
    {
     "data": {
      "text/html": [
       "2786"
      ],
      "text/latex": [
       "2786"
      ],
      "text/markdown": [
       "2786"
      ],
      "text/plain": [
       "[1] 2786"
      ]
     },
     "metadata": {},
     "output_type": "display_data"
    }
   ],
   "source": [
    "sym_mrna2 <- union(sym_mrna2_up, sym_mrna2_dn)\n",
    "length(sym_mrna2)\n",
    "\n",
    "df_mrna2 <- df_mrna2[sym_mrna2,,drop=F]"
   ]
  },
  {
   "cell_type": "markdown",
   "metadata": {},
   "source": [
    "### sym_mrna2_no"
   ]
  },
  {
   "cell_type": "code",
   "execution_count": 132,
   "metadata": {},
   "outputs": [
    {
     "data": {
      "text/html": [
       "10127"
      ],
      "text/latex": [
       "10127"
      ],
      "text/markdown": [
       "10127"
      ],
      "text/plain": [
       "[1] 10127"
      ]
     },
     "metadata": {},
     "output_type": "display_data"
    }
   ],
   "source": [
    "sym_mrna2_no <- setdiff(sym_rnaseq, sym_mrna2)\n",
    "length(sym_mrna2_no)\n",
    "\n",
    "# Not DE in total RNA-seq for tgfb48 vs. tgfbCX\n",
    "# with GRCm38.97.gtf RSEM: 10447\n",
    "# with GRCm38.97.gtf HTSEQ: 10125\n",
    "# with GRCm38.97.rRNA.gtf: 10456"
   ]
  },
  {
   "cell_type": "markdown",
   "metadata": {},
   "source": [
    "## df_ribo2"
   ]
  },
  {
   "cell_type": "code",
   "execution_count": 133,
   "metadata": {
    "scrolled": false
   },
   "outputs": [
    {
     "data": {
      "text/html": [
       "<table>\n",
       "<caption>A data.frame: 6 × 5</caption>\n",
       "<thead>\n",
       "\t<tr><th></th><th scope=col>tgfb48</th><th scope=col>tgfbCX5461100nm</th><th scope=col>log2FC</th><th scope=col>FDR</th><th scope=col>p.value</th></tr>\n",
       "\t<tr><th></th><th scope=col>&lt;dbl&gt;</th><th scope=col>&lt;dbl&gt;</th><th scope=col>&lt;dbl&gt;</th><th scope=col>&lt;dbl&gt;</th><th scope=col>&lt;dbl&gt;</th></tr>\n",
       "</thead>\n",
       "<tbody>\n",
       "\t<tr><th scope=row>Gm23238</th><td>4.609661</td><td>-3.1367895</td><td>-7.746450</td><td>6.00000e-11</td><td>0.00e+00</td></tr>\n",
       "\t<tr><th scope=row>Gm15564</th><td>5.859788</td><td>-0.8713795</td><td>-6.731167</td><td>0.00000e+00</td><td>0.00e+00</td></tr>\n",
       "\t<tr><th scope=row>Gm23540</th><td>4.635973</td><td>-1.5286723</td><td>-6.164646</td><td>5.00000e-11</td><td>0.00e+00</td></tr>\n",
       "\t<tr><th scope=row>Gm44456</th><td>2.297554</td><td>-3.8670543</td><td>-6.164608</td><td>7.84700e-08</td><td>1.10e-09</td></tr>\n",
       "\t<tr><th scope=row>Mirlet7c-1</th><td>1.713583</td><td>-3.8670543</td><td>-5.580638</td><td>1.56063e-06</td><td>2.96e-08</td></tr>\n",
       "\t<tr><th scope=row>Megf6</th><td>2.205295</td><td>-3.3447488</td><td>-5.550044</td><td>6.30110e-07</td><td>1.07e-08</td></tr>\n",
       "</tbody>\n",
       "</table>\n"
      ],
      "text/latex": [
       "A data.frame: 6 × 5\n",
       "\\begin{tabular}{r|lllll}\n",
       "  & tgfb48 & tgfbCX5461100nm & log2FC & FDR & p.value\\\\\n",
       "  & <dbl> & <dbl> & <dbl> & <dbl> & <dbl>\\\\\n",
       "\\hline\n",
       "\tGm23238 & 4.609661 & -3.1367895 & -7.746450 & 6.00000e-11 & 0.00e+00\\\\\n",
       "\tGm15564 & 5.859788 & -0.8713795 & -6.731167 & 0.00000e+00 & 0.00e+00\\\\\n",
       "\tGm23540 & 4.635973 & -1.5286723 & -6.164646 & 5.00000e-11 & 0.00e+00\\\\\n",
       "\tGm44456 & 2.297554 & -3.8670543 & -6.164608 & 7.84700e-08 & 1.10e-09\\\\\n",
       "\tMirlet7c-1 & 1.713583 & -3.8670543 & -5.580638 & 1.56063e-06 & 2.96e-08\\\\\n",
       "\tMegf6 & 2.205295 & -3.3447488 & -5.550044 & 6.30110e-07 & 1.07e-08\\\\\n",
       "\\end{tabular}\n"
      ],
      "text/markdown": [
       "\n",
       "A data.frame: 6 × 5\n",
       "\n",
       "| <!--/--> | tgfb48 &lt;dbl&gt; | tgfbCX5461100nm &lt;dbl&gt; | log2FC &lt;dbl&gt; | FDR &lt;dbl&gt; | p.value &lt;dbl&gt; |\n",
       "|---|---|---|---|---|---|\n",
       "| Gm23238 | 4.609661 | -3.1367895 | -7.746450 | 6.00000e-11 | 0.00e+00 |\n",
       "| Gm15564 | 5.859788 | -0.8713795 | -6.731167 | 0.00000e+00 | 0.00e+00 |\n",
       "| Gm23540 | 4.635973 | -1.5286723 | -6.164646 | 5.00000e-11 | 0.00e+00 |\n",
       "| Gm44456 | 2.297554 | -3.8670543 | -6.164608 | 7.84700e-08 | 1.10e-09 |\n",
       "| Mirlet7c-1 | 1.713583 | -3.8670543 | -5.580638 | 1.56063e-06 | 2.96e-08 |\n",
       "| Megf6 | 2.205295 | -3.3447488 | -5.550044 | 6.30110e-07 | 1.07e-08 |\n",
       "\n"
      ],
      "text/plain": [
       "           tgfb48   tgfbCX5461100nm log2FC    FDR         p.value \n",
       "Gm23238    4.609661 -3.1367895      -7.746450 6.00000e-11 0.00e+00\n",
       "Gm15564    5.859788 -0.8713795      -6.731167 0.00000e+00 0.00e+00\n",
       "Gm23540    4.635973 -1.5286723      -6.164646 5.00000e-11 0.00e+00\n",
       "Gm44456    2.297554 -3.8670543      -6.164608 7.84700e-08 1.10e-09\n",
       "Mirlet7c-1 1.713583 -3.8670543      -5.580638 1.56063e-06 2.96e-08\n",
       "Megf6      2.205295 -3.3447488      -5.550044 6.30110e-07 1.07e-08"
      ]
     },
     "metadata": {},
     "output_type": "display_data"
    },
    {
     "data": {
      "text/html": [
       "<style>\n",
       ".list-inline {list-style: none; margin:0; padding: 0}\n",
       ".list-inline>li {display: inline-block}\n",
       ".list-inline>li:not(:last-child)::after {content: \"\\00b7\"; padding: 0 .5ex}\n",
       "</style>\n",
       "<ol class=list-inline><li>1695</li><li>5</li></ol>\n"
      ],
      "text/latex": [
       "\\begin{enumerate*}\n",
       "\\item 1695\n",
       "\\item 5\n",
       "\\end{enumerate*}\n"
      ],
      "text/markdown": [
       "1. 1695\n",
       "2. 5\n",
       "\n",
       "\n"
      ],
      "text/plain": [
       "[1] 1695    5"
      ]
     },
     "metadata": {},
     "output_type": "display_data"
    },
    {
     "data": {
      "text/html": [
       "FALSE"
      ],
      "text/latex": [
       "FALSE"
      ],
      "text/markdown": [
       "FALSE"
      ],
      "text/plain": [
       "[1] FALSE"
      ]
     },
     "metadata": {},
     "output_type": "display_data"
    },
    {
     "data": {
      "text/html": [
       "<table>\n",
       "<caption>A data.frame: 6 × 6</caption>\n",
       "<thead>\n",
       "\t<tr><th></th><th scope=col>tgfb48</th><th scope=col>tgfbCX5461100nm</th><th scope=col>log2FC</th><th scope=col>FDR</th><th scope=col>p.value</th><th scope=col>biotype</th></tr>\n",
       "\t<tr><th></th><th scope=col>&lt;dbl&gt;</th><th scope=col>&lt;dbl&gt;</th><th scope=col>&lt;dbl&gt;</th><th scope=col>&lt;dbl&gt;</th><th scope=col>&lt;dbl&gt;</th><th scope=col>&lt;chr&gt;</th></tr>\n",
       "</thead>\n",
       "<tbody>\n",
       "\t<tr><th scope=row>0610009B22Rik</th><td> 1.1791783</td><td> 2.2156391</td><td> 1.0364608</td><td>2.002003e-02</td><td>0.0022530517</td><td>protein_coding</td></tr>\n",
       "\t<tr><th scope=row>1110002E22Rik</th><td>-0.5588888</td><td>-3.3332046</td><td>-2.7743158</td><td>4.079412e-02</td><td>0.0061528400</td><td>protein_coding</td></tr>\n",
       "\t<tr><th scope=row>1700021F05Rik</th><td> 0.2188761</td><td> 1.7387510</td><td> 1.5198749</td><td>1.005345e-02</td><td>0.0009107691</td><td>protein_coding</td></tr>\n",
       "\t<tr><th scope=row>1810013L24Rik</th><td> 3.7417428</td><td> 4.6583561</td><td> 0.9166133</td><td>9.344200e-07</td><td>0.0000000163</td><td>protein_coding</td></tr>\n",
       "\t<tr><th scope=row>1810026B05Rik</th><td> 2.5782959</td><td> 3.3488717</td><td> 0.7705758</td><td>7.621297e-03</td><td>0.0006249224</td><td>lncRNA        </td></tr>\n",
       "\t<tr><th scope=row>1810037I17Rik</th><td> 1.3561817</td><td>-0.3633797</td><td>-1.7195614</td><td>2.539849e-02</td><td>0.0031625955</td><td>protein_coding</td></tr>\n",
       "</tbody>\n",
       "</table>\n"
      ],
      "text/latex": [
       "A data.frame: 6 × 6\n",
       "\\begin{tabular}{r|llllll}\n",
       "  & tgfb48 & tgfbCX5461100nm & log2FC & FDR & p.value & biotype\\\\\n",
       "  & <dbl> & <dbl> & <dbl> & <dbl> & <dbl> & <chr>\\\\\n",
       "\\hline\n",
       "\t0610009B22Rik &  1.1791783 &  2.2156391 &  1.0364608 & 2.002003e-02 & 0.0022530517 & protein\\_coding\\\\\n",
       "\t1110002E22Rik & -0.5588888 & -3.3332046 & -2.7743158 & 4.079412e-02 & 0.0061528400 & protein\\_coding\\\\\n",
       "\t1700021F05Rik &  0.2188761 &  1.7387510 &  1.5198749 & 1.005345e-02 & 0.0009107691 & protein\\_coding\\\\\n",
       "\t1810013L24Rik &  3.7417428 &  4.6583561 &  0.9166133 & 9.344200e-07 & 0.0000000163 & protein\\_coding\\\\\n",
       "\t1810026B05Rik &  2.5782959 &  3.3488717 &  0.7705758 & 7.621297e-03 & 0.0006249224 & lncRNA        \\\\\n",
       "\t1810037I17Rik &  1.3561817 & -0.3633797 & -1.7195614 & 2.539849e-02 & 0.0031625955 & protein\\_coding\\\\\n",
       "\\end{tabular}\n"
      ],
      "text/markdown": [
       "\n",
       "A data.frame: 6 × 6\n",
       "\n",
       "| <!--/--> | tgfb48 &lt;dbl&gt; | tgfbCX5461100nm &lt;dbl&gt; | log2FC &lt;dbl&gt; | FDR &lt;dbl&gt; | p.value &lt;dbl&gt; | biotype &lt;chr&gt; |\n",
       "|---|---|---|---|---|---|---|\n",
       "| 0610009B22Rik |  1.1791783 |  2.2156391 |  1.0364608 | 2.002003e-02 | 0.0022530517 | protein_coding |\n",
       "| 1110002E22Rik | -0.5588888 | -3.3332046 | -2.7743158 | 4.079412e-02 | 0.0061528400 | protein_coding |\n",
       "| 1700021F05Rik |  0.2188761 |  1.7387510 |  1.5198749 | 1.005345e-02 | 0.0009107691 | protein_coding |\n",
       "| 1810013L24Rik |  3.7417428 |  4.6583561 |  0.9166133 | 9.344200e-07 | 0.0000000163 | protein_coding |\n",
       "| 1810026B05Rik |  2.5782959 |  3.3488717 |  0.7705758 | 7.621297e-03 | 0.0006249224 | lncRNA         |\n",
       "| 1810037I17Rik |  1.3561817 | -0.3633797 | -1.7195614 | 2.539849e-02 | 0.0031625955 | protein_coding |\n",
       "\n"
      ],
      "text/plain": [
       "              tgfb48     tgfbCX5461100nm log2FC     FDR          p.value     \n",
       "0610009B22Rik  1.1791783  2.2156391       1.0364608 2.002003e-02 0.0022530517\n",
       "1110002E22Rik -0.5588888 -3.3332046      -2.7743158 4.079412e-02 0.0061528400\n",
       "1700021F05Rik  0.2188761  1.7387510       1.5198749 1.005345e-02 0.0009107691\n",
       "1810013L24Rik  3.7417428  4.6583561       0.9166133 9.344200e-07 0.0000000163\n",
       "1810026B05Rik  2.5782959  3.3488717       0.7705758 7.621297e-03 0.0006249224\n",
       "1810037I17Rik  1.3561817 -0.3633797      -1.7195614 2.539849e-02 0.0031625955\n",
       "              biotype       \n",
       "0610009B22Rik protein_coding\n",
       "1110002E22Rik protein_coding\n",
       "1700021F05Rik protein_coding\n",
       "1810013L24Rik protein_coding\n",
       "1810026B05Rik lncRNA        \n",
       "1810037I17Rik protein_coding"
      ]
     },
     "metadata": {},
     "output_type": "display_data"
    },
    {
     "data": {
      "text/html": [
       "<style>\n",
       ".list-inline {list-style: none; margin:0; padding: 0}\n",
       ".list-inline>li {display: inline-block}\n",
       ".list-inline>li:not(:last-child)::after {content: \"\\00b7\"; padding: 0 .5ex}\n",
       "</style>\n",
       "<ol class=list-inline><li>1695</li><li>6</li></ol>\n"
      ],
      "text/latex": [
       "\\begin{enumerate*}\n",
       "\\item 1695\n",
       "\\item 6\n",
       "\\end{enumerate*}\n"
      ],
      "text/markdown": [
       "1. 1695\n",
       "2. 6\n",
       "\n",
       "\n"
      ],
      "text/plain": [
       "[1] 1695    6"
      ]
     },
     "metadata": {},
     "output_type": "display_data"
    }
   ],
   "source": [
    "# dir_riboseq <- '../data/limma-voom.mrna/161021/NMuMG' fname_ribo <-\n",
    "# 'emt.161021.limma-voom.mrna.limma.gene.tgfb48--vs--tgfbCX5461100nm.diff-all.txt'\n",
    "fname_ribo <- sprintf(\"161021.NMuMG.%s.tgfb48--vs--tgfbCX5461100nm.diff-all.txt.gz\", \n",
    "    strdir)\n",
    "\n",
    "df_ribo2 <- read.table(file = sprintf(\"%s/%s\", dir_riboseq, fname_ribo), header = TRUE, \n",
    "    sep = \"\\t\", row.names = 1, quote = \"\", comment.char = \"#\", stringsAsFactors = F)\n",
    "\n",
    "if (!is.null(pattern_remove_gene)) {\n",
    "    dim(df_ribo2)\n",
    "    df_ribo2 <- df_ribo2[!grepl(pattern_remove_gene, rownames(df_ribo2)), ]\n",
    "}\n",
    "head(df_ribo2)\n",
    "dim(df_ribo2)\n",
    "\n",
    "idx <- which(df_all[, \"tgfb48.tgfbCX5461100nm.DEtranslation\"] != \"notSig\")\n",
    "df_ribo2 <- df_ribo2[rownames(df_all[idx, ]), ]\n",
    "\n",
    "# df_mrna$biotype\n",
    "idx <- match(rownames(df_ribo2), rownames(df_all))\n",
    "any(is.na(idx))  # should be FALSE\n",
    "df_ribo2$biotype <- df_all[idx, \"biotype\"]\n",
    "\n",
    "head(df_ribo2)\n",
    "dim(df_ribo2)\n",
    "\n",
    "if (!is.null(pattern_remove_gene)) {\n",
    "    any(grepl(pattern_remove_gene, rownames(df_ribo2)))  # should be FALSE\n",
    "}\n",
    "\n",
    "if (f_write_table) {\n",
    "    fname_out <- sprintf(\"./data/table/161021%s.NMuMG.%s.tgfb48--vs--tgfbCX5461100nm.diff-all.txt\", \n",
    "        rundate_appendix, strdir)\n",
    "    write.table(df_ribo2, file = fname_out, row.names = TRUE, col.names = NA, sep = \"\\t\", \n",
    "        quote = FALSE)\n",
    "}"
   ]
  },
  {
   "cell_type": "code",
   "execution_count": 134,
   "metadata": {},
   "outputs": [],
   "source": [
    "vec_log2FC <- df_ribo2$log2FC\n",
    "vec_fdr <- df_ribo2$FDR\n"
   ]
  },
  {
   "cell_type": "markdown",
   "metadata": {},
   "source": [
    "### sym_ribo2_up"
   ]
  },
  {
   "cell_type": "code",
   "execution_count": 135,
   "metadata": {},
   "outputs": [
    {
     "data": {
      "text/html": [
       "<style>\n",
       ".list-inline {list-style: none; margin:0; padding: 0}\n",
       ".list-inline>li {display: inline-block}\n",
       ".list-inline>li:not(:last-child)::after {content: \"\\00b7\"; padding: 0 .5ex}\n",
       "</style>\n",
       "<ol class=list-inline><li>744</li><li>6</li></ol>\n"
      ],
      "text/latex": [
       "\\begin{enumerate*}\n",
       "\\item 744\n",
       "\\item 6\n",
       "\\end{enumerate*}\n"
      ],
      "text/markdown": [
       "1. 744\n",
       "2. 6\n",
       "\n",
       "\n"
      ],
      "text/plain": [
       "[1] 744   6"
      ]
     },
     "metadata": {},
     "output_type": "display_data"
    }
   ],
   "source": [
    "f_up <- vec_fdr < th_adj_pvalue & vec_log2FC > th_log2fc\n",
    "df_ribo2_up <- df_ribo2[f_up,]\n",
    "sym_ribo2_up <- rownames(df_ribo2_up)\n",
    "dim(df_ribo2_up)\n",
    "\n",
    "list_genes[['sym_ribo2_up']] <- sym_ribo2_up"
   ]
  },
  {
   "cell_type": "markdown",
   "metadata": {},
   "source": [
    "### sym_ribo2_dn"
   ]
  },
  {
   "cell_type": "code",
   "execution_count": 136,
   "metadata": {},
   "outputs": [
    {
     "data": {
      "text/html": [
       "<style>\n",
       ".list-inline {list-style: none; margin:0; padding: 0}\n",
       ".list-inline>li {display: inline-block}\n",
       ".list-inline>li:not(:last-child)::after {content: \"\\00b7\"; padding: 0 .5ex}\n",
       "</style>\n",
       "<ol class=list-inline><li>951</li><li>6</li></ol>\n"
      ],
      "text/latex": [
       "\\begin{enumerate*}\n",
       "\\item 951\n",
       "\\item 6\n",
       "\\end{enumerate*}\n"
      ],
      "text/markdown": [
       "1. 951\n",
       "2. 6\n",
       "\n",
       "\n"
      ],
      "text/plain": [
       "[1] 951   6"
      ]
     },
     "metadata": {},
     "output_type": "display_data"
    }
   ],
   "source": [
    "f_dn <- vec_fdr < th_adj_pvalue & vec_log2FC < -th_log2fc\n",
    "df_ribo2_dn <- df_ribo2[f_dn,]\n",
    "sym_ribo2_dn <- rownames(df_ribo2_dn)\n",
    "dim(df_ribo2_dn)\n",
    "\n",
    "list_genes[['sym_ribo2_dn']] <- sym_ribo2_dn"
   ]
  },
  {
   "cell_type": "markdown",
   "metadata": {},
   "source": [
    "### sym_ribo2"
   ]
  },
  {
   "cell_type": "code",
   "execution_count": 137,
   "metadata": {},
   "outputs": [
    {
     "data": {
      "text/html": [
       "1695"
      ],
      "text/latex": [
       "1695"
      ],
      "text/markdown": [
       "1695"
      ],
      "text/plain": [
       "[1] 1695"
      ]
     },
     "metadata": {},
     "output_type": "display_data"
    }
   ],
   "source": [
    "sym_ribo2 <- union(sym_ribo2_up, sym_ribo2_dn)\n",
    "length(sym_ribo2)\n",
    "\n",
    "df_ribo2 <- df_ribo2[sym_ribo2,,drop=F]"
   ]
  },
  {
   "cell_type": "markdown",
   "metadata": {},
   "source": [
    "### sym_ribo2_no"
   ]
  },
  {
   "cell_type": "code",
   "execution_count": 138,
   "metadata": {},
   "outputs": [
    {
     "data": {
      "text/html": [
       "8648"
      ],
      "text/latex": [
       "8648"
      ],
      "text/markdown": [
       "8648"
      ],
      "text/plain": [
       "[1] 8648"
      ]
     },
     "metadata": {},
     "output_type": "display_data"
    }
   ],
   "source": [
    "sym_ribo2_no <- setdiff(sym_riboseq, sym_ribo2)\n",
    "length(sym_ribo2_no)\n",
    "\n",
    "# Not DE in ribosome profiling for tgfb48 vs. tgfbCX\n",
    "# with GRCm38.97.gtf RSEM: 10009\n",
    "# with GRCm38.97.gtf HTSEQ: 8958\n",
    "# with GRCm38.97.rRNA.gtf: 9984"
   ]
  },
  {
   "cell_type": "markdown",
   "metadata": {},
   "source": [
    "## shared between both rnaseq and riboseq"
   ]
  },
  {
   "cell_type": "markdown",
   "metadata": {},
   "source": [
    "### sym_mrna2_no_ribo2_no"
   ]
  },
  {
   "cell_type": "code",
   "execution_count": 139,
   "metadata": {},
   "outputs": [
    {
     "data": {
      "text/html": [
       "6296"
      ],
      "text/latex": [
       "6296"
      ],
      "text/markdown": [
       "6296"
      ],
      "text/plain": [
       "[1] 6296"
      ]
     },
     "metadata": {},
     "output_type": "display_data"
    },
    {
     "data": {
      "text/html": [
       "6296"
      ],
      "text/latex": [
       "6296"
      ],
      "text/markdown": [
       "6296"
      ],
      "text/plain": [
       "[1] 6296"
      ]
     },
     "metadata": {},
     "output_type": "display_data"
    }
   ],
   "source": [
    "sym_mrna2_no_ribo2_no <- intersect(sym_mrna2_no, sym_ribo2_no)\n",
    "length(sym_mrna2_no_ribo2_no)\n",
    "sym_mrna2_no_ribo2_no <- intersect(sym_mrna2_no_ribo2_no, sym_detected_both)\n",
    "length(sym_mrna2_no_ribo2_no)\n",
    "\n",
    "# Not DE in both platform for tgfb48 vs. tgfbCX\n",
    "# with GRCm38.97.gtf RSEM: 6920\n",
    "# with GRCm38.97.gtf HTSEQ: 6379\n",
    "# with GRCm38.97.rRNA.gtf: 6917"
   ]
  },
  {
   "cell_type": "markdown",
   "metadata": {},
   "source": [
    "### sym_mrna2_up_ribo2_no"
   ]
  },
  {
   "cell_type": "code",
   "execution_count": 140,
   "metadata": {},
   "outputs": [
    {
     "data": {
      "text/html": [
       "1312"
      ],
      "text/latex": [
       "1312"
      ],
      "text/markdown": [
       "1312"
      ],
      "text/plain": [
       "[1] 1312"
      ]
     },
     "metadata": {},
     "output_type": "display_data"
    },
    {
     "data": {
      "text/html": [
       "1010"
      ],
      "text/latex": [
       "1010"
      ],
      "text/markdown": [
       "1010"
      ],
      "text/plain": [
       "[1] 1010"
      ]
     },
     "metadata": {},
     "output_type": "display_data"
    }
   ],
   "source": [
    "sym_mrna2_up_ribo2_no <- setdiff(sym_mrna2_up, sym_ribo2)\n",
    "length(sym_mrna2_up_ribo2_no)\n",
    "sym_mrna2_up_ribo2_no <- intersect(sym_mrna2_up_ribo2_no, sym_detected_both)\n",
    "length(sym_mrna2_up_ribo2_no)\n",
    "\n",
    "list_genes[['sym_mrna2_up_ribo2_no']] <- sym_mrna2_up_ribo2_no"
   ]
  },
  {
   "cell_type": "markdown",
   "metadata": {},
   "source": [
    "### sym_mrna2_dn_ribo2_no"
   ]
  },
  {
   "cell_type": "code",
   "execution_count": 141,
   "metadata": {},
   "outputs": [
    {
     "data": {
      "text/html": [
       "1010"
      ],
      "text/latex": [
       "1010"
      ],
      "text/markdown": [
       "1010"
      ],
      "text/plain": [
       "[1] 1010"
      ]
     },
     "metadata": {},
     "output_type": "display_data"
    },
    {
     "data": {
      "text/html": [
       "896"
      ],
      "text/latex": [
       "896"
      ],
      "text/markdown": [
       "896"
      ],
      "text/plain": [
       "[1] 896"
      ]
     },
     "metadata": {},
     "output_type": "display_data"
    }
   ],
   "source": [
    "sym_mrna2_dn_ribo2_no <- setdiff(sym_mrna2_dn, sym_ribo2)\n",
    "length(sym_mrna2_dn_ribo2_no)\n",
    "sym_mrna2_dn_ribo2_no <- intersect(sym_mrna2_dn_ribo2_no, sym_detected_both)\n",
    "length(sym_mrna2_dn_ribo2_no)\n",
    "\n",
    "list_genes[['sym_mrna2_dn_ribo2_no']] <- sym_mrna2_dn_ribo2_no"
   ]
  },
  {
   "cell_type": "markdown",
   "metadata": {},
   "source": [
    "### sym_mrna2_no_ribo2_up"
   ]
  },
  {
   "cell_type": "code",
   "execution_count": 142,
   "metadata": {},
   "outputs": [
    {
     "data": {
      "text/html": [
       "475"
      ],
      "text/latex": [
       "475"
      ],
      "text/markdown": [
       "475"
      ],
      "text/plain": [
       "[1] 475"
      ]
     },
     "metadata": {},
     "output_type": "display_data"
    },
    {
     "data": {
      "text/html": [
       "434"
      ],
      "text/latex": [
       "434"
      ],
      "text/markdown": [
       "434"
      ],
      "text/plain": [
       "[1] 434"
      ]
     },
     "metadata": {},
     "output_type": "display_data"
    }
   ],
   "source": [
    "sym_mrna2_no_ribo2_up <- setdiff(sym_ribo2_up, sym_mrna2)\n",
    "length(sym_mrna2_no_ribo2_up)\n",
    "sym_mrna2_no_ribo2_up <- intersect(sym_mrna2_no_ribo2_up, sym_detected_both)\n",
    "length(sym_mrna2_no_ribo2_up)\n",
    "\n",
    "list_genes[['sym_mrna2_no_ribo2_up']] <- sym_mrna2_no_ribo2_up"
   ]
  },
  {
   "cell_type": "markdown",
   "metadata": {},
   "source": [
    "### sym_mrna2_no_ribo2_dn"
   ]
  },
  {
   "cell_type": "code",
   "execution_count": 143,
   "metadata": {},
   "outputs": [
    {
     "data": {
      "text/html": [
       "756"
      ],
      "text/latex": [
       "756"
      ],
      "text/markdown": [
       "756"
      ],
      "text/plain": [
       "[1] 756"
      ]
     },
     "metadata": {},
     "output_type": "display_data"
    },
    {
     "data": {
      "text/html": [
       "580"
      ],
      "text/latex": [
       "580"
      ],
      "text/markdown": [
       "580"
      ],
      "text/plain": [
       "[1] 580"
      ]
     },
     "metadata": {},
     "output_type": "display_data"
    }
   ],
   "source": [
    "sym_mrna2_no_ribo2_dn <- setdiff(sym_ribo2_dn, sym_mrna2)\n",
    "length(sym_mrna2_no_ribo2_dn)\n",
    "sym_mrna2_no_ribo2_dn <- intersect(sym_mrna2_no_ribo2_dn, sym_detected_both)\n",
    "length(sym_mrna2_no_ribo2_dn)\n",
    "\n",
    "list_genes[['sym_mrna2_no_ribo2_dn']] <- sym_mrna2_no_ribo2_dn"
   ]
  },
  {
   "cell_type": "markdown",
   "metadata": {},
   "source": [
    "### sym_mrna2_up_ribo2_up"
   ]
  },
  {
   "cell_type": "code",
   "execution_count": 144,
   "metadata": {},
   "outputs": [
    {
     "data": {
      "text/html": [
       "<style>\n",
       ".list-inline {list-style: none; margin:0; padding: 0}\n",
       ".list-inline>li {display: inline-block}\n",
       ".list-inline>li:not(:last-child)::after {content: \"\\00b7\"; padding: 0 .5ex}\n",
       "</style>\n",
       "<ol class=list-inline><li>'1810013L24Rik'</li><li>'1810026B05Rik'</li><li>'2610035D17Rik'</li><li>'Abhd5'</li><li>'Acox1'</li><li>'Acsbg1'</li><li>'Aen'</li><li>'Ahnak2'</li><li>'AI837181'</li><li>'Areg'</li><li>'Arl4d'</li><li>'Arl5b'</li><li>'Arl6ip5'</li><li>'Arl8a'</li><li>'Atf3'</li><li>'Atp6v0d1'</li><li>'Atp6v1c1'</li><li>'Atp6v1d'</li><li>'Aurka'</li><li>'Bax'</li><li>'Bbc3'</li><li>'Bcl2l1'</li><li>'Bcl3'</li><li>'Bhlhe40'</li><li>'Brd2'</li><li>'Bri3'</li><li>'Card19'</li><li>'Ccl2'</li><li>'Ccng1'</li><li>'Ccnl1'</li><li>'Ccnt2'</li><li>'Cdc34'</li><li>'Cdkn1a'</li><li>'Chka'</li><li>'Chuk'</li><li>'Clcf1'</li><li>'Clk1'</li><li>'Clk4'</li><li>'Cln5'</li><li>'Coq10b'</li><li>'Creb5'</li><li>'Crip2'</li><li>'Csf2'</li><li>'Csnk1d'</li><li>'Cyp1a1'</li><li>'Cyp1b1'</li><li>'Dcxr'</li><li>'Dnajc5'</li><li>'Dusp5'</li><li>'E2f3'</li><li>'Egr1'</li><li>'Eif5'</li><li>'Epha2'</li><li>'Erf'</li><li>'Fam118b'</li><li>'Fam133b'</li><li>'Fibp'</li><li>'Fitm2'</li><li>'Fosb'</li><li>'Fosl1'</li><li>'Gadd45b'</li><li>'Gadd45g'</li><li>'Gimd1'</li><li>'Gla'</li><li>'Gprc5a'</li><li>'Gtse1'</li><li>'Habp2'</li><li>'Haus2'</li><li>'Hes1'</li><li>'Hgsnat'</li><li>'Hilpda'</li><li>'Hist1h2bc'</li><li>'Hist1h4a'</li><li>'Hist1h4c'</li><li>'Hist1h4d'</li><li>'Hist1h4i'</li><li>'Hist2h4'</li><li>'Hmox1'</li><li>'Hpgds'</li><li>'Id2'</li><li>'Id3'</li><li>'Ier5'</li><li>'Ifi30'</li><li>'Ifitm10'</li><li>'Ifrd1'</li><li>'Inka2'</li><li>'Jmjd6'</li><li>'Jund'</li><li>'Kctd11'</li><li>'Klf10'</li><li>'Klf6'</li><li>'Lactb2'</li><li>'Lif'</li><li>'Maff'</li><li>'Mafk'</li><li>'Map2k3'</li><li>'Mdm2'</li><li>'Micall1'</li><li>'Mpp2'</li><li>'Nabp1'</li><li>'Napa'</li><li>'Ndel1'</li><li>'Neat1'</li><li>'Necap1'</li><li>'Nfe2l2'</li><li>'Nfil3'</li><li>'Ninj1'</li><li>'Noct'</li><li>'Nr1d1'</li><li>'Nsmce3'</li><li>'Nudt18'</li><li>'Orc4'</li><li>'Ostm1'</li><li>'Otud1'</li><li>'Pard6b'</li><li>'Patl1'</li><li>'Pdlim7'</li><li>'Perp'</li><li>'Pfkfb3'</li><li>'Phlda1'</li><li>'Pias1'</li><li>'Pim3'</li><li>'Pip4p1'</li><li>'Plaur'</li><li>'Plk3'</li><li>'Pnrc1'</li><li>'Ppp2r2a'</li><li>'Prc1'</li><li>'Prpf38b'</li><li>'Prrc2c'</li><li>'Prrg4'</li><li>'Psrc1'</li><li>'Rabgef1'</li><li>'Rars'</li><li>'Rasgef1b'</li><li>'Rassf1'</li><li>'Rbm38'</li><li>'Rcan1'</li><li>'Rchy1'</li><li>'Rel'</li><li>'Rhod'</li><li>'Rnd1'</li><li>'Rnf185'</li><li>'Rnf25'</li><li>'Rsrc2'</li><li>'Sdc4'</li><li>'Sh3bp2'</li><li>'Slc25a33'</li><li>'Snhg15'</li><li>'Snhg17'</li><li>'Sox9'</li><li>'Sqstm1'</li><li>'Sra1'</li><li>'Srek1'</li><li>'Srsf11'</li><li>'Stk17b'</li><li>'Stx3'</li><li>'Tcim'</li><li>'Tgif1'</li><li>'Tgoln1'</li><li>'Tiparp'</li><li>'Tlk1'</li><li>'Tnfrsf12a'</li><li>'Traf4'</li><li>'Trip6'</li><li>'Trpm7'</li><li>'Tuba4a'</li><li>'Tubb6'</li><li>'Txnip'</li><li>'Uap1l1'</li><li>'Ubc'</li><li>'Ube2c'</li><li>'Vhl'</li><li>'Vps26a'</li><li>'Vps37b'</li><li>'Ypel5'</li><li>'Zfp280d'</li><li>'Zfp36'</li><li>'Zfp36l1'</li><li>'Zfp472'</li><li>'Zfp655'</li><li>'Zfr'</li><li>'Zfx'</li><li>'Zkscan5'</li><li>'Znrd1'</li></ol>\n"
      ],
      "text/latex": [
       "\\begin{enumerate*}\n",
       "\\item '1810013L24Rik'\n",
       "\\item '1810026B05Rik'\n",
       "\\item '2610035D17Rik'\n",
       "\\item 'Abhd5'\n",
       "\\item 'Acox1'\n",
       "\\item 'Acsbg1'\n",
       "\\item 'Aen'\n",
       "\\item 'Ahnak2'\n",
       "\\item 'AI837181'\n",
       "\\item 'Areg'\n",
       "\\item 'Arl4d'\n",
       "\\item 'Arl5b'\n",
       "\\item 'Arl6ip5'\n",
       "\\item 'Arl8a'\n",
       "\\item 'Atf3'\n",
       "\\item 'Atp6v0d1'\n",
       "\\item 'Atp6v1c1'\n",
       "\\item 'Atp6v1d'\n",
       "\\item 'Aurka'\n",
       "\\item 'Bax'\n",
       "\\item 'Bbc3'\n",
       "\\item 'Bcl2l1'\n",
       "\\item 'Bcl3'\n",
       "\\item 'Bhlhe40'\n",
       "\\item 'Brd2'\n",
       "\\item 'Bri3'\n",
       "\\item 'Card19'\n",
       "\\item 'Ccl2'\n",
       "\\item 'Ccng1'\n",
       "\\item 'Ccnl1'\n",
       "\\item 'Ccnt2'\n",
       "\\item 'Cdc34'\n",
       "\\item 'Cdkn1a'\n",
       "\\item 'Chka'\n",
       "\\item 'Chuk'\n",
       "\\item 'Clcf1'\n",
       "\\item 'Clk1'\n",
       "\\item 'Clk4'\n",
       "\\item 'Cln5'\n",
       "\\item 'Coq10b'\n",
       "\\item 'Creb5'\n",
       "\\item 'Crip2'\n",
       "\\item 'Csf2'\n",
       "\\item 'Csnk1d'\n",
       "\\item 'Cyp1a1'\n",
       "\\item 'Cyp1b1'\n",
       "\\item 'Dcxr'\n",
       "\\item 'Dnajc5'\n",
       "\\item 'Dusp5'\n",
       "\\item 'E2f3'\n",
       "\\item 'Egr1'\n",
       "\\item 'Eif5'\n",
       "\\item 'Epha2'\n",
       "\\item 'Erf'\n",
       "\\item 'Fam118b'\n",
       "\\item 'Fam133b'\n",
       "\\item 'Fibp'\n",
       "\\item 'Fitm2'\n",
       "\\item 'Fosb'\n",
       "\\item 'Fosl1'\n",
       "\\item 'Gadd45b'\n",
       "\\item 'Gadd45g'\n",
       "\\item 'Gimd1'\n",
       "\\item 'Gla'\n",
       "\\item 'Gprc5a'\n",
       "\\item 'Gtse1'\n",
       "\\item 'Habp2'\n",
       "\\item 'Haus2'\n",
       "\\item 'Hes1'\n",
       "\\item 'Hgsnat'\n",
       "\\item 'Hilpda'\n",
       "\\item 'Hist1h2bc'\n",
       "\\item 'Hist1h4a'\n",
       "\\item 'Hist1h4c'\n",
       "\\item 'Hist1h4d'\n",
       "\\item 'Hist1h4i'\n",
       "\\item 'Hist2h4'\n",
       "\\item 'Hmox1'\n",
       "\\item 'Hpgds'\n",
       "\\item 'Id2'\n",
       "\\item 'Id3'\n",
       "\\item 'Ier5'\n",
       "\\item 'Ifi30'\n",
       "\\item 'Ifitm10'\n",
       "\\item 'Ifrd1'\n",
       "\\item 'Inka2'\n",
       "\\item 'Jmjd6'\n",
       "\\item 'Jund'\n",
       "\\item 'Kctd11'\n",
       "\\item 'Klf10'\n",
       "\\item 'Klf6'\n",
       "\\item 'Lactb2'\n",
       "\\item 'Lif'\n",
       "\\item 'Maff'\n",
       "\\item 'Mafk'\n",
       "\\item 'Map2k3'\n",
       "\\item 'Mdm2'\n",
       "\\item 'Micall1'\n",
       "\\item 'Mpp2'\n",
       "\\item 'Nabp1'\n",
       "\\item 'Napa'\n",
       "\\item 'Ndel1'\n",
       "\\item 'Neat1'\n",
       "\\item 'Necap1'\n",
       "\\item 'Nfe2l2'\n",
       "\\item 'Nfil3'\n",
       "\\item 'Ninj1'\n",
       "\\item 'Noct'\n",
       "\\item 'Nr1d1'\n",
       "\\item 'Nsmce3'\n",
       "\\item 'Nudt18'\n",
       "\\item 'Orc4'\n",
       "\\item 'Ostm1'\n",
       "\\item 'Otud1'\n",
       "\\item 'Pard6b'\n",
       "\\item 'Patl1'\n",
       "\\item 'Pdlim7'\n",
       "\\item 'Perp'\n",
       "\\item 'Pfkfb3'\n",
       "\\item 'Phlda1'\n",
       "\\item 'Pias1'\n",
       "\\item 'Pim3'\n",
       "\\item 'Pip4p1'\n",
       "\\item 'Plaur'\n",
       "\\item 'Plk3'\n",
       "\\item 'Pnrc1'\n",
       "\\item 'Ppp2r2a'\n",
       "\\item 'Prc1'\n",
       "\\item 'Prpf38b'\n",
       "\\item 'Prrc2c'\n",
       "\\item 'Prrg4'\n",
       "\\item 'Psrc1'\n",
       "\\item 'Rabgef1'\n",
       "\\item 'Rars'\n",
       "\\item 'Rasgef1b'\n",
       "\\item 'Rassf1'\n",
       "\\item 'Rbm38'\n",
       "\\item 'Rcan1'\n",
       "\\item 'Rchy1'\n",
       "\\item 'Rel'\n",
       "\\item 'Rhod'\n",
       "\\item 'Rnd1'\n",
       "\\item 'Rnf185'\n",
       "\\item 'Rnf25'\n",
       "\\item 'Rsrc2'\n",
       "\\item 'Sdc4'\n",
       "\\item 'Sh3bp2'\n",
       "\\item 'Slc25a33'\n",
       "\\item 'Snhg15'\n",
       "\\item 'Snhg17'\n",
       "\\item 'Sox9'\n",
       "\\item 'Sqstm1'\n",
       "\\item 'Sra1'\n",
       "\\item 'Srek1'\n",
       "\\item 'Srsf11'\n",
       "\\item 'Stk17b'\n",
       "\\item 'Stx3'\n",
       "\\item 'Tcim'\n",
       "\\item 'Tgif1'\n",
       "\\item 'Tgoln1'\n",
       "\\item 'Tiparp'\n",
       "\\item 'Tlk1'\n",
       "\\item 'Tnfrsf12a'\n",
       "\\item 'Traf4'\n",
       "\\item 'Trip6'\n",
       "\\item 'Trpm7'\n",
       "\\item 'Tuba4a'\n",
       "\\item 'Tubb6'\n",
       "\\item 'Txnip'\n",
       "\\item 'Uap1l1'\n",
       "\\item 'Ubc'\n",
       "\\item 'Ube2c'\n",
       "\\item 'Vhl'\n",
       "\\item 'Vps26a'\n",
       "\\item 'Vps37b'\n",
       "\\item 'Ypel5'\n",
       "\\item 'Zfp280d'\n",
       "\\item 'Zfp36'\n",
       "\\item 'Zfp36l1'\n",
       "\\item 'Zfp472'\n",
       "\\item 'Zfp655'\n",
       "\\item 'Zfr'\n",
       "\\item 'Zfx'\n",
       "\\item 'Zkscan5'\n",
       "\\item 'Znrd1'\n",
       "\\end{enumerate*}\n"
      ],
      "text/markdown": [
       "1. '1810013L24Rik'\n",
       "2. '1810026B05Rik'\n",
       "3. '2610035D17Rik'\n",
       "4. 'Abhd5'\n",
       "5. 'Acox1'\n",
       "6. 'Acsbg1'\n",
       "7. 'Aen'\n",
       "8. 'Ahnak2'\n",
       "9. 'AI837181'\n",
       "10. 'Areg'\n",
       "11. 'Arl4d'\n",
       "12. 'Arl5b'\n",
       "13. 'Arl6ip5'\n",
       "14. 'Arl8a'\n",
       "15. 'Atf3'\n",
       "16. 'Atp6v0d1'\n",
       "17. 'Atp6v1c1'\n",
       "18. 'Atp6v1d'\n",
       "19. 'Aurka'\n",
       "20. 'Bax'\n",
       "21. 'Bbc3'\n",
       "22. 'Bcl2l1'\n",
       "23. 'Bcl3'\n",
       "24. 'Bhlhe40'\n",
       "25. 'Brd2'\n",
       "26. 'Bri3'\n",
       "27. 'Card19'\n",
       "28. 'Ccl2'\n",
       "29. 'Ccng1'\n",
       "30. 'Ccnl1'\n",
       "31. 'Ccnt2'\n",
       "32. 'Cdc34'\n",
       "33. 'Cdkn1a'\n",
       "34. 'Chka'\n",
       "35. 'Chuk'\n",
       "36. 'Clcf1'\n",
       "37. 'Clk1'\n",
       "38. 'Clk4'\n",
       "39. 'Cln5'\n",
       "40. 'Coq10b'\n",
       "41. 'Creb5'\n",
       "42. 'Crip2'\n",
       "43. 'Csf2'\n",
       "44. 'Csnk1d'\n",
       "45. 'Cyp1a1'\n",
       "46. 'Cyp1b1'\n",
       "47. 'Dcxr'\n",
       "48. 'Dnajc5'\n",
       "49. 'Dusp5'\n",
       "50. 'E2f3'\n",
       "51. 'Egr1'\n",
       "52. 'Eif5'\n",
       "53. 'Epha2'\n",
       "54. 'Erf'\n",
       "55. 'Fam118b'\n",
       "56. 'Fam133b'\n",
       "57. 'Fibp'\n",
       "58. 'Fitm2'\n",
       "59. 'Fosb'\n",
       "60. 'Fosl1'\n",
       "61. 'Gadd45b'\n",
       "62. 'Gadd45g'\n",
       "63. 'Gimd1'\n",
       "64. 'Gla'\n",
       "65. 'Gprc5a'\n",
       "66. 'Gtse1'\n",
       "67. 'Habp2'\n",
       "68. 'Haus2'\n",
       "69. 'Hes1'\n",
       "70. 'Hgsnat'\n",
       "71. 'Hilpda'\n",
       "72. 'Hist1h2bc'\n",
       "73. 'Hist1h4a'\n",
       "74. 'Hist1h4c'\n",
       "75. 'Hist1h4d'\n",
       "76. 'Hist1h4i'\n",
       "77. 'Hist2h4'\n",
       "78. 'Hmox1'\n",
       "79. 'Hpgds'\n",
       "80. 'Id2'\n",
       "81. 'Id3'\n",
       "82. 'Ier5'\n",
       "83. 'Ifi30'\n",
       "84. 'Ifitm10'\n",
       "85. 'Ifrd1'\n",
       "86. 'Inka2'\n",
       "87. 'Jmjd6'\n",
       "88. 'Jund'\n",
       "89. 'Kctd11'\n",
       "90. 'Klf10'\n",
       "91. 'Klf6'\n",
       "92. 'Lactb2'\n",
       "93. 'Lif'\n",
       "94. 'Maff'\n",
       "95. 'Mafk'\n",
       "96. 'Map2k3'\n",
       "97. 'Mdm2'\n",
       "98. 'Micall1'\n",
       "99. 'Mpp2'\n",
       "100. 'Nabp1'\n",
       "101. 'Napa'\n",
       "102. 'Ndel1'\n",
       "103. 'Neat1'\n",
       "104. 'Necap1'\n",
       "105. 'Nfe2l2'\n",
       "106. 'Nfil3'\n",
       "107. 'Ninj1'\n",
       "108. 'Noct'\n",
       "109. 'Nr1d1'\n",
       "110. 'Nsmce3'\n",
       "111. 'Nudt18'\n",
       "112. 'Orc4'\n",
       "113. 'Ostm1'\n",
       "114. 'Otud1'\n",
       "115. 'Pard6b'\n",
       "116. 'Patl1'\n",
       "117. 'Pdlim7'\n",
       "118. 'Perp'\n",
       "119. 'Pfkfb3'\n",
       "120. 'Phlda1'\n",
       "121. 'Pias1'\n",
       "122. 'Pim3'\n",
       "123. 'Pip4p1'\n",
       "124. 'Plaur'\n",
       "125. 'Plk3'\n",
       "126. 'Pnrc1'\n",
       "127. 'Ppp2r2a'\n",
       "128. 'Prc1'\n",
       "129. 'Prpf38b'\n",
       "130. 'Prrc2c'\n",
       "131. 'Prrg4'\n",
       "132. 'Psrc1'\n",
       "133. 'Rabgef1'\n",
       "134. 'Rars'\n",
       "135. 'Rasgef1b'\n",
       "136. 'Rassf1'\n",
       "137. 'Rbm38'\n",
       "138. 'Rcan1'\n",
       "139. 'Rchy1'\n",
       "140. 'Rel'\n",
       "141. 'Rhod'\n",
       "142. 'Rnd1'\n",
       "143. 'Rnf185'\n",
       "144. 'Rnf25'\n",
       "145. 'Rsrc2'\n",
       "146. 'Sdc4'\n",
       "147. 'Sh3bp2'\n",
       "148. 'Slc25a33'\n",
       "149. 'Snhg15'\n",
       "150. 'Snhg17'\n",
       "151. 'Sox9'\n",
       "152. 'Sqstm1'\n",
       "153. 'Sra1'\n",
       "154. 'Srek1'\n",
       "155. 'Srsf11'\n",
       "156. 'Stk17b'\n",
       "157. 'Stx3'\n",
       "158. 'Tcim'\n",
       "159. 'Tgif1'\n",
       "160. 'Tgoln1'\n",
       "161. 'Tiparp'\n",
       "162. 'Tlk1'\n",
       "163. 'Tnfrsf12a'\n",
       "164. 'Traf4'\n",
       "165. 'Trip6'\n",
       "166. 'Trpm7'\n",
       "167. 'Tuba4a'\n",
       "168. 'Tubb6'\n",
       "169. 'Txnip'\n",
       "170. 'Uap1l1'\n",
       "171. 'Ubc'\n",
       "172. 'Ube2c'\n",
       "173. 'Vhl'\n",
       "174. 'Vps26a'\n",
       "175. 'Vps37b'\n",
       "176. 'Ypel5'\n",
       "177. 'Zfp280d'\n",
       "178. 'Zfp36'\n",
       "179. 'Zfp36l1'\n",
       "180. 'Zfp472'\n",
       "181. 'Zfp655'\n",
       "182. 'Zfr'\n",
       "183. 'Zfx'\n",
       "184. 'Zkscan5'\n",
       "185. 'Znrd1'\n",
       "\n",
       "\n"
      ],
      "text/plain": [
       "  [1] \"1810013L24Rik\" \"1810026B05Rik\" \"2610035D17Rik\" \"Abhd5\"        \n",
       "  [5] \"Acox1\"         \"Acsbg1\"        \"Aen\"           \"Ahnak2\"       \n",
       "  [9] \"AI837181\"      \"Areg\"          \"Arl4d\"         \"Arl5b\"        \n",
       " [13] \"Arl6ip5\"       \"Arl8a\"         \"Atf3\"          \"Atp6v0d1\"     \n",
       " [17] \"Atp6v1c1\"      \"Atp6v1d\"       \"Aurka\"         \"Bax\"          \n",
       " [21] \"Bbc3\"          \"Bcl2l1\"        \"Bcl3\"          \"Bhlhe40\"      \n",
       " [25] \"Brd2\"          \"Bri3\"          \"Card19\"        \"Ccl2\"         \n",
       " [29] \"Ccng1\"         \"Ccnl1\"         \"Ccnt2\"         \"Cdc34\"        \n",
       " [33] \"Cdkn1a\"        \"Chka\"          \"Chuk\"          \"Clcf1\"        \n",
       " [37] \"Clk1\"          \"Clk4\"          \"Cln5\"          \"Coq10b\"       \n",
       " [41] \"Creb5\"         \"Crip2\"         \"Csf2\"          \"Csnk1d\"       \n",
       " [45] \"Cyp1a1\"        \"Cyp1b1\"        \"Dcxr\"          \"Dnajc5\"       \n",
       " [49] \"Dusp5\"         \"E2f3\"          \"Egr1\"          \"Eif5\"         \n",
       " [53] \"Epha2\"         \"Erf\"           \"Fam118b\"       \"Fam133b\"      \n",
       " [57] \"Fibp\"          \"Fitm2\"         \"Fosb\"          \"Fosl1\"        \n",
       " [61] \"Gadd45b\"       \"Gadd45g\"       \"Gimd1\"         \"Gla\"          \n",
       " [65] \"Gprc5a\"        \"Gtse1\"         \"Habp2\"         \"Haus2\"        \n",
       " [69] \"Hes1\"          \"Hgsnat\"        \"Hilpda\"        \"Hist1h2bc\"    \n",
       " [73] \"Hist1h4a\"      \"Hist1h4c\"      \"Hist1h4d\"      \"Hist1h4i\"     \n",
       " [77] \"Hist2h4\"       \"Hmox1\"         \"Hpgds\"         \"Id2\"          \n",
       " [81] \"Id3\"           \"Ier5\"          \"Ifi30\"         \"Ifitm10\"      \n",
       " [85] \"Ifrd1\"         \"Inka2\"         \"Jmjd6\"         \"Jund\"         \n",
       " [89] \"Kctd11\"        \"Klf10\"         \"Klf6\"          \"Lactb2\"       \n",
       " [93] \"Lif\"           \"Maff\"          \"Mafk\"          \"Map2k3\"       \n",
       " [97] \"Mdm2\"          \"Micall1\"       \"Mpp2\"          \"Nabp1\"        \n",
       "[101] \"Napa\"          \"Ndel1\"         \"Neat1\"         \"Necap1\"       \n",
       "[105] \"Nfe2l2\"        \"Nfil3\"         \"Ninj1\"         \"Noct\"         \n",
       "[109] \"Nr1d1\"         \"Nsmce3\"        \"Nudt18\"        \"Orc4\"         \n",
       "[113] \"Ostm1\"         \"Otud1\"         \"Pard6b\"        \"Patl1\"        \n",
       "[117] \"Pdlim7\"        \"Perp\"          \"Pfkfb3\"        \"Phlda1\"       \n",
       "[121] \"Pias1\"         \"Pim3\"          \"Pip4p1\"        \"Plaur\"        \n",
       "[125] \"Plk3\"          \"Pnrc1\"         \"Ppp2r2a\"       \"Prc1\"         \n",
       "[129] \"Prpf38b\"       \"Prrc2c\"        \"Prrg4\"         \"Psrc1\"        \n",
       "[133] \"Rabgef1\"       \"Rars\"          \"Rasgef1b\"      \"Rassf1\"       \n",
       "[137] \"Rbm38\"         \"Rcan1\"         \"Rchy1\"         \"Rel\"          \n",
       "[141] \"Rhod\"          \"Rnd1\"          \"Rnf185\"        \"Rnf25\"        \n",
       "[145] \"Rsrc2\"         \"Sdc4\"          \"Sh3bp2\"        \"Slc25a33\"     \n",
       "[149] \"Snhg15\"        \"Snhg17\"        \"Sox9\"          \"Sqstm1\"       \n",
       "[153] \"Sra1\"          \"Srek1\"         \"Srsf11\"        \"Stk17b\"       \n",
       "[157] \"Stx3\"          \"Tcim\"          \"Tgif1\"         \"Tgoln1\"       \n",
       "[161] \"Tiparp\"        \"Tlk1\"          \"Tnfrsf12a\"     \"Traf4\"        \n",
       "[165] \"Trip6\"         \"Trpm7\"         \"Tuba4a\"        \"Tubb6\"        \n",
       "[169] \"Txnip\"         \"Uap1l1\"        \"Ubc\"           \"Ube2c\"        \n",
       "[173] \"Vhl\"           \"Vps26a\"        \"Vps37b\"        \"Ypel5\"        \n",
       "[177] \"Zfp280d\"       \"Zfp36\"         \"Zfp36l1\"       \"Zfp472\"       \n",
       "[181] \"Zfp655\"        \"Zfr\"           \"Zfx\"           \"Zkscan5\"      \n",
       "[185] \"Znrd1\"        "
      ]
     },
     "metadata": {},
     "output_type": "display_data"
    },
    {
     "data": {
      "text/html": [
       "185"
      ],
      "text/latex": [
       "185"
      ],
      "text/markdown": [
       "185"
      ],
      "text/plain": [
       "[1] 185"
      ]
     },
     "metadata": {},
     "output_type": "display_data"
    }
   ],
   "source": [
    "sym_mrna2_up_ribo2_up <- intersect(sym_mrna2_up, sym_ribo2_up)\n",
    "sym_mrna2_up_ribo2_up\n",
    "length(sym_mrna2_up_ribo2_up)\n",
    "\n",
    "list_genes[['sym_mrna2_up_ribo2_up']] <- sym_mrna2_up_ribo2_up"
   ]
  },
  {
   "cell_type": "markdown",
   "metadata": {},
   "source": [
    "### sym_mrna2_dn_ribo2_dn\n"
   ]
  },
  {
   "cell_type": "code",
   "execution_count": 145,
   "metadata": {},
   "outputs": [
    {
     "data": {
      "text/html": [
       "<style>\n",
       ".list-inline {list-style: none; margin:0; padding: 0}\n",
       ".list-inline>li {display: inline-block}\n",
       ".list-inline>li:not(:last-child)::after {content: \"\\00b7\"; padding: 0 .5ex}\n",
       "</style>\n",
       "<ol class=list-inline><li>'Actb'</li><li>'Ahr'</li><li>'Aldh18a1'</li><li>'Alg2'</li><li>'Anxa1'</li><li>'Anxa6'</li><li>'Atl3'</li><li>'Atm'</li><li>'Atp1b1'</li><li>'Atp2b4'</li><li>'Bdnf'</li><li>'Bicd2'</li><li>'Cacna2d1'</li><li>'Cavin1'</li><li>'Ccn2'</li><li>'Cdh1'</li><li>'Ckap4'</li><li>'Cldn2'</li><li>'Col1a1'</li><li>'Col4a1'</li><li>'Col4a2'</li><li>'Col5a1'</li><li>'Cp'</li><li>'D630003M21Rik'</li><li>'Dcaf7'</li><li>'Ddah1'</li><li>'Ddit4'</li><li>'Dhcr24'</li><li>'Dlc1'</li><li>'Dpysl2'</li><li>'Elovl5'</li><li>'Eno1'</li><li>'Fbxo32'</li><li>'Fjx1'</li><li>'Fkbp4'</li><li>'Fkbp5'</li><li>'Focad'</li><li>'Fto'</li><li>'Fzd7'</li><li>'G3bp2'</li><li>'Gart'</li><li>'Glg1'</li><li>'Gm7232'</li><li>'Gm8399'</li><li>'Gopc'</li><li>'Gpd1l'</li><li>'Gphn'</li><li>'Has2'</li><li>'Hist1h1b'</li><li>'Hnrnpa0'</li><li>'Hspa8'</li><li>'Hspd1'</li><li>'Igfbp3'</li><li>'Inhba'</li><li>'Irgq'</li><li>'Itgb3'</li><li>'Khdrbs1'</li><li>'Kif21b'</li><li>'Kremen1'</li><li>'Krt7'</li><li>'Lad1'</li><li>'Lman1'</li><li>'Lpcat1'</li><li>'Lpp'</li><li>'Lrba'</li><li>'Lrrc32'</li><li>'Lurap1l'</li><li>'Marcks'</li><li>'Megf8'</li><li>'Mlec'</li><li>'Msn'</li><li>'Mtap'</li><li>'Mvp'</li><li>'Myh9'</li><li>'Myo1d'</li><li>'Nap1l1'</li><li>'Ncl'</li><li>'Nfkbiz'</li><li>'Nt5e'</li><li>'Ogfod1'</li><li>'Olr1'</li><li>'Pdgfrb'</li><li>'Pdha1'</li><li>'Pdp2'</li><li>'Pfas'</li><li>'Pgk1'</li><li>'Pla2g15'</li><li>'Plxnd1'</li><li>'Ptprk'</li><li>'Pxdn'</li><li>'Rab6a'</li><li>'Rcc2'</li><li>'rDNA_ETS5'</li><li>'rDNA_ETS5_chr17'</li><li>'rDNA_Rn18s'</li><li>'Rprl3'</li><li>'Rtn3'</li><li>'Rtn4'</li><li>'Samm50'</li><li>'Scd2'</li><li>'Sel1l'</li><li>'Shq1'</li><li>'Slc25a4'</li><li>'Slc40a1'</li><li>'Slc6a6'</li><li>'Slco4a1'</li><li>'Smarcb1'</li><li>'Snd1'</li><li>'Snord104'</li><li>'Snx14'</li><li>'Sowahc'</li><li>'Spp1'</li><li>'Tapbp'</li><li>'Thbs1'</li><li>'Tln2'</li><li>'Tmem119'</li><li>'Tmod3'</li><li>'Tomm40l'</li><li>'Trappc9'</li><li>'Trim56'</li><li>'Tubb5'</li><li>'Vars'</li><li>'Vat1'</li><li>'Ybx1'</li><li>'Znfx1'</li></ol>\n"
      ],
      "text/latex": [
       "\\begin{enumerate*}\n",
       "\\item 'Actb'\n",
       "\\item 'Ahr'\n",
       "\\item 'Aldh18a1'\n",
       "\\item 'Alg2'\n",
       "\\item 'Anxa1'\n",
       "\\item 'Anxa6'\n",
       "\\item 'Atl3'\n",
       "\\item 'Atm'\n",
       "\\item 'Atp1b1'\n",
       "\\item 'Atp2b4'\n",
       "\\item 'Bdnf'\n",
       "\\item 'Bicd2'\n",
       "\\item 'Cacna2d1'\n",
       "\\item 'Cavin1'\n",
       "\\item 'Ccn2'\n",
       "\\item 'Cdh1'\n",
       "\\item 'Ckap4'\n",
       "\\item 'Cldn2'\n",
       "\\item 'Col1a1'\n",
       "\\item 'Col4a1'\n",
       "\\item 'Col4a2'\n",
       "\\item 'Col5a1'\n",
       "\\item 'Cp'\n",
       "\\item 'D630003M21Rik'\n",
       "\\item 'Dcaf7'\n",
       "\\item 'Ddah1'\n",
       "\\item 'Ddit4'\n",
       "\\item 'Dhcr24'\n",
       "\\item 'Dlc1'\n",
       "\\item 'Dpysl2'\n",
       "\\item 'Elovl5'\n",
       "\\item 'Eno1'\n",
       "\\item 'Fbxo32'\n",
       "\\item 'Fjx1'\n",
       "\\item 'Fkbp4'\n",
       "\\item 'Fkbp5'\n",
       "\\item 'Focad'\n",
       "\\item 'Fto'\n",
       "\\item 'Fzd7'\n",
       "\\item 'G3bp2'\n",
       "\\item 'Gart'\n",
       "\\item 'Glg1'\n",
       "\\item 'Gm7232'\n",
       "\\item 'Gm8399'\n",
       "\\item 'Gopc'\n",
       "\\item 'Gpd1l'\n",
       "\\item 'Gphn'\n",
       "\\item 'Has2'\n",
       "\\item 'Hist1h1b'\n",
       "\\item 'Hnrnpa0'\n",
       "\\item 'Hspa8'\n",
       "\\item 'Hspd1'\n",
       "\\item 'Igfbp3'\n",
       "\\item 'Inhba'\n",
       "\\item 'Irgq'\n",
       "\\item 'Itgb3'\n",
       "\\item 'Khdrbs1'\n",
       "\\item 'Kif21b'\n",
       "\\item 'Kremen1'\n",
       "\\item 'Krt7'\n",
       "\\item 'Lad1'\n",
       "\\item 'Lman1'\n",
       "\\item 'Lpcat1'\n",
       "\\item 'Lpp'\n",
       "\\item 'Lrba'\n",
       "\\item 'Lrrc32'\n",
       "\\item 'Lurap1l'\n",
       "\\item 'Marcks'\n",
       "\\item 'Megf8'\n",
       "\\item 'Mlec'\n",
       "\\item 'Msn'\n",
       "\\item 'Mtap'\n",
       "\\item 'Mvp'\n",
       "\\item 'Myh9'\n",
       "\\item 'Myo1d'\n",
       "\\item 'Nap1l1'\n",
       "\\item 'Ncl'\n",
       "\\item 'Nfkbiz'\n",
       "\\item 'Nt5e'\n",
       "\\item 'Ogfod1'\n",
       "\\item 'Olr1'\n",
       "\\item 'Pdgfrb'\n",
       "\\item 'Pdha1'\n",
       "\\item 'Pdp2'\n",
       "\\item 'Pfas'\n",
       "\\item 'Pgk1'\n",
       "\\item 'Pla2g15'\n",
       "\\item 'Plxnd1'\n",
       "\\item 'Ptprk'\n",
       "\\item 'Pxdn'\n",
       "\\item 'Rab6a'\n",
       "\\item 'Rcc2'\n",
       "\\item 'rDNA\\_ETS5'\n",
       "\\item 'rDNA\\_ETS5\\_chr17'\n",
       "\\item 'rDNA\\_Rn18s'\n",
       "\\item 'Rprl3'\n",
       "\\item 'Rtn3'\n",
       "\\item 'Rtn4'\n",
       "\\item 'Samm50'\n",
       "\\item 'Scd2'\n",
       "\\item 'Sel1l'\n",
       "\\item 'Shq1'\n",
       "\\item 'Slc25a4'\n",
       "\\item 'Slc40a1'\n",
       "\\item 'Slc6a6'\n",
       "\\item 'Slco4a1'\n",
       "\\item 'Smarcb1'\n",
       "\\item 'Snd1'\n",
       "\\item 'Snord104'\n",
       "\\item 'Snx14'\n",
       "\\item 'Sowahc'\n",
       "\\item 'Spp1'\n",
       "\\item 'Tapbp'\n",
       "\\item 'Thbs1'\n",
       "\\item 'Tln2'\n",
       "\\item 'Tmem119'\n",
       "\\item 'Tmod3'\n",
       "\\item 'Tomm40l'\n",
       "\\item 'Trappc9'\n",
       "\\item 'Trim56'\n",
       "\\item 'Tubb5'\n",
       "\\item 'Vars'\n",
       "\\item 'Vat1'\n",
       "\\item 'Ybx1'\n",
       "\\item 'Znfx1'\n",
       "\\end{enumerate*}\n"
      ],
      "text/markdown": [
       "1. 'Actb'\n",
       "2. 'Ahr'\n",
       "3. 'Aldh18a1'\n",
       "4. 'Alg2'\n",
       "5. 'Anxa1'\n",
       "6. 'Anxa6'\n",
       "7. 'Atl3'\n",
       "8. 'Atm'\n",
       "9. 'Atp1b1'\n",
       "10. 'Atp2b4'\n",
       "11. 'Bdnf'\n",
       "12. 'Bicd2'\n",
       "13. 'Cacna2d1'\n",
       "14. 'Cavin1'\n",
       "15. 'Ccn2'\n",
       "16. 'Cdh1'\n",
       "17. 'Ckap4'\n",
       "18. 'Cldn2'\n",
       "19. 'Col1a1'\n",
       "20. 'Col4a1'\n",
       "21. 'Col4a2'\n",
       "22. 'Col5a1'\n",
       "23. 'Cp'\n",
       "24. 'D630003M21Rik'\n",
       "25. 'Dcaf7'\n",
       "26. 'Ddah1'\n",
       "27. 'Ddit4'\n",
       "28. 'Dhcr24'\n",
       "29. 'Dlc1'\n",
       "30. 'Dpysl2'\n",
       "31. 'Elovl5'\n",
       "32. 'Eno1'\n",
       "33. 'Fbxo32'\n",
       "34. 'Fjx1'\n",
       "35. 'Fkbp4'\n",
       "36. 'Fkbp5'\n",
       "37. 'Focad'\n",
       "38. 'Fto'\n",
       "39. 'Fzd7'\n",
       "40. 'G3bp2'\n",
       "41. 'Gart'\n",
       "42. 'Glg1'\n",
       "43. 'Gm7232'\n",
       "44. 'Gm8399'\n",
       "45. 'Gopc'\n",
       "46. 'Gpd1l'\n",
       "47. 'Gphn'\n",
       "48. 'Has2'\n",
       "49. 'Hist1h1b'\n",
       "50. 'Hnrnpa0'\n",
       "51. 'Hspa8'\n",
       "52. 'Hspd1'\n",
       "53. 'Igfbp3'\n",
       "54. 'Inhba'\n",
       "55. 'Irgq'\n",
       "56. 'Itgb3'\n",
       "57. 'Khdrbs1'\n",
       "58. 'Kif21b'\n",
       "59. 'Kremen1'\n",
       "60. 'Krt7'\n",
       "61. 'Lad1'\n",
       "62. 'Lman1'\n",
       "63. 'Lpcat1'\n",
       "64. 'Lpp'\n",
       "65. 'Lrba'\n",
       "66. 'Lrrc32'\n",
       "67. 'Lurap1l'\n",
       "68. 'Marcks'\n",
       "69. 'Megf8'\n",
       "70. 'Mlec'\n",
       "71. 'Msn'\n",
       "72. 'Mtap'\n",
       "73. 'Mvp'\n",
       "74. 'Myh9'\n",
       "75. 'Myo1d'\n",
       "76. 'Nap1l1'\n",
       "77. 'Ncl'\n",
       "78. 'Nfkbiz'\n",
       "79. 'Nt5e'\n",
       "80. 'Ogfod1'\n",
       "81. 'Olr1'\n",
       "82. 'Pdgfrb'\n",
       "83. 'Pdha1'\n",
       "84. 'Pdp2'\n",
       "85. 'Pfas'\n",
       "86. 'Pgk1'\n",
       "87. 'Pla2g15'\n",
       "88. 'Plxnd1'\n",
       "89. 'Ptprk'\n",
       "90. 'Pxdn'\n",
       "91. 'Rab6a'\n",
       "92. 'Rcc2'\n",
       "93. 'rDNA_ETS5'\n",
       "94. 'rDNA_ETS5_chr17'\n",
       "95. 'rDNA_Rn18s'\n",
       "96. 'Rprl3'\n",
       "97. 'Rtn3'\n",
       "98. 'Rtn4'\n",
       "99. 'Samm50'\n",
       "100. 'Scd2'\n",
       "101. 'Sel1l'\n",
       "102. 'Shq1'\n",
       "103. 'Slc25a4'\n",
       "104. 'Slc40a1'\n",
       "105. 'Slc6a6'\n",
       "106. 'Slco4a1'\n",
       "107. 'Smarcb1'\n",
       "108. 'Snd1'\n",
       "109. 'Snord104'\n",
       "110. 'Snx14'\n",
       "111. 'Sowahc'\n",
       "112. 'Spp1'\n",
       "113. 'Tapbp'\n",
       "114. 'Thbs1'\n",
       "115. 'Tln2'\n",
       "116. 'Tmem119'\n",
       "117. 'Tmod3'\n",
       "118. 'Tomm40l'\n",
       "119. 'Trappc9'\n",
       "120. 'Trim56'\n",
       "121. 'Tubb5'\n",
       "122. 'Vars'\n",
       "123. 'Vat1'\n",
       "124. 'Ybx1'\n",
       "125. 'Znfx1'\n",
       "\n",
       "\n"
      ],
      "text/plain": [
       "  [1] \"Actb\"            \"Ahr\"             \"Aldh18a1\"        \"Alg2\"           \n",
       "  [5] \"Anxa1\"           \"Anxa6\"           \"Atl3\"            \"Atm\"            \n",
       "  [9] \"Atp1b1\"          \"Atp2b4\"          \"Bdnf\"            \"Bicd2\"          \n",
       " [13] \"Cacna2d1\"        \"Cavin1\"          \"Ccn2\"            \"Cdh1\"           \n",
       " [17] \"Ckap4\"           \"Cldn2\"           \"Col1a1\"          \"Col4a1\"         \n",
       " [21] \"Col4a2\"          \"Col5a1\"          \"Cp\"              \"D630003M21Rik\"  \n",
       " [25] \"Dcaf7\"           \"Ddah1\"           \"Ddit4\"           \"Dhcr24\"         \n",
       " [29] \"Dlc1\"            \"Dpysl2\"          \"Elovl5\"          \"Eno1\"           \n",
       " [33] \"Fbxo32\"          \"Fjx1\"            \"Fkbp4\"           \"Fkbp5\"          \n",
       " [37] \"Focad\"           \"Fto\"             \"Fzd7\"            \"G3bp2\"          \n",
       " [41] \"Gart\"            \"Glg1\"            \"Gm7232\"          \"Gm8399\"         \n",
       " [45] \"Gopc\"            \"Gpd1l\"           \"Gphn\"            \"Has2\"           \n",
       " [49] \"Hist1h1b\"        \"Hnrnpa0\"         \"Hspa8\"           \"Hspd1\"          \n",
       " [53] \"Igfbp3\"          \"Inhba\"           \"Irgq\"            \"Itgb3\"          \n",
       " [57] \"Khdrbs1\"         \"Kif21b\"          \"Kremen1\"         \"Krt7\"           \n",
       " [61] \"Lad1\"            \"Lman1\"           \"Lpcat1\"          \"Lpp\"            \n",
       " [65] \"Lrba\"            \"Lrrc32\"          \"Lurap1l\"         \"Marcks\"         \n",
       " [69] \"Megf8\"           \"Mlec\"            \"Msn\"             \"Mtap\"           \n",
       " [73] \"Mvp\"             \"Myh9\"            \"Myo1d\"           \"Nap1l1\"         \n",
       " [77] \"Ncl\"             \"Nfkbiz\"          \"Nt5e\"            \"Ogfod1\"         \n",
       " [81] \"Olr1\"            \"Pdgfrb\"          \"Pdha1\"           \"Pdp2\"           \n",
       " [85] \"Pfas\"            \"Pgk1\"            \"Pla2g15\"         \"Plxnd1\"         \n",
       " [89] \"Ptprk\"           \"Pxdn\"            \"Rab6a\"           \"Rcc2\"           \n",
       " [93] \"rDNA_ETS5\"       \"rDNA_ETS5_chr17\" \"rDNA_Rn18s\"      \"Rprl3\"          \n",
       " [97] \"Rtn3\"            \"Rtn4\"            \"Samm50\"          \"Scd2\"           \n",
       "[101] \"Sel1l\"           \"Shq1\"            \"Slc25a4\"         \"Slc40a1\"        \n",
       "[105] \"Slc6a6\"          \"Slco4a1\"         \"Smarcb1\"         \"Snd1\"           \n",
       "[109] \"Snord104\"        \"Snx14\"           \"Sowahc\"          \"Spp1\"           \n",
       "[113] \"Tapbp\"           \"Thbs1\"           \"Tln2\"            \"Tmem119\"        \n",
       "[117] \"Tmod3\"           \"Tomm40l\"         \"Trappc9\"         \"Trim56\"         \n",
       "[121] \"Tubb5\"           \"Vars\"            \"Vat1\"            \"Ybx1\"           \n",
       "[125] \"Znfx1\"          "
      ]
     },
     "metadata": {},
     "output_type": "display_data"
    },
    {
     "data": {
      "text/html": [
       "125"
      ],
      "text/latex": [
       "125"
      ],
      "text/markdown": [
       "125"
      ],
      "text/plain": [
       "[1] 125"
      ]
     },
     "metadata": {},
     "output_type": "display_data"
    }
   ],
   "source": [
    "sym_mrna2_dn_ribo2_dn <- intersect(sym_mrna2_dn, sym_ribo2_dn)\n",
    "sym_mrna2_dn_ribo2_dn\n",
    "length(sym_mrna2_dn_ribo2_dn)\n",
    "\n",
    "list_genes[['sym_mrna2_dn_ribo2_dn']] <- sym_mrna2_dn_ribo2_dn"
   ]
  },
  {
   "cell_type": "markdown",
   "metadata": {},
   "source": [
    "### sym_mrna2_up_ribo2_dn"
   ]
  },
  {
   "cell_type": "code",
   "execution_count": 146,
   "metadata": {},
   "outputs": [
    {
     "data": {
      "text/html": [
       "<style>\n",
       ".list-inline {list-style: none; margin:0; padding: 0}\n",
       ".list-inline>li {display: inline-block}\n",
       ".list-inline>li:not(:last-child)::after {content: \"\\00b7\"; padding: 0 .5ex}\n",
       "</style>\n",
       "<ol class=list-inline><li>'1110002E22Rik'</li><li>'Abhd2'</li><li>'Acin1'</li><li>'Adgrg1'</li><li>'Akap12'</li><li>'Ankrd11'</li><li>'Arid3a'</li><li>'Bach1'</li><li>'Baiap2l1'</li><li>'C77080'</li><li>'Card10'</li><li>'Cbx4'</li><li>'Cldn4'</li><li>'Cpped1'</li><li>'Crb2'</li><li>'Ddit3'</li><li>'Dusp4'</li><li>'F3'</li><li>'Fat1'</li><li>'Fgd3'</li><li>'Gdf15'</li><li>'Gjb4'</li><li>'Gm22009'</li><li>'Gmip'</li><li>'Haus8'</li><li>'Hk2'</li><li>'Ilvbl'</li><li>'Irs2'</li><li>'Itgb6'</li><li>'Malat1'</li><li>'Map3k14'</li><li>'Mcm3'</li><li>'Midn'</li><li>'Mrtfa'</li><li>'Mst1r'</li><li>'Myo7a'</li><li>'Nat10'</li><li>'Nbeal2'</li><li>'Nfkb2'</li><li>'Notch1'</li><li>'Nrg1'</li><li>'Nufip2'</li><li>'Pdgfb'</li><li>'Peg3'</li><li>'Pole'</li><li>'Por'</li><li>'Ppl'</li><li>'Rai1'</li><li>'Rbbp6'</li><li>'Rbm14'</li><li>'Rbm47'</li><li>'Rdh10'</li><li>'Rgs12'</li><li>'Slc10a3'</li><li>'Slc7a6'</li><li>'Smg5'</li><li>'Smpd3'</li><li>'Tacc2'</li><li>'Thoc6'</li><li>'Tinagl1'</li><li>'Tmem214'</li><li>'Tmem43'</li><li>'Tnfaip3'</li><li>'Tom1l2'</li><li>'Ubap2l'</li><li>'Upf1'</li><li>'Vamp2'</li><li>'Vps18'</li><li>'Wdr81'</li><li>'Zswim6'</li></ol>\n"
      ],
      "text/latex": [
       "\\begin{enumerate*}\n",
       "\\item '1110002E22Rik'\n",
       "\\item 'Abhd2'\n",
       "\\item 'Acin1'\n",
       "\\item 'Adgrg1'\n",
       "\\item 'Akap12'\n",
       "\\item 'Ankrd11'\n",
       "\\item 'Arid3a'\n",
       "\\item 'Bach1'\n",
       "\\item 'Baiap2l1'\n",
       "\\item 'C77080'\n",
       "\\item 'Card10'\n",
       "\\item 'Cbx4'\n",
       "\\item 'Cldn4'\n",
       "\\item 'Cpped1'\n",
       "\\item 'Crb2'\n",
       "\\item 'Ddit3'\n",
       "\\item 'Dusp4'\n",
       "\\item 'F3'\n",
       "\\item 'Fat1'\n",
       "\\item 'Fgd3'\n",
       "\\item 'Gdf15'\n",
       "\\item 'Gjb4'\n",
       "\\item 'Gm22009'\n",
       "\\item 'Gmip'\n",
       "\\item 'Haus8'\n",
       "\\item 'Hk2'\n",
       "\\item 'Ilvbl'\n",
       "\\item 'Irs2'\n",
       "\\item 'Itgb6'\n",
       "\\item 'Malat1'\n",
       "\\item 'Map3k14'\n",
       "\\item 'Mcm3'\n",
       "\\item 'Midn'\n",
       "\\item 'Mrtfa'\n",
       "\\item 'Mst1r'\n",
       "\\item 'Myo7a'\n",
       "\\item 'Nat10'\n",
       "\\item 'Nbeal2'\n",
       "\\item 'Nfkb2'\n",
       "\\item 'Notch1'\n",
       "\\item 'Nrg1'\n",
       "\\item 'Nufip2'\n",
       "\\item 'Pdgfb'\n",
       "\\item 'Peg3'\n",
       "\\item 'Pole'\n",
       "\\item 'Por'\n",
       "\\item 'Ppl'\n",
       "\\item 'Rai1'\n",
       "\\item 'Rbbp6'\n",
       "\\item 'Rbm14'\n",
       "\\item 'Rbm47'\n",
       "\\item 'Rdh10'\n",
       "\\item 'Rgs12'\n",
       "\\item 'Slc10a3'\n",
       "\\item 'Slc7a6'\n",
       "\\item 'Smg5'\n",
       "\\item 'Smpd3'\n",
       "\\item 'Tacc2'\n",
       "\\item 'Thoc6'\n",
       "\\item 'Tinagl1'\n",
       "\\item 'Tmem214'\n",
       "\\item 'Tmem43'\n",
       "\\item 'Tnfaip3'\n",
       "\\item 'Tom1l2'\n",
       "\\item 'Ubap2l'\n",
       "\\item 'Upf1'\n",
       "\\item 'Vamp2'\n",
       "\\item 'Vps18'\n",
       "\\item 'Wdr81'\n",
       "\\item 'Zswim6'\n",
       "\\end{enumerate*}\n"
      ],
      "text/markdown": [
       "1. '1110002E22Rik'\n",
       "2. 'Abhd2'\n",
       "3. 'Acin1'\n",
       "4. 'Adgrg1'\n",
       "5. 'Akap12'\n",
       "6. 'Ankrd11'\n",
       "7. 'Arid3a'\n",
       "8. 'Bach1'\n",
       "9. 'Baiap2l1'\n",
       "10. 'C77080'\n",
       "11. 'Card10'\n",
       "12. 'Cbx4'\n",
       "13. 'Cldn4'\n",
       "14. 'Cpped1'\n",
       "15. 'Crb2'\n",
       "16. 'Ddit3'\n",
       "17. 'Dusp4'\n",
       "18. 'F3'\n",
       "19. 'Fat1'\n",
       "20. 'Fgd3'\n",
       "21. 'Gdf15'\n",
       "22. 'Gjb4'\n",
       "23. 'Gm22009'\n",
       "24. 'Gmip'\n",
       "25. 'Haus8'\n",
       "26. 'Hk2'\n",
       "27. 'Ilvbl'\n",
       "28. 'Irs2'\n",
       "29. 'Itgb6'\n",
       "30. 'Malat1'\n",
       "31. 'Map3k14'\n",
       "32. 'Mcm3'\n",
       "33. 'Midn'\n",
       "34. 'Mrtfa'\n",
       "35. 'Mst1r'\n",
       "36. 'Myo7a'\n",
       "37. 'Nat10'\n",
       "38. 'Nbeal2'\n",
       "39. 'Nfkb2'\n",
       "40. 'Notch1'\n",
       "41. 'Nrg1'\n",
       "42. 'Nufip2'\n",
       "43. 'Pdgfb'\n",
       "44. 'Peg3'\n",
       "45. 'Pole'\n",
       "46. 'Por'\n",
       "47. 'Ppl'\n",
       "48. 'Rai1'\n",
       "49. 'Rbbp6'\n",
       "50. 'Rbm14'\n",
       "51. 'Rbm47'\n",
       "52. 'Rdh10'\n",
       "53. 'Rgs12'\n",
       "54. 'Slc10a3'\n",
       "55. 'Slc7a6'\n",
       "56. 'Smg5'\n",
       "57. 'Smpd3'\n",
       "58. 'Tacc2'\n",
       "59. 'Thoc6'\n",
       "60. 'Tinagl1'\n",
       "61. 'Tmem214'\n",
       "62. 'Tmem43'\n",
       "63. 'Tnfaip3'\n",
       "64. 'Tom1l2'\n",
       "65. 'Ubap2l'\n",
       "66. 'Upf1'\n",
       "67. 'Vamp2'\n",
       "68. 'Vps18'\n",
       "69. 'Wdr81'\n",
       "70. 'Zswim6'\n",
       "\n",
       "\n"
      ],
      "text/plain": [
       " [1] \"1110002E22Rik\" \"Abhd2\"         \"Acin1\"         \"Adgrg1\"       \n",
       " [5] \"Akap12\"        \"Ankrd11\"       \"Arid3a\"        \"Bach1\"        \n",
       " [9] \"Baiap2l1\"      \"C77080\"        \"Card10\"        \"Cbx4\"         \n",
       "[13] \"Cldn4\"         \"Cpped1\"        \"Crb2\"          \"Ddit3\"        \n",
       "[17] \"Dusp4\"         \"F3\"            \"Fat1\"          \"Fgd3\"         \n",
       "[21] \"Gdf15\"         \"Gjb4\"          \"Gm22009\"       \"Gmip\"         \n",
       "[25] \"Haus8\"         \"Hk2\"           \"Ilvbl\"         \"Irs2\"         \n",
       "[29] \"Itgb6\"         \"Malat1\"        \"Map3k14\"       \"Mcm3\"         \n",
       "[33] \"Midn\"          \"Mrtfa\"         \"Mst1r\"         \"Myo7a\"        \n",
       "[37] \"Nat10\"         \"Nbeal2\"        \"Nfkb2\"         \"Notch1\"       \n",
       "[41] \"Nrg1\"          \"Nufip2\"        \"Pdgfb\"         \"Peg3\"         \n",
       "[45] \"Pole\"          \"Por\"           \"Ppl\"           \"Rai1\"         \n",
       "[49] \"Rbbp6\"         \"Rbm14\"         \"Rbm47\"         \"Rdh10\"        \n",
       "[53] \"Rgs12\"         \"Slc10a3\"       \"Slc7a6\"        \"Smg5\"         \n",
       "[57] \"Smpd3\"         \"Tacc2\"         \"Thoc6\"         \"Tinagl1\"      \n",
       "[61] \"Tmem214\"       \"Tmem43\"        \"Tnfaip3\"       \"Tom1l2\"       \n",
       "[65] \"Ubap2l\"        \"Upf1\"          \"Vamp2\"         \"Vps18\"        \n",
       "[69] \"Wdr81\"         \"Zswim6\"       "
      ]
     },
     "metadata": {},
     "output_type": "display_data"
    },
    {
     "data": {
      "text/html": [
       "70"
      ],
      "text/latex": [
       "70"
      ],
      "text/markdown": [
       "70"
      ],
      "text/plain": [
       "[1] 70"
      ]
     },
     "metadata": {},
     "output_type": "display_data"
    }
   ],
   "source": [
    "sym_mrna2_up_ribo2_dn <- intersect(sym_mrna2_up, sym_ribo2_dn)\n",
    "sym_mrna2_up_ribo2_dn\n",
    "length(sym_mrna2_up_ribo2_dn)\n",
    "\n",
    "list_genes[['sym_mrna2_up_ribo2_dn']] <- sym_mrna2_up_ribo2_dn"
   ]
  },
  {
   "cell_type": "markdown",
   "metadata": {},
   "source": [
    "### sym_mrna2_dn_ribo2_up"
   ]
  },
  {
   "cell_type": "code",
   "execution_count": 147,
   "metadata": {},
   "outputs": [
    {
     "data": {
      "text/html": [
       "<style>\n",
       ".list-inline {list-style: none; margin:0; padding: 0}\n",
       ".list-inline>li {display: inline-block}\n",
       ".list-inline>li:not(:last-child)::after {content: \"\\00b7\"; padding: 0 .5ex}\n",
       "</style>\n",
       "<ol class=list-inline><li>'Afg3l2'</li><li>'Ap1s1'</li><li>'Arpc3'</li><li>'Arpc5l'</li><li>'Atp5c1'</li><li>'Atp5k'</li><li>'Bcap29'</li><li>'Bsg'</li><li>'C1qbp'</li><li>'Casp6'</li><li>'Cd9'</li><li>'Cebpg'</li><li>'Cetn3'</li><li>'Cks1b'</li><li>'Cnih4'</li><li>'Copz1'</li><li>'Cox5a'</li><li>'Cox7a2l'</li><li>'Decr1'</li><li>'Dnajc10'</li><li>'Dstn'</li><li>'Dynlt3'</li><li>'Echs1'</li><li>'Eif3m'</li><li>'Eif4ebp1'</li><li>'Ergic1'</li><li>'Fam210b'</li><li>'Fkbp3'</li><li>'Galnt1'</li><li>'Gars'</li><li>'Gas5'</li><li>'Gatad1'</li><li>'Hist1h1e'</li><li>'Hsd17b10'</li><li>'Hunk'</li><li>'Ier3'</li><li>'Krtcap2'</li><li>'Manf'</li><li>'Mrpl12'</li><li>'Mrpl28'</li><li>'Mthfd2'</li><li>'Ndufb10'</li><li>'Npm1'</li><li>'Nupr1'</li><li>'Paip1'</li><li>'Plgrkt'</li><li>'Pon2'</li><li>'Ppib'</li><li>'Ppp1ca'</li><li>'Prdx2'</li><li>'Prdx3'</li><li>'Prxl2c'</li><li>'Psma7'</li><li>'Rala'</li><li>'Rexo2'</li><li>'Rpl22'</li><li>'Rpl23'</li><li>'Rpl32'</li><li>'Rpl34'</li><li>'Rpl37'</li><li>'Rpl7'</li><li>'Rpl8'</li><li>'Rplp0'</li><li>'Rplp2'</li><li>'Rps15a'</li><li>'Rps24'</li><li>'Rps3'</li><li>'Rps4x'</li><li>'Rps9'</li><li>'Rtraf'</li><li>'Selenof'</li><li>'Sh3bgrl'</li><li>'Snrpb2'</li><li>'Sppl2a'</li><li>'Sri'</li><li>'Ssr3'</li><li>'Stard10'</li><li>'Stub1'</li><li>'Swi5'</li><li>'Tmsb4x'</li><li>'Txndc17'</li><li>'Vldlr'</li><li>'Zfas1'</li><li>'Zmat2'</li></ol>\n"
      ],
      "text/latex": [
       "\\begin{enumerate*}\n",
       "\\item 'Afg3l2'\n",
       "\\item 'Ap1s1'\n",
       "\\item 'Arpc3'\n",
       "\\item 'Arpc5l'\n",
       "\\item 'Atp5c1'\n",
       "\\item 'Atp5k'\n",
       "\\item 'Bcap29'\n",
       "\\item 'Bsg'\n",
       "\\item 'C1qbp'\n",
       "\\item 'Casp6'\n",
       "\\item 'Cd9'\n",
       "\\item 'Cebpg'\n",
       "\\item 'Cetn3'\n",
       "\\item 'Cks1b'\n",
       "\\item 'Cnih4'\n",
       "\\item 'Copz1'\n",
       "\\item 'Cox5a'\n",
       "\\item 'Cox7a2l'\n",
       "\\item 'Decr1'\n",
       "\\item 'Dnajc10'\n",
       "\\item 'Dstn'\n",
       "\\item 'Dynlt3'\n",
       "\\item 'Echs1'\n",
       "\\item 'Eif3m'\n",
       "\\item 'Eif4ebp1'\n",
       "\\item 'Ergic1'\n",
       "\\item 'Fam210b'\n",
       "\\item 'Fkbp3'\n",
       "\\item 'Galnt1'\n",
       "\\item 'Gars'\n",
       "\\item 'Gas5'\n",
       "\\item 'Gatad1'\n",
       "\\item 'Hist1h1e'\n",
       "\\item 'Hsd17b10'\n",
       "\\item 'Hunk'\n",
       "\\item 'Ier3'\n",
       "\\item 'Krtcap2'\n",
       "\\item 'Manf'\n",
       "\\item 'Mrpl12'\n",
       "\\item 'Mrpl28'\n",
       "\\item 'Mthfd2'\n",
       "\\item 'Ndufb10'\n",
       "\\item 'Npm1'\n",
       "\\item 'Nupr1'\n",
       "\\item 'Paip1'\n",
       "\\item 'Plgrkt'\n",
       "\\item 'Pon2'\n",
       "\\item 'Ppib'\n",
       "\\item 'Ppp1ca'\n",
       "\\item 'Prdx2'\n",
       "\\item 'Prdx3'\n",
       "\\item 'Prxl2c'\n",
       "\\item 'Psma7'\n",
       "\\item 'Rala'\n",
       "\\item 'Rexo2'\n",
       "\\item 'Rpl22'\n",
       "\\item 'Rpl23'\n",
       "\\item 'Rpl32'\n",
       "\\item 'Rpl34'\n",
       "\\item 'Rpl37'\n",
       "\\item 'Rpl7'\n",
       "\\item 'Rpl8'\n",
       "\\item 'Rplp0'\n",
       "\\item 'Rplp2'\n",
       "\\item 'Rps15a'\n",
       "\\item 'Rps24'\n",
       "\\item 'Rps3'\n",
       "\\item 'Rps4x'\n",
       "\\item 'Rps9'\n",
       "\\item 'Rtraf'\n",
       "\\item 'Selenof'\n",
       "\\item 'Sh3bgrl'\n",
       "\\item 'Snrpb2'\n",
       "\\item 'Sppl2a'\n",
       "\\item 'Sri'\n",
       "\\item 'Ssr3'\n",
       "\\item 'Stard10'\n",
       "\\item 'Stub1'\n",
       "\\item 'Swi5'\n",
       "\\item 'Tmsb4x'\n",
       "\\item 'Txndc17'\n",
       "\\item 'Vldlr'\n",
       "\\item 'Zfas1'\n",
       "\\item 'Zmat2'\n",
       "\\end{enumerate*}\n"
      ],
      "text/markdown": [
       "1. 'Afg3l2'\n",
       "2. 'Ap1s1'\n",
       "3. 'Arpc3'\n",
       "4. 'Arpc5l'\n",
       "5. 'Atp5c1'\n",
       "6. 'Atp5k'\n",
       "7. 'Bcap29'\n",
       "8. 'Bsg'\n",
       "9. 'C1qbp'\n",
       "10. 'Casp6'\n",
       "11. 'Cd9'\n",
       "12. 'Cebpg'\n",
       "13. 'Cetn3'\n",
       "14. 'Cks1b'\n",
       "15. 'Cnih4'\n",
       "16. 'Copz1'\n",
       "17. 'Cox5a'\n",
       "18. 'Cox7a2l'\n",
       "19. 'Decr1'\n",
       "20. 'Dnajc10'\n",
       "21. 'Dstn'\n",
       "22. 'Dynlt3'\n",
       "23. 'Echs1'\n",
       "24. 'Eif3m'\n",
       "25. 'Eif4ebp1'\n",
       "26. 'Ergic1'\n",
       "27. 'Fam210b'\n",
       "28. 'Fkbp3'\n",
       "29. 'Galnt1'\n",
       "30. 'Gars'\n",
       "31. 'Gas5'\n",
       "32. 'Gatad1'\n",
       "33. 'Hist1h1e'\n",
       "34. 'Hsd17b10'\n",
       "35. 'Hunk'\n",
       "36. 'Ier3'\n",
       "37. 'Krtcap2'\n",
       "38. 'Manf'\n",
       "39. 'Mrpl12'\n",
       "40. 'Mrpl28'\n",
       "41. 'Mthfd2'\n",
       "42. 'Ndufb10'\n",
       "43. 'Npm1'\n",
       "44. 'Nupr1'\n",
       "45. 'Paip1'\n",
       "46. 'Plgrkt'\n",
       "47. 'Pon2'\n",
       "48. 'Ppib'\n",
       "49. 'Ppp1ca'\n",
       "50. 'Prdx2'\n",
       "51. 'Prdx3'\n",
       "52. 'Prxl2c'\n",
       "53. 'Psma7'\n",
       "54. 'Rala'\n",
       "55. 'Rexo2'\n",
       "56. 'Rpl22'\n",
       "57. 'Rpl23'\n",
       "58. 'Rpl32'\n",
       "59. 'Rpl34'\n",
       "60. 'Rpl37'\n",
       "61. 'Rpl7'\n",
       "62. 'Rpl8'\n",
       "63. 'Rplp0'\n",
       "64. 'Rplp2'\n",
       "65. 'Rps15a'\n",
       "66. 'Rps24'\n",
       "67. 'Rps3'\n",
       "68. 'Rps4x'\n",
       "69. 'Rps9'\n",
       "70. 'Rtraf'\n",
       "71. 'Selenof'\n",
       "72. 'Sh3bgrl'\n",
       "73. 'Snrpb2'\n",
       "74. 'Sppl2a'\n",
       "75. 'Sri'\n",
       "76. 'Ssr3'\n",
       "77. 'Stard10'\n",
       "78. 'Stub1'\n",
       "79. 'Swi5'\n",
       "80. 'Tmsb4x'\n",
       "81. 'Txndc17'\n",
       "82. 'Vldlr'\n",
       "83. 'Zfas1'\n",
       "84. 'Zmat2'\n",
       "\n",
       "\n"
      ],
      "text/plain": [
       " [1] \"Afg3l2\"   \"Ap1s1\"    \"Arpc3\"    \"Arpc5l\"   \"Atp5c1\"   \"Atp5k\"   \n",
       " [7] \"Bcap29\"   \"Bsg\"      \"C1qbp\"    \"Casp6\"    \"Cd9\"      \"Cebpg\"   \n",
       "[13] \"Cetn3\"    \"Cks1b\"    \"Cnih4\"    \"Copz1\"    \"Cox5a\"    \"Cox7a2l\" \n",
       "[19] \"Decr1\"    \"Dnajc10\"  \"Dstn\"     \"Dynlt3\"   \"Echs1\"    \"Eif3m\"   \n",
       "[25] \"Eif4ebp1\" \"Ergic1\"   \"Fam210b\"  \"Fkbp3\"    \"Galnt1\"   \"Gars\"    \n",
       "[31] \"Gas5\"     \"Gatad1\"   \"Hist1h1e\" \"Hsd17b10\" \"Hunk\"     \"Ier3\"    \n",
       "[37] \"Krtcap2\"  \"Manf\"     \"Mrpl12\"   \"Mrpl28\"   \"Mthfd2\"   \"Ndufb10\" \n",
       "[43] \"Npm1\"     \"Nupr1\"    \"Paip1\"    \"Plgrkt\"   \"Pon2\"     \"Ppib\"    \n",
       "[49] \"Ppp1ca\"   \"Prdx2\"    \"Prdx3\"    \"Prxl2c\"   \"Psma7\"    \"Rala\"    \n",
       "[55] \"Rexo2\"    \"Rpl22\"    \"Rpl23\"    \"Rpl32\"    \"Rpl34\"    \"Rpl37\"   \n",
       "[61] \"Rpl7\"     \"Rpl8\"     \"Rplp0\"    \"Rplp2\"    \"Rps15a\"   \"Rps24\"   \n",
       "[67] \"Rps3\"     \"Rps4x\"    \"Rps9\"     \"Rtraf\"    \"Selenof\"  \"Sh3bgrl\" \n",
       "[73] \"Snrpb2\"   \"Sppl2a\"   \"Sri\"      \"Ssr3\"     \"Stard10\"  \"Stub1\"   \n",
       "[79] \"Swi5\"     \"Tmsb4x\"   \"Txndc17\"  \"Vldlr\"    \"Zfas1\"    \"Zmat2\"   "
      ]
     },
     "metadata": {},
     "output_type": "display_data"
    },
    {
     "data": {
      "text/html": [
       "84"
      ],
      "text/latex": [
       "84"
      ],
      "text/markdown": [
       "84"
      ],
      "text/plain": [
       "[1] 84"
      ]
     },
     "metadata": {},
     "output_type": "display_data"
    }
   ],
   "source": [
    "sym_mrna2_dn_ribo2_up <- intersect(sym_mrna2_dn, sym_ribo2_up)\n",
    "sym_mrna2_dn_ribo2_up\n",
    "length(sym_mrna2_dn_ribo2_up)\n",
    "\n",
    "list_genes[['sym_mrna2_dn_ribo2_up']] <- sym_mrna2_dn_ribo2_up"
   ]
  },
  {
   "cell_type": "markdown",
   "metadata": {},
   "source": [
    "# unt48 vs. tgfb48 vs. tgfbCX5461"
   ]
  },
  {
   "cell_type": "markdown",
   "metadata": {},
   "source": [
    "## sym_mrna1_no_mrna2_no"
   ]
  },
  {
   "cell_type": "code",
   "execution_count": 148,
   "metadata": {},
   "outputs": [
    {
     "data": {
      "text/html": [
       "6245"
      ],
      "text/latex": [
       "6245"
      ],
      "text/markdown": [
       "6245"
      ],
      "text/plain": [
       "[1] 6245"
      ]
     },
     "metadata": {},
     "output_type": "display_data"
    }
   ],
   "source": [
    "sym_mrna1_no_mrna2_no <- intersect(sym_mrna_no, sym_mrna2_no)\n",
    "length(sym_mrna1_no_mrna2_no)\n",
    "\n",
    "# No DE; No DE in total RNA-seq\n",
    "# with GRCm38.97.gtf RSEM: 6507\n",
    "# with GRCm38.97.gtf HTSEQ: 6244\n",
    "# with GRCm38.97.rRNA.gtf: 6487"
   ]
  },
  {
   "cell_type": "markdown",
   "metadata": {},
   "source": [
    "## sym_ribo1_no_ribo2_no"
   ]
  },
  {
   "cell_type": "code",
   "execution_count": 149,
   "metadata": {},
   "outputs": [
    {
     "data": {
      "text/html": [
       "7215"
      ],
      "text/latex": [
       "7215"
      ],
      "text/markdown": [
       "7215"
      ],
      "text/plain": [
       "[1] 7215"
      ]
     },
     "metadata": {},
     "output_type": "display_data"
    }
   ],
   "source": [
    "sym_ribo1_no_ribo2_no <- intersect(sym_ribo_no, sym_ribo2_no)\n",
    "length(sym_ribo1_no_ribo2_no)\n",
    "\n",
    "# No DE; No DE in ribosome profiling\n",
    "# with GRCm38.97.gtf RSEM: 8726\n",
    "# with GRCm38.97.gtf HTSEQ: 7228\n",
    "# with GRCm38.97.rRNA.gtf: 8720"
   ]
  },
  {
   "cell_type": "markdown",
   "metadata": {},
   "source": [
    "## sym_mrna_no_ribo_no"
   ]
  },
  {
   "cell_type": "code",
   "execution_count": 150,
   "metadata": {},
   "outputs": [
    {
     "data": {
      "text/html": [
       "3517"
      ],
      "text/latex": [
       "3517"
      ],
      "text/markdown": [
       "3517"
      ],
      "text/plain": [
       "[1] 3517"
      ]
     },
     "metadata": {},
     "output_type": "display_data"
    }
   ],
   "source": [
    "sym_mrna_no_ribo_no <- intersect(sym_mrna1_no_mrna2_no, sym_ribo1_no_ribo2_no)\n",
    "length(sym_mrna_no_ribo_no)\n",
    "\n",
    "# No DE; No De in both platform\n",
    "# with GRCm38.97.gtf RSEM: 4019\n",
    "# with GRCm38.97.gtf HTSEQ: 3516\n",
    "# with GRCm38.97.rRNA.gtf: 4015"
   ]
  },
  {
   "cell_type": "markdown",
   "metadata": {},
   "source": [
    "## more complex intersections\n"
   ]
  },
  {
   "cell_type": "markdown",
   "metadata": {},
   "source": [
    "### up/dn/only ; no DE"
   ]
  },
  {
   "cell_type": "code",
   "execution_count": 151,
   "metadata": {},
   "outputs": [
    {
     "name": "stdout",
     "output_type": "stream",
     "text": [
      "sym_mrna_up_ribo_up_ribo2_no: 599: 1700017B05Rik,4930402H24Rik,4931406P16Rik,Abl1,Abr,Abracl,Acadl,Acadvl,Actn4,Actr1a,Acvr1,Adam12,Adam15,Adarb1,Add2,Adgra1,Adgrl1,Adssl1,Afap1,Aff1,Aif1l,Aldh1l1,Alms1,Angptl2,Ankrd1,Ankrd44,Ano1,Anp32a,Anxa5,Anxa8,Aopep,Ap2a1,Ap2b1,Ap5b1,Ap5z1,Apbb2,Apob,Arf4,Arfgef2,Arhgap23,Arhgap42,Arhgef5,Arvcf,Ascc3,Atg7,Atp10a,Atp10d,Atp1a3,Atp6ap1,Atp6v1e1,...\n",
      "\n",
      "sym_mrna_dn_ribo_dn_ribo2_no: 583: 1700037H04Rik,2210011C24Rik,2410006H16Rik,Abcc2,Abcc3,Abcc4,Abcc5,Abcd3,Abce1,Abhd6,Acot2,Acsl4,Acsl5,Acy3,Adh5,Adh7,Adora1,Adsl,Adss,Afm,Afp,Agfg1,Agmo,Agpat2,Agpat5,Ak3,Akr1b7,Akr1c12,Akr1c13,Akr1c19,Alad,Alcam,Aldh2,Aldoa,Alkbh5,Alkbh7,Anapc13,Angpt2,Anks4b,Antxr2,Anxa11,Anxa13,Anxa2,Anxa3,Anxa4,Ap2m1,Api5,Arf6,Arhgap12,Arhgap18,...\n",
      "\n",
      "sym_mrna_up_ribo_dn_ribo2_no: 2: Hist1h4n,Sh3kbp1\n",
      "\n",
      "sym_mrna_dn_ribo_up_ribo2_no: 5: Gm24265,Osgin1,Plk2,rDNA_Rn5-8s,Umps\n",
      "\n",
      "sym_mrna_up_ribo_no_ribo2_no: 1179: 0610010F05Rik,1700088E04Rik,1810058I24Rik,2310022B05Rik,2700081O15Rik,2900026A02Rik,6330403L08Rik,8030462N17Rik,9130008F23Rik,AA474408,Abca2,Abcc1,Abhd17a,Abtb2,AC149090.1,Acap3,Accs,Ackr3,Acot8,Acot9,Acp2,Acsl3,Actg1,Adam10,Adar,Adgra3,Adnp2,Aebp2,Aff4,Agap3,Agl,Ago1,Agpat3,Agpat4,Agtpbp1,AI506816,Als2,Ammecr1,Ammecr1l,Amn1,Amotl1,Angel1,Ankrd10,Ankrd13a,Ankrd13b,Ankrd50,Ankrd54,Anks1b,Ano8,Ap1s2,...\n",
      "\n",
      "sym_mrna_dn_ribo_no_ribo2_no: 1238: 0610040J01Rik,1110002L01Rik,1110012L19Rik,1110059E24Rik,1190007I07Rik,1810043G02Rik,2010315B03Rik,2610001J05Rik,2810006K23Rik,4930523C07Rik,9530053A07Rik,9930012K11Rik,9930021J03Rik,Aaas,Abcb7,Abcc10,Abhd14b,Abi2,Acaa1a,Acad10,Acad11,Acadm,Acat1,Acat2,Acbd6,Aco2,Acsf3,Acsl1,Acvr2a,Acvr2b,Acy1,Adamtsl4,Adgrl3,Agbl5,Ahcy,Ahcyl2,Aig1,Ak5,Akr1b8,Akt3,Aktip,Alb,Aldh1a7,Aldh6a1,Aldh9a1,Alg3,Alg8,Amacr,Amdhd1,Amz2,...\n",
      "\n",
      "sym_mrna_no_ribo_up_ribo2_no: 99: Abcf3,Acbd3,Adamts15,Ankfy1,Ankrd17,Atp6v1b2,Bcl6,Bex3,Brms1l,Cap1,Caprin1,Cdc16,Cep170b,Clic1,Copb1,Cse1l,Ctla2b,Cyfip1,Ddx24,Ddx3x,Ddx52,Dlx3,Dnajc12,Dusp14,Dync1i2,E430024I08Rik,Eed,Eftud2,Eif3f,Elovl1,Elp1,Fxr2,Gak,Glipr1,Glmp,Hdhd5,Hyou1,Ide,Igf2bp1,Ints10,Itpkc,Jam2,Kdelr1,Lemd2,Mat2a,Mob3c,N4bp2l2,Nxf1,Pak1,Pawr,...\n",
      "\n",
      "sym_mrna_no_ribo_dn_ribo2_no: 111: 1500011B03Rik,1810022K09Rik,2310039H08Rik,Acbd5,Afdn,Agpat1,Akt1,Ap3d1,Arf5,Arpc1b,Atp5e,Atp5j,B230219D22Rik,Bloc1s1,Bola2,Cars,Cdkn2aipnl,Cenpw,Cox6c,Cox7a2,Csrp2,D2hgdh,Eipr1,Fam13b,Fbxo42,Fdps,Fgfr1op2,Fip1l1,Gar1,Gm2000,Gm5905,Gm9776,Gnb1,Gstp-ps,Gtf2i,Gtf3a,H1f0,Hint2,Hist1h2ai,Hist1h2bb,Hist1h2be,Hist1h2bf,Hist1h2bg,Hist1h2bj,Hist1h3c,Hist1h3e,Hist1h3f,Hist1h3h,Hist1h3i,Hist1h4f,...\n",
      "\n"
     ]
    }
   ],
   "source": [
    "vec1_var <- c('mrna_up_ribo_up', 'mrna_dn_ribo_dn', 'mrna_up_ribo_dn', 'mrna_dn_ribo_up',\n",
    "              'mrna_up_ribo_no', 'mrna_dn_ribo_no', 'mrna_no_ribo_up', 'mrna_no_ribo_dn')\n",
    "\n",
    "vec2_var <- c('ribo2_no')\n",
    "\n",
    "max_ngenes <- 50\n",
    "for (var1 in vec1_var) {\n",
    "    for (var2 in vec2_var) {\n",
    "      strvar <- sprintf('sym_%s_%s', var1, var2)\n",
    "      list_genes[[strvar]] <- eval(parse(text=sprintf(\"intersect(sym_%s, sym_%s)\", var1, var2)))\n",
    "      list_genes[[strvar]] <- intersect(list_genes[[strvar]], sym_detected_both)\n",
    "      strgene <- paste(head(list_genes[[strvar]],max_ngenes), collapse=\",\")\n",
    "      if (length(list_genes[[strvar]]) > max_ngenes) {\n",
    "          strgene <- paste0(strgene,',...')\n",
    "      }\n",
    "      verb('%s: %d: %s\\n\\n', strvar, length(list_genes[[strvar]]), strgene)\n",
    "    }\n",
    "}"
   ]
  },
  {
   "cell_type": "markdown",
   "metadata": {},
   "source": [
    "### no DE ; up/dn/only"
   ]
  },
  {
   "cell_type": "code",
   "execution_count": 152,
   "metadata": {},
   "outputs": [
    {
     "name": "stdout",
     "output_type": "stream",
     "text": [
      "sym_mrna_no_mrna2_up_ribo2_up: 68: Atf3,Tcim,Sdc4,Dnajc5,Klf6,Tuba4a,Tnfrsf12a,Srsf11,Brd2,Ier5,Mafk,Ninj1,Prc1,Rars,Rbm38,Sra1,Vps37b,Hist1h4c,Zfp280d,Rcan1,Rnd1,Snhg17,Rchy1,Prrc2c,Ccnt2,Atp6v1d,Rhod,Egr1,Eif5,Prrg4,2610035D17Rik,Orc4,Rnf185,Zfx,Jmjd6,Zfp36l1,Bcl3,Otud1,Pip4p1,Chuk,Pnrc1,Hist1h4a,Hist2h4,Arl5b,Fam133b,Snhg15,Stx3,Necap1,Zfr,Vhl,...\n",
      "\n",
      "sym_mrna_no_mrna2_dn_ribo2_dn: 34: Snd1,Ncl,Sel1l,Rtn3,Slc6a6,Mtap,Shq1,Kif21b,rDNA_Rn18s,Fzd7,Pfas,Cldn2,Atm,Dcaf7,Lman1,G3bp2,Mlec,Tomm40l,Gm7232,Fjx1,Fto,Dhcr24,Ogfod1,Alg2,Rcc2,Tubb5,Ddah1,Khdrbs1,Hspa8,Rab6a,Lad1,Focad,Dpysl2,Trappc9\n",
      "\n",
      "sym_mrna_no_mrna2_up_ribo2_dn: 26: Rbbp6,Nufip2,Nbeal2,Upf1,Acin1,Nat10,Tmem214,Baiap2l1,Rbm14,Vamp2,Gmip,Ankrd11,Cbx4,Nrg1,Smpd3,Cpped1,Thoc6,Ilvbl,1110002E22Rik,Por,Haus8,Fat1,Crb2,Slc10a3,C77080,Irs2\n",
      "\n",
      "sym_mrna_no_mrna2_dn_ribo2_up: 38: Gars,Ssr3,C1qbp,Afg3l2,Copz1,Prxl2c,Cetn3,Ppp1ca,Manf,Ap1s1,Hunk,Gatad1,Swi5,Cks1b,Rexo2,Sppl2a,Cd9,Psma7,Stub1,Decr1,Dnajc10,Bcap29,Atp5k,Ergic1,Arpc3,Rtraf,Snrpb2,Cnih4,Cox5a,Pon2,Rala,Fkbp3,Paip1,Ppib,Selenof,Hist1h1e,Zmat2,Txndc17\n",
      "\n",
      "sym_mrna_no_mrna2_up_ribo2_no: 509: Atf4,Vegfa,Kmt2e,Dhx9,Srrm2,Pprc1,Kmt2b,Tnks1bp1,Sf1,U2af2,Zfand2a,Glipr1,Usp32,Foxo3,Ubn1,Setd2,Crkl,Khdc4,Abl2,Aftph,Rbm15,Mafg,Ap1g1,Sf3b3,Nfx1,Tug1,Zfp592,Mbtd1,Ythdc1,Arid4b,Dido1,Nfat5,Rrm1,Ankrd17,Cdk18,Tmem37,Atp6v1b2,Trim59,Zmym5,Cltb,Tgfbrap1,Tsc1,Epc1,Mysm1,Setd1a,Utp14b,Mad2l1,Ccnb1,Pip5k1a,Phactr4,...\n",
      "\n",
      "sym_mrna_no_mrna2_dn_ribo2_no: 415: Tpm3,Set,Cbx6,Eif2s2,Ssrp1,Eif3f,9530068E07Rik,Ephb4,Ccdc6,Larp1,R3hdm2,Calm3,Tcp1,Immt,Ptges3,Gna11,Skp1a,Uri1,Ro60,Slc4a4,2610507B11Rik,Ppp1r14b,Pign,Itpr2,Cfdp1,Os9,Tmem131l,Foxk2,Tmem59,Rsrc1,Apba1,Acp6,Ids,Snrpd3,Samd9l,Frs2,Bcl7a,Ppp1r7,Kiz,Harbi1,Ppm1m,Cct6a,Cep83,Psma1,Acaca,Aff2,Abcb10,Sardh,Sigmar1,Cnnm2,...\n",
      "\n",
      "sym_mrna_no_mrna2_no_ribo2_up: 240: Cd63,Hnrnpa3,Sdcbp,Poldip3,Eif5a,Rbms1,Lrrc58,Ctsd,Cstb,Ubxn1,Hnrnpdl,Maea,Prdx5,Commd3,Mtch2,Plp2,Plscr1,Nptn,Poldip2,Aes,Cox6b1,Stam,Crk,Plpp2,Csnk2b,1700021F05Rik,Syngr2,Dld,Ndufb9,Mbd2,Dctn6,Vaultrc5,U2af1,Dnajc30,Rsf1,Churc1,Ubqln4,Prr13,Riok2,Tomm40,Ndufb6,Rab18,Snx5,Ndufa4,Dap3,Ndufv2,Fundc2,Cox7b,Sin3b,Idh3b,...\n",
      "\n",
      "sym_mrna_no_mrna2_no_ribo2_dn: 263: Ddx17,Herc2,Ralgapa2,Ttc3,Hk1,Myrf,Fus,Hcfc1,Cct7,Hsp90b1,Cs,Hspa5,Ubqln2,Ddx5,Akap13,Snrnp70,Slc12a7,Gpat4,Bicc1,Lmna,Masp1,Elp2,App,Trap1,Ppp1r15b,Tmed7,Tes,Sdha,Eif2b5,Arfgap1,Eif4g1,Myo18a,Zbtb7a,Eif3a,Ncbp1,Prrc2b,Clptm1,Prrc2a,Zfp207,Rab1a,mt-Nd1,Dnmt1,Ifngr1,Mdn1,Fam120a,Zbtb3,Cyb561,Kdm4b,Chchd6,Cdk5rap3,...\n",
      "\n"
     ]
    }
   ],
   "source": [
    "vec1_var <- c('mrna_no')\n",
    "\n",
    "vec2_var <- c('mrna2_up_ribo2_up', 'mrna2_dn_ribo2_dn', 'mrna2_up_ribo2_dn', 'mrna2_dn_ribo2_up',\n",
    "              'mrna2_up_ribo2_no', 'mrna2_dn_ribo2_no', 'mrna2_no_ribo2_up', 'mrna2_no_ribo2_dn')\n",
    "\n",
    "max_ngenes <- 50\n",
    "for (var1 in vec1_var) {\n",
    "    for (var2 in vec2_var) {\n",
    "      strvar <- sprintf('sym_%s_%s', var1, var2)\n",
    "      list_genes[[strvar]] <- eval(parse(text=sprintf(\"intersect(sym_%s, sym_%s)\", var1, var2)))\n",
    "      list_genes[[strvar]] <- intersect(list_genes[[strvar]], sym_detected_both)\n",
    "      strgene <- paste(head(list_genes[[strvar]],max_ngenes), collapse=\",\")\n",
    "      if (length(list_genes[[strvar]]) > max_ngenes) {\n",
    "          strgene <- paste0(strgene,',...')\n",
    "      }\n",
    "      verb('%s: %d: %s\\n\\n', strvar, length(list_genes[[strvar]]), strgene)\n",
    "    }\n",
    "}"
   ]
  },
  {
   "cell_type": "markdown",
   "metadata": {},
   "source": [
    "### other combinations"
   ]
  },
  {
   "cell_type": "code",
   "execution_count": 153,
   "metadata": {
    "scrolled": false
   },
   "outputs": [
    {
     "name": "stdout",
     "output_type": "stream",
     "text": [
      "-------------------------------------\n",
      "mrna_up_ribo_up\n",
      "\n",
      "\tsym_mrna_up_ribo_up_mrna2_up_ribo2_up: 36: Arl4d,Arl6ip5,Atp6v0d1,Bhlhe40,Ccl2,Clcf1,Coq10b,Csf2,Cyp1b1,Dusp5,Fosb,Gadd45b,Gadd45g,Gla,Hes1,Hmox1,Kctd11,Klf10,Lif,Maff,Micall1,Noct,Nsmce3,Nudt18,Pdlim7,Pfkfb3,Rabgef1,Rassf1,Sh3bp2,Sox9,Stk17b,Tgif1,Tiparp,Tubb6,Zfp655,Zkscan5\n",
      "\n",
      "\tsym_mrna_up_ribo_up_mrna2_dn_ribo2_dn: 54: Actb,Ahr,Anxa1,Anxa6,Atl3,Atp1b1,Atp2b4,Bdnf,Bicd2,Cacna2d1,Ccn2,Ckap4,Col1a1,Col4a1,Col4a2,Col5a1,Cp,D630003M21Rik,Ddit4,Dlc1,Fbxo32,Fkbp5,Glg1,Has2,Inhba,Itgb3,Krt7,Lpcat1,Lpp,Lrrc32,Marcks,Megf8,Msn,Mvp,Myh9,Nt5e,Olr1,Pdgfrb,Pla2g15,Plxnd1,Ptprk,Pxdn,rDNA_ETS5_chr17,Rtn4,Slco4a1,Spp1,Tapbp,Thbs1,Tln2,Tmem119,...\n",
      "\n",
      "\tsym_mrna_up_ribo_up_mrna2_up_ribo2_no: 138: 1700017B05Rik,4931406P16Rik,Aff1,Ap5b1,Ap5z1,Arfgef2,Arhgap23,Arhgef5,Ascc3,Atp6v1e1,Azin1,Bag3,Baz1a,Bcar1,Bcar3,Bnc1,Ccl7,Ccn4,Cdc42ep1,Cipc,Cish,Cited2,Cnnm4,Csf1,Csrnp1,Ctps,Cttnbp2nl,Daam1,Ddhd1,Dennd5b,Dot1l,Dusp7,Dyrk3,Dzip1l,Ecm1,Edn1,Eif2ak3,Epb41l1,Erfe,Fbxo28,Filip1l,Fosl2,Fst,Gabre,Git2,Gse1,Gtf3c1,Hip1r,Hr,Iffo2,...\n",
      "\n",
      "\tsym_mrna_up_ribo_up_mrna2_dn_ribo2_no: 71: Adam12,Adarb1,Add2,Adgra1,Anp32a,Basp1,Bcas3,Bmf,Cnn2,Cpne8,Dag1,Dtx3l,Dusp2,Eef2k,Fxyd5,Glce,Gldc,Gpm6b,Hs6st2,Igfbp7,Itpripl2,Jkamp,Kdelr2,Krt8-ps,Lamb1,Lfng,Lgals1,Lgr6,Lipa,Lrrc8c,Mcm6,Mfsd12,Mmp10,Mmp11,Msrb3,Mtpn,Ndfip1,Nectin3,Nrep,Nrp2,Olfml2b,Pcdh7,Pcyox1,Pkd1,Pla2g4a,Plcb3,Pls3,Plxna4,Ptgfrn,Pus10,...\n",
      "\n",
      "\tsym_mrna_up_ribo_up_mrna2_no_ribo2_up: 25: Ak1,Arl2,B2m,Cebpb,Ctsl,Cyb5r3,Endod1,F11r,Gadd45a,Ipo5,Krt18,Litaf,Map3k20,mt-Rnr2,Psmd8,Rhoc,Sh3glb1,Slc46a1,Tfr2,Timp1,Tra2a,Tsc22d1,Tspan7,Txnl1,Zc2hc1a\n",
      "\n",
      "\tsym_mrna_up_ribo_up_mrna2_no_ribo2_dn: 190: Abcg2,Acot7,Acta1,Actn1,Adam8,Add1,Adprh,Akr1b3,Alpl,Als2cl,Amotl2,Ampd3,Angpt4,Angptl4,Ap2a2,Arc,Arhgef18,Arhgef19,Arhgef40,Arid5a,Armc9,Ass1,Atg2a,Atrn,Calm1,Calr,Capn1,Ccn1,Cd81,Cdc42bpa,Cdh6,Cdkn2b,Chd3,Clasp1,Clu,Col18a1,Col6a1,Col7a1,Colgalt1,Copa,Cpd,Creb3,Cryab,Csdc2,Cyb561a3,Ddb1,Dipk2a,Dll4,Dnpep,Dpp3,...\n",
      "\n",
      "\tsym_mrna_up_ribo_up_mrna2_up_ribo2_dn: 28: Adgrg1,Akap12,Arid3a,Card10,Cldn4,Dusp4,F3,Fgd3,Gjb4,Hk2,Itgb6,Malat1,Map3k14,Mrtfa,Mst1r,Myo7a,Nfkb2,Pdgfb,Peg3,Rdh10,Rgs12,Slc7a6,Tmem43,Tnfaip3,Ubap2l,Vps18,Wdr81,Zswim6\n",
      "\n",
      "\tsym_mrna_up_ribo_up_mrna2_dn_ribo2_up: 4: Fam210b,Ier3,Nupr1,Tmsb4x\n",
      "\n",
      "-------------------------------------\n",
      "mrna_dn_ribo_dn\n",
      "\n",
      "\tsym_mrna_dn_ribo_dn_mrna2_up_ribo2_up: 38: Areg,Bax,Bbc3,Bcl2l1,Ccng1,Cdkn1a,Chka,Cyp1a1,Dcxr,Epha2,Fitm2,Fosl1,Gimd1,Gprc5a,Habp2,Hilpda,Hist1h2bc,Hpgds,Id2,Id3,Inka2,Jund,Lactb2,Mdm2,Nfe2l2,Nr1d1,Pard6b,Perp,Phlda1,Pim3,Plaur,Plk3,Slc25a33,Sqstm1,Traf4,Txnip,Uap1l1,Vps26a\n",
      "\n",
      "\tsym_mrna_dn_ribo_dn_mrna2_dn_ribo2_dn: 7: Aldh18a1,Cdh1,Fkbp4,Igfbp3,Pdha1,Scd2,Vars\n",
      "\n",
      "\tsym_mrna_dn_ribo_dn_mrna2_up_ribo2_no: 50: Abcc2,Agfg1,Atp13a4,Atp6v0a1,Brca1,Btbd19,Ccl20,Cebpa,Cnppd1,Dqx1,Dusp1,Emp1,Ephx1,Eps8l2,Errfi1,Etnk1,Ets2,Foxa2,Gclc,Grtp1,Insig1,Irf2bp2,Kif23,Klf4,Klf5,Lmo7,Lss,Mt1,Mtmr10,Muc1,Muc5b,Myo15b,Myo5c,Neurl3,Oga,Pcyt2,Peli1,Prkab1,Ripk4,Rnf39,Siva1,Slc19a2,Slc4a11,Spry1,Spry2,Tob1,Trim24,Trp53inp1,Tspan4,Wsb2\n",
      "\n",
      "\tsym_mrna_dn_ribo_dn_mrna2_dn_ribo2_no: 101: Ak3,Alcam,Antxr2,Anxa13,Anxa4,Arrdc3,Asns,Atf5,Bri3bp,Ccnd2,Cdh13,Cmtm6,Cryz,Cth,Dpysl3,E330009J07Rik,Eef1d,Egln3,Eif1ax,Elovl6,Ero1l,Etv5,Fam129a,Fam84b,Fmnl2,Galk1,Gm15772,Gpt2,Hadh,Hhex,Hint1,Khnyn,Lap3,Lars,Ldha,Leprotl1,Letm1,Macrod1,Magi1,Mboat1,Mettl9,Mthfd1l,Ndufb11,Nhp2,Nif3l1,Nqo2,Oxct1,Pck2,Pdk1,Pfkl,...\n",
      "\n",
      "\tsym_mrna_dn_ribo_dn_mrna2_no_ribo2_up: 82: Acer3,Aimp1,Aldh3b1,Atp6v1f,Atraid,Bcas2,Ccnd1,Cdh17,Cdk2ap2,Cers2,Chchd1,Cnih1,Coa3,Commd2,Cops3,Cox4i1,Cox8a,Cyb5r1,Edf1,Eif3k,Ergic3,F2rl1,Fam162a,Fth1,Gde1,Gm6472,Grpel1,Gstp1,Guk1,Hspa9,Itm2b,Lin7c,Mob1b,Mrpl13,Mrpl35,Mrpl50,Mrps18a,Mrps18b,Msmo1,Msrb2,Nabp2,Naxe,Ndufa5,Ndufa6,Ndufa7,Ndufa8,Ndufb5,Ndufv3,Nip7,Nt5c3,...\n",
      "\n",
      "\tsym_mrna_dn_ribo_dn_mrna2_no_ribo2_dn: 29: Aldh1a1,Aldoc,Ank,Cat,Crot,Ctnnb1,Dusp6,Enpp5,Epha4,Fos,Glud1,Glul,Hmgcs1,Kitl,Krt19,Lbr,Ldlr,Map3k1,Mpp1,Msln,Mt2,Mthfd1,Mybbp1a,Pacsin2,Rnf128,Slco2a1,Sprr1a,Srebf2,Vil1\n",
      "\n",
      "\tsym_mrna_dn_ribo_dn_mrna2_up_ribo2_dn: 5: Abhd2,Gdf15,Notch1,Rbm47,Tinagl1\n",
      "\n",
      "\tsym_mrna_dn_ribo_dn_mrna2_dn_ribo2_up: 29: Arpc5l,Atp5c1,Bsg,Cebpg,Eif4ebp1,Gas5,Hsd17b10,Krtcap2,Mrpl12,Mrpl28,Mthfd2,Ndufb10,Npm1,Plgrkt,Prdx3,Rpl22,Rpl23,Rpl32,Rpl34,Rpl37,Rpl8,Rplp0,Rplp2,Rps15a,Rps3,Rps9,Stard10,Vldlr,Zfas1\n",
      "\n",
      "-------------------------------------\n",
      "mrna_up_ribo_dn\n",
      "\n",
      "\tsym_mrna_up_ribo_dn_mrna2_up_ribo2_up: 1: Arl8a\n",
      "\n",
      "\tsym_mrna_up_ribo_dn_mrna2_dn_ribo2_dn: 0: \n",
      "\n",
      "\tsym_mrna_up_ribo_dn_mrna2_up_ribo2_no: 0: \n",
      "\n",
      "\tsym_mrna_up_ribo_dn_mrna2_dn_ribo2_no: 1: Sh3kbp1\n",
      "\n",
      "\tsym_mrna_up_ribo_dn_mrna2_no_ribo2_up: 0: \n",
      "\n",
      "\tsym_mrna_up_ribo_dn_mrna2_no_ribo2_dn: 0: \n",
      "\n",
      "\tsym_mrna_up_ribo_dn_mrna2_up_ribo2_dn: 0: \n",
      "\n",
      "\tsym_mrna_up_ribo_dn_mrna2_dn_ribo2_up: 0: \n",
      "\n",
      "-------------------------------------\n",
      "mrna_dn_ribo_up\n",
      "\n",
      "\tsym_mrna_dn_ribo_up_mrna2_up_ribo2_up: 0: \n",
      "\n",
      "\tsym_mrna_dn_ribo_up_mrna2_dn_ribo2_dn: 3: Lurap1l,Rprl3,Ybx1\n",
      "\n",
      "\tsym_mrna_dn_ribo_up_mrna2_up_ribo2_no: 2: Osgin1,Plk2\n",
      "\n",
      "\tsym_mrna_dn_ribo_up_mrna2_dn_ribo2_no: 1: rDNA_Rn5-8s\n",
      "\n",
      "\tsym_mrna_dn_ribo_up_mrna2_no_ribo2_up: 0: \n",
      "\n",
      "\tsym_mrna_dn_ribo_up_mrna2_no_ribo2_dn: 8: Aco1,Eef1a1,Gm23143,Rabggta,Rny1,Rpa1,Tsr1,Upk1b\n",
      "\n",
      "\tsym_mrna_dn_ribo_up_mrna2_up_ribo2_dn: 0: \n",
      "\n",
      "\tsym_mrna_dn_ribo_up_mrna2_dn_ribo2_up: 0: \n",
      "\n",
      "-------------------------------------\n",
      "mrna_up_ribo_no\n",
      "\n",
      "\tsym_mrna_up_ribo_no_mrna2_up_ribo2_up: 34: Abhd5,Acsbg1,Ahnak2,Ccnl1,Clk4,Cln5,Crip2,Csnk1d,Erf,Fam118b,Fibp,Hgsnat,Hist1h4d,Hist1h4i,Ifi30,Ifitm10,Ifrd1,Mpp2,Nabp1,Ndel1,Neat1,Nfil3,Ostm1,Patl1,Pias1,Prpf38b,Rasgef1b,Rel,Rsrc2,Srek1,Tlk1,Trip6,Trpm7,Ypel5\n",
      "\n",
      "\tsym_mrna_up_ribo_no_mrna2_dn_ribo2_dn: 11: Cavin1,Gm8399,Gopc,Hnrnpa0,Irgq,Kremen1,Myo1d,Nfkbiz,rDNA_ETS5,Smarcb1,Snx14\n",
      "\n",
      "\tsym_mrna_up_ribo_no_mrna2_up_ribo2_no: 191: 9130008F23Rik,Abtb2,Adnp2,Aebp2,Aff4,Als2,Ammecr1l,Ankrd10,Apbb3,Arid1a,Aspm,Atad2,Atg16l2,Atp13a3,Atp6v0b,Baz2b,Bcl2l11,Bid,Blcap,Bmp2k,Brd4,Brpf1,Brpf3,Ccdc9b,Ccnl2,Cd109,Cdip1,Cdk9,Cenpf,Cflar,Clcn7,Clk3,Cpeb2,Crtc2,Csnk1e,Ctdp1,Ctns,Cxcl16,Cyld,Cyp4f17,Dennd5a,Dnajb2,Dnajb5,Dop1a,Dstyk,Dusp16,Dusp8,Egr2,Elf3,Ell2,...\n",
      "\n",
      "\tsym_mrna_up_ribo_no_mrna2_dn_ribo2_no: 177: 2310022B05Rik,6330403L08Rik,Abhd17a,Adgra3,Ago1,Ammecr1,Ano8,Ap3m2,Arl1,Atp11c,Atp2c1,Atrnl1,AU020206,Bmper,Bmpr1a,Brd3,C1galt1,Castor2,Ccni,Cenpb,Cep78,Chn1,Chsy1,Clip2,Cmtm4,Crtap,Csgalnact1,Cyth4,D030056L22Rik,Diaph2,Dnajc3,Dock1,Dock8,Dpy19l1,Edem3,Egln1,Emp2,Entpd7,Evl,F2r,Fam102b,Fam114a2,Fam171a1,Fam3c,Fam57a,Fbxl17,Fkbp14,Foxc1,Frk,Galnt7,...\n",
      "\n",
      "\tsym_mrna_up_ribo_no_mrna2_no_ribo2_up: 56: 2310030G06Rik,2610307P16Rik,Actr1b,Aox1,Arl4c,Bag1,Ccdc68,Cd47,Cd99l2,Cfl1,Cldnd1,Coro1b,Ctnnd1,Elmo2,Fez2,Gnpda2,Gosr1,Gosr2,Grina,Gtf2b,Hcfc1r1,Hmga2,Ikbip,Kctd5,Krt20,Mapk6,Memo1,Mrpl17,Mta3,Mvb12b,Nop10,Pbdc1,Pea15a,Pkia,Ptk7,Rab12,Rab1b,Ralb,Reep5,Rnf103,Rnf138,Rnf24,Sept7,Shisa4,Snx24,Srp14,Stard3nl,Stc2,Tmem87b,Tnfrsf23,...\n",
      "\n",
      "\tsym_mrna_up_ribo_no_mrna2_no_ribo2_dn: 31: Aars2,Abca7,Ahcyl1,Arhgap39,Bahcc1,Banp,Ccna2,Cdk17,Cmip,Ctbp2,Dst,Fads1,Fam222b,Fuk,Gigyf1,Hyal2,Ninl,Nuak2,Pak4,Pcnx3,Pld3,Polm,Pygb,Rps6ka4,Sbf1,Spns2,Sppl3,Tenm4,Trappc13,Ubn2,Xylt2\n",
      "\n",
      "\tsym_mrna_up_ribo_no_mrna2_up_ribo2_dn: 4: Bach1,Gm22009,Rai1,Smg5\n",
      "\n",
      "\tsym_mrna_up_ribo_no_mrna2_dn_ribo2_up: 7: Casp6,Dynlt3,Echs1,Galnt1,Prdx2,Sh3bgrl,Sri\n",
      "\n",
      "-------------------------------------\n",
      "mrna_dn_ribo_no\n",
      "\n",
      "\tsym_mrna_dn_ribo_no_mrna2_up_ribo2_up: 8: Aen,Bri3,Creb5,Gtse1,Psrc1,Tgoln1,Ube2c,Zfp36\n",
      "\n",
      "\tsym_mrna_dn_ribo_no_mrna2_dn_ribo2_dn: 16: Elovl5,Eno1,Gart,Gpd1l,Gphn,Hist1h1b,Hspd1,Lrba,Nap1l1,Pdp2,Pgk1,Samm50,Slc25a4,Slc40a1,Snord104,Sowahc\n",
      "\n",
      "\tsym_mrna_dn_ribo_no_mrna2_up_ribo2_no: 120: 9530053A07Rik,Aaas,Adamtsl4,Arf2,Arhgap11a,Arhgef28,Arid5b,Atp13a1,Atp6v1h,Bhlhe41,Ccnf,Cdc20,Cep152,Clock,Cmtr2,Cobll1,Ddias,Ddx55,Dglucy,Dusp10,Eaf1,Ect2,Eea1,Ei24,Ercc5,Fam83g,Fastkd2,Gas2l3,Gm25395,Gne,Gramd1b,Gtf2h1,Helq,Hid1,Hist1h2ac,Hps4,Ing3,Inpp5j,Itfg2,Itprid2,Kctd3,Kifc5b,Knstrn,Kntc1,Lmbrd1,Mcm10,Mcm5,Med13,Med29,Mospd2,...\n",
      "\n",
      "\tsym_mrna_dn_ribo_no_mrna2_dn_ribo2_no: 130: 1110059E24Rik,Abi2,Acaa1a,Acadm,Adgrl3,Aldh6a1,Aldh9a1,Ank3,Ankrd27,Atp7b,Bbx,Bckdhb,Bmt2,Bnip3,Brwd3,Btbd3,Cacnb2,Cct5,Cdk19,Cdk6,Celf2,Chic1,Clcn3,Coq9,Crebrf,Cyb5b,Dcp2,Ddx10,Dkc1,Ebna1bp2,Eda,Eef1b2,Eef1g,Eef2,Eif4ebp2,Eno1b,Erlin2,Fahd1,Fam136a,Fam149a,Fam185a,Farsb,Fktn,Gid4,Gm11942,Gm4366,Gpam,Gtf2h4,Hax1,Hist1h1d,...\n",
      "\n",
      "\tsym_mrna_dn_ribo_no_mrna2_no_ribo2_up: 31: 0610009B22Rik,Actr10,Arl2bp,Brk1,Cfl2,Cops8,Crcp,Dolpp1,Dph5,Eif2b1,Eif3e,Eif3h,Emc7,Emg1,Exosc9,Gtpbp4,Mpv17l2,Mrpl9,Mrps23,Nsun3,Oxa1l,Phf5a,Rpl10a,Rpl3,Rpl4,Sdhc,Snrpa1,Snrpd1,Srp72,Ssr4,Ubl4a\n",
      "\n",
      "\tsym_mrna_dn_ribo_no_mrna2_no_ribo2_dn: 59: Acox2,Akap1,Akr1c14,Aldh3a2,Arhgap1,Arhgef26,Bicd1,Cant1,Cd82,Cdh16,Cpt1a,Ddx21,Dhcr7,Dph2,Engase,Exoc3l4,Gm13436,Grwd1,Gsr,H2-D1,Kdelc1,Klhl13,Klrg2,Lamc1,Lars2,Lasp1,Lgals3bp,Llgl2,Madd,Map2k6,Myc,Naa10,Nop2,Npnt,Pear1,Pex6,Pgd,Pklr,Prdx1,Proc,Rn18s-rs5,Scrn2,Slc35d1,Slc35f5,Slc9a3r2,Stat5a,Taldo1,Tarbp1,Tkt,Tysnd1,...\n",
      "\n",
      "\tsym_mrna_dn_ribo_no_mrna2_up_ribo2_dn: 7: Ddit3,Mcm3,Midn,Pole,Ppl,Tacc2,Tom1l2\n",
      "\n",
      "\tsym_mrna_dn_ribo_no_mrna2_dn_ribo2_up: 6: Cox7a2l,Dstn,Eif3m,Rpl7,Rps24,Rps4x\n",
      "\n",
      "-------------------------------------\n",
      "mrna_no_ribo_up\n",
      "\n",
      "\tsym_mrna_no_ribo_up_mrna2_up_ribo2_up: 3: Ier5,Klf6,Tuba4a\n",
      "\n",
      "\tsym_mrna_no_ribo_up_mrna2_dn_ribo2_dn: 6: Cldn2,Khdrbs1,Kif21b,Rtn3,Shq1,Slc6a6\n",
      "\n",
      "\tsym_mrna_no_ribo_up_mrna2_up_ribo2_no: 21: Ankrd17,Atp6v1b2,Bcl6,Bex3,Cep170b,Dusp14,Eed,Glipr1,Igf2bp1,Itpkc,Lemd2,N4bp2l2,Nxf1,Pprc1,Ranbp2,Rnf169,Rrm1,Son,Spty2d1,Ubap2,Vegfa\n",
      "\n",
      "\tsym_mrna_no_ribo_up_mrna2_dn_ribo2_no: 9: Eif3f,Hyou1,rDNA_Rn28s,Tmem131l,Tmem59,Vamp7,Vps13c,Vwa5a,Ybx3\n",
      "\n",
      "\tsym_mrna_no_ribo_up_mrna2_no_ribo2_up: 3: Fxr1,Gm25360,Vaultrc5\n",
      "\n",
      "\tsym_mrna_no_ribo_up_mrna2_no_ribo2_dn: 55: Acta2,Agrn,Arfgap1,Baz1b,Cct4,Cd14,Copg1,Dhrs3,Elavl1,Fanca,Fasn,Fhl2,Fignl1,Gbf1,Gm13050,Gm17494,Gm22265,Gm23201,Gm23287,Gm24514,Gm25117,Gm25911,Gm4117,Gm8141,Heatr5b,Hexim1,Hsp90b1,Hsph1,Kdm5c,Klhl9,Masp1,mt-Nd1,mt-Nd2,mt-Tp,Myo1c,Ogdh,Pigs,Pja2,Psmd3,Rab1a,Sec23b,Selp,Sfpq,Snord43,Snrnp70,Srsf5,Stk3,Tes,Tkfc,Tlcd2,...\n",
      "\n",
      "\tsym_mrna_no_ribo_up_mrna2_up_ribo2_dn: 8: Cbx4,Cpped1,Nrg1,Nufip2,Rbbp6,Rbm14,Smpd3,Tmem214\n",
      "\n",
      "\tsym_mrna_no_ribo_up_mrna2_dn_ribo2_up: 0: \n",
      "\n",
      "-------------------------------------\n",
      "mrna_no_ribo_dn\n",
      "\n",
      "\tsym_mrna_no_ribo_dn_mrna2_up_ribo2_up: 8: 2610035D17Rik,Atf3,Card19,Eif5,Hist2h4,Pnrc1,Ubc,Zfp36l1\n",
      "\n",
      "\tsym_mrna_no_ribo_dn_mrna2_dn_ribo2_dn: 0: \n",
      "\n",
      "\tsym_mrna_no_ribo_dn_mrna2_up_ribo2_no: 5: Ap3d1,Fam13b,Itgb4,Mknk2,Trim8\n",
      "\n",
      "\tsym_mrna_no_ribo_dn_mrna2_dn_ribo2_no: 20: 2310039H08Rik,Atp5e,Bola2,Gar1,Hint2,Hist1h2ai,Hist2h2ac,Ing1,Nfe2l1,Rabepk,rDNA_ITS2,Rpf2,Set,Slc18b1,Slc25a23,Snrpe,Ssrp1,Uri1,Zfp217,Zmynd19\n",
      "\n",
      "\tsym_mrna_no_ribo_dn_mrna2_no_ribo2_up: 38: 1700021F05Rik,2200002D01Rik,Aes,Arpc2,Atox1,Btg2,Capza2,Cd164,Cd63,Chordc1,Clpp,Cox7b,Cyp39a1,Eif5a,Gemin7,Gng5,Hist1h2ak,Hsbp1,Idh2,Mrpl43,Mrpl57,Mrps26,Mtch2,Mtdh,Ndufb8,Npc2,Pdzd11,Pfdn2,Plpp2,Polr2j,Prdx5,Reep3,Scnm1,Slc25a1,Snx5,Tceal8,Ube2d3,Ubxn1\n",
      "\n",
      "\tsym_mrna_no_ribo_dn_mrna2_no_ribo2_dn: 4: Ddx17,Gm6560,Hnrnpk,Ubqln2\n",
      "\n",
      "\tsym_mrna_no_ribo_dn_mrna2_up_ribo2_dn: 0: \n",
      "\n",
      "\tsym_mrna_no_ribo_dn_mrna2_dn_ribo2_up: 10: Atp5k,C1qbp,Cnih4,Copz1,Ergic1,Gars,Ppp1ca,Psma7,Rtraf,Stub1\n",
      "\n"
     ]
    }
   ],
   "source": [
    "vec1_var <- c('mrna_up_ribo_up', 'mrna_dn_ribo_dn', 'mrna_up_ribo_dn', 'mrna_dn_ribo_up',\n",
    "              'mrna_up_ribo_no', 'mrna_dn_ribo_no', 'mrna_no_ribo_up', 'mrna_no_ribo_dn')\n",
    "\n",
    "vec2_var <- c('mrna2_up_ribo2_up', 'mrna2_dn_ribo2_dn', \n",
    "              'mrna2_up_ribo2_no', 'mrna2_dn_ribo2_no', 'mrna2_no_ribo2_up', 'mrna2_no_ribo2_dn',\n",
    "              'mrna2_up_ribo2_dn', 'mrna2_dn_ribo2_up')\n",
    "\n",
    "max_ngenes <- 50\n",
    "for (var1 in vec1_var) {\n",
    "    verb('-------------------------------------\\n%s\\n\\n', var1)\n",
    "    for (var2 in vec2_var) {\n",
    "      strvar <- sprintf('sym_%s_%s', var1, var2)\n",
    "      list_genes[[strvar]] <- eval(parse(text=sprintf(\"intersect(sym_%s, sym_%s)\", var1, var2)))\n",
    "      list_genes[[strvar]] <- intersect(list_genes[[strvar]], sym_detected_both)\n",
    "      strgene <- paste(head(list_genes[[strvar]],max_ngenes), collapse=\",\")\n",
    "      if (length(list_genes[[strvar]]) > max_ngenes) {\n",
    "          strgene <- paste0(strgene,',...')\n",
    "      }\n",
    "      verb('\\t%s: %d: %s\\n\\n', strvar, length(list_genes[[strvar]]), strgene)\n",
    "    }\n",
    "}"
   ]
  },
  {
   "cell_type": "markdown",
   "metadata": {},
   "source": [
    "# define frequently used variables"
   ]
  },
  {
   "cell_type": "markdown",
   "metadata": {},
   "source": [
    "## sym_mrna_up_mrna2_dn"
   ]
  },
  {
   "cell_type": "code",
   "execution_count": 154,
   "metadata": {},
   "outputs": [
    {
     "data": {
      "text/html": [
       "356"
      ],
      "text/latex": [
       "356"
      ],
      "text/markdown": [
       "356"
      ],
      "text/plain": [
       "[1] 356"
      ]
     },
     "metadata": {},
     "output_type": "display_data"
    },
    {
     "data": {
      "text/html": [
       "356"
      ],
      "text/latex": [
       "356"
      ],
      "text/markdown": [
       "356"
      ],
      "text/plain": [
       "[1] 356"
      ]
     },
     "metadata": {},
     "output_type": "display_data"
    }
   ],
   "source": [
    "# relying on emt.tables.mrna.comprehensive.txt the first column of \"reversible.translation.CX\"\n",
    "# translation tgfb48 up and tgfb27h+cx down\n",
    "idx <- which(df_all[,'reversible.transcription']=='upDown')\n",
    "sym_mrna_up_mrna2_dn <- rownames(df_all[idx,])\n",
    "length(sym_mrna_up_mrna2_dn)\n",
    "\n",
    "if (!is.null(pattern_remove_gene)) {\n",
    "    any(grepl(pattern_remove_gene, sym_mrna_up_mrna2_dn)) # should be FALSE\n",
    "}\n",
    "\n",
    "sym_mrna_up_mrna2_dn <- intersect(sym_mrna_up, sym_mrna2_dn)\n",
    "length(sym_mrna_up_mrna2_dn)\n"
   ]
  },
  {
   "cell_type": "markdown",
   "metadata": {},
   "source": [
    "## sym_mrna_dn_mrna2_up"
   ]
  },
  {
   "cell_type": "code",
   "execution_count": 155,
   "metadata": {},
   "outputs": [
    {
     "data": {
      "text/html": [
       "209"
      ],
      "text/latex": [
       "209"
      ],
      "text/markdown": [
       "209"
      ],
      "text/plain": [
       "[1] 209"
      ]
     },
     "metadata": {},
     "output_type": "display_data"
    },
    {
     "data": {
      "text/html": [
       "268"
      ],
      "text/latex": [
       "268"
      ],
      "text/markdown": [
       "268"
      ],
      "text/plain": [
       "[1] 268"
      ]
     },
     "metadata": {},
     "output_type": "display_data"
    }
   ],
   "source": [
    "# translation tgfb48 down and tgfb27h+cx up\n",
    "idx <- which(df_all[,'reversible.translation']=='downUp')\n",
    "sym_mrna_dn_mrna2_up <- rownames(df_all[idx,])\n",
    "length(sym_mrna_dn_mrna2_up)\n",
    "\n",
    "sym_mrna_dn_mrna2_up <- intersect(sym_mrna_dn, sym_mrna2_up)\n",
    "length(sym_mrna_dn_mrna2_up)"
   ]
  },
  {
   "cell_type": "markdown",
   "metadata": {},
   "source": [
    "## sym_mrna_dn3x_mrna2_no"
   ]
  },
  {
   "cell_type": "code",
   "execution_count": 156,
   "metadata": {},
   "outputs": [
    {
     "data": {
      "text/html": [
       "55"
      ],
      "text/latex": [
       "55"
      ],
      "text/markdown": [
       "55"
      ],
      "text/plain": [
       "[1] 55"
      ]
     },
     "metadata": {},
     "output_type": "display_data"
    }
   ],
   "source": [
    "sym_mrna_dn3x_mrna2_no <- intersect(sym_mrna_dn3x, sym_mrna2_no)\n",
    "length(sym_mrna_dn3x_mrna2_no)\n",
    "\n",
    "\n"
   ]
  },
  {
   "cell_type": "markdown",
   "metadata": {},
   "source": [
    "## sym_ribo_up_ribo2_dn"
   ]
  },
  {
   "cell_type": "code",
   "execution_count": 157,
   "metadata": {},
   "outputs": [
    {
     "data": {
      "text/html": [
       "414"
      ],
      "text/latex": [
       "414"
      ],
      "text/markdown": [
       "414"
      ],
      "text/plain": [
       "[1] 414"
      ]
     },
     "metadata": {},
     "output_type": "display_data"
    },
    {
     "data": {
      "text/html": [
       "414"
      ],
      "text/latex": [
       "414"
      ],
      "text/markdown": [
       "414"
      ],
      "text/plain": [
       "[1] 414"
      ]
     },
     "metadata": {},
     "output_type": "display_data"
    }
   ],
   "source": [
    "# relying on emt.tables.mrna.comprehensive.txt the first column of \"reversible.translation.CX\"\n",
    "# translation tgfb48 up and tgfb27h+cx down\n",
    "idx <- which(df_all[,'reversible.translation']=='upDown')\n",
    "sym_ribo_up_ribo2_dn <- rownames(df_all[idx,])\n",
    "length(sym_ribo_up_ribo2_dn)\n",
    "\n",
    "if (!is.null(pattern_remove_gene)) {\n",
    "    any(grepl(pattern_remove_gene, sym_ribo_up_ribo2_dn)) # should be FALSE\n",
    "}\n",
    "\n",
    "sym_ribo_up_ribo2_dn <- intersect(sym_ribo_up, sym_ribo2_dn)\n",
    "length(sym_ribo_up_ribo2_dn)\n"
   ]
  },
  {
   "cell_type": "code",
   "execution_count": 158,
   "metadata": {},
   "outputs": [],
   "source": [
    "# translation tgfb48, tgfb48+27h+cx\n",
    "sym_mrna_up_cx_dn <- sym_mrna_up_mrna2_dn\n",
    "sym_mrna_dn_cx_up <- sym_mrna_dn_mrna2_up\n",
    "sym_mrna_dn3x_cx_no <- sym_mrna_dn3x_mrna2_no\n",
    "sym_mrna_up_cx_up <- intersect(sym_mrna_up, sym_mrna2_up)\n",
    "sym_mrna_dn_cx_dn <- intersect(sym_mrna_dn, sym_mrna2_dn)"
   ]
  },
  {
   "cell_type": "markdown",
   "metadata": {},
   "source": [
    "## sym_ribo_dn_ribo2_up"
   ]
  },
  {
   "cell_type": "code",
   "execution_count": 159,
   "metadata": {},
   "outputs": [
    {
     "data": {
      "text/html": [
       "209"
      ],
      "text/latex": [
       "209"
      ],
      "text/markdown": [
       "209"
      ],
      "text/plain": [
       "[1] 209"
      ]
     },
     "metadata": {},
     "output_type": "display_data"
    },
    {
     "data": {
      "text/html": [
       "209"
      ],
      "text/latex": [
       "209"
      ],
      "text/markdown": [
       "209"
      ],
      "text/plain": [
       "[1] 209"
      ]
     },
     "metadata": {},
     "output_type": "display_data"
    }
   ],
   "source": [
    "# translation tgfb48 down and tgfb27h+cx up\n",
    "idx <- which(df_all[,'reversible.translation']=='downUp')\n",
    "sym_ribo_dn_ribo2_up <- rownames(df_all[idx,])\n",
    "length(sym_ribo_dn_ribo2_up)\n",
    "\n",
    "sym_ribo_dn_ribo2_up <- intersect(sym_ribo_dn, sym_ribo2_up)\n",
    "length(sym_ribo_dn_ribo2_up)\n"
   ]
  },
  {
   "cell_type": "markdown",
   "metadata": {},
   "source": [
    "## sym_ribo_dn3x_ribo2_no"
   ]
  },
  {
   "cell_type": "code",
   "execution_count": 160,
   "metadata": {
    "scrolled": true
   },
   "outputs": [
    {
     "data": {
      "text/html": [
       "53"
      ],
      "text/latex": [
       "53"
      ],
      "text/markdown": [
       "53"
      ],
      "text/plain": [
       "[1] 53"
      ]
     },
     "metadata": {},
     "output_type": "display_data"
    }
   ],
   "source": [
    "sym_ribo_dn3x_ribo2_no <- intersect(sym_ribo_dn3x, sym_ribo2_no)\n",
    "length(sym_ribo_dn3x_ribo2_no)\n",
    "\n"
   ]
  },
  {
   "cell_type": "code",
   "execution_count": 161,
   "metadata": {},
   "outputs": [],
   "source": [
    "# translation tgfb48, tgfb48+27h+cx\n",
    "sym_ribo_up_cx_dn <- sym_ribo_up_ribo2_dn\n",
    "sym_ribo_dn_cx_up <- sym_ribo_dn_ribo2_up\n",
    "sym_ribo_dn3x_cx_no <- sym_ribo_dn3x_ribo2_no\n",
    "sym_ribo_up_cx_up <- intersect(sym_ribo_up, sym_ribo2_up)\n",
    "sym_ribo_dn_cx_dn <- intersect(sym_ribo_dn, sym_ribo2_dn)\n",
    "\n",
    "\n",
    "# translation tgfb48, tgfb48+27h+cx, no effect on transcription tgfb48\n",
    "# detected in both data sets\n",
    "sym_mrna_no_ribo_up_cx_dn <- intersect(sym_mrna_no_ribo_up, sym_ribo2_dn)\n",
    "sym_mrna_no_ribo_up_cx_dn <- intersect(sym_mrna_no_ribo_up_cx_dn, sym_detected_both)\n",
    "\n",
    "sym_mrna_no_ribo_dn_cx_up <- intersect(sym_mrna_no_ribo_dn, sym_ribo2_up)\n",
    "sym_mrna_no_ribo_dn_cx_up <- intersect(sym_mrna_no_ribo_dn_cx_up, sym_detected_both)\n",
    "\n",
    "sym_mrna_no_ribo_up_cx_up <- intersect(sym_mrna_no_ribo_up, sym_ribo2_up)\n",
    "sym_mrna_no_ribo_up_cx_up <- intersect(sym_mrna_no_ribo_up_cx_up, sym_detected_both)\n",
    "\n",
    "sym_mrna_no_ribo_dn_cx_dn <- intersect(sym_mrna_no_ribo_dn, sym_ribo2_dn)\n",
    "sym_mrna_no_ribo_dn_cx_dn <- intersect(sym_mrna_no_ribo_dn_cx_dn, sym_detected_both)"
   ]
  },
  {
   "cell_type": "markdown",
   "metadata": {},
   "source": [
    "## sym_ribo_cx_exclusively_affected"
   ]
  },
  {
   "cell_type": "code",
   "execution_count": 162,
   "metadata": {},
   "outputs": [
    {
     "data": {
      "text/html": [
       "1695"
      ],
      "text/latex": [
       "1695"
      ],
      "text/markdown": [
       "1695"
      ],
      "text/plain": [
       "[1] 1695"
      ]
     },
     "metadata": {},
     "output_type": "display_data"
    },
    {
     "data": {
      "text/html": [
       "2183"
      ],
      "text/latex": [
       "2183"
      ],
      "text/markdown": [
       "2183"
      ],
      "text/plain": [
       "[1] 2183"
      ]
     },
     "metadata": {},
     "output_type": "display_data"
    },
    {
     "data": {
      "text/html": [
       "945"
      ],
      "text/latex": [
       "945"
      ],
      "text/markdown": [
       "945"
      ],
      "text/plain": [
       "[1] 945"
      ]
     },
     "metadata": {},
     "output_type": "display_data"
    }
   ],
   "source": [
    "length(sym_ribo2)\n",
    "length(sym_ribo)\n",
    "sym_ribo_cx_exclusively_affected <- setdiff(sym_ribo2, sym_ribo)\n",
    "length(sym_ribo_cx_exclusively_affected)\n"
   ]
  },
  {
   "cell_type": "code",
   "execution_count": 163,
   "metadata": {},
   "outputs": [
    {
     "data": {
      "text/html": [
       "457"
      ],
      "text/latex": [
       "457"
      ],
      "text/markdown": [
       "457"
      ],
      "text/plain": [
       "[1] 457"
      ]
     },
     "metadata": {},
     "output_type": "display_data"
    }
   ],
   "source": [
    "sym_ribo_cx_exclusively_affected_up <- intersect(sym_ribo_cx_exclusively_affected,\n",
    "                                                 sym_ribo2_up)\n",
    "length(sym_ribo_cx_exclusively_affected_up)"
   ]
  },
  {
   "cell_type": "code",
   "execution_count": 164,
   "metadata": {},
   "outputs": [
    {
     "data": {
      "text/html": [
       "488"
      ],
      "text/latex": [
       "488"
      ],
      "text/markdown": [
       "488"
      ],
      "text/plain": [
       "[1] 488"
      ]
     },
     "metadata": {},
     "output_type": "display_data"
    }
   ],
   "source": [
    "sym_ribo_cx_exclusively_affected_dn <- intersect(sym_ribo_cx_exclusively_affected,\n",
    "                                                 sym_ribo2_dn)\n",
    "length(sym_ribo_cx_exclusively_affected_dn)"
   ]
  },
  {
   "cell_type": "markdown",
   "metadata": {},
   "source": [
    "## sym_ribo_cx_unaffected"
   ]
  },
  {
   "cell_type": "code",
   "execution_count": 165,
   "metadata": {},
   "outputs": [
    {
     "data": {
      "text/html": [
       "10343"
      ],
      "text/latex": [
       "10343"
      ],
      "text/markdown": [
       "10343"
      ],
      "text/plain": [
       "[1] 10343"
      ]
     },
     "metadata": {},
     "output_type": "display_data"
    },
    {
     "data": {
      "text/html": [
       "1695"
      ],
      "text/latex": [
       "1695"
      ],
      "text/markdown": [
       "1695"
      ],
      "text/plain": [
       "[1] 1695"
      ]
     },
     "metadata": {},
     "output_type": "display_data"
    },
    {
     "data": {
      "text/html": [
       "8648"
      ],
      "text/latex": [
       "8648"
      ],
      "text/markdown": [
       "8648"
      ],
      "text/plain": [
       "[1] 8648"
      ]
     },
     "metadata": {},
     "output_type": "display_data"
    }
   ],
   "source": [
    "length(sym_riboseq)  # 13827\n",
    "\n",
    "sym_ribo_cx_affected <- sym_ribo2\n",
    "length(sym_ribo_cx_affected)\n",
    "\n",
    "sym_ribo_cx_unaffected <- setdiff(sym_riboseq, sym_ribo_cx_affected)\n",
    "length(sym_ribo_cx_unaffected)\n"
   ]
  },
  {
   "cell_type": "markdown",
   "metadata": {},
   "source": [
    "## sym_mrna_no_ribo_de_cx_unaffected"
   ]
  },
  {
   "cell_type": "code",
   "execution_count": 166,
   "metadata": {
    "scrolled": true
   },
   "outputs": [
    {
     "data": {
      "text/html": [
       "210"
      ],
      "text/latex": [
       "210"
      ],
      "text/markdown": [
       "210"
      ],
      "text/plain": [
       "[1] 210"
      ]
     },
     "metadata": {},
     "output_type": "display_data"
    },
    {
     "data": {
      "text/html": [
       "210"
      ],
      "text/latex": [
       "210"
      ],
      "text/markdown": [
       "210"
      ],
      "text/plain": [
       "[1] 210"
      ]
     },
     "metadata": {},
     "output_type": "display_data"
    },
    {
     "data": {
      "text/html": [
       "210"
      ],
      "text/latex": [
       "210"
      ],
      "text/markdown": [
       "210"
      ],
      "text/plain": [
       "[1] 210"
      ]
     },
     "metadata": {},
     "output_type": "display_data"
    }
   ],
   "source": [
    "sym_mrna_no_ribo_de_cx_unaffected <- intersect(sym_ribo_only, sym_ribo_cx_unaffected)\n",
    "length(sym_mrna_no_ribo_de_cx_unaffected)\n",
    "\n",
    "length(intersect(sym_mrna_no_ribo_de_cx_unaffected, sym_rnaseq))\n",
    "length(intersect(sym_mrna_no_ribo_de_cx_unaffected, sym_riboseq))\n"
   ]
  },
  {
   "cell_type": "markdown",
   "metadata": {},
   "source": [
    "# df_protein"
   ]
  },
  {
   "cell_type": "code",
   "execution_count": 167,
   "metadata": {},
   "outputs": [
    {
     "data": {
      "text/html": [
       "<table>\n",
       "<caption>A matrix: 46 × 3 of type chr</caption>\n",
       "<thead>\n",
       "\t<tr><th></th><th scope=col>1</th><th scope=col>2</th><th scope=col>3</th></tr>\n",
       "</thead>\n",
       "<tbody>\n",
       "\t<tr><th scope=row>Majority.Protein.ID</th><td>A2A432   </td><td>A2A5R2                                                     </td><td>A2A690       </td></tr>\n",
       "\t<tr><th scope=row>Majority.Protein.name</th><td>Cullin-4B</td><td>Brefeldin A-inhibited guanine nucleotide-exchange protein 2</td><td>Protein TANC2</td></tr>\n",
       "\t<tr><th scope=row>Majority.Gene.name</th><td>Cul4b    </td><td>Arfgef2                                                    </td><td>Tanc2        </td></tr>\n",
       "\t<tr><th scope=row>Protein.IDs</th><td>A2A432   </td><td>A2A5R2                                                     </td><td>A2A690       </td></tr>\n",
       "\t<tr><th scope=row>Protein.names</th><td>Cullin-4B</td><td>Brefeldin A-inhibited guanine nucleotide-exchange protein 2</td><td>Protein TANC2</td></tr>\n",
       "\t<tr><th scope=row>Gene.names</th><td>Cul4b    </td><td>Arfgef2                                                    </td><td>Tanc2        </td></tr>\n",
       "\t<tr><th scope=row>Peptide.counts</th><td>10       </td><td>3                                                          </td><td>4            </td></tr>\n",
       "\t<tr><th scope=row>Sequence.coverage....</th><td>15.8     </td><td> 3.6                                                       </td><td> 2.7         </td></tr>\n",
       "\t<tr><th scope=row>Mol..weight..kDa.</th><td>110.70   </td><td>202.24                                                     </td><td>220.26       </td></tr>\n",
       "\t<tr><th scope=row>Sequence.length</th><td> 970     </td><td>1792                                                       </td><td>1994         </td></tr>\n",
       "\t<tr><th scope=row>Score</th><td>69.3500  </td><td> 8.5846                                                    </td><td> 1.8298      </td></tr>\n",
       "\t<tr><th scope=row>raw.intensity.0.min_S1</th><td>900570   </td><td>     0                                                     </td><td>     0       </td></tr>\n",
       "\t<tr><th scope=row>raw.intensity.0.min_S2</th><td>1174100  </td><td>      0                                                    </td><td>      0      </td></tr>\n",
       "\t<tr><th scope=row>raw.intensity.0.min_S3</th><td> 682060  </td><td>  51282                                                    </td><td>1057700      </td></tr>\n",
       "\t<tr><th scope=row>raw.intensity.0.min_L1</th><td>634570   </td><td> 62216                                                     </td><td>     0       </td></tr>\n",
       "\t<tr><th scope=row>raw.intensity.0.min_L2</th><td>406800   </td><td> 18545                                                     </td><td>     0       </td></tr>\n",
       "\t<tr><th scope=row>raw.intensity.0.min_L3</th><td> 503690  </td><td>  30691                                                    </td><td>1122700      </td></tr>\n",
       "\t<tr><th scope=row>raw.intensity.5.min_1</th><td>934720   </td><td> 65306                                                     </td><td>     0       </td></tr>\n",
       "\t<tr><th scope=row>raw.intensity.5.min_2</th><td>1088000  </td><td>  48925                                                    </td><td>      0      </td></tr>\n",
       "\t<tr><th scope=row>raw.intensity.5.min_3</th><td>857390   </td><td>122590                                                     </td><td>764190       </td></tr>\n",
       "\t<tr><th scope=row>raw.intensity.60.min_1</th><td>1175400  </td><td>      0                                                    </td><td>      0      </td></tr>\n",
       "\t<tr><th scope=row>raw.intensity.60.min_2</th><td>1214300  </td><td>  51807                                                    </td><td>      0      </td></tr>\n",
       "\t<tr><th scope=row>raw.intensity.60.min_3</th><td>1362800  </td><td>  39495                                                    </td><td> 975080      </td></tr>\n",
       "\t<tr><th scope=row>raw.intensity.1.day_1</th><td>847940   </td><td> 82232                                                     </td><td>     0       </td></tr>\n",
       "\t<tr><th scope=row>raw.intensity.1.day_2</th><td>631520   </td><td> 91421                                                     </td><td>     0       </td></tr>\n",
       "\t<tr><th scope=row>raw.intensity.1.day_3</th><td>346690   </td><td> 29954                                                     </td><td>964430       </td></tr>\n",
       "\t<tr><th scope=row>raw.intensity.2.days_1</th><td>730320   </td><td>185050                                                     </td><td>     0       </td></tr>\n",
       "\t<tr><th scope=row>raw.intensity.2.days_2</th><td>528540   </td><td>     0                                                     </td><td>     0       </td></tr>\n",
       "\t<tr><th scope=row>raw.intensity.2.days_3</th><td> 497490  </td><td>  79398                                                    </td><td>1049400      </td></tr>\n",
       "\t<tr><th scope=row>X0.min_S</th><td>-2.082   </td><td>-6.138                                                     </td><td>-1.772       </td></tr>\n",
       "\t<tr><th scope=row>X0.min_L</th><td>-2.718   </td><td>-6.665                                                     </td><td>-1.453       </td></tr>\n",
       "\t<tr><th scope=row>X5.min</th><td>-1.801   </td><td>-5.508                                                     </td><td>-2.097       </td></tr>\n",
       "\t<tr><th scope=row>X60.min</th><td>-1.496   </td><td>-6.207                                                     </td><td>-1.834       </td></tr>\n",
       "\t<tr><th scope=row>X1.day</th><td>-2.473   </td><td>-5.702                                                     </td><td>-1.592       </td></tr>\n",
       "\t<tr><th scope=row>X2.days</th><td>-2.438   </td><td>-4.669                                                     </td><td>-1.493       </td></tr>\n",
       "\t<tr><th scope=row>ANOVA.p.value</th><td>0.002    </td><td>0.346                                                      </td><td>1.000        </td></tr>\n",
       "\t<tr><th scope=row>log2FC.5.min.0.min</th><td> 0.281   </td><td> 0.630                                                     </td><td>-0.325       </td></tr>\n",
       "\t<tr><th scope=row>log2FC.60.min.0.min</th><td> 0.586   </td><td>-0.069                                                     </td><td>-0.063       </td></tr>\n",
       "\t<tr><th scope=row>log2FC.1.day.0.min</th><td> 0.244   </td><td> 0.962                                                     </td><td>-0.139       </td></tr>\n",
       "\t<tr><th scope=row>log2FC.2.days.0.min</th><td> 0.280   </td><td> 1.996                                                     </td><td>-0.041       </td></tr>\n",
       "\t<tr><th scope=row>X.log2.p..5.min.0.min</th><td>3.089    </td><td>5.755                                                      </td><td>1.242        </td></tr>\n",
       "\t<tr><th scope=row>X.log2.p..60.min.0.min</th><td>3.113    </td><td>0.911                                                      </td><td>1.242        </td></tr>\n",
       "\t<tr><th scope=row>X.log2.p..1.day.0.min</th><td>1.055    </td><td>1.833                                                      </td><td>1.242        </td></tr>\n",
       "\t<tr><th scope=row>X.log2.p..2.days.0.min</th><td>2.770    </td><td>1.649                                                      </td><td>1.242        </td></tr>\n",
       "\t<tr><th scope=row>Cluster.Number</th><td> 3       </td><td>NA                                                         </td><td>NA           </td></tr>\n",
       "\t<tr><th scope=row>isClusterMember</th><td>FALSE    </td><td>NA                                                         </td><td>NA           </td></tr>\n",
       "</tbody>\n",
       "</table>\n"
      ],
      "text/latex": [
       "A matrix: 46 × 3 of type chr\n",
       "\\begin{tabular}{r|lll}\n",
       "  & 1 & 2 & 3\\\\\n",
       "\\hline\n",
       "\tMajority.Protein.ID & A2A432    & A2A5R2                                                      & A2A690       \\\\\n",
       "\tMajority.Protein.name & Cullin-4B & Brefeldin A-inhibited guanine nucleotide-exchange protein 2 & Protein TANC2\\\\\n",
       "\tMajority.Gene.name & Cul4b     & Arfgef2                                                     & Tanc2        \\\\\n",
       "\tProtein.IDs & A2A432    & A2A5R2                                                      & A2A690       \\\\\n",
       "\tProtein.names & Cullin-4B & Brefeldin A-inhibited guanine nucleotide-exchange protein 2 & Protein TANC2\\\\\n",
       "\tGene.names & Cul4b     & Arfgef2                                                     & Tanc2        \\\\\n",
       "\tPeptide.counts & 10        & 3                                                           & 4            \\\\\n",
       "\tSequence.coverage.... & 15.8      &  3.6                                                        &  2.7         \\\\\n",
       "\tMol..weight..kDa. & 110.70    & 202.24                                                      & 220.26       \\\\\n",
       "\tSequence.length &  970      & 1792                                                        & 1994         \\\\\n",
       "\tScore & 69.3500   &  8.5846                                                     &  1.8298      \\\\\n",
       "\traw.intensity.0.min\\_S1 & 900570    &      0                                                      &      0       \\\\\n",
       "\traw.intensity.0.min\\_S2 & 1174100   &       0                                                     &       0      \\\\\n",
       "\traw.intensity.0.min\\_S3 &  682060   &   51282                                                     & 1057700      \\\\\n",
       "\traw.intensity.0.min\\_L1 & 634570    &  62216                                                      &      0       \\\\\n",
       "\traw.intensity.0.min\\_L2 & 406800    &  18545                                                      &      0       \\\\\n",
       "\traw.intensity.0.min\\_L3 &  503690   &   30691                                                     & 1122700      \\\\\n",
       "\traw.intensity.5.min\\_1 & 934720    &  65306                                                      &      0       \\\\\n",
       "\traw.intensity.5.min\\_2 & 1088000   &   48925                                                     &       0      \\\\\n",
       "\traw.intensity.5.min\\_3 & 857390    & 122590                                                      & 764190       \\\\\n",
       "\traw.intensity.60.min\\_1 & 1175400   &       0                                                     &       0      \\\\\n",
       "\traw.intensity.60.min\\_2 & 1214300   &   51807                                                     &       0      \\\\\n",
       "\traw.intensity.60.min\\_3 & 1362800   &   39495                                                     &  975080      \\\\\n",
       "\traw.intensity.1.day\\_1 & 847940    &  82232                                                      &      0       \\\\\n",
       "\traw.intensity.1.day\\_2 & 631520    &  91421                                                      &      0       \\\\\n",
       "\traw.intensity.1.day\\_3 & 346690    &  29954                                                      & 964430       \\\\\n",
       "\traw.intensity.2.days\\_1 & 730320    & 185050                                                      &      0       \\\\\n",
       "\traw.intensity.2.days\\_2 & 528540    &      0                                                      &      0       \\\\\n",
       "\traw.intensity.2.days\\_3 &  497490   &   79398                                                     & 1049400      \\\\\n",
       "\tX0.min\\_S & -2.082    & -6.138                                                      & -1.772       \\\\\n",
       "\tX0.min\\_L & -2.718    & -6.665                                                      & -1.453       \\\\\n",
       "\tX5.min & -1.801    & -5.508                                                      & -2.097       \\\\\n",
       "\tX60.min & -1.496    & -6.207                                                      & -1.834       \\\\\n",
       "\tX1.day & -2.473    & -5.702                                                      & -1.592       \\\\\n",
       "\tX2.days & -2.438    & -4.669                                                      & -1.493       \\\\\n",
       "\tANOVA.p.value & 0.002     & 0.346                                                       & 1.000        \\\\\n",
       "\tlog2FC.5.min.0.min &  0.281    &  0.630                                                      & -0.325       \\\\\n",
       "\tlog2FC.60.min.0.min &  0.586    & -0.069                                                      & -0.063       \\\\\n",
       "\tlog2FC.1.day.0.min &  0.244    &  0.962                                                      & -0.139       \\\\\n",
       "\tlog2FC.2.days.0.min &  0.280    &  1.996                                                      & -0.041       \\\\\n",
       "\tX.log2.p..5.min.0.min & 3.089     & 5.755                                                       & 1.242        \\\\\n",
       "\tX.log2.p..60.min.0.min & 3.113     & 0.911                                                       & 1.242        \\\\\n",
       "\tX.log2.p..1.day.0.min & 1.055     & 1.833                                                       & 1.242        \\\\\n",
       "\tX.log2.p..2.days.0.min & 2.770     & 1.649                                                       & 1.242        \\\\\n",
       "\tCluster.Number &  3        & NA                                                          & NA           \\\\\n",
       "\tisClusterMember & FALSE     & NA                                                          & NA           \\\\\n",
       "\\end{tabular}\n"
      ],
      "text/markdown": [
       "\n",
       "A matrix: 46 × 3 of type chr\n",
       "\n",
       "| <!--/--> | 1 | 2 | 3 |\n",
       "|---|---|---|---|\n",
       "| Majority.Protein.ID | A2A432    | A2A5R2                                                      | A2A690        |\n",
       "| Majority.Protein.name | Cullin-4B | Brefeldin A-inhibited guanine nucleotide-exchange protein 2 | Protein TANC2 |\n",
       "| Majority.Gene.name | Cul4b     | Arfgef2                                                     | Tanc2         |\n",
       "| Protein.IDs | A2A432    | A2A5R2                                                      | A2A690        |\n",
       "| Protein.names | Cullin-4B | Brefeldin A-inhibited guanine nucleotide-exchange protein 2 | Protein TANC2 |\n",
       "| Gene.names | Cul4b     | Arfgef2                                                     | Tanc2         |\n",
       "| Peptide.counts | 10        | 3                                                           | 4             |\n",
       "| Sequence.coverage.... | 15.8      |  3.6                                                        |  2.7          |\n",
       "| Mol..weight..kDa. | 110.70    | 202.24                                                      | 220.26        |\n",
       "| Sequence.length |  970      | 1792                                                        | 1994          |\n",
       "| Score | 69.3500   |  8.5846                                                     |  1.8298       |\n",
       "| raw.intensity.0.min_S1 | 900570    |      0                                                      |      0        |\n",
       "| raw.intensity.0.min_S2 | 1174100   |       0                                                     |       0       |\n",
       "| raw.intensity.0.min_S3 |  682060   |   51282                                                     | 1057700       |\n",
       "| raw.intensity.0.min_L1 | 634570    |  62216                                                      |      0        |\n",
       "| raw.intensity.0.min_L2 | 406800    |  18545                                                      |      0        |\n",
       "| raw.intensity.0.min_L3 |  503690   |   30691                                                     | 1122700       |\n",
       "| raw.intensity.5.min_1 | 934720    |  65306                                                      |      0        |\n",
       "| raw.intensity.5.min_2 | 1088000   |   48925                                                     |       0       |\n",
       "| raw.intensity.5.min_3 | 857390    | 122590                                                      | 764190        |\n",
       "| raw.intensity.60.min_1 | 1175400   |       0                                                     |       0       |\n",
       "| raw.intensity.60.min_2 | 1214300   |   51807                                                     |       0       |\n",
       "| raw.intensity.60.min_3 | 1362800   |   39495                                                     |  975080       |\n",
       "| raw.intensity.1.day_1 | 847940    |  82232                                                      |      0        |\n",
       "| raw.intensity.1.day_2 | 631520    |  91421                                                      |      0        |\n",
       "| raw.intensity.1.day_3 | 346690    |  29954                                                      | 964430        |\n",
       "| raw.intensity.2.days_1 | 730320    | 185050                                                      |      0        |\n",
       "| raw.intensity.2.days_2 | 528540    |      0                                                      |      0        |\n",
       "| raw.intensity.2.days_3 |  497490   |   79398                                                     | 1049400       |\n",
       "| X0.min_S | -2.082    | -6.138                                                      | -1.772        |\n",
       "| X0.min_L | -2.718    | -6.665                                                      | -1.453        |\n",
       "| X5.min | -1.801    | -5.508                                                      | -2.097        |\n",
       "| X60.min | -1.496    | -6.207                                                      | -1.834        |\n",
       "| X1.day | -2.473    | -5.702                                                      | -1.592        |\n",
       "| X2.days | -2.438    | -4.669                                                      | -1.493        |\n",
       "| ANOVA.p.value | 0.002     | 0.346                                                       | 1.000         |\n",
       "| log2FC.5.min.0.min |  0.281    |  0.630                                                      | -0.325        |\n",
       "| log2FC.60.min.0.min |  0.586    | -0.069                                                      | -0.063        |\n",
       "| log2FC.1.day.0.min |  0.244    |  0.962                                                      | -0.139        |\n",
       "| log2FC.2.days.0.min |  0.280    |  1.996                                                      | -0.041        |\n",
       "| X.log2.p..5.min.0.min | 3.089     | 5.755                                                       | 1.242         |\n",
       "| X.log2.p..60.min.0.min | 3.113     | 0.911                                                       | 1.242         |\n",
       "| X.log2.p..1.day.0.min | 1.055     | 1.833                                                       | 1.242         |\n",
       "| X.log2.p..2.days.0.min | 2.770     | 1.649                                                       | 1.242         |\n",
       "| Cluster.Number |  3        | NA                                                          | NA            |\n",
       "| isClusterMember | FALSE     | NA                                                          | NA            |\n",
       "\n"
      ],
      "text/plain": [
       "                       1        \n",
       "Majority.Protein.ID    A2A432   \n",
       "Majority.Protein.name  Cullin-4B\n",
       "Majority.Gene.name     Cul4b    \n",
       "Protein.IDs            A2A432   \n",
       "Protein.names          Cullin-4B\n",
       "Gene.names             Cul4b    \n",
       "Peptide.counts         10       \n",
       "Sequence.coverage....  15.8     \n",
       "Mol..weight..kDa.      110.70   \n",
       "Sequence.length         970     \n",
       "Score                  69.3500  \n",
       "raw.intensity.0.min_S1 900570   \n",
       "raw.intensity.0.min_S2 1174100  \n",
       "raw.intensity.0.min_S3  682060  \n",
       "raw.intensity.0.min_L1 634570   \n",
       "raw.intensity.0.min_L2 406800   \n",
       "raw.intensity.0.min_L3  503690  \n",
       "raw.intensity.5.min_1  934720   \n",
       "raw.intensity.5.min_2  1088000  \n",
       "raw.intensity.5.min_3  857390   \n",
       "raw.intensity.60.min_1 1175400  \n",
       "raw.intensity.60.min_2 1214300  \n",
       "raw.intensity.60.min_3 1362800  \n",
       "raw.intensity.1.day_1  847940   \n",
       "raw.intensity.1.day_2  631520   \n",
       "raw.intensity.1.day_3  346690   \n",
       "raw.intensity.2.days_1 730320   \n",
       "raw.intensity.2.days_2 528540   \n",
       "raw.intensity.2.days_3  497490  \n",
       "X0.min_S               -2.082   \n",
       "X0.min_L               -2.718   \n",
       "X5.min                 -1.801   \n",
       "X60.min                -1.496   \n",
       "X1.day                 -2.473   \n",
       "X2.days                -2.438   \n",
       "ANOVA.p.value          0.002    \n",
       "log2FC.5.min.0.min      0.281   \n",
       "log2FC.60.min.0.min     0.586   \n",
       "log2FC.1.day.0.min      0.244   \n",
       "log2FC.2.days.0.min     0.280   \n",
       "X.log2.p..5.min.0.min  3.089    \n",
       "X.log2.p..60.min.0.min 3.113    \n",
       "X.log2.p..1.day.0.min  1.055    \n",
       "X.log2.p..2.days.0.min 2.770    \n",
       "Cluster.Number          3       \n",
       "isClusterMember        FALSE    \n",
       "                       2                                                          \n",
       "Majority.Protein.ID    A2A5R2                                                     \n",
       "Majority.Protein.name  Brefeldin A-inhibited guanine nucleotide-exchange protein 2\n",
       "Majority.Gene.name     Arfgef2                                                    \n",
       "Protein.IDs            A2A5R2                                                     \n",
       "Protein.names          Brefeldin A-inhibited guanine nucleotide-exchange protein 2\n",
       "Gene.names             Arfgef2                                                    \n",
       "Peptide.counts         3                                                          \n",
       "Sequence.coverage....   3.6                                                       \n",
       "Mol..weight..kDa.      202.24                                                     \n",
       "Sequence.length        1792                                                       \n",
       "Score                   8.5846                                                    \n",
       "raw.intensity.0.min_S1      0                                                     \n",
       "raw.intensity.0.min_S2       0                                                    \n",
       "raw.intensity.0.min_S3   51282                                                    \n",
       "raw.intensity.0.min_L1  62216                                                     \n",
       "raw.intensity.0.min_L2  18545                                                     \n",
       "raw.intensity.0.min_L3   30691                                                    \n",
       "raw.intensity.5.min_1   65306                                                     \n",
       "raw.intensity.5.min_2    48925                                                    \n",
       "raw.intensity.5.min_3  122590                                                     \n",
       "raw.intensity.60.min_1       0                                                    \n",
       "raw.intensity.60.min_2   51807                                                    \n",
       "raw.intensity.60.min_3   39495                                                    \n",
       "raw.intensity.1.day_1   82232                                                     \n",
       "raw.intensity.1.day_2   91421                                                     \n",
       "raw.intensity.1.day_3   29954                                                     \n",
       "raw.intensity.2.days_1 185050                                                     \n",
       "raw.intensity.2.days_2      0                                                     \n",
       "raw.intensity.2.days_3   79398                                                    \n",
       "X0.min_S               -6.138                                                     \n",
       "X0.min_L               -6.665                                                     \n",
       "X5.min                 -5.508                                                     \n",
       "X60.min                -6.207                                                     \n",
       "X1.day                 -5.702                                                     \n",
       "X2.days                -4.669                                                     \n",
       "ANOVA.p.value          0.346                                                      \n",
       "log2FC.5.min.0.min      0.630                                                     \n",
       "log2FC.60.min.0.min    -0.069                                                     \n",
       "log2FC.1.day.0.min      0.962                                                     \n",
       "log2FC.2.days.0.min     1.996                                                     \n",
       "X.log2.p..5.min.0.min  5.755                                                      \n",
       "X.log2.p..60.min.0.min 0.911                                                      \n",
       "X.log2.p..1.day.0.min  1.833                                                      \n",
       "X.log2.p..2.days.0.min 1.649                                                      \n",
       "Cluster.Number         NA                                                         \n",
       "isClusterMember        NA                                                         \n",
       "                       3            \n",
       "Majority.Protein.ID    A2A690       \n",
       "Majority.Protein.name  Protein TANC2\n",
       "Majority.Gene.name     Tanc2        \n",
       "Protein.IDs            A2A690       \n",
       "Protein.names          Protein TANC2\n",
       "Gene.names             Tanc2        \n",
       "Peptide.counts         4            \n",
       "Sequence.coverage....   2.7         \n",
       "Mol..weight..kDa.      220.26       \n",
       "Sequence.length        1994         \n",
       "Score                   1.8298      \n",
       "raw.intensity.0.min_S1      0       \n",
       "raw.intensity.0.min_S2       0      \n",
       "raw.intensity.0.min_S3 1057700      \n",
       "raw.intensity.0.min_L1      0       \n",
       "raw.intensity.0.min_L2      0       \n",
       "raw.intensity.0.min_L3 1122700      \n",
       "raw.intensity.5.min_1       0       \n",
       "raw.intensity.5.min_2        0      \n",
       "raw.intensity.5.min_3  764190       \n",
       "raw.intensity.60.min_1       0      \n",
       "raw.intensity.60.min_2       0      \n",
       "raw.intensity.60.min_3  975080      \n",
       "raw.intensity.1.day_1       0       \n",
       "raw.intensity.1.day_2       0       \n",
       "raw.intensity.1.day_3  964430       \n",
       "raw.intensity.2.days_1      0       \n",
       "raw.intensity.2.days_2      0       \n",
       "raw.intensity.2.days_3 1049400      \n",
       "X0.min_S               -1.772       \n",
       "X0.min_L               -1.453       \n",
       "X5.min                 -2.097       \n",
       "X60.min                -1.834       \n",
       "X1.day                 -1.592       \n",
       "X2.days                -1.493       \n",
       "ANOVA.p.value          1.000        \n",
       "log2FC.5.min.0.min     -0.325       \n",
       "log2FC.60.min.0.min    -0.063       \n",
       "log2FC.1.day.0.min     -0.139       \n",
       "log2FC.2.days.0.min    -0.041       \n",
       "X.log2.p..5.min.0.min  1.242        \n",
       "X.log2.p..60.min.0.min 1.242        \n",
       "X.log2.p..1.day.0.min  1.242        \n",
       "X.log2.p..2.days.0.min 1.242        \n",
       "Cluster.Number         NA           \n",
       "isClusterMember        NA           "
      ]
     },
     "metadata": {},
     "output_type": "display_data"
    },
    {
     "data": {
      "text/html": [
       "<style>\n",
       ".list-inline {list-style: none; margin:0; padding: 0}\n",
       ".list-inline>li {display: inline-block}\n",
       ".list-inline>li:not(:last-child)::after {content: \"\\00b7\"; padding: 0 .5ex}\n",
       "</style>\n",
       "<ol class=list-inline><li>7789</li><li>46</li></ol>\n"
      ],
      "text/latex": [
       "\\begin{enumerate*}\n",
       "\\item 7789\n",
       "\\item 46\n",
       "\\end{enumerate*}\n"
      ],
      "text/markdown": [
       "1. 7789\n",
       "2. 46\n",
       "\n",
       "\n"
      ],
      "text/plain": [
       "[1] 7789   46"
      ]
     },
     "metadata": {},
     "output_type": "display_data"
    }
   ],
   "source": [
    "# https://epigeneticsandchromatin.biomedcentral.com/articles/10.1186/s13072-019-0256-y\n",
    "df_protein <- read.table(file=\"../nmumg_proteomics_mass_spec/table_s1a_protein_groups.txt\", \n",
    "                header=TRUE, sep=\"\\t\", row.names=NULL,\n",
    "                quote=\"\", comment.char=\"#\", stringsAsFactors=F)\n",
    "t(df_protein[1:3,])\n",
    "dim(df_protein)\n",
    "\n",
    "\n",
    "condstr <- 'proteomics.unt0.tgfb48'\n",
    "cols <- c('Majority.Gene.name','log2FC.2.days.0.min','X.log2.p..2.days.0.min')\n",
    "df <- df_protein[,cols]\n",
    "idx <- which((df[,2] > log2(1.2)) & (2^-df[,3] < 0.05))\n",
    "sym_protein_up <- df[idx,1]\n",
    "\n",
    "idx <- which((df[,2] < -log2(1.2)) & (2^-df[,3] < 0.05))\n",
    "sym_protein_dn <- df[idx,1]\n"
   ]
  },
  {
   "cell_type": "markdown",
   "metadata": {},
   "source": [
    "## sym_up_up2, sym_dn_dn2"
   ]
  },
  {
   "cell_type": "code",
   "execution_count": 168,
   "metadata": {},
   "outputs": [
    {
     "data": {
      "text/html": [
       "936"
      ],
      "text/latex": [
       "936"
      ],
      "text/markdown": [
       "936"
      ],
      "text/plain": [
       "[1] 936"
      ]
     },
     "metadata": {},
     "output_type": "display_data"
    },
    {
     "data": {
      "text/html": [],
      "text/latex": [],
      "text/markdown": [],
      "text/plain": [
       "character(0)"
      ]
     },
     "metadata": {},
     "output_type": "display_data"
    }
   ],
   "source": [
    "length(sym_mrna_up_ribo_up)\n",
    "f <- grepl('Rp', sym_mrna_up_ribo_up)\n",
    "sym_mrna_up_ribo_up[f]\n",
    "\n"
   ]
  },
  {
   "cell_type": "code",
   "execution_count": 169,
   "metadata": {},
   "outputs": [
    {
     "data": {
      "text/html": [
       "<style>\n",
       ".list-inline {list-style: none; margin:0; padding: 0}\n",
       ".list-inline>li {display: inline-block}\n",
       ".list-inline>li:not(:last-child)::after {content: \"\\00b7\"; padding: 0 .5ex}\n",
       "</style>\n",
       "<ol class=list-inline><li>'Rps11'</li><li>'Rpn1'</li><li>'Rpn2'</li></ol>\n"
      ],
      "text/latex": [
       "\\begin{enumerate*}\n",
       "\\item 'Rps11'\n",
       "\\item 'Rpn1'\n",
       "\\item 'Rpn2'\n",
       "\\end{enumerate*}\n"
      ],
      "text/markdown": [
       "1. 'Rps11'\n",
       "2. 'Rpn1'\n",
       "3. 'Rpn2'\n",
       "\n",
       "\n"
      ],
      "text/plain": [
       "[1] \"Rps11\" \"Rpn1\"  \"Rpn2\" "
      ]
     },
     "metadata": {},
     "output_type": "display_data"
    }
   ],
   "source": [
    "f <- grepl('Rp', sym_protein_up)\n",
    "sym_protein_up[f]\n"
   ]
  },
  {
   "cell_type": "code",
   "execution_count": 170,
   "metadata": {},
   "outputs": [
    {
     "data": {
      "text/html": [
       "<style>\n",
       ".list-inline {list-style: none; margin:0; padding: 0}\n",
       ".list-inline>li {display: inline-block}\n",
       ".list-inline>li:not(:last-child)::after {content: \"\\00b7\"; padding: 0 .5ex}\n",
       "</style>\n",
       "<ol class=list-inline><li>'Rp9'</li><li>'Rpe'</li><li>'Rpia'</li><li>'Rpl12'</li><li>'Rpl14'</li><li>'Rpl18'</li><li>'Rpl22'</li><li>'Rpl22l1'</li><li>'Rpl23'</li><li>'Rpl3-ps1'</li><li>'Rpl32'</li><li>'Rpl34'</li><li>'Rpl35a'</li><li>'Rpl37'</li><li>'Rpl38'</li><li>'Rpl5'</li><li>'Rpl7a'</li><li>'Rpl8'</li><li>'Rplp0'</li><li>'Rplp1'</li><li>'Rplp2'</li><li>'Rps11'</li><li>'Rps12'</li><li>'Rps14'</li><li>'Rps15'</li><li>'Rps15a'</li><li>'Rps19'</li><li>'Rps19bp1'</li><li>'Rps20'</li><li>'Rps21'</li><li>'Rps25'</li><li>'Rps26'</li><li>'Rps27l'</li><li>'Rps3'</li><li>'Rps5'</li><li>'Rps9'</li></ol>\n"
      ],
      "text/latex": [
       "\\begin{enumerate*}\n",
       "\\item 'Rp9'\n",
       "\\item 'Rpe'\n",
       "\\item 'Rpia'\n",
       "\\item 'Rpl12'\n",
       "\\item 'Rpl14'\n",
       "\\item 'Rpl18'\n",
       "\\item 'Rpl22'\n",
       "\\item 'Rpl22l1'\n",
       "\\item 'Rpl23'\n",
       "\\item 'Rpl3-ps1'\n",
       "\\item 'Rpl32'\n",
       "\\item 'Rpl34'\n",
       "\\item 'Rpl35a'\n",
       "\\item 'Rpl37'\n",
       "\\item 'Rpl38'\n",
       "\\item 'Rpl5'\n",
       "\\item 'Rpl7a'\n",
       "\\item 'Rpl8'\n",
       "\\item 'Rplp0'\n",
       "\\item 'Rplp1'\n",
       "\\item 'Rplp2'\n",
       "\\item 'Rps11'\n",
       "\\item 'Rps12'\n",
       "\\item 'Rps14'\n",
       "\\item 'Rps15'\n",
       "\\item 'Rps15a'\n",
       "\\item 'Rps19'\n",
       "\\item 'Rps19bp1'\n",
       "\\item 'Rps20'\n",
       "\\item 'Rps21'\n",
       "\\item 'Rps25'\n",
       "\\item 'Rps26'\n",
       "\\item 'Rps27l'\n",
       "\\item 'Rps3'\n",
       "\\item 'Rps5'\n",
       "\\item 'Rps9'\n",
       "\\end{enumerate*}\n"
      ],
      "text/markdown": [
       "1. 'Rp9'\n",
       "2. 'Rpe'\n",
       "3. 'Rpia'\n",
       "4. 'Rpl12'\n",
       "5. 'Rpl14'\n",
       "6. 'Rpl18'\n",
       "7. 'Rpl22'\n",
       "8. 'Rpl22l1'\n",
       "9. 'Rpl23'\n",
       "10. 'Rpl3-ps1'\n",
       "11. 'Rpl32'\n",
       "12. 'Rpl34'\n",
       "13. 'Rpl35a'\n",
       "14. 'Rpl37'\n",
       "15. 'Rpl38'\n",
       "16. 'Rpl5'\n",
       "17. 'Rpl7a'\n",
       "18. 'Rpl8'\n",
       "19. 'Rplp0'\n",
       "20. 'Rplp1'\n",
       "21. 'Rplp2'\n",
       "22. 'Rps11'\n",
       "23. 'Rps12'\n",
       "24. 'Rps14'\n",
       "25. 'Rps15'\n",
       "26. 'Rps15a'\n",
       "27. 'Rps19'\n",
       "28. 'Rps19bp1'\n",
       "29. 'Rps20'\n",
       "30. 'Rps21'\n",
       "31. 'Rps25'\n",
       "32. 'Rps26'\n",
       "33. 'Rps27l'\n",
       "34. 'Rps3'\n",
       "35. 'Rps5'\n",
       "36. 'Rps9'\n",
       "\n",
       "\n"
      ],
      "text/plain": [
       " [1] \"Rp9\"      \"Rpe\"      \"Rpia\"     \"Rpl12\"    \"Rpl14\"    \"Rpl18\"   \n",
       " [7] \"Rpl22\"    \"Rpl22l1\"  \"Rpl23\"    \"Rpl3-ps1\" \"Rpl32\"    \"Rpl34\"   \n",
       "[13] \"Rpl35a\"   \"Rpl37\"    \"Rpl38\"    \"Rpl5\"     \"Rpl7a\"    \"Rpl8\"    \n",
       "[19] \"Rplp0\"    \"Rplp1\"    \"Rplp2\"    \"Rps11\"    \"Rps12\"    \"Rps14\"   \n",
       "[25] \"Rps15\"    \"Rps15a\"   \"Rps19\"    \"Rps19bp1\" \"Rps20\"    \"Rps21\"   \n",
       "[31] \"Rps25\"    \"Rps26\"    \"Rps27l\"   \"Rps3\"     \"Rps5\"     \"Rps9\"    "
      ]
     },
     "metadata": {},
     "output_type": "display_data"
    },
    {
     "data": {
      "text/html": [
       "36"
      ],
      "text/latex": [
       "36"
      ],
      "text/markdown": [
       "36"
      ],
      "text/plain": [
       "[1] 36"
      ]
     },
     "metadata": {},
     "output_type": "display_data"
    }
   ],
   "source": [
    "f <- grepl('Rp', sym_mrna_dn_ribo_dn)\n",
    "sym_mrna_dn_ribo_dn[f]\n",
    "length(sym_mrna_dn_ribo_dn[f])"
   ]
  },
  {
   "cell_type": "code",
   "execution_count": 171,
   "metadata": {},
   "outputs": [
    {
     "data": {
      "text/html": [
       "<style>\n",
       ".list-inline {list-style: none; margin:0; padding: 0}\n",
       ".list-inline>li {display: inline-block}\n",
       ".list-inline>li:not(:last-child)::after {content: \"\\00b7\"; padding: 0 .5ex}\n",
       "</style>\n",
       "<ol class=list-inline><li>'Acadvl'</li><li>'Acta1'</li><li>'Actb'</li><li>'Actn1'</li><li>'Actn4'</li><li>'Ak1'</li><li>'Atl3'</li><li>'B2m'</li><li>'Basp1'</li><li>'Calr'</li><li>'Cd44'</li><li>'Cdh2'</li><li>'Ckap4'</li><li>'Clu'</li><li>'Cnn3'</li><li>'Col12a1'</li><li>'Col4a1'</li><li>'Col7a1'</li><li>'Colgalt1'</li><li>'Coro1c'</li><li>'Csf1'</li><li>'Csrp1'</li><li>'Cyb5r3'</li><li>'Dbn1'</li><li>'Endod1'</li><li>'Epb41l2'</li><li>'Esyt1'</li><li>'Flna'</li><li>'Flnb'</li><li>'Fn1'</li><li>'Gla'</li><li>'Glg1'</li><li>'Gnas'</li><li>'Gns'</li><li>'Gorasp2'</li><li>'Gpc1'</li><li>'Hk2'</li><li>'Hspg2'</li><li>'Igfbp7'</li><li>'Irf2bpl'</li><li>'Irgm1'</li><li>'Itga2'</li><li>'Itgav'</li><li>'Itgb3'</li><li>'Itpr3'</li><li>'Junb'</li><li>'Jup'</li><li>'Lgmn'</li><li>'Lrrfip1'</li><li>'Map4'</li><li>'Marcks'</li><li>'Marcksl1'</li><li>'Msn'</li><li>'Mtpn'</li><li>'Myh9'</li><li>'Myl6'</li><li>'Myo1b'</li><li>'Ncam1'</li><li>'Ncstn'</li><li>'Nfkb1'</li><li>'P4hb'</li><li>'Pcyox1'</li><li>'Pcyox1l'</li><li>'Pdia3'</li><li>'Pdia4'</li><li>'Pdia6'</li><li>'Pdlim7'</li><li>'Plod2'</li><li>'Ppfibp1'</li><li>'Psap'</li><li>'Rab10'</li><li>'Rcn2'</li><li>'Rrbp1'</li><li>'Rtn4'</li><li>'Sept11'</li><li>'Sept9'</li><li>'Sfxn3'</li><li>'Sh3glb1'</li><li>'Smarca4'</li><li>'Sparc'</li><li>'Specc1'</li><li>'Sun2'</li><li>'Surf4'</li><li>'Tln1'</li><li>'Tmed9'</li><li>'Tmem43'</li><li>'Tpm1'</li><li>'Tpm4'</li><li>'Tspo'</li><li>'Txndc5'</li><li>'Ubxn4'</li><li>'Zyx'</li></ol>\n"
      ],
      "text/latex": [
       "\\begin{enumerate*}\n",
       "\\item 'Acadvl'\n",
       "\\item 'Acta1'\n",
       "\\item 'Actb'\n",
       "\\item 'Actn1'\n",
       "\\item 'Actn4'\n",
       "\\item 'Ak1'\n",
       "\\item 'Atl3'\n",
       "\\item 'B2m'\n",
       "\\item 'Basp1'\n",
       "\\item 'Calr'\n",
       "\\item 'Cd44'\n",
       "\\item 'Cdh2'\n",
       "\\item 'Ckap4'\n",
       "\\item 'Clu'\n",
       "\\item 'Cnn3'\n",
       "\\item 'Col12a1'\n",
       "\\item 'Col4a1'\n",
       "\\item 'Col7a1'\n",
       "\\item 'Colgalt1'\n",
       "\\item 'Coro1c'\n",
       "\\item 'Csf1'\n",
       "\\item 'Csrp1'\n",
       "\\item 'Cyb5r3'\n",
       "\\item 'Dbn1'\n",
       "\\item 'Endod1'\n",
       "\\item 'Epb41l2'\n",
       "\\item 'Esyt1'\n",
       "\\item 'Flna'\n",
       "\\item 'Flnb'\n",
       "\\item 'Fn1'\n",
       "\\item 'Gla'\n",
       "\\item 'Glg1'\n",
       "\\item 'Gnas'\n",
       "\\item 'Gns'\n",
       "\\item 'Gorasp2'\n",
       "\\item 'Gpc1'\n",
       "\\item 'Hk2'\n",
       "\\item 'Hspg2'\n",
       "\\item 'Igfbp7'\n",
       "\\item 'Irf2bpl'\n",
       "\\item 'Irgm1'\n",
       "\\item 'Itga2'\n",
       "\\item 'Itgav'\n",
       "\\item 'Itgb3'\n",
       "\\item 'Itpr3'\n",
       "\\item 'Junb'\n",
       "\\item 'Jup'\n",
       "\\item 'Lgmn'\n",
       "\\item 'Lrrfip1'\n",
       "\\item 'Map4'\n",
       "\\item 'Marcks'\n",
       "\\item 'Marcksl1'\n",
       "\\item 'Msn'\n",
       "\\item 'Mtpn'\n",
       "\\item 'Myh9'\n",
       "\\item 'Myl6'\n",
       "\\item 'Myo1b'\n",
       "\\item 'Ncam1'\n",
       "\\item 'Ncstn'\n",
       "\\item 'Nfkb1'\n",
       "\\item 'P4hb'\n",
       "\\item 'Pcyox1'\n",
       "\\item 'Pcyox1l'\n",
       "\\item 'Pdia3'\n",
       "\\item 'Pdia4'\n",
       "\\item 'Pdia6'\n",
       "\\item 'Pdlim7'\n",
       "\\item 'Plod2'\n",
       "\\item 'Ppfibp1'\n",
       "\\item 'Psap'\n",
       "\\item 'Rab10'\n",
       "\\item 'Rcn2'\n",
       "\\item 'Rrbp1'\n",
       "\\item 'Rtn4'\n",
       "\\item 'Sept11'\n",
       "\\item 'Sept9'\n",
       "\\item 'Sfxn3'\n",
       "\\item 'Sh3glb1'\n",
       "\\item 'Smarca4'\n",
       "\\item 'Sparc'\n",
       "\\item 'Specc1'\n",
       "\\item 'Sun2'\n",
       "\\item 'Surf4'\n",
       "\\item 'Tln1'\n",
       "\\item 'Tmed9'\n",
       "\\item 'Tmem43'\n",
       "\\item 'Tpm1'\n",
       "\\item 'Tpm4'\n",
       "\\item 'Tspo'\n",
       "\\item 'Txndc5'\n",
       "\\item 'Ubxn4'\n",
       "\\item 'Zyx'\n",
       "\\end{enumerate*}\n"
      ],
      "text/markdown": [
       "1. 'Acadvl'\n",
       "2. 'Acta1'\n",
       "3. 'Actb'\n",
       "4. 'Actn1'\n",
       "5. 'Actn4'\n",
       "6. 'Ak1'\n",
       "7. 'Atl3'\n",
       "8. 'B2m'\n",
       "9. 'Basp1'\n",
       "10. 'Calr'\n",
       "11. 'Cd44'\n",
       "12. 'Cdh2'\n",
       "13. 'Ckap4'\n",
       "14. 'Clu'\n",
       "15. 'Cnn3'\n",
       "16. 'Col12a1'\n",
       "17. 'Col4a1'\n",
       "18. 'Col7a1'\n",
       "19. 'Colgalt1'\n",
       "20. 'Coro1c'\n",
       "21. 'Csf1'\n",
       "22. 'Csrp1'\n",
       "23. 'Cyb5r3'\n",
       "24. 'Dbn1'\n",
       "25. 'Endod1'\n",
       "26. 'Epb41l2'\n",
       "27. 'Esyt1'\n",
       "28. 'Flna'\n",
       "29. 'Flnb'\n",
       "30. 'Fn1'\n",
       "31. 'Gla'\n",
       "32. 'Glg1'\n",
       "33. 'Gnas'\n",
       "34. 'Gns'\n",
       "35. 'Gorasp2'\n",
       "36. 'Gpc1'\n",
       "37. 'Hk2'\n",
       "38. 'Hspg2'\n",
       "39. 'Igfbp7'\n",
       "40. 'Irf2bpl'\n",
       "41. 'Irgm1'\n",
       "42. 'Itga2'\n",
       "43. 'Itgav'\n",
       "44. 'Itgb3'\n",
       "45. 'Itpr3'\n",
       "46. 'Junb'\n",
       "47. 'Jup'\n",
       "48. 'Lgmn'\n",
       "49. 'Lrrfip1'\n",
       "50. 'Map4'\n",
       "51. 'Marcks'\n",
       "52. 'Marcksl1'\n",
       "53. 'Msn'\n",
       "54. 'Mtpn'\n",
       "55. 'Myh9'\n",
       "56. 'Myl6'\n",
       "57. 'Myo1b'\n",
       "58. 'Ncam1'\n",
       "59. 'Ncstn'\n",
       "60. 'Nfkb1'\n",
       "61. 'P4hb'\n",
       "62. 'Pcyox1'\n",
       "63. 'Pcyox1l'\n",
       "64. 'Pdia3'\n",
       "65. 'Pdia4'\n",
       "66. 'Pdia6'\n",
       "67. 'Pdlim7'\n",
       "68. 'Plod2'\n",
       "69. 'Ppfibp1'\n",
       "70. 'Psap'\n",
       "71. 'Rab10'\n",
       "72. 'Rcn2'\n",
       "73. 'Rrbp1'\n",
       "74. 'Rtn4'\n",
       "75. 'Sept11'\n",
       "76. 'Sept9'\n",
       "77. 'Sfxn3'\n",
       "78. 'Sh3glb1'\n",
       "79. 'Smarca4'\n",
       "80. 'Sparc'\n",
       "81. 'Specc1'\n",
       "82. 'Sun2'\n",
       "83. 'Surf4'\n",
       "84. 'Tln1'\n",
       "85. 'Tmed9'\n",
       "86. 'Tmem43'\n",
       "87. 'Tpm1'\n",
       "88. 'Tpm4'\n",
       "89. 'Tspo'\n",
       "90. 'Txndc5'\n",
       "91. 'Ubxn4'\n",
       "92. 'Zyx'\n",
       "\n",
       "\n"
      ],
      "text/plain": [
       " [1] \"Acadvl\"   \"Acta1\"    \"Actb\"     \"Actn1\"    \"Actn4\"    \"Ak1\"     \n",
       " [7] \"Atl3\"     \"B2m\"      \"Basp1\"    \"Calr\"     \"Cd44\"     \"Cdh2\"    \n",
       "[13] \"Ckap4\"    \"Clu\"      \"Cnn3\"     \"Col12a1\"  \"Col4a1\"   \"Col7a1\"  \n",
       "[19] \"Colgalt1\" \"Coro1c\"   \"Csf1\"     \"Csrp1\"    \"Cyb5r3\"   \"Dbn1\"    \n",
       "[25] \"Endod1\"   \"Epb41l2\"  \"Esyt1\"    \"Flna\"     \"Flnb\"     \"Fn1\"     \n",
       "[31] \"Gla\"      \"Glg1\"     \"Gnas\"     \"Gns\"      \"Gorasp2\"  \"Gpc1\"    \n",
       "[37] \"Hk2\"      \"Hspg2\"    \"Igfbp7\"   \"Irf2bpl\"  \"Irgm1\"    \"Itga2\"   \n",
       "[43] \"Itgav\"    \"Itgb3\"    \"Itpr3\"    \"Junb\"     \"Jup\"      \"Lgmn\"    \n",
       "[49] \"Lrrfip1\"  \"Map4\"     \"Marcks\"   \"Marcksl1\" \"Msn\"      \"Mtpn\"    \n",
       "[55] \"Myh9\"     \"Myl6\"     \"Myo1b\"    \"Ncam1\"    \"Ncstn\"    \"Nfkb1\"   \n",
       "[61] \"P4hb\"     \"Pcyox1\"   \"Pcyox1l\"  \"Pdia3\"    \"Pdia4\"    \"Pdia6\"   \n",
       "[67] \"Pdlim7\"   \"Plod2\"    \"Ppfibp1\"  \"Psap\"     \"Rab10\"    \"Rcn2\"    \n",
       "[73] \"Rrbp1\"    \"Rtn4\"     \"Sept11\"   \"Sept9\"    \"Sfxn3\"    \"Sh3glb1\" \n",
       "[79] \"Smarca4\"  \"Sparc\"    \"Specc1\"   \"Sun2\"     \"Surf4\"    \"Tln1\"    \n",
       "[85] \"Tmed9\"    \"Tmem43\"   \"Tpm1\"     \"Tpm4\"     \"Tspo\"     \"Txndc5\"  \n",
       "[91] \"Ubxn4\"    \"Zyx\"     "
      ]
     },
     "metadata": {},
     "output_type": "display_data"
    },
    {
     "data": {
      "text/html": [
       "92"
      ],
      "text/latex": [
       "92"
      ],
      "text/markdown": [
       "92"
      ],
      "text/plain": [
       "[1] 92"
      ]
     },
     "metadata": {},
     "output_type": "display_data"
    },
    {
     "data": {
      "text/html": [
       "<style>\n",
       ".list-inline {list-style: none; margin:0; padding: 0}\n",
       ".list-inline>li {display: inline-block}\n",
       ".list-inline>li:not(:last-child)::after {content: \"\\00b7\"; padding: 0 .5ex}\n",
       "</style>\n",
       "<ol class=list-inline><li>'Abcd3'</li><li>'Acsl4'</li><li>'Adh5'</li><li>'Adh7'</li><li>'Adsl'</li><li>'Adss'</li><li>'Aimp1'</li><li>'Akr1c13'</li><li>'Aldoa'</li><li>'Anxa11'</li><li>'Anxa13'</li><li>'Anxa3'</li><li>'Anxa4'</li><li>'Asns'</li><li>'Atp1a1'</li><li>'Banf1'</li><li>'Bcas2'</li><li>'Bpnt1'</li><li>'Bsg'</li><li>'Cab39'</li><li>'Cat'</li><li>'Cdh1'</li><li>'Cops3'</li><li>'Cpox'</li><li>'Cxadr'</li><li>'Cyb5a'</li><li>'Dsg2'</li><li>'Eef1d'</li><li>'Epha2'</li><li>'Eps8l2'</li><li>'Esd'</li><li>'Esyt2'</li><li>'Ezr'</li><li>'Fkbp4'</li><li>'Galk1'</li><li>'Gimd1'</li><li>'Got1'</li><li>'Gstp1'</li><li>'Hdgf'</li><li>'Hint1'</li><li>'Hist1h2bc'</li><li>'Idh1'</li><li>'Impa1'</li><li>'Lap3'</li><li>'Ldha'</li><li>'Lgals2'</li><li>'Lgals3'</li><li>'Lgals9'</li><li>'Maoa'</li><li>'Me1'</li><li>'Mpp1'</li><li>'Mrps22'</li><li>'Mthfd1'</li><li>'Nars'</li><li>'Nip7'</li><li>'Nsun2'</li><li>'Oxct1'</li><li>'Pa2g4'</li><li>'Pacsin2'</li><li>'Pcbp2'</li><li>'Phgdh'</li><li>'Pkm'</li><li>'Plac8'</li><li>'Plin3'</li><li>'Prdx3'</li><li>'Psat1'</li><li>'Rfk'</li><li>'Rpl12'</li><li>'Rpl32'</li><li>'Rplp1'</li><li>'Rps3'</li><li>'Sars'</li><li>'Slc12a2'</li><li>'Slc16a1'</li><li>'Slc25a10'</li><li>'Slc25a12'</li><li>'Slc39a4'</li><li>'Slc9a3r1'</li><li>'Sod1'</li><li>'Stom'</li><li>'Stt3b'</li><li>'Tfrc'</li><li>'Tmem176b'</li><li>'Tpd52'</li><li>'Tpi1'</li><li>'Tspan8'</li><li>'Tubb4b'</li><li>'Uap1l1'</li><li>'Ugdh'</li><li>'Ugt1a7c'</li><li>'Vars'</li><li>'Vps26a'</li></ol>\n"
      ],
      "text/latex": [
       "\\begin{enumerate*}\n",
       "\\item 'Abcd3'\n",
       "\\item 'Acsl4'\n",
       "\\item 'Adh5'\n",
       "\\item 'Adh7'\n",
       "\\item 'Adsl'\n",
       "\\item 'Adss'\n",
       "\\item 'Aimp1'\n",
       "\\item 'Akr1c13'\n",
       "\\item 'Aldoa'\n",
       "\\item 'Anxa11'\n",
       "\\item 'Anxa13'\n",
       "\\item 'Anxa3'\n",
       "\\item 'Anxa4'\n",
       "\\item 'Asns'\n",
       "\\item 'Atp1a1'\n",
       "\\item 'Banf1'\n",
       "\\item 'Bcas2'\n",
       "\\item 'Bpnt1'\n",
       "\\item 'Bsg'\n",
       "\\item 'Cab39'\n",
       "\\item 'Cat'\n",
       "\\item 'Cdh1'\n",
       "\\item 'Cops3'\n",
       "\\item 'Cpox'\n",
       "\\item 'Cxadr'\n",
       "\\item 'Cyb5a'\n",
       "\\item 'Dsg2'\n",
       "\\item 'Eef1d'\n",
       "\\item 'Epha2'\n",
       "\\item 'Eps8l2'\n",
       "\\item 'Esd'\n",
       "\\item 'Esyt2'\n",
       "\\item 'Ezr'\n",
       "\\item 'Fkbp4'\n",
       "\\item 'Galk1'\n",
       "\\item 'Gimd1'\n",
       "\\item 'Got1'\n",
       "\\item 'Gstp1'\n",
       "\\item 'Hdgf'\n",
       "\\item 'Hint1'\n",
       "\\item 'Hist1h2bc'\n",
       "\\item 'Idh1'\n",
       "\\item 'Impa1'\n",
       "\\item 'Lap3'\n",
       "\\item 'Ldha'\n",
       "\\item 'Lgals2'\n",
       "\\item 'Lgals3'\n",
       "\\item 'Lgals9'\n",
       "\\item 'Maoa'\n",
       "\\item 'Me1'\n",
       "\\item 'Mpp1'\n",
       "\\item 'Mrps22'\n",
       "\\item 'Mthfd1'\n",
       "\\item 'Nars'\n",
       "\\item 'Nip7'\n",
       "\\item 'Nsun2'\n",
       "\\item 'Oxct1'\n",
       "\\item 'Pa2g4'\n",
       "\\item 'Pacsin2'\n",
       "\\item 'Pcbp2'\n",
       "\\item 'Phgdh'\n",
       "\\item 'Pkm'\n",
       "\\item 'Plac8'\n",
       "\\item 'Plin3'\n",
       "\\item 'Prdx3'\n",
       "\\item 'Psat1'\n",
       "\\item 'Rfk'\n",
       "\\item 'Rpl12'\n",
       "\\item 'Rpl32'\n",
       "\\item 'Rplp1'\n",
       "\\item 'Rps3'\n",
       "\\item 'Sars'\n",
       "\\item 'Slc12a2'\n",
       "\\item 'Slc16a1'\n",
       "\\item 'Slc25a10'\n",
       "\\item 'Slc25a12'\n",
       "\\item 'Slc39a4'\n",
       "\\item 'Slc9a3r1'\n",
       "\\item 'Sod1'\n",
       "\\item 'Stom'\n",
       "\\item 'Stt3b'\n",
       "\\item 'Tfrc'\n",
       "\\item 'Tmem176b'\n",
       "\\item 'Tpd52'\n",
       "\\item 'Tpi1'\n",
       "\\item 'Tspan8'\n",
       "\\item 'Tubb4b'\n",
       "\\item 'Uap1l1'\n",
       "\\item 'Ugdh'\n",
       "\\item 'Ugt1a7c'\n",
       "\\item 'Vars'\n",
       "\\item 'Vps26a'\n",
       "\\end{enumerate*}\n"
      ],
      "text/markdown": [
       "1. 'Abcd3'\n",
       "2. 'Acsl4'\n",
       "3. 'Adh5'\n",
       "4. 'Adh7'\n",
       "5. 'Adsl'\n",
       "6. 'Adss'\n",
       "7. 'Aimp1'\n",
       "8. 'Akr1c13'\n",
       "9. 'Aldoa'\n",
       "10. 'Anxa11'\n",
       "11. 'Anxa13'\n",
       "12. 'Anxa3'\n",
       "13. 'Anxa4'\n",
       "14. 'Asns'\n",
       "15. 'Atp1a1'\n",
       "16. 'Banf1'\n",
       "17. 'Bcas2'\n",
       "18. 'Bpnt1'\n",
       "19. 'Bsg'\n",
       "20. 'Cab39'\n",
       "21. 'Cat'\n",
       "22. 'Cdh1'\n",
       "23. 'Cops3'\n",
       "24. 'Cpox'\n",
       "25. 'Cxadr'\n",
       "26. 'Cyb5a'\n",
       "27. 'Dsg2'\n",
       "28. 'Eef1d'\n",
       "29. 'Epha2'\n",
       "30. 'Eps8l2'\n",
       "31. 'Esd'\n",
       "32. 'Esyt2'\n",
       "33. 'Ezr'\n",
       "34. 'Fkbp4'\n",
       "35. 'Galk1'\n",
       "36. 'Gimd1'\n",
       "37. 'Got1'\n",
       "38. 'Gstp1'\n",
       "39. 'Hdgf'\n",
       "40. 'Hint1'\n",
       "41. 'Hist1h2bc'\n",
       "42. 'Idh1'\n",
       "43. 'Impa1'\n",
       "44. 'Lap3'\n",
       "45. 'Ldha'\n",
       "46. 'Lgals2'\n",
       "47. 'Lgals3'\n",
       "48. 'Lgals9'\n",
       "49. 'Maoa'\n",
       "50. 'Me1'\n",
       "51. 'Mpp1'\n",
       "52. 'Mrps22'\n",
       "53. 'Mthfd1'\n",
       "54. 'Nars'\n",
       "55. 'Nip7'\n",
       "56. 'Nsun2'\n",
       "57. 'Oxct1'\n",
       "58. 'Pa2g4'\n",
       "59. 'Pacsin2'\n",
       "60. 'Pcbp2'\n",
       "61. 'Phgdh'\n",
       "62. 'Pkm'\n",
       "63. 'Plac8'\n",
       "64. 'Plin3'\n",
       "65. 'Prdx3'\n",
       "66. 'Psat1'\n",
       "67. 'Rfk'\n",
       "68. 'Rpl12'\n",
       "69. 'Rpl32'\n",
       "70. 'Rplp1'\n",
       "71. 'Rps3'\n",
       "72. 'Sars'\n",
       "73. 'Slc12a2'\n",
       "74. 'Slc16a1'\n",
       "75. 'Slc25a10'\n",
       "76. 'Slc25a12'\n",
       "77. 'Slc39a4'\n",
       "78. 'Slc9a3r1'\n",
       "79. 'Sod1'\n",
       "80. 'Stom'\n",
       "81. 'Stt3b'\n",
       "82. 'Tfrc'\n",
       "83. 'Tmem176b'\n",
       "84. 'Tpd52'\n",
       "85. 'Tpi1'\n",
       "86. 'Tspan8'\n",
       "87. 'Tubb4b'\n",
       "88. 'Uap1l1'\n",
       "89. 'Ugdh'\n",
       "90. 'Ugt1a7c'\n",
       "91. 'Vars'\n",
       "92. 'Vps26a'\n",
       "\n",
       "\n"
      ],
      "text/plain": [
       " [1] \"Abcd3\"     \"Acsl4\"     \"Adh5\"      \"Adh7\"      \"Adsl\"      \"Adss\"     \n",
       " [7] \"Aimp1\"     \"Akr1c13\"   \"Aldoa\"     \"Anxa11\"    \"Anxa13\"    \"Anxa3\"    \n",
       "[13] \"Anxa4\"     \"Asns\"      \"Atp1a1\"    \"Banf1\"     \"Bcas2\"     \"Bpnt1\"    \n",
       "[19] \"Bsg\"       \"Cab39\"     \"Cat\"       \"Cdh1\"      \"Cops3\"     \"Cpox\"     \n",
       "[25] \"Cxadr\"     \"Cyb5a\"     \"Dsg2\"      \"Eef1d\"     \"Epha2\"     \"Eps8l2\"   \n",
       "[31] \"Esd\"       \"Esyt2\"     \"Ezr\"       \"Fkbp4\"     \"Galk1\"     \"Gimd1\"    \n",
       "[37] \"Got1\"      \"Gstp1\"     \"Hdgf\"      \"Hint1\"     \"Hist1h2bc\" \"Idh1\"     \n",
       "[43] \"Impa1\"     \"Lap3\"      \"Ldha\"      \"Lgals2\"    \"Lgals3\"    \"Lgals9\"   \n",
       "[49] \"Maoa\"      \"Me1\"       \"Mpp1\"      \"Mrps22\"    \"Mthfd1\"    \"Nars\"     \n",
       "[55] \"Nip7\"      \"Nsun2\"     \"Oxct1\"     \"Pa2g4\"     \"Pacsin2\"   \"Pcbp2\"    \n",
       "[61] \"Phgdh\"     \"Pkm\"       \"Plac8\"     \"Plin3\"     \"Prdx3\"     \"Psat1\"    \n",
       "[67] \"Rfk\"       \"Rpl12\"     \"Rpl32\"     \"Rplp1\"     \"Rps3\"      \"Sars\"     \n",
       "[73] \"Slc12a2\"   \"Slc16a1\"   \"Slc25a10\"  \"Slc25a12\"  \"Slc39a4\"   \"Slc9a3r1\" \n",
       "[79] \"Sod1\"      \"Stom\"      \"Stt3b\"     \"Tfrc\"      \"Tmem176b\"  \"Tpd52\"    \n",
       "[85] \"Tpi1\"      \"Tspan8\"    \"Tubb4b\"    \"Uap1l1\"    \"Ugdh\"      \"Ugt1a7c\"  \n",
       "[91] \"Vars\"      \"Vps26a\"   "
      ]
     },
     "metadata": {},
     "output_type": "display_data"
    },
    {
     "data": {
      "text/html": [
       "92"
      ],
      "text/latex": [
       "92"
      ],
      "text/markdown": [
       "92"
      ],
      "text/plain": [
       "[1] 92"
      ]
     },
     "metadata": {},
     "output_type": "display_data"
    }
   ],
   "source": [
    "\n",
    "sym_up_up2 <- intersect(sym_mrna_up_ribo_up, sym_protein_up)\n",
    "sym_up_up2\n",
    "length(sym_up_up2)\n",
    "\n",
    "sym_dn_dn2 <- intersect(sym_mrna_dn_ribo_dn, sym_protein_dn)\n",
    "sym_dn_dn2\n",
    "length(sym_dn_dn2)\n"
   ]
  },
  {
   "cell_type": "code",
   "execution_count": 172,
   "metadata": {},
   "outputs": [
    {
     "data": {
      "text/html": [
       "<table>\n",
       "<caption>A data.frame: 6 × 31</caption>\n",
       "<thead>\n",
       "\t<tr><th></th><th scope=col>seqnames</th><th scope=col>start</th><th scope=col>end</th><th scope=col>width</th><th scope=col>strand</th><th scope=col>source</th><th scope=col>unt48.transcription</th><th scope=col>tgfb48.transcription</th><th scope=col>tgfbCX5461100nm.transcription</th><th scope=col>log2FCunt48VStgfb48.transcription</th><th scope=col>⋯</th><th scope=col>log2FCunt48VStgfb48.translation</th><th scope=col>FDRunt48VStgfb48.translation</th><th scope=col>Punt48VStgfb48.translation</th><th scope=col>log2FCtgfbVStgfbCX5461100nm.translation</th><th scope=col>FDRtgfbVStgfbCX5461100nm.translation</th><th scope=col>PtgfbVStgfbCX5461100nm.translation</th><th scope=col>unt48.tgfb48.DEtranslation</th><th scope=col>tgfb48.tgfbCX5461100nm.DEtranslation</th><th scope=col>reversible.translation</th><th scope=col>biotype</th></tr>\n",
       "\t<tr><th></th><th scope=col>&lt;fct&gt;</th><th scope=col>&lt;int&gt;</th><th scope=col>&lt;int&gt;</th><th scope=col>&lt;int&gt;</th><th scope=col>&lt;fct&gt;</th><th scope=col>&lt;fct&gt;</th><th scope=col>&lt;dbl&gt;</th><th scope=col>&lt;dbl&gt;</th><th scope=col>&lt;dbl&gt;</th><th scope=col>&lt;dbl&gt;</th><th scope=col>⋯</th><th scope=col>&lt;dbl&gt;</th><th scope=col>&lt;dbl&gt;</th><th scope=col>&lt;dbl&gt;</th><th scope=col>&lt;dbl&gt;</th><th scope=col>&lt;dbl&gt;</th><th scope=col>&lt;dbl&gt;</th><th scope=col>&lt;chr&gt;</th><th scope=col>&lt;chr&gt;</th><th scope=col>&lt;chr&gt;</th><th scope=col>&lt;chr&gt;</th></tr>\n",
       "</thead>\n",
       "<tbody>\n",
       "\t<tr><th scope=row>Rpl15</th><td>14</td><td> 18267823</td><td> 18271391</td><td>3569</td><td>-</td><td>ensembl_havana</td><td>5.459518</td><td>4.991497</td><td>4.771384</td><td>-0.4680213</td><td>⋯</td><td>-1.2487127</td><td>3.021658e-01</td><td>0.1271681281</td><td>-0.5452805</td><td>0.77800948</td><td>0.5947925848</td><td>notSig</td><td>notSig</td><td>notSig</td><td>protein_coding</td></tr>\n",
       "\t<tr><th scope=row>Rpl32</th><td>6 </td><td>115805505</td><td>115808747</td><td>3243</td><td>-</td><td>ensembl_havana</td><td>6.734843</td><td>6.097129</td><td>5.726140</td><td>-0.6377142</td><td>⋯</td><td>-0.6060058</td><td>2.357606e-03</td><td>0.0002635011</td><td> 0.5770278</td><td>0.01015831</td><td>0.0009291078</td><td>down  </td><td>up    </td><td>downUp</td><td>protein_coding</td></tr>\n",
       "\t<tr><th scope=row>Rplp1</th><td>9 </td><td> 61913284</td><td> 61914542</td><td>1259</td><td>-</td><td>ensembl_havana</td><td>7.702973</td><td>7.016074</td><td>6.660871</td><td>-0.6868989</td><td>⋯</td><td>-0.9418643</td><td>3.994000e-08</td><td>0.0000000014</td><td>-0.3538803</td><td>0.14140751</td><td>0.0369959115</td><td>down  </td><td>notSig</td><td>notSig</td><td>protein_coding</td></tr>\n",
       "\t<tr><th scope=row>Rps28</th><td>17</td><td> 33819027</td><td> 33824562</td><td>5536</td><td>-</td><td>ensembl_havana</td><td>6.231407</td><td>5.831708</td><td>5.656450</td><td>-0.3996990</td><td>⋯</td><td>        NA</td><td>          NA</td><td>          NA</td><td>        NA</td><td>        NA</td><td>          NA</td><td>NA    </td><td>NA    </td><td>NA    </td><td>protein_coding</td></tr>\n",
       "\t<tr><th scope=row>Rps3</th><td>7 </td><td> 99477896</td><td> 99483738</td><td>5843</td><td>-</td><td>ensembl_havana</td><td>7.702639</td><td>7.053267</td><td>6.729972</td><td>-0.6493718</td><td>⋯</td><td>-0.7147533</td><td>0.000000e+00</td><td>0.0000000000</td><td> 0.6959434</td><td>0.00000000</td><td>0.0000000000</td><td>down  </td><td>up    </td><td>downUp</td><td>protein_coding</td></tr>\n",
       "\t<tr><th scope=row>Rpsa</th><td>9 </td><td>120127689</td><td>120132369</td><td>4681</td><td>+</td><td>ensembl_havana</td><td>8.605925</td><td>8.030752</td><td>7.561042</td><td>-0.5751733</td><td>⋯</td><td>        NA</td><td>          NA</td><td>          NA</td><td>        NA</td><td>        NA</td><td>          NA</td><td>NA    </td><td>NA    </td><td>NA    </td><td>protein_coding</td></tr>\n",
       "</tbody>\n",
       "</table>\n"
      ],
      "text/latex": [
       "A data.frame: 6 × 31\n",
       "\\begin{tabular}{r|lllllllllllllllllllll}\n",
       "  & seqnames & start & end & width & strand & source & unt48.transcription & tgfb48.transcription & tgfbCX5461100nm.transcription & log2FCunt48VStgfb48.transcription & ⋯ & log2FCunt48VStgfb48.translation & FDRunt48VStgfb48.translation & Punt48VStgfb48.translation & log2FCtgfbVStgfbCX5461100nm.translation & FDRtgfbVStgfbCX5461100nm.translation & PtgfbVStgfbCX5461100nm.translation & unt48.tgfb48.DEtranslation & tgfb48.tgfbCX5461100nm.DEtranslation & reversible.translation & biotype\\\\\n",
       "  & <fct> & <int> & <int> & <int> & <fct> & <fct> & <dbl> & <dbl> & <dbl> & <dbl> & ⋯ & <dbl> & <dbl> & <dbl> & <dbl> & <dbl> & <dbl> & <chr> & <chr> & <chr> & <chr>\\\\\n",
       "\\hline\n",
       "\tRpl15 & 14 &  18267823 &  18271391 & 3569 & - & ensembl\\_havana & 5.459518 & 4.991497 & 4.771384 & -0.4680213 & ⋯ & -1.2487127 & 3.021658e-01 & 0.1271681281 & -0.5452805 & 0.77800948 & 0.5947925848 & notSig & notSig & notSig & protein\\_coding\\\\\n",
       "\tRpl32 & 6  & 115805505 & 115808747 & 3243 & - & ensembl\\_havana & 6.734843 & 6.097129 & 5.726140 & -0.6377142 & ⋯ & -0.6060058 & 2.357606e-03 & 0.0002635011 &  0.5770278 & 0.01015831 & 0.0009291078 & down   & up     & downUp & protein\\_coding\\\\\n",
       "\tRplp1 & 9  &  61913284 &  61914542 & 1259 & - & ensembl\\_havana & 7.702973 & 7.016074 & 6.660871 & -0.6868989 & ⋯ & -0.9418643 & 3.994000e-08 & 0.0000000014 & -0.3538803 & 0.14140751 & 0.0369959115 & down   & notSig & notSig & protein\\_coding\\\\\n",
       "\tRps28 & 17 &  33819027 &  33824562 & 5536 & - & ensembl\\_havana & 6.231407 & 5.831708 & 5.656450 & -0.3996990 & ⋯ &         NA &           NA &           NA &         NA &         NA &           NA & NA     & NA     & NA     & protein\\_coding\\\\\n",
       "\tRps3 & 7  &  99477896 &  99483738 & 5843 & - & ensembl\\_havana & 7.702639 & 7.053267 & 6.729972 & -0.6493718 & ⋯ & -0.7147533 & 0.000000e+00 & 0.0000000000 &  0.6959434 & 0.00000000 & 0.0000000000 & down   & up     & downUp & protein\\_coding\\\\\n",
       "\tRpsa & 9  & 120127689 & 120132369 & 4681 & + & ensembl\\_havana & 8.605925 & 8.030752 & 7.561042 & -0.5751733 & ⋯ &         NA &           NA &           NA &         NA &         NA &           NA & NA     & NA     & NA     & protein\\_coding\\\\\n",
       "\\end{tabular}\n"
      ],
      "text/markdown": [
       "\n",
       "A data.frame: 6 × 31\n",
       "\n",
       "| <!--/--> | seqnames &lt;fct&gt; | start &lt;int&gt; | end &lt;int&gt; | width &lt;int&gt; | strand &lt;fct&gt; | source &lt;fct&gt; | unt48.transcription &lt;dbl&gt; | tgfb48.transcription &lt;dbl&gt; | tgfbCX5461100nm.transcription &lt;dbl&gt; | log2FCunt48VStgfb48.transcription &lt;dbl&gt; | ⋯ ⋯ | log2FCunt48VStgfb48.translation &lt;dbl&gt; | FDRunt48VStgfb48.translation &lt;dbl&gt; | Punt48VStgfb48.translation &lt;dbl&gt; | log2FCtgfbVStgfbCX5461100nm.translation &lt;dbl&gt; | FDRtgfbVStgfbCX5461100nm.translation &lt;dbl&gt; | PtgfbVStgfbCX5461100nm.translation &lt;dbl&gt; | unt48.tgfb48.DEtranslation &lt;chr&gt; | tgfb48.tgfbCX5461100nm.DEtranslation &lt;chr&gt; | reversible.translation &lt;chr&gt; | biotype &lt;chr&gt; |\n",
       "|---|---|---|---|---|---|---|---|---|---|---|---|---|---|---|---|---|---|---|---|---|---|\n",
       "| Rpl15 | 14 |  18267823 |  18271391 | 3569 | - | ensembl_havana | 5.459518 | 4.991497 | 4.771384 | -0.4680213 | ⋯ | -1.2487127 | 3.021658e-01 | 0.1271681281 | -0.5452805 | 0.77800948 | 0.5947925848 | notSig | notSig | notSig | protein_coding |\n",
       "| Rpl32 | 6  | 115805505 | 115808747 | 3243 | - | ensembl_havana | 6.734843 | 6.097129 | 5.726140 | -0.6377142 | ⋯ | -0.6060058 | 2.357606e-03 | 0.0002635011 |  0.5770278 | 0.01015831 | 0.0009291078 | down   | up     | downUp | protein_coding |\n",
       "| Rplp1 | 9  |  61913284 |  61914542 | 1259 | - | ensembl_havana | 7.702973 | 7.016074 | 6.660871 | -0.6868989 | ⋯ | -0.9418643 | 3.994000e-08 | 0.0000000014 | -0.3538803 | 0.14140751 | 0.0369959115 | down   | notSig | notSig | protein_coding |\n",
       "| Rps28 | 17 |  33819027 |  33824562 | 5536 | - | ensembl_havana | 6.231407 | 5.831708 | 5.656450 | -0.3996990 | ⋯ |         NA |           NA |           NA |         NA |         NA |           NA | NA     | NA     | NA     | protein_coding |\n",
       "| Rps3 | 7  |  99477896 |  99483738 | 5843 | - | ensembl_havana | 7.702639 | 7.053267 | 6.729972 | -0.6493718 | ⋯ | -0.7147533 | 0.000000e+00 | 0.0000000000 |  0.6959434 | 0.00000000 | 0.0000000000 | down   | up     | downUp | protein_coding |\n",
       "| Rpsa | 9  | 120127689 | 120132369 | 4681 | + | ensembl_havana | 8.605925 | 8.030752 | 7.561042 | -0.5751733 | ⋯ |         NA |           NA |           NA |         NA |         NA |           NA | NA     | NA     | NA     | protein_coding |\n",
       "\n"
      ],
      "text/plain": [
       "      seqnames start     end       width strand source        \n",
       "Rpl15 14        18267823  18271391 3569  -      ensembl_havana\n",
       "Rpl32 6        115805505 115808747 3243  -      ensembl_havana\n",
       "Rplp1 9         61913284  61914542 1259  -      ensembl_havana\n",
       "Rps28 17        33819027  33824562 5536  -      ensembl_havana\n",
       "Rps3  7         99477896  99483738 5843  -      ensembl_havana\n",
       "Rpsa  9        120127689 120132369 4681  +      ensembl_havana\n",
       "      unt48.transcription tgfb48.transcription tgfbCX5461100nm.transcription\n",
       "Rpl15 5.459518            4.991497             4.771384                     \n",
       "Rpl32 6.734843            6.097129             5.726140                     \n",
       "Rplp1 7.702973            7.016074             6.660871                     \n",
       "Rps28 6.231407            5.831708             5.656450                     \n",
       "Rps3  7.702639            7.053267             6.729972                     \n",
       "Rpsa  8.605925            8.030752             7.561042                     \n",
       "      log2FCunt48VStgfb48.transcription ⋯ log2FCunt48VStgfb48.translation\n",
       "Rpl15 -0.4680213                        ⋯ -1.2487127                     \n",
       "Rpl32 -0.6377142                        ⋯ -0.6060058                     \n",
       "Rplp1 -0.6868989                        ⋯ -0.9418643                     \n",
       "Rps28 -0.3996990                        ⋯         NA                     \n",
       "Rps3  -0.6493718                        ⋯ -0.7147533                     \n",
       "Rpsa  -0.5751733                        ⋯         NA                     \n",
       "      FDRunt48VStgfb48.translation Punt48VStgfb48.translation\n",
       "Rpl15 3.021658e-01                 0.1271681281              \n",
       "Rpl32 2.357606e-03                 0.0002635011              \n",
       "Rplp1 3.994000e-08                 0.0000000014              \n",
       "Rps28           NA                           NA              \n",
       "Rps3  0.000000e+00                 0.0000000000              \n",
       "Rpsa            NA                           NA              \n",
       "      log2FCtgfbVStgfbCX5461100nm.translation\n",
       "Rpl15 -0.5452805                             \n",
       "Rpl32  0.5770278                             \n",
       "Rplp1 -0.3538803                             \n",
       "Rps28         NA                             \n",
       "Rps3   0.6959434                             \n",
       "Rpsa          NA                             \n",
       "      FDRtgfbVStgfbCX5461100nm.translation PtgfbVStgfbCX5461100nm.translation\n",
       "Rpl15 0.77800948                           0.5947925848                      \n",
       "Rpl32 0.01015831                           0.0009291078                      \n",
       "Rplp1 0.14140751                           0.0369959115                      \n",
       "Rps28         NA                                     NA                      \n",
       "Rps3  0.00000000                           0.0000000000                      \n",
       "Rpsa          NA                                     NA                      \n",
       "      unt48.tgfb48.DEtranslation tgfb48.tgfbCX5461100nm.DEtranslation\n",
       "Rpl15 notSig                     notSig                              \n",
       "Rpl32 down                       up                                  \n",
       "Rplp1 down                       notSig                              \n",
       "Rps28 NA                         NA                                  \n",
       "Rps3  down                       up                                  \n",
       "Rpsa  NA                         NA                                  \n",
       "      reversible.translation biotype       \n",
       "Rpl15 notSig                 protein_coding\n",
       "Rpl32 downUp                 protein_coding\n",
       "Rplp1 notSig                 protein_coding\n",
       "Rps28 NA                     protein_coding\n",
       "Rps3  downUp                 protein_coding\n",
       "Rpsa  NA                     protein_coding"
      ]
     },
     "metadata": {},
     "output_type": "display_data"
    }
   ],
   "source": [
    "sym_ribosomal_proteins <- c('Rpl15', 'Rpl32', 'Rplp1', 'Rps28', 'Rps3', 'Rpsa')\n",
    "\n",
    "df_all[sym_ribosomal_proteins,]"
   ]
  },
  {
   "cell_type": "markdown",
   "metadata": {},
   "source": [
    "## sym_up_up2_dn, sym_dn_dn2_up"
   ]
  },
  {
   "cell_type": "code",
   "execution_count": 173,
   "metadata": {},
   "outputs": [
    {
     "data": {
      "text/html": [
       "<style>\n",
       ".list-inline {list-style: none; margin:0; padding: 0}\n",
       ".list-inline>li {display: inline-block}\n",
       ".list-inline>li:not(:last-child)::after {content: \"\\00b7\"; padding: 0 .5ex}\n",
       "</style>\n",
       "<ol class=list-inline><li>'Acta1'</li><li>'Actb'</li><li>'Actn1'</li><li>'Atl3'</li><li>'Calr'</li><li>'Ckap4'</li><li>'Clu'</li><li>'Col4a1'</li><li>'Col7a1'</li><li>'Colgalt1'</li><li>'Flna'</li><li>'Fn1'</li><li>'Glg1'</li><li>'Gorasp2'</li><li>'Hk2'</li><li>'Hspg2'</li><li>'Irgm1'</li><li>'Itga2'</li><li>'Itgb3'</li><li>'Jup'</li><li>'Lgmn'</li><li>'Lrrfip1'</li><li>'Marcks'</li><li>'Msn'</li><li>'Myh9'</li><li>'Myo1b'</li><li>'Ncam1'</li><li>'P4hb'</li><li>'Pcyox1l'</li><li>'Pdia4'</li><li>'Pdia6'</li><li>'Plod2'</li><li>'Rcn2'</li><li>'Rtn4'</li><li>'Sept11'</li><li>'Smarca4'</li><li>'Sparc'</li><li>'Specc1'</li><li>'Sun2'</li><li>'Tln1'</li><li>'Tmem43'</li></ol>\n"
      ],
      "text/latex": [
       "\\begin{enumerate*}\n",
       "\\item 'Acta1'\n",
       "\\item 'Actb'\n",
       "\\item 'Actn1'\n",
       "\\item 'Atl3'\n",
       "\\item 'Calr'\n",
       "\\item 'Ckap4'\n",
       "\\item 'Clu'\n",
       "\\item 'Col4a1'\n",
       "\\item 'Col7a1'\n",
       "\\item 'Colgalt1'\n",
       "\\item 'Flna'\n",
       "\\item 'Fn1'\n",
       "\\item 'Glg1'\n",
       "\\item 'Gorasp2'\n",
       "\\item 'Hk2'\n",
       "\\item 'Hspg2'\n",
       "\\item 'Irgm1'\n",
       "\\item 'Itga2'\n",
       "\\item 'Itgb3'\n",
       "\\item 'Jup'\n",
       "\\item 'Lgmn'\n",
       "\\item 'Lrrfip1'\n",
       "\\item 'Marcks'\n",
       "\\item 'Msn'\n",
       "\\item 'Myh9'\n",
       "\\item 'Myo1b'\n",
       "\\item 'Ncam1'\n",
       "\\item 'P4hb'\n",
       "\\item 'Pcyox1l'\n",
       "\\item 'Pdia4'\n",
       "\\item 'Pdia6'\n",
       "\\item 'Plod2'\n",
       "\\item 'Rcn2'\n",
       "\\item 'Rtn4'\n",
       "\\item 'Sept11'\n",
       "\\item 'Smarca4'\n",
       "\\item 'Sparc'\n",
       "\\item 'Specc1'\n",
       "\\item 'Sun2'\n",
       "\\item 'Tln1'\n",
       "\\item 'Tmem43'\n",
       "\\end{enumerate*}\n"
      ],
      "text/markdown": [
       "1. 'Acta1'\n",
       "2. 'Actb'\n",
       "3. 'Actn1'\n",
       "4. 'Atl3'\n",
       "5. 'Calr'\n",
       "6. 'Ckap4'\n",
       "7. 'Clu'\n",
       "8. 'Col4a1'\n",
       "9. 'Col7a1'\n",
       "10. 'Colgalt1'\n",
       "11. 'Flna'\n",
       "12. 'Fn1'\n",
       "13. 'Glg1'\n",
       "14. 'Gorasp2'\n",
       "15. 'Hk2'\n",
       "16. 'Hspg2'\n",
       "17. 'Irgm1'\n",
       "18. 'Itga2'\n",
       "19. 'Itgb3'\n",
       "20. 'Jup'\n",
       "21. 'Lgmn'\n",
       "22. 'Lrrfip1'\n",
       "23. 'Marcks'\n",
       "24. 'Msn'\n",
       "25. 'Myh9'\n",
       "26. 'Myo1b'\n",
       "27. 'Ncam1'\n",
       "28. 'P4hb'\n",
       "29. 'Pcyox1l'\n",
       "30. 'Pdia4'\n",
       "31. 'Pdia6'\n",
       "32. 'Plod2'\n",
       "33. 'Rcn2'\n",
       "34. 'Rtn4'\n",
       "35. 'Sept11'\n",
       "36. 'Smarca4'\n",
       "37. 'Sparc'\n",
       "38. 'Specc1'\n",
       "39. 'Sun2'\n",
       "40. 'Tln1'\n",
       "41. 'Tmem43'\n",
       "\n",
       "\n"
      ],
      "text/plain": [
       " [1] \"Acta1\"    \"Actb\"     \"Actn1\"    \"Atl3\"     \"Calr\"     \"Ckap4\"   \n",
       " [7] \"Clu\"      \"Col4a1\"   \"Col7a1\"   \"Colgalt1\" \"Flna\"     \"Fn1\"     \n",
       "[13] \"Glg1\"     \"Gorasp2\"  \"Hk2\"      \"Hspg2\"    \"Irgm1\"    \"Itga2\"   \n",
       "[19] \"Itgb3\"    \"Jup\"      \"Lgmn\"     \"Lrrfip1\"  \"Marcks\"   \"Msn\"     \n",
       "[25] \"Myh9\"     \"Myo1b\"    \"Ncam1\"    \"P4hb\"     \"Pcyox1l\"  \"Pdia4\"   \n",
       "[31] \"Pdia6\"    \"Plod2\"    \"Rcn2\"     \"Rtn4\"     \"Sept11\"   \"Smarca4\" \n",
       "[37] \"Sparc\"    \"Specc1\"   \"Sun2\"     \"Tln1\"     \"Tmem43\"  "
      ]
     },
     "metadata": {},
     "output_type": "display_data"
    },
    {
     "data": {
      "text/html": [
       "41"
      ],
      "text/latex": [
       "41"
      ],
      "text/markdown": [
       "41"
      ],
      "text/plain": [
       "[1] 41"
      ]
     },
     "metadata": {},
     "output_type": "display_data"
    },
    {
     "data": {
      "text/html": [
       "<style>\n",
       ".list-inline {list-style: none; margin:0; padding: 0}\n",
       ".list-inline>li {display: inline-block}\n",
       ".list-inline>li:not(:last-child)::after {content: \"\\00b7\"; padding: 0 .5ex}\n",
       "</style>\n",
       "<ol class=list-inline><li>'Aimp1'</li><li>'Bcas2'</li><li>'Bsg'</li><li>'Cops3'</li><li>'Epha2'</li><li>'Gimd1'</li><li>'Gstp1'</li><li>'Hist1h2bc'</li><li>'Nip7'</li><li>'Prdx3'</li><li>'Rpl32'</li><li>'Rps3'</li><li>'Sars'</li><li>'Stom'</li><li>'Tpd52'</li><li>'Uap1l1'</li><li>'Ugdh'</li><li>'Vps26a'</li></ol>\n"
      ],
      "text/latex": [
       "\\begin{enumerate*}\n",
       "\\item 'Aimp1'\n",
       "\\item 'Bcas2'\n",
       "\\item 'Bsg'\n",
       "\\item 'Cops3'\n",
       "\\item 'Epha2'\n",
       "\\item 'Gimd1'\n",
       "\\item 'Gstp1'\n",
       "\\item 'Hist1h2bc'\n",
       "\\item 'Nip7'\n",
       "\\item 'Prdx3'\n",
       "\\item 'Rpl32'\n",
       "\\item 'Rps3'\n",
       "\\item 'Sars'\n",
       "\\item 'Stom'\n",
       "\\item 'Tpd52'\n",
       "\\item 'Uap1l1'\n",
       "\\item 'Ugdh'\n",
       "\\item 'Vps26a'\n",
       "\\end{enumerate*}\n"
      ],
      "text/markdown": [
       "1. 'Aimp1'\n",
       "2. 'Bcas2'\n",
       "3. 'Bsg'\n",
       "4. 'Cops3'\n",
       "5. 'Epha2'\n",
       "6. 'Gimd1'\n",
       "7. 'Gstp1'\n",
       "8. 'Hist1h2bc'\n",
       "9. 'Nip7'\n",
       "10. 'Prdx3'\n",
       "11. 'Rpl32'\n",
       "12. 'Rps3'\n",
       "13. 'Sars'\n",
       "14. 'Stom'\n",
       "15. 'Tpd52'\n",
       "16. 'Uap1l1'\n",
       "17. 'Ugdh'\n",
       "18. 'Vps26a'\n",
       "\n",
       "\n"
      ],
      "text/plain": [
       " [1] \"Aimp1\"     \"Bcas2\"     \"Bsg\"       \"Cops3\"     \"Epha2\"     \"Gimd1\"    \n",
       " [7] \"Gstp1\"     \"Hist1h2bc\" \"Nip7\"      \"Prdx3\"     \"Rpl32\"     \"Rps3\"     \n",
       "[13] \"Sars\"      \"Stom\"      \"Tpd52\"     \"Uap1l1\"    \"Ugdh\"      \"Vps26a\"   "
      ]
     },
     "metadata": {},
     "output_type": "display_data"
    },
    {
     "data": {
      "text/html": [
       "18"
      ],
      "text/latex": [
       "18"
      ],
      "text/markdown": [
       "18"
      ],
      "text/plain": [
       "[1] 18"
      ]
     },
     "metadata": {},
     "output_type": "display_data"
    }
   ],
   "source": [
    "sym_up_up_dn <- intersect(sym_mrna_up_ribo_up, sym_ribo2_dn)\n",
    "sym_up_up2_dn <- intersect(sym_up_up_dn, sym_protein_up)\n",
    "sym_up_up2_dn\n",
    "length(sym_up_up2_dn)\n",
    "\n",
    "sym_dn_dn_up <- intersect(sym_mrna_dn_ribo_dn, sym_ribo2_up)\n",
    "sym_dn_dn2_up <- intersect(sym_dn_dn_up, sym_protein_dn)\n",
    "sym_dn_dn2_up\n",
    "length(sym_dn_dn2_up)\n"
   ]
  },
  {
   "cell_type": "markdown",
   "metadata": {},
   "source": [
    "# save riboprof_170224_161021.rdata"
   ]
  },
  {
   "cell_type": "code",
   "execution_count": 174,
   "metadata": {},
   "outputs": [
    {
     "name": "stdout",
     "output_type": "stream",
     "text": [
      "./rdata/riboprof_170224.rdna_rn18s_161021.rdna_rn18s_limma-voom.mrna.rdata\n"
     ]
    }
   ],
   "source": [
    "\n",
    "fname_out <- sprintf(\"./rdata/riboprof_170224%s_161021%s_%s.rdata\",\n",
    "                     rundate_appendix, rundate_appendix, strdir)\n",
    "verb('%s\\n', fname_out)\n",
    "save(\n",
    "     # raw counts\n",
    "     df_count_mrna, df_count_ribo,\n",
    "     # dectected\n",
    "     sym_rnaseq, sym_riboseq,\n",
    "     # detected in the both platform or only one of them. \n",
    "     sym_detected_both, sym_detected_rnaseq_only, sym_detected_riboseq_only,\n",
    "     # comprehensive tables \n",
    "     df_all, df_protein,\n",
    "     # transcription tfgb48\n",
    "     sym_mrna, sym_mrna_up, sym_mrna_dn, sym_mrna_no,\n",
    "     # transcription tgfb48+27h+cx\n",
    "     sym_mrna2, sym_mrna2_up, sym_mrna2_dn, sym_mrna2_no,\n",
    "     # translation tgfb48\n",
    "     sym_ribo, sym_ribo_up, sym_ribo_dn, sym_ribo_no,\n",
    "     # translation tgfb48+27h+cx\n",
    "     sym_ribo2, sym_ribo2_up, sym_ribo2_dn, sym_ribo2_no,\n",
    "    \n",
    "     # transcription tfgb48, no effect on translation tgfb48\n",
    "     # detected in both data sets\n",
    "     sym_mrna_up_ribo_no, sym_mrna_dn_ribo_no,\n",
    "     sym_mrna_de_ribo_no, sym_mrna_only,\n",
    "     # translation tfgb48, no effect on transcription tgfb48\n",
    "     # detected in both data sets \n",
    "     sym_mrna_no_ribo_up, sym_mrna_no_ribo_dn,\n",
    "     sym_mrna_no_ribo_de, sym_ribo_only,\n",
    "     \n",
    "     # transcription tfgb48, translation tfgb48\n",
    "     # detected in both data sets\n",
    "     sym_mrna_up_ribo_up, sym_mrna_dn_ribo_dn,\n",
    "     sym_mrna_up_ribo_dn, sym_mrna_dn_ribo_up,\n",
    "    \n",
    "     ###### CX\n",
    "     # transcription tgfb48, tgfb48+27h+cx\n",
    "     sym_mrna_up_cx_dn, sym_mrna_dn_cx_up, sym_mrna_dn3x_cx_no,\n",
    "     sym_mrna_up_cx_up, sym_mrna_dn_cx_dn,\n",
    "     # translation tgfb48, tgfb48+27h+cx\n",
    "     sym_ribo_up_cx_dn, sym_ribo_dn_cx_up, sym_ribo_dn3x_cx_no,\n",
    "     sym_ribo_up_cx_up, sym_ribo_dn_cx_dn,\n",
    "     sym_ribo_cx_exclusively_affected,\n",
    "     sym_ribo_cx_exclusively_affected_up,\n",
    "     sym_ribo_cx_exclusively_affected_dn,\n",
    "     sym_ribo_cx_unaffected,\n",
    "     # translation tgfb48, tgfb48+27h+cx, no effect on transcription tgfb48\n",
    "     # detected in both data sets\n",
    "     sym_mrna_no_ribo_up_cx_dn, sym_mrna_no_ribo_dn_cx_up,\n",
    "     sym_mrna_no_ribo_up_cx_up, sym_mrna_no_ribo_dn_cx_dn,\n",
    "     sym_mrna_no_ribo_de_cx_unaffected, \n",
    "     # transcription tfgb48, translation tgfb48, tgfb48+27h+cx\n",
    "     # detected in both platforms \n",
    "     sym_up_up_dn, sym_dn_dn_up,\n",
    "    \n",
    "     ###### protein mass spec.    \n",
    "     # mass spec. tgfb48\n",
    "     sym_protein_up, sym_protein_dn,\n",
    "     # transcription tfgb48, translation tgfb48, mass spec. tgfb48, tgfb48+27h+cx up\n",
    "     # detected in three platforms\n",
    "     sym_up_up2_dn, sym_dn_dn2_up,\n",
    "     \n",
    "     ## list_genes\n",
    "     list_genes,\n",
    "    \n",
    "     file=fname_out)"
   ]
  },
  {
   "cell_type": "markdown",
   "metadata": {},
   "source": [
    "# additional check"
   ]
  },
  {
   "cell_type": "code",
   "execution_count": 175,
   "metadata": {},
   "outputs": [
    {
     "data": {
      "text/html": [
       "<style>\n",
       ".list-inline {list-style: none; margin:0; padding: 0}\n",
       ".list-inline>li {display: inline-block}\n",
       ".list-inline>li:not(:last-child)::after {content: \"\\00b7\"; padding: 0 .5ex}\n",
       "</style>\n",
       "<ol class=list-inline><li>TRUE</li><li>FALSE</li></ol>\n"
      ],
      "text/latex": [
       "\\begin{enumerate*}\n",
       "\\item TRUE\n",
       "\\item FALSE\n",
       "\\end{enumerate*}\n"
      ],
      "text/markdown": [
       "1. TRUE\n",
       "2. FALSE\n",
       "\n",
       "\n"
      ],
      "text/plain": [
       "[1]  TRUE FALSE"
      ]
     },
     "metadata": {},
     "output_type": "display_data"
    },
    {
     "data": {
      "text/html": [
       "<style>\n",
       ".list-inline {list-style: none; margin:0; padding: 0}\n",
       ".list-inline>li {display: inline-block}\n",
       ".list-inline>li:not(:last-child)::after {content: \"\\00b7\"; padding: 0 .5ex}\n",
       "</style>\n",
       "<ol class=list-inline><li>FALSE</li><li>FALSE</li></ol>\n"
      ],
      "text/latex": [
       "\\begin{enumerate*}\n",
       "\\item FALSE\n",
       "\\item FALSE\n",
       "\\end{enumerate*}\n"
      ],
      "text/markdown": [
       "1. FALSE\n",
       "2. FALSE\n",
       "\n",
       "\n"
      ],
      "text/plain": [
       "[1] FALSE FALSE"
      ]
     },
     "metadata": {},
     "output_type": "display_data"
    },
    {
     "data": {
      "text/html": [
       "<style>\n",
       ".list-inline {list-style: none; margin:0; padding: 0}\n",
       ".list-inline>li {display: inline-block}\n",
       ".list-inline>li:not(:last-child)::after {content: \"\\00b7\"; padding: 0 .5ex}\n",
       "</style>\n",
       "<ol class=list-inline><li>FALSE</li><li>FALSE</li></ol>\n"
      ],
      "text/latex": [
       "\\begin{enumerate*}\n",
       "\\item FALSE\n",
       "\\item FALSE\n",
       "\\end{enumerate*}\n"
      ],
      "text/markdown": [
       "1. FALSE\n",
       "2. FALSE\n",
       "\n",
       "\n"
      ],
      "text/plain": [
       "[1] FALSE FALSE"
      ]
     },
     "metadata": {},
     "output_type": "display_data"
    }
   ],
   "source": [
    "c('Marc2','March2') %in% sym_mrna_dn\n",
    "c('Marc2','March2') %in% sym_ribo_dn\n",
    "c('Marc2','March2') %in% sym_mrna_dn_ribo_dn"
   ]
  },
  {
   "cell_type": "code",
   "execution_count": 176,
   "metadata": {},
   "outputs": [
    {
     "data": {
      "text/html": [
       "<style>\n",
       ".list-inline {list-style: none; margin:0; padding: 0}\n",
       ".list-inline>li {display: inline-block}\n",
       ".list-inline>li:not(:last-child)::after {content: \"\\00b7\"; padding: 0 .5ex}\n",
       "</style>\n",
       "<ol class=list-inline><li>TRUE</li><li>FALSE</li></ol>\n"
      ],
      "text/latex": [
       "\\begin{enumerate*}\n",
       "\\item TRUE\n",
       "\\item FALSE\n",
       "\\end{enumerate*}\n"
      ],
      "text/markdown": [
       "1. TRUE\n",
       "2. FALSE\n",
       "\n",
       "\n"
      ],
      "text/plain": [
       "[1]  TRUE FALSE"
      ]
     },
     "metadata": {},
     "output_type": "display_data"
    },
    {
     "data": {
      "text/html": [
       "<style>\n",
       ".list-inline {list-style: none; margin:0; padding: 0}\n",
       ".list-inline>li {display: inline-block}\n",
       ".list-inline>li:not(:last-child)::after {content: \"\\00b7\"; padding: 0 .5ex}\n",
       "</style>\n",
       "<ol class=list-inline><li>FALSE</li><li>FALSE</li></ol>\n"
      ],
      "text/latex": [
       "\\begin{enumerate*}\n",
       "\\item FALSE\n",
       "\\item FALSE\n",
       "\\end{enumerate*}\n"
      ],
      "text/markdown": [
       "1. FALSE\n",
       "2. FALSE\n",
       "\n",
       "\n"
      ],
      "text/plain": [
       "[1] FALSE FALSE"
      ]
     },
     "metadata": {},
     "output_type": "display_data"
    }
   ],
   "source": [
    "c('Marc2','March2') %in% sym_mrna_dn_ribo_no\n",
    "c('Marc2','March2') %in% sym_mrna_no_ribo_dn"
   ]
  },
  {
   "cell_type": "code",
   "execution_count": 177,
   "metadata": {},
   "outputs": [
    {
     "data": {
      "text/html": [
       "<table>\n",
       "<caption>A matrix: 31 × 2 of type chr</caption>\n",
       "<thead>\n",
       "\t<tr><th></th><th scope=col>Marc2</th><th scope=col>March2</th></tr>\n",
       "</thead>\n",
       "<tbody>\n",
       "\t<tr><th scope=row>seqnames</th><td>1             </td><td>17            </td></tr>\n",
       "\t<tr><th scope=row>start</th><td>184813068     </td><td> 33685692     </td></tr>\n",
       "\t<tr><th scope=row>end</th><td>184846451     </td><td> 33718670     </td></tr>\n",
       "\t<tr><th scope=row>width</th><td>33384         </td><td>32979         </td></tr>\n",
       "\t<tr><th scope=row>strand</th><td>-             </td><td>-             </td></tr>\n",
       "\t<tr><th scope=row>source</th><td>ensembl_havana</td><td>ensembl_havana</td></tr>\n",
       "\t<tr><th scope=row>unt48.transcription</th><td>3.580933      </td><td>2.787924      </td></tr>\n",
       "\t<tr><th scope=row>tgfb48.transcription</th><td>3.140785      </td><td>2.933485      </td></tr>\n",
       "\t<tr><th scope=row>tgfbCX5461100nm.transcription</th><td>3.036474      </td><td>2.649384      </td></tr>\n",
       "\t<tr><th scope=row>log2FCunt48VStgfb48.transcription</th><td>-0.4401479    </td><td> 0.1455606    </td></tr>\n",
       "\t<tr><th scope=row>FDRunt48VStgfb48.transcription</th><td>0.0007222275  </td><td>0.3864625337  </td></tr>\n",
       "\t<tr><th scope=row>Punt48VStgfb48.transcription</th><td>0.0001651621  </td><td>0.2702214990  </td></tr>\n",
       "\t<tr><th scope=row>log2FCtgfbVStgfbCX5461100nm.transcription</th><td>-0.1043109    </td><td>-0.2841006    </td></tr>\n",
       "\t<tr><th scope=row>FDRtgfbVStgfbCX5461100nm.transcription</th><td>0.49333866    </td><td>0.09102209    </td></tr>\n",
       "\t<tr><th scope=row>PtgfbVStgfbCX5461100nm.transcription</th><td>0.31186746    </td><td>0.02814293    </td></tr>\n",
       "\t<tr><th scope=row>unt48.tgfb48.DEtranscription</th><td>down          </td><td>notSig        </td></tr>\n",
       "\t<tr><th scope=row>tgfb48.tgfbCX5461100nm.DEtranscription</th><td>notSig        </td><td>notSig        </td></tr>\n",
       "\t<tr><th scope=row>reversible.transcription</th><td>notSig        </td><td>notSig        </td></tr>\n",
       "\t<tr><th scope=row>unt48.translation</th><td> 4.0433073    </td><td>-0.8771918    </td></tr>\n",
       "\t<tr><th scope=row>tgfb48.translation</th><td> 3.8004282    </td><td>-0.5777579    </td></tr>\n",
       "\t<tr><th scope=row>tgfbCX5461100nm.translation</th><td> 3.5735586    </td><td>-0.8198765    </td></tr>\n",
       "\t<tr><th scope=row>log2FCunt48VStgfb48.translation</th><td>-0.2428791    </td><td> 0.2994339    </td></tr>\n",
       "\t<tr><th scope=row>FDRunt48VStgfb48.translation</th><td>0.2253328     </td><td>0.8037996     </td></tr>\n",
       "\t<tr><th scope=row>Punt48VStgfb48.translation</th><td>0.08323225    </td><td>0.65435071    </td></tr>\n",
       "\t<tr><th scope=row>log2FCtgfbVStgfbCX5461100nm.translation</th><td>-0.2268696    </td><td>-0.2421186    </td></tr>\n",
       "\t<tr><th scope=row>FDRtgfbVStgfbCX5461100nm.translation</th><td>0.3611425     </td><td>0.8624982     </td></tr>\n",
       "\t<tr><th scope=row>PtgfbVStgfbCX5461100nm.translation</th><td>0.1562793     </td><td>0.7310251     </td></tr>\n",
       "\t<tr><th scope=row>unt48.tgfb48.DEtranslation</th><td>notSig        </td><td>notSig        </td></tr>\n",
       "\t<tr><th scope=row>tgfb48.tgfbCX5461100nm.DEtranslation</th><td>notSig        </td><td>notSig        </td></tr>\n",
       "\t<tr><th scope=row>reversible.translation</th><td>notSig        </td><td>notSig        </td></tr>\n",
       "\t<tr><th scope=row>biotype</th><td>protein_coding</td><td>protein_coding</td></tr>\n",
       "</tbody>\n",
       "</table>\n"
      ],
      "text/latex": [
       "A matrix: 31 × 2 of type chr\n",
       "\\begin{tabular}{r|ll}\n",
       "  & Marc2 & March2\\\\\n",
       "\\hline\n",
       "\tseqnames & 1              & 17            \\\\\n",
       "\tstart & 184813068      &  33685692     \\\\\n",
       "\tend & 184846451      &  33718670     \\\\\n",
       "\twidth & 33384          & 32979         \\\\\n",
       "\tstrand & -              & -             \\\\\n",
       "\tsource & ensembl\\_havana & ensembl\\_havana\\\\\n",
       "\tunt48.transcription & 3.580933       & 2.787924      \\\\\n",
       "\ttgfb48.transcription & 3.140785       & 2.933485      \\\\\n",
       "\ttgfbCX5461100nm.transcription & 3.036474       & 2.649384      \\\\\n",
       "\tlog2FCunt48VStgfb48.transcription & -0.4401479     &  0.1455606    \\\\\n",
       "\tFDRunt48VStgfb48.transcription & 0.0007222275   & 0.3864625337  \\\\\n",
       "\tPunt48VStgfb48.transcription & 0.0001651621   & 0.2702214990  \\\\\n",
       "\tlog2FCtgfbVStgfbCX5461100nm.transcription & -0.1043109     & -0.2841006    \\\\\n",
       "\tFDRtgfbVStgfbCX5461100nm.transcription & 0.49333866     & 0.09102209    \\\\\n",
       "\tPtgfbVStgfbCX5461100nm.transcription & 0.31186746     & 0.02814293    \\\\\n",
       "\tunt48.tgfb48.DEtranscription & down           & notSig        \\\\\n",
       "\ttgfb48.tgfbCX5461100nm.DEtranscription & notSig         & notSig        \\\\\n",
       "\treversible.transcription & notSig         & notSig        \\\\\n",
       "\tunt48.translation &  4.0433073     & -0.8771918    \\\\\n",
       "\ttgfb48.translation &  3.8004282     & -0.5777579    \\\\\n",
       "\ttgfbCX5461100nm.translation &  3.5735586     & -0.8198765    \\\\\n",
       "\tlog2FCunt48VStgfb48.translation & -0.2428791     &  0.2994339    \\\\\n",
       "\tFDRunt48VStgfb48.translation & 0.2253328      & 0.8037996     \\\\\n",
       "\tPunt48VStgfb48.translation & 0.08323225     & 0.65435071    \\\\\n",
       "\tlog2FCtgfbVStgfbCX5461100nm.translation & -0.2268696     & -0.2421186    \\\\\n",
       "\tFDRtgfbVStgfbCX5461100nm.translation & 0.3611425      & 0.8624982     \\\\\n",
       "\tPtgfbVStgfbCX5461100nm.translation & 0.1562793      & 0.7310251     \\\\\n",
       "\tunt48.tgfb48.DEtranslation & notSig         & notSig        \\\\\n",
       "\ttgfb48.tgfbCX5461100nm.DEtranslation & notSig         & notSig        \\\\\n",
       "\treversible.translation & notSig         & notSig        \\\\\n",
       "\tbiotype & protein\\_coding & protein\\_coding\\\\\n",
       "\\end{tabular}\n"
      ],
      "text/markdown": [
       "\n",
       "A matrix: 31 × 2 of type chr\n",
       "\n",
       "| <!--/--> | Marc2 | March2 |\n",
       "|---|---|---|\n",
       "| seqnames | 1              | 17             |\n",
       "| start | 184813068      |  33685692      |\n",
       "| end | 184846451      |  33718670      |\n",
       "| width | 33384          | 32979          |\n",
       "| strand | -              | -              |\n",
       "| source | ensembl_havana | ensembl_havana |\n",
       "| unt48.transcription | 3.580933       | 2.787924       |\n",
       "| tgfb48.transcription | 3.140785       | 2.933485       |\n",
       "| tgfbCX5461100nm.transcription | 3.036474       | 2.649384       |\n",
       "| log2FCunt48VStgfb48.transcription | -0.4401479     |  0.1455606     |\n",
       "| FDRunt48VStgfb48.transcription | 0.0007222275   | 0.3864625337   |\n",
       "| Punt48VStgfb48.transcription | 0.0001651621   | 0.2702214990   |\n",
       "| log2FCtgfbVStgfbCX5461100nm.transcription | -0.1043109     | -0.2841006     |\n",
       "| FDRtgfbVStgfbCX5461100nm.transcription | 0.49333866     | 0.09102209     |\n",
       "| PtgfbVStgfbCX5461100nm.transcription | 0.31186746     | 0.02814293     |\n",
       "| unt48.tgfb48.DEtranscription | down           | notSig         |\n",
       "| tgfb48.tgfbCX5461100nm.DEtranscription | notSig         | notSig         |\n",
       "| reversible.transcription | notSig         | notSig         |\n",
       "| unt48.translation |  4.0433073     | -0.8771918     |\n",
       "| tgfb48.translation |  3.8004282     | -0.5777579     |\n",
       "| tgfbCX5461100nm.translation |  3.5735586     | -0.8198765     |\n",
       "| log2FCunt48VStgfb48.translation | -0.2428791     |  0.2994339     |\n",
       "| FDRunt48VStgfb48.translation | 0.2253328      | 0.8037996      |\n",
       "| Punt48VStgfb48.translation | 0.08323225     | 0.65435071     |\n",
       "| log2FCtgfbVStgfbCX5461100nm.translation | -0.2268696     | -0.2421186     |\n",
       "| FDRtgfbVStgfbCX5461100nm.translation | 0.3611425      | 0.8624982      |\n",
       "| PtgfbVStgfbCX5461100nm.translation | 0.1562793      | 0.7310251      |\n",
       "| unt48.tgfb48.DEtranslation | notSig         | notSig         |\n",
       "| tgfb48.tgfbCX5461100nm.DEtranslation | notSig         | notSig         |\n",
       "| reversible.translation | notSig         | notSig         |\n",
       "| biotype | protein_coding | protein_coding |\n",
       "\n"
      ],
      "text/plain": [
       "                                          Marc2          March2        \n",
       "seqnames                                  1              17            \n",
       "start                                     184813068       33685692     \n",
       "end                                       184846451       33718670     \n",
       "width                                     33384          32979         \n",
       "strand                                    -              -             \n",
       "source                                    ensembl_havana ensembl_havana\n",
       "unt48.transcription                       3.580933       2.787924      \n",
       "tgfb48.transcription                      3.140785       2.933485      \n",
       "tgfbCX5461100nm.transcription             3.036474       2.649384      \n",
       "log2FCunt48VStgfb48.transcription         -0.4401479      0.1455606    \n",
       "FDRunt48VStgfb48.transcription            0.0007222275   0.3864625337  \n",
       "Punt48VStgfb48.transcription              0.0001651621   0.2702214990  \n",
       "log2FCtgfbVStgfbCX5461100nm.transcription -0.1043109     -0.2841006    \n",
       "FDRtgfbVStgfbCX5461100nm.transcription    0.49333866     0.09102209    \n",
       "PtgfbVStgfbCX5461100nm.transcription      0.31186746     0.02814293    \n",
       "unt48.tgfb48.DEtranscription              down           notSig        \n",
       "tgfb48.tgfbCX5461100nm.DEtranscription    notSig         notSig        \n",
       "reversible.transcription                  notSig         notSig        \n",
       "unt48.translation                          4.0433073     -0.8771918    \n",
       "tgfb48.translation                         3.8004282     -0.5777579    \n",
       "tgfbCX5461100nm.translation                3.5735586     -0.8198765    \n",
       "log2FCunt48VStgfb48.translation           -0.2428791      0.2994339    \n",
       "FDRunt48VStgfb48.translation              0.2253328      0.8037996     \n",
       "Punt48VStgfb48.translation                0.08323225     0.65435071    \n",
       "log2FCtgfbVStgfbCX5461100nm.translation   -0.2268696     -0.2421186    \n",
       "FDRtgfbVStgfbCX5461100nm.translation      0.3611425      0.8624982     \n",
       "PtgfbVStgfbCX5461100nm.translation        0.1562793      0.7310251     \n",
       "unt48.tgfb48.DEtranslation                notSig         notSig        \n",
       "tgfb48.tgfbCX5461100nm.DEtranslation      notSig         notSig        \n",
       "reversible.translation                    notSig         notSig        \n",
       "biotype                                   protein_coding protein_coding"
      ]
     },
     "metadata": {},
     "output_type": "display_data"
    }
   ],
   "source": [
    "t(df_all[c('Marc2','March2'),])"
   ]
  },
  {
   "cell_type": "markdown",
   "metadata": {},
   "source": [
    "# write xlsx"
   ]
  },
  {
   "cell_type": "raw",
   "metadata": {},
   "source": [
    "\n",
    "\n",
    "11: transcription unt48 vs. tgfb48\n",
    "12: transcription tgfb48 vs. CX\n",
    "\n",
    "\n",
    "21: translation unit48 vs. tgfb48\n",
    "22: translation tgfb48 vs. CX\n",
    "\n",
    "\n",
    "11_up_21_no: up for unt48 vs. tgfb48 only in rna-seq (e.g. Ap2a1, Atp11a, Bcl9l, Ctxn1, Neat1, Ptpn13, Stx6)\n",
    "\n",
    "11_no_21_up: up for unt48 vs. tgfb48 only in ribo-seq (e.g. Abcf3, Cd14, Elovl1, Gm25360, Hsph1, Nrg1, Pot1b, Pxylp1, Rnf169, Uba6, Usp5)\n",
    "\n",
    "\n",
    "11_up_21_up_12_no_22_dn: up for unt48 vs. tgfb48 in both platform, down for tgfb48 vs. CX only in ribo-seq (e.g. Zeb1)\n",
    "\n",
    "\n",
    "11_dn_21_dn_12_no_22_up: down for unt48 vs. tgfb48 in both platform, up for tgfb48 vs. CX only in ribo-seq (e.g. Eif3k)\n",
    "\n",
    "\n",
    "11_no_21_up_12_no_22_dn: up for unt48 vs. tgfb48 only in ribo-seq, down for tgfb48 vs. CX only in ribo-seq (e.g. Fanca)\n",
    "\n",
    "11_no_21_dn_12_no_22_up: down for unt48 vs. tgfb48 only in ribo-seq, up for tgfb48 vs. CX only in ribo-seq (e.g. Eif5a, Gemin7)\n",
    "\n"
   ]
  },
  {
   "cell_type": "code",
   "execution_count": 178,
   "metadata": {},
   "outputs": [
    {
     "data": {
      "text/html": [
       "<style>\n",
       ".list-inline {list-style: none; margin:0; padding: 0}\n",
       ".list-inline>li {display: inline-block}\n",
       ".list-inline>li:not(:last-child)::after {content: \"\\00b7\"; padding: 0 .5ex}\n",
       "</style>\n",
       "<ol class=list-inline><li>'seqnames'</li><li>'start'</li><li>'end'</li><li>'width'</li><li>'strand'</li><li>'source'</li><li>'unt48.transcription'</li><li>'tgfb48.transcription'</li><li>'tgfbCX5461100nm.transcription'</li><li>'log2FCunt48VStgfb48.transcription'</li><li>'FDRunt48VStgfb48.transcription'</li><li>'Punt48VStgfb48.transcription'</li><li>'log2FCtgfbVStgfbCX5461100nm.transcription'</li><li>'FDRtgfbVStgfbCX5461100nm.transcription'</li><li>'PtgfbVStgfbCX5461100nm.transcription'</li><li>'unt48.tgfb48.DEtranscription'</li><li>'tgfb48.tgfbCX5461100nm.DEtranscription'</li><li>'reversible.transcription'</li><li>'unt48.translation'</li><li>'tgfb48.translation'</li><li>'tgfbCX5461100nm.translation'</li><li>'log2FCunt48VStgfb48.translation'</li><li>'FDRunt48VStgfb48.translation'</li><li>'Punt48VStgfb48.translation'</li><li>'log2FCtgfbVStgfbCX5461100nm.translation'</li><li>'FDRtgfbVStgfbCX5461100nm.translation'</li><li>'PtgfbVStgfbCX5461100nm.translation'</li><li>'unt48.tgfb48.DEtranslation'</li><li>'tgfb48.tgfbCX5461100nm.DEtranslation'</li><li>'reversible.translation'</li><li>'biotype'</li></ol>\n"
      ],
      "text/latex": [
       "\\begin{enumerate*}\n",
       "\\item 'seqnames'\n",
       "\\item 'start'\n",
       "\\item 'end'\n",
       "\\item 'width'\n",
       "\\item 'strand'\n",
       "\\item 'source'\n",
       "\\item 'unt48.transcription'\n",
       "\\item 'tgfb48.transcription'\n",
       "\\item 'tgfbCX5461100nm.transcription'\n",
       "\\item 'log2FCunt48VStgfb48.transcription'\n",
       "\\item 'FDRunt48VStgfb48.transcription'\n",
       "\\item 'Punt48VStgfb48.transcription'\n",
       "\\item 'log2FCtgfbVStgfbCX5461100nm.transcription'\n",
       "\\item 'FDRtgfbVStgfbCX5461100nm.transcription'\n",
       "\\item 'PtgfbVStgfbCX5461100nm.transcription'\n",
       "\\item 'unt48.tgfb48.DEtranscription'\n",
       "\\item 'tgfb48.tgfbCX5461100nm.DEtranscription'\n",
       "\\item 'reversible.transcription'\n",
       "\\item 'unt48.translation'\n",
       "\\item 'tgfb48.translation'\n",
       "\\item 'tgfbCX5461100nm.translation'\n",
       "\\item 'log2FCunt48VStgfb48.translation'\n",
       "\\item 'FDRunt48VStgfb48.translation'\n",
       "\\item 'Punt48VStgfb48.translation'\n",
       "\\item 'log2FCtgfbVStgfbCX5461100nm.translation'\n",
       "\\item 'FDRtgfbVStgfbCX5461100nm.translation'\n",
       "\\item 'PtgfbVStgfbCX5461100nm.translation'\n",
       "\\item 'unt48.tgfb48.DEtranslation'\n",
       "\\item 'tgfb48.tgfbCX5461100nm.DEtranslation'\n",
       "\\item 'reversible.translation'\n",
       "\\item 'biotype'\n",
       "\\end{enumerate*}\n"
      ],
      "text/markdown": [
       "1. 'seqnames'\n",
       "2. 'start'\n",
       "3. 'end'\n",
       "4. 'width'\n",
       "5. 'strand'\n",
       "6. 'source'\n",
       "7. 'unt48.transcription'\n",
       "8. 'tgfb48.transcription'\n",
       "9. 'tgfbCX5461100nm.transcription'\n",
       "10. 'log2FCunt48VStgfb48.transcription'\n",
       "11. 'FDRunt48VStgfb48.transcription'\n",
       "12. 'Punt48VStgfb48.transcription'\n",
       "13. 'log2FCtgfbVStgfbCX5461100nm.transcription'\n",
       "14. 'FDRtgfbVStgfbCX5461100nm.transcription'\n",
       "15. 'PtgfbVStgfbCX5461100nm.transcription'\n",
       "16. 'unt48.tgfb48.DEtranscription'\n",
       "17. 'tgfb48.tgfbCX5461100nm.DEtranscription'\n",
       "18. 'reversible.transcription'\n",
       "19. 'unt48.translation'\n",
       "20. 'tgfb48.translation'\n",
       "21. 'tgfbCX5461100nm.translation'\n",
       "22. 'log2FCunt48VStgfb48.translation'\n",
       "23. 'FDRunt48VStgfb48.translation'\n",
       "24. 'Punt48VStgfb48.translation'\n",
       "25. 'log2FCtgfbVStgfbCX5461100nm.translation'\n",
       "26. 'FDRtgfbVStgfbCX5461100nm.translation'\n",
       "27. 'PtgfbVStgfbCX5461100nm.translation'\n",
       "28. 'unt48.tgfb48.DEtranslation'\n",
       "29. 'tgfb48.tgfbCX5461100nm.DEtranslation'\n",
       "30. 'reversible.translation'\n",
       "31. 'biotype'\n",
       "\n",
       "\n"
      ],
      "text/plain": [
       " [1] \"seqnames\"                                 \n",
       " [2] \"start\"                                    \n",
       " [3] \"end\"                                      \n",
       " [4] \"width\"                                    \n",
       " [5] \"strand\"                                   \n",
       " [6] \"source\"                                   \n",
       " [7] \"unt48.transcription\"                      \n",
       " [8] \"tgfb48.transcription\"                     \n",
       " [9] \"tgfbCX5461100nm.transcription\"            \n",
       "[10] \"log2FCunt48VStgfb48.transcription\"        \n",
       "[11] \"FDRunt48VStgfb48.transcription\"           \n",
       "[12] \"Punt48VStgfb48.transcription\"             \n",
       "[13] \"log2FCtgfbVStgfbCX5461100nm.transcription\"\n",
       "[14] \"FDRtgfbVStgfbCX5461100nm.transcription\"   \n",
       "[15] \"PtgfbVStgfbCX5461100nm.transcription\"     \n",
       "[16] \"unt48.tgfb48.DEtranscription\"             \n",
       "[17] \"tgfb48.tgfbCX5461100nm.DEtranscription\"   \n",
       "[18] \"reversible.transcription\"                 \n",
       "[19] \"unt48.translation\"                        \n",
       "[20] \"tgfb48.translation\"                       \n",
       "[21] \"tgfbCX5461100nm.translation\"              \n",
       "[22] \"log2FCunt48VStgfb48.translation\"          \n",
       "[23] \"FDRunt48VStgfb48.translation\"             \n",
       "[24] \"Punt48VStgfb48.translation\"               \n",
       "[25] \"log2FCtgfbVStgfbCX5461100nm.translation\"  \n",
       "[26] \"FDRtgfbVStgfbCX5461100nm.translation\"     \n",
       "[27] \"PtgfbVStgfbCX5461100nm.translation\"       \n",
       "[28] \"unt48.tgfb48.DEtranslation\"               \n",
       "[29] \"tgfb48.tgfbCX5461100nm.DEtranslation\"     \n",
       "[30] \"reversible.translation\"                   \n",
       "[31] \"biotype\"                                  "
      ]
     },
     "metadata": {},
     "output_type": "display_data"
    }
   ],
   "source": [
    "colnames(df_all)"
   ]
  },
  {
   "cell_type": "code",
   "execution_count": 179,
   "metadata": {
    "scrolled": false
   },
   "outputs": [
    {
     "name": "stderr",
     "output_type": "stream",
     "text": [
      "Loading required package: openxlsx\n",
      "\n"
     ]
    },
    {
     "name": "stdout",
     "output_type": "stream",
     "text": [
      "11_up\n",
      "11_dn\n",
      "11_dn3x\n",
      "21_up\n",
      "21_dn\n",
      "21_dn3x\n",
      "11_up_21_up\n",
      "11_dn_21_dn\n",
      "11_up_21_dn\n",
      "11_dn_21_up\n",
      "11_up_21_no\n",
      "11_dn_21_no\n",
      "11_no_21_up\n",
      "11_no_21_dn\n",
      "12_up\n",
      "12_dn\n",
      "22_up\n",
      "22_dn\n",
      "12_up_22_no\n",
      "12_dn_22_no\n",
      "12_no_22_up\n",
      "12_no_22_dn\n",
      "12_up_22_up\n",
      "12_dn_22_dn\n",
      "12_up_22_dn\n",
      "12_dn_22_up\n",
      "11_up_21_up_22_no\n",
      "11_dn_21_dn_22_no\n",
      "11_up_21_dn_22_no\n",
      "11_dn_21_up_22_no\n",
      "11_up_21_no_22_no\n",
      "11_dn_21_no_22_no\n",
      "11_no_21_up_22_no\n",
      "11_no_21_dn_22_no\n",
      "11_no_12_up_22_up\n",
      "11_no_12_dn_22_dn\n",
      "11_no_12_up_22_dn\n",
      "11_no_12_dn_22_up\n",
      "11_no_12_up_22_no\n",
      "11_no_12_dn_22_no\n",
      "11_no_12_no_22_up\n",
      "11_no_12_no_22_dn\n",
      "11_up_21_up_12_up_22_up\n",
      "11_up_21_up_12_dn_22_dn\n",
      "11_up_21_up_12_up_22_no\n",
      "11_up_21_up_12_dn_22_no\n",
      "11_up_21_up_12_no_22_up\n",
      "11_up_21_up_12_no_22_dn\n",
      "11_up_21_up_12_up_22_dn\n",
      "11_up_21_up_12_dn_22_up\n",
      "11_dn_21_dn_12_up_22_up\n",
      "11_dn_21_dn_12_dn_22_dn\n",
      "11_dn_21_dn_12_up_22_no\n",
      "11_dn_21_dn_12_dn_22_no\n",
      "11_dn_21_dn_12_no_22_up\n",
      "11_dn_21_dn_12_no_22_dn\n",
      "11_dn_21_dn_12_up_22_dn\n",
      "11_dn_21_dn_12_dn_22_up\n",
      "11_up_21_dn_12_up_22_up\n",
      "11_up_21_dn_12_dn_22_dn\n",
      "11_up_21_dn_12_up_22_no\n",
      "11_up_21_dn_12_dn_22_no\n",
      "11_up_21_dn_12_no_22_up\n",
      "11_up_21_dn_12_no_22_dn\n",
      "11_up_21_dn_12_up_22_dn\n",
      "11_up_21_dn_12_dn_22_up\n",
      "11_dn_21_up_12_up_22_up\n",
      "11_dn_21_up_12_dn_22_dn\n",
      "11_dn_21_up_12_up_22_no\n",
      "11_dn_21_up_12_dn_22_no\n",
      "11_dn_21_up_12_no_22_up\n",
      "11_dn_21_up_12_no_22_dn\n",
      "11_dn_21_up_12_up_22_dn\n",
      "11_dn_21_up_12_dn_22_up\n",
      "11_up_21_no_12_up_22_up\n",
      "11_up_21_no_12_dn_22_dn\n",
      "11_up_21_no_12_up_22_no\n",
      "11_up_21_no_12_dn_22_no\n",
      "11_up_21_no_12_no_22_up\n",
      "11_up_21_no_12_no_22_dn\n",
      "11_up_21_no_12_up_22_dn\n",
      "11_up_21_no_12_dn_22_up\n",
      "11_dn_21_no_12_up_22_up\n",
      "11_dn_21_no_12_dn_22_dn\n",
      "11_dn_21_no_12_up_22_no\n",
      "11_dn_21_no_12_dn_22_no\n",
      "11_dn_21_no_12_no_22_up\n",
      "11_dn_21_no_12_no_22_dn\n",
      "11_dn_21_no_12_up_22_dn\n",
      "11_dn_21_no_12_dn_22_up\n",
      "11_no_21_up_12_up_22_up\n",
      "11_no_21_up_12_dn_22_dn\n",
      "11_no_21_up_12_up_22_no\n",
      "11_no_21_up_12_dn_22_no\n",
      "11_no_21_up_12_no_22_up\n",
      "11_no_21_up_12_no_22_dn\n",
      "11_no_21_up_12_up_22_dn\n",
      "11_no_21_up_12_dn_22_up\n",
      "11_no_21_dn_12_up_22_up\n",
      "11_no_21_dn_12_dn_22_dn\n",
      "11_no_21_dn_12_up_22_no\n",
      "11_no_21_dn_12_dn_22_no\n",
      "11_no_21_dn_12_no_22_up\n",
      "11_no_21_dn_12_no_22_dn\n",
      "11_no_21_dn_12_up_22_dn\n",
      "11_no_21_dn_12_dn_22_up\n"
     ]
    }
   ],
   "source": [
    "list_df <- list()\n",
    "cols <- colnames(df_all)\n",
    "cols <- cols[!(cols %in% c(\"HomoloGene.ID\",\"mouse.sym\",\"mouse.eid\",\"human.sym\",\"human.eid\"))]\n",
    "cols <- cols[!grepl('^P',cols)]\n",
    "       \n",
    "sheet_names <- names(list_genes)\n",
    "for (sname in sheet_names) {\n",
    "    #verb('%s\\n', sname)\n",
    "    list_df[[sname]] <- df_all[list_genes[[sname]], cols]\n",
    "}\n",
    "titles <- sheet_names\n",
    "subtitles <- rep(NULL,length(sheet_names))\n",
    "nv_column_width <- rep(11,ncol(df_all))\n",
    "names(nv_column_width) <- colnames(df_all)\n",
    "#write_xlsx(list_df, 'xlsx/170224_161021.xlsx', titles, subtitles, nv_column_width)\n",
    "\n",
    "dir_xlsx <- sprintf('xlsx/170224%s_161021%s_%s',\n",
    "                        rundate_appendix, rundate_appendix, strdir)\n",
    "dir.create(dir_xlsx ,  recursive = TRUE , showWarnings = FALSE)\n",
    "filename_xlsx <- sprintf('%s/170224%s_161021%s_%s.xlsx', dir_xlsx,\n",
    "                         rundate_appendix, rundate_appendix, strdir)\n",
    "\n",
    "require(openxlsx)\n",
    "wb <- createWorkbook()\n",
    "\n",
    "#hs <- createStyle(fontColour = \"#ffffff\", fgFill = \"#4F80BD\", halign = \"center\", valign = \"center\", textDecoration = \"Bold\", border = \"TopBottomLeftRight\", textRotation = 45)\n",
    "#options(\"openxlsx.borderColour\" = \"#4F80BD\")\n",
    "#options(\"openxlsx.borderStyle\" = \"thin\")\n",
    "#modifyBaseFont(wb, fontSize = 10, fontName = \"Arial Narrow\")\n",
    "\n",
    "addWorksheet(wb, sheetName='all', gridLines=TRUE)\n",
    "writeDataTable(wb, sheet=1, x=df_all[,cols],\n",
    "        colNames=TRUE, rowNames=TRUE)\n",
    "setColWidths(wb, sheet=1, cols=1:(ncol(df_all)+1),\n",
    "        widths=c(25, rep(15,7), rep(12,3), rep(15,7), rep(12,3), 20) )\n",
    "\n",
    "sheet_names <- gsub('sym_','',names(list_df))\n",
    "sheet_names <- gsub('mrna_','11_', sheet_names)\n",
    "sheet_names <- gsub('ribo_','21_', sheet_names)\n",
    "sheet_names <- gsub('mrna2_','12_', sheet_names)\n",
    "sheet_names <- gsub('ribo2_','22_', sheet_names)\n",
    "for (i in 1:length(list_df)) {\n",
    "     verb('%s\\n', sheet_names[i]) \n",
    "     addWorksheet(wb, sheetName=sheet_names[i], gridLines=TRUE)\n",
    "     writeDataTable(wb, sheet=1+i, x=list_df[[i]],\n",
    "        colNames=TRUE, rowNames=TRUE)\n",
    "     setColWidths(wb, sheet=1+i, cols=1:(ncol(df_all)+1),\n",
    "        widths=c(25, rep(15,7), rep(12,3), rep(15,7), rep(12,3), 20) )\n",
    "}\n",
    "# save xlsx\n",
    "saveWorkbook(wb, filename_xlsx, overwrite=TRUE)"
   ]
  },
  {
   "cell_type": "markdown",
   "metadata": {},
   "source": [
    "## biotype"
   ]
  },
  {
   "cell_type": "code",
   "execution_count": 180,
   "metadata": {
    "scrolled": true
   },
   "outputs": [
    {
     "data": {
      "text/html": [
       "<style>\n",
       ".list-inline {list-style: none; margin:0; padding: 0}\n",
       ".list-inline>li {display: inline-block}\n",
       ".list-inline>li:not(:last-child)::after {content: \"\\00b7\"; padding: 0 .5ex}\n",
       "</style>\n",
       "<ol class=list-inline><li>'protein_coding'</li><li>'lncRNA'</li><li>'TEC'</li><li>'transcribed_unprocessed_pseudogene'</li><li>'transcribed_processed_pseudogene'</li><li>'transcribed_unitary_pseudogene'</li><li>'unprocessed_pseudogene'</li><li>'polymorphic_pseudogene'</li><li>'processed_pseudogene'</li><li>'unitary_pseudogene'</li><li>'snoRNA'</li><li>'rRNA'</li><li>'pseudogene'</li><li>'scaRNA'</li><li>'snRNA'</li><li>'misc_RNA'</li><li>'miRNA'</li><li>'IG_C_gene'</li><li>'Mt_rRNA'</li><li>'Mt_tRNA'</li><li>'rDNA'</li><li>'ribozyme'</li><li>'TR_C_gene'</li><li>'TR_V_gene'</li></ol>\n"
      ],
      "text/latex": [
       "\\begin{enumerate*}\n",
       "\\item 'protein\\_coding'\n",
       "\\item 'lncRNA'\n",
       "\\item 'TEC'\n",
       "\\item 'transcribed\\_unprocessed\\_pseudogene'\n",
       "\\item 'transcribed\\_processed\\_pseudogene'\n",
       "\\item 'transcribed\\_unitary\\_pseudogene'\n",
       "\\item 'unprocessed\\_pseudogene'\n",
       "\\item 'polymorphic\\_pseudogene'\n",
       "\\item 'processed\\_pseudogene'\n",
       "\\item 'unitary\\_pseudogene'\n",
       "\\item 'snoRNA'\n",
       "\\item 'rRNA'\n",
       "\\item 'pseudogene'\n",
       "\\item 'scaRNA'\n",
       "\\item 'snRNA'\n",
       "\\item 'misc\\_RNA'\n",
       "\\item 'miRNA'\n",
       "\\item 'IG\\_C\\_gene'\n",
       "\\item 'Mt\\_rRNA'\n",
       "\\item 'Mt\\_tRNA'\n",
       "\\item 'rDNA'\n",
       "\\item 'ribozyme'\n",
       "\\item 'TR\\_C\\_gene'\n",
       "\\item 'TR\\_V\\_gene'\n",
       "\\end{enumerate*}\n"
      ],
      "text/markdown": [
       "1. 'protein_coding'\n",
       "2. 'lncRNA'\n",
       "3. 'TEC'\n",
       "4. 'transcribed_unprocessed_pseudogene'\n",
       "5. 'transcribed_processed_pseudogene'\n",
       "6. 'transcribed_unitary_pseudogene'\n",
       "7. 'unprocessed_pseudogene'\n",
       "8. 'polymorphic_pseudogene'\n",
       "9. 'processed_pseudogene'\n",
       "10. 'unitary_pseudogene'\n",
       "11. 'snoRNA'\n",
       "12. 'rRNA'\n",
       "13. 'pseudogene'\n",
       "14. 'scaRNA'\n",
       "15. 'snRNA'\n",
       "16. 'misc_RNA'\n",
       "17. 'miRNA'\n",
       "18. 'IG_C_gene'\n",
       "19. 'Mt_rRNA'\n",
       "20. 'Mt_tRNA'\n",
       "21. 'rDNA'\n",
       "22. 'ribozyme'\n",
       "23. 'TR_C_gene'\n",
       "24. 'TR_V_gene'\n",
       "\n",
       "\n"
      ],
      "text/plain": [
       " [1] \"protein_coding\"                     \"lncRNA\"                            \n",
       " [3] \"TEC\"                                \"transcribed_unprocessed_pseudogene\"\n",
       " [5] \"transcribed_processed_pseudogene\"   \"transcribed_unitary_pseudogene\"    \n",
       " [7] \"unprocessed_pseudogene\"             \"polymorphic_pseudogene\"            \n",
       " [9] \"processed_pseudogene\"               \"unitary_pseudogene\"                \n",
       "[11] \"snoRNA\"                             \"rRNA\"                              \n",
       "[13] \"pseudogene\"                         \"scaRNA\"                            \n",
       "[15] \"snRNA\"                              \"misc_RNA\"                          \n",
       "[17] \"miRNA\"                              \"IG_C_gene\"                         \n",
       "[19] \"Mt_rRNA\"                            \"Mt_tRNA\"                           \n",
       "[21] \"rDNA\"                               \"ribozyme\"                          \n",
       "[23] \"TR_C_gene\"                          \"TR_V_gene\"                         "
      ]
     },
     "metadata": {},
     "output_type": "display_data"
    }
   ],
   "source": [
    "biotypes <- unique(df_all$biotype)\n",
    "biotypes"
   ]
  },
  {
   "cell_type": "code",
   "execution_count": 181,
   "metadata": {
    "scrolled": false
   },
   "outputs": [
    {
     "name": "stdout",
     "output_type": "stream",
     "text": [
      "protein_coding\n",
      "lncRNA\n",
      "TEC\n",
      "transcribed_unprocessed_pseudogene\n",
      "transcribed_processed_pseudogene\n",
      "transcribed_unitary_pseudogene\n",
      "unprocessed_pseudogene\n",
      "polymorphic_pseudogene\n",
      "processed_pseudogene\n",
      "unitary_pseudogene\n",
      "snoRNA\n",
      "rRNA\n",
      "pseudogene\n",
      "scaRNA\n",
      "snRNA\n",
      "misc_RNA\n",
      "miRNA\n",
      "IG_C_gene\n",
      "Mt_rRNA\n",
      "Mt_tRNA\n",
      "rDNA\n",
      "ribozyme\n",
      "TR_C_gene\n",
      "TR_V_gene\n"
     ]
    }
   ],
   "source": [
    "\n",
    "for (biotype in biotypes) {\n",
    "  verb('%s\\n', biotype)  \n",
    "  filename_xlsx <- sprintf('%s/170224%s_161021%s_%s_%s.xlsx', dir_xlsx,\n",
    "                         rundate_appendix, rundate_appendix, strdir, biotype)\n",
    "\n",
    "  require(openxlsx)\n",
    "  wb <- createWorkbook()\n",
    "\n",
    "  #hs <- createStyle(fontColour = \"#ffffff\", fgFill = \"#4F80BD\", halign = \"center\", valign = \"center\", textDecoration = \"Bold\", border = \"TopBottomLeftRight\", textRotation = 45)\n",
    "  #options(\"openxlsx.borderColour\" = \"#4F80BD\")\n",
    "  #options(\"openxlsx.borderStyle\" = \"thin\")\n",
    "  #modifyBaseFont(wb, fontSize = 10, fontName = \"Arial Narrow\")\n",
    "\n",
    "  addWorksheet(wb, sheetName='all', gridLines=TRUE)\n",
    "  df1 <- df_all\n",
    "  idx <- which(df1$biotype == biotype)\n",
    "  #verb('\\t%all: %d\\n', length(idx))  \n",
    "  if (length(idx)==0) next    \n",
    "  writeDataTable(wb, sheet=1, x=df_all[idx,!grepl('^P',colnames(df_all))],\n",
    "        colNames=TRUE, rowNames=TRUE)\n",
    "  setColWidths(wb, sheet=1, cols=1:(ncol(df_all)+1),\n",
    "        widths=c(25, rep(15,7), rep(12,3), rep(15,7), rep(12,3), 20) )    \n",
    "    \n",
    "  sheet_names <- gsub('sym_','',names(list_df))\n",
    "  sheet_names <- gsub('mrna_','11_', sheet_names)\n",
    "  sheet_names <- gsub('ribo_','21_', sheet_names)\n",
    "  sheet_names <- gsub('mrna2_','12_', sheet_names)\n",
    "  sheet_names <- gsub('ribo2_','22_', sheet_names)\n",
    "  sheet_num <- 1  \n",
    "  for (i in 1:length(list_df)) {\n",
    "     df1 <- list_df[[i]]\n",
    "     idx <- which(df1$biotype == biotype)\n",
    "     #verb('\\t%s: %d\\n', sheet_names[i], length(idx))  \n",
    "     if (length(idx)==0) next\n",
    "    \n",
    "     sheet_num <- sheet_num+1 \n",
    "     addWorksheet(wb, sheetName=sheet_names[i], gridLines=TRUE)\n",
    "     writeDataTable(wb, sheet=sheet_num, x=df1[idx,!grepl('^P',colnames(df1)),drop=F],\n",
    "        colNames=TRUE, rowNames=TRUE)\n",
    "     setColWidths(wb, sheet=sheet_num, cols=1:(ncol(df_all)+1),\n",
    "        widths=c(25, rep(15,7), rep(12,3), rep(15,7), rep(12,3), 20) )\n",
    "  }\n",
    "  # save xlsx\n",
    "  saveWorkbook(wb, filename_xlsx, overwrite=TRUE)\n",
    "}\n",
    "\n"
   ]
  },
  {
   "cell_type": "markdown",
   "metadata": {},
   "source": [
    "# write xlsx for validation"
   ]
  },
  {
   "cell_type": "markdown",
   "metadata": {},
   "source": [
    "## filter_rows_with_log2fc_fdr"
   ]
  },
  {
   "cell_type": "code",
   "execution_count": 182,
   "metadata": {},
   "outputs": [],
   "source": [
    "filter_rows_with_log2fc_fdr <- function(df, col) {\n",
    "    \n",
    "    items <- strsplit(col, \"\\\\.\")[[1]]\n",
    "    items[1] <- gsub(\"tgfb48\", \"tgfb\", items[1])\n",
    "    items[3] <- gsub(\"DE\", '', items[3])\n",
    "    col_log2fc <- sprintf(\"log2FC%sVS%s.%s\", items[1], items[2], items[3])\n",
    "    col_fdr <- sprintf(\"FDR%sVS%s.%s\", items[1], items[2], items[3])\n",
    "    \n",
    "    f_out <- rep(FALSE, nrow(df))\n",
    "    # not sig\n",
    "    f_notsig <- df[,col] == \"notSig\"\n",
    "    idx <- which(f_notsig)\n",
    "    \n",
    "    f <- (abs(df[idx, col_log2fc]) < 0.1) & (df[idx, col_fdr] > 0.25)\n",
    "    f_out[idx[f]] <- TRUE\n",
    "    \n",
    "    # up/dn\n",
    "    idx <- which(!f_notsig)\n",
    "    f <- (abs(df[idx, col_log2fc]) > log2(1.5)) & (df[idx, col_fdr] < 0.05)\n",
    "    f_out[idx[f]] <- TRUE    \n",
    "    \n",
    "    f_out\n",
    "}\n",
    "\n"
   ]
  },
  {
   "cell_type": "markdown",
   "metadata": {},
   "source": [
    "## filter_rows_for_validation"
   ]
  },
  {
   "cell_type": "code",
   "execution_count": 183,
   "metadata": {},
   "outputs": [],
   "source": [
    "filter_rows_for_validation <- function(sheet_name, df, th_log2cpm=2) {\n",
    "    \n",
    "    # large cpm for unt48 vs. tgfb48\n",
    "    f1 <- (df$unt48.transcription >= th_log2cpm) | (df$tgfb48.transcription >= th_log2cpm)\n",
    "    # large cpm for tgfb48 vs. CX\n",
    "    f2 <- (df$tgfb48.transcription >= th_log2cpm) | (df$tgfbCX5461100nm.transcription >= th_log2cpm)\n",
    "    f <- f1 & f2\n",
    "    \n",
    "    f <- f & filter_rows_with_log2fc_fdr(df, \"unt48.tgfb48.DEtranscription\")\n",
    "    f <- f & filter_rows_with_log2fc_fdr(df, \"tgfb48.tgfbCX5461100nm.DEtranscription\")\n",
    "    \n",
    "    # large cpm for unt48 vs. tgfb48\n",
    "    f1 <- (df$unt48.translation >= th_log2cpm) | (df$tgfb48.translation >= th_log2cpm)\n",
    "    # large cpm for tgfb48 vs. CX\n",
    "    f2 <- (df$tgfb48.translation >= th_log2cpm) | (df$tgfbCX5461100nm.translation >= th_log2cpm)\n",
    "    f <- f & (f1 & f2)\n",
    "    \n",
    "    f <- f & filter_rows_with_log2fc_fdr(df, \"unt48.tgfb48.DEtranslation\")\n",
    "    f <- f & filter_rows_with_log2fc_fdr(df, \"tgfb48.tgfbCX5461100nm.DEtranslation\")\n",
    "    \n",
    "    df[f, !grepl('^P',colnames(df)), drop=F]\n",
    "}"
   ]
  },
  {
   "cell_type": "code",
   "execution_count": 184,
   "metadata": {
    "scrolled": false
   },
   "outputs": [
    {
     "name": "stdout",
     "output_type": "stream",
     "text": [
      "xlsx/170224.rdna_rn18s_161021.rdna_rn18s_limma-voom.mrna/170224.rdna_rn18s_161021.rdna_rn18s_limma-voom.mrna_for_validation.xlsx\n",
      "11_up\n",
      "11_dn\n",
      "11_dn3x\n",
      "21_up\n",
      "21_dn\n",
      "21_dn3x\n",
      "11_up_21_up\n",
      "11_dn_21_dn\n",
      "11_up_21_dn\n",
      "11_dn_21_up\n",
      "11_up_21_no\n",
      "11_dn_21_no\n",
      "11_no_21_up\n",
      "11_no_21_dn\n",
      "12_up\n",
      "12_dn\n",
      "22_up\n",
      "22_dn\n",
      "12_up_22_no\n",
      "12_dn_22_no\n",
      "12_no_22_up\n",
      "12_no_22_dn\n",
      "12_up_22_up\n",
      "12_dn_22_dn\n",
      "12_up_22_dn\n",
      "12_dn_22_up\n",
      "11_up_21_up_22_no\n",
      "11_dn_21_dn_22_no\n",
      "11_up_21_dn_22_no\n",
      "11_dn_21_up_22_no\n",
      "11_up_21_no_22_no\n",
      "11_dn_21_no_22_no\n",
      "11_no_21_up_22_no\n",
      "11_no_21_dn_22_no\n",
      "11_no_12_up_22_up\n",
      "11_no_12_dn_22_dn\n",
      "11_no_12_up_22_dn\n",
      "11_no_12_dn_22_up\n",
      "11_no_12_up_22_no\n",
      "11_no_12_dn_22_no\n",
      "11_no_12_no_22_up\n",
      "11_no_12_no_22_dn\n",
      "11_up_21_up_12_up_22_up\n",
      "11_up_21_up_12_dn_22_dn\n",
      "11_up_21_up_12_up_22_no\n",
      "11_up_21_up_12_dn_22_no\n",
      "11_up_21_up_12_no_22_up\n",
      "11_up_21_up_12_no_22_dn\n",
      "11_up_21_up_12_up_22_dn\n",
      "11_up_21_up_12_dn_22_up\n",
      "11_dn_21_dn_12_up_22_up\n",
      "11_dn_21_dn_12_dn_22_dn\n",
      "11_dn_21_dn_12_up_22_no\n",
      "11_dn_21_dn_12_dn_22_no\n",
      "11_dn_21_dn_12_no_22_up\n",
      "11_dn_21_dn_12_no_22_dn\n",
      "11_dn_21_dn_12_up_22_dn\n",
      "11_dn_21_dn_12_dn_22_up\n",
      "11_up_21_dn_12_up_22_up\n",
      "11_up_21_dn_12_dn_22_dn\n",
      "11_up_21_dn_12_up_22_no\n",
      "11_up_21_dn_12_dn_22_no\n",
      "11_up_21_dn_12_no_22_up\n",
      "11_up_21_dn_12_no_22_dn\n",
      "11_up_21_dn_12_up_22_dn\n",
      "11_up_21_dn_12_dn_22_up\n",
      "11_dn_21_up_12_up_22_up\n",
      "11_dn_21_up_12_dn_22_dn\n",
      "11_dn_21_up_12_up_22_no\n",
      "11_dn_21_up_12_dn_22_no\n",
      "11_dn_21_up_12_no_22_up\n",
      "11_dn_21_up_12_no_22_dn\n",
      "11_dn_21_up_12_up_22_dn\n",
      "11_dn_21_up_12_dn_22_up\n",
      "11_up_21_no_12_up_22_up\n",
      "11_up_21_no_12_dn_22_dn\n",
      "11_up_21_no_12_up_22_no\n",
      "11_up_21_no_12_dn_22_no\n",
      "11_up_21_no_12_no_22_up\n",
      "11_up_21_no_12_no_22_dn\n",
      "11_up_21_no_12_up_22_dn\n",
      "11_up_21_no_12_dn_22_up\n",
      "11_dn_21_no_12_up_22_up\n",
      "11_dn_21_no_12_dn_22_dn\n",
      "11_dn_21_no_12_up_22_no\n",
      "11_dn_21_no_12_dn_22_no\n",
      "11_dn_21_no_12_no_22_up\n",
      "11_dn_21_no_12_no_22_dn\n",
      "11_dn_21_no_12_up_22_dn\n",
      "11_dn_21_no_12_dn_22_up\n",
      "11_no_21_up_12_up_22_up\n",
      "11_no_21_up_12_dn_22_dn\n",
      "11_no_21_up_12_up_22_no\n",
      "11_no_21_up_12_dn_22_no\n",
      "11_no_21_up_12_no_22_up\n",
      "11_no_21_up_12_no_22_dn\n",
      "11_no_21_up_12_up_22_dn\n",
      "11_no_21_up_12_dn_22_up\n",
      "11_no_21_dn_12_up_22_up\n",
      "11_no_21_dn_12_dn_22_dn\n",
      "11_no_21_dn_12_up_22_no\n",
      "11_no_21_dn_12_dn_22_no\n",
      "11_no_21_dn_12_no_22_up\n",
      "11_no_21_dn_12_no_22_dn\n",
      "11_no_21_dn_12_up_22_dn\n",
      "11_no_21_dn_12_dn_22_up\n"
     ]
    }
   ],
   "source": [
    "list_df <- list()\n",
    "cols <- colnames(df_all)\n",
    "cols <- cols[!(cols %in% c(\"HomoloGene.ID\",\"mouse.sym\",\"mouse.eid\",\"human.sym\",\"human.eid\"))]\n",
    "cols <- cols[!grepl('^P',cols)]\n",
    "\n",
    "sheet_names <- names(list_genes)\n",
    "for (sname in sheet_names) {\n",
    "    #verb('%s\\n', sname)\n",
    "    list_df[[sname]] <- df_all[list_genes[[sname]], cols]\n",
    "}\n",
    "titles <- sheet_names\n",
    "subtitles <- rep(NULL,length(sheet_names))\n",
    "nv_column_width <- rep(11,ncol(df_all))\n",
    "names(nv_column_width) <- colnames(df_all)\n",
    "#write_xlsx(list_df, 'xlsx/170224_161021.xlsx', titles, subtitles, nv_column_width)\n",
    "\n",
    "filename_xlsx <- sprintf('%s/170224%s_161021%s_%s_for_validation.xlsx', dir_xlsx,\n",
    "                         rundate_appendix, rundate_appendix, strdir)\n",
    "verb(\"%s\\n\", filename_xlsx)\n",
    "\n",
    "require(openxlsx)\n",
    "wb <- createWorkbook()\n",
    "\n",
    "#hs <- createStyle(fontColour = \"#ffffff\", fgFill = \"#4F80BD\", halign = \"center\", valign = \"center\", textDecoration = \"Bold\", border = \"TopBottomLeftRight\", textRotation = 45)\n",
    "#options(\"openxlsx.borderColour\" = \"#4F80BD\")\n",
    "#options(\"openxlsx.borderStyle\" = \"thin\")\n",
    "#modifyBaseFont(wb, fontSize = 10, fontName = \"Arial Narrow\")\n",
    "\n",
    "addWorksheet(wb, sheetName='all', gridLines=TRUE)\n",
    "writeDataTable(wb, sheet=1, x=filter_rows_for_validation(\"all\", df_all[, cols]),\n",
    "        colNames=TRUE, rowNames=TRUE)\n",
    "setColWidths(wb, sheet=1, cols=1:(ncol(df_all)+1),\n",
    "        widths=c(25, rep(15,7), rep(12,3), rep(15,7), rep(12,3), 20) )\n",
    "\n",
    "sheet_names <- gsub('sym_','',names(list_df))\n",
    "sheet_names <- gsub('mrna_','11_', sheet_names)\n",
    "sheet_names <- gsub('ribo_','21_', sheet_names)\n",
    "sheet_names <- gsub('mrna2_','12_', sheet_names)\n",
    "sheet_names <- gsub('ribo2_','22_', sheet_names)\n",
    "for (i in 1:length(list_df)) {\n",
    "     verb('%s\\n', sheet_names[i]) \n",
    "     addWorksheet(wb, sheetName=sheet_names[i], gridLines=TRUE)\n",
    "     writeDataTable(wb, sheet=1+i, x=filter_rows_for_validation(sheet_names[i], list_df[[i]]),\n",
    "        colNames=TRUE, rowNames=TRUE)\n",
    "     setColWidths(wb, sheet=1+i, cols=1:(ncol(df_all)+1),\n",
    "        widths=c(25, rep(15,7), rep(12,3), rep(15,7), rep(12,3), 20) )\n",
    "}\n",
    "# save xlsx\n",
    "saveWorkbook(wb, filename_xlsx, overwrite=TRUE)"
   ]
  },
  {
   "cell_type": "markdown",
   "metadata": {},
   "source": [
    "## 11_up_21_no"
   ]
  },
  {
   "cell_type": "code",
   "execution_count": 185,
   "metadata": {},
   "outputs": [
    {
     "data": {
      "text/html": [
       "<style>\n",
       ".list-inline {list-style: none; margin:0; padding: 0}\n",
       ".list-inline>li {display: inline-block}\n",
       ".list-inline>li:not(:last-child)::after {content: \"\\00b7\"; padding: 0 .5ex}\n",
       "</style>\n",
       "<ol class=list-inline><li>1322</li><li>27</li></ol>\n"
      ],
      "text/latex": [
       "\\begin{enumerate*}\n",
       "\\item 1322\n",
       "\\item 27\n",
       "\\end{enumerate*}\n"
      ],
      "text/markdown": [
       "1. 1322\n",
       "2. 27\n",
       "\n",
       "\n"
      ],
      "text/plain": [
       "[1] 1322   27"
      ]
     },
     "metadata": {},
     "output_type": "display_data"
    },
    {
     "data": {
      "text/html": [
       "<table>\n",
       "<caption>A data.frame: 2 × 27</caption>\n",
       "<thead>\n",
       "\t<tr><th></th><th scope=col>seqnames</th><th scope=col>start</th><th scope=col>end</th><th scope=col>width</th><th scope=col>strand</th><th scope=col>source</th><th scope=col>unt48.transcription</th><th scope=col>tgfb48.transcription</th><th scope=col>tgfbCX5461100nm.transcription</th><th scope=col>log2FCunt48VStgfb48.transcription</th><th scope=col>⋯</th><th scope=col>tgfb48.translation</th><th scope=col>tgfbCX5461100nm.translation</th><th scope=col>log2FCunt48VStgfb48.translation</th><th scope=col>FDRunt48VStgfb48.translation</th><th scope=col>log2FCtgfbVStgfbCX5461100nm.translation</th><th scope=col>FDRtgfbVStgfbCX5461100nm.translation</th><th scope=col>unt48.tgfb48.DEtranslation</th><th scope=col>tgfb48.tgfbCX5461100nm.DEtranslation</th><th scope=col>reversible.translation</th><th scope=col>biotype</th></tr>\n",
       "\t<tr><th></th><th scope=col>&lt;fct&gt;</th><th scope=col>&lt;int&gt;</th><th scope=col>&lt;int&gt;</th><th scope=col>&lt;int&gt;</th><th scope=col>&lt;fct&gt;</th><th scope=col>&lt;fct&gt;</th><th scope=col>&lt;dbl&gt;</th><th scope=col>&lt;dbl&gt;</th><th scope=col>&lt;dbl&gt;</th><th scope=col>&lt;dbl&gt;</th><th scope=col>⋯</th><th scope=col>&lt;dbl&gt;</th><th scope=col>&lt;dbl&gt;</th><th scope=col>&lt;dbl&gt;</th><th scope=col>&lt;dbl&gt;</th><th scope=col>&lt;dbl&gt;</th><th scope=col>&lt;dbl&gt;</th><th scope=col>&lt;chr&gt;</th><th scope=col>&lt;chr&gt;</th><th scope=col>&lt;chr&gt;</th><th scope=col>&lt;chr&gt;</th></tr>\n",
       "</thead>\n",
       "<tbody>\n",
       "\t<tr><th scope=row>Bcl9l</th><td>9 </td><td>44482825</td><td>44511896</td><td>29072</td><td>+</td><td>ensembl_havana</td><td>4.749208</td><td>5.541473</td><td>5.627332</td><td>0.7922647</td><td>⋯</td><td>2.121726</td><td>2.169154</td><td>-0.07994202</td><td>0.8767992</td><td>0.04742836</td><td>0.9373426</td><td>notSig</td><td>notSig</td><td>notSig</td><td>protein_coding</td></tr>\n",
       "\t<tr><th scope=row>Neat1</th><td>19</td><td> 5824708</td><td> 5845478</td><td>20771</td><td>-</td><td>havana        </td><td>6.143513</td><td>7.270401</td><td>9.028366</td><td>1.1268884</td><td>⋯</td><td>3.119925</td><td>5.060732</td><td>-0.02655551</td><td>0.9402735</td><td>1.94080705</td><td>0.0000000</td><td>notSig</td><td>up    </td><td>notSig</td><td>lncRNA        </td></tr>\n",
       "</tbody>\n",
       "</table>\n"
      ],
      "text/latex": [
       "A data.frame: 2 × 27\n",
       "\\begin{tabular}{r|lllllllllllllllllllll}\n",
       "  & seqnames & start & end & width & strand & source & unt48.transcription & tgfb48.transcription & tgfbCX5461100nm.transcription & log2FCunt48VStgfb48.transcription & ⋯ & tgfb48.translation & tgfbCX5461100nm.translation & log2FCunt48VStgfb48.translation & FDRunt48VStgfb48.translation & log2FCtgfbVStgfbCX5461100nm.translation & FDRtgfbVStgfbCX5461100nm.translation & unt48.tgfb48.DEtranslation & tgfb48.tgfbCX5461100nm.DEtranslation & reversible.translation & biotype\\\\\n",
       "  & <fct> & <int> & <int> & <int> & <fct> & <fct> & <dbl> & <dbl> & <dbl> & <dbl> & ⋯ & <dbl> & <dbl> & <dbl> & <dbl> & <dbl> & <dbl> & <chr> & <chr> & <chr> & <chr>\\\\\n",
       "\\hline\n",
       "\tBcl9l & 9  & 44482825 & 44511896 & 29072 & + & ensembl\\_havana & 4.749208 & 5.541473 & 5.627332 & 0.7922647 & ⋯ & 2.121726 & 2.169154 & -0.07994202 & 0.8767992 & 0.04742836 & 0.9373426 & notSig & notSig & notSig & protein\\_coding\\\\\n",
       "\tNeat1 & 19 &  5824708 &  5845478 & 20771 & - & havana         & 6.143513 & 7.270401 & 9.028366 & 1.1268884 & ⋯ & 3.119925 & 5.060732 & -0.02655551 & 0.9402735 & 1.94080705 & 0.0000000 & notSig & up     & notSig & lncRNA        \\\\\n",
       "\\end{tabular}\n"
      ],
      "text/markdown": [
       "\n",
       "A data.frame: 2 × 27\n",
       "\n",
       "| <!--/--> | seqnames &lt;fct&gt; | start &lt;int&gt; | end &lt;int&gt; | width &lt;int&gt; | strand &lt;fct&gt; | source &lt;fct&gt; | unt48.transcription &lt;dbl&gt; | tgfb48.transcription &lt;dbl&gt; | tgfbCX5461100nm.transcription &lt;dbl&gt; | log2FCunt48VStgfb48.transcription &lt;dbl&gt; | ⋯ ⋯ | tgfb48.translation &lt;dbl&gt; | tgfbCX5461100nm.translation &lt;dbl&gt; | log2FCunt48VStgfb48.translation &lt;dbl&gt; | FDRunt48VStgfb48.translation &lt;dbl&gt; | log2FCtgfbVStgfbCX5461100nm.translation &lt;dbl&gt; | FDRtgfbVStgfbCX5461100nm.translation &lt;dbl&gt; | unt48.tgfb48.DEtranslation &lt;chr&gt; | tgfb48.tgfbCX5461100nm.DEtranslation &lt;chr&gt; | reversible.translation &lt;chr&gt; | biotype &lt;chr&gt; |\n",
       "|---|---|---|---|---|---|---|---|---|---|---|---|---|---|---|---|---|---|---|---|---|---|\n",
       "| Bcl9l | 9  | 44482825 | 44511896 | 29072 | + | ensembl_havana | 4.749208 | 5.541473 | 5.627332 | 0.7922647 | ⋯ | 2.121726 | 2.169154 | -0.07994202 | 0.8767992 | 0.04742836 | 0.9373426 | notSig | notSig | notSig | protein_coding |\n",
       "| Neat1 | 19 |  5824708 |  5845478 | 20771 | - | havana         | 6.143513 | 7.270401 | 9.028366 | 1.1268884 | ⋯ | 3.119925 | 5.060732 | -0.02655551 | 0.9402735 | 1.94080705 | 0.0000000 | notSig | up     | notSig | lncRNA         |\n",
       "\n"
      ],
      "text/plain": [
       "      seqnames start    end      width strand source        \n",
       "Bcl9l 9        44482825 44511896 29072 +      ensembl_havana\n",
       "Neat1 19        5824708  5845478 20771 -      havana        \n",
       "      unt48.transcription tgfb48.transcription tgfbCX5461100nm.transcription\n",
       "Bcl9l 4.749208            5.541473             5.627332                     \n",
       "Neat1 6.143513            7.270401             9.028366                     \n",
       "      log2FCunt48VStgfb48.transcription ⋯ tgfb48.translation\n",
       "Bcl9l 0.7922647                         ⋯ 2.121726          \n",
       "Neat1 1.1268884                         ⋯ 3.119925          \n",
       "      tgfbCX5461100nm.translation log2FCunt48VStgfb48.translation\n",
       "Bcl9l 2.169154                    -0.07994202                    \n",
       "Neat1 5.060732                    -0.02655551                    \n",
       "      FDRunt48VStgfb48.translation log2FCtgfbVStgfbCX5461100nm.translation\n",
       "Bcl9l 0.8767992                    0.04742836                             \n",
       "Neat1 0.9402735                    1.94080705                             \n",
       "      FDRtgfbVStgfbCX5461100nm.translation unt48.tgfb48.DEtranslation\n",
       "Bcl9l 0.9373426                            notSig                    \n",
       "Neat1 0.0000000                            notSig                    \n",
       "      tgfb48.tgfbCX5461100nm.DEtranslation reversible.translation\n",
       "Bcl9l notSig                               notSig                \n",
       "Neat1 up                                   notSig                \n",
       "      biotype       \n",
       "Bcl9l protein_coding\n",
       "Neat1 lncRNA        "
      ]
     },
     "metadata": {},
     "output_type": "display_data"
    }
   ],
   "source": [
    "# 11_up_21_no: up for unt48 vs. tgfb48 only in rna-seq\n",
    "name1 <- \"11_up_21_no\"\n",
    "idx <- which(sheet_names==name1)\n",
    "# DE3: 1340\n",
    "# DE4: 1272\n",
    "dim(list_df[[idx]])\n",
    "\n",
    "# DE3: Ap2a1, Atp11a, Bcl9l, Ctxn1, Neat1, Ptpn13, Stx6\n",
    "# DE4: Bcl9l, Neat1\n",
    "filter_rows_for_validation(name1, list_df[[idx]])"
   ]
  },
  {
   "cell_type": "markdown",
   "metadata": {},
   "source": [
    "## 11_no_21_up"
   ]
  },
  {
   "cell_type": "code",
   "execution_count": 186,
   "metadata": {
    "scrolled": false
   },
   "outputs": [
    {
     "data": {
      "text/html": [
       "<style>\n",
       ".list-inline {list-style: none; margin:0; padding: 0}\n",
       ".list-inline>li {display: inline-block}\n",
       ".list-inline>li:not(:last-child)::after {content: \"\\00b7\"; padding: 0 .5ex}\n",
       "</style>\n",
       "<ol class=list-inline><li>174</li><li>27</li></ol>\n"
      ],
      "text/latex": [
       "\\begin{enumerate*}\n",
       "\\item 174\n",
       "\\item 27\n",
       "\\end{enumerate*}\n"
      ],
      "text/markdown": [
       "1. 174\n",
       "2. 27\n",
       "\n",
       "\n"
      ],
      "text/plain": [
       "[1] 174  27"
      ]
     },
     "metadata": {},
     "output_type": "display_data"
    },
    {
     "data": {
      "text/html": [
       "<table>\n",
       "<caption>A matrix: 27 × 3 of type chr</caption>\n",
       "<thead>\n",
       "\t<tr><th></th><th scope=col>Elovl1</th><th scope=col>Hexim1</th><th scope=col>Hsph1</th></tr>\n",
       "</thead>\n",
       "<tbody>\n",
       "\t<tr><th scope=row>seqnames</th><td>4             </td><td>11            </td><td>5             </td></tr>\n",
       "\t<tr><th scope=row>start</th><td>118428093     </td><td>103116231     </td><td>149614287     </td></tr>\n",
       "\t<tr><th scope=row>end</th><td>118432953     </td><td>103119725     </td><td>149636376     </td></tr>\n",
       "\t<tr><th scope=row>width</th><td> 4861         </td><td> 3495         </td><td>22090         </td></tr>\n",
       "\t<tr><th scope=row>strand</th><td>+             </td><td>+             </td><td>-             </td></tr>\n",
       "\t<tr><th scope=row>source</th><td>ensembl_havana</td><td>ensembl_havana</td><td>ensembl_havana</td></tr>\n",
       "\t<tr><th scope=row>unt48.transcription</th><td>3.110992      </td><td>3.493564      </td><td>4.332281      </td></tr>\n",
       "\t<tr><th scope=row>tgfb48.transcription</th><td>3.186450      </td><td>3.547152      </td><td>4.311113      </td></tr>\n",
       "\t<tr><th scope=row>tgfbCX5461100nm.transcription</th><td>3.254529      </td><td>3.552939      </td><td>4.215187      </td></tr>\n",
       "\t<tr><th scope=row>log2FCunt48VStgfb48.transcription</th><td> 0.07545855   </td><td> 0.05358750   </td><td>-0.02116818   </td></tr>\n",
       "\t<tr><th scope=row>FDRunt48VStgfb48.transcription</th><td>0.6537565     </td><td>0.6950061     </td><td>0.8628624     </td></tr>\n",
       "\t<tr><th scope=row>log2FCtgfbVStgfbCX5461100nm.transcription</th><td> 0.068078271  </td><td> 0.005787158  </td><td>-0.095925697  </td></tr>\n",
       "\t<tr><th scope=row>FDRtgfbVStgfbCX5461100nm.transcription</th><td>0.712217      </td><td>0.973855      </td><td>0.409791      </td></tr>\n",
       "\t<tr><th scope=row>unt48.tgfb48.DEtranscription</th><td>notSig        </td><td>notSig        </td><td>notSig        </td></tr>\n",
       "\t<tr><th scope=row>tgfb48.tgfbCX5461100nm.DEtranscription</th><td>notSig        </td><td>notSig        </td><td>notSig        </td></tr>\n",
       "\t<tr><th scope=row>reversible.transcription</th><td>notSig        </td><td>notSig        </td><td>notSig        </td></tr>\n",
       "\t<tr><th scope=row>unt48.translation</th><td>1.883645      </td><td>1.235242      </td><td>3.147550      </td></tr>\n",
       "\t<tr><th scope=row>tgfb48.translation</th><td>2.588138      </td><td>2.272081      </td><td>3.957991      </td></tr>\n",
       "\t<tr><th scope=row>tgfbCX5461100nm.translation</th><td>2.584226      </td><td>1.358701      </td><td>2.882762      </td></tr>\n",
       "\t<tr><th scope=row>log2FCunt48VStgfb48.translation</th><td>0.7044936     </td><td>1.0368382     </td><td>0.8104418     </td></tr>\n",
       "\t<tr><th scope=row>FDRunt48VStgfb48.translation</th><td>3.523358e-02  </td><td>6.688445e-03  </td><td>4.232752e-05  </td></tr>\n",
       "\t<tr><th scope=row>log2FCtgfbVStgfbCX5461100nm.translation</th><td>-0.00391245   </td><td>-0.91337945   </td><td>-1.07522898   </td></tr>\n",
       "\t<tr><th scope=row>FDRtgfbVStgfbCX5461100nm.translation</th><td>9.950196e-01  </td><td>4.077204e-02  </td><td>6.307650e-06  </td></tr>\n",
       "\t<tr><th scope=row>unt48.tgfb48.DEtranslation</th><td>up            </td><td>up            </td><td>up            </td></tr>\n",
       "\t<tr><th scope=row>tgfb48.tgfbCX5461100nm.DEtranslation</th><td>notSig        </td><td>down          </td><td>down          </td></tr>\n",
       "\t<tr><th scope=row>reversible.translation</th><td>notSig        </td><td>upDown        </td><td>upDown        </td></tr>\n",
       "\t<tr><th scope=row>biotype</th><td>protein_coding</td><td>protein_coding</td><td>protein_coding</td></tr>\n",
       "</tbody>\n",
       "</table>\n"
      ],
      "text/latex": [
       "A matrix: 27 × 3 of type chr\n",
       "\\begin{tabular}{r|lll}\n",
       "  & Elovl1 & Hexim1 & Hsph1\\\\\n",
       "\\hline\n",
       "\tseqnames & 4              & 11             & 5             \\\\\n",
       "\tstart & 118428093      & 103116231      & 149614287     \\\\\n",
       "\tend & 118432953      & 103119725      & 149636376     \\\\\n",
       "\twidth &  4861          &  3495          & 22090         \\\\\n",
       "\tstrand & +              & +              & -             \\\\\n",
       "\tsource & ensembl\\_havana & ensembl\\_havana & ensembl\\_havana\\\\\n",
       "\tunt48.transcription & 3.110992       & 3.493564       & 4.332281      \\\\\n",
       "\ttgfb48.transcription & 3.186450       & 3.547152       & 4.311113      \\\\\n",
       "\ttgfbCX5461100nm.transcription & 3.254529       & 3.552939       & 4.215187      \\\\\n",
       "\tlog2FCunt48VStgfb48.transcription &  0.07545855    &  0.05358750    & -0.02116818   \\\\\n",
       "\tFDRunt48VStgfb48.transcription & 0.6537565      & 0.6950061      & 0.8628624     \\\\\n",
       "\tlog2FCtgfbVStgfbCX5461100nm.transcription &  0.068078271   &  0.005787158   & -0.095925697  \\\\\n",
       "\tFDRtgfbVStgfbCX5461100nm.transcription & 0.712217       & 0.973855       & 0.409791      \\\\\n",
       "\tunt48.tgfb48.DEtranscription & notSig         & notSig         & notSig        \\\\\n",
       "\ttgfb48.tgfbCX5461100nm.DEtranscription & notSig         & notSig         & notSig        \\\\\n",
       "\treversible.transcription & notSig         & notSig         & notSig        \\\\\n",
       "\tunt48.translation & 1.883645       & 1.235242       & 3.147550      \\\\\n",
       "\ttgfb48.translation & 2.588138       & 2.272081       & 3.957991      \\\\\n",
       "\ttgfbCX5461100nm.translation & 2.584226       & 1.358701       & 2.882762      \\\\\n",
       "\tlog2FCunt48VStgfb48.translation & 0.7044936      & 1.0368382      & 0.8104418     \\\\\n",
       "\tFDRunt48VStgfb48.translation & 3.523358e-02   & 6.688445e-03   & 4.232752e-05  \\\\\n",
       "\tlog2FCtgfbVStgfbCX5461100nm.translation & -0.00391245    & -0.91337945    & -1.07522898   \\\\\n",
       "\tFDRtgfbVStgfbCX5461100nm.translation & 9.950196e-01   & 4.077204e-02   & 6.307650e-06  \\\\\n",
       "\tunt48.tgfb48.DEtranslation & up             & up             & up            \\\\\n",
       "\ttgfb48.tgfbCX5461100nm.DEtranslation & notSig         & down           & down          \\\\\n",
       "\treversible.translation & notSig         & upDown         & upDown        \\\\\n",
       "\tbiotype & protein\\_coding & protein\\_coding & protein\\_coding\\\\\n",
       "\\end{tabular}\n"
      ],
      "text/markdown": [
       "\n",
       "A matrix: 27 × 3 of type chr\n",
       "\n",
       "| <!--/--> | Elovl1 | Hexim1 | Hsph1 |\n",
       "|---|---|---|---|\n",
       "| seqnames | 4              | 11             | 5              |\n",
       "| start | 118428093      | 103116231      | 149614287      |\n",
       "| end | 118432953      | 103119725      | 149636376      |\n",
       "| width |  4861          |  3495          | 22090          |\n",
       "| strand | +              | +              | -              |\n",
       "| source | ensembl_havana | ensembl_havana | ensembl_havana |\n",
       "| unt48.transcription | 3.110992       | 3.493564       | 4.332281       |\n",
       "| tgfb48.transcription | 3.186450       | 3.547152       | 4.311113       |\n",
       "| tgfbCX5461100nm.transcription | 3.254529       | 3.552939       | 4.215187       |\n",
       "| log2FCunt48VStgfb48.transcription |  0.07545855    |  0.05358750    | -0.02116818    |\n",
       "| FDRunt48VStgfb48.transcription | 0.6537565      | 0.6950061      | 0.8628624      |\n",
       "| log2FCtgfbVStgfbCX5461100nm.transcription |  0.068078271   |  0.005787158   | -0.095925697   |\n",
       "| FDRtgfbVStgfbCX5461100nm.transcription | 0.712217       | 0.973855       | 0.409791       |\n",
       "| unt48.tgfb48.DEtranscription | notSig         | notSig         | notSig         |\n",
       "| tgfb48.tgfbCX5461100nm.DEtranscription | notSig         | notSig         | notSig         |\n",
       "| reversible.transcription | notSig         | notSig         | notSig         |\n",
       "| unt48.translation | 1.883645       | 1.235242       | 3.147550       |\n",
       "| tgfb48.translation | 2.588138       | 2.272081       | 3.957991       |\n",
       "| tgfbCX5461100nm.translation | 2.584226       | 1.358701       | 2.882762       |\n",
       "| log2FCunt48VStgfb48.translation | 0.7044936      | 1.0368382      | 0.8104418      |\n",
       "| FDRunt48VStgfb48.translation | 3.523358e-02   | 6.688445e-03   | 4.232752e-05   |\n",
       "| log2FCtgfbVStgfbCX5461100nm.translation | -0.00391245    | -0.91337945    | -1.07522898    |\n",
       "| FDRtgfbVStgfbCX5461100nm.translation | 9.950196e-01   | 4.077204e-02   | 6.307650e-06   |\n",
       "| unt48.tgfb48.DEtranslation | up             | up             | up             |\n",
       "| tgfb48.tgfbCX5461100nm.DEtranslation | notSig         | down           | down           |\n",
       "| reversible.translation | notSig         | upDown         | upDown         |\n",
       "| biotype | protein_coding | protein_coding | protein_coding |\n",
       "\n"
      ],
      "text/plain": [
       "                                          Elovl1         Hexim1        \n",
       "seqnames                                  4              11            \n",
       "start                                     118428093      103116231     \n",
       "end                                       118432953      103119725     \n",
       "width                                      4861           3495         \n",
       "strand                                    +              +             \n",
       "source                                    ensembl_havana ensembl_havana\n",
       "unt48.transcription                       3.110992       3.493564      \n",
       "tgfb48.transcription                      3.186450       3.547152      \n",
       "tgfbCX5461100nm.transcription             3.254529       3.552939      \n",
       "log2FCunt48VStgfb48.transcription          0.07545855     0.05358750   \n",
       "FDRunt48VStgfb48.transcription            0.6537565      0.6950061     \n",
       "log2FCtgfbVStgfbCX5461100nm.transcription  0.068078271    0.005787158  \n",
       "FDRtgfbVStgfbCX5461100nm.transcription    0.712217       0.973855      \n",
       "unt48.tgfb48.DEtranscription              notSig         notSig        \n",
       "tgfb48.tgfbCX5461100nm.DEtranscription    notSig         notSig        \n",
       "reversible.transcription                  notSig         notSig        \n",
       "unt48.translation                         1.883645       1.235242      \n",
       "tgfb48.translation                        2.588138       2.272081      \n",
       "tgfbCX5461100nm.translation               2.584226       1.358701      \n",
       "log2FCunt48VStgfb48.translation           0.7044936      1.0368382     \n",
       "FDRunt48VStgfb48.translation              3.523358e-02   6.688445e-03  \n",
       "log2FCtgfbVStgfbCX5461100nm.translation   -0.00391245    -0.91337945   \n",
       "FDRtgfbVStgfbCX5461100nm.translation      9.950196e-01   4.077204e-02  \n",
       "unt48.tgfb48.DEtranslation                up             up            \n",
       "tgfb48.tgfbCX5461100nm.DEtranslation      notSig         down          \n",
       "reversible.translation                    notSig         upDown        \n",
       "biotype                                   protein_coding protein_coding\n",
       "                                          Hsph1         \n",
       "seqnames                                  5             \n",
       "start                                     149614287     \n",
       "end                                       149636376     \n",
       "width                                     22090         \n",
       "strand                                    -             \n",
       "source                                    ensembl_havana\n",
       "unt48.transcription                       4.332281      \n",
       "tgfb48.transcription                      4.311113      \n",
       "tgfbCX5461100nm.transcription             4.215187      \n",
       "log2FCunt48VStgfb48.transcription         -0.02116818   \n",
       "FDRunt48VStgfb48.transcription            0.8628624     \n",
       "log2FCtgfbVStgfbCX5461100nm.transcription -0.095925697  \n",
       "FDRtgfbVStgfbCX5461100nm.transcription    0.409791      \n",
       "unt48.tgfb48.DEtranscription              notSig        \n",
       "tgfb48.tgfbCX5461100nm.DEtranscription    notSig        \n",
       "reversible.transcription                  notSig        \n",
       "unt48.translation                         3.147550      \n",
       "tgfb48.translation                        3.957991      \n",
       "tgfbCX5461100nm.translation               2.882762      \n",
       "log2FCunt48VStgfb48.translation           0.8104418     \n",
       "FDRunt48VStgfb48.translation              4.232752e-05  \n",
       "log2FCtgfbVStgfbCX5461100nm.translation   -1.07522898   \n",
       "FDRtgfbVStgfbCX5461100nm.translation      6.307650e-06  \n",
       "unt48.tgfb48.DEtranslation                up            \n",
       "tgfb48.tgfbCX5461100nm.DEtranslation      down          \n",
       "reversible.translation                    upDown        \n",
       "biotype                                   protein_coding"
      ]
     },
     "metadata": {},
     "output_type": "display_data"
    }
   ],
   "source": [
    "# 11_no_21_up\n",
    "# 11_no: no change for unt48 vs. tgfb48 only in RNA-seq\n",
    "# 21_up: up for unt48 vs. tgfb48 only in RPF-seq\n",
    "name1 <- \"11_no_21_up\"\n",
    "idx <- which(sheet_names==name1)\n",
    "# DE3: 180\n",
    "# DE4: 161\n",
    "dim(list_df[[idx]])\n",
    "\n",
    "# DE3: Abcf3, Cd14, Elovl1, Gm25360, Hsph1, Nrg1, Pot1b, Pxylp1, Rnf169, Uba6, Usp5\n",
    "# DE4: Abcf3, Cd14, Elovl1, Hexim1, Hsph1, Nrg1, Rnf169, Usp5\n",
    "df_out <- filter_rows_for_validation(name1, list_df[[idx]])\n",
    "t(df_out)"
   ]
  },
  {
   "cell_type": "markdown",
   "metadata": {},
   "source": [
    "## 11_up_21_up_12_no_22_dn"
   ]
  },
  {
   "cell_type": "code",
   "execution_count": 187,
   "metadata": {
    "scrolled": false
   },
   "outputs": [
    {
     "data": {
      "text/html": [
       "<style>\n",
       ".list-inline {list-style: none; margin:0; padding: 0}\n",
       ".list-inline>li {display: inline-block}\n",
       ".list-inline>li:not(:last-child)::after {content: \"\\00b7\"; padding: 0 .5ex}\n",
       "</style>\n",
       "<ol class=list-inline><li>190</li><li>27</li></ol>\n"
      ],
      "text/latex": [
       "\\begin{enumerate*}\n",
       "\\item 190\n",
       "\\item 27\n",
       "\\end{enumerate*}\n"
      ],
      "text/markdown": [
       "1. 190\n",
       "2. 27\n",
       "\n",
       "\n"
      ],
      "text/plain": [
       "[1] 190  27"
      ]
     },
     "metadata": {},
     "output_type": "display_data"
    },
    {
     "data": {
      "text/html": [
       "<table>\n",
       "<caption>A data.frame: 29 × 27</caption>\n",
       "<thead>\n",
       "\t<tr><th></th><th scope=col>seqnames</th><th scope=col>start</th><th scope=col>end</th><th scope=col>width</th><th scope=col>strand</th><th scope=col>source</th><th scope=col>unt48.transcription</th><th scope=col>tgfb48.transcription</th><th scope=col>tgfbCX5461100nm.transcription</th><th scope=col>log2FCunt48VStgfb48.transcription</th><th scope=col>⋯</th><th scope=col>tgfb48.translation</th><th scope=col>tgfbCX5461100nm.translation</th><th scope=col>log2FCunt48VStgfb48.translation</th><th scope=col>FDRunt48VStgfb48.translation</th><th scope=col>log2FCtgfbVStgfbCX5461100nm.translation</th><th scope=col>FDRtgfbVStgfbCX5461100nm.translation</th><th scope=col>unt48.tgfb48.DEtranslation</th><th scope=col>tgfb48.tgfbCX5461100nm.DEtranslation</th><th scope=col>reversible.translation</th><th scope=col>biotype</th></tr>\n",
       "\t<tr><th></th><th scope=col>&lt;fct&gt;</th><th scope=col>&lt;int&gt;</th><th scope=col>&lt;int&gt;</th><th scope=col>&lt;int&gt;</th><th scope=col>&lt;fct&gt;</th><th scope=col>&lt;fct&gt;</th><th scope=col>&lt;dbl&gt;</th><th scope=col>&lt;dbl&gt;</th><th scope=col>&lt;dbl&gt;</th><th scope=col>&lt;dbl&gt;</th><th scope=col>⋯</th><th scope=col>&lt;dbl&gt;</th><th scope=col>&lt;dbl&gt;</th><th scope=col>&lt;dbl&gt;</th><th scope=col>&lt;dbl&gt;</th><th scope=col>&lt;dbl&gt;</th><th scope=col>&lt;dbl&gt;</th><th scope=col>&lt;chr&gt;</th><th scope=col>&lt;chr&gt;</th><th scope=col>&lt;chr&gt;</th><th scope=col>&lt;chr&gt;</th></tr>\n",
       "</thead>\n",
       "<tbody>\n",
       "\t<tr><th scope=row>Abcg2</th><td>6 </td><td> 58584523</td><td> 58695676</td><td>111154</td><td>+</td><td>ensembl_havana</td><td> 1.3589696</td><td>2.020313</td><td>1.970978</td><td>0.6613431</td><td>⋯</td><td>2.263150</td><td>1.4345838</td><td>1.0220188</td><td>4.737738e-03</td><td>-0.8285660</td><td>4.826441e-02</td><td>up</td><td>down</td><td>upDown</td><td>protein_coding</td></tr>\n",
       "\t<tr><th scope=row>Acot7</th><td>4 </td><td>152178134</td><td>152271855</td><td> 93722</td><td>+</td><td>ensembl_havana</td><td> 2.9509776</td><td>3.596815</td><td>3.612917</td><td>0.6458373</td><td>⋯</td><td>3.391681</td><td>2.5581129</td><td>0.6990855</td><td>2.350277e-03</td><td>-0.8335679</td><td>2.078716e-03</td><td>up</td><td>down</td><td>upDown</td><td>protein_coding</td></tr>\n",
       "\t<tr><th scope=row>Adprh</th><td>16</td><td> 38444030</td><td> 38452703</td><td>  8674</td><td>-</td><td>ensembl_havana</td><td> 2.1700330</td><td>2.775568</td><td>2.689175</td><td>0.6055351</td><td>⋯</td><td>2.742099</td><td>1.5416834</td><td>0.9993159</td><td>1.351817e-03</td><td>-1.2004153</td><td>1.393510e-03</td><td>up</td><td>down</td><td>upDown</td><td>protein_coding</td></tr>\n",
       "\t<tr><th scope=row>Arhgef40</th><td>14</td><td> 51984719</td><td> 52006251</td><td> 21533</td><td>+</td><td>ensembl_havana</td><td> 4.1115280</td><td>4.821662</td><td>4.846823</td><td>0.7101337</td><td>⋯</td><td>2.836252</td><td>2.0234826</td><td>0.6954301</td><td>2.411010e-02</td><td>-0.8127695</td><td>2.346172e-02</td><td>up</td><td>down</td><td>upDown</td><td>protein_coding</td></tr>\n",
       "\t<tr><th scope=row>Atrn</th><td>2 </td><td>130906495</td><td>131030333</td><td>123839</td><td>+</td><td>ensembl_havana</td><td> 3.9109944</td><td>4.818325</td><td>4.830312</td><td>0.9073308</td><td>⋯</td><td>2.787924</td><td>1.8056210</td><td>1.2556162</td><td>7.892852e-05</td><td>-0.9823034</td><td>6.517768e-03</td><td>up</td><td>down</td><td>upDown</td><td>protein_coding</td></tr>\n",
       "\t<tr><th scope=row>Cyb561a3</th><td>19</td><td> 10577172</td><td> 10595961</td><td> 18790</td><td>+</td><td>ensembl_havana</td><td> 2.5542696</td><td>3.744545</td><td>3.679208</td><td>1.1902759</td><td>⋯</td><td>2.246475</td><td>0.9382046</td><td>1.3478947</td><td>7.729983e-04</td><td>-1.3082703</td><td>4.824773e-03</td><td>up</td><td>down</td><td>upDown</td><td>protein_coding</td></tr>\n",
       "\t<tr><th scope=row>Ehbp1l1</th><td>19</td><td>  5707376</td><td>  5726317</td><td> 18942</td><td>-</td><td>ensembl_havana</td><td> 4.6017792</td><td>6.047077</td><td>6.142634</td><td>1.4452976</td><td>⋯</td><td>3.342922</td><td>2.6849353</td><td>1.3460147</td><td>4.179900e-07</td><td>-0.6579864</td><td>1.624628e-02</td><td>up</td><td>down</td><td>upDown</td><td>protein_coding</td></tr>\n",
       "\t<tr><th scope=row>Eno3</th><td>11</td><td> 70657202</td><td> 70662513</td><td>  5312</td><td>+</td><td>ensembl_havana</td><td> 2.1554254</td><td>3.144029</td><td>3.207621</td><td>0.9886033</td><td>⋯</td><td>3.490632</td><td>2.7721539</td><td>1.8753460</td><td>3.100000e-10</td><td>-0.7184780</td><td>6.165869e-03</td><td>up</td><td>down</td><td>upDown</td><td>protein_coding</td></tr>\n",
       "\t<tr><th scope=row>Ets1</th><td>9 </td><td> 32636221</td><td> 32757820</td><td>121600</td><td>+</td><td>ensembl_havana</td><td> 4.3801374</td><td>5.812666</td><td>5.820724</td><td>1.4325287</td><td>⋯</td><td>3.971812</td><td>3.2768627</td><td>1.4243090</td><td>7.800000e-10</td><td>-0.6949490</td><td>1.722423e-03</td><td>up</td><td>down</td><td>upDown</td><td>protein_coding</td></tr>\n",
       "\t<tr><th scope=row>Fbln2</th><td>6 </td><td> 91212455</td><td> 91272540</td><td> 60086</td><td>+</td><td>ensembl_havana</td><td> 6.0974625</td><td>8.997633</td><td>9.031067</td><td>2.9001700</td><td>⋯</td><td>8.567080</td><td>7.8882990</td><td>2.7827172</td><td>0.000000e+00</td><td>-0.6787812</td><td>0.000000e+00</td><td>up</td><td>down</td><td>upDown</td><td>protein_coding</td></tr>\n",
       "\t<tr><th scope=row>Fhod1</th><td>8 </td><td>105329163</td><td>105347953</td><td> 18791</td><td>-</td><td>ensembl_havana</td><td> 3.0393434</td><td>4.261596</td><td>4.205264</td><td>1.2222525</td><td>⋯</td><td>3.386880</td><td>2.6858925</td><td>1.6182665</td><td>8.470000e-09</td><td>-0.7009879</td><td>9.090842e-03</td><td>up</td><td>down</td><td>upDown</td><td>protein_coding</td></tr>\n",
       "\t<tr><th scope=row>Fpgs</th><td>2 </td><td> 32682609</td><td> 32704145</td><td> 21537</td><td>-</td><td>ensembl_havana</td><td> 1.9967466</td><td>3.632427</td><td>3.647678</td><td>1.6356801</td><td>⋯</td><td>3.553155</td><td>2.8655009</td><td>1.9902621</td><td>7.000000e-11</td><td>-0.6876542</td><td>7.622874e-03</td><td>up</td><td>down</td><td>upDown</td><td>protein_coding</td></tr>\n",
       "\t<tr><th scope=row>Frmd8</th><td>19</td><td>  5849702</td><td>  5875274</td><td> 25573</td><td>-</td><td>ensembl_havana</td><td> 4.1941103</td><td>5.068986</td><td>5.133328</td><td>0.8748758</td><td>⋯</td><td>3.676218</td><td>2.3102819</td><td>0.8215763</td><td>2.530005e-04</td><td>-1.3659364</td><td>3.240730e-06</td><td>up</td><td>down</td><td>upDown</td><td>protein_coding</td></tr>\n",
       "\t<tr><th scope=row>H6pd</th><td>4 </td><td>149979475</td><td>150009023</td><td> 29549</td><td>-</td><td>ensembl_havana</td><td> 3.4728971</td><td>4.743090</td><td>4.719511</td><td>1.2701925</td><td>⋯</td><td>3.529914</td><td>2.6556909</td><td>1.5719379</td><td>6.440000e-09</td><td>-0.8742234</td><td>9.710828e-04</td><td>up</td><td>down</td><td>upDown</td><td>protein_coding</td></tr>\n",
       "\t<tr><th scope=row>Ier5l</th><td>2 </td><td> 30471537</td><td> 30474219</td><td>  2683</td><td>-</td><td>ensembl_havana</td><td> 2.8185103</td><td>3.795617</td><td>3.870641</td><td>0.9771070</td><td>⋯</td><td>4.360381</td><td>3.3781438</td><td>1.1131847</td><td>4.310000e-09</td><td>-0.9822370</td><td>1.541450e-06</td><td>up</td><td>down</td><td>upDown</td><td>protein_coding</td></tr>\n",
       "\t<tr><th scope=row>Klhl30</th><td>1 </td><td> 91351016</td><td> 91362416</td><td> 11401</td><td>+</td><td>ensembl_havana</td><td>-4.6018846</td><td>2.591751</td><td>2.500561</td><td>7.1936359</td><td>⋯</td><td>3.442532</td><td>1.1783999</td><td>7.0657944</td><td>6.100000e-10</td><td>-2.2641323</td><td>5.530000e-09</td><td>up</td><td>down</td><td>upDown</td><td>protein_coding</td></tr>\n",
       "\t<tr><th scope=row>Ltbp1</th><td>17</td><td> 75005568</td><td> 75392512</td><td>386945</td><td>+</td><td>ensembl_havana</td><td> 2.8858785</td><td>6.013994</td><td>6.019541</td><td>3.1281155</td><td>⋯</td><td>5.496418</td><td>4.7449508</td><td>3.4687588</td><td>0.000000e+00</td><td>-0.7514671</td><td>2.488000e-08</td><td>up</td><td>down</td><td>upDown</td><td>protein_coding</td></tr>\n",
       "\t<tr><th scope=row>Mab21l4</th><td>1 </td><td> 93151349</td><td> 93160948</td><td>  9600</td><td>-</td><td>ensembl_havana</td><td> 0.7985357</td><td>4.837837</td><td>4.920898</td><td>4.0393012</td><td>⋯</td><td>5.814576</td><td>3.4928433</td><td>5.3656804</td><td>0.000000e+00</td><td>-2.3217325</td><td>0.000000e+00</td><td>up</td><td>down</td><td>upDown</td><td>protein_coding</td></tr>\n",
       "\t<tr><th scope=row>Parm1</th><td>5 </td><td> 91517615</td><td> 91626894</td><td>109280</td><td>+</td><td>ensembl_havana</td><td> 5.0664708</td><td>5.687346</td><td>5.618014</td><td>0.6208752</td><td>⋯</td><td>4.675338</td><td>3.9383076</td><td>1.2581423</td><td>1.000000e-11</td><td>-0.7370305</td><td>3.062050e-05</td><td>up</td><td>down</td><td>upDown</td><td>protein_coding</td></tr>\n",
       "\t<tr><th scope=row>Pik3ap1</th><td>19</td><td> 41272377</td><td> 41385102</td><td>112726</td><td>-</td><td>ensembl_havana</td><td> 3.7363616</td><td>4.989932</td><td>4.922725</td><td>1.2535706</td><td>⋯</td><td>3.585888</td><td>2.8986078</td><td>1.2937040</td><td>8.181000e-08</td><td>-0.6872799</td><td>5.341341e-03</td><td>up</td><td>down</td><td>upDown</td><td>protein_coding</td></tr>\n",
       "\t<tr><th scope=row>Pkhd1</th><td>1 </td><td> 20057779</td><td> 20618064</td><td>560286</td><td>-</td><td>ensembl_havana</td><td> 3.4219203</td><td>5.297573</td><td>5.353093</td><td>1.8756524</td><td>⋯</td><td>3.312208</td><td>2.4824110</td><td>2.0645238</td><td>4.600000e-10</td><td>-0.8297968</td><td>3.379897e-03</td><td>up</td><td>down</td><td>upDown</td><td>protein_coding</td></tr>\n",
       "\t<tr><th scope=row>Pkp2</th><td>16</td><td> 16213318</td><td> 16272712</td><td> 59395</td><td>+</td><td>ensembl_havana</td><td> 3.1340793</td><td>4.195831</td><td>4.275231</td><td>1.0617512</td><td>⋯</td><td>4.237083</td><td>3.5990244</td><td>1.6019677</td><td>0.000000e+00</td><td>-0.6380587</td><td>1.611848e-03</td><td>up</td><td>down</td><td>upDown</td><td>protein_coding</td></tr>\n",
       "\t<tr><th scope=row>Ski</th><td>4 </td><td>155154075</td><td>155222592</td><td> 68518</td><td>-</td><td>ensembl_havana</td><td> 4.2055164</td><td>5.556965</td><td>5.491717</td><td>1.3514485</td><td>⋯</td><td>2.170712</td><td>0.7972792</td><td>1.7716245</td><td>4.350828e-05</td><td>-1.3734326</td><td>3.899262e-03</td><td>up</td><td>down</td><td>upDown</td><td>protein_coding</td></tr>\n",
       "\t<tr><th scope=row>Spon2</th><td>5 </td><td> 33198184</td><td> 33218455</td><td> 20272</td><td>-</td><td>ensembl_havana</td><td> 2.0709616</td><td>2.891071</td><td>2.901946</td><td>0.8201092</td><td>⋯</td><td>2.710113</td><td>1.3875324</td><td>1.5502972</td><td>7.412800e-06</td><td>-1.3225804</td><td>5.140876e-04</td><td>up</td><td>down</td><td>upDown</td><td>protein_coding</td></tr>\n",
       "\t<tr><th scope=row>Spsb1</th><td>4 </td><td>149896283</td><td>149955043</td><td> 58761</td><td>-</td><td>ensembl_havana</td><td> 0.8135034</td><td>4.092740</td><td>4.127452</td><td>3.2792365</td><td>⋯</td><td>2.707140</td><td>1.4117553</td><td>3.6847535</td><td>6.040000e-09</td><td>-1.2953847</td><td>1.027229e-03</td><td>up</td><td>down</td><td>upDown</td><td>protein_coding</td></tr>\n",
       "\t<tr><th scope=row>Tcirg1</th><td>19</td><td>  3896050</td><td>  3907133</td><td> 11084</td><td>-</td><td>ensembl_havana</td><td> 3.9058745</td><td>5.273351</td><td>5.350379</td><td>1.3674766</td><td>⋯</td><td>5.108314</td><td>4.4760632</td><td>1.9404059</td><td>0.000000e+00</td><td>-0.6322512</td><td>2.024976e-05</td><td>up</td><td>down</td><td>upDown</td><td>protein_coding</td></tr>\n",
       "\t<tr><th scope=row>Tln1</th><td>4 </td><td> 43531519</td><td> 43562691</td><td> 31173</td><td>-</td><td>ensembl_havana</td><td> 5.8058853</td><td>6.599993</td><td>6.642514</td><td>0.7941074</td><td>⋯</td><td>5.544726</td><td>4.5855081</td><td>0.8243245</td><td>5.800000e-10</td><td>-0.9592175</td><td>7.000000e-10</td><td>up</td><td>down</td><td>upDown</td><td>protein_coding</td></tr>\n",
       "\t<tr><th scope=row>Tpbg</th><td>9 </td><td> 85842380</td><td> 85847040</td><td>  4661</td><td>+</td><td>ensembl_havana</td><td> 1.6079135</td><td>3.192079</td><td>3.198607</td><td>1.5841651</td><td>⋯</td><td>2.682819</td><td>1.8676396</td><td>1.3937287</td><td>3.267149e-05</td><td>-0.8151792</td><td>2.541182e-02</td><td>up</td><td>down</td><td>upDown</td><td>protein_coding</td></tr>\n",
       "\t<tr><th scope=row>Zeb1</th><td>18</td><td>  5591860</td><td>  5775467</td><td>183608</td><td>+</td><td>ensembl_havana</td><td> 3.3650021</td><td>4.587142</td><td>4.616507</td><td>1.2221401</td><td>⋯</td><td>2.585107</td><td>1.7519433</td><td>1.7120450</td><td>4.586970e-06</td><td>-0.8331633</td><td>2.424272e-02</td><td>up</td><td>down</td><td>upDown</td><td>protein_coding</td></tr>\n",
       "</tbody>\n",
       "</table>\n"
      ],
      "text/latex": [
       "A data.frame: 29 × 27\n",
       "\\begin{tabular}{r|lllllllllllllllllllll}\n",
       "  & seqnames & start & end & width & strand & source & unt48.transcription & tgfb48.transcription & tgfbCX5461100nm.transcription & log2FCunt48VStgfb48.transcription & ⋯ & tgfb48.translation & tgfbCX5461100nm.translation & log2FCunt48VStgfb48.translation & FDRunt48VStgfb48.translation & log2FCtgfbVStgfbCX5461100nm.translation & FDRtgfbVStgfbCX5461100nm.translation & unt48.tgfb48.DEtranslation & tgfb48.tgfbCX5461100nm.DEtranslation & reversible.translation & biotype\\\\\n",
       "  & <fct> & <int> & <int> & <int> & <fct> & <fct> & <dbl> & <dbl> & <dbl> & <dbl> & ⋯ & <dbl> & <dbl> & <dbl> & <dbl> & <dbl> & <dbl> & <chr> & <chr> & <chr> & <chr>\\\\\n",
       "\\hline\n",
       "\tAbcg2 & 6  &  58584523 &  58695676 & 111154 & + & ensembl\\_havana &  1.3589696 & 2.020313 & 1.970978 & 0.6613431 & ⋯ & 2.263150 & 1.4345838 & 1.0220188 & 4.737738e-03 & -0.8285660 & 4.826441e-02 & up & down & upDown & protein\\_coding\\\\\n",
       "\tAcot7 & 4  & 152178134 & 152271855 &  93722 & + & ensembl\\_havana &  2.9509776 & 3.596815 & 3.612917 & 0.6458373 & ⋯ & 3.391681 & 2.5581129 & 0.6990855 & 2.350277e-03 & -0.8335679 & 2.078716e-03 & up & down & upDown & protein\\_coding\\\\\n",
       "\tAdprh & 16 &  38444030 &  38452703 &   8674 & - & ensembl\\_havana &  2.1700330 & 2.775568 & 2.689175 & 0.6055351 & ⋯ & 2.742099 & 1.5416834 & 0.9993159 & 1.351817e-03 & -1.2004153 & 1.393510e-03 & up & down & upDown & protein\\_coding\\\\\n",
       "\tArhgef40 & 14 &  51984719 &  52006251 &  21533 & + & ensembl\\_havana &  4.1115280 & 4.821662 & 4.846823 & 0.7101337 & ⋯ & 2.836252 & 2.0234826 & 0.6954301 & 2.411010e-02 & -0.8127695 & 2.346172e-02 & up & down & upDown & protein\\_coding\\\\\n",
       "\tAtrn & 2  & 130906495 & 131030333 & 123839 & + & ensembl\\_havana &  3.9109944 & 4.818325 & 4.830312 & 0.9073308 & ⋯ & 2.787924 & 1.8056210 & 1.2556162 & 7.892852e-05 & -0.9823034 & 6.517768e-03 & up & down & upDown & protein\\_coding\\\\\n",
       "\tCyb561a3 & 19 &  10577172 &  10595961 &  18790 & + & ensembl\\_havana &  2.5542696 & 3.744545 & 3.679208 & 1.1902759 & ⋯ & 2.246475 & 0.9382046 & 1.3478947 & 7.729983e-04 & -1.3082703 & 4.824773e-03 & up & down & upDown & protein\\_coding\\\\\n",
       "\tEhbp1l1 & 19 &   5707376 &   5726317 &  18942 & - & ensembl\\_havana &  4.6017792 & 6.047077 & 6.142634 & 1.4452976 & ⋯ & 3.342922 & 2.6849353 & 1.3460147 & 4.179900e-07 & -0.6579864 & 1.624628e-02 & up & down & upDown & protein\\_coding\\\\\n",
       "\tEno3 & 11 &  70657202 &  70662513 &   5312 & + & ensembl\\_havana &  2.1554254 & 3.144029 & 3.207621 & 0.9886033 & ⋯ & 3.490632 & 2.7721539 & 1.8753460 & 3.100000e-10 & -0.7184780 & 6.165869e-03 & up & down & upDown & protein\\_coding\\\\\n",
       "\tEts1 & 9  &  32636221 &  32757820 & 121600 & + & ensembl\\_havana &  4.3801374 & 5.812666 & 5.820724 & 1.4325287 & ⋯ & 3.971812 & 3.2768627 & 1.4243090 & 7.800000e-10 & -0.6949490 & 1.722423e-03 & up & down & upDown & protein\\_coding\\\\\n",
       "\tFbln2 & 6  &  91212455 &  91272540 &  60086 & + & ensembl\\_havana &  6.0974625 & 8.997633 & 9.031067 & 2.9001700 & ⋯ & 8.567080 & 7.8882990 & 2.7827172 & 0.000000e+00 & -0.6787812 & 0.000000e+00 & up & down & upDown & protein\\_coding\\\\\n",
       "\tFhod1 & 8  & 105329163 & 105347953 &  18791 & - & ensembl\\_havana &  3.0393434 & 4.261596 & 4.205264 & 1.2222525 & ⋯ & 3.386880 & 2.6858925 & 1.6182665 & 8.470000e-09 & -0.7009879 & 9.090842e-03 & up & down & upDown & protein\\_coding\\\\\n",
       "\tFpgs & 2  &  32682609 &  32704145 &  21537 & - & ensembl\\_havana &  1.9967466 & 3.632427 & 3.647678 & 1.6356801 & ⋯ & 3.553155 & 2.8655009 & 1.9902621 & 7.000000e-11 & -0.6876542 & 7.622874e-03 & up & down & upDown & protein\\_coding\\\\\n",
       "\tFrmd8 & 19 &   5849702 &   5875274 &  25573 & - & ensembl\\_havana &  4.1941103 & 5.068986 & 5.133328 & 0.8748758 & ⋯ & 3.676218 & 2.3102819 & 0.8215763 & 2.530005e-04 & -1.3659364 & 3.240730e-06 & up & down & upDown & protein\\_coding\\\\\n",
       "\tH6pd & 4  & 149979475 & 150009023 &  29549 & - & ensembl\\_havana &  3.4728971 & 4.743090 & 4.719511 & 1.2701925 & ⋯ & 3.529914 & 2.6556909 & 1.5719379 & 6.440000e-09 & -0.8742234 & 9.710828e-04 & up & down & upDown & protein\\_coding\\\\\n",
       "\tIer5l & 2  &  30471537 &  30474219 &   2683 & - & ensembl\\_havana &  2.8185103 & 3.795617 & 3.870641 & 0.9771070 & ⋯ & 4.360381 & 3.3781438 & 1.1131847 & 4.310000e-09 & -0.9822370 & 1.541450e-06 & up & down & upDown & protein\\_coding\\\\\n",
       "\tKlhl30 & 1  &  91351016 &  91362416 &  11401 & + & ensembl\\_havana & -4.6018846 & 2.591751 & 2.500561 & 7.1936359 & ⋯ & 3.442532 & 1.1783999 & 7.0657944 & 6.100000e-10 & -2.2641323 & 5.530000e-09 & up & down & upDown & protein\\_coding\\\\\n",
       "\tLtbp1 & 17 &  75005568 &  75392512 & 386945 & + & ensembl\\_havana &  2.8858785 & 6.013994 & 6.019541 & 3.1281155 & ⋯ & 5.496418 & 4.7449508 & 3.4687588 & 0.000000e+00 & -0.7514671 & 2.488000e-08 & up & down & upDown & protein\\_coding\\\\\n",
       "\tMab21l4 & 1  &  93151349 &  93160948 &   9600 & - & ensembl\\_havana &  0.7985357 & 4.837837 & 4.920898 & 4.0393012 & ⋯ & 5.814576 & 3.4928433 & 5.3656804 & 0.000000e+00 & -2.3217325 & 0.000000e+00 & up & down & upDown & protein\\_coding\\\\\n",
       "\tParm1 & 5  &  91517615 &  91626894 & 109280 & + & ensembl\\_havana &  5.0664708 & 5.687346 & 5.618014 & 0.6208752 & ⋯ & 4.675338 & 3.9383076 & 1.2581423 & 1.000000e-11 & -0.7370305 & 3.062050e-05 & up & down & upDown & protein\\_coding\\\\\n",
       "\tPik3ap1 & 19 &  41272377 &  41385102 & 112726 & - & ensembl\\_havana &  3.7363616 & 4.989932 & 4.922725 & 1.2535706 & ⋯ & 3.585888 & 2.8986078 & 1.2937040 & 8.181000e-08 & -0.6872799 & 5.341341e-03 & up & down & upDown & protein\\_coding\\\\\n",
       "\tPkhd1 & 1  &  20057779 &  20618064 & 560286 & - & ensembl\\_havana &  3.4219203 & 5.297573 & 5.353093 & 1.8756524 & ⋯ & 3.312208 & 2.4824110 & 2.0645238 & 4.600000e-10 & -0.8297968 & 3.379897e-03 & up & down & upDown & protein\\_coding\\\\\n",
       "\tPkp2 & 16 &  16213318 &  16272712 &  59395 & + & ensembl\\_havana &  3.1340793 & 4.195831 & 4.275231 & 1.0617512 & ⋯ & 4.237083 & 3.5990244 & 1.6019677 & 0.000000e+00 & -0.6380587 & 1.611848e-03 & up & down & upDown & protein\\_coding\\\\\n",
       "\tSki & 4  & 155154075 & 155222592 &  68518 & - & ensembl\\_havana &  4.2055164 & 5.556965 & 5.491717 & 1.3514485 & ⋯ & 2.170712 & 0.7972792 & 1.7716245 & 4.350828e-05 & -1.3734326 & 3.899262e-03 & up & down & upDown & protein\\_coding\\\\\n",
       "\tSpon2 & 5  &  33198184 &  33218455 &  20272 & - & ensembl\\_havana &  2.0709616 & 2.891071 & 2.901946 & 0.8201092 & ⋯ & 2.710113 & 1.3875324 & 1.5502972 & 7.412800e-06 & -1.3225804 & 5.140876e-04 & up & down & upDown & protein\\_coding\\\\\n",
       "\tSpsb1 & 4  & 149896283 & 149955043 &  58761 & - & ensembl\\_havana &  0.8135034 & 4.092740 & 4.127452 & 3.2792365 & ⋯ & 2.707140 & 1.4117553 & 3.6847535 & 6.040000e-09 & -1.2953847 & 1.027229e-03 & up & down & upDown & protein\\_coding\\\\\n",
       "\tTcirg1 & 19 &   3896050 &   3907133 &  11084 & - & ensembl\\_havana &  3.9058745 & 5.273351 & 5.350379 & 1.3674766 & ⋯ & 5.108314 & 4.4760632 & 1.9404059 & 0.000000e+00 & -0.6322512 & 2.024976e-05 & up & down & upDown & protein\\_coding\\\\\n",
       "\tTln1 & 4  &  43531519 &  43562691 &  31173 & - & ensembl\\_havana &  5.8058853 & 6.599993 & 6.642514 & 0.7941074 & ⋯ & 5.544726 & 4.5855081 & 0.8243245 & 5.800000e-10 & -0.9592175 & 7.000000e-10 & up & down & upDown & protein\\_coding\\\\\n",
       "\tTpbg & 9  &  85842380 &  85847040 &   4661 & + & ensembl\\_havana &  1.6079135 & 3.192079 & 3.198607 & 1.5841651 & ⋯ & 2.682819 & 1.8676396 & 1.3937287 & 3.267149e-05 & -0.8151792 & 2.541182e-02 & up & down & upDown & protein\\_coding\\\\\n",
       "\tZeb1 & 18 &   5591860 &   5775467 & 183608 & + & ensembl\\_havana &  3.3650021 & 4.587142 & 4.616507 & 1.2221401 & ⋯ & 2.585107 & 1.7519433 & 1.7120450 & 4.586970e-06 & -0.8331633 & 2.424272e-02 & up & down & upDown & protein\\_coding\\\\\n",
       "\\end{tabular}\n"
      ],
      "text/markdown": [
       "\n",
       "A data.frame: 29 × 27\n",
       "\n",
       "| <!--/--> | seqnames &lt;fct&gt; | start &lt;int&gt; | end &lt;int&gt; | width &lt;int&gt; | strand &lt;fct&gt; | source &lt;fct&gt; | unt48.transcription &lt;dbl&gt; | tgfb48.transcription &lt;dbl&gt; | tgfbCX5461100nm.transcription &lt;dbl&gt; | log2FCunt48VStgfb48.transcription &lt;dbl&gt; | ⋯ ⋯ | tgfb48.translation &lt;dbl&gt; | tgfbCX5461100nm.translation &lt;dbl&gt; | log2FCunt48VStgfb48.translation &lt;dbl&gt; | FDRunt48VStgfb48.translation &lt;dbl&gt; | log2FCtgfbVStgfbCX5461100nm.translation &lt;dbl&gt; | FDRtgfbVStgfbCX5461100nm.translation &lt;dbl&gt; | unt48.tgfb48.DEtranslation &lt;chr&gt; | tgfb48.tgfbCX5461100nm.DEtranslation &lt;chr&gt; | reversible.translation &lt;chr&gt; | biotype &lt;chr&gt; |\n",
       "|---|---|---|---|---|---|---|---|---|---|---|---|---|---|---|---|---|---|---|---|---|---|\n",
       "| Abcg2 | 6  |  58584523 |  58695676 | 111154 | + | ensembl_havana |  1.3589696 | 2.020313 | 1.970978 | 0.6613431 | ⋯ | 2.263150 | 1.4345838 | 1.0220188 | 4.737738e-03 | -0.8285660 | 4.826441e-02 | up | down | upDown | protein_coding |\n",
       "| Acot7 | 4  | 152178134 | 152271855 |  93722 | + | ensembl_havana |  2.9509776 | 3.596815 | 3.612917 | 0.6458373 | ⋯ | 3.391681 | 2.5581129 | 0.6990855 | 2.350277e-03 | -0.8335679 | 2.078716e-03 | up | down | upDown | protein_coding |\n",
       "| Adprh | 16 |  38444030 |  38452703 |   8674 | - | ensembl_havana |  2.1700330 | 2.775568 | 2.689175 | 0.6055351 | ⋯ | 2.742099 | 1.5416834 | 0.9993159 | 1.351817e-03 | -1.2004153 | 1.393510e-03 | up | down | upDown | protein_coding |\n",
       "| Arhgef40 | 14 |  51984719 |  52006251 |  21533 | + | ensembl_havana |  4.1115280 | 4.821662 | 4.846823 | 0.7101337 | ⋯ | 2.836252 | 2.0234826 | 0.6954301 | 2.411010e-02 | -0.8127695 | 2.346172e-02 | up | down | upDown | protein_coding |\n",
       "| Atrn | 2  | 130906495 | 131030333 | 123839 | + | ensembl_havana |  3.9109944 | 4.818325 | 4.830312 | 0.9073308 | ⋯ | 2.787924 | 1.8056210 | 1.2556162 | 7.892852e-05 | -0.9823034 | 6.517768e-03 | up | down | upDown | protein_coding |\n",
       "| Cyb561a3 | 19 |  10577172 |  10595961 |  18790 | + | ensembl_havana |  2.5542696 | 3.744545 | 3.679208 | 1.1902759 | ⋯ | 2.246475 | 0.9382046 | 1.3478947 | 7.729983e-04 | -1.3082703 | 4.824773e-03 | up | down | upDown | protein_coding |\n",
       "| Ehbp1l1 | 19 |   5707376 |   5726317 |  18942 | - | ensembl_havana |  4.6017792 | 6.047077 | 6.142634 | 1.4452976 | ⋯ | 3.342922 | 2.6849353 | 1.3460147 | 4.179900e-07 | -0.6579864 | 1.624628e-02 | up | down | upDown | protein_coding |\n",
       "| Eno3 | 11 |  70657202 |  70662513 |   5312 | + | ensembl_havana |  2.1554254 | 3.144029 | 3.207621 | 0.9886033 | ⋯ | 3.490632 | 2.7721539 | 1.8753460 | 3.100000e-10 | -0.7184780 | 6.165869e-03 | up | down | upDown | protein_coding |\n",
       "| Ets1 | 9  |  32636221 |  32757820 | 121600 | + | ensembl_havana |  4.3801374 | 5.812666 | 5.820724 | 1.4325287 | ⋯ | 3.971812 | 3.2768627 | 1.4243090 | 7.800000e-10 | -0.6949490 | 1.722423e-03 | up | down | upDown | protein_coding |\n",
       "| Fbln2 | 6  |  91212455 |  91272540 |  60086 | + | ensembl_havana |  6.0974625 | 8.997633 | 9.031067 | 2.9001700 | ⋯ | 8.567080 | 7.8882990 | 2.7827172 | 0.000000e+00 | -0.6787812 | 0.000000e+00 | up | down | upDown | protein_coding |\n",
       "| Fhod1 | 8  | 105329163 | 105347953 |  18791 | - | ensembl_havana |  3.0393434 | 4.261596 | 4.205264 | 1.2222525 | ⋯ | 3.386880 | 2.6858925 | 1.6182665 | 8.470000e-09 | -0.7009879 | 9.090842e-03 | up | down | upDown | protein_coding |\n",
       "| Fpgs | 2  |  32682609 |  32704145 |  21537 | - | ensembl_havana |  1.9967466 | 3.632427 | 3.647678 | 1.6356801 | ⋯ | 3.553155 | 2.8655009 | 1.9902621 | 7.000000e-11 | -0.6876542 | 7.622874e-03 | up | down | upDown | protein_coding |\n",
       "| Frmd8 | 19 |   5849702 |   5875274 |  25573 | - | ensembl_havana |  4.1941103 | 5.068986 | 5.133328 | 0.8748758 | ⋯ | 3.676218 | 2.3102819 | 0.8215763 | 2.530005e-04 | -1.3659364 | 3.240730e-06 | up | down | upDown | protein_coding |\n",
       "| H6pd | 4  | 149979475 | 150009023 |  29549 | - | ensembl_havana |  3.4728971 | 4.743090 | 4.719511 | 1.2701925 | ⋯ | 3.529914 | 2.6556909 | 1.5719379 | 6.440000e-09 | -0.8742234 | 9.710828e-04 | up | down | upDown | protein_coding |\n",
       "| Ier5l | 2  |  30471537 |  30474219 |   2683 | - | ensembl_havana |  2.8185103 | 3.795617 | 3.870641 | 0.9771070 | ⋯ | 4.360381 | 3.3781438 | 1.1131847 | 4.310000e-09 | -0.9822370 | 1.541450e-06 | up | down | upDown | protein_coding |\n",
       "| Klhl30 | 1  |  91351016 |  91362416 |  11401 | + | ensembl_havana | -4.6018846 | 2.591751 | 2.500561 | 7.1936359 | ⋯ | 3.442532 | 1.1783999 | 7.0657944 | 6.100000e-10 | -2.2641323 | 5.530000e-09 | up | down | upDown | protein_coding |\n",
       "| Ltbp1 | 17 |  75005568 |  75392512 | 386945 | + | ensembl_havana |  2.8858785 | 6.013994 | 6.019541 | 3.1281155 | ⋯ | 5.496418 | 4.7449508 | 3.4687588 | 0.000000e+00 | -0.7514671 | 2.488000e-08 | up | down | upDown | protein_coding |\n",
       "| Mab21l4 | 1  |  93151349 |  93160948 |   9600 | - | ensembl_havana |  0.7985357 | 4.837837 | 4.920898 | 4.0393012 | ⋯ | 5.814576 | 3.4928433 | 5.3656804 | 0.000000e+00 | -2.3217325 | 0.000000e+00 | up | down | upDown | protein_coding |\n",
       "| Parm1 | 5  |  91517615 |  91626894 | 109280 | + | ensembl_havana |  5.0664708 | 5.687346 | 5.618014 | 0.6208752 | ⋯ | 4.675338 | 3.9383076 | 1.2581423 | 1.000000e-11 | -0.7370305 | 3.062050e-05 | up | down | upDown | protein_coding |\n",
       "| Pik3ap1 | 19 |  41272377 |  41385102 | 112726 | - | ensembl_havana |  3.7363616 | 4.989932 | 4.922725 | 1.2535706 | ⋯ | 3.585888 | 2.8986078 | 1.2937040 | 8.181000e-08 | -0.6872799 | 5.341341e-03 | up | down | upDown | protein_coding |\n",
       "| Pkhd1 | 1  |  20057779 |  20618064 | 560286 | - | ensembl_havana |  3.4219203 | 5.297573 | 5.353093 | 1.8756524 | ⋯ | 3.312208 | 2.4824110 | 2.0645238 | 4.600000e-10 | -0.8297968 | 3.379897e-03 | up | down | upDown | protein_coding |\n",
       "| Pkp2 | 16 |  16213318 |  16272712 |  59395 | + | ensembl_havana |  3.1340793 | 4.195831 | 4.275231 | 1.0617512 | ⋯ | 4.237083 | 3.5990244 | 1.6019677 | 0.000000e+00 | -0.6380587 | 1.611848e-03 | up | down | upDown | protein_coding |\n",
       "| Ski | 4  | 155154075 | 155222592 |  68518 | - | ensembl_havana |  4.2055164 | 5.556965 | 5.491717 | 1.3514485 | ⋯ | 2.170712 | 0.7972792 | 1.7716245 | 4.350828e-05 | -1.3734326 | 3.899262e-03 | up | down | upDown | protein_coding |\n",
       "| Spon2 | 5  |  33198184 |  33218455 |  20272 | - | ensembl_havana |  2.0709616 | 2.891071 | 2.901946 | 0.8201092 | ⋯ | 2.710113 | 1.3875324 | 1.5502972 | 7.412800e-06 | -1.3225804 | 5.140876e-04 | up | down | upDown | protein_coding |\n",
       "| Spsb1 | 4  | 149896283 | 149955043 |  58761 | - | ensembl_havana |  0.8135034 | 4.092740 | 4.127452 | 3.2792365 | ⋯ | 2.707140 | 1.4117553 | 3.6847535 | 6.040000e-09 | -1.2953847 | 1.027229e-03 | up | down | upDown | protein_coding |\n",
       "| Tcirg1 | 19 |   3896050 |   3907133 |  11084 | - | ensembl_havana |  3.9058745 | 5.273351 | 5.350379 | 1.3674766 | ⋯ | 5.108314 | 4.4760632 | 1.9404059 | 0.000000e+00 | -0.6322512 | 2.024976e-05 | up | down | upDown | protein_coding |\n",
       "| Tln1 | 4  |  43531519 |  43562691 |  31173 | - | ensembl_havana |  5.8058853 | 6.599993 | 6.642514 | 0.7941074 | ⋯ | 5.544726 | 4.5855081 | 0.8243245 | 5.800000e-10 | -0.9592175 | 7.000000e-10 | up | down | upDown | protein_coding |\n",
       "| Tpbg | 9  |  85842380 |  85847040 |   4661 | + | ensembl_havana |  1.6079135 | 3.192079 | 3.198607 | 1.5841651 | ⋯ | 2.682819 | 1.8676396 | 1.3937287 | 3.267149e-05 | -0.8151792 | 2.541182e-02 | up | down | upDown | protein_coding |\n",
       "| Zeb1 | 18 |   5591860 |   5775467 | 183608 | + | ensembl_havana |  3.3650021 | 4.587142 | 4.616507 | 1.2221401 | ⋯ | 2.585107 | 1.7519433 | 1.7120450 | 4.586970e-06 | -0.8331633 | 2.424272e-02 | up | down | upDown | protein_coding |\n",
       "\n"
      ],
      "text/plain": [
       "         seqnames start     end       width  strand source        \n",
       "Abcg2    6         58584523  58695676 111154 +      ensembl_havana\n",
       "Acot7    4        152178134 152271855  93722 +      ensembl_havana\n",
       "Adprh    16        38444030  38452703   8674 -      ensembl_havana\n",
       "Arhgef40 14        51984719  52006251  21533 +      ensembl_havana\n",
       "Atrn     2        130906495 131030333 123839 +      ensembl_havana\n",
       "Cyb561a3 19        10577172  10595961  18790 +      ensembl_havana\n",
       "Ehbp1l1  19         5707376   5726317  18942 -      ensembl_havana\n",
       "Eno3     11        70657202  70662513   5312 +      ensembl_havana\n",
       "Ets1     9         32636221  32757820 121600 +      ensembl_havana\n",
       "Fbln2    6         91212455  91272540  60086 +      ensembl_havana\n",
       "Fhod1    8        105329163 105347953  18791 -      ensembl_havana\n",
       "Fpgs     2         32682609  32704145  21537 -      ensembl_havana\n",
       "Frmd8    19         5849702   5875274  25573 -      ensembl_havana\n",
       "H6pd     4        149979475 150009023  29549 -      ensembl_havana\n",
       "Ier5l    2         30471537  30474219   2683 -      ensembl_havana\n",
       "Klhl30   1         91351016  91362416  11401 +      ensembl_havana\n",
       "Ltbp1    17        75005568  75392512 386945 +      ensembl_havana\n",
       "Mab21l4  1         93151349  93160948   9600 -      ensembl_havana\n",
       "Parm1    5         91517615  91626894 109280 +      ensembl_havana\n",
       "Pik3ap1  19        41272377  41385102 112726 -      ensembl_havana\n",
       "Pkhd1    1         20057779  20618064 560286 -      ensembl_havana\n",
       "Pkp2     16        16213318  16272712  59395 +      ensembl_havana\n",
       "Ski      4        155154075 155222592  68518 -      ensembl_havana\n",
       "Spon2    5         33198184  33218455  20272 -      ensembl_havana\n",
       "Spsb1    4        149896283 149955043  58761 -      ensembl_havana\n",
       "Tcirg1   19         3896050   3907133  11084 -      ensembl_havana\n",
       "Tln1     4         43531519  43562691  31173 -      ensembl_havana\n",
       "Tpbg     9         85842380  85847040   4661 +      ensembl_havana\n",
       "Zeb1     18         5591860   5775467 183608 +      ensembl_havana\n",
       "         unt48.transcription tgfb48.transcription tgfbCX5461100nm.transcription\n",
       "Abcg2     1.3589696          2.020313             1.970978                     \n",
       "Acot7     2.9509776          3.596815             3.612917                     \n",
       "Adprh     2.1700330          2.775568             2.689175                     \n",
       "Arhgef40  4.1115280          4.821662             4.846823                     \n",
       "Atrn      3.9109944          4.818325             4.830312                     \n",
       "Cyb561a3  2.5542696          3.744545             3.679208                     \n",
       "Ehbp1l1   4.6017792          6.047077             6.142634                     \n",
       "Eno3      2.1554254          3.144029             3.207621                     \n",
       "Ets1      4.3801374          5.812666             5.820724                     \n",
       "Fbln2     6.0974625          8.997633             9.031067                     \n",
       "Fhod1     3.0393434          4.261596             4.205264                     \n",
       "Fpgs      1.9967466          3.632427             3.647678                     \n",
       "Frmd8     4.1941103          5.068986             5.133328                     \n",
       "H6pd      3.4728971          4.743090             4.719511                     \n",
       "Ier5l     2.8185103          3.795617             3.870641                     \n",
       "Klhl30   -4.6018846          2.591751             2.500561                     \n",
       "Ltbp1     2.8858785          6.013994             6.019541                     \n",
       "Mab21l4   0.7985357          4.837837             4.920898                     \n",
       "Parm1     5.0664708          5.687346             5.618014                     \n",
       "Pik3ap1   3.7363616          4.989932             4.922725                     \n",
       "Pkhd1     3.4219203          5.297573             5.353093                     \n",
       "Pkp2      3.1340793          4.195831             4.275231                     \n",
       "Ski       4.2055164          5.556965             5.491717                     \n",
       "Spon2     2.0709616          2.891071             2.901946                     \n",
       "Spsb1     0.8135034          4.092740             4.127452                     \n",
       "Tcirg1    3.9058745          5.273351             5.350379                     \n",
       "Tln1      5.8058853          6.599993             6.642514                     \n",
       "Tpbg      1.6079135          3.192079             3.198607                     \n",
       "Zeb1      3.3650021          4.587142             4.616507                     \n",
       "         log2FCunt48VStgfb48.transcription ⋯ tgfb48.translation\n",
       "Abcg2    0.6613431                         ⋯ 2.263150          \n",
       "Acot7    0.6458373                         ⋯ 3.391681          \n",
       "Adprh    0.6055351                         ⋯ 2.742099          \n",
       "Arhgef40 0.7101337                         ⋯ 2.836252          \n",
       "Atrn     0.9073308                         ⋯ 2.787924          \n",
       "Cyb561a3 1.1902759                         ⋯ 2.246475          \n",
       "Ehbp1l1  1.4452976                         ⋯ 3.342922          \n",
       "Eno3     0.9886033                         ⋯ 3.490632          \n",
       "Ets1     1.4325287                         ⋯ 3.971812          \n",
       "Fbln2    2.9001700                         ⋯ 8.567080          \n",
       "Fhod1    1.2222525                         ⋯ 3.386880          \n",
       "Fpgs     1.6356801                         ⋯ 3.553155          \n",
       "Frmd8    0.8748758                         ⋯ 3.676218          \n",
       "H6pd     1.2701925                         ⋯ 3.529914          \n",
       "Ier5l    0.9771070                         ⋯ 4.360381          \n",
       "Klhl30   7.1936359                         ⋯ 3.442532          \n",
       "Ltbp1    3.1281155                         ⋯ 5.496418          \n",
       "Mab21l4  4.0393012                         ⋯ 5.814576          \n",
       "Parm1    0.6208752                         ⋯ 4.675338          \n",
       "Pik3ap1  1.2535706                         ⋯ 3.585888          \n",
       "Pkhd1    1.8756524                         ⋯ 3.312208          \n",
       "Pkp2     1.0617512                         ⋯ 4.237083          \n",
       "Ski      1.3514485                         ⋯ 2.170712          \n",
       "Spon2    0.8201092                         ⋯ 2.710113          \n",
       "Spsb1    3.2792365                         ⋯ 2.707140          \n",
       "Tcirg1   1.3674766                         ⋯ 5.108314          \n",
       "Tln1     0.7941074                         ⋯ 5.544726          \n",
       "Tpbg     1.5841651                         ⋯ 2.682819          \n",
       "Zeb1     1.2221401                         ⋯ 2.585107          \n",
       "         tgfbCX5461100nm.translation log2FCunt48VStgfb48.translation\n",
       "Abcg2    1.4345838                   1.0220188                      \n",
       "Acot7    2.5581129                   0.6990855                      \n",
       "Adprh    1.5416834                   0.9993159                      \n",
       "Arhgef40 2.0234826                   0.6954301                      \n",
       "Atrn     1.8056210                   1.2556162                      \n",
       "Cyb561a3 0.9382046                   1.3478947                      \n",
       "Ehbp1l1  2.6849353                   1.3460147                      \n",
       "Eno3     2.7721539                   1.8753460                      \n",
       "Ets1     3.2768627                   1.4243090                      \n",
       "Fbln2    7.8882990                   2.7827172                      \n",
       "Fhod1    2.6858925                   1.6182665                      \n",
       "Fpgs     2.8655009                   1.9902621                      \n",
       "Frmd8    2.3102819                   0.8215763                      \n",
       "H6pd     2.6556909                   1.5719379                      \n",
       "Ier5l    3.3781438                   1.1131847                      \n",
       "Klhl30   1.1783999                   7.0657944                      \n",
       "Ltbp1    4.7449508                   3.4687588                      \n",
       "Mab21l4  3.4928433                   5.3656804                      \n",
       "Parm1    3.9383076                   1.2581423                      \n",
       "Pik3ap1  2.8986078                   1.2937040                      \n",
       "Pkhd1    2.4824110                   2.0645238                      \n",
       "Pkp2     3.5990244                   1.6019677                      \n",
       "Ski      0.7972792                   1.7716245                      \n",
       "Spon2    1.3875324                   1.5502972                      \n",
       "Spsb1    1.4117553                   3.6847535                      \n",
       "Tcirg1   4.4760632                   1.9404059                      \n",
       "Tln1     4.5855081                   0.8243245                      \n",
       "Tpbg     1.8676396                   1.3937287                      \n",
       "Zeb1     1.7519433                   1.7120450                      \n",
       "         FDRunt48VStgfb48.translation log2FCtgfbVStgfbCX5461100nm.translation\n",
       "Abcg2    4.737738e-03                 -0.8285660                             \n",
       "Acot7    2.350277e-03                 -0.8335679                             \n",
       "Adprh    1.351817e-03                 -1.2004153                             \n",
       "Arhgef40 2.411010e-02                 -0.8127695                             \n",
       "Atrn     7.892852e-05                 -0.9823034                             \n",
       "Cyb561a3 7.729983e-04                 -1.3082703                             \n",
       "Ehbp1l1  4.179900e-07                 -0.6579864                             \n",
       "Eno3     3.100000e-10                 -0.7184780                             \n",
       "Ets1     7.800000e-10                 -0.6949490                             \n",
       "Fbln2    0.000000e+00                 -0.6787812                             \n",
       "Fhod1    8.470000e-09                 -0.7009879                             \n",
       "Fpgs     7.000000e-11                 -0.6876542                             \n",
       "Frmd8    2.530005e-04                 -1.3659364                             \n",
       "H6pd     6.440000e-09                 -0.8742234                             \n",
       "Ier5l    4.310000e-09                 -0.9822370                             \n",
       "Klhl30   6.100000e-10                 -2.2641323                             \n",
       "Ltbp1    0.000000e+00                 -0.7514671                             \n",
       "Mab21l4  0.000000e+00                 -2.3217325                             \n",
       "Parm1    1.000000e-11                 -0.7370305                             \n",
       "Pik3ap1  8.181000e-08                 -0.6872799                             \n",
       "Pkhd1    4.600000e-10                 -0.8297968                             \n",
       "Pkp2     0.000000e+00                 -0.6380587                             \n",
       "Ski      4.350828e-05                 -1.3734326                             \n",
       "Spon2    7.412800e-06                 -1.3225804                             \n",
       "Spsb1    6.040000e-09                 -1.2953847                             \n",
       "Tcirg1   0.000000e+00                 -0.6322512                             \n",
       "Tln1     5.800000e-10                 -0.9592175                             \n",
       "Tpbg     3.267149e-05                 -0.8151792                             \n",
       "Zeb1     4.586970e-06                 -0.8331633                             \n",
       "         FDRtgfbVStgfbCX5461100nm.translation unt48.tgfb48.DEtranslation\n",
       "Abcg2    4.826441e-02                         up                        \n",
       "Acot7    2.078716e-03                         up                        \n",
       "Adprh    1.393510e-03                         up                        \n",
       "Arhgef40 2.346172e-02                         up                        \n",
       "Atrn     6.517768e-03                         up                        \n",
       "Cyb561a3 4.824773e-03                         up                        \n",
       "Ehbp1l1  1.624628e-02                         up                        \n",
       "Eno3     6.165869e-03                         up                        \n",
       "Ets1     1.722423e-03                         up                        \n",
       "Fbln2    0.000000e+00                         up                        \n",
       "Fhod1    9.090842e-03                         up                        \n",
       "Fpgs     7.622874e-03                         up                        \n",
       "Frmd8    3.240730e-06                         up                        \n",
       "H6pd     9.710828e-04                         up                        \n",
       "Ier5l    1.541450e-06                         up                        \n",
       "Klhl30   5.530000e-09                         up                        \n",
       "Ltbp1    2.488000e-08                         up                        \n",
       "Mab21l4  0.000000e+00                         up                        \n",
       "Parm1    3.062050e-05                         up                        \n",
       "Pik3ap1  5.341341e-03                         up                        \n",
       "Pkhd1    3.379897e-03                         up                        \n",
       "Pkp2     1.611848e-03                         up                        \n",
       "Ski      3.899262e-03                         up                        \n",
       "Spon2    5.140876e-04                         up                        \n",
       "Spsb1    1.027229e-03                         up                        \n",
       "Tcirg1   2.024976e-05                         up                        \n",
       "Tln1     7.000000e-10                         up                        \n",
       "Tpbg     2.541182e-02                         up                        \n",
       "Zeb1     2.424272e-02                         up                        \n",
       "         tgfb48.tgfbCX5461100nm.DEtranslation reversible.translation\n",
       "Abcg2    down                                 upDown                \n",
       "Acot7    down                                 upDown                \n",
       "Adprh    down                                 upDown                \n",
       "Arhgef40 down                                 upDown                \n",
       "Atrn     down                                 upDown                \n",
       "Cyb561a3 down                                 upDown                \n",
       "Ehbp1l1  down                                 upDown                \n",
       "Eno3     down                                 upDown                \n",
       "Ets1     down                                 upDown                \n",
       "Fbln2    down                                 upDown                \n",
       "Fhod1    down                                 upDown                \n",
       "Fpgs     down                                 upDown                \n",
       "Frmd8    down                                 upDown                \n",
       "H6pd     down                                 upDown                \n",
       "Ier5l    down                                 upDown                \n",
       "Klhl30   down                                 upDown                \n",
       "Ltbp1    down                                 upDown                \n",
       "Mab21l4  down                                 upDown                \n",
       "Parm1    down                                 upDown                \n",
       "Pik3ap1  down                                 upDown                \n",
       "Pkhd1    down                                 upDown                \n",
       "Pkp2     down                                 upDown                \n",
       "Ski      down                                 upDown                \n",
       "Spon2    down                                 upDown                \n",
       "Spsb1    down                                 upDown                \n",
       "Tcirg1   down                                 upDown                \n",
       "Tln1     down                                 upDown                \n",
       "Tpbg     down                                 upDown                \n",
       "Zeb1     down                                 upDown                \n",
       "         biotype       \n",
       "Abcg2    protein_coding\n",
       "Acot7    protein_coding\n",
       "Adprh    protein_coding\n",
       "Arhgef40 protein_coding\n",
       "Atrn     protein_coding\n",
       "Cyb561a3 protein_coding\n",
       "Ehbp1l1  protein_coding\n",
       "Eno3     protein_coding\n",
       "Ets1     protein_coding\n",
       "Fbln2    protein_coding\n",
       "Fhod1    protein_coding\n",
       "Fpgs     protein_coding\n",
       "Frmd8    protein_coding\n",
       "H6pd     protein_coding\n",
       "Ier5l    protein_coding\n",
       "Klhl30   protein_coding\n",
       "Ltbp1    protein_coding\n",
       "Mab21l4  protein_coding\n",
       "Parm1    protein_coding\n",
       "Pik3ap1  protein_coding\n",
       "Pkhd1    protein_coding\n",
       "Pkp2     protein_coding\n",
       "Ski      protein_coding\n",
       "Spon2    protein_coding\n",
       "Spsb1    protein_coding\n",
       "Tcirg1   protein_coding\n",
       "Tln1     protein_coding\n",
       "Tpbg     protein_coding\n",
       "Zeb1     protein_coding"
      ]
     },
     "metadata": {},
     "output_type": "display_data"
    }
   ],
   "source": [
    "# 11_up_21_up_12_no_22_dn: up for unt48 vs. tgfb48 in both platform, down for tgfb48 vs. CX only in ribo-seq (e.g. Zeb1)\n",
    "\n",
    "name1 <- \"11_up_21_up_12_no_22_dn\"\n",
    "idx <- which(sheet_names==name1)\n",
    "\n",
    "# DE3: 182\n",
    "# DE4: 182\n",
    "dim(list_df[[idx]])\n",
    "\n",
    "filter_rows_for_validation(name1, list_df[[idx]])\n"
   ]
  },
  {
   "cell_type": "markdown",
   "metadata": {},
   "source": [
    "## 11_dn_21_dn_12_no_22_up"
   ]
  },
  {
   "cell_type": "code",
   "execution_count": 188,
   "metadata": {},
   "outputs": [
    {
     "data": {
      "text/html": [
       "<style>\n",
       ".list-inline {list-style: none; margin:0; padding: 0}\n",
       ".list-inline>li {display: inline-block}\n",
       ".list-inline>li:not(:last-child)::after {content: \"\\00b7\"; padding: 0 .5ex}\n",
       "</style>\n",
       "<ol class=list-inline><li>82</li><li>27</li></ol>\n"
      ],
      "text/latex": [
       "\\begin{enumerate*}\n",
       "\\item 82\n",
       "\\item 27\n",
       "\\end{enumerate*}\n"
      ],
      "text/markdown": [
       "1. 82\n",
       "2. 27\n",
       "\n",
       "\n"
      ],
      "text/plain": [
       "[1] 82 27"
      ]
     },
     "metadata": {},
     "output_type": "display_data"
    },
    {
     "data": {
      "text/html": [
       "<table>\n",
       "<caption>A data.frame: 7 × 27</caption>\n",
       "<thead>\n",
       "\t<tr><th></th><th scope=col>seqnames</th><th scope=col>start</th><th scope=col>end</th><th scope=col>width</th><th scope=col>strand</th><th scope=col>source</th><th scope=col>unt48.transcription</th><th scope=col>tgfb48.transcription</th><th scope=col>tgfbCX5461100nm.transcription</th><th scope=col>log2FCunt48VStgfb48.transcription</th><th scope=col>⋯</th><th scope=col>tgfb48.translation</th><th scope=col>tgfbCX5461100nm.translation</th><th scope=col>log2FCunt48VStgfb48.translation</th><th scope=col>FDRunt48VStgfb48.translation</th><th scope=col>log2FCtgfbVStgfbCX5461100nm.translation</th><th scope=col>FDRtgfbVStgfbCX5461100nm.translation</th><th scope=col>unt48.tgfb48.DEtranslation</th><th scope=col>tgfb48.tgfbCX5461100nm.DEtranslation</th><th scope=col>reversible.translation</th><th scope=col>biotype</th></tr>\n",
       "\t<tr><th></th><th scope=col>&lt;fct&gt;</th><th scope=col>&lt;int&gt;</th><th scope=col>&lt;int&gt;</th><th scope=col>&lt;int&gt;</th><th scope=col>&lt;fct&gt;</th><th scope=col>&lt;fct&gt;</th><th scope=col>&lt;dbl&gt;</th><th scope=col>&lt;dbl&gt;</th><th scope=col>&lt;dbl&gt;</th><th scope=col>&lt;dbl&gt;</th><th scope=col>⋯</th><th scope=col>&lt;dbl&gt;</th><th scope=col>&lt;dbl&gt;</th><th scope=col>&lt;dbl&gt;</th><th scope=col>&lt;dbl&gt;</th><th scope=col>&lt;dbl&gt;</th><th scope=col>&lt;dbl&gt;</th><th scope=col>&lt;chr&gt;</th><th scope=col>&lt;chr&gt;</th><th scope=col>&lt;chr&gt;</th><th scope=col>&lt;chr&gt;</th></tr>\n",
       "</thead>\n",
       "<tbody>\n",
       "\t<tr><th scope=row>Acer3</th><td>7 </td><td> 98206389</td><td> 98321208</td><td>114820</td><td>-</td><td>ensembl_havana</td><td>4.207895</td><td>3.337391</td><td>3.317584</td><td>-0.8705042</td><td>⋯</td><td>2.310893</td><td>3.321396</td><td>-1.1601477</td><td>1.479142e-05</td><td>1.0105039</td><td>6.777515e-04</td><td>down</td><td>up</td><td>downUp</td><td>protein_coding                  </td></tr>\n",
       "\t<tr><th scope=row>Cdh17</th><td>4 </td><td> 11758147</td><td> 11817895</td><td> 59749</td><td>+</td><td>ensembl_havana</td><td>6.130163</td><td>4.494413</td><td>4.405650</td><td>-1.6357492</td><td>⋯</td><td>3.500507</td><td>4.398577</td><td>-1.9267684</td><td>0.000000e+00</td><td>0.8980703</td><td>7.402430e-06</td><td>down</td><td>up</td><td>downUp</td><td>protein_coding                  </td></tr>\n",
       "\t<tr><th scope=row>Coa3</th><td>11</td><td>101277968</td><td>101279114</td><td>  1147</td><td>-</td><td>ensembl_havana</td><td>3.357174</td><td>2.462092</td><td>2.374650</td><td>-0.8950821</td><td>⋯</td><td>2.510048</td><td>3.204720</td><td>-0.9651971</td><td>1.698186e-04</td><td>0.6946725</td><td>2.202701e-02</td><td>down</td><td>up</td><td>downUp</td><td>protein_coding                  </td></tr>\n",
       "\t<tr><th scope=row>Gm6472</th><td>X </td><td>152909505</td><td>152910155</td><td>   651</td><td>-</td><td>havana        </td><td>2.652867</td><td>2.036453</td><td>1.962340</td><td>-0.6164135</td><td>⋯</td><td>2.183319</td><td>2.902427</td><td>-0.9814157</td><td>7.621754e-04</td><td>0.7191082</td><td>3.542426e-02</td><td>down</td><td>up</td><td>downUp</td><td>transcribed_processed_pseudogene</td></tr>\n",
       "\t<tr><th scope=row>Lin7c</th><td>2 </td><td>109890853</td><td>109901003</td><td> 10151</td><td>+</td><td>ensembl_havana</td><td>5.554064</td><td>4.875048</td><td>4.884611</td><td>-0.6790167</td><td>⋯</td><td>2.386171</td><td>3.450558</td><td>-0.9985575</td><td>1.390998e-04</td><td>1.0643861</td><td>2.060667e-04</td><td>down</td><td>up</td><td>downUp</td><td>protein_coding                  </td></tr>\n",
       "\t<tr><th scope=row>Mrps18a</th><td>17</td><td> 46110986</td><td> 46128910</td><td> 17925</td><td>+</td><td>ensembl_havana</td><td>3.552013</td><td>2.927555</td><td>2.891004</td><td>-0.6244585</td><td>⋯</td><td>2.045456</td><td>3.207055</td><td>-1.0215265</td><td>7.778624e-04</td><td>1.1615990</td><td>3.676827e-04</td><td>down</td><td>up</td><td>downUp</td><td>protein_coding                  </td></tr>\n",
       "\t<tr><th scope=row>Stom</th><td>2 </td><td> 35313986</td><td> 35336976</td><td> 22991</td><td>-</td><td>ensembl_havana</td><td>5.383036</td><td>4.238216</td><td>4.318125</td><td>-1.1448190</td><td>⋯</td><td>2.626953</td><td>3.317428</td><td>-1.5120620</td><td>9.600000e-10</td><td>0.6904754</td><td>1.565598e-02</td><td>down</td><td>up</td><td>downUp</td><td>protein_coding                  </td></tr>\n",
       "</tbody>\n",
       "</table>\n"
      ],
      "text/latex": [
       "A data.frame: 7 × 27\n",
       "\\begin{tabular}{r|lllllllllllllllllllll}\n",
       "  & seqnames & start & end & width & strand & source & unt48.transcription & tgfb48.transcription & tgfbCX5461100nm.transcription & log2FCunt48VStgfb48.transcription & ⋯ & tgfb48.translation & tgfbCX5461100nm.translation & log2FCunt48VStgfb48.translation & FDRunt48VStgfb48.translation & log2FCtgfbVStgfbCX5461100nm.translation & FDRtgfbVStgfbCX5461100nm.translation & unt48.tgfb48.DEtranslation & tgfb48.tgfbCX5461100nm.DEtranslation & reversible.translation & biotype\\\\\n",
       "  & <fct> & <int> & <int> & <int> & <fct> & <fct> & <dbl> & <dbl> & <dbl> & <dbl> & ⋯ & <dbl> & <dbl> & <dbl> & <dbl> & <dbl> & <dbl> & <chr> & <chr> & <chr> & <chr>\\\\\n",
       "\\hline\n",
       "\tAcer3 & 7  &  98206389 &  98321208 & 114820 & - & ensembl\\_havana & 4.207895 & 3.337391 & 3.317584 & -0.8705042 & ⋯ & 2.310893 & 3.321396 & -1.1601477 & 1.479142e-05 & 1.0105039 & 6.777515e-04 & down & up & downUp & protein\\_coding                  \\\\\n",
       "\tCdh17 & 4  &  11758147 &  11817895 &  59749 & + & ensembl\\_havana & 6.130163 & 4.494413 & 4.405650 & -1.6357492 & ⋯ & 3.500507 & 4.398577 & -1.9267684 & 0.000000e+00 & 0.8980703 & 7.402430e-06 & down & up & downUp & protein\\_coding                  \\\\\n",
       "\tCoa3 & 11 & 101277968 & 101279114 &   1147 & - & ensembl\\_havana & 3.357174 & 2.462092 & 2.374650 & -0.8950821 & ⋯ & 2.510048 & 3.204720 & -0.9651971 & 1.698186e-04 & 0.6946725 & 2.202701e-02 & down & up & downUp & protein\\_coding                  \\\\\n",
       "\tGm6472 & X  & 152909505 & 152910155 &    651 & - & havana         & 2.652867 & 2.036453 & 1.962340 & -0.6164135 & ⋯ & 2.183319 & 2.902427 & -0.9814157 & 7.621754e-04 & 0.7191082 & 3.542426e-02 & down & up & downUp & transcribed\\_processed\\_pseudogene\\\\\n",
       "\tLin7c & 2  & 109890853 & 109901003 &  10151 & + & ensembl\\_havana & 5.554064 & 4.875048 & 4.884611 & -0.6790167 & ⋯ & 2.386171 & 3.450558 & -0.9985575 & 1.390998e-04 & 1.0643861 & 2.060667e-04 & down & up & downUp & protein\\_coding                  \\\\\n",
       "\tMrps18a & 17 &  46110986 &  46128910 &  17925 & + & ensembl\\_havana & 3.552013 & 2.927555 & 2.891004 & -0.6244585 & ⋯ & 2.045456 & 3.207055 & -1.0215265 & 7.778624e-04 & 1.1615990 & 3.676827e-04 & down & up & downUp & protein\\_coding                  \\\\\n",
       "\tStom & 2  &  35313986 &  35336976 &  22991 & - & ensembl\\_havana & 5.383036 & 4.238216 & 4.318125 & -1.1448190 & ⋯ & 2.626953 & 3.317428 & -1.5120620 & 9.600000e-10 & 0.6904754 & 1.565598e-02 & down & up & downUp & protein\\_coding                  \\\\\n",
       "\\end{tabular}\n"
      ],
      "text/markdown": [
       "\n",
       "A data.frame: 7 × 27\n",
       "\n",
       "| <!--/--> | seqnames &lt;fct&gt; | start &lt;int&gt; | end &lt;int&gt; | width &lt;int&gt; | strand &lt;fct&gt; | source &lt;fct&gt; | unt48.transcription &lt;dbl&gt; | tgfb48.transcription &lt;dbl&gt; | tgfbCX5461100nm.transcription &lt;dbl&gt; | log2FCunt48VStgfb48.transcription &lt;dbl&gt; | ⋯ ⋯ | tgfb48.translation &lt;dbl&gt; | tgfbCX5461100nm.translation &lt;dbl&gt; | log2FCunt48VStgfb48.translation &lt;dbl&gt; | FDRunt48VStgfb48.translation &lt;dbl&gt; | log2FCtgfbVStgfbCX5461100nm.translation &lt;dbl&gt; | FDRtgfbVStgfbCX5461100nm.translation &lt;dbl&gt; | unt48.tgfb48.DEtranslation &lt;chr&gt; | tgfb48.tgfbCX5461100nm.DEtranslation &lt;chr&gt; | reversible.translation &lt;chr&gt; | biotype &lt;chr&gt; |\n",
       "|---|---|---|---|---|---|---|---|---|---|---|---|---|---|---|---|---|---|---|---|---|---|\n",
       "| Acer3 | 7  |  98206389 |  98321208 | 114820 | - | ensembl_havana | 4.207895 | 3.337391 | 3.317584 | -0.8705042 | ⋯ | 2.310893 | 3.321396 | -1.1601477 | 1.479142e-05 | 1.0105039 | 6.777515e-04 | down | up | downUp | protein_coding                   |\n",
       "| Cdh17 | 4  |  11758147 |  11817895 |  59749 | + | ensembl_havana | 6.130163 | 4.494413 | 4.405650 | -1.6357492 | ⋯ | 3.500507 | 4.398577 | -1.9267684 | 0.000000e+00 | 0.8980703 | 7.402430e-06 | down | up | downUp | protein_coding                   |\n",
       "| Coa3 | 11 | 101277968 | 101279114 |   1147 | - | ensembl_havana | 3.357174 | 2.462092 | 2.374650 | -0.8950821 | ⋯ | 2.510048 | 3.204720 | -0.9651971 | 1.698186e-04 | 0.6946725 | 2.202701e-02 | down | up | downUp | protein_coding                   |\n",
       "| Gm6472 | X  | 152909505 | 152910155 |    651 | - | havana         | 2.652867 | 2.036453 | 1.962340 | -0.6164135 | ⋯ | 2.183319 | 2.902427 | -0.9814157 | 7.621754e-04 | 0.7191082 | 3.542426e-02 | down | up | downUp | transcribed_processed_pseudogene |\n",
       "| Lin7c | 2  | 109890853 | 109901003 |  10151 | + | ensembl_havana | 5.554064 | 4.875048 | 4.884611 | -0.6790167 | ⋯ | 2.386171 | 3.450558 | -0.9985575 | 1.390998e-04 | 1.0643861 | 2.060667e-04 | down | up | downUp | protein_coding                   |\n",
       "| Mrps18a | 17 |  46110986 |  46128910 |  17925 | + | ensembl_havana | 3.552013 | 2.927555 | 2.891004 | -0.6244585 | ⋯ | 2.045456 | 3.207055 | -1.0215265 | 7.778624e-04 | 1.1615990 | 3.676827e-04 | down | up | downUp | protein_coding                   |\n",
       "| Stom | 2  |  35313986 |  35336976 |  22991 | - | ensembl_havana | 5.383036 | 4.238216 | 4.318125 | -1.1448190 | ⋯ | 2.626953 | 3.317428 | -1.5120620 | 9.600000e-10 | 0.6904754 | 1.565598e-02 | down | up | downUp | protein_coding                   |\n",
       "\n"
      ],
      "text/plain": [
       "        seqnames start     end       width  strand source        \n",
       "Acer3   7         98206389  98321208 114820 -      ensembl_havana\n",
       "Cdh17   4         11758147  11817895  59749 +      ensembl_havana\n",
       "Coa3    11       101277968 101279114   1147 -      ensembl_havana\n",
       "Gm6472  X        152909505 152910155    651 -      havana        \n",
       "Lin7c   2        109890853 109901003  10151 +      ensembl_havana\n",
       "Mrps18a 17        46110986  46128910  17925 +      ensembl_havana\n",
       "Stom    2         35313986  35336976  22991 -      ensembl_havana\n",
       "        unt48.transcription tgfb48.transcription tgfbCX5461100nm.transcription\n",
       "Acer3   4.207895            3.337391             3.317584                     \n",
       "Cdh17   6.130163            4.494413             4.405650                     \n",
       "Coa3    3.357174            2.462092             2.374650                     \n",
       "Gm6472  2.652867            2.036453             1.962340                     \n",
       "Lin7c   5.554064            4.875048             4.884611                     \n",
       "Mrps18a 3.552013            2.927555             2.891004                     \n",
       "Stom    5.383036            4.238216             4.318125                     \n",
       "        log2FCunt48VStgfb48.transcription ⋯ tgfb48.translation\n",
       "Acer3   -0.8705042                        ⋯ 2.310893          \n",
       "Cdh17   -1.6357492                        ⋯ 3.500507          \n",
       "Coa3    -0.8950821                        ⋯ 2.510048          \n",
       "Gm6472  -0.6164135                        ⋯ 2.183319          \n",
       "Lin7c   -0.6790167                        ⋯ 2.386171          \n",
       "Mrps18a -0.6244585                        ⋯ 2.045456          \n",
       "Stom    -1.1448190                        ⋯ 2.626953          \n",
       "        tgfbCX5461100nm.translation log2FCunt48VStgfb48.translation\n",
       "Acer3   3.321396                    -1.1601477                     \n",
       "Cdh17   4.398577                    -1.9267684                     \n",
       "Coa3    3.204720                    -0.9651971                     \n",
       "Gm6472  2.902427                    -0.9814157                     \n",
       "Lin7c   3.450558                    -0.9985575                     \n",
       "Mrps18a 3.207055                    -1.0215265                     \n",
       "Stom    3.317428                    -1.5120620                     \n",
       "        FDRunt48VStgfb48.translation log2FCtgfbVStgfbCX5461100nm.translation\n",
       "Acer3   1.479142e-05                 1.0105039                              \n",
       "Cdh17   0.000000e+00                 0.8980703                              \n",
       "Coa3    1.698186e-04                 0.6946725                              \n",
       "Gm6472  7.621754e-04                 0.7191082                              \n",
       "Lin7c   1.390998e-04                 1.0643861                              \n",
       "Mrps18a 7.778624e-04                 1.1615990                              \n",
       "Stom    9.600000e-10                 0.6904754                              \n",
       "        FDRtgfbVStgfbCX5461100nm.translation unt48.tgfb48.DEtranslation\n",
       "Acer3   6.777515e-04                         down                      \n",
       "Cdh17   7.402430e-06                         down                      \n",
       "Coa3    2.202701e-02                         down                      \n",
       "Gm6472  3.542426e-02                         down                      \n",
       "Lin7c   2.060667e-04                         down                      \n",
       "Mrps18a 3.676827e-04                         down                      \n",
       "Stom    1.565598e-02                         down                      \n",
       "        tgfb48.tgfbCX5461100nm.DEtranslation reversible.translation\n",
       "Acer3   up                                   downUp                \n",
       "Cdh17   up                                   downUp                \n",
       "Coa3    up                                   downUp                \n",
       "Gm6472  up                                   downUp                \n",
       "Lin7c   up                                   downUp                \n",
       "Mrps18a up                                   downUp                \n",
       "Stom    up                                   downUp                \n",
       "        biotype                         \n",
       "Acer3   protein_coding                  \n",
       "Cdh17   protein_coding                  \n",
       "Coa3    protein_coding                  \n",
       "Gm6472  transcribed_processed_pseudogene\n",
       "Lin7c   protein_coding                  \n",
       "Mrps18a protein_coding                  \n",
       "Stom    protein_coding                  "
      ]
     },
     "metadata": {},
     "output_type": "display_data"
    }
   ],
   "source": [
    "# down for unt48 vs. tgfb48 in both platform, up for tgfb48 vs. CX only in Ribo-seq (e.g. Eif3k)\n",
    "\n",
    "name1 <- \"11_dn_21_dn_12_no_22_up\"\n",
    "idx <- which(sheet_names==name1)\n",
    "\n",
    "# DE3: 83\n",
    "# DE4: 83\n",
    "dim(list_df[[idx]])\n",
    "\n",
    "filter_rows_for_validation(name1, list_df[[idx]])\n"
   ]
  },
  {
   "cell_type": "markdown",
   "metadata": {},
   "source": [
    "## 11_no_21_up_12_no_22_dn"
   ]
  },
  {
   "cell_type": "code",
   "execution_count": 189,
   "metadata": {},
   "outputs": [
    {
     "data": {
      "text/html": [
       "<style>\n",
       ".list-inline {list-style: none; margin:0; padding: 0}\n",
       ".list-inline>li {display: inline-block}\n",
       ".list-inline>li:not(:last-child)::after {content: \"\\00b7\"; padding: 0 .5ex}\n",
       "</style>\n",
       "<ol class=list-inline><li>55</li><li>27</li></ol>\n"
      ],
      "text/latex": [
       "\\begin{enumerate*}\n",
       "\\item 55\n",
       "\\item 27\n",
       "\\end{enumerate*}\n"
      ],
      "text/markdown": [
       "1. 55\n",
       "2. 27\n",
       "\n",
       "\n"
      ],
      "text/plain": [
       "[1] 55 27"
      ]
     },
     "metadata": {},
     "output_type": "display_data"
    },
    {
     "data": {
      "text/html": [
       "<table>\n",
       "<caption>A data.frame: 2 × 27</caption>\n",
       "<thead>\n",
       "\t<tr><th></th><th scope=col>seqnames</th><th scope=col>start</th><th scope=col>end</th><th scope=col>width</th><th scope=col>strand</th><th scope=col>source</th><th scope=col>unt48.transcription</th><th scope=col>tgfb48.transcription</th><th scope=col>tgfbCX5461100nm.transcription</th><th scope=col>log2FCunt48VStgfb48.transcription</th><th scope=col>⋯</th><th scope=col>tgfb48.translation</th><th scope=col>tgfbCX5461100nm.translation</th><th scope=col>log2FCunt48VStgfb48.translation</th><th scope=col>FDRunt48VStgfb48.translation</th><th scope=col>log2FCtgfbVStgfbCX5461100nm.translation</th><th scope=col>FDRtgfbVStgfbCX5461100nm.translation</th><th scope=col>unt48.tgfb48.DEtranslation</th><th scope=col>tgfb48.tgfbCX5461100nm.DEtranslation</th><th scope=col>reversible.translation</th><th scope=col>biotype</th></tr>\n",
       "\t<tr><th></th><th scope=col>&lt;fct&gt;</th><th scope=col>&lt;int&gt;</th><th scope=col>&lt;int&gt;</th><th scope=col>&lt;int&gt;</th><th scope=col>&lt;fct&gt;</th><th scope=col>&lt;fct&gt;</th><th scope=col>&lt;dbl&gt;</th><th scope=col>&lt;dbl&gt;</th><th scope=col>&lt;dbl&gt;</th><th scope=col>&lt;dbl&gt;</th><th scope=col>⋯</th><th scope=col>&lt;dbl&gt;</th><th scope=col>&lt;dbl&gt;</th><th scope=col>&lt;dbl&gt;</th><th scope=col>&lt;dbl&gt;</th><th scope=col>&lt;dbl&gt;</th><th scope=col>&lt;dbl&gt;</th><th scope=col>&lt;chr&gt;</th><th scope=col>&lt;chr&gt;</th><th scope=col>&lt;chr&gt;</th><th scope=col>&lt;chr&gt;</th></tr>\n",
       "</thead>\n",
       "<tbody>\n",
       "\t<tr><th scope=row>Hexim1</th><td>11</td><td>103116231</td><td>103119725</td><td> 3495</td><td>+</td><td>ensembl_havana</td><td>3.493564</td><td>3.547152</td><td>3.552939</td><td> 0.05358750</td><td>⋯</td><td>2.272081</td><td>1.358701</td><td>1.0368382</td><td>6.688445e-03</td><td>-0.9133794</td><td>4.077204e-02</td><td>up</td><td>down</td><td>upDown</td><td>protein_coding</td></tr>\n",
       "\t<tr><th scope=row>Hsph1</th><td>5 </td><td>149614287</td><td>149636376</td><td>22090</td><td>-</td><td>ensembl_havana</td><td>4.332281</td><td>4.311113</td><td>4.215187</td><td>-0.02116818</td><td>⋯</td><td>3.957991</td><td>2.882762</td><td>0.8104418</td><td>4.232752e-05</td><td>-1.0752290</td><td>6.307650e-06</td><td>up</td><td>down</td><td>upDown</td><td>protein_coding</td></tr>\n",
       "</tbody>\n",
       "</table>\n"
      ],
      "text/latex": [
       "A data.frame: 2 × 27\n",
       "\\begin{tabular}{r|lllllllllllllllllllll}\n",
       "  & seqnames & start & end & width & strand & source & unt48.transcription & tgfb48.transcription & tgfbCX5461100nm.transcription & log2FCunt48VStgfb48.transcription & ⋯ & tgfb48.translation & tgfbCX5461100nm.translation & log2FCunt48VStgfb48.translation & FDRunt48VStgfb48.translation & log2FCtgfbVStgfbCX5461100nm.translation & FDRtgfbVStgfbCX5461100nm.translation & unt48.tgfb48.DEtranslation & tgfb48.tgfbCX5461100nm.DEtranslation & reversible.translation & biotype\\\\\n",
       "  & <fct> & <int> & <int> & <int> & <fct> & <fct> & <dbl> & <dbl> & <dbl> & <dbl> & ⋯ & <dbl> & <dbl> & <dbl> & <dbl> & <dbl> & <dbl> & <chr> & <chr> & <chr> & <chr>\\\\\n",
       "\\hline\n",
       "\tHexim1 & 11 & 103116231 & 103119725 &  3495 & + & ensembl\\_havana & 3.493564 & 3.547152 & 3.552939 &  0.05358750 & ⋯ & 2.272081 & 1.358701 & 1.0368382 & 6.688445e-03 & -0.9133794 & 4.077204e-02 & up & down & upDown & protein\\_coding\\\\\n",
       "\tHsph1 & 5  & 149614287 & 149636376 & 22090 & - & ensembl\\_havana & 4.332281 & 4.311113 & 4.215187 & -0.02116818 & ⋯ & 3.957991 & 2.882762 & 0.8104418 & 4.232752e-05 & -1.0752290 & 6.307650e-06 & up & down & upDown & protein\\_coding\\\\\n",
       "\\end{tabular}\n"
      ],
      "text/markdown": [
       "\n",
       "A data.frame: 2 × 27\n",
       "\n",
       "| <!--/--> | seqnames &lt;fct&gt; | start &lt;int&gt; | end &lt;int&gt; | width &lt;int&gt; | strand &lt;fct&gt; | source &lt;fct&gt; | unt48.transcription &lt;dbl&gt; | tgfb48.transcription &lt;dbl&gt; | tgfbCX5461100nm.transcription &lt;dbl&gt; | log2FCunt48VStgfb48.transcription &lt;dbl&gt; | ⋯ ⋯ | tgfb48.translation &lt;dbl&gt; | tgfbCX5461100nm.translation &lt;dbl&gt; | log2FCunt48VStgfb48.translation &lt;dbl&gt; | FDRunt48VStgfb48.translation &lt;dbl&gt; | log2FCtgfbVStgfbCX5461100nm.translation &lt;dbl&gt; | FDRtgfbVStgfbCX5461100nm.translation &lt;dbl&gt; | unt48.tgfb48.DEtranslation &lt;chr&gt; | tgfb48.tgfbCX5461100nm.DEtranslation &lt;chr&gt; | reversible.translation &lt;chr&gt; | biotype &lt;chr&gt; |\n",
       "|---|---|---|---|---|---|---|---|---|---|---|---|---|---|---|---|---|---|---|---|---|---|\n",
       "| Hexim1 | 11 | 103116231 | 103119725 |  3495 | + | ensembl_havana | 3.493564 | 3.547152 | 3.552939 |  0.05358750 | ⋯ | 2.272081 | 1.358701 | 1.0368382 | 6.688445e-03 | -0.9133794 | 4.077204e-02 | up | down | upDown | protein_coding |\n",
       "| Hsph1 | 5  | 149614287 | 149636376 | 22090 | - | ensembl_havana | 4.332281 | 4.311113 | 4.215187 | -0.02116818 | ⋯ | 3.957991 | 2.882762 | 0.8104418 | 4.232752e-05 | -1.0752290 | 6.307650e-06 | up | down | upDown | protein_coding |\n",
       "\n"
      ],
      "text/plain": [
       "       seqnames start     end       width strand source        \n",
       "Hexim1 11       103116231 103119725  3495 +      ensembl_havana\n",
       "Hsph1  5        149614287 149636376 22090 -      ensembl_havana\n",
       "       unt48.transcription tgfb48.transcription tgfbCX5461100nm.transcription\n",
       "Hexim1 3.493564            3.547152             3.552939                     \n",
       "Hsph1  4.332281            4.311113             4.215187                     \n",
       "       log2FCunt48VStgfb48.transcription ⋯ tgfb48.translation\n",
       "Hexim1  0.05358750                       ⋯ 2.272081          \n",
       "Hsph1  -0.02116818                       ⋯ 3.957991          \n",
       "       tgfbCX5461100nm.translation log2FCunt48VStgfb48.translation\n",
       "Hexim1 1.358701                    1.0368382                      \n",
       "Hsph1  2.882762                    0.8104418                      \n",
       "       FDRunt48VStgfb48.translation log2FCtgfbVStgfbCX5461100nm.translation\n",
       "Hexim1 6.688445e-03                 -0.9133794                             \n",
       "Hsph1  4.232752e-05                 -1.0752290                             \n",
       "       FDRtgfbVStgfbCX5461100nm.translation unt48.tgfb48.DEtranslation\n",
       "Hexim1 4.077204e-02                         up                        \n",
       "Hsph1  6.307650e-06                         up                        \n",
       "       tgfb48.tgfbCX5461100nm.DEtranslation reversible.translation\n",
       "Hexim1 down                                 upDown                \n",
       "Hsph1  down                                 upDown                \n",
       "       biotype       \n",
       "Hexim1 protein_coding\n",
       "Hsph1  protein_coding"
      ]
     },
     "metadata": {},
     "output_type": "display_data"
    }
   ],
   "source": [
    "# 11_no_21_up_12_no_22_dn: up for unt48 vs. tgfb48 only in ribo-seq, down for tgfb48 vs. CX only in ribo-seq (e.g. Fanca)\n",
    "\n",
    "name1 <- \"11_no_21_up_12_no_22_dn\"\n",
    "idx <- which(sheet_names==name1)\n",
    "\n",
    "# DE3: 57\n",
    "# DE4: 53\n",
    "dim(list_df[[idx]])\n",
    "\n",
    "filter_rows_for_validation(name1, list_df[[idx]])\n"
   ]
  },
  {
   "cell_type": "markdown",
   "metadata": {},
   "source": [
    "## 11_no_21_dn_12_no_22_up"
   ]
  },
  {
   "cell_type": "code",
   "execution_count": 190,
   "metadata": {},
   "outputs": [
    {
     "data": {
      "text/html": [
       "<style>\n",
       ".list-inline {list-style: none; margin:0; padding: 0}\n",
       ".list-inline>li {display: inline-block}\n",
       ".list-inline>li:not(:last-child)::after {content: \"\\00b7\"; padding: 0 .5ex}\n",
       "</style>\n",
       "<ol class=list-inline><li>38</li><li>27</li></ol>\n"
      ],
      "text/latex": [
       "\\begin{enumerate*}\n",
       "\\item 38\n",
       "\\item 27\n",
       "\\end{enumerate*}\n"
      ],
      "text/markdown": [
       "1. 38\n",
       "2. 27\n",
       "\n",
       "\n"
      ],
      "text/plain": [
       "[1] 38 27"
      ]
     },
     "metadata": {},
     "output_type": "display_data"
    },
    {
     "data": {
      "text/html": [
       "<table>\n",
       "<caption>A data.frame: 1 × 27</caption>\n",
       "<thead>\n",
       "\t<tr><th></th><th scope=col>seqnames</th><th scope=col>start</th><th scope=col>end</th><th scope=col>width</th><th scope=col>strand</th><th scope=col>source</th><th scope=col>unt48.transcription</th><th scope=col>tgfb48.transcription</th><th scope=col>tgfbCX5461100nm.transcription</th><th scope=col>log2FCunt48VStgfb48.transcription</th><th scope=col>⋯</th><th scope=col>tgfb48.translation</th><th scope=col>tgfbCX5461100nm.translation</th><th scope=col>log2FCunt48VStgfb48.translation</th><th scope=col>FDRunt48VStgfb48.translation</th><th scope=col>log2FCtgfbVStgfbCX5461100nm.translation</th><th scope=col>FDRtgfbVStgfbCX5461100nm.translation</th><th scope=col>unt48.tgfb48.DEtranslation</th><th scope=col>tgfb48.tgfbCX5461100nm.DEtranslation</th><th scope=col>reversible.translation</th><th scope=col>biotype</th></tr>\n",
       "\t<tr><th></th><th scope=col>&lt;fct&gt;</th><th scope=col>&lt;int&gt;</th><th scope=col>&lt;int&gt;</th><th scope=col>&lt;int&gt;</th><th scope=col>&lt;fct&gt;</th><th scope=col>&lt;fct&gt;</th><th scope=col>&lt;dbl&gt;</th><th scope=col>&lt;dbl&gt;</th><th scope=col>&lt;dbl&gt;</th><th scope=col>&lt;dbl&gt;</th><th scope=col>⋯</th><th scope=col>&lt;dbl&gt;</th><th scope=col>&lt;dbl&gt;</th><th scope=col>&lt;dbl&gt;</th><th scope=col>&lt;dbl&gt;</th><th scope=col>&lt;dbl&gt;</th><th scope=col>&lt;dbl&gt;</th><th scope=col>&lt;chr&gt;</th><th scope=col>&lt;chr&gt;</th><th scope=col>&lt;chr&gt;</th><th scope=col>&lt;chr&gt;</th></tr>\n",
       "</thead>\n",
       "<tbody>\n",
       "\t<tr><th scope=row>Mtdh</th><td>15</td><td>34082694</td><td>34145624</td><td>62931</td><td>+</td><td>ensembl_havana</td><td>5.467764</td><td>5.481582</td><td>5.469784</td><td>0.01381855</td><td>⋯</td><td>1.967451</td><td>2.800038</td><td>-1.070979</td><td>0.0006171566</td><td>0.8325874</td><td>0.02285516</td><td>down</td><td>up</td><td>downUp</td><td>protein_coding</td></tr>\n",
       "</tbody>\n",
       "</table>\n"
      ],
      "text/latex": [
       "A data.frame: 1 × 27\n",
       "\\begin{tabular}{r|lllllllllllllllllllll}\n",
       "  & seqnames & start & end & width & strand & source & unt48.transcription & tgfb48.transcription & tgfbCX5461100nm.transcription & log2FCunt48VStgfb48.transcription & ⋯ & tgfb48.translation & tgfbCX5461100nm.translation & log2FCunt48VStgfb48.translation & FDRunt48VStgfb48.translation & log2FCtgfbVStgfbCX5461100nm.translation & FDRtgfbVStgfbCX5461100nm.translation & unt48.tgfb48.DEtranslation & tgfb48.tgfbCX5461100nm.DEtranslation & reversible.translation & biotype\\\\\n",
       "  & <fct> & <int> & <int> & <int> & <fct> & <fct> & <dbl> & <dbl> & <dbl> & <dbl> & ⋯ & <dbl> & <dbl> & <dbl> & <dbl> & <dbl> & <dbl> & <chr> & <chr> & <chr> & <chr>\\\\\n",
       "\\hline\n",
       "\tMtdh & 15 & 34082694 & 34145624 & 62931 & + & ensembl\\_havana & 5.467764 & 5.481582 & 5.469784 & 0.01381855 & ⋯ & 1.967451 & 2.800038 & -1.070979 & 0.0006171566 & 0.8325874 & 0.02285516 & down & up & downUp & protein\\_coding\\\\\n",
       "\\end{tabular}\n"
      ],
      "text/markdown": [
       "\n",
       "A data.frame: 1 × 27\n",
       "\n",
       "| <!--/--> | seqnames &lt;fct&gt; | start &lt;int&gt; | end &lt;int&gt; | width &lt;int&gt; | strand &lt;fct&gt; | source &lt;fct&gt; | unt48.transcription &lt;dbl&gt; | tgfb48.transcription &lt;dbl&gt; | tgfbCX5461100nm.transcription &lt;dbl&gt; | log2FCunt48VStgfb48.transcription &lt;dbl&gt; | ⋯ ⋯ | tgfb48.translation &lt;dbl&gt; | tgfbCX5461100nm.translation &lt;dbl&gt; | log2FCunt48VStgfb48.translation &lt;dbl&gt; | FDRunt48VStgfb48.translation &lt;dbl&gt; | log2FCtgfbVStgfbCX5461100nm.translation &lt;dbl&gt; | FDRtgfbVStgfbCX5461100nm.translation &lt;dbl&gt; | unt48.tgfb48.DEtranslation &lt;chr&gt; | tgfb48.tgfbCX5461100nm.DEtranslation &lt;chr&gt; | reversible.translation &lt;chr&gt; | biotype &lt;chr&gt; |\n",
       "|---|---|---|---|---|---|---|---|---|---|---|---|---|---|---|---|---|---|---|---|---|---|\n",
       "| Mtdh | 15 | 34082694 | 34145624 | 62931 | + | ensembl_havana | 5.467764 | 5.481582 | 5.469784 | 0.01381855 | ⋯ | 1.967451 | 2.800038 | -1.070979 | 0.0006171566 | 0.8325874 | 0.02285516 | down | up | downUp | protein_coding |\n",
       "\n"
      ],
      "text/plain": [
       "     seqnames start    end      width strand source         unt48.transcription\n",
       "Mtdh 15       34082694 34145624 62931 +      ensembl_havana 5.467764           \n",
       "     tgfb48.transcription tgfbCX5461100nm.transcription\n",
       "Mtdh 5.481582             5.469784                     \n",
       "     log2FCunt48VStgfb48.transcription ⋯ tgfb48.translation\n",
       "Mtdh 0.01381855                        ⋯ 1.967451          \n",
       "     tgfbCX5461100nm.translation log2FCunt48VStgfb48.translation\n",
       "Mtdh 2.800038                    -1.070979                      \n",
       "     FDRunt48VStgfb48.translation log2FCtgfbVStgfbCX5461100nm.translation\n",
       "Mtdh 0.0006171566                 0.8325874                              \n",
       "     FDRtgfbVStgfbCX5461100nm.translation unt48.tgfb48.DEtranslation\n",
       "Mtdh 0.02285516                           down                      \n",
       "     tgfb48.tgfbCX5461100nm.DEtranslation reversible.translation biotype       \n",
       "Mtdh up                                   downUp                 protein_coding"
      ]
     },
     "metadata": {},
     "output_type": "display_data"
    }
   ],
   "source": [
    "# 11_no_21_dn_12_no_22_up: down for unt48 vs. tgfb48 only in ribo-seq, up for tgfb48 vs. CX only in ribo-seq (e.g. Eif5a, Gemin7)\n",
    "    \n",
    "name1 <- \"11_no_21_dn_12_no_22_up\"\n",
    "idx <- which(sheet_names==name1)\n",
    "\n",
    "# DE3: 36\n",
    "# DE4: 39\n",
    "dim(list_df[[idx]])\n",
    "\n",
    "filter_rows_for_validation(name1, list_df[[idx]])\n"
   ]
  }
 ],
 "metadata": {
  "hide_input": false,
  "kernelspec": {
   "display_name": "R",
   "language": "R",
   "name": "ir"
  },
  "language_info": {
   "codemirror_mode": "r",
   "file_extension": ".r",
   "mimetype": "text/x-r-source",
   "name": "R",
   "pygments_lexer": "r",
   "version": "4.1.0"
  },
  "toc": {
   "base_numbering": 1,
   "nav_menu": {},
   "number_sections": true,
   "sideBar": true,
   "skip_h1_title": false,
   "title_cell": "Table of Contents",
   "title_sidebar": "Contents",
   "toc_cell": false,
   "toc_position": {
    "height": "calc(100% - 180px)",
    "left": "10px",
    "top": "150px",
    "width": "295.969px"
   },
   "toc_section_display": true,
   "toc_window_display": true
  },
  "toc-autonumbering": true,
  "toc-showcode": false,
  "toc-showmarkdowntxt": true,
  "toc-showtags": false
 },
 "nbformat": 4,
 "nbformat_minor": 2
}
