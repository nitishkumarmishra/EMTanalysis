{
 "cells": [
  {
   "cell_type": "markdown",
   "metadata": {},
   "source": [
    "# load functions"
   ]
  },
  {
   "cell_type": "code",
   "execution_count": 1,
   "metadata": {
    "scrolled": false
   },
   "outputs": [],
   "source": [
    "suppressMessages(suppressWarnings(source(\"./differential_expression_analysis.R\")))\n",
    "suppressMessages(suppressWarnings(source(\"./jupyter_common.R\")))\n",
    "\n"
   ]
  },
  {
   "cell_type": "markdown",
   "metadata": {},
   "source": [
    "# common parameters"
   ]
  },
  {
   "cell_type": "code",
   "execution_count": 2,
   "metadata": {},
   "outputs": [],
   "source": [
    "rundate_appendix <- '.rdna_rn18s'\n",
    "\n",
    "min.expr.counts <- 5\n",
    "min.expr.log2cpm <- -Inf\n",
    "min.expr.num.samples <- 2\n",
    "\n",
    "th_adj_pvalue <- 0.05\n",
    "th_log2fc <- log2(1.2)\n",
    "\n"
   ]
  },
  {
   "cell_type": "markdown",
   "metadata": {},
   "source": [
    "# differential_expression_analysis"
   ]
  },
  {
   "cell_type": "code",
   "execution_count": 4,
   "metadata": {
    "scrolled": false
   },
   "outputs": [
    {
     "name": "stdout",
     "output_type": "stream",
     "text": [
      "load.\n",
      "\tproject.\n",
      "\t\ttranscriptome gtf.\n",
      "\tcounts.\n",
      "\t\treading 170224  NMuMG  RD0203  totalRNAseq  m38\n",
      "\t\t\t./170224_rdna_rn18s/NMuMG/RD0203/htseq-annot.170224.NMuMG.RD0203.genes.results.gz\n",
      "\t\treading 170224  NMuMG  RD0204  totalRNAseq  m38\n",
      "\t\t\t./170224_rdna_rn18s/NMuMG/RD0204/htseq-annot.170224.NMuMG.RD0204.genes.results.gz\n",
      "\t\treading 170224  NMuMG  RD0205  totalRNAseq  m38\n",
      "\t\t\t./170224_rdna_rn18s/NMuMG/RD0205/htseq-annot.170224.NMuMG.RD0205.genes.results.gz\n",
      "\t\treading 170224  NMuMG  RD0206  totalRNAseq  m38\n",
      "\t\t\t./170224_rdna_rn18s/NMuMG/RD0206/htseq-annot.170224.NMuMG.RD0206.genes.results.gz\n",
      "\t\treading 170224  NMuMG  RD0207  totalRNAseq  m38\n",
      "\t\t\t./170224_rdna_rn18s/NMuMG/RD0207/htseq-annot.170224.NMuMG.RD0207.genes.results.gz\n",
      "\t\treading 170224  NMuMG  RD0208  totalRNAseq  m38\n",
      "\t\t\t./170224_rdna_rn18s/NMuMG/RD0208/htseq-annot.170224.NMuMG.RD0208.genes.results.gz\n",
      "\t\treading 170224  NMuMG  RD0209  totalRNAseq  m38\n",
      "\t\t\t./170224_rdna_rn18s/NMuMG/RD0209/htseq-annot.170224.NMuMG.RD0209.genes.results.gz\n",
      "\t\treading 170224  NMuMG  RD0210  totalRNAseq  m38\n",
      "\t\t\t./170224_rdna_rn18s/NMuMG/RD0210/htseq-annot.170224.NMuMG.RD0210.genes.results.gz\n",
      "\t\treading 170224  NMuMG  RD0211  totalRNAseq  m38\n",
      "\t\t\t./170224_rdna_rn18s/NMuMG/RD0211/htseq-annot.170224.NMuMG.RD0211.genes.results.gz\n",
      "merge.\n",
      "\tprepare.\n",
      "count matrix dimension:\n",
      "[1] 55468     9\n",
      "\n",
      "\n",
      "design.\n",
      "       unt48 tgfb48 tgfbCX5461100nm\n",
      "RD0203     1      0               0\n",
      "RD0204     1      0               0\n",
      "RD0205     1      0               0\n",
      "RD0206     0      1               0\n",
      "RD0207     0      1               0\n",
      "RD0208     0      1               0\n",
      "RD0209     0      0               1\n",
      "RD0210     0      0               1\n",
      "RD0211     0      0               1\n",
      "attr(,\"assign\")\n",
      "[1] 1 1 1\n",
      "attr(,\"contrasts\")\n",
      "attr(,\"contrasts\")$condition\n",
      "[1] \"contr.treatment\"\n",
      "\n",
      "\n",
      "\n",
      "contrast.\n",
      "count preparation.\n",
      "\tfiltering.\n",
      "\t\t\tnon-expressed genes:  42548  /  55461   =  76.72%\n",
      "\n",
      "\n",
      "\n",
      "normalization: [TMM]\n",
      "\n",
      "\n",
      "voom stabilization.\n",
      "\tchecking voom.\n",
      "\tvoomWithQualityWeights.\n",
      "\t\tproceeding WITHOUT weights.\n",
      "linear model analysis.\n",
      "\tfit\n",
      "\tcontrast fit.\n",
      "\teBayes\n",
      "\tsave\n",
      "\n",
      "\n",
      "write DE tables.\n",
      "\t\t\tunt48   tgfb48\n",
      "\t\t\t\tunt48   tgfb48  tgfbCX5461100nm\n",
      "\t\t\tunt48   tgfbCX5461100nm\n",
      "\t\t\ttgfb48   tgfbCX5461100nm\n",
      "limma plots.\n",
      "\t\tvenn.\n",
      "\n",
      "\n",
      "\n",
      "Done with differential expression analysis.\n",
      "\n",
      "\n"
     ]
    }
   ],
   "source": [
    "\n",
    "limma_voom_for_mrna(project='170224', individual = 'NMuMG',\n",
    "                                conditions = NULL ,\n",
    "                                nuisance = NULL ,\n",
    "                                strategy = NULL ,\n",
    "                                normMethod = \"TMM\" ,\n",
    "                                doVoom = TRUE ,\n",
    "                                min.expr.counts = min.expr.counts ,\n",
    "                                min.expr.log2cpm = min.expr.log2cpm ,\n",
    "                                min.expr.num.samples = min.expr.num.samples ,\n",
    "                                ebayes.trend = TRUE ,\n",
    "                                ebayes.robust = TRUE ,\n",
    "                                weights = FALSE ,   # do not use voomWithQualityWeights\n",
    "                                triples = TRUE ,\n",
    "                                MHadjust = \"BH\" ,\n",
    "                                FDR.thresh = 0.05 ,\n",
    "                                th_log2fc = log2(1.2) ,               \n",
    "                                refColumn = NULL ,\n",
    "                                outfbase = NULL ,\n",
    "                                rundate_appendix = rundate_appendix ,\n",
    "                                gtf = NULL ,\n",
    "                                verbose = FALSE )\n"
   ]
  },
  {
   "cell_type": "code",
   "execution_count": null,
   "metadata": {},
   "outputs": [],
   "source": []
  }
 ],
 "metadata": {
  "hide_input": false,
  "kernelspec": {
   "display_name": "R",
   "language": "R",
   "name": "ir"
  },
  "language_info": {
   "codemirror_mode": "r",
   "file_extension": ".r",
   "mimetype": "text/x-r-source",
   "name": "R",
   "pygments_lexer": "r",
   "version": "4.1.0"
  },
  "toc": {
   "base_numbering": 1,
   "nav_menu": {},
   "number_sections": true,
   "sideBar": true,
   "skip_h1_title": false,
   "title_cell": "Table of Contents",
   "title_sidebar": "Contents",
   "toc_cell": false,
   "toc_position": {
    "height": "830px",
    "left": "50px",
    "top": "110px",
    "width": "289px"
   },
   "toc_section_display": true,
   "toc_window_display": true
  },
  "toc-autonumbering": true,
  "toc-showcode": false,
  "toc-showmarkdowntxt": true,
  "toc-showtags": false
 },
 "nbformat": 4,
 "nbformat_minor": 2
}
